{
 "cells": [
  {
   "cell_type": "markdown",
   "id": "24f766a8-a27a-4a41-82e4-b382b5d2daa9",
   "metadata": {},
   "source": [
    "# 0523"
   ]
  },
  {
   "cell_type": "code",
   "execution_count": 2,
   "id": "f93065cd-ab12-4ea4-96ef-d60e689967aa",
   "metadata": {},
   "outputs": [],
   "source": [
    "import numpy as np"
   ]
  },
  {
   "cell_type": "code",
   "execution_count": 32,
   "id": "2a35ac56-831d-4789-81cb-f67cbe4d6933",
   "metadata": {},
   "outputs": [],
   "source": [
    "class RPC:\n",
    "    def throw(self, candidate):\n",
    "        print(np.random.choice(candidate))"
   ]
  },
  {
   "cell_type": "code",
   "execution_count": 36,
   "id": "ecc2432f-b4a4-4ebe-996b-9e1c96a1354b",
   "metadata": {},
   "outputs": [],
   "source": [
    "class RPC:\n",
    "    def __init__(self, candidate = ['가위', '바위', '보']):\n",
    "        self.candidate = candidate\n",
    "    \n",
    "    def throw(self):\n",
    "        print(np.random.choice(self.candidate))"
   ]
  },
  {
   "cell_type": "code",
   "execution_count": 53,
   "id": "d85fd556-6bf3-4cc8-9e28-1ea9b67415cf",
   "metadata": {},
   "outputs": [],
   "source": [
    "a = RPC(['가위', '바위'])"
   ]
  },
  {
   "cell_type": "code",
   "execution_count": 60,
   "id": "86de31b1-6c2c-4bef-af3e-7cec109b0ce4",
   "metadata": {},
   "outputs": [
    {
     "name": "stdout",
     "output_type": "stream",
     "text": [
      "가위\n"
     ]
    }
   ],
   "source": [
    "a.throw()"
   ]
  },
  {
   "cell_type": "code",
   "execution_count": 61,
   "id": "cb226498-b904-4bc6-88c2-6fe47d310052",
   "metadata": {},
   "outputs": [
    {
     "data": {
      "text/plain": [
       "{'candidate': ['가위', '바위']}"
      ]
     },
     "execution_count": 61,
     "metadata": {},
     "output_type": "execute_result"
    }
   ],
   "source": [
    "a.__dict__"
   ]
  },
  {
   "cell_type": "code",
   "execution_count": 26,
   "id": "79733066-257b-4516-8459-0878b144fd65",
   "metadata": {},
   "outputs": [],
   "source": [
    "class RPC2:\n",
    "    pass"
   ]
  },
  {
   "cell_type": "code",
   "execution_count": 27,
   "id": "bdda2008-d871-49ef-9b65-30047cc1b97d",
   "metadata": {},
   "outputs": [],
   "source": [
    "b = RPC2()"
   ]
  },
  {
   "cell_type": "code",
   "execution_count": 29,
   "id": "34a30a80-d79f-43c6-947f-9b1e8d7d910b",
   "metadata": {},
   "outputs": [],
   "source": [
    "b.candidate = 'asdf'"
   ]
  },
  {
   "cell_type": "code",
   "execution_count": 30,
   "id": "fbacf50d-b472-4875-a573-bee072ad1fc6",
   "metadata": {},
   "outputs": [
    {
     "data": {
      "text/plain": [
       "{'candidate': 'asdf'}"
      ]
     },
     "execution_count": 30,
     "metadata": {},
     "output_type": "execute_result"
    }
   ],
   "source": [
    "b.__dict__"
   ]
  },
  {
   "cell_type": "code",
   "execution_count": 114,
   "id": "0def41fd-7cd5-44f2-8c00-40c9e18546f1",
   "metadata": {},
   "outputs": [],
   "source": [
    "class RPC:\n",
    "    def __init__(self, candidate = ['가위', '바위', '보']):\n",
    "        self.candidate = candidate\n",
    "    def choose(self):\n",
    "        self.actions = np.random.choice(self.candidate)\n",
    "    def __str__(self):\n",
    "        return 'guebin kawai'\n",
    "    def show(self):\n",
    "        print(self.actions)"
   ]
  },
  {
   "cell_type": "code",
   "execution_count": 115,
   "id": "6691fcd0-fb35-4431-aabb-bb768756a7de",
   "metadata": {},
   "outputs": [],
   "source": [
    "a = RPC()"
   ]
  },
  {
   "cell_type": "code",
   "execution_count": 116,
   "id": "ac6e3a16-c1b2-43f1-adc0-81f8d7854ff5",
   "metadata": {},
   "outputs": [],
   "source": [
    "a.choose()"
   ]
  },
  {
   "cell_type": "code",
   "execution_count": 117,
   "id": "cfd12b54-ad3b-4756-b53a-fcfe19f2e950",
   "metadata": {},
   "outputs": [
    {
     "name": "stdout",
     "output_type": "stream",
     "text": [
      "가위\n"
     ]
    }
   ],
   "source": [
    "a.show()"
   ]
  },
  {
   "cell_type": "code",
   "execution_count": 118,
   "id": "d11ed0bd-349f-43e5-b223-61a26c5f336c",
   "metadata": {},
   "outputs": [
    {
     "name": "stdout",
     "output_type": "stream",
     "text": [
      "guebin kawai\n"
     ]
    }
   ],
   "source": [
    "print(a)"
   ]
  },
  {
   "cell_type": "markdown",
   "id": "171e41e2-ca50-41b3-b5fe-d22e49388f10",
   "metadata": {},
   "source": [
    "## \\_\\_str\\_\\_"
   ]
  },
  {
   "cell_type": "code",
   "execution_count": 119,
   "id": "1e8451ab-426e-4016-afe4-9b693f8e5147",
   "metadata": {},
   "outputs": [
    {
     "data": {
      "text/plain": [
       "<bound method RPC.__str__ of <__main__.RPC object at 0x000002242217F580>>"
      ]
     },
     "execution_count": 119,
     "metadata": {},
     "output_type": "execute_result"
    }
   ],
   "source": [
    "a.__str__"
   ]
  },
  {
   "cell_type": "code",
   "execution_count": 120,
   "id": "87adc15a-7bc9-4785-8277-2e954c81ef4e",
   "metadata": {},
   "outputs": [
    {
     "data": {
      "text/plain": [
       "'guebin kawai'"
      ]
     },
     "execution_count": 120,
     "metadata": {},
     "output_type": "execute_result"
    }
   ],
   "source": [
    "a.__str__()"
   ]
  },
  {
   "cell_type": "code",
   "execution_count": 121,
   "id": "b002327b-bfd5-4cec-ae32-5afae4316609",
   "metadata": {},
   "outputs": [
    {
     "data": {
      "text/plain": [
       "'guebin kawai'"
      ]
     },
     "execution_count": 121,
     "metadata": {},
     "output_type": "execute_result"
    }
   ],
   "source": [
    "str(a)"
   ]
  },
  {
   "cell_type": "markdown",
   "id": "db6437a2-b83a-4857-9514-e16471cd87e6",
   "metadata": {},
   "source": [
    "## 파이썬의 비밀"
   ]
  },
  {
   "cell_type": "markdown",
   "id": "7a374257-c21e-4564-88b9-ed751a7f09be",
   "metadata": {},
   "source": [
    "`-` `print(a)`와 `print(a.__str__())`"
   ]
  },
  {
   "cell_type": "code",
   "execution_count": 89,
   "id": "3c01c7e8-6901-488b-98aa-8ca080ceac80",
   "metadata": {},
   "outputs": [
    {
     "data": {
      "text/plain": [
       "'guebin kawai'"
      ]
     },
     "execution_count": 89,
     "metadata": {},
     "output_type": "execute_result"
    }
   ],
   "source": [
    "a.__str__()"
   ]
  },
  {
   "cell_type": "code",
   "execution_count": 90,
   "id": "3923f587-1d6f-4f21-957b-2a9bb98b0b0e",
   "metadata": {},
   "outputs": [
    {
     "data": {
      "text/plain": [
       "'guebin kawai'"
      ]
     },
     "execution_count": 90,
     "metadata": {},
     "output_type": "execute_result"
    }
   ],
   "source": [
    "str(a)"
   ]
  },
  {
   "cell_type": "code",
   "execution_count": 91,
   "id": "d10022d3-c6aa-4d14-9485-6f42f8b4cf6c",
   "metadata": {},
   "outputs": [],
   "source": [
    "a = [1,2,3]"
   ]
  },
  {
   "cell_type": "code",
   "execution_count": 93,
   "id": "7788158b-b602-4374-8a39-63157e66b716",
   "metadata": {},
   "outputs": [
    {
     "name": "stdout",
     "output_type": "stream",
     "text": [
      "[1, 2, 3]\n"
     ]
    }
   ],
   "source": [
    "print(a)"
   ]
  },
  {
   "cell_type": "code",
   "execution_count": 96,
   "id": "0bc255a2-34d3-467f-8a4c-c362ec2860b1",
   "metadata": {},
   "outputs": [
    {
     "data": {
      "text/plain": [
       "'[1, 2, 3]'"
      ]
     },
     "execution_count": 96,
     "metadata": {},
     "output_type": "execute_result"
    }
   ],
   "source": [
    "a.__str__()"
   ]
  },
  {
   "cell_type": "code",
   "execution_count": 98,
   "id": "382e116f-e953-4b52-9033-43dacfc86442",
   "metadata": {},
   "outputs": [],
   "source": [
    "a = {1,2,3}"
   ]
  },
  {
   "cell_type": "code",
   "execution_count": 99,
   "id": "2772602d-10c5-4c3e-a916-3e461dc8d3a6",
   "metadata": {},
   "outputs": [
    {
     "name": "stdout",
     "output_type": "stream",
     "text": [
      "{1, 2, 3}\n"
     ]
    }
   ],
   "source": [
    "print(a)"
   ]
  },
  {
   "cell_type": "code",
   "execution_count": 100,
   "id": "5caebab0-d7a3-4860-a83e-6a4104b12b39",
   "metadata": {},
   "outputs": [
    {
     "data": {
      "text/plain": [
       "'{1, 2, 3}'"
      ]
     },
     "execution_count": 100,
     "metadata": {},
     "output_type": "execute_result"
    }
   ],
   "source": [
    "a.__str__()"
   ]
  },
  {
   "cell_type": "code",
   "execution_count": 105,
   "id": "6459ee9a-4524-436b-9463-fa8f74e15a6e",
   "metadata": {},
   "outputs": [
    {
     "data": {
      "text/plain": [
       "(2, 2)"
      ]
     },
     "execution_count": 105,
     "metadata": {},
     "output_type": "execute_result"
    }
   ],
   "source": [
    "a = np.array([[1,2],[4,5]])\n",
    "a.shape"
   ]
  },
  {
   "cell_type": "code",
   "execution_count": 106,
   "id": "38e6f876-8a60-4d14-961c-e6b16cd30373",
   "metadata": {},
   "outputs": [
    {
     "name": "stdout",
     "output_type": "stream",
     "text": [
      "(2, 2)\n"
     ]
    }
   ],
   "source": [
    "print(a.shape)"
   ]
  },
  {
   "cell_type": "code",
   "execution_count": 107,
   "id": "c3797f71-bad8-4274-ae13-5d62b3e41c6b",
   "metadata": {},
   "outputs": [
    {
     "data": {
      "text/plain": [
       "'(2, 2)'"
      ]
     },
     "execution_count": 107,
     "metadata": {},
     "output_type": "execute_result"
    }
   ],
   "source": [
    "a.shape.__str__()"
   ]
  },
  {
   "cell_type": "code",
   "execution_count": 111,
   "id": "2f1f623d-a128-422c-ab5b-645da8cfa0e6",
   "metadata": {},
   "outputs": [
    {
     "name": "stdout",
     "output_type": "stream",
     "text": [
      "range(0, 10)\n"
     ]
    }
   ],
   "source": [
    "a = range(10)\n",
    "print(a)"
   ]
  },
  {
   "cell_type": "code",
   "execution_count": 112,
   "id": "21755bed-c5e2-4418-91d2-f246d74ea335",
   "metadata": {},
   "outputs": [
    {
     "data": {
      "text/plain": [
       "'range(0, 10)'"
      ]
     },
     "execution_count": 112,
     "metadata": {},
     "output_type": "execute_result"
    }
   ],
   "source": [
    "a.__str__()"
   ]
  },
  {
   "cell_type": "code",
   "execution_count": 113,
   "id": "5c76d579-f513-449b-91b5-2a10488b12ab",
   "metadata": {},
   "outputs": [
    {
     "data": {
      "text/plain": [
       "'range(0, 10)'"
      ]
     },
     "execution_count": 113,
     "metadata": {},
     "output_type": "execute_result"
    }
   ],
   "source": [
    "str(a)"
   ]
  },
  {
   "cell_type": "code",
   "execution_count": null,
   "id": "73defe81-9535-477d-b47a-6d6726c36dd6",
   "metadata": {},
   "outputs": [],
   "source": [
    "a = np."
   ]
  },
  {
   "cell_type": "markdown",
   "id": "acf03942-8da5-4172-88e6-fdb7b3b8ea0d",
   "metadata": {
    "tags": []
   },
   "source": [
    "## \\_\\_repr\\_\\_"
   ]
  },
  {
   "cell_type": "code",
   "execution_count": 129,
   "id": "8d06415f-f0b1-4d97-b893-f943e76633eb",
   "metadata": {},
   "outputs": [],
   "source": [
    "a = [1,2,3]"
   ]
  },
  {
   "cell_type": "code",
   "execution_count": 150,
   "id": "ef764971-0b69-4c51-a50a-edc68bdf5924",
   "metadata": {},
   "outputs": [
    {
     "name": "stdout",
     "output_type": "stream",
     "text": [
      "[1, 2, 3]\n"
     ]
    }
   ],
   "source": [
    "print(a.__repr__())"
   ]
  },
  {
   "cell_type": "code",
   "execution_count": 152,
   "id": "2e136676-e5e7-4954-b342-1d95004ed082",
   "metadata": {},
   "outputs": [
    {
     "name": "stdout",
     "output_type": "stream",
     "text": [
      "[1, 2, 3]\n"
     ]
    }
   ],
   "source": [
    "print(repr(a))"
   ]
  },
  {
   "cell_type": "code",
   "execution_count": 153,
   "id": "ce08c776-00a6-4626-8a90-d0407772263f",
   "metadata": {},
   "outputs": [
    {
     "data": {
      "text/plain": [
       "[1, 2, 3]"
      ]
     },
     "execution_count": 153,
     "metadata": {},
     "output_type": "execute_result"
    }
   ],
   "source": [
    "a"
   ]
  },
  {
   "cell_type": "markdown",
   "id": "78e523e9-f3fc-4adf-a7c6-7e60cf0ca34c",
   "metadata": {},
   "source": [
    "## \\_repr\\_html\\_"
   ]
  },
  {
   "cell_type": "code",
   "execution_count": 140,
   "id": "c50703b2-951b-4c1b-8d95-0c84e97fdafa",
   "metadata": {},
   "outputs": [],
   "source": [
    "import pandas as pd"
   ]
  },
  {
   "cell_type": "code",
   "execution_count": 141,
   "id": "3d27690d-73fa-4e38-b63f-57ab8d2f39d7",
   "metadata": {},
   "outputs": [],
   "source": [
    "df = pd.DataFrame({'a' : [1,2,3], 'b' : [2,3,4]})"
   ]
  },
  {
   "cell_type": "code",
   "execution_count": 142,
   "id": "eea2fd5b-82bc-4f20-9b96-a7736274e13b",
   "metadata": {},
   "outputs": [
    {
     "data": {
      "text/html": [
       "<div>\n",
       "<style scoped>\n",
       "    .dataframe tbody tr th:only-of-type {\n",
       "        vertical-align: middle;\n",
       "    }\n",
       "\n",
       "    .dataframe tbody tr th {\n",
       "        vertical-align: top;\n",
       "    }\n",
       "\n",
       "    .dataframe thead th {\n",
       "        text-align: right;\n",
       "    }\n",
       "</style>\n",
       "<table border=\"1\" class=\"dataframe\">\n",
       "  <thead>\n",
       "    <tr style=\"text-align: right;\">\n",
       "      <th></th>\n",
       "      <th>a</th>\n",
       "      <th>b</th>\n",
       "    </tr>\n",
       "  </thead>\n",
       "  <tbody>\n",
       "    <tr>\n",
       "      <th>0</th>\n",
       "      <td>1</td>\n",
       "      <td>2</td>\n",
       "    </tr>\n",
       "    <tr>\n",
       "      <th>1</th>\n",
       "      <td>2</td>\n",
       "      <td>3</td>\n",
       "    </tr>\n",
       "    <tr>\n",
       "      <th>2</th>\n",
       "      <td>3</td>\n",
       "      <td>4</td>\n",
       "    </tr>\n",
       "  </tbody>\n",
       "</table>\n",
       "</div>"
      ],
      "text/plain": [
       "   a  b\n",
       "0  1  2\n",
       "1  2  3\n",
       "2  3  4"
      ]
     },
     "execution_count": 142,
     "metadata": {},
     "output_type": "execute_result"
    }
   ],
   "source": [
    "df"
   ]
  },
  {
   "cell_type": "code",
   "execution_count": 148,
   "id": "488e9f30-c32b-4c99-975b-e01ea6d0df8e",
   "metadata": {},
   "outputs": [
    {
     "name": "stdout",
     "output_type": "stream",
     "text": [
      "   a  b\n",
      "0  1  2\n",
      "1  2  3\n",
      "2  3  4\n"
     ]
    }
   ],
   "source": [
    "print(df.__repr__())"
   ]
  },
  {
   "cell_type": "markdown",
   "id": "84dc4c77-68f5-42bf-a97f-4ae97cb3fb65",
   "metadata": {},
   "source": [
    "- ???"
   ]
  },
  {
   "cell_type": "code",
   "execution_count": 159,
   "id": "4dc3e336-5192-4895-a73f-c1ec8836e016",
   "metadata": {},
   "outputs": [
    {
     "data": {
      "text/plain": [
       "'<div>\\n<style scoped>\\n    .dataframe tbody tr th:only-of-type {\\n        vertical-align: middle;\\n    }\\n\\n    .dataframe tbody tr th {\\n        vertical-align: top;\\n    }\\n\\n    .dataframe thead th {\\n        text-align: right;\\n    }\\n</style>\\n<table border=\"1\" class=\"dataframe\">\\n  <thead>\\n    <tr style=\"text-align: right;\">\\n      <th></th>\\n      <th>a</th>\\n      <th>b</th>\\n    </tr>\\n  </thead>\\n  <tbody>\\n    <tr>\\n      <th>0</th>\\n      <td>1</td>\\n      <td>2</td>\\n    </tr>\\n    <tr>\\n      <th>1</th>\\n      <td>2</td>\\n      <td>3</td>\\n    </tr>\\n    <tr>\\n      <th>2</th>\\n      <td>3</td>\\n      <td>4</td>\\n    </tr>\\n  </tbody>\\n</table>\\n</div>'"
      ]
     },
     "execution_count": 159,
     "metadata": {},
     "output_type": "execute_result"
    }
   ],
   "source": [
    "df._repr_html_()"
   ]
  },
  {
   "cell_type": "code",
   "execution_count": 160,
   "id": "d4838302-1ff3-404b-ad94-a6537da15c31",
   "metadata": {},
   "outputs": [],
   "source": [
    "from IPython.core.display import HTML"
   ]
  },
  {
   "cell_type": "code",
   "execution_count": 161,
   "id": "dd087229-2092-4a82-8649-286104797246",
   "metadata": {},
   "outputs": [
    {
     "data": {
      "text/html": [
       "<div>\n",
       "<style scoped>\n",
       "    .dataframe tbody tr th:only-of-type {\n",
       "        vertical-align: middle;\n",
       "    }\n",
       "\n",
       "    .dataframe tbody tr th {\n",
       "        vertical-align: top;\n",
       "    }\n",
       "\n",
       "    .dataframe thead th {\n",
       "        text-align: right;\n",
       "    }\n",
       "</style>\n",
       "<table border=\"1\" class=\"dataframe\">\n",
       "  <thead>\n",
       "    <tr style=\"text-align: right;\">\n",
       "      <th></th>\n",
       "      <th>a</th>\n",
       "      <th>b</th>\n",
       "    </tr>\n",
       "  </thead>\n",
       "  <tbody>\n",
       "    <tr>\n",
       "      <th>0</th>\n",
       "      <td>1</td>\n",
       "      <td>2</td>\n",
       "    </tr>\n",
       "    <tr>\n",
       "      <th>1</th>\n",
       "      <td>2</td>\n",
       "      <td>3</td>\n",
       "    </tr>\n",
       "    <tr>\n",
       "      <th>2</th>\n",
       "      <td>3</td>\n",
       "      <td>4</td>\n",
       "    </tr>\n",
       "  </tbody>\n",
       "</table>\n",
       "</div>"
      ],
      "text/plain": [
       "<IPython.core.display.HTML object>"
      ]
     },
     "execution_count": 161,
     "metadata": {},
     "output_type": "execute_result"
    }
   ],
   "source": [
    "HTML(df._repr_html_())"
   ]
  },
  {
   "cell_type": "code",
   "execution_count": null,
   "id": "93ad2d05-7184-4655-9441-a68c417d7332",
   "metadata": {},
   "outputs": [],
   "source": []
  }
 ],
 "metadata": {
  "kernelspec": {
   "display_name": "Python 3 (ipykernel)",
   "language": "python",
   "name": "python3"
  },
  "language_info": {
   "codemirror_mode": {
    "name": "ipython",
    "version": 3
   },
   "file_extension": ".py",
   "mimetype": "text/x-python",
   "name": "python",
   "nbconvert_exporter": "python",
   "pygments_lexer": "ipython3",
   "version": "3.9.7"
  }
 },
 "nbformat": 4,
 "nbformat_minor": 5
}
