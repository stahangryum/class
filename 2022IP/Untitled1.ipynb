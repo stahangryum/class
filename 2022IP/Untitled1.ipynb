{
 "cells": [
  {
   "cell_type": "markdown",
   "id": "00fea8a7",
   "metadata": {},
   "source": [
    "슬라이드 1\n",
    "\n",
    "- 내용\n",
    "\n",
    "- 내용 ㅋㅋ"
   ]
  },
  {
   "cell_type": "markdown",
   "id": "4faecbee",
   "metadata": {},
   "source": [
    "## 슬라이드2"
   ]
  },
  {
   "cell_type": "code",
   "execution_count": 1,
   "id": "6350497f",
   "metadata": {},
   "outputs": [],
   "source": [
    "import numpy as np"
   ]
  },
  {
   "cell_type": "code",
   "execution_count": 2,
   "id": "fb8f2a32",
   "metadata": {},
   "outputs": [
    {
     "data": {
      "text/plain": [
       "array([2, 3, 4])"
      ]
     },
     "execution_count": 2,
     "metadata": {},
     "output_type": "execute_result"
    }
   ],
   "source": [
    "np.array([1,2,3]) + 1"
   ]
  },
  {
   "cell_type": "markdown",
   "id": "1d9db257",
   "metadata": {},
   "source": [
    "슬라이드 3"
   ]
  },
  {
   "cell_type": "code",
   "execution_count": 3,
   "id": "b7f34f4f",
   "metadata": {},
   "outputs": [],
   "source": [
    "import matplotlib.pyplot as plt"
   ]
  },
  {
   "cell_type": "code",
   "execution_count": null,
   "id": "7e9583b0",
   "metadata": {},
   "outputs": [],
   "source": []
  }
 ],
 "metadata": {
  "kernelspec": {
   "display_name": "Python 3 (ipykernel)",
   "language": "python",
   "name": "python3"
  },
  "language_info": {
   "codemirror_mode": {
    "name": "ipython",
    "version": 3
   },
   "file_extension": ".py",
   "mimetype": "text/x-python",
   "name": "python",
   "nbconvert_exporter": "python",
   "pygments_lexer": "ipython3",
   "version": "3.9.7"
  }
 },
 "nbformat": 4,
 "nbformat_minor": 5
}
