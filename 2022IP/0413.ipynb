{
 "cells": [
  {
   "cell_type": "code",
   "execution_count": 1,
   "id": "254c7fe6-0039-412b-9982-56cb2f1bd73f",
   "metadata": {},
   "outputs": [],
   "source": [
    "import numpy as np"
   ]
  },
  {
   "cell_type": "code",
   "execution_count": 19,
   "id": "2494fa38-9205-42c8-877e-6be74c909d25",
   "metadata": {},
   "outputs": [
    {
     "data": {
      "text/plain": [
       "array([1.5195254 , 1.58607575, 1.54110535, 1.51795327, 1.46946192,\n",
       "       1.55835765, 1.47503488, 1.6567092 , 1.6854651 , 1.45337661])"
      ]
     },
     "execution_count": 19,
     "metadata": {},
     "output_type": "execute_result"
    }
   ],
   "source": [
    "np.random.seed(0)\n",
    "np.random.uniform(low = 1.3, high = 1.7, size = (10,))"
   ]
  },
  {
   "cell_type": "code",
   "execution_count": 33,
   "id": "6a3acee9-a53e-4cc9-8781-fd415e8c47b4",
   "metadata": {},
   "outputs": [
    {
     "data": {
      "text/plain": [
       "array([1.5195254 , 1.58607575, 1.54110535, 1.51795327, 1.46946192,\n",
       "       1.55835765, 1.47503488, 1.6567092 , 1.6854651 , 1.45337661])"
      ]
     },
     "execution_count": 33,
     "metadata": {},
     "output_type": "execute_result"
    }
   ],
   "source": [
    "np.random.seed(0)\n",
    "\n",
    "\n",
    "# default -> 0 ~ 1\n",
    "# (0 ~ 1)*0.4 = 0 ~ 0.4\n",
    "# (0 ~ 0.4) + 1.3 = 1.3 ~ 1.7\n",
    "# Therefore, default*(high-low) + low\n",
    "\n",
    "low = 1.3\n",
    "high = 1.7\n",
    "\n",
    "scale = (high - low)\n",
    "np.random.rand(10)*scale + low"
   ]
  }
 ],
 "metadata": {
  "kernelspec": {
   "display_name": "Python 3 (ipykernel)",
   "language": "python",
   "name": "python3"
  },
  "language_info": {
   "codemirror_mode": {
    "name": "ipython",
    "version": 3
   },
   "file_extension": ".py",
   "mimetype": "text/x-python",
   "name": "python",
   "nbconvert_exporter": "python",
   "pygments_lexer": "ipython3",
   "version": "3.9.7"
  }
 },
 "nbformat": 4,
 "nbformat_minor": 5
}
