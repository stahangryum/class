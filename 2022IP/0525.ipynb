{
 "cells": [
  {
   "cell_type": "code",
   "execution_count": 2,
   "id": "8f10cedf-7b37-4276-8588-de2b4c4e866f",
   "metadata": {},
   "outputs": [],
   "source": [
    "a = [1,2]\n",
    "b = [3,4]"
   ]
  },
  {
   "cell_type": "code",
   "execution_count": 3,
   "id": "5f498b42-0ff4-44c1-99ca-c731f9121e72",
   "metadata": {},
   "outputs": [
    {
     "data": {
      "text/plain": [
       "[1, 2, 3, 4]"
      ]
     },
     "execution_count": 3,
     "metadata": {},
     "output_type": "execute_result"
    }
   ],
   "source": [
    "a.__add__(b)"
   ]
  },
  {
   "cell_type": "code",
   "execution_count": 4,
   "id": "15ac8fa0-21fb-45ca-ba6f-0ea054c835d4",
   "metadata": {},
   "outputs": [
    {
     "data": {
      "text/plain": [
       "[3, 4, 1, 2]"
      ]
     },
     "execution_count": 4,
     "metadata": {},
     "output_type": "execute_result"
    }
   ],
   "source": [
    "b.__add__(a)"
   ]
  },
  {
   "cell_type": "code",
   "execution_count": 43,
   "id": "7cb26dda-444d-4643-aff1-5c7647048bc5",
   "metadata": {},
   "outputs": [],
   "source": [
    "class Student:\n",
    "    def __init__(self, age = 20, semester = 0):\n",
    "        self.age = age\n",
    "        self.semester = semester\n",
    "        print('입학을 축하합니다. 당신의 나이는 {}이고 현재 {}학기 입니다.'.format(self.age, self.semester))\n",
    "    \n",
    "    def __add__(self, val):\n",
    "        # val == 0: 휴학\n",
    "        # val == 1: 등록\n",
    "        if val == 0:\n",
    "            self.age = self.age + 0.5\n",
    "        elif val == 1:\n",
    "            self.age = self.age + 0.5\n",
    "            self.semester = self.semester + 1\n",
    "            return self\n",
    "    \n",
    "    def _repr_html_(self):\n",
    "        html_str = \"\"\"\n",
    "        나이: {} <br/>\n",
    "        학기: {} <br/>\n",
    "        \"\"\"\n",
    "        return html_str.format(self.age, self.semester)\n",
    "    "
   ]
  },
  {
   "cell_type": "code",
   "execution_count": 47,
   "id": "7f1f6b41-2c93-4940-95b6-097baa2308e7",
   "metadata": {},
   "outputs": [
    {
     "name": "stdout",
     "output_type": "stream",
     "text": [
      "입학을 축하합니다. 당신의 나이는 23이고 현재 0학기 입니다.\n"
     ]
    }
   ],
   "source": [
    "iu = Student(23)"
   ]
  },
  {
   "cell_type": "code",
   "execution_count": 45,
   "id": "4e716a82-bf67-4e30-a464-a66aa2c58637",
   "metadata": {},
   "outputs": [
    {
     "ename": "TypeError",
     "evalue": "unsupported operand type(s) for +: 'NoneType' and 'int'",
     "output_type": "error",
     "traceback": [
      "\u001b[1;31m---------------------------------------------------------------------------\u001b[0m",
      "\u001b[1;31mTypeError\u001b[0m                                 Traceback (most recent call last)",
      "Input \u001b[1;32mIn [45]\u001b[0m, in \u001b[0;36m<cell line: 1>\u001b[1;34m()\u001b[0m\n\u001b[1;32m----> 1\u001b[0m \u001b[43miu\u001b[49m\u001b[43m \u001b[49m\u001b[38;5;241;43m+\u001b[39;49m\u001b[43m \u001b[49m\u001b[38;5;241;43m1\u001b[39;49m\u001b[43m \u001b[49m\u001b[38;5;241;43m+\u001b[39;49m\u001b[43m \u001b[49m\u001b[38;5;241;43m0\u001b[39;49m\u001b[43m \u001b[49m\u001b[38;5;241;43m+\u001b[39;49m\u001b[43m \u001b[49m\u001b[38;5;241;43m0\u001b[39;49m \u001b[38;5;241m+\u001b[39m \u001b[38;5;241m0\u001b[39m \u001b[38;5;241m+\u001b[39m \u001b[38;5;241m0\u001b[39m\n",
      "\u001b[1;31mTypeError\u001b[0m: unsupported operand type(s) for +: 'NoneType' and 'int'"
     ]
    }
   ],
   "source": [
    "iu + 1 + 0 + 0 + 0 + 0"
   ]
  },
  {
   "cell_type": "code",
   "execution_count": 31,
   "id": "af2ae3ed-e4b1-4d61-ba1b-a283758dd720",
   "metadata": {},
   "outputs": [
    {
     "data": {
      "text/plain": [
       "1"
      ]
     },
     "execution_count": 31,
     "metadata": {},
     "output_type": "execute_result"
    }
   ],
   "source": [
    "iu.semester"
   ]
  },
  {
   "cell_type": "code",
   "execution_count": 56,
   "id": "0be50fc8-3426-4102-976a-f8675fec0692",
   "metadata": {},
   "outputs": [
    {
     "data": {
      "text/html": [
       "\n",
       "        나이: 27.0 <br/>\n",
       "        학기: 8 <br/>\n",
       "        "
      ],
      "text/plain": [
       "<__main__.Student at 0x24f36973be0>"
      ]
     },
     "execution_count": 56,
     "metadata": {},
     "output_type": "execute_result"
    }
   ],
   "source": [
    "iu + 1"
   ]
  },
  {
   "cell_type": "code",
   "execution_count": 34,
   "id": "392a9549-7292-48ed-896a-5c41b43f675f",
   "metadata": {},
   "outputs": [
    {
     "data": {
      "text/html": [
       "\n",
       "        나이: 24.5 <br/>\n",
       "        학기: 4 <br/>\n",
       "        "
      ],
      "text/plain": [
       "<__main__.Student at 0x24f367f24f0>"
      ]
     },
     "execution_count": 34,
     "metadata": {},
     "output_type": "execute_result"
    }
   ],
   "source": [
    "iu + 1\n",
    "iu"
   ]
  },
  {
   "cell_type": "code",
   "execution_count": 37,
   "id": "d7614011-b186-42fc-92ff-0257ea831cb4",
   "metadata": {},
   "outputs": [
    {
     "data": {
      "text/html": [
       "\n",
       "        나이: 26.0 <br/>\n",
       "        학기: 4 <br/>\n",
       "        "
      ],
      "text/plain": [
       "<__main__.Student at 0x24f367f24f0>"
      ]
     },
     "execution_count": 37,
     "metadata": {},
     "output_type": "execute_result"
    }
   ],
   "source": [
    "iu + 0\n",
    "iu"
   ]
  },
  {
   "cell_type": "code",
   "execution_count": 38,
   "id": "19cc1e0a-407e-4faa-a3cb-c7466bb4a38e",
   "metadata": {},
   "outputs": [
    {
     "data": {
      "text/html": [
       "\n",
       "        나이: 26.0 <br/>\n",
       "        학기: 4 <br/>\n",
       "        "
      ],
      "text/plain": [
       "<__main__.Student at 0x24f367f24f0>"
      ]
     },
     "execution_count": 38,
     "metadata": {},
     "output_type": "execute_result"
    }
   ],
   "source": [
    "iu"
   ]
  },
  {
   "cell_type": "code",
   "execution_count": 48,
   "id": "264b7952-1d94-459a-81a1-ec5507d1bee4",
   "metadata": {},
   "outputs": [
    {
     "data": {
      "text/html": [
       "\n",
       "        나이: 23.5 <br/>\n",
       "        학기: 1 <br/>\n",
       "        "
      ],
      "text/plain": [
       "<__main__.Student at 0x24f36973be0>"
      ]
     },
     "execution_count": 48,
     "metadata": {},
     "output_type": "execute_result"
    }
   ],
   "source": [
    "_a = iu + 1\n",
    "_a"
   ]
  },
  {
   "cell_type": "code",
   "execution_count": 49,
   "id": "1dad61ad-dcab-43d3-bc6f-6477dfdeff47",
   "metadata": {},
   "outputs": [
    {
     "data": {
      "text/plain": [
       "__main__.Student"
      ]
     },
     "execution_count": 49,
     "metadata": {},
     "output_type": "execute_result"
    }
   ],
   "source": [
    "type(_a)"
   ]
  },
  {
   "cell_type": "code",
   "execution_count": 58,
   "id": "1b9e9a46-90f4-4c00-9b81-7472704897f5",
   "metadata": {},
   "outputs": [],
   "source": [
    "import numpy as np"
   ]
  },
  {
   "cell_type": "code",
   "execution_count": 57,
   "id": "67d0db29-2bda-4474-86af-ec12b593f251",
   "metadata": {},
   "outputs": [],
   "source": [
    "class RPC: \n",
    "    def __init__(self,candidate=['가위','바위','보']):\n",
    "        self.candidate = candidate\n",
    "        self.actions = list() \n",
    "    def choose(self):\n",
    "        self.actions.append(np.random.choice(self.candidate))\n",
    "    def show(self):\n",
    "        print(self.actions[-1])\n",
    "    def _repr_html_(self):\n",
    "        html_str = \"\"\"\n",
    "        낼 수 있는 패: {} <br/> \n",
    "        기록: {}\n",
    "        \"\"\"\n",
    "        return html_str.format(self.candidate,self.actions)"
   ]
  },
  {
   "cell_type": "code",
   "execution_count": 60,
   "id": "66919a9d-36c6-4837-8532-74212b50d7e8",
   "metadata": {},
   "outputs": [],
   "source": [
    "class RPC: \n",
    "    def __init__(self,candidate=['가위','바위','보']):\n",
    "        self.candidate = candidate\n",
    "        self.actions = list() \n",
    "        self.results = list()\n",
    "    def __mul__(self,other):\n",
    "        self.choose()\n",
    "        other.choose()\n",
    "        if self.actions[-1]=='가위' and other.actions[-1]=='가위':\n",
    "            self.results.append(0)\n",
    "            other.results.append(0)\n",
    "        if self.actions[-1]=='가위' and other.actions[-1]=='바위':\n",
    "            self.results.append(-1)\n",
    "            other.results.append(1)\n",
    "        if self.actions[-1]=='가위' and other.actions[-1]=='보':\n",
    "            self.results.append(1)\n",
    "            other.results.append(-1)\n",
    "        if self.actions[-1]=='바위' and other.actions[-1]=='가위':\n",
    "            self.results.append(1)\n",
    "            other.results.append(-1)\n",
    "        if self.actions[-1]=='바위' and other.actions[-1]=='바위':\n",
    "            self.results.append(0)\n",
    "            other.results.append(0)\n",
    "        if self.actions[-1]=='바위' and other.actions[-1]=='보':\n",
    "            self.results.append(-1)\n",
    "            other.results.append(1)\n",
    "        if self.actions[-1]=='보' and other.actions[-1]=='가위':\n",
    "            self.results.append(-1)\n",
    "            other.results.append(1)\n",
    "        if self.actions[-1]=='보' and other.actions[-1]=='바위':\n",
    "            self.results.append(1)\n",
    "            other.results.append(-1)\n",
    "        if self.actions[-1]=='보' and other.actions[-1]=='보':\n",
    "            self.results.append(0)\n",
    "            other.results.append(0)\n",
    "    def choose(self):\n",
    "        self.actions.append(np.random.choice(self.candidate))\n",
    "    def _repr_html_(self):\n",
    "        html_str = \"\"\"\n",
    "        낼 수 있는 패: {} <br/> \n",
    "        액션: {} <br/>\n",
    "        승패: {}\n",
    "        \"\"\"\n",
    "        return html_str.format(self.candidate,self.actions,self.results)"
   ]
  },
  {
   "cell_type": "code",
   "execution_count": 85,
   "id": "98a93848-e62d-463a-a06a-b136f95775b0",
   "metadata": {},
   "outputs": [],
   "source": [
    "a = RPC(['가위', '보'])\n",
    "b = RPC(['가위', '바위'])"
   ]
  },
  {
   "cell_type": "code",
   "execution_count": 86,
   "id": "5f7bf1b6-7ce7-4e20-bc63-ef71a4431fbd",
   "metadata": {},
   "outputs": [],
   "source": [
    "for i in range(50000):\n",
    "    a*b"
   ]
  },
  {
   "cell_type": "code",
   "execution_count": 88,
   "id": "f20b062c-87a0-4577-826c-3717a6c45cf7",
   "metadata": {},
   "outputs": [
    {
     "data": {
      "text/plain": [
       "-12139"
      ]
     },
     "execution_count": 88,
     "metadata": {},
     "output_type": "execute_result"
    }
   ],
   "source": [
    "sum(a.results)"
   ]
  },
  {
   "cell_type": "code",
   "execution_count": 89,
   "id": "3991d4c3-8651-4193-9cce-07631fd2e9fa",
   "metadata": {},
   "outputs": [
    {
     "data": {
      "text/plain": [
       "12139"
      ]
     },
     "execution_count": 89,
     "metadata": {},
     "output_type": "execute_result"
    }
   ],
   "source": [
    "sum(b.results)"
   ]
  },
  {
   "cell_type": "markdown",
   "id": "cb1cccaf-785a-4e45-9277-cbe657369d96",
   "metadata": {},
   "source": [
    "- b가 더 유리하다"
   ]
  }
 ],
 "metadata": {
  "kernelspec": {
   "display_name": "Python 3 (ipykernel)",
   "language": "python",
   "name": "python3"
  },
  "language_info": {
   "codemirror_mode": {
    "name": "ipython",
    "version": 3
   },
   "file_extension": ".py",
   "mimetype": "text/x-python",
   "name": "python",
   "nbconvert_exporter": "python",
   "pygments_lexer": "ipython3",
   "version": "3.9.7"
  }
 },
 "nbformat": 4,
 "nbformat_minor": 5
}
