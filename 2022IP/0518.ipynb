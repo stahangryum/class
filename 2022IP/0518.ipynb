{
 "cells": [
  {
   "cell_type": "code",
   "execution_count": 28,
   "id": "02b99767-2294-414a-9d89-7e413814e027",
   "metadata": {},
   "outputs": [],
   "source": [
    "class A:\n",
    "    x = 0\n",
    "    y = 0\n",
    "    def f(self):\n",
    "        self.x = self.x + 1\n",
    "        A.y = A.y + 1\n",
    "        print(\"현재 인스턴스에서 f가 {}번 실행\".format(self.x))\n",
    "        print(\"A클래스에서 만들어진 모든 인스턴스들에서 f가 총 {}번 실행\".format(self.y))"
   ]
  },
  {
   "cell_type": "code",
   "execution_count": 29,
   "id": "8310f337-8266-40f3-abae-7a46353225e1",
   "metadata": {},
   "outputs": [
    {
     "data": {
      "text/plain": [
       "(0, 0)"
      ]
     },
     "execution_count": 29,
     "metadata": {},
     "output_type": "execute_result"
    }
   ],
   "source": [
    "A.x, A.y"
   ]
  },
  {
   "cell_type": "code",
   "execution_count": 30,
   "id": "a05c28f0-a630-4d3c-b26c-4aa3bcaf925a",
   "metadata": {},
   "outputs": [],
   "source": [
    "a = A()\n",
    "b = A()"
   ]
  },
  {
   "cell_type": "code",
   "execution_count": 31,
   "id": "943cf320-5266-4cc7-82f6-c52453b23359",
   "metadata": {},
   "outputs": [
    {
     "data": {
      "text/plain": [
       "([0, 0], [0, 0], [0, 0])"
      ]
     },
     "execution_count": 31,
     "metadata": {},
     "output_type": "execute_result"
    }
   ],
   "source": [
    "[A.x, A.y], [a.x, a.y], [b.x, b.y]"
   ]
  },
  {
   "cell_type": "code",
   "execution_count": 32,
   "id": "b10f9f52-5c0d-4693-85e3-cc047c511d7f",
   "metadata": {},
   "outputs": [
    {
     "name": "stdout",
     "output_type": "stream",
     "text": [
      "현재 인스턴스에서 f가 1번 실행\n",
      "A클래스에서 만들어진 모든 인스턴스들에서 f가 총 1번 실행\n"
     ]
    }
   ],
   "source": [
    "a.f()"
   ]
  },
  {
   "cell_type": "code",
   "execution_count": 33,
   "id": "b1ef31d0-e3a8-447f-96f0-63126c40c967",
   "metadata": {},
   "outputs": [
    {
     "data": {
      "text/plain": [
       "([0, 1], [1, 1], [0, 1])"
      ]
     },
     "execution_count": 33,
     "metadata": {},
     "output_type": "execute_result"
    }
   ],
   "source": [
    "[A.x, A.y], [a.x, a.y], [b.x, b.y]"
   ]
  },
  {
   "cell_type": "code",
   "execution_count": 58,
   "id": "f45d2fdc-c031-47ac-b7c8-3be4bfa6f81d",
   "metadata": {},
   "outputs": [
    {
     "name": "stdout",
     "output_type": "stream",
     "text": [
      "현재 인스턴스에서 f가 9번 실행\n",
      "A클래스에서 만들어진 모든 인스턴스들에서 f가 총 16번 실행\n"
     ]
    }
   ],
   "source": [
    "b.f()"
   ]
  },
  {
   "cell_type": "code",
   "execution_count": 39,
   "id": "21e7071f-7c30-4988-8ce7-e52bbcab7420",
   "metadata": {},
   "outputs": [],
   "source": [
    "c = A()"
   ]
  },
  {
   "cell_type": "code",
   "execution_count": 63,
   "id": "0704fb7d-0e26-45ec-b29c-68cd3377cb9a",
   "metadata": {},
   "outputs": [
    {
     "name": "stdout",
     "output_type": "stream",
     "text": [
      "현재 인스턴스에서 f가 8번 실행\n",
      "A클래스에서 만들어진 모든 인스턴스들에서 f가 총 102번 실행\n"
     ]
    }
   ],
   "source": [
    "c.f()"
   ]
  },
  {
   "cell_type": "code",
   "execution_count": 62,
   "id": "e7ceb225-625a-4cc5-98d9-e4ac57b2c405",
   "metadata": {},
   "outputs": [],
   "source": [
    "A.x = 50"
   ]
  },
  {
   "cell_type": "code",
   "execution_count": 60,
   "id": "35fc24c7-f540-4a9f-8154-c101956b7f48",
   "metadata": {},
   "outputs": [],
   "source": [
    "A.y = 100"
   ]
  },
  {
   "cell_type": "code",
   "execution_count": 46,
   "id": "b361fb7c-2ea7-41a1-a6a8-2a033c2d1a7f",
   "metadata": {},
   "outputs": [
    {
     "data": {
      "text/plain": [
       "([0, 10], [1, 10], [7, 10], [1, 10])"
      ]
     },
     "execution_count": 46,
     "metadata": {},
     "output_type": "execute_result"
    }
   ],
   "source": [
    "[A.x, A.y], [a.x, a.y], [b.x, b.y], [c.x, c.y]"
   ]
  },
  {
   "cell_type": "code",
   "execution_count": 48,
   "id": "8a82bb66-cd60-4b4e-ae61-b9c6a8d7974c",
   "metadata": {},
   "outputs": [
    {
     "data": {
      "text/plain": [
       "{'x': 1}"
      ]
     },
     "execution_count": 48,
     "metadata": {},
     "output_type": "execute_result"
    }
   ],
   "source": [
    "a.__dict__"
   ]
  },
  {
   "cell_type": "code",
   "execution_count": 49,
   "id": "1ddd1ebf-1b69-48dd-8dba-91ec555ce17a",
   "metadata": {},
   "outputs": [
    {
     "data": {
      "text/plain": [
       "{'x': 7}"
      ]
     },
     "execution_count": 49,
     "metadata": {},
     "output_type": "execute_result"
    }
   ],
   "source": [
    "b.__dict__"
   ]
  },
  {
   "cell_type": "code",
   "execution_count": 50,
   "id": "95bd1dfd-f9b3-4ee7-85c3-034c2adc498c",
   "metadata": {},
   "outputs": [
    {
     "data": {
      "text/plain": [
       "{'x': 1}"
      ]
     },
     "execution_count": 50,
     "metadata": {},
     "output_type": "execute_result"
    }
   ],
   "source": [
    "c.__dict__"
   ]
  },
  {
   "cell_type": "code",
   "execution_count": 51,
   "id": "57e275cb-b2c7-468f-8aeb-105178a48f6a",
   "metadata": {},
   "outputs": [
    {
     "data": {
      "text/plain": [
       "10"
      ]
     },
     "execution_count": 51,
     "metadata": {},
     "output_type": "execute_result"
    }
   ],
   "source": [
    "a.y"
   ]
  },
  {
   "cell_type": "code",
   "execution_count": 88,
   "id": "3375aa00-7e6d-4137-b5f5-32681ea802a7",
   "metadata": {},
   "outputs": [],
   "source": [
    "class B:\n",
    "    x = 10 # 초기자본금\n",
    "    y = 0\n",
    "    def f(self): # f()를 실행할 때마다 돈을 쓴다.\n",
    "        self.x = self.x - 1 \n",
    "        B.y = B.y + 1\n",
    "        print(\"현재 인스턴스에서 잔액은 {}원\".format(self.x))\n",
    "        print(\"A 클래스에서 만들어진 모든 인스턴스들에서 총 {}원 사용\".format(self.y))        "
   ]
  },
  {
   "cell_type": "code",
   "execution_count": 89,
   "id": "0903b7a1-59fe-405c-8ac2-5b34365ea446",
   "metadata": {},
   "outputs": [],
   "source": [
    "a = B()\n",
    "b = B()"
   ]
  },
  {
   "cell_type": "code",
   "execution_count": 90,
   "id": "eb804b8a-5935-4227-9b23-d6c147ac50b7",
   "metadata": {},
   "outputs": [
    {
     "data": {
      "text/plain": [
       "([10, 0], [10, 0], [10, 0])"
      ]
     },
     "execution_count": 90,
     "metadata": {},
     "output_type": "execute_result"
    }
   ],
   "source": [
    "[B.x, B.y], [a.x, a.y], [b.x, b.y]"
   ]
  },
  {
   "cell_type": "code",
   "execution_count": 91,
   "id": "e963a9b8-7f31-481d-b792-ad5b4dd9a5cf",
   "metadata": {},
   "outputs": [
    {
     "name": "stdout",
     "output_type": "stream",
     "text": [
      "현재 인스턴스에서 잔액은 9원\n",
      "A 클래스에서 만들어진 모든 인스턴스들에서 총 1원 사용\n"
     ]
    }
   ],
   "source": [
    "a.f()"
   ]
  },
  {
   "cell_type": "code",
   "execution_count": 92,
   "id": "ae8f13bd-eedd-4c11-9612-05475227d533",
   "metadata": {},
   "outputs": [
    {
     "name": "stdout",
     "output_type": "stream",
     "text": [
      "현재 인스턴스에서 잔액은 8원\n",
      "A 클래스에서 만들어진 모든 인스턴스들에서 총 2원 사용\n"
     ]
    }
   ],
   "source": [
    "a.f()"
   ]
  },
  {
   "cell_type": "code",
   "execution_count": 93,
   "id": "fbccb799-5542-4b2e-a256-fc25dfb5c304",
   "metadata": {},
   "outputs": [
    {
     "name": "stdout",
     "output_type": "stream",
     "text": [
      "현재 인스턴스에서 잔액은 9원\n",
      "A 클래스에서 만들어진 모든 인스턴스들에서 총 3원 사용\n"
     ]
    }
   ],
   "source": [
    "b.f()"
   ]
  },
  {
   "cell_type": "code",
   "execution_count": null,
   "id": "ecd85736-4860-455a-b885-3ccaec5faaa9",
   "metadata": {},
   "outputs": [],
   "source": [
    "B.y = 999"
   ]
  },
  {
   "cell_type": "code",
   "execution_count": 94,
   "id": "20702250-da2c-48e7-8de5-8d12b28d3b75",
   "metadata": {},
   "outputs": [],
   "source": [
    "B.x = 999"
   ]
  },
  {
   "cell_type": "code",
   "execution_count": 95,
   "id": "37830b0d-2795-4026-be78-068158a61946",
   "metadata": {},
   "outputs": [
    {
     "data": {
      "text/plain": [
       "([999, 3], [8, 3], [9, 3])"
      ]
     },
     "execution_count": 95,
     "metadata": {},
     "output_type": "execute_result"
    }
   ],
   "source": [
    "[B.x, B.y], [a.x, a.y], [b.x, b.y]"
   ]
  },
  {
   "cell_type": "code",
   "execution_count": 78,
   "id": "8b753c34-88a7-4a11-a562-d951c04e1258",
   "metadata": {},
   "outputs": [],
   "source": [
    "c = B()"
   ]
  },
  {
   "cell_type": "code",
   "execution_count": 79,
   "id": "f4dfba90-5d07-4a10-ac9e-06cb1117c9aa",
   "metadata": {},
   "outputs": [
    {
     "name": "stdout",
     "output_type": "stream",
     "text": [
      "현재 인스턴스에서 잔액은 998원\n",
      "A 클래스에서 만들어진 모든 인스턴스들에서 총 4원 사용\n"
     ]
    }
   ],
   "source": [
    "c.f()"
   ]
  },
  {
   "cell_type": "markdown",
   "id": "8eb25685-afa4-4a44-8618-5ddaf837ec5c",
   "metadata": {},
   "source": [
    "# 숙제"
   ]
  },
  {
   "cell_type": "markdown",
   "id": "ffd6a66d-70bf-47df-b00d-611f660c0e2c",
   "metadata": {},
   "source": [
    "아래 조건에 맞는 클래스를 생성하라.\n",
    "\n",
    "(1) `['가위', '바위']`와 같은 리스트를 입력으로 받아 인스턴스를 생성한다.\n",
    "\n",
    "(2) 위의 리스트에서 하나의 값을 뽑는 메소드 `f`를 가지고 있다.\n",
    "\n",
    "(3) f의 실행횟수를 기록하는 기능을 가진다. (각 인스턴스에서 실행한 횟수, 클래스에서 생성된 모든 인스턴스에서 실행한 횟수 모두 기록)"
   ]
  },
  {
   "cell_type": "code",
   "execution_count": 98,
   "id": "bdf43358-33b1-4051-a382-092d9cbb95f8",
   "metadata": {},
   "outputs": [],
   "source": [
    "import numpy as np"
   ]
  },
  {
   "cell_type": "code",
   "execution_count": 171,
   "id": "c79bb409-cc00-4f22-a28f-8e86dcf28578",
   "metadata": {},
   "outputs": [],
   "source": [
    "class Klass:\n",
    "    x = 0\n",
    "    y = 0\n",
    "    def __init__(self, weapons):        \n",
    "        self.weapons = weapons\n",
    "    \n",
    "    def f(self):\n",
    "        print(np.random.choice(self.weapons, size = 1))\n",
    "        Klass.y = Klass.y + 1\n",
    "        self.x = self.x + 1\n",
    "        print('현재 인스턴스에서 실행 횟수 : {}'.format(self.x))\n",
    "        print('총 실행 : {}'.format(Klass.y))"
   ]
  },
  {
   "cell_type": "code",
   "execution_count": 172,
   "id": "fe582cbf-8edb-447c-8274-8f9c00a50035",
   "metadata": {},
   "outputs": [],
   "source": [
    "a = Klass(['가위', '바위'])"
   ]
  },
  {
   "cell_type": "code",
   "execution_count": 182,
   "id": "7500ab54-c267-40da-aa31-32335473b7c0",
   "metadata": {},
   "outputs": [
    {
     "name": "stdout",
     "output_type": "stream",
     "text": [
      "['가위']\n",
      "현재 인스턴스에서 실행 횟수 : 4\n",
      "총 실행 : 7\n"
     ]
    }
   ],
   "source": [
    "a.f()"
   ]
  },
  {
   "cell_type": "code",
   "execution_count": 178,
   "id": "0f096d38-1d74-4175-9008-b8c6b066f342",
   "metadata": {},
   "outputs": [],
   "source": [
    "b = Klass(['가위', '바위', '보'])"
   ]
  },
  {
   "cell_type": "code",
   "execution_count": 188,
   "id": "800ad954-4a8c-4868-9567-b817ac05ee40",
   "metadata": {},
   "outputs": [
    {
     "name": "stdout",
     "output_type": "stream",
     "text": [
      "['보']\n",
      "현재 인스턴스에서 실행 횟수 : 7\n",
      "총 실행 : 13\n"
     ]
    }
   ],
   "source": [
    "b.f()"
   ]
  },
  {
   "cell_type": "code",
   "execution_count": null,
   "id": "288de31c-106f-4b54-b9a0-d51556346a88",
   "metadata": {},
   "outputs": [],
   "source": []
  }
 ],
 "metadata": {
  "kernelspec": {
   "display_name": "Python 3 (ipykernel)",
   "language": "python",
   "name": "python3"
  },
  "language_info": {
   "codemirror_mode": {
    "name": "ipython",
    "version": 3
   },
   "file_extension": ".py",
   "mimetype": "text/x-python",
   "name": "python",
   "nbconvert_exporter": "python",
   "pygments_lexer": "ipython3",
   "version": "3.9.7"
  }
 },
 "nbformat": 4,
 "nbformat_minor": 5
}
