{
 "cells": [
  {
   "cell_type": "code",
   "execution_count": 1,
   "id": "cec44492-90f0-4e6d-adfb-5b53bbbe0708",
   "metadata": {},
   "outputs": [],
   "source": [
    "import vecterCal"
   ]
  },
  {
   "cell_type": "code",
   "execution_count": 2,
   "id": "087aaf56-20a4-4f01-837b-a8f0d4527539",
   "metadata": {},
   "outputs": [
    {
     "data": {
      "text/plain": [
       "\u001b[1;31mType:\u001b[0m        module\n",
       "\u001b[1;31mString form:\u001b[0m <module 'vecterCal' from 'C:\\\\Users\\\\woo\\\\Desktop\\\\Project\\\\class_2022IP\\\\vecterCal\\\\__init__.py'>\n",
       "\u001b[1;31mFile:\u001b[0m        c:\\users\\woo\\desktop\\project\\class_2022ip\\vectercal\\__init__.py\n",
       "\u001b[1;31mDocstring:\u001b[0m   <no docstring>\n"
      ]
     },
     "metadata": {},
     "output_type": "display_data"
    }
   ],
   "source": [
    "?vecterCal"
   ]
  },
  {
   "cell_type": "code",
   "execution_count": 3,
   "id": "94f879bc-066c-4333-ad86-26f6a73bcfc2",
   "metadata": {},
   "outputs": [],
   "source": [
    "a = [1,2]\n",
    "b = [8,3]"
   ]
  },
  {
   "cell_type": "code",
   "execution_count": 4,
   "id": "328e6bb6-e717-4eaa-88b1-bca44474ee25",
   "metadata": {},
   "outputs": [
    {
     "data": {
      "text/plain": [
       "[9, 5]"
      ]
     },
     "execution_count": 4,
     "metadata": {},
     "output_type": "execute_result"
    }
   ],
   "source": [
    "vecterCal.myfun.vec2_add(a,b)"
   ]
  },
  {
   "cell_type": "code",
   "execution_count": 5,
   "id": "c8af9461-065f-4278-9534-7bfc87aa799a",
   "metadata": {},
   "outputs": [
    {
     "data": {
      "text/plain": [
       "[-7, -1]"
      ]
     },
     "execution_count": 5,
     "metadata": {},
     "output_type": "execute_result"
    }
   ],
   "source": [
    "vecterCal.myfun.vec2_sub(a,b)"
   ]
  },
  {
   "cell_type": "code",
   "execution_count": 7,
   "id": "c0f05077-3be2-4b52-b3f7-6c551f3d3ca0",
   "metadata": {},
   "outputs": [
    {
     "data": {
      "text/plain": [
       "\u001b[1;31mType:\u001b[0m        module\n",
       "\u001b[1;31mString form:\u001b[0m <module 'vecterCal.myfun' from 'C:\\\\Users\\\\woo\\\\Desktop\\\\Project\\\\class_2022IP\\\\vecterCal\\\\myfun.py'>\n",
       "\u001b[1;31mFile:\u001b[0m        c:\\users\\woo\\desktop\\project\\class_2022ip\\vectercal\\myfun.py\n",
       "\u001b[1;31mDocstring:\u001b[0m   이것은 길이가 2인 벡터의 합 혹은 차를 구하는 모듈입니다. (학번 : 2021-15789)\n"
      ]
     },
     "metadata": {},
     "output_type": "display_data"
    }
   ],
   "source": [
    "?vecterCal.myfun"
   ]
  },
  {
   "cell_type": "code",
   "execution_count": 1,
   "id": "984c18ae-9e24-41b6-9e6a-5b8b93fefb6a",
   "metadata": {},
   "outputs": [],
   "source": [
    "from vecterCal import myfun"
   ]
  },
  {
   "cell_type": "code",
   "execution_count": 2,
   "id": "5d36564f-8781-4f0e-84ea-6a63b29bb319",
   "metadata": {},
   "outputs": [
    {
     "ename": "NameError",
     "evalue": "name 'a' is not defined",
     "output_type": "error",
     "traceback": [
      "\u001b[1;31m---------------------------------------------------------------------------\u001b[0m",
      "\u001b[1;31mNameError\u001b[0m                                 Traceback (most recent call last)",
      "Input \u001b[1;32mIn [2]\u001b[0m, in \u001b[0;36m<cell line: 1>\u001b[1;34m()\u001b[0m\n\u001b[1;32m----> 1\u001b[0m myfun\u001b[38;5;241m.\u001b[39mvec2_add(\u001b[43ma\u001b[49m,b)\n",
      "\u001b[1;31mNameError\u001b[0m: name 'a' is not defined"
     ]
    }
   ],
   "source": [
    "myfun.vec2_add(a,b)"
   ]
  },
  {
   "cell_type": "code",
   "execution_count": null,
   "id": "903f9648-a46d-4956-a682-e1bdaacecdac",
   "metadata": {},
   "outputs": [],
   "source": []
  }
 ],
 "metadata": {
  "kernelspec": {
   "display_name": "Python 3 (ipykernel)",
   "language": "python",
   "name": "python3"
  },
  "language_info": {
   "codemirror_mode": {
    "name": "ipython",
    "version": 3
   },
   "file_extension": ".py",
   "mimetype": "text/x-python",
   "name": "python",
   "nbconvert_exporter": "python",
   "pygments_lexer": "ipython3",
   "version": "3.9.7"
  }
 },
 "nbformat": 4,
 "nbformat_minor": 5
}
