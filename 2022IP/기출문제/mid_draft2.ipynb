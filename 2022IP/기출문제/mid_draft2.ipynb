{
 "cells": [
  {
   "cell_type": "markdown",
   "id": "62030c64",
   "metadata": {},
   "source": [
    "# 파이썬 입문 중간고사 (draft2)"
   ]
  },
  {
   "cell_type": "markdown",
   "id": "204ce2fd",
   "metadata": {},
   "source": [
    "### `#.` 다음을 읽고 참인것을 모두 골라라. \n",
    "```\n",
    "(ㄱ) 딕셔너리는 key와 value가 하나의 쌍으로 되어 {}로 둘러싸여 있다. O\n",
    "(ㄴ) `abs(-20)`의 실행결과는 `20`이다. O\n",
    "(ㄷ) `[1]+[2]`의 실행결과는 `[3]` 이다. X\n",
    "``` "
   ]
  },
  {
   "cell_type": "code",
   "execution_count": 8,
   "id": "7cdfcb3f-909e-4a3e-9f3c-620c975d7b77",
   "metadata": {},
   "outputs": [
    {
     "data": {
      "text/plain": [
       "\u001b[1;31mInit signature:\u001b[0m \u001b[0mdict\u001b[0m\u001b[1;33m(\u001b[0m\u001b[0mself\u001b[0m\u001b[1;33m,\u001b[0m \u001b[1;33m/\u001b[0m\u001b[1;33m,\u001b[0m \u001b[1;33m*\u001b[0m\u001b[0margs\u001b[0m\u001b[1;33m,\u001b[0m \u001b[1;33m**\u001b[0m\u001b[0mkwargs\u001b[0m\u001b[1;33m)\u001b[0m\u001b[1;33m\u001b[0m\u001b[1;33m\u001b[0m\u001b[0m\n",
       "\u001b[1;31mDocstring:\u001b[0m     \n",
       "dict() -> new empty dictionary\n",
       "dict(mapping) -> new dictionary initialized from a mapping object's\n",
       "    (key, value) pairs\n",
       "dict(iterable) -> new dictionary initialized as if via:\n",
       "    d = {}\n",
       "    for k, v in iterable:\n",
       "        d[k] = v\n",
       "dict(**kwargs) -> new dictionary initialized with the name=value pairs\n",
       "    in the keyword argument list.  For example:  dict(one=1, two=2)\n",
       "\u001b[1;31mType:\u001b[0m           type\n",
       "\u001b[1;31mSubclasses:\u001b[0m     OrderedDict, defaultdict, Counter, _EnumDict, Bunch, Config, _DefaultOptionDict, ObjectDict, StgDict, TimeRE, ...\n"
      ]
     },
     "metadata": {},
     "output_type": "display_data"
    }
   ],
   "source": [
    "?dict"
   ]
  },
  {
   "cell_type": "code",
   "execution_count": 11,
   "id": "8e651e53-07c8-4f76-ae8a-09fa1d5cf556",
   "metadata": {},
   "outputs": [
    {
     "data": {
      "text/plain": [
       "20"
      ]
     },
     "execution_count": 11,
     "metadata": {},
     "output_type": "execute_result"
    }
   ],
   "source": [
    "abs(-20)"
   ]
  },
  {
   "cell_type": "code",
   "execution_count": 12,
   "id": "d406bb76-70d1-4629-b752-42f58de50295",
   "metadata": {},
   "outputs": [
    {
     "data": {
      "text/plain": [
       "[1, 2]"
      ]
     },
     "execution_count": 12,
     "metadata": {},
     "output_type": "execute_result"
    }
   ],
   "source": [
    "[1] + [2]"
   ]
  },
  {
   "cell_type": "markdown",
   "id": "f2167aad",
   "metadata": {},
   "source": [
    "### `#.` 아래의 실행결과 중 올바른 것은? "
   ]
  },
  {
   "cell_type": "markdown",
   "id": "4ef8b9e8",
   "metadata": {},
   "source": [
    "### `(a)`"
   ]
  },
  {
   "cell_type": "markdown",
   "id": "9bdc5b5a",
   "metadata": {},
   "source": [
    "```python\n",
    "a=1.0\n",
    "b=2\n",
    "type(a+b)\n",
    "```\n",
    "```\n",
    "(ㄱ) int (ㄴ) float (ㄷ) bool  (ㄹ) complex \n",
    "(ㅁ) str (ㅂ) list  (ㅅ) tuple (ㅇ) dict \n",
    "```"
   ]
  },
  {
   "cell_type": "code",
   "execution_count": 13,
   "id": "34570dd9-f303-4017-b978-fd3eb9d678ab",
   "metadata": {},
   "outputs": [
    {
     "data": {
      "text/plain": [
       "float"
      ]
     },
     "execution_count": 13,
     "metadata": {},
     "output_type": "execute_result"
    }
   ],
   "source": [
    "a=1.0\n",
    "b=2\n",
    "type(a+b)"
   ]
  },
  {
   "cell_type": "markdown",
   "id": "ea5a2c8a",
   "metadata": {},
   "source": [
    "### `(b)`"
   ]
  },
  {
   "cell_type": "markdown",
   "id": "b8a5a157",
   "metadata": {},
   "source": [
    "```python\n",
    "a=1\n",
    "b=2\n",
    "type(a==b)\n",
    "```\n",
    "```\n",
    "(ㄱ) int (ㄴ) float (ㄷ) bool  (ㄹ) complex \n",
    "(ㅁ) str (ㅂ) list  (ㅅ) tuple (ㅇ) dict \n",
    "```"
   ]
  },
  {
   "cell_type": "code",
   "execution_count": 14,
   "id": "14d73193-b2d1-48c5-a619-d38b5d3b57be",
   "metadata": {},
   "outputs": [
    {
     "data": {
      "text/plain": [
       "bool"
      ]
     },
     "execution_count": 14,
     "metadata": {},
     "output_type": "execute_result"
    }
   ],
   "source": [
    "a=1\n",
    "b=2\n",
    "type(a==b)"
   ]
  },
  {
   "cell_type": "markdown",
   "id": "3b321251",
   "metadata": {},
   "source": [
    "### `(c)`"
   ]
  },
  {
   "cell_type": "markdown",
   "id": "2a60f0ec",
   "metadata": {},
   "source": [
    "```python\n",
    "a=1\n",
    "b=2\n",
    "type(int(a==b))\n",
    "```\n",
    "```\n",
    "(ㄱ) int (ㄴ) float (ㄷ) bool  (ㄹ) complex \n",
    "(ㅁ) str (ㅂ) list  (ㅅ) tuple (ㅇ) dict \n",
    "```"
   ]
  },
  {
   "cell_type": "code",
   "execution_count": 15,
   "id": "db43e7bf-93a1-4e75-887c-4473f3aad4de",
   "metadata": {},
   "outputs": [
    {
     "data": {
      "text/plain": [
       "int"
      ]
     },
     "execution_count": 15,
     "metadata": {},
     "output_type": "execute_result"
    }
   ],
   "source": [
    "a=1\n",
    "b=2\n",
    "type(int(a==b))"
   ]
  },
  {
   "cell_type": "markdown",
   "id": "b9b2c2e7",
   "metadata": {},
   "source": [
    "### `(d)`"
   ]
  },
  {
   "cell_type": "markdown",
   "id": "8f3c241d",
   "metadata": {},
   "source": [
    "```python\n",
    "type([1,2,3])\n",
    "```\n",
    "```\n",
    "(ㄱ) int (ㄴ) float (ㄷ) bool  (ㄹ) complex \n",
    "(ㅁ) str (ㅂ) list  (ㅅ) tuple (ㅇ) dict \n",
    "```"
   ]
  },
  {
   "cell_type": "code",
   "execution_count": 16,
   "id": "e904ddcc-b1aa-49ac-af44-2b6af1b9dd27",
   "metadata": {},
   "outputs": [
    {
     "data": {
      "text/plain": [
       "list"
      ]
     },
     "execution_count": 16,
     "metadata": {},
     "output_type": "execute_result"
    }
   ],
   "source": [
    "type([1,2,3])"
   ]
  },
  {
   "cell_type": "markdown",
   "id": "84183a34",
   "metadata": {},
   "source": [
    "### `#.` 원주율을 출력하는 방법 중 올바른 것을 `모두` 고르시오?"
   ]
  },
  {
   "cell_type": "markdown",
   "id": "da084741",
   "metadata": {
    "tags": []
   },
   "source": [
    "```python\n",
    "(ㄱ) \n",
    "import math\n",
    "math.pi\n",
    "\n",
    "(ㄴ) \n",
    "import math\n",
    "pi \n",
    "\n",
    "(ㄷ)\n",
    "from math import pi\n",
    "pi\n",
    "\n",
    "(ㄹ)\n",
    "from math import *\n",
    "pi\n",
    "```"
   ]
  },
  {
   "cell_type": "code",
   "execution_count": 1,
   "id": "e3bb885b-dd73-4e0d-884c-c0481e72927f",
   "metadata": {},
   "outputs": [
    {
     "data": {
      "text/plain": [
       "3.141592653589793"
      ]
     },
     "execution_count": 1,
     "metadata": {},
     "output_type": "execute_result"
    }
   ],
   "source": [
    "import math\n",
    "math.pi"
   ]
  },
  {
   "cell_type": "code",
   "execution_count": 2,
   "id": "072a31ab-20d4-4fab-b16c-17cdc39f60f3",
   "metadata": {},
   "outputs": [
    {
     "ename": "NameError",
     "evalue": "name 'pi' is not defined",
     "output_type": "error",
     "traceback": [
      "\u001b[1;31m---------------------------------------------------------------------------\u001b[0m",
      "\u001b[1;31mNameError\u001b[0m                                 Traceback (most recent call last)",
      "Input \u001b[1;32mIn [2]\u001b[0m, in \u001b[0;36m<cell line: 2>\u001b[1;34m()\u001b[0m\n\u001b[0;32m      1\u001b[0m \u001b[38;5;28;01mimport\u001b[39;00m \u001b[38;5;21;01mmath\u001b[39;00m\n\u001b[1;32m----> 2\u001b[0m \u001b[43mpi\u001b[49m\n",
      "\u001b[1;31mNameError\u001b[0m: name 'pi' is not defined"
     ]
    }
   ],
   "source": [
    "import math\n",
    "pi"
   ]
  },
  {
   "cell_type": "code",
   "execution_count": 4,
   "id": "5cbfab16-2666-4c36-b03a-ec07ed23a8f7",
   "metadata": {},
   "outputs": [
    {
     "data": {
      "text/plain": [
       "3.141592653589793"
      ]
     },
     "execution_count": 4,
     "metadata": {},
     "output_type": "execute_result"
    }
   ],
   "source": [
    "from math import pi\n",
    "pi"
   ]
  },
  {
   "cell_type": "code",
   "execution_count": 5,
   "id": "6ce0413d-9950-420e-b661-ac82975b43f5",
   "metadata": {},
   "outputs": [
    {
     "data": {
      "text/plain": [
       "3.141592653589793"
      ]
     },
     "execution_count": 5,
     "metadata": {},
     "output_type": "execute_result"
    }
   ],
   "source": [
    "from math import *\n",
    "pi"
   ]
  },
  {
   "cell_type": "markdown",
   "id": "d1d42d42",
   "metadata": {},
   "source": [
    "### `#.` 아래의 에러메시지가 나오는 (잘못된) 코드는?"
   ]
  },
  {
   "attachments": {
    "d1afea11-72ba-4483-abe0-cd4c6a8315fa.png": {
     "image/png": "[encoded data removed]"
    }
   },
   "cell_type": "markdown",
   "id": "d7343187",
   "metadata": {},
   "source": [
    "> ![image.png](attachment:d1afea11-72ba-4483-abe0-cd4c6a8315fa.png)"
   ]
  },
  {
   "cell_type": "markdown",
   "id": "adeb20b5",
   "metadata": {},
   "source": [
    "```python\n",
    "(ㄱ) a=3.14; len(3.14) \n",
    "(ㄴ) len([3.14]) \n",
    "(ㄷ) len((3.14,)) \n",
    "(ㄹ) len('3.14') \n",
    "```"
   ]
  },
  {
   "cell_type": "code",
   "execution_count": 6,
   "id": "453b7f95-4ec0-4528-90f8-ae6bc5adb5cb",
   "metadata": {},
   "outputs": [
    {
     "ename": "TypeError",
     "evalue": "object of type 'float' has no len()",
     "output_type": "error",
     "traceback": [
      "\u001b[1;31m---------------------------------------------------------------------------\u001b[0m",
      "\u001b[1;31mTypeError\u001b[0m                                 Traceback (most recent call last)",
      "Input \u001b[1;32mIn [6]\u001b[0m, in \u001b[0;36m<cell line: 1>\u001b[1;34m()\u001b[0m\n\u001b[1;32m----> 1\u001b[0m \u001b[38;5;28;43mlen\u001b[39;49m\u001b[43m(\u001b[49m\u001b[38;5;241;43m3.14\u001b[39;49m\u001b[43m)\u001b[49m\n",
      "\u001b[1;31mTypeError\u001b[0m: object of type 'float' has no len()"
     ]
    }
   ],
   "source": [
    "len(3.14)"
   ]
  },
  {
   "cell_type": "markdown",
   "id": "34277425",
   "metadata": {},
   "source": [
    "### `#.` 아래와 같이 `a`를 선언하였다고 하자. "
   ]
  },
  {
   "cell_type": "markdown",
   "id": "8c1bfaf1",
   "metadata": {},
   "source": [
    "```python\n",
    "a='guebin'\n",
    "```"
   ]
  },
  {
   "cell_type": "markdown",
   "id": "2314f216",
   "metadata": {},
   "source": [
    "### 아래 중 옳은 설명을 **모두** 골라라. "
   ]
  },
  {
   "cell_type": "markdown",
   "id": "ed25cbcc",
   "metadata": {},
   "source": [
    "```\n",
    "(ㄱ) a의 자료형은 str이다. 즉 type(a)의 출력결과는 str이다. \n",
    "(ㄴ) len(a)의 실행결과는 1이다. \n",
    "(ㄷ) a[0]='G'와 같은 방법으로 첫글자를 대문자로 바꿀 수 있다. \n",
    "(ㄹ) a*2의 실행결과는 'guebinguebin'이다. \n",
    "```"
   ]
  },
  {
   "cell_type": "code",
   "execution_count": 10,
   "id": "2f28d18a-d642-43fb-9f79-14028601101f",
   "metadata": {},
   "outputs": [
    {
     "data": {
      "text/plain": [
       "str"
      ]
     },
     "execution_count": 10,
     "metadata": {},
     "output_type": "execute_result"
    }
   ],
   "source": [
    "a = 'guebin'\n",
    "type(a)"
   ]
  },
  {
   "cell_type": "code",
   "execution_count": 11,
   "id": "6f0c4932-718b-449a-8028-66d8f54c6351",
   "metadata": {},
   "outputs": [
    {
     "data": {
      "text/plain": [
       "6"
      ]
     },
     "execution_count": 11,
     "metadata": {},
     "output_type": "execute_result"
    }
   ],
   "source": [
    "len(a)"
   ]
  },
  {
   "cell_type": "code",
   "execution_count": 14,
   "id": "646dc522-ba44-4e12-8379-36d06effb081",
   "metadata": {},
   "outputs": [
    {
     "ename": "TypeError",
     "evalue": "'str' object does not support item assignment",
     "output_type": "error",
     "traceback": [
      "\u001b[1;31m---------------------------------------------------------------------------\u001b[0m",
      "\u001b[1;31mTypeError\u001b[0m                                 Traceback (most recent call last)",
      "Input \u001b[1;32mIn [14]\u001b[0m, in \u001b[0;36m<cell line: 1>\u001b[1;34m()\u001b[0m\n\u001b[1;32m----> 1\u001b[0m a[\u001b[38;5;241m0\u001b[39m] \u001b[38;5;241m=\u001b[39m \u001b[38;5;124m'\u001b[39m\u001b[38;5;124mG\u001b[39m\u001b[38;5;124m'\u001b[39m\n",
      "\u001b[1;31mTypeError\u001b[0m: 'str' object does not support item assignment"
     ]
    }
   ],
   "source": [
    "a[0] = 'G'"
   ]
  },
  {
   "cell_type": "code",
   "execution_count": 15,
   "id": "462b0014-b1e9-4a7c-a31e-183c984321d0",
   "metadata": {},
   "outputs": [
    {
     "data": {
      "text/plain": [
       "'guebinguebin'"
      ]
     },
     "execution_count": 15,
     "metadata": {},
     "output_type": "execute_result"
    }
   ],
   "source": [
    "a*2"
   ]
  },
  {
   "cell_type": "markdown",
   "id": "29c6b034",
   "metadata": {},
   "source": [
    "### `#.` [예제코드]의 결과를 관찰하고 물음에 답하라. "
   ]
  },
  {
   "cell_type": "markdown",
   "id": "562825ce",
   "metadata": {
    "colab": {
     "base_uri": "https://localhost:8080/"
    },
    "id": "1R1VJ1N9HwKE",
    "outputId": "3b14401f-7133-4158-b038-034d64ecba71"
   },
   "source": [
    "```python\n",
    "## 예제코드 ## \n",
    "a=['G','u','e','b','i','n']\n",
    "del a[0]\n",
    "a\n",
    "## 실행결과 \n",
    "['u', 'e', 'b', 'i', 'n']\n",
    "```"
   ]
  },
  {
   "cell_type": "markdown",
   "id": "0706948c",
   "metadata": {
    "id": "EPLZ82oEHyuX"
   },
   "source": [
    "###  `#.` 아래코드의 출력결과 중 올바른 것은? "
   ]
  },
  {
   "cell_type": "markdown",
   "id": "9779609b",
   "metadata": {
    "colab": {
     "base_uri": "https://localhost:8080/"
    },
    "id": "NSEXd4MNH3G4",
    "outputId": "c215dbd5-9890-43f2-f97f-38f830f2dcad"
   },
   "source": [
    "```python\n",
    "b=['1','2','3']\n",
    "del b[-1]\n",
    "b\n",
    "```"
   ]
  },
  {
   "cell_type": "markdown",
   "id": "7210706a",
   "metadata": {},
   "source": [
    "```\n",
    "(ㄱ) ['1', '2']\n",
    "(ㄴ) ['2', '3']\n",
    "(ㄷ) ['1', '3']\n",
    "(ㄹ) 에러메시지로 출력할 수 없음. \n",
    "```"
   ]
  },
  {
   "cell_type": "markdown",
   "id": "4d169444-c027-448c-a5c7-092d29ad9f0e",
   "metadata": {},
   "source": [
    "ㄱ"
   ]
  },
  {
   "cell_type": "markdown",
   "id": "b2f06874",
   "metadata": {},
   "source": [
    "### `#.` 아래의 코드의 출력결과를 쓰라"
   ]
  },
  {
   "cell_type": "markdown",
   "id": "4eed522f",
   "metadata": {},
   "source": [
    "```python\n",
    "x=[]\n",
    "for i in [0,1,2,3,4,5]:\n",
    "    x.append(2**i)\n",
    "x\n",
    "```"
   ]
  },
  {
   "cell_type": "code",
   "execution_count": 2,
   "id": "45eb7ec1-1cec-4aa9-9d06-dc90ba302ef8",
   "metadata": {},
   "outputs": [
    {
     "data": {
      "text/plain": [
       "[1, 2, 4, 8, 16, 32]"
      ]
     },
     "execution_count": 2,
     "metadata": {},
     "output_type": "execute_result"
    }
   ],
   "source": [
    "x=[]\n",
    "for i in [0,1,2,3,4,5]:\n",
    "    x.append(2**i)\n",
    "x"
   ]
  },
  {
   "cell_type": "markdown",
   "id": "d526ed81",
   "metadata": {},
   "source": [
    "### `#.` 리스트 컴프리헨션을 사용하여 아래의 출력결과를 얻는 코드를 작성하라. "
   ]
  },
  {
   "cell_type": "markdown",
   "id": "66fe38eb",
   "metadata": {},
   "source": [
    "```python\n",
    "['X1','X2','X3','Y1','Y2','Y3']\n",
    "```"
   ]
  },
  {
   "cell_type": "code",
   "execution_count": 3,
   "id": "74d7e743-369d-4012-9376-7215bab7c2f1",
   "metadata": {},
   "outputs": [
    {
     "data": {
      "text/plain": [
       "['X1', 'X2', 'X3', 'Y1', 'Y2', 'Y3']"
      ]
     },
     "execution_count": 3,
     "metadata": {},
     "output_type": "execute_result"
    }
   ],
   "source": [
    "[x+y for x in 'XY' for y in '123']"
   ]
  },
  {
   "cell_type": "markdown",
   "id": "27d37f6a",
   "metadata": {},
   "source": [
    "### `#.` a,b에 저장된 두 값을 교환하고 싶다고 하자. 아래의 ???에 알맞은 내용을 적으시오. "
   ]
  },
  {
   "cell_type": "markdown",
   "id": "42b2ead8",
   "metadata": {},
   "source": [
    "```python\n",
    "a=10\n",
    "b=20\n",
    "???\n",
    "a,b\n",
    "## 실행결과\n",
    "(20, 10)\n",
    "```"
   ]
  },
  {
   "cell_type": "code",
   "execution_count": 5,
   "id": "0e838743-0426-4c82-8749-db2720c88f04",
   "metadata": {},
   "outputs": [
    {
     "data": {
      "text/plain": [
       "(20, 10)"
      ]
     },
     "execution_count": 5,
     "metadata": {},
     "output_type": "execute_result"
    }
   ],
   "source": [
    "a=10\n",
    "b=20\n",
    "a, b = b, a\n",
    "a,b"
   ]
  },
  {
   "cell_type": "markdown",
   "id": "26d8093b",
   "metadata": {},
   "source": [
    "### `#.` 아래의 코드에 대한 출력결과를 쓰라. \n",
    "```python\n",
    "idlist=[('guebin', '202112345','M','Korea'), \n",
    "        ('iu', '202154321','F','Korea'), \n",
    "        ('hodong', '201812321','M','Korea')]\n",
    "for name, _, _, _ in idlist: \n",
    "    print(name)        \n",
    "```"
   ]
  },
  {
   "cell_type": "code",
   "execution_count": 6,
   "id": "16d81154-7d76-4b39-9eb6-f2c544ce3e1b",
   "metadata": {},
   "outputs": [
    {
     "name": "stdout",
     "output_type": "stream",
     "text": [
      "guebin\n",
      "iu\n",
      "hodong\n"
     ]
    }
   ],
   "source": [
    "idlist=[('guebin', '202112345','M','Korea'), \n",
    "        ('iu', '202154321','F','Korea'), \n",
    "        ('hodong', '201812321','M','Korea')]\n",
    "for name, _, _, _ in idlist: \n",
    "    print(name)  "
   ]
  },
  {
   "cell_type": "markdown",
   "id": "a24177da",
   "metadata": {},
   "source": [
    "### `#.` 리스트를 활용하여 아래와 같은 배열을 만들었다고 하자. "
   ]
  },
  {
   "cell_type": "markdown",
   "id": "728cc41e",
   "metadata": {},
   "source": [
    "```python\n",
    "a=[[11,12,13], \n",
    "   [21,22,23], \n",
    "   [31,32,33]]\n",
    "```"
   ]
  },
  {
   "cell_type": "markdown",
   "id": "30039287",
   "metadata": {},
   "source": [
    "### `(a)` 아래코드의 시행결과를 쓰라. "
   ]
  },
  {
   "cell_type": "markdown",
   "id": "1443522b",
   "metadata": {},
   "source": [
    "```python\n",
    "a[0][1]+a[1][2]\n",
    "```"
   ]
  },
  {
   "cell_type": "code",
   "execution_count": 8,
   "id": "82c048d3-fb71-4058-bf30-62984d2d24e9",
   "metadata": {},
   "outputs": [
    {
     "data": {
      "text/plain": [
       "35"
      ]
     },
     "execution_count": 8,
     "metadata": {},
     "output_type": "execute_result"
    }
   ],
   "source": [
    "a=[[11,12,13], \n",
    "   [21,22,23], \n",
    "   [31,32,33]]\n",
    "a[0][1]+a[1][2]"
   ]
  },
  {
   "cell_type": "markdown",
   "id": "004887e4",
   "metadata": {},
   "source": [
    "### `(b)` 아래코드의 시행결과를 쓰라. \n",
    "```python\n",
    "a[0]+a[1]\n",
    "```"
   ]
  },
  {
   "cell_type": "code",
   "execution_count": 9,
   "id": "d65fa4d6-2a2b-45a6-9dbb-cdf618fd0a22",
   "metadata": {},
   "outputs": [
    {
     "data": {
      "text/plain": [
       "[11, 12, 13, 21, 22, 23]"
      ]
     },
     "execution_count": 9,
     "metadata": {},
     "output_type": "execute_result"
    }
   ],
   "source": [
    "a[0]+a[1]"
   ]
  },
  {
   "cell_type": "markdown",
   "id": "851a64a3",
   "metadata": {},
   "source": [
    "### `(b)` 아래코드의 시행결과를 쓰라. \n",
    "```python\n",
    "import numpy as np\n",
    "a=np.array(a)\n",
    "a[0]+a[1]\n",
    "```"
   ]
  },
  {
   "cell_type": "code",
   "execution_count": 10,
   "id": "3b5bd99d-9998-4b3a-ae89-5d943ac293c4",
   "metadata": {},
   "outputs": [
    {
     "data": {
      "text/plain": [
       "array([32, 34, 36])"
      ]
     },
     "execution_count": 10,
     "metadata": {},
     "output_type": "execute_result"
    }
   ],
   "source": [
    "import numpy as np\n",
    "a=np.array(a)\n",
    "a[0]+a[1]"
   ]
  },
  {
   "cell_type": "markdown",
   "id": "0efd399e",
   "metadata": {},
   "source": [
    "### `#.` "
   ]
  },
  {
   "cell_type": "markdown",
   "id": "394d374f",
   "metadata": {
    "id": "zsjvKylnO3Pt"
   },
   "source": [
    "아래와 같은 연립방정식을 만족하는 해 $(w,x,y,z)$를 푸는 코드를 작성하라. \n",
    "\n",
    "$\\begin{cases}\n",
    "x+y+z=3 \\\\ \n",
    "w+y+z=3 \\\\\n",
    "w+x+z=3 \\\\\n",
    "w+x+y=3 \n",
    "\\end{cases}$"
   ]
  },
  {
   "cell_type": "code",
   "execution_count": 21,
   "id": "0128715e-c993-4304-bc2b-ab66b79b0d0c",
   "metadata": {},
   "outputs": [
    {
     "data": {
      "text/plain": [
       "array([[1.],\n",
       "       [1.],\n",
       "       [1.],\n",
       "       [1.]])"
      ]
     },
     "execution_count": 21,
     "metadata": {},
     "output_type": "execute_result"
    }
   ],
   "source": [
    "A = np.array([[1,1,1,0],\n",
    "              [0,1,1,1],\n",
    "              [1,0,1,1],\n",
    "              [1,1,0,1]])\n",
    "b = np.array([3,3,3,3]).reshape(4,-1)\n",
    "\n",
    "np.linalg.inv(A) @ b"
   ]
  },
  {
   "cell_type": "markdown",
   "id": "11d96ce1",
   "metadata": {},
   "source": [
    "### `#.` 아래와 같은 행렬을 `numpy`를 이용하여 선언했다고 하자. "
   ]
  },
  {
   "cell_type": "markdown",
   "id": "5464cd93",
   "metadata": {},
   "source": [
    "```python\n",
    "import numpy as np\n",
    "A=np.array([[11,12,13,14,15],\n",
    "            [21,22,23,24,25],\n",
    "            [31,32,33,34,35]])\n",
    "```"
   ]
  },
  {
   "cell_type": "markdown",
   "id": "88c62ad5",
   "metadata": {},
   "source": [
    "### `(a)` 다음 코드의 실행결과로 적절한 것은? "
   ]
  },
  {
   "cell_type": "markdown",
   "id": "53f4aa42",
   "metadata": {},
   "source": [
    "```python\n",
    "A[1]\n",
    "```\n",
    "```\n",
    "(ㄱ) array([11, 12, 13, 14, 15])\n",
    "(ㄴ) array([21, 22, 23, 24, 25])\n",
    "(ㄷ) array([11, 21, 31])\n",
    "(ㄹ) array([12, 22, 32])\n",
    "```"
   ]
  },
  {
   "cell_type": "code",
   "execution_count": 22,
   "id": "558f22d8-ee5f-444d-98a6-1cb13c18e415",
   "metadata": {},
   "outputs": [
    {
     "data": {
      "text/plain": [
       "array([21, 22, 23, 24, 25])"
      ]
     },
     "execution_count": 22,
     "metadata": {},
     "output_type": "execute_result"
    }
   ],
   "source": [
    "\n",
    "import numpy as np\n",
    "A=np.array([[11,12,13,14,15],\n",
    "            [21,22,23,24,25],\n",
    "            [31,32,33,34,35]])\n",
    "A[1]"
   ]
  },
  {
   "cell_type": "markdown",
   "id": "c2c7e10a",
   "metadata": {},
   "source": [
    "### `(b)` 다음 코드의 실행결과로 적절한 것은? "
   ]
  },
  {
   "cell_type": "markdown",
   "id": "9a5e9024",
   "metadata": {},
   "source": [
    "```python\n",
    "A[1,:]\n",
    "```\n",
    "```\n",
    "(ㄱ) array([11, 12, 13, 14, 15])\n",
    "(ㄴ) array([21, 22, 23, 24, 25])\n",
    "(ㄷ) array([11, 21, 31])\n",
    "(ㄹ) array([12, 22, 32])\n",
    "```"
   ]
  },
  {
   "cell_type": "code",
   "execution_count": 24,
   "id": "93521f65-adde-417b-98b3-ed443b6a8ca8",
   "metadata": {},
   "outputs": [
    {
     "data": {
      "text/plain": [
       "array([21, 22, 23, 24, 25])"
      ]
     },
     "execution_count": 24,
     "metadata": {},
     "output_type": "execute_result"
    }
   ],
   "source": [
    "A[1,:]"
   ]
  },
  {
   "cell_type": "markdown",
   "id": "ae396d28",
   "metadata": {},
   "source": [
    "### `(c)` 다음 코드의 실행결과로 적절한 것은? "
   ]
  },
  {
   "cell_type": "markdown",
   "id": "da79be86",
   "metadata": {},
   "source": [
    "```python\n",
    "A[np.ix_([0,1],[0,1])]\n",
    "```\n",
    "```\n",
    "(ㄱ)\n",
    "array([[11, 12],\n",
    "       [21, 22]]) \n",
    "(ㄴ) \n",
    "array([[11, 21],\n",
    "       [12, 22]]) \n",
    "(ㄷ) \n",
    "array([11, 12, 21, 22]) \n",
    "\n",
    "(ㄹ) \n",
    "array([12, 22, 11, 12])\n",
    "```"
   ]
  },
  {
   "cell_type": "code",
   "execution_count": 25,
   "id": "b22ce506-243b-48d5-92d0-e0bdc3ae4c04",
   "metadata": {},
   "outputs": [
    {
     "data": {
      "text/plain": [
       "array([[11, 12],\n",
       "       [21, 22]])"
      ]
     },
     "execution_count": 25,
     "metadata": {},
     "output_type": "execute_result"
    }
   ],
   "source": [
    "A[np.ix_([0,1],[0,1])]"
   ]
  },
  {
   "cell_type": "markdown",
   "id": "9d197e89",
   "metadata": {},
   "source": [
    "### `#.` 적당한 과정을 통하여 아래와 같은 데이터를 얻었다고 가정하자. "
   ]
  },
  {
   "cell_type": "markdown",
   "id": "80657797",
   "metadata": {},
   "source": [
    "```python\n",
    "import pandas as pd\n",
    "#...적당한과정...\n",
    "df\n",
    "```"
   ]
  },
  {
   "attachments": {
    "61f5ad0b-4481-4ede-96c4-3404a6101c85.png": {
     "image/png": "[encoded data removed]"
    }
   },
   "cell_type": "markdown",
   "id": "6f7105ef",
   "metadata": {},
   "source": [
    "> ![image.png](attachment:61f5ad0b-4481-4ede-96c4-3404a6101c85.png)"
   ]
  },
  {
   "cell_type": "code",
   "execution_count": 29,
   "id": "1c97f0ea-b875-45df-a310-7df6bccb628c",
   "metadata": {},
   "outputs": [
    {
     "data": {
      "text/html": [
       "<div>\n",
       "<style scoped>\n",
       "    .dataframe tbody tr th:only-of-type {\n",
       "        vertical-align: middle;\n",
       "    }\n",
       "\n",
       "    .dataframe tbody tr th {\n",
       "        vertical-align: top;\n",
       "    }\n",
       "\n",
       "    .dataframe thead th {\n",
       "        text-align: right;\n",
       "    }\n",
       "</style>\n",
       "<table border=\"1\" class=\"dataframe\">\n",
       "  <thead>\n",
       "    <tr style=\"text-align: right;\">\n",
       "      <th></th>\n",
       "      <th>0</th>\n",
       "      <th>1</th>\n",
       "      <th>2</th>\n",
       "    </tr>\n",
       "  </thead>\n",
       "  <tbody>\n",
       "    <tr>\n",
       "      <th>0</th>\n",
       "      <td>30.0</td>\n",
       "      <td>600.0</td>\n",
       "      <td>4.0</td>\n",
       "    </tr>\n",
       "    <tr>\n",
       "      <th>1</th>\n",
       "      <td>20.0</td>\n",
       "      <td>950.0</td>\n",
       "      <td>4.2</td>\n",
       "    </tr>\n",
       "    <tr>\n",
       "      <th>2</th>\n",
       "      <td>28.0</td>\n",
       "      <td>450.0</td>\n",
       "      <td>2.3</td>\n",
       "    </tr>\n",
       "    <tr>\n",
       "      <th>3</th>\n",
       "      <td>28.0</td>\n",
       "      <td>650.0</td>\n",
       "      <td>3.8</td>\n",
       "    </tr>\n",
       "  </tbody>\n",
       "</table>\n",
       "</div>"
      ],
      "text/plain": [
       "      0      1    2\n",
       "0  30.0  600.0  4.0\n",
       "1  20.0  950.0  4.2\n",
       "2  28.0  450.0  2.3\n",
       "3  28.0  650.0  3.8"
      ]
     },
     "execution_count": 29,
     "metadata": {},
     "output_type": "execute_result"
    }
   ],
   "source": [
    "import pandas as pd\n",
    "import numpy as np\n",
    "\n",
    "A = np.array([[30, 600, 4],\n",
    "          [20, 950, 4.2],\n",
    "          [28, 450, 2.3],\n",
    "          [28,650, 3.8]])\n",
    "df = pd.DataFrame(A)\n",
    "df"
   ]
  },
  {
   "cell_type": "markdown",
   "id": "44e40b40",
   "metadata": {},
   "source": [
    "### `(a)` 첫 두열(age,toeic)에 접근하는 코드를 써라. "
   ]
  },
  {
   "cell_type": "code",
   "execution_count": 34,
   "id": "839a43af-e802-4890-9cbb-249c7d846217",
   "metadata": {},
   "outputs": [
    {
     "data": {
      "text/html": [
       "<div>\n",
       "<style scoped>\n",
       "    .dataframe tbody tr th:only-of-type {\n",
       "        vertical-align: middle;\n",
       "    }\n",
       "\n",
       "    .dataframe tbody tr th {\n",
       "        vertical-align: top;\n",
       "    }\n",
       "\n",
       "    .dataframe thead th {\n",
       "        text-align: right;\n",
       "    }\n",
       "</style>\n",
       "<table border=\"1\" class=\"dataframe\">\n",
       "  <thead>\n",
       "    <tr style=\"text-align: right;\">\n",
       "      <th></th>\n",
       "      <th>0</th>\n",
       "      <th>1</th>\n",
       "    </tr>\n",
       "  </thead>\n",
       "  <tbody>\n",
       "    <tr>\n",
       "      <th>0</th>\n",
       "      <td>30.0</td>\n",
       "      <td>600.0</td>\n",
       "    </tr>\n",
       "    <tr>\n",
       "      <th>1</th>\n",
       "      <td>20.0</td>\n",
       "      <td>950.0</td>\n",
       "    </tr>\n",
       "    <tr>\n",
       "      <th>2</th>\n",
       "      <td>28.0</td>\n",
       "      <td>450.0</td>\n",
       "    </tr>\n",
       "    <tr>\n",
       "      <th>3</th>\n",
       "      <td>28.0</td>\n",
       "      <td>650.0</td>\n",
       "    </tr>\n",
       "  </tbody>\n",
       "</table>\n",
       "</div>"
      ],
      "text/plain": [
       "      0      1\n",
       "0  30.0  600.0\n",
       "1  20.0  950.0\n",
       "2  28.0  450.0\n",
       "3  28.0  650.0"
      ]
     },
     "execution_count": 34,
     "metadata": {},
     "output_type": "execute_result"
    }
   ],
   "source": [
    "df.iloc[:, [0,1]]"
   ]
  },
  {
   "cell_type": "markdown",
   "id": "0b01c408",
   "metadata": {},
   "source": [
    "### `(b)` 토익점수가 800이상인 사람을 불러오는 코드를 써라. "
   ]
  },
  {
   "cell_type": "code",
   "execution_count": 39,
   "id": "ddb58f69-1cc4-463f-b2c0-308ea3d76452",
   "metadata": {},
   "outputs": [
    {
     "data": {
      "text/html": [
       "<div>\n",
       "<style scoped>\n",
       "    .dataframe tbody tr th:only-of-type {\n",
       "        vertical-align: middle;\n",
       "    }\n",
       "\n",
       "    .dataframe tbody tr th {\n",
       "        vertical-align: top;\n",
       "    }\n",
       "\n",
       "    .dataframe thead th {\n",
       "        text-align: right;\n",
       "    }\n",
       "</style>\n",
       "<table border=\"1\" class=\"dataframe\">\n",
       "  <thead>\n",
       "    <tr style=\"text-align: right;\">\n",
       "      <th></th>\n",
       "      <th>0</th>\n",
       "      <th>1</th>\n",
       "      <th>2</th>\n",
       "    </tr>\n",
       "  </thead>\n",
       "  <tbody>\n",
       "    <tr>\n",
       "      <th>1</th>\n",
       "      <td>20.0</td>\n",
       "      <td>950.0</td>\n",
       "      <td>4.2</td>\n",
       "    </tr>\n",
       "  </tbody>\n",
       "</table>\n",
       "</div>"
      ],
      "text/plain": [
       "      0      1    2\n",
       "1  20.0  950.0  4.2"
      ]
     },
     "execution_count": 39,
     "metadata": {},
     "output_type": "execute_result"
    }
   ],
   "source": [
    "df[df.iloc[:, 1] > 800]"
   ]
  },
  {
   "cell_type": "markdown",
   "id": "7b34497c",
   "metadata": {},
   "source": [
    "### `(c)` 세번째 열(gpa)에 접근하는 코드 중 적절한 것을 모두 골라라. \n",
    "```python\n",
    "(ㄱ) \n",
    "df.loc['gpa']\n",
    "(ㄴ) \n",
    "df.iloc[:,2]\n",
    "(ㄷ) \n",
    "df.iloc[:,-1]\n",
    "(ㄹ) \n",
    "df.iloc[2]\n",
    "```"
   ]
  },
  {
   "cell_type": "markdown",
   "id": "db745616-3235-402b-97e5-468d4db41fd7",
   "metadata": {},
   "source": [
    "ㄱ,ㄴ,ㄷ"
   ]
  },
  {
   "cell_type": "markdown",
   "id": "53b296d2",
   "metadata": {},
   "source": [
    "### `#.` 아래를 보고 적절한 설명을 한 사람을 모두 고르라. "
   ]
  },
  {
   "attachments": {
    "d7620e36-f8b7-45b2-8f5e-b0d7144f86a9.png": {
     "image/png": "[encoded data removed]"
    }
   },
   "cell_type": "markdown",
   "id": "6ae91e41",
   "metadata": {},
   "source": [
    "> ![image.png](attachment:d7620e36-f8b7-45b2-8f5e-b0d7144f86a9.png)"
   ]
  },
  {
   "cell_type": "markdown",
   "id": "8bf0a473",
   "metadata": {},
   "source": [
    "> **(로이)** `import vec`이 실행되는 것을 보니 (1) 사용자가 `vec`이라는 패키지를 설치했거나 (2) 사용자가 현재 작업중인 폴더에 `vec.py`파일을 만들었거나 (3) 사용자가 현재 작업중인 폴더 아래 `vec`이라는 폴더가 존재하는 경우등 중 하나라고 볼 수 있겠군. "
   ]
  },
  {
   "cell_type": "markdown",
   "id": "fac36b1b",
   "metadata": {},
   "source": [
    "> **(이서)** 네, 그런데 `vec?`의 실행 결과중 `File:`을 확인해 보니 사용자가 작업중인 폴더아래 `vec`이라는 폴더가 있는것으로 판단됩니다. "
   ]
  },
  {
   "cell_type": "markdown",
   "id": "7a9edf19",
   "metadata": {},
   "source": [
    "> **(일권)** 이서가 말한대로 `File:`을 확인해보니 사용자가 `vec`폴더에 `__init__.py`도 만들어 놓았음을 알수 있군. `__init__.py`는 `import vec`을 수행하면 암시적으로 실행된다고 했었지? "
   ]
  },
  {
   "cell_type": "markdown",
   "id": "e621c580",
   "metadata": {},
   "source": [
    "> **(현이)** 그렇지, 그런데 사실 파일 이름이 꼭 `__init__.py`이어야 하는것은 아니야. "
   ]
  },
  {
   "cell_type": "markdown",
   "id": "5098e4a9",
   "metadata": {},
   "source": [
    "> **(수아)** `vec?`의 실행결과 `Docstring:`이 있는것으로 보아 `__init__.py`상단에 아래와 같은 내용이 있음을 유추할 수 있어. \n",
    "```python\n",
    "'''\n",
    "이 패키지는 현재 길이가 2,3인 벡터의 연산만 지원하지만 추후 업데이트하여 더욱 발전할 예정\n",
    "'''\n",
    "```"
   ]
  },
  {
   "cell_type": "markdown",
   "id": "81469fbb-b266-4edc-a689-02fffcac7b9a",
   "metadata": {},
   "source": [
    "로이, 이서, 일권"
   ]
  },
  {
   "cell_type": "code",
   "execution_count": null,
   "id": "91a16e6b-2e81-4a7b-9f66-a7b0d0645714",
   "metadata": {},
   "outputs": [],
   "source": []
  }
 ],
 "metadata": {
  "kernelspec": {
   "display_name": "Python 3 (ipykernel)",
   "language": "python",
   "name": "python3"
  },
  "language_info": {
   "codemirror_mode": {
    "name": "ipython",
    "version": 3
   },
   "file_extension": ".py",
   "mimetype": "text/x-python",
   "name": "python",
   "nbconvert_exporter": "python",
   "pygments_lexer": "ipython3",
   "version": "3.9.7"
  }
 },
 "nbformat": 4,
 "nbformat_minor": 5
}
