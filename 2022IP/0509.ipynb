{
 "cells": [
  {
   "cell_type": "markdown",
   "id": "5ee012f8-4edc-4c20-8847-f6076d263b0f",
   "metadata": {},
   "source": [
    "## 멈춰! "
   ]
  },
  {
   "cell_type": "code",
   "execution_count": 1,
   "id": "19b7c582-8792-4c95-b717-32e6ee1cde84",
   "metadata": {},
   "outputs": [],
   "source": [
    "from IPython.core.display import HTML"
   ]
  },
  {
   "cell_type": "code",
   "execution_count": 4,
   "id": "ca4ac960-7d28-4b5b-98f6-6f901ca42428",
   "metadata": {},
   "outputs": [
    {
     "data": {
      "text/plain": [
       "'제 이름은 조미선입니다'"
      ]
     },
     "execution_count": 4,
     "metadata": {},
     "output_type": "execute_result"
    }
   ],
   "source": [
    "'제 이름은 {}입니다'.format('조미선')"
   ]
  },
  {
   "cell_type": "code",
   "execution_count": 5,
   "id": "1c635c69-8fda-42c2-90e0-d46075d2626b",
   "metadata": {},
   "outputs": [
    {
     "data": {
      "text/plain": [
       "'제 이름은 조미선이고 사는 곳은 서울입니다.'"
      ]
     },
     "execution_count": 5,
     "metadata": {},
     "output_type": "execute_result"
    }
   ],
   "source": [
    "'제 이름은 {}이고 사는 곳은 {}입니다.'.format('조미선', '서울')"
   ]
  },
  {
   "cell_type": "code",
   "execution_count": 7,
   "id": "5284b8f6-96b2-4555-9a5b-3a3dc242f56a",
   "metadata": {},
   "outputs": [
    {
     "data": {
      "text/plain": [
       "'제 이름은 조미선이고 사는 곳은 전주입니다.'"
      ]
     },
     "execution_count": 7,
     "metadata": {},
     "output_type": "execute_result"
    }
   ],
   "source": [
    "'제 이름은 {name}이고 사는 곳은 {add}입니다.'.format(add='전주', name='조미선')"
   ]
  },
  {
   "cell_type": "markdown",
   "id": "1922dd81-813f-44da-a51b-5fe30a5b0a04",
   "metadata": {},
   "source": [
    "## HTML"
   ]
  },
  {
   "cell_type": "code",
   "execution_count": 11,
   "id": "94fe478b-a8eb-4d6e-8691-af6fc7a154fc",
   "metadata": {},
   "outputs": [
    {
     "data": {
      "text/html": [
       "<p> 이름 </p>"
      ],
      "text/plain": [
       "<IPython.core.display.HTML object>"
      ]
     },
     "execution_count": 11,
     "metadata": {},
     "output_type": "execute_result"
    }
   ],
   "source": [
    "HTML('<p> 이름 </p>')"
   ]
  },
  {
   "cell_type": "markdown",
   "id": "c71da20c-9c99-4c8f-9876-e12e4d2be06a",
   "metadata": {},
   "source": [
    "## HTML을 이용한 밈 생성"
   ]
  },
  {
   "cell_type": "markdown",
   "id": "053b6a2f-e803-48a0-8ae3-cc5d64e2bbbb",
   "metadata": {},
   "source": [
    "`-` 밈을 위한 이미지 주소"
   ]
  },
  {
   "cell_type": "code",
   "execution_count": 12,
   "id": "3676b14e-2c45-4d0a-9cc3-3547aa28f58a",
   "metadata": {},
   "outputs": [],
   "source": [
    "url1 = 'https://github.com/guebin/IP2022/blob/master/_notebooks/2022-05-07-stop1.jpeg?raw=true'\n",
    "url2 = 'https://github.com/guebin/IP2022/blob/master/_notebooks/2022-05-07-stop2.png?raw=true'"
   ]
  },
  {
   "cell_type": "markdown",
   "id": "20ae1278-7ad9-4222-9941-9958a2334e3f",
   "metadata": {},
   "source": [
    "`-` 예제1: 원본"
   ]
  },
  {
   "cell_type": "code",
   "execution_count": 31,
   "id": "1f94aa3a-f203-4cdb-a7d7-45618e9dd1c9",
   "metadata": {},
   "outputs": [
    {
     "data": {
      "text/html": [
       "<p> 학교폭력 </p> <img src = https://github.com/guebin/IP2022/blob/master/_notebooks/2022-05-07-stop1.jpeg?raw=true> <p> 멈춰~~~~ </p>"
      ],
      "text/plain": [
       "<IPython.core.display.HTML object>"
      ]
     },
     "execution_count": 31,
     "metadata": {},
     "output_type": "execute_result"
    }
   ],
   "source": [
    "htmlstr = \"<p> {title} </p> <img src = {url}> <p> {end} </p>\"\n",
    "HTML(htmlstr.format(title = '학교폭력', url = url1, end = '멈춰~~~~'))"
   ]
  },
  {
   "cell_type": "code",
   "execution_count": 32,
   "id": "d194f6c8-4a89-4462-a6ca-1c504c7bfdd4",
   "metadata": {},
   "outputs": [
    {
     "data": {
      "text/html": [
       "<p> 코스피 하락 </p> <img src = https://github.com/guebin/IP2022/blob/master/_notebooks/2022-05-07-stop1.jpeg?raw=true> <p> 멈춰~~~~ </p>"
      ],
      "text/plain": [
       "<IPython.core.display.HTML object>"
      ]
     },
     "execution_count": 32,
     "metadata": {},
     "output_type": "execute_result"
    }
   ],
   "source": [
    "htmlstr = \"<p> {title} </p> <img src = {url}> <p> {end} </p>\"\n",
    "HTML(htmlstr.format(title = '코스피 하락', url = url1, end = '멈춰~~~~'))"
   ]
  },
  {
   "cell_type": "code",
   "execution_count": 28,
   "id": "7620473f-bf14-4f0c-bbbe-ed634971b914",
   "metadata": {},
   "outputs": [
    {
     "data": {
      "text/html": [
       "<p> 수강신청 매크로 </p> <img src = https://github.com/guebin/IP2022/blob/master/_notebooks/2022-05-07-stop1.jpeg?raw=true> <p> 멈춰~~~~ </p>"
      ],
      "text/plain": [
       "<IPython.core.display.HTML object>"
      ]
     },
     "execution_count": 28,
     "metadata": {},
     "output_type": "execute_result"
    }
   ],
   "source": [
    "htmlstr = \"<p> {title} </p> <img src = {url}> <p> {end} </p>\"\n",
    "HTML(htmlstr.format(title = '수강신청 매크로', url = url1, end = '멈춰~~~~'))"
   ]
  },
  {
   "cell_type": "markdown",
   "id": "40314ec5-54a9-4f3a-88fa-b25b09801cf5",
   "metadata": {},
   "source": [
    "### 함수를 만들어 코드를 관리"
   ]
  },
  {
   "cell_type": "code",
   "execution_count": 49,
   "id": "0c160b56-ce69-4a34-a9f0-171ceb7c0712",
   "metadata": {},
   "outputs": [],
   "source": [
    "def stop():\n",
    "    htmlstr = \"<p> {title} </p> <img src = '{url}'> <p> {end} </p>\"\n",
    "    display(HTML(htmlstr.format(title = ttl, url = url, end = end)))"
   ]
  },
  {
   "cell_type": "code",
   "execution_count": 50,
   "id": "520b5e52-3ad6-462e-b23f-26133d1221d5",
   "metadata": {},
   "outputs": [
    {
     "data": {
      "text/html": [
       "<p> 학교폭력 </p> <img src = 'https://github.com/guebin/IP2022/blob/master/_notebooks/2022-05-07-stop1.jpeg?raw=true'> <p> 멈춰~~~~ </p>"
      ],
      "text/plain": [
       "<IPython.core.display.HTML object>"
      ]
     },
     "metadata": {},
     "output_type": "display_data"
    }
   ],
   "source": [
    "ttl = '학교폭력'\n",
    "url = url1\n",
    "end = '멈춰~~~~'\n",
    "stop()"
   ]
  },
  {
   "cell_type": "code",
   "execution_count": 51,
   "id": "b11058c4-b6fd-4f32-b40b-973f09a5cbbc",
   "metadata": {},
   "outputs": [
    {
     "data": {
      "text/html": [
       "<p> 코스피하락 </p> <img src = 'https://github.com/guebin/IP2022/blob/master/_notebooks/2022-05-07-stop1.jpeg?raw=true'> <p> 멈춰~~~~ </p>"
      ],
      "text/plain": [
       "<IPython.core.display.HTML object>"
      ]
     },
     "metadata": {},
     "output_type": "display_data"
    }
   ],
   "source": [
    "ttl = '코스피하락'\n",
    "url = url1\n",
    "end = '멈춰~~~~'\n",
    "stop()"
   ]
  },
  {
   "cell_type": "code",
   "execution_count": 52,
   "id": "a930252f-0a74-4a30-aa6b-a3b49a2f7b5e",
   "metadata": {},
   "outputs": [
    {
     "data": {
      "text/html": [
       "<p> 수강신청 매크로 </p> <img src = 'https://github.com/guebin/IP2022/blob/master/_notebooks/2022-05-07-stop1.jpeg?raw=true'> <p> 멈춰~~~~ </p>"
      ],
      "text/plain": [
       "<IPython.core.display.HTML object>"
      ]
     },
     "metadata": {},
     "output_type": "display_data"
    }
   ],
   "source": [
    "ttl = '수강신청 매크로'\n",
    "url = url1\n",
    "end = '멈춰~~~~'\n",
    "stop()"
   ]
  },
  {
   "cell_type": "code",
   "execution_count": 53,
   "id": "558377f7-74c4-4700-9299-b139c209c9a6",
   "metadata": {},
   "outputs": [
    {
     "data": {
      "text/html": [
       "<p> KOSPI하락 </p> <img src = 'https://github.com/guebin/IP2022/blob/master/_notebooks/2022-05-07-stop2.png?raw=true'> <p> 멈춰!!!!! </p>"
      ],
      "text/plain": [
       "<IPython.core.display.HTML object>"
      ]
     },
     "metadata": {},
     "output_type": "display_data"
    }
   ],
   "source": [
    "ttl = 'KOSPI하락'\n",
    "url = url2\n",
    "end = '멈춰!!!!!'\n",
    "stop()"
   ]
  },
  {
   "cell_type": "markdown",
   "id": "ee1472ec-ae9d-411c-a900-33b6dc55807d",
   "metadata": {},
   "source": [
    "### 클래스를 이용해 동시관리"
   ]
  },
  {
   "cell_type": "code",
   "execution_count": 57,
   "id": "9889d457-6e59-44be-af54-d63bf53a1f7a",
   "metadata": {},
   "outputs": [],
   "source": [
    "class STOOOP: # STOOOP은 양식문서의 이름이라 생각할 수 있다.\n",
    "    title = '학교폭력'\n",
    "    url = url1\n",
    "    end = '멈춰~~~~'\n",
    "    def stop(self): ## 규칙1: class안에서 정의된 함수는 첫 번째 입력으로 무조건 self\n",
    "        htmlstr = \"<p> {title} </p> <img src = '{url}'> <p> {end} </p>\"\n",
    "        display(HTML(htmlstr.format(title = self.title, url = self.url, end = self.end)))\n",
    "        ## 규칙2: class안에서 정의된 변수 (title, url, end)를 쓰려면 'self.변수이름'의 형태로 써야함.\n",
    "        "
   ]
  },
  {
   "cell_type": "code",
   "execution_count": 58,
   "id": "3ad8040f-b4b8-4a3e-bdea-c3be4eb62ad0",
   "metadata": {},
   "outputs": [],
   "source": [
    "school = STOOOP()"
   ]
  },
  {
   "cell_type": "code",
   "execution_count": 59,
   "id": "4fbca625-8796-4cae-b93d-89a9026c48de",
   "metadata": {},
   "outputs": [
    {
     "data": {
      "text/plain": [
       "'학교폭력'"
      ]
     },
     "execution_count": 59,
     "metadata": {},
     "output_type": "execute_result"
    }
   ],
   "source": [
    "school.title"
   ]
  },
  {
   "cell_type": "code",
   "execution_count": 60,
   "id": "c48bec32-ecba-4d7d-9083-69e3ff82200d",
   "metadata": {},
   "outputs": [
    {
     "data": {
      "text/plain": [
       "'멈춰~~~~'"
      ]
     },
     "execution_count": 60,
     "metadata": {},
     "output_type": "execute_result"
    }
   ],
   "source": [
    "school.end"
   ]
  },
  {
   "cell_type": "code",
   "execution_count": 61,
   "id": "72310d51-bd60-4ca4-8ba9-e790fa4b28e0",
   "metadata": {},
   "outputs": [
    {
     "data": {
      "text/html": [
       "<p> 학교폭력 </p> <img src = 'https://github.com/guebin/IP2022/blob/master/_notebooks/2022-05-07-stop1.jpeg?raw=true'> <p> 멈춰~~~~ </p>"
      ],
      "text/plain": [
       "<IPython.core.display.HTML object>"
      ]
     },
     "metadata": {},
     "output_type": "display_data"
    }
   ],
   "source": [
    "school.stop()"
   ]
  },
  {
   "cell_type": "code",
   "execution_count": 62,
   "id": "03de797f-ba49-44bf-aca3-601c0abd6452",
   "metadata": {},
   "outputs": [],
   "source": [
    "kospi = STOOOP()\n",
    "kospi.title = '코스피하락'"
   ]
  },
  {
   "cell_type": "code",
   "execution_count": 63,
   "id": "9b41fec0-1a93-4126-8b52-e1307f2147e2",
   "metadata": {},
   "outputs": [
    {
     "data": {
      "text/plain": [
       "'코스피하락'"
      ]
     },
     "execution_count": 63,
     "metadata": {},
     "output_type": "execute_result"
    }
   ],
   "source": [
    "kospi.title"
   ]
  },
  {
   "cell_type": "code",
   "execution_count": 64,
   "id": "9c2d111e-7e81-4677-8b44-199c8e05a850",
   "metadata": {},
   "outputs": [
    {
     "data": {
      "text/html": [
       "<p> 코스피하락 </p> <img src = 'https://github.com/guebin/IP2022/blob/master/_notebooks/2022-05-07-stop1.jpeg?raw=true'> <p> 멈춰~~~~ </p>"
      ],
      "text/plain": [
       "<IPython.core.display.HTML object>"
      ]
     },
     "metadata": {},
     "output_type": "display_data"
    }
   ],
   "source": [
    "kospi.stop()"
   ]
  },
  {
   "cell_type": "code",
   "execution_count": 66,
   "id": "33cd9c36-1dae-45a0-bc35-61b96b648cc2",
   "metadata": {},
   "outputs": [
    {
     "data": {
      "text/plain": [
       "'https://github.com/guebin/IP2022/blob/master/_notebooks/2022-05-07-stop1.jpeg?raw=true'"
      ]
     },
     "execution_count": 66,
     "metadata": {},
     "output_type": "execute_result"
    }
   ],
   "source": [
    "school.url"
   ]
  },
  {
   "cell_type": "markdown",
   "id": "96065bbe-a137-4f08-b298-62ea556decb2",
   "metadata": {},
   "source": [
    "# 숙제"
   ]
  },
  {
   "cell_type": "code",
   "execution_count": 70,
   "id": "b94c64e4-cac0-4fac-9e5b-6668dd2a5b0f",
   "metadata": {},
   "outputs": [
    {
     "data": {
      "text/html": [
       "<p> 학교폭력 </p> <img src = 'https://github.com/guebin/IP2022/blob/master/_notebooks/2022-05-07-stop2.png?raw=true'> <p> 멈춰~~~~ </p>"
      ],
      "text/plain": [
       "<IPython.core.display.HTML object>"
      ]
     },
     "metadata": {},
     "output_type": "display_data"
    }
   ],
   "source": [
    "macro = STOOOP()\n",
    "macro.url = url2\n",
    "macro.stop()"
   ]
  },
  {
   "cell_type": "code",
   "execution_count": null,
   "id": "6287e9d2-59ea-41c1-97f7-3a4285f0191f",
   "metadata": {},
   "outputs": [],
   "source": []
  }
 ],
 "metadata": {
  "kernelspec": {
   "display_name": "Python 3 (ipykernel)",
   "language": "python",
   "name": "python3"
  },
  "language_info": {
   "codemirror_mode": {
    "name": "ipython",
    "version": 3
   },
   "file_extension": ".py",
   "mimetype": "text/x-python",
   "name": "python",
   "nbconvert_exporter": "python",
   "pygments_lexer": "ipython3",
   "version": "3.9.7"
  }
 },
 "nbformat": 4,
 "nbformat_minor": 5
}
