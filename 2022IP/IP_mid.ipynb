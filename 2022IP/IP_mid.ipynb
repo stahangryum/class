{
 "cells": [
  {
   "cell_type": "markdown",
   "id": "706c4d2c",
   "metadata": {},
   "source": [
    "# 2022년 파이썬 입문 중간고사"
   ]
  },
  {
   "cell_type": "markdown",
   "id": "66bd7a74-673f-44cf-998c-ff87459a547f",
   "metadata": {},
   "source": [
    "- 통계학과 202115789 김지우"
   ]
  },
  {
   "cell_type": "markdown",
   "id": "7491658d-9021-4f83-8f96-644d0a5504c3",
   "metadata": {
    "tags": []
   },
   "source": [
    "## `0`. imports\n",
    "아래코드를 이용하여 numpy 와 matplotlib을 import하라. \n",
    "```python\n",
    "import numpy as np\n",
    "import matplotlib.pyplot as plt \n",
    "```"
   ]
  },
  {
   "cell_type": "code",
   "execution_count": 2,
   "id": "1defeab6-2ede-4b0f-b0ab-f39d5fbd7e9e",
   "metadata": {},
   "outputs": [],
   "source": [
    "import numpy as np\n",
    "import matplotlib.pyplot as plt"
   ]
  },
  {
   "cell_type": "markdown",
   "id": "5eb8a9cf-afcb-4bb2-a431-2013074ff88d",
   "metadata": {},
   "source": [
    "## `1`. 코드구현 I (40점)"
   ]
  },
  {
   "cell_type": "markdown",
   "id": "2fd10731-6d21-4ee4-bede-6928640a6ffc",
   "metadata": {},
   "source": [
    "**주의:** 문제에 조건이 있는 경우 조건을 준수할 것"
   ]
  },
  {
   "cell_type": "markdown",
   "id": "fe851d5b-7bf4-454f-bb8b-b644cadfa7f8",
   "metadata": {},
   "source": [
    "`(1)` a의 type을 bool로 바꾸어라. "
   ]
  },
  {
   "cell_type": "code",
   "execution_count": 3,
   "id": "5c7c7da0-a6d3-4b41-b597-e580e495bb48",
   "metadata": {},
   "outputs": [],
   "source": [
    "a=1.0"
   ]
  },
  {
   "cell_type": "code",
   "execution_count": 4,
   "id": "4cd82bba-3cae-4abe-a80d-b165ea6d5761",
   "metadata": {},
   "outputs": [
    {
     "data": {
      "text/plain": [
       "(True, bool)"
      ]
     },
     "execution_count": 4,
     "metadata": {},
     "output_type": "execute_result"
    }
   ],
   "source": [
    "a = bool(a)\n",
    "a, type(a)"
   ]
  },
  {
   "cell_type": "markdown",
   "id": "dc45ae73-e22e-4134-a5e2-606f2eea5ce7",
   "metadata": {},
   "source": [
    "---"
   ]
  },
  {
   "cell_type": "markdown",
   "id": "ddc29ff7-fdb7-48e9-9117-063c1f6296c2",
   "metadata": {},
   "source": [
    "**(2)-(6)**\n",
    "\n",
    "아래의 문자열을 고려하자. \n",
    "\n",
    "```python\n",
    "test_arr = 'ssh-rsa AAAAB3NzaC1yc2EAAAABIwAAAQEAklOUpkDHrfHY17SbrmTIpNLTGK9Tjom/BWDSUGPl+nafzlHDTYW7hdI4yZ5ew18JH4JW9jbhUFrviQzM7xlELEVf4h9lFX5QVkbPppSwg0cda3Pbv7kOdJ/MTyBlWXFCR+HAo3FXRitBqxiX1nKhXpHAZsMciLq8V6RjsNAQwdsdMFvSlVK/7XAt3FaoJoAsncM1Q9x5+3V0Ww68/eIFmb1zuUFljQJKprrX88XypNDvjYNby6vw/Pb0rwert/EnmZ+AW4OZPnTPI89ZPmVMLuayrD2cE86Z/il8b+gw3r3+1nKatmIkjn2so1d01QraTlMqVSsbxNrRFi9wrf+M7Q== schacon@mylaptop.local'\n",
    "```"
   ]
  },
  {
   "cell_type": "code",
   "execution_count": 5,
   "id": "ecbc529f-78df-4caf-9785-aba81d9427f4",
   "metadata": {},
   "outputs": [],
   "source": [
    "test_arr = 'ssh-rsa AAAAB3NzaC1yc2EAAAABIwAAAQEAklOUpkDHrfHY17SbrmTIpNLTGK9Tjom/BWDSUGPl+nafzlHDTYW7hdI4yZ5ew18JH4JW9jbhUFrviQzM7xlELEVf4h9lFX5QVkbPppSwg0cda3Pbv7kOdJ/MTyBlWXFCR+HAo3FXRitBqxiX1nKhXpHAZsMciLq8V6RjsNAQwdsdMFvSlVK/7XAt3FaoJoAsncM1Q9x5+3V0Ww68/eIFmb1zuUFljQJKprrX88XypNDvjYNby6vw/Pb0rwert/EnmZ+AW4OZPnTPI89ZPmVMLuayrD2cE86Z/il8b+gw3r3+1nKatmIkjn2so1d01QraTlMqVSsbxNrRFi9wrf+M7Q== schacon@mylaptop.local'"
   ]
  },
  {
   "cell_type": "markdown",
   "id": "fa4958eb-bbd4-4c96-805d-36cce67c101b",
   "metadata": {},
   "source": [
    "`(2)` 위 문자열에서 짝수번째 원소를 출력하는 코드를 작성하라. "
   ]
  },
  {
   "cell_type": "code",
   "execution_count": 6,
   "id": "5fe75096-fe9f-4cbd-8376-ee66cdf30aa0",
   "metadata": {},
   "outputs": [
    {
     "data": {
      "text/plain": [
       "'s-s AA3zCy2AABwAQAlUkHfY7bmINTKTo/WSGlnflDY7d4Ze1J4WjhFvQMxEEfhlXQkPpw0d3b7OJMylXC+A3XiBxXnhpAscL86jNQddFSV/XtFoosc19530w8eFbzUlQKrX8yNvYb6wP0wr/nZA4ZnP8ZmMuyDc8Zi8+wr+namkns10QalqSbNRiwfMQ=shcnmlpo.oa'"
      ]
     },
     "execution_count": 6,
     "metadata": {},
     "output_type": "execute_result"
    }
   ],
   "source": [
    "test_arr[1::2]"
   ]
  },
  {
   "cell_type": "markdown",
   "id": "60e217df-ac78-4bd9-be08-d3a728618881",
   "metadata": {},
   "source": [
    "`(3)` 위 문자열에서 마지막 10개의 원소를 출력하는 코드를 작성하라. "
   ]
  },
  {
   "cell_type": "code",
   "execution_count": 7,
   "id": "24e9317a-e5aa-4e70-8560-9eeec0acbe8e",
   "metadata": {},
   "outputs": [
    {
     "data": {
      "text/plain": [
       "'ptop.local'"
      ]
     },
     "execution_count": 7,
     "metadata": {},
     "output_type": "execute_result"
    }
   ],
   "source": [
    "test_arr[-10:]"
   ]
  },
  {
   "cell_type": "markdown",
   "id": "c0cc2d74-a327-4682-90ef-f9e6ddf2d9d0",
   "metadata": {},
   "source": [
    "`(4)` 위 문자열을 뒤집은 문자열을 구하는 코드를 작성하라. 즉 아래를 출력하는 코드를 작성하라. \n",
    "```\n",
    "'lacol.potpalym@nocahcs ==Q7M+frw9iFRrNxbsSVqMlTarQ10d1os2njkImtaKn1+3r3wg+b8li/Z68Ec2DryauLMVmPZ98IPTnPZO4WA+ZmnE/trewr0bP/wv6ybNYjvDNpyX88XrrpKJQjlFUuz1bmFIe/86wW0V3+5x9Q1McnsAoJoaF3tAX7/KVlSvFMdsdwQANsjR6V8qLicMsZAHpXhKn1XixqBtiRXF3oAH+RCFXWlByTM/JdOk7vbP3adc0gwSppPbkVQ5XFl9h4fVELElx7MzQivrFUhbj9WJ4HJ81we5Zy4Idh7WYTDHlzfan+lPGUSDWB/mojT9KGTLNpITmrbS71YHfrHDkpUOlkAEQAAAwIBAAAAE2cy1CazN3BAAAA asr-hss'\n",
    "```"
   ]
  },
  {
   "cell_type": "code",
   "execution_count": 8,
   "id": "cfc13e20-d1b1-46d5-a001-d7bf8e255e2b",
   "metadata": {},
   "outputs": [],
   "source": [
    "arr2 = 'lacol.potpalym@nocahcs ==Q7M+frw9iFRrNxbsSVqMlTarQ10d1os2njkImtaKn1+3r3wg+b8li/Z68Ec2DryauLMVmPZ98IPTnPZO4WA+ZmnE/trewr0bP/wv6ybNYjvDNpyX88XrrpKJQjlFUuz1bmFIe/86wW0V3+5x9Q1McnsAoJoaF3tAX7/KVlSvFMdsdwQANsjR6V8qLicMsZAHpXhKn1XixqBtiRXF3oAH+RCFXWlByTM/JdOk7vbP3adc0gwSppPbkVQ5XFl9h4fVELElx7MzQivrFUhbj9WJ4HJ81we5Zy4Idh7WYTDHlzfan+lPGUSDWB/mojT9KGTLNpITmrbS71YHfrHDkpUOlkAEQAAAwIBAAAAE2cy1CazN3BAAAA asr-hss'"
   ]
  },
  {
   "cell_type": "code",
   "execution_count": 9,
   "id": "4298b4ed-4667-4acc-bb28-afcc692e1f3a",
   "metadata": {},
   "outputs": [
    {
     "data": {
      "text/plain": [
       "'ssh-rsa AAAAB3NzaC1yc2EAAAABIwAAAQEAklOUpkDHrfHY17SbrmTIpNLTGK9Tjom/BWDSUGPl+nafzlHDTYW7hdI4yZ5ew18JH4JW9jbhUFrviQzM7xlELEVf4h9lFX5QVkbPppSwg0cda3Pbv7kOdJ/MTyBlWXFCR+HAo3FXRitBqxiX1nKhXpHAZsMciLq8V6RjsNAQwdsdMFvSlVK/7XAt3FaoJoAsncM1Q9x5+3V0Ww68/eIFmb1zuUFljQJKprrX88XypNDvjYNby6vw/Pb0rwert/EnmZ+AW4OZPnTPI89ZPmVMLuayrD2cE86Z/il8b+gw3r3+1nKatmIkjn2so1d01QraTlMqVSsbxNrRFi9wrf+M7Q== schacon@mylaptop.local'"
      ]
     },
     "execution_count": 9,
     "metadata": {},
     "output_type": "execute_result"
    }
   ],
   "source": [
    "arr2[::-1]"
   ]
  },
  {
   "cell_type": "markdown",
   "id": "9d470a3f-cef0-40d2-9a8f-89e9963b4cbc",
   "metadata": {},
   "source": [
    "`(5)` 위 문자열에서 대문자의 수를 count하라."
   ]
  },
  {
   "cell_type": "code",
   "execution_count": 10,
   "id": "38169414-6062-4807-b7fb-33cecff9c8cd",
   "metadata": {},
   "outputs": [
    {
     "data": {
      "text/plain": [
       "155"
      ]
     },
     "execution_count": 10,
     "metadata": {},
     "output_type": "execute_result"
    }
   ],
   "source": [
    "sum([k.isupper() for k in arr2])"
   ]
  },
  {
   "cell_type": "markdown",
   "id": "6e4d0ff3-60f6-4d50-8b06-253e0c43438a",
   "metadata": {},
   "source": [
    "**hint** .isupper() 메소드를 이용할 것. "
   ]
  },
  {
   "cell_type": "code",
   "execution_count": 30,
   "id": "f5ad493d-260d-44c8-89bc-44618391419c",
   "metadata": {},
   "outputs": [
    {
     "data": {
      "text/plain": [
       "False"
      ]
     },
     "execution_count": 30,
     "metadata": {},
     "output_type": "execute_result"
    }
   ],
   "source": [
    "'a'.isupper()"
   ]
  },
  {
   "cell_type": "code",
   "execution_count": 31,
   "id": "8cde9d15-3112-4cac-a5ea-9c5022daa20d",
   "metadata": {},
   "outputs": [
    {
     "data": {
      "text/plain": [
       "True"
      ]
     },
     "execution_count": 31,
     "metadata": {},
     "output_type": "execute_result"
    }
   ],
   "source": [
    "'A'.isupper()"
   ]
  },
  {
   "cell_type": "code",
   "execution_count": 32,
   "id": "62835757-59d8-45ea-9de8-9321d3bf1f13",
   "metadata": {},
   "outputs": [
    {
     "data": {
      "text/plain": [
       "False"
      ]
     },
     "execution_count": 32,
     "metadata": {},
     "output_type": "execute_result"
    }
   ],
   "source": [
    "'='.isupper()"
   ]
  },
  {
   "cell_type": "code",
   "execution_count": 33,
   "id": "769098d8-aa32-4ef8-8960-985750740dcd",
   "metadata": {},
   "outputs": [
    {
     "data": {
      "text/plain": [
       "False"
      ]
     },
     "execution_count": 33,
     "metadata": {},
     "output_type": "execute_result"
    }
   ],
   "source": [
    "'@'.isupper()"
   ]
  },
  {
   "cell_type": "markdown",
   "id": "0dfb1a55-1d87-47c3-b496-babeade2a928",
   "metadata": {},
   "source": [
    "`(6)` 위 문자열에서 사용된 문자 및 특수문자의 종류는 모두 몇가지 인가?"
   ]
  },
  {
   "cell_type": "code",
   "execution_count": 11,
   "id": "81bb7db3-8232-4033-951f-c62daa890100",
   "metadata": {},
   "outputs": [
    {
     "data": {
      "text/plain": [
       "69"
      ]
     },
     "execution_count": 11,
     "metadata": {},
     "output_type": "execute_result"
    }
   ],
   "source": [
    "val = []\n",
    "for i in arr2:\n",
    "    if i not in val: val.append(i)\n",
    "len(val)"
   ]
  },
  {
   "cell_type": "markdown",
   "id": "e2965656-c1e3-434a-a6ff-d731217fb956",
   "metadata": {},
   "source": [
    "**note1:** 문자열 'AAB @ab' 에서 사용된 문자는 'A', 'B', ' ', '@', 'a', 'b' 이므로 모두 6종류의 문자 및 특수문자가 사용되었다. "
   ]
  },
  {
   "cell_type": "markdown",
   "id": "b33b05a1-2a15-4185-b5bf-ee2b3c009c30",
   "metadata": {},
   "source": [
    "**note2:** ' ', '+', '-', '.', '/', '=', '@', '1', 'a', 'A' 등을 모두 다른 문자로 취급한다."
   ]
  },
  {
   "cell_type": "markdown",
   "id": "c0322675-2976-40ec-a1d8-6647f085ea9b",
   "metadata": {},
   "source": [
    "---"
   ]
  },
  {
   "cell_type": "markdown",
   "id": "0a1cd858-ca2a-47ad-b8bf-ec0e23f4f8aa",
   "metadata": {},
   "source": [
    "`(7)` 리스트컴프리헨션을 이용하여 아래와 같은 리스트를 생성하라 \n",
    "\n",
    "```\n",
    "['a',\n",
    " 'aa',\n",
    " 'aaa',\n",
    " 'aaaa',\n",
    " 'aaaaa',\n",
    " 'aaaaaa',\n",
    " 'aaaaaaa',\n",
    " 'aaaaaaaa',\n",
    " 'aaaaaaaaa',\n",
    " 'aaaaaaaaaa'] <- a가 10개있음 \n",
    "```"
   ]
  },
  {
   "cell_type": "code",
   "execution_count": 12,
   "id": "62c23d52-b172-46d3-aaa1-0af1cc09ae43",
   "metadata": {},
   "outputs": [
    {
     "data": {
      "text/plain": [
       "['a',\n",
       " 'aa',\n",
       " 'aaa',\n",
       " 'aaaa',\n",
       " 'aaaaa',\n",
       " 'aaaaaa',\n",
       " 'aaaaaaa',\n",
       " 'aaaaaaaa',\n",
       " 'aaaaaaaaa',\n",
       " 'aaaaaaaaaa']"
      ]
     },
     "execution_count": 12,
     "metadata": {},
     "output_type": "execute_result"
    }
   ],
   "source": [
    "list77 = ['a'*x for x in range(1,11)]\n",
    "list77"
   ]
  },
  {
   "cell_type": "markdown",
   "id": "1fee02a5-7cf1-40d5-95ae-096e22df1519",
   "metadata": {},
   "source": [
    "`(8)` 길이가 1인 튜플을 만들어 자신의 학번을 저장하라. 길이가 1인 튜플을 만들어 자신의 영문이름을 저장하라. 두 튜플을 `+` 연산자로 합쳐아래와 같은 출력결과를 얻어라. \n",
    "\n",
    "```\n",
    "(202143052,'guebin')\n",
    "```"
   ]
  },
  {
   "cell_type": "code",
   "execution_count": 13,
   "id": "e6485315-ee90-416f-bb1f-6b238fa02351",
   "metadata": {},
   "outputs": [
    {
     "data": {
      "text/plain": [
       "(202115789, 'jeewoo')"
      ]
     },
     "execution_count": 13,
     "metadata": {},
     "output_type": "execute_result"
    }
   ],
   "source": [
    "tuple881 = (202115789,)\n",
    "tuple882 = ('jeewoo',)\n",
    "\n",
    "tuple881 + tuple882"
   ]
  },
  {
   "cell_type": "markdown",
   "id": "a64a023d-4f70-47b8-bc05-b0f84573cad1",
   "metadata": {},
   "source": [
    "`(9)` 아래와 같은 list가 있다고 하자. \n",
    "\n",
    "```python\n",
    "test_lst = [['g',1],['u',5],['e',2],['b',8],['i',2],['n',9]]\n",
    "```\n",
    "\n",
    "test_lst와 리스트컴프리헨션을 이용하여 아래를 출력하는 코드를 구현하라. \n",
    "\n",
    "```\n",
    "['g', 'uuuuu', 'ee', 'bbbbbbbb', 'ii', 'nnnnnnnnn']\n",
    "```"
   ]
  },
  {
   "cell_type": "code",
   "execution_count": 14,
   "id": "2d71edd6-e6f9-425b-829f-ba563f4b6190",
   "metadata": {},
   "outputs": [],
   "source": [
    "test_lst = [['g',1],['u',5],['e',2],['b',8],['i',2],['n',9]]"
   ]
  },
  {
   "cell_type": "code",
   "execution_count": 15,
   "id": "c8b3a8f6-2faa-4555-952b-2a14bcd935ff",
   "metadata": {},
   "outputs": [
    {
     "data": {
      "text/plain": [
       "['g', 'uuuuu', 'ee', 'bbbbbbbb', 'ii', 'nnnnnnnnn']"
      ]
     },
     "execution_count": 15,
     "metadata": {},
     "output_type": "execute_result"
    }
   ],
   "source": [
    "list99 = [x[0]*x[1] for x in test_lst]\n",
    "list99"
   ]
  },
  {
   "cell_type": "markdown",
   "id": "996a7c91-1d4a-4d73-98b1-c172a779ae4d",
   "metadata": {},
   "source": [
    "`(10)` 다음은 학생들의 출석,레포트,중간고사,기말고사 점수를 입력으로 하여 학점을 계산하는 함수이다. \n",
    "\n",
    "```python\n",
    "def grade(attendance, report, mid, final): \n",
    "    if attendance<70: \n",
    "        credit = 'F' \n",
    "    else: \n",
    "        total_score = attendance * 0.1 + report * 0.2 + mid * 0.3 + final * 0.4 \n",
    "        if total_score > 80: \n",
    "            credit = 'A+' \n",
    "        else:\n",
    "            credit = 'B0' \n",
    "    return credit \n",
    "```\n",
    "\n",
    "아래는 학생들의 학번, 출석점수, 레포트, 중간고사, 기말고사 점수가 입력된 리스트이다. \n",
    "\n",
    "```python\n",
    "data = [['202212345', [100,95,25,90]],\n",
    "        ['202212346', [60,90,95,95]],\n",
    "        ['202212347', [50,90,45,35]],\n",
    "        ['202212348', [90,90,50,75]],\n",
    "        ['202212349', [100,95,85,85]],\n",
    "        ['202212350', [90,90,100,95]],\n",
    "        ['202212351', [100,95,100,95]],\n",
    "        ['202212352', [95,85,80,60]],\n",
    "        ['202212353', [100,90,60,55]],\n",
    "        ['202212354', [100,85,70,95]],\n",
    "        ['202212355', [100,95,40,100]]]\n",
    "```\n",
    "\n",
    "아래의 ???를 적절하게 완성하여 학생들의 학점을 계산하는 코드를 완성하라. \n",
    "\n",
    "```python\n",
    "[grade(???) for _, scores in data] \n",
    "```"
   ]
  },
  {
   "cell_type": "code",
   "execution_count": 16,
   "id": "7b753286-6cc0-4034-a3eb-a8c350237ce2",
   "metadata": {},
   "outputs": [],
   "source": [
    "def grade(attendance, report, mid, final): \n",
    "    if attendance<70: \n",
    "        credit = 'F' \n",
    "    else: \n",
    "        total_score = attendance * 0.1 + report * 0.2 + mid * 0.3 + final * 0.4 \n",
    "        if total_score > 80: \n",
    "            credit = 'A+' \n",
    "        else:\n",
    "            credit = 'B0' \n",
    "    return credit "
   ]
  },
  {
   "cell_type": "code",
   "execution_count": 17,
   "id": "23f6f2b7-9605-4018-ab47-e60afe28ed02",
   "metadata": {},
   "outputs": [],
   "source": [
    "data = [['202212345', [100,95,25,90]],\n",
    "        ['202212346', [60,90,95,95]],\n",
    "        ['202212347', [50,90,45,35]],\n",
    "        ['202212348', [90,90,50,75]],\n",
    "        ['202212349', [100,95,85,85]],\n",
    "        ['202212350', [90,90,100,95]],\n",
    "        ['202212351', [100,95,100,95]],\n",
    "        ['202212352', [95,85,80,60]],\n",
    "        ['202212353', [100,90,60,55]],\n",
    "        ['202212354', [100,85,70,95]],\n",
    "        ['202212355', [100,95,40,100]]]"
   ]
  },
  {
   "cell_type": "code",
   "execution_count": 18,
   "id": "c8f546af-729b-4766-add1-e3f6e6481cf3",
   "metadata": {},
   "outputs": [
    {
     "data": {
      "text/plain": [
       "['B0', 'F', 'F', 'B0', 'A+', 'A+', 'A+', 'B0', 'B0', 'A+', 'A+']"
      ]
     },
     "execution_count": 18,
     "metadata": {},
     "output_type": "execute_result"
    }
   ],
   "source": [
    "[grade(*tuple(scores)) for _, scores in data] "
   ]
  },
  {
   "cell_type": "markdown",
   "id": "58f99f55-4145-41cf-9280-caca95d8624b",
   "metadata": {},
   "source": [
    "`(11)` 길이가 0인 문자열을 선언하라. "
   ]
  },
  {
   "cell_type": "code",
   "execution_count": 19,
   "id": "b27f46b6-7286-4261-a193-af588aa0b19b",
   "metadata": {},
   "outputs": [
    {
     "data": {
      "text/plain": [
       "''"
      ]
     },
     "execution_count": 19,
     "metadata": {},
     "output_type": "execute_result"
    }
   ],
   "source": [
    "str11 = ''\n",
    "str11"
   ]
  },
  {
   "cell_type": "code",
   "execution_count": 20,
   "id": "37c6c3f4-b016-4970-b46a-170b90f5623a",
   "metadata": {},
   "outputs": [
    {
     "data": {
      "text/plain": [
       "0"
      ]
     },
     "execution_count": 20,
     "metadata": {},
     "output_type": "execute_result"
    }
   ],
   "source": [
    "len(str11)"
   ]
  },
  {
   "cell_type": "markdown",
   "id": "0bdabb7b-b245-48ec-bdac-c57d23f0a6f4",
   "metadata": {},
   "source": [
    "---"
   ]
  },
  {
   "cell_type": "markdown",
   "id": "131ccace-ec6b-424a-bdef-fed90022c6c4",
   "metadata": {},
   "source": [
    "**(12)-(15)**"
   ]
  },
  {
   "cell_type": "markdown",
   "id": "c08cf2cd-bd4e-4f0b-88d2-4ef4ccd47368",
   "metadata": {},
   "source": [
    "`(12)` dir(plt)와 dir(np)를 각각 실행하라. 실행결과를 각각 a,b로 저장하라. a,b의 type은 무엇인가? "
   ]
  },
  {
   "cell_type": "code",
   "execution_count": 21,
   "id": "04a39a47-e3ab-4cf6-a1c8-d6b9a3d34e8d",
   "metadata": {},
   "outputs": [],
   "source": [
    "a = dir(plt)\n",
    "b = dir(np)"
   ]
  },
  {
   "cell_type": "code",
   "execution_count": 22,
   "id": "00782537-5425-4894-b3b8-12fcba9ab642",
   "metadata": {},
   "outputs": [
    {
     "data": {
      "text/plain": [
       "list"
      ]
     },
     "execution_count": 22,
     "metadata": {},
     "output_type": "execute_result"
    }
   ],
   "source": [
    "type(a)"
   ]
  },
  {
   "cell_type": "code",
   "execution_count": 23,
   "id": "de23fcad-60ed-4114-9b84-e1ac41cecc7e",
   "metadata": {},
   "outputs": [
    {
     "data": {
      "text/plain": [
       "list"
      ]
     },
     "execution_count": 23,
     "metadata": {},
     "output_type": "execute_result"
    }
   ],
   "source": [
    "type(b)"
   ]
  },
  {
   "cell_type": "markdown",
   "id": "7efe5444-c9f6-4209-882d-e0b311a587a9",
   "metadata": {},
   "source": [
    "`(13)` a의 원소와 b의 원소의 수를 각각 구하라. "
   ]
  },
  {
   "cell_type": "code",
   "execution_count": 24,
   "id": "67449f75-9a99-47a7-bec1-22fee073ad30",
   "metadata": {},
   "outputs": [
    {
     "data": {
      "text/plain": [
       "254"
      ]
     },
     "execution_count": 24,
     "metadata": {},
     "output_type": "execute_result"
    }
   ],
   "source": [
    "len(a)"
   ]
  },
  {
   "cell_type": "code",
   "execution_count": 25,
   "id": "ff61cd07-df47-4241-8214-26cf0f35bddc",
   "metadata": {},
   "outputs": [
    {
     "data": {
      "text/plain": [
       "600"
      ]
     },
     "execution_count": 25,
     "metadata": {},
     "output_type": "execute_result"
    }
   ],
   "source": [
    "len(b)"
   ]
  },
  {
   "cell_type": "markdown",
   "id": "1a9fc47d-0477-4418-bcc4-2c940d6fc1b9",
   "metadata": {},
   "source": [
    "`(14)` a와 b의 공통원소의 수를 구하라. "
   ]
  },
  {
   "cell_type": "code",
   "execution_count": 26,
   "id": "26c747ef-9f11-4689-95b3-c8f859dbbd24",
   "metadata": {},
   "outputs": [
    {
     "data": {
      "text/plain": [
       "9"
      ]
     },
     "execution_count": 26,
     "metadata": {},
     "output_type": "execute_result"
    }
   ],
   "source": [
    "len(set(a)&set(b))"
   ]
  },
  {
   "cell_type": "markdown",
   "id": "bea7c8e9-4908-4529-9083-997451f79fe6",
   "metadata": {},
   "source": [
    "`(15)` a와 b의 원소를 합친 리스트를 만들어라. (공통원소는 중복하여 합치지 않는다) "
   ]
  },
  {
   "cell_type": "code",
   "execution_count": 27,
   "id": "cc1b2b5f-5e7a-4f98-96f7-03df3c657287",
   "metadata": {},
   "outputs": [],
   "source": [
    "list155 = list(set(a)|set(b))"
   ]
  },
  {
   "cell_type": "markdown",
   "id": "4a242439-27cf-460f-8459-a3b61bde9875",
   "metadata": {},
   "source": [
    "--- "
   ]
  },
  {
   "cell_type": "markdown",
   "id": "77411a30-dedb-46fa-9fc7-6bb9c391be27",
   "metadata": {},
   "source": [
    "**(16)-(18)** 아래와 같은 dictionary가 있다. \n",
    "```python\n",
    "test_dic = {'202212345': {'att':100,'rep':95,'mid':25,'fin':90},\n",
    "            '202212346': {'att':60,'rep':90,'mid':95,'fin':95},\n",
    "            '202212347': {'att':50,'rep':90,'mid':45,'fin':35},\n",
    "            '202212348': {'att':90,'rep':90,'mid':50,'fin':75},\n",
    "            '202212349': {'att':100,'rep':95,'mid':85,'fin':85},\n",
    "            '202212350': {'att':90,'rep':90,'mid':100,'fin':95},\n",
    "            '202212351': {'att':100,'rep':95,'mid':100,'fin':95},\n",
    "            '202212352': {'att':95,'rep':85,'mid':80,'fin':60},\n",
    "            '202212353': {'att':100,'rep':90,'mid':60,'fin':55},\n",
    "            '202212354': {'att':100,'rep':85,'mid':70,'fin':95},\n",
    "            '202212355': {'att':100,'rep':95,'mid':40,'fin':100}}\n",
    "```"
   ]
  },
  {
   "cell_type": "markdown",
   "id": "4e121911-31eb-43c4-864b-a2c11d148725",
   "metadata": {},
   "source": [
    "여기에서 `202212345`등은 학번을, att는 출석점수, rep는 레포트점수, mid는 중간고사점수, fin은 기말고사 점수를 의미한다. "
   ]
  },
  {
   "cell_type": "code",
   "execution_count": 28,
   "id": "a025c774-a6e6-4c9a-9b5c-c7dc31e682fe",
   "metadata": {},
   "outputs": [],
   "source": [
    "test_dic = {'202212345': {'att':100,'rep':95,'mid':25,'fin':90},\n",
    "            '202212346': {'att':60,'rep':90,'mid':95,'fin':95},\n",
    "            '202212347': {'att':50,'rep':90,'mid':45,'fin':35},\n",
    "            '202212348': {'att':90,'rep':90,'mid':50,'fin':75},\n",
    "            '202212349': {'att':100,'rep':95,'mid':85,'fin':85},\n",
    "            '202212350': {'att':90,'rep':90,'mid':100,'fin':95},\n",
    "            '202212351': {'att':100,'rep':95,'mid':100,'fin':95},\n",
    "            '202212352': {'att':95,'rep':85,'mid':80,'fin':60},\n",
    "            '202212353': {'att':100,'rep':90,'mid':60,'fin':55},\n",
    "            '202212354': {'att':100,'rep':85,'mid':70,'fin':95},\n",
    "            '202212355': {'att':100,'rep':95,'mid':40,'fin':100}}"
   ]
  },
  {
   "cell_type": "markdown",
   "id": "ca67842a-94e8-4ffb-b656-e07e3d129e6c",
   "metadata": {},
   "source": [
    "`(16)` get 메소드를 이용하여 202212353에 해당하는 학생의 성적을 아래와 같이 리턴하라. \n",
    "```\n",
    "{'att': 100, 'rep': 90, 'mid': 60, 'fin': 55}\n",
    "```"
   ]
  },
  {
   "cell_type": "code",
   "execution_count": 29,
   "id": "25588b3f-d386-4f29-87e3-5e0a68f148d2",
   "metadata": {},
   "outputs": [
    {
     "data": {
      "text/plain": [
       "{'att': 100, 'rep': 90, 'mid': 60, 'fin': 55}"
      ]
     },
     "execution_count": 29,
     "metadata": {},
     "output_type": "execute_result"
    }
   ],
   "source": [
    "test_dic.get('202212353')"
   ]
  },
  {
   "cell_type": "markdown",
   "id": "79d71470-67e3-4445-8912-1b4592462b59",
   "metadata": {},
   "source": [
    "`(17)` 202212354의 레포트 점수를 리턴하라. "
   ]
  },
  {
   "cell_type": "code",
   "execution_count": 84,
   "id": "596d19c1-8e5e-41ee-860a-4ec79e310017",
   "metadata": {},
   "outputs": [
    {
     "data": {
      "text/plain": [
       "85"
      ]
     },
     "execution_count": 84,
     "metadata": {},
     "output_type": "execute_result"
    }
   ],
   "source": [
    "test_dic.get('202212354')['rep']"
   ]
  },
  {
   "cell_type": "markdown",
   "id": "695d6fcf-0fc7-4f0a-ae7b-08bc0d022223",
   "metadata": {},
   "source": [
    "`(18)` 학생들의 학번을 리턴하는 코드를 작성하라. "
   ]
  },
  {
   "cell_type": "code",
   "execution_count": 86,
   "id": "d227c5d1-45ca-4cbc-8133-c7c6993c5cf0",
   "metadata": {},
   "outputs": [
    {
     "data": {
      "text/plain": [
       "dict_keys(['202212345', '202212346', '202212347', '202212348', '202212349', '202212350', '202212351', '202212352', '202212353', '202212354', '202212355'])"
      ]
     },
     "execution_count": 86,
     "metadata": {},
     "output_type": "execute_result"
    }
   ],
   "source": [
    "test_dic.keys()"
   ]
  },
  {
   "cell_type": "markdown",
   "id": "ef0a718d-be00-456e-888e-7c511a78bd0e",
   "metadata": {},
   "source": [
    "---"
   ]
  },
  {
   "cell_type": "markdown",
   "id": "a9d9528d-a6de-4eb2-a35e-79b204f14e17",
   "metadata": {},
   "source": [
    "`(19)` shape이 ()인 numpy이 array를 만들어라. (즉 차원이 0인 np.array를 만들어라)"
   ]
  },
  {
   "cell_type": "code",
   "execution_count": 102,
   "id": "8a74b59b-ffe9-4aee-b005-5c6505beae4e",
   "metadata": {},
   "outputs": [
    {
     "data": {
      "text/plain": [
       "()"
      ]
     },
     "execution_count": 102,
     "metadata": {},
     "output_type": "execute_result"
    }
   ],
   "source": [
    "arr19 = np.array(0)\n",
    "np.shape(arr19)"
   ]
  },
  {
   "cell_type": "markdown",
   "id": "cd374e4b-972a-4b5a-9b95-942bc6a82fb0",
   "metadata": {},
   "source": [
    "`(20)` shape이 (2,2)인 단위행렬을 만들어라. "
   ]
  },
  {
   "cell_type": "code",
   "execution_count": 105,
   "id": "849fdbc2-d78b-42ee-8049-cdacd238763e",
   "metadata": {},
   "outputs": [
    {
     "data": {
      "text/plain": [
       "array([[1., 0.],\n",
       "       [0., 1.]])"
      ]
     },
     "execution_count": 105,
     "metadata": {},
     "output_type": "execute_result"
    }
   ],
   "source": [
    "arr20 = np.eye(2)\n",
    "arr20"
   ]
  },
  {
   "cell_type": "code",
   "execution_count": 107,
   "id": "bead6922-c7ef-47f2-b4ec-6cadaea2fdde",
   "metadata": {},
   "outputs": [
    {
     "data": {
      "text/plain": [
       "(2, 2)"
      ]
     },
     "execution_count": 107,
     "metadata": {},
     "output_type": "execute_result"
    }
   ],
   "source": [
    "np.shape(arr20)"
   ]
  },
  {
   "cell_type": "markdown",
   "id": "b12ebbff-2439-4d88-80c1-232ddfe13f0c",
   "metadata": {},
   "source": [
    "`(21)` a의 모든 원소에 1을 더하는 코드를 작성하라. \n",
    "\n",
    "```python\n",
    "a=[1,3,2,5,-3,3,8,2,3,1] \n",
    "```"
   ]
  },
  {
   "cell_type": "code",
   "execution_count": 109,
   "id": "f8af9b6f-cb68-477a-b906-444b77f31e87",
   "metadata": {},
   "outputs": [
    {
     "data": {
      "text/plain": [
       "array([ 2,  4,  3,  6, -2,  4,  9,  3,  4,  2])"
      ]
     },
     "execution_count": 109,
     "metadata": {},
     "output_type": "execute_result"
    }
   ],
   "source": [
    "a = [1,3,2,5,-3,3,8,2,3,1] \n",
    "a = np.array(a) + 1\n",
    "a"
   ]
  },
  {
   "cell_type": "markdown",
   "id": "92e7d2bb-a135-428d-8aa1-127fd791da6a",
   "metadata": {},
   "source": [
    "`(22)` 아래와 같은 수열을 생성하라. \n",
    "```\n",
    "1,3,6,10,15,21,28,36,45, ... , 378, 406, 435\n",
    "```"
   ]
  },
  {
   "cell_type": "code",
   "execution_count": 77,
   "id": "7bf553a1-5dc7-42fc-9579-962dbe511dbd",
   "metadata": {},
   "outputs": [],
   "source": [
    "arr22 = np.ones(29)\n",
    "arr22[1] = 3\n",
    "for i in range(2, 29):\n",
    "    arr22[i] = arr22[i-1] + i + 1"
   ]
  },
  {
   "cell_type": "code",
   "execution_count": 78,
   "id": "c0f5e962-35dc-4c5f-96ed-99c747a744ea",
   "metadata": {},
   "outputs": [
    {
     "data": {
      "text/plain": [
       "array([  1.,   3.,   6.,  10.,  15.,  21.,  28.,  36.,  45.,  55.,  66.,\n",
       "        78.,  91., 105., 120., 136., 153., 171., 190., 210., 231., 253.,\n",
       "       276., 300., 325., 351., 378., 406., 435.])"
      ]
     },
     "execution_count": 78,
     "metadata": {},
     "output_type": "execute_result"
    }
   ],
   "source": [
    "arr22"
   ]
  },
  {
   "cell_type": "markdown",
   "id": "b422c258-4633-423f-ac9a-f385e18beac5",
   "metadata": {},
   "source": [
    "**hint:** 이 수열에서 $a_n-a_{n-1}=n, ~n\\geq 2$ 이다. 즉 3-1=2, 6-3=3, 10-6=4, ... "
   ]
  },
  {
   "cell_type": "markdown",
   "id": "d855bd2b-524e-4a33-8c6c-ac37b2296d1e",
   "metadata": {},
   "source": [
    "`(23)` 아래와 같은 수열을 생생성하라. \n",
    "```\n",
    "0,1,2,3,4,5,...,99 \n",
    "```"
   ]
  },
  {
   "cell_type": "code",
   "execution_count": 30,
   "id": "06516dff-98e5-4176-8fbd-f281c40afa3c",
   "metadata": {},
   "outputs": [
    {
     "data": {
      "text/plain": [
       "array([ 0,  1,  2,  3,  4,  5,  6,  7,  8,  9, 10, 11, 12, 13, 14, 15, 16,\n",
       "       17, 18, 19, 20, 21, 22, 23, 24, 25, 26, 27, 28, 29, 30, 31, 32, 33,\n",
       "       34, 35, 36, 37, 38, 39, 40, 41, 42, 43, 44, 45, 46, 47, 48, 49, 50,\n",
       "       51, 52, 53, 54, 55, 56, 57, 58, 59, 60, 61, 62, 63, 64, 65, 66, 67,\n",
       "       68, 69, 70, 71, 72, 73, 74, 75, 76, 77, 78, 79, 80, 81, 82, 83, 84,\n",
       "       85, 86, 87, 88, 89, 90, 91, 92, 93, 94, 95, 96, 97, 98, 99])"
      ]
     },
     "execution_count": 30,
     "metadata": {},
     "output_type": "execute_result"
    }
   ],
   "source": [
    "arr23 = np.arange(0,100)\n",
    "arr23"
   ]
  },
  {
   "cell_type": "markdown",
   "id": "52d6f4d7-fa78-4cf8-9905-8ecea0b9a496",
   "metadata": {},
   "source": [
    "위의 수열에서 1,4,7,10,13,... 번째의 원소를 뽑아라. (첫번째 원소는 0이다) "
   ]
  },
  {
   "cell_type": "code",
   "execution_count": 36,
   "id": "3f0bb2ac-7e7f-49d9-82da-e254463b224a",
   "metadata": {},
   "outputs": [
    {
     "data": {
      "text/plain": [
       "array([ 0,  3,  6,  9, 12, 15, 18, 21, 24, 27, 30, 33, 36, 39, 42, 45, 48,\n",
       "       51, 54, 57, 60, 63, 66, 69, 72, 75, 78, 81, 84, 87, 90, 93, 96, 99])"
      ]
     },
     "execution_count": 36,
     "metadata": {},
     "output_type": "execute_result"
    }
   ],
   "source": [
    "arr23[0::3] # Sol 1"
   ]
  },
  {
   "cell_type": "code",
   "execution_count": 37,
   "id": "532cb1a5-83a1-492e-9738-d1bb79eca94e",
   "metadata": {},
   "outputs": [
    {
     "name": "stdout",
     "output_type": "stream",
     "text": [
      "[0, 3, 6, 9, 12, 15, 18, 21, 24, 27, 30, 33, 36, 39, 42, 45, 48, 51, 54, 57, 60, 63, 66, 69, 72, 75, 78, 81, 84, 87, 90, 93, 96, 99]\n"
     ]
    }
   ],
   "source": [
    "print([arr23[3*x] for x in np.arange(0, 34)]) # Sol 2"
   ]
  },
  {
   "cell_type": "markdown",
   "id": "491e09e8-7d77-44a4-9f5f-1aacdf7e4d4e",
   "metadata": {},
   "source": [
    "`(24)` numpy를 이용하여 아래의 역행렬을 구하라. \n",
    "$$\\begin{bmatrix}\n",
    "1&  0 \\\\\n",
    "0&  3\n",
    "\\end{bmatrix}$$"
   ]
  },
  {
   "cell_type": "code",
   "execution_count": 162,
   "id": "d96d46e9-0d25-4d08-ad23-01011247538f",
   "metadata": {},
   "outputs": [
    {
     "data": {
      "text/plain": [
       "array([[1, 0],\n",
       "       [0, 3]])"
      ]
     },
     "execution_count": 162,
     "metadata": {},
     "output_type": "execute_result"
    }
   ],
   "source": [
    "mat24 = np.array([[1,0],\n",
    "                  [0,3]])\n",
    "mat24"
   ]
  },
  {
   "cell_type": "code",
   "execution_count": 163,
   "id": "aad19565-2df7-4f3b-96af-18194f1aa943",
   "metadata": {},
   "outputs": [
    {
     "data": {
      "text/plain": [
       "array([[1.        , 0.        ],\n",
       "       [0.        , 0.33333333]])"
      ]
     },
     "execution_count": 163,
     "metadata": {},
     "output_type": "execute_result"
    }
   ],
   "source": [
    "np.linalg.inv(mat24)"
   ]
  },
  {
   "cell_type": "markdown",
   "id": "9b52a2c0-3617-41d7-b640-ffcc603ac809",
   "metadata": {},
   "source": [
    "--- "
   ]
  },
  {
   "cell_type": "markdown",
   "id": "e42ef0d0-d6b6-4c01-9780-fd24e04af0cf",
   "metadata": {},
   "source": [
    "**(25)-(30)**\n",
    "\n",
    "a,b가 아래와 같이 주어졌다고 하자. \n",
    "\n",
    "```python\n",
    "a=[1]*10 \n",
    "b=[2]*10 \n",
    "```"
   ]
  },
  {
   "cell_type": "code",
   "execution_count": 39,
   "id": "a41d8a50-2925-486e-a32b-b2e6c7c74af8",
   "metadata": {},
   "outputs": [],
   "source": [
    "a=[1]*10 \n",
    "b=[2]*10 "
   ]
  },
  {
   "cell_type": "code",
   "execution_count": 40,
   "id": "d3cefff4-67f8-463c-82de-bae1845d441a",
   "metadata": {},
   "outputs": [
    {
     "data": {
      "text/plain": [
       "[1, 1, 1, 1, 1, 1, 1, 1, 1, 1]"
      ]
     },
     "execution_count": 40,
     "metadata": {},
     "output_type": "execute_result"
    }
   ],
   "source": [
    "a"
   ]
  },
  {
   "cell_type": "code",
   "execution_count": 41,
   "id": "8fec0271-9c33-4439-9add-dc4d710c173b",
   "metadata": {},
   "outputs": [
    {
     "data": {
      "text/plain": [
       "[2, 2, 2, 2, 2, 2, 2, 2, 2, 2]"
      ]
     },
     "execution_count": 41,
     "metadata": {},
     "output_type": "execute_result"
    }
   ],
   "source": [
    "b"
   ]
  },
  {
   "cell_type": "markdown",
   "id": "1ac08b97-80ec-426b-bb6f-0d133ce613c6",
   "metadata": {},
   "source": [
    "`(25)` a,b와 np.concatenate를 이용하여 아래와 같은 배열을 만들어라. \n",
    "\n",
    "```\n",
    "array([1, 1, 1, 1, 1, 1, 1, 1, 1, 1, 2, 2, 2, 2, 2, 2, 2, 2, 2, 2])\n",
    "```"
   ]
  },
  {
   "cell_type": "code",
   "execution_count": 64,
   "id": "fc68e17f-6f74-4a9e-8561-20c4e8926da4",
   "metadata": {},
   "outputs": [
    {
     "data": {
      "text/plain": [
       "array([1, 1, 1, 1, 1, 1, 1, 1, 1, 1, 2, 2, 2, 2, 2, 2, 2, 2, 2, 2])"
      ]
     },
     "execution_count": 64,
     "metadata": {},
     "output_type": "execute_result"
    }
   ],
   "source": [
    "np.concatenate([a,b])"
   ]
  },
  {
   "cell_type": "markdown",
   "id": "b17c2c49-d316-4e33-bc9a-43b67aa39eca",
   "metadata": {},
   "source": [
    "`(26)` a,b와 np.concatenate를 이용하여 아래와 같은 배열을 만들어라. \n",
    "```\n",
    "array([[1],\n",
    "       [1],\n",
    "       [1],\n",
    "       [1],\n",
    "       [1],\n",
    "       [1],\n",
    "       [1],\n",
    "       [1],\n",
    "       [1],\n",
    "       [1],\n",
    "       [2],\n",
    "       [2],\n",
    "       [2],\n",
    "       [2],\n",
    "       [2],\n",
    "       [2],\n",
    "       [2],\n",
    "       [2],\n",
    "       [2],\n",
    "       [2]])\n",
    "```"
   ]
  },
  {
   "cell_type": "code",
   "execution_count": 204,
   "id": "e080e904-7495-4c6b-99eb-63fcb75e24cf",
   "metadata": {},
   "outputs": [],
   "source": [
    "a2 = np.array(a).reshape(-1,1)\n",
    "b2 = np.array(b).reshape(-1,1)"
   ]
  },
  {
   "cell_type": "code",
   "execution_count": 205,
   "id": "b0e7c626-4a06-43ef-a40e-1a915921bc21",
   "metadata": {},
   "outputs": [
    {
     "data": {
      "text/plain": [
       "array([[1],\n",
       "       [1],\n",
       "       [1],\n",
       "       [1],\n",
       "       [1],\n",
       "       [1],\n",
       "       [1],\n",
       "       [1],\n",
       "       [1],\n",
       "       [1],\n",
       "       [2],\n",
       "       [2],\n",
       "       [2],\n",
       "       [2],\n",
       "       [2],\n",
       "       [2],\n",
       "       [2],\n",
       "       [2],\n",
       "       [2],\n",
       "       [2]])"
      ]
     },
     "execution_count": 205,
     "metadata": {},
     "output_type": "execute_result"
    }
   ],
   "source": [
    "np.concatenate([a2,b2])"
   ]
  },
  {
   "cell_type": "markdown",
   "id": "0f7b7555-b707-41ab-bb8c-0de356221a02",
   "metadata": {},
   "source": [
    "`(27)` a,b와 np.concatenate를 이용하여 아래와 같은 배열을 만들어라. \n",
    "\n",
    "```\n",
    "array([[1, 1, 1, 1, 1, 1, 1, 1, 1, 1],\n",
    "       [2, 2, 2, 2, 2, 2, 2, 2, 2, 2]]\n",
    "```"
   ]
  },
  {
   "cell_type": "code",
   "execution_count": 58,
   "id": "9a606208-83c2-4052-9202-5f74f1e4c0bc",
   "metadata": {},
   "outputs": [],
   "source": [
    "a2 = np.array(a).reshape(1,-1)\n",
    "b2 = np.array(b).reshape(1,-1)"
   ]
  },
  {
   "cell_type": "code",
   "execution_count": 59,
   "id": "c5582125-05a9-4d3b-ab3d-3e4090d39d70",
   "metadata": {},
   "outputs": [
    {
     "data": {
      "text/plain": [
       "array([[1, 1, 1, 1, 1, 1, 1, 1, 1, 1],\n",
       "       [2, 2, 2, 2, 2, 2, 2, 2, 2, 2]])"
      ]
     },
     "execution_count": 59,
     "metadata": {},
     "output_type": "execute_result"
    }
   ],
   "source": [
    "np.concatenate([a2, b2])"
   ]
  },
  {
   "cell_type": "markdown",
   "id": "f402c4d4-27e4-41e3-acc3-b9140723636a",
   "metadata": {},
   "source": [
    "`(28)` a,b와 np.concatenate를 이용하여 아래와 같은 배열을 만들어라. \n",
    "```\n",
    "array([[1, 2],\n",
    "       [1, 2],\n",
    "       [1, 2],\n",
    "       [1, 2],\n",
    "       [1, 2],\n",
    "       [1, 2],\n",
    "       [1, 2],\n",
    "       [1, 2],\n",
    "       [1, 2],\n",
    "       [1, 2]])\n",
    "```"
   ]
  },
  {
   "cell_type": "code",
   "execution_count": 214,
   "id": "99d4400f-5b36-4f23-b80b-d54b3737142d",
   "metadata": {},
   "outputs": [],
   "source": [
    "a4 = np.array(a).reshape(10,1)\n",
    "b4 = np.array(b).reshape(10,1)"
   ]
  },
  {
   "cell_type": "code",
   "execution_count": 217,
   "id": "a6499a33-2137-4807-afa0-44241665ad49",
   "metadata": {},
   "outputs": [
    {
     "data": {
      "text/plain": [
       "array([[1, 2],\n",
       "       [1, 2],\n",
       "       [1, 2],\n",
       "       [1, 2],\n",
       "       [1, 2],\n",
       "       [1, 2],\n",
       "       [1, 2],\n",
       "       [1, 2],\n",
       "       [1, 2],\n",
       "       [1, 2]])"
      ]
     },
     "execution_count": 217,
     "metadata": {},
     "output_type": "execute_result"
    }
   ],
   "source": [
    "np.concatenate([a4, b4], axis = 1)"
   ]
  },
  {
   "cell_type": "markdown",
   "id": "809dce9d-8966-4770-a939-1544ce0da6b5",
   "metadata": {},
   "source": [
    "`(29)` a,b와 np.stack을 이용하여 아래와 같은 배열을 만들어라. \n",
    "\n",
    "```\n",
    "array([[1, 1, 1, 1, 1, 1, 1, 1, 1, 1],\n",
    "       [2, 2, 2, 2, 2, 2, 2, 2, 2, 2]]\n",
    "```"
   ]
  },
  {
   "cell_type": "code",
   "execution_count": 55,
   "id": "19e9fdb8-e694-49ce-84c1-8bfed73ba7f4",
   "metadata": {},
   "outputs": [
    {
     "data": {
      "text/plain": [
       "array([[1, 1, 1, 1, 1, 1, 1, 1, 1, 1],\n",
       "       [2, 2, 2, 2, 2, 2, 2, 2, 2, 2]])"
      ]
     },
     "execution_count": 55,
     "metadata": {},
     "output_type": "execute_result"
    }
   ],
   "source": [
    "np.stack([a,b])"
   ]
  },
  {
   "cell_type": "markdown",
   "id": "539d5053-c1e9-4c11-93c0-96c1ddb962c1",
   "metadata": {},
   "source": [
    "`(30)` a,b와 np.stack을 이용하여 아래와 같은 배열을 만들어라. \n",
    "```\n",
    "array([[1, 2],\n",
    "       [1, 2],\n",
    "       [1, 2],\n",
    "       [1, 2],\n",
    "       [1, 2],\n",
    "       [1, 2],\n",
    "       [1, 2],\n",
    "       [1, 2],\n",
    "       [1, 2],\n",
    "       [1, 2]])\n",
    "```"
   ]
  },
  {
   "cell_type": "code",
   "execution_count": 223,
   "id": "31327e23-a152-4142-a9c4-b8f1cae71175",
   "metadata": {},
   "outputs": [
    {
     "data": {
      "text/plain": [
       "array([[1, 2],\n",
       "       [1, 2],\n",
       "       [1, 2],\n",
       "       [1, 2],\n",
       "       [1, 2],\n",
       "       [1, 2],\n",
       "       [1, 2],\n",
       "       [1, 2],\n",
       "       [1, 2],\n",
       "       [1, 2]])"
      ]
     },
     "execution_count": 223,
     "metadata": {},
     "output_type": "execute_result"
    }
   ],
   "source": [
    "np.stack([a, b], axis = 1)"
   ]
  },
  {
   "cell_type": "markdown",
   "id": "6a64a8df-c944-47e6-a499-421c8b61b704",
   "metadata": {},
   "source": [
    "`(31)` 아래와 같은 배열이 있다고 하자. \n",
    "```python\n",
    "a=np.array([1,2,3,4,5])\n",
    "b=np.array([3,2,1,1,2])\n",
    "```\n",
    "numpy의 `@` 연산자를 이용하여 $\\sum_{i=1}^{5}a_ib_i$를 계산하라. "
   ]
  },
  {
   "cell_type": "code",
   "execution_count": 224,
   "id": "c419357f-2d38-46d6-b346-862617f8b21b",
   "metadata": {},
   "outputs": [],
   "source": [
    "a=np.array([1,2,3,4,5])\n",
    "b=np.array([3,2,1,1,2])"
   ]
  },
  {
   "cell_type": "code",
   "execution_count": 227,
   "id": "d34bf6b9-17b0-4555-bed7-b9bfae2bb1a3",
   "metadata": {},
   "outputs": [
    {
     "data": {
      "text/plain": [
       "24"
      ]
     },
     "execution_count": 227,
     "metadata": {},
     "output_type": "execute_result"
    }
   ],
   "source": [
    "a@b.T"
   ]
  },
  {
   "cell_type": "markdown",
   "id": "5fae05d0-2323-494b-aeaf-b0d30c6bd4ea",
   "metadata": {},
   "source": [
    "`(32)` 아래와 같은 배열을 생성하라. \n",
    "```python\n",
    "x=np.random.randn(100)\n",
    "```\n",
    "numpy의 `@`연산자를 이용하여 $\\sum_{i=1}^{100}x_i^2$을 계산하라. "
   ]
  },
  {
   "cell_type": "code",
   "execution_count": 228,
   "id": "6d2dc650-fbd6-4146-81da-91d33414ced8",
   "metadata": {},
   "outputs": [],
   "source": [
    "x=np.random.randn(100)"
   ]
  },
  {
   "cell_type": "code",
   "execution_count": 229,
   "id": "fd769df4-bb08-4476-8c6d-0403d01fa535",
   "metadata": {},
   "outputs": [
    {
     "data": {
      "text/plain": [
       "113.93566755282257"
      ]
     },
     "execution_count": 229,
     "metadata": {},
     "output_type": "execute_result"
    }
   ],
   "source": [
    "x@x.T"
   ]
  },
  {
   "cell_type": "markdown",
   "id": "4afa4671-2934-4dbf-818f-c3c5be4b0550",
   "metadata": {},
   "source": [
    "`(33)` 아래와 같은 배열을 생성하라. \n",
    "```python\n",
    "a=np.array([1/100]*100)\n",
    "x=np.random.randn(100)\n",
    "```"
   ]
  },
  {
   "cell_type": "markdown",
   "id": "638aed1d-dee3-48a0-80dc-64685fc50f96",
   "metadata": {},
   "source": [
    "numpy의 `@`연산자를 이용하여 $\\frac{1}{n}\\sum_{i=1}^{n}x_i$를 계산하라. "
   ]
  },
  {
   "cell_type": "code",
   "execution_count": 91,
   "id": "03d6a518-c209-4d1d-a720-e586494eb9fb",
   "metadata": {},
   "outputs": [],
   "source": [
    "a=np.array([1/100]*100)\n",
    "x=np.random.randn(100)"
   ]
  },
  {
   "cell_type": "code",
   "execution_count": 247,
   "id": "d4570e9d-be81-4bfc-b3b8-55782aecdc11",
   "metadata": {},
   "outputs": [
    {
     "data": {
      "text/plain": [
       "-0.094581675878146"
      ]
     },
     "execution_count": 247,
     "metadata": {},
     "output_type": "execute_result"
    }
   ],
   "source": [
    "x@a.T"
   ]
  },
  {
   "cell_type": "markdown",
   "id": "bb5c0358-caca-4b89-8c3f-e5c2adbb8dc8",
   "metadata": {},
   "source": [
    "`(34)` 표준정규분포에서 100개의 난수를 생성하라. "
   ]
  },
  {
   "cell_type": "code",
   "execution_count": 238,
   "id": "d000c62b-d974-4078-91d2-06451b57697d",
   "metadata": {},
   "outputs": [],
   "source": [
    "arr34 = np.random.normal(0,1,100)"
   ]
  },
  {
   "cell_type": "markdown",
   "id": "914f8406-6667-45d1-8772-3c5f0b9e560c",
   "metadata": {},
   "source": [
    "`(35)` 아래와 동일한 코드를 np.random.rand()로 구현하라. \n",
    "```python\n",
    "np.random.uniform(low=2,high=4,size=(5,)) \n",
    "```"
   ]
  },
  {
   "cell_type": "code",
   "execution_count": 258,
   "id": "947bcbe9-cbf0-455a-bdf4-40307bab572e",
   "metadata": {},
   "outputs": [
    {
     "data": {
      "text/plain": [
       "array([2.28519159, 3.40516004, 2.93890068, 2.59424586, 3.13661879])"
      ]
     },
     "execution_count": 258,
     "metadata": {},
     "output_type": "execute_result"
    }
   ],
   "source": [
    "np.random.rand(5)*2 + 2"
   ]
  },
  {
   "cell_type": "markdown",
   "id": "984fa1a8-8b1f-4705-8d86-a1220f2d3b3a",
   "metadata": {},
   "source": [
    "`(36)` 아래와 같은 배열을 선언하라.\n",
    "```python\n",
    "a=np.random.randn(100) \n",
    "```\n",
    "np.where를 이용하여 a의 모든 음수를 0으로 바꾸는 코드를 작성하라. "
   ]
  },
  {
   "cell_type": "code",
   "execution_count": 271,
   "id": "217232d1-26cf-4e42-b5e2-e07eb7da6427",
   "metadata": {},
   "outputs": [],
   "source": [
    "a=np.random.randn(100) \n",
    "a[np.where(a < 0)] = abs(a[np.where(a < 0)])"
   ]
  },
  {
   "cell_type": "markdown",
   "id": "50ccb358-b11f-4ea6-afe9-4a8d9b6f960a",
   "metadata": {},
   "source": [
    "`(37)` 아래와 같은 배열을 선언하라. \n",
    "```python\n",
    "a=np.random.randn(100) \n",
    "```"
   ]
  },
  {
   "cell_type": "markdown",
   "id": "3ea9a584-f474-43c6-b0eb-40b09ac4f49f",
   "metadata": {},
   "source": [
    "위 배열의 최소값이 위치한 index를 return하라. "
   ]
  },
  {
   "cell_type": "code",
   "execution_count": 272,
   "id": "1e912f9b-89ca-4e09-93c3-79f21c34ef40",
   "metadata": {},
   "outputs": [],
   "source": [
    "a=np.random.randn(100)"
   ]
  },
  {
   "cell_type": "code",
   "execution_count": 279,
   "id": "280e643a-6fe4-45ea-8d9f-2f53fa501fa3",
   "metadata": {},
   "outputs": [
    {
     "data": {
      "text/plain": [
       "(array([80], dtype=int64),)"
      ]
     },
     "execution_count": 279,
     "metadata": {},
     "output_type": "execute_result"
    }
   ],
   "source": [
    "np.where(a == min(a))"
   ]
  },
  {
   "cell_type": "markdown",
   "id": "f03fe9d3-020f-47ba-8bf9-3a924710db14",
   "metadata": {},
   "source": [
    "`(38)` 아래와 같은 배열을 선언하라. "
   ]
  },
  {
   "cell_type": "code",
   "execution_count": 93,
   "id": "d6dcb080-1d71-4a33-a7f1-c9707c2d5771",
   "metadata": {},
   "outputs": [
    {
     "data": {
      "text/plain": [
       "array([[ 0,  1,  2,  3],\n",
       "       [ 4,  5,  6,  7],\n",
       "       [ 8,  9, 10, 11]])"
      ]
     },
     "execution_count": 93,
     "metadata": {},
     "output_type": "execute_result"
    }
   ],
   "source": [
    "a=np.arange(12).reshape(3,4)\n",
    "a"
   ]
  },
  {
   "cell_type": "markdown",
   "id": "44b0e554-630a-4a0c-84ac-69f2a9f18980",
   "metadata": {},
   "source": [
    "차원의 수를 유지하면서 1열을 추출하는 코드를 작성하라. 즉 결과가 아래와 같이 나오도록 하라. \n",
    "\n",
    "```\n",
    "array([[0],\n",
    "       [4],\n",
    "       [8]])\n",
    "```"
   ]
  },
  {
   "cell_type": "code",
   "execution_count": 98,
   "id": "99cd56bd-797b-4dc4-a2a4-d3e4e8b0d50a",
   "metadata": {},
   "outputs": [
    {
     "data": {
      "text/plain": [
       "array([0, 4, 8])"
      ]
     },
     "execution_count": 98,
     "metadata": {},
     "output_type": "execute_result"
    }
   ],
   "source": [
    "a[:, 0]"
   ]
  },
  {
   "cell_type": "code",
   "execution_count": 99,
   "id": "45b34e1e-a679-43eb-8048-92061834555e",
   "metadata": {},
   "outputs": [
    {
     "data": {
      "text/plain": [
       "array([[0],\n",
       "       [4],\n",
       "       [8]])"
      ]
     },
     "execution_count": 99,
     "metadata": {},
     "output_type": "execute_result"
    }
   ],
   "source": [
    "a=np.arange(12).reshape(3,4)\n",
    "a[:, [0]]"
   ]
  },
  {
   "cell_type": "markdown",
   "id": "65713ea9-78cf-4025-83b9-4365d79af33d",
   "metadata": {},
   "source": [
    "**(39)-(40)**"
   ]
  },
  {
   "cell_type": "markdown",
   "id": "605574c9-a12b-483b-8b3b-b6d14541f14b",
   "metadata": {},
   "source": [
    "`(39)` 자신의 학번으로 random seed 를 설정하라. [20,25)의 범위에서 100개의 정수를 랜덤으로 생성해 (10,10) shape의 배열을 만들어라. "
   ]
  },
  {
   "cell_type": "code",
   "execution_count": 106,
   "id": "f399485d-ccc8-497b-beb5-c9be46b98c2a",
   "metadata": {},
   "outputs": [],
   "source": [
    "np.random.seed(202115789)"
   ]
  },
  {
   "cell_type": "code",
   "execution_count": 107,
   "id": "fd9cd12a-52e6-4f95-accf-0f6ce6529e83",
   "metadata": {},
   "outputs": [
    {
     "data": {
      "text/plain": [
       "array([[22, 21, 23, 20, 24, 22, 24, 20, 23, 21],\n",
       "       [20, 22, 20, 20, 20, 24, 22, 22, 20, 21],\n",
       "       [24, 20, 22, 20, 23, 23, 20, 22, 20, 20],\n",
       "       [23, 22, 24, 21, 21, 22, 21, 23, 20, 23],\n",
       "       [23, 21, 23, 21, 23, 22, 20, 24, 24, 20],\n",
       "       [20, 20, 24, 20, 22, 20, 23, 20, 20, 23],\n",
       "       [20, 24, 22, 21, 21, 20, 22, 22, 22, 23],\n",
       "       [23, 23, 24, 21, 20, 21, 22, 20, 23, 22],\n",
       "       [21, 22, 22, 21, 24, 23, 20, 24, 23, 20],\n",
       "       [24, 21, 21, 24, 20, 23, 23, 21, 22, 20]])"
      ]
     },
     "execution_count": 107,
     "metadata": {},
     "output_type": "execute_result"
    }
   ],
   "source": [
    "mat39 = np.random.randint(low = 20, high = 25, size = (10,10))\n",
    "mat39 "
   ]
  },
  {
   "cell_type": "markdown",
   "id": "1cc76357-8528-4fac-8ac4-840dacd15f55",
   "metadata": {},
   "source": [
    "`(40)` 39의 결과에서 20,21,22 는 각각 몇개씩 있는가? "
   ]
  },
  {
   "cell_type": "code",
   "execution_count": 111,
   "id": "511b1f2d-84d2-45b3-8109-f464b0efa14f",
   "metadata": {},
   "outputs": [
    {
     "data": {
      "text/plain": [
       "29"
      ]
     },
     "execution_count": 111,
     "metadata": {},
     "output_type": "execute_result"
    }
   ],
   "source": [
    "np.sum(mat39 == 20)"
   ]
  },
  {
   "cell_type": "code",
   "execution_count": 112,
   "id": "1d0527b9-0dc1-49c0-9e4f-7098101bed62",
   "metadata": {},
   "outputs": [
    {
     "data": {
      "text/plain": [
       "17"
      ]
     },
     "execution_count": 112,
     "metadata": {},
     "output_type": "execute_result"
    }
   ],
   "source": [
    "np.sum(mat39 == 21)"
   ]
  },
  {
   "cell_type": "code",
   "execution_count": 115,
   "id": "03052b3d-2596-4266-9f27-918ba92d40f8",
   "metadata": {},
   "outputs": [
    {
     "data": {
      "text/plain": [
       "20"
      ]
     },
     "execution_count": 115,
     "metadata": {},
     "output_type": "execute_result"
    }
   ],
   "source": [
    "np.sum(mat39 == 22)"
   ]
  },
  {
   "cell_type": "markdown",
   "id": "eec30747-7890-4d60-9816-1753259abd5a",
   "metadata": {
    "tags": []
   },
   "source": [
    "## `2`. 코드구현 II (50점)"
   ]
  },
  {
   "cell_type": "markdown",
   "id": "bd5b5a8f-cbc5-4cb0-81b8-f288ebff560f",
   "metadata": {},
   "source": [
    "---"
   ]
  },
  {
   "cell_type": "markdown",
   "id": "5b024928-3a3d-4def-b5c0-eb85f9a0514b",
   "metadata": {},
   "source": [
    "**(1)-(6)** 아래의 코드를 실해하여 test_dic를 생성하라. \n",
    "```python\n",
    "np.random.seed(43052)\n",
    "att = np.random.choice(np.arange(10,21)*5,200)\n",
    "rep = np.random.choice(np.arange(5,21)*5,200)\n",
    "mid = np.random.choice(np.arange(0,21)*5,200)\n",
    "fin = np.random.choice(np.arange(0,21)*5,200)\n",
    "key = ['202212'+str(s) for s in np.random.choice(np.arange(300,501),200,replace=False)]\n",
    "test_dic = {key[i] : {'att':att[i], 'rep':rep[i], 'mid':mid[i], 'fin':fin[i]} for i in range(200)}\n",
    "del(att);del(rep);del(mid);del(fin);del(key)\n",
    "```"
   ]
  },
  {
   "cell_type": "code",
   "execution_count": 171,
   "id": "35672497-009d-48b6-a3ca-b8d5c19e601b",
   "metadata": {},
   "outputs": [],
   "source": [
    "np.random.seed(43052)\n",
    "att = np.random.choice(np.arange(10,21)*5,200)\n",
    "rep = np.random.choice(np.arange(5,21)*5,200)\n",
    "mid = np.random.choice(np.arange(0,21)*5,200)\n",
    "fin = np.random.choice(np.arange(0,21)*5,200)\n",
    "key = ['202212'+str(s) for s in np.random.choice(np.arange(300,501),200,replace=False)]\n",
    "test_dic = {key[i] : {'att':att[i], 'rep':rep[i], 'mid':mid[i], 'fin':fin[i]} for i in range(200)}\n",
    "del(att);del(rep);del(mid);del(fin);del(key)"
   ]
  },
  {
   "cell_type": "markdown",
   "id": "1653b767-54ae-4726-8169-d6cb559b0a16",
   "metadata": {},
   "source": [
    "여기에서 `202212345`등은 학번을, att는 출석점수, rep는 레포트점수, mid는 중간고사점수, fin은 기말고사 점수를 의미한다. "
   ]
  },
  {
   "cell_type": "markdown",
   "id": "03745379-61a0-4104-9312-39627f70982a",
   "metadata": {},
   "source": [
    "`(1)` test_dic에서 출석점수가 70이상(70>=)인 학생들의 학번을 출력하는 코드를 작성하라. "
   ]
  },
  {
   "cell_type": "code",
   "execution_count": 172,
   "id": "248f721a-f04e-4440-8b9d-e6208e6c57d1",
   "metadata": {},
   "outputs": [
    {
     "data": {
      "text/plain": [
       "array(['202212473', '202212320', '202212329', '202212348', '202212306',\n",
       "       '202212366', '202212367', '202212361', '202212404', '202212326',\n",
       "       '202212452', '202212356', '202212305', '202212398', '202212410',\n",
       "       '202212385', '202212430', '202212423', '202212327', '202212347',\n",
       "       '202212483', '202212447', '202212496', '202212358', '202212399',\n",
       "       '202212459', '202212313', '202212304', '202212431', '202212325',\n",
       "       '202212463', '202212441', '202212445', '202212323', '202212442',\n",
       "       '202212411', '202212331', '202212345', '202212383', '202212462',\n",
       "       '202212344', '202212437', '202212438', '202212384', '202212469',\n",
       "       '202212379', '202212450', '202212337', '202212494', '202212373',\n",
       "       '202212455', '202212317', '202212386', '202212328', '202212370',\n",
       "       '202212486', '202212360', '202212350', '202212382', '202212444',\n",
       "       '202212425', '202212312', '202212448', '202212451', '202212424',\n",
       "       '202212324', '202212314', '202212401', '202212307', '202212342',\n",
       "       '202212479', '202212443', '202212387', '202212372', '202212376',\n",
       "       '202212391', '202212368', '202212427', '202212414', '202212426',\n",
       "       '202212316', '202212355', '202212477', '202212484', '202212381',\n",
       "       '202212335', '202212343', '202212412', '202212428', '202212330',\n",
       "       '202212413', '202212303', '202212440', '202212393', '202212492',\n",
       "       '202212415', '202212405', '202212435', '202212380', '202212369',\n",
       "       '202212429', '202212495', '202212302', '202212422', '202212388',\n",
       "       '202212480', '202212457', '202212432', '202212464', '202212476',\n",
       "       '202212332', '202212301', '202212497', '202212309', '202212311',\n",
       "       '202212359', '202212349', '202212403', '202212418', '202212485',\n",
       "       '202212390', '202212321', '202212499', '202212340', '202212407',\n",
       "       '202212439', '202212453', '202212334', '202212315', '202212470'],\n",
       "      dtype='<U9')"
      ]
     },
     "execution_count": 172,
     "metadata": {},
     "output_type": "execute_result"
    }
   ],
   "source": [
    "A = np.array([ test_dic[x]['att'] for x in list(test_dic) ])\n",
    "np.array(list(test_dic))[A>=70]"
   ]
  },
  {
   "cell_type": "markdown",
   "id": "1005593f-0013-4142-8e58-7108e3b91fdf",
   "metadata": {},
   "source": [
    "`(2)` test_dic에서 출석점수가 70미만(<70)인 학생들의 수를 구하라. "
   ]
  },
  {
   "cell_type": "code",
   "execution_count": 173,
   "id": "0a8ea854-c8fb-42b6-bce8-ff64d2118951",
   "metadata": {},
   "outputs": [
    {
     "data": {
      "text/plain": [
       "70"
      ]
     },
     "execution_count": 173,
     "metadata": {},
     "output_type": "execute_result"
    }
   ],
   "source": [
    "A = np.array([ test_dic[x]['att'] for x in list(test_dic) ])\n",
    "len(np.array(list(test_dic))[A<70])"
   ]
  },
  {
   "cell_type": "markdown",
   "id": "88ced793-8e83-4949-b7c8-41242b629383",
   "metadata": {},
   "source": [
    "`(3)` test_dic에서 출석점수가 70이상(70>=)인 학생들의 중간고사 점수의 평균을 계산하라. "
   ]
  },
  {
   "cell_type": "code",
   "execution_count": 174,
   "id": "2ec1556d-5f59-42dc-a03d-d337ece7773a",
   "metadata": {},
   "outputs": [
    {
     "data": {
      "text/plain": [
       "86.07692307692308"
      ]
     },
     "execution_count": 174,
     "metadata": {},
     "output_type": "execute_result"
    }
   ],
   "source": [
    "A = np.array([ test_dic[x]['att'] for x in list(test_dic) ])\n",
    "np.mean(A[A>=70])"
   ]
  },
  {
   "cell_type": "markdown",
   "id": "1277d556-7a9b-4352-a83e-6191ddfce1ee",
   "metadata": {},
   "source": [
    "`(4)` test_dic에서 중간고사 점수를 출력하는 코드를 작성하라. "
   ]
  },
  {
   "cell_type": "code",
   "execution_count": 175,
   "id": "79013ee4-975a-4329-8c1f-91942e16f794",
   "metadata": {},
   "outputs": [
    {
     "data": {
      "text/plain": [
       "array([  0,  60,  15,  35,  55,  75,  60,  20,  65,  95,  75,  25,   0,\n",
       "        90,  50,  25,  35,  10,  65, 100,  80,  85,  45,  50,  30,  30,\n",
       "        50,  50,  25,  20,  85,   5,  65,  90,  70,  35,  65,   0,  60,\n",
       "         0,  15,  30,  50,  10, 100,  60,  35,  75,  35,  85,  25,  35,\n",
       "        30,  45,  50, 100,  95,  80,  35,  35,  15,  55,  65,  90,  20,\n",
       "         0,  15,  30,   5,  15,  15,  90,  85,  95,  45,  45,  35,  10,\n",
       "        90,  60, 100,  60,  85, 100,  30,  95,   0,  45,  90,  65,  35,\n",
       "        75,  40,  50,  80,  20,  25,  95,  80,  15,  25,  10,  55,  50,\n",
       "        95,  15, 100,  60,  55,  85,  80,  75,  70,  55,  40,  30,   5,\n",
       "        85,  10,  80,  80,  75,  70,  20,  10,  25,  40,  85,  25,  50,\n",
       "        75,  95,  80,  95,  50,  95,  65,  35,  15,  80,  25,  80,  75,\n",
       "        35,  90, 100,   0,  35, 100,  20,  90,  55,  40,   5,  25,  90,\n",
       "        70,  85,  95,  10,  15,  70,  70,  10,  80,  40,  50,  65,  50,\n",
       "        70,   0,  35,   5,  60,  40, 100,  70,  55,  70,  60,  90,  10,\n",
       "        10,  35,  30,  70,  45, 100,  80,  30,  40,  65,  80,  95,  65,\n",
       "        40,  25, 100,  35,  45])"
      ]
     },
     "execution_count": 175,
     "metadata": {},
     "output_type": "execute_result"
    }
   ],
   "source": [
    "A = np.array([ test_dic[x]['mid'] for x in list(test_dic) ])\n",
    "A"
   ]
  },
  {
   "cell_type": "markdown",
   "id": "fd3bbb77-7fdb-44ae-a6b4-99d767073231",
   "metadata": {},
   "source": [
    "`(5)` test_dic에서 중간고사 점수의 표준편차와 레포트점수의 표준편차를 구하여라. 어떤것이 더 큰가? "
   ]
  },
  {
   "cell_type": "code",
   "execution_count": 176,
   "id": "281a1fe3-efdf-4a73-9a4c-b2037529d281",
   "metadata": {},
   "outputs": [
    {
     "name": "stdout",
     "output_type": "stream",
     "text": [
      "중간고사의 표준편차가 더 크다.\n"
     ]
    }
   ],
   "source": [
    "A = np.array([ test_dic[x]['mid'] for x in list(test_dic) ])\n",
    "B = np.array([ test_dic[x]['rep'] for x in list(test_dic) ])\n",
    "\n",
    "if np.std(A) > np.std(B): print('중간고사의 표준편차가 더 크다.')\n",
    "else: print('레포트점수의 표준편차가 더 크다.')"
   ]
  },
  {
   "cell_type": "markdown",
   "id": "a720caee-e15c-4c6c-9c5a-e807d7605fe0",
   "metadata": {},
   "source": [
    "`(6)` test_dic에서 중간고사 점수가 가장 높은 사람의 학번을 출력하라. "
   ]
  },
  {
   "cell_type": "code",
   "execution_count": 177,
   "id": "6fa587cd-715e-4023-810e-0f311aee8fc2",
   "metadata": {},
   "outputs": [
    {
     "data": {
      "text/plain": [
       "array(['202212326', '202212463', '202212383', '202212341', '202212417',\n",
       "       '202212401', '202212405', '202212369', '202212403', '202212407',\n",
       "       '202212315'], dtype='<U9')"
      ]
     },
     "execution_count": 177,
     "metadata": {},
     "output_type": "execute_result"
    }
   ],
   "source": [
    "A = np.array([ test_dic[x]['mid'] for x in list(test_dic) ])\n",
    "np.array(list(test_dic))[A == max(A)]"
   ]
  },
  {
   "cell_type": "markdown",
   "id": "4452a435-f2de-4604-81f6-9fd1a8a98939",
   "metadata": {},
   "source": [
    "**주의:** att,rep,mid,fin,key를 실행하여 소멸시키지 않고 그대로 이용하거나 np.random.choice()를 이용하여 재생성한 뒤 계산할 경우 0점 처리함. \n",
    "- 예를들면 (5)의 경우 np.std(mid), np.std(rep) 와 같은 식으로 구현하면 0점 처리함. "
   ]
  },
  {
   "cell_type": "markdown",
   "id": "7498288b-2d6d-4ed7-9d09-e670ddf98835",
   "metadata": {},
   "source": [
    "---"
   ]
  },
  {
   "cell_type": "markdown",
   "id": "4048c636-aef4-419c-9484-0fe05320575e",
   "metadata": {},
   "source": [
    "`(7)` 성공확률이 0.45인 시행이 있다고 하자. 이 시행을 100번의 시행하였을 경우 73번 이상 성공할 확률은 얼마인가? 시뮬레이션을 이용하여 근사계산하라. "
   ]
  },
  {
   "cell_type": "code",
   "execution_count": 132,
   "id": "dcb2948e-ed0b-4a92-ba3a-787760ff0400",
   "metadata": {},
   "outputs": [
    {
     "data": {
      "text/plain": [
       "0.0"
      ]
     },
     "execution_count": 132,
     "metadata": {},
     "output_type": "execute_result"
    }
   ],
   "source": [
    "rep_time = 10000\n",
    "sum(np.random.binomial(n=100, p = 0.45, size = (rep_time,)) > 73) / rep_time"
   ]
  },
  {
   "cell_type": "code",
   "execution_count": 133,
   "id": "9a70274e-9832-42b3-ab1d-e34abf042ee5",
   "metadata": {},
   "outputs": [
    {
     "data": {
      "text/plain": [
       "1.280373368055737e-08"
      ]
     },
     "execution_count": 133,
     "metadata": {},
     "output_type": "execute_result"
    }
   ],
   "source": [
    "# 이론적인 확률\n",
    "\n",
    "from math import factorial\n",
    "\n",
    "def ppap(n, r, p):\n",
    "    return(factorial(n)/(factorial(n-r)*factorial(r)) * (p)**r * (1-p)**(n-r))\n",
    "\n",
    "n = 100\n",
    "to_73_100 = np.arange(73,101)\n",
    "p = 0.45\n",
    "\n",
    "sum([ppap(n, r, p) for r in to_73_100])"
   ]
  },
  {
   "cell_type": "markdown",
   "id": "074f07b9-84da-4791-961c-61832a728f77",
   "metadata": {},
   "source": [
    "`(8)` 성공확률이 0.45인 시행이 있다고 하자. 이 시행을 100번 시행하였을 경우 10번이하로 실패하거나 90번이상 성공할 확률은 얼마인가? 시뮬레이션을 이용하여 근사계산하라. "
   ]
  },
  {
   "cell_type": "code",
   "execution_count": 142,
   "id": "92a10ac6-bc71-41f9-b9f9-daaae6a0d5d0",
   "metadata": {},
   "outputs": [
    {
     "data": {
      "text/plain": [
       "0.0"
      ]
     },
     "execution_count": 142,
     "metadata": {},
     "output_type": "execute_result"
    }
   ],
   "source": [
    "rep_time = 10000\n",
    "A = np.random.binomial(n=100, p = 0.45, size = (rep_time,))\n",
    "(sum(A < 10) + sum(A > 90)) / rep_time"
   ]
  },
  {
   "cell_type": "markdown",
   "id": "dbbec876-e84f-476e-95cd-da85b9092fbe",
   "metadata": {},
   "source": [
    "`(9)` 아래와 같은 행렬을 선언하자. "
   ]
  },
  {
   "cell_type": "code",
   "execution_count": 192,
   "id": "4f0af62e-2ee3-456f-a6e9-ec4e79395a2a",
   "metadata": {},
   "outputs": [],
   "source": [
    "A=np.arange(2*1).reshape(2,1)\n",
    "B=np.arange(2*2).reshape(2,2)\n",
    "C=np.arange(2*3).reshape(2,3)\n",
    "D=np.arange(3*3).reshape(3,3)\n",
    "E=np.arange(3*2).reshape(3,2)\n",
    "F=np.arange(3*1).reshape(3,1)"
   ]
  },
  {
   "cell_type": "markdown",
   "id": "c9ab9aaa-c6ad-4d84-88b4-cf49ff8e65cc",
   "metadata": {},
   "source": [
    "아래의 블락매트릭스를 만들어라. "
   ]
  },
  {
   "cell_type": "markdown",
   "id": "04946c74-fe3f-4c06-976e-2970d58ea948",
   "metadata": {},
   "source": [
    "\\begin{bmatrix}\n",
    "a_{11} & b_{11} & b_{12} & c_{11} & c_{12} & c_{13} \\\\ \n",
    "a_{21} & b_{21} & b_{22} & c_{21} & c_{22} & c_{23} \\\\ \n",
    "d_{11} & d_{12} & d_{13} & e_{11} & e_{12} & f_{11} \\\\ \n",
    "d_{21} & d_{22} & d_{23} & e_{21} & e_{22} & f_{21} \\\\ \n",
    "d_{31} & d_{32} & d_{33} & e_{31} & e_{32} & f_{31} \n",
    "\\end{bmatrix}"
   ]
  },
  {
   "cell_type": "markdown",
   "id": "21837cbd-b5bf-4db0-b35a-d186098ad185",
   "metadata": {},
   "source": [
    "여기에서 $a_{ij}$는 매트릭스 ${\\bf A}$의 원소이다. "
   ]
  },
  {
   "cell_type": "code",
   "execution_count": 215,
   "id": "b56c3378-4cf0-433f-a00d-ee11aea767c1",
   "metadata": {},
   "outputs": [
    {
     "data": {
      "text/plain": [
       "array([[0, 0, 1, 0, 1, 2],\n",
       "       [1, 2, 3, 3, 4, 5],\n",
       "       [0, 1, 2, 0, 1, 0],\n",
       "       [3, 4, 5, 2, 3, 1],\n",
       "       [6, 7, 8, 4, 5, 2]])"
      ]
     },
     "execution_count": 215,
     "metadata": {},
     "output_type": "execute_result"
    }
   ],
   "source": [
    "P = np.concatenate([A, B, C], axis = 1)\n",
    "Q = np.concatenate([D, E, F], axis = 1)\n",
    "np.concatenate([P, Q], axis = 0)"
   ]
  },
  {
   "cell_type": "markdown",
   "id": "fe5ab7fb-e0f1-4ed4-937f-78f90bc492ba",
   "metadata": {},
   "source": [
    "`(10)` 표준정규분포에 10000개의 난수를 아래와 같이 생성하라. "
   ]
  },
  {
   "cell_type": "code",
   "execution_count": 4,
   "id": "2a7412c2-c068-4fe3-bca1-79afe7b3e684",
   "metadata": {},
   "outputs": [],
   "source": [
    "x=np.random.randn(10000)\n",
    "y=np.random.randn(10000)"
   ]
  },
  {
   "cell_type": "markdown",
   "id": "59b2cc2e-278a-4e91-bc6e-4d2f4f778241",
   "metadata": {},
   "source": [
    "$(i,j)$ 번째 원소가 $(x_i-y_i)^2$인 (10000,10000) 매트릭스를 만들어라. \n",
    "\n"
   ]
  },
  {
   "cell_type": "code",
   "execution_count": 6,
   "id": "51dfd65c-0964-4690-b7f5-26aac04fdeb0",
   "metadata": {},
   "outputs": [
    {
     "data": {
      "text/plain": [
       "array([0.74107376, 0.33269343, 0.25825955, ..., 8.39671902, 2.13892895,\n",
       "       0.2602981 ])"
      ]
     },
     "execution_count": 6,
     "metadata": {},
     "output_type": "execute_result"
    }
   ],
   "source": [
    "z = (x-y)**2\n",
    "z"
   ]
  },
  {
   "cell_type": "markdown",
   "id": "9281ecc9-b687-4cf8-8943-f93e806dd7cf",
   "metadata": {},
   "source": [
    "---"
   ]
  },
  {
   "cell_type": "markdown",
   "id": "6e75324c-d312-4438-a5a9-a979de60af5f",
   "metadata": {},
   "source": [
    "**(11)-(16)** "
   ]
  },
  {
   "cell_type": "markdown",
   "id": "24fb8130-d46e-48e1-affa-dbb67bc7646c",
   "metadata": {},
   "source": [
    "아래와 같은 매트릭스를 생성하라. "
   ]
  },
  {
   "cell_type": "code",
   "execution_count": 3,
   "id": "502f7f9b-0b3b-49ee-bfb1-a7a7a6cbb6c3",
   "metadata": {},
   "outputs": [
    {
     "data": {
      "text/plain": [
       "array([[ 0.38342049,  1.0841745 ,  1.14277825, ..., -0.18506968,\n",
       "         1.05538764,  1.18701443],\n",
       "       [-0.25027283, -1.58045215,  0.1124153 , ...,  1.0321894 ,\n",
       "         0.40438012, -0.13491595],\n",
       "       [-0.76763724, -0.64294232, -0.24782396, ..., -0.01530161,\n",
       "         0.89125897, -0.82683395],\n",
       "       ...,\n",
       "       [-1.41379028,  0.79611333, -0.71011837, ..., -0.9860352 ,\n",
       "         1.30755244,  2.18677233],\n",
       "       [ 1.33968105, -0.78457449, -0.10405858, ..., -0.71110186,\n",
       "         0.99841286,  2.34371635],\n",
       "       [-0.66422032, -0.07550233,  0.7405869 , ...,  1.03232398,\n",
       "        -0.18988252, -0.03578389]])"
      ]
     },
     "execution_count": 3,
     "metadata": {},
     "output_type": "execute_result"
    }
   ],
   "source": [
    "np.random.seed(43052)\n",
    "a=np.random.randn(10000).reshape(100,100)\n",
    "a"
   ]
  },
  {
   "cell_type": "markdown",
   "id": "902be031-f67f-427f-80fe-3b5bbe86adeb",
   "metadata": {},
   "source": [
    "`(11)` 각 행의 합을 구하라. 즉 1행의 합, 2행의 합, ... 100행의 합을 계산하라. \n",
    "- 1행의합 =  0.38342049 + 1.0841745 + ... + 1.18701443"
   ]
  },
  {
   "cell_type": "code",
   "execution_count": 6,
   "id": "f9c830d3-60ea-40fe-b033-0cce28410175",
   "metadata": {},
   "outputs": [
    {
     "data": {
      "text/plain": [
       "array([-8.13607922e+00,  9.87120533e+00, -1.41434956e+01, -2.21705363e+00,\n",
       "       -1.45535236e+01, -9.15821678e+00, -2.59866360e+00, -1.54562385e+01,\n",
       "       -1.42005088e+00, -3.51523111e+00,  9.70487578e+00, -1.26229105e+01,\n",
       "        1.66837113e+00,  2.43015457e+00,  2.72990184e+00, -7.99486429e+00,\n",
       "       -8.38305954e-01, -8.45002020e+00, -1.03610098e+00,  2.07251861e+01,\n",
       "        1.11461478e+01,  7.62144075e+00, -7.93734585e+00,  1.82844319e+01,\n",
       "       -2.63562392e+00, -8.97916930e+00, -1.88986183e+00, -9.32477049e+00,\n",
       "       -6.69074565e+00, -1.42463143e+01,  6.45540510e-01,  1.80911488e+00,\n",
       "        2.40997157e+00,  1.63367254e+01,  7.63990677e+00,  8.13524813e+00,\n",
       "        3.97159000e+00, -1.10542949e+00,  4.37564512e-01,  2.87299971e+00,\n",
       "       -4.01016768e+00,  5.71115215e+00, -4.64132698e+00, -9.13987753e+00,\n",
       "       -6.78326000e+00,  3.36308150e+00, -5.13704342e+00, -5.09782466e+00,\n",
       "        6.54192465e-03,  7.19722660e+00, -4.64674820e+00, -9.24124039e+00,\n",
       "        6.73530841e+00,  1.12168921e+00,  1.61615988e+00,  1.37602200e+01,\n",
       "        6.67289840e-01, -2.09578108e+00, -2.81826564e-01, -8.52416541e+00,\n",
       "       -7.21970047e+00,  2.27146777e+01, -1.40341974e+01,  1.69263136e+01,\n",
       "       -1.80568372e+01,  6.52142336e+00, -1.73092812e+01, -1.34999285e+01,\n",
       "       -7.85539317e+00, -4.74940393e-01, -2.75765037e+01,  8.74991555e+00,\n",
       "       -9.77324158e+00,  1.42854121e+01, -1.10130356e+00, -1.39206483e-01,\n",
       "       -1.54638921e+01,  1.36814794e+00,  8.41394160e+00, -2.42153833e+00,\n",
       "       -2.57155344e+01, -6.72423820e+00, -9.49366257e-01,  3.79493472e+00,\n",
       "       -6.23508582e+00,  7.75657189e+00,  9.69403620e+00,  1.46847519e+01,\n",
       "        7.36500792e+00, -2.54755192e+01,  1.22792449e+01, -1.02497847e+01,\n",
       "        1.30452028e+01,  3.92943038e+00, -3.27227585e+00, -1.06633071e+01,\n",
       "       -1.56942302e+01,  8.01451222e+00,  2.81546938e+00,  5.56774384e+00])"
      ]
     },
     "execution_count": 6,
     "metadata": {},
     "output_type": "execute_result"
    }
   ],
   "source": [
    "a.sum(axis = 1)"
   ]
  },
  {
   "cell_type": "markdown",
   "id": "63cd52e7-21f1-49d6-a465-7eea16f2b66b",
   "metadata": {},
   "source": [
    "`(12)` `(11)`의 결과로 나온 배열의 표준편차를 구하라. "
   ]
  },
  {
   "cell_type": "code",
   "execution_count": 8,
   "id": "4f4e567d-44f5-482b-b11b-c7eae7cf3ddf",
   "metadata": {},
   "outputs": [
    {
     "data": {
      "text/plain": [
       "9.98012658863081"
      ]
     },
     "execution_count": 8,
     "metadata": {},
     "output_type": "execute_result"
    }
   ],
   "source": [
    "np.std(a.sum(axis = 1))"
   ]
  },
  {
   "cell_type": "markdown",
   "id": "064a0e44-140e-4df6-9528-0c5e579a9370",
   "metadata": {},
   "source": [
    "`(13)` 각 열의 평균을 구하라. 즉 1열의 평균, 2열의 평균, ... , 100열의 평균을 계산하라. "
   ]
  },
  {
   "cell_type": "code",
   "execution_count": 11,
   "id": "9b73fbf1-1fa9-4b1e-bd2f-edba9a3a8aff",
   "metadata": {},
   "outputs": [
    {
     "data": {
      "text/plain": [
       "array([ 5.05543481e-03, -8.11250975e-03, -7.27142023e-03,  9.64876493e-02,\n",
       "        5.64186324e-02, -2.22728206e-02,  1.32808256e-04, -9.60905067e-02,\n",
       "        9.42144096e-02, -1.21946518e-01, -2.21878576e-02, -3.77018716e-02,\n",
       "        2.35739166e-03, -1.13202128e-01, -9.00374437e-02, -3.09372275e-02,\n",
       "       -2.18029121e-02,  7.04210003e-02, -4.12563112e-02,  2.58233488e-02,\n",
       "        1.16578817e-01, -1.59430241e-01, -1.53668953e-02,  9.21879710e-02,\n",
       "       -1.11346500e-01, -1.20131585e-01,  5.94139652e-02, -3.27022797e-02,\n",
       "       -1.46466366e-02, -1.78386785e-02, -1.06650333e-01, -9.04542721e-02,\n",
       "       -8.52586244e-02,  5.52166280e-02,  1.94115122e-01,  4.64389603e-02,\n",
       "        5.13636914e-02,  1.11424801e-01, -4.18629084e-02,  9.23822150e-02,\n",
       "       -2.00433998e-02, -5.73784795e-02, -8.79928414e-02, -3.01766235e-02,\n",
       "        6.47256326e-02,  3.14419234e-02, -1.16146865e-01, -1.04800787e-01,\n",
       "        3.17924308e-02,  5.51687322e-02,  1.04913214e-01, -2.79741703e-03,\n",
       "        2.56767141e-01, -1.35620430e-01, -9.59492302e-02,  1.23241275e-01,\n",
       "       -5.26436946e-03, -3.14823093e-02, -4.00286104e-02, -1.48618576e-01,\n",
       "        4.85988487e-02, -1.37972086e-01, -1.04715966e-01, -7.13893940e-02,\n",
       "        4.35483376e-02, -2.10610822e-01, -1.03231108e-01, -1.62132451e-01,\n",
       "        2.85187037e-01, -8.25697744e-02,  4.33723229e-02,  1.32763889e-02,\n",
       "       -1.61919484e-01, -5.07924036e-02,  6.62243327e-02, -9.72863991e-02,\n",
       "        2.71962223e-01, -5.97710822e-02,  1.54580795e-01, -5.46739064e-02,\n",
       "       -1.08611574e-01, -1.56520706e-01, -1.40476317e-01,  1.06067589e-01,\n",
       "       -3.46141736e-02, -6.07673046e-02,  5.33471760e-03,  8.10276105e-02,\n",
       "       -1.31994569e-01, -1.00936968e-02,  6.13944222e-02, -9.72765699e-02,\n",
       "        1.61342793e-01,  1.02634369e-01, -5.03038014e-02, -7.50604837e-02,\n",
       "        2.63992605e-02,  6.98470602e-02, -1.89567885e-01,  7.91910813e-02])"
      ]
     },
     "execution_count": 11,
     "metadata": {},
     "output_type": "execute_result"
    }
   ],
   "source": [
    "a.mean(axis = 0)"
   ]
  },
  {
   "cell_type": "markdown",
   "id": "d6e22501-0b4b-4d82-aeed-cfe9ad42b268",
   "metadata": {},
   "source": [
    "`(14)` `(13)`의 결과로 나온 배열의 표준편차를 구하라."
   ]
  },
  {
   "cell_type": "code",
   "execution_count": 12,
   "id": "429e951b-4b7d-468b-aa09-56dbf8d338ea",
   "metadata": {},
   "outputs": [
    {
     "data": {
      "text/plain": [
       "0.0994499200006578"
      ]
     },
     "execution_count": 12,
     "metadata": {},
     "output_type": "execute_result"
    }
   ],
   "source": [
    "np.std(a.mean(axis = 0))"
   ]
  },
  {
   "cell_type": "markdown",
   "id": "036327cc-3ce7-4480-bb7b-538cbd3cb0d6",
   "metadata": {},
   "source": [
    "`(15)` a의 원소중 a>0 을 만족하는 원소의 평균을 구하여라. "
   ]
  },
  {
   "cell_type": "code",
   "execution_count": 20,
   "id": "97ea5280-973b-42ef-a3a9-6d2405089e89",
   "metadata": {},
   "outputs": [
    {
     "data": {
      "text/plain": [
       "0.7879030416692301"
      ]
     },
     "execution_count": 20,
     "metadata": {},
     "output_type": "execute_result"
    }
   ],
   "source": [
    "np.mean(a[a > 0])"
   ]
  },
  {
   "cell_type": "markdown",
   "id": "9f56e8ea-5c66-4080-b585-60da2834c71a",
   "metadata": {},
   "source": [
    "`(16)` a의 원소중 a>3을 만족하는 원소의 수를 count하라. "
   ]
  },
  {
   "cell_type": "code",
   "execution_count": 21,
   "id": "20c87b14-047f-487f-8c19-1e47ba4155d2",
   "metadata": {},
   "outputs": [
    {
     "data": {
      "text/plain": [
       "4956"
      ]
     },
     "execution_count": 21,
     "metadata": {},
     "output_type": "execute_result"
    }
   ],
   "source": [
    "len(a[a > 0 ])"
   ]
  },
  {
   "cell_type": "markdown",
   "id": "8da00003-8ce1-4c00-85b9-076a9243ee4e",
   "metadata": {},
   "source": [
    "--- "
   ]
  },
  {
   "cell_type": "markdown",
   "id": "4293729b-422f-403c-a771-f215cecb6fca",
   "metadata": {},
   "source": [
    "**(17)-(18)**"
   ]
  },
  {
   "cell_type": "markdown",
   "id": "56b1b14e-7287-4834-8cdb-bec904d6e0b0",
   "metadata": {},
   "source": [
    "아래와 같은 배열 a를 고려하자. "
   ]
  },
  {
   "cell_type": "code",
   "execution_count": 150,
   "id": "8f1efaa7-4943-438d-b184-e08862280265",
   "metadata": {},
   "outputs": [
    {
     "data": {
      "text/plain": [
       "array([1, 0, 1, ..., 1, 1, 0])"
      ]
     },
     "execution_count": 150,
     "metadata": {},
     "output_type": "execute_result"
    }
   ],
   "source": [
    "np.random.seed(43052)\n",
    "a=np.random.binomial(1,0.2,size=(10000,))\n",
    "a"
   ]
  },
  {
   "cell_type": "markdown",
   "id": "a6bbcced-1401-40f9-a7ff-df319b956a97",
   "metadata": {},
   "source": [
    "`(17)` 0에서 1로 바뀌는 부분을 count하라. "
   ]
  },
  {
   "cell_type": "code",
   "execution_count": 154,
   "id": "4a4912b3-2c5a-4f67-9ff4-66fc076c093c",
   "metadata": {},
   "outputs": [
    {
     "data": {
      "text/plain": [
       "1618"
      ]
     },
     "execution_count": 154,
     "metadata": {},
     "output_type": "execute_result"
    }
   ],
   "source": [
    "sum(np.diff(a) == -1)"
   ]
  },
  {
   "cell_type": "markdown",
   "id": "7b565358-555a-40ae-b192-cf7448412f6a",
   "metadata": {},
   "source": [
    "`(18)` 1에서 0으로 바뀌는 부분을 count하라. "
   ]
  },
  {
   "cell_type": "code",
   "execution_count": 155,
   "id": "49b2cf27-fcb7-40d2-9075-8367734edc03",
   "metadata": {},
   "outputs": [
    {
     "data": {
      "text/plain": [
       "1617"
      ]
     },
     "execution_count": 155,
     "metadata": {},
     "output_type": "execute_result"
    }
   ],
   "source": [
    "sum(np.diff(a) == 1)"
   ]
  },
  {
   "cell_type": "markdown",
   "id": "c22824c4-3d7c-420e-98d1-b7468a84d310",
   "metadata": {},
   "source": [
    "**[예시]** 아래의 배열에서 0에서 1로 부분은 모두 세 군데이고, 1에서 0으로 바뀌는 부분은 모두 두 군데 이다. \n",
    "\n",
    "```\n",
    "0 0 0 1 0 1 0 0 0 1 1 1 \n",
    "```"
   ]
  },
  {
   "cell_type": "markdown",
   "id": "221bf19c-2e0f-464e-8c44-40729b2b1c3c",
   "metadata": {},
   "source": [
    "---"
   ]
  },
  {
   "cell_type": "markdown",
   "id": "be49451a-c9b3-4d63-9531-531e59cc377f",
   "metadata": {},
   "source": [
    "**(19)-(25)**"
   ]
  },
  {
   "cell_type": "markdown",
   "id": "9bd9339f-279e-4344-892b-2815ca8ec85a",
   "metadata": {},
   "source": [
    "`(19)` $i=1,2,\\dots,1000$에 대하여 아래를 각각 구하라. \n",
    "\n",
    "$$x_i= \\cos(t_i)+\\cos(3t_i)+\\cos(5t_i)$$\n",
    "\n",
    "$$y_i= \\sin(t_i)+\\sin(4t_i)$$\n",
    "\n",
    "여기에서 $t_i=\\frac{2\\pi i }{1000}$ 이다. "
   ]
  },
  {
   "cell_type": "code",
   "execution_count": 67,
   "id": "6bcef4cc-65ff-4fb0-b47d-97452a16e9c8",
   "metadata": {},
   "outputs": [],
   "source": [
    "i = np.arange(1,1001)\n",
    "t = 2*np.pi*i/1000\n",
    "\n",
    "x = np.cos(t) + np.cos(3*t) + np.cos(5*t)\n",
    "y = np.sin(t) + np.sin(4*t)"
   ]
  },
  {
   "cell_type": "markdown",
   "id": "b24436c6-b626-482e-a03c-3d48314d8bcf",
   "metadata": {},
   "source": [
    "`(20)` $(x_i,y_i)$를 그려라. "
   ]
  },
  {
   "cell_type": "code",
   "execution_count": 68,
   "id": "6eb97f05-5a7c-4b64-8854-01c442c98646",
   "metadata": {},
   "outputs": [
    {
     "data": {
      "text/plain": [
       "[<matplotlib.lines.Line2D at 0x23d29c1d2b0>]"
      ]
     },
     "execution_count": 68,
     "metadata": {},
     "output_type": "execute_result"
    },
    {
     "data": {
      "image/png": "[encoded data removed]",
      "text/plain": [
       "<Figure size 432x288 with 1 Axes>"
      ]
     },
     "metadata": {
      "needs_background": "light"
     },
     "output_type": "display_data"
    }
   ],
   "source": [
    "plt.plot(x,y)"
   ]
  },
  {
   "cell_type": "markdown",
   "id": "aed714f4-b02a-4957-8b16-0256eccd3594",
   "metadata": {},
   "source": [
    "`(21)` 아래와 같은 변환을 통하여 $(w_i,z_i)$를 얻어라. \n",
    "\n",
    "\n",
    "$$w_i= \\frac{1}{\\sqrt{2}}x_i - \\frac{1}{\\sqrt{2}}y_i$$\n",
    "\n",
    "$$z_i= \\frac{1}{\\sqrt{2}}x_i + \\frac{1}{\\sqrt{2}}y_i$$\n"
   ]
  },
  {
   "cell_type": "code",
   "execution_count": 69,
   "id": "c27fef05-158d-4f1f-ac51-6b658fce7ae4",
   "metadata": {},
   "outputs": [
    {
     "data": {
      "text/plain": [
       "[<matplotlib.lines.Line2D at 0x23d2ab2e1c0>]"
      ]
     },
     "execution_count": 69,
     "metadata": {},
     "output_type": "execute_result"
    },
    {
     "data": {
      "image/png": "[encoded data removed]",
      "text/plain": [
       "<Figure size 432x288 with 1 Axes>"
      ]
     },
     "metadata": {
      "needs_background": "light"
     },
     "output_type": "display_data"
    }
   ],
   "source": [
    "w = 1/np.sqrt(2) * x - 1/np.sqrt(2) * y\n",
    "z = 1/np.sqrt(2) * x + 1/np.sqrt(2) * y\n",
    "plt.plot(w,z)"
   ]
  },
  {
   "cell_type": "markdown",
   "id": "636bc221-c318-4ec7-8f05-7f3b2dfd1ff1",
   "metadata": {},
   "source": [
    "$(w_i,z_i)$를 시각화 하라. "
   ]
  },
  {
   "cell_type": "markdown",
   "id": "24572a42-4cb9-4cbd-af53-20748e763582",
   "metadata": {},
   "source": [
    "`(22)` 아래와 같은 매트릭스를 만들어라. \n",
    "\n",
    "$${\\bf A}=\\begin{bmatrix}\n",
    "x_1 & y_1 \\\\\n",
    "x_2 & y_2 \\\\ \n",
    "\\dots & \\dots \\\\ \n",
    "x_n & y_n \n",
    "\\end{bmatrix}$$"
   ]
  },
  {
   "cell_type": "code",
   "execution_count": 70,
   "id": "454403a1-27c1-4e77-8380-7c2f676987d2",
   "metadata": {},
   "outputs": [
    {
     "data": {
      "text/plain": [
       "array([[ 2.99930917e+00,  3.14132394e-02],\n",
       "       [ 2.99723725e+00,  6.28103581e-02],\n",
       "       [ 2.99378587e+00,  9.41752452e-02],\n",
       "       ...,\n",
       "       [ 2.99723725e+00, -6.28103581e-02],\n",
       "       [ 2.99930917e+00, -3.14132394e-02],\n",
       "       [ 3.00000000e+00, -1.22464680e-15]])"
      ]
     },
     "execution_count": 70,
     "metadata": {},
     "output_type": "execute_result"
    }
   ],
   "source": [
    "A = np.stack([x,y], axis = 1)\n",
    "A"
   ]
  },
  {
   "cell_type": "markdown",
   "id": "d97608c0-7bc0-4f53-8681-59b20752711a",
   "metadata": {},
   "source": [
    "`(23)` ${\\bf A} {\\bf B}$의 첫번째 열과 두번째 열을 시각화한 결과가 $(w_i,z_i)$과 동일하도록 적당한 (2,2) 매트릭스 ${\\bf B}$를 만들어라. "
   ]
  },
  {
   "cell_type": "code",
   "execution_count": 71,
   "id": "c3a04ebd-3759-4fa8-9734-e697d402ae5a",
   "metadata": {},
   "outputs": [
    {
     "data": {
      "text/plain": [
       "[<matplotlib.lines.Line2D at 0x23d29f139a0>]"
      ]
     },
     "execution_count": 71,
     "metadata": {},
     "output_type": "execute_result"
    },
    {
     "data": {
      "image/png": "[encoded data removed]",
      "text/plain": [
       "<Figure size 432x288 with 1 Axes>"
      ]
     },
     "metadata": {
      "needs_background": "light"
     },
     "output_type": "display_data"
    }
   ],
   "source": [
    "B = np.array([[1/np.sqrt(2), 1/np.sqrt(2)], [-1/np.sqrt(2), 1/np.sqrt(2)]])\n",
    "\n",
    "C = A@B\n",
    "\n",
    "plt.plot(C[:, [0]], C[:, [1]])"
   ]
  },
  {
   "cell_type": "markdown",
   "id": "b2465f5b-2a79-40ed-a817-6498a6ff4563",
   "metadata": {},
   "source": [
    "`(24)` ${\\bf A}{\\bf B}^2$의 첫번째 열과 두번째 열을 시각화 하라. "
   ]
  },
  {
   "cell_type": "code",
   "execution_count": 72,
   "id": "b3c50092-0e57-4069-a8fa-e15269a02417",
   "metadata": {},
   "outputs": [
    {
     "data": {
      "text/plain": [
       "array([[0.5, 0.5],\n",
       "       [0.5, 0.5]])"
      ]
     },
     "execution_count": 72,
     "metadata": {},
     "output_type": "execute_result"
    }
   ],
   "source": [
    "B**2"
   ]
  },
  {
   "cell_type": "code",
   "execution_count": 73,
   "id": "a5931730-7467-4b86-ad27-fc8f449e664c",
   "metadata": {},
   "outputs": [
    {
     "data": {
      "text/plain": [
       "array([[-3.14132394e-02,  2.99930917e+00],\n",
       "       [-6.28103581e-02,  2.99723725e+00],\n",
       "       [-9.41752452e-02,  2.99378587e+00],\n",
       "       ...,\n",
       "       [ 6.28103581e-02,  2.99723725e+00],\n",
       "       [ 3.14132394e-02,  2.99930917e+00],\n",
       "       [ 1.15753337e-15,  3.00000000e+00]])"
      ]
     },
     "execution_count": 73,
     "metadata": {},
     "output_type": "execute_result"
    }
   ],
   "source": [
    "A@(B@B)"
   ]
  },
  {
   "cell_type": "code",
   "execution_count": 74,
   "id": "ffd67f46-949f-478c-a282-0ef7db18aa08",
   "metadata": {},
   "outputs": [
    {
     "data": {
      "text/plain": [
       "[<matplotlib.lines.Line2D at 0x23d2a241d30>]"
      ]
     },
     "execution_count": 74,
     "metadata": {},
     "output_type": "execute_result"
    },
    {
     "data": {
      "image/png": "[encoded data removed]",
      "text/plain": [
       "<Figure size 432x288 with 1 Axes>"
      ]
     },
     "metadata": {
      "needs_background": "light"
     },
     "output_type": "display_data"
    }
   ],
   "source": [
    "D = A@(B@B)\n",
    "\n",
    "plt.plot(D[:, [0]], D[:, [1]])"
   ]
  },
  {
   "cell_type": "markdown",
   "id": "aec1eeaf-ba36-485b-9847-410a9a06201c",
   "metadata": {},
   "source": [
    "`(25)` $n=3,4,5,6,\\dots$ 에 대하여 ${\\bf A}{\\bf B}^n$을 반복적으로 그려보라. $(x_i,y_i)$의 시각화 결과와 동일한 가장 작은 $n$은 얼마인가?  $(w_i,z_i)$의 시각화 결과와 동일한 가장 작은 $n$은 얼마인가? "
   ]
  },
  {
   "cell_type": "code",
   "execution_count": 75,
   "id": "47c89ec4-ec82-44ea-9a37-5fb75b49711c",
   "metadata": {},
   "outputs": [
    {
     "data": {
      "text/plain": [
       "[<matplotlib.lines.Line2D at 0x23d29ded070>]"
      ]
     },
     "execution_count": 75,
     "metadata": {},
     "output_type": "execute_result"
    },
    {
     "data": {
      "image/png": "[encoded data removed]",
      "text/plain": [
       "<Figure size 432x288 with 1 Axes>"
      ]
     },
     "metadata": {
      "needs_background": "light"
     },
     "output_type": "display_data"
    }
   ],
   "source": [
    "D = A@(B@B@B)\n",
    "\n",
    "plt.plot(D[:, [0]], D[:, [1]])"
   ]
  },
  {
   "cell_type": "code",
   "execution_count": 76,
   "id": "ab86e5bf-32bb-407f-a2a7-ac249a3d8d75",
   "metadata": {},
   "outputs": [
    {
     "data": {
      "text/plain": [
       "[<matplotlib.lines.Line2D at 0x23d2a9db7f0>]"
      ]
     },
     "execution_count": 76,
     "metadata": {},
     "output_type": "execute_result"
    },
    {
     "data": {
      "image/png": "[encoded data removed]",
      "text/plain": [
       "<Figure size 432x288 with 1 Axes>"
      ]
     },
     "metadata": {
      "needs_background": "light"
     },
     "output_type": "display_data"
    }
   ],
   "source": [
    "D = A@(B@B@B@B@B@B@B@B)\n",
    "\n",
    "plt.plot(D[:, [0]], D[:, [1]])"
   ]
  },
  {
   "cell_type": "markdown",
   "id": "c378de74-bac8-45f9-85cf-27ebda3cc976",
   "metadata": {},
   "source": [
    "- n이 1커질 때마다 $\\dfrac{\\pi}{4}$ 만큼 돌아간다.\n",
    "\n",
    "- 따라서 조건을 만족하는 가장 작은 $n = 8$"
   ]
  },
  {
   "cell_type": "markdown",
   "id": "500f9afa-f535-48c5-87ee-2ad21f51d820",
   "metadata": {},
   "source": [
    "---"
   ]
  },
  {
   "cell_type": "markdown",
   "id": "908d41e7-02f0-4262-8b91-e6db8aa2ceed",
   "metadata": {},
   "source": [
    "## `3`. 다음을 잘 읽고 물음에 답하라. (10점)"
   ]
  },
  {
   "cell_type": "markdown",
   "id": "f00af8e3-fcf5-4167-a57c-035b65dab1fb",
   "metadata": {},
   "source": [
    "`(1)` 아래는 python을 설치하는 방법을 소개한 url 이다. 직접 url에 들어가서 설치하는 방법을 읽어보고 곤이, 철용, 아귀, 짝귀 중 옳은말을 한 사람을 모두 골라라. \n",
    "- https://www.pythonlikeyoumeanit.com/Module1_GettingStartedWithPython/Installing_Python.html\n",
    "\n",
    "**(곤이)** 해당 방법은 아나콘다를 이용하여 파이썬을 설치하는 방법이다. \n",
    "\n",
    "**(철용)** 그래서 이 방법으로는 가상환경을 만들 수 없겠군. \n",
    "\n",
    "**(아귀)** 위 url에 제시된 방법으로 설치하면 주피터가 자동설치 된다. \n",
    "\n",
    "**(짝귀)** 따라서 위의 방법으로 설치하면 IDE는 주피터만 사용할 수 있다. "
   ]
  },
  {
   "cell_type": "markdown",
   "id": "6e52c68a-e88a-43ed-8aaa-eeee46ae57f6",
   "metadata": {},
   "source": [
    "곤이, 아귀, 짝귀"
   ]
  },
  {
   "cell_type": "markdown",
   "id": "fc94dae7-5bbb-423d-88bd-396c54e629ad",
   "metadata": {},
   "source": [
    "`(2)` 곤이는 1부터 10까지의 합을 구하는 코드를 작성하기 위하여 아래와 같이 `mysum.py` 파일을 만들었다. \n",
    "```python\n",
    "## mysum.py\n",
    "total = 0 \n",
    "for i in range(1,11): \n",
    "    total = total + i\n",
    "print(total)\n",
    "```"
   ]
  },
  {
   "cell_type": "markdown",
   "id": "c3b7db27-0171-41dc-b87f-f6c2648b3fa2",
   "metadata": {},
   "source": [
    "곤이의 컴퓨터는 윈도우이며 아니콘다를 이용해 파이썬을 설치하였다고 가정한다. 다음중 옳은 설명을 한 사람을 모두 고르라. "
   ]
  },
  {
   "cell_type": "markdown",
   "id": "beae7549-4c69-4a65-9b65-3fb5188b8128",
   "metadata": {},
   "source": [
    "**(곤이)** mysum.py를 실행하기 위해서는 anaconda prompt 에서 mysum.py가 위치한 폴더로 이동한 뒤 %run mysum.py 를 실행하면 된다. "
   ]
  },
  {
   "cell_type": "markdown",
   "id": "3bafe88d-bc2f-478d-a150-6ab80cbc1104",
   "metadata": {},
   "source": [
    "**(철용)** ipython을 이용하여 실행하기 위해서는 anaconda prompt 에서 mysum.py가 위치한 폴더로 이동한 뒤 %run mysum.py을 실행해도 된다. "
   ]
  },
  {
   "cell_type": "markdown",
   "id": "29ef4984-dc6d-4bf9-99a2-c943bc27d5ef",
   "metadata": {},
   "source": [
    "**(아귀)** 철용의 방법에서 %run mysum.py 대신에 !python mysum.py를 쳐도 동작한다. "
   ]
  },
  {
   "cell_type": "markdown",
   "id": "c8e311df-6aff-444b-b724-c0d15c52a165",
   "metadata": {},
   "source": [
    "**(짝귀)** 하지만 다른 가상환경을 만들 경우 철용과 아귀의 방법으로 실행할 수 없다는 단점이 있다. "
   ]
  },
  {
   "cell_type": "markdown",
   "id": "a716d9f2-0063-45ee-8c3f-740f46399ee8",
   "metadata": {},
   "source": [
    "철용, 아귀"
   ]
  }
 ],
 "metadata": {
  "kernelspec": {
   "display_name": "Python 3 (ipykernel)",
   "language": "python",
   "name": "python3"
  },
  "language_info": {
   "codemirror_mode": {
    "name": "ipython",
    "version": 3
   },
   "file_extension": ".py",
   "mimetype": "text/x-python",
   "name": "python",
   "nbconvert_exporter": "python",
   "pygments_lexer": "ipython3",
   "version": "3.9.12"
  }
 },
 "nbformat": 4,
 "nbformat_minor": 5
}
