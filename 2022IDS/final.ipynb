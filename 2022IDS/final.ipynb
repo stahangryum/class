{
 "cells": [
  {
   "cell_type": "code",
   "execution_count": 13,
   "id": "0590c93e-15d2-41bd-b583-9d95b81411a6",
   "metadata": {},
   "outputs": [],
   "source": [
    "favorite <- c('WINTER', 'SUMMER', 'SPRING', 'SUMMER', 'SUMMER', 'FALL', 'FALL',\n",
    "              'SUMMER', 'SPRING', 'SPRING')"
   ]
  },
  {
   "cell_type": "code",
   "execution_count": 14,
   "id": "d1920df3-f443-4558-8f53-80422f5bbaa9",
   "metadata": {},
   "outputs": [
    {
     "data": {
      "text/plain": [
       "favorite\n",
       "  FALL SPRING SUMMER WINTER \n",
       "     2      3      4      1 "
      ]
     },
     "metadata": {},
     "output_type": "display_data"
    }
   ],
   "source": [
    "ds <- table(favorite)\n",
    "ds"
   ]
  },
  {
   "cell_type": "code",
   "execution_count": 15,
   "id": "c7ad8a76-1691-403e-8f75-aa5c5aa9a44d",
   "metadata": {},
   "outputs": [
    {
     "data": {
      "image/png": "[encoded data removed]",
      "text/plain": [
       "plot without title"
      ]
     },
     "metadata": {
      "image/png": {
       "height": 420,
       "width": 420
      }
     },
     "output_type": "display_data"
    }
   ],
   "source": [
    "pie(ds)"
   ]
  },
  {
   "cell_type": "code",
   "execution_count": null,
   "id": "d6ebe558-7063-4dc0-b0a4-e80965a9c709",
   "metadata": {},
   "outputs": [],
   "source": []
  },
  {
   "cell_type": "code",
   "execution_count": null,
   "id": "a311bd39-c9ce-4c20-aa90-5a854961131f",
   "metadata": {},
   "outputs": [],
   "source": []
  },
  {
   "cell_type": "code",
   "execution_count": null,
   "id": "b8366a47-55b8-44c9-b446-c66fa14ba143",
   "metadata": {},
   "outputs": [],
   "source": []
  },
  {
   "cell_type": "code",
   "execution_count": 2,
   "id": "fbf6be8a-91f5-4bc7-976e-4cd4d3506f08",
   "metadata": {},
   "outputs": [],
   "source": [
    "dist <- cars[,2]"
   ]
  },
  {
   "cell_type": "code",
   "execution_count": 4,
   "id": "d966ccfd-0d5f-4ebb-a5d3-c61a0e980a60",
   "metadata": {},
   "outputs": [
    {
     "data": {
      "text/html": [
       "<style>\n",
       ".list-inline {list-style: none; margin:0; padding: 0}\n",
       ".list-inline>li {display: inline-block}\n",
       ".list-inline>li:not(:last-child)::after {content: \"\\00b7\"; padding: 0 .5ex}\n",
       "</style>\n",
       "<ol class=list-inline><li>2</li><li>10</li><li>4</li><li>22</li><li>16</li><li>10</li><li>18</li><li>26</li><li>34</li><li>17</li><li>28</li><li>14</li><li>20</li><li>24</li><li>28</li><li>26</li><li>34</li><li>34</li><li>46</li><li>26</li><li>36</li><li>60</li><li>80</li><li>20</li><li>26</li><li>54</li><li>32</li><li>40</li><li>32</li><li>40</li><li>50</li><li>42</li><li>56</li><li>76</li><li>84</li><li>36</li><li>46</li><li>68</li><li>32</li><li>48</li><li>52</li><li>56</li><li>64</li><li>66</li><li>54</li><li>70</li><li>92</li><li>93</li><li>120</li><li>85</li></ol>\n"
      ],
      "text/latex": [
       "\\begin{enumerate*}\n",
       "\\item 2\n",
       "\\item 10\n",
       "\\item 4\n",
       "\\item 22\n",
       "\\item 16\n",
       "\\item 10\n",
       "\\item 18\n",
       "\\item 26\n",
       "\\item 34\n",
       "\\item 17\n",
       "\\item 28\n",
       "\\item 14\n",
       "\\item 20\n",
       "\\item 24\n",
       "\\item 28\n",
       "\\item 26\n",
       "\\item 34\n",
       "\\item 34\n",
       "\\item 46\n",
       "\\item 26\n",
       "\\item 36\n",
       "\\item 60\n",
       "\\item 80\n",
       "\\item 20\n",
       "\\item 26\n",
       "\\item 54\n",
       "\\item 32\n",
       "\\item 40\n",
       "\\item 32\n",
       "\\item 40\n",
       "\\item 50\n",
       "\\item 42\n",
       "\\item 56\n",
       "\\item 76\n",
       "\\item 84\n",
       "\\item 36\n",
       "\\item 46\n",
       "\\item 68\n",
       "\\item 32\n",
       "\\item 48\n",
       "\\item 52\n",
       "\\item 56\n",
       "\\item 64\n",
       "\\item 66\n",
       "\\item 54\n",
       "\\item 70\n",
       "\\item 92\n",
       "\\item 93\n",
       "\\item 120\n",
       "\\item 85\n",
       "\\end{enumerate*}\n"
      ],
      "text/markdown": [
       "1. 2\n",
       "2. 10\n",
       "3. 4\n",
       "4. 22\n",
       "5. 16\n",
       "6. 10\n",
       "7. 18\n",
       "8. 26\n",
       "9. 34\n",
       "10. 17\n",
       "11. 28\n",
       "12. 14\n",
       "13. 20\n",
       "14. 24\n",
       "15. 28\n",
       "16. 26\n",
       "17. 34\n",
       "18. 34\n",
       "19. 46\n",
       "20. 26\n",
       "21. 36\n",
       "22. 60\n",
       "23. 80\n",
       "24. 20\n",
       "25. 26\n",
       "26. 54\n",
       "27. 32\n",
       "28. 40\n",
       "29. 32\n",
       "30. 40\n",
       "31. 50\n",
       "32. 42\n",
       "33. 56\n",
       "34. 76\n",
       "35. 84\n",
       "36. 36\n",
       "37. 46\n",
       "38. 68\n",
       "39. 32\n",
       "40. 48\n",
       "41. 52\n",
       "42. 56\n",
       "43. 64\n",
       "44. 66\n",
       "45. 54\n",
       "46. 70\n",
       "47. 92\n",
       "48. 93\n",
       "49. 120\n",
       "50. 85\n",
       "\n",
       "\n"
      ],
      "text/plain": [
       " [1]   2  10   4  22  16  10  18  26  34  17  28  14  20  24  28  26  34  34  46\n",
       "[20]  26  36  60  80  20  26  54  32  40  32  40  50  42  56  76  84  36  46  68\n",
       "[39]  32  48  52  56  64  66  54  70  92  93 120  85"
      ]
     },
     "metadata": {},
     "output_type": "display_data"
    }
   ],
   "source": [
    "dist"
   ]
  },
  {
   "cell_type": "code",
   "execution_count": 5,
   "id": "891d8c6b-416e-421a-a9a6-9a7d47287372",
   "metadata": {},
   "outputs": [
    {
     "data": {
      "image/png": "[encoded data removed]",
      "text/plain": [
       "plot without title"
      ]
     },
     "metadata": {
      "image/png": {
       "height": 420,
       "width": 420
      }
     },
     "output_type": "display_data"
    }
   ],
   "source": [
    "boxplot(dist)"
   ]
  },
  {
   "cell_type": "code",
   "execution_count": 6,
   "id": "c6fb1768-65db-49be-b146-256dacd2a949",
   "metadata": {},
   "outputs": [
    {
     "data": {
      "text/html": [
       "<dl>\n",
       "\t<dt>$stats</dt>\n",
       "\t\t<dd><style>\n",
       ".list-inline {list-style: none; margin:0; padding: 0}\n",
       ".list-inline>li {display: inline-block}\n",
       ".list-inline>li:not(:last-child)::after {content: \"\\00b7\"; padding: 0 .5ex}\n",
       "</style>\n",
       "<ol class=list-inline><li>2</li><li>26</li><li>36</li><li>56</li><li>93</li></ol>\n",
       "</dd>\n",
       "\t<dt>$n</dt>\n",
       "\t\t<dd>50</dd>\n",
       "\t<dt>$conf</dt>\n",
       "\t\t<dd><style>\n",
       ".list-inline {list-style: none; margin:0; padding: 0}\n",
       ".list-inline>li {display: inline-block}\n",
       ".list-inline>li:not(:last-child)::after {content: \"\\00b7\"; padding: 0 .5ex}\n",
       "</style>\n",
       "<ol class=list-inline><li>29.2966277143515</li><li>42.7033722856485</li></ol>\n",
       "</dd>\n",
       "\t<dt>$out</dt>\n",
       "\t\t<dd>120</dd>\n",
       "</dl>\n"
      ],
      "text/latex": [
       "\\begin{description}\n",
       "\\item[\\$stats] \\begin{enumerate*}\n",
       "\\item 2\n",
       "\\item 26\n",
       "\\item 36\n",
       "\\item 56\n",
       "\\item 93\n",
       "\\end{enumerate*}\n",
       "\n",
       "\\item[\\$n] 50\n",
       "\\item[\\$conf] \\begin{enumerate*}\n",
       "\\item 29.2966277143515\n",
       "\\item 42.7033722856485\n",
       "\\end{enumerate*}\n",
       "\n",
       "\\item[\\$out] 120\n",
       "\\end{description}\n"
      ],
      "text/markdown": [
       "$stats\n",
       ":   1. 2\n",
       "2. 26\n",
       "3. 36\n",
       "4. 56\n",
       "5. 93\n",
       "\n",
       "\n",
       "\n",
       "$n\n",
       ":   50\n",
       "$conf\n",
       ":   1. 29.2966277143515\n",
       "2. 42.7033722856485\n",
       "\n",
       "\n",
       "\n",
       "$out\n",
       ":   120\n",
       "\n",
       "\n"
      ],
      "text/plain": [
       "$stats\n",
       "[1]  2 26 36 56 93\n",
       "\n",
       "$n\n",
       "[1] 50\n",
       "\n",
       "$conf\n",
       "[1] 29.29663 42.70337\n",
       "\n",
       "$out\n",
       "[1] 120\n"
      ]
     },
     "metadata": {},
     "output_type": "display_data"
    }
   ],
   "source": [
    "boxplot.stats(dist)"
   ]
  },
  {
   "cell_type": "code",
   "execution_count": 7,
   "id": "b2d9616f-a327-44c8-b3d5-2710d34558ed",
   "metadata": {},
   "outputs": [
    {
     "data": {
      "image/png": "[encoded data removed]",
      "text/plain": [
       "plot without title"
      ]
     },
     "metadata": {
      "image/png": {
       "height": 420,
       "width": 420
      }
     },
     "output_type": "display_data"
    }
   ],
   "source": [
    "boxplot(Petal.Length~Species,\n",
    "        data = iris,\n",
    "        col = c('green', 'yellow', 'blue'))"
   ]
  },
  {
   "cell_type": "code",
   "execution_count": 8,
   "id": "47cd32ac-e846-43c7-bf8a-1e9d4ed6e135",
   "metadata": {},
   "outputs": [
    {
     "data": {
      "image/png": "[encoded data removed]",
      "text/plain": [
       "plot without title"
      ]
     },
     "metadata": {
      "image/png": {
       "height": 420,
       "width": 420
      }
     },
     "output_type": "display_data"
    }
   ],
   "source": [
    "boxplot(state.x77[, 'Population'] ~ state.region)"
   ]
  },
  {
   "cell_type": "code",
   "execution_count": 9,
   "id": "b436ea1f-7c94-422d-b74e-084d08b1945a",
   "metadata": {},
   "outputs": [
    {
     "data": {
      "image/png": "[encoded data removed]",
      "text/plain": [
       "plot without title"
      ]
     },
     "metadata": {
      "image/png": {
       "height": 420,
       "width": 420
      }
     },
     "output_type": "display_data"
    }
   ],
   "source": [
    "boxplot(mtcars$mpg)"
   ]
  },
  {
   "cell_type": "code",
   "execution_count": 11,
   "id": "7ca135dc-8a60-4433-a629-365648f50377",
   "metadata": {},
   "outputs": [
    {
     "data": {
      "image/png": "[encoded data removed]",
      "text/plain": [
       "plot without title"
      ]
     },
     "metadata": {
      "image/png": {
       "height": 420,
       "width": 420
      }
     },
     "output_type": "display_data"
    }
   ],
   "source": [
    "boxplot(mtcars$mpg ~ mtcars$gear)"
   ]
  },
  {
   "cell_type": "code",
   "execution_count": 17,
   "id": "d38c13cd-e540-4925-8454-482a90a8fdaf",
   "metadata": {},
   "outputs": [
    {
     "data": {
      "image/png": "[encoded data removed]",
      "text/plain": [
       "plot without title"
      ]
     },
     "metadata": {
      "image/png": {
       "height": 420,
       "width": 420
      }
     },
     "output_type": "display_data"
    }
   ],
   "source": [
    "boxplot(mtcars$mpg ~ mtcars$vs)"
   ]
  },
  {
   "cell_type": "code",
   "execution_count": 20,
   "id": "83e4ff6d-fe71-41b9-aa89-8a454ddc201c",
   "metadata": {},
   "outputs": [
    {
     "data": {
      "image/png": "[encoded data removed]",
      "text/plain": [
       "plot without title"
      ]
     },
     "metadata": {
      "image/png": {
       "height": 420,
       "width": 420
      }
     },
     "output_type": "display_data"
    }
   ],
   "source": [
    "plot(mtcars$wt, mtcars$hp)"
   ]
  },
  {
   "cell_type": "code",
   "execution_count": 27,
   "id": "4bd2588e-b51a-405b-a860-0216525d206e",
   "metadata": {},
   "outputs": [],
   "source": [
    "get <- ifelse(mtcars$wt >= mean(mtcars$wt), 'high', 'row')"
   ]
  },
  {
   "cell_type": "code",
   "execution_count": 28,
   "id": "b79d3f26-d31a-480a-8212-82799a97b454",
   "metadata": {},
   "outputs": [
    {
     "data": {
      "image/png": "[encoded data removed]",
      "text/plain": [
       "plot without title"
      ]
     },
     "metadata": {
      "image/png": {
       "height": 420,
       "width": 420
      }
     },
     "output_type": "display_data"
    }
   ],
   "source": [
    "boxplot(mtcars$hp ~ get)"
   ]
  },
  {
   "cell_type": "code",
   "execution_count": 29,
   "id": "22660056-30ec-497a-bdaf-06e712ba9d6b",
   "metadata": {},
   "outputs": [
    {
     "data": {
      "text/html": [
       "32"
      ],
      "text/latex": [
       "32"
      ],
      "text/markdown": [
       "32"
      ],
      "text/plain": [
       "[1] 32"
      ]
     },
     "metadata": {},
     "output_type": "display_data"
    }
   ],
   "source": [
    "length(get)"
   ]
  },
  {
   "cell_type": "code",
   "execution_count": 30,
   "id": "5ac20f83-c3e7-47ab-80e9-283809607a60",
   "metadata": {},
   "outputs": [
    {
     "data": {
      "text/html": [
       "32"
      ],
      "text/latex": [
       "32"
      ],
      "text/markdown": [
       "32"
      ],
      "text/plain": [
       "[1] 32"
      ]
     },
     "metadata": {},
     "output_type": "display_data"
    }
   ],
   "source": [
    "length(mtcars$hp)"
   ]
  },
  {
   "cell_type": "code",
   "execution_count": 32,
   "id": "39bc976e-b659-4d28-9cf2-a47b32d6ec19",
   "metadata": {},
   "outputs": [
    {
     "data": {
      "text/html": [
       "<table class=\"dataframe\">\n",
       "<caption>A data.frame: 6 × 4</caption>\n",
       "<thead>\n",
       "\t<tr><th></th><th scope=col>mpg</th><th scope=col>disp</th><th scope=col>drat</th><th scope=col>wt</th></tr>\n",
       "\t<tr><th></th><th scope=col>&lt;dbl&gt;</th><th scope=col>&lt;dbl&gt;</th><th scope=col>&lt;dbl&gt;</th><th scope=col>&lt;dbl&gt;</th></tr>\n",
       "</thead>\n",
       "<tbody>\n",
       "\t<tr><th scope=row>Mazda RX4</th><td>21.0</td><td>160</td><td>3.90</td><td>2.620</td></tr>\n",
       "\t<tr><th scope=row>Mazda RX4 Wag</th><td>21.0</td><td>160</td><td>3.90</td><td>2.875</td></tr>\n",
       "\t<tr><th scope=row>Datsun 710</th><td>22.8</td><td>108</td><td>3.85</td><td>2.320</td></tr>\n",
       "\t<tr><th scope=row>Hornet 4 Drive</th><td>21.4</td><td>258</td><td>3.08</td><td>3.215</td></tr>\n",
       "\t<tr><th scope=row>Hornet Sportabout</th><td>18.7</td><td>360</td><td>3.15</td><td>3.440</td></tr>\n",
       "\t<tr><th scope=row>Valiant</th><td>18.1</td><td>225</td><td>2.76</td><td>3.460</td></tr>\n",
       "</tbody>\n",
       "</table>\n"
      ],
      "text/latex": [
       "A data.frame: 6 × 4\n",
       "\\begin{tabular}{r|llll}\n",
       "  & mpg & disp & drat & wt\\\\\n",
       "  & <dbl> & <dbl> & <dbl> & <dbl>\\\\\n",
       "\\hline\n",
       "\tMazda RX4 & 21.0 & 160 & 3.90 & 2.620\\\\\n",
       "\tMazda RX4 Wag & 21.0 & 160 & 3.90 & 2.875\\\\\n",
       "\tDatsun 710 & 22.8 & 108 & 3.85 & 2.320\\\\\n",
       "\tHornet 4 Drive & 21.4 & 258 & 3.08 & 3.215\\\\\n",
       "\tHornet Sportabout & 18.7 & 360 & 3.15 & 3.440\\\\\n",
       "\tValiant & 18.1 & 225 & 2.76 & 3.460\\\\\n",
       "\\end{tabular}\n"
      ],
      "text/markdown": [
       "\n",
       "A data.frame: 6 × 4\n",
       "\n",
       "| <!--/--> | mpg &lt;dbl&gt; | disp &lt;dbl&gt; | drat &lt;dbl&gt; | wt &lt;dbl&gt; |\n",
       "|---|---|---|---|---|\n",
       "| Mazda RX4 | 21.0 | 160 | 3.90 | 2.620 |\n",
       "| Mazda RX4 Wag | 21.0 | 160 | 3.90 | 2.875 |\n",
       "| Datsun 710 | 22.8 | 108 | 3.85 | 2.320 |\n",
       "| Hornet 4 Drive | 21.4 | 258 | 3.08 | 3.215 |\n",
       "| Hornet Sportabout | 18.7 | 360 | 3.15 | 3.440 |\n",
       "| Valiant | 18.1 | 225 | 2.76 | 3.460 |\n",
       "\n"
      ],
      "text/plain": [
       "                  mpg  disp drat wt   \n",
       "Mazda RX4         21.0 160  3.90 2.620\n",
       "Mazda RX4 Wag     21.0 160  3.90 2.875\n",
       "Datsun 710        22.8 108  3.85 2.320\n",
       "Hornet 4 Drive    21.4 258  3.08 3.215\n",
       "Hornet Sportabout 18.7 360  3.15 3.440\n",
       "Valiant           18.1 225  2.76 3.460"
      ]
     },
     "metadata": {},
     "output_type": "display_data"
    }
   ],
   "source": [
    "vars <- c('mpg', 'disp', 'drat', 'wt')\n",
    "target <- mtcars[,vars]\n",
    "head(target)"
   ]
  },
  {
   "cell_type": "code",
   "execution_count": 33,
   "id": "a0e14a85-645e-42b3-a007-ad6419e0c0bf",
   "metadata": {},
   "outputs": [
    {
     "data": {
      "image/png": "[encoded data removed]",
      "text/plain": [
       "plot without title"
      ]
     },
     "metadata": {
      "image/png": {
       "height": 420,
       "width": 420
      }
     },
     "output_type": "display_data"
    }
   ],
   "source": [
    "plot(target)"
   ]
  },
  {
   "cell_type": "code",
   "execution_count": 34,
   "id": "ea3079b9-5438-4504-be04-993873198286",
   "metadata": {},
   "outputs": [],
   "source": [
    "iris_2 <- iris[,3:4]"
   ]
  },
  {
   "cell_type": "code",
   "execution_count": 35,
   "id": "a47b2f62-ddb9-40f4-85b6-624355f51b36",
   "metadata": {},
   "outputs": [
    {
     "data": {
      "text/html": [
       "<style>\n",
       ".list-inline {list-style: none; margin:0; padding: 0}\n",
       ".list-inline>li {display: inline-block}\n",
       ".list-inline>li:not(:last-child)::after {content: \"\\00b7\"; padding: 0 .5ex}\n",
       "</style>\n",
       "<ol class=list-inline><li>'setosa'</li><li>'versicolor'</li><li>'virginica'</li></ol>\n"
      ],
      "text/latex": [
       "\\begin{enumerate*}\n",
       "\\item 'setosa'\n",
       "\\item 'versicolor'\n",
       "\\item 'virginica'\n",
       "\\end{enumerate*}\n"
      ],
      "text/markdown": [
       "1. 'setosa'\n",
       "2. 'versicolor'\n",
       "3. 'virginica'\n",
       "\n",
       "\n"
      ],
      "text/plain": [
       "[1] \"setosa\"     \"versicolor\" \"virginica\" "
      ]
     },
     "metadata": {},
     "output_type": "display_data"
    }
   ],
   "source": [
    "levels(iris$Species)"
   ]
  },
  {
   "cell_type": "code",
   "execution_count": 36,
   "id": "c3660d70-4449-4059-8844-25470aee57ce",
   "metadata": {},
   "outputs": [],
   "source": [
    "group <- as.numeric(iris$Species)"
   ]
  },
  {
   "cell_type": "code",
   "execution_count": 37,
   "id": "3626b465-c022-4e54-ba4b-21cde4c3b9b1",
   "metadata": {},
   "outputs": [
    {
     "data": {
      "text/html": [
       "<style>\n",
       ".list-inline {list-style: none; margin:0; padding: 0}\n",
       ".list-inline>li {display: inline-block}\n",
       ".list-inline>li:not(:last-child)::after {content: \"\\00b7\"; padding: 0 .5ex}\n",
       "</style>\n",
       "<ol class=list-inline><li>1</li><li>1</li><li>1</li><li>1</li><li>1</li><li>1</li><li>1</li><li>1</li><li>1</li><li>1</li><li>1</li><li>1</li><li>1</li><li>1</li><li>1</li><li>1</li><li>1</li><li>1</li><li>1</li><li>1</li><li>1</li><li>1</li><li>1</li><li>1</li><li>1</li><li>1</li><li>1</li><li>1</li><li>1</li><li>1</li><li>1</li><li>1</li><li>1</li><li>1</li><li>1</li><li>1</li><li>1</li><li>1</li><li>1</li><li>1</li><li>1</li><li>1</li><li>1</li><li>1</li><li>1</li><li>1</li><li>1</li><li>1</li><li>1</li><li>1</li><li>2</li><li>2</li><li>2</li><li>2</li><li>2</li><li>2</li><li>2</li><li>2</li><li>2</li><li>2</li><li>2</li><li>2</li><li>2</li><li>2</li><li>2</li><li>2</li><li>2</li><li>2</li><li>2</li><li>2</li><li>2</li><li>2</li><li>2</li><li>2</li><li>2</li><li>2</li><li>2</li><li>2</li><li>2</li><li>2</li><li>2</li><li>2</li><li>2</li><li>2</li><li>2</li><li>2</li><li>2</li><li>2</li><li>2</li><li>2</li><li>2</li><li>2</li><li>2</li><li>2</li><li>2</li><li>2</li><li>2</li><li>2</li><li>2</li><li>2</li><li>3</li><li>3</li><li>3</li><li>3</li><li>3</li><li>3</li><li>3</li><li>3</li><li>3</li><li>3</li><li>3</li><li>3</li><li>3</li><li>3</li><li>3</li><li>3</li><li>3</li><li>3</li><li>3</li><li>3</li><li>3</li><li>3</li><li>3</li><li>3</li><li>3</li><li>3</li><li>3</li><li>3</li><li>3</li><li>3</li><li>3</li><li>3</li><li>3</li><li>3</li><li>3</li><li>3</li><li>3</li><li>3</li><li>3</li><li>3</li><li>3</li><li>3</li><li>3</li><li>3</li><li>3</li><li>3</li><li>3</li><li>3</li><li>3</li><li>3</li></ol>\n"
      ],
      "text/latex": [
       "\\begin{enumerate*}\n",
       "\\item 1\n",
       "\\item 1\n",
       "\\item 1\n",
       "\\item 1\n",
       "\\item 1\n",
       "\\item 1\n",
       "\\item 1\n",
       "\\item 1\n",
       "\\item 1\n",
       "\\item 1\n",
       "\\item 1\n",
       "\\item 1\n",
       "\\item 1\n",
       "\\item 1\n",
       "\\item 1\n",
       "\\item 1\n",
       "\\item 1\n",
       "\\item 1\n",
       "\\item 1\n",
       "\\item 1\n",
       "\\item 1\n",
       "\\item 1\n",
       "\\item 1\n",
       "\\item 1\n",
       "\\item 1\n",
       "\\item 1\n",
       "\\item 1\n",
       "\\item 1\n",
       "\\item 1\n",
       "\\item 1\n",
       "\\item 1\n",
       "\\item 1\n",
       "\\item 1\n",
       "\\item 1\n",
       "\\item 1\n",
       "\\item 1\n",
       "\\item 1\n",
       "\\item 1\n",
       "\\item 1\n",
       "\\item 1\n",
       "\\item 1\n",
       "\\item 1\n",
       "\\item 1\n",
       "\\item 1\n",
       "\\item 1\n",
       "\\item 1\n",
       "\\item 1\n",
       "\\item 1\n",
       "\\item 1\n",
       "\\item 1\n",
       "\\item 2\n",
       "\\item 2\n",
       "\\item 2\n",
       "\\item 2\n",
       "\\item 2\n",
       "\\item 2\n",
       "\\item 2\n",
       "\\item 2\n",
       "\\item 2\n",
       "\\item 2\n",
       "\\item 2\n",
       "\\item 2\n",
       "\\item 2\n",
       "\\item 2\n",
       "\\item 2\n",
       "\\item 2\n",
       "\\item 2\n",
       "\\item 2\n",
       "\\item 2\n",
       "\\item 2\n",
       "\\item 2\n",
       "\\item 2\n",
       "\\item 2\n",
       "\\item 2\n",
       "\\item 2\n",
       "\\item 2\n",
       "\\item 2\n",
       "\\item 2\n",
       "\\item 2\n",
       "\\item 2\n",
       "\\item 2\n",
       "\\item 2\n",
       "\\item 2\n",
       "\\item 2\n",
       "\\item 2\n",
       "\\item 2\n",
       "\\item 2\n",
       "\\item 2\n",
       "\\item 2\n",
       "\\item 2\n",
       "\\item 2\n",
       "\\item 2\n",
       "\\item 2\n",
       "\\item 2\n",
       "\\item 2\n",
       "\\item 2\n",
       "\\item 2\n",
       "\\item 2\n",
       "\\item 2\n",
       "\\item 2\n",
       "\\item 3\n",
       "\\item 3\n",
       "\\item 3\n",
       "\\item 3\n",
       "\\item 3\n",
       "\\item 3\n",
       "\\item 3\n",
       "\\item 3\n",
       "\\item 3\n",
       "\\item 3\n",
       "\\item 3\n",
       "\\item 3\n",
       "\\item 3\n",
       "\\item 3\n",
       "\\item 3\n",
       "\\item 3\n",
       "\\item 3\n",
       "\\item 3\n",
       "\\item 3\n",
       "\\item 3\n",
       "\\item 3\n",
       "\\item 3\n",
       "\\item 3\n",
       "\\item 3\n",
       "\\item 3\n",
       "\\item 3\n",
       "\\item 3\n",
       "\\item 3\n",
       "\\item 3\n",
       "\\item 3\n",
       "\\item 3\n",
       "\\item 3\n",
       "\\item 3\n",
       "\\item 3\n",
       "\\item 3\n",
       "\\item 3\n",
       "\\item 3\n",
       "\\item 3\n",
       "\\item 3\n",
       "\\item 3\n",
       "\\item 3\n",
       "\\item 3\n",
       "\\item 3\n",
       "\\item 3\n",
       "\\item 3\n",
       "\\item 3\n",
       "\\item 3\n",
       "\\item 3\n",
       "\\item 3\n",
       "\\item 3\n",
       "\\end{enumerate*}\n"
      ],
      "text/markdown": [
       "1. 1\n",
       "2. 1\n",
       "3. 1\n",
       "4. 1\n",
       "5. 1\n",
       "6. 1\n",
       "7. 1\n",
       "8. 1\n",
       "9. 1\n",
       "10. 1\n",
       "11. 1\n",
       "12. 1\n",
       "13. 1\n",
       "14. 1\n",
       "15. 1\n",
       "16. 1\n",
       "17. 1\n",
       "18. 1\n",
       "19. 1\n",
       "20. 1\n",
       "21. 1\n",
       "22. 1\n",
       "23. 1\n",
       "24. 1\n",
       "25. 1\n",
       "26. 1\n",
       "27. 1\n",
       "28. 1\n",
       "29. 1\n",
       "30. 1\n",
       "31. 1\n",
       "32. 1\n",
       "33. 1\n",
       "34. 1\n",
       "35. 1\n",
       "36. 1\n",
       "37. 1\n",
       "38. 1\n",
       "39. 1\n",
       "40. 1\n",
       "41. 1\n",
       "42. 1\n",
       "43. 1\n",
       "44. 1\n",
       "45. 1\n",
       "46. 1\n",
       "47. 1\n",
       "48. 1\n",
       "49. 1\n",
       "50. 1\n",
       "51. 2\n",
       "52. 2\n",
       "53. 2\n",
       "54. 2\n",
       "55. 2\n",
       "56. 2\n",
       "57. 2\n",
       "58. 2\n",
       "59. 2\n",
       "60. 2\n",
       "61. 2\n",
       "62. 2\n",
       "63. 2\n",
       "64. 2\n",
       "65. 2\n",
       "66. 2\n",
       "67. 2\n",
       "68. 2\n",
       "69. 2\n",
       "70. 2\n",
       "71. 2\n",
       "72. 2\n",
       "73. 2\n",
       "74. 2\n",
       "75. 2\n",
       "76. 2\n",
       "77. 2\n",
       "78. 2\n",
       "79. 2\n",
       "80. 2\n",
       "81. 2\n",
       "82. 2\n",
       "83. 2\n",
       "84. 2\n",
       "85. 2\n",
       "86. 2\n",
       "87. 2\n",
       "88. 2\n",
       "89. 2\n",
       "90. 2\n",
       "91. 2\n",
       "92. 2\n",
       "93. 2\n",
       "94. 2\n",
       "95. 2\n",
       "96. 2\n",
       "97. 2\n",
       "98. 2\n",
       "99. 2\n",
       "100. 2\n",
       "101. 3\n",
       "102. 3\n",
       "103. 3\n",
       "104. 3\n",
       "105. 3\n",
       "106. 3\n",
       "107. 3\n",
       "108. 3\n",
       "109. 3\n",
       "110. 3\n",
       "111. 3\n",
       "112. 3\n",
       "113. 3\n",
       "114. 3\n",
       "115. 3\n",
       "116. 3\n",
       "117. 3\n",
       "118. 3\n",
       "119. 3\n",
       "120. 3\n",
       "121. 3\n",
       "122. 3\n",
       "123. 3\n",
       "124. 3\n",
       "125. 3\n",
       "126. 3\n",
       "127. 3\n",
       "128. 3\n",
       "129. 3\n",
       "130. 3\n",
       "131. 3\n",
       "132. 3\n",
       "133. 3\n",
       "134. 3\n",
       "135. 3\n",
       "136. 3\n",
       "137. 3\n",
       "138. 3\n",
       "139. 3\n",
       "140. 3\n",
       "141. 3\n",
       "142. 3\n",
       "143. 3\n",
       "144. 3\n",
       "145. 3\n",
       "146. 3\n",
       "147. 3\n",
       "148. 3\n",
       "149. 3\n",
       "150. 3\n",
       "\n",
       "\n"
      ],
      "text/plain": [
       "  [1] 1 1 1 1 1 1 1 1 1 1 1 1 1 1 1 1 1 1 1 1 1 1 1 1 1 1 1 1 1 1 1 1 1 1 1 1 1\n",
       " [38] 1 1 1 1 1 1 1 1 1 1 1 1 1 2 2 2 2 2 2 2 2 2 2 2 2 2 2 2 2 2 2 2 2 2 2 2 2\n",
       " [75] 2 2 2 2 2 2 2 2 2 2 2 2 2 2 2 2 2 2 2 2 2 2 2 2 2 2 3 3 3 3 3 3 3 3 3 3 3\n",
       "[112] 3 3 3 3 3 3 3 3 3 3 3 3 3 3 3 3 3 3 3 3 3 3 3 3 3 3 3 3 3 3 3 3 3 3 3 3 3\n",
       "[149] 3 3"
      ]
     },
     "metadata": {},
     "output_type": "display_data"
    }
   ],
   "source": [
    "group"
   ]
  },
  {
   "cell_type": "code",
   "execution_count": 38,
   "id": "3adaa357-3c33-4f85-804e-3ba5942e8dc4",
   "metadata": {},
   "outputs": [],
   "source": [
    "color <- c('red', 'green','blue')"
   ]
  },
  {
   "cell_type": "code",
   "execution_count": 45,
   "id": "4c143f39-f46a-42c8-968d-e0f5ec4d8ea6",
   "metadata": {},
   "outputs": [
    {
     "data": {
      "text/plain": [
       "\n",
       "    setosa versicolor  virginica \n",
       "        50         50         50 "
      ]
     },
     "metadata": {},
     "output_type": "display_data"
    }
   ],
   "source": [
    "table(iris$Species)"
   ]
  },
  {
   "cell_type": "code",
   "execution_count": 54,
   "id": "6c1eaf90-2800-4777-871a-485c9e78d5a6",
   "metadata": {},
   "outputs": [
    {
     "data": {
      "text/html": [
       "<style>\n",
       ".list-inline {list-style: none; margin:0; padding: 0}\n",
       ".list-inline>li {display: inline-block}\n",
       ".list-inline>li:not(:last-child)::after {content: \"\\00b7\"; padding: 0 .5ex}\n",
       "</style>\n",
       "<ol class=list-inline><li>'setosa'</li><li>'versicolor'</li><li>'virginica'</li></ol>\n"
      ],
      "text/latex": [
       "\\begin{enumerate*}\n",
       "\\item 'setosa'\n",
       "\\item 'versicolor'\n",
       "\\item 'virginica'\n",
       "\\end{enumerate*}\n"
      ],
      "text/markdown": [
       "1. 'setosa'\n",
       "2. 'versicolor'\n",
       "3. 'virginica'\n",
       "\n",
       "\n"
      ],
      "text/plain": [
       "[1] \"setosa\"     \"versicolor\" \"virginica\" "
      ]
     },
     "metadata": {},
     "output_type": "display_data"
    }
   ],
   "source": [
    "levels(iris$Species)"
   ]
  },
  {
   "cell_type": "code",
   "execution_count": 61,
   "id": "b18539fb-c73d-4d07-a4b6-dc7b04473f03",
   "metadata": {},
   "outputs": [
    {
     "data": {
      "image/png": "[encoded data removed]",
      "text/plain": [
       "Plot with title \"Iris plot\""
      ]
     },
     "metadata": {
      "image/png": {
       "height": 420,
       "width": 420
      }
     },
     "output_type": "display_data"
    }
   ],
   "source": [
    "plot(iris_2,\n",
    "     main = 'Iris plot',\n",
    "     col = color[group])\n",
    "\n",
    "legend(x = 'bottomright',\n",
    "       legend = levels(iris$Species),\n",
    "       col = c('red', 'green', 'blue'),\n",
    "       pch = c(1:3))"
   ]
  },
  {
   "cell_type": "code",
   "execution_count": 1,
   "id": "6a5700a5-9ea0-40d7-8ad1-d4f67598d890",
   "metadata": {},
   "outputs": [],
   "source": [
    "library(DAAG)"
   ]
  },
  {
   "cell_type": "code",
   "execution_count": 8,
   "id": "22147b50-318d-4ec1-b03b-ffc084dd0101",
   "metadata": {},
   "outputs": [
    {
     "name": "stdout",
     "output_type": "stream",
     "text": [
      "'data.frame':\t182 obs. of  9 variables:\n",
      " $ case  : num  1 1 1 1 1 1 1 2 2 2 ...\n",
      " $ id    : num  1 1 1 1 1 1 1 2 2 2 ...\n",
      " $ age   : num  22.4 22.4 22.4 22.4 22.4 22.4 22.4 26.8 26.8 26.8 ...\n",
      " $ sex   : Factor w/ 2 levels \"f\",\"m\": 1 1 1 1 1 1 1 1 1 1 ...\n",
      " $ tint  : Ord.factor w/ 3 levels \"no\"<\"lo\"<\"hi\": 1 2 3 1 2 3 1 1 2 3 ...\n",
      " $ target: Factor w/ 2 levels \"locon\",\"hicon\": 2 2 2 1 1 1 2 2 2 2 ...\n",
      " $ it    : num  26 32.2 27 17.7 20.8 ...\n",
      " $ csoa  : num  46.8 37.4 42.6 41.6 37.4 ...\n",
      " $ agegp : Factor w/ 2 levels \"younger\",\"older\": 1 1 1 1 1 1 1 1 1 1 ...\n"
     ]
    }
   ],
   "source": [
    "str(tinting)"
   ]
  },
  {
   "cell_type": "code",
   "execution_count": 9,
   "id": "308d9319-afb7-4b01-9c14-a8e4d01db6a5",
   "metadata": {},
   "outputs": [
    {
     "data": {
      "image/png": "[encoded data removed]",
      "text/plain": [
       "plot without title"
      ]
     },
     "metadata": {
      "image/png": {
       "height": 420,
       "width": 420
      }
     },
     "output_type": "display_data"
    }
   ],
   "source": [
    "plot(tinting$it, tinting$csoa)"
   ]
  },
  {
   "cell_type": "code",
   "execution_count": 11,
   "id": "c2d9498f-3ae0-40f7-a2ec-f0a43e1a8197",
   "metadata": {},
   "outputs": [
    {
     "ename": "ERROR",
     "evalue": "Error in plot.xy(xy, type, ...): 유효한 플랏 기호가 아닙니다\n",
     "output_type": "error",
     "traceback": [
      "Error in plot.xy(xy, type, ...): 유효한 플랏 기호가 아닙니다\nTraceback:\n",
      "1. plot(tinting$it, tinting$csoa, pch = group, col = color[group])",
      "2. plot.default(tinting$it, tinting$csoa, pch = group, col = color[group])",
      "3. plot.xy(xy, type, ...)"
     ]
    },
    {
     "data": {
      "image/png": "[encoded data removed]",
      "text/plain": [
       "plot without title"
      ]
     },
     "metadata": {
      "image/png": {
       "height": 420,
       "width": 420
      }
     },
     "output_type": "display_data"
    }
   ],
   "source": [
    "group <- tinting$agegp\n",
    "color <- c('red', 'green', 'blue')\n",
    "plot(tinting$it, tinting$csoa,\n",
    "     pch = group,\n",
    "     col = color[group])"
   ]
  },
  {
   "cell_type": "code",
   "execution_count": null,
   "id": "fef7bbac-38a5-43e5-900f-5254d6dd68d3",
   "metadata": {},
   "outputs": [],
   "source": []
  },
  {
   "cell_type": "code",
   "execution_count": null,
   "id": "3854ac2c-136c-446e-b76f-a1581fd5a29c",
   "metadata": {},
   "outputs": [],
   "source": []
  }
 ],
 "metadata": {
  "kernelspec": {
   "display_name": "R",
   "language": "R",
   "name": "ir"
  },
  "language_info": {
   "codemirror_mode": "r",
   "file_extension": ".r",
   "mimetype": "text/x-r-source",
   "name": "R",
   "pygments_lexer": "r",
   "version": "4.1.3"
  }
 },
 "nbformat": 4,
 "nbformat_minor": 5
}
