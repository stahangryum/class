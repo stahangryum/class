{
 "cells": [
  {
   "cell_type": "markdown",
   "id": "48de10df-ed75-4732-b952-63d65800237f",
   "metadata": {},
   "source": [
    "# Ch3"
   ]
  },
  {
   "cell_type": "markdown",
   "id": "8e9595da-aa64-418a-a9c2-7d2ad0cf1cdb",
   "metadata": {},
   "source": [
    "### 3-01"
   ]
  },
  {
   "cell_type": "code",
   "execution_count": 1,
   "id": "35830f5e-94d7-4e9a-b6fb-0c930615f8b0",
   "metadata": {},
   "outputs": [
    {
     "name": "stdout",
     "output_type": "stream",
     "text": [
      "[1] 63\n"
     ]
    }
   ],
   "source": [
    "a <- 7\n",
    "b <- 9\n",
    "c <- a*b\n",
    "print(c)"
   ]
  },
  {
   "cell_type": "markdown",
   "id": "aaab9d94-bbb3-473d-b970-e73f152ad475",
   "metadata": {},
   "source": [
    "### 3-02"
   ]
  },
  {
   "cell_type": "code",
   "execution_count": 2,
   "id": "6593d7cb-d176-489a-9ac8-354bc39eca8a",
   "metadata": {},
   "outputs": [
    {
     "name": "stdout",
     "output_type": "stream",
     "text": [
      "[1] 130\n"
     ]
    }
   ],
   "source": [
    "a <- 90\n",
    "b <- 60\n",
    "c <- 80\n",
    "d <- 360 - (a+b+c)\n",
    "print(d)"
   ]
  },
  {
   "cell_type": "markdown",
   "id": "8c9b94ae-844b-4cba-903f-a6f7fe5c21da",
   "metadata": {},
   "source": [
    "### 3-03"
   ]
  },
  {
   "cell_type": "code",
   "execution_count": 3,
   "id": "7fd25763-16c5-4256-9a2d-04c575fe9c5a",
   "metadata": {},
   "outputs": [
    {
     "name": "stdout",
     "output_type": "stream",
     "text": [
      "[1] 6\n"
     ]
    }
   ],
   "source": [
    "a <- 4\n",
    "b <- 3\n",
    "s <- 1/2 * a* b\n",
    "print(s)"
   ]
  },
  {
   "cell_type": "markdown",
   "id": "b588546a-f839-4d49-9aac-b82931e4bc92",
   "metadata": {},
   "source": [
    "### 3-04"
   ]
  },
  {
   "cell_type": "code",
   "execution_count": 5,
   "id": "df62cb73-fec2-47b4-a76c-b0d03b0e84e4",
   "metadata": {},
   "outputs": [
    {
     "name": "stdout",
     "output_type": "stream",
     "text": [
      "[1] 5\n"
     ]
    }
   ],
   "source": [
    "dist <- 60\n",
    "v1 <- 20\n",
    "v2 <- 30\n",
    "\n",
    "avg = dist/v1 + dist/v2\n",
    "print(avg)"
   ]
  },
  {
   "cell_type": "markdown",
   "id": "f84d5898-3d0f-4c8e-9617-b8c539e67689",
   "metadata": {},
   "source": [
    "### 3-05"
   ]
  },
  {
   "cell_type": "code",
   "execution_count": 6,
   "id": "b9fabcbf-9b9a-4f27-8f32-feb0c3e46341",
   "metadata": {},
   "outputs": [
    {
     "name": "stdout",
     "output_type": "stream",
     "text": [
      "[1] 16.66667\n"
     ]
    }
   ],
   "source": [
    "sugar <- 25\n",
    "water <- 125\n",
    "percent <- sugar / (sugar + water) * 100\n",
    "print(percent)"
   ]
  },
  {
   "cell_type": "markdown",
   "id": "c1f32aec-3b94-4763-ab12-1eff695f973a",
   "metadata": {},
   "source": [
    "### 3-06"
   ]
  },
  {
   "cell_type": "markdown",
   "id": "4cb271e3-0392-4844-9f70-f9f4d51d536a",
   "metadata": {},
   "source": [
    "- c로 묶어주어야 한다."
   ]
  },
  {
   "cell_type": "code",
   "execution_count": 9,
   "id": "0e43ca7a-0cae-4fa5-a15e-358c695e59c2",
   "metadata": {},
   "outputs": [],
   "source": [
    "v <- c(92, 43, 55, 28, 19)"
   ]
  },
  {
   "cell_type": "markdown",
   "id": "8723f87d-f137-4616-879c-41858a7bf823",
   "metadata": {},
   "source": [
    "### 3-07"
   ]
  },
  {
   "cell_type": "code",
   "execution_count": 10,
   "id": "0d1855a8-9a80-4107-9dd9-f75bf669372e",
   "metadata": {},
   "outputs": [],
   "source": [
    "v1 <- c('cyan', 'magenta', 'yellow', 'black')\n",
    "v2 <- c(TRUE, FALSE, TRUE)\n",
    "v3 <- c(37.5, 8.2, 9.6, 11.8, 24.9)"
   ]
  },
  {
   "cell_type": "markdown",
   "id": "e8fdc91b-ac98-498a-918f-af76e4ac7472",
   "metadata": {},
   "source": [
    "### 3-08"
   ]
  },
  {
   "cell_type": "markdown",
   "id": "2cb2276b-fa2a-4dfb-b090-090c9f07e614",
   "metadata": {},
   "source": [
    "- 문자형에서 숫자형으로 변경"
   ]
  },
  {
   "cell_type": "code",
   "execution_count": 13,
   "id": "0a67c10d-519a-46ae-a6f7-35451151eb19",
   "metadata": {},
   "outputs": [
    {
     "data": {
      "text/html": [
       "10"
      ],
      "text/latex": [
       "10"
      ],
      "text/markdown": [
       "10"
      ],
      "text/plain": [
       "[1] 10"
      ]
     },
     "metadata": {},
     "output_type": "display_data"
    }
   ],
   "source": [
    "v <- c(1,2,3,4)\n",
    "sum(v)"
   ]
  },
  {
   "cell_type": "markdown",
   "id": "23be19c2-6707-4627-9837-55cd41589799",
   "metadata": {},
   "source": [
    "### 3-09"
   ]
  },
  {
   "cell_type": "code",
   "execution_count": 16,
   "id": "33103f23-bbee-473d-8ea1-a350d2c422ba",
   "metadata": {},
   "outputs": [],
   "source": [
    "v1 <- c('T', 'T', 'T', 'F', 'T', 'F', 'F', 'T', 'T', 'F')\n",
    "v2 <- c(T, T, T, F, T, F, F, T, T, F)"
   ]
  },
  {
   "cell_type": "code",
   "execution_count": 17,
   "id": "79116a17-1e85-4f04-a131-65bd7c4c6c5e",
   "metadata": {},
   "outputs": [
    {
     "ename": "ERROR",
     "evalue": "Error in sum(v1): 인자의 'type' (character)이 올바르지 않습니다\n",
     "output_type": "error",
     "traceback": [
      "Error in sum(v1): 인자의 'type' (character)이 올바르지 않습니다\nTraceback:\n"
     ]
    }
   ],
   "source": [
    "sum(v1)"
   ]
  },
  {
   "cell_type": "code",
   "execution_count": 18,
   "id": "edce8424-97e4-49b3-a12d-17481c3ed878",
   "metadata": {},
   "outputs": [
    {
     "data": {
      "text/html": [
       "6"
      ],
      "text/latex": [
       "6"
      ],
      "text/markdown": [
       "6"
      ],
      "text/plain": [
       "[1] 6"
      ]
     },
     "metadata": {},
     "output_type": "display_data"
    }
   ],
   "source": [
    "sum(v2)"
   ]
  },
  {
   "cell_type": "markdown",
   "id": "1a06da7a-3964-48e2-93f5-7410c6470337",
   "metadata": {},
   "source": [
    "### 3-10"
   ]
  },
  {
   "cell_type": "code",
   "execution_count": 22,
   "id": "b1e3135a-adc7-40a4-a801-83d2193fa5a2",
   "metadata": {},
   "outputs": [
    {
     "data": {
      "text/html": [
       "12502500"
      ],
      "text/latex": [
       "12502500"
      ],
      "text/markdown": [
       "12502500"
      ],
      "text/plain": [
       "[1] 12502500"
      ]
     },
     "metadata": {},
     "output_type": "display_data"
    }
   ],
   "source": [
    "sum(1:5000)"
   ]
  },
  {
   "cell_type": "markdown",
   "id": "ee823102-9d42-44c5-a2aa-7dcfead0507d",
   "metadata": {},
   "source": [
    "### 3-11"
   ]
  },
  {
   "cell_type": "code",
   "execution_count": 24,
   "id": "86dc01cf-dfe5-4070-9f5c-113e4209aba6",
   "metadata": {},
   "outputs": [
    {
     "data": {
      "text/html": [
       "<style>\n",
       ".list-inline {list-style: none; margin:0; padding: 0}\n",
       ".list-inline>li {display: inline-block}\n",
       ".list-inline>li:not(:last-child)::after {content: \"\\00b7\"; padding: 0 .5ex}\n",
       "</style>\n",
       "<ol class=list-inline><li>1</li><li>3</li><li>5</li><li>7</li><li>9</li><li>11</li><li>13</li><li>15</li><li>17</li><li>19</li><li>21</li><li>23</li><li>25</li><li>27</li><li>29</li><li>31</li><li>33</li><li>35</li><li>37</li><li>39</li><li>41</li><li>43</li><li>45</li><li>47</li><li>49</li><li>51</li><li>53</li><li>55</li><li>57</li><li>59</li><li>61</li><li>63</li><li>65</li><li>67</li><li>69</li><li>71</li><li>73</li><li>75</li><li>77</li><li>79</li><li>81</li><li>83</li><li>85</li><li>87</li><li>89</li><li>91</li><li>93</li><li>95</li><li>97</li><li>99</li></ol>\n"
      ],
      "text/latex": [
       "\\begin{enumerate*}\n",
       "\\item 1\n",
       "\\item 3\n",
       "\\item 5\n",
       "\\item 7\n",
       "\\item 9\n",
       "\\item 11\n",
       "\\item 13\n",
       "\\item 15\n",
       "\\item 17\n",
       "\\item 19\n",
       "\\item 21\n",
       "\\item 23\n",
       "\\item 25\n",
       "\\item 27\n",
       "\\item 29\n",
       "\\item 31\n",
       "\\item 33\n",
       "\\item 35\n",
       "\\item 37\n",
       "\\item 39\n",
       "\\item 41\n",
       "\\item 43\n",
       "\\item 45\n",
       "\\item 47\n",
       "\\item 49\n",
       "\\item 51\n",
       "\\item 53\n",
       "\\item 55\n",
       "\\item 57\n",
       "\\item 59\n",
       "\\item 61\n",
       "\\item 63\n",
       "\\item 65\n",
       "\\item 67\n",
       "\\item 69\n",
       "\\item 71\n",
       "\\item 73\n",
       "\\item 75\n",
       "\\item 77\n",
       "\\item 79\n",
       "\\item 81\n",
       "\\item 83\n",
       "\\item 85\n",
       "\\item 87\n",
       "\\item 89\n",
       "\\item 91\n",
       "\\item 93\n",
       "\\item 95\n",
       "\\item 97\n",
       "\\item 99\n",
       "\\end{enumerate*}\n"
      ],
      "text/markdown": [
       "1. 1\n",
       "2. 3\n",
       "3. 5\n",
       "4. 7\n",
       "5. 9\n",
       "6. 11\n",
       "7. 13\n",
       "8. 15\n",
       "9. 17\n",
       "10. 19\n",
       "11. 21\n",
       "12. 23\n",
       "13. 25\n",
       "14. 27\n",
       "15. 29\n",
       "16. 31\n",
       "17. 33\n",
       "18. 35\n",
       "19. 37\n",
       "20. 39\n",
       "21. 41\n",
       "22. 43\n",
       "23. 45\n",
       "24. 47\n",
       "25. 49\n",
       "26. 51\n",
       "27. 53\n",
       "28. 55\n",
       "29. 57\n",
       "30. 59\n",
       "31. 61\n",
       "32. 63\n",
       "33. 65\n",
       "34. 67\n",
       "35. 69\n",
       "36. 71\n",
       "37. 73\n",
       "38. 75\n",
       "39. 77\n",
       "40. 79\n",
       "41. 81\n",
       "42. 83\n",
       "43. 85\n",
       "44. 87\n",
       "45. 89\n",
       "46. 91\n",
       "47. 93\n",
       "48. 95\n",
       "49. 97\n",
       "50. 99\n",
       "\n",
       "\n"
      ],
      "text/plain": [
       " [1]  1  3  5  7  9 11 13 15 17 19 21 23 25 27 29 31 33 35 37 39 41 43 45 47 49\n",
       "[26] 51 53 55 57 59 61 63 65 67 69 71 73 75 77 79 81 83 85 87 89 91 93 95 97 99"
      ]
     },
     "metadata": {},
     "output_type": "display_data"
    }
   ],
   "source": [
    "even <- seq(1, 100, 2)\n",
    "even"
   ]
  },
  {
   "cell_type": "code",
   "execution_count": 25,
   "id": "8b587c41-eb3d-4db4-8e45-69e484d52ece",
   "metadata": {},
   "outputs": [
    {
     "data": {
      "text/html": [
       "2500"
      ],
      "text/latex": [
       "2500"
      ],
      "text/markdown": [
       "2500"
      ],
      "text/plain": [
       "[1] 2500"
      ]
     },
     "metadata": {},
     "output_type": "display_data"
    }
   ],
   "source": [
    "sum(even)"
   ]
  },
  {
   "cell_type": "markdown",
   "id": "009d493f-030a-4424-be80-4db6eb7caac5",
   "metadata": {},
   "source": [
    "### 3-12"
   ]
  },
  {
   "cell_type": "code",
   "execution_count": 31,
   "id": "9391059b-5f65-4fa7-bfce-ce08a4b7e5b2",
   "metadata": {},
   "outputs": [
    {
     "data": {
      "text/html": [
       "<style>\n",
       ".list-inline {list-style: none; margin:0; padding: 0}\n",
       ".list-inline>li {display: inline-block}\n",
       ".list-inline>li:not(:last-child)::after {content: \"\\00b7\"; padding: 0 .5ex}\n",
       "</style>\n",
       "<ol class=list-inline><li>1</li><li>2</li><li>3</li><li>4</li><li>5</li><li>6</li><li>7</li><li>8</li><li>9</li><li>10</li><li>11</li><li>12</li><li>13</li><li>14</li><li>15</li><li>16</li><li>17</li><li>18</li><li>19</li><li>20</li><li>21</li><li>22</li><li>23</li><li>24</li><li>25</li><li>26</li><li>27</li><li>28</li><li>29</li><li>30</li><li>31</li><li>32</li><li>33</li><li>34</li><li>35</li><li>36</li><li>37</li><li>38</li><li>39</li><li>40</li><li>41</li><li>42</li><li>43</li><li>44</li><li>45</li><li>46</li><li>47</li><li>48</li><li>49</li><li>50</li><li>51</li><li>52</li><li>53</li><li>54</li><li>55</li><li>56</li><li>57</li><li>58</li><li>59</li><li>60</li><li>61</li><li>62</li><li>63</li><li>64</li><li>65</li><li>66</li><li>67</li><li>68</li><li>69</li><li>70</li><li>71</li><li>72</li><li>73</li><li>74</li><li>75</li><li>76</li><li>77</li><li>78</li><li>79</li><li>80</li><li>81</li><li>82</li><li>83</li><li>84</li><li>85</li><li>86</li><li>87</li><li>88</li><li>89</li><li>90</li><li>91</li><li>92</li><li>93</li><li>94</li><li>95</li><li>96</li><li>97</li><li>98</li><li>99</li><li>100</li></ol>\n"
      ],
      "text/latex": [
       "\\begin{enumerate*}\n",
       "\\item 1\n",
       "\\item 2\n",
       "\\item 3\n",
       "\\item 4\n",
       "\\item 5\n",
       "\\item 6\n",
       "\\item 7\n",
       "\\item 8\n",
       "\\item 9\n",
       "\\item 10\n",
       "\\item 11\n",
       "\\item 12\n",
       "\\item 13\n",
       "\\item 14\n",
       "\\item 15\n",
       "\\item 16\n",
       "\\item 17\n",
       "\\item 18\n",
       "\\item 19\n",
       "\\item 20\n",
       "\\item 21\n",
       "\\item 22\n",
       "\\item 23\n",
       "\\item 24\n",
       "\\item 25\n",
       "\\item 26\n",
       "\\item 27\n",
       "\\item 28\n",
       "\\item 29\n",
       "\\item 30\n",
       "\\item 31\n",
       "\\item 32\n",
       "\\item 33\n",
       "\\item 34\n",
       "\\item 35\n",
       "\\item 36\n",
       "\\item 37\n",
       "\\item 38\n",
       "\\item 39\n",
       "\\item 40\n",
       "\\item 41\n",
       "\\item 42\n",
       "\\item 43\n",
       "\\item 44\n",
       "\\item 45\n",
       "\\item 46\n",
       "\\item 47\n",
       "\\item 48\n",
       "\\item 49\n",
       "\\item 50\n",
       "\\item 51\n",
       "\\item 52\n",
       "\\item 53\n",
       "\\item 54\n",
       "\\item 55\n",
       "\\item 56\n",
       "\\item 57\n",
       "\\item 58\n",
       "\\item 59\n",
       "\\item 60\n",
       "\\item 61\n",
       "\\item 62\n",
       "\\item 63\n",
       "\\item 64\n",
       "\\item 65\n",
       "\\item 66\n",
       "\\item 67\n",
       "\\item 68\n",
       "\\item 69\n",
       "\\item 70\n",
       "\\item 71\n",
       "\\item 72\n",
       "\\item 73\n",
       "\\item 74\n",
       "\\item 75\n",
       "\\item 76\n",
       "\\item 77\n",
       "\\item 78\n",
       "\\item 79\n",
       "\\item 80\n",
       "\\item 81\n",
       "\\item 82\n",
       "\\item 83\n",
       "\\item 84\n",
       "\\item 85\n",
       "\\item 86\n",
       "\\item 87\n",
       "\\item 88\n",
       "\\item 89\n",
       "\\item 90\n",
       "\\item 91\n",
       "\\item 92\n",
       "\\item 93\n",
       "\\item 94\n",
       "\\item 95\n",
       "\\item 96\n",
       "\\item 97\n",
       "\\item 98\n",
       "\\item 99\n",
       "\\item 100\n",
       "\\end{enumerate*}\n"
      ],
      "text/markdown": [
       "1. 1\n",
       "2. 2\n",
       "3. 3\n",
       "4. 4\n",
       "5. 5\n",
       "6. 6\n",
       "7. 7\n",
       "8. 8\n",
       "9. 9\n",
       "10. 10\n",
       "11. 11\n",
       "12. 12\n",
       "13. 13\n",
       "14. 14\n",
       "15. 15\n",
       "16. 16\n",
       "17. 17\n",
       "18. 18\n",
       "19. 19\n",
       "20. 20\n",
       "21. 21\n",
       "22. 22\n",
       "23. 23\n",
       "24. 24\n",
       "25. 25\n",
       "26. 26\n",
       "27. 27\n",
       "28. 28\n",
       "29. 29\n",
       "30. 30\n",
       "31. 31\n",
       "32. 32\n",
       "33. 33\n",
       "34. 34\n",
       "35. 35\n",
       "36. 36\n",
       "37. 37\n",
       "38. 38\n",
       "39. 39\n",
       "40. 40\n",
       "41. 41\n",
       "42. 42\n",
       "43. 43\n",
       "44. 44\n",
       "45. 45\n",
       "46. 46\n",
       "47. 47\n",
       "48. 48\n",
       "49. 49\n",
       "50. 50\n",
       "51. 51\n",
       "52. 52\n",
       "53. 53\n",
       "54. 54\n",
       "55. 55\n",
       "56. 56\n",
       "57. 57\n",
       "58. 58\n",
       "59. 59\n",
       "60. 60\n",
       "61. 61\n",
       "62. 62\n",
       "63. 63\n",
       "64. 64\n",
       "65. 65\n",
       "66. 66\n",
       "67. 67\n",
       "68. 68\n",
       "69. 69\n",
       "70. 70\n",
       "71. 71\n",
       "72. 72\n",
       "73. 73\n",
       "74. 74\n",
       "75. 75\n",
       "76. 76\n",
       "77. 77\n",
       "78. 78\n",
       "79. 79\n",
       "80. 80\n",
       "81. 81\n",
       "82. 82\n",
       "83. 83\n",
       "84. 84\n",
       "85. 85\n",
       "86. 86\n",
       "87. 87\n",
       "88. 88\n",
       "89. 89\n",
       "90. 90\n",
       "91. 91\n",
       "92. 92\n",
       "93. 93\n",
       "94. 94\n",
       "95. 95\n",
       "96. 96\n",
       "97. 97\n",
       "98. 98\n",
       "99. 99\n",
       "100. 100\n",
       "\n",
       "\n"
      ],
      "text/plain": [
       "  [1]   1   2   3   4   5   6   7   8   9  10  11  12  13  14  15  16  17  18\n",
       " [19]  19  20  21  22  23  24  25  26  27  28  29  30  31  32  33  34  35  36\n",
       " [37]  37  38  39  40  41  42  43  44  45  46  47  48  49  50  51  52  53  54\n",
       " [55]  55  56  57  58  59  60  61  62  63  64  65  66  67  68  69  70  71  72\n",
       " [73]  73  74  75  76  77  78  79  80  81  82  83  84  85  86  87  88  89  90\n",
       " [91]  91  92  93  94  95  96  97  98  99 100"
      ]
     },
     "metadata": {},
     "output_type": "display_data"
    }
   ],
   "source": [
    "d <- 1:100\n",
    "d"
   ]
  },
  {
   "cell_type": "code",
   "execution_count": 32,
   "id": "f8f4be38-716c-4a4a-acc5-0c56fc1a3977",
   "metadata": {},
   "outputs": [
    {
     "data": {
      "text/html": [
       "<style>\n",
       ".list-inline {list-style: none; margin:0; padding: 0}\n",
       ".list-inline>li {display: inline-block}\n",
       ".list-inline>li:not(:last-child)::after {content: \"\\00b7\"; padding: 0 .5ex}\n",
       "</style>\n",
       "<ol class=list-inline><li>1</li><li>3</li><li>5</li><li>7</li><li>9</li><li>11</li><li>13</li><li>15</li><li>17</li><li>19</li><li>21</li><li>23</li><li>25</li><li>27</li><li>29</li><li>31</li><li>33</li><li>35</li><li>37</li><li>39</li><li>41</li><li>43</li><li>45</li><li>47</li><li>49</li><li>51</li><li>53</li><li>55</li><li>57</li><li>59</li><li>61</li><li>63</li><li>65</li><li>67</li><li>69</li><li>71</li><li>73</li><li>75</li><li>77</li><li>79</li><li>81</li><li>83</li><li>85</li><li>87</li><li>89</li><li>91</li><li>93</li><li>95</li><li>97</li><li>99</li></ol>\n"
      ],
      "text/latex": [
       "\\begin{enumerate*}\n",
       "\\item 1\n",
       "\\item 3\n",
       "\\item 5\n",
       "\\item 7\n",
       "\\item 9\n",
       "\\item 11\n",
       "\\item 13\n",
       "\\item 15\n",
       "\\item 17\n",
       "\\item 19\n",
       "\\item 21\n",
       "\\item 23\n",
       "\\item 25\n",
       "\\item 27\n",
       "\\item 29\n",
       "\\item 31\n",
       "\\item 33\n",
       "\\item 35\n",
       "\\item 37\n",
       "\\item 39\n",
       "\\item 41\n",
       "\\item 43\n",
       "\\item 45\n",
       "\\item 47\n",
       "\\item 49\n",
       "\\item 51\n",
       "\\item 53\n",
       "\\item 55\n",
       "\\item 57\n",
       "\\item 59\n",
       "\\item 61\n",
       "\\item 63\n",
       "\\item 65\n",
       "\\item 67\n",
       "\\item 69\n",
       "\\item 71\n",
       "\\item 73\n",
       "\\item 75\n",
       "\\item 77\n",
       "\\item 79\n",
       "\\item 81\n",
       "\\item 83\n",
       "\\item 85\n",
       "\\item 87\n",
       "\\item 89\n",
       "\\item 91\n",
       "\\item 93\n",
       "\\item 95\n",
       "\\item 97\n",
       "\\item 99\n",
       "\\end{enumerate*}\n"
      ],
      "text/markdown": [
       "1. 1\n",
       "2. 3\n",
       "3. 5\n",
       "4. 7\n",
       "5. 9\n",
       "6. 11\n",
       "7. 13\n",
       "8. 15\n",
       "9. 17\n",
       "10. 19\n",
       "11. 21\n",
       "12. 23\n",
       "13. 25\n",
       "14. 27\n",
       "15. 29\n",
       "16. 31\n",
       "17. 33\n",
       "18. 35\n",
       "19. 37\n",
       "20. 39\n",
       "21. 41\n",
       "22. 43\n",
       "23. 45\n",
       "24. 47\n",
       "25. 49\n",
       "26. 51\n",
       "27. 53\n",
       "28. 55\n",
       "29. 57\n",
       "30. 59\n",
       "31. 61\n",
       "32. 63\n",
       "33. 65\n",
       "34. 67\n",
       "35. 69\n",
       "36. 71\n",
       "37. 73\n",
       "38. 75\n",
       "39. 77\n",
       "40. 79\n",
       "41. 81\n",
       "42. 83\n",
       "43. 85\n",
       "44. 87\n",
       "45. 89\n",
       "46. 91\n",
       "47. 93\n",
       "48. 95\n",
       "49. 97\n",
       "50. 99\n",
       "\n",
       "\n"
      ],
      "text/plain": [
       " [1]  1  3  5  7  9 11 13 15 17 19 21 23 25 27 29 31 33 35 37 39 41 43 45 47 49\n",
       "[26] 51 53 55 57 59 61 63 65 67 69 71 73 75 77 79 81 83 85 87 89 91 93 95 97 99"
      ]
     },
     "metadata": {},
     "output_type": "display_data"
    }
   ],
   "source": [
    "odd <- d[seq(1, 100, 2)]\n",
    "odd"
   ]
  },
  {
   "cell_type": "code",
   "execution_count": 37,
   "id": "0a3bf004-d1c5-409d-8060-882cbe7946d7",
   "metadata": {},
   "outputs": [
    {
     "data": {
      "text/html": [
       "<style>\n",
       ".list-inline {list-style: none; margin:0; padding: 0}\n",
       ".list-inline>li {display: inline-block}\n",
       ".list-inline>li:not(:last-child)::after {content: \"\\00b7\"; padding: 0 .5ex}\n",
       "</style>\n",
       "<ol class=list-inline><li>1</li><li>3</li><li>5</li><li>7</li><li>9</li><li>11</li><li>13</li><li>15</li><li>17</li><li>19</li><li>21</li><li>23</li><li>25</li><li>27</li><li>29</li><li>31</li><li>33</li><li>35</li><li>37</li><li>39</li><li>41</li><li>43</li><li>45</li><li>47</li><li>49</li><li>51</li><li>53</li><li>55</li><li>57</li><li>59</li><li>61</li><li>63</li><li>65</li><li>67</li><li>69</li><li>71</li><li>73</li><li>75</li><li>77</li><li>79</li></ol>\n"
      ],
      "text/latex": [
       "\\begin{enumerate*}\n",
       "\\item 1\n",
       "\\item 3\n",
       "\\item 5\n",
       "\\item 7\n",
       "\\item 9\n",
       "\\item 11\n",
       "\\item 13\n",
       "\\item 15\n",
       "\\item 17\n",
       "\\item 19\n",
       "\\item 21\n",
       "\\item 23\n",
       "\\item 25\n",
       "\\item 27\n",
       "\\item 29\n",
       "\\item 31\n",
       "\\item 33\n",
       "\\item 35\n",
       "\\item 37\n",
       "\\item 39\n",
       "\\item 41\n",
       "\\item 43\n",
       "\\item 45\n",
       "\\item 47\n",
       "\\item 49\n",
       "\\item 51\n",
       "\\item 53\n",
       "\\item 55\n",
       "\\item 57\n",
       "\\item 59\n",
       "\\item 61\n",
       "\\item 63\n",
       "\\item 65\n",
       "\\item 67\n",
       "\\item 69\n",
       "\\item 71\n",
       "\\item 73\n",
       "\\item 75\n",
       "\\item 77\n",
       "\\item 79\n",
       "\\end{enumerate*}\n"
      ],
      "text/markdown": [
       "1. 1\n",
       "2. 3\n",
       "3. 5\n",
       "4. 7\n",
       "5. 9\n",
       "6. 11\n",
       "7. 13\n",
       "8. 15\n",
       "9. 17\n",
       "10. 19\n",
       "11. 21\n",
       "12. 23\n",
       "13. 25\n",
       "14. 27\n",
       "15. 29\n",
       "16. 31\n",
       "17. 33\n",
       "18. 35\n",
       "19. 37\n",
       "20. 39\n",
       "21. 41\n",
       "22. 43\n",
       "23. 45\n",
       "24. 47\n",
       "25. 49\n",
       "26. 51\n",
       "27. 53\n",
       "28. 55\n",
       "29. 57\n",
       "30. 59\n",
       "31. 61\n",
       "32. 63\n",
       "33. 65\n",
       "34. 67\n",
       "35. 69\n",
       "36. 71\n",
       "37. 73\n",
       "38. 75\n",
       "39. 77\n",
       "40. 79\n",
       "\n",
       "\n"
      ],
      "text/plain": [
       " [1]  1  3  5  7  9 11 13 15 17 19 21 23 25 27 29 31 33 35 37 39 41 43 45 47 49\n",
       "[26] 51 53 55 57 59 61 63 65 67 69 71 73 75 77 79"
      ]
     },
     "metadata": {},
     "output_type": "display_data"
    }
   ],
   "source": [
    "odd[-((length(odd) - 9): length(odd))]"
   ]
  },
  {
   "cell_type": "code",
   "execution_count": 39,
   "id": "b3e31e43-7813-45f6-811a-71045f211594",
   "metadata": {},
   "outputs": [
    {
     "data": {
      "text/html": [
       "<style>\n",
       ".list-inline {list-style: none; margin:0; padding: 0}\n",
       ".list-inline>li {display: inline-block}\n",
       ".list-inline>li:not(:last-child)::after {content: \"\\00b7\"; padding: 0 .5ex}\n",
       "</style>\n",
       "<ol class=list-inline><li>5</li><li>13</li><li>63</li></ol>\n"
      ],
      "text/latex": [
       "\\begin{enumerate*}\n",
       "\\item 5\n",
       "\\item 13\n",
       "\\item 63\n",
       "\\end{enumerate*}\n"
      ],
      "text/markdown": [
       "1. 5\n",
       "2. 13\n",
       "3. 63\n",
       "\n",
       "\n"
      ],
      "text/plain": [
       "[1]  5 13 63"
      ]
     },
     "metadata": {},
     "output_type": "display_data"
    }
   ],
   "source": [
    "pick <- odd[c(3,7,32)]\n",
    "pick"
   ]
  },
  {
   "cell_type": "code",
   "execution_count": 40,
   "id": "a1356174-a091-43eb-9ba9-10f71aa86f16",
   "metadata": {},
   "outputs": [
    {
     "data": {
      "text/html": [
       "<style>\n",
       ".dl-inline {width: auto; margin:0; padding: 0}\n",
       ".dl-inline>dt, .dl-inline>dd {float: none; width: auto; display: inline-block}\n",
       ".dl-inline>dt::after {content: \":\\0020\"; padding-right: .5ex}\n",
       ".dl-inline>dt:not(:first-of-type) {padding-left: .5ex}\n",
       "</style><dl class=dl-inline><dt>3rd</dt><dd>5</dd><dt>7th</dt><dd>13</dd><dt>32th</dt><dd>63</dd></dl>\n"
      ],
      "text/latex": [
       "\\begin{description*}\n",
       "\\item[3rd] 5\n",
       "\\item[7th] 13\n",
       "\\item[32th] 63\n",
       "\\end{description*}\n"
      ],
      "text/markdown": [
       "3rd\n",
       ":   57th\n",
       ":   1332th\n",
       ":   63\n",
       "\n"
      ],
      "text/plain": [
       " 3rd  7th 32th \n",
       "   5   13   63 "
      ]
     },
     "metadata": {},
     "output_type": "display_data"
    }
   ],
   "source": [
    "names(pick) = c('3rd', '7th', '32th')\n",
    "pick"
   ]
  },
  {
   "cell_type": "code",
   "execution_count": 51,
   "id": "a15f9267-9f77-4688-af01-b1d6ad0b010a",
   "metadata": {},
   "outputs": [
    {
     "data": {
      "text/html": [
       "<style>\n",
       ".dl-inline {width: auto; margin:0; padding: 0}\n",
       ".dl-inline>dt, .dl-inline>dd {float: none; width: auto; display: inline-block}\n",
       ".dl-inline>dt::after {content: \":\\0020\"; padding-right: .5ex}\n",
       ".dl-inline>dt:not(:first-of-type) {padding-left: .5ex}\n",
       "</style><dl class=dl-inline><dt>3rd</dt><dd>5</dd><dt>32th</dt><dd>63</dd></dl>\n"
      ],
      "text/latex": [
       "\\begin{description*}\n",
       "\\item[3rd] 5\n",
       "\\item[32th] 63\n",
       "\\end{description*}\n"
      ],
      "text/markdown": [
       "3rd\n",
       ":   532th\n",
       ":   63\n",
       "\n"
      ],
      "text/plain": [
       " 3rd 32th \n",
       "   5   63 "
      ]
     },
     "metadata": {},
     "output_type": "display_data"
    }
   ],
   "source": [
    "pick[-which(pick == pick['7th'])]"
   ]
  },
  {
   "cell_type": "code",
   "execution_count": 52,
   "id": "f54a8054-4274-4328-869c-0dac777a5625",
   "metadata": {},
   "outputs": [
    {
     "data": {
      "text/html": [
       "<style>\n",
       ".dl-inline {width: auto; margin:0; padding: 0}\n",
       ".dl-inline>dt, .dl-inline>dd {float: none; width: auto; display: inline-block}\n",
       ".dl-inline>dt::after {content: \":\\0020\"; padding-right: .5ex}\n",
       ".dl-inline>dt:not(:first-of-type) {padding-left: .5ex}\n",
       "</style><dl class=dl-inline><dt>3rd</dt><dd>3</dd><dt>7th</dt><dd>13</dd><dt>32th</dt><dd>63</dd></dl>\n"
      ],
      "text/latex": [
       "\\begin{description*}\n",
       "\\item[3rd] 3\n",
       "\\item[7th] 13\n",
       "\\item[32th] 63\n",
       "\\end{description*}\n"
      ],
      "text/markdown": [
       "3rd\n",
       ":   37th\n",
       ":   1332th\n",
       ":   63\n",
       "\n"
      ],
      "text/plain": [
       " 3rd  7th 32th \n",
       "   3   13   63 "
      ]
     },
     "metadata": {},
     "output_type": "display_data"
    }
   ],
   "source": [
    "pick['3rd'] = 3\n",
    "pick"
   ]
  },
  {
   "cell_type": "markdown",
   "id": "0720bf40-460e-475c-b7cf-48a19cfa113c",
   "metadata": {},
   "source": [
    "# Ch4"
   ]
  },
  {
   "cell_type": "markdown",
   "id": "cfa600ad-4419-488b-aec9-5b43ebfedfc5",
   "metadata": {},
   "source": [
    "### 4-01"
   ]
  },
  {
   "cell_type": "markdown",
   "id": "bf6056eb-ba65-41f0-9ceb-4b1f0c973ffb",
   "metadata": {},
   "source": [
    "- 리스트, 벡터, 팩터"
   ]
  },
  {
   "cell_type": "markdown",
   "id": "afec3577-046f-4a5b-b1a0-4de3d5167111",
   "metadata": {},
   "source": [
    "### 4-02"
   ]
  },
  {
   "cell_type": "markdown",
   "id": "22bb7fe8-0ff4-4737-98f5-909762150120",
   "metadata": {},
   "source": [
    "- a만 숫자형이다.\n",
    "\n",
    "- 숫자형을 문자형과 묶으면 문자형이 된다."
   ]
  },
  {
   "cell_type": "code",
   "execution_count": 57,
   "id": "bd8acf8f-cfd1-429b-8e1c-691150b1ffa2",
   "metadata": {},
   "outputs": [],
   "source": [
    "a <- c(1,2)\n",
    "b <- '3'\n",
    "c <- c(a,b)\n",
    "d <- '4'"
   ]
  },
  {
   "cell_type": "code",
   "execution_count": 58,
   "id": "9f298dbb-8cf7-4fd9-a1d6-72536de3dde0",
   "metadata": {},
   "outputs": [
    {
     "data": {
      "text/html": [
       "<style>\n",
       ".list-inline {list-style: none; margin:0; padding: 0}\n",
       ".list-inline>li {display: inline-block}\n",
       ".list-inline>li:not(:last-child)::after {content: \"\\00b7\"; padding: 0 .5ex}\n",
       "</style>\n",
       "<ol class=list-inline><li>1</li><li>2</li></ol>\n"
      ],
      "text/latex": [
       "\\begin{enumerate*}\n",
       "\\item 1\n",
       "\\item 2\n",
       "\\end{enumerate*}\n"
      ],
      "text/markdown": [
       "1. 1\n",
       "2. 2\n",
       "\n",
       "\n"
      ],
      "text/plain": [
       "[1] 1 2"
      ]
     },
     "metadata": {},
     "output_type": "display_data"
    }
   ],
   "source": [
    "a"
   ]
  },
  {
   "cell_type": "code",
   "execution_count": 59,
   "id": "670b2023-f490-48fd-a874-a5d0ea168f96",
   "metadata": {},
   "outputs": [
    {
     "data": {
      "text/html": [
       "'3'"
      ],
      "text/latex": [
       "'3'"
      ],
      "text/markdown": [
       "'3'"
      ],
      "text/plain": [
       "[1] \"3\""
      ]
     },
     "metadata": {},
     "output_type": "display_data"
    }
   ],
   "source": [
    "b"
   ]
  },
  {
   "cell_type": "code",
   "execution_count": 60,
   "id": "3b392c3e-c0ba-4b33-846b-fa084b178214",
   "metadata": {},
   "outputs": [
    {
     "data": {
      "text/html": [
       "<style>\n",
       ".list-inline {list-style: none; margin:0; padding: 0}\n",
       ".list-inline>li {display: inline-block}\n",
       ".list-inline>li:not(:last-child)::after {content: \"\\00b7\"; padding: 0 .5ex}\n",
       "</style>\n",
       "<ol class=list-inline><li>'1'</li><li>'2'</li><li>'3'</li></ol>\n"
      ],
      "text/latex": [
       "\\begin{enumerate*}\n",
       "\\item '1'\n",
       "\\item '2'\n",
       "\\item '3'\n",
       "\\end{enumerate*}\n"
      ],
      "text/markdown": [
       "1. '1'\n",
       "2. '2'\n",
       "3. '3'\n",
       "\n",
       "\n"
      ],
      "text/plain": [
       "[1] \"1\" \"2\" \"3\""
      ]
     },
     "metadata": {},
     "output_type": "display_data"
    }
   ],
   "source": [
    "c"
   ]
  },
  {
   "cell_type": "code",
   "execution_count": 63,
   "id": "6979fca4-5dba-4aa2-883c-16a414873604",
   "metadata": {},
   "outputs": [
    {
     "data": {
      "text/html": [
       "'4'"
      ],
      "text/latex": [
       "'4'"
      ],
      "text/markdown": [
       "'4'"
      ],
      "text/plain": [
       "[1] \"4\""
      ]
     },
     "metadata": {},
     "output_type": "display_data"
    }
   ],
   "source": [
    "d"
   ]
  },
  {
   "cell_type": "markdown",
   "id": "fa0d21ab-0265-4cba-ba43-9607a65715f9",
   "metadata": {},
   "source": [
    "### 4-03"
   ]
  },
  {
   "cell_type": "code",
   "execution_count": 65,
   "id": "fd9ec546-146e-4ae6-93b6-d2cd4b049221",
   "metadata": {},
   "outputs": [],
   "source": [
    "v1 <- c(6,1,3,7,9)\n",
    "v2 <- c(9,1,0,3,7)"
   ]
  },
  {
   "cell_type": "code",
   "execution_count": 66,
   "id": "9315c52a-f747-4415-a4d9-07728c4f8ed3",
   "metadata": {},
   "outputs": [
    {
     "data": {
      "text/html": [
       "<style>\n",
       ".list-inline {list-style: none; margin:0; padding: 0}\n",
       ".list-inline>li {display: inline-block}\n",
       ".list-inline>li:not(:last-child)::after {content: \"\\00b7\"; padding: 0 .5ex}\n",
       "</style>\n",
       "<ol class=list-inline><li>15</li><li>2</li><li>3</li><li>10</li><li>16</li></ol>\n"
      ],
      "text/latex": [
       "\\begin{enumerate*}\n",
       "\\item 15\n",
       "\\item 2\n",
       "\\item 3\n",
       "\\item 10\n",
       "\\item 16\n",
       "\\end{enumerate*}\n"
      ],
      "text/markdown": [
       "1. 15\n",
       "2. 2\n",
       "3. 3\n",
       "4. 10\n",
       "5. 16\n",
       "\n",
       "\n"
      ],
      "text/plain": [
       "[1] 15  2  3 10 16"
      ]
     },
     "metadata": {},
     "output_type": "display_data"
    }
   ],
   "source": [
    "v1 + v2"
   ]
  },
  {
   "cell_type": "code",
   "execution_count": 67,
   "id": "0d704560-83d1-4448-9aa1-1877a75dd15c",
   "metadata": {},
   "outputs": [
    {
     "data": {
      "text/html": [
       "<style>\n",
       ".list-inline {list-style: none; margin:0; padding: 0}\n",
       ".list-inline>li {display: inline-block}\n",
       ".list-inline>li:not(:last-child)::after {content: \"\\00b7\"; padding: 0 .5ex}\n",
       "</style>\n",
       "<ol class=list-inline><li>12</li><li>2</li><li>6</li><li>14</li><li>18</li></ol>\n"
      ],
      "text/latex": [
       "\\begin{enumerate*}\n",
       "\\item 12\n",
       "\\item 2\n",
       "\\item 6\n",
       "\\item 14\n",
       "\\item 18\n",
       "\\end{enumerate*}\n"
      ],
      "text/markdown": [
       "1. 12\n",
       "2. 2\n",
       "3. 6\n",
       "4. 14\n",
       "5. 18\n",
       "\n",
       "\n"
      ],
      "text/plain": [
       "[1] 12  2  6 14 18"
      ]
     },
     "metadata": {},
     "output_type": "display_data"
    }
   ],
   "source": [
    "v1 * 2"
   ]
  },
  {
   "cell_type": "code",
   "execution_count": 68,
   "id": "2d3b1c72-af12-48b9-81b5-05fb0fb334d7",
   "metadata": {},
   "outputs": [
    {
     "data": {
      "text/html": [
       "<style>\n",
       ".list-inline {list-style: none; margin:0; padding: 0}\n",
       ".list-inline>li {display: inline-block}\n",
       ".list-inline>li:not(:last-child)::after {content: \"\\00b7\"; padding: 0 .5ex}\n",
       "</style>\n",
       "<ol class=list-inline><li>9</li><li>2</li><li>9</li><li>18</li><li>20</li></ol>\n"
      ],
      "text/latex": [
       "\\begin{enumerate*}\n",
       "\\item 9\n",
       "\\item 2\n",
       "\\item 9\n",
       "\\item 18\n",
       "\\item 20\n",
       "\\end{enumerate*}\n"
      ],
      "text/markdown": [
       "1. 9\n",
       "2. 2\n",
       "3. 9\n",
       "4. 18\n",
       "5. 20\n",
       "\n",
       "\n"
      ],
      "text/plain": [
       "[1]  9  2  9 18 20"
      ]
     },
     "metadata": {},
     "output_type": "display_data"
    }
   ],
   "source": [
    "3 * v1 - v2"
   ]
  },
  {
   "cell_type": "code",
   "execution_count": 69,
   "id": "feddbd19-8a3b-4afe-8cb7-17d6b3d98683",
   "metadata": {},
   "outputs": [
    {
     "data": {
      "text/html": [
       "<style>\n",
       ".list-inline {list-style: none; margin:0; padding: 0}\n",
       ".list-inline>li {display: inline-block}\n",
       ".list-inline>li:not(:last-child)::after {content: \"\\00b7\"; padding: 0 .5ex}\n",
       "</style>\n",
       "<ol class=list-inline><li>10</li><li>3</li><li>-1</li><li>6</li><li>2</li></ol>\n"
      ],
      "text/latex": [
       "\\begin{enumerate*}\n",
       "\\item 10\n",
       "\\item 3\n",
       "\\item -1\n",
       "\\item 6\n",
       "\\item 2\n",
       "\\end{enumerate*}\n"
      ],
      "text/markdown": [
       "1. 10\n",
       "2. 3\n",
       "3. -1\n",
       "4. 6\n",
       "5. 2\n",
       "\n",
       "\n"
      ],
      "text/plain": [
       "[1] 10  3 -1  6  2"
      ]
     },
     "metadata": {},
     "output_type": "display_data"
    }
   ],
   "source": [
    "v2 + c(1,2,-1,3,-5)"
   ]
  },
  {
   "cell_type": "markdown",
   "id": "f4fe812a-11cc-4ba4-b8f6-f851655b8120",
   "metadata": {},
   "source": [
    "### 4-04"
   ]
  },
  {
   "cell_type": "code",
   "execution_count": 82,
   "id": "e85748ac-3815-411c-aed3-17acdd9928e5",
   "metadata": {},
   "outputs": [
    {
     "name": "stdout",
     "output_type": "stream",
     "text": [
      " [1] 27 30 33 36 39 42 45 48 51 54 57 60 63 66 69 72 75 78 81 84 87 90 93 96 99\n"
     ]
    }
   ],
   "source": [
    "a <- 25:150\n",
    "condi <- a[(a%%3 == 0)&(a<100)]\n",
    "print(condi)"
   ]
  },
  {
   "cell_type": "markdown",
   "id": "ab8a10ad-06ff-4c11-b77c-9fcb0281c02b",
   "metadata": {},
   "source": [
    "### 4-05"
   ]
  },
  {
   "cell_type": "code",
   "execution_count": 83,
   "id": "78c05928-9704-4f15-9e34-070e23ae65d5",
   "metadata": {},
   "outputs": [
    {
     "data": {
      "text/html": [
       "<style>\n",
       ".list-inline {list-style: none; margin:0; padding: 0}\n",
       ".list-inline>li {display: inline-block}\n",
       ".list-inline>li:not(:last-child)::after {content: \"\\00b7\"; padding: 0 .5ex}\n",
       "</style>\n",
       "<ol class=list-inline><li>'bad'</li><li>'good'</li><li>'great'</li><li>'okay'</li></ol>\n"
      ],
      "text/latex": [
       "\\begin{enumerate*}\n",
       "\\item 'bad'\n",
       "\\item 'good'\n",
       "\\item 'great'\n",
       "\\item 'okay'\n",
       "\\end{enumerate*}\n"
      ],
      "text/markdown": [
       "1. 'bad'\n",
       "2. 'good'\n",
       "3. 'great'\n",
       "4. 'okay'\n",
       "\n",
       "\n"
      ],
      "text/plain": [
       "[1] \"bad\"   \"good\"  \"great\" \"okay\" "
      ]
     },
     "metadata": {},
     "output_type": "display_data"
    }
   ],
   "source": [
    "a <- c('good', 'great', 'bad', 'okay', 'good', 'bad', 'good')\n",
    "f <- factor(a)\n",
    "levels(f)"
   ]
  },
  {
   "cell_type": "markdown",
   "id": "af8baebb-8f8d-4c38-b658-0cc73580d1e3",
   "metadata": {},
   "source": [
    "### 4-06"
   ]
  },
  {
   "cell_type": "code",
   "execution_count": 85,
   "id": "65d6152e-7686-4e9c-b361-ea4960da4a97",
   "metadata": {},
   "outputs": [
    {
     "name": "stdout",
     "output_type": "stream",
     "text": [
      "[1] 153200\n"
     ]
    }
   ],
   "source": [
    "shoes <- 76000\n",
    "pants <- 52000\n",
    "shirt <- 36000\n",
    "\n",
    "print(shoes*(1-0.05) + pants*(1-0.10) + shirt*(1-0.05))"
   ]
  },
  {
   "cell_type": "markdown",
   "id": "b511ce50-bc05-42e2-b02a-23687e0fcf04",
   "metadata": {},
   "source": [
    "### 4-07"
   ]
  },
  {
   "cell_type": "code",
   "execution_count": 88,
   "id": "32b19eb3-7ac6-4b06-b4c0-3f18a8710a04",
   "metadata": {},
   "outputs": [
    {
     "name": "stdout",
     "output_type": "stream",
     "text": [
      "[1] \"black\" \"red\"   \"white\"\n"
     ]
    }
   ],
   "source": [
    "smartphone <-  list(model = 'iphone_se',\n",
    "                    capacity = c(64, 128, 256),\n",
    "                    display = 'Retina',\n",
    "                    color = c('black', 'red', 'white'))\n",
    "\n",
    "print(smartphone$color)"
   ]
  },
  {
   "cell_type": "markdown",
   "id": "334d55f6-4317-465e-b244-9a484b9236b1",
   "metadata": {},
   "source": [
    "### 4-08"
   ]
  },
  {
   "cell_type": "code",
   "execution_count": 99,
   "id": "fda7adb5-b5a7-4106-8231-a57f1ad25b66",
   "metadata": {},
   "outputs": [
    {
     "data": {
      "text/html": [
       "'d'"
      ],
      "text/latex": [
       "'d'"
      ],
      "text/markdown": [
       "'d'"
      ],
      "text/plain": [
       "[1] \"d\""
      ]
     },
     "metadata": {},
     "output_type": "display_data"
    }
   ],
   "source": [
    "weight <- c(56, 23, 89, 46, 76, 14, 97, 72, 68, 62, 35)\n",
    "names(weight) <- c('a', 'b', 'c', 'd', 'e', 'f', 'g' ,'h' ,'i', 'j', 'k')\n",
    "\n",
    "names(weight)[which(weight == min(weight[weight >= sum(weight) - 600]))]"
   ]
  },
  {
   "cell_type": "markdown",
   "id": "a71ca30f-a2bd-4e94-be8d-aba26bfbba99",
   "metadata": {},
   "source": [
    "### 4-09"
   ]
  },
  {
   "cell_type": "code",
   "execution_count": 102,
   "id": "4295d1cd-8113-4a1c-a70c-0ff2ec50d9f6",
   "metadata": {},
   "outputs": [
    {
     "data": {
      "text/html": [
       "<style>\n",
       ".list-inline {list-style: none; margin:0; padding: 0}\n",
       ".list-inline>li {display: inline-block}\n",
       ".list-inline>li:not(:last-child)::after {content: \"\\00b7\"; padding: 0 .5ex}\n",
       "</style>\n",
       "<ol class=list-inline><li>'가을'</li><li>'겨울'</li><li>'봄'</li><li>'여름'</li></ol>\n"
      ],
      "text/latex": [
       "\\begin{enumerate*}\n",
       "\\item '가을'\n",
       "\\item '겨울'\n",
       "\\item '봄'\n",
       "\\item '여름'\n",
       "\\end{enumerate*}\n"
      ],
      "text/markdown": [
       "1. '가을'\n",
       "2. '겨울'\n",
       "3. '봄'\n",
       "4. '여름'\n",
       "\n",
       "\n"
      ],
      "text/plain": [
       "[1] \"가을\" \"겨울\" \"봄\"   \"여름\""
      ]
     },
     "metadata": {},
     "output_type": "display_data"
    }
   ],
   "source": [
    "favorite <- factor(c('여름', '봄', '여름', '겨울', '봄', '겨울', '여름', '여름', '봄', '가을'))\n",
    "levels(favorite)"
   ]
  },
  {
   "cell_type": "markdown",
   "id": "80e7a0a8-1aaa-447c-b79c-f7548348a123",
   "metadata": {},
   "source": [
    "### 4-10"
   ]
  },
  {
   "cell_type": "code",
   "execution_count": 103,
   "id": "a3d8f943-f2ac-4e44-9142-0ad7ba3f6774",
   "metadata": {},
   "outputs": [
    {
     "data": {
      "text/html": [
       "<style>\n",
       ".list-inline {list-style: none; margin:0; padding: 0}\n",
       ".list-inline>li {display: inline-block}\n",
       ".list-inline>li:not(:last-child)::after {content: \"\\00b7\"; padding: 0 .5ex}\n",
       "</style>\n",
       "<ol class=list-inline><li>'독일'</li><li>'미국'</li><li>'영국'</li><li>'일본'</li><li>'중국'</li><li>'터키'</li><li>'호주'</li></ol>\n"
      ],
      "text/latex": [
       "\\begin{enumerate*}\n",
       "\\item '독일'\n",
       "\\item '미국'\n",
       "\\item '영국'\n",
       "\\item '일본'\n",
       "\\item '중국'\n",
       "\\item '터키'\n",
       "\\item '호주'\n",
       "\\end{enumerate*}\n"
      ],
      "text/markdown": [
       "1. '독일'\n",
       "2. '미국'\n",
       "3. '영국'\n",
       "4. '일본'\n",
       "5. '중국'\n",
       "6. '터키'\n",
       "7. '호주'\n",
       "\n",
       "\n"
      ],
      "text/plain": [
       "[1] \"독일\" \"미국\" \"영국\" \"일본\" \"중국\" \"터키\" \"호주\""
      ]
     },
     "metadata": {},
     "output_type": "display_data"
    }
   ],
   "source": [
    "country <- factor(c('호주', '독일', '영국', '일본', '미국', '중국', '호주', '영국', '중국', '일본',\n",
    "                    '터키', '미국', '중국', '중국', '호주', '터키', '독일', '일본', '중국', '독일'))\n",
    "levels(country)"
   ]
  },
  {
   "cell_type": "code",
   "execution_count": 104,
   "id": "e2b567c6-aeb4-4772-9882-e799914d03ea",
   "metadata": {},
   "outputs": [
    {
     "data": {
      "text/html": [
       "<style>\n",
       ".list-inline {list-style: none; margin:0; padding: 0}\n",
       ".list-inline>li {display: inline-block}\n",
       ".list-inline>li:not(:last-child)::after {content: \"\\00b7\"; padding: 0 .5ex}\n",
       "</style>\n",
       "<ol class=list-inline><li>7</li><li>1</li><li>3</li><li>4</li><li>2</li><li>5</li><li>7</li><li>3</li><li>5</li><li>4</li><li>6</li><li>2</li><li>5</li><li>5</li><li>7</li><li>6</li><li>1</li><li>4</li><li>5</li><li>1</li></ol>\n"
      ],
      "text/latex": [
       "\\begin{enumerate*}\n",
       "\\item 7\n",
       "\\item 1\n",
       "\\item 3\n",
       "\\item 4\n",
       "\\item 2\n",
       "\\item 5\n",
       "\\item 7\n",
       "\\item 3\n",
       "\\item 5\n",
       "\\item 4\n",
       "\\item 6\n",
       "\\item 2\n",
       "\\item 5\n",
       "\\item 5\n",
       "\\item 7\n",
       "\\item 6\n",
       "\\item 1\n",
       "\\item 4\n",
       "\\item 5\n",
       "\\item 1\n",
       "\\end{enumerate*}\n"
      ],
      "text/markdown": [
       "1. 7\n",
       "2. 1\n",
       "3. 3\n",
       "4. 4\n",
       "5. 2\n",
       "6. 5\n",
       "7. 7\n",
       "8. 3\n",
       "9. 5\n",
       "10. 4\n",
       "11. 6\n",
       "12. 2\n",
       "13. 5\n",
       "14. 5\n",
       "15. 7\n",
       "16. 6\n",
       "17. 1\n",
       "18. 4\n",
       "19. 5\n",
       "20. 1\n",
       "\n",
       "\n"
      ],
      "text/plain": [
       " [1] 7 1 3 4 2 5 7 3 5 4 6 2 5 5 7 6 1 4 5 1"
      ]
     },
     "metadata": {},
     "output_type": "display_data"
    }
   ],
   "source": [
    "as.integer(country)"
   ]
  },
  {
   "cell_type": "markdown",
   "id": "ffbf20da-3956-460d-bebd-a7c02136f1dc",
   "metadata": {},
   "source": [
    "### 4-11"
   ]
  },
  {
   "cell_type": "code",
   "execution_count": 107,
   "id": "20ba160a-6c5b-4c22-a9d4-d9e9d60a318e",
   "metadata": {},
   "outputs": [
    {
     "data": {
      "text/html": [
       "<dl>\n",
       "\t<dt>$user_id</dt>\n",
       "\t\t<dd>'mr_steve'</dd>\n",
       "\t<dt>$post_id</dt>\n",
       "\t\t<dd>'p11010'</dd>\n",
       "\t<dt>$view</dt>\n",
       "\t\t<dd>37</dd>\n",
       "\t<dt>$image</dt>\n",
       "\t\t<dd>FALSE</dd>\n",
       "\t<dt>$like</dt>\n",
       "\t\t<dd><style>\n",
       ".list-inline {list-style: none; margin:0; padding: 0}\n",
       ".list-inline>li {display: inline-block}\n",
       ".list-inline>li:not(:last-child)::after {content: \"\\00b7\"; padding: 0 .5ex}\n",
       "</style>\n",
       "<ol class=list-inline><li>'creeper'</li><li>'alex'</li><li>'skeleton'</li><li>'enderman'</li></ol>\n",
       "</dd>\n",
       "</dl>\n"
      ],
      "text/latex": [
       "\\begin{description}\n",
       "\\item[\\$user\\_id] 'mr\\_steve'\n",
       "\\item[\\$post\\_id] 'p11010'\n",
       "\\item[\\$view] 37\n",
       "\\item[\\$image] FALSE\n",
       "\\item[\\$like] \\begin{enumerate*}\n",
       "\\item 'creeper'\n",
       "\\item 'alex'\n",
       "\\item 'skeleton'\n",
       "\\item 'enderman'\n",
       "\\end{enumerate*}\n",
       "\n",
       "\\end{description}\n"
      ],
      "text/markdown": [
       "$user_id\n",
       ":   'mr_steve'\n",
       "$post_id\n",
       ":   'p11010'\n",
       "$view\n",
       ":   37\n",
       "$image\n",
       ":   FALSE\n",
       "$like\n",
       ":   1. 'creeper'\n",
       "2. 'alex'\n",
       "3. 'skeleton'\n",
       "4. 'enderman'\n",
       "\n",
       "\n",
       "\n",
       "\n",
       "\n"
      ],
      "text/plain": [
       "$user_id\n",
       "[1] \"mr_steve\"\n",
       "\n",
       "$post_id\n",
       "[1] \"p11010\"\n",
       "\n",
       "$view\n",
       "[1] 37\n",
       "\n",
       "$image\n",
       "[1] FALSE\n",
       "\n",
       "$like\n",
       "[1] \"creeper\"  \"alex\"     \"skeleton\" \"enderman\"\n"
      ]
     },
     "metadata": {},
     "output_type": "display_data"
    }
   ],
   "source": [
    "post <- list(user_id = 'mr_steve',\n",
    "             post_id = 'p11010',\n",
    "             view = 37,\n",
    "             image = FALSE,\n",
    "             like = c('creeper', 'alex', 'skeleton', 'enderman'))\n",
    "\n",
    "post"
   ]
  },
  {
   "cell_type": "markdown",
   "id": "0a2798b9-2450-4a30-9d01-2bdd98a14e1d",
   "metadata": {},
   "source": [
    "### 4-12"
   ]
  },
  {
   "cell_type": "code",
   "execution_count": 115,
   "id": "fa69d420-9c32-4b8e-be21-a4f5fa573048",
   "metadata": {},
   "outputs": [
    {
     "data": {
      "text/html": [
       "'입금 : 2'"
      ],
      "text/latex": [
       "'입금 : 2'"
      ],
      "text/markdown": [
       "'입금 : 2'"
      ],
      "text/plain": [
       "[1] \"입금 : 2\""
      ]
     },
     "metadata": {},
     "output_type": "display_data"
    },
    {
     "data": {
      "text/html": [
       "'출금 : 3'"
      ],
      "text/latex": [
       "'출금 : 3'"
      ],
      "text/markdown": [
       "'출금 : 3'"
      ],
      "text/plain": [
       "[1] \"출금 : 3\""
      ]
     },
     "metadata": {},
     "output_type": "display_data"
    }
   ],
   "source": [
    "account <- list(name = '하늘',\n",
    "                number = 123-468-120566,\n",
    "                balance = 4128750,\n",
    "                history = c(-50000, +20000, -32500, -79000, +42000))\n",
    "\n",
    "paste0('입금 : ', sum(account$history > 0))\n",
    "paste0('출금 : ', sum(account$history < 0))"
   ]
  },
  {
   "cell_type": "markdown",
   "id": "1985c791-a18a-47e8-b9d0-f9f53cc9db02",
   "metadata": {},
   "source": [
    "# Ch5"
   ]
  },
  {
   "cell_type": "markdown",
   "id": "6a12664a-a470-437a-8c7f-99fb50407363",
   "metadata": {},
   "source": [
    "### 5-01\n",
    "\n",
    "- 리스트, 데이터프레임"
   ]
  },
  {
   "cell_type": "markdown",
   "id": "7427ca03-6a74-4152-a09a-465b41827466",
   "metadata": {},
   "source": [
    "### 5-02"
   ]
  },
  {
   "cell_type": "markdown",
   "id": "bc96408d-e9ed-41eb-ad49-c9a52c419c41",
   "metadata": {},
   "source": [
    "- A : 관측값, B : 변수"
   ]
  },
  {
   "cell_type": "markdown",
   "id": "5359694c-75b1-42ac-9f6c-58cfbf28f060",
   "metadata": {},
   "source": [
    "### 5-03"
   ]
  },
  {
   "cell_type": "code",
   "execution_count": 117,
   "id": "7fcafca5-664c-43a3-a7cd-9ce4cc7f3c84",
   "metadata": {},
   "outputs": [
    {
     "data": {
      "text/html": [
       "<table class=\"dataframe\">\n",
       "<caption>A matrix: 4 × 3 of type dbl</caption>\n",
       "<thead>\n",
       "\t<tr><th scope=col>x</th><th scope=col>y</th><th scope=col>z</th></tr>\n",
       "</thead>\n",
       "<tbody>\n",
       "\t<tr><td>2</td><td>10</td><td>18</td></tr>\n",
       "\t<tr><td>4</td><td>12</td><td>20</td></tr>\n",
       "\t<tr><td>6</td><td>14</td><td>22</td></tr>\n",
       "\t<tr><td>8</td><td>16</td><td>24</td></tr>\n",
       "</tbody>\n",
       "</table>\n"
      ],
      "text/latex": [
       "A matrix: 4 × 3 of type dbl\n",
       "\\begin{tabular}{lll}\n",
       " x & y & z\\\\\n",
       "\\hline\n",
       "\t 2 & 10 & 18\\\\\n",
       "\t 4 & 12 & 20\\\\\n",
       "\t 6 & 14 & 22\\\\\n",
       "\t 8 & 16 & 24\\\\\n",
       "\\end{tabular}\n"
      ],
      "text/markdown": [
       "\n",
       "A matrix: 4 × 3 of type dbl\n",
       "\n",
       "| x | y | z |\n",
       "|---|---|---|\n",
       "| 2 | 10 | 18 |\n",
       "| 4 | 12 | 20 |\n",
       "| 6 | 14 | 22 |\n",
       "| 8 | 16 | 24 |\n",
       "\n"
      ],
      "text/plain": [
       "     x y  z \n",
       "[1,] 2 10 18\n",
       "[2,] 4 12 20\n",
       "[3,] 6 14 22\n",
       "[4,] 8 16 24"
      ]
     },
     "metadata": {},
     "output_type": "display_data"
    }
   ],
   "source": [
    "x <- c(2,4,6,8)\n",
    "y <- c(10,12,14,16)\n",
    "z <- c(18,20,22,24)\n",
    "m <- cbind(x,y,z)\n",
    "m"
   ]
  },
  {
   "cell_type": "code",
   "execution_count": 119,
   "id": "b4df85ab-cfbd-4bc9-bbf0-99716afc1ae0",
   "metadata": {},
   "outputs": [
    {
     "data": {
      "text/html": [
       "<table class=\"dataframe\">\n",
       "<caption>A matrix: 4 × 3 of type dbl</caption>\n",
       "<tbody>\n",
       "\t<tr><td>2</td><td>10</td><td>18</td></tr>\n",
       "\t<tr><td>4</td><td>12</td><td>20</td></tr>\n",
       "\t<tr><td>6</td><td>14</td><td>22</td></tr>\n",
       "\t<tr><td>8</td><td>16</td><td>24</td></tr>\n",
       "</tbody>\n",
       "</table>\n"
      ],
      "text/latex": [
       "A matrix: 4 × 3 of type dbl\n",
       "\\begin{tabular}{lll}\n",
       "\t 2 & 10 & 18\\\\\n",
       "\t 4 & 12 & 20\\\\\n",
       "\t 6 & 14 & 22\\\\\n",
       "\t 8 & 16 & 24\\\\\n",
       "\\end{tabular}\n"
      ],
      "text/markdown": [
       "\n",
       "A matrix: 4 × 3 of type dbl\n",
       "\n",
       "| 2 | 10 | 18 |\n",
       "| 4 | 12 | 20 |\n",
       "| 6 | 14 | 22 |\n",
       "| 8 | 16 | 24 |\n",
       "\n"
      ],
      "text/plain": [
       "     [,1] [,2] [,3]\n",
       "[1,] 2    10   18  \n",
       "[2,] 4    12   20  \n",
       "[3,] 6    14   22  \n",
       "[4,] 8    16   24  "
      ]
     },
     "metadata": {},
     "output_type": "display_data"
    }
   ],
   "source": [
    "matrix(c(2,10,18,\n",
    "         4,12,20,\n",
    "         6,14,22,\n",
    "         8,16,24),\n",
    "       nrow = 4, byrow = TRUE)"
   ]
  },
  {
   "cell_type": "code",
   "execution_count": 122,
   "id": "db91ab3b-435d-44a8-9418-95af55e87d7e",
   "metadata": {},
   "outputs": [
    {
     "data": {
      "text/html": [
       "<table class=\"dataframe\">\n",
       "<caption>A matrix: 4 × 3 of type dbl</caption>\n",
       "<tbody>\n",
       "\t<tr><td>2</td><td>10</td><td>18</td></tr>\n",
       "\t<tr><td>4</td><td>12</td><td>20</td></tr>\n",
       "\t<tr><td>6</td><td>14</td><td>22</td></tr>\n",
       "\t<tr><td>8</td><td>16</td><td>24</td></tr>\n",
       "</tbody>\n",
       "</table>\n"
      ],
      "text/latex": [
       "A matrix: 4 × 3 of type dbl\n",
       "\\begin{tabular}{lll}\n",
       "\t 2 & 10 & 18\\\\\n",
       "\t 4 & 12 & 20\\\\\n",
       "\t 6 & 14 & 22\\\\\n",
       "\t 8 & 16 & 24\\\\\n",
       "\\end{tabular}\n"
      ],
      "text/markdown": [
       "\n",
       "A matrix: 4 × 3 of type dbl\n",
       "\n",
       "| 2 | 10 | 18 |\n",
       "| 4 | 12 | 20 |\n",
       "| 6 | 14 | 22 |\n",
       "| 8 | 16 | 24 |\n",
       "\n"
      ],
      "text/plain": [
       "     [,1] [,2] [,3]\n",
       "[1,] 2    10   18  \n",
       "[2,] 4    12   20  \n",
       "[3,] 6    14   22  \n",
       "[4,] 8    16   24  "
      ]
     },
     "metadata": {},
     "output_type": "display_data"
    }
   ],
   "source": [
    "matrix(c(2,4,6,8,\n",
    "         10,12,14,16,\n",
    "         18,20,22,24),\n",
    "       ncol = 3, byrow = FALSE)"
   ]
  },
  {
   "cell_type": "markdown",
   "id": "45b36b92-2153-4c00-a896-624d5d3b1bce",
   "metadata": {},
   "source": [
    "### 5-04"
   ]
  },
  {
   "cell_type": "code",
   "execution_count": 127,
   "id": "e6ab7877-96ef-4073-8338-51ca1f5a5376",
   "metadata": {},
   "outputs": [
    {
     "name": "stdout",
     "output_type": "stream",
     "text": [
      "     [,1] [,2] [,3] [,4]\n",
      "[1,]    9    7    5    3\n",
      "[2,]    8   11    2    9\n"
     ]
    }
   ],
   "source": [
    "m <- matrix(c(9,7,5,3,8,11,2,9),\n",
    "            nrow = 2, byrow = TRUE)\n",
    "\n",
    "print(m)"
   ]
  },
  {
   "cell_type": "code",
   "execution_count": 128,
   "id": "dbb77e53-e724-4b0d-8041-a5e95e28a5db",
   "metadata": {},
   "outputs": [
    {
     "name": "stdout",
     "output_type": "stream",
     "text": [
      "  a  b c d\n",
      "x 9  7 5 3\n",
      "y 8 11 2 9\n"
     ]
    }
   ],
   "source": [
    "rownames(m) = c('x', 'y')\n",
    "colnames(m) = c('a', 'b', 'c', 'd')\n",
    "print(m)"
   ]
  },
  {
   "cell_type": "markdown",
   "id": "8dc2b8b3-d418-4088-8946-d91e6c3ec722",
   "metadata": {},
   "source": [
    "### 5-05"
   ]
  },
  {
   "cell_type": "code",
   "execution_count": 130,
   "id": "d2b3fee6-5daa-4daf-9dca-55f6e55b2c83",
   "metadata": {},
   "outputs": [
    {
     "data": {
      "text/html": [
       "<table class=\"dataframe\">\n",
       "<caption>A matrix: 4 × 2 of type dbl</caption>\n",
       "<thead>\n",
       "\t<tr><th></th><th scope=col>x</th><th scope=col>y</th></tr>\n",
       "</thead>\n",
       "<tbody>\n",
       "\t<tr><th scope=row>a</th><td>9</td><td> 8</td></tr>\n",
       "\t<tr><th scope=row>b</th><td>7</td><td>11</td></tr>\n",
       "\t<tr><th scope=row>c</th><td>5</td><td> 2</td></tr>\n",
       "\t<tr><th scope=row>d</th><td>3</td><td> 9</td></tr>\n",
       "</tbody>\n",
       "</table>\n"
      ],
      "text/latex": [
       "A matrix: 4 × 2 of type dbl\n",
       "\\begin{tabular}{r|ll}\n",
       "  & x & y\\\\\n",
       "\\hline\n",
       "\ta & 9 &  8\\\\\n",
       "\tb & 7 & 11\\\\\n",
       "\tc & 5 &  2\\\\\n",
       "\td & 3 &  9\\\\\n",
       "\\end{tabular}\n"
      ],
      "text/markdown": [
       "\n",
       "A matrix: 4 × 2 of type dbl\n",
       "\n",
       "| <!--/--> | x | y |\n",
       "|---|---|---|\n",
       "| a | 9 |  8 |\n",
       "| b | 7 | 11 |\n",
       "| c | 5 |  2 |\n",
       "| d | 3 |  9 |\n",
       "\n"
      ],
      "text/plain": [
       "  x y \n",
       "a 9  8\n",
       "b 7 11\n",
       "c 5  2\n",
       "d 3  9"
      ]
     },
     "metadata": {},
     "output_type": "display_data"
    }
   ],
   "source": [
    "t(m)"
   ]
  },
  {
   "cell_type": "code",
   "execution_count": 131,
   "id": "884207c4-0dbf-4a66-8a9d-121a4f1a8d29",
   "metadata": {},
   "outputs": [
    {
     "data": {
      "text/html": [
       "<table class=\"dataframe\">\n",
       "<caption>A data.frame: 2 × 4</caption>\n",
       "<thead>\n",
       "\t<tr><th></th><th scope=col>a</th><th scope=col>b</th><th scope=col>c</th><th scope=col>d</th></tr>\n",
       "\t<tr><th></th><th scope=col>&lt;dbl&gt;</th><th scope=col>&lt;dbl&gt;</th><th scope=col>&lt;dbl&gt;</th><th scope=col>&lt;dbl&gt;</th></tr>\n",
       "</thead>\n",
       "<tbody>\n",
       "\t<tr><th scope=row>x</th><td>9</td><td> 7</td><td>5</td><td>3</td></tr>\n",
       "\t<tr><th scope=row>y</th><td>8</td><td>11</td><td>2</td><td>9</td></tr>\n",
       "</tbody>\n",
       "</table>\n"
      ],
      "text/latex": [
       "A data.frame: 2 × 4\n",
       "\\begin{tabular}{r|llll}\n",
       "  & a & b & c & d\\\\\n",
       "  & <dbl> & <dbl> & <dbl> & <dbl>\\\\\n",
       "\\hline\n",
       "\tx & 9 &  7 & 5 & 3\\\\\n",
       "\ty & 8 & 11 & 2 & 9\\\\\n",
       "\\end{tabular}\n"
      ],
      "text/markdown": [
       "\n",
       "A data.frame: 2 × 4\n",
       "\n",
       "| <!--/--> | a &lt;dbl&gt; | b &lt;dbl&gt; | c &lt;dbl&gt; | d &lt;dbl&gt; |\n",
       "|---|---|---|---|---|\n",
       "| x | 9 |  7 | 5 | 3 |\n",
       "| y | 8 | 11 | 2 | 9 |\n",
       "\n"
      ],
      "text/plain": [
       "  a b  c d\n",
       "x 9  7 5 3\n",
       "y 8 11 2 9"
      ]
     },
     "metadata": {},
     "output_type": "display_data"
    }
   ],
   "source": [
    "df <- data.frame(m)\n",
    "df"
   ]
  },
  {
   "cell_type": "code",
   "execution_count": 135,
   "id": "b01a85a4-ad10-4734-be01-1bd4bc87feaa",
   "metadata": {},
   "outputs": [
    {
     "data": {
      "text/html": [
       "<table class=\"dataframe\">\n",
       "<caption>A data.frame: 2 × 5</caption>\n",
       "<thead>\n",
       "\t<tr><th></th><th scope=col>a</th><th scope=col>b</th><th scope=col>c</th><th scope=col>d</th><th scope=col>info</th></tr>\n",
       "\t<tr><th></th><th scope=col>&lt;dbl&gt;</th><th scope=col>&lt;dbl&gt;</th><th scope=col>&lt;dbl&gt;</th><th scope=col>&lt;dbl&gt;</th><th scope=col>&lt;chr&gt;</th></tr>\n",
       "</thead>\n",
       "<tbody>\n",
       "\t<tr><th scope=row>x</th><td>9</td><td> 7</td><td>5</td><td>3</td><td>wow</td></tr>\n",
       "\t<tr><th scope=row>y</th><td>8</td><td>11</td><td>2</td><td>9</td><td>go </td></tr>\n",
       "</tbody>\n",
       "</table>\n"
      ],
      "text/latex": [
       "A data.frame: 2 × 5\n",
       "\\begin{tabular}{r|lllll}\n",
       "  & a & b & c & d & info\\\\\n",
       "  & <dbl> & <dbl> & <dbl> & <dbl> & <chr>\\\\\n",
       "\\hline\n",
       "\tx & 9 &  7 & 5 & 3 & wow\\\\\n",
       "\ty & 8 & 11 & 2 & 9 & go \\\\\n",
       "\\end{tabular}\n"
      ],
      "text/markdown": [
       "\n",
       "A data.frame: 2 × 5\n",
       "\n",
       "| <!--/--> | a &lt;dbl&gt; | b &lt;dbl&gt; | c &lt;dbl&gt; | d &lt;dbl&gt; | info &lt;chr&gt; |\n",
       "|---|---|---|---|---|---|\n",
       "| x | 9 |  7 | 5 | 3 | wow |\n",
       "| y | 8 | 11 | 2 | 9 | go  |\n",
       "\n"
      ],
      "text/plain": [
       "  a b  c d info\n",
       "x 9  7 5 3 wow \n",
       "y 8 11 2 9 go  "
      ]
     },
     "metadata": {},
     "output_type": "display_data"
    }
   ],
   "source": [
    "info <- c('wow', 'go')\n",
    "df.new <- data.frame(df, info)\n",
    "df.new"
   ]
  },
  {
   "cell_type": "code",
   "execution_count": 136,
   "id": "6196202b-899c-433f-ae1b-7120312301c1",
   "metadata": {},
   "outputs": [
    {
     "data": {
      "text/html": [
       "'data.frame'"
      ],
      "text/latex": [
       "'data.frame'"
      ],
      "text/markdown": [
       "'data.frame'"
      ],
      "text/plain": [
       "[1] \"data.frame\""
      ]
     },
     "metadata": {},
     "output_type": "display_data"
    }
   ],
   "source": [
    "class(df.new)"
   ]
  },
  {
   "cell_type": "markdown",
   "id": "4cf8b883-cb31-47b6-9062-2056dda88acc",
   "metadata": {},
   "source": [
    "### 5-06"
   ]
  },
  {
   "cell_type": "code",
   "execution_count": 138,
   "id": "4ce31211-b4b8-4152-997b-ed0c52c44253",
   "metadata": {},
   "outputs": [
    {
     "data": {
      "text/html": [
       "<table class=\"dataframe\">\n",
       "<caption>A data.frame: 5 × 3</caption>\n",
       "<thead>\n",
       "\t<tr><th scope=col>blood</th><th scope=col>rh</th><th scope=col>age</th></tr>\n",
       "\t<tr><th scope=col>&lt;chr&gt;</th><th scope=col>&lt;chr&gt;</th><th scope=col>&lt;dbl&gt;</th></tr>\n",
       "</thead>\n",
       "<tbody>\n",
       "\t<tr><td>A </td><td>+</td><td>21</td></tr>\n",
       "\t<tr><td>O </td><td>+</td><td>30</td></tr>\n",
       "\t<tr><td>AB</td><td>-</td><td>43</td></tr>\n",
       "\t<tr><td>B </td><td>+</td><td>17</td></tr>\n",
       "\t<tr><td>B </td><td>+</td><td>26</td></tr>\n",
       "</tbody>\n",
       "</table>\n"
      ],
      "text/latex": [
       "A data.frame: 5 × 3\n",
       "\\begin{tabular}{lll}\n",
       " blood & rh & age\\\\\n",
       " <chr> & <chr> & <dbl>\\\\\n",
       "\\hline\n",
       "\t A  & + & 21\\\\\n",
       "\t O  & + & 30\\\\\n",
       "\t AB & - & 43\\\\\n",
       "\t B  & + & 17\\\\\n",
       "\t B  & + & 26\\\\\n",
       "\\end{tabular}\n"
      ],
      "text/markdown": [
       "\n",
       "A data.frame: 5 × 3\n",
       "\n",
       "| blood &lt;chr&gt; | rh &lt;chr&gt; | age &lt;dbl&gt; |\n",
       "|---|---|---|\n",
       "| A  | + | 21 |\n",
       "| O  | + | 30 |\n",
       "| AB | - | 43 |\n",
       "| B  | + | 17 |\n",
       "| B  | + | 26 |\n",
       "\n"
      ],
      "text/plain": [
       "  blood rh age\n",
       "1 A     +  21 \n",
       "2 O     +  30 \n",
       "3 AB    -  43 \n",
       "4 B     +  17 \n",
       "5 B     +  26 "
      ]
     },
     "metadata": {},
     "output_type": "display_data"
    }
   ],
   "source": [
    "blood <- c('A', 'O', 'AB', 'B', 'B')\n",
    "rh <- c('+', '+', '-', '+', '+')\n",
    "age <- c(21, 30, 43, 17, 26)\n",
    "\n",
    "df <- data.frame(blood, rh, age)\n",
    "df"
   ]
  },
  {
   "cell_type": "code",
   "execution_count": 139,
   "id": "429cbeec-6085-4d3e-813b-9ca64f798b4e",
   "metadata": {},
   "outputs": [
    {
     "data": {
      "text/html": [
       "<style>\n",
       ".list-inline {list-style: none; margin:0; padding: 0}\n",
       ".list-inline>li {display: inline-block}\n",
       ".list-inline>li:not(:last-child)::after {content: \"\\00b7\"; padding: 0 .5ex}\n",
       "</style>\n",
       "<ol class=list-inline><li>'blood'</li><li>'rh'</li><li>'age'</li></ol>\n"
      ],
      "text/latex": [
       "\\begin{enumerate*}\n",
       "\\item 'blood'\n",
       "\\item 'rh'\n",
       "\\item 'age'\n",
       "\\end{enumerate*}\n"
      ],
      "text/markdown": [
       "1. 'blood'\n",
       "2. 'rh'\n",
       "3. 'age'\n",
       "\n",
       "\n"
      ],
      "text/plain": [
       "[1] \"blood\" \"rh\"    \"age\"  "
      ]
     },
     "metadata": {},
     "output_type": "display_data"
    }
   ],
   "source": [
    "colnames(df)"
   ]
  },
  {
   "cell_type": "code",
   "execution_count": 152,
   "id": "600e12de-aaff-491d-9c11-66c6bfb4b90f",
   "metadata": {},
   "outputs": [
    {
     "data": {
      "text/html": [
       "<table class=\"dataframe\">\n",
       "<caption>A data.frame: 3 × 3</caption>\n",
       "<thead>\n",
       "\t<tr><th></th><th scope=col>blood</th><th scope=col>rh</th><th scope=col>age</th></tr>\n",
       "\t<tr><th></th><th scope=col>&lt;chr&gt;</th><th scope=col>&lt;chr&gt;</th><th scope=col>&lt;dbl&gt;</th></tr>\n",
       "</thead>\n",
       "<tbody>\n",
       "\t<tr><th scope=row>1</th><td>A </td><td>+</td><td>21</td></tr>\n",
       "\t<tr><th scope=row>2</th><td>O </td><td>+</td><td>30</td></tr>\n",
       "\t<tr><th scope=row>3</th><td>AB</td><td>-</td><td>43</td></tr>\n",
       "</tbody>\n",
       "</table>\n"
      ],
      "text/latex": [
       "A data.frame: 3 × 3\n",
       "\\begin{tabular}{r|lll}\n",
       "  & blood & rh & age\\\\\n",
       "  & <chr> & <chr> & <dbl>\\\\\n",
       "\\hline\n",
       "\t1 & A  & + & 21\\\\\n",
       "\t2 & O  & + & 30\\\\\n",
       "\t3 & AB & - & 43\\\\\n",
       "\\end{tabular}\n"
      ],
      "text/markdown": [
       "\n",
       "A data.frame: 3 × 3\n",
       "\n",
       "| <!--/--> | blood &lt;chr&gt; | rh &lt;chr&gt; | age &lt;dbl&gt; |\n",
       "|---|---|---|---|\n",
       "| 1 | A  | + | 21 |\n",
       "| 2 | O  | + | 30 |\n",
       "| 3 | AB | - | 43 |\n",
       "\n"
      ],
      "text/plain": [
       "  blood rh age\n",
       "1 A     +  21 \n",
       "2 O     +  30 \n",
       "3 AB    -  43 "
      ]
     },
     "metadata": {},
     "output_type": "display_data"
    }
   ],
   "source": [
    "df.nb <- df[df$blood != 'B', ]\n",
    "df.nb"
   ]
  },
  {
   "cell_type": "code",
   "execution_count": null,
   "id": "b27c1697-2d35-45c3-8706-919f5979ab75",
   "metadata": {},
   "outputs": [
    {
     "data": {
      "text/html": [
       "<table class=\"dataframe\">\n",
       "<caption>A data.frame: 3 × 3</caption>\n",
       "<thead>\n",
       "\t<tr><th></th><th scope=col>blood</th><th scope=col>rh</th><th scope=col>age</th></tr>\n",
       "\t<tr><th></th><th scope=col>&lt;chr&gt;</th><th scope=col>&lt;chr&gt;</th><th scope=col>&lt;dbl&gt;</th></tr>\n",
       "</thead>\n",
       "<tbody>\n",
       "\t<tr><th scope=row>1</th><td>A </td><td>+</td><td>21</td></tr>\n",
       "\t<tr><th scope=row>2</th><td>O </td><td>+</td><td>30</td></tr>\n",
       "\t<tr><th scope=row>3</th><td>AB</td><td>-</td><td>43</td></tr>\n",
       "</tbody>\n",
       "</table>\n"
      ],
      "text/latex": [
       "A data.frame: 3 × 3\n",
       "\\begin{tabular}{r|lll}\n",
       "  & blood & rh & age\\\\\n",
       "  & <chr> & <chr> & <dbl>\\\\\n",
       "\\hline\n",
       "\t1 & A  & + & 21\\\\\n",
       "\t2 & O  & + & 30\\\\\n",
       "\t3 & AB & - & 43\\\\\n",
       "\\end{tabular}\n"
      ],
      "text/markdown": [
       "\n",
       "A data.frame: 3 × 3\n",
       "\n",
       "| <!--/--> | blood &lt;chr&gt; | rh &lt;chr&gt; | age &lt;dbl&gt; |\n",
       "|---|---|---|---|\n",
       "| 1 | A  | + | 21 |\n",
       "| 2 | O  | + | 30 |\n",
       "| 3 | AB | - | 43 |\n",
       "\n"
      ],
      "text/plain": [
       "  blood rh age\n",
       "1 A     +  21 \n",
       "2 O     +  30 \n",
       "3 AB    -  43 "
      ]
     },
     "metadata": {},
     "output_type": "display_data"
    }
   ],
   "source": [
    "subset(df, blood != 'B')"
   ]
  },
  {
   "cell_type": "markdown",
   "id": "1d5ee966-924b-4094-b3db-099d569c7672",
   "metadata": {},
   "source": [
    "### 5-07"
   ]
  },
  {
   "cell_type": "code",
   "execution_count": 153,
   "id": "2beab752-79ef-4dd3-9fcd-fbc0f6e8f137",
   "metadata": {},
   "outputs": [
    {
     "name": "stdout",
     "output_type": "stream",
     "text": [
      "'data.frame':\t50 obs. of  2 variables:\n",
      " $ speed: num  4 4 7 7 8 9 10 10 10 11 ...\n",
      " $ dist : num  2 10 4 22 16 10 18 26 34 17 ...\n"
     ]
    }
   ],
   "source": [
    "str(cars)"
   ]
  },
  {
   "cell_type": "code",
   "execution_count": 154,
   "id": "b6c53d08-6dfe-47a1-9cc7-7a9d5bf278ca",
   "metadata": {},
   "outputs": [
    {
     "data": {
      "text/html": [
       "<style>\n",
       ".list-inline {list-style: none; margin:0; padding: 0}\n",
       ".list-inline>li {display: inline-block}\n",
       ".list-inline>li:not(:last-child)::after {content: \"\\00b7\"; padding: 0 .5ex}\n",
       "</style>\n",
       "<ol class=list-inline><li>50</li><li>2</li></ol>\n"
      ],
      "text/latex": [
       "\\begin{enumerate*}\n",
       "\\item 50\n",
       "\\item 2\n",
       "\\end{enumerate*}\n"
      ],
      "text/markdown": [
       "1. 50\n",
       "2. 2\n",
       "\n",
       "\n"
      ],
      "text/plain": [
       "[1] 50  2"
      ]
     },
     "metadata": {},
     "output_type": "display_data"
    }
   ],
   "source": [
    "dim(cars)"
   ]
  },
  {
   "cell_type": "code",
   "execution_count": 157,
   "id": "ab826932-681f-4109-af95-b7310493bfe2",
   "metadata": {},
   "outputs": [
    {
     "data": {
      "text/html": [
       "<style>\n",
       ".list-inline {list-style: none; margin:0; padding: 0}\n",
       ".list-inline>li {display: inline-block}\n",
       ".list-inline>li:not(:last-child)::after {content: \"\\00b7\"; padding: 0 .5ex}\n",
       "</style>\n",
       "<ol class=list-inline><li>'speed'</li><li>'dist'</li></ol>\n"
      ],
      "text/latex": [
       "\\begin{enumerate*}\n",
       "\\item 'speed'\n",
       "\\item 'dist'\n",
       "\\end{enumerate*}\n"
      ],
      "text/markdown": [
       "1. 'speed'\n",
       "2. 'dist'\n",
       "\n",
       "\n"
      ],
      "text/plain": [
       "[1] \"speed\" \"dist\" "
      ]
     },
     "metadata": {},
     "output_type": "display_data"
    }
   ],
   "source": [
    "colnames(cars)"
   ]
  },
  {
   "cell_type": "code",
   "execution_count": 158,
   "id": "c0b3dae9-fa09-4291-851f-42b657abcd52",
   "metadata": {},
   "outputs": [
    {
     "data": {
      "text/html": [
       "'data.frame'"
      ],
      "text/latex": [
       "'data.frame'"
      ],
      "text/markdown": [
       "'data.frame'"
      ],
      "text/plain": [
       "[1] \"data.frame\""
      ]
     },
     "metadata": {},
     "output_type": "display_data"
    }
   ],
   "source": [
    "class(cars)"
   ]
  },
  {
   "cell_type": "code",
   "execution_count": 159,
   "id": "37db7544-d260-4d08-b711-52be52704c4a",
   "metadata": {},
   "outputs": [
    {
     "data": {
      "text/html": [
       "'character'"
      ],
      "text/latex": [
       "'character'"
      ],
      "text/markdown": [
       "'character'"
      ],
      "text/plain": [
       "[1] \"character\""
      ]
     },
     "metadata": {},
     "output_type": "display_data"
    }
   ],
   "source": [
    "class(colnames(cars))"
   ]
  },
  {
   "cell_type": "markdown",
   "id": "c17bbd37-80ba-4e35-a618-d1af5fae9fbe",
   "metadata": {},
   "source": [
    "### 5-08"
   ]
  },
  {
   "cell_type": "code",
   "execution_count": 161,
   "id": "95803407-dd5b-4da9-88cd-5b237059a1d5",
   "metadata": {},
   "outputs": [
    {
     "data": {
      "text/html": [
       "<table class=\"dataframe\">\n",
       "<caption>A matrix: 3 × 4 of type int</caption>\n",
       "<tbody>\n",
       "\t<tr><td>1</td><td>4</td><td>7</td><td>10</td></tr>\n",
       "\t<tr><td>2</td><td>5</td><td>8</td><td>11</td></tr>\n",
       "\t<tr><td>3</td><td>6</td><td>9</td><td>12</td></tr>\n",
       "</tbody>\n",
       "</table>\n"
      ],
      "text/latex": [
       "A matrix: 3 × 4 of type int\n",
       "\\begin{tabular}{llll}\n",
       "\t 1 & 4 & 7 & 10\\\\\n",
       "\t 2 & 5 & 8 & 11\\\\\n",
       "\t 3 & 6 & 9 & 12\\\\\n",
       "\\end{tabular}\n"
      ],
      "text/markdown": [
       "\n",
       "A matrix: 3 × 4 of type int\n",
       "\n",
       "| 1 | 4 | 7 | 10 |\n",
       "| 2 | 5 | 8 | 11 |\n",
       "| 3 | 6 | 9 | 12 |\n",
       "\n"
      ],
      "text/plain": [
       "     [,1] [,2] [,3] [,4]\n",
       "[1,] 1    4    7    10  \n",
       "[2,] 2    5    8    11  \n",
       "[3,] 3    6    9    12  "
      ]
     },
     "metadata": {},
     "output_type": "display_data"
    }
   ],
   "source": [
    "matrix(1:12, nrow = 3)"
   ]
  },
  {
   "cell_type": "code",
   "execution_count": 162,
   "id": "861525ce-b45e-4d9f-a443-251a49c08758",
   "metadata": {},
   "outputs": [
    {
     "data": {
      "text/html": [
       "<table class=\"dataframe\">\n",
       "<caption>A matrix: 3 × 4 of type dbl</caption>\n",
       "<tbody>\n",
       "\t<tr><td>1</td><td>1</td><td>1</td><td>1</td></tr>\n",
       "\t<tr><td>2</td><td>2</td><td>2</td><td>2</td></tr>\n",
       "\t<tr><td>0</td><td>0</td><td>0</td><td>0</td></tr>\n",
       "</tbody>\n",
       "</table>\n"
      ],
      "text/latex": [
       "A matrix: 3 × 4 of type dbl\n",
       "\\begin{tabular}{llll}\n",
       "\t 1 & 1 & 1 & 1\\\\\n",
       "\t 2 & 2 & 2 & 2\\\\\n",
       "\t 0 & 0 & 0 & 0\\\\\n",
       "\\end{tabular}\n"
      ],
      "text/markdown": [
       "\n",
       "A matrix: 3 × 4 of type dbl\n",
       "\n",
       "| 1 | 1 | 1 | 1 |\n",
       "| 2 | 2 | 2 | 2 |\n",
       "| 0 | 0 | 0 | 0 |\n",
       "\n"
      ],
      "text/plain": [
       "     [,1] [,2] [,3] [,4]\n",
       "[1,] 1    1    1    1   \n",
       "[2,] 2    2    2    2   \n",
       "[3,] 0    0    0    0   "
      ]
     },
     "metadata": {},
     "output_type": "display_data"
    }
   ],
   "source": [
    "matrix(1:12, nrow = 3) %% 3"
   ]
  },
  {
   "cell_type": "code",
   "execution_count": 163,
   "id": "dea6bdd7-9830-4158-8c1c-edfa2020d71b",
   "metadata": {},
   "outputs": [
    {
     "data": {
      "text/html": [
       "<table class=\"dataframe\">\n",
       "<caption>A matrix: 3 × 4 of type dbl</caption>\n",
       "<tbody>\n",
       "\t<tr><td>4</td><td>7</td><td>10</td><td>13</td></tr>\n",
       "\t<tr><td>5</td><td>8</td><td>11</td><td>14</td></tr>\n",
       "\t<tr><td>6</td><td>9</td><td>12</td><td>15</td></tr>\n",
       "</tbody>\n",
       "</table>\n"
      ],
      "text/latex": [
       "A matrix: 3 × 4 of type dbl\n",
       "\\begin{tabular}{llll}\n",
       "\t 4 & 7 & 10 & 13\\\\\n",
       "\t 5 & 8 & 11 & 14\\\\\n",
       "\t 6 & 9 & 12 & 15\\\\\n",
       "\\end{tabular}\n"
      ],
      "text/markdown": [
       "\n",
       "A matrix: 3 × 4 of type dbl\n",
       "\n",
       "| 4 | 7 | 10 | 13 |\n",
       "| 5 | 8 | 11 | 14 |\n",
       "| 6 | 9 | 12 | 15 |\n",
       "\n"
      ],
      "text/plain": [
       "     [,1] [,2] [,3] [,4]\n",
       "[1,] 4    7    10   13  \n",
       "[2,] 5    8    11   14  \n",
       "[3,] 6    9    12   15  "
      ]
     },
     "metadata": {},
     "output_type": "display_data"
    }
   ],
   "source": [
    "matrix(1:12, nrow = 3) + 3"
   ]
  },
  {
   "cell_type": "code",
   "execution_count": 164,
   "id": "b2a596c4-363d-46ba-ae81-4556018c01f0",
   "metadata": {},
   "outputs": [
    {
     "ename": "ERROR",
     "evalue": "Error in matrix(1:12, nrow = 3) + matrix(1:12, nrow = 4): 배열의 크기가 올바르지 않습니다\n",
     "output_type": "error",
     "traceback": [
      "Error in matrix(1:12, nrow = 3) + matrix(1:12, nrow = 4): 배열의 크기가 올바르지 않습니다\nTraceback:\n"
     ]
    }
   ],
   "source": [
    "matrix(1:12, nrow = 3) + matrix(1:12, nrow = 4)"
   ]
  },
  {
   "cell_type": "code",
   "execution_count": 165,
   "id": "83267916-d767-4926-a8f3-958a0a039b8c",
   "metadata": {},
   "outputs": [
    {
     "data": {
      "text/html": [
       "<table class=\"dataframe\">\n",
       "<caption>A matrix: 3 × 4 of type int</caption>\n",
       "<tbody>\n",
       "\t<tr><td>2</td><td> 8</td><td>14</td><td>20</td></tr>\n",
       "\t<tr><td>4</td><td>10</td><td>16</td><td>22</td></tr>\n",
       "\t<tr><td>6</td><td>12</td><td>18</td><td>24</td></tr>\n",
       "</tbody>\n",
       "</table>\n"
      ],
      "text/latex": [
       "A matrix: 3 × 4 of type int\n",
       "\\begin{tabular}{llll}\n",
       "\t 2 &  8 & 14 & 20\\\\\n",
       "\t 4 & 10 & 16 & 22\\\\\n",
       "\t 6 & 12 & 18 & 24\\\\\n",
       "\\end{tabular}\n"
      ],
      "text/markdown": [
       "\n",
       "A matrix: 3 × 4 of type int\n",
       "\n",
       "| 2 |  8 | 14 | 20 |\n",
       "| 4 | 10 | 16 | 22 |\n",
       "| 6 | 12 | 18 | 24 |\n",
       "\n"
      ],
      "text/plain": [
       "     [,1] [,2] [,3] [,4]\n",
       "[1,] 2     8   14   20  \n",
       "[2,] 4    10   16   22  \n",
       "[3,] 6    12   18   24  "
      ]
     },
     "metadata": {},
     "output_type": "display_data"
    }
   ],
   "source": [
    "matrix(1:12, nrow = 3) + matrix(1:12, nrow = 3)"
   ]
  },
  {
   "cell_type": "code",
   "execution_count": 166,
   "id": "487c65a9-cc9f-4432-95e9-ebda74925cc1",
   "metadata": {},
   "outputs": [
    {
     "ename": "ERROR",
     "evalue": "Error in rbind(matrix(1:9, nrow = 3), c(\"1\", \"2\", \"3\")) + 3: 이항연산자에 수치가 아닌 인수입니다\n",
     "output_type": "error",
     "traceback": [
      "Error in rbind(matrix(1:9, nrow = 3), c(\"1\", \"2\", \"3\")) + 3: 이항연산자에 수치가 아닌 인수입니다\nTraceback:\n"
     ]
    }
   ],
   "source": [
    "rbind(matrix(1:9, nrow = 3), c('1', '2', '3')) + 3"
   ]
  },
  {
   "cell_type": "markdown",
   "id": "156391eb-31c4-47f2-840e-21f8f2bdf383",
   "metadata": {},
   "source": [
    "### 5-09"
   ]
  },
  {
   "cell_type": "code",
   "execution_count": 186,
   "id": "b80e5d02-9472-41b0-aa11-7e7ddab99359",
   "metadata": {},
   "outputs": [
    {
     "data": {
      "text/html": [
       "<table class=\"dataframe\">\n",
       "<caption>A data.frame: 7 × 3</caption>\n",
       "<thead>\n",
       "\t<tr><th scope=col>번호</th><th scope=col>제목</th><th scope=col>좋아요</th></tr>\n",
       "\t<tr><th scope=col>&lt;int&gt;</th><th scope=col>&lt;chr&gt;</th><th scope=col>&lt;dbl&gt;</th></tr>\n",
       "</thead>\n",
       "<tbody>\n",
       "\t<tr><td>1</td><td>그대랑</td><td>16075</td></tr>\n",
       "\t<tr><td>2</td><td>다툼  </td><td> 8218</td></tr>\n",
       "\t<tr><td>3</td><td>빨래  </td><td>12119</td></tr>\n",
       "\t<tr><td>4</td><td>두통  </td><td>  738</td></tr>\n",
       "\t<tr><td>5</td><td>보조개</td><td> 3200</td></tr>\n",
       "\t<tr><td>6</td><td>매듭  </td><td>16144</td></tr>\n",
       "\t<tr><td>7</td><td>이상해</td><td> 5110</td></tr>\n",
       "</tbody>\n",
       "</table>\n"
      ],
      "text/latex": [
       "A data.frame: 7 × 3\n",
       "\\begin{tabular}{lll}\n",
       " 번호 & 제목 & 좋아요\\\\\n",
       " <int> & <chr> & <dbl>\\\\\n",
       "\\hline\n",
       "\t 1 & 그대랑 & 16075\\\\\n",
       "\t 2 & 다툼   &  8218\\\\\n",
       "\t 3 & 빨래   & 12119\\\\\n",
       "\t 4 & 두통   &   738\\\\\n",
       "\t 5 & 보조개 &  3200\\\\\n",
       "\t 6 & 매듭   & 16144\\\\\n",
       "\t 7 & 이상해 &  5110\\\\\n",
       "\\end{tabular}\n"
      ],
      "text/markdown": [
       "\n",
       "A data.frame: 7 × 3\n",
       "\n",
       "| 번호 &lt;int&gt; | 제목 &lt;chr&gt; | 좋아요 &lt;dbl&gt; |\n",
       "|---|---|---|\n",
       "| 1 | 그대랑 | 16075 |\n",
       "| 2 | 다툼   |  8218 |\n",
       "| 3 | 빨래   | 12119 |\n",
       "| 4 | 두통   |   738 |\n",
       "| 5 | 보조개 |  3200 |\n",
       "| 6 | 매듭   | 16144 |\n",
       "| 7 | 이상해 |  5110 |\n",
       "\n"
      ],
      "text/plain": [
       "  번호 제목   좋아요\n",
       "1 1    그대랑 16075 \n",
       "2 2    다툼    8218 \n",
       "3 3    빨래   12119 \n",
       "4 4    두통     738 \n",
       "5 5    보조개  3200 \n",
       "6 6    매듭   16144 \n",
       "7 7    이상해  5110 "
      ]
     },
     "metadata": {},
     "output_type": "display_data"
    }
   ],
   "source": [
    "num <- 1:7\n",
    "titles <- c('그대랑', '다툼', '빨래', '두통', '보조개', '매듭', '이상해')\n",
    "likes <- c(16075, 8218, 12119, 738, 3200, 16144, 5110)\n",
    "\n",
    "love <- data.frame(num, titles, likes)\n",
    "colnames(love) <- c('번호', '제목', '좋아요')\n",
    "love"
   ]
  },
  {
   "cell_type": "code",
   "execution_count": 184,
   "id": "5370f12f-391f-406d-b2f3-49e67190133c",
   "metadata": {},
   "outputs": [
    {
     "data": {
      "text/html": [
       "<table class=\"dataframe\">\n",
       "<caption>A data.frame: 7 × 3</caption>\n",
       "<thead>\n",
       "\t<tr><th scope=col>번호</th><th scope=col>제목</th><th scope=col>좋아요</th></tr>\n",
       "\t<tr><th scope=col>&lt;int&gt;</th><th scope=col>&lt;chr&gt;</th><th scope=col>&lt;dbl&gt;</th></tr>\n",
       "</thead>\n",
       "<tbody>\n",
       "\t<tr><td>1</td><td>그대랑</td><td>16075</td></tr>\n",
       "\t<tr><td>2</td><td>다툼  </td><td> 8218</td></tr>\n",
       "\t<tr><td>3</td><td>빨래  </td><td>12119</td></tr>\n",
       "\t<tr><td>4</td><td>두통  </td><td>  738</td></tr>\n",
       "\t<tr><td>5</td><td>보조개</td><td> 3200</td></tr>\n",
       "\t<tr><td>6</td><td>매듭  </td><td>16144</td></tr>\n",
       "\t<tr><td>7</td><td>이상해</td><td> 5110</td></tr>\n",
       "</tbody>\n",
       "</table>\n"
      ],
      "text/latex": [
       "A data.frame: 7 × 3\n",
       "\\begin{tabular}{lll}\n",
       " 번호 & 제목 & 좋아요\\\\\n",
       " <int> & <chr> & <dbl>\\\\\n",
       "\\hline\n",
       "\t 1 & 그대랑 & 16075\\\\\n",
       "\t 2 & 다툼   &  8218\\\\\n",
       "\t 3 & 빨래   & 12119\\\\\n",
       "\t 4 & 두통   &   738\\\\\n",
       "\t 5 & 보조개 &  3200\\\\\n",
       "\t 6 & 매듭   & 16144\\\\\n",
       "\t 7 & 이상해 &  5110\\\\\n",
       "\\end{tabular}\n"
      ],
      "text/markdown": [
       "\n",
       "A data.frame: 7 × 3\n",
       "\n",
       "| 번호 &lt;int&gt; | 제목 &lt;chr&gt; | 좋아요 &lt;dbl&gt; |\n",
       "|---|---|---|\n",
       "| 1 | 그대랑 | 16075 |\n",
       "| 2 | 다툼   |  8218 |\n",
       "| 3 | 빨래   | 12119 |\n",
       "| 4 | 두통   |   738 |\n",
       "| 5 | 보조개 |  3200 |\n",
       "| 6 | 매듭   | 16144 |\n",
       "| 7 | 이상해 |  5110 |\n",
       "\n"
      ],
      "text/plain": [
       "  번호 제목   좋아요\n",
       "1 1    그대랑 16075 \n",
       "2 2    다툼    8218 \n",
       "3 3    빨래   12119 \n",
       "4 4    두통     738 \n",
       "5 5    보조개  3200 \n",
       "6 6    매듭   16144 \n",
       "7 7    이상해  5110 "
      ]
     },
     "metadata": {},
     "output_type": "display_data"
    }
   ],
   "source": [
    "love <- data.frame(번호=1:7,\n",
    "                   제목=c('그대랑', '다툼', '빨래', '두통', '보조개', '매듭', '이상해'),\n",
    "                   좋아요=c(16075, 8218, 12119, 738, 3200, 16144, 5110))\n",
    "love"
   ]
  },
  {
   "cell_type": "code",
   "execution_count": 193,
   "id": "34eb588f-3e82-4a43-9c95-83c6cdbe064b",
   "metadata": {},
   "outputs": [
    {
     "data": {
      "text/html": [
       "<style>\n",
       ".list-inline {list-style: none; margin:0; padding: 0}\n",
       ".list-inline>li {display: inline-block}\n",
       ".list-inline>li:not(:last-child)::after {content: \"\\00b7\"; padding: 0 .5ex}\n",
       "</style>\n",
       "<ol class=list-inline><li>FALSE</li><li>FALSE</li><li>FALSE</li><li>FALSE</li><li>FALSE</li><li>TRUE</li><li>FALSE</li></ol>\n"
      ],
      "text/latex": [
       "\\begin{enumerate*}\n",
       "\\item FALSE\n",
       "\\item FALSE\n",
       "\\item FALSE\n",
       "\\item FALSE\n",
       "\\item FALSE\n",
       "\\item TRUE\n",
       "\\item FALSE\n",
       "\\end{enumerate*}\n"
      ],
      "text/markdown": [
       "1. FALSE\n",
       "2. FALSE\n",
       "3. FALSE\n",
       "4. FALSE\n",
       "5. FALSE\n",
       "6. TRUE\n",
       "7. FALSE\n",
       "\n",
       "\n"
      ],
      "text/plain": [
       "[1] FALSE FALSE FALSE FALSE FALSE  TRUE FALSE"
      ]
     },
     "metadata": {},
     "output_type": "display_data"
    }
   ],
   "source": [
    "love$좋아요 == max(love$좋아요)"
   ]
  },
  {
   "cell_type": "code",
   "execution_count": 201,
   "id": "7669e133-7aae-4c8c-a8fb-9c36298c7962",
   "metadata": {},
   "outputs": [
    {
     "data": {
      "text/html": [
       "'매듭'"
      ],
      "text/latex": [
       "'매듭'"
      ],
      "text/markdown": [
       "'매듭'"
      ],
      "text/plain": [
       "[1] \"매듭\""
      ]
     },
     "metadata": {},
     "output_type": "display_data"
    }
   ],
   "source": [
    "best <- love[love$좋아요 == max(love$좋아요), '제목']\n",
    "best"
   ]
  },
  {
   "cell_type": "code",
   "execution_count": 198,
   "id": "5f6ba580-e77f-4d1d-8f97-f2af8174130a",
   "metadata": {},
   "outputs": [
    {
     "ename": "ERROR",
     "evalue": "Error in `[.data.frame`(love, love$좋아요 == max(love$좋아요), 제목): 객체 '제목'를 찾을 수 없습니다\n",
     "output_type": "error",
     "traceback": [
      "Error in `[.data.frame`(love, love$좋아요 == max(love$좋아요), 제목): 객체 '제목'를 찾을 수 없습니다\nTraceback:\n",
      "1. love[love$좋아요 == max(love$좋아요), 제목]",
      "2. `[.data.frame`(love, love$좋아요 == max(love$좋아요), 제목)"
     ]
    }
   ],
   "source": [
    "love[love$좋아요 == max(love$좋아요), 제목]"
   ]
  },
  {
   "cell_type": "markdown",
   "id": "ffc12274-d8d2-4751-970d-8fe4e2c3f869",
   "metadata": {},
   "source": [
    "### 5-10"
   ]
  },
  {
   "cell_type": "code",
   "execution_count": 208,
   "id": "de2fc74a-dc1a-4f9a-93c6-2acd4f83b6d5",
   "metadata": {},
   "outputs": [
    {
     "data": {
      "text/html": [
       "<table class=\"dataframe\">\n",
       "<caption>A data.frame: 3 × 6</caption>\n",
       "<thead>\n",
       "\t<tr><th scope=col>이름</th><th scope=col>국어</th><th scope=col>역사</th><th scope=col>수학</th><th scope=col>과학</th><th scope=col>영어</th></tr>\n",
       "\t<tr><th scope=col>&lt;chr&gt;</th><th scope=col>&lt;dbl&gt;</th><th scope=col>&lt;dbl&gt;</th><th scope=col>&lt;dbl&gt;</th><th scope=col>&lt;dbl&gt;</th><th scope=col>&lt;dbl&gt;</th></tr>\n",
       "</thead>\n",
       "<tbody>\n",
       "\t<tr><td>스티브</td><td> 97</td><td>100</td><td>83</td><td>95</td><td>92</td></tr>\n",
       "\t<tr><td>엔더맨</td><td> 88</td><td> 82</td><td>90</td><td>91</td><td>87</td></tr>\n",
       "\t<tr><td>크리퍼</td><td>100</td><td> 96</td><td>76</td><td>89</td><td>95</td></tr>\n",
       "</tbody>\n",
       "</table>\n"
      ],
      "text/latex": [
       "A data.frame: 3 × 6\n",
       "\\begin{tabular}{llllll}\n",
       " 이름 & 국어 & 역사 & 수학 & 과학 & 영어\\\\\n",
       " <chr> & <dbl> & <dbl> & <dbl> & <dbl> & <dbl>\\\\\n",
       "\\hline\n",
       "\t 스티브 &  97 & 100 & 83 & 95 & 92\\\\\n",
       "\t 엔더맨 &  88 &  82 & 90 & 91 & 87\\\\\n",
       "\t 크리퍼 & 100 &  96 & 76 & 89 & 95\\\\\n",
       "\\end{tabular}\n"
      ],
      "text/markdown": [
       "\n",
       "A data.frame: 3 × 6\n",
       "\n",
       "| 이름 &lt;chr&gt; | 국어 &lt;dbl&gt; | 역사 &lt;dbl&gt; | 수학 &lt;dbl&gt; | 과학 &lt;dbl&gt; | 영어 &lt;dbl&gt; |\n",
       "|---|---|---|---|---|---|\n",
       "| 스티브 |  97 | 100 | 83 | 95 | 92 |\n",
       "| 엔더맨 |  88 |  82 | 90 | 91 | 87 |\n",
       "| 크리퍼 | 100 |  96 | 76 | 89 | 95 |\n",
       "\n"
      ],
      "text/plain": [
       "  이름   국어 역사 수학 과학 영어\n",
       "1 스티브  97  100  83   95   92  \n",
       "2 엔더맨  88   82  90   91   87  \n",
       "3 크리퍼 100   96  76   89   95  "
      ]
     },
     "metadata": {},
     "output_type": "display_data"
    },
    {
     "data": {
      "text/html": [
       "<table class=\"dataframe\">\n",
       "<caption>A data.frame: 3 × 6</caption>\n",
       "<thead>\n",
       "\t<tr><th scope=col>이름</th><th scope=col>국어</th><th scope=col>역사</th><th scope=col>수학</th><th scope=col>과학</th><th scope=col>영어</th></tr>\n",
       "\t<tr><th scope=col>&lt;chr&gt;</th><th scope=col>&lt;dbl&gt;</th><th scope=col>&lt;dbl&gt;</th><th scope=col>&lt;dbl&gt;</th><th scope=col>&lt;dbl&gt;</th><th scope=col>&lt;dbl&gt;</th></tr>\n",
       "</thead>\n",
       "<tbody>\n",
       "\t<tr><td>스티브</td><td> 94</td><td> 95</td><td>90</td><td>92</td><td>89</td></tr>\n",
       "\t<tr><td>엔더맨</td><td> 92</td><td> 95</td><td>87</td><td>95</td><td>94</td></tr>\n",
       "\t<tr><td>크리퍼</td><td>100</td><td>100</td><td>85</td><td>84</td><td>96</td></tr>\n",
       "</tbody>\n",
       "</table>\n"
      ],
      "text/latex": [
       "A data.frame: 3 × 6\n",
       "\\begin{tabular}{llllll}\n",
       " 이름 & 국어 & 역사 & 수학 & 과학 & 영어\\\\\n",
       " <chr> & <dbl> & <dbl> & <dbl> & <dbl> & <dbl>\\\\\n",
       "\\hline\n",
       "\t 스티브 &  94 &  95 & 90 & 92 & 89\\\\\n",
       "\t 엔더맨 &  92 &  95 & 87 & 95 & 94\\\\\n",
       "\t 크리퍼 & 100 & 100 & 85 & 84 & 96\\\\\n",
       "\\end{tabular}\n"
      ],
      "text/markdown": [
       "\n",
       "A data.frame: 3 × 6\n",
       "\n",
       "| 이름 &lt;chr&gt; | 국어 &lt;dbl&gt; | 역사 &lt;dbl&gt; | 수학 &lt;dbl&gt; | 과학 &lt;dbl&gt; | 영어 &lt;dbl&gt; |\n",
       "|---|---|---|---|---|---|\n",
       "| 스티브 |  94 |  95 | 90 | 92 | 89 |\n",
       "| 엔더맨 |  92 |  95 | 87 | 95 | 94 |\n",
       "| 크리퍼 | 100 | 100 | 85 | 84 | 96 |\n",
       "\n"
      ],
      "text/plain": [
       "  이름   국어 역사 수학 과학 영어\n",
       "1 스티브  94   95  90   92   89  \n",
       "2 엔더맨  92   95  87   95   94  \n",
       "3 크리퍼 100  100  85   84   96  "
      ]
     },
     "metadata": {},
     "output_type": "display_data"
    },
    {
     "data": {
      "text/html": [
       "<table class=\"dataframe\">\n",
       "<caption>A data.frame: 3 × 6</caption>\n",
       "<thead>\n",
       "\t<tr><th scope=col>이름</th><th scope=col>국어</th><th scope=col>역사</th><th scope=col>수학</th><th scope=col>과학</th><th scope=col>영어</th></tr>\n",
       "\t<tr><th scope=col>&lt;chr&gt;</th><th scope=col>&lt;dbl&gt;</th><th scope=col>&lt;dbl&gt;</th><th scope=col>&lt;dbl&gt;</th><th scope=col>&lt;dbl&gt;</th><th scope=col>&lt;dbl&gt;</th></tr>\n",
       "</thead>\n",
       "<tbody>\n",
       "\t<tr><td>스티브</td><td> 95.5</td><td>97.5</td><td>86.5</td><td>93.5</td><td>90.5</td></tr>\n",
       "\t<tr><td>엔더맨</td><td> 90.0</td><td>88.5</td><td>88.5</td><td>93.0</td><td>90.5</td></tr>\n",
       "\t<tr><td>크리퍼</td><td>100.0</td><td>98.0</td><td>80.5</td><td>86.5</td><td>95.5</td></tr>\n",
       "</tbody>\n",
       "</table>\n"
      ],
      "text/latex": [
       "A data.frame: 3 × 6\n",
       "\\begin{tabular}{llllll}\n",
       " 이름 & 국어 & 역사 & 수학 & 과학 & 영어\\\\\n",
       " <chr> & <dbl> & <dbl> & <dbl> & <dbl> & <dbl>\\\\\n",
       "\\hline\n",
       "\t 스티브 &  95.5 & 97.5 & 86.5 & 93.5 & 90.5\\\\\n",
       "\t 엔더맨 &  90.0 & 88.5 & 88.5 & 93.0 & 90.5\\\\\n",
       "\t 크리퍼 & 100.0 & 98.0 & 80.5 & 86.5 & 95.5\\\\\n",
       "\\end{tabular}\n"
      ],
      "text/markdown": [
       "\n",
       "A data.frame: 3 × 6\n",
       "\n",
       "| 이름 &lt;chr&gt; | 국어 &lt;dbl&gt; | 역사 &lt;dbl&gt; | 수학 &lt;dbl&gt; | 과학 &lt;dbl&gt; | 영어 &lt;dbl&gt; |\n",
       "|---|---|---|---|---|---|\n",
       "| 스티브 |  95.5 | 97.5 | 86.5 | 93.5 | 90.5 |\n",
       "| 엔더맨 |  90.0 | 88.5 | 88.5 | 93.0 | 90.5 |\n",
       "| 크리퍼 | 100.0 | 98.0 | 80.5 | 86.5 | 95.5 |\n",
       "\n"
      ],
      "text/plain": [
       "  이름   국어  역사 수학 과학 영어\n",
       "1 스티브  95.5 97.5 86.5 93.5 90.5\n",
       "2 엔더맨  90.0 88.5 88.5 93.0 90.5\n",
       "3 크리퍼 100.0 98.0 80.5 86.5 95.5"
      ]
     },
     "metadata": {},
     "output_type": "display_data"
    }
   ],
   "source": [
    "mid <- data.frame(이름 = c('스티브', '엔더맨', '크리퍼'),\n",
    "                  국어 = c(97, 88, 100),\n",
    "                  역사 = c(100, 82, 96),\n",
    "                  수학 = c(83, 90, 76),\n",
    "                  과학 = c(95, 91, 89),\n",
    "                  영어 = c(92, 87, 95))\n",
    "\n",
    "final <- data.frame(이름 = c('스티브', '엔더맨', '크리퍼'),\n",
    "                  국어 = c(94, 92, 100),\n",
    "                  역사 = c(95, 95, 100),\n",
    "                  수학 = c(90, 87, 85),\n",
    "                  과학 = c(92, 95, 84),\n",
    "                  영어 = c(89, 94, 96))\n",
    "mid\n",
    "final\n",
    "data.frame(이름 = c('스티브', '엔더맨', '크리퍼'),\n",
    "           (mid[2:6] + final[2:6])/2)"
   ]
  },
  {
   "cell_type": "markdown",
   "id": "4cc7a60f-8762-488f-ba75-ba40c28abbef",
   "metadata": {},
   "source": [
    "### 5-11"
   ]
  },
  {
   "cell_type": "code",
   "execution_count": 210,
   "id": "11f95f60-c397-44a9-abbf-0adc0bdf39ad",
   "metadata": {},
   "outputs": [
    {
     "data": {
      "text/html": [
       "'data.frame'"
      ],
      "text/latex": [
       "'data.frame'"
      ],
      "text/markdown": [
       "'data.frame'"
      ],
      "text/plain": [
       "[1] \"data.frame\""
      ]
     },
     "metadata": {},
     "output_type": "display_data"
    }
   ],
   "source": [
    "class(cars)"
   ]
  },
  {
   "cell_type": "code",
   "execution_count": 211,
   "id": "a9c268bc-d01c-44b5-bde2-202139214ab7",
   "metadata": {},
   "outputs": [
    {
     "data": {
      "text/html": [
       "<style>\n",
       ".list-inline {list-style: none; margin:0; padding: 0}\n",
       ".list-inline>li {display: inline-block}\n",
       ".list-inline>li:not(:last-child)::after {content: \"\\00b7\"; padding: 0 .5ex}\n",
       "</style>\n",
       "<ol class=list-inline><li>50</li><li>2</li></ol>\n"
      ],
      "text/latex": [
       "\\begin{enumerate*}\n",
       "\\item 50\n",
       "\\item 2\n",
       "\\end{enumerate*}\n"
      ],
      "text/markdown": [
       "1. 50\n",
       "2. 2\n",
       "\n",
       "\n"
      ],
      "text/plain": [
       "[1] 50  2"
      ]
     },
     "metadata": {},
     "output_type": "display_data"
    }
   ],
   "source": [
    "dim(cars)"
   ]
  },
  {
   "cell_type": "code",
   "execution_count": 212,
   "id": "7993fe97-3c81-4526-85fb-dd0b3c871066",
   "metadata": {},
   "outputs": [
    {
     "data": {
      "text/html": [
       "<table class=\"dataframe\">\n",
       "<caption>A data.frame: 6 × 2</caption>\n",
       "<thead>\n",
       "\t<tr><th></th><th scope=col>speed</th><th scope=col>dist</th></tr>\n",
       "\t<tr><th></th><th scope=col>&lt;dbl&gt;</th><th scope=col>&lt;dbl&gt;</th></tr>\n",
       "</thead>\n",
       "<tbody>\n",
       "\t<tr><th scope=row>1</th><td>4</td><td> 2</td></tr>\n",
       "\t<tr><th scope=row>2</th><td>4</td><td>10</td></tr>\n",
       "\t<tr><th scope=row>3</th><td>7</td><td> 4</td></tr>\n",
       "\t<tr><th scope=row>4</th><td>7</td><td>22</td></tr>\n",
       "\t<tr><th scope=row>5</th><td>8</td><td>16</td></tr>\n",
       "\t<tr><th scope=row>6</th><td>9</td><td>10</td></tr>\n",
       "</tbody>\n",
       "</table>\n"
      ],
      "text/latex": [
       "A data.frame: 6 × 2\n",
       "\\begin{tabular}{r|ll}\n",
       "  & speed & dist\\\\\n",
       "  & <dbl> & <dbl>\\\\\n",
       "\\hline\n",
       "\t1 & 4 &  2\\\\\n",
       "\t2 & 4 & 10\\\\\n",
       "\t3 & 7 &  4\\\\\n",
       "\t4 & 7 & 22\\\\\n",
       "\t5 & 8 & 16\\\\\n",
       "\t6 & 9 & 10\\\\\n",
       "\\end{tabular}\n"
      ],
      "text/markdown": [
       "\n",
       "A data.frame: 6 × 2\n",
       "\n",
       "| <!--/--> | speed &lt;dbl&gt; | dist &lt;dbl&gt; |\n",
       "|---|---|---|\n",
       "| 1 | 4 |  2 |\n",
       "| 2 | 4 | 10 |\n",
       "| 3 | 7 |  4 |\n",
       "| 4 | 7 | 22 |\n",
       "| 5 | 8 | 16 |\n",
       "| 6 | 9 | 10 |\n",
       "\n"
      ],
      "text/plain": [
       "  speed dist\n",
       "1 4      2  \n",
       "2 4     10  \n",
       "3 7      4  \n",
       "4 7     22  \n",
       "5 8     16  \n",
       "6 9     10  "
      ]
     },
     "metadata": {},
     "output_type": "display_data"
    }
   ],
   "source": [
    "head(cars)"
   ]
  },
  {
   "cell_type": "code",
   "execution_count": 213,
   "id": "0f9fb988-1ecd-4ee2-8cbf-58e6a14efb85",
   "metadata": {},
   "outputs": [
    {
     "name": "stdout",
     "output_type": "stream",
     "text": [
      "'data.frame':\t50 obs. of  2 variables:\n",
      " $ speed: num  4 4 7 7 8 9 10 10 10 11 ...\n",
      " $ dist : num  2 10 4 22 16 10 18 26 34 17 ...\n"
     ]
    }
   ],
   "source": [
    "str(cars)"
   ]
  },
  {
   "cell_type": "code",
   "execution_count": 217,
   "id": "58a44589-3438-49e7-b193-4677a1c575f8",
   "metadata": {},
   "outputs": [
    {
     "data": {
      "text/html": [
       "<style>\n",
       ".dl-inline {width: auto; margin:0; padding: 0}\n",
       ".dl-inline>dt, .dl-inline>dd {float: none; width: auto; display: inline-block}\n",
       ".dl-inline>dt::after {content: \":\\0020\"; padding-right: .5ex}\n",
       ".dl-inline>dt:not(:first-of-type) {padding-left: .5ex}\n",
       "</style><dl class=dl-inline><dt>speed</dt><dd>15.4</dd><dt>dist</dt><dd>42.98</dd></dl>\n"
      ],
      "text/latex": [
       "\\begin{description*}\n",
       "\\item[speed] 15.4\n",
       "\\item[dist] 42.98\n",
       "\\end{description*}\n"
      ],
      "text/markdown": [
       "speed\n",
       ":   15.4dist\n",
       ":   42.98\n",
       "\n"
      ],
      "text/plain": [
       "speed  dist \n",
       "15.40 42.98 "
      ]
     },
     "metadata": {},
     "output_type": "display_data"
    }
   ],
   "source": [
    "colMeans(cars)"
   ]
  },
  {
   "cell_type": "code",
   "execution_count": 219,
   "id": "70f13f5e-daea-47f4-9ce9-9a42a1581446",
   "metadata": {},
   "outputs": [
    {
     "data": {
      "text/html": [
       "120"
      ],
      "text/latex": [
       "120"
      ],
      "text/markdown": [
       "120"
      ],
      "text/plain": [
       "[1] 120"
      ]
     },
     "metadata": {},
     "output_type": "display_data"
    }
   ],
   "source": [
    "max(cars[, 'dist'])"
   ]
  },
  {
   "cell_type": "code",
   "execution_count": 220,
   "id": "52f65b23-464c-4a78-b7b2-bb3d2af625eb",
   "metadata": {},
   "outputs": [
    {
     "data": {
      "text/html": [
       "<table class=\"dataframe\">\n",
       "<caption>A data.frame: 1 × 2</caption>\n",
       "<thead>\n",
       "\t<tr><th></th><th scope=col>speed</th><th scope=col>dist</th></tr>\n",
       "\t<tr><th></th><th scope=col>&lt;dbl&gt;</th><th scope=col>&lt;dbl&gt;</th></tr>\n",
       "</thead>\n",
       "<tbody>\n",
       "\t<tr><th scope=row>49</th><td>24</td><td>120</td></tr>\n",
       "</tbody>\n",
       "</table>\n"
      ],
      "text/latex": [
       "A data.frame: 1 × 2\n",
       "\\begin{tabular}{r|ll}\n",
       "  & speed & dist\\\\\n",
       "  & <dbl> & <dbl>\\\\\n",
       "\\hline\n",
       "\t49 & 24 & 120\\\\\n",
       "\\end{tabular}\n"
      ],
      "text/markdown": [
       "\n",
       "A data.frame: 1 × 2\n",
       "\n",
       "| <!--/--> | speed &lt;dbl&gt; | dist &lt;dbl&gt; |\n",
       "|---|---|---|\n",
       "| 49 | 24 | 120 |\n",
       "\n"
      ],
      "text/plain": [
       "   speed dist\n",
       "49 24    120 "
      ]
     },
     "metadata": {},
     "output_type": "display_data"
    }
   ],
   "source": [
    "cars[cars$dist == max(cars[, 'dist']), ]"
   ]
  },
  {
   "cell_type": "code",
   "execution_count": 221,
   "id": "c24d41fd-e82d-40f3-b708-1e6c4061b8f2",
   "metadata": {},
   "outputs": [
    {
     "data": {
      "text/html": [
       "<table class=\"dataframe\">\n",
       "<caption>A data.frame: 1 × 2</caption>\n",
       "<thead>\n",
       "\t<tr><th></th><th scope=col>speed</th><th scope=col>dist</th></tr>\n",
       "\t<tr><th></th><th scope=col>&lt;dbl&gt;</th><th scope=col>&lt;dbl&gt;</th></tr>\n",
       "</thead>\n",
       "<tbody>\n",
       "\t<tr><th scope=row>49</th><td>24</td><td>120</td></tr>\n",
       "</tbody>\n",
       "</table>\n"
      ],
      "text/latex": [
       "A data.frame: 1 × 2\n",
       "\\begin{tabular}{r|ll}\n",
       "  & speed & dist\\\\\n",
       "  & <dbl> & <dbl>\\\\\n",
       "\\hline\n",
       "\t49 & 24 & 120\\\\\n",
       "\\end{tabular}\n"
      ],
      "text/markdown": [
       "\n",
       "A data.frame: 1 × 2\n",
       "\n",
       "| <!--/--> | speed &lt;dbl&gt; | dist &lt;dbl&gt; |\n",
       "|---|---|---|\n",
       "| 49 | 24 | 120 |\n",
       "\n"
      ],
      "text/plain": [
       "   speed dist\n",
       "49 24    120 "
      ]
     },
     "metadata": {},
     "output_type": "display_data"
    }
   ],
   "source": [
    "cars[cars[2] == max(cars[, 2]), ]"
   ]
  },
  {
   "cell_type": "markdown",
   "id": "c05e0946-ccf9-49c5-990f-e636e8611900",
   "metadata": {},
   "source": [
    "### 5-12"
   ]
  },
  {
   "cell_type": "code",
   "execution_count": 222,
   "id": "02445373-beff-440c-9930-8e34ff357298",
   "metadata": {},
   "outputs": [
    {
     "data": {
      "text/html": [
       "'data.frame'"
      ],
      "text/latex": [
       "'data.frame'"
      ],
      "text/markdown": [
       "'data.frame'"
      ],
      "text/plain": [
       "[1] \"data.frame\""
      ]
     },
     "metadata": {},
     "output_type": "display_data"
    }
   ],
   "source": [
    "class(InsectSprays)"
   ]
  },
  {
   "cell_type": "code",
   "execution_count": 223,
   "id": "c1b2cdca-fcf8-48df-a63a-5eb80ffbd01b",
   "metadata": {},
   "outputs": [
    {
     "name": "stdout",
     "output_type": "stream",
     "text": [
      "'data.frame':\t72 obs. of  2 variables:\n",
      " $ count: num  10 7 20 14 14 12 10 23 17 20 ...\n",
      " $ spray: Factor w/ 6 levels \"A\",\"B\",\"C\",\"D\",..: 1 1 1 1 1 1 1 1 1 1 ...\n"
     ]
    }
   ],
   "source": [
    "str(InsectSprays)"
   ]
  },
  {
   "cell_type": "code",
   "execution_count": 225,
   "id": "3912c4fe-b98a-41d3-a66d-5644f7a4e5d7",
   "metadata": {},
   "outputs": [
    {
     "data": {
      "text/html": [
       "<table class=\"dataframe\">\n",
       "<caption>A data.frame: 10 × 2</caption>\n",
       "<thead>\n",
       "\t<tr><th></th><th scope=col>count</th><th scope=col>spray</th></tr>\n",
       "\t<tr><th></th><th scope=col>&lt;dbl&gt;</th><th scope=col>&lt;fct&gt;</th></tr>\n",
       "</thead>\n",
       "<tbody>\n",
       "\t<tr><th scope=row>63</th><td>15</td><td>F</td></tr>\n",
       "\t<tr><th scope=row>64</th><td>22</td><td>F</td></tr>\n",
       "\t<tr><th scope=row>65</th><td>15</td><td>F</td></tr>\n",
       "\t<tr><th scope=row>66</th><td>16</td><td>F</td></tr>\n",
       "\t<tr><th scope=row>67</th><td>13</td><td>F</td></tr>\n",
       "\t<tr><th scope=row>68</th><td>10</td><td>F</td></tr>\n",
       "\t<tr><th scope=row>69</th><td>26</td><td>F</td></tr>\n",
       "\t<tr><th scope=row>70</th><td>26</td><td>F</td></tr>\n",
       "\t<tr><th scope=row>71</th><td>24</td><td>F</td></tr>\n",
       "\t<tr><th scope=row>72</th><td>13</td><td>F</td></tr>\n",
       "</tbody>\n",
       "</table>\n"
      ],
      "text/latex": [
       "A data.frame: 10 × 2\n",
       "\\begin{tabular}{r|ll}\n",
       "  & count & spray\\\\\n",
       "  & <dbl> & <fct>\\\\\n",
       "\\hline\n",
       "\t63 & 15 & F\\\\\n",
       "\t64 & 22 & F\\\\\n",
       "\t65 & 15 & F\\\\\n",
       "\t66 & 16 & F\\\\\n",
       "\t67 & 13 & F\\\\\n",
       "\t68 & 10 & F\\\\\n",
       "\t69 & 26 & F\\\\\n",
       "\t70 & 26 & F\\\\\n",
       "\t71 & 24 & F\\\\\n",
       "\t72 & 13 & F\\\\\n",
       "\\end{tabular}\n"
      ],
      "text/markdown": [
       "\n",
       "A data.frame: 10 × 2\n",
       "\n",
       "| <!--/--> | count &lt;dbl&gt; | spray &lt;fct&gt; |\n",
       "|---|---|---|\n",
       "| 63 | 15 | F |\n",
       "| 64 | 22 | F |\n",
       "| 65 | 15 | F |\n",
       "| 66 | 16 | F |\n",
       "| 67 | 13 | F |\n",
       "| 68 | 10 | F |\n",
       "| 69 | 26 | F |\n",
       "| 70 | 26 | F |\n",
       "| 71 | 24 | F |\n",
       "| 72 | 13 | F |\n",
       "\n"
      ],
      "text/plain": [
       "   count spray\n",
       "63 15    F    \n",
       "64 22    F    \n",
       "65 15    F    \n",
       "66 16    F    \n",
       "67 13    F    \n",
       "68 10    F    \n",
       "69 26    F    \n",
       "70 26    F    \n",
       "71 24    F    \n",
       "72 13    F    "
      ]
     },
     "metadata": {},
     "output_type": "display_data"
    }
   ],
   "source": [
    "tail(InsectSprays, 10)"
   ]
  },
  {
   "cell_type": "code",
   "execution_count": 227,
   "id": "d3b5b04e-93b0-4ae5-93bc-31199ccd65ab",
   "metadata": {},
   "outputs": [
    {
     "data": {
      "text/html": [
       "<style>\n",
       ".list-inline {list-style: none; margin:0; padding: 0}\n",
       ".list-inline>li {display: inline-block}\n",
       ".list-inline>li:not(:last-child)::after {content: \"\\00b7\"; padding: 0 .5ex}\n",
       "</style>\n",
       "<ol class=list-inline><li>'A'</li><li>'B'</li><li>'C'</li><li>'D'</li><li>'E'</li><li>'F'</li></ol>\n"
      ],
      "text/latex": [
       "\\begin{enumerate*}\n",
       "\\item 'A'\n",
       "\\item 'B'\n",
       "\\item 'C'\n",
       "\\item 'D'\n",
       "\\item 'E'\n",
       "\\item 'F'\n",
       "\\end{enumerate*}\n"
      ],
      "text/markdown": [
       "1. 'A'\n",
       "2. 'B'\n",
       "3. 'C'\n",
       "4. 'D'\n",
       "5. 'E'\n",
       "6. 'F'\n",
       "\n",
       "\n"
      ],
      "text/plain": [
       "[1] \"A\" \"B\" \"C\" \"D\" \"E\" \"F\""
      ]
     },
     "metadata": {},
     "output_type": "display_data"
    }
   ],
   "source": [
    "levels(InsectSprays$spray)"
   ]
  },
  {
   "cell_type": "code",
   "execution_count": 230,
   "id": "94b6cb2c-e829-4d60-971b-b6f71c08bb6f",
   "metadata": {},
   "outputs": [
    {
     "data": {
      "text/plain": [
       "\n",
       " 0  1  2  3  4  5  6  7  9 10 11 12 13 14 15 16 17 19 20 21 22 23 24 26 \n",
       " 2  6  4  8  4  7  3  3  1  3  3  2  4  4  2  2  4  1  2  2  1  1  1  2 "
      ]
     },
     "metadata": {},
     "output_type": "display_data"
    }
   ],
   "source": [
    "table(InsectSprays$count)"
   ]
  },
  {
   "cell_type": "code",
   "execution_count": 231,
   "id": "633b77a3-bcf4-4f01-8961-51f455fc914f",
   "metadata": {},
   "outputs": [
    {
     "data": {
      "text/plain": [
       "\n",
       " A  B  C  D  E  F \n",
       "12 12 12 12 12 12 "
      ]
     },
     "metadata": {},
     "output_type": "display_data"
    }
   ],
   "source": [
    "table(InsectSprays$spray)"
   ]
  },
  {
   "cell_type": "code",
   "execution_count": 233,
   "id": "f7a050be-5680-4514-b4f0-617835b04195",
   "metadata": {},
   "outputs": [
    {
     "data": {
      "text/html": [
       "<table class=\"dataframe\">\n",
       "<caption>A data.frame: 12 × 2</caption>\n",
       "<thead>\n",
       "\t<tr><th></th><th scope=col>count</th><th scope=col>spray</th></tr>\n",
       "\t<tr><th></th><th scope=col>&lt;dbl&gt;</th><th scope=col>&lt;fct&gt;</th></tr>\n",
       "</thead>\n",
       "<tbody>\n",
       "\t<tr><th scope=row>49</th><td>3</td><td>E</td></tr>\n",
       "\t<tr><th scope=row>50</th><td>5</td><td>E</td></tr>\n",
       "\t<tr><th scope=row>51</th><td>3</td><td>E</td></tr>\n",
       "\t<tr><th scope=row>52</th><td>5</td><td>E</td></tr>\n",
       "\t<tr><th scope=row>53</th><td>3</td><td>E</td></tr>\n",
       "\t<tr><th scope=row>54</th><td>6</td><td>E</td></tr>\n",
       "\t<tr><th scope=row>55</th><td>1</td><td>E</td></tr>\n",
       "\t<tr><th scope=row>56</th><td>1</td><td>E</td></tr>\n",
       "\t<tr><th scope=row>57</th><td>3</td><td>E</td></tr>\n",
       "\t<tr><th scope=row>58</th><td>2</td><td>E</td></tr>\n",
       "\t<tr><th scope=row>59</th><td>6</td><td>E</td></tr>\n",
       "\t<tr><th scope=row>60</th><td>4</td><td>E</td></tr>\n",
       "</tbody>\n",
       "</table>\n"
      ],
      "text/latex": [
       "A data.frame: 12 × 2\n",
       "\\begin{tabular}{r|ll}\n",
       "  & count & spray\\\\\n",
       "  & <dbl> & <fct>\\\\\n",
       "\\hline\n",
       "\t49 & 3 & E\\\\\n",
       "\t50 & 5 & E\\\\\n",
       "\t51 & 3 & E\\\\\n",
       "\t52 & 5 & E\\\\\n",
       "\t53 & 3 & E\\\\\n",
       "\t54 & 6 & E\\\\\n",
       "\t55 & 1 & E\\\\\n",
       "\t56 & 1 & E\\\\\n",
       "\t57 & 3 & E\\\\\n",
       "\t58 & 2 & E\\\\\n",
       "\t59 & 6 & E\\\\\n",
       "\t60 & 4 & E\\\\\n",
       "\\end{tabular}\n"
      ],
      "text/markdown": [
       "\n",
       "A data.frame: 12 × 2\n",
       "\n",
       "| <!--/--> | count &lt;dbl&gt; | spray &lt;fct&gt; |\n",
       "|---|---|---|\n",
       "| 49 | 3 | E |\n",
       "| 50 | 5 | E |\n",
       "| 51 | 3 | E |\n",
       "| 52 | 5 | E |\n",
       "| 53 | 3 | E |\n",
       "| 54 | 6 | E |\n",
       "| 55 | 1 | E |\n",
       "| 56 | 1 | E |\n",
       "| 57 | 3 | E |\n",
       "| 58 | 2 | E |\n",
       "| 59 | 6 | E |\n",
       "| 60 | 4 | E |\n",
       "\n"
      ],
      "text/plain": [
       "   count spray\n",
       "49 3     E    \n",
       "50 5     E    \n",
       "51 3     E    \n",
       "52 5     E    \n",
       "53 3     E    \n",
       "54 6     E    \n",
       "55 1     E    \n",
       "56 1     E    \n",
       "57 3     E    \n",
       "58 2     E    \n",
       "59 6     E    \n",
       "60 4     E    "
      ]
     },
     "metadata": {},
     "output_type": "display_data"
    }
   ],
   "source": [
    "InsectSprays.e <- InsectSprays[InsectSprays$spray == 'E', ]\n",
    "InsectSprays.e"
   ]
  },
  {
   "cell_type": "code",
   "execution_count": 234,
   "id": "29ff234c-84a3-41d0-833b-ca377ecfca99",
   "metadata": {},
   "outputs": [
    {
     "data": {
      "text/html": [
       "3.5"
      ],
      "text/latex": [
       "3.5"
      ],
      "text/markdown": [
       "3.5"
      ],
      "text/plain": [
       "[1] 3.5"
      ]
     },
     "metadata": {},
     "output_type": "display_data"
    }
   ],
   "source": [
    "mean(InsectSprays.e$count)"
   ]
  },
  {
   "cell_type": "markdown",
   "id": "7ad4ecd4-b815-4487-a7d9-3992a622818a",
   "metadata": {},
   "source": [
    "# Ch6"
   ]
  },
  {
   "cell_type": "markdown",
   "id": "198f091a-85d5-40b1-8a13-bb648b9c6a9a",
   "metadata": {},
   "source": [
    "### 6-01"
   ]
  },
  {
   "cell_type": "code",
   "execution_count": 237,
   "id": "82de6327-c7ba-4c0d-bfd9-d5950fd2a15d",
   "metadata": {},
   "outputs": [
    {
     "name": "stderr",
     "output_type": "stream",
     "text": [
      "Warning message:\n",
      "\"패키지 'svDialogs'가 사용중이므로 설치되지 않을 것입니다\"\n"
     ]
    },
    {
     "data": {
      "text/html": [
       "''"
      ],
      "text/latex": [
       "''"
      ],
      "text/markdown": [
       "''"
      ],
      "text/plain": [
       "[1] \"\""
      ]
     },
     "metadata": {},
     "output_type": "display_data"
    }
   ],
   "source": [
    "install.packages('svDialogs')\n",
    "library(svDialogs)\n",
    "\n",
    "input.value <- dlgInput('Input a value')$res\n",
    "input.value"
   ]
  },
  {
   "cell_type": "markdown",
   "id": "b04ac0a2-36d7-4a40-b70d-d520b91a5a4e",
   "metadata": {},
   "source": [
    "### 6-02"
   ]
  },
  {
   "cell_type": "markdown",
   "id": "b8f3ddba-c453-4185-b09d-4187eb6640d0",
   "metadata": {},
   "source": [
    "- \\n"
   ]
  },
  {
   "cell_type": "markdown",
   "id": "d7e0ab34-ce7f-4b0b-bffb-3eb46975a8f6",
   "metadata": {},
   "source": [
    "### 6-03\n",
    "\n",
    "- A : 작업 폴더(Working Directory)\n",
    "\n",
    "- B : getwd()\n",
    "\n",
    "- C : setwd()"
   ]
  },
  {
   "cell_type": "markdown",
   "id": "bc6a1fa7-6870-4021-b182-0d96b7352b1a",
   "metadata": {},
   "source": [
    "### 6-04\n",
    "\n",
    "- csv(comma separated value)"
   ]
  },
  {
   "cell_type": "markdown",
   "id": "1e78be82-ead7-4f99-932e-141e2218ecfa",
   "metadata": {},
   "source": [
    "### 6-05\n",
    "\n",
    "- library(xlsx)\n",
    "\n",
    "- ds <- read.xlsx('data.xlsx', header = T, sheetIndex = 1)\n",
    "\n",
    "- write.xlsx(ds, 'data_new.xlsx', row.names = F)"
   ]
  },
  {
   "cell_type": "markdown",
   "id": "09ab7ebf-88af-4da0-838c-77c39facb85a",
   "metadata": {},
   "source": [
    "### 6-06\n",
    "\n",
    "- sink('result.txt', append = T)\n",
    "\n",
    "- cat(height, weight, bmi)\n",
    "\n",
    "- sink()"
   ]
  },
  {
   "cell_type": "markdown",
   "id": "be73a48d-2d43-4c2d-8f70-bdbf28f5ccf3",
   "metadata": {},
   "source": [
    "### 6-07"
   ]
  },
  {
   "cell_type": "code",
   "execution_count": null,
   "id": "57e0bd19-08cb-4181-8366-5cde92939175",
   "metadata": {},
   "outputs": [],
   "source": [
    "base <- as.numeric(dlgInput('base')$res)\n",
    "height <- as.numeric(dlgInput('height')$res)\n",
    "print(1/2 * base * height)"
   ]
  },
  {
   "cell_type": "markdown",
   "id": "05eb6cc8-94ba-452d-a928-fb9bfac3a828",
   "metadata": {},
   "source": [
    "### 6-08"
   ]
  },
  {
   "cell_type": "code",
   "execution_count": null,
   "id": "bd203585-cf2d-4083-95a2-75d3e405b11b",
   "metadata": {},
   "outputs": [],
   "source": [
    "read.table('ds_tab.txt', header = FALSE)"
   ]
  },
  {
   "cell_type": "markdown",
   "id": "253bc7eb-2409-449c-82ba-3e3c76837179",
   "metadata": {},
   "source": [
    "### 6-09"
   ]
  },
  {
   "cell_type": "code",
   "execution_count": 242,
   "id": "cf7886da-ecbd-4a88-8a98-96ae84d2a31c",
   "metadata": {},
   "outputs": [
    {
     "data": {
      "text/html": [
       "<table class=\"dataframe\">\n",
       "<caption>A data.frame: 3 × 3</caption>\n",
       "<thead>\n",
       "\t<tr><th scope=col>V1</th><th scope=col>V2</th><th scope=col>V3</th></tr>\n",
       "\t<tr><th scope=col>&lt;int&gt;</th><th scope=col>&lt;int&gt;</th><th scope=col>&lt;dbl&gt;</th></tr>\n",
       "</thead>\n",
       "<tbody>\n",
       "\t<tr><td>187</td><td>789</td><td>225.62840</td></tr>\n",
       "\t<tr><td>176</td><td> 67</td><td> 21.62965</td></tr>\n",
       "\t<tr><td>180</td><td> 69</td><td> 21.29630</td></tr>\n",
       "</tbody>\n",
       "</table>\n"
      ],
      "text/latex": [
       "A data.frame: 3 × 3\n",
       "\\begin{tabular}{lll}\n",
       " V1 & V2 & V3\\\\\n",
       " <int> & <int> & <dbl>\\\\\n",
       "\\hline\n",
       "\t 187 & 789 & 225.62840\\\\\n",
       "\t 176 &  67 &  21.62965\\\\\n",
       "\t 180 &  69 &  21.29630\\\\\n",
       "\\end{tabular}\n"
      ],
      "text/markdown": [
       "\n",
       "A data.frame: 3 × 3\n",
       "\n",
       "| V1 &lt;int&gt; | V2 &lt;int&gt; | V3 &lt;dbl&gt; |\n",
       "|---|---|---|\n",
       "| 187 | 789 | 225.62840 |\n",
       "| 176 |  67 |  21.62965 |\n",
       "| 180 |  69 |  21.29630 |\n",
       "\n"
      ],
      "text/plain": [
       "  V1  V2  V3       \n",
       "1 187 789 225.62840\n",
       "2 176  67  21.62965\n",
       "3 180  69  21.29630"
      ]
     },
     "metadata": {},
     "output_type": "display_data"
    }
   ],
   "source": [
    "ds <- read.table('ds.txt', header = FALSE)\n",
    "ds"
   ]
  },
  {
   "cell_type": "code",
   "execution_count": 252,
   "id": "df084621-c1db-43d1-bba6-79126646f1c2",
   "metadata": {},
   "outputs": [],
   "source": [
    "write.csv(ds, 'ds.csv', row.names=F)"
   ]
  },
  {
   "cell_type": "markdown",
   "id": "903829be-13f2-49af-945e-0c79e5942497",
   "metadata": {},
   "source": [
    "### 6-10"
   ]
  },
  {
   "cell_type": "code",
   "execution_count": null,
   "id": "693999f0-b946-4285-ad8a-7f4e15d7391b",
   "metadata": {},
   "outputs": [],
   "source": []
  },
  {
   "cell_type": "code",
   "execution_count": null,
   "id": "58afd763-e5e3-4b47-83dc-442dca9164de",
   "metadata": {},
   "outputs": [],
   "source": []
  },
  {
   "cell_type": "code",
   "execution_count": null,
   "id": "24698bb8-27da-4412-9584-ef3135d8a456",
   "metadata": {},
   "outputs": [],
   "source": []
  },
  {
   "cell_type": "code",
   "execution_count": null,
   "id": "ce5b7c1b-40e5-479f-85fb-cb6048845db7",
   "metadata": {},
   "outputs": [],
   "source": []
  },
  {
   "cell_type": "code",
   "execution_count": null,
   "id": "6fbba7da-3bc8-4ab1-ae90-ad356446189b",
   "metadata": {},
   "outputs": [],
   "source": []
  },
  {
   "cell_type": "code",
   "execution_count": null,
   "id": "3ffa1358-030b-40d0-b123-3fed51e9ab28",
   "metadata": {},
   "outputs": [],
   "source": []
  },
  {
   "cell_type": "code",
   "execution_count": null,
   "id": "32e02c47-8b8f-4454-b713-5a7da110f718",
   "metadata": {},
   "outputs": [],
   "source": []
  }
 ],
 "metadata": {
  "kernelspec": {
   "display_name": "R",
   "language": "R",
   "name": "ir"
  },
  "language_info": {
   "codemirror_mode": "r",
   "file_extension": ".r",
   "mimetype": "text/x-r-source",
   "name": "R",
   "pygments_lexer": "r",
   "version": "4.1.2"
  }
 },
 "nbformat": 4,
 "nbformat_minor": 5
}
