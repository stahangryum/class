{
 "cells": [
  {
   "cell_type": "markdown",
   "id": "0cdc0f89-d46a-4824-b0d9-2a8fd9f9d139",
   "metadata": {},
   "source": [
    "# EDA HIGHLIGHT\n",
    "\n",
    "- toc: true\n",
    "- branch: master\n",
    "- badges: true\n",
    "- comments: true\n",
    "- author: Kim Jeewoo\n",
    "- categories: [EDA, R]\n",
    "- image: images/numpy_logo.png"
   ]
  },
  {
   "cell_type": "code",
   "execution_count": 11,
   "id": "177c8a2f-ba0d-4b9f-8bc2-b9e6ccd1c3f2",
   "metadata": {},
   "outputs": [
    {
     "name": "stderr",
     "output_type": "stream",
     "text": [
      "Warning message:\n",
      "\"패키지 'tidyverse'는 R 버전 4.1.3에서 작성되었습니다\"\n",
      "-- \u001b[1mAttaching packages\u001b[22m ------------------------------------------------------------------------------- tidyverse 1.3.1 --\n",
      "\n",
      "\u001b[32mv\u001b[39m \u001b[34mggplot2\u001b[39m 3.3.5     \u001b[32mv\u001b[39m \u001b[34mpurrr  \u001b[39m 0.3.4\n",
      "\u001b[32mv\u001b[39m \u001b[34mtibble \u001b[39m 3.1.6     \u001b[32mv\u001b[39m \u001b[34mdplyr  \u001b[39m 1.0.8\n",
      "\u001b[32mv\u001b[39m \u001b[34mtidyr  \u001b[39m 1.2.0     \u001b[32mv\u001b[39m \u001b[34mstringr\u001b[39m 1.4.0\n",
      "\u001b[32mv\u001b[39m \u001b[34mreadr  \u001b[39m 2.1.2     \u001b[32mv\u001b[39m \u001b[34mforcats\u001b[39m 0.5.1\n",
      "\n",
      "Warning message:\n",
      "\"패키지 'ggplot2'는 R 버전 4.1.3에서 작성되었습니다\"\n",
      "Warning message:\n",
      "\"패키지 'tibble'는 R 버전 4.1.3에서 작성되었습니다\"\n",
      "Warning message:\n",
      "\"패키지 'tidyr'는 R 버전 4.1.3에서 작성되었습니다\"\n",
      "Warning message:\n",
      "\"패키지 'readr'는 R 버전 4.1.3에서 작성되었습니다\"\n",
      "Warning message:\n",
      "\"패키지 'purrr'는 R 버전 4.1.3에서 작성되었습니다\"\n",
      "Warning message:\n",
      "\"패키지 'dplyr'는 R 버전 4.1.3에서 작성되었습니다\"\n",
      "Warning message:\n",
      "\"패키지 'stringr'는 R 버전 4.1.3에서 작성되었습니다\"\n",
      "Warning message:\n",
      "\"패키지 'forcats'는 R 버전 4.1.3에서 작성되었습니다\"\n",
      "-- \u001b[1mConflicts\u001b[22m ---------------------------------------------------------------------------------- tidyverse_conflicts() --\n",
      "\u001b[31mx\u001b[39m \u001b[34mdplyr\u001b[39m::\u001b[32mfilter()\u001b[39m masks \u001b[34mstats\u001b[39m::filter()\n",
      "\u001b[31mx\u001b[39m \u001b[34mdplyr\u001b[39m::\u001b[32mlag()\u001b[39m    masks \u001b[34mstats\u001b[39m::lag()\n",
      "\n"
     ]
    }
   ],
   "source": [
    "library(tidyverse)"
   ]
  },
  {
   "cell_type": "markdown",
   "id": "b747ecba-a2b2-49ec-960d-88c3dbe429b8",
   "metadata": {},
   "source": [
    "# Ch.1 R Language"
   ]
  },
  {
   "cell_type": "markdown",
   "id": "3ed57684-79f5-460b-9d81-b08b0375312d",
   "metadata": {},
   "source": [
    "- 생략"
   ]
  },
  {
   "cell_type": "markdown",
   "id": "5b3a28e8-480c-4c95-b4f4-97757e93d225",
   "metadata": {},
   "source": [
    "# Ch.2 Introduction to EDA"
   ]
  },
  {
   "cell_type": "markdown",
   "id": "eefe12bb-845d-4d70-bba3-da724f4bfb3d",
   "metadata": {},
   "source": [
    "자료분석은 대체로 두 가지 단계로 나뉜다.\n",
    "\n",
    "- 탐색적 자료분석(데이터의 구조와 특징 파악)\n",
    "\n",
    "- 확증적 자료분석(모형, 재현성 평가)"
   ]
  },
  {
   "cell_type": "markdown",
   "id": "27c0f468-ae05-48da-899f-017b7c0364b1",
   "metadata": {},
   "source": [
    "## EDA(Exploratory Data Analysis)"
   ]
  },
  {
   "cell_type": "markdown",
   "id": "2334cd0d-33ef-4a6c-9076-ce713ca131e8",
   "metadata": {},
   "source": [
    "- EDA는 데이터 특징과 내재하는 구조적 관계를 알아내기 위한 기법들을 통칭한다.\n",
    "\n",
    "- 데이터를 특정한 모형에 적합시키기 보다는 데이터를 있는 그대로 보려는 데에 중점을 둔다."
   ]
  },
  {
   "cell_type": "markdown",
   "id": "d59b635b-0b13-49c9-9be3-d30cdd2537f0",
   "metadata": {},
   "source": [
    "## 4 Themes"
   ]
  },
  {
   "cell_type": "markdown",
   "id": "c81462df-e59e-4235-911e-6dc5ee6e8b29",
   "metadata": {},
   "source": [
    "EDA에서는 네 가지 주제가 때로는 홀로, 때로는 얽혀서 나타난다.\n",
    "\n",
    "- 저항성(resistance)의 강조(예를 들어 평균보다는 일부자료의 파손에 저항적인 중위수가 바람직한 대표값 측도로서 선호된다.)\n",
    "\n",
    "- 잔차(residual) 계산\n",
    "\n",
    "- 자료변수의 재표현(re-expression)을 통한 다각적 시도\n",
    "\n",
    "- 그래프를 통한 현시성(revelation)"
   ]
  },
  {
   "cell_type": "markdown",
   "id": "6820facf-71a7-4f64-9581-1c28bda58351",
   "metadata": {},
   "source": [
    "## Summary (2)"
   ]
  },
  {
   "cell_type": "markdown",
   "id": "3c775f80-1ee1-4f85-8bd5-988d75ee9f22",
   "metadata": {},
   "source": [
    "- 자료분석은 탐색적 자료분석과 확증적 자료분석의 두 단계로 나눌 수 있다.\n",
    "\n",
    "- EDA는 자료의 구조 및 특징의 파악을 목적으로 한다. 이를 위하여 효과적이고 신뢰성 있는 데이터의 요약과 그래프적 기법이 사용된다.\n",
    "\n",
    "- EDA의 네 개 주제는 저항성, 잔차, 재표현, 현시성이다.\n",
    "\n",
    "- 통계적 모형은 '진실'로서가 아니라 '주요 사례'로서 의미가 있다. 또한 모형과 데이터는 일방통행이 아닌 쌍방통행으로 이해되어야 한다. 데이터와 분석도 사이클을 이룬다."
   ]
  },
  {
   "cell_type": "markdown",
   "id": "953f09d9-3ad7-459b-b30e-4e5563198d86",
   "metadata": {},
   "source": [
    "# Ch.3 Stem and Leaf"
   ]
  },
  {
   "cell_type": "markdown",
   "id": "bfb2cf48-16a7-4cc8-8881-898c15a20603",
   "metadata": {},
   "source": [
    "## Stem and Leaf"
   ]
  },
  {
   "cell_type": "markdown",
   "id": "d135aa89-e3a1-4150-97ea-908aa7995e59",
   "metadata": {},
   "source": [
    "데이터의 값을 십 단위인 줄기(stem)와 일 단위인 잎(leaf)으로 분리한다."
   ]
  },
  {
   "cell_type": "markdown",
   "id": "d888772f-aa09-4e46-81c8-4e5bbab1469a",
   "metadata": {},
   "source": [
    "`-` 장점\n",
    "\n",
    "- 사분위수나 중앙값을 찾기 쉽다.\n",
    "\n",
    "- 분포의 전체적인 모양(봉우리 개수, 대칭분포, 치우친 방향)을 쉽게 알 수 있다.\n",
    "\n",
    "- 이상값 유무를 파악할 수 있다.\n",
    "\n",
    "`-` 단점\n",
    "\n",
    "- 자료가 많은 경우에는 부적합하고 자료의 수가 50개 이하일 때 적합하다."
   ]
  },
  {
   "cell_type": "code",
   "execution_count": 35,
   "id": "bde12b7b-0ee0-4e81-bfe5-661242504a40",
   "metadata": {},
   "outputs": [
    {
     "data": {
      "text/html": [
       "<table class=\"dataframe\">\n",
       "<caption>A data.frame: 6 × 2</caption>\n",
       "<thead>\n",
       "\t<tr><th></th><th scope=col>hw</th><th scope=col>score</th></tr>\n",
       "\t<tr><th></th><th scope=col>&lt;int&gt;</th><th scope=col>&lt;int&gt;</th></tr>\n",
       "</thead>\n",
       "<tbody>\n",
       "\t<tr><th scope=row>1</th><td>0</td><td>54</td></tr>\n",
       "\t<tr><th scope=row>2</th><td>0</td><td>51</td></tr>\n",
       "\t<tr><th scope=row>3</th><td>1</td><td>52</td></tr>\n",
       "\t<tr><th scope=row>4</th><td>0</td><td>82</td></tr>\n",
       "\t<tr><th scope=row>5</th><td>1</td><td>37</td></tr>\n",
       "\t<tr><th scope=row>6</th><td>1</td><td>41</td></tr>\n",
       "</tbody>\n",
       "</table>\n"
      ],
      "text/latex": [
       "A data.frame: 6 × 2\n",
       "\\begin{tabular}{r|ll}\n",
       "  & hw & score\\\\\n",
       "  & <int> & <int>\\\\\n",
       "\\hline\n",
       "\t1 & 0 & 54\\\\\n",
       "\t2 & 0 & 51\\\\\n",
       "\t3 & 1 & 52\\\\\n",
       "\t4 & 0 & 82\\\\\n",
       "\t5 & 1 & 37\\\\\n",
       "\t6 & 1 & 41\\\\\n",
       "\\end{tabular}\n"
      ],
      "text/markdown": [
       "\n",
       "A data.frame: 6 × 2\n",
       "\n",
       "| <!--/--> | hw &lt;int&gt; | score &lt;int&gt; |\n",
       "|---|---|---|\n",
       "| 1 | 0 | 54 |\n",
       "| 2 | 0 | 51 |\n",
       "| 3 | 1 | 52 |\n",
       "| 4 | 0 | 82 |\n",
       "| 5 | 1 | 37 |\n",
       "| 6 | 1 | 41 |\n",
       "\n"
      ],
      "text/plain": [
       "  hw score\n",
       "1 0  54   \n",
       "2 0  51   \n",
       "3 1  52   \n",
       "4 0  82   \n",
       "5 1  37   \n",
       "6 1  41   "
      ]
     },
     "metadata": {},
     "output_type": "display_data"
    }
   ],
   "source": [
    "exam1 = read.table('dataset/EDA/exam1.txt', header = TRUE)\n",
    "head(exam1)"
   ]
  },
  {
   "cell_type": "code",
   "execution_count": 13,
   "id": "7fdd9ef2-3285-4c04-ba30-9b4588033b63",
   "metadata": {},
   "outputs": [
    {
     "name": "stdout",
     "output_type": "stream",
     "text": [
      "\n",
      "  The decimal point is 1 digit(s) to the right of the |\n",
      "\n",
      "  0 | 00\n",
      "  1 | 058\n",
      "  2 | 1333458889\n",
      "  3 | 0355789\n",
      "  4 | 11133456678\n",
      "  5 | 11122233344456688\n",
      "  6 | 147779\n",
      "  7 | 33478\n",
      "  8 | 29\n",
      "  9 | 09\n",
      "\n"
     ]
    }
   ],
   "source": [
    "stem(exam1$score)"
   ]
  },
  {
   "cell_type": "markdown",
   "id": "08f25cb6-0cd8-4b6d-ad57-7efcec31d9c4",
   "metadata": {},
   "source": [
    "- 이 줄기그림의 주요 특징은 이봉분포의 모습을 보인다는 점이다. 이것은 자료가 2개의 군집으로 되어 있음을 말한다."
   ]
  },
  {
   "cell_type": "code",
   "execution_count": 22,
   "id": "7f252d21-4ad8-4d15-925a-697b8024de58",
   "metadata": {},
   "outputs": [
    {
     "name": "stdout",
     "output_type": "stream",
     "text": [
      "\n",
      "  The decimal point is 1 digit(s) to the right of the |\n",
      "\n",
      "  0 | 00\n",
      "  1 | 05\n",
      "  2 | 13334589\n",
      "  3 | 0355\n",
      "  4 | 13378\n",
      "  5 | 122333446\n",
      "  6 | 4\n",
      "  7 | 3\n",
      "  8 | 29\n",
      "\n",
      "\n",
      "  The decimal point is 1 digit(s) to the right of the |\n",
      "\n",
      "  1 | 8\n",
      "  2 | 88\n",
      "  3 | 789\n",
      "  4 | 114566\n",
      "  5 | 11245688\n",
      "  6 | 17779\n",
      "  7 | 3478\n",
      "  8 | \n",
      "  9 | 09\n",
      "\n"
     ]
    }
   ],
   "source": [
    "# 과제 제출 여부에 따른 시험 점수\n",
    "\n",
    "exam1[exam1$hw == 0, ]$score %>% stem # 과제 미제출자\n",
    "exam1[exam1$hw == 1, ]$score %>% stem # 과제 제출자"
   ]
  },
  {
   "cell_type": "markdown",
   "id": "84a12475-74dc-42aa-8792-83095a0e5b4c",
   "metadata": {},
   "source": [
    "과제 제출 여부에 따라서 줄기-잎 그림을 두 개 그려본 결과 흥미로운 점을 확인했다.\n",
    "\n",
    "과제 미제출자에 경우 여전히 이봉분포를 띄고 있으나 과제 제출자의 경우 단봉분포를 띄고 있다.\n",
    "\n",
    "이것은 과제물 미제출 그룹이 서로 이질적인 어떤 두 집단(50점대를 중심으로 하는 집단과 20점대를 중심으로 하는 집단)의 혼합임을 말하여 준다.\n",
    "\n",
    "아마 전자는 학업습관이 불성실하나 학업능력은 우수한 집단이고 후자는 학업습관과 학업능력 모두 좋지 않은 학생들의 집단이 아닐까 생각해본다."
   ]
  },
  {
   "cell_type": "markdown",
   "id": "fd728172-567e-4266-9265-2b13b9511fa9",
   "metadata": {},
   "source": [
    "> Tip : R에서 줄기 수를 줄이거나 늘이려면 stem() 함수 내 scale 파라미터를 조정하면 된다."
   ]
  },
  {
   "cell_type": "code",
   "execution_count": 25,
   "id": "227dae9b-0dab-4208-a7af-cf98ac77fb46",
   "metadata": {},
   "outputs": [
    {
     "name": "stdout",
     "output_type": "stream",
     "text": [
      "\n",
      "  The decimal point is 1 digit(s) to the right of the |\n",
      "\n",
      "  0 | 00058\n",
      "  2 | 13334588890355789\n",
      "  4 | 1113345667811122233344456688\n",
      "  6 | 14777933478\n",
      "  8 | 2909\n",
      "\n"
     ]
    }
   ],
   "source": [
    "stem(exam1$score, scale = 0.5) # 줄기 수를 절반으로 줄인다."
   ]
  },
  {
   "cell_type": "markdown",
   "id": "e53c38a5-d0d9-4d50-b36a-f166292953b0",
   "metadata": {},
   "source": [
    "이 줄기 그림은 단봉분포의 형태를 취한다. 이것은 너무 단순하여 이 자료의 주요 특성을 잃은 것으로 볼 수 있다. \n",
    "\n",
    "즉 2개의 봉우리를 구분하지 못하고 1개만 본 것이다."
   ]
  },
  {
   "cell_type": "code",
   "execution_count": 26,
   "id": "7b352c4d-1c0c-46d3-a504-484cb6cc1774",
   "metadata": {},
   "outputs": [
    {
     "name": "stdout",
     "output_type": "stream",
     "text": [
      "\n",
      "  The decimal point is 1 digit(s) to the right of the |\n",
      "\n",
      "  0 | 00\n",
      "  0 | \n",
      "  1 | 0\n",
      "  1 | 58\n",
      "  2 | 13334\n",
      "  2 | 58889\n",
      "  3 | 03\n",
      "  3 | 55789\n",
      "  4 | 111334\n",
      "  4 | 56678\n",
      "  5 | 111222333444\n",
      "  5 | 56688\n",
      "  6 | 14\n",
      "  6 | 7779\n",
      "  7 | 334\n",
      "  7 | 78\n",
      "  8 | 2\n",
      "  8 | 9\n",
      "  9 | 0\n",
      "  9 | 9\n",
      "\n"
     ]
    }
   ],
   "source": [
    "stem(exam1$score, scale = 2) # 줄기 수를 두 배로 늘인다."
   ]
  },
  {
   "cell_type": "markdown",
   "id": "07ff5989-f6e4-419d-86dc-878aeabb538c",
   "metadata": {},
   "source": [
    "줄기 수를 늘였더니 더 많은 봉우리를 볼 수 있다.\n",
    "\n",
    "일반적으로 줄기 수를 늘이면 늘일수록 많은 수의 봉우리를 보게 되고 그 반대로 줄기 수를 줄이면 줄일수록 적은 수의 봉우리를 보게 된다."
   ]
  },
  {
   "cell_type": "markdown",
   "id": "ab0272e1-d8a5-40b0-9827-5353f3212d07",
   "metadata": {},
   "source": [
    "## Compared with Histogram"
   ]
  },
  {
   "cell_type": "code",
   "execution_count": 29,
   "id": "15c048b8-1241-432f-a9bb-cc80f53963df",
   "metadata": {},
   "outputs": [
    {
     "data": {
      "image/png": "[encoded data removed]",
      "text/plain": [
       "Plot with title \"Histogram of exam1$score\""
      ]
     },
     "metadata": {
      "image/png": {
       "height": 420,
       "width": 420
      }
     },
     "output_type": "display_data"
    }
   ],
   "source": [
    "hist(exam1$score)"
   ]
  },
  {
   "cell_type": "markdown",
   "id": "f6e0c768-9a35-4981-8440-5189b75f36d7",
   "metadata": {},
   "source": [
    "|        |줄기 - 잎|히스토그램|\n",
    "|--------|--------|----------|\n",
    "|정보 손실|손실되지 않음|손실됨|\n",
    "|줄기 수 변환|쉬움|어려움|\n",
    "|구간의 폭|조정 불가능|조정 가능|"
   ]
  },
  {
   "cell_type": "markdown",
   "id": "a130eca1-83c7-4ee0-9124-c5022716acae",
   "metadata": {},
   "source": [
    "## Summary (3)"
   ]
  },
  {
   "cell_type": "markdown",
   "id": "27f91a75-32c1-4d4f-a967-26ea6a11224e",
   "metadata": {},
   "source": [
    "- 줄기 그림은 히스토그램과 마찬가지로 자료 분포의 특성을 그래프화한 것이다. 줄기 그림은 히스토그램에 비하여 정보의 보전 면에서 우수하며 쉽게 구간(줄기) 수를 늘이거나 줄일 수 있다. 그러나 구간(줄기)의 선정시 제약이 따른다.\n",
    "\n",
    "- 적절한 줄기 그림을 그리기 위하여 여러 개의 그림을 그려보고 비교해 보아야 한다. 계획된 시행착오가 필요하다.\n",
    "\n",
    "- 줄기 그림에서는 다음과 같은 자료의 특성을 관찰할 수 있다.\n",
    "\n",
    "  - 군집의 수\n",
    "  - 집중도가 높은 구간\n",
    "  - 대칭성 여부\n",
    "  - 자료의 범위 및 산포\n",
    "  - 특이점의 존재여부"
   ]
  },
  {
   "cell_type": "markdown",
   "id": "9958f8d9-8298-41a9-92bb-0b9c646d7747",
   "metadata": {},
   "source": [
    "# Ch.4 Numerical Summary and Box Plot"
   ]
  },
  {
   "cell_type": "markdown",
   "id": "ab2e30f1-6b8f-4f12-a413-c8eac369147a",
   "metadata": {
    "tags": []
   },
   "source": [
    "## Mean and Median"
   ]
  },
  {
   "cell_type": "markdown",
   "id": "5166241e-aa6e-4430-a804-47df487c948d",
   "metadata": {},
   "source": [
    "![](https://miro.medium.com/max/754/0*wHMvuwRa_YF9SFwY.png)"
   ]
  },
  {
   "cell_type": "markdown",
   "id": "783c46e4-1257-46e0-a117-88a93a360e34",
   "metadata": {},
   "source": [
    "- 한 쪽 꼬리가 긴 분포에서 평균값은 쉽게 휘둘리지만 중앙값은 쉽게 휘둘리지 않다. 따라서 중앙값이 대표값으로서 적합하다."
   ]
  },
  {
   "cell_type": "markdown",
   "id": "71b13e00-1553-4c48-8bdf-fde85697d2be",
   "metadata": {},
   "source": [
    "$\\begin{cases}\n",
    "X_{\\frac{N+1}{2}} \\qquad if N = odd\\\\ \\\\\n",
    "\\dfrac{X_{\\frac{N}{2}} + X_{\\frac{N}{2} + 1}}{2} \\qquad if N = even\n",
    "\\end{cases}$\n",
    "\n",
    "중간값의 깊이 $d(M)$은\n",
    "\n",
    "$d(M) = \\dfrac{(N+1)}{2}$"
   ]
  },
  {
   "cell_type": "markdown",
   "id": "9be6ed6f-71a3-4b6c-a7f7-9e2e1ddad4fb",
   "metadata": {},
   "source": [
    "## Five Number Summary"
   ]
  },
  {
   "cell_type": "markdown",
   "id": "7b0d2c4e-3f48-47ae-96f0-c011a037db4d",
   "metadata": {},
   "source": [
    "아래 4분위수 : $H_L$\n",
    "중간값 : $M$\n",
    "위 4분위수 : $H_U$"
   ]
  },
  {
   "cell_type": "markdown",
   "id": "b3383f12-2b76-438e-8c22-8dd4227cbf85",
   "metadata": {},
   "source": [
    "**다섯 숫자 요약 = (min, $H_L, M, H_U$, max) = (최솟값, 제 1사분위수, 중앙값, 제 3사분위수, 최댓값)**"
   ]
  },
  {
   "cell_type": "code",
   "execution_count": 41,
   "id": "4fc589bb-eb68-4563-87ea-01b8cddfe5d5",
   "metadata": {},
   "outputs": [
    {
     "data": {
      "text/plain": [
       "   Min. 1st Qu.  Median    Mean 3rd Qu.    Max. \n",
       "   0.00   33.00   48.00   47.23   58.00   99.00 "
      ]
     },
     "metadata": {},
     "output_type": "display_data"
    }
   ],
   "source": [
    "summary(exam1$score)"
   ]
  },
  {
   "cell_type": "markdown",
   "id": "92fceb91-4525-40b7-8cd5-7aa0dec05c02",
   "metadata": {},
   "source": [
    "## Skewness"
   ]
  },
  {
   "cell_type": "markdown",
   "id": "8acb9359-5504-485b-bd78-eac08737f541",
   "metadata": {},
   "source": [
    "**왜도** **=** $SKEW = \\dfrac{(H_U - M) - (M - H_L)}{(H_U - M) + (M - H_L)}$"
   ]
  },
  {
   "cell_type": "markdown",
   "id": "0b2a3f9f-afb6-4f41-ad18-520f0eed36c5",
   "metadata": {},
   "source": [
    "**왜도** < 0 이면 왼쪽으로 기울어진 분포\n",
    "\n",
    "**왜도** > 0 이면 오른쪽으로 기울어진 분포"
   ]
  },
  {
   "cell_type": "markdown",
   "id": "5de326ae-c24f-4970-bcf2-c36b149254ee",
   "metadata": {},
   "source": [
    "## Quantiles"
   ]
  },
  {
   "cell_type": "code",
   "execution_count": 97,
   "id": "67f4f6e0-bb43-4f1f-936a-afbd6f645d5d",
   "metadata": {},
   "outputs": [
    {
     "data": {
      "text/html": [
       "<table class=\"dataframe\">\n",
       "<caption>A matrix: 4 × 4 of type dbl</caption>\n",
       "<thead>\n",
       "\t<tr><th></th><th scope=col>low</th><th scope=col>high</th><th scope=col>mid</th><th scope=col>spr</th></tr>\n",
       "</thead>\n",
       "<tbody>\n",
       "\t<tr><th scope=row>M</th><td>48.00</td><td>48.00</td><td>48.00</td><td> 0.00</td></tr>\n",
       "\t<tr><th scope=row>H</th><td>32.00</td><td>58.00</td><td>45.00</td><td>26.00</td></tr>\n",
       "\t<tr><th scope=row>E</th><td>23.00</td><td>73.00</td><td>48.00</td><td>50.00</td></tr>\n",
       "\t<tr><th scope=row>D</th><td>16.25</td><td>80.33</td><td>48.29</td><td>64.08</td></tr>\n",
       "</tbody>\n",
       "</table>\n"
      ],
      "text/latex": [
       "A matrix: 4 × 4 of type dbl\n",
       "\\begin{tabular}{r|llll}\n",
       "  & low & high & mid & spr\\\\\n",
       "\\hline\n",
       "\tM & 48.00 & 48.00 & 48.00 &  0.00\\\\\n",
       "\tH & 32.00 & 58.00 & 45.00 & 26.00\\\\\n",
       "\tE & 23.00 & 73.00 & 48.00 & 50.00\\\\\n",
       "\tD & 16.25 & 80.33 & 48.29 & 64.08\\\\\n",
       "\\end{tabular}\n"
      ],
      "text/markdown": [
       "\n",
       "A matrix: 4 × 4 of type dbl\n",
       "\n",
       "| <!--/--> | low | high | mid | spr |\n",
       "|---|---|---|---|---|\n",
       "| M | 48.00 | 48.00 | 48.00 |  0.00 |\n",
       "| H | 32.00 | 58.00 | 45.00 | 26.00 |\n",
       "| E | 23.00 | 73.00 | 48.00 | 50.00 |\n",
       "| D | 16.25 | 80.33 | 48.29 | 64.08 |\n",
       "\n"
      ],
      "text/plain": [
       "  low   high  mid   spr  \n",
       "M 48.00 48.00 48.00  0.00\n",
       "H 32.00 58.00 45.00 26.00\n",
       "E 23.00 73.00 48.00 50.00\n",
       "D 16.25 80.33 48.29 64.08"
      ]
     },
     "metadata": {},
     "output_type": "display_data"
    }
   ],
   "source": [
    "low = quantile(exam1$score, c(1/2, 1/4, 1/8, 1/16), type = 8) %>% as.numeric %>% round(2)# 중간값, 아래 4분위수, 아래 8분위수, 아래 16분위수\n",
    "high = quantile(exam1$score, c(1/2, 3/4, 7/8, 15/16), type = 8) %>% as.numeric %>% round(2) # 중간값, 위 4분위수, 위 8분위수, 위 16분위수\n",
    "\n",
    "values = cbind(low, high, (low+high)/2, high-low)\n",
    "colnames(values) = c('low', 'high', 'mid', 'spr')\n",
    "rownames(values) = c('M', 'H', 'E', 'D')\n",
    "\n",
    "values"
   ]
  },
  {
   "cell_type": "markdown",
   "id": "23c196a8-3d19-4a77-ad86-07e02f4de154",
   "metadata": {},
   "source": [
    "## KURTO"
   ]
  },
  {
   "cell_type": "code",
   "execution_count": null,
   "id": "044b0cc0-6276-4b05-a283-b999dfba0d8b",
   "metadata": {},
   "outputs": [],
   "source": []
  },
  {
   "cell_type": "code",
   "execution_count": null,
   "id": "fc7c9156-97ac-4b04-9601-f7f2625d3aed",
   "metadata": {},
   "outputs": [],
   "source": []
  },
  {
   "cell_type": "code",
   "execution_count": null,
   "id": "dc9e82e3-92d7-417a-a171-44797f4b6d8a",
   "metadata": {},
   "outputs": [],
   "source": []
  },
  {
   "cell_type": "markdown",
   "id": "c404e389-87aa-4f71-aaac-5be22fd6e58c",
   "metadata": {},
   "source": [
    "# Ch.5 Data Re-Expression"
   ]
  },
  {
   "cell_type": "markdown",
   "id": "b82f0d4d-4ac1-4f95-bac0-a7db8a17e159",
   "metadata": {},
   "source": [
    "## 멱승, 로그, 지수 변환에 의한 재표현"
   ]
  },
  {
   "cell_type": "markdown",
   "id": "ef19a8b0-326c-413b-82f5-caed9c5720cf",
   "metadata": {},
   "source": [
    "## Standardization"
   ]
  },
  {
   "cell_type": "markdown",
   "id": "b25fbdad-b3d5-4778-93c4-d1ff919ec64f",
   "metadata": {},
   "source": [
    "- 표준화 변환이란 통상적으로 한 자료묶음의 `평균이 0, 표준편차가 1이 되도록 하는 선형변환`을 말한다."
   ]
  },
  {
   "cell_type": "markdown",
   "id": "96d2da0f-d3e2-40a2-84b6-fbac3843bb22",
   "metadata": {},
   "source": [
    "$x_1, x_2, \\dots, x_n$을 자료 값이라고 할 때 이것의 표준화변환 $z_1, z_2, \\dots, z_n$은 다음과 같이 정한다.\n",
    "\n",
    "$z_i = \\dfrac{x_i - \\bar{x}}{s_x}, \\, i = 1,2, \\dots,n. \\qquad(1)$"
   ]
  },
  {
   "cell_type": "markdown",
   "id": "0493eb93-d571-4fbb-9c56-34d05f922656",
   "metadata": {},
   "source": [
    "그런데 (1)은 로버스트하지 않은 $\\bar{x}$와 $s_x$에 의존하므로 EDA의 관점에서는 믿고 사용하기 어렵다. [^1]\n",
    "\n",
    "- 왜냐하면 표본평균과 표본표준편차는 극단적인 이상점에 의해 크게 변동될 수 있기 때문이다.\n",
    "- 그러나 중앙값 또는 사분위수범위(IQR)은 비교적 로버스트하다. "
   ]
  },
  {
   "cell_type": "markdown",
   "id": "de8bd618-90ec-491e-8ac0-6b74a3cd5b68",
   "metadata": {},
   "source": [
    "즉, 평균 $\\bar{x}$ 대신에 중앙값 $med_x$를, 표준편차 $s_x$ 대신에 사분위수범위 $IQR$을 보정한 $\\tilde{\\sigma_x} = \\dfrac{IQR}{1.35}$을 쓰는 것이 좋을 것이다.\n",
    "\n",
    "따라서 로버스트 표준화 변환은 다음과 같다.\n",
    "\n",
    "$\\bar{z_i} = \\dfrac{x_i - med_x}{\\tilde{\\sigma_x}}\\, i = 1,2, \\dots,n. \\qquad(1)$"
   ]
  },
  {
   "cell_type": "markdown",
   "id": "de80529c-de11-4fcd-8417-c3159d96bf55",
   "metadata": {},
   "source": [
    "표준화 변환을 사용하는 예시 상황은 다음과 같다."
   ]
  },
  {
   "cell_type": "code",
   "execution_count": 1,
   "id": "c75baec7-ef75-496e-a90f-acefb6aa5020",
   "metadata": {},
   "outputs": [
    {
     "name": "stdout",
     "output_type": "stream",
     "text": [
      "[1] \"A 그룹 학생 100명의 시험 X 점수는 N(40,10)으로부터 생성되었다.\"\n",
      "[1] \"B 그룹 학생 90명의 시험 Y 점수는 N(40,10)으로부터, 나머지 10명의 시험 Y 점수 N(80,5)으로부터 생성되었다.\"\n"
     ]
    }
   ],
   "source": [
    "#hide_input\n",
    "print('A 그룹 학생 100명의 시험 X 점수는 N(40,10)으로부터 생성되었다.')\n",
    "print('B 그룹 학생 90명의 시험 Y 점수는 N(40,10)으로부터, 나머지 10명의 시험 Y 점수 N(80,5)으로부터 생성되었다.')"
   ]
  },
  {
   "cell_type": "code",
   "execution_count": 22,
   "id": "45ca0543-9405-4982-b8e9-85bcf13910c3",
   "metadata": {},
   "outputs": [
    {
     "data": {
      "image/png": "[encoded data removed]",
      "text/plain": [
       "Plot with title \"Standardized Y\""
      ]
     },
     "metadata": {
      "image/png": {
       "height": 420,
       "width": 420
      }
     },
     "output_type": "display_data"
    }
   ],
   "source": [
    "# 표준화 변환\n",
    "\n",
    "par(mfrow = c(1,2))\n",
    "X_group <- rnorm(100, 40, 10)\n",
    "Y_group <- c(rnorm(90,40,10), rnorm(10,80,5))\n",
    "\n",
    "z_X <- (X_group-mean(X_group))/sd(X_group)\n",
    "z_Y <- (Y_group-mean(Y_group))/sd(Y_group)\n",
    "hist(z_X, breaks = seq(-6, 6, 0.5), freq = F, ylim = c(0, 0.7), main = 'Standardized X')\n",
    "hist(z_Y, breaks = seq(-6, 6, 0.5), freq = F, ylim = c(0, 0.7), main = 'Standardized Y')"
   ]
  },
  {
   "cell_type": "code",
   "execution_count": 23,
   "id": "b0438ea3-fd9d-4d0a-ad99-567dd62fa7d6",
   "metadata": {},
   "outputs": [
    {
     "data": {
      "image/png": "[encoded data removed]",
      "text/plain": [
       "Plot with title \"Robust Standardized Y\""
      ]
     },
     "metadata": {
      "image/png": {
       "height": 420,
       "width": 420
      }
     },
     "output_type": "display_data"
    }
   ],
   "source": [
    "# 로버스트 표준화 변환\n",
    "\n",
    "par(mfrow = c(1,2))\n",
    "robust_z_X <- (X_group-median(X_group))/(IQR(X_group)/1.35)\n",
    "robust_z_Y <- (Y_group-median(Y_group))/(IQR(Y_group)/1.35)\n",
    "hist(robust_z_X, breaks = seq(-6, 6, 0.5), freq = F, ylim = c(0, 0.7), main = 'Robust Standardized X')\n",
    "hist(robust_z_Y, breaks = seq(-6, 6, 0.5), freq = F, ylim = c(0, 0.7), main = 'Robust Standardized Y')"
   ]
  },
  {
   "cell_type": "markdown",
   "id": "e445f27d-e46e-4334-9d8c-f278f3c4b93d",
   "metadata": {},
   "source": [
    "## Summary (5)"
   ]
  },
  {
   "cell_type": "markdown",
   "id": "f86807b1-4c4a-4f04-9b1e-36bfbbbaba51",
   "metadata": {},
   "source": [
    "- 선형변환 $ax+b\\, (a > 0)$은 분포의 형태를 바꾸지 않는다. 그러나 비선형변환은 분포의 형태를 바꾼다."
   ]
  },
  {
   "cell_type": "markdown",
   "id": "89338000-992f-4108-8558-6894fbe0f4a8",
   "metadata": {},
   "source": [
    "- 변환의 사다리는 $x^p$ 꼴의 파워(power, 멱승)형 변환을 일컫는데 변환의 사다리를 내려가면 $(p < 1)$ 오른쪽 꼬리가 짧아진다. $p=0$에 해당하는 변환은 로그변환이다."
   ]
  },
  {
   "cell_type": "markdown",
   "id": "3427d912-7625-4c1a-be69-eab01938336d",
   "metadata": {},
   "source": [
    "- 자료의 재표현은 분포의 대칭화를 위하여, 또는 자료묶음들의 산포를 균일화하기 위한 목적으로 실행된다."
   ]
  },
  {
   "cell_type": "markdown",
   "id": "7763fa4a-638c-4f9e-b7a7-908a57fa40fa",
   "metadata": {},
   "source": [
    "- 자료의 재표현은 자료 해석을 풍부하게 한다."
   ]
  },
  {
   "cell_type": "markdown",
   "id": "68128e25-a2bd-4dca-9c02-625ce6ea934c",
   "metadata": {},
   "source": [
    "# Ch.6 QQ-Plot"
   ]
  },
  {
   "cell_type": "code",
   "execution_count": null,
   "id": "551c4f9c-75ff-46e4-9588-3eb23e6ca9e8",
   "metadata": {},
   "outputs": [],
   "source": []
  },
  {
   "cell_type": "markdown",
   "id": "4d997a5e-c3be-4fe9-a7c5-f56b56d6ddc9",
   "metadata": {},
   "source": [
    "## Various Patterns"
   ]
  },
  {
   "cell_type": "markdown",
   "id": "d1ccb379-0d42-4e60-b7fc-1286bf01d6c5",
   "metadata": {},
   "source": [
    "### Normal Distribution\n",
    "\n",
    "- 정규분포로부터의 모의생성 자료에 대한 정규확률 플롯\n",
    "  - 대체로 직선적인 경향선을 확인할 수 있다.\n",
    "  - 직선의 절편과 기울기가 각각 100과 15 근처임을 확인할 수 있다."
   ]
  },
  {
   "cell_type": "code",
   "execution_count": 15,
   "id": "f7415c1c-6812-4533-b5f7-a10bdca4f588",
   "metadata": {},
   "outputs": [
    {
     "data": {
      "image/png": "[encoded data removed]",
      "text/plain": [
       "Plot with title \"Normal Q-Q Plot\""
      ]
     },
     "metadata": {
      "image/png": {
       "height": 420,
       "width": 420
      }
     },
     "output_type": "display_data"
    }
   ],
   "source": [
    "par(mfrow = c(1,2))\n",
    "x1 <- rnorm(40, 100, 15)\n",
    "qqnorm(x1)\n",
    "qqline(x1)\n",
    "\n",
    "x2 <- rnorm(4000, 100, 15)\n",
    "qqnorm(x2)\n",
    "qqline(x2)"
   ]
  },
  {
   "cell_type": "markdown",
   "id": "57273441-15e3-47d6-9ce2-985699b1d7a2",
   "metadata": {},
   "source": [
    "### Mixture Normal Distribution\n",
    "\n",
    "- 혼합 정규분포로부터의 모의생성 자료에 대한 정규확률 플롯\n",
    "  - 중앙에서 밀도가 낮다.\n",
    "  - 우상과 좌하 부분에서 강한 곡선성을 볼 수 있다."
   ]
  },
  {
   "cell_type": "code",
   "execution_count": 17,
   "id": "d10f7fd1-9e6d-4e7b-a0c7-035844447a9a",
   "metadata": {},
   "outputs": [
    {
     "data": {
      "image/png": "[encoded data removed]",
      "text/plain": [
       "Plot with title \"Normal Q-Q Plot\""
      ]
     },
     "metadata": {
      "image/png": {
       "height": 420,
       "width": 420
      }
     },
     "output_type": "display_data"
    }
   ],
   "source": [
    "par(mfrow = c(1,2))\n",
    "x1 <- c(rnorm(20, 70, 15), rnorm(20, 130, 15))\n",
    "qqnorm(x1)\n",
    "\n",
    "x2 <- c(rnorm(2000, 70, 15), rnorm(2000, 130, 15))\n",
    "qqnorm(x2)"
   ]
  },
  {
   "cell_type": "markdown",
   "id": "d275cd7e-a9e8-4d97-a9e5-ca8664a41e4c",
   "metadata": {},
   "source": [
    "### Data with outliers\n",
    "\n",
    "- 특이값이 내재하는 모의생성 자료에 대한 정규확률 플롯\n",
    "  - 25, 175가 이상점으로 존재한다.\n",
    "  - 25는 주경향선보다 아래에 있다.\n",
    "  - 175는 주경향선보다 위에 있다."
   ]
  },
  {
   "cell_type": "code",
   "execution_count": 34,
   "id": "d188536a-0df4-4caa-be45-74be94e7f2c4",
   "metadata": {},
   "outputs": [
    {
     "data": {
      "image/png": "[encoded data removed]",
      "text/plain": [
       "Plot with title \"Normal Q-Q Plot\""
      ]
     },
     "metadata": {
      "image/png": {
       "height": 420,
       "width": 420
      }
     },
     "output_type": "display_data"
    }
   ],
   "source": [
    "par(mfrow = c(1,2))\n",
    "x1 <- rnorm(38, 100, 15)\n",
    "outliers <- c(25, 175)\n",
    "qqnorm(c(x1, outliers))\n",
    "\n",
    "x2 <- rnorm(3800, 100, 15)\n",
    "qqnorm(c(x2, outliers))"
   ]
  },
  {
   "cell_type": "markdown",
   "id": "d3e2a7e4-0fb2-47ba-8e80-27180acd7602",
   "metadata": {},
   "source": [
    "### Short Tail\n",
    "\n",
    "- 꼬리가 짧은 분포로부터의 모의생성 자료에 대한 정규확률 플롯\n",
    "  - 플롯의 전체적 모양이 비스듬한 S자 성장곡선의 형태를 취하고 있음을 볼 수 있다."
   ]
  },
  {
   "cell_type": "code",
   "execution_count": 28,
   "id": "a5168f6c-69c3-4652-aa5e-597a24725de6",
   "metadata": {},
   "outputs": [
    {
     "data": {
      "image/png": "[encoded data removed]",
      "text/plain": [
       "Plot with title \"Normal Q-Q Plot\""
      ]
     },
     "metadata": {
      "image/png": {
       "height": 420,
       "width": 420
      }
     },
     "output_type": "display_data"
    }
   ],
   "source": [
    "par(mfrow = c(1,2))\n",
    "x1 <- runif(40, 80, 120)\n",
    "qqnorm(x1)\n",
    "\n",
    "x2 <- runif(4000, 80, 120)\n",
    "qqnorm(x2)"
   ]
  },
  {
   "cell_type": "markdown",
   "id": "2a0e43d9-258a-43a4-a204-05df5d09d3c5",
   "metadata": {},
   "source": [
    "### Long Tail\n",
    "\n",
    "- 꼬리가 긴 분포로부터의 모의생성 자료에 대한 정규확률 플롯\n",
    "  - 플롯의 전체적인 모양이 비스듬한 역 S자 성장곡선의 형태를 취하고 있음을 볼 수 있다."
   ]
  },
  {
   "cell_type": "code",
   "execution_count": 39,
   "id": "578833c6-827c-4dfc-91a1-8c18300625b5",
   "metadata": {},
   "outputs": [
    {
     "data": {
      "image/png": "[encoded data removed]",
      "text/plain": [
       "Plot with title \"Normal Q-Q Plot\""
      ]
     },
     "metadata": {
      "image/png": {
       "height": 420,
       "width": 420
      }
     },
     "output_type": "display_data"
    }
   ],
   "source": [
    "par(mfrow = c(1,2))\n",
    "x1 <- c(rexp(20,1), -rexp(20,1))\n",
    "qqnorm(x1)\n",
    "\n",
    "x2 <- c(rexp(2000,1), -rexp(2000,1))\n",
    "qqnorm(x2)"
   ]
  },
  {
   "cell_type": "markdown",
   "id": "75096aeb-3519-4c95-bf68-ca2de746f33c",
   "metadata": {},
   "source": [
    "### Right Skewed\n",
    "\n",
    "- 큰 값 쪽으로 긴 꼬리를 뻗은 기울어진 분포의 경우\n",
    "  - 비스듬히 기울어진 J자 곡선의 형태임을 볼 수 있다."
   ]
  },
  {
   "cell_type": "code",
   "execution_count": 50,
   "id": "192ebf05-c0e3-4f68-870b-086c86b2933e",
   "metadata": {},
   "outputs": [
    {
     "data": {
      "image/png": "[encoded data removed]",
      "text/plain": [
       "Plot with title \"Normal Q-Q Plot\""
      ]
     },
     "metadata": {
      "image/png": {
       "height": 420,
       "width": 420
      }
     },
     "output_type": "display_data"
    }
   ],
   "source": [
    "par(mfrow = c(1,2))\n",
    "x1 <- exp(rnorm(40, 5, 1))\n",
    "qqnorm(x1)\n",
    "\n",
    "x2 <- exp(rnorm(4000, 5, 1))\n",
    "qqnorm(x2)"
   ]
  },
  {
   "cell_type": "markdown",
   "id": "fc2a01ec-d5ca-444a-a568-8539dd9dcd23",
   "metadata": {},
   "source": [
    "### Left Skewed\n",
    "\n",
    "- 작은 값 쪽으로 긴 꼬리를 뻗은 기울어진 분포의 경우\n",
    "  - 비스듬히 기울어진 역 J자 곡선의 형태임을 볼 수 있다."
   ]
  },
  {
   "cell_type": "code",
   "execution_count": 73,
   "id": "b874f6ba-5389-43a9-ac92-a03aac8eb3bf",
   "metadata": {},
   "outputs": [
    {
     "data": {
      "image/png": "[encoded data removed]",
      "text/plain": [
       "Plot with title \"Normal Q-Q Plot\""
      ]
     },
     "metadata": {
      "image/png": {
       "height": 420,
       "width": 420
      }
     },
     "output_type": "display_data"
    }
   ],
   "source": [
    "par(mfrow = c(1,2))\n",
    "x1 <- 1500 - exp(rnorm(40,5,1))\n",
    "qqnorm(x1)\n",
    "\n",
    "x2 <- 1500 - exp(rnorm(40,5,1))\n",
    "qqnorm(x2)"
   ]
  },
  {
   "cell_type": "markdown",
   "id": "1c319eea-6bd7-45ff-9daf-7fb315b8dc43",
   "metadata": {},
   "source": [
    "## Example\n",
    "\n",
    "- 백혈병 환자 21명의 생존시간에 관한 다음의 자료를 지수분포에 적합하여 보자."
   ]
  },
  {
   "cell_type": "code",
   "execution_count": 88,
   "id": "c6905e64-ca63-4d08-9b28-91f2f7be16e4",
   "metadata": {},
   "outputs": [
    {
     "data": {
      "image/png": "[encoded data removed]",
      "text/plain": [
       "plot without title"
      ]
     },
     "metadata": {
      "image/png": {
       "height": 420,
       "width": 420
      }
     },
     "output_type": "display_data"
    }
   ],
   "source": [
    "leukemia <- c(1,1,2,2,3,4,4,5,5,8,8,8,8,11,11,12,12,15,17,22,23)\n",
    "\n",
    "leukemia_quant = ((1:length(leukemia)) - 1/3) / (length(leukemia) + 1/3)\n",
    "x <- -log(1-leukemia_quant)\n",
    "y <- sort(leukemia)\n",
    "\n",
    "plot(y ~ x)"
   ]
  },
  {
   "cell_type": "code",
   "execution_count": 87,
   "id": "dd570de7-8618-4b00-9dfb-a5c28731aa3b",
   "metadata": {},
   "outputs": [
    {
     "data": {
      "image/png": "[encoded data removed]",
      "text/plain": [
       "plot without title"
      ]
     },
     "metadata": {
      "image/png": {
       "height": 420,
       "width": 420
      }
     },
     "output_type": "display_data"
    }
   ],
   "source": [
    "library(lattice)\n",
    "qqmath(leukemia)"
   ]
  },
  {
   "cell_type": "markdown",
   "id": "98ba0f3a-4de7-4fbb-a32f-3a863a4059f3",
   "metadata": {},
   "source": [
    "## T"
   ]
  },
  {
   "cell_type": "code",
   "execution_count": 147,
   "id": "3a4c3e24-d950-41d5-8838-70da80186c1a",
   "metadata": {},
   "outputs": [],
   "source": [
    "x <- rbeta(800,2,3) * 100\n",
    "y <- rbeta(1200,3,2) * 100"
   ]
  },
  {
   "cell_type": "code",
   "execution_count": 150,
   "id": "8eda279e-7f4c-4a66-9449-ff366d0e2465",
   "metadata": {},
   "outputs": [
    {
     "data": {
      "text/html": [
       "<style>\n",
       ".dl-inline {width: auto; margin:0; padding: 0}\n",
       ".dl-inline>dt, .dl-inline>dd {float: none; width: auto; display: inline-block}\n",
       ".dl-inline>dt::after {content: \":\\0020\"; padding-right: .5ex}\n",
       ".dl-inline>dt:not(:first-of-type) {padding-left: .5ex}\n",
       "</style><dl class=dl-inline><dt>0%</dt><dd>2</dd><dt>25%</dt><dd>23.2</dd><dt>50%</dt><dd>37.4</dd><dt>75%</dt><dd>52.7</dd><dt>100%</dt><dd>95.6</dd></dl>\n"
      ],
      "text/latex": [
       "\\begin{description*}\n",
       "\\item[0\\textbackslash{}\\%] 2\n",
       "\\item[25\\textbackslash{}\\%] 23.2\n",
       "\\item[50\\textbackslash{}\\%] 37.4\n",
       "\\item[75\\textbackslash{}\\%] 52.7\n",
       "\\item[100\\textbackslash{}\\%] 95.6\n",
       "\\end{description*}\n"
      ],
      "text/markdown": [
       "0%\n",
       ":   225%\n",
       ":   23.250%\n",
       ":   37.475%\n",
       ":   52.7100%\n",
       ":   95.6\n",
       "\n"
      ],
      "text/plain": [
       "  0%  25%  50%  75% 100% \n",
       " 2.0 23.2 37.4 52.7 95.6 "
      ]
     },
     "metadata": {},
     "output_type": "display_data"
    }
   ],
   "source": [
    "round(quantile(x), 1)"
   ]
  },
  {
   "cell_type": "code",
   "execution_count": 152,
   "id": "94549b33-1207-48d7-80a0-1884d594ecf6",
   "metadata": {},
   "outputs": [
    {
     "data": {
      "text/html": [
       "<style>\n",
       ".dl-inline {width: auto; margin:0; padding: 0}\n",
       ".dl-inline>dt, .dl-inline>dd {float: none; width: auto; display: inline-block}\n",
       ".dl-inline>dt::after {content: \":\\0020\"; padding-right: .5ex}\n",
       ".dl-inline>dt:not(:first-of-type) {padding-left: .5ex}\n",
       "</style><dl class=dl-inline><dt>0%</dt><dd>4.8</dd><dt>25%</dt><dd>44.2</dd><dt>50%</dt><dd>62.1</dd><dt>75%</dt><dd>75.9</dd><dt>100%</dt><dd>99.2</dd></dl>\n"
      ],
      "text/latex": [
       "\\begin{description*}\n",
       "\\item[0\\textbackslash{}\\%] 4.8\n",
       "\\item[25\\textbackslash{}\\%] 44.2\n",
       "\\item[50\\textbackslash{}\\%] 62.1\n",
       "\\item[75\\textbackslash{}\\%] 75.9\n",
       "\\item[100\\textbackslash{}\\%] 99.2\n",
       "\\end{description*}\n"
      ],
      "text/markdown": [
       "0%\n",
       ":   4.825%\n",
       ":   44.250%\n",
       ":   62.175%\n",
       ":   75.9100%\n",
       ":   99.2\n",
       "\n"
      ],
      "text/plain": [
       "  0%  25%  50%  75% 100% \n",
       " 4.8 44.2 62.1 75.9 99.2 "
      ]
     },
     "metadata": {},
     "output_type": "display_data"
    }
   ],
   "source": [
    "round(quantile(y), 1)"
   ]
  },
  {
   "cell_type": "code",
   "execution_count": 155,
   "id": "4d9dc061-0af9-47b8-a941-2e421e09b0a4",
   "metadata": {},
   "outputs": [
    {
     "data": {
      "image/png": "[encoded data removed]",
      "text/plain": [
       "plot without title"
      ]
     },
     "metadata": {
      "image/png": {
       "height": 420,
       "width": 420
      }
     },
     "output_type": "display_data"
    }
   ],
   "source": [
    "par(mfrow=c(1,2))\n",
    "qqplot(x, y, xlim = c(0,100))\n",
    "qqplot(x, y, xlim = c(0,100), type = 'l')"
   ]
  },
  {
   "cell_type": "code",
   "execution_count": null,
   "id": "aa53d5b7-1095-42d9-ae64-4bf494435f8c",
   "metadata": {},
   "outputs": [],
   "source": []
  },
  {
   "cell_type": "code",
   "execution_count": null,
   "id": "e067301c-7280-4a48-a070-c420aaf8ac74",
   "metadata": {},
   "outputs": [],
   "source": []
  },
  {
   "cell_type": "code",
   "execution_count": null,
   "id": "0793ac4b-c580-4638-ae38-11ab171c2da3",
   "metadata": {},
   "outputs": [],
   "source": []
  },
  {
   "cell_type": "code",
   "execution_count": null,
   "id": "6b43a70f-cf39-4630-a9be-f2e60eb2d66c",
   "metadata": {},
   "outputs": [],
   "source": []
  },
  {
   "cell_type": "code",
   "execution_count": null,
   "id": "045aba2f-29ac-4f50-9ba2-5f300afe66bd",
   "metadata": {},
   "outputs": [],
   "source": []
  },
  {
   "cell_type": "code",
   "execution_count": null,
   "id": "151c06bd-21fc-4228-8237-0bb5656b934e",
   "metadata": {},
   "outputs": [],
   "source": []
  },
  {
   "cell_type": "code",
   "execution_count": null,
   "id": "e9a9bdf2-f8fb-4808-8260-51c8a3348300",
   "metadata": {},
   "outputs": [],
   "source": []
  },
  {
   "cell_type": "code",
   "execution_count": null,
   "id": "fb309501-ad73-4fbd-9aa3-7d6beb6b213d",
   "metadata": {},
   "outputs": [],
   "source": []
  },
  {
   "cell_type": "code",
   "execution_count": null,
   "id": "3fce88e3-e734-42a2-be0d-7239c0c1b5cf",
   "metadata": {},
   "outputs": [],
   "source": []
  },
  {
   "cell_type": "code",
   "execution_count": null,
   "id": "866ee7cb-2266-487d-ab37-6b75a3378b13",
   "metadata": {},
   "outputs": [],
   "source": []
  },
  {
   "cell_type": "code",
   "execution_count": null,
   "id": "85178f84-cda8-48c4-af7d-ad6525e0c2d8",
   "metadata": {},
   "outputs": [],
   "source": []
  },
  {
   "cell_type": "code",
   "execution_count": null,
   "id": "0fe5de39-7b81-4391-ad46-4d44eb39a68a",
   "metadata": {},
   "outputs": [],
   "source": []
  },
  {
   "cell_type": "code",
   "execution_count": null,
   "id": "98228024-c609-4e2d-a5e8-357c1a9d758e",
   "metadata": {},
   "outputs": [],
   "source": []
  },
  {
   "cell_type": "code",
   "execution_count": null,
   "id": "2d8fca0d-e66d-48c4-9ef2-c8f600f47a52",
   "metadata": {},
   "outputs": [],
   "source": []
  },
  {
   "cell_type": "code",
   "execution_count": null,
   "id": "1b210825-3441-40de-a8e8-30c0bab744b3",
   "metadata": {},
   "outputs": [],
   "source": []
  },
  {
   "cell_type": "code",
   "execution_count": null,
   "id": "12cd517e-a1ad-419b-a1b0-f6e7260feac2",
   "metadata": {},
   "outputs": [],
   "source": []
  },
  {
   "cell_type": "code",
   "execution_count": null,
   "id": "505a4917-c783-454f-ae09-fb995ef0009b",
   "metadata": {},
   "outputs": [],
   "source": []
  },
  {
   "cell_type": "code",
   "execution_count": null,
   "id": "706ae3e3-4e68-4907-ad10-ad74298a53dd",
   "metadata": {},
   "outputs": [],
   "source": []
  },
  {
   "cell_type": "code",
   "execution_count": null,
   "id": "9966b831-915f-4516-84ab-493e10269ed0",
   "metadata": {},
   "outputs": [],
   "source": []
  },
  {
   "cell_type": "code",
   "execution_count": null,
   "id": "0575347e-3297-470d-923c-29e9f228e936",
   "metadata": {},
   "outputs": [],
   "source": []
  },
  {
   "cell_type": "code",
   "execution_count": null,
   "id": "9f7e3712-e1ac-4863-9e47-718759076767",
   "metadata": {},
   "outputs": [],
   "source": []
  },
  {
   "cell_type": "code",
   "execution_count": null,
   "id": "34d36ef3-67e2-4b9f-b21f-7775544a445a",
   "metadata": {},
   "outputs": [],
   "source": []
  },
  {
   "cell_type": "code",
   "execution_count": null,
   "id": "89e1109b-3cef-4bd8-85e8-afe7f4a23515",
   "metadata": {},
   "outputs": [],
   "source": []
  },
  {
   "cell_type": "code",
   "execution_count": null,
   "id": "2dbbf483-da06-493b-8c3e-e85a8fb8fca8",
   "metadata": {},
   "outputs": [],
   "source": []
  },
  {
   "cell_type": "markdown",
   "id": "8901ab18-9700-47ea-ac23-593121f65605",
   "metadata": {},
   "source": [
    "# ref ppt"
   ]
  },
  {
   "cell_type": "code",
   "execution_count": 32,
   "id": "c8a02215-88be-463e-b016-10351bd3de22",
   "metadata": {},
   "outputs": [
    {
     "data": {
      "text/plain": [
       "   Min. 1st Qu.  Median    Mean 3rd Qu.    Max. \n",
       "   1940    3976    5466    6234    7427   14519 "
      ]
     },
     "metadata": {},
     "output_type": "display_data"
    },
    {
     "data": {
      "text/plain": [
       "   Min. 1st Qu.  Median    Mean 3rd Qu.    Max. \n",
       "  7.570   8.286   8.604   8.593   8.911   9.583 "
      ]
     },
     "metadata": {},
     "output_type": "display_data"
    },
    {
     "data": {
      "image/png": "[encoded data removed]",
      "text/plain": [
       "Plot with title \"log transform\""
      ]
     },
     "metadata": {
      "image/png": {
       "height": 420,
       "width": 420
      }
     },
     "output_type": "display_data"
    }
   ],
   "source": [
    "par(mfrow=c(1,2))\n",
    " income<-c(1940,3100,3818,4448,5088,5844,6640,7689,9257,14519)\n",
    "hist(income, main = 'original')\n",
    "hist(log(income), main = 'log transform')\n",
    "summary(income)\n",
    "summary(log(income))"
   ]
  },
  {
   "cell_type": "markdown",
   "id": "cd9f666c-0ad8-4750-a4da-4f0097c93d8e",
   "metadata": {},
   "source": [
    "- 오른쪽 꼬리가 길었으나 로그 변환으로 완화됨"
   ]
  },
  {
   "cell_type": "code",
   "execution_count": null,
   "id": "b981d967-66c6-42db-8122-3cdd19e4aa74",
   "metadata": {},
   "outputs": [],
   "source": [
    "curve(x^(1/16), col = 'blue')\n",
    "par(new=T)\n",
    "curve(log(x), col = 'red')"
   ]
  },
  {
   "cell_type": "code",
   "execution_count": null,
   "id": "6a01f8b6-a0e0-40fc-81f5-14b2569a26e4",
   "metadata": {},
   "outputs": [],
   "source": []
  },
  {
   "cell_type": "code",
   "execution_count": null,
   "id": "5cdb66bf-a848-4366-8dd2-33f477e341d1",
   "metadata": {},
   "outputs": [],
   "source": []
  },
  {
   "cell_type": "code",
   "execution_count": null,
   "id": "c6721f0a-894c-4b38-9481-013287cc7c5d",
   "metadata": {},
   "outputs": [],
   "source": []
  },
  {
   "cell_type": "code",
   "execution_count": null,
   "id": "d40b6ac8-b51e-4cfb-ae39-e6b03b3e1428",
   "metadata": {},
   "outputs": [],
   "source": []
  },
  {
   "cell_type": "code",
   "execution_count": null,
   "id": "69ff093a-3977-400a-bcb0-96597b1edf74",
   "metadata": {},
   "outputs": [],
   "source": []
  },
  {
   "cell_type": "code",
   "execution_count": null,
   "id": "9a8a1c73-01c8-4d26-9cf5-5f6a639b205c",
   "metadata": {},
   "outputs": [],
   "source": []
  },
  {
   "cell_type": "code",
   "execution_count": null,
   "id": "c49cf505-1f76-4256-9a8b-33bf6db0573b",
   "metadata": {},
   "outputs": [],
   "source": []
  },
  {
   "cell_type": "code",
   "execution_count": null,
   "id": "a4f6e758-2d90-4c73-8362-d201e0b87d5d",
   "metadata": {},
   "outputs": [],
   "source": []
  },
  {
   "cell_type": "markdown",
   "id": "18154928-99eb-4b2c-a5df-fdcaf1f2a1fd",
   "metadata": {},
   "source": [
    "[^1] 로버스트(robust) 한 통계량은 이상치/에러값으로 부터 영향을 크게 받지 않는 (건장한) 통계량\n",
    "\n"
   ]
  }
 ],
 "metadata": {
  "kernelspec": {
   "display_name": "R",
   "language": "R",
   "name": "ir"
  },
  "language_info": {
   "codemirror_mode": "r",
   "file_extension": ".r",
   "mimetype": "text/x-r-source",
   "name": "R",
   "pygments_lexer": "r",
   "version": "4.1.2"
  }
 },
 "nbformat": 4,
 "nbformat_minor": 5
}
