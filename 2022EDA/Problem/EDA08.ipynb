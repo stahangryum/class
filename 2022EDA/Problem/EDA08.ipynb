{
 "cells": [
  {
   "cell_type": "markdown",
   "id": "06c1b67a-aea4-4558-a970-6f7ffbc9980f",
   "metadata": {},
   "source": [
    "# 탐색적자료분석 8장 과제\n",
    "\n",
    "## 202115789 통계학과 김지우"
   ]
  },
  {
   "cell_type": "markdown",
   "id": "d4558446-a765-4cb3-a0f6-4bbea86cc92a",
   "metadata": {},
   "source": [
    "## 숙제 1"
   ]
  },
  {
   "cell_type": "markdown",
   "id": "d3fe0027-5716-4a72-b70b-40a322af0e01",
   "metadata": {},
   "source": [
    "### 1-1) 여러 가지 평활 기법(4253H, twiceit, 3RSSH, twiceit 등) 을 이용하여 평활 해 보고 탐색하시오"
   ]
  },
  {
   "cell_type": "code",
   "execution_count": 112,
   "id": "b25290c1-4948-4b62-9aa5-f8748bc86acb",
   "metadata": {},
   "outputs": [
    {
     "data": {
      "text/html": [
       "<table class=\"dataframe\">\n",
       "<caption>A data.frame: 12 × 6</caption>\n",
       "<thead>\n",
       "\t<tr><th></th><th scope=col>2013</th><th scope=col>2014</th><th scope=col>2016</th><th scope=col>2017</th><th scope=col>2018</th><th scope=col>2019</th></tr>\n",
       "\t<tr><th></th><th scope=col>&lt;dbl&gt;</th><th scope=col>&lt;dbl&gt;</th><th scope=col>&lt;dbl&gt;</th><th scope=col>&lt;dbl&gt;</th><th scope=col>&lt;dbl&gt;</th><th scope=col>&lt;dbl&gt;</th></tr>\n",
       "</thead>\n",
       "<tbody>\n",
       "\t<tr><th scope=row>1</th><td>4111542</td><td>4240903</td><td>4278712</td><td>4362665</td><td>4628993</td><td>4792097</td></tr>\n",
       "\t<tr><th scope=row>2</th><td>3622215</td><td>3924659</td><td>4101465</td><td>4225253</td><td>4387240</td><td>4297030</td></tr>\n",
       "\t<tr><th scope=row>3</th><td>3808272</td><td>4085945</td><td>4090460</td><td>4277073</td><td>4370210</td><td>4414219</td></tr>\n",
       "\t<tr><th scope=row>4</th><td>3708180</td><td>3889221</td><td>3938652</td><td>4069577</td><td>4158537</td><td>4272633</td></tr>\n",
       "\t<tr><th scope=row>5</th><td>3659870</td><td>3820255</td><td>3822073</td><td>3974475</td><td>4128142</td><td>4294717</td></tr>\n",
       "\t<tr><th scope=row>6</th><td>3581181</td><td>3809582</td><td>3789423</td><td>4000824</td><td>4102184</td><td>4253487</td></tr>\n",
       "\t<tr><th scope=row>7</th><td>3708929</td><td>3920746</td><td>4019425</td><td>4240321</td><td>4342389</td><td>4475404</td></tr>\n",
       "\t<tr><th scope=row>8</th><td>3766940</td><td>3891818</td><td>4182948</td><td>4316873</td><td>4626019</td><td>4611353</td></tr>\n",
       "\t<tr><th scope=row>9</th><td>3671778</td><td>3745396</td><td>3924897</td><td>4109028</td><td>4195754</td><td>4253081</td></tr>\n",
       "\t<tr><th scope=row>10</th><td>3776176</td><td>3818065</td><td>3903213</td><td>3903712</td><td>4142501</td><td>4141846</td></tr>\n",
       "\t<tr><th scope=row>11</th><td>3940655</td><td>3982861</td><td>4107340</td><td>4263161</td><td>4358067</td><td>4338290</td></tr>\n",
       "\t<tr><th scope=row>12</th><td>4110670</td><td>4165510</td><td>4295324</td><td>4437240</td><td>4572671</td><td>4500697</td></tr>\n",
       "</tbody>\n",
       "</table>\n"
      ],
      "text/latex": [
       "A data.frame: 12 × 6\n",
       "\\begin{tabular}{r|llllll}\n",
       "  & 2013 & 2014 & 2016 & 2017 & 2018 & 2019\\\\\n",
       "  & <dbl> & <dbl> & <dbl> & <dbl> & <dbl> & <dbl>\\\\\n",
       "\\hline\n",
       "\t1 & 4111542 & 4240903 & 4278712 & 4362665 & 4628993 & 4792097\\\\\n",
       "\t2 & 3622215 & 3924659 & 4101465 & 4225253 & 4387240 & 4297030\\\\\n",
       "\t3 & 3808272 & 4085945 & 4090460 & 4277073 & 4370210 & 4414219\\\\\n",
       "\t4 & 3708180 & 3889221 & 3938652 & 4069577 & 4158537 & 4272633\\\\\n",
       "\t5 & 3659870 & 3820255 & 3822073 & 3974475 & 4128142 & 4294717\\\\\n",
       "\t6 & 3581181 & 3809582 & 3789423 & 4000824 & 4102184 & 4253487\\\\\n",
       "\t7 & 3708929 & 3920746 & 4019425 & 4240321 & 4342389 & 4475404\\\\\n",
       "\t8 & 3766940 & 3891818 & 4182948 & 4316873 & 4626019 & 4611353\\\\\n",
       "\t9 & 3671778 & 3745396 & 3924897 & 4109028 & 4195754 & 4253081\\\\\n",
       "\t10 & 3776176 & 3818065 & 3903213 & 3903712 & 4142501 & 4141846\\\\\n",
       "\t11 & 3940655 & 3982861 & 4107340 & 4263161 & 4358067 & 4338290\\\\\n",
       "\t12 & 4110670 & 4165510 & 4295324 & 4437240 & 4572671 & 4500697\\\\\n",
       "\\end{tabular}\n"
      ],
      "text/markdown": [
       "\n",
       "A data.frame: 12 × 6\n",
       "\n",
       "| <!--/--> | 2013 &lt;dbl&gt; | 2014 &lt;dbl&gt; | 2016 &lt;dbl&gt; | 2017 &lt;dbl&gt; | 2018 &lt;dbl&gt; | 2019 &lt;dbl&gt; |\n",
       "|---|---|---|---|---|---|---|\n",
       "| 1 | 4111542 | 4240903 | 4278712 | 4362665 | 4628993 | 4792097 |\n",
       "| 2 | 3622215 | 3924659 | 4101465 | 4225253 | 4387240 | 4297030 |\n",
       "| 3 | 3808272 | 4085945 | 4090460 | 4277073 | 4370210 | 4414219 |\n",
       "| 4 | 3708180 | 3889221 | 3938652 | 4069577 | 4158537 | 4272633 |\n",
       "| 5 | 3659870 | 3820255 | 3822073 | 3974475 | 4128142 | 4294717 |\n",
       "| 6 | 3581181 | 3809582 | 3789423 | 4000824 | 4102184 | 4253487 |\n",
       "| 7 | 3708929 | 3920746 | 4019425 | 4240321 | 4342389 | 4475404 |\n",
       "| 8 | 3766940 | 3891818 | 4182948 | 4316873 | 4626019 | 4611353 |\n",
       "| 9 | 3671778 | 3745396 | 3924897 | 4109028 | 4195754 | 4253081 |\n",
       "| 10 | 3776176 | 3818065 | 3903213 | 3903712 | 4142501 | 4141846 |\n",
       "| 11 | 3940655 | 3982861 | 4107340 | 4263161 | 4358067 | 4338290 |\n",
       "| 12 | 4110670 | 4165510 | 4295324 | 4437240 | 4572671 | 4500697 |\n",
       "\n"
      ],
      "text/plain": [
       "   2013    2014    2016    2017    2018    2019   \n",
       "1  4111542 4240903 4278712 4362665 4628993 4792097\n",
       "2  3622215 3924659 4101465 4225253 4387240 4297030\n",
       "3  3808272 4085945 4090460 4277073 4370210 4414219\n",
       "4  3708180 3889221 3938652 4069577 4158537 4272633\n",
       "5  3659870 3820255 3822073 3974475 4128142 4294717\n",
       "6  3581181 3809582 3789423 4000824 4102184 4253487\n",
       "7  3708929 3920746 4019425 4240321 4342389 4475404\n",
       "8  3766940 3891818 4182948 4316873 4626019 4611353\n",
       "9  3671778 3745396 3924897 4109028 4195754 4253081\n",
       "10 3776176 3818065 3903213 3903712 4142501 4141846\n",
       "11 3940655 3982861 4107340 4263161 4358067 4338290\n",
       "12 4110670 4165510 4295324 4437240 4572671 4500697"
      ]
     },
     "metadata": {},
     "output_type": "display_data"
    }
   ],
   "source": [
    "elec <- read.csv('용도별_전력사용량_20220527214927.csv', header = TRUE)[c(-1,-2,-3), c(-1, -4)] \n",
    "colnames(elec) <- c(2013, 2014, 2016, 2017, 2018, 2019)\n",
    "rownames(elec) <- 1:12\n",
    "elec[,1:6] <- elec[,1:6] %>% unlist() %>% as.numeric()\n",
    "elec"
   ]
  },
  {
   "cell_type": "markdown",
   "id": "aa591ed8-f3ae-4206-b0f6-963039d8fb9c",
   "metadata": {},
   "source": [
    "#### 4253H, twice를 이용한 평활"
   ]
  },
  {
   "cell_type": "code",
   "execution_count": 113,
   "id": "01c94d99-be81-4e9e-98ec-e657544c5b75",
   "metadata": {},
   "outputs": [
    {
     "name": "stderr",
     "output_type": "stream",
     "text": [
      "Warning message:\n",
      "\"패키지 'sleekts'가 사용중이므로 설치되지 않을 것입니다\"\n"
     ]
    }
   ],
   "source": [
    "install.packages('sleekts')\n",
    "library(sleekts)"
   ]
  },
  {
   "cell_type": "code",
   "execution_count": 114,
   "id": "ed83621a-e261-4fc2-942d-1cf1634ae8e3",
   "metadata": {},
   "outputs": [
    {
     "data": {
      "image/png": "[encoded data removed]",
      "text/plain": [
       "plot without title"
      ]
     },
     "metadata": {
      "image/png": {
       "height": 420,
       "width": 420
      }
     },
     "output_type": "display_data"
    }
   ],
   "source": [
    "h4253=sleek(elec$'2013')\n",
    "plot(elec$'2013',type=\"l\",ylab=\"\",lty=\"dotted\",xlab=\"Month\",lwd=2, yaxt = 'n')\n",
    "par(new=T)\n",
    "plot(h4253,type=\"l\",ylab=\"전력 사용량\",xlab=\"Month\", col=\"blue\",lwd=2)\n",
    "legend(x = 2, y = 3750000, c(\"Raw\", \"4253H,twice\"), \n",
    "       col = c(\"black\",\"blue\"), \n",
    "       lty=c(3,1),lwd=2)"
   ]
  },
  {
   "cell_type": "markdown",
   "id": "328bf92e-c9ea-4113-a9e1-8efbb49d3f0f",
   "metadata": {},
   "source": [
    "#### 3RSSH, twice를 이용한 평활"
   ]
  },
  {
   "cell_type": "code",
   "execution_count": 115,
   "id": "b9420286-4f42-48fd-89ed-42b7d2b9b7fd",
   "metadata": {},
   "outputs": [
    {
     "data": {
      "image/png": "[encoded data removed]",
      "text/plain": [
       "plot without title"
      ]
     },
     "metadata": {
      "image/png": {
       "height": 420,
       "width": 420
      }
     },
     "output_type": "display_data"
    }
   ],
   "source": [
    "a3rssh2=function(x){\n",
    "  n=length(x)\n",
    "  x3rss=smooth(x,kind=\"3RSS\")\n",
    "  x3rssh <- vector(\"numeric\",n)\n",
    "  x3rssh2 <- vector(\"numeric\",n)\n",
    "  for (i in 2:(n-1)) x3rssh[i] <- x3rss[i-1]/4 + x3rss[i]/2 + x3rss[i+1]/4\n",
    "  x3rssh[1] <- x3rss[1]; x3rssh[n] <- x3rss[n]\n",
    "  rough=x-x3rssh\n",
    "  \n",
    "  x3rss2=smooth(rough,kind=\"3RSS\")\n",
    "  \n",
    "  for (i in 2:(n-1)) x3rssh2[i] <- x3rss2[i-1]/4 + x3rss2[i]/2 + x3rss2[i+1]/4\n",
    "  x3rssh2[1] <- x3rss2[1]; x3rssh2[n] <- x3rss2[n]\n",
    "  end=x3rssh+x3rssh2\n",
    "  return(end)\n",
    "  }\n",
    "ts.friday=ts(elec$'2013')\n",
    "smooth.f=smooth(ts.friday,kind=\"3RSS\",twiceit = T)\n",
    "plot(elec$'2013',type=\"l\",ylab=\"전력 사용량\",lty=\"dotted\",xlab=\"Month\",lwd=2, yaxt = 'n')\n",
    "par(new=T)\n",
    "plot(smooth.f,xlab=\"\",ylab=\"\",col=\"green\",lwd=2) #3RSS3RSS\n",
    "legend(x = 2, y = 4100000, c(\"Raw\", \"3RSS twice\"), \n",
    "      col = c(\"black\",\"green\"),\n",
    "      lty=c(3,1),lwd=2)"
   ]
  },
  {
   "cell_type": "markdown",
   "id": "93fe0930-9e27-45cd-985a-06d7a7efc1a8",
   "metadata": {},
   "source": [
    "#### Comment"
   ]
  },
  {
   "cell_type": "markdown",
   "id": "ffd2b50d-0594-4c34-8f04-ddcc621f6746",
   "metadata": {},
   "source": [
    "- 여름철의 전력사용량이 적고 겨울철의 전력사용량이 높다."
   ]
  },
  {
   "cell_type": "markdown",
   "id": "6013a294-9908-4db8-b4d6-074131488af0",
   "metadata": {},
   "source": [
    "### 1-2) decompose( ) 함수를 써서 시계열 분해를 하고 추세와 게절성을 탐색하시오"
   ]
  },
  {
   "cell_type": "code",
   "execution_count": 136,
   "id": "4256b178-f927-45e4-9129-31de5afce49d",
   "metadata": {},
   "outputs": [
    {
     "data": {
      "text/html": [
       "<table class=\"dataframe\">\n",
       "<caption>A data.frame: 12 × 6</caption>\n",
       "<thead>\n",
       "\t<tr><th></th><th scope=col>2013</th><th scope=col>2014</th><th scope=col>2016</th><th scope=col>2017</th><th scope=col>2018</th><th scope=col>2019</th></tr>\n",
       "\t<tr><th></th><th scope=col>&lt;dbl&gt;</th><th scope=col>&lt;dbl&gt;</th><th scope=col>&lt;dbl&gt;</th><th scope=col>&lt;dbl&gt;</th><th scope=col>&lt;dbl&gt;</th><th scope=col>&lt;dbl&gt;</th></tr>\n",
       "</thead>\n",
       "<tbody>\n",
       "\t<tr><th scope=row>1</th><td>4111542</td><td>4240903</td><td>4278712</td><td>4362665</td><td>4628993</td><td>4792097</td></tr>\n",
       "\t<tr><th scope=row>2</th><td>3622215</td><td>3924659</td><td>4101465</td><td>4225253</td><td>4387240</td><td>4297030</td></tr>\n",
       "\t<tr><th scope=row>3</th><td>3808272</td><td>4085945</td><td>4090460</td><td>4277073</td><td>4370210</td><td>4414219</td></tr>\n",
       "\t<tr><th scope=row>4</th><td>3708180</td><td>3889221</td><td>3938652</td><td>4069577</td><td>4158537</td><td>4272633</td></tr>\n",
       "\t<tr><th scope=row>5</th><td>3659870</td><td>3820255</td><td>3822073</td><td>3974475</td><td>4128142</td><td>4294717</td></tr>\n",
       "\t<tr><th scope=row>6</th><td>3581181</td><td>3809582</td><td>3789423</td><td>4000824</td><td>4102184</td><td>4253487</td></tr>\n",
       "\t<tr><th scope=row>7</th><td>3708929</td><td>3920746</td><td>4019425</td><td>4240321</td><td>4342389</td><td>4475404</td></tr>\n",
       "\t<tr><th scope=row>8</th><td>3766940</td><td>3891818</td><td>4182948</td><td>4316873</td><td>4626019</td><td>4611353</td></tr>\n",
       "\t<tr><th scope=row>9</th><td>3671778</td><td>3745396</td><td>3924897</td><td>4109028</td><td>4195754</td><td>4253081</td></tr>\n",
       "\t<tr><th scope=row>10</th><td>3776176</td><td>3818065</td><td>3903213</td><td>3903712</td><td>4142501</td><td>4141846</td></tr>\n",
       "\t<tr><th scope=row>11</th><td>3940655</td><td>3982861</td><td>4107340</td><td>4263161</td><td>4358067</td><td>4338290</td></tr>\n",
       "\t<tr><th scope=row>12</th><td>4110670</td><td>4165510</td><td>4295324</td><td>4437240</td><td>4572671</td><td>4500697</td></tr>\n",
       "</tbody>\n",
       "</table>\n"
      ],
      "text/latex": [
       "A data.frame: 12 × 6\n",
       "\\begin{tabular}{r|llllll}\n",
       "  & 2013 & 2014 & 2016 & 2017 & 2018 & 2019\\\\\n",
       "  & <dbl> & <dbl> & <dbl> & <dbl> & <dbl> & <dbl>\\\\\n",
       "\\hline\n",
       "\t1 & 4111542 & 4240903 & 4278712 & 4362665 & 4628993 & 4792097\\\\\n",
       "\t2 & 3622215 & 3924659 & 4101465 & 4225253 & 4387240 & 4297030\\\\\n",
       "\t3 & 3808272 & 4085945 & 4090460 & 4277073 & 4370210 & 4414219\\\\\n",
       "\t4 & 3708180 & 3889221 & 3938652 & 4069577 & 4158537 & 4272633\\\\\n",
       "\t5 & 3659870 & 3820255 & 3822073 & 3974475 & 4128142 & 4294717\\\\\n",
       "\t6 & 3581181 & 3809582 & 3789423 & 4000824 & 4102184 & 4253487\\\\\n",
       "\t7 & 3708929 & 3920746 & 4019425 & 4240321 & 4342389 & 4475404\\\\\n",
       "\t8 & 3766940 & 3891818 & 4182948 & 4316873 & 4626019 & 4611353\\\\\n",
       "\t9 & 3671778 & 3745396 & 3924897 & 4109028 & 4195754 & 4253081\\\\\n",
       "\t10 & 3776176 & 3818065 & 3903213 & 3903712 & 4142501 & 4141846\\\\\n",
       "\t11 & 3940655 & 3982861 & 4107340 & 4263161 & 4358067 & 4338290\\\\\n",
       "\t12 & 4110670 & 4165510 & 4295324 & 4437240 & 4572671 & 4500697\\\\\n",
       "\\end{tabular}\n"
      ],
      "text/markdown": [
       "\n",
       "A data.frame: 12 × 6\n",
       "\n",
       "| <!--/--> | 2013 &lt;dbl&gt; | 2014 &lt;dbl&gt; | 2016 &lt;dbl&gt; | 2017 &lt;dbl&gt; | 2018 &lt;dbl&gt; | 2019 &lt;dbl&gt; |\n",
       "|---|---|---|---|---|---|---|\n",
       "| 1 | 4111542 | 4240903 | 4278712 | 4362665 | 4628993 | 4792097 |\n",
       "| 2 | 3622215 | 3924659 | 4101465 | 4225253 | 4387240 | 4297030 |\n",
       "| 3 | 3808272 | 4085945 | 4090460 | 4277073 | 4370210 | 4414219 |\n",
       "| 4 | 3708180 | 3889221 | 3938652 | 4069577 | 4158537 | 4272633 |\n",
       "| 5 | 3659870 | 3820255 | 3822073 | 3974475 | 4128142 | 4294717 |\n",
       "| 6 | 3581181 | 3809582 | 3789423 | 4000824 | 4102184 | 4253487 |\n",
       "| 7 | 3708929 | 3920746 | 4019425 | 4240321 | 4342389 | 4475404 |\n",
       "| 8 | 3766940 | 3891818 | 4182948 | 4316873 | 4626019 | 4611353 |\n",
       "| 9 | 3671778 | 3745396 | 3924897 | 4109028 | 4195754 | 4253081 |\n",
       "| 10 | 3776176 | 3818065 | 3903213 | 3903712 | 4142501 | 4141846 |\n",
       "| 11 | 3940655 | 3982861 | 4107340 | 4263161 | 4358067 | 4338290 |\n",
       "| 12 | 4110670 | 4165510 | 4295324 | 4437240 | 4572671 | 4500697 |\n",
       "\n"
      ],
      "text/plain": [
       "   2013    2014    2016    2017    2018    2019   \n",
       "1  4111542 4240903 4278712 4362665 4628993 4792097\n",
       "2  3622215 3924659 4101465 4225253 4387240 4297030\n",
       "3  3808272 4085945 4090460 4277073 4370210 4414219\n",
       "4  3708180 3889221 3938652 4069577 4158537 4272633\n",
       "5  3659870 3820255 3822073 3974475 4128142 4294717\n",
       "6  3581181 3809582 3789423 4000824 4102184 4253487\n",
       "7  3708929 3920746 4019425 4240321 4342389 4475404\n",
       "8  3766940 3891818 4182948 4316873 4626019 4611353\n",
       "9  3671778 3745396 3924897 4109028 4195754 4253081\n",
       "10 3776176 3818065 3903213 3903712 4142501 4141846\n",
       "11 3940655 3982861 4107340 4263161 4358067 4338290\n",
       "12 4110670 4165510 4295324 4437240 4572671 4500697"
      ]
     },
     "metadata": {},
     "output_type": "display_data"
    }
   ],
   "source": [
    "elec"
   ]
  },
  {
   "cell_type": "code",
   "execution_count": 116,
   "id": "aae5278a-368b-4307-9c98-d8ec4adc19d9",
   "metadata": {},
   "outputs": [],
   "source": [
    "elec_T <- t(elec)"
   ]
  },
  {
   "cell_type": "code",
   "execution_count": 150,
   "id": "90119af7-bd4c-4496-9e86-bd013f1a5373",
   "metadata": {},
   "outputs": [
    {
     "data": {
      "text/html": [
       "<table class=\"dataframe\">\n",
       "<caption>A Time Series: 6 × 12</caption>\n",
       "<thead>\n",
       "\t<tr><th></th><th scope=col>Jan</th><th scope=col>Feb</th><th scope=col>Mar</th><th scope=col>Apr</th><th scope=col>May</th><th scope=col>Jun</th><th scope=col>Jul</th><th scope=col>Aug</th><th scope=col>Sep</th><th scope=col>Oct</th><th scope=col>Nov</th><th scope=col>Dec</th></tr>\n",
       "</thead>\n",
       "<tbody>\n",
       "\t<tr><th scope=row>2013</th><td>8.321553</td><td>8.352531</td><td>8.361407</td><td>8.380838</td><td>8.440095</td><td>8.474723</td><td>8.194841</td><td>8.275035</td><td>8.319100</td><td>8.348834</td><td>8.386456</td><td>8.365679</td></tr>\n",
       "\t<tr><th scope=row>2014</th><td>8.244931</td><td>8.315308</td><td>8.316413</td><td>8.361024</td><td>8.382566</td><td>8.392586</td><td>8.218296</td><td>8.265964</td><td>8.278594</td><td>8.311294</td><td>8.332919</td><td>8.359986</td></tr>\n",
       "\t<tr><th scope=row>2015</th><td>8.205183</td><td>8.248072</td><td>8.248548</td><td>8.287648</td><td>8.325583</td><td>8.365141</td><td>8.183448</td><td>8.245275</td><td>8.239969</td><td>8.294256</td><td>8.319275</td><td>8.355494</td></tr>\n",
       "\t<tr><th scope=row>2016</th><td>8.218498</td><td>8.274037</td><td>8.298894</td><td>8.352394</td><td>8.376180</td><td>8.406352</td><td>8.234018</td><td>8.266632</td><td>8.338772</td><td>8.370287</td><td>8.439452</td><td>8.436277</td></tr>\n",
       "\t<tr><th scope=row>2017</th><td>8.208431</td><td>8.228283</td><td>8.275095</td><td>8.320942</td><td>8.341828</td><td>8.355399</td><td>8.236467</td><td>8.247499</td><td>8.269555</td><td>8.269683</td><td>8.329055</td><td>8.328897</td></tr>\n",
       "\t<tr><th scope=row>2018</th><td>8.279102</td><td>8.289756</td><td>8.320531</td><td>8.357766</td><td>8.379784</td><td>8.375236</td><td>8.321341</td><td>8.334594</td><td>8.365282</td><td>8.397788</td><td>8.427853</td><td>8.411988</td></tr>\n",
       "</tbody>\n",
       "</table>\n"
      ],
      "text/latex": [
       "A Time Series: 6 × 12\n",
       "\\begin{tabular}{r|llllllllllll}\n",
       "  & Jan & Feb & Mar & Apr & May & Jun & Jul & Aug & Sep & Oct & Nov & Dec\\\\\n",
       "\\hline\n",
       "\t2013 & 8.321553 & 8.352531 & 8.361407 & 8.380838 & 8.440095 & 8.474723 & 8.194841 & 8.275035 & 8.319100 & 8.348834 & 8.386456 & 8.365679\\\\\n",
       "\t2014 & 8.244931 & 8.315308 & 8.316413 & 8.361024 & 8.382566 & 8.392586 & 8.218296 & 8.265964 & 8.278594 & 8.311294 & 8.332919 & 8.359986\\\\\n",
       "\t2015 & 8.205183 & 8.248072 & 8.248548 & 8.287648 & 8.325583 & 8.365141 & 8.183448 & 8.245275 & 8.239969 & 8.294256 & 8.319275 & 8.355494\\\\\n",
       "\t2016 & 8.218498 & 8.274037 & 8.298894 & 8.352394 & 8.376180 & 8.406352 & 8.234018 & 8.266632 & 8.338772 & 8.370287 & 8.439452 & 8.436277\\\\\n",
       "\t2017 & 8.208431 & 8.228283 & 8.275095 & 8.320942 & 8.341828 & 8.355399 & 8.236467 & 8.247499 & 8.269555 & 8.269683 & 8.329055 & 8.328897\\\\\n",
       "\t2018 & 8.279102 & 8.289756 & 8.320531 & 8.357766 & 8.379784 & 8.375236 & 8.321341 & 8.334594 & 8.365282 & 8.397788 & 8.427853 & 8.411988\\\\\n",
       "\\end{tabular}\n"
      ],
      "text/markdown": [
       "\n",
       "A Time Series: 6 × 12\n",
       "\n",
       "| <!--/--> | Jan | Feb | Mar | Apr | May | Jun | Jul | Aug | Sep | Oct | Nov | Dec |\n",
       "|---|---|---|---|---|---|---|---|---|---|---|---|---|\n",
       "| 2013 | 8.321553 | 8.352531 | 8.361407 | 8.380838 | 8.440095 | 8.474723 | 8.194841 | 8.275035 | 8.319100 | 8.348834 | 8.386456 | 8.365679 |\n",
       "| 2014 | 8.244931 | 8.315308 | 8.316413 | 8.361024 | 8.382566 | 8.392586 | 8.218296 | 8.265964 | 8.278594 | 8.311294 | 8.332919 | 8.359986 |\n",
       "| 2015 | 8.205183 | 8.248072 | 8.248548 | 8.287648 | 8.325583 | 8.365141 | 8.183448 | 8.245275 | 8.239969 | 8.294256 | 8.319275 | 8.355494 |\n",
       "| 2016 | 8.218498 | 8.274037 | 8.298894 | 8.352394 | 8.376180 | 8.406352 | 8.234018 | 8.266632 | 8.338772 | 8.370287 | 8.439452 | 8.436277 |\n",
       "| 2017 | 8.208431 | 8.228283 | 8.275095 | 8.320942 | 8.341828 | 8.355399 | 8.236467 | 8.247499 | 8.269555 | 8.269683 | 8.329055 | 8.328897 |\n",
       "| 2018 | 8.279102 | 8.289756 | 8.320531 | 8.357766 | 8.379784 | 8.375236 | 8.321341 | 8.334594 | 8.365282 | 8.397788 | 8.427853 | 8.411988 |\n",
       "\n"
      ],
      "text/plain": [
       "     Jan      Feb      Mar      Apr      May      Jun      Jul      Aug     \n",
       "2013 8.321553 8.352531 8.361407 8.380838 8.440095 8.474723 8.194841 8.275035\n",
       "2014 8.244931 8.315308 8.316413 8.361024 8.382566 8.392586 8.218296 8.265964\n",
       "2015 8.205183 8.248072 8.248548 8.287648 8.325583 8.365141 8.183448 8.245275\n",
       "2016 8.218498 8.274037 8.298894 8.352394 8.376180 8.406352 8.234018 8.266632\n",
       "2017 8.208431 8.228283 8.275095 8.320942 8.341828 8.355399 8.236467 8.247499\n",
       "2018 8.279102 8.289756 8.320531 8.357766 8.379784 8.375236 8.321341 8.334594\n",
       "     Sep      Oct      Nov      Dec     \n",
       "2013 8.319100 8.348834 8.386456 8.365679\n",
       "2014 8.278594 8.311294 8.332919 8.359986\n",
       "2015 8.239969 8.294256 8.319275 8.355494\n",
       "2016 8.338772 8.370287 8.439452 8.436277\n",
       "2017 8.269555 8.269683 8.329055 8.328897\n",
       "2018 8.365282 8.397788 8.427853 8.411988"
      ]
     },
     "metadata": {},
     "output_type": "display_data"
    }
   ],
   "source": [
    "log_elec_ts"
   ]
  },
  {
   "cell_type": "code",
   "execution_count": 159,
   "id": "84ab365c-36e7-4c27-9e29-040b0e7a49bd",
   "metadata": {},
   "outputs": [
    {
     "data": {
      "image/png": "[encoded data removed]",
      "text/plain": [
       "plot without title"
      ]
     },
     "metadata": {
      "image/png": {
       "height": 420,
       "width": 420
      }
     },
     "output_type": "display_data"
    }
   ],
   "source": [
    "kk <- elec_T %>% unlist %>% as.numeric()\n",
    "elec_ts <- ts(kk/1000, start = c(2013, 1), frequency = 12)\n",
    "log_elec_ts <- log(elec_ts)\n",
    "plot(log_elec_ts, ylim = c(8,9))"
   ]
  },
  {
   "cell_type": "code",
   "execution_count": 164,
   "id": "81d4f5bf-1d10-4a7e-b689-ae864d6c2d76",
   "metadata": {},
   "outputs": [
    {
     "data": {
      "image/png": "[encoded data removed]",
      "text/plain": [
       "plot without title"
      ]
     },
     "metadata": {
      "image/png": {
       "height": 420,
       "width": 420
      }
     },
     "output_type": "display_data"
    }
   ],
   "source": [
    "decomp_out <- decompose(log_elec_ts)\n",
    "plot(decomp_out$trend)"
   ]
  },
  {
   "cell_type": "code",
   "execution_count": 161,
   "id": "b3b894ba-cd44-4ba4-909d-fcab39ef5436",
   "metadata": {},
   "outputs": [
    {
     "data": {
      "image/png": "[encoded data removed]",
      "text/plain": [
       "plot without title"
      ]
     },
     "metadata": {
      "image/png": {
       "height": 420,
       "width": 420
      }
     },
     "output_type": "display_data"
    }
   ],
   "source": [
    "plot(decomp_out$seasonal)"
   ]
  },
  {
   "cell_type": "markdown",
   "id": "fe74a72a-84f8-4215-8853-13dcd845f892",
   "metadata": {},
   "source": [
    "#### Comment"
   ]
  },
  {
   "cell_type": "markdown",
   "id": "878436f5-681b-4208-83ff-e1536a476b1e",
   "metadata": {},
   "source": [
    "- 계절성이 두드러진다."
   ]
  },
  {
   "cell_type": "markdown",
   "id": "16daf702-3cf0-4881-8ad0-aea3903615e3",
   "metadata": {},
   "source": [
    "### 1-3) ACF를 그리고 탐색해 보시오"
   ]
  },
  {
   "cell_type": "code",
   "execution_count": 171,
   "id": "6329fc90-6036-44fc-a83d-9c2e0b6b2901",
   "metadata": {},
   "outputs": [
    {
     "data": {
      "image/png": "[encoded data removed]",
      "text/plain": [
       "Plot with title \"Series  kk\""
      ]
     },
     "metadata": {
      "image/png": {
       "height": 420,
       "width": 420
      }
     },
     "output_type": "display_data"
    }
   ],
   "source": [
    "acf(kk)"
   ]
  },
  {
   "cell_type": "markdown",
   "id": "18dfe3cf-b892-4b58-9aa8-beb8c7b18ed7",
   "metadata": {},
   "source": [
    "- 양과 음을 반복함에 있어 어느정도 주기성이 존재하는데 이는 계절에 따라 전력 사용량이 다름을 말한다."
   ]
  },
  {
   "cell_type": "markdown",
   "id": "180f9825-8fad-45eb-a398-081a33fbb294",
   "metadata": {},
   "source": [
    "## 숙제 2"
   ]
  },
  {
   "cell_type": "markdown",
   "id": "a729ecc1-637c-45fb-a46c-7fcea100bf0d",
   "metadata": {},
   "source": [
    "### 2-1) 여러 가지 평활 기법(4253H, twiceit, 3RSSH, twiceit 등) 을 이용하여 평활 해 보고 탐색하시오"
   ]
  },
  {
   "cell_type": "code",
   "execution_count": 181,
   "id": "a1ed9b8a-256e-4c0e-9afb-ad3ba80721d0",
   "metadata": {},
   "outputs": [
    {
     "data": {
      "text/html": [
       "<table class=\"dataframe\">\n",
       "<caption>A data.frame: 6 × 2</caption>\n",
       "<thead>\n",
       "\t<tr><th></th><th scope=col>연도</th><th scope=col>생산량</th></tr>\n",
       "\t<tr><th></th><th scope=col>&lt;int&gt;</th><th scope=col>&lt;int&gt;</th></tr>\n",
       "</thead>\n",
       "<tbody>\n",
       "\t<tr><th scope=row>1</th><td>1980</td><td>5311406</td></tr>\n",
       "\t<tr><th scope=row>2</th><td>1981</td><td>7148703</td></tr>\n",
       "\t<tr><th scope=row>3</th><td>1982</td><td>7307855</td></tr>\n",
       "\t<tr><th scope=row>4</th><td>1983</td><td>7607541</td></tr>\n",
       "\t<tr><th scope=row>5</th><td>1984</td><td>7970330</td></tr>\n",
       "\t<tr><th scope=row>6</th><td>1985</td><td>7855262</td></tr>\n",
       "</tbody>\n",
       "</table>\n"
      ],
      "text/latex": [
       "A data.frame: 6 × 2\n",
       "\\begin{tabular}{r|ll}\n",
       "  & 연도 & 생산량\\\\\n",
       "  & <int> & <int>\\\\\n",
       "\\hline\n",
       "\t1 & 1980 & 5311406\\\\\n",
       "\t2 & 1981 & 7148703\\\\\n",
       "\t3 & 1982 & 7307855\\\\\n",
       "\t4 & 1983 & 7607541\\\\\n",
       "\t5 & 1984 & 7970330\\\\\n",
       "\t6 & 1985 & 7855262\\\\\n",
       "\\end{tabular}\n"
      ],
      "text/markdown": [
       "\n",
       "A data.frame: 6 × 2\n",
       "\n",
       "| <!--/--> | 연도 &lt;int&gt; | 생산량 &lt;int&gt; |\n",
       "|---|---|---|\n",
       "| 1 | 1980 | 5311406 |\n",
       "| 2 | 1981 | 7148703 |\n",
       "| 3 | 1982 | 7307855 |\n",
       "| 4 | 1983 | 7607541 |\n",
       "| 5 | 1984 | 7970330 |\n",
       "| 6 | 1985 | 7855262 |\n",
       "\n"
      ],
      "text/plain": [
       "  연도 생산량 \n",
       "1 1980 5311406\n",
       "2 1981 7148703\n",
       "3 1982 7307855\n",
       "4 1983 7607541\n",
       "5 1984 7970330\n",
       "6 1985 7855262"
      ]
     },
     "metadata": {},
     "output_type": "display_data"
    }
   ],
   "source": [
    "rice <- read.csv('농업생산량_쌀__20220524102135.csv', header = TRUE)\n",
    "colnames(rice) <- c('연도', '생산량')\n",
    "head(rice)"
   ]
  },
  {
   "cell_type": "markdown",
   "id": "c5155296-3cda-49cd-af6a-c012238b78f3",
   "metadata": {
    "tags": []
   },
   "source": [
    "#### 4253H, twiceit를 이용한 평활"
   ]
  },
  {
   "cell_type": "code",
   "execution_count": 198,
   "id": "f57a1a24-784d-4019-a48a-2955fd706207",
   "metadata": {},
   "outputs": [
    {
     "data": {
      "image/png": "[encoded data removed]",
      "text/plain": [
       "plot without title"
      ]
     },
     "metadata": {
      "image/png": {
       "height": 420,
       "width": 420
      }
     },
     "output_type": "display_data"
    }
   ],
   "source": [
    "h4253=sleek(rice$'생산량')\n",
    "plot(rice$'생산량',type=\"l\",ylab=\"\",lty=\"dotted\",xlab=\"\",lwd=2, yaxt = 'n', xaxt = 'n')\n",
    "par(new=T)\n",
    "plot(h4253,type=\"l\",ylab=\"쌀 생산량\",xlab=\"Year\", col=\"blue\",lwd=2, xaxt = 'n')\n",
    "legend(x = 25, y = 7300000, c(\"Raw\", \"4253H,twice\"), \n",
    "       col = c(\"black\",\"blue\"), \n",
    "       lty=c(3,1),lwd=2)"
   ]
  },
  {
   "cell_type": "markdown",
   "id": "0476c75c-2509-4a9f-a058-4d7b27d08133",
   "metadata": {},
   "source": [
    "#### 3RSSH, twice를 이용한 평활"
   ]
  },
  {
   "cell_type": "code",
   "execution_count": 199,
   "id": "d71ad416-2f8e-44e4-abcd-d6d09a016731",
   "metadata": {},
   "outputs": [
    {
     "data": {
      "image/png": "[encoded data removed]",
      "text/plain": [
       "plot without title"
      ]
     },
     "metadata": {
      "image/png": {
       "height": 420,
       "width": 420
      }
     },
     "output_type": "display_data"
    }
   ],
   "source": [
    "ts.friday=ts(rice$'생산량')\n",
    "smooth.f=smooth(ts.friday,kind=\"3RSS\",twiceit = T)\n",
    "plot(rice$'생산량',type=\"l\",ylab=\"전력 사용량\",lty=\"dotted\",xlab=\"Year\",lwd=2, yaxt = 'n', xaxt = 'n')\n",
    "par(new=T)\n",
    "plot(smooth.f,xlab=\"\",ylab=\"\",col=\"green\",lwd=2, xaxt = 'n') #3RSS3RSS\n",
    "legend(x = 2, y = 4100000, c(\"Raw\", \"3RSS twice\"), \n",
    "      col = c(\"black\",\"green\"),\n",
    "      lty=c(3,1),lwd=2)"
   ]
  },
  {
   "cell_type": "markdown",
   "id": "5dfb291d-4ee8-49e1-8218-bff49a9d818f",
   "metadata": {},
   "source": [
    "#### Comment"
   ]
  },
  {
   "cell_type": "markdown",
   "id": "08639ae9-d244-486b-99a6-207720be5bc1",
   "metadata": {},
   "source": [
    "- 최근들어 쌀 생산량이 금감하고 있다."
   ]
  },
  {
   "cell_type": "markdown",
   "id": "f1ba5920-cb48-4b12-be4d-57654f242c23",
   "metadata": {
    "tags": []
   },
   "source": [
    "### 2-2) decompose( ) 함수를 써서 시계열 분해를 하고 추세와 게절성을 탐색하시오"
   ]
  },
  {
   "cell_type": "markdown",
   "id": "5554ff81-db8c-4db6-bd76-da3e264add66",
   "metadata": {},
   "source": [
    "- 시계열 분해가 불가능한 데이터이다."
   ]
  },
  {
   "cell_type": "markdown",
   "id": "793b6d2f-d1c7-47b0-b3c4-1c44d6fee12c",
   "metadata": {},
   "source": [
    "## 숙제 3"
   ]
  },
  {
   "cell_type": "markdown",
   "id": "2bc1c714-8414-45d8-a749-d92d400e5886",
   "metadata": {},
   "source": [
    "### 3-1) 상관계수와 자기상관계수를 비교 설명하시오."
   ]
  },
  {
   "cell_type": "markdown",
   "id": "db65ac7f-cc0d-4902-9111-000ddf533833",
   "metadata": {},
   "source": [
    "상관계수와 자기상관계수의 유사한 점은 두 연속형 변수 간의 관계를 분석하다는 점입니다. 기본 개념은 공분산을 표준편차로 나누어서 표준화해주며, -1 ~ 1 사이의 값을 가지게 됩니다. \n",
    "\n",
    "상관계수와 자기상관계수가 서로 다른 점은, 상관계수는 특정 동일 시점을 횡단면으로 해서 Y와 다른 X1, X2, ... 변수들 간의 관계를 분석합니다. 반면에 자기상관계수는 동일한 변수(Yt, Yt-1, Yt-2, ...)의 서로 다른 시간 차이를 두고 관계를 분석하는 것입니다. "
   ]
  },
  {
   "cell_type": "markdown",
   "id": "2df6b23c-e06f-4804-9be6-2629ba0afac7",
   "metadata": {},
   "source": [
    "### 3-2-1) 𝑡=1,2,⋯,50,  에서 𝑦_𝑡=𝑠𝑖𝑛𝑒(2𝑡)+𝑛𝑜𝑖𝑠𝑒,  𝑛𝑜𝑖𝑐𝑒~𝑁(0,1)이라 할 때 𝑦_𝑡 를 그리고 탐색하시오."
   ]
  },
  {
   "cell_type": "code",
   "execution_count": 236,
   "id": "9e261bba-1f0a-4b13-adc5-e60bbffca48d",
   "metadata": {},
   "outputs": [],
   "source": [
    "t <- 1:50\n",
    "noise <- rnorm(50, 0, 1)\n",
    "y_t <- sin(2*t) + noise"
   ]
  },
  {
   "cell_type": "code",
   "execution_count": 237,
   "id": "de98d274-11a8-43d4-93e8-bc82a7e70047",
   "metadata": {},
   "outputs": [
    {
     "data": {
      "image/png": "[encoded data removed]",
      "text/plain": [
       "plot without title"
      ]
     },
     "metadata": {
      "image/png": {
       "height": 420,
       "width": 420
      }
     },
     "output_type": "display_data"
    }
   ],
   "source": [
    "plot(t, y_t, type = 'l')"
   ]
  },
  {
   "cell_type": "markdown",
   "id": "e29c4f8d-6d50-4caa-af84-5ddf8955b957",
   "metadata": {},
   "source": [
    "### 3-2-2) ACF를 그리고 탐색하시오."
   ]
  },
  {
   "cell_type": "code",
   "execution_count": 238,
   "id": "5de4ca95-c584-4b1c-ab1c-5fb273d04b2f",
   "metadata": {},
   "outputs": [
    {
     "data": {
      "image/png": "[encoded data removed]",
      "text/plain": [
       "Plot with title \"Series  y_t\""
      ]
     },
     "metadata": {
      "image/png": {
       "height": 420,
       "width": 420
      }
     },
     "output_type": "display_data"
    }
   ],
   "source": [
    "acf(y_t)"
   ]
  },
  {
   "cell_type": "markdown",
   "id": "345ef1e1-6a0f-43cb-a39e-02ab77903683",
   "metadata": {},
   "source": [
    "- 별다른 패턴이 존재하지 않는 것으로 보인다."
   ]
  }
 ],
 "metadata": {
  "kernelspec": {
   "display_name": "R",
   "language": "R",
   "name": "ir"
  },
  "language_info": {
   "codemirror_mode": "r",
   "file_extension": ".r",
   "mimetype": "text/x-r-source",
   "name": "R",
   "pygments_lexer": "r",
   "version": "4.1.2"
  }
 },
 "nbformat": 4,
 "nbformat_minor": 5
}
