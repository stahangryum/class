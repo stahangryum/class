{
 "cells": [
  {
   "cell_type": "markdown",
   "id": "9c8d94c4-e69b-4890-9134-856a5c95b1cf",
   "metadata": {},
   "source": [
    "# 탐색적 자료분석 5주차 과제"
   ]
  },
  {
   "cell_type": "markdown",
   "id": "383b1d57-8782-4e6b-84dc-68807f9248f0",
   "metadata": {},
   "source": [
    "# 202115789 통계학과 김지우"
   ]
  },
  {
   "cell_type": "markdown",
   "id": "e2698ede-ebb9-4f3b-b960-dfea4f0a02f7",
   "metadata": {},
   "source": [
    "# Problem 1"
   ]
  },
  {
   "cell_type": "markdown",
   "id": "ef091e18-3f54-44c1-9ec0-4cd1c53af3a4",
   "metadata": {},
   "source": [
    "## 국가별 1인당 GNP 자료에 대한 전체 국가의 평균 GNP를 추정하고자 한다."
   ]
  },
  {
   "cell_type": "code",
   "execution_count": 1,
   "id": "d6c376f4-9906-4f24-b36e-0e0abffce95b",
   "metadata": {},
   "outputs": [
    {
     "data": {
      "text/html": [
       "'C:/Users/woo/Desktop/Project/class_2022EDA/Problem'"
      ],
      "text/latex": [
       "'C:/Users/woo/Desktop/Project/class\\_2022EDA/Problem'"
      ],
      "text/markdown": [
       "'C:/Users/woo/Desktop/Project/class_2022EDA/Problem'"
      ],
      "text/plain": [
       "[1] \"C:/Users/woo/Desktop/Project/class_2022EDA/Problem\""
      ]
     },
     "metadata": {},
     "output_type": "display_data"
    }
   ],
   "source": [
    "getwd()"
   ]
  },
  {
   "cell_type": "code",
   "execution_count": 5,
   "id": "6dcdfb61-53b8-4936-8cdd-83443e4e8ae2",
   "metadata": {},
   "outputs": [
    {
     "name": "stderr",
     "output_type": "stream",
     "text": [
      "Warning message:\n",
      "\"패키지 'xlsx'는 R 버전 4.1.3에서 작성되었습니다\"\n"
     ]
    }
   ],
   "source": [
    "library('tidyverse')\n",
    "library('xlsx')"
   ]
  },
  {
   "cell_type": "code",
   "execution_count": 98,
   "id": "22cdfb3a-cd23-4c04-abe3-8002735d6056",
   "metadata": {},
   "outputs": [],
   "source": [
    "df = read.xlsx('GNP.xlsx', header = T, sheetIndex = 1, encoding=\"UTF-8\")\n",
    "GNP = df[,3]\n",
    "GNP = GNP[-which(GNP == '　')] %>% as.numeric"
   ]
  },
  {
   "cell_type": "code",
   "execution_count": 101,
   "id": "7d94ee89-8b7e-433e-9053-0fe920199754",
   "metadata": {},
   "outputs": [
    {
     "data": {
      "text/html": [
       "<style>\n",
       ".list-inline {list-style: none; margin:0; padding: 0}\n",
       ".list-inline>li {display: inline-block}\n",
       ".list-inline>li:not(:last-child)::after {content: \"\\00b7\"; padding: 0 .5ex}\n",
       "</style>\n",
       "<ol class=list-inline><li>104673</li><li>83922</li><li>72849</li><li>63830</li><li>59924</li><li>58084</li></ol>\n"
      ],
      "text/latex": [
       "\\begin{enumerate*}\n",
       "\\item 104673\n",
       "\\item 83922\n",
       "\\item 72849\n",
       "\\item 63830\n",
       "\\item 59924\n",
       "\\item 58084\n",
       "\\end{enumerate*}\n"
      ],
      "text/markdown": [
       "1. 104673\n",
       "2. 83922\n",
       "3. 72849\n",
       "4. 63830\n",
       "5. 59924\n",
       "6. 58084\n",
       "\n",
       "\n"
      ],
      "text/plain": [
       "[1] 104673  83922  72849  63830  59924  58084"
      ]
     },
     "metadata": {},
     "output_type": "display_data"
    }
   ],
   "source": [
    "head(GNP)"
   ]
  },
  {
   "cell_type": "markdown",
   "id": "5b8e49f9-5050-48ba-83a7-08f8983d5320",
   "metadata": {
    "tags": []
   },
   "source": [
    "## 1) stem and leaf 와 box plot을 그리고 탐색하여라."
   ]
  },
  {
   "cell_type": "markdown",
   "id": "8c0f57f0-7301-49b4-94c7-a995b250cced",
   "metadata": {},
   "source": [
    "- 아래는 GNP의 줄기와 잎 그림이다.\n",
    "\n",
    "- 한 쪽에 분포가 쏠려 있음이 특징적이다."
   ]
  },
  {
   "cell_type": "code",
   "execution_count": 108,
   "id": "b5147248-0e91-4a92-b6a1-90c7108bf7a2",
   "metadata": {},
   "outputs": [
    {
     "name": "stdout",
     "output_type": "stream",
     "text": [
      "\n",
      "  The decimal point is 4 digit(s) to the right of the |\n",
      "\n",
      "   0 | 00000000000000000000000011111111111111111111111111111111111222222222+20\n",
      "   0 | 55555666666677777888899999\n",
      "   1 | 00011223444\n",
      "   1 | 5666778\n",
      "   2 | 00123\n",
      "   2 | 678\n",
      "   3 | 002244\n",
      "   3 | 56\n",
      "   4 | 023333\n",
      "   4 | 56667\n",
      "   5 | 0\n",
      "   5 | 78\n",
      "   6 | 04\n",
      "   6 | \n",
      "   7 | 3\n",
      "   7 | \n",
      "   8 | 4\n",
      "   8 | \n",
      "   9 | \n",
      "   9 | \n",
      "  10 | \n",
      "  10 | 5\n",
      "\n"
     ]
    }
   ],
   "source": [
    "stem(GNP, scale = 2)"
   ]
  },
  {
   "cell_type": "markdown",
   "id": "391e911a-a934-4e88-9b53-616e886b5ed9",
   "metadata": {},
   "source": [
    "- 그림 1은 GNP의 상자 그림이다.\n",
    "\n",
    "- 상자그림 역시 분포가 한 쪽에 쏠려있다.\n",
    "\n",
    "- 따라서 해당 자료를 가지고 신뢰구간을 구하는 것은 활용도가 떨어진다."
   ]
  },
  {
   "cell_type": "code",
   "execution_count": 125,
   "id": "6ef00383-823f-4c3d-b977-83b50db2c8d8",
   "metadata": {},
   "outputs": [
    {
     "data": {
      "image/png": "[encoded data removed]",
      "text/plain": [
       "Plot with title \"그림 1\""
      ]
     },
     "metadata": {
      "image/png": {
       "height": 420,
       "width": 420
      }
     },
     "output_type": "display_data"
    }
   ],
   "source": [
    "boxplot(GNP, main = '그림 1')"
   ]
  },
  {
   "cell_type": "markdown",
   "id": "b9d0c9d8-379f-4635-bbc3-de9704d03c92",
   "metadata": {},
   "source": [
    "- 결과적으로 위의 줄기 잎 그림과 상자 그림을 관찰해보니 값이 작은 쪽에 몰려있음을 알 수 있다.\n",
    "- 오른쪽 꼬리가 길다."
   ]
  },
  {
   "cell_type": "markdown",
   "id": "44e5e40e-e4af-4167-a5a2-9b06d0441a37",
   "metadata": {},
   "source": [
    "## 2) 모평균에 대한 95% 신뢰구간을 구하라."
   ]
  },
  {
   "cell_type": "code",
   "execution_count": 128,
   "id": "54f6475a-fd85-48ab-88ad-e99ef7a774eb",
   "metadata": {},
   "outputs": [
    {
     "data": {
      "text/html": [
       "<style>\n",
       ".list-inline {list-style: none; margin:0; padding: 0}\n",
       ".list-inline>li {display: inline-block}\n",
       ".list-inline>li:not(:last-child)::after {content: \"\\00b7\"; padding: 0 .5ex}\n",
       "</style>\n",
       "<ol class=list-inline><li>8912.79611866476</li><li>14138.946898095</li></ol>\n"
      ],
      "text/latex": [
       "\\begin{enumerate*}\n",
       "\\item 8912.79611866476\n",
       "\\item 14138.946898095\n",
       "\\end{enumerate*}\n"
      ],
      "text/markdown": [
       "1. 8912.79611866476\n",
       "2. 14138.946898095\n",
       "\n",
       "\n"
      ],
      "text/plain": [
       "[1]  8912.796 14138.947"
      ]
     },
     "metadata": {},
     "output_type": "display_data"
    }
   ],
   "source": [
    "sample_mean = mean(GNP)\n",
    "sample_stdev = sd(GNP)\n",
    "sample_size = length(GNP)\n",
    "\n",
    "alpha = 0.05\n",
    "\n",
    "t_star = qt(1-alpha/2, df = sample_size - 1)\n",
    "SE = sample_stdev / sqrt(sample_size)\n",
    "\n",
    "CI = c(sample_mean - t_star*SE, sample_mean + t_star*SE)\n",
    "CI"
   ]
  },
  {
   "cell_type": "markdown",
   "id": "7cb9486c-6bec-4ac6-bfe1-66b1f695a7ae",
   "metadata": {},
   "source": [
    "- $\\therefore$ 모평균에 대한 95% 신뢰구간은 8912.796 to 14138.946 이다."
   ]
  },
  {
   "cell_type": "markdown",
   "id": "73c93325-7d57-40ff-bd8f-d03ef9dd2dc3",
   "metadata": {},
   "source": [
    "## 3) 대칭화를 위한 적잘한 변환을 하여라."
   ]
  },
  {
   "cell_type": "markdown",
   "id": "7b689ace-a20c-4df3-ad05-75ec3c1785d5",
   "metadata": {},
   "source": [
    "- 그림 2는 자료를 로그변환한 것의 상자그림이다. 대략 대칭이다."
   ]
  },
  {
   "cell_type": "code",
   "execution_count": 126,
   "id": "8fc4b760-14ef-4e27-ade4-f9e6c63af131",
   "metadata": {},
   "outputs": [],
   "source": [
    "log_GNP = log(GNP)"
   ]
  },
  {
   "cell_type": "code",
   "execution_count": 127,
   "id": "1c00f5b9-154f-45b2-b180-838a750c5fd6",
   "metadata": {},
   "outputs": [
    {
     "data": {
      "image/png": "[encoded data removed]",
      "text/plain": [
       "Plot with title \"그림 2\""
      ]
     },
     "metadata": {
      "image/png": {
       "height": 420,
       "width": 420
      }
     },
     "output_type": "display_data"
    }
   ],
   "source": [
    "boxplot(log_GNP, main = '그림 2')"
   ]
  },
  {
   "cell_type": "code",
   "execution_count": null,
   "id": "f4b01e10-6eb6-4e53-965b-534bd610df90",
   "metadata": {},
   "outputs": [],
   "source": [
    "- 그림 4는 자료를 로그변환한 것의 히스토그램인데 종모양을 띄며 대략 대칭이다.\n",
    "\n",
    "- "
   ]
  },
  {
   "cell_type": "code",
   "execution_count": 131,
   "id": "b226eae1-745f-4eab-aede-91449b68451b",
   "metadata": {},
   "outputs": [
    {
     "data": {
      "image/png": "[encoded data removed]",
      "text/plain": [
       "Plot with title \"그림4\""
      ]
     },
     "metadata": {
      "image/png": {
       "height": 420,
       "width": 420
      }
     },
     "output_type": "display_data"
    }
   ],
   "source": [
    "hist(log_GNP, main = '그림4')"
   ]
  },
  {
   "cell_type": "code",
   "execution_count": null,
   "id": "70683950-429d-4f11-aade-8d5759a45bfc",
   "metadata": {},
   "outputs": [],
   "source": []
  },
  {
   "cell_type": "markdown",
   "id": "b1f67f9e-58f1-45d7-859a-159f46b29c02",
   "metadata": {},
   "source": [
    "## 4) 변환된 자료를 가지고 모평균에 대한 95% 신뢰구간을 구하라."
   ]
  },
  {
   "cell_type": "code",
   "execution_count": 129,
   "id": "51c38431-34f5-4823-bd8a-6e677be23b09",
   "metadata": {},
   "outputs": [
    {
     "data": {
      "text/html": [
       "<style>\n",
       ".list-inline {list-style: none; margin:0; padding: 0}\n",
       ".list-inline>li {display: inline-block}\n",
       ".list-inline>li:not(:last-child)::after {content: \"\\00b7\"; padding: 0 .5ex}\n",
       "</style>\n",
       "<ol class=list-inline><li>7.95390636840708</li><li>8.44164114081878</li></ol>\n"
      ],
      "text/latex": [
       "\\begin{enumerate*}\n",
       "\\item 7.95390636840708\n",
       "\\item 8.44164114081878\n",
       "\\end{enumerate*}\n"
      ],
      "text/markdown": [
       "1. 7.95390636840708\n",
       "2. 8.44164114081878\n",
       "\n",
       "\n"
      ],
      "text/plain": [
       "[1] 7.953906 8.441641"
      ]
     },
     "metadata": {},
     "output_type": "display_data"
    }
   ],
   "source": [
    "log_sample_mean = mean(log_GNP)\n",
    "log_sample_stdev = sd(log_GNP)\n",
    "log_sample_size = length(log_GNP)\n",
    "\n",
    "alpha = 0.05\n",
    "\n",
    "t_star = qt(1-alpha/2, df = log_sample_size - 1)\n",
    "SE = log_sample_stdev / sqrt(log_sample_size)\n",
    "\n",
    "CI = c(log_sample_mean - t_star*SE, log_sample_mean + t_star*SE)\n",
    "CI"
   ]
  },
  {
   "cell_type": "markdown",
   "id": "1576aae3-e81b-4ca2-bd9b-355a24199449",
   "metadata": {},
   "source": [
    "- 변환된 자료에서 모평균에 대한 95% 신뢰구간은 7.953 to 8.441 이다."
   ]
  },
  {
   "cell_type": "markdown",
   "id": "23b96618-4dfa-4638-b096-f70a69413150",
   "metadata": {},
   "source": [
    "## 5) 1) 과 3)의 결과를 탐색하여라"
   ]
  },
  {
   "cell_type": "markdown",
   "id": "9c43a8e4-9d6a-4cb6-b6e0-f325b6752cec",
   "metadata": {},
   "source": [
    "- 신뢰구간은 t-분포 근사를 사용하여 구했는데 변환하지 않은 자료는 비대칭이 너무 심하여 신뢰구간을 구하더라도 오차가 매우 심할 것으로 생각된다. 그에 비하여 변환한 자료는 대칭성이 확보되었으므로 신뢰구간의 타당성이 증가하였다."
   ]
  },
  {
   "cell_type": "markdown",
   "id": "b174f867-9f95-4eb6-bd38-af1269a1e53c",
   "metadata": {},
   "source": [
    "# Problem 2"
   ]
  },
  {
   "cell_type": "markdown",
   "id": "98df2d5c-1d97-49ea-b1dd-efd4e177e5b4",
   "metadata": {},
   "source": [
    "### 확대경으로 물체를 볼 경우 랜즈를 통하여 본 물체의 외견상의 크기(image size)와 랜즈로 부터 물체의 거리(object distance)와는 관계가 있다. 다음은 실험을 통하여 얻은 자료이다. \n",
    "\n",
    "### 적절한 변수변환을 하여 직선을 추정하여 두 변수의 관계에 관해 논하시오"
   ]
  },
  {
   "cell_type": "code",
   "execution_count": 2,
   "id": "9f8ca1f4-307d-4e9c-9396-364f7c474bd7",
   "metadata": {},
   "outputs": [],
   "source": [
    "object_distance = 12:22\n",
    "image_size = c(12, 9.4, 7.2, 6.2, 5.2, 4.5, 4.0, 3.6, 3.2, 3.0, 2.7) "
   ]
  },
  {
   "cell_type": "code",
   "execution_count": 3,
   "id": "84d4ed98-ff00-4c2b-8985-9d2717d500b7",
   "metadata": {},
   "outputs": [
    {
     "data": {
      "text/html": [
       "<table class=\"dataframe\">\n",
       "<caption>A matrix: 2 × 11 of type dbl</caption>\n",
       "<tbody>\n",
       "\t<tr><th scope=row>object_distance</th><td>12</td><td>13.0</td><td>14.0</td><td>15.0</td><td>16.0</td><td>17.0</td><td>18</td><td>19.0</td><td>20.0</td><td>21</td><td>22.0</td></tr>\n",
       "\t<tr><th scope=row>image_size</th><td>12</td><td> 9.4</td><td> 7.2</td><td> 6.2</td><td> 5.2</td><td> 4.5</td><td> 4</td><td> 3.6</td><td> 3.2</td><td> 3</td><td> 2.7</td></tr>\n",
       "</tbody>\n",
       "</table>\n"
      ],
      "text/latex": [
       "A matrix: 2 × 11 of type dbl\n",
       "\\begin{tabular}{r|lllllllllll}\n",
       "\tobject\\_distance & 12 & 13.0 & 14.0 & 15.0 & 16.0 & 17.0 & 18 & 19.0 & 20.0 & 21 & 22.0\\\\\n",
       "\timage\\_size & 12 &  9.4 &  7.2 &  6.2 &  5.2 &  4.5 &  4 &  3.6 &  3.2 &  3 &  2.7\\\\\n",
       "\\end{tabular}\n"
      ],
      "text/markdown": [
       "\n",
       "A matrix: 2 × 11 of type dbl\n",
       "\n",
       "| object_distance | 12 | 13.0 | 14.0 | 15.0 | 16.0 | 17.0 | 18 | 19.0 | 20.0 | 21 | 22.0 |\n",
       "| image_size | 12 |  9.4 |  7.2 |  6.2 |  5.2 |  4.5 |  4 |  3.6 |  3.2 |  3 |  2.7 |\n",
       "\n"
      ],
      "text/plain": [
       "                [,1] [,2] [,3] [,4] [,5] [,6] [,7] [,8] [,9] [,10] [,11]\n",
       "object_distance 12   13.0 14.0 15.0 16.0 17.0 18   19.0 20.0 21    22.0 \n",
       "image_size      12    9.4  7.2  6.2  5.2  4.5  4    3.6  3.2  3     2.7 "
      ]
     },
     "metadata": {},
     "output_type": "display_data"
    }
   ],
   "source": [
    "lens = rbind(object_distance, image_size)\n",
    "lens"
   ]
  },
  {
   "cell_type": "markdown",
   "id": "fbd8b135-fcc8-468d-ad6a-901504348272",
   "metadata": {},
   "source": [
    "- 아래 그림 1은 image size에 따른 object distance를 산점도로 나타낸 것이다. "
   ]
  },
  {
   "cell_type": "code",
   "execution_count": 7,
   "id": "e87a670d-fc44-4c4f-92a0-a9e084bb5166",
   "metadata": {},
   "outputs": [
    {
     "data": {
      "image/png": "[encoded data removed]",
      "text/plain": [
       "Plot with title \"<그림 1>\""
      ]
     },
     "metadata": {
      "image/png": {
       "height": 420,
       "width": 420
      }
     },
     "output_type": "display_data"
    }
   ],
   "source": [
    "plot(object_distance, image_size, main = '<그림 1>')"
   ]
  },
  {
   "cell_type": "markdown",
   "id": "e9e9148d-584a-4436-b3cc-412e54e08e78",
   "metadata": {},
   "source": [
    "- 아래 <그림 2> 는 image size에 로그 변환을 하여 산점도로 나타낸 것이다. 직선 형태를 띄고 있다.\n",
    "- 결론적으로 image size와 object distance는 음의 상관관계를 가지며 object_distance와 log(object distance)는 직선 관계에 있다."
   ]
  },
  {
   "cell_type": "code",
   "execution_count": 15,
   "id": "b5cdd684-2446-46cf-b9cf-a7ab9e0d97b8",
   "metadata": {},
   "outputs": [
    {
     "data": {
      "image/png": "[encoded data removed]",
      "text/plain": [
       "Plot with title \"<그림 2>\""
      ]
     },
     "metadata": {
      "image/png": {
       "height": 420,
       "width": 420
      }
     },
     "output_type": "display_data"
    }
   ],
   "source": [
    "plot(object_distance, log(image_size), main = '<그림 2>')"
   ]
  }
 ],
 "metadata": {
  "kernelspec": {
   "display_name": "R",
   "language": "R",
   "name": "ir"
  },
  "language_info": {
   "codemirror_mode": "r",
   "file_extension": ".r",
   "mimetype": "text/x-r-source",
   "name": "R",
   "pygments_lexer": "r",
   "version": "4.1.2"
  }
 },
 "nbformat": 4,
 "nbformat_minor": 5
}
