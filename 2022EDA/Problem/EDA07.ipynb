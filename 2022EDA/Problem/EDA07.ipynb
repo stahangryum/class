{
 "cells": [
  {
   "cell_type": "markdown",
   "id": "7b35e823-8142-4068-9836-8477521adc17",
   "metadata": {},
   "source": [
    "## 탐색적자료분석 7장 과제\n",
    "\n",
    "#### 202115789 통계학과 김지우"
   ]
  },
  {
   "cell_type": "code",
   "execution_count": 4,
   "id": "82b6f20d-c4af-4302-a1c7-b8dac931b4b6",
   "metadata": {},
   "outputs": [],
   "source": [
    "data(UCBAdmissions)"
   ]
  },
  {
   "cell_type": "code",
   "execution_count": 5,
   "id": "5dec2389-a049-453b-8edc-f264cd34678a",
   "metadata": {},
   "outputs": [
    {
     "data": {
      "text/plain": [
       ", , Dept = A\n",
       "\n",
       "          Gender\n",
       "Admit      Male Female\n",
       "  Admitted  512     89\n",
       "  Rejected  313     19\n",
       "\n",
       ", , Dept = B\n",
       "\n",
       "          Gender\n",
       "Admit      Male Female\n",
       "  Admitted  353     17\n",
       "  Rejected  207      8\n",
       "\n",
       ", , Dept = C\n",
       "\n",
       "          Gender\n",
       "Admit      Male Female\n",
       "  Admitted  120    202\n",
       "  Rejected  205    391\n",
       "\n",
       ", , Dept = D\n",
       "\n",
       "          Gender\n",
       "Admit      Male Female\n",
       "  Admitted  138    131\n",
       "  Rejected  279    244\n",
       "\n",
       ", , Dept = E\n",
       "\n",
       "          Gender\n",
       "Admit      Male Female\n",
       "  Admitted   53     94\n",
       "  Rejected  138    299\n",
       "\n",
       ", , Dept = F\n",
       "\n",
       "          Gender\n",
       "Admit      Male Female\n",
       "  Admitted   22     24\n",
       "  Rejected  351    317\n"
      ]
     },
     "metadata": {},
     "output_type": "display_data"
    }
   ],
   "source": [
    "UCBAdmissions"
   ]
  },
  {
   "cell_type": "code",
   "execution_count": 23,
   "id": "9f353121-e957-4284-a76b-79dfe9caa197",
   "metadata": {},
   "outputs": [
    {
     "data": {
      "text/html": [
       "<table class=\"dataframe\">\n",
       "<caption>A table: 3 × 7 of type dbl</caption>\n",
       "<thead>\n",
       "\t<tr><th></th><th scope=col>A</th><th scope=col>B</th><th scope=col>C</th><th scope=col>D</th><th scope=col>E</th><th scope=col>F</th><th scope=col>Sum</th></tr>\n",
       "</thead>\n",
       "<tbody>\n",
       "\t<tr><th scope=row>Male</th><td>825</td><td>560</td><td>325</td><td>417</td><td>191</td><td>373</td><td>2691</td></tr>\n",
       "\t<tr><th scope=row>Female</th><td>108</td><td> 25</td><td>593</td><td>375</td><td>393</td><td>341</td><td>1835</td></tr>\n",
       "\t<tr><th scope=row>Sum</th><td>933</td><td>585</td><td>918</td><td>792</td><td>584</td><td>714</td><td>4526</td></tr>\n",
       "</tbody>\n",
       "</table>\n"
      ],
      "text/latex": [
       "A table: 3 × 7 of type dbl\n",
       "\\begin{tabular}{r|lllllll}\n",
       "  & A & B & C & D & E & F & Sum\\\\\n",
       "\\hline\n",
       "\tMale & 825 & 560 & 325 & 417 & 191 & 373 & 2691\\\\\n",
       "\tFemale & 108 &  25 & 593 & 375 & 393 & 341 & 1835\\\\\n",
       "\tSum & 933 & 585 & 918 & 792 & 584 & 714 & 4526\\\\\n",
       "\\end{tabular}\n"
      ],
      "text/markdown": [
       "\n",
       "A table: 3 × 7 of type dbl\n",
       "\n",
       "| <!--/--> | A | B | C | D | E | F | Sum |\n",
       "|---|---|---|---|---|---|---|---|\n",
       "| Male | 825 | 560 | 325 | 417 | 191 | 373 | 2691 |\n",
       "| Female | 108 |  25 | 593 | 375 | 393 | 341 | 1835 |\n",
       "| Sum | 933 | 585 | 918 | 792 | 584 | 714 | 4526 |\n",
       "\n"
      ],
      "text/plain": [
       "        Dept\n",
       "Gender   A   B   C   D   E   F   Sum \n",
       "  Male   825 560 325 417 191 373 2691\n",
       "  Female 108  25 593 375 393 341 1835\n",
       "  Sum    933 585 918 792 584 714 4526"
      ]
     },
     "metadata": {},
     "output_type": "display_data"
    }
   ],
   "source": [
    "Tab1 = UCBAdmissions[1,,]\n",
    "Tab2 = UCBAdmissions[2,,]\n",
    "Tab = Tab1 + Tab2\n",
    "addmargins(Tab)"
   ]
  },
  {
   "cell_type": "code",
   "execution_count": 27,
   "id": "708cd876-75e1-490c-91d8-51785bb55812",
   "metadata": {},
   "outputs": [
    {
     "data": {
      "text/plain": [
       "        Dept\n",
       "Gender     A   B   C   D   E   F\n",
       "  Male   825 560 325 417 191 373\n",
       "  Female 108  25 593 375 393 341"
      ]
     },
     "metadata": {},
     "output_type": "display_data"
    }
   ],
   "source": [
    "Tab"
   ]
  },
  {
   "cell_type": "code",
   "execution_count": 26,
   "id": "8ed6fea9-b4e0-40df-9489-f97e0d96db9d",
   "metadata": {},
   "outputs": [
    {
     "data": {
      "image/png": "[encoded data removed]",
      "text/plain": [
       "plot without title"
      ]
     },
     "metadata": {
      "image/png": {
       "height": 420,
       "width": 420
      }
     },
     "output_type": "display_data"
    }
   ],
   "source": [
    "par(mfrow = c(1, 2))\n",
    "barplot(Tab, legend = rownames(Tab))\n",
    "\n",
    "Tab_col = apply(Tab, 2, sum)\n",
    "Tab_c = Tab %*% diag(1/Tab_col) * 100\n",
    "colnames(Tab_c) = c('A', 'B', 'C', 'D', 'E', 'F')\n",
    "rownames(Tab_c) = c('Male', 'Female')\n",
    "barplot(Tab_c, legend = rownames(Tab_c))"
   ]
  },
  {
   "cell_type": "code",
   "execution_count": 33,
   "id": "74e37eb2-bd5e-44a3-8d0c-97b643b2a8b9",
   "metadata": {},
   "outputs": [
    {
     "data": {
      "image/png": "[encoded data removed]",
      "text/plain": [
       "plot without title"
      ]
     },
     "metadata": {
      "image/png": {
       "height": 420,
       "width": 420
      }
     },
     "output_type": "display_data"
    }
   ],
   "source": [
    "par(mfrow = c(1,2))\n",
    "barplot(t(Tab), beside = T, legend = colnames(Tab))\n",
    "Tab_row = apply(Tab, 1, sum)\n",
    "Tab_r = diag(1/Tab_row) %*% Tab * 100\n",
    "colnames(Tab_r) = c('A', 'B', 'C', 'D', 'E', 'F')\n",
    "rownames(Tab_r) = c('Male', 'Female')\n",
    "barplot(t(Tab_r), beside = T, legend = colnames(Tab_r))"
   ]
  },
  {
   "cell_type": "code",
   "execution_count": 34,
   "id": "53f66b30-9463-4686-80da-2f3c3452c1f5",
   "metadata": {},
   "outputs": [
    {
     "data": {
      "text/html": [
       "<table class=\"dataframe\">\n",
       "<caption>A table: 3 × 7 of type dbl</caption>\n",
       "<thead>\n",
       "\t<tr><th></th><th scope=col>A</th><th scope=col>B</th><th scope=col>C</th><th scope=col>D</th><th scope=col>E</th><th scope=col>F</th><th scope=col>Sum</th></tr>\n",
       "</thead>\n",
       "<tbody>\n",
       "\t<tr><th scope=row>Admitted</th><td>512</td><td>353</td><td>120</td><td>138</td><td> 53</td><td> 22</td><td>1198</td></tr>\n",
       "\t<tr><th scope=row>Rejected</th><td>313</td><td>207</td><td>205</td><td>279</td><td>138</td><td>351</td><td>1493</td></tr>\n",
       "\t<tr><th scope=row>Sum</th><td>825</td><td>560</td><td>325</td><td>417</td><td>191</td><td>373</td><td>2691</td></tr>\n",
       "</tbody>\n",
       "</table>\n"
      ],
      "text/latex": [
       "A table: 3 × 7 of type dbl\n",
       "\\begin{tabular}{r|lllllll}\n",
       "  & A & B & C & D & E & F & Sum\\\\\n",
       "\\hline\n",
       "\tAdmitted & 512 & 353 & 120 & 138 &  53 &  22 & 1198\\\\\n",
       "\tRejected & 313 & 207 & 205 & 279 & 138 & 351 & 1493\\\\\n",
       "\tSum & 825 & 560 & 325 & 417 & 191 & 373 & 2691\\\\\n",
       "\\end{tabular}\n"
      ],
      "text/markdown": [
       "\n",
       "A table: 3 × 7 of type dbl\n",
       "\n",
       "| <!--/--> | A | B | C | D | E | F | Sum |\n",
       "|---|---|---|---|---|---|---|---|\n",
       "| Admitted | 512 | 353 | 120 | 138 |  53 |  22 | 1198 |\n",
       "| Rejected | 313 | 207 | 205 | 279 | 138 | 351 | 1493 |\n",
       "| Sum | 825 | 560 | 325 | 417 | 191 | 373 | 2691 |\n",
       "\n"
      ],
      "text/plain": [
       "          Dept\n",
       "Admit      A   B   C   D   E   F   Sum \n",
       "  Admitted 512 353 120 138  53  22 1198\n",
       "  Rejected 313 207 205 279 138 351 1493\n",
       "  Sum      825 560 325 417 191 373 2691"
      ]
     },
     "metadata": {},
     "output_type": "display_data"
    },
    {
     "data": {
      "text/html": [
       "<table class=\"dataframe\">\n",
       "<caption>A table: 3 × 7 of type dbl</caption>\n",
       "<thead>\n",
       "\t<tr><th></th><th scope=col>A</th><th scope=col>B</th><th scope=col>C</th><th scope=col>D</th><th scope=col>E</th><th scope=col>F</th><th scope=col>Sum</th></tr>\n",
       "</thead>\n",
       "<tbody>\n",
       "\t<tr><th scope=row>Admitted</th><td> 89</td><td>17</td><td>202</td><td>131</td><td> 94</td><td> 24</td><td> 557</td></tr>\n",
       "\t<tr><th scope=row>Rejected</th><td> 19</td><td> 8</td><td>391</td><td>244</td><td>299</td><td>317</td><td>1278</td></tr>\n",
       "\t<tr><th scope=row>Sum</th><td>108</td><td>25</td><td>593</td><td>375</td><td>393</td><td>341</td><td>1835</td></tr>\n",
       "</tbody>\n",
       "</table>\n"
      ],
      "text/latex": [
       "A table: 3 × 7 of type dbl\n",
       "\\begin{tabular}{r|lllllll}\n",
       "  & A & B & C & D & E & F & Sum\\\\\n",
       "\\hline\n",
       "\tAdmitted &  89 & 17 & 202 & 131 &  94 &  24 &  557\\\\\n",
       "\tRejected &  19 &  8 & 391 & 244 & 299 & 317 & 1278\\\\\n",
       "\tSum & 108 & 25 & 593 & 375 & 393 & 341 & 1835\\\\\n",
       "\\end{tabular}\n"
      ],
      "text/markdown": [
       "\n",
       "A table: 3 × 7 of type dbl\n",
       "\n",
       "| <!--/--> | A | B | C | D | E | F | Sum |\n",
       "|---|---|---|---|---|---|---|---|\n",
       "| Admitted |  89 | 17 | 202 | 131 |  94 |  24 |  557 |\n",
       "| Rejected |  19 |  8 | 391 | 244 | 299 | 317 | 1278 |\n",
       "| Sum | 108 | 25 | 593 | 375 | 393 | 341 | 1835 |\n",
       "\n"
      ],
      "text/plain": [
       "          Dept\n",
       "Admit      A   B  C   D   E   F   Sum \n",
       "  Admitted  89 17 202 131  94  24  557\n",
       "  Rejected  19  8 391 244 299 317 1278\n",
       "  Sum      108 25 593 375 393 341 1835"
      ]
     },
     "metadata": {},
     "output_type": "display_data"
    }
   ],
   "source": [
    "Tab_M = UCBAdmissions[,1,]\n",
    "addmargins(Tab_M)\n",
    "Tab_F = UCBAdmissions[,2,]\n",
    "addmargins(Tab_F)"
   ]
  },
  {
   "cell_type": "code",
   "execution_count": 37,
   "id": "68548648-9511-411c-9d7e-283a42346686",
   "metadata": {},
   "outputs": [
    {
     "data": {
      "image/png": "[encoded data removed]",
      "text/plain": [
       "Plot with title \"Female\""
      ]
     },
     "metadata": {
      "image/png": {
       "height": 420,
       "width": 420
      }
     },
     "output_type": "display_data"
    }
   ],
   "source": [
    "par(mfrow = c(1,2))\n",
    "Tab_M_col = apply(Tab_M, 2, sum)\n",
    "Tab_M_c = Tab_M %*% diag(1/Tab_M_col) * 100\n",
    "colnames(Tab_M_c) = c('A', 'B', 'C', 'D', 'E', 'F')\n",
    "barplot(Tab_M_c, legend = rownames(Tab_M_c), main = 'Male')\n",
    "\n",
    "Tab_F_col = apply(Tab_F, 2, sum)\n",
    "Tab_F_c = Tab_F %*% diag(1/Tab_F_col) * 100\n",
    "colnames(Tab_F_c) = c('A', 'B', 'C', 'D', 'E', 'F')\n",
    "barplot(Tab_F_c, legend = rownames(Tab_F_c), main = 'Female')"
   ]
  },
  {
   "cell_type": "code",
   "execution_count": 41,
   "id": "8af3943d-4c91-411b-9b27-17a18b90122f",
   "metadata": {},
   "outputs": [
    {
     "data": {
      "image/png": "[encoded data removed]",
      "text/plain": [
       "Plot with title \"UCBAdmissions\""
      ]
     },
     "metadata": {
      "image/png": {
       "height": 420,
       "width": 420
      }
     },
     "output_type": "display_data"
    }
   ],
   "source": [
    "par(mfrow = c(1,2))\n",
    "mosaicplot(~Dept + Gender, data = UCBAdmissions, color = T)\n",
    "mosaicplot(~Gender + Dept, data = UCBAdmissions, color = T)"
   ]
  },
  {
   "cell_type": "code",
   "execution_count": 42,
   "id": "2c2917a4-7ac4-455c-b962-3d666f744d46",
   "metadata": {},
   "outputs": [
    {
     "data": {
      "image/png": "[encoded data removed]",
      "text/plain": [
       "Plot with title \"Female\""
      ]
     },
     "metadata": {
      "image/png": {
       "height": 420,
       "width": 420
      }
     },
     "output_type": "display_data"
    }
   ],
   "source": [
    "par(mfrow = c(1,2))\n",
    "Tab_M = as.table(UCBAdmissions[,1,])\n",
    "Tab_F = as.table(UCBAdmissions[,2,])\n",
    "mosaicplot(~Dept+Admit, data = Tab_M, color = T, main = 'Male')\n",
    "mosaicplot(~Dept+Admit, data = Tab_F, color = T, main = 'Female')"
   ]
  },
  {
   "cell_type": "code",
   "execution_count": 43,
   "id": "9fe26d9c-963c-40ca-b691-f6ff64afbac6",
   "metadata": {},
   "outputs": [
    {
     "data": {
      "image/png": "[encoded data removed]",
      "text/plain": [
       "Plot with title \"UCBAdmissions\""
      ]
     },
     "metadata": {
      "image/png": {
       "height": 420,
       "width": 420
      }
     },
     "output_type": "display_data"
    }
   ],
   "source": [
    "par(mfrow = c(1,2))\n",
    "mosaicplot(~Dept+Admit+Gender, data = UCBAdmissions, off = 2, color = T)\n",
    "mosaicplot(~Gender+Admit, data = UCBAdmissions, off = 2, color = T)"
   ]
  }
 ],
 "metadata": {
  "kernelspec": {
   "display_name": "R",
   "language": "R",
   "name": "ir"
  },
  "language_info": {
   "codemirror_mode": "r",
   "file_extension": ".r",
   "mimetype": "text/x-r-source",
   "name": "R",
   "pygments_lexer": "r",
   "version": "4.1.2"
  }
 },
 "nbformat": 4,
 "nbformat_minor": 5
}
