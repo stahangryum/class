{
 "cells": [
  {
   "cell_type": "markdown",
   "id": "7d1f6474-059b-4e47-a6dd-b0ac811229de",
   "metadata": {},
   "source": [
    "# 탐색적자료분석 3주차 레포트"
   ]
  },
  {
   "cell_type": "markdown",
   "id": "000eabb3-9280-46f5-ad58-93fe34a5b1da",
   "metadata": {},
   "source": [
    "## 202115789 통계학과 김지우"
   ]
  },
  {
   "cell_type": "code",
   "execution_count": 2,
   "id": "984afbdd-e170-43fb-99dd-085c624e1e81",
   "metadata": {},
   "outputs": [
    {
     "name": "stderr",
     "output_type": "stream",
     "text": [
      "-- \u001b[1mAttaching packages\u001b[22m ------------------------------------------------------------------------------- tidyverse 1.3.1 --\n",
      "\n",
      "\u001b[32mv\u001b[39m \u001b[34mggplot2\u001b[39m 3.3.5     \u001b[32mv\u001b[39m \u001b[34mpurrr  \u001b[39m 0.3.4\n",
      "\u001b[32mv\u001b[39m \u001b[34mtibble \u001b[39m 3.1.6     \u001b[32mv\u001b[39m \u001b[34mdplyr  \u001b[39m 1.0.7\n",
      "\u001b[32mv\u001b[39m \u001b[34mtidyr  \u001b[39m 1.1.4     \u001b[32mv\u001b[39m \u001b[34mstringr\u001b[39m 1.4.0\n",
      "\u001b[32mv\u001b[39m \u001b[34mreadr  \u001b[39m 2.1.1     \u001b[32mv\u001b[39m \u001b[34mforcats\u001b[39m 0.5.1\n",
      "\n",
      "-- \u001b[1mConflicts\u001b[22m ---------------------------------------------------------------------------------- tidyverse_conflicts() --\n",
      "\u001b[31mx\u001b[39m \u001b[34mdplyr\u001b[39m::\u001b[32mfilter()\u001b[39m masks \u001b[34mstats\u001b[39m::filter()\n",
      "\u001b[31mx\u001b[39m \u001b[34mdplyr\u001b[39m::\u001b[32mlag()\u001b[39m    masks \u001b[34mstats\u001b[39m::lag()\n",
      "\n"
     ]
    }
   ],
   "source": [
    "library(tidyverse)"
   ]
  },
  {
   "cell_type": "markdown",
   "id": "9b230561-6966-4d21-8f73-5e1ddc3ce72c",
   "metadata": {},
   "source": [
    "# Problem"
   ]
  },
  {
   "cell_type": "markdown",
   "id": "eef264cb-5497-43ce-845f-496c7cc0df8b",
   "metadata": {},
   "source": [
    " 다음 자료는 어느 도시의 속도 제한 전과 후의 자동차의 속도를 측정한 자료이다. \n",
    "\n",
    "전: 19, 20, 24, 25, 25, 26, 30, 31, 32, 36, 38, 39, 40, 42, 42, 45, 45, 47, 48, 48, 52, 54, 55, 55, 56, 56, 58, 61, 62, 62, 63, 68, 71\n",
    " \n",
    "후: 11, 18, 22, 23, 25, 28, 29, 30, 30, 32, 32, 32, 35, 39, 40, 43, 44, 45, 47, 47, 50, 51, 51, 53, 56, 62, 64, 65, 67, 73.\n",
    "\n",
    " 이제까지 학습한 stem-and-leaf들을 R을 이용하여 그려보고 분석하시오. \n"
   ]
  },
  {
   "cell_type": "code",
   "execution_count": 1,
   "id": "ab8bdeb3-0645-482d-b72b-10d159dbca00",
   "metadata": {},
   "outputs": [],
   "source": [
    "before = c(19, 20, 24, 25, 25, 26, 30, 31, 32, 36, 38, 39, 40, 42, 42, 45, 45, 47, 48, 48, \n",
    "      52, 54, 55, 55, 56, 56, 58, 61, 62, 62, 63, 68, 71)\n",
    "after = c(11, 18, 22, 23, 25, 28, 29, 30, 30, 32, 32, 32, 35, 39, 40, 43, 44, 45, 47, 47, \n",
    "      50, 51, 51, 53, 56, 62, 64, 65, 67, 73)"
   ]
  },
  {
   "cell_type": "markdown",
   "id": "a677c820-c286-43e0-87ef-57200aad0e1c",
   "metadata": {},
   "source": [
    "- 속도 제한 전과 후의 자동차 속도를 측정한 자료가 각각 before, after 벡터에 저장되어 있다."
   ]
  },
  {
   "cell_type": "code",
   "execution_count": 21,
   "id": "70bca806-c39f-49c3-8234-ccb501735fdb",
   "metadata": {},
   "outputs": [
    {
     "name": "stdout",
     "output_type": "stream",
     "text": [
      "\n",
      "  The decimal point is 1 digit(s) to the right of the |\n",
      "\n",
      "  1 | 9\n",
      "  2 | 04556\n",
      "  3 | 012689\n",
      "  4 | 02255788\n",
      "  5 | 2455668\n",
      "  6 | 12238\n",
      "  7 | 1\n",
      "\n"
     ]
    }
   ],
   "source": [
    "stem(before)"
   ]
  },
  {
   "cell_type": "markdown",
   "id": "c96a213d-12f6-4270-9a36-aaa2e61dda33",
   "metadata": {},
   "source": [
    "- 속도 제한 이전 자료의 줄기와 잎 그림을 살펴보자.\n",
    "\n",
    "- 이상점이 없고 대략 대칭인 종모양이다."
   ]
  },
  {
   "cell_type": "code",
   "execution_count": 26,
   "id": "099c7db3-c6e3-4917-9cb5-f904cb62f7c3",
   "metadata": {},
   "outputs": [
    {
     "name": "stdout",
     "output_type": "stream",
     "text": [
      "\n",
      "  The decimal point is 1 digit(s) to the right of the |\n",
      "\n",
      "  1 | 18\n",
      "  2 | 23589\n",
      "  3 | 0022259\n",
      "  4 | 034577\n",
      "  5 | 01136\n",
      "  6 | 2457\n",
      "  7 | 3\n",
      "\n"
     ]
    }
   ],
   "source": [
    "stem(after)"
   ]
  },
  {
   "cell_type": "markdown",
   "id": "0dde8a28-6710-4dc7-918d-78bad508ecbf",
   "metadata": {},
   "source": [
    "- 속도 제한 이후 자료의 줄기와 잎 그림을 살펴보자.\n",
    "\n",
    "- 속도 제한 이전 자료에 비해 값이 적은 쪽으로 분포가 쏠려있다."
   ]
  },
  {
   "cell_type": "code",
   "execution_count": 44,
   "id": "7da1abce-506f-4409-b6f6-192dfdc7bccc",
   "metadata": {},
   "outputs": [
    {
     "name": "stdout",
     "output_type": "stream",
     "text": [
      "\n",
      "  The decimal point is 1 digit(s) to the right of the |\n",
      "\n",
      "  1 | 9\n",
      "  2 | 04\n",
      "  2 | 556\n",
      "  3 | 012\n",
      "  3 | 689\n",
      "  4 | 022\n",
      "  4 | 55788\n",
      "  5 | 24\n",
      "  5 | 55668\n",
      "  6 | 1223\n",
      "  6 | 8\n",
      "  7 | 1\n",
      "\n",
      "\n",
      "  The decimal point is 1 digit(s) to the right of the |\n",
      "\n",
      "  1 | 1\n",
      "  1 | 8\n",
      "  2 | 23\n",
      "  2 | 589\n",
      "  3 | 00222\n",
      "  3 | 59\n",
      "  4 | 034\n",
      "  4 | 577\n",
      "  5 | 0113\n",
      "  5 | 6\n",
      "  6 | 24\n",
      "  6 | 57\n",
      "  7 | 3\n",
      "\n"
     ]
    }
   ],
   "source": [
    "stem(before, scale = 2)\n",
    "stem(after, scale = 2)"
   ]
  },
  {
   "cell_type": "markdown",
   "id": "aae807b5-ea96-4e05-aba6-494e5c4afda0",
   "metadata": {},
   "source": [
    "- 자료를 면밀하게 살피기 위하여 `scale`을 각각 `2`로 조정하고 살펴보자.\n",
    "\n",
    "- 분포의 집중도 차이가 보다 확연하게 드러나는데 `속도 제한 이전의 분포`는 줄기가 큰 쪽에 집중된 반면` 속도 제한 이후의 분포`는 줄기가 작은 쪽에 집중되어 있다.\n",
    "\n",
    "- 결론적으로 속도 제한이 자동차의 속도를 대체로 감소시켰다고 볼 수 있다."
   ]
  },
  {
   "cell_type": "code",
   "execution_count": 41,
   "id": "df48497e-1864-430e-b16a-68c67021a87d",
   "metadata": {},
   "outputs": [
    {
     "data": {
      "text/html": [
       "'속도 제한 이전 평균 44.6969696969697'"
      ],
      "text/latex": [
       "'속도 제한 이전 평균 44.6969696969697'"
      ],
      "text/markdown": [
       "'속도 제한 이전 평균 44.6969696969697'"
      ],
      "text/plain": [
       "[1] \"속도 제한 이전 평균 44.6969696969697\""
      ]
     },
     "metadata": {},
     "output_type": "display_data"
    },
    {
     "data": {
      "text/html": [
       "'속도 제한 이후 평균 41.4666666666667'"
      ],
      "text/latex": [
       "'속도 제한 이후 평균 41.4666666666667'"
      ],
      "text/markdown": [
       "'속도 제한 이후 평균 41.4666666666667'"
      ],
      "text/plain": [
       "[1] \"속도 제한 이후 평균 41.4666666666667\""
      ]
     },
     "metadata": {},
     "output_type": "display_data"
    },
    {
     "data": {
      "text/html": [
       "'속도 제한 이전 중앙값 45'"
      ],
      "text/latex": [
       "'속도 제한 이전 중앙값 45'"
      ],
      "text/markdown": [
       "'속도 제한 이전 중앙값 45'"
      ],
      "text/plain": [
       "[1] \"속도 제한 이전 중앙값 45\""
      ]
     },
     "metadata": {},
     "output_type": "display_data"
    },
    {
     "data": {
      "text/html": [
       "'속도 제한 이후 중앙값 41.5'"
      ],
      "text/latex": [
       "'속도 제한 이후 중앙값 41.5'"
      ],
      "text/markdown": [
       "'속도 제한 이후 중앙값 41.5'"
      ],
      "text/plain": [
       "[1] \"속도 제한 이후 중앙값 41.5\""
      ]
     },
     "metadata": {},
     "output_type": "display_data"
    }
   ],
   "source": [
    "paste('속도 제한 이전 평균', mean(before))\n",
    "paste('속도 제한 이후 평균', mean(after))\n",
    "paste('속도 제한 이전 중앙값', median(before))\n",
    "paste('속도 제한 이후 중앙값', median(after))"
   ]
  },
  {
   "cell_type": "markdown",
   "id": "462b26d3-b667-424d-a25a-d2726b4d6dbb",
   "metadata": {},
   "source": [
    "- 추가적으로 평균과 중앙값 모두 속도 제한 이후 감소하였다."
   ]
  }
 ],
 "metadata": {
  "kernelspec": {
   "display_name": "R",
   "language": "R",
   "name": "ir"
  },
  "language_info": {
   "codemirror_mode": "r",
   "file_extension": ".r",
   "mimetype": "text/x-r-source",
   "name": "R",
   "pygments_lexer": "r",
   "version": "4.1.2"
  }
 },
 "nbformat": 4,
 "nbformat_minor": 5
}
