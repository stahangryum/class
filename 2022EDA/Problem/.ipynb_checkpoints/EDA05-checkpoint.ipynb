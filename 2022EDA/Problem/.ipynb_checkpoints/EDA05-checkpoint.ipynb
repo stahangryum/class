{
 "cells": [
  {
   "cell_type": "markdown",
   "id": "e2698ede-ebb9-4f3b-b960-dfea4f0a02f7",
   "metadata": {},
   "source": [
    "# Problem 1"
   ]
  },
  {
   "cell_type": "markdown",
   "id": "f1449b82-fb33-4bf5-9825-a5be0522bfc0",
   "metadata": {},
   "source": [
    "- 후술"
   ]
  },
  {
   "cell_type": "markdown",
   "id": "b174f867-9f95-4eb6-bd38-af1269a1e53c",
   "metadata": {},
   "source": [
    "# Problem 2"
   ]
  },
  {
   "cell_type": "code",
   "execution_count": 18,
   "id": "9f8ca1f4-307d-4e9c-9396-364f7c474bd7",
   "metadata": {},
   "outputs": [],
   "source": [
    "object_distance = 12:22\n",
    "image_size = c(12, 9.4, 7.2, 6.2, 5.2, 4.5, 4.0, 3.6, 3.2, 3.0, 2.7) "
   ]
  },
  {
   "cell_type": "code",
   "execution_count": 20,
   "id": "84d4ed98-ff00-4c2b-8985-9d2717d500b7",
   "metadata": {},
   "outputs": [
    {
     "data": {
      "text/html": [
       "<table class=\"dataframe\">\n",
       "<caption>A matrix: 2 × 11 of type dbl</caption>\n",
       "<tbody>\n",
       "\t<tr><th scope=row>object_distance</th><td>12</td><td>13.0</td><td>14.0</td><td>15.0</td><td>16.0</td><td>17.0</td><td>18</td><td>19.0</td><td>20.0</td><td>21</td><td>22.0</td></tr>\n",
       "\t<tr><th scope=row>image_size</th><td>12</td><td> 9.4</td><td> 7.2</td><td> 6.2</td><td> 5.2</td><td> 4.5</td><td> 4</td><td> 3.6</td><td> 3.2</td><td> 3</td><td> 2.7</td></tr>\n",
       "</tbody>\n",
       "</table>\n"
      ],
      "text/latex": [
       "A matrix: 2 × 11 of type dbl\n",
       "\\begin{tabular}{r|lllllllllll}\n",
       "\tobject\\_distance & 12 & 13.0 & 14.0 & 15.0 & 16.0 & 17.0 & 18 & 19.0 & 20.0 & 21 & 22.0\\\\\n",
       "\timage\\_size & 12 &  9.4 &  7.2 &  6.2 &  5.2 &  4.5 &  4 &  3.6 &  3.2 &  3 &  2.7\\\\\n",
       "\\end{tabular}\n"
      ],
      "text/markdown": [
       "\n",
       "A matrix: 2 × 11 of type dbl\n",
       "\n",
       "| object_distance | 12 | 13.0 | 14.0 | 15.0 | 16.0 | 17.0 | 18 | 19.0 | 20.0 | 21 | 22.0 |\n",
       "| image_size | 12 |  9.4 |  7.2 |  6.2 |  5.2 |  4.5 |  4 |  3.6 |  3.2 |  3 |  2.7 |\n",
       "\n"
      ],
      "text/plain": [
       "                [,1] [,2] [,3] [,4] [,5] [,6] [,7] [,8] [,9] [,10] [,11]\n",
       "object_distance 12   13.0 14.0 15.0 16.0 17.0 18   19.0 20.0 21    22.0 \n",
       "image_size      12    9.4  7.2  6.2  5.2  4.5  4    3.6  3.2  3     2.7 "
      ]
     },
     "metadata": {},
     "output_type": "display_data"
    }
   ],
   "source": [
    "lens = rbind(object_distance, image_size)\n",
    "lens"
   ]
  },
  {
   "cell_type": "code",
   "execution_count": 19,
   "id": "e87a670d-fc44-4c4f-92a0-a9e084bb5166",
   "metadata": {},
   "outputs": [
    {
     "data": {
      "image/png": "[encoded data removed]",
      "text/plain": [
       "plot without title"
      ]
     },
     "metadata": {
      "image/png": {
       "height": 420,
       "width": 420
      }
     },
     "output_type": "display_data"
    }
   ],
   "source": [
    "plot(image_size ~ object_distance)"
   ]
  },
  {
   "cell_type": "code",
   "execution_count": null,
   "id": "b5cdd684-2446-46cf-b9cf-a7ab9e0d97b8",
   "metadata": {},
   "outputs": [],
   "source": []
  }
 ],
 "metadata": {
  "kernelspec": {
   "display_name": "R",
   "language": "R",
   "name": "ir"
  },
  "language_info": {
   "codemirror_mode": "r",
   "file_extension": ".r",
   "mimetype": "text/x-r-source",
   "name": "R",
   "pygments_lexer": "r",
   "version": "4.1.2"
  }
 },
 "nbformat": 4,
 "nbformat_minor": 5
}
