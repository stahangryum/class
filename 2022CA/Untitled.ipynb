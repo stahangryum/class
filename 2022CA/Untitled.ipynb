{
 "cells": [
  {
   "cell_type": "code",
   "execution_count": 1,
   "id": "6a8562f6-696a-49d1-a3b3-e3cb7936b899",
   "metadata": {},
   "outputs": [],
   "source": [
    "i = 3\n",
    "n = 5"
   ]
  },
  {
   "cell_type": "code",
   "execution_count": 10,
   "id": "71b7435e-ccf9-443c-bd02-158b56079f2a",
   "metadata": {},
   "outputs": [
    {
     "data": {
      "text/html": [
       "0.5"
      ],
      "text/latex": [
       "0.5"
      ],
      "text/markdown": [
       "0.5"
      ],
      "text/plain": [
       "[1] 0.5"
      ]
     },
     "metadata": {},
     "output_type": "display_data"
    }
   ],
   "source": [
    "(i - 0.5 )/n"
   ]
  },
  {
   "cell_type": "code",
   "execution_count": 11,
   "id": "402b3034-17ee-4ccb-9f51-5d09a9311b2f",
   "metadata": {},
   "outputs": [
    {
     "data": {
      "text/html": [
       "0.5"
      ],
      "text/latex": [
       "0.5"
      ],
      "text/markdown": [
       "0.5"
      ],
      "text/plain": [
       "[1] 0.5"
      ]
     },
     "metadata": {},
     "output_type": "display_data"
    }
   ],
   "source": [
    "(i-1/3)/(n+1/3)"
   ]
  },
  {
   "cell_type": "code",
   "execution_count": 12,
   "id": "fd00b00b-0be8-4273-b3de-0b6ad8037dd1",
   "metadata": {},
   "outputs": [
    {
     "data": {
      "text/html": [
       "0.5"
      ],
      "text/latex": [
       "0.5"
      ],
      "text/markdown": [
       "0.5"
      ],
      "text/plain": [
       "[1] 0.5"
      ]
     },
     "metadata": {},
     "output_type": "display_data"
    }
   ],
   "source": [
    "(i-1)/(n-1)"
   ]
  },
  {
   "cell_type": "code",
   "execution_count": 6,
   "id": "833a537c-562f-4f33-a7d2-6d9bd8eb64d1",
   "metadata": {},
   "outputs": [
    {
     "data": {
      "image/png": "[encoded data removed]",
      "text/plain": [
       "plot without title"
      ]
     },
     "metadata": {
      "image/png": {
       "height": 420,
       "width": 420
      }
     },
     "output_type": "display_data"
    }
   ],
   "source": [
    "plot(0:10, 0:10, xlab=\"\", ylab=\"\", xaxt=\"n\", yaxt=\"n\", type=\"n\")\n",
    "\n",
    "rect(6, 6, 9, 9)\n",
    "\n",
    "corners <- function(){\n",
    "  # locator(1)은 마우스로 찍 점 하나의 위치 \n",
    "  coos <- c(unlist(locator(1)), unlist(locator(1)))\n",
    "  rect(coos[1], coos[2], coos[3], coos[4])\n",
    "}\n",
    "corners()"
   ]
  },
  {
   "cell_type": "code",
   "execution_count": null,
   "id": "17a3d8de-8610-4888-a005-feb5f121672e",
   "metadata": {},
   "outputs": [],
   "source": [
    "n= 2\n",
    "expression\n",
    "bquote"
   ]
  },
  {
   "cell_type": "code",
   "execution_count": null,
   "id": "7ee0ffbf-e3f0-4252-8048-f918d1ecc962",
   "metadata": {},
   "outputs": [],
   "source": []
  }
 ],
 "metadata": {
  "kernelspec": {
   "display_name": "R",
   "language": "R",
   "name": "ir"
  },
  "language_info": {
   "codemirror_mode": "r",
   "file_extension": ".r",
   "mimetype": "text/x-r-source",
   "name": "R",
   "pygments_lexer": "r",
   "version": "4.1.2"
  }
 },
 "nbformat": 4,
 "nbformat_minor": 5
}
