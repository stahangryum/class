{
 "cells": [
  {
   "cell_type": "code",
   "execution_count": 1,
   "id": "68f1e6e3-5cbe-46ec-90cf-5777decb7eb3",
   "metadata": {},
   "outputs": [
    {
     "name": "stderr",
     "output_type": "stream",
     "text": [
      "필요한 패키지를 로딩중입니다: rvest\n",
      "\n",
      "Warning message:\n",
      "\"패키지 'rvest'는 R 버전 4.1.3에서 작성되었습니다\"\n"
     ]
    },
    {
     "name": "stdout",
     "output_type": "stream",
     "text": [
      "[1] \"rvest\"\n"
     ]
    }
   ],
   "source": [
    "if (require(rvest)){\n",
    "    print('rvest')\n",
    "} else {\n",
    "    install.packages('rvest')\n",
    "    library('rvest')\n",
    "}\n",
    "\n",
    "target_url <- 'https://ko.wikipedia.org/wiki/%EC%A1%B0%EC%84%A0_%EA%B5%AD%EC%99%95'\n",
    "html <- read_html(target_url)"
   ]
  },
  {
   "cell_type": "code",
   "execution_count": 31,
   "id": "4676fc27-74ed-4f4c-acca-4acfd3abc9a6",
   "metadata": {},
   "outputs": [],
   "source": [
    "tables <- html %>%\n",
    "    html_nodes('table[class=wikitable]') %>%\n",
    "    html_nodes('tr') %>%    \n",
    "    html_text()\n",
    "tables <- gsub('\\n', '', tables) # \\n을 삭제한다.\n",
    "tables <- tables[grep('^제', tables)][1]\n",
    "\n",
    "sep_tables <- tables %>% # 한글자씩 쪼갠다.\n",
    "    strsplit(split = '') %>%\n",
    "    unlist()\n",
    "\n",
    "# 한자는 사용하지 않으므로 제거해야한다.\n",
    "# 따라서 한글과 숫자가 아닌 문자는 모두 N으로 치환한다.\n",
    "sep_tables[-grep('[ㄱ-ㅎ|가-힣|0-9|]', sep_tables)] = 'N'"
   ]
  },
  {
   "cell_type": "code",
   "execution_count": 32,
   "id": "7f7dac9d-963c-4cd2-819b-8a32cbb88d42",
   "metadata": {},
   "outputs": [
    {
     "data": {
      "text/html": [
       "'제1대'"
      ],
      "text/latex": [
       "'제1대'"
      ],
      "text/markdown": [
       "'제1대'"
      ],
      "text/plain": [
       "[1] \"제1대\""
      ]
     },
     "metadata": {},
     "output_type": "display_data"
    }
   ],
   "source": [
    "order <-\n",
    "    sep_tables[grep('제', sep_tables)[1] : grep('대', sep_tables)[1]] %>%\n",
    "    paste(collapse = '')\n",
    "order"
   ]
  },
  {
   "cell_type": "code",
   "execution_count": 33,
   "id": "80ab25a9-ce5d-43e4-9815-64b451c08513",
   "metadata": {},
   "outputs": [
    {
     "data": {
      "text/html": [
       "'태조'"
      ],
      "text/latex": [
       "'태조'"
      ],
      "text/markdown": [
       "'태조'"
      ],
      "text/plain": [
       "[1] \"태조\""
      ]
     },
     "metadata": {},
     "output_type": "display_data"
    }
   ],
   "source": [
    "name <- \n",
    "    sep_tables[(grep('대', sep_tables)[1]+1): grep('조|종|군', sep_tables)[1]] %>%\n",
    "    paste(collapse = '')\n",
    "name"
   ]
  },
  {
   "cell_type": "code",
   "execution_count": 34,
   "id": "b0c7898a-6fb6-48e3-9511-9716af6a4926",
   "metadata": {},
   "outputs": [
    {
     "data": {
      "text/html": [
       "<style>\n",
       ".list-inline {list-style: none; margin:0; padding: 0}\n",
       ".list-inline>li {display: inline-block}\n",
       ".list-inline>li:not(:last-child)::after {content: \"\\00b7\"; padding: 0 .5ex}\n",
       "</style>\n",
       "<ol class=list-inline><li>'1335'</li><li>'1408'</li><li>'1392'</li><li>'1398'</li></ol>\n"
      ],
      "text/latex": [
       "\\begin{enumerate*}\n",
       "\\item '1335'\n",
       "\\item '1408'\n",
       "\\item '1392'\n",
       "\\item '1398'\n",
       "\\end{enumerate*}\n"
      ],
      "text/markdown": [
       "1. '1335'\n",
       "2. '1408'\n",
       "3. '1392'\n",
       "4. '1398'\n",
       "\n",
       "\n"
      ],
      "text/plain": [
       "[1] \"1335\" \"1408\" \"1392\" \"1398\""
      ]
     },
     "metadata": {},
     "output_type": "display_data"
    }
   ],
   "source": [
    "years <- c()\n",
    "for (i in grep('년', sep_tables)){\n",
    "    years <- c(years, paste0(sep_tables[(i-3):i-1], collapse = ''))\n",
    "}\n",
    "years"
   ]
  },
  {
   "cell_type": "code",
   "execution_count": 35,
   "id": "1cab0cb6-eed8-4b2d-a60c-2d04c4d2ed87",
   "metadata": {},
   "outputs": [
    {
     "data": {
      "text/html": [
       "'1335'"
      ],
      "text/latex": [
       "'1335'"
      ],
      "text/markdown": [
       "'1335'"
      ],
      "text/plain": [
       "[1] \"1335\""
      ]
     },
     "metadata": {},
     "output_type": "display_data"
    },
    {
     "data": {
      "text/html": [
       "'1408'"
      ],
      "text/latex": [
       "'1408'"
      ],
      "text/markdown": [
       "'1408'"
      ],
      "text/plain": [
       "[1] \"1408\""
      ]
     },
     "metadata": {},
     "output_type": "display_data"
    },
    {
     "data": {
      "text/html": [
       "'1392'"
      ],
      "text/latex": [
       "'1392'"
      ],
      "text/markdown": [
       "'1392'"
      ],
      "text/plain": [
       "[1] \"1392\""
      ]
     },
     "metadata": {},
     "output_type": "display_data"
    },
    {
     "data": {
      "text/html": [
       "'1398'"
      ],
      "text/latex": [
       "'1398'"
      ],
      "text/markdown": [
       "'1398'"
      ],
      "text/plain": [
       "[1] \"1398\""
      ]
     },
     "metadata": {},
     "output_type": "display_data"
    }
   ],
   "source": [
    "birth <- years[1]\n",
    "death <- years[2]\n",
    "king_start <- years[3]\n",
    "king_end <- years[4]\n",
    "birth\n",
    "death\n",
    "king_start\n",
    "king_end"
   ]
  },
  {
   "cell_type": "code",
   "execution_count": 36,
   "id": "0f5e58b4-13d5-44d0-99b4-94cd4a9c063a",
   "metadata": {},
   "outputs": [
    {
     "data": {
      "text/html": [
       "'건원릉'"
      ],
      "text/latex": [
       "'건원릉'"
      ],
      "text/markdown": [
       "'건원릉'"
      ],
      "text/plain": [
       "[1] \"건원릉\""
      ]
     },
     "metadata": {},
     "output_type": "display_data"
    }
   ],
   "source": [
    "pasted <- unlist(strsplit(paste0(sep_tables, collapse = ''), split = 'N'))\n",
    "grave <- pasted[grep('릉$', pasted)]\n",
    "grave"
   ]
  },
  {
   "cell_type": "code",
   "execution_count": 37,
   "id": "5d7ce4af-53cd-45e1-8ea7-b5d7e410e0b3",
   "metadata": {},
   "outputs": [
    {
     "data": {
      "text/html": [
       "'건원릉'"
      ],
      "text/latex": [
       "'건원릉'"
      ],
      "text/markdown": [
       "'건원릉'"
      ],
      "text/plain": [
       "[1] \"건원릉\""
      ]
     },
     "metadata": {},
     "output_type": "display_data"
    }
   ],
   "source": [
    "grave"
   ]
  }
 ],
 "metadata": {
  "kernelspec": {
   "display_name": "R",
   "language": "R",
   "name": "ir"
  },
  "language_info": {
   "codemirror_mode": "r",
   "file_extension": ".r",
   "mimetype": "text/x-r-source",
   "name": "R",
   "pygments_lexer": "r",
   "version": "4.1.2"
  }
 },
 "nbformat": 4,
 "nbformat_minor": 5
}
