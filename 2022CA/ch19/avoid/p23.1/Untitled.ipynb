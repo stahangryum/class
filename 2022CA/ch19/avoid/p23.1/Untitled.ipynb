{
 "cells": [
  {
   "cell_type": "code",
   "execution_count": 1,
   "id": "fb6bea9e-52e0-4fbe-8dee-3e22bff420e4",
   "metadata": {},
   "outputs": [],
   "source": [
    "good_report <- c(20.8, 18.7, 19.9, 20.6, 22.0, 23.4, 22.8, 24.9, 22.2, 20.3, 24.9, 22.3, 27.0, 20.4, 22.2, 24.0, 21.2, 22.1, 22.0, 22.7)\n",
    "\n",
    "bad_report <- c(18.0, 19.0, 19.2, 18.8, 18.4, 19.0, 18.5, 16.1, 16.8, 14.0, 17.0, 13.6, 17.5, 19.9, 20.2, 18.8, 18.0, 23.2, 18.2, 19.4)\n",
    "\n",
    "no_report <- c(19.9, 16.0, 15.0, 20.1, 19.3, 19.2, 18.0, 19.2, 21.2, 18.8, 18.5, 19.3, 19.3, 19.4, 10.8, 19.1, 19.7, 19.8, 21.3, 20.6)"
   ]
  },
  {
   "cell_type": "code",
   "execution_count": 2,
   "id": "ae2d07fe-f7b6-49f3-962a-dffb8286fc49",
   "metadata": {},
   "outputs": [
    {
     "data": {
      "text/html": [
       "20"
      ],
      "text/latex": [
       "20"
      ],
      "text/markdown": [
       "20"
      ],
      "text/plain": [
       "[1] 20"
      ]
     },
     "metadata": {},
     "output_type": "display_data"
    }
   ],
   "source": [
    "length(good_report)"
   ]
  },
  {
   "cell_type": "code",
   "execution_count": 3,
   "id": "cb0fe56c-eb84-4b5d-b39f-be716ac48d89",
   "metadata": {},
   "outputs": [
    {
     "data": {
      "text/html": [
       "20"
      ],
      "text/latex": [
       "20"
      ],
      "text/markdown": [
       "20"
      ],
      "text/plain": [
       "[1] 20"
      ]
     },
     "metadata": {},
     "output_type": "display_data"
    }
   ],
   "source": [
    "length(bad_report)"
   ]
  },
  {
   "cell_type": "code",
   "execution_count": 4,
   "id": "dcf93605-31f5-44f7-8fe4-abbb4fb07dcc",
   "metadata": {},
   "outputs": [
    {
     "data": {
      "text/html": [
       "20"
      ],
      "text/latex": [
       "20"
      ],
      "text/markdown": [
       "20"
      ],
      "text/plain": [
       "[1] 20"
      ]
     },
     "metadata": {},
     "output_type": "display_data"
    }
   ],
   "source": [
    "length(no_report)"
   ]
  },
  {
   "cell_type": "code",
   "execution_count": 6,
   "id": "9c86add8-ca3a-4604-88cc-ced9698b5517",
   "metadata": {},
   "outputs": [
    {
     "data": {
      "text/plain": [
       "   Min. 1st Qu.  Median    Mean 3rd Qu.    Max. \n",
       "  18.70   20.75   22.15   22.22   22.95   27.00 "
      ]
     },
     "metadata": {},
     "output_type": "display_data"
    }
   ],
   "source": [
    "summary(good_report)"
   ]
  },
  {
   "cell_type": "code",
   "execution_count": 36,
   "id": "fc796a11-be9a-425a-87c9-3a4a600e2926",
   "metadata": {},
   "outputs": [],
   "source": [
    "reports <- list(good_report = good_report, \n",
    "                bad_report = bad_report,\n",
    "                no_report = no_report)"
   ]
  },
  {
   "cell_type": "code",
   "execution_count": 41,
   "id": "738b4cb0-1a3f-426a-8d16-4a03c14cb9da",
   "metadata": {},
   "outputs": [
    {
     "name": "stdout",
     "output_type": "stream",
     "text": [
      "good_report \n",
      " sample size : 20 \n",
      " mean :  22.22 \n",
      " stdev :  1.958947 \n",
      "bad_report \n",
      " sample size : 20 \n",
      " mean :  18.18 \n",
      " stdev :  2.098019 \n",
      "no_report \n",
      " sample size : 20 \n",
      " mean :  18.725 \n",
      " stdev :  2.388321 \n"
     ]
    }
   ],
   "source": [
    "for (i in 1:length(reports)){\n",
    "    cat(names(reports)[[i]], '\\n',\n",
    "        'sample size :', length(reports[[i]]), '\\n',\n",
    "        'mean : ', mean(reports[[i]]), '\\n',\n",
    "        'stdev : ', sd(reports[[i]]), '\\n')\n",
    "}"
   ]
  },
  {
   "cell_type": "code",
   "execution_count": 32,
   "id": "8267d0d9-907c-47d3-b35a-d0e4d0ead12c",
   "metadata": {},
   "outputs": [
    {
     "data": {
      "text/plain": [
       "NULL"
      ]
     },
     "metadata": {},
     "output_type": "display_data"
    }
   ],
   "source": [
    "names(good_report)"
   ]
  },
  {
   "cell_type": "code",
   "execution_count": 33,
   "id": "76290714-c1e7-4948-8c37-3986f12cc709",
   "metadata": {},
   "outputs": [
    {
     "data": {
      "text/html": [
       "<dl>\n",
       "\t<dt>$good</dt>\n",
       "\t\t<dd><style>\n",
       ".list-inline {list-style: none; margin:0; padding: 0}\n",
       ".list-inline>li {display: inline-block}\n",
       ".list-inline>li:not(:last-child)::after {content: \"\\00b7\"; padding: 0 .5ex}\n",
       "</style>\n",
       "<ol class=list-inline><li>20.8</li><li>18.7</li><li>19.9</li><li>20.6</li><li>22</li><li>23.4</li><li>22.8</li><li>24.9</li><li>22.2</li><li>20.3</li><li>24.9</li><li>22.3</li><li>27</li><li>20.4</li><li>22.2</li><li>24</li><li>21.2</li><li>22.1</li><li>22</li><li>22.7</li></ol>\n",
       "</dd>\n",
       "\t<dt>$bad</dt>\n",
       "\t\t<dd><style>\n",
       ".list-inline {list-style: none; margin:0; padding: 0}\n",
       ".list-inline>li {display: inline-block}\n",
       ".list-inline>li:not(:last-child)::after {content: \"\\00b7\"; padding: 0 .5ex}\n",
       "</style>\n",
       "<ol class=list-inline><li>18</li><li>19</li><li>19.2</li><li>18.8</li><li>18.4</li><li>19</li><li>18.5</li><li>16.1</li><li>16.8</li><li>14</li><li>17</li><li>13.6</li><li>17.5</li><li>19.9</li><li>20.2</li><li>18.8</li><li>18</li><li>23.2</li><li>18.2</li><li>19.4</li></ol>\n",
       "</dd>\n",
       "\t<dt>$no</dt>\n",
       "\t\t<dd><style>\n",
       ".list-inline {list-style: none; margin:0; padding: 0}\n",
       ".list-inline>li {display: inline-block}\n",
       ".list-inline>li:not(:last-child)::after {content: \"\\00b7\"; padding: 0 .5ex}\n",
       "</style>\n",
       "<ol class=list-inline><li>19.9</li><li>16</li><li>15</li><li>20.1</li><li>19.3</li><li>19.2</li><li>18</li><li>19.2</li><li>21.2</li><li>18.8</li><li>18.5</li><li>19.3</li><li>19.3</li><li>19.4</li><li>10.8</li><li>19.1</li><li>19.7</li><li>19.8</li><li>21.3</li><li>20.6</li></ol>\n",
       "</dd>\n",
       "</dl>\n"
      ],
      "text/latex": [
       "\\begin{description}\n",
       "\\item[\\$good] \\begin{enumerate*}\n",
       "\\item 20.8\n",
       "\\item 18.7\n",
       "\\item 19.9\n",
       "\\item 20.6\n",
       "\\item 22\n",
       "\\item 23.4\n",
       "\\item 22.8\n",
       "\\item 24.9\n",
       "\\item 22.2\n",
       "\\item 20.3\n",
       "\\item 24.9\n",
       "\\item 22.3\n",
       "\\item 27\n",
       "\\item 20.4\n",
       "\\item 22.2\n",
       "\\item 24\n",
       "\\item 21.2\n",
       "\\item 22.1\n",
       "\\item 22\n",
       "\\item 22.7\n",
       "\\end{enumerate*}\n",
       "\n",
       "\\item[\\$bad] \\begin{enumerate*}\n",
       "\\item 18\n",
       "\\item 19\n",
       "\\item 19.2\n",
       "\\item 18.8\n",
       "\\item 18.4\n",
       "\\item 19\n",
       "\\item 18.5\n",
       "\\item 16.1\n",
       "\\item 16.8\n",
       "\\item 14\n",
       "\\item 17\n",
       "\\item 13.6\n",
       "\\item 17.5\n",
       "\\item 19.9\n",
       "\\item 20.2\n",
       "\\item 18.8\n",
       "\\item 18\n",
       "\\item 23.2\n",
       "\\item 18.2\n",
       "\\item 19.4\n",
       "\\end{enumerate*}\n",
       "\n",
       "\\item[\\$no] \\begin{enumerate*}\n",
       "\\item 19.9\n",
       "\\item 16\n",
       "\\item 15\n",
       "\\item 20.1\n",
       "\\item 19.3\n",
       "\\item 19.2\n",
       "\\item 18\n",
       "\\item 19.2\n",
       "\\item 21.2\n",
       "\\item 18.8\n",
       "\\item 18.5\n",
       "\\item 19.3\n",
       "\\item 19.3\n",
       "\\item 19.4\n",
       "\\item 10.8\n",
       "\\item 19.1\n",
       "\\item 19.7\n",
       "\\item 19.8\n",
       "\\item 21.3\n",
       "\\item 20.6\n",
       "\\end{enumerate*}\n",
       "\n",
       "\\end{description}\n"
      ],
      "text/markdown": [
       "$good\n",
       ":   1. 20.8\n",
       "2. 18.7\n",
       "3. 19.9\n",
       "4. 20.6\n",
       "5. 22\n",
       "6. 23.4\n",
       "7. 22.8\n",
       "8. 24.9\n",
       "9. 22.2\n",
       "10. 20.3\n",
       "11. 24.9\n",
       "12. 22.3\n",
       "13. 27\n",
       "14. 20.4\n",
       "15. 22.2\n",
       "16. 24\n",
       "17. 21.2\n",
       "18. 22.1\n",
       "19. 22\n",
       "20. 22.7\n",
       "\n",
       "\n",
       "\n",
       "$bad\n",
       ":   1. 18\n",
       "2. 19\n",
       "3. 19.2\n",
       "4. 18.8\n",
       "5. 18.4\n",
       "6. 19\n",
       "7. 18.5\n",
       "8. 16.1\n",
       "9. 16.8\n",
       "10. 14\n",
       "11. 17\n",
       "12. 13.6\n",
       "13. 17.5\n",
       "14. 19.9\n",
       "15. 20.2\n",
       "16. 18.8\n",
       "17. 18\n",
       "18. 23.2\n",
       "19. 18.2\n",
       "20. 19.4\n",
       "\n",
       "\n",
       "\n",
       "$no\n",
       ":   1. 19.9\n",
       "2. 16\n",
       "3. 15\n",
       "4. 20.1\n",
       "5. 19.3\n",
       "6. 19.2\n",
       "7. 18\n",
       "8. 19.2\n",
       "9. 21.2\n",
       "10. 18.8\n",
       "11. 18.5\n",
       "12. 19.3\n",
       "13. 19.3\n",
       "14. 19.4\n",
       "15. 10.8\n",
       "16. 19.1\n",
       "17. 19.7\n",
       "18. 19.8\n",
       "19. 21.3\n",
       "20. 20.6\n",
       "\n",
       "\n",
       "\n",
       "\n",
       "\n"
      ],
      "text/plain": [
       "$good\n",
       " [1] 20.8 18.7 19.9 20.6 22.0 23.4 22.8 24.9 22.2 20.3 24.9 22.3 27.0 20.4 22.2\n",
       "[16] 24.0 21.2 22.1 22.0 22.7\n",
       "\n",
       "$bad\n",
       " [1] 18.0 19.0 19.2 18.8 18.4 19.0 18.5 16.1 16.8 14.0 17.0 13.6 17.5 19.9 20.2\n",
       "[16] 18.8 18.0 23.2 18.2 19.4\n",
       "\n",
       "$no\n",
       " [1] 19.9 16.0 15.0 20.1 19.3 19.2 18.0 19.2 21.2 18.8 18.5 19.3 19.3 19.4 10.8\n",
       "[16] 19.1 19.7 19.8 21.3 20.6\n"
      ]
     },
     "metadata": {},
     "output_type": "display_data"
    }
   ],
   "source": [
    "reports"
   ]
  },
  {
   "cell_type": "code",
   "execution_count": null,
   "id": "1ac6ea4b-5a4d-4aaf-aad3-c5869401b903",
   "metadata": {},
   "outputs": [],
   "source": []
  }
 ],
 "metadata": {
  "kernelspec": {
   "display_name": "R",
   "language": "R",
   "name": "ir"
  },
  "language_info": {
   "codemirror_mode": "r",
   "file_extension": ".r",
   "mimetype": "text/x-r-source",
   "name": "R",
   "pygments_lexer": "r",
   "version": "4.1.2"
  }
 },
 "nbformat": 4,
 "nbformat_minor": 5
}
