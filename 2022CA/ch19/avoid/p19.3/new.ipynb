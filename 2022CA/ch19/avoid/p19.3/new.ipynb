{
 "cells": [
  {
   "cell_type": "code",
   "execution_count": 3,
   "id": "6543bf1e-f269-4111-aacd-086cd47480ac",
   "metadata": {},
   "outputs": [],
   "source": [
    "if (!require(rvest)) install.packages('rvest')\n",
    "library(rvest)\n",
    "\n",
    "if (!require(tidyverse)) install.packages('tidyverse')\n",
    "library(tidyverse)"
   ]
  },
  {
   "cell_type": "code",
   "execution_count": 7,
   "id": "efbb45b8-1d21-4e32-832d-5693e7f8d1e3",
   "metadata": {},
   "outputs": [],
   "source": [
    "order = 7\n",
    "target_url <- 'https://en.wikipedia.org/wiki/List_of_emperors_of_the_Ming_dynasty'\n",
    "html <- ((target_url %>%\n",
    "    read_html %>%\n",
    "    html_nodes('table[class=wikitable]'))[1] %>%\n",
    "    html_nodes('tr'))[order+1] %>%\n",
    "    html_nodes('td') %>%\n",
    "    html_text())[2]\n",
    "\n",
    "unclean_data <- html %>%\n",
    "    strsplit(split = '\\\\(') %>%\n",
    "    unlist()\n",
    "\n",
    "dynasty <- 'Ming'\n",
    "name <- unclean_data[1]\n",
    "\n",
    "years <- (gsub('\\n|\\\\)', '', unclean_data[2]) %>%\n",
    "    strsplit(split = ' ') %>%\n",
    "    unlist())[c(3,6)]\n",
    "\n",
    "birth <- years[1]\n",
    "death <- years[2]"
   ]
  },
  {
   "cell_type": "code",
   "execution_count": 14,
   "id": "e9067398-9209-41fb-bf39-7e84832a329b",
   "metadata": {},
   "outputs": [
    {
     "data": {
      "text/html": [
       "'Tiānshùn天順\\n'"
      ],
      "text/latex": [
       "'Tiānshùn天順\\textbackslash{}n'"
      ],
      "text/markdown": [
       "'Tiānshùn天順\\n'"
      ],
      "text/plain": [
       "[1] \"Ti<U+0101>nshun天順\\n\""
      ]
     },
     "metadata": {},
     "output_type": "display_data"
    }
   ],
   "source": [
    "html"
   ]
  },
  {
   "cell_type": "code",
   "execution_count": 31,
   "id": "e5861745-e077-418e-904a-0d2f4d1af318",
   "metadata": {},
   "outputs": [
    {
     "data": {
      "text/html": [
       "<style>\n",
       ".list-inline {list-style: none; margin:0; padding: 0}\n",
       ".list-inline>li {display: inline-block}\n",
       ".list-inline>li:not(:last-child)::after {content: \"\\00b7\"; padding: 0 .5ex}\n",
       "</style>\n",
       "<ol class=list-inline><li>'\\n\\nHongwu Emperor(21 October 1328 –24 June 1398)\\n\\n23 January 1368 –24 June 1398\\n\\nZhū Yuánzhāng朱元璋\\n\\nHóngwǔ洪武\\n\\nEmperor Gāo高皇帝\\n\\nTàizǔ太祖\\n'</li><li>'\\n\\nJianwen Emperor(5 December 1377 –13 July 1402)\\n\\n30 June 1398 –13 July 1402\\n\\nZhū Yǔnwén朱允炆\\n\\nJiànwén建文\\n\\nEmperor Ràng讓皇帝\\n\\nHuìzōng[b]惠宗\\n'</li><li>'\\n\\nYongle Emperor(2 May 1360 –12 August 1424)\\n\\n17 July 1402 –12 August 1424\\n\\nZhū Dì朱棣\\n\\nYǒnglè永樂\\n\\nEmperor Wén文皇帝\\n\\nTàizōng太宗andChéngzǔ成祖\\n'</li><li>'\\n\\nHongxi Emperor(16 August 1378 –29 May 1425)\\n\\n7 September 1424 –29 May 1425\\n\\nZhū Gāochì朱高熾\\n\\nHóngxī洪熙\\n\\nEmperor Zhāo昭皇帝\\n\\nRénzōng仁宗\\n'</li><li>'\\n\\nXuande Emperor(16 March 1399 –31 January 1435)\\n\\n27 June 1425 –31 January 1435\\n\\nZhū Zhānjī朱瞻基\\n\\nXuāndé宣德\\n\\nEmperor Zhāng章皇帝\\n\\nXuānzōng宣宗\\n'</li><li>'\\n\\nEmperor Yingzong(29 November 1427 –23 February 1464)\\n\\n7 February 1435 –1 September 1449\\n\\nZhū Qízhèn朱祁鎮\\n\\nZhèngtǒng正統\\n\\nEmperor Ruì睿皇帝\\n\\nYīngzōng英宗\\n'</li><li>'\\n\\nJingtai Emperor(21 September 1428 –14 March 1457)\\n\\n22 September 1449 –14 March 1457\\n\\nZhū Qíyù朱祁鈺\\n\\nJǐngtài景泰\\n\\nEmperor Jǐng景皇帝\\n\\nDàizōng代宗\\n'</li><li>'\\n\\nChenghua Emperor(9 December 1447 –9 September 1487)\\n\\n28 February 1464 –9 September 1487\\n\\nZhū Jiànshēn朱見深\\n\\nChénghuà成化\\n\\nEmperor Chún純皇帝\\n\\nXiànzōng憲宗\\n'</li><li>'\\n\\nHongzhi Emperor(30 July 1470 –9 June 1505)\\n\\n22 September 1487 –8 June 1505\\n\\nZhū Yòuchēng朱祐樘\\n\\nHóngzhì弘治\\n\\nEmperor Jìng敬皇帝\\n\\nXiàozōng孝宗\\n'</li><li>'\\n\\nZhengde Emperor(27 October 1491 –20 April 1521)\\n\\n19 June 1505 –20 April 1521\\n\\nZhū Hòuzhào朱厚㷖\\n\\nZhèngdé正德\\n\\nEmperor Yì毅皇帝\\n\\nWǔzōng武宗\\n'</li><li>'\\n\\nJiajing Emperor(16 September 1507 –23 January 1567)\\n\\n27 May 1521 –23 January 1567\\n\\nZhū Hòucōng朱厚熜\\n\\nJiājìng嘉靖\\n\\nEmperor Sù肅皇帝\\n\\nShìzōng世宗\\n'</li><li>'\\n\\nLongqing Emperor(4 March 1537 –5 July 1572)\\n\\n4 February 1567 –5 July 1572\\n\\nZhū Zǎijì朱載坖\\n\\nLóngqìng隆慶\\n\\nEmperor Zhuāng莊皇帝\\n\\nMùzōng穆宗\\n'</li><li>'\\n\\nWanli Emperor(4 September 1563 –18 August 1620)\\n\\n19 July 1572 –18 August 1620\\n\\nZhū Yìjūn朱翊鈞\\n\\nWànlì萬曆\\n\\nEmperor Xiǎn顯皇帝\\n\\nShénzōng神宗\\n'</li><li>'\\n\\nTaichang Emperor(28 August 1582 –26 September 1620)\\n\\n28 August –26 September 1620\\n\\nZhū Chángluò朱常洛\\n\\nTàichāng泰昌\\n\\nEmperor Zhēn貞皇帝\\n\\nGuāngzōng光宗\\n'</li><li>'\\n\\nTianqi Emperor(23 December 1605 –30 September 1627)\\n\\n1 October 1620 –30 September 1627\\n\\nZhū Yóujiào朱由校\\n\\nTiānqǐ天啟\\n\\nEmperor Zhé悊皇帝\\n\\nXīzōng熹宗\\n'</li><li>'\\n\\nChongzhen Emperor(6 February 1611 –25 April 1644)\\n\\n2 October 1627 –25 April 1644\\n\\nZhū Yóujiǎn朱由檢\\n\\nChóngzhēn崇禎\\n\\nEmperor Liè烈皇帝\\n\\nSīzōng思宗\\n'</li></ol>\n"
      ],
      "text/latex": [
       "\\begin{enumerate*}\n",
       "\\item '\\textbackslash{}n\\textbackslash{}nHongwu Emperor(21 October 1328 –24 June 1398)\\textbackslash{}n\\textbackslash{}n23 January 1368 –24 June 1398\\textbackslash{}n\\textbackslash{}nZhū Yuánzhāng朱元璋\\textbackslash{}n\\textbackslash{}nHóngwǔ洪武\\textbackslash{}n\\textbackslash{}nEmperor Gāo高皇帝\\textbackslash{}n\\textbackslash{}nTàizǔ太祖\\textbackslash{}n'\n",
       "\\item '\\textbackslash{}n\\textbackslash{}nJianwen Emperor(5 December 1377 –13 July 1402)\\textbackslash{}n\\textbackslash{}n30 June 1398 –13 July 1402\\textbackslash{}n\\textbackslash{}nZhū Yǔnwén朱允炆\\textbackslash{}n\\textbackslash{}nJiànwén建文\\textbackslash{}n\\textbackslash{}nEmperor Ràng讓皇帝\\textbackslash{}n\\textbackslash{}nHuìzōng{[}b{]}惠宗\\textbackslash{}n'\n",
       "\\item '\\textbackslash{}n\\textbackslash{}nYongle Emperor(2 May 1360 –12 August 1424)\\textbackslash{}n\\textbackslash{}n17 July 1402 –12 August 1424\\textbackslash{}n\\textbackslash{}nZhū Dì朱棣\\textbackslash{}n\\textbackslash{}nYǒnglè永樂\\textbackslash{}n\\textbackslash{}nEmperor Wén文皇帝\\textbackslash{}n\\textbackslash{}nTàizōng太宗andChéngzǔ成祖\\textbackslash{}n'\n",
       "\\item '\\textbackslash{}n\\textbackslash{}nHongxi Emperor(16 August 1378 –29 May 1425)\\textbackslash{}n\\textbackslash{}n7 September 1424 –29 May 1425\\textbackslash{}n\\textbackslash{}nZhū Gāochì朱高熾\\textbackslash{}n\\textbackslash{}nHóngxī洪熙\\textbackslash{}n\\textbackslash{}nEmperor Zhāo昭皇帝\\textbackslash{}n\\textbackslash{}nRénzōng仁宗\\textbackslash{}n'\n",
       "\\item '\\textbackslash{}n\\textbackslash{}nXuande Emperor(16 March 1399 –31 January 1435)\\textbackslash{}n\\textbackslash{}n27 June 1425 –31 January 1435\\textbackslash{}n\\textbackslash{}nZhū Zhānjī朱瞻基\\textbackslash{}n\\textbackslash{}nXuāndé宣德\\textbackslash{}n\\textbackslash{}nEmperor Zhāng章皇帝\\textbackslash{}n\\textbackslash{}nXuānzōng宣宗\\textbackslash{}n'\n",
       "\\item '\\textbackslash{}n\\textbackslash{}nEmperor Yingzong(29 November 1427 –23 February 1464)\\textbackslash{}n\\textbackslash{}n7 February 1435 –1 September 1449\\textbackslash{}n\\textbackslash{}nZhū Qízhèn朱祁鎮\\textbackslash{}n\\textbackslash{}nZhèngtǒng正統\\textbackslash{}n\\textbackslash{}nEmperor Ruì睿皇帝\\textbackslash{}n\\textbackslash{}nYīngzōng英宗\\textbackslash{}n'\n",
       "\\item '\\textbackslash{}n\\textbackslash{}nJingtai Emperor(21 September 1428 –14 March 1457)\\textbackslash{}n\\textbackslash{}n22 September 1449 –14 March 1457\\textbackslash{}n\\textbackslash{}nZhū Qíyù朱祁鈺\\textbackslash{}n\\textbackslash{}nJǐngtài景泰\\textbackslash{}n\\textbackslash{}nEmperor Jǐng景皇帝\\textbackslash{}n\\textbackslash{}nDàizōng代宗\\textbackslash{}n'\n",
       "\\item '\\textbackslash{}n\\textbackslash{}nChenghua Emperor(9 December 1447 –9 September 1487)\\textbackslash{}n\\textbackslash{}n28 February 1464 –9 September 1487\\textbackslash{}n\\textbackslash{}nZhū Jiànshēn朱見深\\textbackslash{}n\\textbackslash{}nChénghuà成化\\textbackslash{}n\\textbackslash{}nEmperor Chún純皇帝\\textbackslash{}n\\textbackslash{}nXiànzōng憲宗\\textbackslash{}n'\n",
       "\\item '\\textbackslash{}n\\textbackslash{}nHongzhi Emperor(30 July 1470 –9 June 1505)\\textbackslash{}n\\textbackslash{}n22 September 1487 –8 June 1505\\textbackslash{}n\\textbackslash{}nZhū Yòuchēng朱祐樘\\textbackslash{}n\\textbackslash{}nHóngzhì弘治\\textbackslash{}n\\textbackslash{}nEmperor Jìng敬皇帝\\textbackslash{}n\\textbackslash{}nXiàozōng孝宗\\textbackslash{}n'\n",
       "\\item '\\textbackslash{}n\\textbackslash{}nZhengde Emperor(27 October 1491 –20 April 1521)\\textbackslash{}n\\textbackslash{}n19 June 1505 –20 April 1521\\textbackslash{}n\\textbackslash{}nZhū Hòuzhào朱厚㷖\\textbackslash{}n\\textbackslash{}nZhèngdé正德\\textbackslash{}n\\textbackslash{}nEmperor Yì毅皇帝\\textbackslash{}n\\textbackslash{}nWǔzōng武宗\\textbackslash{}n'\n",
       "\\item '\\textbackslash{}n\\textbackslash{}nJiajing Emperor(16 September 1507 –23 January 1567)\\textbackslash{}n\\textbackslash{}n27 May 1521 –23 January 1567\\textbackslash{}n\\textbackslash{}nZhū Hòucōng朱厚熜\\textbackslash{}n\\textbackslash{}nJiājìng嘉靖\\textbackslash{}n\\textbackslash{}nEmperor Sù肅皇帝\\textbackslash{}n\\textbackslash{}nShìzōng世宗\\textbackslash{}n'\n",
       "\\item '\\textbackslash{}n\\textbackslash{}nLongqing Emperor(4 March 1537 –5 July 1572)\\textbackslash{}n\\textbackslash{}n4 February 1567 –5 July 1572\\textbackslash{}n\\textbackslash{}nZhū Zǎijì朱載坖\\textbackslash{}n\\textbackslash{}nLóngqìng隆慶\\textbackslash{}n\\textbackslash{}nEmperor Zhuāng莊皇帝\\textbackslash{}n\\textbackslash{}nMùzōng穆宗\\textbackslash{}n'\n",
       "\\item '\\textbackslash{}n\\textbackslash{}nWanli Emperor(4 September 1563 –18 August 1620)\\textbackslash{}n\\textbackslash{}n19 July 1572 –18 August 1620\\textbackslash{}n\\textbackslash{}nZhū Yìjūn朱翊鈞\\textbackslash{}n\\textbackslash{}nWànlì萬曆\\textbackslash{}n\\textbackslash{}nEmperor Xiǎn顯皇帝\\textbackslash{}n\\textbackslash{}nShénzōng神宗\\textbackslash{}n'\n",
       "\\item '\\textbackslash{}n\\textbackslash{}nTaichang Emperor(28 August 1582 –26 September 1620)\\textbackslash{}n\\textbackslash{}n28 August –26 September 1620\\textbackslash{}n\\textbackslash{}nZhū Chángluò朱常洛\\textbackslash{}n\\textbackslash{}nTàichāng泰昌\\textbackslash{}n\\textbackslash{}nEmperor Zhēn貞皇帝\\textbackslash{}n\\textbackslash{}nGuāngzōng光宗\\textbackslash{}n'\n",
       "\\item '\\textbackslash{}n\\textbackslash{}nTianqi Emperor(23 December 1605 –30 September 1627)\\textbackslash{}n\\textbackslash{}n1 October 1620 –30 September 1627\\textbackslash{}n\\textbackslash{}nZhū Yóujiào朱由校\\textbackslash{}n\\textbackslash{}nTiānqǐ天啟\\textbackslash{}n\\textbackslash{}nEmperor Zhé悊皇帝\\textbackslash{}n\\textbackslash{}nXīzōng熹宗\\textbackslash{}n'\n",
       "\\item '\\textbackslash{}n\\textbackslash{}nChongzhen Emperor(6 February 1611 –25 April 1644)\\textbackslash{}n\\textbackslash{}n2 October 1627 –25 April 1644\\textbackslash{}n\\textbackslash{}nZhū Yóujiǎn朱由檢\\textbackslash{}n\\textbackslash{}nChóngzhēn崇禎\\textbackslash{}n\\textbackslash{}nEmperor Liè烈皇帝\\textbackslash{}n\\textbackslash{}nSīzōng思宗\\textbackslash{}n'\n",
       "\\end{enumerate*}\n"
      ],
      "text/markdown": [
       "1. '\\n\\nHongwu Emperor(21 October 1328 –24 June 1398)\\n\\n23 January 1368 –24 June 1398\\n\\nZhū Yuánzhāng朱元璋\\n\\nHóngwǔ洪武\\n\\nEmperor Gāo高皇帝\\n\\nTàizǔ太祖\\n'\n",
       "2. '\\n\\nJianwen Emperor(5 December 1377 –13 July 1402)\\n\\n30 June 1398 –13 July 1402\\n\\nZhū Yǔnwén朱允炆\\n\\nJiànwén建文\\n\\nEmperor Ràng讓皇帝\\n\\nHuìzōng[b]惠宗\\n'\n",
       "3. '\\n\\nYongle Emperor(2 May 1360 –12 August 1424)\\n\\n17 July 1402 –12 August 1424\\n\\nZhū Dì朱棣\\n\\nYǒnglè永樂\\n\\nEmperor Wén文皇帝\\n\\nTàizōng太宗andChéngzǔ成祖\\n'\n",
       "4. '\\n\\nHongxi Emperor(16 August 1378 –29 May 1425)\\n\\n7 September 1424 –29 May 1425\\n\\nZhū Gāochì朱高熾\\n\\nHóngxī洪熙\\n\\nEmperor Zhāo昭皇帝\\n\\nRénzōng仁宗\\n'\n",
       "5. '\\n\\nXuande Emperor(16 March 1399 –31 January 1435)\\n\\n27 June 1425 –31 January 1435\\n\\nZhū Zhānjī朱瞻基\\n\\nXuāndé宣德\\n\\nEmperor Zhāng章皇帝\\n\\nXuānzōng宣宗\\n'\n",
       "6. '\\n\\nEmperor Yingzong(29 November 1427 –23 February 1464)\\n\\n7 February 1435 –1 September 1449\\n\\nZhū Qízhèn朱祁鎮\\n\\nZhèngtǒng正統\\n\\nEmperor Ruì睿皇帝\\n\\nYīngzōng英宗\\n'\n",
       "7. '\\n\\nJingtai Emperor(21 September 1428 –14 March 1457)\\n\\n22 September 1449 –14 March 1457\\n\\nZhū Qíyù朱祁鈺\\n\\nJǐngtài景泰\\n\\nEmperor Jǐng景皇帝\\n\\nDàizōng代宗\\n'\n",
       "8. '\\n\\nChenghua Emperor(9 December 1447 –9 September 1487)\\n\\n28 February 1464 –9 September 1487\\n\\nZhū Jiànshēn朱見深\\n\\nChénghuà成化\\n\\nEmperor Chún純皇帝\\n\\nXiànzōng憲宗\\n'\n",
       "9. '\\n\\nHongzhi Emperor(30 July 1470 –9 June 1505)\\n\\n22 September 1487 –8 June 1505\\n\\nZhū Yòuchēng朱祐樘\\n\\nHóngzhì弘治\\n\\nEmperor Jìng敬皇帝\\n\\nXiàozōng孝宗\\n'\n",
       "10. '\\n\\nZhengde Emperor(27 October 1491 –20 April 1521)\\n\\n19 June 1505 –20 April 1521\\n\\nZhū Hòuzhào朱厚㷖\\n\\nZhèngdé正德\\n\\nEmperor Yì毅皇帝\\n\\nWǔzōng武宗\\n'\n",
       "11. '\\n\\nJiajing Emperor(16 September 1507 –23 January 1567)\\n\\n27 May 1521 –23 January 1567\\n\\nZhū Hòucōng朱厚熜\\n\\nJiājìng嘉靖\\n\\nEmperor Sù肅皇帝\\n\\nShìzōng世宗\\n'\n",
       "12. '\\n\\nLongqing Emperor(4 March 1537 –5 July 1572)\\n\\n4 February 1567 –5 July 1572\\n\\nZhū Zǎijì朱載坖\\n\\nLóngqìng隆慶\\n\\nEmperor Zhuāng莊皇帝\\n\\nMùzōng穆宗\\n'\n",
       "13. '\\n\\nWanli Emperor(4 September 1563 –18 August 1620)\\n\\n19 July 1572 –18 August 1620\\n\\nZhū Yìjūn朱翊鈞\\n\\nWànlì萬曆\\n\\nEmperor Xiǎn顯皇帝\\n\\nShénzōng神宗\\n'\n",
       "14. '\\n\\nTaichang Emperor(28 August 1582 –26 September 1620)\\n\\n28 August –26 September 1620\\n\\nZhū Chángluò朱常洛\\n\\nTàichāng泰昌\\n\\nEmperor Zhēn貞皇帝\\n\\nGuāngzōng光宗\\n'\n",
       "15. '\\n\\nTianqi Emperor(23 December 1605 –30 September 1627)\\n\\n1 October 1620 –30 September 1627\\n\\nZhū Yóujiào朱由校\\n\\nTiānqǐ天啟\\n\\nEmperor Zhé悊皇帝\\n\\nXīzōng熹宗\\n'\n",
       "16. '\\n\\nChongzhen Emperor(6 February 1611 –25 April 1644)\\n\\n2 October 1627 –25 April 1644\\n\\nZhū Yóujiǎn朱由檢\\n\\nChóngzhēn崇禎\\n\\nEmperor Liè烈皇帝\\n\\nSīzōng思宗\\n'\n",
       "\n",
       "\n"
      ],
      "text/plain": [
       " [1] \"\\n\\nHongwu Emperor(21 October 1328 <U+2013>24 June 1398)\\n\\n23 January 1368 <U+2013>24 June 1398\\n\\nZh<U+016B> Yuanzh<U+0101>ng朱元璋\\n\\nHongw<U+01D4>洪武\\n\\nEmperor G<U+0101>o高皇帝\\n\\nTaiz<U+01D4>太祖\\n\"\n",
       " [2] \"\\n\\nJianwen Emperor(5 December 1377 <U+2013>13 July 1402)\\n\\n30 June 1398 <U+2013>13 July 1402\\n\\nZh<U+016B> Y<U+01D4>nwen朱允<U+7086>\\n\\nJianwen建文\\n\\nEmperor Rang讓皇帝\\n\\nHuiz<U+014D>ng[b]惠宗\\n\"\n",
       " [3] \"\\n\\nYongle Emperor(2 May 1360 <U+2013>12 August 1424)\\n\\n17 July 1402 <U+2013>12 August 1424\\n\\nZh<U+016B> Di朱<U+68E3>\\n\\nY<U+01D2>ngle永樂\\n\\nEmperor Wen文皇帝\\n\\nTaiz<U+014D>ng太宗andChengz<U+01D4>成祖\\n\"\n",
       " [4] \"\\n\\nHongxi Emperor(16 August 1378 <U+2013>29 May 1425)\\n\\n7 September 1424 <U+2013>29 May 1425\\n\\nZh<U+016B> G<U+0101>ochi朱高熾\\n\\nHongx<U+012B>洪熙\\n\\nEmperor Zh<U+0101>o昭皇帝\\n\\nRenz<U+014D>ng仁宗\\n\"\n",
       " [5] \"\\n\\nXuande Emperor(16 March 1399 <U+2013>31 January 1435)\\n\\n27 June 1425 <U+2013>31 January 1435\\n\\nZh<U+016B> Zh<U+0101>nj<U+012B>朱瞻基\\n\\nXu<U+0101>nde宣德\\n\\nEmperor Zh<U+0101>ng章皇帝\\n\\nXu<U+0101>nz<U+014D>ng宣宗\\n\"\n",
       " [6] \"\\n\\nEmperor Yingzong(29 November 1427 <U+2013>23 February 1464)\\n\\n7 February 1435 <U+2013>1 September 1449\\n\\nZh<U+016B> Qizhen朱祁<U+93AE>\\n\\nZhengt<U+01D2>ng正統\\n\\nEmperor Rui睿皇帝\\n\\nY<U+012B>ngz<U+014D>ng英宗\\n\"\n",
       " [7] \"\\n\\nJingtai Emperor(21 September 1428 <U+2013>14 March 1457)\\n\\n22 September 1449 <U+2013>14 March 1457\\n\\nZh<U+016B> Qiyu朱祁鈺\\n\\nJ<U+01D0>ngtai景泰\\n\\nEmperor J<U+01D0>ng景皇帝\\n\\nDaiz<U+014D>ng代宗\\n\"\n",
       " [8] \"\\n\\nChenghua Emperor(9 December 1447 <U+2013>9 September 1487)\\n\\n28 February 1464 <U+2013>9 September 1487\\n\\nZh<U+016B> Jiansh<U+0113>n朱見深\\n\\nChenghua成化\\n\\nEmperor Chun純皇帝\\n\\nXianz<U+014D>ng憲宗\\n\"\n",
       " [9] \"\\n\\nHongzhi Emperor(30 July 1470 <U+2013>9 June 1505)\\n\\n22 September 1487 <U+2013>8 June 1505\\n\\nZh<U+016B> Youch<U+0113>ng朱祐<U+6A18>\\n\\nHongzhi弘治\\n\\nEmperor Jing敬皇帝\\n\\nXiaoz<U+014D>ng孝宗\\n\"\n",
       "[10] \"\\n\\nZhengde Emperor(27 October 1491 <U+2013>20 April 1521)\\n\\n19 June 1505 <U+2013>20 April 1521\\n\\nZh<U+016B> Houzhao朱厚<U+3DD6>\\n\\nZhengde正德\\n\\nEmperor Yi毅皇帝\\n\\nW<U+01D4>z<U+014D>ng武宗\\n\"\n",
       "[11] \"\\n\\nJiajing Emperor(16 September 1507 <U+2013>23 January 1567)\\n\\n27 May 1521 <U+2013>23 January 1567\\n\\nZh<U+016B> Houc<U+014D>ng朱厚<U+719C>\\n\\nJi<U+0101>jing嘉靖\\n\\nEmperor Su肅皇帝\\n\\nShiz<U+014D>ng世宗\\n\"\n",
       "[12] \"\\n\\nLongqing Emperor(4 March 1537 <U+2013>5 July 1572)\\n\\n4 February 1567 <U+2013>5 July 1572\\n\\nZh<U+016B> Z<U+01CE>iji朱載<U+5756>\\n\\nLongqing隆慶\\n\\nEmperor Zhu<U+0101>ng莊皇帝\\n\\nMuz<U+014D>ng穆宗\\n\"\n",
       "[13] \"\\n\\nWanli Emperor(4 September 1563 <U+2013>18 August 1620)\\n\\n19 July 1572 <U+2013>18 August 1620\\n\\nZh<U+016B> Yij<U+016B>n朱翊鈞\\n\\nWanli萬曆\\n\\nEmperor Xi<U+01CE>n顯皇帝\\n\\nShenz<U+014D>ng神宗\\n\"\n",
       "[14] \"\\n\\nTaichang Emperor(28 August 1582 <U+2013>26 September 1620)\\n\\n28 August <U+2013>26 September 1620\\n\\nZh<U+016B> Changluo朱常洛\\n\\nTaich<U+0101>ng泰昌\\n\\nEmperor Zh<U+0113>n貞皇帝\\n\\nGu<U+0101>ngz<U+014D>ng光宗\\n\"\n",
       "[15] \"\\n\\nTianqi Emperor(23 December 1605 <U+2013>30 September 1627)\\n\\n1 October 1620 <U+2013>30 September 1627\\n\\nZh<U+016B> Youjiao朱由校\\n\\nTi<U+0101>nq<U+01D0>天<U+555F>\\n\\nEmperor Zhe<U+608A>皇帝\\n\\nX<U+012B>z<U+014D>ng熹宗\\n\"\n",
       "[16] \"\\n\\nChongzhen Emperor(6 February 1611 <U+2013>25 April 1644)\\n\\n2 October 1627 <U+2013>25 April 1644\\n\\nZh<U+016B> Youji<U+01CE>n朱由檢\\n\\nChongzh<U+0113>n崇禎\\n\\nEmperor Lie烈皇帝\\n\\nS<U+012B>z<U+014D>ng思宗\\n\""
      ]
     },
     "metadata": {},
     "output_type": "display_data"
    }
   ],
   "source": [
    "unclean_table = \n",
    "    (target_url %>%\n",
    "        read_html %>%\n",
    "        html_nodes('table[class=wikitable]'))[1] %>%\n",
    "        html_nodes('tbody') %>%\n",
    "        html_nodes('tr') %>% \n",
    "        html_text()\n",
    "\n",
    "requiredRows_index = str_detect(unclean_table, 'Emperor')\n",
    "requiredRows = unclean_table[requiredRows_index]\n",
    "requiredRows"
   ]
  },
  {
   "cell_type": "code",
   "execution_count": 34,
   "id": "39effe2e-9927-43c3-a4b8-b1b65cb36a25",
   "metadata": {},
   "outputs": [
    {
     "data": {
      "text/html": [
       "16"
      ],
      "text/latex": [
       "16"
      ],
      "text/markdown": [
       "16"
      ],
      "text/plain": [
       "[1] 16"
      ]
     },
     "metadata": {},
     "output_type": "display_data"
    }
   ],
   "source": [
    "length(requiredRows)"
   ]
  },
  {
   "cell_type": "code",
   "execution_count": 58,
   "id": "7e3e4156-01fa-4478-b550-ba40239bb0f1",
   "metadata": {},
   "outputs": [
    {
     "name": "stdout",
     "output_type": "stream",
     "text": [
      "[1] \"Hongwu Emperor\" \"1328\"           \"1398\"          \n",
      "[1] \"Jianwen Emperor\" \"1377\"            \"1402\"           \n",
      "[1] \"Yongle Emperor\" \"1360\"           \"1424\"          \n",
      "[1] \"Hongxi Emperor\" \"1378\"           \"1425\"          \n",
      "[1] \"Xuande Emperor\" \"1399\"           \"1435\"          \n",
      "[1] \"Emperor Yingzong\" \"ovember\"          \"February\"        \n",
      "[1] \"Jingtai Emperor\" \"1428\"            \"1457\"           \n",
      "[1] \"Chenghua Emperor\" \"1447\"             \"1487\"            \n",
      "[1] \"Hongzhi Emperor\" \"1470\"            \"1505\"           \n",
      "[1] \"Zhengde Emperor\" \"1491\"            \"1521\"           \n",
      "[1] \"Jiajing Emperor\" \"1507\"            \"1567\"           \n",
      "[1] \"Longqing Emperor\" \"1537\"             \"1572\"            \n"
     ]
    }
   ],
   "source": [
    "for (i in 1:12){\n",
    "    clean_table = requiredRows[i] %>% # 한글자씩 쪼갠다.\n",
    "            strsplit(split = '') %>%\n",
    "            unlist() %>%\n",
    "            str_replace('[^A-Za-z0-9]', 'N')  %>% # (영어, 숫자)가 아닌 문자는 불필요하므로 N으로 치환한다.\n",
    "            paste(collapse = '') %>% # 모든 문자를 합친 다음 N을 기준으로 다시 나눈다.\n",
    "            strsplit('N') %>%\n",
    "            unlist()\n",
    "\n",
    "    print(c(paste(clean_table[3], clean_table[4], collapse = ''), clean_table[7], clean_table[11]))\n",
    "}"
   ]
  },
  {
   "cell_type": "code",
   "execution_count": 94,
   "id": "85cb24c1-9c85-4cb4-ba3e-30acac8b4121",
   "metadata": {},
   "outputs": [],
   "source": [
    "clean_t = gsub('\\n', '', requiredRows[4]) %>% \n",
    "    strsplit('') %>%\n",
    "    unlist"
   ]
  },
  {
   "cell_type": "code",
   "execution_count": 109,
   "id": "aff5195a-83a2-45d5-af15-bf0d89351c51",
   "metadata": {},
   "outputs": [],
   "source": [
    "name_start_index = 1\n",
    "name_end_index = grep('\\\\(', clean_t)-1 # 괄호보다 한 칸 이전에 있으므로 -1"
   ]
  },
  {
   "cell_type": "code",
   "execution_count": 111,
   "id": "dac8f908-2370-4c96-b8bd-b343b96734ba",
   "metadata": {},
   "outputs": [
    {
     "data": {
      "text/html": [
       "'Hongxi Emperor'"
      ],
      "text/latex": [
       "'Hongxi Emperor'"
      ],
      "text/markdown": [
       "'Hongxi Emperor'"
      ],
      "text/plain": [
       "[1] \"Hongxi Emperor\""
      ]
     },
     "metadata": {},
     "output_type": "display_data"
    }
   ],
   "source": [
    "clean_t[name_start_index:name_end_index] %>%\n",
    "    paste(collapse = '')"
   ]
  },
  {
   "cell_type": "code",
   "execution_count": null,
   "id": "1107aa1d-926f-4812-a9c0-32610a12f2ed",
   "metadata": {},
   "outputs": [],
   "source": [
    "year_index = grep('^[0-9]{4}$', clean_t)[1:2] # 4자리 숫자로 구성된 데이터는 연도이다. 1, 2 번째가 각각 출생, 사망\n",
    "clean_table[year_index]"
   ]
  },
  {
   "cell_type": "code",
   "execution_count": 150,
   "id": "9ac75532-40ba-465a-b4ce-ad63da38e000",
   "metadata": {},
   "outputs": [],
   "source": [
    "only_numbers = \n",
    "    requiredRows[4] %>% # 숫자 존재하는 벡터\n",
    "    strsplit(split = '[^0-9]') %>%  \n",
    "    unlist()\n",
    "\n",
    "year_index = grep('.{4}', only_numbers)[1:2] # 월, 일은 2글자를 초과하지 못하므로 자연스럽게 네글자만 연도이다.\n",
    "year = only_numbers[year_index]"
   ]
  },
  {
   "cell_type": "code",
   "execution_count": 151,
   "id": "79233cdc-6fc9-4a62-a917-46875c6d6e9d",
   "metadata": {},
   "outputs": [
    {
     "data": {
      "text/html": [
       "<style>\n",
       ".list-inline {list-style: none; margin:0; padding: 0}\n",
       ".list-inline>li {display: inline-block}\n",
       ".list-inline>li:not(:last-child)::after {content: \"\\00b7\"; padding: 0 .5ex}\n",
       "</style>\n",
       "<ol class=list-inline><li>'1378'</li><li>'1425'</li></ol>\n"
      ],
      "text/latex": [
       "\\begin{enumerate*}\n",
       "\\item '1378'\n",
       "\\item '1425'\n",
       "\\end{enumerate*}\n"
      ],
      "text/markdown": [
       "1. '1378'\n",
       "2. '1425'\n",
       "\n",
       "\n"
      ],
      "text/plain": [
       "[1] \"1378\" \"1425\""
      ]
     },
     "metadata": {},
     "output_type": "display_data"
    }
   ],
   "source": [
    "year"
   ]
  }
 ],
 "metadata": {
  "kernelspec": {
   "display_name": "R",
   "language": "R",
   "name": "ir"
  },
  "language_info": {
   "codemirror_mode": "r",
   "file_extension": ".r",
   "mimetype": "text/x-r-source",
   "name": "R",
   "pygments_lexer": "r",
   "version": "4.1.2"
  }
 },
 "nbformat": 4,
 "nbformat_minor": 5
}
