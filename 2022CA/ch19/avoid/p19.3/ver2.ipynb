{
 "cells": [
  {
   "cell_type": "code",
   "execution_count": 3,
   "id": "81d27b25-84f1-4aef-a044-0f53f9d04260",
   "metadata": {},
   "outputs": [],
   "source": [
    "if (!require(rvest)) install.packages('rvest')\n",
    "library(rvest)\n",
    "\n",
    "if (!require(tidyverse)) install.packages('tidyverse')\n",
    "library(tidyverse)\n",
    "\n",
    "ming_url = 'https://en.wikipedia.org/wiki/List_of_emperors_of_the_Ming_dynasty'\n",
    "qing_url = 'https://en.wikipedia.org/wiki/List_of_emperors_of_the_Qing_dynasty'\n",
    "\n",
    "unclean_table = \n",
    "    (target_url %>%\n",
    "        read_html %>%\n",
    "        html_nodes('table[class=wikitable]'))[1] %>%\n",
    "        html_nodes('tbody') %>%\n",
    "        html_nodes('tr') %>% \n",
    "        html_text()\n",
    "\n",
    "# 우리가 필요로 하는 왕 데이터는 Emperor을 포함하고 있다는 특징이 있음을 이용한다.\n",
    "requiredRows_index = str_detect(unclean_table, 'Emperor')\n",
    "requiredRows = unclean_table[requiredRows_index]"
   ]
  },
  {
   "cell_type": "code",
   "execution_count": 14,
   "id": "204fd746-55de-4092-bc03-80e12158fc64",
   "metadata": {},
   "outputs": [],
   "source": [
    "order = 1\n",
    "\n",
    "clean_table = gsub('\\n', '', requiredRows[order]) %>% \n",
    "    strsplit('') %>%\n",
    "    unlist\n",
    "\n",
    "name_start_index = 1\n",
    "name_end_index = grep('\\\\(', clean_table)-1 # 괄호보다 한 칸 이전에 있으므로 -1\n",
    "\n",
    "name =\n",
    "    clean_table[name_start_index:name_end_index] %>%\n",
    "    paste(collapse = '')\n",
    "\n",
    "only_numbers = \n",
    "    requiredRows[order] %>% # 숫자 존재하는 벡터\n",
    "    strsplit(split = '[^0-9]') %>%  \n",
    "    unlist()\n",
    "\n",
    "year_index = grep('.{4}', only_numbers)[1:2] # 월, 일은 2글자를 초과하지 못하므로 자연스럽게 네글자만 연도이다.\n",
    "year = only_numbers[year_index]"
   ]
  },
  {
   "cell_type": "code",
   "execution_count": 15,
   "id": "0aafccac-cee9-43d7-a8e3-cde9a8c99f4b",
   "metadata": {},
   "outputs": [
    {
     "data": {
      "text/html": [
       "'Hongwu Emperor'"
      ],
      "text/latex": [
       "'Hongwu Emperor'"
      ],
      "text/markdown": [
       "'Hongwu Emperor'"
      ],
      "text/plain": [
       "[1] \"Hongwu Emperor\""
      ]
     },
     "metadata": {},
     "output_type": "display_data"
    }
   ],
   "source": [
    "name"
   ]
  },
  {
   "cell_type": "code",
   "execution_count": 16,
   "id": "6d09a787-6a59-46b5-b18e-cb10e742e1fd",
   "metadata": {},
   "outputs": [
    {
     "data": {
      "text/html": [
       "<style>\n",
       ".list-inline {list-style: none; margin:0; padding: 0}\n",
       ".list-inline>li {display: inline-block}\n",
       ".list-inline>li:not(:last-child)::after {content: \"\\00b7\"; padding: 0 .5ex}\n",
       "</style>\n",
       "<ol class=list-inline><li>'1328'</li><li>'1398'</li></ol>\n"
      ],
      "text/latex": [
       "\\begin{enumerate*}\n",
       "\\item '1328'\n",
       "\\item '1398'\n",
       "\\end{enumerate*}\n"
      ],
      "text/markdown": [
       "1. '1328'\n",
       "2. '1398'\n",
       "\n",
       "\n"
      ],
      "text/plain": [
       "[1] \"1328\" \"1398\""
      ]
     },
     "metadata": {},
     "output_type": "display_data"
    }
   ],
   "source": [
    "year"
   ]
  },
  {
   "cell_type": "code",
   "execution_count": 19,
   "id": "47fa4400-a1ed-4cc5-902e-4911e2e1237a",
   "metadata": {},
   "outputs": [
    {
     "name": "stdout",
     "output_type": "stream",
     "text": [
      "[1] \"Hongwu Emperor\" \"1328\"           \"1398\"          \n",
      "[1] \"Jianwen Emperor\" \"1377\"            \"1402\"           \n",
      "[1] \"Yongle Emperor\" \"1360\"           \"1424\"          \n",
      "[1] \"Hongxi Emperor\" \"1378\"           \"1425\"          \n",
      "[1] \"Xuande Emperor\" \"1399\"           \"1435\"          \n",
      "[1] \"Emperor Yingzong\" \"1427\"             \"1464\"            \n",
      "[1] \"Jingtai Emperor\" \"1428\"            \"1457\"           \n",
      "[1] \"Chenghua Emperor\" \"1447\"             \"1487\"            \n",
      "[1] \"Hongzhi Emperor\" \"1470\"            \"1505\"           \n",
      "[1] \"Zhengde Emperor\" \"1491\"            \"1521\"           \n",
      "[1] \"Jiajing Emperor\" \"1507\"            \"1567\"           \n",
      "[1] \"Longqing Emperor\" \"1537\"             \"1572\"            \n",
      "[1] \"Wanli Emperor\" \"1563\"          \"1620\"         \n",
      "[1] \"Taichang Emperor\" \"1582\"             \"1620\"            \n",
      "[1] \"Tianqi Emperor\" \"1605\"           \"1627\"          \n",
      "[1] \"Chongzhen Emperor\" \"1611\"              \"1644\"             \n"
     ]
    }
   ],
   "source": [
    "for (i in 1:16){\n",
    "    order = i\n",
    "\n",
    "    clean_table = gsub('\\n', '', requiredRows[order]) %>% \n",
    "        strsplit('') %>%\n",
    "        unlist\n",
    "\n",
    "    name_start_index = 1\n",
    "    name_end_index = grep('\\\\(', clean_table)-1 # 괄호보다 한 칸 이전에 있으므로 -1\n",
    "\n",
    "    name =\n",
    "        clean_table[name_start_index:name_end_index] %>%\n",
    "        paste(collapse = '')\n",
    "\n",
    "    only_numbers = \n",
    "        requiredRows[order] %>% # 숫자 존재하는 벡터\n",
    "        strsplit(split = '[^0-9]') %>%  \n",
    "        unlist()\n",
    "\n",
    "    year_index = grep('.{4}', only_numbers)[1:2] # 월, 일은 2글자를 초과하지 못하므로 자연스럽게 네글자만 연도이다.\n",
    "    year = only_numbers[year_index]\n",
    "    print(c(name, year))\n",
    "}"
   ]
  },
  {
   "cell_type": "code",
   "execution_count": 72,
   "id": "5de5d0d8-2900-434b-8c60-9faacfe9b9b7",
   "metadata": {},
   "outputs": [],
   "source": [
    "if (!require(rvest)) install.packages('rvest')\n",
    "library(rvest)\n",
    "\n",
    "if (!require(tidyverse)) install.packages('tidyverse')\n",
    "library(tidyverse)\n",
    "\n",
    "ming_url = 'https://en.wikipedia.org/wiki/List_of_emperors_of_the_Ming_dynasty'\n",
    "qing_url = 'https://en.wikipedia.org/wiki/List_of_emperors_of_the_Qing_dynasty'\n",
    "\n",
    "unclean_table = \n",
    "    (ming_url %>%\n",
    "        read_html %>%\n",
    "        html_nodes('table[class=wikitable]'))[1] %>%\n",
    "        html_nodes('tbody') %>%\n",
    "        html_nodes('tr') %>% \n",
    "        html_text()\n",
    "\n",
    "# 청나라는 명나라와 달리 Emperor이 존재하지 않는 왕도 있다.\n",
    "# 따라서 정규표현식을 이용해 양식을 맞춘다\n",
    "# for example we detect 'Nurhaci(21 F'\n",
    "requiredRows_index = str_detect(unclean_table, '[A-Za-z]{5,}\\\\([0-9]{1,2}\\\\s[A-Z]{1}')\n",
    "requiredRows = unclean_table[requiredRows_index]"
   ]
  },
  {
   "cell_type": "code",
   "execution_count": 73,
   "id": "f1f89f5a-740d-48d4-bb53-cad0738a0784",
   "metadata": {},
   "outputs": [
    {
     "name": "stdout",
     "output_type": "stream",
     "text": [
      "[1] \"Hongwu Emperor\" \"1328\"           \"1398\"          \n",
      "[1] \"Jianwen Emperor\" \"1377\"            \"1402\"           \n",
      "[1] \"Yongle Emperor\" \"1360\"           \"1424\"          \n",
      "[1] \"Hongxi Emperor\" \"1378\"           \"1425\"          \n",
      "[1] \"Xuande Emperor\" \"1399\"           \"1435\"          \n",
      "[1] \"Emperor Yingzong\" \"1427\"             \"1464\"            \n",
      "[1] \"Jingtai Emperor\" \"1428\"            \"1457\"           \n",
      "[1] \"Chenghua Emperor\" \"1447\"             \"1487\"            \n",
      "[1] \"Hongzhi Emperor\" \"1470\"            \"1505\"           \n",
      "[1] \"Zhengde Emperor\" \"1491\"            \"1521\"           \n",
      "[1] \"Jiajing Emperor\" \"1507\"            \"1567\"           \n",
      "[1] \"Longqing Emperor\" \"1537\"             \"1572\"            \n"
     ]
    }
   ],
   "source": [
    "for (i in 1:12){\n",
    "    order = i\n",
    "\n",
    "    clean_table = gsub('\\n', '', requiredRows[order]) %>% \n",
    "        strsplit('') %>%\n",
    "        unlist\n",
    "\n",
    "    name_start_index = 1\n",
    "    name_end_index = grep('\\\\(', clean_table)[1]-1 # 괄호보다 한 칸 이전에 있으므로 -1\n",
    "\n",
    "    name =\n",
    "        clean_table[name_start_index:name_end_index] %>%\n",
    "        paste(collapse = '')\n",
    "\n",
    "    only_numbers = \n",
    "        requiredRows[order] %>% # 숫자 존재하는 벡터\n",
    "        strsplit(split = '[^0-9]') %>%  \n",
    "        unlist()\n",
    "\n",
    "    year_index = grep('.{4}', only_numbers)[1:2] # 월, 일은 2글자를 초과하지 못하므로 자연스럽게 네글자만 연도이다.\n",
    "    year = only_numbers[year_index]\n",
    "    print(c(name, year))\n",
    "}"
   ]
  },
  {
   "cell_type": "code",
   "execution_count": null,
   "id": "847479bb-9eb1-4bf5-a918-9044500a9e91",
   "metadata": {},
   "outputs": [],
   "source": []
  }
 ],
 "metadata": {
  "kernelspec": {
   "display_name": "R",
   "language": "R",
   "name": "ir"
  },
  "language_info": {
   "codemirror_mode": "r",
   "file_extension": ".r",
   "mimetype": "text/x-r-source",
   "name": "R",
   "pygments_lexer": "r",
   "version": "4.1.2"
  }
 },
 "nbformat": 4,
 "nbformat_minor": 5
}
