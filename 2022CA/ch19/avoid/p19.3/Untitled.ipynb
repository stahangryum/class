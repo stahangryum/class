{
 "cells": [
  {
   "cell_type": "code",
   "execution_count": 286,
   "id": "e7cd3bdd-3eb4-4bee-9a41-9bd8a1be7733",
   "metadata": {},
   "outputs": [
    {
     "data": {
      "image/png": "[encoded data removed]",
      "text/plain": [
       "plot without title"
      ]
     },
     "metadata": {
      "image/png": {
       "height": 420,
       "width": 420
      }
     },
     "output_type": "display_data"
    }
   ],
   "source": [
    "#### 코드\n",
    "if (!require(rvest)) install.packages('rvest')\n",
    "library(rvest)\n",
    "\n",
    "if (!require(tidyverse)) install.packages('tidyverse')\n",
    "library(tidyverse)\n",
    "\n",
    "get_ming_info <- function(order){\n",
    "    \n",
    "    target_url <- 'https://en.wikipedia.org/wiki/List_of_emperors_of_the_Ming_dynasty'\n",
    "    html <- ((target_url %>%\n",
    "        read_html %>%\n",
    "        html_nodes('table[class=wikitable]') %>%\n",
    "        html_nodes('tr'))[order+1] %>%\n",
    "        html_nodes('td') %>%\n",
    "        html_text())[2]\n",
    "    \n",
    "    unclean_data <- html %>%\n",
    "        strsplit(split = '\\\\(') %>%\n",
    "        unlist()\n",
    "    \n",
    "    dynasty <- 'Ming'\n",
    "    name <- unclean_data[1]\n",
    "    \n",
    "    years <- (gsub('\\n|\\\\)', '', unclean_data[2]) %>%\n",
    "        strsplit(split = ' ') %>%\n",
    "        unlist())[c(3,6)]\n",
    "    \n",
    "    birth <- years[1]\n",
    "    death <- years[2]\n",
    "    \n",
    "    return(c(dynasty, name, birth, death))\n",
    "}\n",
    "\n",
    "get_qing_info <- function(order){\n",
    "    \n",
    "    target_url <- 'https://en.wikipedia.org/wiki/List_of_emperors_of_the_Qing_dynasty'\n",
    "    html <- ((target_url %>%\n",
    "        read_html %>%\n",
    "        html_nodes('table[class=wikitable]') %>%\n",
    "        html_nodes('tr'))[order+1] %>%\n",
    "        html_nodes('td') %>%\n",
    "        html_text())[2]\n",
    "    \n",
    "    unclean_data <- html %>%\n",
    "        strsplit(split = '\\\\(') %>%\n",
    "        unlist()\n",
    "    \n",
    "    dynasty <- 'Qing'\n",
    "    name <- unclean_data[1]\n",
    "    \n",
    "    years <- (gsub('\\n|\\\\)', '', unclean_data[2]) %>%\n",
    "        strsplit(split = ' ') %>%\n",
    "        unlist())\n",
    "    \n",
    "    birth <- substr(years[3], 1, 4)\n",
    "    death <- years[5]\n",
    "    \n",
    "    return(c(dynasty, name, birth, death))\n",
    "}\n",
    "\n",
    "data <- vector('list', 17+12)\n",
    "for (i in 1:17){ # 명나라\n",
    "    data[[i]] <- get_ming_info(i)\n",
    "}\n",
    "for (i in 1:13){ # 청나라\n",
    "    data[[17+i]] <- get_qing_info(i)\n",
    "}\n",
    "\n",
    "final <- na.omit(do.call('rbind', data))\n",
    "colnames(final) <- c('dynasty', 'name', 'birth', 'death')\n",
    "write.table(final, 'China_king.txt', row.names = FALSE)\n",
    "\n",
    "df <- data.frame(final)\n",
    "df[,'birth'] = as.numeric(df[,'birth'])\n",
    "df[,'death'] = as.numeric(df[,'death'])\n",
    "\n",
    "df <- df %>% mutate(age = death - birth)\n",
    "\n",
    "par(mfrow = c(1,2))\n",
    "\n",
    "plot(df[,'birth'], df[,'age'],\n",
    "     xlab = 'birth',\n",
    "     ylab = 'age')\n",
    "abline(lm(age ~ birth, data = df))\n",
    "\n",
    "boxplot(df[,'age'] ~ factor(df[,'dynasty']),\n",
    "        xlab = 'dynasty',\n",
    "        ylab = 'age')"
   ]
  },
  {
   "cell_type": "code",
   "execution_count": null,
   "id": "3425fe9b-1993-4917-99fe-52a1ac67c236",
   "metadata": {},
   "outputs": [],
   "source": []
  }
 ],
 "metadata": {
  "kernelspec": {
   "display_name": "R",
   "language": "R",
   "name": "ir"
  },
  "language_info": {
   "codemirror_mode": "r",
   "file_extension": ".r",
   "mimetype": "text/x-r-source",
   "name": "R",
   "pygments_lexer": "r",
   "version": "4.1.2"
  }
 },
 "nbformat": 4,
 "nbformat_minor": 5
}
