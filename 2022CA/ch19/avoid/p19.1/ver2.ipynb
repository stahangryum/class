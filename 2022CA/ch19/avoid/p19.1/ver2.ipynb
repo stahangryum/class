{
 "cells": [
  {
   "cell_type": "code",
   "execution_count": 2,
   "id": "700936fa-7e00-4230-b5ed-ef44763a2baf",
   "metadata": {},
   "outputs": [
    {
     "name": "stderr",
     "output_type": "stream",
     "text": [
      "Warning message:\n",
      "\"패키지 'rvest'는 R 버전 4.1.3에서 작성되었습니다\"\n"
     ]
    }
   ],
   "source": [
    "library(rvest)"
   ]
  },
  {
   "cell_type": "code",
   "execution_count": 5,
   "id": "72f8c446-4c35-4328-a485-9db4f8aaa09a",
   "metadata": {},
   "outputs": [],
   "source": [
    "base_url <- 'https://movie.naver.com/movie/bi/mi/point.nhn?code='\n",
    "code = 191613\n",
    "target_url <- paste0(base_url, code)\n",
    "html <- read_html(target_url)\n",
    "\n",
    "title_unclean <- html %>%\n",
    "    html_nodes(\"title\") %>%\n",
    "    html_text()\n",
    "\n",
    "title <- substr(title_unclean, 1, unlist(gregexpr(' : 네이버 영화', title_unclean))-1)\n",
    "exist <- \n",
    "    html %>% \n",
    "    html_nodes('dl[class=info_spec]') %>% \n",
    "    html_nodes('dt') %>% \n",
    "    html_text()\n",
    "\n",
    "steps <- html %>%\n",
    "    html_nodes('dl[class=info_spec]') %>%\n",
    "    html_nodes('dd')\n",
    "\n",
    "# 개요, 감독, 출연, 등급 중 결측값이 존재하는 경우를 대비함\n",
    "step1 = NA\n",
    "step2 = NA\n",
    "step3 = NA\n",
    "step4 = NA\n",
    "for (i in 1:length(exist)){\n",
    "    if (exist[i] == '개요()'){\n",
    "        step1_unclean <- steps[i] %>%\n",
    "            html_nodes('p') %>%\n",
    "                html_nodes('span') %>%\n",
    "            html_text()\n",
    "        step1 <- gsub('\\\\t|\\\\n|\\\\r', '', step1_unclean)\n",
    "    }else if (exist[i] == '감독'){\n",
    "        step2 <- steps[i] %>%\n",
    "            html_nodes('p') %>%\n",
    "            html_text()\n",
    "    }else if (exist[i] == '출연'){\n",
    "        step3 <- steps[i] %>%\n",
    "            html_text()\n",
    "    }else if (exist[i] == '등급'){\n",
    "        step4_unclean <- steps[i] %>%\n",
    "            html_nodes('p') %>%\n",
    "            html_text()\n",
    "        step4 <- gsub('\\\\t|\\\\n|\\\\r', '', step4_unclean)\n",
    "    }\n",
    "}\n",
    "\n",
    "tdt <- html %>%\n",
    "    html_nodes('div[class=viewing_graph]')\n",
    "\n",
    "# 성별, 나이별 관람추이가 존재하지 않는 경우 관람객 통계가 존재하지 않으므로 결측값으로 처리함\n",
    "if (length(tdt) == 0){\n",
    "    audience_age_10 <- NA\n",
    "    audience_age_20 <- NA\n",
    "    audience_age_30 <- NA\n",
    "    audience_age_40 <- NA\n",
    "    audience_age_50 <- NA\n",
    "    audience_score <- NA\n",
    "    audience_count <- NA\n",
    "    audience_male <- NA\n",
    "    audience_female <- NA\n",
    "    audience_10 <- NA\n",
    "    audience_20 <- NA\n",
    "    audience_30 <- NA\n",
    "    audience_40 <- NA\n",
    "    audience_50 <- NA\n",
    "} else {\n",
    "    audi_age <- html %>%\n",
    "        html_nodes('strong[class=graph_percent]') %>%\n",
    "        html_text()\n",
    "    audience_age_10 <- audi_age[1]\n",
    "    audience_age_20 <- audi_age[2]\n",
    "    audience_age_30 <- audi_age[3]\n",
    "    audience_age_40 <- audi_age[4]\n",
    "    audience_age_50 <- audi_age[5]\n",
    "\n",
    "    audience_score <- html %>% \n",
    "        html_nodes('div[class=grade_audience]') %>%\n",
    "        html_nodes('div[class=star_score]') %>%\n",
    "        html_nodes('em') %>%\n",
    "        html_text() %>% paste(collapse='')\n",
    "\n",
    "    audience_count <- html %>% \n",
    "        html_nodes('div[class=grade_audience]') %>%\n",
    "        html_nodes('span[class=user_count]') %>%\n",
    "        html_nodes('em') %>%\n",
    "        html_text() %>% paste(collapse='')\n",
    "\n",
    "    audience_male <- (html %>%\n",
    "        html_nodes('div[class=graph_area]') %>%\n",
    "        html_nodes('div[class=grp_male]') %>%\n",
    "        html_nodes('strong[class=graph_point]') %>%\n",
    "        html_text())[2]\n",
    "\n",
    "    audience_female <- (html %>%\n",
    "        html_nodes('div[class=graph_area]') %>%\n",
    "        html_nodes('div[class=grp_female]') %>%\n",
    "        html_nodes('strong[class=graph_point]') %>%\n",
    "        html_text())[2]\n",
    "\n",
    "    audience_age <- html %>%\n",
    "        html_nodes('div[class=grp_age]') %>%\n",
    "        html_nodes('strong[class=graph_point]') %>%\n",
    "        html_text()\n",
    "\n",
    "    audience_10 <- audience_age[6]\n",
    "    audience_20 <- audience_age[7]\n",
    "    audience_30 <- audience_age[8]\n",
    "    audience_40 <- audience_age[9]\n",
    "    audience_50 <- audience_age[10]\n",
    "\n",
    "}\n",
    "\n",
    "netizen_score <- html %>% \n",
    "    html_nodes('div[class=grade_netizen]') %>%\n",
    "    html_nodes('div[class=star_score]') %>%\n",
    "    html_nodes('em') %>%\n",
    "    html_text() %>% paste(collapse='')\n",
    "\n",
    "netizen_count <- html %>% \n",
    "    html_nodes('div[class=grade_netizen]') %>%\n",
    "    html_nodes('span[class=user_count]') %>%\n",
    "    html_nodes('em') %>%\n",
    "    html_text() %>% paste(collapse='')\n",
    "\n",
    "ntz_male <- (html %>%\n",
    "    html_nodes('div[class=graph_area]') %>%\n",
    "    html_nodes('div[class=grp_male]') %>%\n",
    "    html_nodes('strong[class=graph_point]') %>%\n",
    "    html_text())[1]\n",
    "\n",
    "ntz_female <- (html %>%\n",
    "    html_nodes('div[class=graph_area]') %>%\n",
    "    html_nodes('div[class=grp_female]') %>%\n",
    "    html_nodes('strong[class=graph_point]') %>%\n",
    "    html_text())[1]\n",
    "\n",
    "ntz_age <- html %>%\n",
    "    html_nodes('div[class=grp_age]') %>%\n",
    "    html_nodes('strong[class=graph_point]') %>%\n",
    "    html_text()\n",
    "ntz_10 <- ntz_age[1]\n",
    "ntz_20 <- ntz_age[2]\n",
    "ntz_30 <- ntz_age[3]\n",
    "ntz_40 <- ntz_age[4]\n",
    "ntz_50 <- ntz_age[5]"
   ]
  },
  {
   "cell_type": "code",
   "execution_count": 6,
   "id": "c0f13b8e-014e-4289-b13b-7357970b4cbf",
   "metadata": {},
   "outputs": [
    {
     "data": {
      "text/html": [
       "<style>\n",
       ".list-inline {list-style: none; margin:0; padding: 0}\n",
       ".list-inline>li {display: inline-block}\n",
       ".list-inline>li:not(:last-child)::after {content: \"\\00b7\"; padding: 0 .5ex}\n",
       "</style>\n",
       "<ol class=list-inline><li>'애니메이션, 코미디, 가족'</li><li>'스페인, 영국'</li><li>'96분 '</li><li>' 2019.11.15 개봉'</li></ol>\n"
      ],
      "text/latex": [
       "\\begin{enumerate*}\n",
       "\\item '애니메이션, 코미디, 가족'\n",
       "\\item '스페인, 영국'\n",
       "\\item '96분 '\n",
       "\\item ' 2019.11.15 개봉'\n",
       "\\end{enumerate*}\n"
      ],
      "text/markdown": [
       "1. '애니메이션, 코미디, 가족'\n",
       "2. '스페인, 영국'\n",
       "3. '96분 '\n",
       "4. ' 2019.11.15 개봉'\n",
       "\n",
       "\n"
      ],
      "text/plain": [
       "[1] \"애니메이션, 코미디, 가족\" \"스페인, 영국\"            \n",
       "[3] \"96분 \"                    \" 2019.11.15 개봉\"        "
      ]
     },
     "metadata": {},
     "output_type": "display_data"
    }
   ],
   "source": [
    "step1"
   ]
  },
  {
   "cell_type": "code",
   "execution_count": 7,
   "id": "cc6227e9-ddf2-4b4b-845f-4021cff54e0a",
   "metadata": {},
   "outputs": [
    {
     "data": {
      "text/html": [
       "'서지오 파블로스, 카를로스 마르티네즈 로페즈'"
      ],
      "text/latex": [
       "'서지오 파블로스, 카를로스 마르티네즈 로페즈'"
      ],
      "text/markdown": [
       "'서지오 파블로스, 카를로스 마르티네즈 로페즈'"
      ],
      "text/plain": [
       "[1] \"서지오 파블로스, 카를로스 마르티네즈 로페즈\""
      ]
     },
     "metadata": {},
     "output_type": "display_data"
    }
   ],
   "source": [
    "step2"
   ]
  },
  {
   "cell_type": "code",
   "execution_count": 8,
   "id": "3ac21e97-3013-464b-9238-48dce1e719b7",
   "metadata": {},
   "outputs": [
    {
     "data": {
      "text/html": [
       "'제이슨 슈왈츠먼, J.K. 시몬스, 라시다 존스더보기'"
      ],
      "text/latex": [
       "'제이슨 슈왈츠먼, J.K. 시몬스, 라시다 존스더보기'"
      ],
      "text/markdown": [
       "'제이슨 슈왈츠먼, J.K. 시몬스, 라시다 존스더보기'"
      ],
      "text/plain": [
       "[1] \"제이슨 슈왈츠먼, J.K. 시몬스, 라시다 존스더보기\""
      ]
     },
     "metadata": {},
     "output_type": "display_data"
    }
   ],
   "source": [
    "step3"
   ]
  },
  {
   "cell_type": "code",
   "execution_count": 9,
   "id": "df18ac5c-c4a1-46ab-be84-109841802139",
   "metadata": {},
   "outputs": [
    {
     "data": {
      "text/html": [
       "'[국내] 전체 관람가'"
      ],
      "text/latex": [
       "'{[}국내{]} 전체 관람가'"
      ],
      "text/markdown": [
       "'[국내] 전체 관람가'"
      ],
      "text/plain": [
       "[1] \"[국내] 전체 관람가\""
      ]
     },
     "metadata": {},
     "output_type": "display_data"
    }
   ],
   "source": [
    "step4"
   ]
  },
  {
   "cell_type": "code",
   "execution_count": null,
   "id": "50b7e6ba-fa39-4580-a1cc-9c1d075794ea",
   "metadata": {},
   "outputs": [],
   "source": []
  }
 ],
 "metadata": {
  "kernelspec": {
   "display_name": "R",
   "language": "R",
   "name": "ir"
  },
  "language_info": {
   "codemirror_mode": "r",
   "file_extension": ".r",
   "mimetype": "text/x-r-source",
   "name": "R",
   "pygments_lexer": "r",
   "version": "4.1.2"
  }
 },
 "nbformat": 4,
 "nbformat_minor": 5
}
