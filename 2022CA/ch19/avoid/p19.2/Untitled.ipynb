{
 "cells": [
  {
   "cell_type": "code",
   "execution_count": 275,
   "id": "1f51748c-8e10-477c-a87c-2066ef30cecd",
   "metadata": {},
   "outputs": [],
   "source": [
    "if (!require(rvest)) install.packages('rvest')\n",
    "library(rvest)\n",
    "\n",
    "if (!require(tidyverse)) install.packages('tidyverse')\n",
    "library(tidyverse)\n",
    "\n",
    "\n",
    "\n",
    "order = 16\n",
    "\n",
    "unclean_tables <- html %>%\n",
    "    html_nodes('table[class=wikitable]') %>%\n",
    "    html_nodes('tbody') %>%\n",
    "    html_nodes('tr') %>%    \n",
    "    html_text()"
   ]
  },
  {
   "cell_type": "code",
   "execution_count": 276,
   "id": "4db61d16-4af6-4713-a2d6-9568dae4a153",
   "metadata": {},
   "outputs": [
    {
     "data": {
      "text/html": [
       "<style>\n",
       ".list-inline {list-style: none; margin:0; padding: 0}\n",
       ".list-inline>li {display: inline-block}\n",
       ".list-inline>li:not(:last-child)::after {content: \"\\00b7\"; padding: 0 .5ex}\n",
       "</style>\n",
       "<ol class=list-inline><li>'제16대'</li><li>''</li><li>'인조'</li><li>''</li><li>''</li><li>''</li><li>'1595년'</li><li>''</li><li>''</li><li>'1649년'</li><li>'1623년'</li><li>''</li><li>''</li><li>'1649년'</li><li>''</li><li>'종'</li><li>''</li><li>''</li><li>''</li><li>'장목'</li><li>''</li><li>''</li><li>''</li><li>''</li><li>'열조'</li><li>''</li><li>''</li><li>'헌문열무명숙순효대왕'</li><li>''</li><li>''</li><li>''</li><li>''</li><li>''</li><li>''</li><li>''</li><li>''</li><li>''</li><li>''</li><li>'인조'</li><li>''</li><li>''</li><li>'개천조운정기선덕헌문열무명숙순효대왕'</li><li>''</li><li>''</li><li>''</li><li>''</li><li>''</li><li>''</li><li>''</li><li>''</li><li>''</li><li>''</li><li>''</li><li>''</li><li>''</li><li>''</li><li>''</li><li>''</li><li>''</li><li>''</li><li>''</li><li>'장릉'</li><li>''</li><li>''</li><li>''</li><li>'능양도정'</li><li>''</li><li>''</li><li>''</li><li>''</li><li>'능양군'</li><li>''</li><li>''</li><li>''</li><li>'능양대군'</li><li>''</li><li>''</li><li>''</li><li>''</li><li>''</li></ol>\n"
      ],
      "text/latex": [
       "\\begin{enumerate*}\n",
       "\\item '제16대'\n",
       "\\item ''\n",
       "\\item '인조'\n",
       "\\item ''\n",
       "\\item ''\n",
       "\\item ''\n",
       "\\item '1595년'\n",
       "\\item ''\n",
       "\\item ''\n",
       "\\item '1649년'\n",
       "\\item '1623년'\n",
       "\\item ''\n",
       "\\item ''\n",
       "\\item '1649년'\n",
       "\\item ''\n",
       "\\item '종'\n",
       "\\item ''\n",
       "\\item ''\n",
       "\\item ''\n",
       "\\item '장목'\n",
       "\\item ''\n",
       "\\item ''\n",
       "\\item ''\n",
       "\\item ''\n",
       "\\item '열조'\n",
       "\\item ''\n",
       "\\item ''\n",
       "\\item '헌문열무명숙순효대왕'\n",
       "\\item ''\n",
       "\\item ''\n",
       "\\item ''\n",
       "\\item ''\n",
       "\\item ''\n",
       "\\item ''\n",
       "\\item ''\n",
       "\\item ''\n",
       "\\item ''\n",
       "\\item ''\n",
       "\\item '인조'\n",
       "\\item ''\n",
       "\\item ''\n",
       "\\item '개천조운정기선덕헌문열무명숙순효대왕'\n",
       "\\item ''\n",
       "\\item ''\n",
       "\\item ''\n",
       "\\item ''\n",
       "\\item ''\n",
       "\\item ''\n",
       "\\item ''\n",
       "\\item ''\n",
       "\\item ''\n",
       "\\item ''\n",
       "\\item ''\n",
       "\\item ''\n",
       "\\item ''\n",
       "\\item ''\n",
       "\\item ''\n",
       "\\item ''\n",
       "\\item ''\n",
       "\\item ''\n",
       "\\item ''\n",
       "\\item '장릉'\n",
       "\\item ''\n",
       "\\item ''\n",
       "\\item ''\n",
       "\\item '능양도정'\n",
       "\\item ''\n",
       "\\item ''\n",
       "\\item ''\n",
       "\\item ''\n",
       "\\item '능양군'\n",
       "\\item ''\n",
       "\\item ''\n",
       "\\item ''\n",
       "\\item '능양대군'\n",
       "\\item ''\n",
       "\\item ''\n",
       "\\item ''\n",
       "\\item ''\n",
       "\\item ''\n",
       "\\end{enumerate*}\n"
      ],
      "text/markdown": [
       "1. '제16대'\n",
       "2. ''\n",
       "3. '인조'\n",
       "4. ''\n",
       "5. ''\n",
       "6. ''\n",
       "7. '1595년'\n",
       "8. ''\n",
       "9. ''\n",
       "10. '1649년'\n",
       "11. '1623년'\n",
       "12. ''\n",
       "13. ''\n",
       "14. '1649년'\n",
       "15. ''\n",
       "16. '종'\n",
       "17. ''\n",
       "18. ''\n",
       "19. ''\n",
       "20. '장목'\n",
       "21. ''\n",
       "22. ''\n",
       "23. ''\n",
       "24. ''\n",
       "25. '열조'\n",
       "26. ''\n",
       "27. ''\n",
       "28. '헌문열무명숙순효대왕'\n",
       "29. ''\n",
       "30. ''\n",
       "31. ''\n",
       "32. ''\n",
       "33. ''\n",
       "34. ''\n",
       "35. ''\n",
       "36. ''\n",
       "37. ''\n",
       "38. ''\n",
       "39. '인조'\n",
       "40. ''\n",
       "41. ''\n",
       "42. '개천조운정기선덕헌문열무명숙순효대왕'\n",
       "43. ''\n",
       "44. ''\n",
       "45. ''\n",
       "46. ''\n",
       "47. ''\n",
       "48. ''\n",
       "49. ''\n",
       "50. ''\n",
       "51. ''\n",
       "52. ''\n",
       "53. ''\n",
       "54. ''\n",
       "55. ''\n",
       "56. ''\n",
       "57. ''\n",
       "58. ''\n",
       "59. ''\n",
       "60. ''\n",
       "61. ''\n",
       "62. '장릉'\n",
       "63. ''\n",
       "64. ''\n",
       "65. ''\n",
       "66. '능양도정'\n",
       "67. ''\n",
       "68. ''\n",
       "69. ''\n",
       "70. ''\n",
       "71. '능양군'\n",
       "72. ''\n",
       "73. ''\n",
       "74. ''\n",
       "75. '능양대군'\n",
       "76. ''\n",
       "77. ''\n",
       "78. ''\n",
       "79. ''\n",
       "80. ''\n",
       "\n",
       "\n"
      ],
      "text/plain": [
       " [1] \"제16대\"                              \n",
       " [2] \"\"                                    \n",
       " [3] \"인조\"                                \n",
       " [4] \"\"                                    \n",
       " [5] \"\"                                    \n",
       " [6] \"\"                                    \n",
       " [7] \"1595년\"                              \n",
       " [8] \"\"                                    \n",
       " [9] \"\"                                    \n",
       "[10] \"1649년\"                              \n",
       "[11] \"1623년\"                              \n",
       "[12] \"\"                                    \n",
       "[13] \"\"                                    \n",
       "[14] \"1649년\"                              \n",
       "[15] \"\"                                    \n",
       "[16] \"종\"                                  \n",
       "[17] \"\"                                    \n",
       "[18] \"\"                                    \n",
       "[19] \"\"                                    \n",
       "[20] \"장목\"                                \n",
       "[21] \"\"                                    \n",
       "[22] \"\"                                    \n",
       "[23] \"\"                                    \n",
       "[24] \"\"                                    \n",
       "[25] \"열조\"                                \n",
       "[26] \"\"                                    \n",
       "[27] \"\"                                    \n",
       "[28] \"헌문열무명숙순효대왕\"                \n",
       "[29] \"\"                                    \n",
       "[30] \"\"                                    \n",
       "[31] \"\"                                    \n",
       "[32] \"\"                                    \n",
       "[33] \"\"                                    \n",
       "[34] \"\"                                    \n",
       "[35] \"\"                                    \n",
       "[36] \"\"                                    \n",
       "[37] \"\"                                    \n",
       "[38] \"\"                                    \n",
       "[39] \"인조\"                                \n",
       "[40] \"\"                                    \n",
       "[41] \"\"                                    \n",
       "[42] \"개천조운정기선덕헌문열무명숙순효대왕\"\n",
       "[43] \"\"                                    \n",
       "[44] \"\"                                    \n",
       "[45] \"\"                                    \n",
       "[46] \"\"                                    \n",
       "[47] \"\"                                    \n",
       "[48] \"\"                                    \n",
       "[49] \"\"                                    \n",
       "[50] \"\"                                    \n",
       "[51] \"\"                                    \n",
       "[52] \"\"                                    \n",
       "[53] \"\"                                    \n",
       "[54] \"\"                                    \n",
       "[55] \"\"                                    \n",
       "[56] \"\"                                    \n",
       "[57] \"\"                                    \n",
       "[58] \"\"                                    \n",
       "[59] \"\"                                    \n",
       "[60] \"\"                                    \n",
       "[61] \"\"                                    \n",
       "[62] \"장릉\"                                \n",
       "[63] \"\"                                    \n",
       "[64] \"\"                                    \n",
       "[65] \"\"                                    \n",
       "[66] \"능양도정\"                            \n",
       "[67] \"\"                                    \n",
       "[68] \"\"                                    \n",
       "[69] \"\"                                    \n",
       "[70] \"\"                                    \n",
       "[71] \"능양군\"                              \n",
       "[72] \"\"                                    \n",
       "[73] \"\"                                    \n",
       "[74] \"\"                                    \n",
       "[75] \"능양대군\"                            \n",
       "[76] \"\"                                    \n",
       "[77] \"\"                                    \n",
       "[78] \"\"                                    \n",
       "[79] \"\"                                    \n",
       "[80] \"\"                                    "
      ]
     },
     "metadata": {},
     "output_type": "display_data"
    }
   ],
   "source": [
    "# gsub vs str_replace ??\n",
    "# gsub는 %>% 사용이 안돼서 불편한 것 같기도하고\n",
    "true_data_index <- str_detect(unclean_tables, '^제')\n",
    "\n",
    "true_table <- unclean_tables[true_data_index][order] %>% # 한글자씩 쪼갠다.\n",
    "    strsplit(split = '') %>%\n",
    "    unlist() %>%\n",
    "    str_replace('[^가-힣0-9]', 'N')  %>% # (한글, 숫자)가 아닌 문자는 불필요하므로 N으로 치환한다.\n",
    "    paste(collapse = '') %>% # 모든 문자를 합친 다음 N을 기준으로 다시 나눈다.\n",
    "    strsplit('N') %>%\n",
    "    unlist()\n",
    "\n",
    "true_table"
   ]
  },
  {
   "cell_type": "code",
   "execution_count": 282,
   "id": "18688a8b-baca-404c-b855-02f594f8e42d",
   "metadata": {},
   "outputs": [
    {
     "data": {
      "text/html": [
       "'제16대'"
      ],
      "text/latex": [
       "'제16대'"
      ],
      "text/markdown": [
       "'제16대'"
      ],
      "text/plain": [
       "[1] \"제16대\""
      ]
     },
     "metadata": {},
     "output_type": "display_data"
    },
    {
     "data": {
      "text/html": [
       "'인조'"
      ],
      "text/latex": [
       "'인조'"
      ],
      "text/markdown": [
       "'인조'"
      ],
      "text/plain": [
       "[1] \"인조\""
      ]
     },
     "metadata": {},
     "output_type": "display_data"
    },
    {
     "data": {
      "text/html": [
       "<style>\n",
       ".list-inline {list-style: none; margin:0; padding: 0}\n",
       ".list-inline>li {display: inline-block}\n",
       ".list-inline>li:not(:last-child)::after {content: \"\\00b7\"; padding: 0 .5ex}\n",
       "</style>\n",
       "<ol class=list-inline><li>'1595'</li><li>'1649'</li><li>'1623'</li><li>'1649'</li></ol>\n"
      ],
      "text/latex": [
       "\\begin{enumerate*}\n",
       "\\item '1595'\n",
       "\\item '1649'\n",
       "\\item '1623'\n",
       "\\item '1649'\n",
       "\\end{enumerate*}\n"
      ],
      "text/markdown": [
       "1. '1595'\n",
       "2. '1649'\n",
       "3. '1623'\n",
       "4. '1649'\n",
       "\n",
       "\n"
      ],
      "text/plain": [
       "[1] \"1595\" \"1649\" \"1623\" \"1649\""
      ]
     },
     "metadata": {},
     "output_type": "display_data"
    },
    {
     "data": {
      "text/html": [
       "'장릉'"
      ],
      "text/latex": [
       "'장릉'"
      ],
      "text/markdown": [
       "'장릉'"
      ],
      "text/plain": [
       "[1] \"장릉\""
      ]
     },
     "metadata": {},
     "output_type": "display_data"
    }
   ],
   "source": [
    "order_index <- grep('^제.{1,}대$', true_table)\n",
    "true_table[order_index]\n",
    "\n",
    "name_index <- grep('^.{1,2}[조|종|군]$', true_table)[1]\n",
    "true_table[name_index]\n",
    "\n",
    "years_index <- grep('^.{1,}년$', true_table)\n",
    "years <- \n",
    "    true_table[years_index] %>%\n",
    "    substr(1, 4)\n",
    "years # 순서대로 출생, 사망, 즉위, 퇴위\n",
    "\n",
    "grave_index <- grep('^.{1,3}[릉|묘]$', true_table)\n",
    "grave <- true_table[grave_index]\n",
    "grave"
   ]
  },
  {
   "cell_type": "code",
   "execution_count": 281,
   "id": "ae71385d-ea0b-45f3-a831-140a07f51597",
   "metadata": {},
   "outputs": [
    {
     "data": {
      "text/html": [
       "<style>\n",
       ".list-inline {list-style: none; margin:0; padding: 0}\n",
       ".list-inline>li {display: inline-block}\n",
       ".list-inline>li:not(:last-child)::after {content: \"\\00b7\"; padding: 0 .5ex}\n",
       "</style>\n",
       "<ol class=list-inline><li>'1595'</li><li>'1649'</li><li>'1623'</li><li>'1649'</li></ol>\n"
      ],
      "text/latex": [
       "\\begin{enumerate*}\n",
       "\\item '1595'\n",
       "\\item '1649'\n",
       "\\item '1623'\n",
       "\\item '1649'\n",
       "\\end{enumerate*}\n"
      ],
      "text/markdown": [
       "1. '1595'\n",
       "2. '1649'\n",
       "3. '1623'\n",
       "4. '1649'\n",
       "\n",
       "\n"
      ],
      "text/plain": [
       "[1] \"1595\" \"1649\" \"1623\" \"1649\""
      ]
     },
     "metadata": {},
     "output_type": "display_data"
    }
   ],
   "source": [
    "substr(years, 1, 4)"
   ]
  },
  {
   "cell_type": "code",
   "execution_count": 284,
   "id": "fa1b16a9-c4c1-49e4-ae17-50ec362ba298",
   "metadata": {},
   "outputs": [
    {
     "data": {
      "text/html": [
       "<style>\n",
       ".list-inline {list-style: none; margin:0; padding: 0}\n",
       ".list-inline>li {display: inline-block}\n",
       ".list-inline>li:not(:last-child)::after {content: \"\\00b7\"; padding: 0 .5ex}\n",
       "</style>\n",
       "<ol class=list-inline><li>1595</li><li>1649</li><li>1623</li><li>1649</li></ol>\n"
      ],
      "text/latex": [
       "\\begin{enumerate*}\n",
       "\\item 1595\n",
       "\\item 1649\n",
       "\\item 1623\n",
       "\\item 1649\n",
       "\\end{enumerate*}\n"
      ],
      "text/markdown": [
       "1. 1595\n",
       "2. 1649\n",
       "3. 1623\n",
       "4. 1649\n",
       "\n",
       "\n"
      ],
      "text/plain": [
       "[1] 1595 1649 1623 1649"
      ]
     },
     "metadata": {},
     "output_type": "display_data"
    }
   ],
   "source": [
    "as.numeric(years)"
   ]
  },
  {
   "cell_type": "code",
   "execution_count": null,
   "id": "ec240576-b26a-4b21-8054-2e579c971136",
   "metadata": {},
   "outputs": [],
   "source": []
  }
 ],
 "metadata": {
  "kernelspec": {
   "display_name": "R",
   "language": "R",
   "name": "ir"
  },
  "language_info": {
   "codemirror_mode": "r",
   "file_extension": ".r",
   "mimetype": "text/x-r-source",
   "name": "R",
   "pygments_lexer": "r",
   "version": "4.1.2"
  }
 },
 "nbformat": 4,
 "nbformat_minor": 5
}
