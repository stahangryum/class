{
 "cells": [
  {
   "cell_type": "code",
   "execution_count": 3,
   "id": "41977628-a55e-44b7-b7d1-ca3faf56167a",
   "metadata": {},
   "outputs": [],
   "source": [
    "# sta : final\n",
    "# des : avcl, imp speed, r41\n",
    "\n",
    "# 필요한 라이브러리를 호출합니다. 존재하지 않으면 설치합니다.\n",
    "if (!require(rvest)) install.packages('rvest')\n",
    "library(rvest)\n",
    "\n",
    "if (!require(tidyverse)) install.packages('tidyverse')\n",
    "library(tidyverse)"
   ]
  },
  {
   "cell_type": "code",
   "execution_count": 15,
   "id": "17f87b93-d917-4231-8d8d-e1e9e541bb83",
   "metadata": {},
   "outputs": [],
   "source": [
    "target_url <- 'https://ko.wikipedia.org/wiki/%EC%A1%B0%EC%84%A0_%EA%B5%AD%EC%99%95'\n",
    "    unclean_table <- \n",
    "        read_html(target_url, encoding = 'UTF-8') %>%\n",
    "        html_nodes('table[class=wikitable]') %>%\n",
    "        html_nodes('tbody') %>%\n",
    "        html_nodes('tr') %>%    \n",
    "        html_text() \n",
    "    \n",
    "    # 필요로 하는 데이터는 모두 '제'로 시작한다.\n",
    "    # '제'로 시작하지 않는 데이터는 불필요하므로 제거한다.\n",
    "    requiredLines_index <- str_detect(unclean_table, '^제')\n",
    "    requiredLines <- unclean_table[requiredLines_index]"
   ]
  },
  {
   "cell_type": "code",
   "execution_count": null,
   "id": "dda37ae3-c358-44b2-822a-f725b4470e4b",
   "metadata": {},
   "outputs": [],
   "source": [
    "get_required_info <- function(data, order){\n",
    "    "
   ]
  }
 ],
 "metadata": {
  "kernelspec": {
   "display_name": "R",
   "language": "R",
   "name": "ir"
  },
  "language_info": {
   "codemirror_mode": "r",
   "file_extension": ".r",
   "mimetype": "text/x-r-source",
   "name": "R",
   "pygments_lexer": "r",
   "version": "4.1.2"
  }
 },
 "nbformat": 4,
 "nbformat_minor": 5
}
