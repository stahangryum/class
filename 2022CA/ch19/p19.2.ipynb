{
 "cells": [
  {
   "cell_type": "code",
   "execution_count": 6,
   "id": "78e30ae5-12dc-4056-97bc-b7a42a829839",
   "metadata": {},
   "outputs": [
    {
     "name": "stderr",
     "output_type": "stream",
     "text": [
      "필요한 패키지를 로딩중입니다: tidyverse\n",
      "\n",
      "Warning message:\n",
      "\"패키지 'tidyverse'는 R 버전 4.1.3에서 작성되었습니다\"\n",
      "-- \u001b[1mAttaching packages\u001b[22m ------------------------------------------------------------------------------- tidyverse 1.3.1 --\n",
      "\n",
      "\u001b[32mv\u001b[39m \u001b[34mggplot2\u001b[39m 3.3.5     \u001b[32mv\u001b[39m \u001b[34mpurrr  \u001b[39m 0.3.4\n",
      "\u001b[32mv\u001b[39m \u001b[34mtibble \u001b[39m 3.1.6     \u001b[32mv\u001b[39m \u001b[34mdplyr  \u001b[39m 1.0.8\n",
      "\u001b[32mv\u001b[39m \u001b[34mtidyr  \u001b[39m 1.2.0     \u001b[32mv\u001b[39m \u001b[34mstringr\u001b[39m 1.4.0\n",
      "\u001b[32mv\u001b[39m \u001b[34mreadr  \u001b[39m 2.1.2     \u001b[32mv\u001b[39m \u001b[34mforcats\u001b[39m 0.5.1\n",
      "\n",
      "Warning message:\n",
      "\"패키지 'ggplot2'는 R 버전 4.1.3에서 작성되었습니다\"\n",
      "Warning message:\n",
      "\"패키지 'tibble'는 R 버전 4.1.3에서 작성되었습니다\"\n",
      "Warning message:\n",
      "\"패키지 'tidyr'는 R 버전 4.1.3에서 작성되었습니다\"\n",
      "Warning message:\n",
      "\"패키지 'readr'는 R 버전 4.1.3에서 작성되었습니다\"\n",
      "Warning message:\n",
      "\"패키지 'purrr'는 R 버전 4.1.3에서 작성되었습니다\"\n",
      "Warning message:\n",
      "\"패키지 'dplyr'는 R 버전 4.1.3에서 작성되었습니다\"\n",
      "Warning message:\n",
      "\"패키지 'stringr'는 R 버전 4.1.3에서 작성되었습니다\"\n",
      "Warning message:\n",
      "\"패키지 'forcats'는 R 버전 4.1.3에서 작성되었습니다\"\n",
      "-- \u001b[1mConflicts\u001b[22m ---------------------------------------------------------------------------------- tidyverse_conflicts() --\n",
      "\u001b[31mx\u001b[39m \u001b[34mdplyr\u001b[39m::\u001b[32mfilter()\u001b[39m         masks \u001b[34mstats\u001b[39m::filter()\n",
      "\u001b[31mx\u001b[39m \u001b[34mreadr\u001b[39m::\u001b[32mguess_encoding()\u001b[39m masks \u001b[34mrvest\u001b[39m::guess_encoding()\n",
      "\u001b[31mx\u001b[39m \u001b[34mdplyr\u001b[39m::\u001b[32mlag()\u001b[39m            masks \u001b[34mstats\u001b[39m::lag()\n",
      "\n"
     ]
    }
   ],
   "source": [
    "if (!require(rvest)) install.packages('rvest')\n",
    "library(rvest)\n",
    "\n",
    "if (!require(tidyverse)) install.packages('tidyverse')\n",
    "library(tidyverse)\n",
    "\n",
    "target_url <- 'https://ko.wikipedia.org/wiki/%EC%A1%B0%EC%84%A0_%EA%B5%AD%EC%99%95'\n",
    "html <- read_html(target_url)\n",
    "\n",
    "# 왕의 대수를 입력하면 왕의 정보를 반환하는 함수를 정의함\n",
    "get_king_info <- function(order){\n",
    "    tables <- html %>%\n",
    "        html_nodes('table[class=wikitable]') %>%\n",
    "        html_nodes('tr') %>%    \n",
    "        html_text()\n",
    "    \n",
    "    tables <- gsub('\\n', '', tables) # \\n을 삭제한다.\n",
    "    tables <- tables[grep('^제', tables)][order] # 왕별 데이터는 '제'로 스타트\n",
    "\n",
    "    sep_tables <- tables %>% # 한글자씩 쪼갠다.\n",
    "        strsplit(split = '') %>%\n",
    "        unlist()\n",
    "\n",
    "    # 한자는 사용하지 않는다.\n",
    "    # 따라서 편의를 위해 한글과 숫자가 아닌 문자는 모두 N으로 치환한다.\n",
    "    sep_tables[-grep('[ㄱ-ㅎ|가-힣|0-9|]', sep_tables)] = 'N'\n",
    "    \n",
    "    order <-\n",
    "        sep_tables[grep('제', sep_tables)[1] : grep('대', sep_tables)[1]] %>%\n",
    "        paste(collapse = '')\n",
    "    \n",
    "    # order와 name은 연결되어 있다. ex) 제10대연산군\n",
    "    # 왕의 이름은 조,종,군 중 하나로 끝난다.\n",
    "    name <- \n",
    "        sep_tables[(grep('대', sep_tables)[1]+1): grep('조|종|군', sep_tables)[1]] %>%\n",
    "        paste(collapse = '')\n",
    "    \n",
    "    years <- c()\n",
    "    for (i in grep('년', sep_tables)){\n",
    "        years <- c(years, paste0(sep_tables[(i-3):i-1], collapse = ''))\n",
    "    }\n",
    "    birth <- years[1]\n",
    "    death <- years[2]\n",
    "    king_start <- years[3]\n",
    "    king_end <- years[4]\n",
    "    \n",
    "    pasted <- unlist(strsplit(paste0(sep_tables, collapse = ''), split = 'N'))\n",
    "    grave <- pasted[grep('릉|묘$', pasted)] # 왕의 무덤은 릉, 묘로 끝난다.\n",
    "    \n",
    "    return(c(order, name, birth, death, king_start, king_end, grave))\n",
    "}\n",
    "\n",
    "kings <- vector('list', 26)\n",
    "for (i in 1:length(kings)){\n",
    "    kings[[i]] <- get_king_info(i)\n",
    "}\n",
    "final <- do.call('rbind', kings)\n",
    "colnames(final) <- c('order', 'name', 'birth', 'death', 'king_start', 'king_end', 'grave')\n",
    "write.table(final, 'Joseon_king.txt', row.names=FALSE)"
   ]
  },
  {
   "cell_type": "code",
   "execution_count": 4,
   "id": "99f27750-213a-4522-9849-92f7beb67f1a",
   "metadata": {},
   "outputs": [
    {
     "data": {
      "text/html": [
       "<table class=\"dataframe\">\n",
       "<caption>A data.frame: 6 × 7</caption>\n",
       "<thead>\n",
       "\t<tr><th></th><th scope=col>order</th><th scope=col>name</th><th scope=col>birth</th><th scope=col>death</th><th scope=col>king_start</th><th scope=col>king_end</th><th scope=col>grave</th></tr>\n",
       "\t<tr><th></th><th scope=col>&lt;chr&gt;</th><th scope=col>&lt;chr&gt;</th><th scope=col>&lt;chr&gt;</th><th scope=col>&lt;chr&gt;</th><th scope=col>&lt;chr&gt;</th><th scope=col>&lt;chr&gt;</th><th scope=col>&lt;chr&gt;</th></tr>\n",
       "</thead>\n",
       "<tbody>\n",
       "\t<tr><th scope=row>1</th><td>제1대</td><td>태조</td><td>1335</td><td>1408</td><td>1392</td><td>1398</td><td>건원릉</td></tr>\n",
       "\t<tr><th scope=row>2</th><td>제2대</td><td>정종</td><td>1357</td><td>1419</td><td>1398</td><td>1400</td><td>후릉  </td></tr>\n",
       "\t<tr><th scope=row>3</th><td>제3대</td><td>태종</td><td>1367</td><td>1422</td><td>1400</td><td>1418</td><td>헌릉  </td></tr>\n",
       "\t<tr><th scope=row>4</th><td>제4대</td><td>세종</td><td>1397</td><td>1450</td><td>1418</td><td>1450</td><td>영릉  </td></tr>\n",
       "\t<tr><th scope=row>5</th><td>제5대</td><td>문종</td><td>1414</td><td>1452</td><td>1450</td><td>1452</td><td>현릉  </td></tr>\n",
       "\t<tr><th scope=row>6</th><td>제6대</td><td>단종</td><td>1441</td><td>1457</td><td>1452</td><td>1455</td><td>장릉  </td></tr>\n",
       "</tbody>\n",
       "</table>\n"
      ],
      "text/latex": [
       "A data.frame: 6 × 7\n",
       "\\begin{tabular}{r|lllllll}\n",
       "  & order & name & birth & death & king\\_start & king\\_end & grave\\\\\n",
       "  & <chr> & <chr> & <chr> & <chr> & <chr> & <chr> & <chr>\\\\\n",
       "\\hline\n",
       "\t1 & 제1대 & 태조 & 1335 & 1408 & 1392 & 1398 & 건원릉\\\\\n",
       "\t2 & 제2대 & 정종 & 1357 & 1419 & 1398 & 1400 & 후릉  \\\\\n",
       "\t3 & 제3대 & 태종 & 1367 & 1422 & 1400 & 1418 & 헌릉  \\\\\n",
       "\t4 & 제4대 & 세종 & 1397 & 1450 & 1418 & 1450 & 영릉  \\\\\n",
       "\t5 & 제5대 & 문종 & 1414 & 1452 & 1450 & 1452 & 현릉  \\\\\n",
       "\t6 & 제6대 & 단종 & 1441 & 1457 & 1452 & 1455 & 장릉  \\\\\n",
       "\\end{tabular}\n"
      ],
      "text/markdown": [
       "\n",
       "A data.frame: 6 × 7\n",
       "\n",
       "| <!--/--> | order &lt;chr&gt; | name &lt;chr&gt; | birth &lt;chr&gt; | death &lt;chr&gt; | king_start &lt;chr&gt; | king_end &lt;chr&gt; | grave &lt;chr&gt; |\n",
       "|---|---|---|---|---|---|---|---|\n",
       "| 1 | 제1대 | 태조 | 1335 | 1408 | 1392 | 1398 | 건원릉 |\n",
       "| 2 | 제2대 | 정종 | 1357 | 1419 | 1398 | 1400 | 후릉   |\n",
       "| 3 | 제3대 | 태종 | 1367 | 1422 | 1400 | 1418 | 헌릉   |\n",
       "| 4 | 제4대 | 세종 | 1397 | 1450 | 1418 | 1450 | 영릉   |\n",
       "| 5 | 제5대 | 문종 | 1414 | 1452 | 1450 | 1452 | 현릉   |\n",
       "| 6 | 제6대 | 단종 | 1441 | 1457 | 1452 | 1455 | 장릉   |\n",
       "\n"
      ],
      "text/plain": [
       "  order name birth death king_start king_end grave \n",
       "1 제1대 태조 1335  1408  1392       1398     건원릉\n",
       "2 제2대 정종 1357  1419  1398       1400     후릉  \n",
       "3 제3대 태종 1367  1422  1400       1418     헌릉  \n",
       "4 제4대 세종 1397  1450  1418       1450     영릉  \n",
       "5 제5대 문종 1414  1452  1450       1452     현릉  \n",
       "6 제6대 단종 1441  1457  1452       1455     장릉  "
      ]
     },
     "metadata": {},
     "output_type": "display_data"
    }
   ],
   "source": [
    "data <- data.frame(final)\n",
    "head(data)"
   ]
  },
  {
   "cell_type": "code",
   "execution_count": 39,
   "id": "11e749e7-12ee-4bb9-a63f-a3bfb1c3366f",
   "metadata": {},
   "outputs": [],
   "source": [
    "data[,'birth'] <- as.numeric(data[,'birth'])\n",
    "data[,'death'] <- as.numeric(data[,'death'])\n",
    "data[,'king_start'] <- as.numeric(data[,'king_start'])\n",
    "data[,'king_end'] <- as.numeric(data[,'king_end'])\n",
    "\n",
    "data <- data %>% mutate(age = death - birth)"
   ]
  },
  {
   "cell_type": "code",
   "execution_count": 49,
   "id": "30d39ec4-81b3-4363-8955-eabb93120089",
   "metadata": {},
   "outputs": [
    {
     "data": {
      "image/png": "[encoded data removed]",
      "text/plain": [
       "Plot with title \"동의보감 1610년\""
      ]
     },
     "metadata": {
      "image/png": {
       "height": 420,
       "width": 420
      }
     },
     "output_type": "display_data"
    }
   ],
   "source": [
    "plot(data[,'birth'], data[,'age'],\n",
    "     xlab = 'birth_year', \n",
    "     ylab = 'age',\n",
    "     main = '동의보감 1610년',\n",
    "     cex = 1.5)\n",
    "abline(v = 1610, col = 'red')\n",
    "abline(lm(age ~ birth, data = data))"
   ]
  },
  {
   "cell_type": "code",
   "execution_count": null,
   "id": "f59c568a-ba0c-40ba-b5f8-e98de4ad4237",
   "metadata": {},
   "outputs": [],
   "source": [
    "fact <- "
   ]
  },
  {
   "cell_type": "code",
   "execution_count": 60,
   "id": "9e49687f-1eb1-4ce6-a6a6-bbf193d54731",
   "metadata": {},
   "outputs": [],
   "source": [
    "Before <- data[data[,'birth'] <= 1610, 'age']\n",
    "After <- data[data[,'birth'] > 1610, 'age']"
   ]
  },
  {
   "cell_type": "code",
   "execution_count": 66,
   "id": "5a748842-fb38-4744-8831-296b0786e641",
   "metadata": {},
   "outputs": [
    {
     "data": {
      "text/html": [
       "<style>\n",
       ".list-inline {list-style: none; margin:0; padding: 0}\n",
       ".list-inline>li {display: inline-block}\n",
       ".list-inline>li:not(:last-child)::after {content: \"\\00b7\"; padding: 0 .5ex}\n",
       "</style>\n",
       "<ol class=list-inline><li>40</li><li>33</li><li>59</li><li>36</li><li>82</li><li>48</li><li>44</li><li>22</li><li>32</li><li>67</li></ol>\n"
      ],
      "text/latex": [
       "\\begin{enumerate*}\n",
       "\\item 40\n",
       "\\item 33\n",
       "\\item 59\n",
       "\\item 36\n",
       "\\item 82\n",
       "\\item 48\n",
       "\\item 44\n",
       "\\item 22\n",
       "\\item 32\n",
       "\\item 67\n",
       "\\end{enumerate*}\n"
      ],
      "text/markdown": [
       "1. 40\n",
       "2. 33\n",
       "3. 59\n",
       "4. 36\n",
       "5. 82\n",
       "6. 48\n",
       "7. 44\n",
       "8. 22\n",
       "9. 32\n",
       "10. 67\n",
       "\n",
       "\n"
      ],
      "text/plain": [
       " [1] 40 33 59 36 82 48 44 22 32 67"
      ]
     },
     "metadata": {},
     "output_type": "display_data"
    }
   ],
   "source": [
    "After"
   ]
  },
  {
   "cell_type": "code",
   "execution_count": 65,
   "id": "f930dfcc-08e6-491f-9f25-9f053bbac78a",
   "metadata": {},
   "outputs": [
    {
     "data": {
      "image/png": "[encoded data removed]",
      "text/plain": [
       "plot without title"
      ]
     },
     "metadata": {
      "image/png": {
       "height": 420,
       "width": 420
      }
     },
     "output_type": "display_data"
    }
   ],
   "source": [
    "boxplot(Before, After)"
   ]
  },
  {
   "cell_type": "code",
   "execution_count": 51,
   "id": "f7445bc0-1236-4c7a-b269-09313f8d0fb4",
   "metadata": {},
   "outputs": [
    {
     "data": {
      "image/png": "[encoded data removed]",
      "text/plain": [
       "plot without title"
      ]
     },
     "metadata": {
      "image/png": {
       "height": 420,
       "width": 420
      }
     },
     "output_type": "display_data"
    }
   ],
   "source": [
    "boxplot(data[,'birth'], data[,'age'])"
   ]
  },
  {
   "cell_type": "code",
   "execution_count": 27,
   "id": "71dd4b5a-9dac-4823-974f-7cc9cb10e779",
   "metadata": {},
   "outputs": [
    {
     "data": {
      "text/html": [
       "<style>\n",
       ".list-inline {list-style: none; margin:0; padding: 0}\n",
       ".list-inline>li {display: inline-block}\n",
       ".list-inline>li:not(:last-child)::after {content: \"\\00b7\"; padding: 0 .5ex}\n",
       "</style>\n",
       "<ol class=list-inline><li>1335</li><li>1357</li><li>1367</li><li>1397</li><li>1414</li><li>1441</li><li>1417</li><li>1450</li><li>1457</li><li>1476</li><li>1488</li><li>1515</li><li>1534</li><li>1552</li><li>1575</li><li>1595</li><li>1619</li><li>1641</li><li>1661</li><li>1688</li><li>1694</li><li>1752</li><li>1790</li><li>1827</li><li>1831</li><li>1852</li></ol>\n"
      ],
      "text/latex": [
       "\\begin{enumerate*}\n",
       "\\item 1335\n",
       "\\item 1357\n",
       "\\item 1367\n",
       "\\item 1397\n",
       "\\item 1414\n",
       "\\item 1441\n",
       "\\item 1417\n",
       "\\item 1450\n",
       "\\item 1457\n",
       "\\item 1476\n",
       "\\item 1488\n",
       "\\item 1515\n",
       "\\item 1534\n",
       "\\item 1552\n",
       "\\item 1575\n",
       "\\item 1595\n",
       "\\item 1619\n",
       "\\item 1641\n",
       "\\item 1661\n",
       "\\item 1688\n",
       "\\item 1694\n",
       "\\item 1752\n",
       "\\item 1790\n",
       "\\item 1827\n",
       "\\item 1831\n",
       "\\item 1852\n",
       "\\end{enumerate*}\n"
      ],
      "text/markdown": [
       "1. 1335\n",
       "2. 1357\n",
       "3. 1367\n",
       "4. 1397\n",
       "5. 1414\n",
       "6. 1441\n",
       "7. 1417\n",
       "8. 1450\n",
       "9. 1457\n",
       "10. 1476\n",
       "11. 1488\n",
       "12. 1515\n",
       "13. 1534\n",
       "14. 1552\n",
       "15. 1575\n",
       "16. 1595\n",
       "17. 1619\n",
       "18. 1641\n",
       "19. 1661\n",
       "20. 1688\n",
       "21. 1694\n",
       "22. 1752\n",
       "23. 1790\n",
       "24. 1827\n",
       "25. 1831\n",
       "26. 1852\n",
       "\n",
       "\n"
      ],
      "text/plain": [
       " [1] 1335 1357 1367 1397 1414 1441 1417 1450 1457 1476 1488 1515 1534 1552 1575\n",
       "[16] 1595 1619 1641 1661 1688 1694 1752 1790 1827 1831 1852"
      ]
     },
     "metadata": {},
     "output_type": "display_data"
    }
   ],
   "source": [
    "data['birth'][,]"
   ]
  },
  {
   "cell_type": "code",
   "execution_count": null,
   "id": "06764555-d5f5-40a4-b3c8-a0365d354fdf",
   "metadata": {},
   "outputs": [],
   "source": []
  }
 ],
 "metadata": {
  "kernelspec": {
   "display_name": "R",
   "language": "R",
   "name": "ir"
  },
  "language_info": {
   "codemirror_mode": "r",
   "file_extension": ".r",
   "mimetype": "text/x-r-source",
   "name": "R",
   "pygments_lexer": "r",
   "version": "4.1.2"
  }
 },
 "nbformat": 4,
 "nbformat_minor": 5
}
