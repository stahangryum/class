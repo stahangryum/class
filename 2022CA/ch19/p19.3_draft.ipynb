{
 "cells": [
  {
   "cell_type": "code",
   "execution_count": 3,
   "id": "1df1a258-a9f4-4d53-aa0c-deb6b427c253",
   "metadata": {},
   "outputs": [],
   "source": [
    "# name\n",
    "# birth\n",
    "# death"
   ]
  },
  {
   "cell_type": "code",
   "execution_count": 5,
   "id": "7b5876fd-bf56-49df-815d-162300f53385",
   "metadata": {},
   "outputs": [],
   "source": [
    "if (!require(rvest)) install.packages('rvest')\n",
    "library(rvest)\n",
    "\n",
    "if (!require(tidyverse)) install.packages('tidyverse')\n",
    "library(tidyverse)"
   ]
  },
  {
   "cell_type": "code",
   "execution_count": 85,
   "id": "c805f6e7-3cc0-479b-b0f1-4e6d13ba2cbb",
   "metadata": {},
   "outputs": [],
   "source": [
    "target_url <- 'https://en.wikipedia.org/wiki/List_of_emperors_of_the_Qing_dynasty'"
   ]
  },
  {
   "cell_type": "code",
   "execution_count": 86,
   "id": "09b56650-3358-486e-bb04-4516792d3337",
   "metadata": {},
   "outputs": [],
   "source": [
    "html <- read_html(target_url)"
   ]
  },
  {
   "cell_type": "code",
   "execution_count": 87,
   "id": "f6c8bf3e-8da2-40ba-a895-3908f7ead4b1",
   "metadata": {},
   "outputs": [
    {
     "data": {
      "text/html": [
       "'Nurhaci(21 February 1559–30 September 1626)\\n'"
      ],
      "text/latex": [
       "'Nurhaci(21 February 1559–30 September 1626)\\textbackslash{}n'"
      ],
      "text/markdown": [
       "'Nurhaci(21 February 1559–30 September 1626)\\n'"
      ],
      "text/plain": [
       "[1] \"Nurhaci(21 February 1559<U+2013>30 September 1626)\\n\""
      ]
     },
     "metadata": {},
     "output_type": "display_data"
    }
   ],
   "source": [
    "((html %>%\n",
    "    html_nodes('table[class=wikitable]') %>%\n",
    "    html_nodes('tr'))[2] %>%\n",
    "    html_nodes('td') %>%\n",
    "    html_text())[2]"
   ]
  },
  {
   "cell_type": "code",
   "execution_count": 88,
   "id": "945a8926-26a3-4a57-9e7b-5cf2a3843d3e",
   "metadata": {},
   "outputs": [
    {
     "ename": "ERROR",
     "evalue": "Error in xml_nodeset(NextMethod()): Expecting an external pointer: [type=NULL]\n",
     "output_type": "error",
     "traceback": [
      "Error in xml_nodeset(NextMethod()): Expecting an external pointer: [type=NULL]\nTraceback:\n",
      "1. (html %>% html_nodes(\"table[class=wikitable]\") %>% html_nodes(\"tr\"))[i] %>% \n .     html_nodes(\"td\") %>% html_text()",
      "2. html_text(.)",
      "3. xml_text(x, trim = trim)",
      "4. html_nodes(., \"td\")",
      "5. html_elements(...)",
      "6. (html %>% html_nodes(\"table[class=wikitable]\") %>% html_nodes(\"tr\"))[i]",
      "7. `[.xml_nodeset`((html %>% html_nodes(\"table[class=wikitable]\") %>% \n .     html_nodes(\"tr\")), i)",
      "8. xml_nodeset(NextMethod())"
     ]
    }
   ],
   "source": [
    "var = numeric(17)\n",
    "for (i in 2:18){\n",
    "    var[i-1] <- (((html %>%\n",
    "        html_nodes('table[class=wikitable]') %>%\n",
    "        html_nodes('tr'))[i] %>%\n",
    "        html_nodes('td') %>%\n",
    "        html_text())[2])\n",
    "}"
   ]
  },
  {
   "cell_type": "code",
   "execution_count": 89,
   "id": "81297e0a-4251-41e5-bbdd-ea701cc6afcf",
   "metadata": {},
   "outputs": [
    {
     "data": {
      "text/html": [
       "<style>\n",
       ".list-inline {list-style: none; margin:0; padding: 0}\n",
       ".list-inline>li {display: inline-block}\n",
       ".list-inline>li:not(:last-child)::after {content: \"\\00b7\"; padding: 0 .5ex}\n",
       "</style>\n",
       "<ol class=list-inline><li>'Nurhaci'</li><li>'21 February 1559–30 September 1626)\\n'</li></ol>\n"
      ],
      "text/latex": [
       "\\begin{enumerate*}\n",
       "\\item 'Nurhaci'\n",
       "\\item '21 February 1559–30 September 1626)\\textbackslash{}n'\n",
       "\\end{enumerate*}\n"
      ],
      "text/markdown": [
       "1. 'Nurhaci'\n",
       "2. '21 February 1559–30 September 1626)\\n'\n",
       "\n",
       "\n"
      ],
      "text/plain": [
       "[1] \"Nurhaci\"                              \n",
       "[2] \"21 February 1559<U+2013>30 September 1626)\\n\""
      ]
     },
     "metadata": {},
     "output_type": "display_data"
    }
   ],
   "source": [
    "unclean_data <- unlist(strsplit(var[1], split = '\\\\('))\n",
    "unclean_data"
   ]
  },
  {
   "cell_type": "code",
   "execution_count": 83,
   "id": "ec51e9f6-5c44-4d8f-a0c1-68889dd6d8c6",
   "metadata": {},
   "outputs": [],
   "source": [
    "dynasty <- 'Ming'"
   ]
  },
  {
   "cell_type": "code",
   "execution_count": 90,
   "id": "d28c59fc-b262-4a2e-8893-d154a20fd107",
   "metadata": {},
   "outputs": [
    {
     "data": {
      "text/html": [
       "'Nurhaci'"
      ],
      "text/latex": [
       "'Nurhaci'"
      ],
      "text/markdown": [
       "'Nurhaci'"
      ],
      "text/plain": [
       "[1] \"Nurhaci\""
      ]
     },
     "metadata": {},
     "output_type": "display_data"
    }
   ],
   "source": [
    "name <- unclean_data[1]\n",
    "name"
   ]
  },
  {
   "cell_type": "code",
   "execution_count": 95,
   "id": "e1b4ae8e-e543-4e37-bf24-44338f11f81a",
   "metadata": {},
   "outputs": [],
   "source": [
    "years <- (gsub('\\n|\\\\)', '', unclean_data[2]) %>%\n",
    "    strsplit(split = ' ') %>%\n",
    "    unlist())"
   ]
  },
  {
   "cell_type": "code",
   "execution_count": 96,
   "id": "1cbd13d8-0d96-43ec-8bd4-43b831b77e23",
   "metadata": {},
   "outputs": [
    {
     "data": {
      "text/html": [
       "<style>\n",
       ".list-inline {list-style: none; margin:0; padding: 0}\n",
       ".list-inline>li {display: inline-block}\n",
       ".list-inline>li:not(:last-child)::after {content: \"\\00b7\"; padding: 0 .5ex}\n",
       "</style>\n",
       "<ol class=list-inline><li>'21'</li><li>'February'</li><li>'1559–30'</li><li>'September'</li><li>'1626'</li></ol>\n"
      ],
      "text/latex": [
       "\\begin{enumerate*}\n",
       "\\item '21'\n",
       "\\item 'February'\n",
       "\\item '1559–30'\n",
       "\\item 'September'\n",
       "\\item '1626'\n",
       "\\end{enumerate*}\n"
      ],
      "text/markdown": [
       "1. '21'\n",
       "2. 'February'\n",
       "3. '1559–30'\n",
       "4. 'September'\n",
       "5. '1626'\n",
       "\n",
       "\n"
      ],
      "text/plain": [
       "[1] \"21\"        \"February\"  \"1559<U+2013>30\" \"September\" \"1626\"     "
      ]
     },
     "metadata": {},
     "output_type": "display_data"
    }
   ],
   "source": [
    "years"
   ]
  },
  {
   "cell_type": "code",
   "execution_count": 100,
   "id": "44938a7d-cde8-485d-953b-f2c428faaa79",
   "metadata": {},
   "outputs": [
    {
     "data": {
      "text/html": [
       "'1559'"
      ],
      "text/latex": [
       "'1559'"
      ],
      "text/markdown": [
       "'1559'"
      ],
      "text/plain": [
       "[1] \"1559\""
      ]
     },
     "metadata": {},
     "output_type": "display_data"
    }
   ],
   "source": [
    "birth <- substr(years[3], 1, 4)\n",
    "birth"
   ]
  },
  {
   "cell_type": "code",
   "execution_count": 102,
   "id": "cdec0d1a-17b9-42a9-add8-734a65358e87",
   "metadata": {},
   "outputs": [
    {
     "data": {
      "text/html": [
       "'1626'"
      ],
      "text/latex": [
       "'1626'"
      ],
      "text/markdown": [
       "'1626'"
      ],
      "text/plain": [
       "[1] \"1626\""
      ]
     },
     "metadata": {},
     "output_type": "display_data"
    }
   ],
   "source": [
    "death <- years[5]\n",
    "death"
   ]
  },
  {
   "cell_type": "code",
   "execution_count": 92,
   "id": "a2989634-658e-44f7-8aeb-2047100bfe7c",
   "metadata": {},
   "outputs": [
    {
     "data": {
      "text/html": [
       "'1559–30'"
      ],
      "text/latex": [
       "'1559–30'"
      ],
      "text/markdown": [
       "'1559–30'"
      ],
      "text/plain": [
       "[1] \"1559<U+2013>30\""
      ]
     },
     "metadata": {},
     "output_type": "display_data"
    },
    {
     "data": {
      "text/html": [
       "NA"
      ],
      "text/latex": [
       "NA"
      ],
      "text/markdown": [
       "NA"
      ],
      "text/plain": [
       "[1] NA"
      ]
     },
     "metadata": {},
     "output_type": "display_data"
    }
   ],
   "source": [
    "birth <- years[1]\n",
    "death <- years[2]\n",
    "birth\n",
    "death"
   ]
  },
  {
   "cell_type": "code",
   "execution_count": 84,
   "id": "f7f738e7-27b3-4877-97d3-7171442d436f",
   "metadata": {},
   "outputs": [
    {
     "data": {
      "text/html": [
       "<style>\n",
       ".list-inline {list-style: none; margin:0; padding: 0}\n",
       ".list-inline>li {display: inline-block}\n",
       ".list-inline>li:not(:last-child)::after {content: \"\\00b7\"; padding: 0 .5ex}\n",
       "</style>\n",
       "<ol class=list-inline><li>'Ming'</li><li>'Hongwu Emperor'</li><li>'1328'</li><li>'1398'</li></ol>\n"
      ],
      "text/latex": [
       "\\begin{enumerate*}\n",
       "\\item 'Ming'\n",
       "\\item 'Hongwu Emperor'\n",
       "\\item '1328'\n",
       "\\item '1398'\n",
       "\\end{enumerate*}\n"
      ],
      "text/markdown": [
       "1. 'Ming'\n",
       "2. 'Hongwu Emperor'\n",
       "3. '1328'\n",
       "4. '1398'\n",
       "\n",
       "\n"
      ],
      "text/plain": [
       "[1] \"Ming\"           \"Hongwu Emperor\" \"1328\"           \"1398\"          "
      ]
     },
     "metadata": {},
     "output_type": "display_data"
    }
   ],
   "source": [
    "c(dynasty, name, birth, death)"
   ]
  },
  {
   "cell_type": "code",
   "execution_count": null,
   "id": "7cf104f3-2451-47a9-ada7-8dd36f0b750a",
   "metadata": {},
   "outputs": [],
   "source": []
  }
 ],
 "metadata": {
  "kernelspec": {
   "display_name": "R",
   "language": "R",
   "name": "ir"
  },
  "language_info": {
   "codemirror_mode": "r",
   "file_extension": ".r",
   "mimetype": "text/x-r-source",
   "name": "R",
   "pygments_lexer": "r",
   "version": "4.1.2"
  }
 },
 "nbformat": 4,
 "nbformat_minor": 5
}
