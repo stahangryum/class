{
 "cells": [
  {
   "cell_type": "markdown",
   "id": "6d510659-4eff-4e8d-9f58-278885c78050",
   "metadata": {
    "tags": []
   },
   "source": [
    "## Ch.4 객체 타입 변환"
   ]
  },
  {
   "cell_type": "code",
   "execution_count": 1,
   "id": "5f485bcc-d321-4f38-b6fc-d5103308b64e",
   "metadata": {},
   "outputs": [
    {
     "data": {
      "text/html": [
       "TRUE"
      ],
      "text/latex": [
       "TRUE"
      ],
      "text/markdown": [
       "TRUE"
      ],
      "text/plain": [
       "[1] TRUE"
      ]
     },
     "metadata": {},
     "output_type": "display_data"
    }
   ],
   "source": [
    "lv = c(TRUE, FALSE, TRUE)\n",
    "is.logical(lv)"
   ]
  },
  {
   "cell_type": "code",
   "execution_count": 2,
   "id": "3b7f6db6-9e33-4390-b77d-eb287cfc226d",
   "metadata": {},
   "outputs": [
    {
     "data": {
      "text/html": [
       "<style>\n",
       ".list-inline {list-style: none; margin:0; padding: 0}\n",
       ".list-inline>li {display: inline-block}\n",
       ".list-inline>li:not(:last-child)::after {content: \"\\00b7\"; padding: 0 .5ex}\n",
       "</style>\n",
       "<ol class=list-inline><li>TRUE</li><li>FALSE</li><li>TRUE</li></ol>\n"
      ],
      "text/latex": [
       "\\begin{enumerate*}\n",
       "\\item TRUE\n",
       "\\item FALSE\n",
       "\\item TRUE\n",
       "\\end{enumerate*}\n"
      ],
      "text/markdown": [
       "1. TRUE\n",
       "2. FALSE\n",
       "3. TRUE\n",
       "\n",
       "\n"
      ],
      "text/plain": [
       "[1]  TRUE FALSE  TRUE"
      ]
     },
     "metadata": {},
     "output_type": "display_data"
    }
   ],
   "source": [
    "lv"
   ]
  },
  {
   "cell_type": "code",
   "execution_count": 3,
   "id": "f9873c89-7805-4567-b12b-8a85744241d4",
   "metadata": {},
   "outputs": [
    {
     "data": {
      "text/plain": [
       "NULL"
      ]
     },
     "metadata": {},
     "output_type": "display_data"
    }
   ],
   "source": [
    "levels(lv)"
   ]
  },
  {
   "cell_type": "code",
   "execution_count": 4,
   "id": "c8de0283-ed45-4b65-a093-bfa06ea3384f",
   "metadata": {},
   "outputs": [],
   "source": [
    "fv = factor(lv)"
   ]
  },
  {
   "cell_type": "code",
   "execution_count": 5,
   "id": "26b3435d-b147-434e-9cab-0f036b795789",
   "metadata": {},
   "outputs": [
    {
     "data": {
      "text/html": [
       "<style>\n",
       ".list-inline {list-style: none; margin:0; padding: 0}\n",
       ".list-inline>li {display: inline-block}\n",
       ".list-inline>li:not(:last-child)::after {content: \"\\00b7\"; padding: 0 .5ex}\n",
       "</style>\n",
       "<ol class=list-inline><li>TRUE</li><li>FALSE</li><li>TRUE</li></ol>\n",
       "\n",
       "<details>\n",
       "\t<summary style=display:list-item;cursor:pointer>\n",
       "\t\t<strong>Levels</strong>:\n",
       "\t</summary>\n",
       "\t<style>\n",
       "\t.list-inline {list-style: none; margin:0; padding: 0}\n",
       "\t.list-inline>li {display: inline-block}\n",
       "\t.list-inline>li:not(:last-child)::after {content: \"\\00b7\"; padding: 0 .5ex}\n",
       "\t</style>\n",
       "\t<ol class=list-inline><li>'FALSE'</li><li>'TRUE'</li></ol>\n",
       "</details>"
      ],
      "text/latex": [
       "\\begin{enumerate*}\n",
       "\\item TRUE\n",
       "\\item FALSE\n",
       "\\item TRUE\n",
       "\\end{enumerate*}\n",
       "\n",
       "\\emph{Levels}: \\begin{enumerate*}\n",
       "\\item 'FALSE'\n",
       "\\item 'TRUE'\n",
       "\\end{enumerate*}\n"
      ],
      "text/markdown": [
       "1. TRUE\n",
       "2. FALSE\n",
       "3. TRUE\n",
       "\n",
       "\n",
       "\n",
       "**Levels**: 1. 'FALSE'\n",
       "2. 'TRUE'\n",
       "\n",
       "\n"
      ],
      "text/plain": [
       "[1] TRUE  FALSE TRUE \n",
       "Levels: FALSE TRUE"
      ]
     },
     "metadata": {},
     "output_type": "display_data"
    }
   ],
   "source": [
    "fv"
   ]
  },
  {
   "cell_type": "code",
   "execution_count": 6,
   "id": "5f80bd82-ce80-48ef-bf87-d3da070fe279",
   "metadata": {},
   "outputs": [
    {
     "data": {
      "text/html": [
       "TRUE"
      ],
      "text/latex": [
       "TRUE"
      ],
      "text/markdown": [
       "TRUE"
      ],
      "text/plain": [
       "[1] TRUE"
      ]
     },
     "metadata": {},
     "output_type": "display_data"
    }
   ],
   "source": [
    "is.factor(fv)"
   ]
  },
  {
   "cell_type": "code",
   "execution_count": 7,
   "id": "6af579d6-c775-4ad4-bfd7-4b43225c2d72",
   "metadata": {},
   "outputs": [],
   "source": [
    "nv = as.numeric(lv)"
   ]
  },
  {
   "cell_type": "code",
   "execution_count": 8,
   "id": "c5d9b98e-70d6-47b0-a51e-6808c2b8df86",
   "metadata": {},
   "outputs": [
    {
     "data": {
      "text/html": [
       "<style>\n",
       ".list-inline {list-style: none; margin:0; padding: 0}\n",
       ".list-inline>li {display: inline-block}\n",
       ".list-inline>li:not(:last-child)::after {content: \"\\00b7\"; padding: 0 .5ex}\n",
       "</style>\n",
       "<ol class=list-inline><li>1</li><li>0</li><li>1</li></ol>\n"
      ],
      "text/latex": [
       "\\begin{enumerate*}\n",
       "\\item 1\n",
       "\\item 0\n",
       "\\item 1\n",
       "\\end{enumerate*}\n"
      ],
      "text/markdown": [
       "1. 1\n",
       "2. 0\n",
       "3. 1\n",
       "\n",
       "\n"
      ],
      "text/plain": [
       "[1] 1 0 1"
      ]
     },
     "metadata": {},
     "output_type": "display_data"
    }
   ],
   "source": [
    "nv"
   ]
  },
  {
   "cell_type": "code",
   "execution_count": 9,
   "id": "51c06776-fbcd-48e1-8696-8ff0b6c030ec",
   "metadata": {},
   "outputs": [
    {
     "data": {
      "text/html": [
       "<style>\n",
       ".list-inline {list-style: none; margin:0; padding: 0}\n",
       ".list-inline>li {display: inline-block}\n",
       ".list-inline>li:not(:last-child)::after {content: \"\\00b7\"; padding: 0 .5ex}\n",
       "</style>\n",
       "<ol class=list-inline><li>1</li><li>2</li><li>3</li><li>3</li><li>2</li></ol>\n"
      ],
      "text/latex": [
       "\\begin{enumerate*}\n",
       "\\item 1\n",
       "\\item 2\n",
       "\\item 3\n",
       "\\item 3\n",
       "\\item 2\n",
       "\\end{enumerate*}\n"
      ],
      "text/markdown": [
       "1. 1\n",
       "2. 2\n",
       "3. 3\n",
       "4. 3\n",
       "5. 2\n",
       "\n",
       "\n"
      ],
      "text/plain": [
       "[1] 1 2 3 3 2"
      ]
     },
     "metadata": {},
     "output_type": "display_data"
    }
   ],
   "source": [
    "as.numeric(factor(c('a', 'b', 'c', 'c', 'b'))) "
   ]
  },
  {
   "cell_type": "code",
   "execution_count": 10,
   "id": "cbc747fc-3704-46e7-9b39-03d6fad2fcd5",
   "metadata": {},
   "outputs": [
    {
     "name": "stderr",
     "output_type": "stream",
     "text": [
      "Warning message in eval(expr, envir, enclos):\n",
      "\"강제형변환에 의해 생성된 NA 입니다\"\n"
     ]
    },
    {
     "data": {
      "text/html": [
       "<style>\n",
       ".list-inline {list-style: none; margin:0; padding: 0}\n",
       ".list-inline>li {display: inline-block}\n",
       ".list-inline>li:not(:last-child)::after {content: \"\\00b7\"; padding: 0 .5ex}\n",
       "</style>\n",
       "<ol class=list-inline><li>&lt;NA&gt;</li><li>&lt;NA&gt;</li><li>&lt;NA&gt;</li></ol>\n"
      ],
      "text/latex": [
       "\\begin{enumerate*}\n",
       "\\item <NA>\n",
       "\\item <NA>\n",
       "\\item <NA>\n",
       "\\end{enumerate*}\n"
      ],
      "text/markdown": [
       "1. &lt;NA&gt;\n",
       "2. &lt;NA&gt;\n",
       "3. &lt;NA&gt;\n",
       "\n",
       "\n"
      ],
      "text/plain": [
       "[1] NA NA NA"
      ]
     },
     "metadata": {},
     "output_type": "display_data"
    }
   ],
   "source": [
    "as.numeric(c('a', 'b', 'c'))"
   ]
  },
  {
   "cell_type": "markdown",
   "id": "825a86f6-270b-4637-b35c-e53be4f677ef",
   "metadata": {},
   "source": [
    "- 기하평균을 구하는 함수. 입력 벡터가 숫자형인지 확인한 후 계산해야 한다."
   ]
  },
  {
   "cell_type": "code",
   "execution_count": 11,
   "id": "9654be82-34d5-4b75-be44-98f8f4616cd4",
   "metadata": {},
   "outputs": [],
   "source": [
    "geometric = function(x){\n",
    "    if( !is.numeric(x)) stop('Input must be numeric')\n",
    "    exp(mean(log(x)))\n",
    "}"
   ]
  },
  {
   "cell_type": "code",
   "execution_count": 12,
   "id": "5cffebba-09be-4339-97ac-176f81df9212",
   "metadata": {},
   "outputs": [
    {
     "ename": "ERROR",
     "evalue": "Error in geometric(c(\"a\", \"b\", \"c\")): Input must be numeric\n",
     "output_type": "error",
     "traceback": [
      "Error in geometric(c(\"a\", \"b\", \"c\")): Input must be numeric\nTraceback:\n",
      "1. geometric(c(\"a\", \"b\", \"c\"))",
      "2. stop(\"Input must be numeric\")   # at line 2 of file <text>"
     ]
    }
   ],
   "source": [
    "geometric(c(\"a\",\"b\",\"c\"))"
   ]
  },
  {
   "cell_type": "markdown",
   "id": "53fae616-1edb-4984-b431-7fb2518fb292",
   "metadata": {},
   "source": [
    "- 기하 평균을 구할 때 모든 원소가 0보다 커야한다."
   ]
  },
  {
   "cell_type": "code",
   "execution_count": 13,
   "id": "a3e0c25b-6073-4649-b41e-74076e81f286",
   "metadata": {},
   "outputs": [],
   "source": [
    "geometric = function(x){\n",
    "    if ( !is.numeric(x)) stop('Input must be numeric')\n",
    "    if ( min(x) <= 0) stop('Input must be greater than zero')\n",
    "    \n",
    "    exp(mean(log(x)))\n",
    "}"
   ]
  },
  {
   "cell_type": "code",
   "execution_count": 14,
   "id": "45783de1-70f9-4deb-8c4d-c90e1f6e1d1e",
   "metadata": {},
   "outputs": [
    {
     "ename": "ERROR",
     "evalue": "Error in geometric(c(2, 3, 0, 4)): Input must be greater than zero\n",
     "output_type": "error",
     "traceback": [
      "Error in geometric(c(2, 3, 0, 4)): Input must be greater than zero\nTraceback:\n",
      "1. geometric(c(2, 3, 0, 4))",
      "2. stop(\"Input must be greater than zero\")   # at line 3 of file <text>"
     ]
    }
   ],
   "source": [
    "geometric(c(2, 3, 0, 4))"
   ]
  },
  {
   "cell_type": "code",
   "execution_count": 15,
   "id": "dc2a9105-60e1-420e-be59-66e32eb182b4",
   "metadata": {},
   "outputs": [
    {
     "data": {
      "text/html": [
       "10"
      ],
      "text/latex": [
       "10"
      ],
      "text/markdown": [
       "10"
      ],
      "text/plain": [
       "[1] 10"
      ]
     },
     "metadata": {},
     "output_type": "display_data"
    }
   ],
   "source": [
    "geometric(c(10, 1000, 10, 1, 1))"
   ]
  },
  {
   "cell_type": "code",
   "execution_count": 16,
   "id": "b248d13b-91d1-4c67-945a-fcfa5e0cad82",
   "metadata": {},
   "outputs": [
    {
     "data": {
      "text/html": [
       "4"
      ],
      "text/latex": [
       "4"
      ],
      "text/markdown": [
       "4"
      ],
      "text/plain": [
       "[1] 4"
      ]
     },
     "metadata": {},
     "output_type": "display_data"
    }
   ],
   "source": [
    "geometric(c(2,8))"
   ]
  },
  {
   "cell_type": "code",
   "execution_count": 17,
   "id": "05600bdb-eb9d-4e94-8486-4747074d491f",
   "metadata": {},
   "outputs": [],
   "source": [
    "A = 1:10\n",
    "B = c(2, 4, 8)"
   ]
  },
  {
   "cell_type": "code",
   "execution_count": 18,
   "id": "92f13fb7-c3cf-40ab-b6e3-08360ea57284",
   "metadata": {},
   "outputs": [
    {
     "name": "stderr",
     "output_type": "stream",
     "text": [
      "Warning message in A * B:\n",
      "\"두 객체의 길이가 서로 배수관계에 있지 않습니다\"\n"
     ]
    },
    {
     "data": {
      "text/html": [
       "<style>\n",
       ".list-inline {list-style: none; margin:0; padding: 0}\n",
       ".list-inline>li {display: inline-block}\n",
       ".list-inline>li:not(:last-child)::after {content: \"\\00b7\"; padding: 0 .5ex}\n",
       "</style>\n",
       "<ol class=list-inline><li>2</li><li>8</li><li>24</li><li>8</li><li>20</li><li>48</li><li>14</li><li>32</li><li>72</li><li>20</li></ol>\n"
      ],
      "text/latex": [
       "\\begin{enumerate*}\n",
       "\\item 2\n",
       "\\item 8\n",
       "\\item 24\n",
       "\\item 8\n",
       "\\item 20\n",
       "\\item 48\n",
       "\\item 14\n",
       "\\item 32\n",
       "\\item 72\n",
       "\\item 20\n",
       "\\end{enumerate*}\n"
      ],
      "text/markdown": [
       "1. 2\n",
       "2. 8\n",
       "3. 24\n",
       "4. 8\n",
       "5. 20\n",
       "6. 48\n",
       "7. 14\n",
       "8. 32\n",
       "9. 72\n",
       "10. 20\n",
       "\n",
       "\n"
      ],
      "text/plain": [
       " [1]  2  8 24  8 20 48 14 32 72 20"
      ]
     },
     "metadata": {},
     "output_type": "display_data"
    }
   ],
   "source": [
    "A * B"
   ]
  },
  {
   "cell_type": "markdown",
   "id": "85b19600-93f6-4ed9-93b6-f6af91143bb4",
   "metadata": {},
   "source": [
    "## Ch.5 결측값, 무한대, NaN"
   ]
  },
  {
   "cell_type": "code",
   "execution_count": 19,
   "id": "e432ffb2-6fe8-4712-aaef-5b9fc2e00ec0",
   "metadata": {},
   "outputs": [
    {
     "data": {
      "text/html": [
       "Inf"
      ],
      "text/latex": [
       "Inf"
      ],
      "text/markdown": [
       "Inf"
      ],
      "text/plain": [
       "[1] Inf"
      ]
     },
     "metadata": {},
     "output_type": "display_data"
    }
   ],
   "source": [
    "3/0"
   ]
  },
  {
   "cell_type": "code",
   "execution_count": 20,
   "id": "3370acb7-b496-4775-9b3a-0023fde27b8a",
   "metadata": {},
   "outputs": [
    {
     "data": {
      "text/html": [
       "-Inf"
      ],
      "text/latex": [
       "-Inf"
      ],
      "text/markdown": [
       "-Inf"
      ],
      "text/plain": [
       "[1] -Inf"
      ]
     },
     "metadata": {},
     "output_type": "display_data"
    }
   ],
   "source": [
    "-12/0"
   ]
  },
  {
   "cell_type": "code",
   "execution_count": 21,
   "id": "915c8f31-1305-4665-acfa-f4a94fcbb83a",
   "metadata": {},
   "outputs": [
    {
     "data": {
      "text/html": [
       "0"
      ],
      "text/latex": [
       "0"
      ],
      "text/markdown": [
       "0"
      ],
      "text/plain": [
       "[1] 0"
      ]
     },
     "metadata": {},
     "output_type": "display_data"
    }
   ],
   "source": [
    "0/Inf"
   ]
  },
  {
   "cell_type": "code",
   "execution_count": 22,
   "id": "6cdec7dc-a3db-44e1-a7ea-da84e8a0d7a2",
   "metadata": {},
   "outputs": [
    {
     "data": {
      "text/html": [
       "<style>\n",
       ".list-inline {list-style: none; margin:0; padding: 0}\n",
       ".list-inline>li {display: inline-block}\n",
       ".list-inline>li:not(:last-child)::after {content: \"\\00b7\"; padding: 0 .5ex}\n",
       "</style>\n",
       "<ol class=list-inline><li>0</li><li>1</li><li>Inf</li><li>Inf</li></ol>\n"
      ],
      "text/latex": [
       "\\begin{enumerate*}\n",
       "\\item 0\n",
       "\\item 1\n",
       "\\item Inf\n",
       "\\item Inf\n",
       "\\end{enumerate*}\n"
      ],
      "text/markdown": [
       "1. 0\n",
       "2. 1\n",
       "3. Inf\n",
       "4. Inf\n",
       "\n",
       "\n"
      ],
      "text/plain": [
       "[1]   0   1 Inf Inf"
      ]
     },
     "metadata": {},
     "output_type": "display_data"
    }
   ],
   "source": [
    "(0:3)**Inf"
   ]
  },
  {
   "cell_type": "code",
   "execution_count": 23,
   "id": "c70fe874-4f8e-43c8-9490-dd9001453a6d",
   "metadata": {},
   "outputs": [
    {
     "data": {
      "text/html": [
       "NaN"
      ],
      "text/latex": [
       "NaN"
      ],
      "text/markdown": [
       "NaN"
      ],
      "text/plain": [
       "[1] NaN"
      ]
     },
     "metadata": {},
     "output_type": "display_data"
    }
   ],
   "source": [
    "0/0"
   ]
  },
  {
   "cell_type": "code",
   "execution_count": 24,
   "id": "5eeb267f-a2ed-47dd-8eeb-c2ca457e3e27",
   "metadata": {},
   "outputs": [
    {
     "data": {
      "text/html": [
       "NaN"
      ],
      "text/latex": [
       "NaN"
      ],
      "text/markdown": [
       "NaN"
      ],
      "text/plain": [
       "[1] NaN"
      ]
     },
     "metadata": {},
     "output_type": "display_data"
    }
   ],
   "source": [
    "Inf-Inf"
   ]
  },
  {
   "cell_type": "code",
   "execution_count": 25,
   "id": "158fd06f-b1d0-43dd-bbd6-0e542dec9e9f",
   "metadata": {},
   "outputs": [
    {
     "data": {
      "text/html": [
       "NaN"
      ],
      "text/latex": [
       "NaN"
      ],
      "text/markdown": [
       "NaN"
      ],
      "text/plain": [
       "[1] NaN"
      ]
     },
     "metadata": {},
     "output_type": "display_data"
    }
   ],
   "source": [
    "Inf/Inf"
   ]
  },
  {
   "cell_type": "code",
   "execution_count": 26,
   "id": "c4946278-3c09-46f5-b6de-4124147c6d86",
   "metadata": {},
   "outputs": [
    {
     "data": {
      "text/html": [
       "TRUE"
      ],
      "text/latex": [
       "TRUE"
      ],
      "text/markdown": [
       "TRUE"
      ],
      "text/plain": [
       "[1] TRUE"
      ]
     },
     "metadata": {},
     "output_type": "display_data"
    }
   ],
   "source": [
    "is.finite(10)"
   ]
  },
  {
   "cell_type": "code",
   "execution_count": 27,
   "id": "7e6e4c4f-9794-4083-ad66-bff9d42219b9",
   "metadata": {},
   "outputs": [
    {
     "data": {
      "text/html": [
       "FALSE"
      ],
      "text/latex": [
       "FALSE"
      ],
      "text/markdown": [
       "FALSE"
      ],
      "text/plain": [
       "[1] FALSE"
      ]
     },
     "metadata": {},
     "output_type": "display_data"
    }
   ],
   "source": [
    "is.infinite(10)"
   ]
  },
  {
   "cell_type": "code",
   "execution_count": 28,
   "id": "064fe9f3-e4a7-43e6-a327-cf0f5d460084",
   "metadata": {},
   "outputs": [
    {
     "data": {
      "text/html": [
       "TRUE"
      ],
      "text/latex": [
       "TRUE"
      ],
      "text/markdown": [
       "TRUE"
      ],
      "text/plain": [
       "[1] TRUE"
      ]
     },
     "metadata": {},
     "output_type": "display_data"
    }
   ],
   "source": [
    "is.infinite(Inf)"
   ]
  },
  {
   "cell_type": "code",
   "execution_count": 29,
   "id": "aec6f048-3684-4a7a-9644-509cd98a2c14",
   "metadata": {},
   "outputs": [
    {
     "data": {
      "text/html": [
       "TRUE"
      ],
      "text/latex": [
       "TRUE"
      ],
      "text/markdown": [
       "TRUE"
      ],
      "text/plain": [
       "[1] TRUE"
      ]
     },
     "metadata": {},
     "output_type": "display_data"
    }
   ],
   "source": [
    "is.infinite(1/0)"
   ]
  },
  {
   "cell_type": "markdown",
   "id": "375d41c1-c696-4b09-b1ae-8fffc6dbc351",
   "metadata": {},
   "source": [
    "- 결측값(NA) 찾기"
   ]
  },
  {
   "cell_type": "code",
   "execution_count": 30,
   "id": "eac08a14-bdc0-4b71-b5d4-6607fa6ab8be",
   "metadata": {},
   "outputs": [],
   "source": [
    "y = c(4, NA, 7)"
   ]
  },
  {
   "cell_type": "code",
   "execution_count": 31,
   "id": "bd361762-47d2-4a4b-8f7d-29979ef80fb7",
   "metadata": {},
   "outputs": [
    {
     "data": {
      "text/html": [
       "<style>\n",
       ".list-inline {list-style: none; margin:0; padding: 0}\n",
       ".list-inline>li {display: inline-block}\n",
       ".list-inline>li:not(:last-child)::after {content: \"\\00b7\"; padding: 0 .5ex}\n",
       "</style>\n",
       "<ol class=list-inline><li>&lt;NA&gt;</li><li>&lt;NA&gt;</li><li>&lt;NA&gt;</li></ol>\n"
      ],
      "text/latex": [
       "\\begin{enumerate*}\n",
       "\\item <NA>\n",
       "\\item <NA>\n",
       "\\item <NA>\n",
       "\\end{enumerate*}\n"
      ],
      "text/markdown": [
       "1. &lt;NA&gt;\n",
       "2. &lt;NA&gt;\n",
       "3. &lt;NA&gt;\n",
       "\n",
       "\n"
      ],
      "text/plain": [
       "[1] NA NA NA"
      ]
     },
     "metadata": {},
     "output_type": "display_data"
    }
   ],
   "source": [
    "y == NA"
   ]
  },
  {
   "cell_type": "code",
   "execution_count": 32,
   "id": "e0831749-f0e7-4efb-bf9b-89b1a9ea1abf",
   "metadata": {},
   "outputs": [
    {
     "data": {
      "text/html": [
       "<style>\n",
       ".list-inline {list-style: none; margin:0; padding: 0}\n",
       ".list-inline>li {display: inline-block}\n",
       ".list-inline>li:not(:last-child)::after {content: \"\\00b7\"; padding: 0 .5ex}\n",
       "</style>\n",
       "<ol class=list-inline><li>FALSE</li><li>&lt;NA&gt;</li><li>FALSE</li></ol>\n"
      ],
      "text/latex": [
       "\\begin{enumerate*}\n",
       "\\item FALSE\n",
       "\\item <NA>\n",
       "\\item FALSE\n",
       "\\end{enumerate*}\n"
      ],
      "text/markdown": [
       "1. FALSE\n",
       "2. &lt;NA&gt;\n",
       "3. FALSE\n",
       "\n",
       "\n"
      ],
      "text/plain": [
       "[1] FALSE    NA FALSE"
      ]
     },
     "metadata": {},
     "output_type": "display_data"
    }
   ],
   "source": [
    "y == 'NA'"
   ]
  },
  {
   "cell_type": "code",
   "execution_count": 33,
   "id": "0b2deeb7-b323-4245-88d7-b5f498570d4b",
   "metadata": {},
   "outputs": [
    {
     "data": {
      "text/html": [
       "<style>\n",
       ".list-inline {list-style: none; margin:0; padding: 0}\n",
       ".list-inline>li {display: inline-block}\n",
       ".list-inline>li:not(:last-child)::after {content: \"\\00b7\"; padding: 0 .5ex}\n",
       "</style>\n",
       "<ol class=list-inline><li>FALSE</li><li>&lt;NA&gt;</li><li>FALSE</li></ol>\n"
      ],
      "text/latex": [
       "\\begin{enumerate*}\n",
       "\\item FALSE\n",
       "\\item <NA>\n",
       "\\item FALSE\n",
       "\\end{enumerate*}\n"
      ],
      "text/markdown": [
       "1. FALSE\n",
       "2. &lt;NA&gt;\n",
       "3. FALSE\n",
       "\n",
       "\n"
      ],
      "text/plain": [
       "[1] FALSE    NA FALSE"
      ]
     },
     "metadata": {},
     "output_type": "display_data"
    }
   ],
   "source": [
    "y== 'HAHHA'"
   ]
  },
  {
   "cell_type": "code",
   "execution_count": 34,
   "id": "e8b74d47-6bed-4e5b-83c6-841508e07fd2",
   "metadata": {},
   "outputs": [
    {
     "data": {
      "text/html": [
       "<style>\n",
       ".list-inline {list-style: none; margin:0; padding: 0}\n",
       ".list-inline>li {display: inline-block}\n",
       ".list-inline>li:not(:last-child)::after {content: \"\\00b7\"; padding: 0 .5ex}\n",
       "</style>\n",
       "<ol class=list-inline><li>FALSE</li><li>TRUE</li><li>FALSE</li></ol>\n"
      ],
      "text/latex": [
       "\\begin{enumerate*}\n",
       "\\item FALSE\n",
       "\\item TRUE\n",
       "\\item FALSE\n",
       "\\end{enumerate*}\n"
      ],
      "text/markdown": [
       "1. FALSE\n",
       "2. TRUE\n",
       "3. FALSE\n",
       "\n",
       "\n"
      ],
      "text/plain": [
       "[1] FALSE  TRUE FALSE"
      ]
     },
     "metadata": {},
     "output_type": "display_data"
    }
   ],
   "source": [
    "is.na(y)"
   ]
  },
  {
   "cell_type": "code",
   "execution_count": 35,
   "id": "75f2789f-ba38-4ab2-8870-cb53e86db873",
   "metadata": {},
   "outputs": [
    {
     "data": {
      "text/html": [
       "<style>\n",
       ".list-inline {list-style: none; margin:0; padding: 0}\n",
       ".list-inline>li {display: inline-block}\n",
       ".list-inline>li:not(:last-child)::after {content: \"\\00b7\"; padding: 0 .5ex}\n",
       "</style>\n",
       "<ol class=list-inline><li>4</li><li>7</li></ol>\n"
      ],
      "text/latex": [
       "\\begin{enumerate*}\n",
       "\\item 4\n",
       "\\item 7\n",
       "\\end{enumerate*}\n"
      ],
      "text/markdown": [
       "1. 4\n",
       "2. 7\n",
       "\n",
       "\n"
      ],
      "text/plain": [
       "[1] 4 7"
      ]
     },
     "metadata": {},
     "output_type": "display_data"
    }
   ],
   "source": [
    "y[ !is.na(y)]"
   ]
  },
  {
   "cell_type": "code",
   "execution_count": 36,
   "id": "7ca2ccd8-fe61-4144-b1a6-8e3812ae9e0c",
   "metadata": {},
   "outputs": [],
   "source": [
    "y1 <- c(1, 2, 3, NA)\n",
    "y2 <- c(5, 6, NA, 8)\n",
    "y3 <- c(9, NA, 11, 12)\n",
    "y4 <- c(NA, 14, 15, 16)"
   ]
  },
  {
   "cell_type": "code",
   "execution_count": 37,
   "id": "857f0642-ed74-4388-b379-ab45fba55654",
   "metadata": {},
   "outputs": [],
   "source": [
    "full_frame = data.frame(y1, y2, y3, y4)"
   ]
  },
  {
   "cell_type": "code",
   "execution_count": 38,
   "id": "5c546bdb-9602-44d6-a338-6044ff6c7ba1",
   "metadata": {},
   "outputs": [
    {
     "data": {
      "text/html": [
       "<table class=\"dataframe\">\n",
       "<caption>A data.frame: 4 × 4</caption>\n",
       "<thead>\n",
       "\t<tr><th scope=col>y1</th><th scope=col>y2</th><th scope=col>y3</th><th scope=col>y4</th></tr>\n",
       "\t<tr><th scope=col>&lt;dbl&gt;</th><th scope=col>&lt;dbl&gt;</th><th scope=col>&lt;dbl&gt;</th><th scope=col>&lt;dbl&gt;</th></tr>\n",
       "</thead>\n",
       "<tbody>\n",
       "\t<tr><td> 1</td><td> 5</td><td> 9</td><td>NA</td></tr>\n",
       "\t<tr><td> 2</td><td> 6</td><td>NA</td><td>14</td></tr>\n",
       "\t<tr><td> 3</td><td>NA</td><td>11</td><td>15</td></tr>\n",
       "\t<tr><td>NA</td><td> 8</td><td>12</td><td>16</td></tr>\n",
       "</tbody>\n",
       "</table>\n"
      ],
      "text/latex": [
       "A data.frame: 4 × 4\n",
       "\\begin{tabular}{llll}\n",
       " y1 & y2 & y3 & y4\\\\\n",
       " <dbl> & <dbl> & <dbl> & <dbl>\\\\\n",
       "\\hline\n",
       "\t  1 &  5 &  9 & NA\\\\\n",
       "\t  2 &  6 & NA & 14\\\\\n",
       "\t  3 & NA & 11 & 15\\\\\n",
       "\t NA &  8 & 12 & 16\\\\\n",
       "\\end{tabular}\n"
      ],
      "text/markdown": [
       "\n",
       "A data.frame: 4 × 4\n",
       "\n",
       "| y1 &lt;dbl&gt; | y2 &lt;dbl&gt; | y3 &lt;dbl&gt; | y4 &lt;dbl&gt; |\n",
       "|---|---|---|---|\n",
       "|  1 |  5 |  9 | NA |\n",
       "|  2 |  6 | NA | 14 |\n",
       "|  3 | NA | 11 | 15 |\n",
       "| NA |  8 | 12 | 16 |\n",
       "\n"
      ],
      "text/plain": [
       "  y1 y2 y3 y4\n",
       "1  1  5  9 NA\n",
       "2  2  6 NA 14\n",
       "3  3 NA 11 15\n",
       "4 NA  8 12 16"
      ]
     },
     "metadata": {},
     "output_type": "display_data"
    }
   ],
   "source": [
    "full_frame"
   ]
  },
  {
   "cell_type": "code",
   "execution_count": 39,
   "id": "275f79a3-dd9b-4012-95e3-84a6afb57663",
   "metadata": {},
   "outputs": [],
   "source": [
    "reduced_frame = full_frame[!is.na(full_frame$y1),]"
   ]
  },
  {
   "cell_type": "code",
   "execution_count": 40,
   "id": "75de519a-7a23-448f-b94a-6890d6b5570b",
   "metadata": {},
   "outputs": [
    {
     "data": {
      "text/html": [
       "<table class=\"dataframe\">\n",
       "<caption>A data.frame: 3 × 4</caption>\n",
       "<thead>\n",
       "\t<tr><th></th><th scope=col>y1</th><th scope=col>y2</th><th scope=col>y3</th><th scope=col>y4</th></tr>\n",
       "\t<tr><th></th><th scope=col>&lt;dbl&gt;</th><th scope=col>&lt;dbl&gt;</th><th scope=col>&lt;dbl&gt;</th><th scope=col>&lt;dbl&gt;</th></tr>\n",
       "</thead>\n",
       "<tbody>\n",
       "\t<tr><th scope=row>1</th><td>1</td><td> 5</td><td> 9</td><td>NA</td></tr>\n",
       "\t<tr><th scope=row>2</th><td>2</td><td> 6</td><td>NA</td><td>14</td></tr>\n",
       "\t<tr><th scope=row>3</th><td>3</td><td>NA</td><td>11</td><td>15</td></tr>\n",
       "</tbody>\n",
       "</table>\n"
      ],
      "text/latex": [
       "A data.frame: 3 × 4\n",
       "\\begin{tabular}{r|llll}\n",
       "  & y1 & y2 & y3 & y4\\\\\n",
       "  & <dbl> & <dbl> & <dbl> & <dbl>\\\\\n",
       "\\hline\n",
       "\t1 & 1 &  5 &  9 & NA\\\\\n",
       "\t2 & 2 &  6 & NA & 14\\\\\n",
       "\t3 & 3 & NA & 11 & 15\\\\\n",
       "\\end{tabular}\n"
      ],
      "text/markdown": [
       "\n",
       "A data.frame: 3 × 4\n",
       "\n",
       "| <!--/--> | y1 &lt;dbl&gt; | y2 &lt;dbl&gt; | y3 &lt;dbl&gt; | y4 &lt;dbl&gt; |\n",
       "|---|---|---|---|---|\n",
       "| 1 | 1 |  5 |  9 | NA |\n",
       "| 2 | 2 |  6 | NA | 14 |\n",
       "| 3 | 3 | NA | 11 | 15 |\n",
       "\n"
      ],
      "text/plain": [
       "  y1 y2 y3 y4\n",
       "1 1   5  9 NA\n",
       "2 2   6 NA 14\n",
       "3 3  NA 11 15"
      ]
     },
     "metadata": {},
     "output_type": "display_data"
    }
   ],
   "source": [
    "reduced_frame"
   ]
  },
  {
   "cell_type": "code",
   "execution_count": 41,
   "id": "33197540-afdb-4b66-a50c-e3392435e392",
   "metadata": {},
   "outputs": [],
   "source": [
    "x = c(1:8, NA)"
   ]
  },
  {
   "cell_type": "code",
   "execution_count": 42,
   "id": "49b4ef86-c0b7-4586-9f60-2c2a43b469fa",
   "metadata": {},
   "outputs": [
    {
     "data": {
      "text/html": [
       "<style>\n",
       ".list-inline {list-style: none; margin:0; padding: 0}\n",
       ".list-inline>li {display: inline-block}\n",
       ".list-inline>li:not(:last-child)::after {content: \"\\00b7\"; padding: 0 .5ex}\n",
       "</style>\n",
       "<ol class=list-inline><li>1</li><li>2</li><li>3</li><li>4</li><li>5</li><li>6</li><li>7</li><li>8</li><li>&lt;NA&gt;</li></ol>\n"
      ],
      "text/latex": [
       "\\begin{enumerate*}\n",
       "\\item 1\n",
       "\\item 2\n",
       "\\item 3\n",
       "\\item 4\n",
       "\\item 5\n",
       "\\item 6\n",
       "\\item 7\n",
       "\\item 8\n",
       "\\item <NA>\n",
       "\\end{enumerate*}\n"
      ],
      "text/markdown": [
       "1. 1\n",
       "2. 2\n",
       "3. 3\n",
       "4. 4\n",
       "5. 5\n",
       "6. 6\n",
       "7. 7\n",
       "8. 8\n",
       "9. &lt;NA&gt;\n",
       "\n",
       "\n"
      ],
      "text/plain": [
       "[1]  1  2  3  4  5  6  7  8 NA"
      ]
     },
     "metadata": {},
     "output_type": "display_data"
    }
   ],
   "source": [
    "x"
   ]
  },
  {
   "cell_type": "code",
   "execution_count": 43,
   "id": "3f4dbeb0-56b3-432d-8820-ff3ab6948b5d",
   "metadata": {},
   "outputs": [
    {
     "data": {
      "text/html": [
       "&lt;NA&gt;"
      ],
      "text/latex": [
       "<NA>"
      ],
      "text/markdown": [
       "&lt;NA&gt;"
      ],
      "text/plain": [
       "[1] NA"
      ]
     },
     "metadata": {},
     "output_type": "display_data"
    }
   ],
   "source": [
    "mean(x)"
   ]
  },
  {
   "cell_type": "markdown",
   "id": "d8c6048c-2a68-4c56-be73-718797e7bf25",
   "metadata": {},
   "source": [
    "- `na.rm=TRUE` : remove NA "
   ]
  },
  {
   "cell_type": "code",
   "execution_count": 44,
   "id": "2ace97cb-1871-4b76-aa04-f0cc6cbd6172",
   "metadata": {},
   "outputs": [
    {
     "data": {
      "text/html": [
       "4.5"
      ],
      "text/latex": [
       "4.5"
      ],
      "text/markdown": [
       "4.5"
      ],
      "text/plain": [
       "[1] 4.5"
      ]
     },
     "metadata": {},
     "output_type": "display_data"
    }
   ],
   "source": [
    "mean(x, na.rm=TRUE) "
   ]
  },
  {
   "cell_type": "code",
   "execution_count": 45,
   "id": "e6ffe573-6f41-4856-b586-e7a93d63e889",
   "metadata": {},
   "outputs": [],
   "source": [
    "vmv = c(1:6, NA, NA, 9:12)"
   ]
  },
  {
   "cell_type": "code",
   "execution_count": 46,
   "id": "33fb7e4c-8120-4c8f-8a35-79317e96c399",
   "metadata": {},
   "outputs": [
    {
     "data": {
      "text/html": [
       "<style>\n",
       ".list-inline {list-style: none; margin:0; padding: 0}\n",
       ".list-inline>li {display: inline-block}\n",
       ".list-inline>li:not(:last-child)::after {content: \"\\00b7\"; padding: 0 .5ex}\n",
       "</style>\n",
       "<ol class=list-inline><li>1</li><li>2</li><li>3</li><li>4</li><li>5</li><li>6</li><li>&lt;NA&gt;</li><li>&lt;NA&gt;</li><li>9</li><li>10</li><li>11</li><li>12</li></ol>\n"
      ],
      "text/latex": [
       "\\begin{enumerate*}\n",
       "\\item 1\n",
       "\\item 2\n",
       "\\item 3\n",
       "\\item 4\n",
       "\\item 5\n",
       "\\item 6\n",
       "\\item <NA>\n",
       "\\item <NA>\n",
       "\\item 9\n",
       "\\item 10\n",
       "\\item 11\n",
       "\\item 12\n",
       "\\end{enumerate*}\n"
      ],
      "text/markdown": [
       "1. 1\n",
       "2. 2\n",
       "3. 3\n",
       "4. 4\n",
       "5. 5\n",
       "6. 6\n",
       "7. &lt;NA&gt;\n",
       "8. &lt;NA&gt;\n",
       "9. 9\n",
       "10. 10\n",
       "11. 11\n",
       "12. 12\n",
       "\n",
       "\n"
      ],
      "text/plain": [
       " [1]  1  2  3  4  5  6 NA NA  9 10 11 12"
      ]
     },
     "metadata": {},
     "output_type": "display_data"
    }
   ],
   "source": [
    "vmv"
   ]
  },
  {
   "cell_type": "code",
   "execution_count": 47,
   "id": "40829c46-3b20-4d69-b931-ecf5c7b5a698",
   "metadata": {},
   "outputs": [
    {
     "data": {
      "text/html": [
       "11"
      ],
      "text/latex": [
       "11"
      ],
      "text/markdown": [
       "11"
      ],
      "text/plain": [
       "[1] 11"
      ]
     },
     "metadata": {},
     "output_type": "display_data"
    }
   ],
   "source": [
    "which(vmv == 11)"
   ]
  },
  {
   "cell_type": "code",
   "execution_count": 48,
   "id": "89d8c9b8-fc67-43fb-acbb-96a4ffdb18f4",
   "metadata": {},
   "outputs": [
    {
     "data": {
      "text/html": [
       "<style>\n",
       ".list-inline {list-style: none; margin:0; padding: 0}\n",
       ".list-inline>li {display: inline-block}\n",
       ".list-inline>li:not(:last-child)::after {content: \"\\00b7\"; padding: 0 .5ex}\n",
       "</style>\n",
       "<ol class=list-inline><li>7</li><li>8</li></ol>\n"
      ],
      "text/latex": [
       "\\begin{enumerate*}\n",
       "\\item 7\n",
       "\\item 8\n",
       "\\end{enumerate*}\n"
      ],
      "text/markdown": [
       "1. 7\n",
       "2. 8\n",
       "\n",
       "\n"
      ],
      "text/plain": [
       "[1] 7 8"
      ]
     },
     "metadata": {},
     "output_type": "display_data"
    }
   ],
   "source": [
    "which(is.na(vmv))"
   ]
  },
  {
   "cell_type": "code",
   "execution_count": 49,
   "id": "9f8684ac-ad23-4c31-9c4c-8056e0b7c857",
   "metadata": {},
   "outputs": [
    {
     "data": {
      "text/html": [
       "<style>\n",
       ".list-inline {list-style: none; margin:0; padding: 0}\n",
       ".list-inline>li {display: inline-block}\n",
       ".list-inline>li:not(:last-child)::after {content: \"\\00b7\"; padding: 0 .5ex}\n",
       "</style>\n",
       "<ol class=list-inline><li>1</li><li>2</li><li>3</li><li>4</li><li>5</li><li>6</li><li>0</li><li>0</li><li>9</li><li>10</li><li>11</li><li>12</li></ol>\n"
      ],
      "text/latex": [
       "\\begin{enumerate*}\n",
       "\\item 1\n",
       "\\item 2\n",
       "\\item 3\n",
       "\\item 4\n",
       "\\item 5\n",
       "\\item 6\n",
       "\\item 0\n",
       "\\item 0\n",
       "\\item 9\n",
       "\\item 10\n",
       "\\item 11\n",
       "\\item 12\n",
       "\\end{enumerate*}\n"
      ],
      "text/markdown": [
       "1. 1\n",
       "2. 2\n",
       "3. 3\n",
       "4. 4\n",
       "5. 5\n",
       "6. 6\n",
       "7. 0\n",
       "8. 0\n",
       "9. 9\n",
       "10. 10\n",
       "11. 11\n",
       "12. 12\n",
       "\n",
       "\n"
      ],
      "text/plain": [
       " [1]  1  2  3  4  5  6  0  0  9 10 11 12"
      ]
     },
     "metadata": {},
     "output_type": "display_data"
    }
   ],
   "source": [
    "ifelse(is.na(vmv), 0, vmv) # 결측값을 0으로 치환"
   ]
  },
  {
   "cell_type": "markdown",
   "id": "91dbd7df-3cbe-4354-b5bf-b66ab09fac07",
   "metadata": {},
   "source": [
    "## Ch.6 벡터와 첨자"
   ]
  },
  {
   "cell_type": "code",
   "execution_count": 50,
   "id": "b9e7acd4-ad47-426a-9c85-3adc814a5690",
   "metadata": {},
   "outputs": [],
   "source": [
    "peas = c(4, 7, 6, 5, 6, 7)"
   ]
  },
  {
   "cell_type": "code",
   "execution_count": 51,
   "id": "b5587a4c-c550-4331-a900-9cd722416286",
   "metadata": {},
   "outputs": [
    {
     "data": {
      "text/html": [
       "'numeric'"
      ],
      "text/latex": [
       "'numeric'"
      ],
      "text/markdown": [
       "'numeric'"
      ],
      "text/plain": [
       "[1] \"numeric\""
      ]
     },
     "metadata": {},
     "output_type": "display_data"
    }
   ],
   "source": [
    "class(peas)"
   ]
  },
  {
   "cell_type": "code",
   "execution_count": 52,
   "id": "1e012848-4466-44d6-938f-833f46a482d3",
   "metadata": {},
   "outputs": [
    {
     "data": {
      "text/html": [
       "5.83333333333333"
      ],
      "text/latex": [
       "5.83333333333333"
      ],
      "text/markdown": [
       "5.83333333333333"
      ],
      "text/plain": [
       "[1] 5.833333"
      ]
     },
     "metadata": {},
     "output_type": "display_data"
    }
   ],
   "source": [
    "mean(peas)"
   ]
  },
  {
   "cell_type": "code",
   "execution_count": 53,
   "id": "990adb93-00c9-4437-baec-9311ea5c001b",
   "metadata": {},
   "outputs": [
    {
     "data": {
      "text/html": [
       "<style>\n",
       ".dl-inline {width: auto; margin:0; padding: 0}\n",
       ".dl-inline>dt, .dl-inline>dd {float: none; width: auto; display: inline-block}\n",
       ".dl-inline>dt::after {content: \":\\0020\"; padding-right: .5ex}\n",
       ".dl-inline>dt:not(:first-of-type) {padding-left: .5ex}\n",
       "</style><dl class=dl-inline><dt>0%</dt><dd>4</dd><dt>25%</dt><dd>5.25</dd><dt>50%</dt><dd>6</dd><dt>75%</dt><dd>6.75</dd><dt>100%</dt><dd>7</dd></dl>\n"
      ],
      "text/latex": [
       "\\begin{description*}\n",
       "\\item[0\\textbackslash{}\\%] 4\n",
       "\\item[25\\textbackslash{}\\%] 5.25\n",
       "\\item[50\\textbackslash{}\\%] 6\n",
       "\\item[75\\textbackslash{}\\%] 6.75\n",
       "\\item[100\\textbackslash{}\\%] 7\n",
       "\\end{description*}\n"
      ],
      "text/markdown": [
       "0%\n",
       ":   425%\n",
       ":   5.2550%\n",
       ":   675%\n",
       ":   6.75100%\n",
       ":   7\n",
       "\n"
      ],
      "text/plain": [
       "  0%  25%  50%  75% 100% \n",
       "4.00 5.25 6.00 6.75 7.00 "
      ]
     },
     "metadata": {},
     "output_type": "display_data"
    }
   ],
   "source": [
    "quantile(peas)"
   ]
  },
  {
   "cell_type": "code",
   "execution_count": 54,
   "id": "b42ed212-455d-46ab-bf3c-591d1d2292ea",
   "metadata": {},
   "outputs": [
    {
     "data": {
      "text/html": [
       "5"
      ],
      "text/latex": [
       "5"
      ],
      "text/markdown": [
       "5"
      ],
      "text/plain": [
       "[1] 5"
      ]
     },
     "metadata": {},
     "output_type": "display_data"
    }
   ],
   "source": [
    "peas[4]"
   ]
  },
  {
   "cell_type": "code",
   "execution_count": 55,
   "id": "63d54751-fcca-490d-9970-5e7bf17d3dfa",
   "metadata": {},
   "outputs": [
    {
     "data": {
      "text/html": [
       "<style>\n",
       ".list-inline {list-style: none; margin:0; padding: 0}\n",
       ".list-inline>li {display: inline-block}\n",
       ".list-inline>li:not(:last-child)::after {content: \"\\00b7\"; padding: 0 .5ex}\n",
       "</style>\n",
       "<ol class=list-inline><li>7</li><li>6</li><li>5</li><li>6</li><li>7</li></ol>\n"
      ],
      "text/latex": [
       "\\begin{enumerate*}\n",
       "\\item 7\n",
       "\\item 6\n",
       "\\item 5\n",
       "\\item 6\n",
       "\\item 7\n",
       "\\end{enumerate*}\n"
      ],
      "text/markdown": [
       "1. 7\n",
       "2. 6\n",
       "3. 5\n",
       "4. 6\n",
       "5. 7\n",
       "\n",
       "\n"
      ],
      "text/plain": [
       "[1] 7 6 5 6 7"
      ]
     },
     "metadata": {},
     "output_type": "display_data"
    }
   ],
   "source": [
    "peas[-1]"
   ]
  },
  {
   "cell_type": "code",
   "execution_count": 56,
   "id": "0d4dc2ca-8e39-44ab-a9f4-199c929521ed",
   "metadata": {},
   "outputs": [
    {
     "data": {
      "text/html": [
       "<style>\n",
       ".list-inline {list-style: none; margin:0; padding: 0}\n",
       ".list-inline>li {display: inline-block}\n",
       ".list-inline>li:not(:last-child)::after {content: \"\\00b7\"; padding: 0 .5ex}\n",
       "</style>\n",
       "<ol class=list-inline><li>4</li><li>7</li><li>6</li><li>5</li><li>6</li></ol>\n"
      ],
      "text/latex": [
       "\\begin{enumerate*}\n",
       "\\item 4\n",
       "\\item 7\n",
       "\\item 6\n",
       "\\item 5\n",
       "\\item 6\n",
       "\\end{enumerate*}\n"
      ],
      "text/markdown": [
       "1. 4\n",
       "2. 7\n",
       "3. 6\n",
       "4. 5\n",
       "5. 6\n",
       "\n",
       "\n"
      ],
      "text/plain": [
       "[1] 4 7 6 5 6"
      ]
     },
     "metadata": {},
     "output_type": "display_data"
    }
   ],
   "source": [
    "peas[-length(peas)]"
   ]
  },
  {
   "cell_type": "code",
   "execution_count": 57,
   "id": "549c8804-b864-4e9c-9847-01208b6df647",
   "metadata": {},
   "outputs": [],
   "source": [
    "trim = function(x){\n",
    "    sort(x)[-c(1, 2, length(x)-1, length(x))]\n",
    "}"
   ]
  },
  {
   "cell_type": "code",
   "execution_count": 58,
   "id": "d4a0a2c9-762c-4b0b-9e67-48566970e18c",
   "metadata": {},
   "outputs": [
    {
     "data": {
      "text/html": [
       "<style>\n",
       ".list-inline {list-style: none; margin:0; padding: 0}\n",
       ".list-inline>li {display: inline-block}\n",
       ".list-inline>li:not(:last-child)::after {content: \"\\00b7\"; padding: 0 .5ex}\n",
       "</style>\n",
       "<ol class=list-inline><li>6</li><li>6</li></ol>\n"
      ],
      "text/latex": [
       "\\begin{enumerate*}\n",
       "\\item 6\n",
       "\\item 6\n",
       "\\end{enumerate*}\n"
      ],
      "text/markdown": [
       "1. 6\n",
       "2. 6\n",
       "\n",
       "\n"
      ],
      "text/plain": [
       "[1] 6 6"
      ]
     },
     "metadata": {},
     "output_type": "display_data"
    }
   ],
   "source": [
    "trim(peas)"
   ]
  },
  {
   "cell_type": "code",
   "execution_count": 59,
   "id": "30a1381f-b962-4e1a-9f95-7000c1b424e1",
   "metadata": {},
   "outputs": [
    {
     "data": {
      "text/html": [
       "<style>\n",
       ".list-inline {list-style: none; margin:0; padding: 0}\n",
       ".list-inline>li {display: inline-block}\n",
       ".list-inline>li:not(:last-child)::after {content: \"\\00b7\"; padding: 0 .5ex}\n",
       "</style>\n",
       "<ol class=list-inline><li>4</li><li>7</li><li>6</li></ol>\n"
      ],
      "text/latex": [
       "\\begin{enumerate*}\n",
       "\\item 4\n",
       "\\item 7\n",
       "\\item 6\n",
       "\\end{enumerate*}\n"
      ],
      "text/markdown": [
       "1. 4\n",
       "2. 7\n",
       "3. 6\n",
       "\n",
       "\n"
      ],
      "text/plain": [
       "[1] 4 7 6"
      ]
     },
     "metadata": {},
     "output_type": "display_data"
    }
   ],
   "source": [
    "peas[1:3]"
   ]
  },
  {
   "cell_type": "markdown",
   "id": "b40c7621-93c6-4603-800d-12f63f54f178",
   "metadata": {},
   "source": [
    "- 짝수 번째 원소 선택"
   ]
  },
  {
   "cell_type": "code",
   "execution_count": 60,
   "id": "13a9335d-2135-4adc-a1a3-251a18d1eee8",
   "metadata": {},
   "outputs": [
    {
     "data": {
      "text/html": [
       "<style>\n",
       ".list-inline {list-style: none; margin:0; padding: 0}\n",
       ".list-inline>li {display: inline-block}\n",
       ".list-inline>li:not(:last-child)::after {content: \"\\00b7\"; padding: 0 .5ex}\n",
       "</style>\n",
       "<ol class=list-inline><li>7</li><li>5</li><li>7</li></ol>\n"
      ],
      "text/latex": [
       "\\begin{enumerate*}\n",
       "\\item 7\n",
       "\\item 5\n",
       "\\item 7\n",
       "\\end{enumerate*}\n"
      ],
      "text/markdown": [
       "1. 7\n",
       "2. 5\n",
       "3. 7\n",
       "\n",
       "\n"
      ],
      "text/plain": [
       "[1] 7 5 7"
      ]
     },
     "metadata": {},
     "output_type": "display_data"
    }
   ],
   "source": [
    "peas[seq(2, length(peas), 2)]"
   ]
  },
  {
   "cell_type": "code",
   "execution_count": 61,
   "id": "8cb64251-b87a-4a34-9388-4a0b75095140",
   "metadata": {},
   "outputs": [
    {
     "data": {
      "text/html": [
       "<style>\n",
       ".list-inline {list-style: none; margin:0; padding: 0}\n",
       ".list-inline>li {display: inline-block}\n",
       ".list-inline>li:not(:last-child)::after {content: \"\\00b7\"; padding: 0 .5ex}\n",
       "</style>\n",
       "<ol class=list-inline><li>7</li><li>5</li><li>7</li></ol>\n"
      ],
      "text/latex": [
       "\\begin{enumerate*}\n",
       "\\item 7\n",
       "\\item 5\n",
       "\\item 7\n",
       "\\end{enumerate*}\n"
      ],
      "text/markdown": [
       "1. 7\n",
       "2. 5\n",
       "3. 7\n",
       "\n",
       "\n"
      ],
      "text/plain": [
       "[1] 7 5 7"
      ]
     },
     "metadata": {},
     "output_type": "display_data"
    }
   ],
   "source": [
    "peas[1:length(peas) %% 2 == 0]"
   ]
  },
  {
   "cell_type": "code",
   "execution_count": 62,
   "id": "d34bf3b3-7148-4c1d-b168-a7c387a41dc8",
   "metadata": {},
   "outputs": [],
   "source": [
    "counts = c(25, 12, 7, 4, 6, 2, 1, 0, 2)"
   ]
  },
  {
   "cell_type": "code",
   "execution_count": 63,
   "id": "e23ff319-b7cf-44fb-90c8-b9d2860a4e16",
   "metadata": {},
   "outputs": [
    {
     "data": {
      "text/html": [
       "<style>\n",
       ".list-inline {list-style: none; margin:0; padding: 0}\n",
       ".list-inline>li {display: inline-block}\n",
       ".list-inline>li:not(:last-child)::after {content: \"\\00b7\"; padding: 0 .5ex}\n",
       "</style>\n",
       "<ol class=list-inline><li>25</li><li>12</li><li>7</li><li>4</li><li>6</li><li>2</li><li>1</li><li>0</li><li>2</li></ol>\n"
      ],
      "text/latex": [
       "\\begin{enumerate*}\n",
       "\\item 25\n",
       "\\item 12\n",
       "\\item 7\n",
       "\\item 4\n",
       "\\item 6\n",
       "\\item 2\n",
       "\\item 1\n",
       "\\item 0\n",
       "\\item 2\n",
       "\\end{enumerate*}\n"
      ],
      "text/markdown": [
       "1. 25\n",
       "2. 12\n",
       "3. 7\n",
       "4. 4\n",
       "5. 6\n",
       "6. 2\n",
       "7. 1\n",
       "8. 0\n",
       "9. 2\n",
       "\n",
       "\n"
      ],
      "text/plain": [
       "[1] 25 12  7  4  6  2  1  0  2"
      ]
     },
     "metadata": {},
     "output_type": "display_data"
    }
   ],
   "source": [
    "counts"
   ]
  },
  {
   "cell_type": "code",
   "execution_count": 64,
   "id": "fcb0a234-be08-44b0-bd6e-46aaed42eb8c",
   "metadata": {},
   "outputs": [
    {
     "data": {
      "text/plain": [
       "NULL"
      ]
     },
     "metadata": {},
     "output_type": "display_data"
    }
   ],
   "source": [
    "names(counts)"
   ]
  },
  {
   "cell_type": "code",
   "execution_count": 65,
   "id": "86b7bf25-aba7-4521-8bc7-c19fec7bf712",
   "metadata": {},
   "outputs": [],
   "source": [
    "names(counts) = 0:(length(counts)-1)"
   ]
  },
  {
   "cell_type": "code",
   "execution_count": 66,
   "id": "723124f5-e29e-4916-94d7-0fe9e3058380",
   "metadata": {},
   "outputs": [
    {
     "data": {
      "text/html": [
       "<style>\n",
       ".dl-inline {width: auto; margin:0; padding: 0}\n",
       ".dl-inline>dt, .dl-inline>dd {float: none; width: auto; display: inline-block}\n",
       ".dl-inline>dt::after {content: \":\\0020\"; padding-right: .5ex}\n",
       ".dl-inline>dt:not(:first-of-type) {padding-left: .5ex}\n",
       "</style><dl class=dl-inline><dt>0</dt><dd>25</dd><dt>1</dt><dd>12</dd><dt>2</dt><dd>7</dd><dt>3</dt><dd>4</dd><dt>4</dt><dd>6</dd><dt>5</dt><dd>2</dd><dt>6</dt><dd>1</dd><dt>7</dt><dd>0</dd><dt>8</dt><dd>2</dd></dl>\n"
      ],
      "text/latex": [
       "\\begin{description*}\n",
       "\\item[0] 25\n",
       "\\item[1] 12\n",
       "\\item[2] 7\n",
       "\\item[3] 4\n",
       "\\item[4] 6\n",
       "\\item[5] 2\n",
       "\\item[6] 1\n",
       "\\item[7] 0\n",
       "\\item[8] 2\n",
       "\\end{description*}\n"
      ],
      "text/markdown": [
       "0\n",
       ":   251\n",
       ":   122\n",
       ":   73\n",
       ":   44\n",
       ":   65\n",
       ":   26\n",
       ":   17\n",
       ":   08\n",
       ":   2\n",
       "\n"
      ],
      "text/plain": [
       " 0  1  2  3  4  5  6  7  8 \n",
       "25 12  7  4  6  2  1  0  2 "
      ]
     },
     "metadata": {},
     "output_type": "display_data"
    }
   ],
   "source": [
    "counts"
   ]
  },
  {
   "cell_type": "code",
   "execution_count": 67,
   "id": "27845088-56cd-4543-a8e1-c2b6eac408db",
   "metadata": {},
   "outputs": [],
   "source": [
    "set.seed(1)"
   ]
  },
  {
   "cell_type": "code",
   "execution_count": 68,
   "id": "bebcc548-cf5e-42cc-b477-7cbcb6bd6c72",
   "metadata": {},
   "outputs": [],
   "source": [
    "# 평균이 2.3인 포아송 분포 난소 2000개 생성하여 table() 함수로 빈도수 계산\n",
    "st = table(rpois(2000, 2.3)) "
   ]
  },
  {
   "cell_type": "code",
   "execution_count": 69,
   "id": "f9dd44e1-dd23-429e-8a6d-2805fb71d6a0",
   "metadata": {},
   "outputs": [
    {
     "data": {
      "text/plain": [
       "\n",
       "  0   1   2   3   4   5   6   7   8   9  10 \n",
       "212 452 545 383 227 120  41  16   2   1   1 "
      ]
     },
     "metadata": {},
     "output_type": "display_data"
    }
   ],
   "source": [
    "st"
   ]
  },
  {
   "cell_type": "code",
   "execution_count": 70,
   "id": "c22fc365-3d92-4995-bb27-2dd24748d715",
   "metadata": {},
   "outputs": [
    {
     "data": {
      "text/html": [
       "<style>\n",
       ".list-inline {list-style: none; margin:0; padding: 0}\n",
       ".list-inline>li {display: inline-block}\n",
       ".list-inline>li:not(:last-child)::after {content: \"\\00b7\"; padding: 0 .5ex}\n",
       "</style>\n",
       "<ol class=list-inline><li>212</li><li>452</li><li>545</li><li>383</li><li>227</li><li>120</li><li>41</li><li>16</li><li>2</li><li>1</li><li>1</li></ol>\n"
      ],
      "text/latex": [
       "\\begin{enumerate*}\n",
       "\\item 212\n",
       "\\item 452\n",
       "\\item 545\n",
       "\\item 383\n",
       "\\item 227\n",
       "\\item 120\n",
       "\\item 41\n",
       "\\item 16\n",
       "\\item 2\n",
       "\\item 1\n",
       "\\item 1\n",
       "\\end{enumerate*}\n"
      ],
      "text/markdown": [
       "1. 212\n",
       "2. 452\n",
       "3. 545\n",
       "4. 383\n",
       "5. 227\n",
       "6. 120\n",
       "7. 41\n",
       "8. 16\n",
       "9. 2\n",
       "10. 1\n",
       "11. 1\n",
       "\n",
       "\n"
      ],
      "text/plain": [
       " [1] 212 452 545 383 227 120  41  16   2   1   1"
      ]
     },
     "metadata": {},
     "output_type": "display_data"
    }
   ],
   "source": [
    "as.vector(st)"
   ]
  },
  {
   "cell_type": "code",
   "execution_count": 71,
   "id": "60579f8e-bd9b-408a-b1dd-66858d1a04c7",
   "metadata": {},
   "outputs": [],
   "source": [
    "x = 0:10"
   ]
  },
  {
   "cell_type": "code",
   "execution_count": 72,
   "id": "32ab1d1c-e1b0-400d-abae-33d5dcd9ae8a",
   "metadata": {},
   "outputs": [
    {
     "data": {
      "text/html": [
       "55"
      ],
      "text/latex": [
       "55"
      ],
      "text/markdown": [
       "55"
      ],
      "text/plain": [
       "[1] 55"
      ]
     },
     "metadata": {},
     "output_type": "display_data"
    }
   ],
   "source": [
    "sum(x)"
   ]
  },
  {
   "cell_type": "code",
   "execution_count": 73,
   "id": "cfc2cfac-ac32-462f-93b7-1879c0c54205",
   "metadata": {},
   "outputs": [
    {
     "data": {
      "text/html": [
       "5"
      ],
      "text/latex": [
       "5"
      ],
      "text/markdown": [
       "5"
      ],
      "text/plain": [
       "[1] 5"
      ]
     },
     "metadata": {},
     "output_type": "display_data"
    }
   ],
   "source": [
    "sum(x<5)"
   ]
  },
  {
   "cell_type": "code",
   "execution_count": 74,
   "id": "bb95c7ce-cf48-454b-82fc-528094b366e9",
   "metadata": {},
   "outputs": [
    {
     "data": {
      "text/html": [
       "10"
      ],
      "text/latex": [
       "10"
      ],
      "text/markdown": [
       "10"
      ],
      "text/plain": [
       "[1] 10"
      ]
     },
     "metadata": {},
     "output_type": "display_data"
    }
   ],
   "source": [
    "sum(x[x<5])"
   ]
  },
  {
   "cell_type": "code",
   "execution_count": 75,
   "id": "3fc45b8b-4b1f-4d36-ab24-ce02c9c4255f",
   "metadata": {},
   "outputs": [
    {
     "data": {
      "text/html": [
       "<style>\n",
       ".list-inline {list-style: none; margin:0; padding: 0}\n",
       ".list-inline>li {display: inline-block}\n",
       ".list-inline>li:not(:last-child)::after {content: \"\\00b7\"; padding: 0 .5ex}\n",
       "</style>\n",
       "<ol class=list-inline><li>TRUE</li><li>TRUE</li><li>TRUE</li><li>TRUE</li><li>TRUE</li><li>FALSE</li><li>FALSE</li><li>FALSE</li><li>FALSE</li><li>FALSE</li><li>FALSE</li></ol>\n"
      ],
      "text/latex": [
       "\\begin{enumerate*}\n",
       "\\item TRUE\n",
       "\\item TRUE\n",
       "\\item TRUE\n",
       "\\item TRUE\n",
       "\\item TRUE\n",
       "\\item FALSE\n",
       "\\item FALSE\n",
       "\\item FALSE\n",
       "\\item FALSE\n",
       "\\item FALSE\n",
       "\\item FALSE\n",
       "\\end{enumerate*}\n"
      ],
      "text/markdown": [
       "1. TRUE\n",
       "2. TRUE\n",
       "3. TRUE\n",
       "4. TRUE\n",
       "5. TRUE\n",
       "6. FALSE\n",
       "7. FALSE\n",
       "8. FALSE\n",
       "9. FALSE\n",
       "10. FALSE\n",
       "11. FALSE\n",
       "\n",
       "\n"
      ],
      "text/plain": [
       " [1]  TRUE  TRUE  TRUE  TRUE  TRUE FALSE FALSE FALSE FALSE FALSE FALSE"
      ]
     },
     "metadata": {},
     "output_type": "display_data"
    }
   ],
   "source": [
    "x<5"
   ]
  },
  {
   "cell_type": "code",
   "execution_count": 76,
   "id": "6c98a01c-32e6-4667-896b-241de257e49a",
   "metadata": {},
   "outputs": [
    {
     "data": {
      "text/html": [
       "<style>\n",
       ".list-inline {list-style: none; margin:0; padding: 0}\n",
       ".list-inline>li {display: inline-block}\n",
       ".list-inline>li:not(:last-child)::after {content: \"\\00b7\"; padding: 0 .5ex}\n",
       "</style>\n",
       "<ol class=list-inline><li>1</li><li>1</li><li>1</li><li>1</li><li>1</li><li>0</li><li>0</li><li>0</li><li>0</li><li>0</li><li>0</li></ol>\n"
      ],
      "text/latex": [
       "\\begin{enumerate*}\n",
       "\\item 1\n",
       "\\item 1\n",
       "\\item 1\n",
       "\\item 1\n",
       "\\item 1\n",
       "\\item 0\n",
       "\\item 0\n",
       "\\item 0\n",
       "\\item 0\n",
       "\\item 0\n",
       "\\item 0\n",
       "\\end{enumerate*}\n"
      ],
      "text/markdown": [
       "1. 1\n",
       "2. 1\n",
       "3. 1\n",
       "4. 1\n",
       "5. 1\n",
       "6. 0\n",
       "7. 0\n",
       "8. 0\n",
       "9. 0\n",
       "10. 0\n",
       "11. 0\n",
       "\n",
       "\n"
      ],
      "text/plain": [
       " [1] 1 1 1 1 1 0 0 0 0 0 0"
      ]
     },
     "metadata": {},
     "output_type": "display_data"
    }
   ],
   "source": [
    "1*(x<5)"
   ]
  },
  {
   "cell_type": "code",
   "execution_count": 77,
   "id": "607d7eb9-1b0b-4b73-8615-508bfbef0e5c",
   "metadata": {},
   "outputs": [
    {
     "data": {
      "text/html": [
       "<style>\n",
       ".list-inline {list-style: none; margin:0; padding: 0}\n",
       ".list-inline>li {display: inline-block}\n",
       ".list-inline>li:not(:last-child)::after {content: \"\\00b7\"; padding: 0 .5ex}\n",
       "</style>\n",
       "<ol class=list-inline><li>0</li><li>1</li><li>2</li><li>3</li><li>4</li><li>0</li><li>0</li><li>0</li><li>0</li><li>0</li><li>0</li></ol>\n"
      ],
      "text/latex": [
       "\\begin{enumerate*}\n",
       "\\item 0\n",
       "\\item 1\n",
       "\\item 2\n",
       "\\item 3\n",
       "\\item 4\n",
       "\\item 0\n",
       "\\item 0\n",
       "\\item 0\n",
       "\\item 0\n",
       "\\item 0\n",
       "\\item 0\n",
       "\\end{enumerate*}\n"
      ],
      "text/markdown": [
       "1. 0\n",
       "2. 1\n",
       "3. 2\n",
       "4. 3\n",
       "5. 4\n",
       "6. 0\n",
       "7. 0\n",
       "8. 0\n",
       "9. 0\n",
       "10. 0\n",
       "11. 0\n",
       "\n",
       "\n"
      ],
      "text/plain": [
       " [1] 0 1 2 3 4 0 0 0 0 0 0"
      ]
     },
     "metadata": {},
     "output_type": "display_data"
    }
   ],
   "source": [
    "x*(x<5)"
   ]
  },
  {
   "cell_type": "code",
   "execution_count": 78,
   "id": "e4fb0f29-803d-4231-b0e7-757fc147ccfd",
   "metadata": {},
   "outputs": [
    {
     "data": {
      "text/html": [
       "10"
      ],
      "text/latex": [
       "10"
      ],
      "text/markdown": [
       "10"
      ],
      "text/plain": [
       "[1] 10"
      ]
     },
     "metadata": {},
     "output_type": "display_data"
    }
   ],
   "source": [
    "sum(x*(x<5))"
   ]
  },
  {
   "cell_type": "markdown",
   "id": "5d303978-7008-47f8-8671-584b73366495",
   "metadata": {},
   "source": [
    "### 정렬(sort)"
   ]
  },
  {
   "cell_type": "code",
   "execution_count": 79,
   "id": "1a8a4b4b-4449-46c2-a69e-b6a86b6c1717",
   "metadata": {},
   "outputs": [],
   "source": [
    "# 가장 큰 값 3개의 합을 구하고 싶다.\n",
    "\n",
    "y <- c(8,3,5,7,6,6,8,9,2,3,9,4,10,4,11)"
   ]
  },
  {
   "cell_type": "code",
   "execution_count": 80,
   "id": "78913e2a-4919-44d7-8803-c78afdbcb939",
   "metadata": {},
   "outputs": [
    {
     "data": {
      "text/html": [
       "<style>\n",
       ".list-inline {list-style: none; margin:0; padding: 0}\n",
       ".list-inline>li {display: inline-block}\n",
       ".list-inline>li:not(:last-child)::after {content: \"\\00b7\"; padding: 0 .5ex}\n",
       "</style>\n",
       "<ol class=list-inline><li>2</li><li>3</li><li>3</li><li>4</li><li>4</li><li>5</li><li>6</li><li>6</li><li>7</li><li>8</li><li>8</li><li>9</li><li>9</li><li>10</li><li>11</li></ol>\n"
      ],
      "text/latex": [
       "\\begin{enumerate*}\n",
       "\\item 2\n",
       "\\item 3\n",
       "\\item 3\n",
       "\\item 4\n",
       "\\item 4\n",
       "\\item 5\n",
       "\\item 6\n",
       "\\item 6\n",
       "\\item 7\n",
       "\\item 8\n",
       "\\item 8\n",
       "\\item 9\n",
       "\\item 9\n",
       "\\item 10\n",
       "\\item 11\n",
       "\\end{enumerate*}\n"
      ],
      "text/markdown": [
       "1. 2\n",
       "2. 3\n",
       "3. 3\n",
       "4. 4\n",
       "5. 4\n",
       "6. 5\n",
       "7. 6\n",
       "8. 6\n",
       "9. 7\n",
       "10. 8\n",
       "11. 8\n",
       "12. 9\n",
       "13. 9\n",
       "14. 10\n",
       "15. 11\n",
       "\n",
       "\n"
      ],
      "text/plain": [
       " [1]  2  3  3  4  4  5  6  6  7  8  8  9  9 10 11"
      ]
     },
     "metadata": {},
     "output_type": "display_data"
    }
   ],
   "source": [
    "sort(y) # 오름차순 정렬"
   ]
  },
  {
   "cell_type": "code",
   "execution_count": 81,
   "id": "6c54472c-6545-44b7-acd4-6530c68da0b4",
   "metadata": {},
   "outputs": [
    {
     "data": {
      "text/html": [
       "<style>\n",
       ".list-inline {list-style: none; margin:0; padding: 0}\n",
       ".list-inline>li {display: inline-block}\n",
       ".list-inline>li:not(:last-child)::after {content: \"\\00b7\"; padding: 0 .5ex}\n",
       "</style>\n",
       "<ol class=list-inline><li>11</li><li>10</li><li>9</li><li>9</li><li>8</li><li>8</li><li>7</li><li>6</li><li>6</li><li>5</li><li>4</li><li>4</li><li>3</li><li>3</li><li>2</li></ol>\n"
      ],
      "text/latex": [
       "\\begin{enumerate*}\n",
       "\\item 11\n",
       "\\item 10\n",
       "\\item 9\n",
       "\\item 9\n",
       "\\item 8\n",
       "\\item 8\n",
       "\\item 7\n",
       "\\item 6\n",
       "\\item 6\n",
       "\\item 5\n",
       "\\item 4\n",
       "\\item 4\n",
       "\\item 3\n",
       "\\item 3\n",
       "\\item 2\n",
       "\\end{enumerate*}\n"
      ],
      "text/markdown": [
       "1. 11\n",
       "2. 10\n",
       "3. 9\n",
       "4. 9\n",
       "5. 8\n",
       "6. 8\n",
       "7. 7\n",
       "8. 6\n",
       "9. 6\n",
       "10. 5\n",
       "11. 4\n",
       "12. 4\n",
       "13. 3\n",
       "14. 3\n",
       "15. 2\n",
       "\n",
       "\n"
      ],
      "text/plain": [
       " [1] 11 10  9  9  8  8  7  6  6  5  4  4  3  3  2"
      ]
     },
     "metadata": {},
     "output_type": "display_data"
    }
   ],
   "source": [
    "rev(sort(y)) # 내림차순 정렬"
   ]
  },
  {
   "cell_type": "code",
   "execution_count": 82,
   "id": "7a060088-56ae-4bcb-b349-4131cc260b59",
   "metadata": {},
   "outputs": [
    {
     "data": {
      "text/html": [
       "<style>\n",
       ".list-inline {list-style: none; margin:0; padding: 0}\n",
       ".list-inline>li {display: inline-block}\n",
       ".list-inline>li:not(:last-child)::after {content: \"\\00b7\"; padding: 0 .5ex}\n",
       "</style>\n",
       "<ol class=list-inline><li>11</li><li>10</li><li>9</li></ol>\n"
      ],
      "text/latex": [
       "\\begin{enumerate*}\n",
       "\\item 11\n",
       "\\item 10\n",
       "\\item 9\n",
       "\\end{enumerate*}\n"
      ],
      "text/markdown": [
       "1. 11\n",
       "2. 10\n",
       "3. 9\n",
       "\n",
       "\n"
      ],
      "text/plain": [
       "[1] 11 10  9"
      ]
     },
     "metadata": {},
     "output_type": "display_data"
    }
   ],
   "source": [
    "rev(sort(y))[1:3] # 가장 큰 값 3개"
   ]
  },
  {
   "cell_type": "code",
   "execution_count": 83,
   "id": "43e6b079-6555-45bf-87d9-f773942a6627",
   "metadata": {},
   "outputs": [
    {
     "data": {
      "text/html": [
       "30"
      ],
      "text/latex": [
       "30"
      ],
      "text/markdown": [
       "30"
      ],
      "text/plain": [
       "[1] 30"
      ]
     },
     "metadata": {},
     "output_type": "display_data"
    }
   ],
   "source": [
    "sum(rev(sort(y))[1:3]) # 가장 큰 값 3개의 합"
   ]
  },
  {
   "cell_type": "code",
   "execution_count": 84,
   "id": "c9c25f28-51d7-48c7-ae36-29cb6ea78e5b",
   "metadata": {},
   "outputs": [],
   "source": [
    "x = c(2, 3, 4, 1, 5, 8, 2, 3, 7, 5, 7)"
   ]
  },
  {
   "cell_type": "code",
   "execution_count": 85,
   "id": "1eb08bd8-aaf6-4253-9fac-c5fa12195a45",
   "metadata": {},
   "outputs": [
    {
     "data": {
      "text/html": [
       "6"
      ],
      "text/latex": [
       "6"
      ],
      "text/markdown": [
       "6"
      ],
      "text/plain": [
       "[1] 6"
      ]
     },
     "metadata": {},
     "output_type": "display_data"
    }
   ],
   "source": [
    "which(x == max(x))"
   ]
  },
  {
   "cell_type": "code",
   "execution_count": 86,
   "id": "0dbd3003-791c-468f-86a4-689ff0e4f83a",
   "metadata": {},
   "outputs": [
    {
     "data": {
      "text/html": [
       "4"
      ],
      "text/latex": [
       "4"
      ],
      "text/markdown": [
       "4"
      ],
      "text/plain": [
       "[1] 4"
      ]
     },
     "metadata": {},
     "output_type": "display_data"
    }
   ],
   "source": [
    "which(x == min(x))"
   ]
  },
  {
   "cell_type": "code",
   "execution_count": 87,
   "id": "b8f46daa-eff7-4932-8b30-49a50f6b194a",
   "metadata": {},
   "outputs": [
    {
     "data": {
      "text/html": [
       "6"
      ],
      "text/latex": [
       "6"
      ],
      "text/markdown": [
       "6"
      ],
      "text/plain": [
       "[1] 6"
      ]
     },
     "metadata": {},
     "output_type": "display_data"
    }
   ],
   "source": [
    "which.max(x)"
   ]
  },
  {
   "cell_type": "code",
   "execution_count": 88,
   "id": "83ca6071-8436-4509-b3d1-d478b2572842",
   "metadata": {},
   "outputs": [
    {
     "data": {
      "text/html": [
       "4"
      ],
      "text/latex": [
       "4"
      ],
      "text/markdown": [
       "4"
      ],
      "text/plain": [
       "[1] 4"
      ]
     },
     "metadata": {},
     "output_type": "display_data"
    }
   ],
   "source": [
    "which.min(x)"
   ]
  },
  {
   "cell_type": "markdown",
   "id": "3b2f1cbd-baab-4a87-b12b-cb7fce3a11ff",
   "metadata": {},
   "source": [
    "## Ch.7 벡터 함수"
   ]
  },
  {
   "cell_type": "code",
   "execution_count": 89,
   "id": "20842263-8fd6-4d98-8b84-392e7304a860",
   "metadata": {},
   "outputs": [],
   "source": [
    "y <- c(8,3,5,7,6,6,8,9,2,3,9,4,10,4,11)"
   ]
  },
  {
   "cell_type": "code",
   "execution_count": 90,
   "id": "0e850dfd-4f19-46ed-8601-10176544dfe8",
   "metadata": {},
   "outputs": [
    {
     "data": {
      "text/html": [
       "6.33333333333333"
      ],
      "text/latex": [
       "6.33333333333333"
      ],
      "text/markdown": [
       "6.33333333333333"
      ],
      "text/plain": [
       "[1] 6.333333"
      ]
     },
     "metadata": {},
     "output_type": "display_data"
    }
   ],
   "source": [
    "mean(y)"
   ]
  },
  {
   "cell_type": "code",
   "execution_count": 91,
   "id": "00066970-e16c-42c1-84bb-5a8c2936bfb1",
   "metadata": {},
   "outputs": [
    {
     "data": {
      "text/html": [
       "<style>\n",
       ".list-inline {list-style: none; margin:0; padding: 0}\n",
       ".list-inline>li {display: inline-block}\n",
       ".list-inline>li:not(:last-child)::after {content: \"\\00b7\"; padding: 0 .5ex}\n",
       "</style>\n",
       "<ol class=list-inline><li>2</li><li>11</li></ol>\n"
      ],
      "text/latex": [
       "\\begin{enumerate*}\n",
       "\\item 2\n",
       "\\item 11\n",
       "\\end{enumerate*}\n"
      ],
      "text/markdown": [
       "1. 2\n",
       "2. 11\n",
       "\n",
       "\n"
      ],
      "text/plain": [
       "[1]  2 11"
      ]
     },
     "metadata": {},
     "output_type": "display_data"
    }
   ],
   "source": [
    "range(y) # 범위"
   ]
  },
  {
   "cell_type": "code",
   "execution_count": 92,
   "id": "a1a49c31-3281-4dae-989a-15c573ee3e41",
   "metadata": {},
   "outputs": [
    {
     "data": {
      "text/html": [
       "<style>\n",
       ".list-inline {list-style: none; margin:0; padding: 0}\n",
       ".list-inline>li {display: inline-block}\n",
       ".list-inline>li:not(:last-child)::after {content: \"\\00b7\"; padding: 0 .5ex}\n",
       "</style>\n",
       "<ol class=list-inline><li>2</li><li>4</li><li>6</li><li>8.5</li><li>11</li></ol>\n"
      ],
      "text/latex": [
       "\\begin{enumerate*}\n",
       "\\item 2\n",
       "\\item 4\n",
       "\\item 6\n",
       "\\item 8.5\n",
       "\\item 11\n",
       "\\end{enumerate*}\n"
      ],
      "text/markdown": [
       "1. 2\n",
       "2. 4\n",
       "3. 6\n",
       "4. 8.5\n",
       "5. 11\n",
       "\n",
       "\n"
      ],
      "text/plain": [
       "[1]  2.0  4.0  6.0  8.5 11.0"
      ]
     },
     "metadata": {},
     "output_type": "display_data"
    }
   ],
   "source": [
    "fivenum(y) # 다섯 숫자 요약"
   ]
  },
  {
   "cell_type": "code",
   "execution_count": 93,
   "id": "8d46d079-25ef-4fe7-8cfc-ee58938b1fed",
   "metadata": {},
   "outputs": [
    {
     "data": {
      "text/plain": [
       "   Min. 1st Qu.  Median    Mean 3rd Qu.    Max. \n",
       "  2.000   4.000   6.000   6.333   8.500  11.000 "
      ]
     },
     "metadata": {},
     "output_type": "display_data"
    }
   ],
   "source": [
    "summary(y)"
   ]
  },
  {
   "cell_type": "code",
   "execution_count": 94,
   "id": "a3e70e15-6309-425e-bfc8-e6a1a685c377",
   "metadata": {},
   "outputs": [
    {
     "data": {
      "text/plain": [
       "counts\n",
       "   0    1    2    3    4    5    6    7    8    9   10 \n",
       "   9  106  458 1175 2030 2450 1977 1214  480   97    4 "
      ]
     },
     "metadata": {},
     "output_type": "display_data"
    }
   ],
   "source": [
    "# 동전을 10번 던져서 앞면이 나온 횟수를 구하는 실험 10000번\n",
    "\n",
    "set.seed(1)\n",
    "counts = rbinom(10000, size = 10, prob = 0.5)\n",
    "table(counts)\n"
   ]
  },
  {
   "cell_type": "code",
   "execution_count": 95,
   "id": "c21f9119-32a1-4ec8-9b40-284c2d7d49d7",
   "metadata": {},
   "outputs": [
    {
     "data": {
      "image/png": "[encoded data removed]",
      "text/plain": [
       "plot without title"
      ]
     },
     "metadata": {
      "image/png": {
       "height": 420,
       "width": 420
      }
     },
     "output_type": "display_data"
    }
   ],
   "source": [
    "barplot(table(counts))"
   ]
  },
  {
   "cell_type": "markdown",
   "id": "522d99b4-66bd-4c7a-bc91-4ef82b3151df",
   "metadata": {},
   "source": [
    "### 가장 가까운 값 찾기"
   ]
  },
  {
   "cell_type": "code",
   "execution_count": 96,
   "id": "71fde875-9899-4681-87c2-5000a0ddddee",
   "metadata": {},
   "outputs": [],
   "source": [
    "set.seed(1)"
   ]
  },
  {
   "cell_type": "code",
   "execution_count": 97,
   "id": "5c33224d-4a46-4033-9bf3-a8c101c7e630",
   "metadata": {},
   "outputs": [],
   "source": [
    "xv = rnorm(1000, mean = 100, sd = 10)"
   ]
  },
  {
   "cell_type": "code",
   "execution_count": 98,
   "id": "0f2a8391-4685-4dd9-a458-34f0aa12f8b2",
   "metadata": {},
   "outputs": [
    {
     "data": {
      "image/png": "[encoded data removed]",
      "text/plain": [
       "plot without title"
      ]
     },
     "metadata": {
      "image/png": {
       "height": 420,
       "width": 420
      }
     },
     "output_type": "display_data"
    }
   ],
   "source": [
    "plot(xv - 108) # 108에 가장 가까운 값\n",
    "abline(h = 0)"
   ]
  },
  {
   "cell_type": "code",
   "execution_count": 99,
   "id": "cc89c4e9-d89f-4b38-88f4-8fccfdac2afd",
   "metadata": {},
   "outputs": [
    {
     "data": {
      "text/html": [
       "0.0320546136046858"
      ],
      "text/latex": [
       "0.0320546136046858"
      ],
      "text/markdown": [
       "0.0320546136046858"
      ],
      "text/plain": [
       "[1] 0.03205461"
      ]
     },
     "metadata": {},
     "output_type": "display_data"
    }
   ],
   "source": [
    "min(abs(xv-108))"
   ]
  },
  {
   "cell_type": "code",
   "execution_count": 100,
   "id": "41842215-95a4-4abe-aa73-cae7d9148505",
   "metadata": {},
   "outputs": [
    {
     "data": {
      "text/html": [
       "817"
      ],
      "text/latex": [
       "817"
      ],
      "text/markdown": [
       "817"
      ],
      "text/plain": [
       "[1] 817"
      ]
     },
     "metadata": {},
     "output_type": "display_data"
    }
   ],
   "source": [
    "# 가장 작은 오차를 가진 원소 위치 찾기\n",
    "which( min(abs(xv-108)) == abs(xv-108))"
   ]
  },
  {
   "cell_type": "code",
   "execution_count": 101,
   "id": "5d55c13d-206d-49be-8e28-46ddb520db58",
   "metadata": {},
   "outputs": [
    {
     "data": {
      "text/html": [
       "-0.0320546136046858"
      ],
      "text/latex": [
       "-0.0320546136046858"
      ],
      "text/markdown": [
       "-0.0320546136046858"
      ],
      "text/plain": [
       "[1] -0.03205461"
      ]
     },
     "metadata": {},
     "output_type": "display_data"
    }
   ],
   "source": [
    "(xv-108)[817]"
   ]
  },
  {
   "cell_type": "code",
   "execution_count": 102,
   "id": "00a848ad-80b8-4779-9406-6a5a701ec436",
   "metadata": {},
   "outputs": [
    {
     "data": {
      "text/html": [
       "107.967945386395"
      ],
      "text/latex": [
       "107.967945386395"
      ],
      "text/markdown": [
       "107.967945386395"
      ],
      "text/plain": [
       "[1] 107.9679"
      ]
     },
     "metadata": {},
     "output_type": "display_data"
    }
   ],
   "source": [
    "xv[817]"
   ]
  },
  {
   "cell_type": "code",
   "execution_count": 103,
   "id": "4ae55bfc-a700-434c-a979-383391b9afc3",
   "metadata": {},
   "outputs": [],
   "source": [
    "# 함수 만들기\n",
    "\n",
    "closet = function(xv, sv){\n",
    "    xv[which(min(abs(xv-sv)) == abs(xv-sv))]\n",
    "}"
   ]
  },
  {
   "cell_type": "code",
   "execution_count": 104,
   "id": "828f6f62-f8df-4c20-a5fe-71610fc33cc8",
   "metadata": {},
   "outputs": [
    {
     "data": {
      "text/html": [
       "107.967945386395"
      ],
      "text/latex": [
       "107.967945386395"
      ],
      "text/markdown": [
       "107.967945386395"
      ],
      "text/plain": [
       "[1] 107.9679"
      ]
     },
     "metadata": {},
     "output_type": "display_data"
    }
   ],
   "source": [
    "closet(xv, 108)"
   ]
  },
  {
   "cell_type": "markdown",
   "id": "0bed5807-00cf-48ad-afac-a4116d8e0160",
   "metadata": {},
   "source": [
    "### 정렬(sorting)"
   ]
  },
  {
   "cell_type": "code",
   "execution_count": 105,
   "id": "2138a34a-ccc9-4644-8eea-5e475f0ff5eb",
   "metadata": {},
   "outputs": [],
   "source": [
    "set.seed(1)\n",
    "x = round(rnorm(12, mean = 100, sd = 10))"
   ]
  },
  {
   "cell_type": "code",
   "execution_count": 106,
   "id": "cf039325-a6ed-4b49-9cb9-22d0752f744b",
   "metadata": {},
   "outputs": [],
   "source": [
    "ranks = rank(x)\n",
    "sorted = sort(x)\n",
    "ordered = order(x)"
   ]
  },
  {
   "cell_type": "code",
   "execution_count": 107,
   "id": "e7ac8ac9-b83e-4dfc-9595-785847d12f28",
   "metadata": {},
   "outputs": [
    {
     "data": {
      "text/html": [
       "<style>\n",
       ".list-inline {list-style: none; margin:0; padding: 0}\n",
       ".list-inline>li {display: inline-block}\n",
       ".list-inline>li:not(:last-child)::after {content: \"\\00b7\"; padding: 0 .5ex}\n",
       "</style>\n",
       "<ol class=list-inline><li>3</li><li>5</li><li>1.5</li><li>12</li><li>6</li><li>1.5</li><li>8</li><li>10</li><li>9</li><li>4</li><li>11</li><li>7</li></ol>\n"
      ],
      "text/latex": [
       "\\begin{enumerate*}\n",
       "\\item 3\n",
       "\\item 5\n",
       "\\item 1.5\n",
       "\\item 12\n",
       "\\item 6\n",
       "\\item 1.5\n",
       "\\item 8\n",
       "\\item 10\n",
       "\\item 9\n",
       "\\item 4\n",
       "\\item 11\n",
       "\\item 7\n",
       "\\end{enumerate*}\n"
      ],
      "text/markdown": [
       "1. 3\n",
       "2. 5\n",
       "3. 1.5\n",
       "4. 12\n",
       "5. 6\n",
       "6. 1.5\n",
       "7. 8\n",
       "8. 10\n",
       "9. 9\n",
       "10. 4\n",
       "11. 11\n",
       "12. 7\n",
       "\n",
       "\n"
      ],
      "text/plain": [
       " [1]  3.0  5.0  1.5 12.0  6.0  1.5  8.0 10.0  9.0  4.0 11.0  7.0"
      ]
     },
     "metadata": {},
     "output_type": "display_data"
    }
   ],
   "source": [
    "ranks"
   ]
  },
  {
   "cell_type": "code",
   "execution_count": 108,
   "id": "6b2b2fcd-4adf-48c1-b00f-f26fa4cf3bad",
   "metadata": {},
   "outputs": [
    {
     "data": {
      "text/html": [
       "<style>\n",
       ".list-inline {list-style: none; margin:0; padding: 0}\n",
       ".list-inline>li {display: inline-block}\n",
       ".list-inline>li:not(:last-child)::after {content: \"\\00b7\"; padding: 0 .5ex}\n",
       "</style>\n",
       "<ol class=list-inline><li>94</li><li>102</li><li>92</li><li>116</li><li>103</li><li>92</li><li>105</li><li>107</li><li>106</li><li>97</li><li>115</li><li>104</li></ol>\n"
      ],
      "text/latex": [
       "\\begin{enumerate*}\n",
       "\\item 94\n",
       "\\item 102\n",
       "\\item 92\n",
       "\\item 116\n",
       "\\item 103\n",
       "\\item 92\n",
       "\\item 105\n",
       "\\item 107\n",
       "\\item 106\n",
       "\\item 97\n",
       "\\item 115\n",
       "\\item 104\n",
       "\\end{enumerate*}\n"
      ],
      "text/markdown": [
       "1. 94\n",
       "2. 102\n",
       "3. 92\n",
       "4. 116\n",
       "5. 103\n",
       "6. 92\n",
       "7. 105\n",
       "8. 107\n",
       "9. 106\n",
       "10. 97\n",
       "11. 115\n",
       "12. 104\n",
       "\n",
       "\n"
      ],
      "text/plain": [
       " [1]  94 102  92 116 103  92 105 107 106  97 115 104"
      ]
     },
     "metadata": {},
     "output_type": "display_data"
    }
   ],
   "source": [
    "x"
   ]
  },
  {
   "cell_type": "code",
   "execution_count": 109,
   "id": "d8b56745-a671-4d9a-9c31-1dbf8ad3797a",
   "metadata": {},
   "outputs": [
    {
     "data": {
      "text/html": [
       "<style>\n",
       ".list-inline {list-style: none; margin:0; padding: 0}\n",
       ".list-inline>li {display: inline-block}\n",
       ".list-inline>li:not(:last-child)::after {content: \"\\00b7\"; padding: 0 .5ex}\n",
       "</style>\n",
       "<ol class=list-inline><li>1.5</li><li>1.5</li><li>3</li><li>4</li><li>5</li><li>6</li><li>7</li><li>8</li><li>9</li><li>10</li><li>11</li><li>12</li></ol>\n"
      ],
      "text/latex": [
       "\\begin{enumerate*}\n",
       "\\item 1.5\n",
       "\\item 1.5\n",
       "\\item 3\n",
       "\\item 4\n",
       "\\item 5\n",
       "\\item 6\n",
       "\\item 7\n",
       "\\item 8\n",
       "\\item 9\n",
       "\\item 10\n",
       "\\item 11\n",
       "\\item 12\n",
       "\\end{enumerate*}\n"
      ],
      "text/markdown": [
       "1. 1.5\n",
       "2. 1.5\n",
       "3. 3\n",
       "4. 4\n",
       "5. 5\n",
       "6. 6\n",
       "7. 7\n",
       "8. 8\n",
       "9. 9\n",
       "10. 10\n",
       "11. 11\n",
       "12. 12\n",
       "\n",
       "\n"
      ],
      "text/plain": [
       " [1]  1.5  1.5  3.0  4.0  5.0  6.0  7.0  8.0  9.0 10.0 11.0 12.0"
      ]
     },
     "metadata": {},
     "output_type": "display_data"
    }
   ],
   "source": [
    "sort(ranks)"
   ]
  },
  {
   "cell_type": "code",
   "execution_count": 110,
   "id": "28bd81bc-f2e4-4fb8-938b-03f658513c64",
   "metadata": {},
   "outputs": [
    {
     "data": {
      "text/html": [
       "<style>\n",
       ".list-inline {list-style: none; margin:0; padding: 0}\n",
       ".list-inline>li {display: inline-block}\n",
       ".list-inline>li:not(:last-child)::after {content: \"\\00b7\"; padding: 0 .5ex}\n",
       "</style>\n",
       "<ol class=list-inline><li>3</li><li>6</li><li>1</li><li>10</li><li>2</li><li>5</li><li>12</li><li>7</li><li>9</li><li>8</li><li>11</li><li>4</li></ol>\n"
      ],
      "text/latex": [
       "\\begin{enumerate*}\n",
       "\\item 3\n",
       "\\item 6\n",
       "\\item 1\n",
       "\\item 10\n",
       "\\item 2\n",
       "\\item 5\n",
       "\\item 12\n",
       "\\item 7\n",
       "\\item 9\n",
       "\\item 8\n",
       "\\item 11\n",
       "\\item 4\n",
       "\\end{enumerate*}\n"
      ],
      "text/markdown": [
       "1. 3\n",
       "2. 6\n",
       "3. 1\n",
       "4. 10\n",
       "5. 2\n",
       "6. 5\n",
       "7. 12\n",
       "8. 7\n",
       "9. 9\n",
       "10. 8\n",
       "11. 11\n",
       "12. 4\n",
       "\n",
       "\n"
      ],
      "text/plain": [
       " [1]  3  6  1 10  2  5 12  7  9  8 11  4"
      ]
     },
     "metadata": {},
     "output_type": "display_data"
    }
   ],
   "source": [
    "ordered"
   ]
  },
  {
   "cell_type": "code",
   "execution_count": 111,
   "id": "d4b605b8-4ed4-4506-b96b-39467a744b8c",
   "metadata": {},
   "outputs": [
    {
     "data": {
      "text/html": [
       "<table class=\"dataframe\">\n",
       "<caption>A data.frame: 12 × 4</caption>\n",
       "<thead>\n",
       "\t<tr><th scope=col>x</th><th scope=col>ranks</th><th scope=col>sorted</th><th scope=col>ordered</th></tr>\n",
       "\t<tr><th scope=col>&lt;dbl&gt;</th><th scope=col>&lt;dbl&gt;</th><th scope=col>&lt;dbl&gt;</th><th scope=col>&lt;int&gt;</th></tr>\n",
       "</thead>\n",
       "<tbody>\n",
       "\t<tr><td> 94</td><td> 3.0</td><td> 92</td><td> 3</td></tr>\n",
       "\t<tr><td>102</td><td> 5.0</td><td> 92</td><td> 6</td></tr>\n",
       "\t<tr><td> 92</td><td> 1.5</td><td> 94</td><td> 1</td></tr>\n",
       "\t<tr><td>116</td><td>12.0</td><td> 97</td><td>10</td></tr>\n",
       "\t<tr><td>103</td><td> 6.0</td><td>102</td><td> 2</td></tr>\n",
       "\t<tr><td> 92</td><td> 1.5</td><td>103</td><td> 5</td></tr>\n",
       "\t<tr><td>105</td><td> 8.0</td><td>104</td><td>12</td></tr>\n",
       "\t<tr><td>107</td><td>10.0</td><td>105</td><td> 7</td></tr>\n",
       "\t<tr><td>106</td><td> 9.0</td><td>106</td><td> 9</td></tr>\n",
       "\t<tr><td> 97</td><td> 4.0</td><td>107</td><td> 8</td></tr>\n",
       "\t<tr><td>115</td><td>11.0</td><td>115</td><td>11</td></tr>\n",
       "\t<tr><td>104</td><td> 7.0</td><td>116</td><td> 4</td></tr>\n",
       "</tbody>\n",
       "</table>\n"
      ],
      "text/latex": [
       "A data.frame: 12 × 4\n",
       "\\begin{tabular}{llll}\n",
       " x & ranks & sorted & ordered\\\\\n",
       " <dbl> & <dbl> & <dbl> & <int>\\\\\n",
       "\\hline\n",
       "\t  94 &  3.0 &  92 &  3\\\\\n",
       "\t 102 &  5.0 &  92 &  6\\\\\n",
       "\t  92 &  1.5 &  94 &  1\\\\\n",
       "\t 116 & 12.0 &  97 & 10\\\\\n",
       "\t 103 &  6.0 & 102 &  2\\\\\n",
       "\t  92 &  1.5 & 103 &  5\\\\\n",
       "\t 105 &  8.0 & 104 & 12\\\\\n",
       "\t 107 & 10.0 & 105 &  7\\\\\n",
       "\t 106 &  9.0 & 106 &  9\\\\\n",
       "\t  97 &  4.0 & 107 &  8\\\\\n",
       "\t 115 & 11.0 & 115 & 11\\\\\n",
       "\t 104 &  7.0 & 116 &  4\\\\\n",
       "\\end{tabular}\n"
      ],
      "text/markdown": [
       "\n",
       "A data.frame: 12 × 4\n",
       "\n",
       "| x &lt;dbl&gt; | ranks &lt;dbl&gt; | sorted &lt;dbl&gt; | ordered &lt;int&gt; |\n",
       "|---|---|---|---|\n",
       "|  94 |  3.0 |  92 |  3 |\n",
       "| 102 |  5.0 |  92 |  6 |\n",
       "|  92 |  1.5 |  94 |  1 |\n",
       "| 116 | 12.0 |  97 | 10 |\n",
       "| 103 |  6.0 | 102 |  2 |\n",
       "|  92 |  1.5 | 103 |  5 |\n",
       "| 105 |  8.0 | 104 | 12 |\n",
       "| 107 | 10.0 | 105 |  7 |\n",
       "| 106 |  9.0 | 106 |  9 |\n",
       "|  97 |  4.0 | 107 |  8 |\n",
       "| 115 | 11.0 | 115 | 11 |\n",
       "| 104 |  7.0 | 116 |  4 |\n",
       "\n"
      ],
      "text/plain": [
       "   x   ranks sorted ordered\n",
       "1   94  3.0   92     3     \n",
       "2  102  5.0   92     6     \n",
       "3   92  1.5   94     1     \n",
       "4  116 12.0   97    10     \n",
       "5  103  6.0  102     2     \n",
       "6   92  1.5  103     5     \n",
       "7  105  8.0  104    12     \n",
       "8  107 10.0  105     7     \n",
       "9  106  9.0  106     9     \n",
       "10  97  4.0  107     8     \n",
       "11 115 11.0  115    11     \n",
       "12 104  7.0  116     4     "
      ]
     },
     "metadata": {},
     "output_type": "display_data"
    }
   ],
   "source": [
    "data.frame(x, ranks, sorted, ordered)"
   ]
  },
  {
   "cell_type": "code",
   "execution_count": 112,
   "id": "fa5a5492-48fb-41b5-bb16-c2f2ab3fd36d",
   "metadata": {},
   "outputs": [
    {
     "data": {
      "text/html": [
       "92"
      ],
      "text/latex": [
       "92"
      ],
      "text/markdown": [
       "92"
      ],
      "text/plain": [
       "[1] 92"
      ]
     },
     "metadata": {},
     "output_type": "display_data"
    }
   ],
   "source": [
    "x[ordered[1]]"
   ]
  },
  {
   "cell_type": "code",
   "execution_count": 113,
   "id": "cae3bad7-af5a-47dc-b39a-dab2641cbd11",
   "metadata": {},
   "outputs": [
    {
     "data": {
      "text/html": [
       "<style>\n",
       ".list-inline {list-style: none; margin:0; padding: 0}\n",
       ".list-inline>li {display: inline-block}\n",
       ".list-inline>li:not(:last-child)::after {content: \"\\00b7\"; padding: 0 .5ex}\n",
       "</style>\n",
       "<ol class=list-inline><li>92</li><li>92</li><li>94</li><li>97</li><li>102</li><li>103</li><li>104</li><li>105</li><li>106</li><li>107</li><li>115</li><li>116</li></ol>\n"
      ],
      "text/latex": [
       "\\begin{enumerate*}\n",
       "\\item 92\n",
       "\\item 92\n",
       "\\item 94\n",
       "\\item 97\n",
       "\\item 102\n",
       "\\item 103\n",
       "\\item 104\n",
       "\\item 105\n",
       "\\item 106\n",
       "\\item 107\n",
       "\\item 115\n",
       "\\item 116\n",
       "\\end{enumerate*}\n"
      ],
      "text/markdown": [
       "1. 92\n",
       "2. 92\n",
       "3. 94\n",
       "4. 97\n",
       "5. 102\n",
       "6. 103\n",
       "7. 104\n",
       "8. 105\n",
       "9. 106\n",
       "10. 107\n",
       "11. 115\n",
       "12. 116\n",
       "\n",
       "\n"
      ],
      "text/plain": [
       " [1]  92  92  94  97 102 103 104 105 106 107 115 116"
      ]
     },
     "metadata": {},
     "output_type": "display_data"
    }
   ],
   "source": [
    "x[ordered]"
   ]
  },
  {
   "cell_type": "code",
   "execution_count": 114,
   "id": "6d7c5cd3-f80f-4377-8782-93c85470880b",
   "metadata": {},
   "outputs": [
    {
     "data": {
      "text/html": [
       "92"
      ],
      "text/latex": [
       "92"
      ],
      "text/markdown": [
       "92"
      ],
      "text/plain": [
       "[1] 92"
      ]
     },
     "metadata": {},
     "output_type": "display_data"
    }
   ],
   "source": [
    "x[ordered[2]]"
   ]
  },
  {
   "cell_type": "code",
   "execution_count": 115,
   "id": "091ce43d-ae6a-4e53-b3db-c53bce665720",
   "metadata": {},
   "outputs": [
    {
     "data": {
      "text/html": [
       "94"
      ],
      "text/latex": [
       "94"
      ],
      "text/markdown": [
       "94"
      ],
      "text/plain": [
       "[1] 94"
      ]
     },
     "metadata": {},
     "output_type": "display_data"
    }
   ],
   "source": [
    "x[ordered[3]]"
   ]
  },
  {
   "cell_type": "markdown",
   "id": "0bdf881b-0536-4bf2-9462-e158eac7df06",
   "metadata": {},
   "source": [
    "### order() 함수의 유용성"
   ]
  },
  {
   "cell_type": "markdown",
   "id": "6358933b-2ad0-468c-bb38-bc682364aec2",
   "metadata": {},
   "source": [
    "- 지역별 주택 값이 있다. 가장 싼 지역에서 비싼 지역으로 정렬하고 싶다."
   ]
  },
  {
   "cell_type": "code",
   "execution_count": 116,
   "id": "f33df065-a18a-4619-a12a-bb103352f726",
   "metadata": {},
   "outputs": [],
   "source": [
    "location <- c('Ascot', 'Sunninghill', 'Bracknell', 'Camberley', 'Bagshot'\n",
    "              , 'Staines', 'Windsor', 'Maidenhead', 'Reading', 'Winkfield', 'Warfield', 'Newbury')"
   ]
  },
  {
   "cell_type": "code",
   "execution_count": 117,
   "id": "2a0198c0-4e31-4d87-97d5-a0bae5eef1fa",
   "metadata": {},
   "outputs": [],
   "source": [
    "price <- c(325, 201, 157, 162, 164, 101, 211, 188, 95, 117, 188, 121)"
   ]
  },
  {
   "cell_type": "code",
   "execution_count": 118,
   "id": "cc70dffd-dc08-4e85-ac2f-57fc2b15ca0f",
   "metadata": {},
   "outputs": [
    {
     "data": {
      "text/html": [
       "'Reading'"
      ],
      "text/latex": [
       "'Reading'"
      ],
      "text/markdown": [
       "'Reading'"
      ],
      "text/plain": [
       "[1] \"Reading\""
      ]
     },
     "metadata": {},
     "output_type": "display_data"
    }
   ],
   "source": [
    "location[which(price == min(price))]"
   ]
  },
  {
   "cell_type": "code",
   "execution_count": 119,
   "id": "0590c23f-a612-4cf4-803f-ab31bccd669a",
   "metadata": {},
   "outputs": [
    {
     "data": {
      "text/html": [
       "<style>\n",
       ".list-inline {list-style: none; margin:0; padding: 0}\n",
       ".list-inline>li {display: inline-block}\n",
       ".list-inline>li:not(:last-child)::after {content: \"\\00b7\"; padding: 0 .5ex}\n",
       "</style>\n",
       "<ol class=list-inline><li>9</li><li>6</li><li>10</li><li>12</li><li>3</li><li>4</li><li>5</li><li>8</li><li>11</li><li>2</li><li>7</li><li>1</li></ol>\n"
      ],
      "text/latex": [
       "\\begin{enumerate*}\n",
       "\\item 9\n",
       "\\item 6\n",
       "\\item 10\n",
       "\\item 12\n",
       "\\item 3\n",
       "\\item 4\n",
       "\\item 5\n",
       "\\item 8\n",
       "\\item 11\n",
       "\\item 2\n",
       "\\item 7\n",
       "\\item 1\n",
       "\\end{enumerate*}\n"
      ],
      "text/markdown": [
       "1. 9\n",
       "2. 6\n",
       "3. 10\n",
       "4. 12\n",
       "5. 3\n",
       "6. 4\n",
       "7. 5\n",
       "8. 8\n",
       "9. 11\n",
       "10. 2\n",
       "11. 7\n",
       "12. 1\n",
       "\n",
       "\n"
      ],
      "text/plain": [
       " [1]  9  6 10 12  3  4  5  8 11  2  7  1"
      ]
     },
     "metadata": {},
     "output_type": "display_data"
    }
   ],
   "source": [
    "order(price)"
   ]
  },
  {
   "cell_type": "code",
   "execution_count": 120,
   "id": "a95b3357-7fe9-4e73-9044-0997dd814a13",
   "metadata": {},
   "outputs": [
    {
     "data": {
      "text/html": [
       "<style>\n",
       ".list-inline {list-style: none; margin:0; padding: 0}\n",
       ".list-inline>li {display: inline-block}\n",
       ".list-inline>li:not(:last-child)::after {content: \"\\00b7\"; padding: 0 .5ex}\n",
       "</style>\n",
       "<ol class=list-inline><li>'Ascot'</li><li>'Windsor'</li><li>'Sunninghill'</li><li>'Warfield'</li><li>'Maidenhead'</li><li>'Bagshot'</li><li>'Camberley'</li><li>'Bracknell'</li><li>'Newbury'</li><li>'Winkfield'</li><li>'Staines'</li><li>'Reading'</li></ol>\n"
      ],
      "text/latex": [
       "\\begin{enumerate*}\n",
       "\\item 'Ascot'\n",
       "\\item 'Windsor'\n",
       "\\item 'Sunninghill'\n",
       "\\item 'Warfield'\n",
       "\\item 'Maidenhead'\n",
       "\\item 'Bagshot'\n",
       "\\item 'Camberley'\n",
       "\\item 'Bracknell'\n",
       "\\item 'Newbury'\n",
       "\\item 'Winkfield'\n",
       "\\item 'Staines'\n",
       "\\item 'Reading'\n",
       "\\end{enumerate*}\n"
      ],
      "text/markdown": [
       "1. 'Ascot'\n",
       "2. 'Windsor'\n",
       "3. 'Sunninghill'\n",
       "4. 'Warfield'\n",
       "5. 'Maidenhead'\n",
       "6. 'Bagshot'\n",
       "7. 'Camberley'\n",
       "8. 'Bracknell'\n",
       "9. 'Newbury'\n",
       "10. 'Winkfield'\n",
       "11. 'Staines'\n",
       "12. 'Reading'\n",
       "\n",
       "\n"
      ],
      "text/plain": [
       " [1] \"Ascot\"       \"Windsor\"     \"Sunninghill\" \"Warfield\"    \"Maidenhead\" \n",
       " [6] \"Bagshot\"     \"Camberley\"   \"Bracknell\"   \"Newbury\"     \"Winkfield\"  \n",
       "[11] \"Staines\"     \"Reading\"    "
      ]
     },
     "metadata": {},
     "output_type": "display_data"
    }
   ],
   "source": [
    "location[rev(order(price))]"
   ]
  },
  {
   "cell_type": "markdown",
   "id": "85ba6cc7-92e1-4799-8822-ff541ab85caa",
   "metadata": {},
   "source": [
    "### unique(), duplicated()"
   ]
  },
  {
   "cell_type": "code",
   "execution_count": 121,
   "id": "23edab84-5b1e-4b0d-89c7-7d356fe83241",
   "metadata": {},
   "outputs": [],
   "source": [
    "names <- c(\"Williams\",\"Smith\",\"Jones\",\"Williams\",\"Jones\",\"Williams\")"
   ]
  },
  {
   "cell_type": "code",
   "execution_count": 122,
   "id": "25de9e8b-56b1-4869-a23d-6a4acb0e1b26",
   "metadata": {},
   "outputs": [
    {
     "data": {
      "text/plain": [
       "names\n",
       "   Jones    Smith Williams \n",
       "       2        1        3 "
      ]
     },
     "metadata": {},
     "output_type": "display_data"
    }
   ],
   "source": [
    "table(names) # 빈도 계산"
   ]
  },
  {
   "cell_type": "code",
   "execution_count": 123,
   "id": "b49fc1c0-11a6-4693-9c14-f4b83fadc6ea",
   "metadata": {},
   "outputs": [
    {
     "data": {
      "text/html": [
       "<style>\n",
       ".list-inline {list-style: none; margin:0; padding: 0}\n",
       ".list-inline>li {display: inline-block}\n",
       ".list-inline>li:not(:last-child)::after {content: \"\\00b7\"; padding: 0 .5ex}\n",
       "</style>\n",
       "<ol class=list-inline><li>'Williams'</li><li>'Smith'</li><li>'Jones'</li></ol>\n"
      ],
      "text/latex": [
       "\\begin{enumerate*}\n",
       "\\item 'Williams'\n",
       "\\item 'Smith'\n",
       "\\item 'Jones'\n",
       "\\end{enumerate*}\n"
      ],
      "text/markdown": [
       "1. 'Williams'\n",
       "2. 'Smith'\n",
       "3. 'Jones'\n",
       "\n",
       "\n"
      ],
      "text/plain": [
       "[1] \"Williams\" \"Smith\"    \"Jones\"   "
      ]
     },
     "metadata": {},
     "output_type": "display_data"
    }
   ],
   "source": [
    "unique(names) # 중복되지 않은 이름"
   ]
  },
  {
   "cell_type": "code",
   "execution_count": 124,
   "id": "01afc41f-dc2d-48dc-9429-3e146aff31b5",
   "metadata": {},
   "outputs": [
    {
     "data": {
      "text/html": [
       "<style>\n",
       ".list-inline {list-style: none; margin:0; padding: 0}\n",
       ".list-inline>li {display: inline-block}\n",
       ".list-inline>li:not(:last-child)::after {content: \"\\00b7\"; padding: 0 .5ex}\n",
       "</style>\n",
       "<ol class=list-inline><li>FALSE</li><li>FALSE</li><li>FALSE</li><li>TRUE</li><li>TRUE</li><li>TRUE</li></ol>\n"
      ],
      "text/latex": [
       "\\begin{enumerate*}\n",
       "\\item FALSE\n",
       "\\item FALSE\n",
       "\\item FALSE\n",
       "\\item TRUE\n",
       "\\item TRUE\n",
       "\\item TRUE\n",
       "\\end{enumerate*}\n"
      ],
      "text/markdown": [
       "1. FALSE\n",
       "2. FALSE\n",
       "3. FALSE\n",
       "4. TRUE\n",
       "5. TRUE\n",
       "6. TRUE\n",
       "\n",
       "\n"
      ],
      "text/plain": [
       "[1] FALSE FALSE FALSE  TRUE  TRUE  TRUE"
      ]
     },
     "metadata": {},
     "output_type": "display_data"
    }
   ],
   "source": [
    "duplicated(names) # 각 원소의 중복 여부"
   ]
  },
  {
   "cell_type": "code",
   "execution_count": 125,
   "id": "927402ef-4903-4a55-8169-4011abc43986",
   "metadata": {},
   "outputs": [
    {
     "data": {
      "text/html": [
       "<style>\n",
       ".list-inline {list-style: none; margin:0; padding: 0}\n",
       ".list-inline>li {display: inline-block}\n",
       ".list-inline>li:not(:last-child)::after {content: \"\\00b7\"; padding: 0 .5ex}\n",
       "</style>\n",
       "<ol class=list-inline><li>'Williams'</li><li>'Smith'</li><li>'Jones'</li></ol>\n"
      ],
      "text/latex": [
       "\\begin{enumerate*}\n",
       "\\item 'Williams'\n",
       "\\item 'Smith'\n",
       "\\item 'Jones'\n",
       "\\end{enumerate*}\n"
      ],
      "text/markdown": [
       "1. 'Williams'\n",
       "2. 'Smith'\n",
       "3. 'Jones'\n",
       "\n",
       "\n"
      ],
      "text/plain": [
       "[1] \"Williams\" \"Smith\"    \"Jones\"   "
      ]
     },
     "metadata": {},
     "output_type": "display_data"
    }
   ],
   "source": [
    "names[ !duplicated(names) ] "
   ]
  },
  {
   "cell_type": "code",
   "execution_count": 126,
   "id": "1e33c563-f8fd-43ac-997b-84025be2c30f",
   "metadata": {},
   "outputs": [],
   "source": [
    "salary <- c(42,42,48,42,42,42)"
   ]
  },
  {
   "cell_type": "code",
   "execution_count": 127,
   "id": "4a707d86-2046-46c2-bd57-315f7f95c944",
   "metadata": {},
   "outputs": [
    {
     "data": {
      "text/html": [
       "43"
      ],
      "text/latex": [
       "43"
      ],
      "text/markdown": [
       "43"
      ],
      "text/plain": [
       "[1] 43"
      ]
     },
     "metadata": {},
     "output_type": "display_data"
    }
   ],
   "source": [
    "mean(salary)"
   ]
  },
  {
   "cell_type": "code",
   "execution_count": 128,
   "id": "400b8fd4-30a0-4cb3-a20d-08ca8e0ab9c5",
   "metadata": {},
   "outputs": [
    {
     "data": {
      "text/html": [
       "<style>\n",
       ".list-inline {list-style: none; margin:0; padding: 0}\n",
       ".list-inline>li {display: inline-block}\n",
       ".list-inline>li:not(:last-child)::after {content: \"\\00b7\"; padding: 0 .5ex}\n",
       "</style>\n",
       "<ol class=list-inline><li>42</li><li>42</li><li>48</li></ol>\n"
      ],
      "text/latex": [
       "\\begin{enumerate*}\n",
       "\\item 42\n",
       "\\item 42\n",
       "\\item 48\n",
       "\\end{enumerate*}\n"
      ],
      "text/markdown": [
       "1. 42\n",
       "2. 42\n",
       "3. 48\n",
       "\n",
       "\n"
      ],
      "text/plain": [
       "[1] 42 42 48"
      ]
     },
     "metadata": {},
     "output_type": "display_data"
    }
   ],
   "source": [
    "salary[!duplicated(names)]"
   ]
  },
  {
   "cell_type": "code",
   "execution_count": 129,
   "id": "2f3c0d5a-460e-4fe0-ac83-8e2ee36c93e6",
   "metadata": {},
   "outputs": [
    {
     "data": {
      "text/html": [
       "44"
      ],
      "text/latex": [
       "44"
      ],
      "text/markdown": [
       "44"
      ],
      "text/plain": [
       "[1] 44"
      ]
     },
     "metadata": {},
     "output_type": "display_data"
    }
   ],
   "source": [
    "mean(salary[!duplicated(names)])"
   ]
  },
  {
   "cell_type": "code",
   "execution_count": 130,
   "id": "fc3dd9a7-a267-4e37-9f38-b5531031e9c5",
   "metadata": {},
   "outputs": [
    {
     "data": {
      "text/html": [
       "45"
      ],
      "text/latex": [
       "45"
      ],
      "text/markdown": [
       "45"
      ],
      "text/plain": [
       "[1] 45"
      ]
     },
     "metadata": {},
     "output_type": "display_data"
    }
   ],
   "source": [
    "mean(salary[!duplicated(salary)])"
   ]
  },
  {
   "cell_type": "markdown",
   "id": "12b787d2-3813-4c4f-850a-f3e2c1e6baef",
   "metadata": {},
   "source": [
    "### 벡터 안에서 연속된 값 찾기"
   ]
  },
  {
   "cell_type": "code",
   "execution_count": 131,
   "id": "e5b68357-f818-40c3-b428-57e9f28ddc69",
   "metadata": {},
   "outputs": [],
   "source": [
    "set.seed(1)\n",
    "\n",
    "poisson <- rpois(150, 0.7)    # 평균이 0.7인 포아송 분포에서 난수 발생"
   ]
  },
  {
   "cell_type": "code",
   "execution_count": 132,
   "id": "2f665635-19d4-4cfe-8018-11c476b6b17d",
   "metadata": {},
   "outputs": [
    {
     "data": {
      "text/html": [
       "<style>\n",
       ".list-inline {list-style: none; margin:0; padding: 0}\n",
       ".list-inline>li {display: inline-block}\n",
       ".list-inline>li:not(:last-child)::after {content: \"\\00b7\"; padding: 0 .5ex}\n",
       "</style>\n",
       "<ol class=list-inline><li>0</li><li>0</li><li>1</li><li>2</li><li>0</li><li>2</li><li>2</li><li>1</li><li>1</li><li>0</li><li>0</li><li>0</li><li>1</li><li>0</li><li>1</li><li>1</li><li>1</li><li>3</li><li>0</li><li>1</li><li>2</li><li>0</li><li>1</li><li>0</li><li>0</li><li>0</li><li>0</li><li>0</li><li>2</li><li>0</li><li>0</li><li>1</li><li>0</li><li>0</li><li>1</li><li>1</li><li>1</li><li>0</li><li>1</li><li>0</li><li>1</li><li>1</li><li>1</li><li>1</li><li>1</li><li>1</li><li>0</li><li>0</li><li>1</li><li>1</li><li>0</li><li>2</li><li>0</li><li>0</li><li>0</li><li>0</li><li>0</li><li>1</li><li>1</li><li>0</li><li>2</li><li>0</li><li>0</li><li>0</li><li>1</li><li>0</li><li>0</li><li>1</li><li>0</li><li>2</li><li>0</li><li>1</li><li>0</li><li>0</li><li>0</li><li>2</li><li>2</li><li>0</li><li>1</li><li>2</li><li>0</li><li>1</li><li>0</li><li>0</li><li>1</li><li>0</li><li>1</li><li>0</li><li>0</li><li>0</li><li>0</li><li>0</li><li>1</li><li>2</li><li>1</li><li>1</li><li>0</li><li>0</li><li>1</li><li>1</li><li>1</li><li>0</li><li>0</li><li>3</li><li>1</li><li>0</li><li>0</li><li>0</li><li>2</li><li>1</li><li>3</li><li>1</li><li>0</li><li>0</li><li>0</li><li>0</li><li>1</li><li>0</li><li>0</li><li>1</li><li>3</li><li>0</li><li>0</li><li>0</li><li>1</li><li>0</li><li>1</li><li>0</li><li>0</li><li>1</li><li>1</li><li>0</li><li>0</li><li>1</li><li>2</li><li>1</li><li>1</li><li>1</li><li>3</li><li>1</li><li>1</li><li>1</li><li>0</li><li>0</li><li>1</li><li>0</li><li>0</li><li>1</li><li>0</li><li>2</li></ol>\n"
      ],
      "text/latex": [
       "\\begin{enumerate*}\n",
       "\\item 0\n",
       "\\item 0\n",
       "\\item 1\n",
       "\\item 2\n",
       "\\item 0\n",
       "\\item 2\n",
       "\\item 2\n",
       "\\item 1\n",
       "\\item 1\n",
       "\\item 0\n",
       "\\item 0\n",
       "\\item 0\n",
       "\\item 1\n",
       "\\item 0\n",
       "\\item 1\n",
       "\\item 1\n",
       "\\item 1\n",
       "\\item 3\n",
       "\\item 0\n",
       "\\item 1\n",
       "\\item 2\n",
       "\\item 0\n",
       "\\item 1\n",
       "\\item 0\n",
       "\\item 0\n",
       "\\item 0\n",
       "\\item 0\n",
       "\\item 0\n",
       "\\item 2\n",
       "\\item 0\n",
       "\\item 0\n",
       "\\item 1\n",
       "\\item 0\n",
       "\\item 0\n",
       "\\item 1\n",
       "\\item 1\n",
       "\\item 1\n",
       "\\item 0\n",
       "\\item 1\n",
       "\\item 0\n",
       "\\item 1\n",
       "\\item 1\n",
       "\\item 1\n",
       "\\item 1\n",
       "\\item 1\n",
       "\\item 1\n",
       "\\item 0\n",
       "\\item 0\n",
       "\\item 1\n",
       "\\item 1\n",
       "\\item 0\n",
       "\\item 2\n",
       "\\item 0\n",
       "\\item 0\n",
       "\\item 0\n",
       "\\item 0\n",
       "\\item 0\n",
       "\\item 1\n",
       "\\item 1\n",
       "\\item 0\n",
       "\\item 2\n",
       "\\item 0\n",
       "\\item 0\n",
       "\\item 0\n",
       "\\item 1\n",
       "\\item 0\n",
       "\\item 0\n",
       "\\item 1\n",
       "\\item 0\n",
       "\\item 2\n",
       "\\item 0\n",
       "\\item 1\n",
       "\\item 0\n",
       "\\item 0\n",
       "\\item 0\n",
       "\\item 2\n",
       "\\item 2\n",
       "\\item 0\n",
       "\\item 1\n",
       "\\item 2\n",
       "\\item 0\n",
       "\\item 1\n",
       "\\item 0\n",
       "\\item 0\n",
       "\\item 1\n",
       "\\item 0\n",
       "\\item 1\n",
       "\\item 0\n",
       "\\item 0\n",
       "\\item 0\n",
       "\\item 0\n",
       "\\item 0\n",
       "\\item 1\n",
       "\\item 2\n",
       "\\item 1\n",
       "\\item 1\n",
       "\\item 0\n",
       "\\item 0\n",
       "\\item 1\n",
       "\\item 1\n",
       "\\item 1\n",
       "\\item 0\n",
       "\\item 0\n",
       "\\item 3\n",
       "\\item 1\n",
       "\\item 0\n",
       "\\item 0\n",
       "\\item 0\n",
       "\\item 2\n",
       "\\item 1\n",
       "\\item 3\n",
       "\\item 1\n",
       "\\item 0\n",
       "\\item 0\n",
       "\\item 0\n",
       "\\item 0\n",
       "\\item 1\n",
       "\\item 0\n",
       "\\item 0\n",
       "\\item 1\n",
       "\\item 3\n",
       "\\item 0\n",
       "\\item 0\n",
       "\\item 0\n",
       "\\item 1\n",
       "\\item 0\n",
       "\\item 1\n",
       "\\item 0\n",
       "\\item 0\n",
       "\\item 1\n",
       "\\item 1\n",
       "\\item 0\n",
       "\\item 0\n",
       "\\item 1\n",
       "\\item 2\n",
       "\\item 1\n",
       "\\item 1\n",
       "\\item 1\n",
       "\\item 3\n",
       "\\item 1\n",
       "\\item 1\n",
       "\\item 1\n",
       "\\item 0\n",
       "\\item 0\n",
       "\\item 1\n",
       "\\item 0\n",
       "\\item 0\n",
       "\\item 1\n",
       "\\item 0\n",
       "\\item 2\n",
       "\\end{enumerate*}\n"
      ],
      "text/markdown": [
       "1. 0\n",
       "2. 0\n",
       "3. 1\n",
       "4. 2\n",
       "5. 0\n",
       "6. 2\n",
       "7. 2\n",
       "8. 1\n",
       "9. 1\n",
       "10. 0\n",
       "11. 0\n",
       "12. 0\n",
       "13. 1\n",
       "14. 0\n",
       "15. 1\n",
       "16. 1\n",
       "17. 1\n",
       "18. 3\n",
       "19. 0\n",
       "20. 1\n",
       "21. 2\n",
       "22. 0\n",
       "23. 1\n",
       "24. 0\n",
       "25. 0\n",
       "26. 0\n",
       "27. 0\n",
       "28. 0\n",
       "29. 2\n",
       "30. 0\n",
       "31. 0\n",
       "32. 1\n",
       "33. 0\n",
       "34. 0\n",
       "35. 1\n",
       "36. 1\n",
       "37. 1\n",
       "38. 0\n",
       "39. 1\n",
       "40. 0\n",
       "41. 1\n",
       "42. 1\n",
       "43. 1\n",
       "44. 1\n",
       "45. 1\n",
       "46. 1\n",
       "47. 0\n",
       "48. 0\n",
       "49. 1\n",
       "50. 1\n",
       "51. 0\n",
       "52. 2\n",
       "53. 0\n",
       "54. 0\n",
       "55. 0\n",
       "56. 0\n",
       "57. 0\n",
       "58. 1\n",
       "59. 1\n",
       "60. 0\n",
       "61. 2\n",
       "62. 0\n",
       "63. 0\n",
       "64. 0\n",
       "65. 1\n",
       "66. 0\n",
       "67. 0\n",
       "68. 1\n",
       "69. 0\n",
       "70. 2\n",
       "71. 0\n",
       "72. 1\n",
       "73. 0\n",
       "74. 0\n",
       "75. 0\n",
       "76. 2\n",
       "77. 2\n",
       "78. 0\n",
       "79. 1\n",
       "80. 2\n",
       "81. 0\n",
       "82. 1\n",
       "83. 0\n",
       "84. 0\n",
       "85. 1\n",
       "86. 0\n",
       "87. 1\n",
       "88. 0\n",
       "89. 0\n",
       "90. 0\n",
       "91. 0\n",
       "92. 0\n",
       "93. 1\n",
       "94. 2\n",
       "95. 1\n",
       "96. 1\n",
       "97. 0\n",
       "98. 0\n",
       "99. 1\n",
       "100. 1\n",
       "101. 1\n",
       "102. 0\n",
       "103. 0\n",
       "104. 3\n",
       "105. 1\n",
       "106. 0\n",
       "107. 0\n",
       "108. 0\n",
       "109. 2\n",
       "110. 1\n",
       "111. 3\n",
       "112. 1\n",
       "113. 0\n",
       "114. 0\n",
       "115. 0\n",
       "116. 0\n",
       "117. 1\n",
       "118. 0\n",
       "119. 0\n",
       "120. 1\n",
       "121. 3\n",
       "122. 0\n",
       "123. 0\n",
       "124. 0\n",
       "125. 1\n",
       "126. 0\n",
       "127. 1\n",
       "128. 0\n",
       "129. 0\n",
       "130. 1\n",
       "131. 1\n",
       "132. 0\n",
       "133. 0\n",
       "134. 1\n",
       "135. 2\n",
       "136. 1\n",
       "137. 1\n",
       "138. 1\n",
       "139. 3\n",
       "140. 1\n",
       "141. 1\n",
       "142. 1\n",
       "143. 0\n",
       "144. 0\n",
       "145. 1\n",
       "146. 0\n",
       "147. 0\n",
       "148. 1\n",
       "149. 0\n",
       "150. 2\n",
       "\n",
       "\n"
      ],
      "text/plain": [
       "  [1] 0 0 1 2 0 2 2 1 1 0 0 0 1 0 1 1 1 3 0 1 2 0 1 0 0 0 0 0 2 0 0 1 0 0 1 1 1\n",
       " [38] 0 1 0 1 1 1 1 1 1 0 0 1 1 0 2 0 0 0 0 0 1 1 0 2 0 0 0 1 0 0 1 0 2 0 1 0 0\n",
       " [75] 0 2 2 0 1 2 0 1 0 0 1 0 1 0 0 0 0 0 1 2 1 1 0 0 1 1 1 0 0 3 1 0 0 0 2 1 3\n",
       "[112] 1 0 0 0 0 1 0 0 1 3 0 0 0 1 0 1 0 0 1 1 0 0 1 2 1 1 1 3 1 1 1 0 0 1 0 0 1\n",
       "[149] 0 2"
      ]
     },
     "metadata": {},
     "output_type": "display_data"
    }
   ],
   "source": [
    "poisson"
   ]
  },
  {
   "cell_type": "code",
   "execution_count": 133,
   "id": "2a100c78-ef71-4e2a-8b98-d1e2675cd397",
   "metadata": {},
   "outputs": [
    {
     "data": {
      "text/plain": [
       "poisson\n",
       " 0  1  2  3 \n",
       "75 55 15  5 "
      ]
     },
     "metadata": {},
     "output_type": "display_data"
    }
   ],
   "source": [
    "table(poisson)"
   ]
  },
  {
   "cell_type": "code",
   "execution_count": 134,
   "id": "5a440300-c094-44bf-9c9c-79f1666cf6e4",
   "metadata": {},
   "outputs": [
    {
     "data": {
      "text/plain": [
       "Run Length Encoding\n",
       "  lengths: int [1:90] 2 1 1 1 2 2 3 1 1 3 ...\n",
       "  values : int [1:90] 0 1 2 0 2 1 0 1 0 1 ..."
      ]
     },
     "metadata": {},
     "output_type": "display_data"
    }
   ],
   "source": [
    "rle(poisson)"
   ]
  },
  {
   "cell_type": "code",
   "execution_count": 135,
   "id": "cc97218e-4cbf-499d-a692-229a44a767b7",
   "metadata": {},
   "outputs": [
    {
     "data": {
      "text/html": [
       "6"
      ],
      "text/latex": [
       "6"
      ],
      "text/markdown": [
       "6"
      ],
      "text/plain": [
       "[1] 6"
      ]
     },
     "metadata": {},
     "output_type": "display_data"
    }
   ],
   "source": [
    "max(rle(poisson)[[1]])"
   ]
  },
  {
   "cell_type": "code",
   "execution_count": 136,
   "id": "a45750dc-6a46-4cbf-8e2b-d3cccac1f968",
   "metadata": {},
   "outputs": [
    {
     "data": {
      "text/html": [
       "26"
      ],
      "text/latex": [
       "26"
      ],
      "text/markdown": [
       "26"
      ],
      "text/plain": [
       "[1] 26"
      ]
     },
     "metadata": {},
     "output_type": "display_data"
    }
   ],
   "source": [
    "which(rle(poisson)[[1]] == 6)"
   ]
  },
  {
   "cell_type": "code",
   "execution_count": 137,
   "id": "4e549eee-1e0f-4e03-814e-ea79218e28d8",
   "metadata": {},
   "outputs": [],
   "source": [
    "run_and_value = function(x){\n",
    "    a = max(rle(x)[[1]])\n",
    "    b = rle(x)[[2]][which(rle(x)[[1]]== a)]\n",
    "    cat('length = ', a, 'value = ', b, '\\n')\n",
    "}"
   ]
  },
  {
   "cell_type": "code",
   "execution_count": 138,
   "id": "bb308995-a8ce-4d18-bdf8-19f932acd892",
   "metadata": {},
   "outputs": [
    {
     "name": "stdout",
     "output_type": "stream",
     "text": [
      "length =  6 value =  1 \n"
     ]
    }
   ],
   "source": [
    "run_and_value(poisson)"
   ]
  },
  {
   "cell_type": "code",
   "execution_count": 139,
   "id": "cabc2da2-224c-44d2-95ba-86e1d90676d1",
   "metadata": {},
   "outputs": [],
   "source": [
    "n1 = 25\n",
    "n2 = 30\n",
    "\n",
    "y = c(rep(1, n1), rep(0, n2))"
   ]
  },
  {
   "cell_type": "code",
   "execution_count": 140,
   "id": "52b17cef-df87-4428-8a21-68cc135315d1",
   "metadata": {},
   "outputs": [
    {
     "data": {
      "text/html": [
       "<style>\n",
       ".list-inline {list-style: none; margin:0; padding: 0}\n",
       ".list-inline>li {display: inline-block}\n",
       ".list-inline>li:not(:last-child)::after {content: \"\\00b7\"; padding: 0 .5ex}\n",
       "</style>\n",
       "<ol class=list-inline><li>1</li><li>1</li><li>1</li><li>1</li><li>1</li><li>1</li><li>1</li><li>1</li><li>1</li><li>1</li><li>1</li><li>1</li><li>1</li><li>1</li><li>1</li><li>1</li><li>1</li><li>1</li><li>1</li><li>1</li><li>1</li><li>1</li><li>1</li><li>1</li><li>1</li><li>0</li><li>0</li><li>0</li><li>0</li><li>0</li><li>0</li><li>0</li><li>0</li><li>0</li><li>0</li><li>0</li><li>0</li><li>0</li><li>0</li><li>0</li><li>0</li><li>0</li><li>0</li><li>0</li><li>0</li><li>0</li><li>0</li><li>0</li><li>0</li><li>0</li><li>0</li><li>0</li><li>0</li><li>0</li><li>0</li></ol>\n"
      ],
      "text/latex": [
       "\\begin{enumerate*}\n",
       "\\item 1\n",
       "\\item 1\n",
       "\\item 1\n",
       "\\item 1\n",
       "\\item 1\n",
       "\\item 1\n",
       "\\item 1\n",
       "\\item 1\n",
       "\\item 1\n",
       "\\item 1\n",
       "\\item 1\n",
       "\\item 1\n",
       "\\item 1\n",
       "\\item 1\n",
       "\\item 1\n",
       "\\item 1\n",
       "\\item 1\n",
       "\\item 1\n",
       "\\item 1\n",
       "\\item 1\n",
       "\\item 1\n",
       "\\item 1\n",
       "\\item 1\n",
       "\\item 1\n",
       "\\item 1\n",
       "\\item 0\n",
       "\\item 0\n",
       "\\item 0\n",
       "\\item 0\n",
       "\\item 0\n",
       "\\item 0\n",
       "\\item 0\n",
       "\\item 0\n",
       "\\item 0\n",
       "\\item 0\n",
       "\\item 0\n",
       "\\item 0\n",
       "\\item 0\n",
       "\\item 0\n",
       "\\item 0\n",
       "\\item 0\n",
       "\\item 0\n",
       "\\item 0\n",
       "\\item 0\n",
       "\\item 0\n",
       "\\item 0\n",
       "\\item 0\n",
       "\\item 0\n",
       "\\item 0\n",
       "\\item 0\n",
       "\\item 0\n",
       "\\item 0\n",
       "\\item 0\n",
       "\\item 0\n",
       "\\item 0\n",
       "\\end{enumerate*}\n"
      ],
      "text/markdown": [
       "1. 1\n",
       "2. 1\n",
       "3. 1\n",
       "4. 1\n",
       "5. 1\n",
       "6. 1\n",
       "7. 1\n",
       "8. 1\n",
       "9. 1\n",
       "10. 1\n",
       "11. 1\n",
       "12. 1\n",
       "13. 1\n",
       "14. 1\n",
       "15. 1\n",
       "16. 1\n",
       "17. 1\n",
       "18. 1\n",
       "19. 1\n",
       "20. 1\n",
       "21. 1\n",
       "22. 1\n",
       "23. 1\n",
       "24. 1\n",
       "25. 1\n",
       "26. 0\n",
       "27. 0\n",
       "28. 0\n",
       "29. 0\n",
       "30. 0\n",
       "31. 0\n",
       "32. 0\n",
       "33. 0\n",
       "34. 0\n",
       "35. 0\n",
       "36. 0\n",
       "37. 0\n",
       "38. 0\n",
       "39. 0\n",
       "40. 0\n",
       "41. 0\n",
       "42. 0\n",
       "43. 0\n",
       "44. 0\n",
       "45. 0\n",
       "46. 0\n",
       "47. 0\n",
       "48. 0\n",
       "49. 0\n",
       "50. 0\n",
       "51. 0\n",
       "52. 0\n",
       "53. 0\n",
       "54. 0\n",
       "55. 0\n",
       "\n",
       "\n"
      ],
      "text/plain": [
       " [1] 1 1 1 1 1 1 1 1 1 1 1 1 1 1 1 1 1 1 1 1 1 1 1 1 1 0 0 0 0 0 0 0 0 0 0 0 0 0\n",
       "[39] 0 0 0 0 0 0 0 0 0 0 0 0 0 0 0 0 0"
      ]
     },
     "metadata": {},
     "output_type": "display_data"
    }
   ],
   "source": [
    "y"
   ]
  },
  {
   "cell_type": "code",
   "execution_count": 141,
   "id": "fc64311b-d602-4d69-8bd4-be6c24f8e681",
   "metadata": {},
   "outputs": [
    {
     "data": {
      "text/html": [
       "<style>\n",
       ".list-inline {list-style: none; margin:0; padding: 0}\n",
       ".list-inline>li {display: inline-block}\n",
       ".list-inline>li:not(:last-child)::after {content: \"\\00b7\"; padding: 0 .5ex}\n",
       "</style>\n",
       "<ol class=list-inline><li>1</li><li>0</li><li>1</li><li>0</li><li>1</li><li>0</li><li>1</li><li>1</li><li>0</li><li>1</li><li>0</li><li>0</li><li>1</li><li>1</li><li>1</li><li>1</li><li>0</li><li>0</li><li>1</li><li>0</li><li>0</li><li>0</li><li>0</li><li>1</li><li>1</li><li>1</li><li>0</li><li>0</li><li>0</li><li>0</li><li>0</li><li>0</li><li>1</li><li>0</li><li>1</li><li>0</li><li>1</li><li>0</li><li>0</li><li>1</li><li>0</li><li>0</li><li>1</li><li>1</li><li>1</li><li>1</li><li>0</li><li>0</li><li>0</li><li>1</li><li>0</li><li>1</li><li>0</li><li>0</li><li>1</li></ol>\n"
      ],
      "text/latex": [
       "\\begin{enumerate*}\n",
       "\\item 1\n",
       "\\item 0\n",
       "\\item 1\n",
       "\\item 0\n",
       "\\item 1\n",
       "\\item 0\n",
       "\\item 1\n",
       "\\item 1\n",
       "\\item 0\n",
       "\\item 1\n",
       "\\item 0\n",
       "\\item 0\n",
       "\\item 1\n",
       "\\item 1\n",
       "\\item 1\n",
       "\\item 1\n",
       "\\item 0\n",
       "\\item 0\n",
       "\\item 1\n",
       "\\item 0\n",
       "\\item 0\n",
       "\\item 0\n",
       "\\item 0\n",
       "\\item 1\n",
       "\\item 1\n",
       "\\item 1\n",
       "\\item 0\n",
       "\\item 0\n",
       "\\item 0\n",
       "\\item 0\n",
       "\\item 0\n",
       "\\item 0\n",
       "\\item 1\n",
       "\\item 0\n",
       "\\item 1\n",
       "\\item 0\n",
       "\\item 1\n",
       "\\item 0\n",
       "\\item 0\n",
       "\\item 1\n",
       "\\item 0\n",
       "\\item 0\n",
       "\\item 1\n",
       "\\item 1\n",
       "\\item 1\n",
       "\\item 1\n",
       "\\item 0\n",
       "\\item 0\n",
       "\\item 0\n",
       "\\item 1\n",
       "\\item 0\n",
       "\\item 1\n",
       "\\item 0\n",
       "\\item 0\n",
       "\\item 1\n",
       "\\end{enumerate*}\n"
      ],
      "text/markdown": [
       "1. 1\n",
       "2. 0\n",
       "3. 1\n",
       "4. 0\n",
       "5. 1\n",
       "6. 0\n",
       "7. 1\n",
       "8. 1\n",
       "9. 0\n",
       "10. 1\n",
       "11. 0\n",
       "12. 0\n",
       "13. 1\n",
       "14. 1\n",
       "15. 1\n",
       "16. 1\n",
       "17. 0\n",
       "18. 0\n",
       "19. 1\n",
       "20. 0\n",
       "21. 0\n",
       "22. 0\n",
       "23. 0\n",
       "24. 1\n",
       "25. 1\n",
       "26. 1\n",
       "27. 0\n",
       "28. 0\n",
       "29. 0\n",
       "30. 0\n",
       "31. 0\n",
       "32. 0\n",
       "33. 1\n",
       "34. 0\n",
       "35. 1\n",
       "36. 0\n",
       "37. 1\n",
       "38. 0\n",
       "39. 0\n",
       "40. 1\n",
       "41. 0\n",
       "42. 0\n",
       "43. 1\n",
       "44. 1\n",
       "45. 1\n",
       "46. 1\n",
       "47. 0\n",
       "48. 0\n",
       "49. 0\n",
       "50. 1\n",
       "51. 0\n",
       "52. 1\n",
       "53. 0\n",
       "54. 0\n",
       "55. 1\n",
       "\n",
       "\n"
      ],
      "text/plain": [
       " [1] 1 0 1 0 1 0 1 1 0 1 0 0 1 1 1 1 0 0 1 0 0 0 0 1 1 1 0 0 0 0 0 0 1 0 1 0 1 0\n",
       "[39] 0 1 0 0 1 1 1 1 0 0 0 1 0 1 0 0 1"
      ]
     },
     "metadata": {},
     "output_type": "display_data"
    }
   ],
   "source": [
    "set.seed(1)\n",
    "sample(y)"
   ]
  },
  {
   "cell_type": "code",
   "execution_count": 142,
   "id": "0f66bd77-69bf-4f90-946a-5fb0b1bdc3e6",
   "metadata": {},
   "outputs": [
    {
     "data": {
      "text/html": [
       "<style>\n",
       ".list-inline {list-style: none; margin:0; padding: 0}\n",
       ".list-inline>li {display: inline-block}\n",
       ".list-inline>li:not(:last-child)::after {content: \"\\00b7\"; padding: 0 .5ex}\n",
       "</style>\n",
       "<ol class=list-inline><li>0</li><li>0</li><li>0</li><li>0</li><li>0</li><li>0</li><li>0</li><li>0</li><li>0</li><li>0</li><li>0</li><li>0</li><li>0</li><li>0</li><li>0</li><li>0</li><li>0</li><li>0</li><li>0</li><li>0</li><li>0</li><li>0</li><li>0</li><li>0</li><li>0</li><li>0</li><li>0</li><li>0</li><li>0</li><li>0</li><li>0</li><li>0</li><li>0</li><li>0</li><li>0</li><li>0</li><li>0</li><li>0</li><li>0</li><li>0</li><li>0</li><li>0</li><li>0</li><li>0</li><li>0</li><li>0</li><li>0</li><li>0</li><li>0</li><li>0</li><li>0</li><li>0</li><li>0</li><li>0</li><li>0</li><li>0</li><li>0</li><li>0</li><li>0</li><li>0</li><li>0</li><li>0</li><li>0</li><li>0</li><li>0</li><li>0</li><li>0</li><li>0</li><li>0</li><li>0</li><li>0</li><li>0</li><li>0</li><li>0</li><li>0</li><li>0</li><li>0</li><li>0</li><li>0</li><li>0</li><li>0</li><li>0</li><li>0</li><li>0</li><li>0</li><li>0</li><li>0</li><li>0</li><li>0</li><li>0</li><li>0</li><li>0</li><li>0</li><li>0</li><li>0</li><li>0</li><li>0</li><li>0</li><li>0</li><li>0</li><li>0</li><li>0</li><li>0</li><li>0</li><li>0</li><li>0</li><li>0</li><li>0</li><li>0</li><li>0</li><li>0</li><li>0</li><li>0</li><li>0</li><li>0</li><li>0</li><li>0</li><li>0</li><li>0</li><li>0</li><li>0</li><li>0</li><li>0</li><li>0</li><li>0</li><li>0</li><li>0</li><li>0</li><li>0</li><li>0</li><li>0</li><li>0</li><li>0</li><li>0</li><li>0</li><li>0</li><li>0</li><li>0</li><li>0</li><li>0</li><li>0</li><li>0</li><li>0</li><li>0</li><li>0</li><li>0</li><li>0</li><li>0</li><li>0</li><li>0</li><li>0</li><li>0</li><li>0</li><li>0</li><li>0</li><li>0</li><li>0</li><li>0</li><li>0</li><li>0</li><li>0</li><li>0</li><li>0</li><li>0</li><li>0</li><li>0</li><li>0</li><li>0</li><li>0</li><li>0</li><li>0</li><li>0</li><li>0</li><li>0</li><li>0</li><li>0</li><li>0</li><li>0</li><li>0</li><li>0</li><li>0</li><li>0</li><li>0</li><li>0</li><li>0</li><li>0</li><li>0</li><li>0</li><li>0</li><li>0</li><li>0</li><li>0</li><li>0</li><li>0</li><li>0</li><li>0</li><li>0</li><li>0</li><li>0</li><li>0</li><li>⋯</li><li>0</li><li>0</li><li>0</li><li>0</li><li>0</li><li>0</li><li>0</li><li>0</li><li>0</li><li>0</li><li>0</li><li>0</li><li>0</li><li>0</li><li>0</li><li>0</li><li>0</li><li>0</li><li>0</li><li>0</li><li>0</li><li>0</li><li>0</li><li>0</li><li>0</li><li>0</li><li>0</li><li>0</li><li>0</li><li>0</li><li>0</li><li>0</li><li>0</li><li>0</li><li>0</li><li>0</li><li>0</li><li>0</li><li>0</li><li>0</li><li>0</li><li>0</li><li>0</li><li>0</li><li>0</li><li>0</li><li>0</li><li>0</li><li>0</li><li>0</li><li>0</li><li>0</li><li>0</li><li>0</li><li>0</li><li>0</li><li>0</li><li>0</li><li>0</li><li>0</li><li>0</li><li>0</li><li>0</li><li>0</li><li>0</li><li>0</li><li>0</li><li>0</li><li>0</li><li>0</li><li>0</li><li>0</li><li>0</li><li>0</li><li>0</li><li>0</li><li>0</li><li>0</li><li>0</li><li>0</li><li>0</li><li>0</li><li>0</li><li>0</li><li>0</li><li>0</li><li>0</li><li>0</li><li>0</li><li>0</li><li>0</li><li>0</li><li>0</li><li>0</li><li>0</li><li>0</li><li>0</li><li>0</li><li>0</li><li>0</li><li>0</li><li>0</li><li>0</li><li>0</li><li>0</li><li>0</li><li>0</li><li>0</li><li>0</li><li>0</li><li>0</li><li>0</li><li>0</li><li>0</li><li>0</li><li>0</li><li>0</li><li>0</li><li>0</li><li>0</li><li>0</li><li>0</li><li>0</li><li>0</li><li>0</li><li>0</li><li>0</li><li>0</li><li>0</li><li>0</li><li>0</li><li>0</li><li>0</li><li>0</li><li>0</li><li>0</li><li>0</li><li>0</li><li>0</li><li>0</li><li>0</li><li>0</li><li>0</li><li>0</li><li>0</li><li>0</li><li>0</li><li>0</li><li>0</li><li>0</li><li>0</li><li>0</li><li>0</li><li>0</li><li>0</li><li>0</li><li>0</li><li>0</li><li>0</li><li>0</li><li>0</li><li>0</li><li>0</li><li>0</li><li>0</li><li>0</li><li>0</li><li>0</li><li>0</li><li>0</li><li>0</li><li>0</li><li>0</li><li>0</li><li>0</li><li>0</li><li>0</li><li>0</li><li>0</li><li>0</li><li>0</li><li>0</li><li>0</li><li>0</li><li>0</li><li>0</li><li>0</li><li>0</li><li>0</li><li>0</li><li>0</li><li>0</li><li>0</li><li>0</li><li>0</li><li>0</li><li>0</li><li>0</li><li>0</li><li>0</li></ol>\n"
      ],
      "text/latex": [
       "\\begin{enumerate*}\n",
       "\\item 0\n",
       "\\item 0\n",
       "\\item 0\n",
       "\\item 0\n",
       "\\item 0\n",
       "\\item 0\n",
       "\\item 0\n",
       "\\item 0\n",
       "\\item 0\n",
       "\\item 0\n",
       "\\item 0\n",
       "\\item 0\n",
       "\\item 0\n",
       "\\item 0\n",
       "\\item 0\n",
       "\\item 0\n",
       "\\item 0\n",
       "\\item 0\n",
       "\\item 0\n",
       "\\item 0\n",
       "\\item 0\n",
       "\\item 0\n",
       "\\item 0\n",
       "\\item 0\n",
       "\\item 0\n",
       "\\item 0\n",
       "\\item 0\n",
       "\\item 0\n",
       "\\item 0\n",
       "\\item 0\n",
       "\\item 0\n",
       "\\item 0\n",
       "\\item 0\n",
       "\\item 0\n",
       "\\item 0\n",
       "\\item 0\n",
       "\\item 0\n",
       "\\item 0\n",
       "\\item 0\n",
       "\\item 0\n",
       "\\item 0\n",
       "\\item 0\n",
       "\\item 0\n",
       "\\item 0\n",
       "\\item 0\n",
       "\\item 0\n",
       "\\item 0\n",
       "\\item 0\n",
       "\\item 0\n",
       "\\item 0\n",
       "\\item 0\n",
       "\\item 0\n",
       "\\item 0\n",
       "\\item 0\n",
       "\\item 0\n",
       "\\item 0\n",
       "\\item 0\n",
       "\\item 0\n",
       "\\item 0\n",
       "\\item 0\n",
       "\\item 0\n",
       "\\item 0\n",
       "\\item 0\n",
       "\\item 0\n",
       "\\item 0\n",
       "\\item 0\n",
       "\\item 0\n",
       "\\item 0\n",
       "\\item 0\n",
       "\\item 0\n",
       "\\item 0\n",
       "\\item 0\n",
       "\\item 0\n",
       "\\item 0\n",
       "\\item 0\n",
       "\\item 0\n",
       "\\item 0\n",
       "\\item 0\n",
       "\\item 0\n",
       "\\item 0\n",
       "\\item 0\n",
       "\\item 0\n",
       "\\item 0\n",
       "\\item 0\n",
       "\\item 0\n",
       "\\item 0\n",
       "\\item 0\n",
       "\\item 0\n",
       "\\item 0\n",
       "\\item 0\n",
       "\\item 0\n",
       "\\item 0\n",
       "\\item 0\n",
       "\\item 0\n",
       "\\item 0\n",
       "\\item 0\n",
       "\\item 0\n",
       "\\item 0\n",
       "\\item 0\n",
       "\\item 0\n",
       "\\item 0\n",
       "\\item 0\n",
       "\\item 0\n",
       "\\item 0\n",
       "\\item 0\n",
       "\\item 0\n",
       "\\item 0\n",
       "\\item 0\n",
       "\\item 0\n",
       "\\item 0\n",
       "\\item 0\n",
       "\\item 0\n",
       "\\item 0\n",
       "\\item 0\n",
       "\\item 0\n",
       "\\item 0\n",
       "\\item 0\n",
       "\\item 0\n",
       "\\item 0\n",
       "\\item 0\n",
       "\\item 0\n",
       "\\item 0\n",
       "\\item 0\n",
       "\\item 0\n",
       "\\item 0\n",
       "\\item 0\n",
       "\\item 0\n",
       "\\item 0\n",
       "\\item 0\n",
       "\\item 0\n",
       "\\item 0\n",
       "\\item 0\n",
       "\\item 0\n",
       "\\item 0\n",
       "\\item 0\n",
       "\\item 0\n",
       "\\item 0\n",
       "\\item 0\n",
       "\\item 0\n",
       "\\item 0\n",
       "\\item 0\n",
       "\\item 0\n",
       "\\item 0\n",
       "\\item 0\n",
       "\\item 0\n",
       "\\item 0\n",
       "\\item 0\n",
       "\\item 0\n",
       "\\item 0\n",
       "\\item 0\n",
       "\\item 0\n",
       "\\item 0\n",
       "\\item 0\n",
       "\\item 0\n",
       "\\item 0\n",
       "\\item 0\n",
       "\\item 0\n",
       "\\item 0\n",
       "\\item 0\n",
       "\\item 0\n",
       "\\item 0\n",
       "\\item 0\n",
       "\\item 0\n",
       "\\item 0\n",
       "\\item 0\n",
       "\\item 0\n",
       "\\item 0\n",
       "\\item 0\n",
       "\\item 0\n",
       "\\item 0\n",
       "\\item 0\n",
       "\\item 0\n",
       "\\item 0\n",
       "\\item 0\n",
       "\\item 0\n",
       "\\item 0\n",
       "\\item 0\n",
       "\\item 0\n",
       "\\item 0\n",
       "\\item 0\n",
       "\\item 0\n",
       "\\item 0\n",
       "\\item 0\n",
       "\\item 0\n",
       "\\item 0\n",
       "\\item 0\n",
       "\\item 0\n",
       "\\item 0\n",
       "\\item 0\n",
       "\\item 0\n",
       "\\item 0\n",
       "\\item 0\n",
       "\\item 0\n",
       "\\item 0\n",
       "\\item 0\n",
       "\\item 0\n",
       "\\item 0\n",
       "\\item 0\n",
       "\\item 0\n",
       "\\item 0\n",
       "\\item ⋯\n",
       "\\item 0\n",
       "\\item 0\n",
       "\\item 0\n",
       "\\item 0\n",
       "\\item 0\n",
       "\\item 0\n",
       "\\item 0\n",
       "\\item 0\n",
       "\\item 0\n",
       "\\item 0\n",
       "\\item 0\n",
       "\\item 0\n",
       "\\item 0\n",
       "\\item 0\n",
       "\\item 0\n",
       "\\item 0\n",
       "\\item 0\n",
       "\\item 0\n",
       "\\item 0\n",
       "\\item 0\n",
       "\\item 0\n",
       "\\item 0\n",
       "\\item 0\n",
       "\\item 0\n",
       "\\item 0\n",
       "\\item 0\n",
       "\\item 0\n",
       "\\item 0\n",
       "\\item 0\n",
       "\\item 0\n",
       "\\item 0\n",
       "\\item 0\n",
       "\\item 0\n",
       "\\item 0\n",
       "\\item 0\n",
       "\\item 0\n",
       "\\item 0\n",
       "\\item 0\n",
       "\\item 0\n",
       "\\item 0\n",
       "\\item 0\n",
       "\\item 0\n",
       "\\item 0\n",
       "\\item 0\n",
       "\\item 0\n",
       "\\item 0\n",
       "\\item 0\n",
       "\\item 0\n",
       "\\item 0\n",
       "\\item 0\n",
       "\\item 0\n",
       "\\item 0\n",
       "\\item 0\n",
       "\\item 0\n",
       "\\item 0\n",
       "\\item 0\n",
       "\\item 0\n",
       "\\item 0\n",
       "\\item 0\n",
       "\\item 0\n",
       "\\item 0\n",
       "\\item 0\n",
       "\\item 0\n",
       "\\item 0\n",
       "\\item 0\n",
       "\\item 0\n",
       "\\item 0\n",
       "\\item 0\n",
       "\\item 0\n",
       "\\item 0\n",
       "\\item 0\n",
       "\\item 0\n",
       "\\item 0\n",
       "\\item 0\n",
       "\\item 0\n",
       "\\item 0\n",
       "\\item 0\n",
       "\\item 0\n",
       "\\item 0\n",
       "\\item 0\n",
       "\\item 0\n",
       "\\item 0\n",
       "\\item 0\n",
       "\\item 0\n",
       "\\item 0\n",
       "\\item 0\n",
       "\\item 0\n",
       "\\item 0\n",
       "\\item 0\n",
       "\\item 0\n",
       "\\item 0\n",
       "\\item 0\n",
       "\\item 0\n",
       "\\item 0\n",
       "\\item 0\n",
       "\\item 0\n",
       "\\item 0\n",
       "\\item 0\n",
       "\\item 0\n",
       "\\item 0\n",
       "\\item 0\n",
       "\\item 0\n",
       "\\item 0\n",
       "\\item 0\n",
       "\\item 0\n",
       "\\item 0\n",
       "\\item 0\n",
       "\\item 0\n",
       "\\item 0\n",
       "\\item 0\n",
       "\\item 0\n",
       "\\item 0\n",
       "\\item 0\n",
       "\\item 0\n",
       "\\item 0\n",
       "\\item 0\n",
       "\\item 0\n",
       "\\item 0\n",
       "\\item 0\n",
       "\\item 0\n",
       "\\item 0\n",
       "\\item 0\n",
       "\\item 0\n",
       "\\item 0\n",
       "\\item 0\n",
       "\\item 0\n",
       "\\item 0\n",
       "\\item 0\n",
       "\\item 0\n",
       "\\item 0\n",
       "\\item 0\n",
       "\\item 0\n",
       "\\item 0\n",
       "\\item 0\n",
       "\\item 0\n",
       "\\item 0\n",
       "\\item 0\n",
       "\\item 0\n",
       "\\item 0\n",
       "\\item 0\n",
       "\\item 0\n",
       "\\item 0\n",
       "\\item 0\n",
       "\\item 0\n",
       "\\item 0\n",
       "\\item 0\n",
       "\\item 0\n",
       "\\item 0\n",
       "\\item 0\n",
       "\\item 0\n",
       "\\item 0\n",
       "\\item 0\n",
       "\\item 0\n",
       "\\item 0\n",
       "\\item 0\n",
       "\\item 0\n",
       "\\item 0\n",
       "\\item 0\n",
       "\\item 0\n",
       "\\item 0\n",
       "\\item 0\n",
       "\\item 0\n",
       "\\item 0\n",
       "\\item 0\n",
       "\\item 0\n",
       "\\item 0\n",
       "\\item 0\n",
       "\\item 0\n",
       "\\item 0\n",
       "\\item 0\n",
       "\\item 0\n",
       "\\item 0\n",
       "\\item 0\n",
       "\\item 0\n",
       "\\item 0\n",
       "\\item 0\n",
       "\\item 0\n",
       "\\item 0\n",
       "\\item 0\n",
       "\\item 0\n",
       "\\item 0\n",
       "\\item 0\n",
       "\\item 0\n",
       "\\item 0\n",
       "\\item 0\n",
       "\\item 0\n",
       "\\item 0\n",
       "\\item 0\n",
       "\\item 0\n",
       "\\item 0\n",
       "\\item 0\n",
       "\\item 0\n",
       "\\item 0\n",
       "\\item 0\n",
       "\\item 0\n",
       "\\item 0\n",
       "\\item 0\n",
       "\\item 0\n",
       "\\item 0\n",
       "\\item 0\n",
       "\\end{enumerate*}\n"
      ],
      "text/markdown": [
       "1. 0\n",
       "2. 0\n",
       "3. 0\n",
       "4. 0\n",
       "5. 0\n",
       "6. 0\n",
       "7. 0\n",
       "8. 0\n",
       "9. 0\n",
       "10. 0\n",
       "11. 0\n",
       "12. 0\n",
       "13. 0\n",
       "14. 0\n",
       "15. 0\n",
       "16. 0\n",
       "17. 0\n",
       "18. 0\n",
       "19. 0\n",
       "20. 0\n",
       "21. 0\n",
       "22. 0\n",
       "23. 0\n",
       "24. 0\n",
       "25. 0\n",
       "26. 0\n",
       "27. 0\n",
       "28. 0\n",
       "29. 0\n",
       "30. 0\n",
       "31. 0\n",
       "32. 0\n",
       "33. 0\n",
       "34. 0\n",
       "35. 0\n",
       "36. 0\n",
       "37. 0\n",
       "38. 0\n",
       "39. 0\n",
       "40. 0\n",
       "41. 0\n",
       "42. 0\n",
       "43. 0\n",
       "44. 0\n",
       "45. 0\n",
       "46. 0\n",
       "47. 0\n",
       "48. 0\n",
       "49. 0\n",
       "50. 0\n",
       "51. 0\n",
       "52. 0\n",
       "53. 0\n",
       "54. 0\n",
       "55. 0\n",
       "56. 0\n",
       "57. 0\n",
       "58. 0\n",
       "59. 0\n",
       "60. 0\n",
       "61. 0\n",
       "62. 0\n",
       "63. 0\n",
       "64. 0\n",
       "65. 0\n",
       "66. 0\n",
       "67. 0\n",
       "68. 0\n",
       "69. 0\n",
       "70. 0\n",
       "71. 0\n",
       "72. 0\n",
       "73. 0\n",
       "74. 0\n",
       "75. 0\n",
       "76. 0\n",
       "77. 0\n",
       "78. 0\n",
       "79. 0\n",
       "80. 0\n",
       "81. 0\n",
       "82. 0\n",
       "83. 0\n",
       "84. 0\n",
       "85. 0\n",
       "86. 0\n",
       "87. 0\n",
       "88. 0\n",
       "89. 0\n",
       "90. 0\n",
       "91. 0\n",
       "92. 0\n",
       "93. 0\n",
       "94. 0\n",
       "95. 0\n",
       "96. 0\n",
       "97. 0\n",
       "98. 0\n",
       "99. 0\n",
       "100. 0\n",
       "101. 0\n",
       "102. 0\n",
       "103. 0\n",
       "104. 0\n",
       "105. 0\n",
       "106. 0\n",
       "107. 0\n",
       "108. 0\n",
       "109. 0\n",
       "110. 0\n",
       "111. 0\n",
       "112. 0\n",
       "113. 0\n",
       "114. 0\n",
       "115. 0\n",
       "116. 0\n",
       "117. 0\n",
       "118. 0\n",
       "119. 0\n",
       "120. 0\n",
       "121. 0\n",
       "122. 0\n",
       "123. 0\n",
       "124. 0\n",
       "125. 0\n",
       "126. 0\n",
       "127. 0\n",
       "128. 0\n",
       "129. 0\n",
       "130. 0\n",
       "131. 0\n",
       "132. 0\n",
       "133. 0\n",
       "134. 0\n",
       "135. 0\n",
       "136. 0\n",
       "137. 0\n",
       "138. 0\n",
       "139. 0\n",
       "140. 0\n",
       "141. 0\n",
       "142. 0\n",
       "143. 0\n",
       "144. 0\n",
       "145. 0\n",
       "146. 0\n",
       "147. 0\n",
       "148. 0\n",
       "149. 0\n",
       "150. 0\n",
       "151. 0\n",
       "152. 0\n",
       "153. 0\n",
       "154. 0\n",
       "155. 0\n",
       "156. 0\n",
       "157. 0\n",
       "158. 0\n",
       "159. 0\n",
       "160. 0\n",
       "161. 0\n",
       "162. 0\n",
       "163. 0\n",
       "164. 0\n",
       "165. 0\n",
       "166. 0\n",
       "167. 0\n",
       "168. 0\n",
       "169. 0\n",
       "170. 0\n",
       "171. 0\n",
       "172. 0\n",
       "173. 0\n",
       "174. 0\n",
       "175. 0\n",
       "176. 0\n",
       "177. 0\n",
       "178. 0\n",
       "179. 0\n",
       "180. 0\n",
       "181. 0\n",
       "182. 0\n",
       "183. 0\n",
       "184. 0\n",
       "185. 0\n",
       "186. 0\n",
       "187. 0\n",
       "188. 0\n",
       "189. 0\n",
       "190. 0\n",
       "191. 0\n",
       "192. 0\n",
       "193. 0\n",
       "194. 0\n",
       "195. 0\n",
       "196. 0\n",
       "197. 0\n",
       "198. 0\n",
       "199. 0\n",
       "200. 0\n",
       "201. ⋯\n",
       "202. 0\n",
       "203. 0\n",
       "204. 0\n",
       "205. 0\n",
       "206. 0\n",
       "207. 0\n",
       "208. 0\n",
       "209. 0\n",
       "210. 0\n",
       "211. 0\n",
       "212. 0\n",
       "213. 0\n",
       "214. 0\n",
       "215. 0\n",
       "216. 0\n",
       "217. 0\n",
       "218. 0\n",
       "219. 0\n",
       "220. 0\n",
       "221. 0\n",
       "222. 0\n",
       "223. 0\n",
       "224. 0\n",
       "225. 0\n",
       "226. 0\n",
       "227. 0\n",
       "228. 0\n",
       "229. 0\n",
       "230. 0\n",
       "231. 0\n",
       "232. 0\n",
       "233. 0\n",
       "234. 0\n",
       "235. 0\n",
       "236. 0\n",
       "237. 0\n",
       "238. 0\n",
       "239. 0\n",
       "240. 0\n",
       "241. 0\n",
       "242. 0\n",
       "243. 0\n",
       "244. 0\n",
       "245. 0\n",
       "246. 0\n",
       "247. 0\n",
       "248. 0\n",
       "249. 0\n",
       "250. 0\n",
       "251. 0\n",
       "252. 0\n",
       "253. 0\n",
       "254. 0\n",
       "255. 0\n",
       "256. 0\n",
       "257. 0\n",
       "258. 0\n",
       "259. 0\n",
       "260. 0\n",
       "261. 0\n",
       "262. 0\n",
       "263. 0\n",
       "264. 0\n",
       "265. 0\n",
       "266. 0\n",
       "267. 0\n",
       "268. 0\n",
       "269. 0\n",
       "270. 0\n",
       "271. 0\n",
       "272. 0\n",
       "273. 0\n",
       "274. 0\n",
       "275. 0\n",
       "276. 0\n",
       "277. 0\n",
       "278. 0\n",
       "279. 0\n",
       "280. 0\n",
       "281. 0\n",
       "282. 0\n",
       "283. 0\n",
       "284. 0\n",
       "285. 0\n",
       "286. 0\n",
       "287. 0\n",
       "288. 0\n",
       "289. 0\n",
       "290. 0\n",
       "291. 0\n",
       "292. 0\n",
       "293. 0\n",
       "294. 0\n",
       "295. 0\n",
       "296. 0\n",
       "297. 0\n",
       "298. 0\n",
       "299. 0\n",
       "300. 0\n",
       "301. 0\n",
       "302. 0\n",
       "303. 0\n",
       "304. 0\n",
       "305. 0\n",
       "306. 0\n",
       "307. 0\n",
       "308. 0\n",
       "309. 0\n",
       "310. 0\n",
       "311. 0\n",
       "312. 0\n",
       "313. 0\n",
       "314. 0\n",
       "315. 0\n",
       "316. 0\n",
       "317. 0\n",
       "318. 0\n",
       "319. 0\n",
       "320. 0\n",
       "321. 0\n",
       "322. 0\n",
       "323. 0\n",
       "324. 0\n",
       "325. 0\n",
       "326. 0\n",
       "327. 0\n",
       "328. 0\n",
       "329. 0\n",
       "330. 0\n",
       "331. 0\n",
       "332. 0\n",
       "333. 0\n",
       "334. 0\n",
       "335. 0\n",
       "336. 0\n",
       "337. 0\n",
       "338. 0\n",
       "339. 0\n",
       "340. 0\n",
       "341. 0\n",
       "342. 0\n",
       "343. 0\n",
       "344. 0\n",
       "345. 0\n",
       "346. 0\n",
       "347. 0\n",
       "348. 0\n",
       "349. 0\n",
       "350. 0\n",
       "351. 0\n",
       "352. 0\n",
       "353. 0\n",
       "354. 0\n",
       "355. 0\n",
       "356. 0\n",
       "357. 0\n",
       "358. 0\n",
       "359. 0\n",
       "360. 0\n",
       "361. 0\n",
       "362. 0\n",
       "363. 0\n",
       "364. 0\n",
       "365. 0\n",
       "366. 0\n",
       "367. 0\n",
       "368. 0\n",
       "369. 0\n",
       "370. 0\n",
       "371. 0\n",
       "372. 0\n",
       "373. 0\n",
       "374. 0\n",
       "375. 0\n",
       "376. 0\n",
       "377. 0\n",
       "378. 0\n",
       "379. 0\n",
       "380. 0\n",
       "381. 0\n",
       "382. 0\n",
       "383. 0\n",
       "384. 0\n",
       "385. 0\n",
       "386. 0\n",
       "387. 0\n",
       "388. 0\n",
       "389. 0\n",
       "390. 0\n",
       "391. 0\n",
       "392. 0\n",
       "393. 0\n",
       "394. 0\n",
       "395. 0\n",
       "396. 0\n",
       "397. 0\n",
       "398. 0\n",
       "399. 0\n",
       "400. 0\n",
       "401. 0\n",
       "\n",
       "\n"
      ],
      "text/plain": [
       "    [1] 0 0 0 0 0 0 0 0 0 0 0 0 0 0 0 0 0 0 0 0 0 0 0 0 0 0 0 0 0 0 0 0 0 0 0 0\n",
       "   [37] 0 0 0 0 0 0 0 0 0 0 0 0 0 0 0 0 0 0 0 0 0 0 0 0 0 0 0 0 0 0 0 0 0 0 0 0\n",
       "   [73] 0 0 0 0 0 0 0 0 0 0 0 0 0 0 0 0 0 0 0 0 0 0 0 0 0 0 0 0 0 0 0 0 0 0 0 0\n",
       "  [109] 0 0 0 0 0 0 0 0 0 0 0 0 0 0 0 0 0 0 0 0 0 0 0 0 0 0 0 0 0 0 0 0 0 0 0 0\n",
       "  [145] 0 0 0 0 0 0 0 0 0 0 0 0 0 0 0 0 0 0 0 0 0 0 0 0 0 0 0 0 0 0 0 0 0 0 0 0\n",
       "  [181] 0 0 0 0 0 0 0 0 0 0 0 0 0 0 0 0 0 0 0 0 0 0 0 0 0 0 0 0 0 0 0 0 0 0 0 0\n",
       "  [217] 0 0 0 0 0 0 0 0 0 0 0 0 0 0 0 0 0 0 0 0 0 0 0 0 0 0 0 0 0 0 0 0 0 0 0 0\n",
       "  [253] 0 0 0 0 0 0 0 0 0 0 0 0 0 0 0 0 0 0 0 0 0 0 0 0 0 0 0 0 0 0 0 0 0 0 0 0\n",
       "  [289] 0 0 0 0 0 0 0 0 0 0 0 0 0 0 0 0 0 0 0 0 0 0 0 0 0 0 0 0 0 0 0 0 0 0 0 0\n",
       "  [325] 0 0 0 0 0 0 0 0 0 0 0 0 0 0 0 0 0 0 0 0 0 0 0 0 0 0 0 0 0 0 0 0 0 0 0 0\n",
       "  [361] 0 0 0 0 0 0 0 0 0 0 0 0 0 0 0 0 0 0 0 0 0 0 0 0 0 0 0 0 0 0 0 0 0 0 0 0\n",
       "  [397] 0 0 0 0 0 0 0 0 0 0 0 0 0 0 0 0 0 0 0 0 0 0 0 0 0 0 0 0 0 0 0 0 0 0 0 0\n",
       "  [433] 0 0 0 0 0 0 0 0 0 0 0 0 0 0 0 0 0 0 0 0 0 0 0 0 0 0 0 0 0 0 0 0 0 0 0 0\n",
       "  [469] 0 0 0 0 0 0 0 0 0 0 0 0 0 0 0 0 0 0 0 0 0 0 0 0 0 0 0 0 0 0 0 0 0 0 0 0\n",
       "  [505] 0 0 0 0 0 0 0 0 0 0 0 0 0 0 0 0 0 0 0 0 0 0 0 0 0 0 0 0 0 0 0 0 0 0 0 0\n",
       "  [541] 0 0 0 0 0 0 0 0 0 0 0 0 0 0 0 0 0 0 0 0 0 0 0 0 0 0 0 0 0 0 0 0 0 0 0 0\n",
       "  [577] 0 0 0 0 0 0 0 0 0 0 0 0 0 0 0 0 0 0 0 0 0 0 0 0 0 0 0 0 0 0 0 0 0 0 0 0\n",
       "  [613] 0 0 0 0 0 0 0 0 0 0 0 0 0 0 0 0 0 0 0 0 0 0 0 0 0 0 0 0 0 0 0 0 0 0 0 0\n",
       "  [649] 0 0 0 0 0 0 0 0 0 0 0 0 0 0 0 0 0 0 0 0 0 0 0 0 0 0 0 0 0 0 0 0 0 0 0 0\n",
       "  [685] 0 0 0 0 0 0 0 0 0 0 0 0 0 0 0 0 0 0 0 0 0 0 0 0 0 0 0 0 0 0 0 0 0 0 0 0\n",
       "  [721] 0 0 0 0 0 0 0 0 0 0 0 0 0 0 0 0 0 0 0 0 0 0 0 0 0 0 0 0 0 0 0 0 0 0 0 0\n",
       "  [757] 0 0 0 0 0 0 0 0 0 0 0 0 0 0 0 0 0 0 0 0 0 0 0 0 0 0 0 0 0 0 0 0 0 0 0 0\n",
       "  [793] 0 0 0 0 0 0 0 0 0 0 0 0 0 0 0 0 0 0 0 0 0 0 0 0 0 0 0 0 0 0 0 0 0 0 0 0\n",
       "  [829] 0 0 0 0 0 0 0 0 0 0 0 0 0 0 0 0 0 0 0 0 0 0 0 0 0 0 0 0 0 0 0 0 0 0 0 0\n",
       "  [865] 0 0 0 0 0 0 0 0 0 0 0 0 0 0 0 0 0 0 0 0 0 0 0 0 0 0 0 0 0 0 0 0 0 0 0 0\n",
       "  [901] 0 0 0 0 0 0 0 0 0 0 0 0 0 0 0 0 0 0 0 0 0 0 0 0 0 0 0 0 0 0 0 0 0 0 0 0\n",
       "  [937] 0 0 0 0 0 0 0 0 0 0 0 0 0 0 0 0 0 0 0 0 0 0 0 0 0 0 0 0 0 0 0 0 0 0 0 0\n",
       "  [973] 0 0 0 0 0 0 0 0 0 0 0 0 0 0 0 0 0 0 0 0 0 0 0 0 0 0 0 0 0 0 0 0 0 0 0 0\n",
       " [1009] 0 0 0 0 0 0 0 0 0 0 0 0 0 0 0 0 0 0 0 0 0 0 0 0 0 0 0 0 0 0 0 0 0 0 0 0\n",
       " [1045] 0 0 0 0 0 0 0 0 0 0 0 0 0 0 0 0 0 0 0 0 0 0 0 0 0 0 0 0 0 0 0 0 0 0 0 0\n",
       " [1081] 0 0 0 0 0 0 0 0 0 0 0 0 0 0 0 0 0 0 0 0 0 0 0 0 0 0 0 0 0 0 0 0 0 0 0 0\n",
       " [1117] 0 0 0 0 0 0 0 0 0 0 0 0 0 0 0 0 0 0 0 0 0 0 0 0 0 0 0 0 0 0 0 0 0 0 0 0\n",
       " [1153] 0 0 0 0 0 0 0 0 0 0 0 0 0 0 0 0 0 0 0 0 0 0 0 0 0 0 0 0 0 0 0 0 0 0 0 0\n",
       " [1189] 0 0 0 0 0 0 0 0 0 0 0 0 0 0 0 0 0 0 0 0 0 0 0 0 0 0 0 0 0 0 0 0 0 0 0 0\n",
       " [1225] 0 0 0 0 0 0 0 0 0 0 0 0 0 0 0 0 0 0 0 0 0 0 0 0 0 0 0 0 0 0 0 0 0 0 0 0\n",
       " [1261] 0 0 0 0 0 0 0 0 0 0 0 0 0 0 0 0 0 0 0 0 0 0 0 0 0 0 0 0 0 0 0 0 0 0 0 0\n",
       " [1297] 0 0 0 0 0 0 0 0 0 0 0 0 0 0 0 0 0 0 0 0 0 0 0 0 0 0 0 0 0 0 0 0 0 0 0 0\n",
       " [1333] 0 0 0 0 0 0 0 0 0 0 0 0 0 0 0 0 0 0 0 0 0 0 0 0 0 0 0 0 0 0 0 0 0 0 0 0\n",
       " [1369] 0 0 0 0 0 0 0 0 0 0 0 0 0 0 0 0 0 0 0 0 0 0 0 0 0 0 0 0 0 0 0 0 0 0 0 0\n",
       " [1405] 0 0 0 0 0 0 0 0 0 0 0 0 0 0 0 0 0 0 0 0 0 0 0 0 0 0 0 0 0 0 0 0 0 0 0 0\n",
       " [1441] 0 0 0 0 0 0 0 0 0 0 0 0 0 0 0 0 0 0 0 0 0 0 0 0 0 0 0 0 0 0 0 0 0 0 0 0\n",
       " [1477] 0 0 0 0 0 0 0 0 0 0 0 0 0 0 0 0 0 0 0 0 0 0 0 0 0 0 0 0 0 0 0 0 0 0 0 0\n",
       " [1513] 0 0 0 0 0 0 0 0 0 0 0 0 0 0 0 0 0 0 0 0 0 0 0 0 0 0 0 0 0 0 0 0 0 0 0 0\n",
       " [1549] 0 0 0 0 0 0 0 0 0 0 0 0 0 0 0 0 0 0 0 0 0 0 0 0 0 0 0 0 0 0 0 0 0 0 0 0\n",
       " [1585] 0 0 0 0 0 0 0 0 0 0 0 0 0 0 0 0 0 0 0 0 0 0 0 0 0 0 0 0 0 0 0 0 0 0 0 0\n",
       " [1621] 0 0 0 0 0 0 0 0 0 0 0 0 0 0 0 0 0 0 0 0 0 0 0 0 0 0 0 0 0 0 0 0 0 0 0 0\n",
       " [1657] 0 0 0 0 0 0 0 0 0 0 0 0 0 0 0 0 0 0 0 0 0 0 0 0 0 0 0 0 0 0 0 0 0 0 0 0\n",
       " [1693] 0 0 0 0 0 0 0 0 0 0 0 0 0 0 0 0 0 0 0 0 0 0 0 0 0 0 0 0 0 0 0 0 0 0 0 0\n",
       " [1729] 0 0 0 0 0 0 0 0 0 0 0 0 0 0 0 0 0 0 0 0 0 0 0 0 0 0 0 0 0 0 0 0 0 0 0 0\n",
       " [1765] 0 0 0 0 0 0 0 0 0 0 0 0 0 0 0 0 0 0 0 0 0 0 0 0 0 0 0 0 0 0 0 0 0 0 0 0\n",
       " [1801] 0 0 0 0 0 0 0 0 0 0 0 0 0 0 0 0 0 0 0 0 0 0 0 0 0 0 0 0 0 0 0 0 0 0 0 0\n",
       " [1837] 0 0 0 0 0 0 0 0 0 0 0 0 0 0 0 0 0 0 0 0 0 0 0 0 0 0 0 0 0 0 0 0 0 0 0 0\n",
       " [1873] 0 0 0 0 0 0 0 0 0 0 0 0 0 0 0 0 0 0 0 0 0 0 0 0 0 0 0 0 0 0 0 0 0 0 0 0\n",
       " [1909] 0 0 0 0 0 0 0 0 0 0 0 0 0 0 0 0 0 0 0 0 0 0 0 0 0 0 0 0 0 0 0 0 0 0 0 0\n",
       " [1945] 0 0 0 0 0 0 0 0 0 0 0 0 0 0 0 0 0 0 0 0 0 0 0 0 0 0 0 0 0 0 0 0 0 0 0 0\n",
       " [1981] 0 0 0 0 0 0 0 0 0 0 0 0 0 0 0 0 0 0 0 0 0 0 0 0 0 0 0 0 0 0 0 0 0 0 0 0\n",
       " [2017] 0 0 0 0 0 0 0 0 0 0 0 0 0 0 0 0 0 0 0 0 0 0 0 0 0 0 0 0 0 0 0 0 0 0 0 0\n",
       " [2053] 0 0 0 0 0 0 0 0 0 0 0 0 0 0 0 0 0 0 0 0 0 0 0 0 0 0 0 0 0 0 0 0 0 0 0 0\n",
       " [2089] 0 0 0 0 0 0 0 0 0 0 0 0 0 0 0 0 0 0 0 0 0 0 0 0 0 0 0 0 0 0 0 0 0 0 0 0\n",
       " [2125] 0 0 0 0 0 0 0 0 0 0 0 0 0 0 0 0 0 0 0 0 0 0 0 0 0 0 0 0 0 0 0 0 0 0 0 0\n",
       " [2161] 0 0 0 0 0 0 0 0 0 0 0 0 0 0 0 0 0 0 0 0 0 0 0 0 0 0 0 0 0 0 0 0 0 0 0 0\n",
       " [2197] 0 0 0 0 0 0 0 0 0 0 0 0 0 0 0 0 0 0 0 0 0 0 0 0 0 0 0 0 0 0 0 0 0 0 0 0\n",
       " [2233] 0 0 0 0 0 0 0 0 0 0 0 0 0 0 0 0 0 0 0 0 0 0 0 0 0 0 0 0 0 0 0 0 0 0 0 0\n",
       " [2269] 0 0 0 0 0 0 0 0 0 0 0 0 0 0 0 0 0 0 0 0 0 0 0 0 0 0 0 0 0 0 0 0 0 0 0 0\n",
       " [2305] 0 0 0 0 0 0 0 0 0 0 0 0 0 0 0 0 0 0 0 0 0 0 0 0 0 0 0 0 0 0 0 0 0 0 0 0\n",
       " [2341] 0 0 0 0 0 0 0 0 0 0 0 0 0 0 0 0 0 0 0 0 0 0 0 0 0 0 0 0 0 0 0 0 0 0 0 0\n",
       " [2377] 0 0 0 0 0 0 0 0 0 0 0 0 0 0 0 0 0 0 0 0 0 0 0 0 0 0 0 0 0 0 0 0 0 0 0 0\n",
       " [2413] 0 0 0 0 0 0 0 0 0 0 0 0 0 0 0 0 0 0 0 0 0 0 0 0 0 0 0 0 0 0 0 0 0 0 0 0\n",
       " [2449] 0 0 0 0 0 0 0 0 0 0 0 0 0 0 0 0 0 0 0 0 0 0 0 0 0 0 0 0 0 0 0 0 0 0 0 0\n",
       " [2485] 0 0 0 0 0 0 0 0 0 0 0 0 0 0 0 0 0 0 0 0 0 0 0 0 0 0 0 0 0 0 0 0 0 0 0 0\n",
       " [2521] 0 0 0 0 0 0 0 0 0 0 0 0 0 0 0 0 0 0 0 0 0 0 0 0 0 0 0 0 0 0 0 0 0 0 0 0\n",
       " [2557] 0 0 0 0 0 0 0 0 0 0 0 0 0 0 0 0 0 0 0 0 0 0 0 0 0 0 0 0 0 0 0 0 0 0 0 0\n",
       " [2593] 0 0 0 0 0 0 0 0 0 0 0 0 0 0 0 0 0 0 0 0 0 0 0 0 0 0 0 0 0 0 0 0 0 0 0 0\n",
       " [2629] 0 0 0 0 0 0 0 0 0 0 0 0 0 0 0 0 0 0 0 0 0 0 0 0 0 0 0 0 0 0 0 0 0 0 0 0\n",
       " [2665] 0 0 0 0 0 0 0 0 0 0 0 0 0 0 0 0 0 0 0 0 0 0 0 0 0 0 0 0 0 0 0 0 0 0 0 0\n",
       " [2701] 0 0 0 0 0 0 0 0 0 0 0 0 0 0 0 0 0 0 0 0 0 0 0 0 0 0 0 0 0 0 0 0 0 0 0 0\n",
       " [2737] 0 0 0 0 0 0 0 0 0 0 0 0 0 0 0 0 0 0 0 0 0 0 0 0 0 0 0 0 0 0 0 0 0 0 0 0\n",
       " [2773] 0 0 0 0 0 0 0 0 0 0 0 0 0 0 0 0 0 0 0 0 0 0 0 0 0 0 0 0 0 0 0 0 0 0 0 0\n",
       " [2809] 0 0 0 0 0 0 0 0 0 0 0 0 0 0 0 0 0 0 0 0 0 0 0 0 0 0 0 0 0 0 0 0 0 0 0 0\n",
       " [2845] 0 0 0 0 0 0 0 0 0 0 0 0 0 0 0 0 0 0 0 0 0 0 0 0 0 0 0 0 0 0 0 0 0 0 0 0\n",
       " [2881] 0 0 0 0 0 0 0 0 0 0 0 0 0 0 0 0 0 0 0 0 0 0 0 0 0 0 0 0 0 0 0 0 0 0 0 0\n",
       " [2917] 0 0 0 0 0 0 0 0 0 0 0 0 0 0 0 0 0 0 0 0 0 0 0 0 0 0 0 0 0 0 0 0 0 0 0 0\n",
       " [2953] 0 0 0 0 0 0 0 0 0 0 0 0 0 0 0 0 0 0 0 0 0 0 0 0 0 0 0 0 0 0 0 0 0 0 0 0\n",
       " [2989] 0 0 0 0 0 0 0 0 0 0 0 0 0 0 0 0 0 0 0 0 0 0 0 0 0 0 0 0 0 0 0 0 0 0 0 0\n",
       " [3025] 0 0 0 0 0 0 0 0 0 0 0 0 0 0 0 0 0 0 0 0 0 0 0 0 0 0 0 0 0 0 0 0 0 0 0 0\n",
       " [3061] 0 0 0 0 0 0 0 0 0 0 0 0 0 0 0 0 0 0 0 0 0 0 0 0 0 0 0 0 0 0 0 0 0 0 0 0\n",
       " [3097] 0 0 0 0 0 0 0 0 0 0 0 0 0 0 0 0 0 0 0 0 0 0 0 0 0 0 0 0 0 0 0 0 0 0 0 0\n",
       " [3133] 0 0 0 0 0 0 0 0 0 0 0 0 0 0 0 0 0 0 0 0 0 0 0 0 0 0 0 0 0 0 0 0 0 0 0 0\n",
       " [3169] 0 0 0 0 0 0 0 0 0 0 0 0 0 0 0 0 0 0 0 0 0 0 0 0 0 0 0 0 0 0 0 0 0 0 0 0\n",
       " [3205] 0 0 0 0 0 0 0 0 0 0 0 0 0 0 0 0 0 0 0 0 0 0 0 0 0 0 0 0 0 0 0 0 0 0 0 0\n",
       " [3241] 0 0 0 0 0 0 0 0 0 0 0 0 0 0 0 0 0 0 0 0 0 0 0 0 0 0 0 0 0 0 0 0 0 0 0 0\n",
       " [3277] 0 0 0 0 0 0 0 0 0 0 0 0 0 0 0 0 0 0 0 0 0 0 0 0 0 0 0 0 0 0 0 0 0 0 0 0\n",
       " [3313] 0 0 0 0 0 0 0 0 0 0 0 0 0 0 0 0 0 0 0 0 0 0 0 0 0 0 0 0 0 0 0 0 0 0 0 0\n",
       " [3349] 0 0 0 0 0 0 0 0 0 0 0 0 0 0 0 0 0 0 0 0 0 0 0 0 0 0 0 0 0 0 0 0 0 0 0 0\n",
       " [3385] 0 0 0 0 0 0 0 0 0 0 0 0 0 0 0 0 0 0 0 0 0 0 0 0 0 0 0 0 0 0 0 0 0 0 0 0\n",
       " [3421] 0 0 0 0 0 0 0 0 0 0 0 0 0 0 0 0 0 0 0 0 0 0 0 0 0 0 0 0 0 0 0 0 0 0 0 0\n",
       " [3457] 0 0 0 0 0 0 0 0 0 0 0 0 0 0 0 0 0 0 0 0 0 0 0 0 0 0 0 0 0 0 0 0 0 0 0 0\n",
       " [3493] 0 0 0 0 0 0 0 0 0 0 0 0 0 0 0 0 0 0 0 0 0 0 0 0 0 0 0 0 0 0 0 0 0 0 0 0\n",
       " [3529] 0 0 0 0 0 0 0 0 0 0 0 0 0 0 0 0 0 0 0 0 0 0 0 0 0 0 0 0 0 0 0 0 0 0 0 0\n",
       " [3565] 0 0 0 0 0 0 0 0 0 0 0 0 0 0 0 0 0 0 0 0 0 0 0 0 0 0 0 0 0 0 0 0 0 0 0 0\n",
       " [3601] 0 0 0 0 0 0 0 0 0 0 0 0 0 0 0 0 0 0 0 0 0 0 0 0 0 0 0 0 0 0 0 0 0 0 0 0\n",
       " [3637] 0 0 0 0 0 0 0 0 0 0 0 0 0 0 0 0 0 0 0 0 0 0 0 0 0 0 0 0 0 0 0 0 0 0 0 0\n",
       " [3673] 0 0 0 0 0 0 0 0 0 0 0 0 0 0 0 0 0 0 0 0 0 0 0 0 0 0 0 0 0 0 0 0 0 0 0 0\n",
       " [3709] 0 0 0 0 0 0 0 0 0 0 0 0 0 0 0 0 0 0 0 0 0 0 0 0 0 0 0 0 0 0 0 0 0 0 0 0\n",
       " [3745] 0 0 0 0 0 0 0 0 0 0 0 0 0 0 0 0 0 0 0 0 0 0 0 0 0 0 0 0 0 0 0 0 0 0 0 0\n",
       " [3781] 0 0 0 0 0 0 0 0 0 0 0 0 0 0 0 0 0 0 0 0 0 0 0 0 0 0 0 0 0 0 0 0 0 0 0 0\n",
       " [3817] 0 0 0 0 0 0 0 0 0 0 0 0 0 0 0 0 0 0 0 0 0 0 0 0 0 0 0 0 0 0 0 0 0 0 0 0\n",
       " [3853] 0 0 0 0 0 0 0 0 0 0 0 0 0 0 0 0 0 0 0 0 0 0 0 0 0 0 0 0 0 0 0 0 0 0 0 0\n",
       " [3889] 0 0 0 0 0 0 0 0 0 0 0 0 0 0 0 0 0 0 0 0 0 0 0 0 0 0 0 0 0 0 0 0 0 0 0 0\n",
       " [3925] 0 0 0 0 0 0 0 0 0 0 0 0 0 0 0 0 0 0 0 0 0 0 0 0 0 0 0 0 0 0 0 0 0 0 0 0\n",
       " [3961] 0 0 0 0 0 0 0 0 0 0 0 0 0 0 0 0 0 0 0 0 0 0 0 0 0 0 0 0 0 0 0 0 0 0 0 0\n",
       " [3997] 0 0 0 0 0 0 0 0 0 0 0 0 0 0 0 0 0 0 0 0 0 0 0 0 0 0 0 0 0 0 0 0 0 0 0 0\n",
       " [4033] 0 0 0 0 0 0 0 0 0 0 0 0 0 0 0 0 0 0 0 0 0 0 0 0 0 0 0 0 0 0 0 0 0 0 0 0\n",
       " [4069] 0 0 0 0 0 0 0 0 0 0 0 0 0 0 0 0 0 0 0 0 0 0 0 0 0 0 0 0 0 0 0 0 0 0 0 0\n",
       " [4105] 0 0 0 0 0 0 0 0 0 0 0 0 0 0 0 0 0 0 0 0 0 0 0 0 0 0 0 0 0 0 0 0 0 0 0 0\n",
       " [4141] 0 0 0 0 0 0 0 0 0 0 0 0 0 0 0 0 0 0 0 0 0 0 0 0 0 0 0 0 0 0 0 0 0 0 0 0\n",
       " [4177] 0 0 0 0 0 0 0 0 0 0 0 0 0 0 0 0 0 0 0 0 0 0 0 0 0 0 0 0 0 0 0 0 0 0 0 0\n",
       " [4213] 0 0 0 0 0 0 0 0 0 0 0 0 0 0 0 0 0 0 0 0 0 0 0 0 0 0 0 0 0 0 0 0 0 0 0 0\n",
       " [4249] 0 0 0 0 0 0 0 0 0 0 0 0 0 0 0 0 0 0 0 0 0 0 0 0 0 0 0 0 0 0 0 0 0 0 0 0\n",
       " [4285] 0 0 0 0 0 0 0 0 0 0 0 0 0 0 0 0 0 0 0 0 0 0 0 0 0 0 0 0 0 0 0 0 0 0 0 0\n",
       " [4321] 0 0 0 0 0 0 0 0 0 0 0 0 0 0 0 0 0 0 0 0 0 0 0 0 0 0 0 0 0 0 0 0 0 0 0 0\n",
       " [4357] 0 0 0 0 0 0 0 0 0 0 0 0 0 0 0 0 0 0 0 0 0 0 0 0 0 0 0 0 0 0 0 0 0 0 0 0\n",
       " [4393] 0 0 0 0 0 0 0 0 0 0 0 0 0 0 0 0 0 0 0 0 0 0 0 0 0 0 0 0 0 0 0 0 0 0 0 0\n",
       " [4429] 0 0 0 0 0 0 0 0 0 0 0 0 0 0 0 0 0 0 0 0 0 0 0 0 0 0 0 0 0 0 0 0 0 0 0 0\n",
       " [4465] 0 0 0 0 0 0 0 0 0 0 0 0 0 0 0 0 0 0 0 0 0 0 0 0 0 0 0 0 0 0 0 0 0 0 0 0\n",
       " [4501] 0 0 0 0 0 0 0 0 0 0 0 0 0 0 0 0 0 0 0 0 0 0 0 0 0 0 0 0 0 0 0 0 0 0 0 0\n",
       " [4537] 0 0 0 0 0 0 0 0 0 0 0 0 0 0 0 0 0 0 0 0 0 0 0 0 0 0 0 0 0 0 0 0 0 0 0 0\n",
       " [4573] 0 0 0 0 0 0 0 0 0 0 0 0 0 0 0 0 0 0 0 0 0 0 0 0 0 0 0 0 0 0 0 0 0 0 0 0\n",
       " [4609] 0 0 0 0 0 0 0 0 0 0 0 0 0 0 0 0 0 0 0 0 0 0 0 0 0 0 0 0 0 0 0 0 0 0 0 0\n",
       " [4645] 0 0 0 0 0 0 0 0 0 0 0 0 0 0 0 0 0 0 0 0 0 0 0 0 0 0 0 0 0 0 0 0 0 0 0 0\n",
       " [4681] 0 0 0 0 0 0 0 0 0 0 0 0 0 0 0 0 0 0 0 0 0 0 0 0 0 0 0 0 0 0 0 0 0 0 0 0\n",
       " [4717] 0 0 0 0 0 0 0 0 0 0 0 0 0 0 0 0 0 0 0 0 0 0 0 0 0 0 0 0 0 0 0 0 0 0 0 0\n",
       " [4753] 0 0 0 0 0 0 0 0 0 0 0 0 0 0 0 0 0 0 0 0 0 0 0 0 0 0 0 0 0 0 0 0 0 0 0 0\n",
       " [4789] 0 0 0 0 0 0 0 0 0 0 0 0 0 0 0 0 0 0 0 0 0 0 0 0 0 0 0 0 0 0 0 0 0 0 0 0\n",
       " [4825] 0 0 0 0 0 0 0 0 0 0 0 0 0 0 0 0 0 0 0 0 0 0 0 0 0 0 0 0 0 0 0 0 0 0 0 0\n",
       " [4861] 0 0 0 0 0 0 0 0 0 0 0 0 0 0 0 0 0 0 0 0 0 0 0 0 0 0 0 0 0 0 0 0 0 0 0 0\n",
       " [4897] 0 0 0 0 0 0 0 0 0 0 0 0 0 0 0 0 0 0 0 0 0 0 0 0 0 0 0 0 0 0 0 0 0 0 0 0\n",
       " [4933] 0 0 0 0 0 0 0 0 0 0 0 0 0 0 0 0 0 0 0 0 0 0 0 0 0 0 0 0 0 0 0 0 0 0 0 0\n",
       " [4969] 0 0 0 0 0 0 0 0 0 0 0 0 0 0 0 0 0 0 0 0 0 0 0 0 0 0 0 0 0 0 0 0 0 0 0 0\n",
       " [5005] 0 0 0 0 0 0 0 0 0 0 0 0 0 0 0 0 0 0 0 0 0 0 0 0 0 0 0 0 0 0 0 0 0 0 0 0\n",
       " [5041] 0 0 0 0 0 0 0 0 0 0 0 0 0 0 0 0 0 0 0 0 0 0 0 0 0 0 0 0 0 0 0 0 0 0 0 0\n",
       " [5077] 0 0 0 0 0 0 0 0 0 0 0 0 0 0 0 0 0 0 0 0 0 0 0 0 0 0 0 0 0 0 0 0 0 0 0 0\n",
       " [5113] 0 0 0 0 0 0 0 0 0 0 0 0 0 0 0 0 0 0 0 0 0 0 0 0 0 0 0 0 0 0 0 0 0 0 0 0\n",
       " [5149] 0 0 0 0 0 0 0 0 0 0 0 0 0 0 0 0 0 0 0 0 0 0 0 0 0 0 0 0 0 0 0 0 0 0 0 0\n",
       " [5185] 0 0 0 0 0 0 0 0 0 0 0 0 0 0 0 0 0 0 0 0 0 0 0 0 0 0 0 0 0 0 0 0 0 0 0 0\n",
       " [5221] 0 0 0 0 0 0 0 0 0 0 0 0 0 0 0 0 0 0 0 0 0 0 0 0 0 0 0 0 0 0 0 0 0 0 0 0\n",
       " [5257] 0 0 0 0 0 0 0 0 0 0 0 0 0 0 0 0 0 0 0 0 0 0 0 0 0 0 0 0 0 0 0 0 0 0 0 0\n",
       " [5293] 0 0 0 0 0 0 0 0 0 0 0 0 0 0 0 0 0 0 0 0 0 0 0 0 0 0 0 0 0 0 0 0 0 0 0 0\n",
       " [5329] 0 0 0 0 0 0 0 0 0 0 0 0 0 0 0 0 0 0 0 0 0 0 0 0 0 0 0 0 0 0 0 0 0 0 0 0\n",
       " [5365] 0 0 0 0 0 0 0 0 0 0 0 0 0 0 0 0 0 0 0 0 0 0 0 0 0 0 0 0 0 0 0 0 0 0 0 0\n",
       " [5401] 0 0 0 0 0 0 0 0 0 0 0 0 0 0 0 0 0 0 0 0 0 0 0 0 0 0 0 0 0 0 0 0 0 0 0 0\n",
       " [5437] 0 0 0 0 0 0 0 0 0 0 0 0 0 0 0 0 0 0 0 0 0 0 0 0 0 0 0 0 0 0 0 0 0 0 0 0\n",
       " [5473] 0 0 0 0 0 0 0 0 0 0 0 0 0 0 0 0 0 0 0 0 0 0 0 0 0 0 0 0 0 0 0 0 0 0 0 0\n",
       " [5509] 0 0 0 0 0 0 0 0 0 0 0 0 0 0 0 0 0 0 0 0 0 0 0 0 0 0 0 0 0 0 0 0 0 0 0 0\n",
       " [5545] 0 0 0 0 0 0 0 0 0 0 0 0 0 0 0 0 0 0 0 0 0 0 0 0 0 0 0 0 0 0 0 0 0 0 0 0\n",
       " [5581] 0 0 0 0 0 0 0 0 0 0 0 0 0 0 0 0 0 0 0 0 0 0 0 0 0 0 0 0 0 0 0 0 0 0 0 0\n",
       " [5617] 0 0 0 0 0 0 0 0 0 0 0 0 0 0 0 0 0 0 0 0 0 0 0 0 0 0 0 0 0 0 0 0 0 0 0 0\n",
       " [5653] 0 0 0 0 0 0 0 0 0 0 0 0 0 0 0 0 0 0 0 0 0 0 0 0 0 0 0 0 0 0 0 0 0 0 0 0\n",
       " [5689] 0 0 0 0 0 0 0 0 0 0 0 0 0 0 0 0 0 0 0 0 0 0 0 0 0 0 0 0 0 0 0 0 0 0 0 0\n",
       " [5725] 0 0 0 0 0 0 0 0 0 0 0 0 0 0 0 0 0 0 0 0 0 0 0 0 0 0 0 0 0 0 0 0 0 0 0 0\n",
       " [5761] 0 0 0 0 0 0 0 0 0 0 0 0 0 0 0 0 0 0 0 0 0 0 0 0 0 0 0 0 0 0 0 0 0 0 0 0\n",
       " [5797] 0 0 0 0 0 0 0 0 0 0 0 0 0 0 0 0 0 0 0 0 0 0 0 0 0 0 0 0 0 0 0 0 0 0 0 0\n",
       " [5833] 0 0 0 0 0 0 0 0 0 0 0 0 0 0 0 0 0 0 0 0 0 0 0 0 0 0 0 0 0 0 0 0 0 0 0 0\n",
       " [5869] 0 0 0 0 0 0 0 0 0 0 0 0 0 0 0 0 0 0 0 0 0 0 0 0 0 0 0 0 0 0 0 0 0 0 0 0\n",
       " [5905] 0 0 0 0 0 0 0 0 0 0 0 0 0 0 0 0 0 0 0 0 0 0 0 0 0 0 0 0 0 0 0 0 0 0 0 0\n",
       " [5941] 0 0 0 0 0 0 0 0 0 0 0 0 0 0 0 0 0 0 0 0 0 0 0 0 0 0 0 0 0 0 0 0 0 0 0 0\n",
       " [5977] 0 0 0 0 0 0 0 0 0 0 0 0 0 0 0 0 0 0 0 0 0 0 0 0 0 0 0 0 0 0 0 0 0 0 0 0\n",
       " [6013] 0 0 0 0 0 0 0 0 0 0 0 0 0 0 0 0 0 0 0 0 0 0 0 0 0 0 0 0 0 0 0 0 0 0 0 0\n",
       " [6049] 0 0 0 0 0 0 0 0 0 0 0 0 0 0 0 0 0 0 0 0 0 0 0 0 0 0 0 0 0 0 0 0 0 0 0 0\n",
       " [6085] 0 0 0 0 0 0 0 0 0 0 0 0 0 0 0 0 0 0 0 0 0 0 0 0 0 0 0 0 0 0 0 0 0 0 0 0\n",
       " [6121] 0 0 0 0 0 0 0 0 0 0 0 0 0 0 0 0 0 0 0 0 0 0 0 0 0 0 0 0 0 0 0 0 0 0 0 0\n",
       " [6157] 0 0 0 0 0 0 0 0 0 0 0 0 0 0 0 0 0 0 0 0 0 0 0 0 0 0 0 0 0 0 0 0 0 0 0 0\n",
       " [6193] 0 0 0 0 0 0 0 0 0 0 0 0 0 0 0 0 0 0 0 0 0 0 0 0 0 0 0 0 0 0 0 0 0 0 0 0\n",
       " [6229] 0 0 0 0 0 0 0 0 0 0 0 0 0 0 0 0 0 0 0 0 0 0 0 0 0 0 0 0 0 0 0 0 0 0 0 0\n",
       " [6265] 0 0 0 0 0 0 0 0 0 0 0 0 0 0 0 0 0 0 0 0 0 0 0 0 0 0 0 0 0 0 0 0 0 0 0 0\n",
       " [6301] 0 0 0 0 0 0 0 0 0 0 0 0 0 0 0 0 0 0 0 0 0 0 0 0 0 0 0 0 0 0 0 0 0 0 0 0\n",
       " [6337] 0 0 0 0 0 0 0 0 0 0 0 0 0 0 0 0 0 0 0 0 0 0 0 0 0 0 0 0 0 0 0 0 0 0 0 0\n",
       " [6373] 0 0 0 0 0 0 0 0 0 0 0 0 0 0 0 0 0 0 0 0 0 0 0 0 0 0 0 0 0 0 0 0 0 0 0 0\n",
       " [6409] 0 0 0 0 0 0 0 0 0 0 0 0 0 0 0 0 0 0 0 0 0 0 0 0 0 0 0 0 0 0 0 0 0 0 0 0\n",
       " [6445] 0 0 0 0 0 0 0 0 0 0 0 0 0 0 0 0 0 0 0 0 0 0 0 0 0 0 0 0 0 0 0 0 0 0 0 0\n",
       " [6481] 0 0 0 0 0 0 0 0 0 0 0 0 0 0 0 0 0 0 0 0 0 0 0 0 0 0 0 0 0 0 0 0 0 0 0 0\n",
       " [6517] 0 0 0 0 0 0 0 0 0 0 0 0 0 0 0 0 0 0 0 0 0 0 0 0 0 0 0 0 0 0 0 0 0 0 0 0\n",
       " [6553] 0 0 0 0 0 0 0 0 0 0 0 0 0 0 0 0 0 0 0 0 0 0 0 0 0 0 0 0 0 0 0 0 0 0 0 0\n",
       " [6589] 0 0 0 0 0 0 0 0 0 0 0 0 0 0 0 0 0 0 0 0 0 0 0 0 0 0 0 0 0 0 0 0 0 0 0 0\n",
       " [6625] 0 0 0 0 0 0 0 0 0 0 0 0 0 0 0 0 0 0 0 0 0 0 0 0 0 0 0 0 0 0 0 0 0 0 0 0\n",
       " [6661] 0 0 0 0 0 0 0 0 0 0 0 0 0 0 0 0 0 0 0 0 0 0 0 0 0 0 0 0 0 0 0 0 0 0 0 0\n",
       " [6697] 0 0 0 0 0 0 0 0 0 0 0 0 0 0 0 0 0 0 0 0 0 0 0 0 0 0 0 0 0 0 0 0 0 0 0 0\n",
       " [6733] 0 0 0 0 0 0 0 0 0 0 0 0 0 0 0 0 0 0 0 0 0 0 0 0 0 0 0 0 0 0 0 0 0 0 0 0\n",
       " [6769] 0 0 0 0 0 0 0 0 0 0 0 0 0 0 0 0 0 0 0 0 0 0 0 0 0 0 0 0 0 0 0 0 0 0 0 0\n",
       " [6805] 0 0 0 0 0 0 0 0 0 0 0 0 0 0 0 0 0 0 0 0 0 0 0 0 0 0 0 0 0 0 0 0 0 0 0 0\n",
       " [6841] 0 0 0 0 0 0 0 0 0 0 0 0 0 0 0 0 0 0 0 0 0 0 0 0 0 0 0 0 0 0 0 0 0 0 0 0\n",
       " [6877] 0 0 0 0 0 0 0 0 0 0 0 0 0 0 0 0 0 0 0 0 0 0 0 0 0 0 0 0 0 0 0 0 0 0 0 0\n",
       " [6913] 0 0 0 0 0 0 0 0 0 0 0 0 0 0 0 0 0 0 0 0 0 0 0 0 0 0 0 0 0 0 0 0 0 0 0 0\n",
       " [6949] 0 0 0 0 0 0 0 0 0 0 0 0 0 0 0 0 0 0 0 0 0 0 0 0 0 0 0 0 0 0 0 0 0 0 0 0\n",
       " [6985] 0 0 0 0 0 0 0 0 0 0 0 0 0 0 0 0 0 0 0 0 0 0 0 0 0 0 0 0 0 0 0 0 0 0 0 0\n",
       " [7021] 0 0 0 0 0 0 0 0 0 0 0 0 0 0 0 0 0 0 0 0 0 0 0 0 0 0 0 0 0 0 0 0 0 0 0 0\n",
       " [7057] 0 0 0 0 0 0 0 0 0 0 0 0 0 0 0 0 0 0 0 0 0 0 0 0 0 0 0 0 0 0 0 0 0 0 0 0\n",
       " [7093] 0 0 0 0 0 0 0 0 0 0 0 0 0 0 0 0 0 0 0 0 0 0 0 0 0 0 0 0 0 0 0 0 0 0 0 0\n",
       " [7129] 0 0 0 0 0 0 0 0 0 0 0 0 0 0 0 0 0 0 0 0 0 0 0 0 0 0 0 0 0 0 0 0 0 0 0 0\n",
       " [7165] 0 0 0 0 0 0 0 0 0 0 0 0 0 0 0 0 0 0 0 0 0 0 0 0 0 0 0 0 0 0 0 0 0 0 0 0\n",
       " [7201] 0 0 0 0 0 0 0 0 0 0 0 0 0 0 0 0 0 0 0 0 0 0 0 0 0 0 0 0 0 0 0 0 0 0 0 0\n",
       " [7237] 0 0 0 0 0 0 0 0 0 0 0 0 0 0 0 0 0 0 0 0 0 0 0 0 0 0 0 0 0 0 0 0 0 0 0 0\n",
       " [7273] 0 0 0 0 0 0 0 0 0 0 0 0 0 0 0 0 0 0 0 0 0 0 0 0 0 0 0 0 0 0 0 0 0 0 0 0\n",
       " [7309] 0 0 0 0 0 0 0 0 0 0 0 0 0 0 0 0 0 0 0 0 0 0 0 0 0 0 0 0 0 0 0 0 0 0 0 0\n",
       " [7345] 0 0 0 0 0 0 0 0 0 0 0 0 0 0 0 0 0 0 0 0 0 0 0 0 0 0 0 0 0 0 0 0 0 0 0 0\n",
       " [7381] 0 0 0 0 0 0 0 0 0 0 0 0 0 0 0 0 0 0 0 0 0 0 0 0 0 0 0 0 0 0 0 0 0 0 0 0\n",
       " [7417] 0 0 0 0 0 0 0 0 0 0 0 0 0 0 0 0 0 0 0 0 0 0 0 0 0 0 0 0 0 0 0 0 0 0 0 0\n",
       " [7453] 0 0 0 0 0 0 0 0 0 0 0 0 0 0 0 0 0 0 0 0 0 0 0 0 0 0 0 0 0 0 0 0 0 0 0 0\n",
       " [7489] 0 0 0 0 0 0 0 0 0 0 0 0 0 0 0 0 0 0 0 0 0 0 0 0 0 0 0 0 0 0 0 0 0 0 0 0\n",
       " [7525] 0 0 0 0 0 0 0 0 0 0 0 0 0 0 0 0 0 0 0 0 0 0 0 0 0 0 0 0 0 0 0 0 0 0 0 0\n",
       " [7561] 0 0 0 0 0 0 0 0 0 0 0 0 0 0 0 0 0 0 0 0 0 0 0 0 0 0 0 0 0 0 0 0 0 0 0 0\n",
       " [7597] 0 0 0 0 0 0 0 0 0 0 0 0 0 0 0 0 0 0 0 0 0 0 0 0 0 0 0 0 0 0 0 0 0 0 0 0\n",
       " [7633] 0 0 0 0 0 0 0 0 0 0 0 0 0 0 0 0 0 0 0 0 0 0 0 0 0 0 0 0 0 0 0 0 0 0 0 0\n",
       " [7669] 0 0 0 0 0 0 0 0 0 0 0 0 0 0 0 0 0 0 0 0 0 0 0 0 0 0 0 0 0 0 0 0 0 0 0 0\n",
       " [7705] 0 0 0 0 0 0 0 0 0 0 0 0 0 0 0 0 0 0 0 0 0 0 0 0 0 0 0 0 0 0 0 0 0 0 0 0\n",
       " [7741] 0 0 0 0 0 0 0 0 0 0 0 0 0 0 0 0 0 0 0 0 0 0 0 0 0 0 0 0 0 0 0 0 0 0 0 0\n",
       " [7777] 0 0 0 0 0 0 0 0 0 0 0 0 0 0 0 0 0 0 0 0 0 0 0 0 0 0 0 0 0 0 0 0 0 0 0 0\n",
       " [7813] 0 0 0 0 0 0 0 0 0 0 0 0 0 0 0 0 0 0 0 0 0 0 0 0 0 0 0 0 0 0 0 0 0 0 0 0\n",
       " [7849] 0 0 0 0 0 0 0 0 0 0 0 0 0 0 0 0 0 0 0 0 0 0 0 0 0 0 0 0 0 0 0 0 0 0 0 0\n",
       " [7885] 0 0 0 0 0 0 0 0 0 0 0 0 0 0 0 0 0 0 0 0 0 0 0 0 0 0 0 0 0 0 0 0 0 0 0 0\n",
       " [7921] 0 0 0 0 0 0 0 0 0 0 0 0 0 0 0 0 0 0 0 0 0 0 0 0 0 0 0 0 0 0 0 0 0 0 0 0\n",
       " [7957] 0 0 0 0 0 0 0 0 0 0 0 0 0 0 0 0 0 0 0 0 0 0 0 0 0 0 0 0 0 0 0 0 0 0 0 0\n",
       " [7993] 0 0 0 0 0 0 0 0 0 0 0 0 0 0 0 0 0 0 0 0 0 0 0 0 0 0 0 0 0 0 0 0 0 0 0 0\n",
       " [8029] 0 0 0 0 0 0 0 0 0 0 0 0 0 0 0 0 0 0 0 0 0 0 0 0 0 0 0 0 0 0 0 0 0 0 0 0\n",
       " [8065] 0 0 0 0 0 0 0 0 0 0 0 0 0 0 0 0 0 0 0 0 0 0 0 0 0 0 0 0 0 0 0 0 0 0 0 0\n",
       " [8101] 0 0 0 0 0 0 0 0 0 0 0 0 0 0 0 0 0 0 0 0 0 0 0 0 0 0 0 0 0 0 0 0 0 0 0 0\n",
       " [8137] 0 0 0 0 0 0 0 0 0 0 0 0 0 0 0 0 0 0 0 0 0 0 0 0 0 0 0 0 0 0 0 0 0 0 0 0\n",
       " [8173] 0 0 0 0 0 0 0 0 0 0 0 0 0 0 0 0 0 0 0 0 0 0 0 0 0 0 0 0 0 0 0 0 0 0 0 0\n",
       " [8209] 0 0 0 0 0 0 0 0 0 0 0 0 0 0 0 0 0 0 0 0 0 0 0 0 0 0 0 0 0 0 0 0 0 0 0 0\n",
       " [8245] 0 0 0 0 0 0 0 0 0 0 0 0 0 0 0 0 0 0 0 0 0 0 0 0 0 0 0 0 0 0 0 0 0 0 0 0\n",
       " [8281] 0 0 0 0 0 0 0 0 0 0 0 0 0 0 0 0 0 0 0 0 0 0 0 0 0 0 0 0 0 0 0 0 0 0 0 0\n",
       " [8317] 0 0 0 0 0 0 0 0 0 0 0 0 0 0 0 0 0 0 0 0 0 0 0 0 0 0 0 0 0 0 0 0 0 0 0 0\n",
       " [8353] 0 0 0 0 0 0 0 0 0 0 0 0 0 0 0 0 0 0 0 0 0 0 0 0 0 0 0 0 0 0 0 0 0 0 0 0\n",
       " [8389] 0 0 0 0 0 0 0 0 0 0 0 0 0 0 0 0 0 0 0 0 0 0 0 0 0 0 0 0 0 0 0 0 0 0 0 0\n",
       " [8425] 0 0 0 0 0 0 0 0 0 0 0 0 0 0 0 0 0 0 0 0 0 0 0 0 0 0 0 0 0 0 0 0 0 0 0 0\n",
       " [8461] 0 0 0 0 0 0 0 0 0 0 0 0 0 0 0 0 0 0 0 0 0 0 0 0 0 0 0 0 0 0 0 0 0 0 0 0\n",
       " [8497] 0 0 0 0 0 0 0 0 0 0 0 0 0 0 0 0 0 0 0 0 0 0 0 0 0 0 0 0 0 0 0 0 0 0 0 0\n",
       " [8533] 0 0 0 0 0 0 0 0 0 0 0 0 0 0 0 0 0 0 0 0 0 0 0 0 0 0 0 0 0 0 0 0 0 0 0 0\n",
       " [8569] 0 0 0 0 0 0 0 0 0 0 0 0 0 0 0 0 0 0 0 0 0 0 0 0 0 0 0 0 0 0 0 0 0 0 0 0\n",
       " [8605] 0 0 0 0 0 0 0 0 0 0 0 0 0 0 0 0 0 0 0 0 0 0 0 0 0 0 0 0 0 0 0 0 0 0 0 0\n",
       " [8641] 0 0 0 0 0 0 0 0 0 0 0 0 0 0 0 0 0 0 0 0 0 0 0 0 0 0 0 0 0 0 0 0 0 0 0 0\n",
       " [8677] 0 0 0 0 0 0 0 0 0 0 0 0 0 0 0 0 0 0 0 0 0 0 0 0 0 0 0 0 0 0 0 0 0 0 0 0\n",
       " [8713] 0 0 0 0 0 0 0 0 0 0 0 0 0 0 0 0 0 0 0 0 0 0 0 0 0 0 0 0 0 0 0 0 0 0 0 0\n",
       " [8749] 0 0 0 0 0 0 0 0 0 0 0 0 0 0 0 0 0 0 0 0 0 0 0 0 0 0 0 0 0 0 0 0 0 0 0 0\n",
       " [8785] 0 0 0 0 0 0 0 0 0 0 0 0 0 0 0 0 0 0 0 0 0 0 0 0 0 0 0 0 0 0 0 0 0 0 0 0\n",
       " [8821] 0 0 0 0 0 0 0 0 0 0 0 0 0 0 0 0 0 0 0 0 0 0 0 0 0 0 0 0 0 0 0 0 0 0 0 0\n",
       " [8857] 0 0 0 0 0 0 0 0 0 0 0 0 0 0 0 0 0 0 0 0 0 0 0 0 0 0 0 0 0 0 0 0 0 0 0 0\n",
       " [8893] 0 0 0 0 0 0 0 0 0 0 0 0 0 0 0 0 0 0 0 0 0 0 0 0 0 0 0 0 0 0 0 0 0 0 0 0\n",
       " [8929] 0 0 0 0 0 0 0 0 0 0 0 0 0 0 0 0 0 0 0 0 0 0 0 0 0 0 0 0 0 0 0 0 0 0 0 0\n",
       " [8965] 0 0 0 0 0 0 0 0 0 0 0 0 0 0 0 0 0 0 0 0 0 0 0 0 0 0 0 0 0 0 0 0 0 0 0 0\n",
       " [9001] 0 0 0 0 0 0 0 0 0 0 0 0 0 0 0 0 0 0 0 0 0 0 0 0 0 0 0 0 0 0 0 0 0 0 0 0\n",
       " [9037] 0 0 0 0 0 0 0 0 0 0 0 0 0 0 0 0 0 0 0 0 0 0 0 0 0 0 0 0 0 0 0 0 0 0 0 0\n",
       " [9073] 0 0 0 0 0 0 0 0 0 0 0 0 0 0 0 0 0 0 0 0 0 0 0 0 0 0 0 0 0 0 0 0 0 0 0 0\n",
       " [9109] 0 0 0 0 0 0 0 0 0 0 0 0 0 0 0 0 0 0 0 0 0 0 0 0 0 0 0 0 0 0 0 0 0 0 0 0\n",
       " [9145] 0 0 0 0 0 0 0 0 0 0 0 0 0 0 0 0 0 0 0 0 0 0 0 0 0 0 0 0 0 0 0 0 0 0 0 0\n",
       " [9181] 0 0 0 0 0 0 0 0 0 0 0 0 0 0 0 0 0 0 0 0 0 0 0 0 0 0 0 0 0 0 0 0 0 0 0 0\n",
       " [9217] 0 0 0 0 0 0 0 0 0 0 0 0 0 0 0 0 0 0 0 0 0 0 0 0 0 0 0 0 0 0 0 0 0 0 0 0\n",
       " [9253] 0 0 0 0 0 0 0 0 0 0 0 0 0 0 0 0 0 0 0 0 0 0 0 0 0 0 0 0 0 0 0 0 0 0 0 0\n",
       " [9289] 0 0 0 0 0 0 0 0 0 0 0 0 0 0 0 0 0 0 0 0 0 0 0 0 0 0 0 0 0 0 0 0 0 0 0 0\n",
       " [9325] 0 0 0 0 0 0 0 0 0 0 0 0 0 0 0 0 0 0 0 0 0 0 0 0 0 0 0 0 0 0 0 0 0 0 0 0\n",
       " [9361] 0 0 0 0 0 0 0 0 0 0 0 0 0 0 0 0 0 0 0 0 0 0 0 0 0 0 0 0 0 0 0 0 0 0 0 0\n",
       " [9397] 0 0 0 0 0 0 0 0 0 0 0 0 0 0 0 0 0 0 0 0 0 0 0 0 0 0 0 0 0 0 0 0 0 0 0 0\n",
       " [9433] 0 0 0 0 0 0 0 0 0 0 0 0 0 0 0 0 0 0 0 0 0 0 0 0 0 0 0 0 0 0 0 0 0 0 0 0\n",
       " [9469] 0 0 0 0 0 0 0 0 0 0 0 0 0 0 0 0 0 0 0 0 0 0 0 0 0 0 0 0 0 0 0 0 0 0 0 0\n",
       " [9505] 0 0 0 0 0 0 0 0 0 0 0 0 0 0 0 0 0 0 0 0 0 0 0 0 0 0 0 0 0 0 0 0 0 0 0 0\n",
       " [9541] 0 0 0 0 0 0 0 0 0 0 0 0 0 0 0 0 0 0 0 0 0 0 0 0 0 0 0 0 0 0 0 0 0 0 0 0\n",
       " [9577] 0 0 0 0 0 0 0 0 0 0 0 0 0 0 0 0 0 0 0 0 0 0 0 0 0 0 0 0 0 0 0 0 0 0 0 0\n",
       " [9613] 0 0 0 0 0 0 0 0 0 0 0 0 0 0 0 0 0 0 0 0 0 0 0 0 0 0 0 0 0 0 0 0 0 0 0 0\n",
       " [9649] 0 0 0 0 0 0 0 0 0 0 0 0 0 0 0 0 0 0 0 0 0 0 0 0 0 0 0 0 0 0 0 0 0 0 0 0\n",
       " [9685] 0 0 0 0 0 0 0 0 0 0 0 0 0 0 0 0 0 0 0 0 0 0 0 0 0 0 0 0 0 0 0 0 0 0 0 0\n",
       " [9721] 0 0 0 0 0 0 0 0 0 0 0 0 0 0 0 0 0 0 0 0 0 0 0 0 0 0 0 0 0 0 0 0 0 0 0 0\n",
       " [9757] 0 0 0 0 0 0 0 0 0 0 0 0 0 0 0 0 0 0 0 0 0 0 0 0 0 0 0 0 0 0 0 0 0 0 0 0\n",
       " [9793] 0 0 0 0 0 0 0 0 0 0 0 0 0 0 0 0 0 0 0 0 0 0 0 0 0 0 0 0 0 0 0 0 0 0 0 0\n",
       " [9829] 0 0 0 0 0 0 0 0 0 0 0 0 0 0 0 0 0 0 0 0 0 0 0 0 0 0 0 0 0 0 0 0 0 0 0 0\n",
       " [9865] 0 0 0 0 0 0 0 0 0 0 0 0 0 0 0 0 0 0 0 0 0 0 0 0 0 0 0 0 0 0 0 0 0 0 0 0\n",
       " [9901] 0 0 0 0 0 0 0 0 0 0 0 0 0 0 0 0 0 0 0 0 0 0 0 0 0 0 0 0 0 0 0 0 0 0 0 0\n",
       " [9937] 0 0 0 0 0 0 0 0 0 0 0 0 0 0 0 0 0 0 0 0 0 0 0 0 0 0 0 0 0 0 0 0 0 0 0 0\n",
       " [9973] 0 0 0 0 0 0 0 0 0 0 0 0 0 0 0 0 0 0 0 0 0 0 0 0 0 0 0 0"
      ]
     },
     "metadata": {},
     "output_type": "display_data"
    }
   ],
   "source": [
    "len = numeric(10000)\n",
    "len"
   ]
  },
  {
   "cell_type": "code",
   "execution_count": 143,
   "id": "f61cea9e-eedb-4d93-bd41-ee53ab4ea031",
   "metadata": {},
   "outputs": [],
   "source": [
    "for(i in 1:10000) len[i] = length(rle(sample(y))[[2]])"
   ]
  },
  {
   "cell_type": "code",
   "execution_count": 144,
   "id": "3f8eb067-2d42-402b-a6c2-41938bf0b2b7",
   "metadata": {},
   "outputs": [
    {
     "data": {
      "image/png": "[encoded data removed]",
      "text/plain": [
       "Plot with title \"Histogram of len\""
      ]
     },
     "metadata": {
      "image/png": {
       "height": 420,
       "width": 420
      }
     },
     "output_type": "display_data"
    }
   ],
   "source": [
    "hist(len)"
   ]
  },
  {
   "cell_type": "code",
   "execution_count": 145,
   "id": "b4ccfcf4-eeb8-41a9-9b04-baedc496cc63",
   "metadata": {},
   "outputs": [
    {
     "data": {
      "text/html": [
       "<style>\n",
       ".dl-inline {width: auto; margin:0; padding: 0}\n",
       ".dl-inline>dt, .dl-inline>dd {float: none; width: auto; display: inline-block}\n",
       ".dl-inline>dt::after {content: \":\\0020\"; padding-right: .5ex}\n",
       ".dl-inline>dt:not(:first-of-type) {padding-left: .5ex}\n",
       "</style><dl class=dl-inline><dt>2.5%</dt><dd>21</dd><dt>97.5%</dt><dd>35</dd></dl>\n"
      ],
      "text/latex": [
       "\\begin{description*}\n",
       "\\item[2.5\\textbackslash{}\\%] 21\n",
       "\\item[97.5\\textbackslash{}\\%] 35\n",
       "\\end{description*}\n"
      ],
      "text/markdown": [
       "2.5%\n",
       ":   2197.5%\n",
       ":   35\n",
       "\n"
      ],
      "text/plain": [
       " 2.5% 97.5% \n",
       "   21    35 "
      ]
     },
     "metadata": {},
     "output_type": "display_data"
    }
   ],
   "source": [
    "quantile(len, c(0.025, 0.975))"
   ]
  },
  {
   "cell_type": "markdown",
   "id": "db5d74fe-01e0-4548-80fc-5083096cc335",
   "metadata": {},
   "source": [
    "### union(), intersect(), setdiff()"
   ]
  },
  {
   "cell_type": "markdown",
   "id": "094af20b-bce7-4a32-898f-19f9e0bcccea",
   "metadata": {},
   "source": [
    "`union()` : 합집합\n",
    "\n",
    "`intersect()` : 교집합\n",
    "\n",
    "`setdiff()` : 차집합"
   ]
  },
  {
   "cell_type": "markdown",
   "id": "4e2d8fd4-6879-4bbc-82a9-e54883d08959",
   "metadata": {},
   "source": [
    "- 다음 두 집합의 합집합, 교집합, 집합차 등을 구한다."
   ]
  },
  {
   "cell_type": "code",
   "execution_count": 146,
   "id": "e9526b46-d1d0-4b70-a523-bc25309571a7",
   "metadata": {},
   "outputs": [],
   "source": [
    "setA <- c(\"a\", \"b\", \"c\", \"d\", \"e\")\n",
    "setB <- c(\"d\", \"e\", \"f\", \"g\")"
   ]
  },
  {
   "cell_type": "code",
   "execution_count": 147,
   "id": "28559e09-2c92-4857-855c-621d3fcd9241",
   "metadata": {},
   "outputs": [
    {
     "data": {
      "text/html": [
       "<style>\n",
       ".list-inline {list-style: none; margin:0; padding: 0}\n",
       ".list-inline>li {display: inline-block}\n",
       ".list-inline>li:not(:last-child)::after {content: \"\\00b7\"; padding: 0 .5ex}\n",
       "</style>\n",
       "<ol class=list-inline><li>'a'</li><li>'b'</li><li>'c'</li><li>'d'</li><li>'e'</li><li>'f'</li><li>'g'</li></ol>\n"
      ],
      "text/latex": [
       "\\begin{enumerate*}\n",
       "\\item 'a'\n",
       "\\item 'b'\n",
       "\\item 'c'\n",
       "\\item 'd'\n",
       "\\item 'e'\n",
       "\\item 'f'\n",
       "\\item 'g'\n",
       "\\end{enumerate*}\n"
      ],
      "text/markdown": [
       "1. 'a'\n",
       "2. 'b'\n",
       "3. 'c'\n",
       "4. 'd'\n",
       "5. 'e'\n",
       "6. 'f'\n",
       "7. 'g'\n",
       "\n",
       "\n"
      ],
      "text/plain": [
       "[1] \"a\" \"b\" \"c\" \"d\" \"e\" \"f\" \"g\""
      ]
     },
     "metadata": {},
     "output_type": "display_data"
    }
   ],
   "source": [
    "union(setA, setB)"
   ]
  },
  {
   "cell_type": "code",
   "execution_count": 148,
   "id": "2b9f6da8-df77-4695-ace8-15b62ccff630",
   "metadata": {},
   "outputs": [
    {
     "data": {
      "text/html": [
       "<style>\n",
       ".list-inline {list-style: none; margin:0; padding: 0}\n",
       ".list-inline>li {display: inline-block}\n",
       ".list-inline>li:not(:last-child)::after {content: \"\\00b7\"; padding: 0 .5ex}\n",
       "</style>\n",
       "<ol class=list-inline><li>'d'</li><li>'e'</li></ol>\n"
      ],
      "text/latex": [
       "\\begin{enumerate*}\n",
       "\\item 'd'\n",
       "\\item 'e'\n",
       "\\end{enumerate*}\n"
      ],
      "text/markdown": [
       "1. 'd'\n",
       "2. 'e'\n",
       "\n",
       "\n"
      ],
      "text/plain": [
       "[1] \"d\" \"e\""
      ]
     },
     "metadata": {},
     "output_type": "display_data"
    }
   ],
   "source": [
    "intersect(setA, setB)"
   ]
  },
  {
   "cell_type": "code",
   "execution_count": 149,
   "id": "67224273-687b-4f4c-ad56-4347b676bfec",
   "metadata": {},
   "outputs": [
    {
     "data": {
      "text/html": [
       "<style>\n",
       ".list-inline {list-style: none; margin:0; padding: 0}\n",
       ".list-inline>li {display: inline-block}\n",
       ".list-inline>li:not(:last-child)::after {content: \"\\00b7\"; padding: 0 .5ex}\n",
       "</style>\n",
       "<ol class=list-inline><li>'f'</li><li>'g'</li></ol>\n"
      ],
      "text/latex": [
       "\\begin{enumerate*}\n",
       "\\item 'f'\n",
       "\\item 'g'\n",
       "\\end{enumerate*}\n"
      ],
      "text/markdown": [
       "1. 'f'\n",
       "2. 'g'\n",
       "\n",
       "\n"
      ],
      "text/plain": [
       "[1] \"f\" \"g\""
      ]
     },
     "metadata": {},
     "output_type": "display_data"
    }
   ],
   "source": [
    "setdiff(setB, setA) # setB에서 setA 빼기"
   ]
  },
  {
   "cell_type": "code",
   "execution_count": 150,
   "id": "cc60cfcc-86bf-40ad-b655-00eb93fe391b",
   "metadata": {},
   "outputs": [
    {
     "data": {
      "text/html": [
       "TRUE"
      ],
      "text/latex": [
       "TRUE"
      ],
      "text/markdown": [
       "TRUE"
      ],
      "text/plain": [
       "[1] TRUE"
      ]
     },
     "metadata": {},
     "output_type": "display_data"
    }
   ],
   "source": [
    "all(c(setdiff(setA, setB), intersect(setA, setB), setdiff(setB, setA)) == union(setA, setB))"
   ]
  },
  {
   "cell_type": "code",
   "execution_count": 151,
   "id": "76fa5aec-7601-4061-8e94-73cfcecbf9e2",
   "metadata": {},
   "outputs": [
    {
     "data": {
      "text/html": [
       "TRUE"
      ],
      "text/latex": [
       "TRUE"
      ],
      "text/markdown": [
       "TRUE"
      ],
      "text/plain": [
       "[1] TRUE"
      ]
     },
     "metadata": {},
     "output_type": "display_data"
    }
   ],
   "source": [
    "setequal(2,2)"
   ]
  },
  {
   "cell_type": "code",
   "execution_count": 152,
   "id": "92fcabbb-736f-43a5-b9aa-00a8fba4e10d",
   "metadata": {},
   "outputs": [
    {
     "data": {
      "text/html": [
       "<style>\n",
       ".list-inline {list-style: none; margin:0; padding: 0}\n",
       ".list-inline>li {display: inline-block}\n",
       ".list-inline>li:not(:last-child)::after {content: \"\\00b7\"; padding: 0 .5ex}\n",
       "</style>\n",
       "<ol class=list-inline><li>FALSE</li><li>FALSE</li><li>FALSE</li><li>TRUE</li><li>TRUE</li></ol>\n"
      ],
      "text/latex": [
       "\\begin{enumerate*}\n",
       "\\item FALSE\n",
       "\\item FALSE\n",
       "\\item FALSE\n",
       "\\item TRUE\n",
       "\\item TRUE\n",
       "\\end{enumerate*}\n"
      ],
      "text/markdown": [
       "1. FALSE\n",
       "2. FALSE\n",
       "3. FALSE\n",
       "4. TRUE\n",
       "5. TRUE\n",
       "\n",
       "\n"
      ],
      "text/plain": [
       "[1] FALSE FALSE FALSE  TRUE  TRUE"
      ]
     },
     "metadata": {},
     "output_type": "display_data"
    }
   ],
   "source": [
    "setA %in% setB"
   ]
  },
  {
   "cell_type": "code",
   "execution_count": 153,
   "id": "0b4df06f-477b-48ae-ae5d-41a80086139c",
   "metadata": {},
   "outputs": [
    {
     "data": {
      "text/html": [
       "<style>\n",
       ".list-inline {list-style: none; margin:0; padding: 0}\n",
       ".list-inline>li {display: inline-block}\n",
       ".list-inline>li:not(:last-child)::after {content: \"\\00b7\"; padding: 0 .5ex}\n",
       "</style>\n",
       "<ol class=list-inline><li>TRUE</li><li>TRUE</li><li>FALSE</li><li>FALSE</li></ol>\n"
      ],
      "text/latex": [
       "\\begin{enumerate*}\n",
       "\\item TRUE\n",
       "\\item TRUE\n",
       "\\item FALSE\n",
       "\\item FALSE\n",
       "\\end{enumerate*}\n"
      ],
      "text/markdown": [
       "1. TRUE\n",
       "2. TRUE\n",
       "3. FALSE\n",
       "4. FALSE\n",
       "\n",
       "\n"
      ],
      "text/plain": [
       "[1]  TRUE  TRUE FALSE FALSE"
      ]
     },
     "metadata": {},
     "output_type": "display_data"
    }
   ],
   "source": [
    "setB %in% setA"
   ]
  },
  {
   "cell_type": "code",
   "execution_count": 154,
   "id": "80e3b26b-2c87-4bf1-983e-7b06c6d61ffa",
   "metadata": {},
   "outputs": [
    {
     "data": {
      "text/html": [
       "<style>\n",
       ".list-inline {list-style: none; margin:0; padding: 0}\n",
       ".list-inline>li {display: inline-block}\n",
       ".list-inline>li:not(:last-child)::after {content: \"\\00b7\"; padding: 0 .5ex}\n",
       "</style>\n",
       "<ol class=list-inline><li>'d'</li><li>'e'</li></ol>\n"
      ],
      "text/latex": [
       "\\begin{enumerate*}\n",
       "\\item 'd'\n",
       "\\item 'e'\n",
       "\\end{enumerate*}\n"
      ],
      "text/markdown": [
       "1. 'd'\n",
       "2. 'e'\n",
       "\n",
       "\n"
      ],
      "text/plain": [
       "[1] \"d\" \"e\""
      ]
     },
     "metadata": {},
     "output_type": "display_data"
    }
   ],
   "source": [
    "setA[setA %in% setB]"
   ]
  },
  {
   "cell_type": "markdown",
   "id": "82a246b7-ff76-4208-b361-8ae425885977",
   "metadata": {},
   "source": [
    "## Ch.8 행렬과 배열"
   ]
  },
  {
   "cell_type": "code",
   "execution_count": 155,
   "id": "34160225-0d18-455d-90a8-5b17314cce8f",
   "metadata": {},
   "outputs": [],
   "source": [
    "y = 1:24"
   ]
  },
  {
   "cell_type": "code",
   "execution_count": 156,
   "id": "eb0afbd2-6ffb-44eb-a73f-c9f9d8c6bd64",
   "metadata": {},
   "outputs": [],
   "source": [
    "dim(y) = c(2, 4, 3)"
   ]
  },
  {
   "cell_type": "code",
   "execution_count": 157,
   "id": "49c17500-fc8e-4542-8c99-a25d13d1b5d3",
   "metadata": {},
   "outputs": [
    {
     "name": "stdout",
     "output_type": "stream",
     "text": [
      ", , 1\n",
      "\n",
      "     [,1] [,2] [,3] [,4]\n",
      "[1,]    1    3    5    7\n",
      "[2,]    2    4    6    8\n",
      "\n",
      ", , 2\n",
      "\n",
      "     [,1] [,2] [,3] [,4]\n",
      "[1,]    9   11   13   15\n",
      "[2,]   10   12   14   16\n",
      "\n",
      ", , 3\n",
      "\n",
      "     [,1] [,2] [,3] [,4]\n",
      "[1,]   17   19   21   23\n",
      "[2,]   18   20   22   24\n",
      "\n"
     ]
    }
   ],
   "source": [
    "print(y)"
   ]
  },
  {
   "cell_type": "code",
   "execution_count": 158,
   "id": "6830c596-8211-477e-b887-12a37ba7139a",
   "metadata": {},
   "outputs": [],
   "source": [
    "dim(y) = c(3,2,4)"
   ]
  },
  {
   "cell_type": "code",
   "execution_count": 159,
   "id": "6ee3f843-75e1-4dbf-9589-65b0983f766a",
   "metadata": {},
   "outputs": [
    {
     "name": "stdout",
     "output_type": "stream",
     "text": [
      ", , 1\n",
      "\n",
      "     [,1] [,2]\n",
      "[1,]    1    4\n",
      "[2,]    2    5\n",
      "[3,]    3    6\n",
      "\n",
      ", , 2\n",
      "\n",
      "     [,1] [,2]\n",
      "[1,]    7   10\n",
      "[2,]    8   11\n",
      "[3,]    9   12\n",
      "\n",
      ", , 3\n",
      "\n",
      "     [,1] [,2]\n",
      "[1,]   13   16\n",
      "[2,]   14   17\n",
      "[3,]   15   18\n",
      "\n",
      ", , 4\n",
      "\n",
      "     [,1] [,2]\n",
      "[1,]   19   22\n",
      "[2,]   20   23\n",
      "[3,]   21   24\n",
      "\n"
     ]
    }
   ],
   "source": [
    "print(y)"
   ]
  },
  {
   "cell_type": "code",
   "execution_count": 160,
   "id": "25b23a12-4517-4827-8adb-3937113c971a",
   "metadata": {},
   "outputs": [
    {
     "data": {
      "text/html": [
       "<table class=\"dataframe\">\n",
       "<caption>A matrix: 3 × 3 of type int</caption>\n",
       "<tbody>\n",
       "\t<tr><td>1</td><td>4</td><td>7</td></tr>\n",
       "\t<tr><td>2</td><td>5</td><td>8</td></tr>\n",
       "\t<tr><td>3</td><td>6</td><td>9</td></tr>\n",
       "</tbody>\n",
       "</table>\n"
      ],
      "text/latex": [
       "A matrix: 3 × 3 of type int\n",
       "\\begin{tabular}{lll}\n",
       "\t 1 & 4 & 7\\\\\n",
       "\t 2 & 5 & 8\\\\\n",
       "\t 3 & 6 & 9\\\\\n",
       "\\end{tabular}\n"
      ],
      "text/markdown": [
       "\n",
       "A matrix: 3 × 3 of type int\n",
       "\n",
       "| 1 | 4 | 7 |\n",
       "| 2 | 5 | 8 |\n",
       "| 3 | 6 | 9 |\n",
       "\n"
      ],
      "text/plain": [
       "     [,1] [,2] [,3]\n",
       "[1,] 1    4    7   \n",
       "[2,] 2    5    8   \n",
       "[3,] 3    6    9   "
      ]
     },
     "metadata": {},
     "output_type": "display_data"
    }
   ],
   "source": [
    "X = matrix(1:9, nrow = 3)\n",
    "X"
   ]
  },
  {
   "cell_type": "code",
   "execution_count": 161,
   "id": "77632669-27d8-45a6-833b-f84e15de8979",
   "metadata": {},
   "outputs": [
    {
     "data": {
      "text/html": [
       "<table class=\"dataframe\">\n",
       "<caption>A matrix: 3 × 3 of type int</caption>\n",
       "<tbody>\n",
       "\t<tr><td>1</td><td>4</td><td>7</td></tr>\n",
       "\t<tr><td>2</td><td>5</td><td>8</td></tr>\n",
       "\t<tr><td>3</td><td>6</td><td>9</td></tr>\n",
       "</tbody>\n",
       "</table>\n"
      ],
      "text/latex": [
       "A matrix: 3 × 3 of type int\n",
       "\\begin{tabular}{lll}\n",
       "\t 1 & 4 & 7\\\\\n",
       "\t 2 & 5 & 8\\\\\n",
       "\t 3 & 6 & 9\\\\\n",
       "\\end{tabular}\n"
      ],
      "text/markdown": [
       "\n",
       "A matrix: 3 × 3 of type int\n",
       "\n",
       "| 1 | 4 | 7 |\n",
       "| 2 | 5 | 8 |\n",
       "| 3 | 6 | 9 |\n",
       "\n"
      ],
      "text/plain": [
       "     [,1] [,2] [,3]\n",
       "[1,] 1    4    7   \n",
       "[2,] 2    5    8   \n",
       "[3,] 3    6    9   "
      ]
     },
     "metadata": {},
     "output_type": "display_data"
    }
   ],
   "source": [
    "X2 = matrix(1:9, ncol = 3)\n",
    "X2"
   ]
  },
  {
   "cell_type": "code",
   "execution_count": 162,
   "id": "126a2bde-e24a-4a95-b779-c500110cffeb",
   "metadata": {},
   "outputs": [
    {
     "data": {
      "text/html": [
       "<style>\n",
       ".list-inline {list-style: none; margin:0; padding: 0}\n",
       ".list-inline>li {display: inline-block}\n",
       ".list-inline>li:not(:last-child)::after {content: \"\\00b7\"; padding: 0 .5ex}\n",
       "</style>\n",
       "<ol class=list-inline><li>'matrix'</li><li>'array'</li></ol>\n"
      ],
      "text/latex": [
       "\\begin{enumerate*}\n",
       "\\item 'matrix'\n",
       "\\item 'array'\n",
       "\\end{enumerate*}\n"
      ],
      "text/markdown": [
       "1. 'matrix'\n",
       "2. 'array'\n",
       "\n",
       "\n"
      ],
      "text/plain": [
       "[1] \"matrix\" \"array\" "
      ]
     },
     "metadata": {},
     "output_type": "display_data"
    }
   ],
   "source": [
    "class(X)"
   ]
  },
  {
   "cell_type": "code",
   "execution_count": 163,
   "id": "5cc6b025-4879-45b7-8bfd-1f5a6cd27815",
   "metadata": {},
   "outputs": [
    {
     "data": {
      "text/html": [
       "<strong>$dim</strong> = <style>\n",
       ".list-inline {list-style: none; margin:0; padding: 0}\n",
       ".list-inline>li {display: inline-block}\n",
       ".list-inline>li:not(:last-child)::after {content: \"\\00b7\"; padding: 0 .5ex}\n",
       "</style>\n",
       "<ol class=list-inline><li>3</li><li>3</li></ol>\n"
      ],
      "text/latex": [
       "\\textbf{\\$dim} = \\begin{enumerate*}\n",
       "\\item 3\n",
       "\\item 3\n",
       "\\end{enumerate*}\n"
      ],
      "text/markdown": [
       "**$dim** = 1. 3\n",
       "2. 3\n",
       "\n",
       "\n"
      ],
      "text/plain": [
       "$dim\n",
       "[1] 3 3\n"
      ]
     },
     "metadata": {},
     "output_type": "display_data"
    }
   ],
   "source": [
    "attributes(X)"
   ]
  },
  {
   "cell_type": "markdown",
   "id": "2bdd7fc8-9ce1-409f-9532-0d4b4a155745",
   "metadata": {},
   "source": [
    "- 데이터를 행별로 넣고 싶다면 `byrow = T` 옵션을 사용한다."
   ]
  },
  {
   "cell_type": "code",
   "execution_count": 164,
   "id": "51ab4cc9-07b9-453d-952f-579eadeee273",
   "metadata": {},
   "outputs": [],
   "source": [
    "vector = c(1,2,3,4,4,3,2,1)"
   ]
  },
  {
   "cell_type": "code",
   "execution_count": 165,
   "id": "a0701799-081c-4c97-bbe0-2d422dd4fb8d",
   "metadata": {},
   "outputs": [],
   "source": [
    "V = matrix(vector, byrow = TRUE, nrow = 2)"
   ]
  },
  {
   "cell_type": "code",
   "execution_count": 166,
   "id": "ad0e4886-080a-4207-ae25-ce7a741c4fc2",
   "metadata": {},
   "outputs": [
    {
     "data": {
      "text/html": [
       "<table class=\"dataframe\">\n",
       "<caption>A matrix: 2 × 4 of type dbl</caption>\n",
       "<tbody>\n",
       "\t<tr><td>1</td><td>2</td><td>3</td><td>4</td></tr>\n",
       "\t<tr><td>4</td><td>3</td><td>2</td><td>1</td></tr>\n",
       "</tbody>\n",
       "</table>\n"
      ],
      "text/latex": [
       "A matrix: 2 × 4 of type dbl\n",
       "\\begin{tabular}{llll}\n",
       "\t 1 & 2 & 3 & 4\\\\\n",
       "\t 4 & 3 & 2 & 1\\\\\n",
       "\\end{tabular}\n"
      ],
      "text/markdown": [
       "\n",
       "A matrix: 2 × 4 of type dbl\n",
       "\n",
       "| 1 | 2 | 3 | 4 |\n",
       "| 4 | 3 | 2 | 1 |\n",
       "\n"
      ],
      "text/plain": [
       "     [,1] [,2] [,3] [,4]\n",
       "[1,] 1    2    3    4   \n",
       "[2,] 4    3    2    1   "
      ]
     },
     "metadata": {},
     "output_type": "display_data"
    }
   ],
   "source": [
    "V"
   ]
  },
  {
   "cell_type": "code",
   "execution_count": 167,
   "id": "23df4125-3e80-4cc7-8807-0014c150eceb",
   "metadata": {},
   "outputs": [],
   "source": [
    "dim(vector) <- c(4,2)"
   ]
  },
  {
   "cell_type": "code",
   "execution_count": 168,
   "id": "20cbbfc3-c11e-49e3-9ac3-510ac62f2da5",
   "metadata": {},
   "outputs": [
    {
     "data": {
      "text/html": [
       "<table class=\"dataframe\">\n",
       "<caption>A matrix: 4 × 2 of type dbl</caption>\n",
       "<tbody>\n",
       "\t<tr><td>1</td><td>4</td></tr>\n",
       "\t<tr><td>2</td><td>3</td></tr>\n",
       "\t<tr><td>3</td><td>2</td></tr>\n",
       "\t<tr><td>4</td><td>1</td></tr>\n",
       "</tbody>\n",
       "</table>\n"
      ],
      "text/latex": [
       "A matrix: 4 × 2 of type dbl\n",
       "\\begin{tabular}{ll}\n",
       "\t 1 & 4\\\\\n",
       "\t 2 & 3\\\\\n",
       "\t 3 & 2\\\\\n",
       "\t 4 & 1\\\\\n",
       "\\end{tabular}\n"
      ],
      "text/markdown": [
       "\n",
       "A matrix: 4 × 2 of type dbl\n",
       "\n",
       "| 1 | 4 |\n",
       "| 2 | 3 |\n",
       "| 3 | 2 |\n",
       "| 4 | 1 |\n",
       "\n"
      ],
      "text/plain": [
       "     [,1] [,2]\n",
       "[1,] 1    4   \n",
       "[2,] 2    3   \n",
       "[3,] 3    2   \n",
       "[4,] 4    1   "
      ]
     },
     "metadata": {},
     "output_type": "display_data"
    }
   ],
   "source": [
    "vector"
   ]
  },
  {
   "cell_type": "markdown",
   "id": "42a7e13c-ec73-4863-bf75-c5b75d3e77c1",
   "metadata": {},
   "source": [
    "### 행렬에서 열과 행의 이름"
   ]
  },
  {
   "cell_type": "code",
   "execution_count": 169,
   "id": "b4e869dd-1076-4e30-96a8-5cd72e1b37c3",
   "metadata": {},
   "outputs": [
    {
     "data": {
      "text/html": [
       "<table class=\"dataframe\">\n",
       "<caption>A matrix: 4 × 5 of type int</caption>\n",
       "<tbody>\n",
       "\t<tr><td>1</td><td>0</td><td>2</td><td>2</td><td>2</td></tr>\n",
       "\t<tr><td>1</td><td>3</td><td>0</td><td>1</td><td>5</td></tr>\n",
       "\t<tr><td>2</td><td>4</td><td>0</td><td>2</td><td>1</td></tr>\n",
       "\t<tr><td>3</td><td>2</td><td>0</td><td>1</td><td>2</td></tr>\n",
       "</tbody>\n",
       "</table>\n"
      ],
      "text/latex": [
       "A matrix: 4 × 5 of type int\n",
       "\\begin{tabular}{lllll}\n",
       "\t 1 & 0 & 2 & 2 & 2\\\\\n",
       "\t 1 & 3 & 0 & 1 & 5\\\\\n",
       "\t 2 & 4 & 0 & 2 & 1\\\\\n",
       "\t 3 & 2 & 0 & 1 & 2\\\\\n",
       "\\end{tabular}\n"
      ],
      "text/markdown": [
       "\n",
       "A matrix: 4 × 5 of type int\n",
       "\n",
       "| 1 | 0 | 2 | 2 | 2 |\n",
       "| 1 | 3 | 0 | 1 | 5 |\n",
       "| 2 | 4 | 0 | 2 | 1 |\n",
       "| 3 | 2 | 0 | 1 | 2 |\n",
       "\n"
      ],
      "text/plain": [
       "     [,1] [,2] [,3] [,4] [,5]\n",
       "[1,] 1    0    2    2    2   \n",
       "[2,] 1    3    0    1    5   \n",
       "[3,] 2    4    0    2    1   \n",
       "[4,] 3    2    0    1    2   "
      ]
     },
     "metadata": {},
     "output_type": "display_data"
    }
   ],
   "source": [
    "set.seed(1)\n",
    "X = matrix(rpois(20, 1.5), nrow =4)\n",
    "X"
   ]
  },
  {
   "cell_type": "code",
   "execution_count": 170,
   "id": "9ce51ae2-42d4-470e-906c-c08e0a0e43ce",
   "metadata": {},
   "outputs": [],
   "source": [
    "rownames(X) = rownames(X, do.NULL = FALSE, prefix = 'Trial')"
   ]
  },
  {
   "cell_type": "code",
   "execution_count": 171,
   "id": "618ea048-203c-40ba-9186-bfd552abd9cf",
   "metadata": {},
   "outputs": [
    {
     "data": {
      "text/html": [
       "<style>\n",
       ".list-inline {list-style: none; margin:0; padding: 0}\n",
       ".list-inline>li {display: inline-block}\n",
       ".list-inline>li:not(:last-child)::after {content: \"\\00b7\"; padding: 0 .5ex}\n",
       "</style>\n",
       "<ol class=list-inline><li>'Trial1'</li><li>'Trial2'</li><li>'Trial3'</li><li>'Trial4'</li></ol>\n"
      ],
      "text/latex": [
       "\\begin{enumerate*}\n",
       "\\item 'Trial1'\n",
       "\\item 'Trial2'\n",
       "\\item 'Trial3'\n",
       "\\item 'Trial4'\n",
       "\\end{enumerate*}\n"
      ],
      "text/markdown": [
       "1. 'Trial1'\n",
       "2. 'Trial2'\n",
       "3. 'Trial3'\n",
       "4. 'Trial4'\n",
       "\n",
       "\n"
      ],
      "text/plain": [
       "[1] \"Trial1\" \"Trial2\" \"Trial3\" \"Trial4\""
      ]
     },
     "metadata": {},
     "output_type": "display_data"
    }
   ],
   "source": [
    "rownames(X)"
   ]
  },
  {
   "cell_type": "code",
   "execution_count": 172,
   "id": "4fbacfc1-07bb-4d23-9b7e-bc7e83f36a32",
   "metadata": {},
   "outputs": [
    {
     "data": {
      "text/html": [
       "<table class=\"dataframe\">\n",
       "<caption>A matrix: 4 × 5 of type int</caption>\n",
       "<tbody>\n",
       "\t<tr><th scope=row>Trial1</th><td>1</td><td>0</td><td>2</td><td>2</td><td>2</td></tr>\n",
       "\t<tr><th scope=row>Trial2</th><td>1</td><td>3</td><td>0</td><td>1</td><td>5</td></tr>\n",
       "\t<tr><th scope=row>Trial3</th><td>2</td><td>4</td><td>0</td><td>2</td><td>1</td></tr>\n",
       "\t<tr><th scope=row>Trial4</th><td>3</td><td>2</td><td>0</td><td>1</td><td>2</td></tr>\n",
       "</tbody>\n",
       "</table>\n"
      ],
      "text/latex": [
       "A matrix: 4 × 5 of type int\n",
       "\\begin{tabular}{r|lllll}\n",
       "\tTrial1 & 1 & 0 & 2 & 2 & 2\\\\\n",
       "\tTrial2 & 1 & 3 & 0 & 1 & 5\\\\\n",
       "\tTrial3 & 2 & 4 & 0 & 2 & 1\\\\\n",
       "\tTrial4 & 3 & 2 & 0 & 1 & 2\\\\\n",
       "\\end{tabular}\n"
      ],
      "text/markdown": [
       "\n",
       "A matrix: 4 × 5 of type int\n",
       "\n",
       "| Trial1 | 1 | 0 | 2 | 2 | 2 |\n",
       "| Trial2 | 1 | 3 | 0 | 1 | 5 |\n",
       "| Trial3 | 2 | 4 | 0 | 2 | 1 |\n",
       "| Trial4 | 3 | 2 | 0 | 1 | 2 |\n",
       "\n"
      ],
      "text/plain": [
       "       [,1] [,2] [,3] [,4] [,5]\n",
       "Trial1 1    0    2    2    2   \n",
       "Trial2 1    3    0    1    5   \n",
       "Trial3 2    4    0    2    1   \n",
       "Trial4 3    2    0    1    2   "
      ]
     },
     "metadata": {},
     "output_type": "display_data"
    }
   ],
   "source": [
    "X"
   ]
  },
  {
   "cell_type": "code",
   "execution_count": 173,
   "id": "7f1eabd8-04bb-4f75-bf98-bba72fb4336a",
   "metadata": {},
   "outputs": [],
   "source": [
    "drug.names = c('aspirin', 'paracetamol', 'nurofen', 'hedex', 'placebo')"
   ]
  },
  {
   "cell_type": "code",
   "execution_count": 174,
   "id": "74c0b7c8-02fb-4bc7-95cf-2eef34f4c3b1",
   "metadata": {},
   "outputs": [
    {
     "data": {
      "text/html": [
       "<table class=\"dataframe\">\n",
       "<caption>A matrix: 4 × 5 of type int</caption>\n",
       "<thead>\n",
       "\t<tr><th></th><th scope=col>aspirin</th><th scope=col>paracetamol</th><th scope=col>nurofen</th><th scope=col>hedex</th><th scope=col>placebo</th></tr>\n",
       "</thead>\n",
       "<tbody>\n",
       "\t<tr><th scope=row>Trial1</th><td>1</td><td>0</td><td>2</td><td>2</td><td>2</td></tr>\n",
       "\t<tr><th scope=row>Trial2</th><td>1</td><td>3</td><td>0</td><td>1</td><td>5</td></tr>\n",
       "\t<tr><th scope=row>Trial3</th><td>2</td><td>4</td><td>0</td><td>2</td><td>1</td></tr>\n",
       "\t<tr><th scope=row>Trial4</th><td>3</td><td>2</td><td>0</td><td>1</td><td>2</td></tr>\n",
       "</tbody>\n",
       "</table>\n"
      ],
      "text/latex": [
       "A matrix: 4 × 5 of type int\n",
       "\\begin{tabular}{r|lllll}\n",
       "  & aspirin & paracetamol & nurofen & hedex & placebo\\\\\n",
       "\\hline\n",
       "\tTrial1 & 1 & 0 & 2 & 2 & 2\\\\\n",
       "\tTrial2 & 1 & 3 & 0 & 1 & 5\\\\\n",
       "\tTrial3 & 2 & 4 & 0 & 2 & 1\\\\\n",
       "\tTrial4 & 3 & 2 & 0 & 1 & 2\\\\\n",
       "\\end{tabular}\n"
      ],
      "text/markdown": [
       "\n",
       "A matrix: 4 × 5 of type int\n",
       "\n",
       "| <!--/--> | aspirin | paracetamol | nurofen | hedex | placebo |\n",
       "|---|---|---|---|---|---|\n",
       "| Trial1 | 1 | 0 | 2 | 2 | 2 |\n",
       "| Trial2 | 1 | 3 | 0 | 1 | 5 |\n",
       "| Trial3 | 2 | 4 | 0 | 2 | 1 |\n",
       "| Trial4 | 3 | 2 | 0 | 1 | 2 |\n",
       "\n"
      ],
      "text/plain": [
       "       aspirin paracetamol nurofen hedex placebo\n",
       "Trial1 1       0           2       2     2      \n",
       "Trial2 1       3           0       1     5      \n",
       "Trial3 2       4           0       2     1      \n",
       "Trial4 3       2           0       1     2      "
      ]
     },
     "metadata": {},
     "output_type": "display_data"
    }
   ],
   "source": [
    "colnames(X) = drug.names\n",
    "X"
   ]
  },
  {
   "cell_type": "code",
   "execution_count": 175,
   "id": "6c221951-a762-4add-add1-8e8dbaaf3f3d",
   "metadata": {},
   "outputs": [],
   "source": [
    "dimnames(X) = list(paste('row.', 1:4, sep=''), paste('drug.', 1:5, sep = ''))"
   ]
  },
  {
   "cell_type": "code",
   "execution_count": 176,
   "id": "411a50e5-e28d-41cc-bf0e-168f5b667116",
   "metadata": {},
   "outputs": [
    {
     "data": {
      "text/html": [
       "<ol>\n",
       "\t<li><style>\n",
       ".list-inline {list-style: none; margin:0; padding: 0}\n",
       ".list-inline>li {display: inline-block}\n",
       ".list-inline>li:not(:last-child)::after {content: \"\\00b7\"; padding: 0 .5ex}\n",
       "</style>\n",
       "<ol class=list-inline><li>'row.1'</li><li>'row.2'</li><li>'row.3'</li><li>'row.4'</li></ol>\n",
       "</li>\n",
       "\t<li><style>\n",
       ".list-inline {list-style: none; margin:0; padding: 0}\n",
       ".list-inline>li {display: inline-block}\n",
       ".list-inline>li:not(:last-child)::after {content: \"\\00b7\"; padding: 0 .5ex}\n",
       "</style>\n",
       "<ol class=list-inline><li>'drug.1'</li><li>'drug.2'</li><li>'drug.3'</li><li>'drug.4'</li><li>'drug.5'</li></ol>\n",
       "</li>\n",
       "</ol>\n"
      ],
      "text/latex": [
       "\\begin{enumerate}\n",
       "\\item \\begin{enumerate*}\n",
       "\\item 'row.1'\n",
       "\\item 'row.2'\n",
       "\\item 'row.3'\n",
       "\\item 'row.4'\n",
       "\\end{enumerate*}\n",
       "\n",
       "\\item \\begin{enumerate*}\n",
       "\\item 'drug.1'\n",
       "\\item 'drug.2'\n",
       "\\item 'drug.3'\n",
       "\\item 'drug.4'\n",
       "\\item 'drug.5'\n",
       "\\end{enumerate*}\n",
       "\n",
       "\\end{enumerate}\n"
      ],
      "text/markdown": [
       "1. 1. 'row.1'\n",
       "2. 'row.2'\n",
       "3. 'row.3'\n",
       "4. 'row.4'\n",
       "\n",
       "\n",
       "\n",
       "2. 1. 'drug.1'\n",
       "2. 'drug.2'\n",
       "3. 'drug.3'\n",
       "4. 'drug.4'\n",
       "5. 'drug.5'\n",
       "\n",
       "\n",
       "\n",
       "\n",
       "\n"
      ],
      "text/plain": [
       "[[1]]\n",
       "[1] \"row.1\" \"row.2\" \"row.3\" \"row.4\"\n",
       "\n",
       "[[2]]\n",
       "[1] \"drug.1\" \"drug.2\" \"drug.3\" \"drug.4\" \"drug.5\"\n"
      ]
     },
     "metadata": {},
     "output_type": "display_data"
    }
   ],
   "source": [
    "dimnames(X)"
   ]
  },
  {
   "cell_type": "code",
   "execution_count": 177,
   "id": "cb28a429-51ef-4bea-af1b-c625881ec6f2",
   "metadata": {},
   "outputs": [
    {
     "data": {
      "text/html": [
       "<table class=\"dataframe\">\n",
       "<caption>A matrix: 4 × 5 of type int</caption>\n",
       "<thead>\n",
       "\t<tr><th></th><th scope=col>drug.1</th><th scope=col>drug.2</th><th scope=col>drug.3</th><th scope=col>drug.4</th><th scope=col>drug.5</th></tr>\n",
       "</thead>\n",
       "<tbody>\n",
       "\t<tr><th scope=row>row.1</th><td>1</td><td>0</td><td>2</td><td>2</td><td>2</td></tr>\n",
       "\t<tr><th scope=row>row.2</th><td>1</td><td>3</td><td>0</td><td>1</td><td>5</td></tr>\n",
       "\t<tr><th scope=row>row.3</th><td>2</td><td>4</td><td>0</td><td>2</td><td>1</td></tr>\n",
       "\t<tr><th scope=row>row.4</th><td>3</td><td>2</td><td>0</td><td>1</td><td>2</td></tr>\n",
       "</tbody>\n",
       "</table>\n"
      ],
      "text/latex": [
       "A matrix: 4 × 5 of type int\n",
       "\\begin{tabular}{r|lllll}\n",
       "  & drug.1 & drug.2 & drug.3 & drug.4 & drug.5\\\\\n",
       "\\hline\n",
       "\trow.1 & 1 & 0 & 2 & 2 & 2\\\\\n",
       "\trow.2 & 1 & 3 & 0 & 1 & 5\\\\\n",
       "\trow.3 & 2 & 4 & 0 & 2 & 1\\\\\n",
       "\trow.4 & 3 & 2 & 0 & 1 & 2\\\\\n",
       "\\end{tabular}\n"
      ],
      "text/markdown": [
       "\n",
       "A matrix: 4 × 5 of type int\n",
       "\n",
       "| <!--/--> | drug.1 | drug.2 | drug.3 | drug.4 | drug.5 |\n",
       "|---|---|---|---|---|---|\n",
       "| row.1 | 1 | 0 | 2 | 2 | 2 |\n",
       "| row.2 | 1 | 3 | 0 | 1 | 5 |\n",
       "| row.3 | 2 | 4 | 0 | 2 | 1 |\n",
       "| row.4 | 3 | 2 | 0 | 1 | 2 |\n",
       "\n"
      ],
      "text/plain": [
       "      drug.1 drug.2 drug.3 drug.4 drug.5\n",
       "row.1 1      0      2      2      2     \n",
       "row.2 1      3      0      1      5     \n",
       "row.3 2      4      0      2      1     \n",
       "row.4 3      2      0      1      2     "
      ]
     },
     "metadata": {},
     "output_type": "display_data"
    }
   ],
   "source": [
    "X"
   ]
  },
  {
   "cell_type": "markdown",
   "id": "f606ee98-92bf-4b60-a47f-eaf5105ff7d5",
   "metadata": {},
   "source": [
    "### 행과 열의 계산"
   ]
  },
  {
   "cell_type": "code",
   "execution_count": 178,
   "id": "67aa2787-6b0e-4b24-a8e2-99b4741679dc",
   "metadata": {},
   "outputs": [],
   "source": [
    "set.seed(1)\n",
    "X = matrix(rpois(20,1.5), nrow = 4)"
   ]
  },
  {
   "cell_type": "code",
   "execution_count": 179,
   "id": "39e3df42-3d84-42f3-9a34-5851bb7267c5",
   "metadata": {},
   "outputs": [
    {
     "data": {
      "text/html": [
       "<table class=\"dataframe\">\n",
       "<caption>A matrix: 4 × 5 of type int</caption>\n",
       "<tbody>\n",
       "\t<tr><td>1</td><td>0</td><td>2</td><td>2</td><td>2</td></tr>\n",
       "\t<tr><td>1</td><td>3</td><td>0</td><td>1</td><td>5</td></tr>\n",
       "\t<tr><td>2</td><td>4</td><td>0</td><td>2</td><td>1</td></tr>\n",
       "\t<tr><td>3</td><td>2</td><td>0</td><td>1</td><td>2</td></tr>\n",
       "</tbody>\n",
       "</table>\n"
      ],
      "text/latex": [
       "A matrix: 4 × 5 of type int\n",
       "\\begin{tabular}{lllll}\n",
       "\t 1 & 0 & 2 & 2 & 2\\\\\n",
       "\t 1 & 3 & 0 & 1 & 5\\\\\n",
       "\t 2 & 4 & 0 & 2 & 1\\\\\n",
       "\t 3 & 2 & 0 & 1 & 2\\\\\n",
       "\\end{tabular}\n"
      ],
      "text/markdown": [
       "\n",
       "A matrix: 4 × 5 of type int\n",
       "\n",
       "| 1 | 0 | 2 | 2 | 2 |\n",
       "| 1 | 3 | 0 | 1 | 5 |\n",
       "| 2 | 4 | 0 | 2 | 1 |\n",
       "| 3 | 2 | 0 | 1 | 2 |\n",
       "\n"
      ],
      "text/plain": [
       "     [,1] [,2] [,3] [,4] [,5]\n",
       "[1,] 1    0    2    2    2   \n",
       "[2,] 1    3    0    1    5   \n",
       "[3,] 2    4    0    2    1   \n",
       "[4,] 3    2    0    1    2   "
      ]
     },
     "metadata": {},
     "output_type": "display_data"
    }
   ],
   "source": [
    "X"
   ]
  },
  {
   "cell_type": "code",
   "execution_count": 180,
   "id": "9ded0f41-e64c-467d-a350-308b3c24fb86",
   "metadata": {},
   "outputs": [
    {
     "data": {
      "text/html": [
       "2.5"
      ],
      "text/latex": [
       "2.5"
      ],
      "text/markdown": [
       "2.5"
      ],
      "text/plain": [
       "[1] 2.5"
      ]
     },
     "metadata": {},
     "output_type": "display_data"
    }
   ],
   "source": [
    "mean(X[,5])"
   ]
  },
  {
   "cell_type": "code",
   "execution_count": 181,
   "id": "6ff387e1-2152-4e63-9c48-700194466c38",
   "metadata": {},
   "outputs": [
    {
     "data": {
      "text/html": [
       "1.3"
      ],
      "text/latex": [
       "1.3"
      ],
      "text/markdown": [
       "1.3"
      ],
      "text/plain": [
       "[1] 1.3"
      ]
     },
     "metadata": {},
     "output_type": "display_data"
    }
   ],
   "source": [
    "var(X[4,])"
   ]
  },
  {
   "cell_type": "code",
   "execution_count": 182,
   "id": "5f9eead2-e9b1-469a-8cb2-9fee885cfe82",
   "metadata": {},
   "outputs": [
    {
     "data": {
      "text/html": [
       "<style>\n",
       ".list-inline {list-style: none; margin:0; padding: 0}\n",
       ".list-inline>li {display: inline-block}\n",
       ".list-inline>li:not(:last-child)::after {content: \"\\00b7\"; padding: 0 .5ex}\n",
       "</style>\n",
       "<ol class=list-inline><li>7</li><li>10</li><li>9</li><li>8</li></ol>\n"
      ],
      "text/latex": [
       "\\begin{enumerate*}\n",
       "\\item 7\n",
       "\\item 10\n",
       "\\item 9\n",
       "\\item 8\n",
       "\\end{enumerate*}\n"
      ],
      "text/markdown": [
       "1. 7\n",
       "2. 10\n",
       "3. 9\n",
       "4. 8\n",
       "\n",
       "\n"
      ],
      "text/plain": [
       "[1]  7 10  9  8"
      ]
     },
     "metadata": {},
     "output_type": "display_data"
    }
   ],
   "source": [
    "rowSums(X)"
   ]
  },
  {
   "cell_type": "code",
   "execution_count": 183,
   "id": "7ac3e966-aa7f-4ae0-9ee7-d7da1bc9d36c",
   "metadata": {},
   "outputs": [
    {
     "data": {
      "text/html": [
       "<style>\n",
       ".list-inline {list-style: none; margin:0; padding: 0}\n",
       ".list-inline>li {display: inline-block}\n",
       ".list-inline>li:not(:last-child)::after {content: \"\\00b7\"; padding: 0 .5ex}\n",
       "</style>\n",
       "<ol class=list-inline><li>7</li><li>9</li><li>2</li><li>6</li><li>10</li></ol>\n"
      ],
      "text/latex": [
       "\\begin{enumerate*}\n",
       "\\item 7\n",
       "\\item 9\n",
       "\\item 2\n",
       "\\item 6\n",
       "\\item 10\n",
       "\\end{enumerate*}\n"
      ],
      "text/markdown": [
       "1. 7\n",
       "2. 9\n",
       "3. 2\n",
       "4. 6\n",
       "5. 10\n",
       "\n",
       "\n"
      ],
      "text/plain": [
       "[1]  7  9  2  6 10"
      ]
     },
     "metadata": {},
     "output_type": "display_data"
    }
   ],
   "source": [
    "colSums(X)"
   ]
  },
  {
   "cell_type": "code",
   "execution_count": 184,
   "id": "917a0924-252a-4372-983c-15ebbaea31b3",
   "metadata": {},
   "outputs": [
    {
     "data": {
      "text/html": [
       "<style>\n",
       ".list-inline {list-style: none; margin:0; padding: 0}\n",
       ".list-inline>li {display: inline-block}\n",
       ".list-inline>li:not(:last-child)::after {content: \"\\00b7\"; padding: 0 .5ex}\n",
       "</style>\n",
       "<ol class=list-inline><li>1.4</li><li>2</li><li>1.8</li><li>1.6</li></ol>\n"
      ],
      "text/latex": [
       "\\begin{enumerate*}\n",
       "\\item 1.4\n",
       "\\item 2\n",
       "\\item 1.8\n",
       "\\item 1.6\n",
       "\\end{enumerate*}\n"
      ],
      "text/markdown": [
       "1. 1.4\n",
       "2. 2\n",
       "3. 1.8\n",
       "4. 1.6\n",
       "\n",
       "\n"
      ],
      "text/plain": [
       "[1] 1.4 2.0 1.8 1.6"
      ]
     },
     "metadata": {},
     "output_type": "display_data"
    }
   ],
   "source": [
    "rowMeans(X)"
   ]
  },
  {
   "cell_type": "code",
   "execution_count": 185,
   "id": "1f182e63-24c5-4895-8376-4de6ea46d06c",
   "metadata": {},
   "outputs": [
    {
     "data": {
      "text/html": [
       "<style>\n",
       ".list-inline {list-style: none; margin:0; padding: 0}\n",
       ".list-inline>li {display: inline-block}\n",
       ".list-inline>li:not(:last-child)::after {content: \"\\00b7\"; padding: 0 .5ex}\n",
       "</style>\n",
       "<ol class=list-inline><li>1.75</li><li>2.25</li><li>0.5</li><li>1.5</li><li>2.5</li></ol>\n"
      ],
      "text/latex": [
       "\\begin{enumerate*}\n",
       "\\item 1.75\n",
       "\\item 2.25\n",
       "\\item 0.5\n",
       "\\item 1.5\n",
       "\\item 2.5\n",
       "\\end{enumerate*}\n"
      ],
      "text/markdown": [
       "1. 1.75\n",
       "2. 2.25\n",
       "3. 0.5\n",
       "4. 1.5\n",
       "5. 2.5\n",
       "\n",
       "\n"
      ],
      "text/plain": [
       "[1] 1.75 2.25 0.50 1.50 2.50"
      ]
     },
     "metadata": {},
     "output_type": "display_data"
    }
   ],
   "source": [
    "colMeans(X)"
   ]
  },
  {
   "cell_type": "markdown",
   "id": "d15c6863-4e3b-467f-bc8d-a01eddda61a8",
   "metadata": {},
   "source": [
    "- apply"
   ]
  },
  {
   "cell_type": "code",
   "execution_count": 186,
   "id": "1e63f86c-b856-48f4-94ac-f01c9e3165e0",
   "metadata": {},
   "outputs": [
    {
     "data": {
      "text/html": [
       "<style>\n",
       ".list-inline {list-style: none; margin:0; padding: 0}\n",
       ".list-inline>li {display: inline-block}\n",
       ".list-inline>li:not(:last-child)::after {content: \"\\00b7\"; padding: 0 .5ex}\n",
       "</style>\n",
       "<ol class=list-inline><li>1.75</li><li>2.25</li><li>0.5</li><li>1.5</li><li>2.5</li></ol>\n"
      ],
      "text/latex": [
       "\\begin{enumerate*}\n",
       "\\item 1.75\n",
       "\\item 2.25\n",
       "\\item 0.5\n",
       "\\item 1.5\n",
       "\\item 2.5\n",
       "\\end{enumerate*}\n"
      ],
      "text/markdown": [
       "1. 1.75\n",
       "2. 2.25\n",
       "3. 0.5\n",
       "4. 1.5\n",
       "5. 2.5\n",
       "\n",
       "\n"
      ],
      "text/plain": [
       "[1] 1.75 2.25 0.50 1.50 2.50"
      ]
     },
     "metadata": {},
     "output_type": "display_data"
    }
   ],
   "source": [
    "apply(X, 2, mean)"
   ]
  },
  {
   "cell_type": "code",
   "execution_count": 187,
   "id": "7a8d3ae2-56cc-4939-a843-64555fcda6ff",
   "metadata": {},
   "outputs": [],
   "source": [
    "group = c('A', 'B', 'B', 'A')"
   ]
  },
  {
   "cell_type": "code",
   "execution_count": 188,
   "id": "6dae2998-ca99-4341-b9d4-c16bcc0c1d18",
   "metadata": {},
   "outputs": [
    {
     "data": {
      "text/html": [
       "<table class=\"dataframe\">\n",
       "<caption>A matrix: 2 × 5 of type int</caption>\n",
       "<tbody>\n",
       "\t<tr><th scope=row>A</th><td>4</td><td>2</td><td>2</td><td>3</td><td>4</td></tr>\n",
       "\t<tr><th scope=row>B</th><td>3</td><td>7</td><td>0</td><td>3</td><td>6</td></tr>\n",
       "</tbody>\n",
       "</table>\n"
      ],
      "text/latex": [
       "A matrix: 2 × 5 of type int\n",
       "\\begin{tabular}{r|lllll}\n",
       "\tA & 4 & 2 & 2 & 3 & 4\\\\\n",
       "\tB & 3 & 7 & 0 & 3 & 6\\\\\n",
       "\\end{tabular}\n"
      ],
      "text/markdown": [
       "\n",
       "A matrix: 2 × 5 of type int\n",
       "\n",
       "| A | 4 | 2 | 2 | 3 | 4 |\n",
       "| B | 3 | 7 | 0 | 3 | 6 |\n",
       "\n"
      ],
      "text/plain": [
       "  [,1] [,2] [,3] [,4] [,5]\n",
       "A 4    2    2    3    4   \n",
       "B 3    7    0    3    6   "
      ]
     },
     "metadata": {},
     "output_type": "display_data"
    }
   ],
   "source": [
    "rowsum(X, group)"
   ]
  },
  {
   "cell_type": "code",
   "execution_count": 189,
   "id": "ed1630ea-e386-41de-9ee2-c3318f6686dc",
   "metadata": {},
   "outputs": [
    {
     "data": {
      "text/html": [
       "<table class=\"dataframe\">\n",
       "<caption>A matrix: 2 × 5 of type int</caption>\n",
       "<thead>\n",
       "\t<tr><th></th><th scope=col>1</th><th scope=col>2</th><th scope=col>3</th><th scope=col>4</th><th scope=col>5</th></tr>\n",
       "</thead>\n",
       "<tbody>\n",
       "\t<tr><th scope=row>A</th><td>4</td><td>2</td><td>2</td><td>3</td><td>4</td></tr>\n",
       "\t<tr><th scope=row>B</th><td>3</td><td>7</td><td>0</td><td>3</td><td>6</td></tr>\n",
       "</tbody>\n",
       "</table>\n"
      ],
      "text/latex": [
       "A matrix: 2 × 5 of type int\n",
       "\\begin{tabular}{r|lllll}\n",
       "  & 1 & 2 & 3 & 4 & 5\\\\\n",
       "\\hline\n",
       "\tA & 4 & 2 & 2 & 3 & 4\\\\\n",
       "\tB & 3 & 7 & 0 & 3 & 6\\\\\n",
       "\\end{tabular}\n"
      ],
      "text/markdown": [
       "\n",
       "A matrix: 2 × 5 of type int\n",
       "\n",
       "| <!--/--> | 1 | 2 | 3 | 4 | 5 |\n",
       "|---|---|---|---|---|---|\n",
       "| A | 4 | 2 | 2 | 3 | 4 |\n",
       "| B | 3 | 7 | 0 | 3 | 6 |\n",
       "\n"
      ],
      "text/plain": [
       "  1 2 3 4 5\n",
       "A 4 2 2 3 4\n",
       "B 3 7 0 3 6"
      ]
     },
     "metadata": {},
     "output_type": "display_data"
    }
   ],
   "source": [
    "tapply(X, list(group[row(X)], col(X)), sum)"
   ]
  },
  {
   "cell_type": "code",
   "execution_count": 190,
   "id": "45256e2b-9dd0-4bda-b038-8b0a9cd4b855",
   "metadata": {},
   "outputs": [
    {
     "data": {
      "text/html": [
       "<table class=\"dataframe\">\n",
       "<caption>A data.frame: 2 × 6</caption>\n",
       "<thead>\n",
       "\t<tr><th scope=col>Group.1</th><th scope=col>V1</th><th scope=col>V2</th><th scope=col>V3</th><th scope=col>V4</th><th scope=col>V5</th></tr>\n",
       "\t<tr><th scope=col>&lt;chr&gt;</th><th scope=col>&lt;int&gt;</th><th scope=col>&lt;int&gt;</th><th scope=col>&lt;int&gt;</th><th scope=col>&lt;int&gt;</th><th scope=col>&lt;int&gt;</th></tr>\n",
       "</thead>\n",
       "<tbody>\n",
       "\t<tr><td>A</td><td>4</td><td>2</td><td>2</td><td>3</td><td>4</td></tr>\n",
       "\t<tr><td>B</td><td>3</td><td>7</td><td>0</td><td>3</td><td>6</td></tr>\n",
       "</tbody>\n",
       "</table>\n"
      ],
      "text/latex": [
       "A data.frame: 2 × 6\n",
       "\\begin{tabular}{llllll}\n",
       " Group.1 & V1 & V2 & V3 & V4 & V5\\\\\n",
       " <chr> & <int> & <int> & <int> & <int> & <int>\\\\\n",
       "\\hline\n",
       "\t A & 4 & 2 & 2 & 3 & 4\\\\\n",
       "\t B & 3 & 7 & 0 & 3 & 6\\\\\n",
       "\\end{tabular}\n"
      ],
      "text/markdown": [
       "\n",
       "A data.frame: 2 × 6\n",
       "\n",
       "| Group.1 &lt;chr&gt; | V1 &lt;int&gt; | V2 &lt;int&gt; | V3 &lt;int&gt; | V4 &lt;int&gt; | V5 &lt;int&gt; |\n",
       "|---|---|---|---|---|---|\n",
       "| A | 4 | 2 | 2 | 3 | 4 |\n",
       "| B | 3 | 7 | 0 | 3 | 6 |\n",
       "\n"
      ],
      "text/plain": [
       "  Group.1 V1 V2 V3 V4 V5\n",
       "1 A       4  2  2  3  4 \n",
       "2 B       3  7  0  3  6 "
      ]
     },
     "metadata": {},
     "output_type": "display_data"
    }
   ],
   "source": [
    "aggregate(X, list(group), sum)"
   ]
  },
  {
   "cell_type": "code",
   "execution_count": 191,
   "id": "af487846-a4a8-43e8-8da1-653da6183819",
   "metadata": {},
   "outputs": [
    {
     "data": {
      "text/html": [
       "<table class=\"dataframe\">\n",
       "<caption>A matrix: 4 × 5 of type int</caption>\n",
       "<tbody>\n",
       "\t<tr><td>1</td><td>0</td><td>0</td><td>2</td><td>5</td></tr>\n",
       "\t<tr><td>2</td><td>4</td><td>0</td><td>1</td><td>2</td></tr>\n",
       "\t<tr><td>3</td><td>2</td><td>2</td><td>1</td><td>2</td></tr>\n",
       "\t<tr><td>1</td><td>3</td><td>0</td><td>2</td><td>1</td></tr>\n",
       "</tbody>\n",
       "</table>\n"
      ],
      "text/latex": [
       "A matrix: 4 × 5 of type int\n",
       "\\begin{tabular}{lllll}\n",
       "\t 1 & 0 & 0 & 2 & 5\\\\\n",
       "\t 2 & 4 & 0 & 1 & 2\\\\\n",
       "\t 3 & 2 & 2 & 1 & 2\\\\\n",
       "\t 1 & 3 & 0 & 2 & 1\\\\\n",
       "\\end{tabular}\n"
      ],
      "text/markdown": [
       "\n",
       "A matrix: 4 × 5 of type int\n",
       "\n",
       "| 1 | 0 | 0 | 2 | 5 |\n",
       "| 2 | 4 | 0 | 1 | 2 |\n",
       "| 3 | 2 | 2 | 1 | 2 |\n",
       "| 1 | 3 | 0 | 2 | 1 |\n",
       "\n"
      ],
      "text/plain": [
       "     [,1] [,2] [,3] [,4] [,5]\n",
       "[1,] 1    0    0    2    5   \n",
       "[2,] 2    4    0    1    2   \n",
       "[3,] 3    2    2    1    2   \n",
       "[4,] 1    3    0    2    1   "
      ]
     },
     "metadata": {},
     "output_type": "display_data"
    }
   ],
   "source": [
    "RNGkind(sample.kind = 'Rejection')\n",
    "set.seed(1)\n",
    "apply(X, 2, sample)"
   ]
  },
  {
   "cell_type": "markdown",
   "id": "29db8f8c-4108-4a9d-8ee9-9c9a48492c62",
   "metadata": {},
   "source": [
    "### 행렬에 행 또는 열을 추가"
   ]
  },
  {
   "cell_type": "code",
   "execution_count": 192,
   "id": "f627f660-0842-4240-95b5-756599c6657c",
   "metadata": {},
   "outputs": [],
   "source": [
    "X = rbind(X, apply(X, 2, mean)) # 열별로 평균을 계산하여 마지막 행에 추가"
   ]
  },
  {
   "cell_type": "code",
   "execution_count": 193,
   "id": "a098c9d9-1ee5-4f42-8d3f-4c594766a5e5",
   "metadata": {},
   "outputs": [],
   "source": [
    "X = cbind(X, apply(X, 1, var)) # 행별로 분산을 계산하여 마지막 열에 추가"
   ]
  },
  {
   "cell_type": "code",
   "execution_count": 194,
   "id": "16ccbdcf-e75d-46ff-8b4a-46ca6cbc168b",
   "metadata": {},
   "outputs": [
    {
     "data": {
      "text/html": [
       "<table class=\"dataframe\">\n",
       "<caption>A matrix: 5 × 6 of type dbl</caption>\n",
       "<tbody>\n",
       "\t<tr><td>1.00</td><td>0.00</td><td>2.0</td><td>2.0</td><td>2.0</td><td>0.80000</td></tr>\n",
       "\t<tr><td>1.00</td><td>3.00</td><td>0.0</td><td>1.0</td><td>5.0</td><td>4.00000</td></tr>\n",
       "\t<tr><td>2.00</td><td>4.00</td><td>0.0</td><td>2.0</td><td>1.0</td><td>2.20000</td></tr>\n",
       "\t<tr><td>3.00</td><td>2.00</td><td>0.0</td><td>1.0</td><td>2.0</td><td>1.30000</td></tr>\n",
       "\t<tr><td>1.75</td><td>2.25</td><td>0.5</td><td>1.5</td><td>2.5</td><td>0.60625</td></tr>\n",
       "</tbody>\n",
       "</table>\n"
      ],
      "text/latex": [
       "A matrix: 5 × 6 of type dbl\n",
       "\\begin{tabular}{llllll}\n",
       "\t 1.00 & 0.00 & 2.0 & 2.0 & 2.0 & 0.80000\\\\\n",
       "\t 1.00 & 3.00 & 0.0 & 1.0 & 5.0 & 4.00000\\\\\n",
       "\t 2.00 & 4.00 & 0.0 & 2.0 & 1.0 & 2.20000\\\\\n",
       "\t 3.00 & 2.00 & 0.0 & 1.0 & 2.0 & 1.30000\\\\\n",
       "\t 1.75 & 2.25 & 0.5 & 1.5 & 2.5 & 0.60625\\\\\n",
       "\\end{tabular}\n"
      ],
      "text/markdown": [
       "\n",
       "A matrix: 5 × 6 of type dbl\n",
       "\n",
       "| 1.00 | 0.00 | 2.0 | 2.0 | 2.0 | 0.80000 |\n",
       "| 1.00 | 3.00 | 0.0 | 1.0 | 5.0 | 4.00000 |\n",
       "| 2.00 | 4.00 | 0.0 | 2.0 | 1.0 | 2.20000 |\n",
       "| 3.00 | 2.00 | 0.0 | 1.0 | 2.0 | 1.30000 |\n",
       "| 1.75 | 2.25 | 0.5 | 1.5 | 2.5 | 0.60625 |\n",
       "\n"
      ],
      "text/plain": [
       "     [,1] [,2] [,3] [,4] [,5] [,6]   \n",
       "[1,] 1.00 0.00 2.0  2.0  2.0  0.80000\n",
       "[2,] 1.00 3.00 0.0  1.0  5.0  4.00000\n",
       "[3,] 2.00 4.00 0.0  2.0  1.0  2.20000\n",
       "[4,] 3.00 2.00 0.0  1.0  2.0  1.30000\n",
       "[5,] 1.75 2.25 0.5  1.5  2.5  0.60625"
      ]
     },
     "metadata": {},
     "output_type": "display_data"
    }
   ],
   "source": [
    "X"
   ]
  },
  {
   "cell_type": "code",
   "execution_count": 195,
   "id": "7a5c3a20-b834-421e-a5a6-99e0c45610f3",
   "metadata": {},
   "outputs": [],
   "source": [
    "colnames(X) = c(1:5, 'variance')"
   ]
  },
  {
   "cell_type": "code",
   "execution_count": 196,
   "id": "78de2643-ed2c-424e-81f0-7379b17c6ac3",
   "metadata": {},
   "outputs": [],
   "source": [
    "rownames(X) = c(1:4, 'mean')"
   ]
  },
  {
   "cell_type": "code",
   "execution_count": 197,
   "id": "6d316c99-fc93-4e4d-8304-8c3f2d071976",
   "metadata": {},
   "outputs": [
    {
     "data": {
      "text/html": [
       "<table class=\"dataframe\">\n",
       "<caption>A matrix: 5 × 6 of type dbl</caption>\n",
       "<thead>\n",
       "\t<tr><th></th><th scope=col>1</th><th scope=col>2</th><th scope=col>3</th><th scope=col>4</th><th scope=col>5</th><th scope=col>variance</th></tr>\n",
       "</thead>\n",
       "<tbody>\n",
       "\t<tr><th scope=row>1</th><td>1.00</td><td>0.00</td><td>2.0</td><td>2.0</td><td>2.0</td><td>0.80000</td></tr>\n",
       "\t<tr><th scope=row>2</th><td>1.00</td><td>3.00</td><td>0.0</td><td>1.0</td><td>5.0</td><td>4.00000</td></tr>\n",
       "\t<tr><th scope=row>3</th><td>2.00</td><td>4.00</td><td>0.0</td><td>2.0</td><td>1.0</td><td>2.20000</td></tr>\n",
       "\t<tr><th scope=row>4</th><td>3.00</td><td>2.00</td><td>0.0</td><td>1.0</td><td>2.0</td><td>1.30000</td></tr>\n",
       "\t<tr><th scope=row>mean</th><td>1.75</td><td>2.25</td><td>0.5</td><td>1.5</td><td>2.5</td><td>0.60625</td></tr>\n",
       "</tbody>\n",
       "</table>\n"
      ],
      "text/latex": [
       "A matrix: 5 × 6 of type dbl\n",
       "\\begin{tabular}{r|llllll}\n",
       "  & 1 & 2 & 3 & 4 & 5 & variance\\\\\n",
       "\\hline\n",
       "\t1 & 1.00 & 0.00 & 2.0 & 2.0 & 2.0 & 0.80000\\\\\n",
       "\t2 & 1.00 & 3.00 & 0.0 & 1.0 & 5.0 & 4.00000\\\\\n",
       "\t3 & 2.00 & 4.00 & 0.0 & 2.0 & 1.0 & 2.20000\\\\\n",
       "\t4 & 3.00 & 2.00 & 0.0 & 1.0 & 2.0 & 1.30000\\\\\n",
       "\tmean & 1.75 & 2.25 & 0.5 & 1.5 & 2.5 & 0.60625\\\\\n",
       "\\end{tabular}\n"
      ],
      "text/markdown": [
       "\n",
       "A matrix: 5 × 6 of type dbl\n",
       "\n",
       "| <!--/--> | 1 | 2 | 3 | 4 | 5 | variance |\n",
       "|---|---|---|---|---|---|---|\n",
       "| 1 | 1.00 | 0.00 | 2.0 | 2.0 | 2.0 | 0.80000 |\n",
       "| 2 | 1.00 | 3.00 | 0.0 | 1.0 | 5.0 | 4.00000 |\n",
       "| 3 | 2.00 | 4.00 | 0.0 | 2.0 | 1.0 | 2.20000 |\n",
       "| 4 | 3.00 | 2.00 | 0.0 | 1.0 | 2.0 | 1.30000 |\n",
       "| mean | 1.75 | 2.25 | 0.5 | 1.5 | 2.5 | 0.60625 |\n",
       "\n"
      ],
      "text/plain": [
       "     1    2    3   4   5   variance\n",
       "1    1.00 0.00 2.0 2.0 2.0 0.80000 \n",
       "2    1.00 3.00 0.0 1.0 5.0 4.00000 \n",
       "3    2.00 4.00 0.0 2.0 1.0 2.20000 \n",
       "4    3.00 2.00 0.0 1.0 2.0 1.30000 \n",
       "mean 1.75 2.25 0.5 1.5 2.5 0.60625 "
      ]
     },
     "metadata": {},
     "output_type": "display_data"
    }
   ],
   "source": [
    "X"
   ]
  },
  {
   "cell_type": "markdown",
   "id": "0dd7ed2f-a1db-4598-b615-e0e5ccdccee4",
   "metadata": {},
   "source": [
    "### sapply() 함수 응용"
   ]
  },
  {
   "cell_type": "code",
   "execution_count": 198,
   "id": "16928438-9977-45ce-8d10-0b7a0341e92b",
   "metadata": {},
   "outputs": [],
   "source": [
    "x = seq(0, 50, 2)\n",
    "y <- c(1, 0.960235403, 0.844663774, 0.706936329, 0.7086414, 0.609795365, 0.513252644, 0.471399685, 0.384081274, 0.372277798, 0.334087432, 0.273307329, 0.25162333, 0.222786515, 0.210216526, 0.190591821, 0.166907195, 0.140731643, 0.12028785, 0.116460713, 0.092736872, 0.083972607, 0.088291404, 0.071790589, 0.059327414, 0.061706234)"
   ]
  },
  {
   "cell_type": "code",
   "execution_count": 199,
   "id": "7eb7d93a-00fa-44c9-912a-ca5ff1ea68c5",
   "metadata": {},
   "outputs": [
    {
     "data": {
      "text/html": [
       "<style>\n",
       ".list-inline {list-style: none; margin:0; padding: 0}\n",
       ".list-inline>li {display: inline-block}\n",
       ".list-inline>li:not(:last-child)::after {content: \"\\00b7\"; padding: 0 .5ex}\n",
       "</style>\n",
       "<ol class=list-inline><li>0</li><li>2</li><li>4</li><li>6</li><li>8</li><li>10</li><li>12</li><li>14</li><li>16</li><li>18</li><li>20</li><li>22</li><li>24</li><li>26</li><li>28</li><li>30</li><li>32</li><li>34</li><li>36</li><li>38</li><li>40</li><li>42</li><li>44</li><li>46</li><li>48</li><li>50</li></ol>\n"
      ],
      "text/latex": [
       "\\begin{enumerate*}\n",
       "\\item 0\n",
       "\\item 2\n",
       "\\item 4\n",
       "\\item 6\n",
       "\\item 8\n",
       "\\item 10\n",
       "\\item 12\n",
       "\\item 14\n",
       "\\item 16\n",
       "\\item 18\n",
       "\\item 20\n",
       "\\item 22\n",
       "\\item 24\n",
       "\\item 26\n",
       "\\item 28\n",
       "\\item 30\n",
       "\\item 32\n",
       "\\item 34\n",
       "\\item 36\n",
       "\\item 38\n",
       "\\item 40\n",
       "\\item 42\n",
       "\\item 44\n",
       "\\item 46\n",
       "\\item 48\n",
       "\\item 50\n",
       "\\end{enumerate*}\n"
      ],
      "text/markdown": [
       "1. 0\n",
       "2. 2\n",
       "3. 4\n",
       "4. 6\n",
       "5. 8\n",
       "6. 10\n",
       "7. 12\n",
       "8. 14\n",
       "9. 16\n",
       "10. 18\n",
       "11. 20\n",
       "12. 22\n",
       "13. 24\n",
       "14. 26\n",
       "15. 28\n",
       "16. 30\n",
       "17. 32\n",
       "18. 34\n",
       "19. 36\n",
       "20. 38\n",
       "21. 40\n",
       "22. 42\n",
       "23. 44\n",
       "24. 46\n",
       "25. 48\n",
       "26. 50\n",
       "\n",
       "\n"
      ],
      "text/plain": [
       " [1]  0  2  4  6  8 10 12 14 16 18 20 22 24 26 28 30 32 34 36 38 40 42 44 46 48\n",
       "[26] 50"
      ]
     },
     "metadata": {},
     "output_type": "display_data"
    },
    {
     "data": {
      "text/html": [
       "<style>\n",
       ".list-inline {list-style: none; margin:0; padding: 0}\n",
       ".list-inline>li {display: inline-block}\n",
       ".list-inline>li:not(:last-child)::after {content: \"\\00b7\"; padding: 0 .5ex}\n",
       "</style>\n",
       "<ol class=list-inline><li>1</li><li>0.960235403</li><li>0.844663774</li><li>0.706936329</li><li>0.7086414</li><li>0.609795365</li><li>0.513252644</li><li>0.471399685</li><li>0.384081274</li><li>0.372277798</li><li>0.334087432</li><li>0.273307329</li><li>0.25162333</li><li>0.222786515</li><li>0.210216526</li><li>0.190591821</li><li>0.166907195</li><li>0.140731643</li><li>0.12028785</li><li>0.116460713</li><li>0.092736872</li><li>0.083972607</li><li>0.088291404</li><li>0.071790589</li><li>0.059327414</li><li>0.061706234</li></ol>\n"
      ],
      "text/latex": [
       "\\begin{enumerate*}\n",
       "\\item 1\n",
       "\\item 0.960235403\n",
       "\\item 0.844663774\n",
       "\\item 0.706936329\n",
       "\\item 0.7086414\n",
       "\\item 0.609795365\n",
       "\\item 0.513252644\n",
       "\\item 0.471399685\n",
       "\\item 0.384081274\n",
       "\\item 0.372277798\n",
       "\\item 0.334087432\n",
       "\\item 0.273307329\n",
       "\\item 0.25162333\n",
       "\\item 0.222786515\n",
       "\\item 0.210216526\n",
       "\\item 0.190591821\n",
       "\\item 0.166907195\n",
       "\\item 0.140731643\n",
       "\\item 0.12028785\n",
       "\\item 0.116460713\n",
       "\\item 0.092736872\n",
       "\\item 0.083972607\n",
       "\\item 0.088291404\n",
       "\\item 0.071790589\n",
       "\\item 0.059327414\n",
       "\\item 0.061706234\n",
       "\\end{enumerate*}\n"
      ],
      "text/markdown": [
       "1. 1\n",
       "2. 0.960235403\n",
       "3. 0.844663774\n",
       "4. 0.706936329\n",
       "5. 0.7086414\n",
       "6. 0.609795365\n",
       "7. 0.513252644\n",
       "8. 0.471399685\n",
       "9. 0.384081274\n",
       "10. 0.372277798\n",
       "11. 0.334087432\n",
       "12. 0.273307329\n",
       "13. 0.25162333\n",
       "14. 0.222786515\n",
       "15. 0.210216526\n",
       "16. 0.190591821\n",
       "17. 0.166907195\n",
       "18. 0.140731643\n",
       "19. 0.12028785\n",
       "20. 0.116460713\n",
       "21. 0.092736872\n",
       "22. 0.083972607\n",
       "23. 0.088291404\n",
       "24. 0.071790589\n",
       "25. 0.059327414\n",
       "26. 0.061706234\n",
       "\n",
       "\n"
      ],
      "text/plain": [
       " [1] 1.00000000 0.96023540 0.84466377 0.70693633 0.70864140 0.60979536\n",
       " [7] 0.51325264 0.47139969 0.38408127 0.37227780 0.33408743 0.27330733\n",
       "[13] 0.25162333 0.22278651 0.21021653 0.19059182 0.16690720 0.14073164\n",
       "[19] 0.12028785 0.11646071 0.09273687 0.08397261 0.08829140 0.07179059\n",
       "[25] 0.05932741 0.06170623"
      ]
     },
     "metadata": {},
     "output_type": "display_data"
    }
   ],
   "source": [
    "x\n",
    "y"
   ]
  },
  {
   "cell_type": "code",
   "execution_count": 200,
   "id": "7c53061d-a375-40a7-ad1b-eb869928c4b2",
   "metadata": {},
   "outputs": [
    {
     "data": {
      "image/png": "[encoded data removed]",
      "text/plain": [
       "plot without title"
      ]
     },
     "metadata": {
      "image/png": {
       "height": 420,
       "width": 420
      }
     },
     "output_type": "display_data"
    }
   ],
   "source": [
    "plot(x, y)"
   ]
  },
  {
   "cell_type": "code",
   "execution_count": 201,
   "id": "ff0b1a2c-8274-4995-bd16-897478d604c5",
   "metadata": {},
   "outputs": [
    {
     "data": {
      "text/plain": [
       "\n",
       "Call:\n",
       "lm(formula = log(y) ~ x)\n",
       "\n",
       "Coefficients:\n",
       "(Intercept)            x  \n",
       "    0.04688     -0.05849  \n"
      ]
     },
     "metadata": {},
     "output_type": "display_data"
    }
   ],
   "source": [
    "lm(log(y) ~ x)"
   ]
  },
  {
   "cell_type": "code",
   "execution_count": 202,
   "id": "a626c6a6-e8f5-489d-8db5-54a3ac642dca",
   "metadata": {},
   "outputs": [
    {
     "data": {
      "text/html": [
       "<style>\n",
       ".list-inline {list-style: none; margin:0; padding: 0}\n",
       ".list-inline>li {display: inline-block}\n",
       ".list-inline>li:not(:last-child)::after {content: \"\\00b7\"; padding: 0 .5ex}\n",
       "</style>\n",
       "<ol class=list-inline><li>0.01</li><li>0.015</li><li>0.02</li><li>0.025</li><li>0.03</li><li>0.035</li><li>0.04</li><li>0.045</li><li>0.05</li><li>0.055</li><li>0.06</li><li>0.065</li><li>0.07</li><li>0.075</li><li>0.08</li><li>0.085</li><li>0.09</li><li>0.095</li><li>0.1</li><li>0.105</li><li>0.11</li><li>0.115</li><li>0.12</li><li>0.125</li><li>0.13</li><li>0.135</li><li>0.14</li><li>0.145</li><li>0.15</li><li>0.155</li><li>0.16</li><li>0.165</li><li>0.17</li><li>0.175</li><li>0.18</li><li>0.185</li><li>0.19</li><li>0.195</li><li>0.2</li></ol>\n"
      ],
      "text/latex": [
       "\\begin{enumerate*}\n",
       "\\item 0.01\n",
       "\\item 0.015\n",
       "\\item 0.02\n",
       "\\item 0.025\n",
       "\\item 0.03\n",
       "\\item 0.035\n",
       "\\item 0.04\n",
       "\\item 0.045\n",
       "\\item 0.05\n",
       "\\item 0.055\n",
       "\\item 0.06\n",
       "\\item 0.065\n",
       "\\item 0.07\n",
       "\\item 0.075\n",
       "\\item 0.08\n",
       "\\item 0.085\n",
       "\\item 0.09\n",
       "\\item 0.095\n",
       "\\item 0.1\n",
       "\\item 0.105\n",
       "\\item 0.11\n",
       "\\item 0.115\n",
       "\\item 0.12\n",
       "\\item 0.125\n",
       "\\item 0.13\n",
       "\\item 0.135\n",
       "\\item 0.14\n",
       "\\item 0.145\n",
       "\\item 0.15\n",
       "\\item 0.155\n",
       "\\item 0.16\n",
       "\\item 0.165\n",
       "\\item 0.17\n",
       "\\item 0.175\n",
       "\\item 0.18\n",
       "\\item 0.185\n",
       "\\item 0.19\n",
       "\\item 0.195\n",
       "\\item 0.2\n",
       "\\end{enumerate*}\n"
      ],
      "text/markdown": [
       "1. 0.01\n",
       "2. 0.015\n",
       "3. 0.02\n",
       "4. 0.025\n",
       "5. 0.03\n",
       "6. 0.035\n",
       "7. 0.04\n",
       "8. 0.045\n",
       "9. 0.05\n",
       "10. 0.055\n",
       "11. 0.06\n",
       "12. 0.065\n",
       "13. 0.07\n",
       "14. 0.075\n",
       "15. 0.08\n",
       "16. 0.085\n",
       "17. 0.09\n",
       "18. 0.095\n",
       "19. 0.1\n",
       "20. 0.105\n",
       "21. 0.11\n",
       "22. 0.115\n",
       "23. 0.12\n",
       "24. 0.125\n",
       "25. 0.13\n",
       "26. 0.135\n",
       "27. 0.14\n",
       "28. 0.145\n",
       "29. 0.15\n",
       "30. 0.155\n",
       "31. 0.16\n",
       "32. 0.165\n",
       "33. 0.17\n",
       "34. 0.175\n",
       "35. 0.18\n",
       "36. 0.185\n",
       "37. 0.19\n",
       "38. 0.195\n",
       "39. 0.2\n",
       "\n",
       "\n"
      ],
      "text/plain": [
       " [1] 0.010 0.015 0.020 0.025 0.030 0.035 0.040 0.045 0.050 0.055 0.060 0.065\n",
       "[13] 0.070 0.075 0.080 0.085 0.090 0.095 0.100 0.105 0.110 0.115 0.120 0.125\n",
       "[25] 0.130 0.135 0.140 0.145 0.150 0.155 0.160 0.165 0.170 0.175 0.180 0.185\n",
       "[37] 0.190 0.195 0.200"
      ]
     },
     "metadata": {},
     "output_type": "display_data"
    }
   ],
   "source": [
    "a = seq(0.01, 0.2, 0.005)\n",
    "a"
   ]
  },
  {
   "cell_type": "code",
   "execution_count": 203,
   "id": "15da5ce2-7af4-47af-9c3a-7741d2c0f708",
   "metadata": {},
   "outputs": [],
   "source": [
    "sumsq = function(a, xv=x, yv=y){\n",
    "    yf = exp(-a*xv)\n",
    "    sum((yv-yf)^2)\n",
    "}"
   ]
  },
  {
   "cell_type": "code",
   "execution_count": 204,
   "id": "fc813881-15c0-47a3-bf7e-d6ca5e32fd55",
   "metadata": {},
   "outputs": [
    {
     "data": {
      "image/png": "[encoded data removed]",
      "text/plain": [
       "plot without title"
      ]
     },
     "metadata": {
      "image/png": {
       "height": 420,
       "width": 420
      }
     },
     "output_type": "display_data"
    }
   ],
   "source": [
    "plot(a, sapply(a, sumsq), type=\"l\")"
   ]
  },
  {
   "cell_type": "code",
   "execution_count": null,
   "id": "f21cf2ba-4300-4986-b214-067c29830a38",
   "metadata": {},
   "outputs": [
    {
     "data": {
      "text/html": [
       "0.055"
      ],
      "text/latex": [
       "0.055"
      ],
      "text/markdown": [
       "0.055"
      ],
      "text/plain": [
       "[1] 0.055"
      ]
     },
     "metadata": {},
     "output_type": "display_data"
    }
   ],
   "source": [
    "a[min(sapply(a, sumsq)) == sapply(a, sumsq) ]"
   ]
  },
  {
   "cell_type": "code",
   "execution_count": 206,
   "id": "4da07e8e-e78c-45a0-be2f-280fdcf3d9ce",
   "metadata": {},
   "outputs": [
    {
     "data": {
      "image/png": "[encoded data removed]",
      "text/plain": [
       "plot without title"
      ]
     },
     "metadata": {
      "image/png": {
       "height": 420,
       "width": 420
      }
     },
     "output_type": "display_data"
    }
   ],
   "source": [
    "plot(x,y)\n",
    "xv = seq(0, 50, 0.1)\n",
    "lines(xv, exp(-0.055*xv))"
   ]
  },
  {
   "cell_type": "code",
   "execution_count": 207,
   "id": "7b184f27-d62a-43b0-b8cf-33724bcd59e5",
   "metadata": {},
   "outputs": [],
   "source": [
    "fa <- function(a) sum((y - exp(-a*x))^2)"
   ]
  },
  {
   "cell_type": "code",
   "execution_count": 208,
   "id": "2097ebf0-e321-44aa-abd3-9af711c2e99f",
   "metadata": {},
   "outputs": [
    {
     "data": {
      "text/html": [
       "<dl>\n",
       "\t<dt>$minimum</dt>\n",
       "\t\t<dd>0.0553841059868058</dd>\n",
       "\t<dt>$objective</dt>\n",
       "\t\t<dd>0.0147355859521897</dd>\n",
       "</dl>\n"
      ],
      "text/latex": [
       "\\begin{description}\n",
       "\\item[\\$minimum] 0.0553841059868058\n",
       "\\item[\\$objective] 0.0147355859521897\n",
       "\\end{description}\n"
      ],
      "text/markdown": [
       "$minimum\n",
       ":   0.0553841059868058\n",
       "$objective\n",
       ":   0.0147355859521897\n",
       "\n",
       "\n"
      ],
      "text/plain": [
       "$minimum\n",
       "[1] 0.05538411\n",
       "\n",
       "$objective\n",
       "[1] 0.01473559\n"
      ]
     },
     "metadata": {},
     "output_type": "display_data"
    }
   ],
   "source": [
    "optimize(fa, c(0.01, 0.1))"
   ]
  },
  {
   "cell_type": "code",
   "execution_count": 209,
   "id": "099464f1-8ed6-465a-b2bd-daeefd65f1b9",
   "metadata": {},
   "outputs": [
    {
     "data": {
      "text/html": [
       "0.0147356803529324"
      ],
      "text/latex": [
       "0.0147356803529324"
      ],
      "text/markdown": [
       "0.0147356803529324"
      ],
      "text/plain": [
       "[1] 0.01473568"
      ]
     },
     "metadata": {},
     "output_type": "display_data"
    }
   ],
   "source": [
    "fa(0.05538)"
   ]
  },
  {
   "cell_type": "markdown",
   "id": "09fe96a6-eef7-4375-8420-2d769f0bb987",
   "metadata": {},
   "source": [
    "## Ch9. 난수, 표집, 뒤섞기"
   ]
  },
  {
   "cell_type": "code",
   "execution_count": 232,
   "id": "28f3e4f8-1574-48ab-bccc-f710e00ccc91",
   "metadata": {},
   "outputs": [
    {
     "data": {
      "text/html": [
       "<style>\n",
       ".list-inline {list-style: none; margin:0; padding: 0}\n",
       ".list-inline>li {display: inline-block}\n",
       ".list-inline>li:not(:last-child)::after {content: \"\\00b7\"; padding: 0 .5ex}\n",
       "</style>\n",
       "<ol class=list-inline><li>0.961366901407018</li><li>0.691853473195806</li><li>0.730268420884386</li></ol>\n"
      ],
      "text/latex": [
       "\\begin{enumerate*}\n",
       "\\item 0.961366901407018\n",
       "\\item 0.691853473195806\n",
       "\\item 0.730268420884386\n",
       "\\end{enumerate*}\n"
      ],
      "text/markdown": [
       "1. 0.961366901407018\n",
       "2. 0.691853473195806\n",
       "3. 0.730268420884386\n",
       "\n",
       "\n"
      ],
      "text/plain": [
       "[1] 0.9613669 0.6918535 0.7302684"
      ]
     },
     "metadata": {},
     "output_type": "display_data"
    }
   ],
   "source": [
    "set.seed(375)\n",
    "runif(3)"
   ]
  },
  {
   "cell_type": "code",
   "execution_count": 233,
   "id": "3757dad0-cfe1-4fd5-856e-67f27deca9d8",
   "metadata": {},
   "outputs": [
    {
     "data": {
      "text/html": [
       "<style>\n",
       ".list-inline {list-style: none; margin:0; padding: 0}\n",
       ".list-inline>li {display: inline-block}\n",
       ".list-inline>li:not(:last-child)::after {content: \"\\00b7\"; padding: 0 .5ex}\n",
       "</style>\n",
       "<ol class=list-inline><li>8</li><li>4</li><li>11</li><li>4</li><li>3</li><li>9</li><li>7</li><li>6</li><li>2</li><li>6</li><li>5</li><li>3</li><li>8</li><li>9</li><li>10</li></ol>\n"
      ],
      "text/latex": [
       "\\begin{enumerate*}\n",
       "\\item 8\n",
       "\\item 4\n",
       "\\item 11\n",
       "\\item 4\n",
       "\\item 3\n",
       "\\item 9\n",
       "\\item 7\n",
       "\\item 6\n",
       "\\item 2\n",
       "\\item 6\n",
       "\\item 5\n",
       "\\item 3\n",
       "\\item 8\n",
       "\\item 9\n",
       "\\item 10\n",
       "\\end{enumerate*}\n"
      ],
      "text/markdown": [
       "1. 8\n",
       "2. 4\n",
       "3. 11\n",
       "4. 4\n",
       "5. 3\n",
       "6. 9\n",
       "7. 7\n",
       "8. 6\n",
       "9. 2\n",
       "10. 6\n",
       "11. 5\n",
       "12. 3\n",
       "13. 8\n",
       "14. 9\n",
       "15. 10\n",
       "\n",
       "\n"
      ],
      "text/plain": [
       " [1]  8  4 11  4  3  9  7  6  2  6  5  3  8  9 10"
      ]
     },
     "metadata": {},
     "output_type": "display_data"
    }
   ],
   "source": [
    "y = c(8,3,5,7,6,6,8,9,2,3,9,4,10,4,11)\n",
    "sample(y)"
   ]
  },
  {
   "cell_type": "code",
   "execution_count": 237,
   "id": "5432ac28-4e35-4cdf-8c91-14794505544e",
   "metadata": {},
   "outputs": [
    {
     "data": {
      "text/html": [
       "<style>\n",
       ".list-inline {list-style: none; margin:0; padding: 0}\n",
       ".list-inline>li {display: inline-block}\n",
       ".list-inline>li:not(:last-child)::after {content: \"\\00b7\"; padding: 0 .5ex}\n",
       "</style>\n",
       "<ol class=list-inline><li>2</li><li>7</li><li>8</li><li>8</li><li>3</li><li>10</li><li>9</li><li>5</li><li>9</li><li>4</li><li>6</li><li>6</li><li>11</li><li>3</li><li>4</li></ol>\n"
      ],
      "text/latex": [
       "\\begin{enumerate*}\n",
       "\\item 2\n",
       "\\item 7\n",
       "\\item 8\n",
       "\\item 8\n",
       "\\item 3\n",
       "\\item 10\n",
       "\\item 9\n",
       "\\item 5\n",
       "\\item 9\n",
       "\\item 4\n",
       "\\item 6\n",
       "\\item 6\n",
       "\\item 11\n",
       "\\item 3\n",
       "\\item 4\n",
       "\\end{enumerate*}\n"
      ],
      "text/markdown": [
       "1. 2\n",
       "2. 7\n",
       "3. 8\n",
       "4. 8\n",
       "5. 3\n",
       "6. 10\n",
       "7. 9\n",
       "8. 5\n",
       "9. 9\n",
       "10. 4\n",
       "11. 6\n",
       "12. 6\n",
       "13. 11\n",
       "14. 3\n",
       "15. 4\n",
       "\n",
       "\n"
      ],
      "text/plain": [
       " [1]  2  7  8  8  3 10  9  5  9  4  6  6 11  3  4"
      ]
     },
     "metadata": {},
     "output_type": "display_data"
    }
   ],
   "source": [
    "set.seed(1)\n",
    "sample(y)"
   ]
  },
  {
   "cell_type": "code",
   "execution_count": 238,
   "id": "cbd82ecd-f7f7-4703-b5a3-30d80bd72f33",
   "metadata": {},
   "outputs": [
    {
     "data": {
      "text/html": [
       "<style>\n",
       ".list-inline {list-style: none; margin:0; padding: 0}\n",
       ".list-inline>li {display: inline-block}\n",
       ".list-inline>li:not(:last-child)::after {content: \"\\00b7\"; padding: 0 .5ex}\n",
       "</style>\n",
       "<ol class=list-inline><li>2</li><li>7</li><li>8</li><li>8</li><li>3</li></ol>\n"
      ],
      "text/latex": [
       "\\begin{enumerate*}\n",
       "\\item 2\n",
       "\\item 7\n",
       "\\item 8\n",
       "\\item 8\n",
       "\\item 3\n",
       "\\end{enumerate*}\n"
      ],
      "text/markdown": [
       "1. 2\n",
       "2. 7\n",
       "3. 8\n",
       "4. 8\n",
       "5. 3\n",
       "\n",
       "\n"
      ],
      "text/plain": [
       "[1] 2 7 8 8 3"
      ]
     },
     "metadata": {},
     "output_type": "display_data"
    }
   ],
   "source": [
    "set.seed(1)\n",
    "sample(y, 5)"
   ]
  },
  {
   "cell_type": "code",
   "execution_count": 243,
   "id": "097d86f9-4337-4088-877f-d782b2a2f9f2",
   "metadata": {},
   "outputs": [
    {
     "data": {
      "text/html": [
       "<style>\n",
       ".list-inline {list-style: none; margin:0; padding: 0}\n",
       ".list-inline>li {display: inline-block}\n",
       ".list-inline>li:not(:last-child)::after {content: \"\\00b7\"; padding: 0 .5ex}\n",
       "</style>\n",
       "<ol class=list-inline><li>2</li><li>7</li><li>8</li><li>8</li><li>3</li><li>10</li><li>8</li><li>9</li><li>4</li><li>3</li><li>9</li><li>5</li><li>8</li><li>6</li><li>6</li></ol>\n"
      ],
      "text/latex": [
       "\\begin{enumerate*}\n",
       "\\item 2\n",
       "\\item 7\n",
       "\\item 8\n",
       "\\item 8\n",
       "\\item 3\n",
       "\\item 10\n",
       "\\item 8\n",
       "\\item 9\n",
       "\\item 4\n",
       "\\item 3\n",
       "\\item 9\n",
       "\\item 5\n",
       "\\item 8\n",
       "\\item 6\n",
       "\\item 6\n",
       "\\end{enumerate*}\n"
      ],
      "text/markdown": [
       "1. 2\n",
       "2. 7\n",
       "3. 8\n",
       "4. 8\n",
       "5. 3\n",
       "6. 10\n",
       "7. 8\n",
       "8. 9\n",
       "9. 4\n",
       "10. 3\n",
       "11. 9\n",
       "12. 5\n",
       "13. 8\n",
       "14. 6\n",
       "15. 6\n",
       "\n",
       "\n"
      ],
      "text/plain": [
       " [1]  2  7  8  8  3 10  8  9  4  3  9  5  8  6  6"
      ]
     },
     "metadata": {},
     "output_type": "display_data"
    }
   ],
   "source": [
    "set.seed(1)\n",
    "sample(y, replace = TRUE) # 복원 추출"
   ]
  },
  {
   "cell_type": "code",
   "execution_count": 246,
   "id": "1d1cb846-83ae-4dfa-a407-faec610eb6b5",
   "metadata": {},
   "outputs": [],
   "source": [
    "x = 1:5 # 모집단 \n",
    "p = c(1,2,3,4,5) # 1은 1/15확률, 2는 2/15 확률, 3은 3/15 확률, ..."
   ]
  },
  {
   "cell_type": "code",
   "execution_count": 251,
   "id": "8d4d37fe-7eb3-49b4-8e0e-6b3a7d454fc6",
   "metadata": {},
   "outputs": [
    {
     "data": {
      "text/html": [
       "<table class=\"dataframe\">\n",
       "<caption>A matrix: 4 × 5 of type int</caption>\n",
       "<tbody>\n",
       "\t<tr><td>5</td><td>5</td><td>3</td><td>3</td><td>3</td></tr>\n",
       "\t<tr><td>4</td><td>2</td><td>5</td><td>5</td><td>1</td></tr>\n",
       "\t<tr><td>2</td><td>1</td><td>4</td><td>2</td><td>5</td></tr>\n",
       "\t<tr><td>1</td><td>3</td><td>2</td><td>4</td><td>2</td></tr>\n",
       "</tbody>\n",
       "</table>\n"
      ],
      "text/latex": [
       "A matrix: 4 × 5 of type int\n",
       "\\begin{tabular}{lllll}\n",
       "\t 5 & 5 & 3 & 3 & 3\\\\\n",
       "\t 4 & 2 & 5 & 5 & 1\\\\\n",
       "\t 2 & 1 & 4 & 2 & 5\\\\\n",
       "\t 1 & 3 & 2 & 4 & 2\\\\\n",
       "\\end{tabular}\n"
      ],
      "text/markdown": [
       "\n",
       "A matrix: 4 × 5 of type int\n",
       "\n",
       "| 5 | 5 | 3 | 3 | 3 |\n",
       "| 4 | 2 | 5 | 5 | 1 |\n",
       "| 2 | 1 | 4 | 2 | 5 |\n",
       "| 1 | 3 | 2 | 4 | 2 |\n",
       "\n"
      ],
      "text/plain": [
       "     [,1] [,2] [,3] [,4] [,5]\n",
       "[1,] 5    5    3    3    3   \n",
       "[2,] 4    2    5    5    1   \n",
       "[3,] 2    1    4    2    5   \n",
       "[4,] 1    3    2    4    2   "
      ]
     },
     "metadata": {},
     "output_type": "display_data"
    }
   ],
   "source": [
    "set.seed(1)\n",
    "sapply(1:5, function(i) sample(x, 4, prob=p))"
   ]
  },
  {
   "cell_type": "code",
   "execution_count": 253,
   "id": "cc6e54d9-1722-449f-9e33-77d0d5d2b33a",
   "metadata": {},
   "outputs": [
    {
     "data": {
      "text/html": [
       "<table class=\"dataframe\">\n",
       "<caption>A matrix: 4 × 5 of type int</caption>\n",
       "<tbody>\n",
       "\t<tr><td>5</td><td>5</td><td>3</td><td>3</td><td>3</td></tr>\n",
       "\t<tr><td>4</td><td>2</td><td>5</td><td>4</td><td>1</td></tr>\n",
       "\t<tr><td>4</td><td>1</td><td>5</td><td>3</td><td>4</td></tr>\n",
       "\t<tr><td>2</td><td>3</td><td>5</td><td>4</td><td>3</td></tr>\n",
       "</tbody>\n",
       "</table>\n"
      ],
      "text/latex": [
       "A matrix: 4 × 5 of type int\n",
       "\\begin{tabular}{lllll}\n",
       "\t 5 & 5 & 3 & 3 & 3\\\\\n",
       "\t 4 & 2 & 5 & 4 & 1\\\\\n",
       "\t 4 & 1 & 5 & 3 & 4\\\\\n",
       "\t 2 & 3 & 5 & 4 & 3\\\\\n",
       "\\end{tabular}\n"
      ],
      "text/markdown": [
       "\n",
       "A matrix: 4 × 5 of type int\n",
       "\n",
       "| 5 | 5 | 3 | 3 | 3 |\n",
       "| 4 | 2 | 5 | 4 | 1 |\n",
       "| 4 | 1 | 5 | 3 | 4 |\n",
       "| 2 | 3 | 5 | 4 | 3 |\n",
       "\n"
      ],
      "text/plain": [
       "     [,1] [,2] [,3] [,4] [,5]\n",
       "[1,] 5    5    3    3    3   \n",
       "[2,] 4    2    5    4    1   \n",
       "[3,] 4    1    5    3    4   \n",
       "[4,] 2    3    5    4    3   "
      ]
     },
     "metadata": {},
     "output_type": "display_data"
    }
   ],
   "source": [
    "set.seed(1)\n",
    "sapply(1:5, function(i) sample(x, 4, prob=p, replace = TRUE))"
   ]
  },
  {
   "cell_type": "markdown",
   "id": "7f97afde-40a4-4a98-8740-d4944ac68183",
   "metadata": {},
   "source": [
    "## Ch.10 루핑과 반복"
   ]
  },
  {
   "cell_type": "code",
   "execution_count": 254,
   "id": "c2cda9f3-290b-4dbe-ab09-5e765ad7ad82",
   "metadata": {},
   "outputs": [
    {
     "name": "stdout",
     "output_type": "stream",
     "text": [
      "[1] 1\n",
      "[1] 4\n",
      "[1] 9\n",
      "[1] 16\n",
      "[1] 25\n"
     ]
    }
   ],
   "source": [
    "for (i in 1:5) print(i^2)"
   ]
  },
  {
   "cell_type": "code",
   "execution_count": 258,
   "id": "532339c5-6a7b-4529-a990-fa7a589e5a5e",
   "metadata": {},
   "outputs": [],
   "source": [
    "j <- k <- 0"
   ]
  },
  {
   "cell_type": "code",
   "execution_count": 259,
   "id": "a059e7e2-7550-45e6-a537-890ee185f21b",
   "metadata": {},
   "outputs": [
    {
     "name": "stdout",
     "output_type": "stream",
     "text": [
      "[1] 3\n",
      "[1] 9\n",
      "[1] 20\n",
      "[1] 38\n",
      "[1] 65\n"
     ]
    }
   ],
   "source": [
    "for (i in 1:5){\n",
    "    j = j + 1\n",
    "    k = k + i*j\n",
    "    print(i+j+k)\n",
    "}"
   ]
  },
  {
   "cell_type": "code",
   "execution_count": 260,
   "id": "2fb3439d-6b92-43db-9434-9cc221e66909",
   "metadata": {},
   "outputs": [],
   "source": [
    "fac1 = function(x){\n",
    "    f = 1\n",
    "    if (x<2) return(1) # 0! = 1! = 1\n",
    "    \n",
    "    for (i in 2:x){\n",
    "        f = f*i\n",
    "    }\n",
    "    f\n",
    "}"
   ]
  },
  {
   "cell_type": "code",
   "execution_count": 263,
   "id": "fad0548a-3678-4eed-bdb1-887a7b2fd07e",
   "metadata": {},
   "outputs": [
    {
     "data": {
      "text/html": [
       "<style>\n",
       ".list-inline {list-style: none; margin:0; padding: 0}\n",
       ".list-inline>li {display: inline-block}\n",
       ".list-inline>li:not(:last-child)::after {content: \"\\00b7\"; padding: 0 .5ex}\n",
       "</style>\n",
       "<ol class=list-inline><li>1</li><li>1</li><li>2</li><li>6</li><li>24</li><li>120</li></ol>\n"
      ],
      "text/latex": [
       "\\begin{enumerate*}\n",
       "\\item 1\n",
       "\\item 1\n",
       "\\item 2\n",
       "\\item 6\n",
       "\\item 24\n",
       "\\item 120\n",
       "\\end{enumerate*}\n"
      ],
      "text/markdown": [
       "1. 1\n",
       "2. 1\n",
       "3. 2\n",
       "4. 6\n",
       "5. 24\n",
       "6. 120\n",
       "\n",
       "\n"
      ],
      "text/plain": [
       "[1]   1   1   2   6  24 120"
      ]
     },
     "metadata": {},
     "output_type": "display_data"
    }
   ],
   "source": [
    "sapply(0:5, fac1)"
   ]
  },
  {
   "cell_type": "code",
   "execution_count": 264,
   "id": "3622ef93-20d4-40bc-8ad6-311be6437f55",
   "metadata": {},
   "outputs": [],
   "source": [
    "fac2 = function(x){\n",
    "    f = 1\n",
    "    t = x\n",
    "    while(t>1){\n",
    "        f = f * t\n",
    "        t = t - 1\n",
    "    }\n",
    "    return(f)\n",
    "}"
   ]
  },
  {
   "cell_type": "code",
   "execution_count": 265,
   "id": "65d20e26-3737-431d-95fa-b6426b49cb0f",
   "metadata": {},
   "outputs": [
    {
     "data": {
      "text/html": [
       "<style>\n",
       ".list-inline {list-style: none; margin:0; padding: 0}\n",
       ".list-inline>li {display: inline-block}\n",
       ".list-inline>li:not(:last-child)::after {content: \"\\00b7\"; padding: 0 .5ex}\n",
       "</style>\n",
       "<ol class=list-inline><li>1</li><li>1</li><li>2</li><li>6</li><li>24</li><li>120</li></ol>\n"
      ],
      "text/latex": [
       "\\begin{enumerate*}\n",
       "\\item 1\n",
       "\\item 1\n",
       "\\item 2\n",
       "\\item 6\n",
       "\\item 24\n",
       "\\item 120\n",
       "\\end{enumerate*}\n"
      ],
      "text/markdown": [
       "1. 1\n",
       "2. 1\n",
       "3. 2\n",
       "4. 6\n",
       "5. 24\n",
       "6. 120\n",
       "\n",
       "\n"
      ],
      "text/plain": [
       "[1]   1   1   2   6  24 120"
      ]
     },
     "metadata": {},
     "output_type": "display_data"
    }
   ],
   "source": [
    "sapply(0:5, fac2)"
   ]
  },
  {
   "cell_type": "code",
   "execution_count": 266,
   "id": "cb6861da-7a07-42bb-940f-3e0c8b5ee8b7",
   "metadata": {},
   "outputs": [],
   "source": [
    "fac3 = function(x){\n",
    "    f = 1\n",
    "    \n",
    "    repeat{\n",
    "        if (x<2) break\n",
    "        f = f * x\n",
    "        x = x - 1\n",
    "    }\n",
    "    return(f)\n",
    "}"
   ]
  },
  {
   "cell_type": "code",
   "execution_count": 267,
   "id": "c97a93e2-a79b-4f9c-8116-678314aab216",
   "metadata": {},
   "outputs": [
    {
     "data": {
      "text/html": [
       "<style>\n",
       ".list-inline {list-style: none; margin:0; padding: 0}\n",
       ".list-inline>li {display: inline-block}\n",
       ".list-inline>li:not(:last-child)::after {content: \"\\00b7\"; padding: 0 .5ex}\n",
       "</style>\n",
       "<ol class=list-inline><li>1</li><li>1</li><li>2</li><li>6</li><li>24</li><li>120</li></ol>\n"
      ],
      "text/latex": [
       "\\begin{enumerate*}\n",
       "\\item 1\n",
       "\\item 1\n",
       "\\item 2\n",
       "\\item 6\n",
       "\\item 24\n",
       "\\item 120\n",
       "\\end{enumerate*}\n"
      ],
      "text/markdown": [
       "1. 1\n",
       "2. 1\n",
       "3. 2\n",
       "4. 6\n",
       "5. 24\n",
       "6. 120\n",
       "\n",
       "\n"
      ],
      "text/plain": [
       "[1]   1   1   2   6  24 120"
      ]
     },
     "metadata": {},
     "output_type": "display_data"
    }
   ],
   "source": [
    "sapply(0:5, fac3)"
   ]
  },
  {
   "cell_type": "code",
   "execution_count": 269,
   "id": "322e29b6-f35d-4cb1-9ddc-deb19dacf619",
   "metadata": {},
   "outputs": [
    {
     "data": {
      "text/html": [
       "<style>\n",
       ".list-inline {list-style: none; margin:0; padding: 0}\n",
       ".list-inline>li {display: inline-block}\n",
       ".list-inline>li:not(:last-child)::after {content: \"\\00b7\"; padding: 0 .5ex}\n",
       "</style>\n",
       "<ol class=list-inline><li>1</li><li>2</li><li>6</li><li>24</li><li>120</li></ol>\n"
      ],
      "text/latex": [
       "\\begin{enumerate*}\n",
       "\\item 1\n",
       "\\item 2\n",
       "\\item 6\n",
       "\\item 24\n",
       "\\item 120\n",
       "\\end{enumerate*}\n"
      ],
      "text/markdown": [
       "1. 1\n",
       "2. 2\n",
       "3. 6\n",
       "4. 24\n",
       "5. 120\n",
       "\n",
       "\n"
      ],
      "text/plain": [
       "[1]   1   2   6  24 120"
      ]
     },
     "metadata": {},
     "output_type": "display_data"
    }
   ],
   "source": [
    "cumprod(1:5)"
   ]
  },
  {
   "cell_type": "code",
   "execution_count": 270,
   "id": "64c4ab2b-f840-49b1-aaff-3fddef53ba5a",
   "metadata": {},
   "outputs": [
    {
     "data": {
      "text/html": [
       "<style>\n",
       ".list-inline {list-style: none; margin:0; padding: 0}\n",
       ".list-inline>li {display: inline-block}\n",
       ".list-inline>li:not(:last-child)::after {content: \"\\00b7\"; padding: 0 .5ex}\n",
       "</style>\n",
       "<ol class=list-inline><li>1</li><li>0</li></ol>\n"
      ],
      "text/latex": [
       "\\begin{enumerate*}\n",
       "\\item 1\n",
       "\\item 0\n",
       "\\end{enumerate*}\n"
      ],
      "text/markdown": [
       "1. 1\n",
       "2. 0\n",
       "\n",
       "\n"
      ],
      "text/plain": [
       "[1] 1 0"
      ]
     },
     "metadata": {},
     "output_type": "display_data"
    }
   ],
   "source": [
    "cumprod(1:0)"
   ]
  },
  {
   "cell_type": "code",
   "execution_count": 271,
   "id": "a76c3bb6-abe2-4130-aec6-66e37b03df47",
   "metadata": {},
   "outputs": [
    {
     "data": {
      "text/html": [
       "1"
      ],
      "text/latex": [
       "1"
      ],
      "text/markdown": [
       "1"
      ],
      "text/plain": [
       "[1] 1"
      ]
     },
     "metadata": {},
     "output_type": "display_data"
    }
   ],
   "source": [
    "max(cumprod(1:0))"
   ]
  },
  {
   "cell_type": "code",
   "execution_count": 275,
   "id": "09babdef-61a0-4682-9e47-aa306203e5a2",
   "metadata": {},
   "outputs": [],
   "source": [
    "fac4 = function(x) max(cumprod(1:x))"
   ]
  },
  {
   "cell_type": "code",
   "execution_count": 276,
   "id": "83355c6e-12f3-4630-982f-b275a8722d7c",
   "metadata": {},
   "outputs": [
    {
     "data": {
      "text/html": [
       "<style>\n",
       ".list-inline {list-style: none; margin:0; padding: 0}\n",
       ".list-inline>li {display: inline-block}\n",
       ".list-inline>li:not(:last-child)::after {content: \"\\00b7\"; padding: 0 .5ex}\n",
       "</style>\n",
       "<ol class=list-inline><li>1</li><li>1</li><li>2</li><li>6</li><li>24</li><li>120</li></ol>\n"
      ],
      "text/latex": [
       "\\begin{enumerate*}\n",
       "\\item 1\n",
       "\\item 1\n",
       "\\item 2\n",
       "\\item 6\n",
       "\\item 24\n",
       "\\item 120\n",
       "\\end{enumerate*}\n"
      ],
      "text/markdown": [
       "1. 1\n",
       "2. 1\n",
       "3. 2\n",
       "4. 6\n",
       "5. 24\n",
       "6. 120\n",
       "\n",
       "\n"
      ],
      "text/plain": [
       "[1]   1   1   2   6  24 120"
      ]
     },
     "metadata": {},
     "output_type": "display_data"
    }
   ],
   "source": [
    "sapply(0:5, fac4)"
   ]
  },
  {
   "cell_type": "code",
   "execution_count": 278,
   "id": "e232882a-37be-41b5-9e53-450a29b540be",
   "metadata": {},
   "outputs": [],
   "source": [
    "# Gamma 함수 적용"
   ]
  },
  {
   "cell_type": "markdown",
   "id": "5a24371e-d5dd-4a08-8aaa-922031edd591",
   "metadata": {},
   "source": [
    "$\\Gamma (x+1) = x!$"
   ]
  },
  {
   "cell_type": "code",
   "execution_count": 279,
   "id": "6b22343c-4167-45b5-aaf1-c4cc6fdea38c",
   "metadata": {},
   "outputs": [
    {
     "data": {
      "text/html": [
       "<style>\n",
       ".list-inline {list-style: none; margin:0; padding: 0}\n",
       ".list-inline>li {display: inline-block}\n",
       ".list-inline>li:not(:last-child)::after {content: \"\\00b7\"; padding: 0 .5ex}\n",
       "</style>\n",
       "<ol class=list-inline><li>1</li><li>1</li><li>2</li><li>6</li><li>24</li><li>120</li></ol>\n"
      ],
      "text/latex": [
       "\\begin{enumerate*}\n",
       "\\item 1\n",
       "\\item 1\n",
       "\\item 2\n",
       "\\item 6\n",
       "\\item 24\n",
       "\\item 120\n",
       "\\end{enumerate*}\n"
      ],
      "text/markdown": [
       "1. 1\n",
       "2. 1\n",
       "3. 2\n",
       "4. 6\n",
       "5. 24\n",
       "6. 120\n",
       "\n",
       "\n"
      ],
      "text/plain": [
       "[1]   1   1   2   6  24 120"
      ]
     },
     "metadata": {},
     "output_type": "display_data"
    }
   ],
   "source": [
    "fac5 = function(x) gamma(x+1)\n",
    "sapply(0:5, fac5)"
   ]
  },
  {
   "cell_type": "code",
   "execution_count": 280,
   "id": "abd4914d-e73f-40ac-956d-d81e395c5383",
   "metadata": {},
   "outputs": [
    {
     "data": {
      "text/html": [
       "<style>\n",
       ".list-inline {list-style: none; margin:0; padding: 0}\n",
       ".list-inline>li {display: inline-block}\n",
       ".list-inline>li:not(:last-child)::after {content: \"\\00b7\"; padding: 0 .5ex}\n",
       "</style>\n",
       "<ol class=list-inline><li>1</li><li>1</li><li>2</li><li>6</li><li>24</li><li>120</li></ol>\n"
      ],
      "text/latex": [
       "\\begin{enumerate*}\n",
       "\\item 1\n",
       "\\item 1\n",
       "\\item 2\n",
       "\\item 6\n",
       "\\item 24\n",
       "\\item 120\n",
       "\\end{enumerate*}\n"
      ],
      "text/markdown": [
       "1. 1\n",
       "2. 1\n",
       "3. 2\n",
       "4. 6\n",
       "5. 24\n",
       "6. 120\n",
       "\n",
       "\n"
      ],
      "text/plain": [
       "[1]   1   1   2   6  24 120"
      ]
     },
     "metadata": {},
     "output_type": "display_data"
    }
   ],
   "source": [
    "sapply(0:5, factorial) # R 내장 팩토리얼 함수"
   ]
  },
  {
   "cell_type": "markdown",
   "id": "8daaa58b-66a4-4949-a91d-44aec50922c9",
   "metadata": {},
   "source": [
    "### 루핑을 피하기"
   ]
  },
  {
   "cell_type": "markdown",
   "id": "088cd98f-99e6-4582-801e-b60d309d1dc3",
   "metadata": {},
   "source": [
    "- 루핑은 가급적 피하는 것이 좋다. 벡터 함수를 잘 이용하면 루핑을 피할 수 있다."
   ]
  },
  {
   "cell_type": "markdown",
   "id": "e76e25f2-bda6-4bb5-8d48-dfa77c526bd1",
   "metadata": {},
   "source": [
    "### ifelse()"
   ]
  },
  {
   "cell_type": "code",
   "execution_count": 283,
   "id": "7839aaa9-1ce5-4c0f-8467-a46f042bbc45",
   "metadata": {},
   "outputs": [],
   "source": [
    "Area <- c(3.6, 5.1, 2.8, 2.4, 3.8, 3.1, 3.5, 2.1, 1.9, 1.5, 2.9, 3.3, 3.7, 1.8, 4.1, 3.9, 2.2, 4.4, 2.9, 0.8)"
   ]
  },
  {
   "cell_type": "code",
   "execution_count": 284,
   "id": "8c2fc9c6-b51a-4b2b-ae61-2e33434ed5b9",
   "metadata": {},
   "outputs": [
    {
     "data": {
      "text/html": [
       "<style>\n",
       ".list-inline {list-style: none; margin:0; padding: 0}\n",
       ".list-inline>li {display: inline-block}\n",
       ".list-inline>li:not(:last-child)::after {content: \"\\00b7\"; padding: 0 .5ex}\n",
       "</style>\n",
       "<ol class=list-inline><li>'big'</li><li>'big'</li><li>'small'</li><li>'small'</li><li>'big'</li><li>'big'</li><li>'big'</li><li>'small'</li><li>'small'</li><li>'small'</li><li>'small'</li><li>'big'</li><li>'big'</li><li>'small'</li><li>'big'</li><li>'big'</li><li>'small'</li><li>'big'</li><li>'small'</li><li>'small'</li></ol>\n"
      ],
      "text/latex": [
       "\\begin{enumerate*}\n",
       "\\item 'big'\n",
       "\\item 'big'\n",
       "\\item 'small'\n",
       "\\item 'small'\n",
       "\\item 'big'\n",
       "\\item 'big'\n",
       "\\item 'big'\n",
       "\\item 'small'\n",
       "\\item 'small'\n",
       "\\item 'small'\n",
       "\\item 'small'\n",
       "\\item 'big'\n",
       "\\item 'big'\n",
       "\\item 'small'\n",
       "\\item 'big'\n",
       "\\item 'big'\n",
       "\\item 'small'\n",
       "\\item 'big'\n",
       "\\item 'small'\n",
       "\\item 'small'\n",
       "\\end{enumerate*}\n"
      ],
      "text/markdown": [
       "1. 'big'\n",
       "2. 'big'\n",
       "3. 'small'\n",
       "4. 'small'\n",
       "5. 'big'\n",
       "6. 'big'\n",
       "7. 'big'\n",
       "8. 'small'\n",
       "9. 'small'\n",
       "10. 'small'\n",
       "11. 'small'\n",
       "12. 'big'\n",
       "13. 'big'\n",
       "14. 'small'\n",
       "15. 'big'\n",
       "16. 'big'\n",
       "17. 'small'\n",
       "18. 'big'\n",
       "19. 'small'\n",
       "20. 'small'\n",
       "\n",
       "\n"
      ],
      "text/plain": [
       " [1] \"big\"   \"big\"   \"small\" \"small\" \"big\"   \"big\"   \"big\"   \"small\" \"small\"\n",
       "[10] \"small\" \"small\" \"big\"   \"big\"   \"small\" \"big\"   \"big\"   \"small\" \"big\"  \n",
       "[19] \"small\" \"small\""
      ]
     },
     "metadata": {},
     "output_type": "display_data"
    }
   ],
   "source": [
    "ifelse(Area > median(Area), 'big', 'small')"
   ]
  },
  {
   "cell_type": "code",
   "execution_count": 288,
   "id": "da075335-1d66-44fb-99ef-9e2856f1eff5",
   "metadata": {},
   "outputs": [
    {
     "data": {
      "text/html": [
       "<style>\n",
       ".list-inline {list-style: none; margin:0; padding: 0}\n",
       ".list-inline>li {display: inline-block}\n",
       ".list-inline>li:not(:last-child)::after {content: \"\\00b7\"; padding: 0 .5ex}\n",
       "</style>\n",
       "<ol class=list-inline><li>0</li><li>0</li><li>0.693147180559945</li><li>1.09861228866811</li><li>-Inf</li><li>1.09861228866811</li><li>1.38629436111989</li><li>0.693147180559945</li><li>0.693147180559945</li><li>-Inf</li><li>-Inf</li><li>-Inf</li><li>0.693147180559945</li><li>0</li><li>0.693147180559945</li><li>0</li><li>0.693147180559945</li><li>1.6094379124341</li><li>0</li><li>0.693147180559945</li></ol>\n"
      ],
      "text/latex": [
       "\\begin{enumerate*}\n",
       "\\item 0\n",
       "\\item 0\n",
       "\\item 0.693147180559945\n",
       "\\item 1.09861228866811\n",
       "\\item -Inf\n",
       "\\item 1.09861228866811\n",
       "\\item 1.38629436111989\n",
       "\\item 0.693147180559945\n",
       "\\item 0.693147180559945\n",
       "\\item -Inf\n",
       "\\item -Inf\n",
       "\\item -Inf\n",
       "\\item 0.693147180559945\n",
       "\\item 0\n",
       "\\item 0.693147180559945\n",
       "\\item 0\n",
       "\\item 0.693147180559945\n",
       "\\item 1.6094379124341\n",
       "\\item 0\n",
       "\\item 0.693147180559945\n",
       "\\end{enumerate*}\n"
      ],
      "text/markdown": [
       "1. 0\n",
       "2. 0\n",
       "3. 0.693147180559945\n",
       "4. 1.09861228866811\n",
       "5. -Inf\n",
       "6. 1.09861228866811\n",
       "7. 1.38629436111989\n",
       "8. 0.693147180559945\n",
       "9. 0.693147180559945\n",
       "10. -Inf\n",
       "11. -Inf\n",
       "12. -Inf\n",
       "13. 0.693147180559945\n",
       "14. 0\n",
       "15. 0.693147180559945\n",
       "16. 0\n",
       "17. 0.693147180559945\n",
       "18. 1.6094379124341\n",
       "19. 0\n",
       "20. 0.693147180559945\n",
       "\n",
       "\n"
      ],
      "text/plain": [
       " [1] 0.0000000 0.0000000 0.6931472 1.0986123      -Inf 1.0986123 1.3862944\n",
       " [8] 0.6931472 0.6931472      -Inf      -Inf      -Inf 0.6931472 0.0000000\n",
       "[15] 0.6931472 0.0000000 0.6931472 1.6094379 0.0000000 0.6931472"
      ]
     },
     "metadata": {},
     "output_type": "display_data"
    }
   ],
   "source": [
    "set.seed(1)\n",
    "y = log(rpois(20, 1.5))\n",
    "y"
   ]
  },
  {
   "cell_type": "code",
   "execution_count": 289,
   "id": "d8195cab-d002-45a5-b5d8-6bd2ae02467f",
   "metadata": {},
   "outputs": [
    {
     "data": {
      "text/html": [
       "<style>\n",
       ".list-inline {list-style: none; margin:0; padding: 0}\n",
       ".list-inline>li {display: inline-block}\n",
       ".list-inline>li:not(:last-child)::after {content: \"\\00b7\"; padding: 0 .5ex}\n",
       "</style>\n",
       "<ol class=list-inline><li>0</li><li>0</li><li>0.693147180559945</li><li>1.09861228866811</li><li>&lt;NA&gt;</li><li>1.09861228866811</li><li>1.38629436111989</li><li>0.693147180559945</li><li>0.693147180559945</li><li>&lt;NA&gt;</li><li>&lt;NA&gt;</li><li>&lt;NA&gt;</li><li>0.693147180559945</li><li>0</li><li>0.693147180559945</li><li>0</li><li>0.693147180559945</li><li>1.6094379124341</li><li>0</li><li>0.693147180559945</li></ol>\n"
      ],
      "text/latex": [
       "\\begin{enumerate*}\n",
       "\\item 0\n",
       "\\item 0\n",
       "\\item 0.693147180559945\n",
       "\\item 1.09861228866811\n",
       "\\item <NA>\n",
       "\\item 1.09861228866811\n",
       "\\item 1.38629436111989\n",
       "\\item 0.693147180559945\n",
       "\\item 0.693147180559945\n",
       "\\item <NA>\n",
       "\\item <NA>\n",
       "\\item <NA>\n",
       "\\item 0.693147180559945\n",
       "\\item 0\n",
       "\\item 0.693147180559945\n",
       "\\item 0\n",
       "\\item 0.693147180559945\n",
       "\\item 1.6094379124341\n",
       "\\item 0\n",
       "\\item 0.693147180559945\n",
       "\\end{enumerate*}\n"
      ],
      "text/markdown": [
       "1. 0\n",
       "2. 0\n",
       "3. 0.693147180559945\n",
       "4. 1.09861228866811\n",
       "5. &lt;NA&gt;\n",
       "6. 1.09861228866811\n",
       "7. 1.38629436111989\n",
       "8. 0.693147180559945\n",
       "9. 0.693147180559945\n",
       "10. &lt;NA&gt;\n",
       "11. &lt;NA&gt;\n",
       "12. &lt;NA&gt;\n",
       "13. 0.693147180559945\n",
       "14. 0\n",
       "15. 0.693147180559945\n",
       "16. 0\n",
       "17. 0.693147180559945\n",
       "18. 1.6094379124341\n",
       "19. 0\n",
       "20. 0.693147180559945\n",
       "\n",
       "\n"
      ],
      "text/plain": [
       " [1] 0.0000000 0.0000000 0.6931472 1.0986123        NA 1.0986123 1.3862944\n",
       " [8] 0.6931472 0.6931472        NA        NA        NA 0.6931472 0.0000000\n",
       "[15] 0.6931472 0.0000000 0.6931472 1.6094379 0.0000000 0.6931472"
      ]
     },
     "metadata": {},
     "output_type": "display_data"
    }
   ],
   "source": [
    "ifelse(y<0, NA, y) # 음수는 결측값 처리"
   ]
  },
  {
   "cell_type": "markdown",
   "id": "1a40320c-f1c0-405c-892c-a7cdcf83757d",
   "metadata": {},
   "source": [
    "### 루핑에 걸리는 시간"
   ]
  },
  {
   "cell_type": "code",
   "execution_count": 292,
   "id": "403bec8b-5547-4ee0-8b42-1eee03fff7f8",
   "metadata": {},
   "outputs": [],
   "source": [
    "x <- runif(10000000)"
   ]
  },
  {
   "cell_type": "code",
   "execution_count": 293,
   "id": "99369094-1f71-4aff-ad1d-53db8082bffc",
   "metadata": {},
   "outputs": [
    {
     "data": {
      "text/plain": [
       " 사용자  시스템 elapsed \n",
       "   0.02    0.00    0.01 "
      ]
     },
     "metadata": {},
     "output_type": "display_data"
    }
   ],
   "source": [
    "system.time(max(x))"
   ]
  },
  {
   "cell_type": "code",
   "execution_count": 298,
   "id": "9fad1bdc-f2da-40f0-a5ed-c0af094fb774",
   "metadata": {},
   "outputs": [
    {
     "data": {
      "text/plain": [
       " 사용자  시스템 elapsed \n",
       "   0.28    0.00    0.28 "
      ]
     },
     "metadata": {},
     "output_type": "display_data"
    }
   ],
   "source": [
    "pc = proc.time()\n",
    "cmax = x[1]\n",
    "\n",
    "for (i in 2:10000000){\n",
    "    if (x[i] == cmax) cmax = x[i]\n",
    "}\n",
    "proc.time() - pc"
   ]
  },
  {
   "cell_type": "markdown",
   "id": "4b115e79-f72a-4f91-9ea7-53da2a90cfd3",
   "metadata": {},
   "source": [
    "## Ch.11 리스트"
   ]
  },
  {
   "cell_type": "code",
   "execution_count": 300,
   "id": "cfbbc73b-5d04-4396-a7d6-dd9eb56741e4",
   "metadata": {},
   "outputs": [],
   "source": [
    "apples <- c(4,4.5,4.2,5.1,3.9)\n",
    "oranges <- c(TRUE, TRUE, FALSE)\n",
    "chalk <- c(\"limestone\", \"marl\",\"oolite\", \"CaC03\")"
   ]
  },
  {
   "cell_type": "markdown",
   "id": "5514f44d-ab37-49ab-bd75-0429b910912c",
   "metadata": {},
   "source": [
    "- 길이가 달라서 데이터 프레임으로 만들 수 없다.\n",
    "- 리스트는 만들 수 있다."
   ]
  },
  {
   "cell_type": "code",
   "execution_count": 303,
   "id": "3615c201-d769-4839-bd6a-5ad1448c9863",
   "metadata": {},
   "outputs": [
    {
     "name": "stdout",
     "output_type": "stream",
     "text": [
      "[[1]]\n",
      "[1] 4.0 4.5 4.2 5.1 3.9\n",
      "\n",
      "[[2]]\n",
      "[1]  TRUE  TRUE FALSE\n",
      "\n",
      "[[3]]\n",
      "[1] \"limestone\" \"marl\"      \"oolite\"    \"CaC03\"    \n",
      "\n"
     ]
    }
   ],
   "source": [
    "items = list(apples, oranges, chalk)\n",
    "print(items)"
   ]
  },
  {
   "cell_type": "code",
   "execution_count": 304,
   "id": "b0d3621a-0b0a-4bd6-9f9d-ac4d18e398df",
   "metadata": {},
   "outputs": [
    {
     "data": {
      "text/html": [
       "<style>\n",
       ".list-inline {list-style: none; margin:0; padding: 0}\n",
       ".list-inline>li {display: inline-block}\n",
       ".list-inline>li:not(:last-child)::after {content: \"\\00b7\"; padding: 0 .5ex}\n",
       "</style>\n",
       "<ol class=list-inline><li>4</li><li>4.5</li><li>4.2</li><li>5.1</li><li>3.9</li></ol>\n"
      ],
      "text/latex": [
       "\\begin{enumerate*}\n",
       "\\item 4\n",
       "\\item 4.5\n",
       "\\item 4.2\n",
       "\\item 5.1\n",
       "\\item 3.9\n",
       "\\end{enumerate*}\n"
      ],
      "text/markdown": [
       "1. 4\n",
       "2. 4.5\n",
       "3. 4.2\n",
       "4. 5.1\n",
       "5. 3.9\n",
       "\n",
       "\n"
      ],
      "text/plain": [
       "[1] 4.0 4.5 4.2 5.1 3.9"
      ]
     },
     "metadata": {},
     "output_type": "display_data"
    }
   ],
   "source": [
    "items[[1]]"
   ]
  },
  {
   "cell_type": "code",
   "execution_count": 305,
   "id": "8eac784e-de7b-445d-88d2-67717a5965fe",
   "metadata": {},
   "outputs": [
    {
     "data": {
      "text/html": [
       "FALSE"
      ],
      "text/latex": [
       "FALSE"
      ],
      "text/markdown": [
       "FALSE"
      ],
      "text/plain": [
       "[1] FALSE"
      ]
     },
     "metadata": {},
     "output_type": "display_data"
    }
   ],
   "source": [
    "items[[2]][3]"
   ]
  },
  {
   "cell_type": "code",
   "execution_count": 306,
   "id": "178ea16a-fbe1-4aff-9201-cbc62036401d",
   "metadata": {},
   "outputs": [
    {
     "data": {
      "text/plain": [
       "NULL"
      ]
     },
     "metadata": {},
     "output_type": "display_data"
    }
   ],
   "source": [
    "names(items)"
   ]
  },
  {
   "cell_type": "code",
   "execution_count": 311,
   "id": "6389f1f3-a7fc-41e8-8c8c-72fa48fb11b5",
   "metadata": {},
   "outputs": [
    {
     "data": {
      "text/html": [
       "<style>\n",
       ".list-inline {list-style: none; margin:0; padding: 0}\n",
       ".list-inline>li {display: inline-block}\n",
       ".list-inline>li:not(:last-child)::after {content: \"\\00b7\"; padding: 0 .5ex}\n",
       "</style>\n",
       "<ol class=list-inline><li>'first'</li><li>'second'</li><li>'third'</li></ol>\n"
      ],
      "text/latex": [
       "\\begin{enumerate*}\n",
       "\\item 'first'\n",
       "\\item 'second'\n",
       "\\item 'third'\n",
       "\\end{enumerate*}\n"
      ],
      "text/markdown": [
       "1. 'first'\n",
       "2. 'second'\n",
       "3. 'third'\n",
       "\n",
       "\n"
      ],
      "text/plain": [
       "[1] \"first\"  \"second\" \"third\" "
      ]
     },
     "metadata": {},
     "output_type": "display_data"
    }
   ],
   "source": [
    "items = list(first = apples, second = oranges, third=chalk)\n",
    "names(items)"
   ]
  },
  {
   "cell_type": "code",
   "execution_count": 312,
   "id": "76f35b5a-2bea-488c-8f45-51d901e1d76e",
   "metadata": {},
   "outputs": [
    {
     "data": {
      "text/html": [
       "<dl>\n",
       "\t<dt>$first</dt>\n",
       "\t\t<dd><style>\n",
       ".list-inline {list-style: none; margin:0; padding: 0}\n",
       ".list-inline>li {display: inline-block}\n",
       ".list-inline>li:not(:last-child)::after {content: \"\\00b7\"; padding: 0 .5ex}\n",
       "</style>\n",
       "<ol class=list-inline><li>4</li><li>4.5</li><li>4.2</li><li>5.1</li><li>3.9</li></ol>\n",
       "</dd>\n",
       "\t<dt>$second</dt>\n",
       "\t\t<dd><style>\n",
       ".list-inline {list-style: none; margin:0; padding: 0}\n",
       ".list-inline>li {display: inline-block}\n",
       ".list-inline>li:not(:last-child)::after {content: \"\\00b7\"; padding: 0 .5ex}\n",
       "</style>\n",
       "<ol class=list-inline><li>TRUE</li><li>TRUE</li><li>FALSE</li></ol>\n",
       "</dd>\n",
       "\t<dt>$third</dt>\n",
       "\t\t<dd><style>\n",
       ".list-inline {list-style: none; margin:0; padding: 0}\n",
       ".list-inline>li {display: inline-block}\n",
       ".list-inline>li:not(:last-child)::after {content: \"\\00b7\"; padding: 0 .5ex}\n",
       "</style>\n",
       "<ol class=list-inline><li>'limestone'</li><li>'marl'</li><li>'oolite'</li><li>'CaC03'</li></ol>\n",
       "</dd>\n",
       "</dl>\n"
      ],
      "text/latex": [
       "\\begin{description}\n",
       "\\item[\\$first] \\begin{enumerate*}\n",
       "\\item 4\n",
       "\\item 4.5\n",
       "\\item 4.2\n",
       "\\item 5.1\n",
       "\\item 3.9\n",
       "\\end{enumerate*}\n",
       "\n",
       "\\item[\\$second] \\begin{enumerate*}\n",
       "\\item TRUE\n",
       "\\item TRUE\n",
       "\\item FALSE\n",
       "\\end{enumerate*}\n",
       "\n",
       "\\item[\\$third] \\begin{enumerate*}\n",
       "\\item 'limestone'\n",
       "\\item 'marl'\n",
       "\\item 'oolite'\n",
       "\\item 'CaC03'\n",
       "\\end{enumerate*}\n",
       "\n",
       "\\end{description}\n"
      ],
      "text/markdown": [
       "$first\n",
       ":   1. 4\n",
       "2. 4.5\n",
       "3. 4.2\n",
       "4. 5.1\n",
       "5. 3.9\n",
       "\n",
       "\n",
       "\n",
       "$second\n",
       ":   1. TRUE\n",
       "2. TRUE\n",
       "3. FALSE\n",
       "\n",
       "\n",
       "\n",
       "$third\n",
       ":   1. 'limestone'\n",
       "2. 'marl'\n",
       "3. 'oolite'\n",
       "4. 'CaC03'\n",
       "\n",
       "\n",
       "\n",
       "\n",
       "\n"
      ],
      "text/plain": [
       "$first\n",
       "[1] 4.0 4.5 4.2 5.1 3.9\n",
       "\n",
       "$second\n",
       "[1]  TRUE  TRUE FALSE\n",
       "\n",
       "$third\n",
       "[1] \"limestone\" \"marl\"      \"oolite\"    \"CaC03\"    \n"
      ]
     },
     "metadata": {},
     "output_type": "display_data"
    }
   ],
   "source": [
    "items"
   ]
  },
  {
   "cell_type": "code",
   "execution_count": 309,
   "id": "8e473f46-cdbd-4555-92a6-26c9350e1f29",
   "metadata": {},
   "outputs": [],
   "source": [
    "names(items) = c('aa', 'bb', 'ww')"
   ]
  },
  {
   "cell_type": "code",
   "execution_count": 310,
   "id": "c01fb2c9-9366-4750-8906-49a391ed8f44",
   "metadata": {},
   "outputs": [
    {
     "data": {
      "text/html": [
       "<dl>\n",
       "\t<dt>$aa</dt>\n",
       "\t\t<dd><style>\n",
       ".list-inline {list-style: none; margin:0; padding: 0}\n",
       ".list-inline>li {display: inline-block}\n",
       ".list-inline>li:not(:last-child)::after {content: \"\\00b7\"; padding: 0 .5ex}\n",
       "</style>\n",
       "<ol class=list-inline><li>4</li><li>4.5</li><li>4.2</li><li>5.1</li><li>3.9</li></ol>\n",
       "</dd>\n",
       "\t<dt>$bb</dt>\n",
       "\t\t<dd><style>\n",
       ".list-inline {list-style: none; margin:0; padding: 0}\n",
       ".list-inline>li {display: inline-block}\n",
       ".list-inline>li:not(:last-child)::after {content: \"\\00b7\"; padding: 0 .5ex}\n",
       "</style>\n",
       "<ol class=list-inline><li>TRUE</li><li>TRUE</li><li>FALSE</li></ol>\n",
       "</dd>\n",
       "\t<dt>$ww</dt>\n",
       "\t\t<dd><style>\n",
       ".list-inline {list-style: none; margin:0; padding: 0}\n",
       ".list-inline>li {display: inline-block}\n",
       ".list-inline>li:not(:last-child)::after {content: \"\\00b7\"; padding: 0 .5ex}\n",
       "</style>\n",
       "<ol class=list-inline><li>'limestone'</li><li>'marl'</li><li>'oolite'</li><li>'CaC03'</li></ol>\n",
       "</dd>\n",
       "</dl>\n"
      ],
      "text/latex": [
       "\\begin{description}\n",
       "\\item[\\$aa] \\begin{enumerate*}\n",
       "\\item 4\n",
       "\\item 4.5\n",
       "\\item 4.2\n",
       "\\item 5.1\n",
       "\\item 3.9\n",
       "\\end{enumerate*}\n",
       "\n",
       "\\item[\\$bb] \\begin{enumerate*}\n",
       "\\item TRUE\n",
       "\\item TRUE\n",
       "\\item FALSE\n",
       "\\end{enumerate*}\n",
       "\n",
       "\\item[\\$ww] \\begin{enumerate*}\n",
       "\\item 'limestone'\n",
       "\\item 'marl'\n",
       "\\item 'oolite'\n",
       "\\item 'CaC03'\n",
       "\\end{enumerate*}\n",
       "\n",
       "\\end{description}\n"
      ],
      "text/markdown": [
       "$aa\n",
       ":   1. 4\n",
       "2. 4.5\n",
       "3. 4.2\n",
       "4. 5.1\n",
       "5. 3.9\n",
       "\n",
       "\n",
       "\n",
       "$bb\n",
       ":   1. TRUE\n",
       "2. TRUE\n",
       "3. FALSE\n",
       "\n",
       "\n",
       "\n",
       "$ww\n",
       ":   1. 'limestone'\n",
       "2. 'marl'\n",
       "3. 'oolite'\n",
       "4. 'CaC03'\n",
       "\n",
       "\n",
       "\n",
       "\n",
       "\n"
      ],
      "text/plain": [
       "$aa\n",
       "[1] 4.0 4.5 4.2 5.1 3.9\n",
       "\n",
       "$bb\n",
       "[1]  TRUE  TRUE FALSE\n",
       "\n",
       "$ww\n",
       "[1] \"limestone\" \"marl\"      \"oolite\"    \"CaC03\"    \n"
      ]
     },
     "metadata": {},
     "output_type": "display_data"
    }
   ],
   "source": [
    "items"
   ]
  },
  {
   "cell_type": "code",
   "execution_count": 313,
   "id": "a617d446-aab5-4109-b006-22aec21516cd",
   "metadata": {},
   "outputs": [
    {
     "data": {
      "text/html": [
       "<style>\n",
       ".list-inline {list-style: none; margin:0; padding: 0}\n",
       ".list-inline>li {display: inline-block}\n",
       ".list-inline>li:not(:last-child)::after {content: \"\\00b7\"; padding: 0 .5ex}\n",
       "</style>\n",
       "<ol class=list-inline><li>4</li><li>4.5</li><li>4.2</li><li>5.1</li><li>3.9</li></ol>\n"
      ],
      "text/latex": [
       "\\begin{enumerate*}\n",
       "\\item 4\n",
       "\\item 4.5\n",
       "\\item 4.2\n",
       "\\item 5.1\n",
       "\\item 3.9\n",
       "\\end{enumerate*}\n"
      ],
      "text/markdown": [
       "1. 4\n",
       "2. 4.5\n",
       "3. 4.2\n",
       "4. 5.1\n",
       "5. 3.9\n",
       "\n",
       "\n"
      ],
      "text/plain": [
       "[1] 4.0 4.5 4.2 5.1 3.9"
      ]
     },
     "metadata": {},
     "output_type": "display_data"
    }
   ],
   "source": [
    "items$first"
   ]
  },
  {
   "cell_type": "markdown",
   "id": "62f01546-481f-4513-9c0b-904f3c7ba0eb",
   "metadata": {},
   "source": [
    "### lapply()"
   ]
  },
  {
   "cell_type": "markdown",
   "id": "70f470d0-715e-4eb7-811a-b3042a40e75b",
   "metadata": {},
   "source": [
    "- lapply returns a list of the same length as X, each element of which is the result of applying FUN to the corresponding element of X."
   ]
  },
  {
   "cell_type": "code",
   "execution_count": 314,
   "id": "befe8118-93e8-40a6-b8e0-5a32d632ebb3",
   "metadata": {},
   "outputs": [
    {
     "data": {
      "text/html": [
       "'list'"
      ],
      "text/latex": [
       "'list'"
      ],
      "text/markdown": [
       "'list'"
      ],
      "text/plain": [
       "[1] \"list\""
      ]
     },
     "metadata": {},
     "output_type": "display_data"
    }
   ],
   "source": [
    "class(items)"
   ]
  },
  {
   "cell_type": "code",
   "execution_count": 315,
   "id": "45db6b70-70ac-40a5-96e5-8c629e71a798",
   "metadata": {},
   "outputs": [
    {
     "data": {
      "text/html": [
       "FALSE"
      ],
      "text/latex": [
       "FALSE"
      ],
      "text/markdown": [
       "FALSE"
      ],
      "text/plain": [
       "[1] FALSE"
      ]
     },
     "metadata": {},
     "output_type": "display_data"
    }
   ],
   "source": [
    "is.numeric(items)"
   ]
  },
  {
   "cell_type": "code",
   "execution_count": 316,
   "id": "0603ad7c-c1b4-4f01-acca-67ea77eaaa29",
   "metadata": {},
   "outputs": [
    {
     "data": {
      "text/html": [
       "TRUE"
      ],
      "text/latex": [
       "TRUE"
      ],
      "text/markdown": [
       "TRUE"
      ],
      "text/plain": [
       "[1] TRUE"
      ]
     },
     "metadata": {},
     "output_type": "display_data"
    }
   ],
   "source": [
    "is.list(items)"
   ]
  },
  {
   "cell_type": "code",
   "execution_count": 317,
   "id": "13387b63-58dc-4df2-a432-d815084c47d6",
   "metadata": {},
   "outputs": [
    {
     "data": {
      "text/html": [
       "3"
      ],
      "text/latex": [
       "3"
      ],
      "text/markdown": [
       "3"
      ],
      "text/plain": [
       "[1] 3"
      ]
     },
     "metadata": {},
     "output_type": "display_data"
    }
   ],
   "source": [
    "length(items)"
   ]
  },
  {
   "cell_type": "code",
   "execution_count": 320,
   "id": "263f1140-92c5-4a05-b353-b9540d180775",
   "metadata": {},
   "outputs": [
    {
     "data": {
      "text/html": [
       "<dl>\n",
       "\t<dt>$first</dt>\n",
       "\t\t<dd>5</dd>\n",
       "\t<dt>$second</dt>\n",
       "\t\t<dd>3</dd>\n",
       "\t<dt>$third</dt>\n",
       "\t\t<dd>4</dd>\n",
       "</dl>\n"
      ],
      "text/latex": [
       "\\begin{description}\n",
       "\\item[\\$first] 5\n",
       "\\item[\\$second] 3\n",
       "\\item[\\$third] 4\n",
       "\\end{description}\n"
      ],
      "text/markdown": [
       "$first\n",
       ":   5\n",
       "$second\n",
       ":   3\n",
       "$third\n",
       ":   4\n",
       "\n",
       "\n"
      ],
      "text/plain": [
       "$first\n",
       "[1] 5\n",
       "\n",
       "$second\n",
       "[1] 3\n",
       "\n",
       "$third\n",
       "[1] 4\n"
      ]
     },
     "metadata": {},
     "output_type": "display_data"
    }
   ],
   "source": [
    "lapply(items, length)"
   ]
  },
  {
   "cell_type": "code",
   "execution_count": 321,
   "id": "af24cc7a-c0b1-4ebe-a725-e2167f1a7569",
   "metadata": {},
   "outputs": [
    {
     "data": {
      "text/html": [
       "<dl>\n",
       "\t<dt>$first</dt>\n",
       "\t\t<dd>'numeric'</dd>\n",
       "\t<dt>$second</dt>\n",
       "\t\t<dd>'logical'</dd>\n",
       "\t<dt>$third</dt>\n",
       "\t\t<dd>'character'</dd>\n",
       "</dl>\n"
      ],
      "text/latex": [
       "\\begin{description}\n",
       "\\item[\\$first] 'numeric'\n",
       "\\item[\\$second] 'logical'\n",
       "\\item[\\$third] 'character'\n",
       "\\end{description}\n"
      ],
      "text/markdown": [
       "$first\n",
       ":   'numeric'\n",
       "$second\n",
       ":   'logical'\n",
       "$third\n",
       ":   'character'\n",
       "\n",
       "\n"
      ],
      "text/plain": [
       "$first\n",
       "[1] \"numeric\"\n",
       "\n",
       "$second\n",
       "[1] \"logical\"\n",
       "\n",
       "$third\n",
       "[1] \"character\"\n"
      ]
     },
     "metadata": {},
     "output_type": "display_data"
    }
   ],
   "source": [
    "lapply(items, class)"
   ]
  },
  {
   "cell_type": "code",
   "execution_count": 322,
   "id": "a414a5de-a140-4d53-8f02-dec7a06c99d7",
   "metadata": {},
   "outputs": [
    {
     "name": "stderr",
     "output_type": "stream",
     "text": [
      "Warning message in mean.default(X[[i]], ...):\n",
      "\"인자가 수치형 또는 논리형이 아니므로 NA를 반환합니다\"\n"
     ]
    },
    {
     "data": {
      "text/html": [
       "<dl>\n",
       "\t<dt>$first</dt>\n",
       "\t\t<dd>4.34</dd>\n",
       "\t<dt>$second</dt>\n",
       "\t\t<dd>0.666666666666667</dd>\n",
       "\t<dt>$third</dt>\n",
       "\t\t<dd>&lt;NA&gt;</dd>\n",
       "</dl>\n"
      ],
      "text/latex": [
       "\\begin{description}\n",
       "\\item[\\$first] 4.34\n",
       "\\item[\\$second] 0.666666666666667\n",
       "\\item[\\$third] <NA>\n",
       "\\end{description}\n"
      ],
      "text/markdown": [
       "$first\n",
       ":   4.34\n",
       "$second\n",
       ":   0.666666666666667\n",
       "$third\n",
       ":   &lt;NA&gt;\n",
       "\n",
       "\n"
      ],
      "text/plain": [
       "$first\n",
       "[1] 4.34\n",
       "\n",
       "$second\n",
       "[1] 0.6666667\n",
       "\n",
       "$third\n",
       "[1] NA\n"
      ]
     },
     "metadata": {},
     "output_type": "display_data"
    }
   ],
   "source": [
    "lapply(items, mean)"
   ]
  },
  {
   "cell_type": "code",
   "execution_count": 323,
   "id": "7498704d-b639-4c3d-8d3a-9acc2bc19cbf",
   "metadata": {},
   "outputs": [
    {
     "name": "stdout",
     "output_type": "stream",
     "text": [
      "List of 3\n",
      " $ first : num [1:5] 4 4.5 4.2 5.1 3.9\n",
      " $ second: logi [1:3] TRUE TRUE FALSE\n",
      " $ third : chr [1:4] \"limestone\" \"marl\" \"oolite\" \"CaC03\"\n"
     ]
    }
   ],
   "source": [
    "str(items)"
   ]
  },
  {
   "cell_type": "code",
   "execution_count": null,
   "id": "25f4176b-6a25-4183-9040-ba29faa2e641",
   "metadata": {},
   "outputs": [],
   "source": []
  }
 ],
 "metadata": {
  "kernelspec": {
   "display_name": "R",
   "language": "R",
   "name": "ir"
  },
  "language_info": {
   "codemirror_mode": "r",
   "file_extension": ".r",
   "mimetype": "text/x-r-source",
   "name": "R",
   "pygments_lexer": "r",
   "version": "4.1.2"
  }
 },
 "nbformat": 4,
 "nbformat_minor": 5
}
