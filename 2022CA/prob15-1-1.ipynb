{
 "cells": [
  {
   "cell_type": "code",
   "execution_count": 4,
   "id": "2e0ffc79-6db6-4902-8509-19fb5760fe4b",
   "metadata": {},
   "outputs": [
    {
     "data": {
      "image/png": "[encoded data removed]",
      "text/plain": [
       "Plot with title \"~\"Plot with title \"N(mu, 1)\"Plot with title \"에서 표본 10개 추출\""
      ]
     },
     "metadata": {
      "image/png": {
       "height": 420,
       "width": 420
      }
     },
     "output_type": "display_data"
    }
   ],
   "source": [
    "library(tidyverse)\n",
    "\n",
    "set.seed(1)\n",
    "\n",
    "fly_scale = 0.1\n",
    "\n",
    "# 모집단의 그래프를 그리기 위해 좌표를 결정합니다.\n",
    "graph_x = seq(-4, 4, 0.01) # 모집단의 x좌표\n",
    "graph_y = dnorm(graph_x, mean = 0, sd = 1) + fly_scale # 모집단의 y좌표\n",
    "\n",
    "par(mfrow = c(2,2), mar = c(2,1,2,1))\n",
    "\n",
    "for (none in 1:4){\n",
    "    plot(graph_x, graph_y, type = 'l',\n",
    "         main = bquote(N(mu, 1) ~ '에서 표본 10개 추출'),\n",
    "         frame.plot = FALSE, # 그래프를 둘러싼 사각형 제거합니다.\n",
    "         xlim = c(-4, 4),\n",
    "         ylim = c(0, max(graph_y)),\n",
    "         yaxt = 'n', # y축 눈금 제거합니다.\n",
    "         xlab = '', ylab = '')\n",
    "    \n",
    "    polygon(graph_x, graph_y, col = '#FFFFCC') # 그래프를 색칠합니다.\n",
    "    lines(c(0,0), range(graph_y))\n",
    "    \n",
    "    # 표본 생성 및 시각화\n",
    "    ten_sample = rnorm(10, mean = 0.5, sd = 1) %>% round(1)\n",
    "    stripchart(ten_sample, method = 'stack', pch = 16, col = 'blue', add = TRUE, at = min(graph_y)) # 표본을 점도표로 시각화합니다.\n",
    "    points(mean(ten_sample), 0.1, pch = 17, col = 'red') # 표본평균은 빨간 삼각형으로 표시합니다.\n",
    "    text(0, 0.08, bquote(H[0] : mu == 0))\n",
    "    \n",
    "    alpha = 0.05 # 유의수준은 0.05입니다.\n",
    "    # 모평균은 모른다고 가정하고 진행합니다.\n",
    "    # 단, 모표준편차가 1임을 안다고 가정하므로 t-분포로 근사하지 않고 z_score를 사용합니다.\n",
    "    # 신뢰구간 : 표본평균 +- z_score * population_stdev / sample_size\n",
    "    z_score = qnorm(1-alpha/2)\n",
    "    confidence_interval = c(mean(ten_sample) - z_score * 1 / sqrt(10),\n",
    "                            mean(ten_sample) + z_score * 1 / sqrt(10))\n",
    "    \n",
    "    # 95% 신뢰구간을 시각화하고 그 위에 표본 평균을 빨간색 점으로 표시합니다.\n",
    "    arrows(confidence_interval[1], 0.05, \n",
    "           confidence_interval[2], 0.05, \n",
    "           angle = 90, code = 3, length = 0.05, col = 'blue')\n",
    "    \n",
    "    points(mean(ten_sample), 0.05, pch = 17, col = 'red')\n",
    "    \n",
    "    # 가설검정\n",
    "    # Under H_0\n",
    "    # (표본평균 - 영가설의 모수) / (모표준편차 / 표본크기)를 z값으로 하고 이것이 모집단에서 얼마나 희귀한 값인지 확인\n",
    "    # 양측검정이므로 2를 곱합니다.\n",
    "    p_value = (2*(1-pnorm(  (mean(ten_sample) - 0) / (1/sqrt(10))  ))) %>% round(4) \n",
    "    \n",
    "    text(0.8, 0.01, labels = bquote(bar(x) == .(mean(ten_sample)) ~'(p-value = ' ~ .(p_value) ~')'))\n",
    "}"
   ]
  },
  {
   "cell_type": "code",
   "execution_count": null,
   "id": "e5690b60-f3e2-4d9d-abfc-87fa75dbea30",
   "metadata": {},
   "outputs": [],
   "source": []
  }
 ],
 "metadata": {
  "kernelspec": {
   "display_name": "R",
   "language": "R",
   "name": "ir"
  },
  "language_info": {
   "codemirror_mode": "r",
   "file_extension": ".r",
   "mimetype": "text/x-r-source",
   "name": "R",
   "pygments_lexer": "r",
   "version": "4.1.3"
  }
 },
 "nbformat": 4,
 "nbformat_minor": 5
}
