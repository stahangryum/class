{
 "cells": [
  {
   "cell_type": "code",
   "execution_count": 138,
   "id": "501e10a7-2bbc-476d-a149-22f424c4b6fa",
   "metadata": {},
   "outputs": [
    {
     "data": {
      "text/html": [
       "<dl>\n",
       "\t<dt>$good</dt>\n",
       "\t\t<dd>20</dd>\n",
       "\t<dt>$bad</dt>\n",
       "\t\t<dd>20</dd>\n",
       "\t<dt>$no</dt>\n",
       "\t\t<dd>20</dd>\n",
       "</dl>\n"
      ],
      "text/latex": [
       "\\begin{description}\n",
       "\\item[\\$good] 20\n",
       "\\item[\\$bad] 20\n",
       "\\item[\\$no] 20\n",
       "\\end{description}\n"
      ],
      "text/markdown": [
       "$good\n",
       ":   20\n",
       "$bad\n",
       ":   20\n",
       "$no\n",
       ":   20\n",
       "\n",
       "\n"
      ],
      "text/plain": [
       "$good\n",
       "[1] 20\n",
       "\n",
       "$bad\n",
       "[1] 20\n",
       "\n",
       "$no\n",
       "[1] 20\n"
      ]
     },
     "metadata": {},
     "output_type": "display_data"
    },
    {
     "data": {
      "text/html": [
       "<dl>\n",
       "\t<dt>$good</dt>\n",
       "\t\t<dd>1.9589470856076</dd>\n",
       "\t<dt>$bad</dt>\n",
       "\t\t<dd>2.09801911586294</dd>\n",
       "\t<dt>$no</dt>\n",
       "\t\t<dd>2.38832136601598</dd>\n",
       "</dl>\n"
      ],
      "text/latex": [
       "\\begin{description}\n",
       "\\item[\\$good] 1.9589470856076\n",
       "\\item[\\$bad] 2.09801911586294\n",
       "\\item[\\$no] 2.38832136601598\n",
       "\\end{description}\n"
      ],
      "text/markdown": [
       "$good\n",
       ":   1.9589470856076\n",
       "$bad\n",
       ":   2.09801911586294\n",
       "$no\n",
       ":   2.38832136601598\n",
       "\n",
       "\n"
      ],
      "text/plain": [
       "$good\n",
       "[1] 1.958947\n",
       "\n",
       "$bad\n",
       "[1] 2.098019\n",
       "\n",
       "$no\n",
       "[1] 2.388321\n"
      ]
     },
     "metadata": {},
     "output_type": "display_data"
    },
    {
     "data": {
      "text/html": [
       "<dl>\n",
       "\t<dt>$good</dt>\n",
       "\t\t<dd>22.22</dd>\n",
       "\t<dt>$bad</dt>\n",
       "\t\t<dd>18.18</dd>\n",
       "\t<dt>$no</dt>\n",
       "\t\t<dd>18.725</dd>\n",
       "</dl>\n"
      ],
      "text/latex": [
       "\\begin{description}\n",
       "\\item[\\$good] 22.22\n",
       "\\item[\\$bad] 18.18\n",
       "\\item[\\$no] 18.725\n",
       "\\end{description}\n"
      ],
      "text/markdown": [
       "$good\n",
       ":   22.22\n",
       "$bad\n",
       ":   18.18\n",
       "$no\n",
       ":   18.725\n",
       "\n",
       "\n"
      ],
      "text/plain": [
       "$good\n",
       "[1] 22.22\n",
       "\n",
       "$bad\n",
       "[1] 18.18\n",
       "\n",
       "$no\n",
       "[1] 18.725\n"
      ]
     },
     "metadata": {},
     "output_type": "display_data"
    },
    {
     "name": "stderr",
     "output_type": "stream",
     "text": [
      "No id variables; using all as measure variables\n",
      "\n"
     ]
    },
    {
     "data": {
      "text/html": [
       "20.6793087763734"
      ],
      "text/latex": [
       "20.6793087763734"
      ],
      "text/markdown": [
       "20.6793087763734"
      ],
      "text/plain": [
       "[1] 20.67931"
      ]
     },
     "metadata": {},
     "output_type": "display_data"
    },
    {
     "data": {
      "image/png": "[encoded data removed]",
      "text/plain": [
       "plot without title"
      ]
     },
     "metadata": {
      "image/png": {
       "height": 420,
       "width": 420
      }
     },
     "output_type": "display_data"
    }
   ],
   "source": [
    "if (!require(pacman)) install.packages(\"pacman\"); library(pacman)\n",
    "pacman::p_load(\"tidyverse\", \"ggplot2\", \"reshape2\")\n",
    "\n",
    "good_report <- c(20.8, 18.7, 19.9, 20.6, 22.0, 23.4, 22.8, 24.9, 22.2, 20.3, 24.9, 22.3, 27.0, 20.4, 22.2, 24.0, 21.2, 22.1, 22.0, 22.7)\n",
    "bad_report <- c(18.0, 19.0, 19.2, 18.8, 18.4, 19.0, 18.5, 16.1, 16.8, 14.0, 17.0, 13.6, 17.5, 19.9, 20.2, 18.8, 18.0, 23.2, 18.2, 19.4)\n",
    "no_report <- c(19.9, 16.0, 15.0, 20.1, 19.3, 19.2, 18.0, 19.2, 21.2, 18.8, 18.5, 19.3, 19.3, 19.4, 10.8, 19.1, 19.7, 19.8, 21.3, 20.6)\n",
    "\n",
    "reports <- data.frame(good = good_report,\n",
    "                      bad = bad_report,\n",
    "                      no = no_report)\n",
    "\n",
    "reports %>%\n",
    "    lapply(length)\n",
    "\n",
    "reports %>%\n",
    "    lapply(sd)\n",
    "\n",
    "reports %>%\n",
    "    lapply(mean)\n",
    "\n",
    "reports_melted <- melt(reports, variable.name = \"group\", value.name = 'tip')\n",
    "\n",
    "ggplot(data = reports_melted) +\n",
    "    geom_boxplot(mapping = aes(x = group, y = tip, color = group))\n",
    "\n",
    "n <- reports %>%\n",
    "        lapply(length) %>%\n",
    "        unlist()\n",
    "\n",
    "group_mean <- reports %>%\n",
    "                lapply(mean) %>%\n",
    "                unlist()\n",
    "\n",
    "all_groups_mean <- reports %>% \n",
    "                    unlist() %>%\n",
    "                    mean()\n",
    "\n",
    "group_nums <- length(reports)\n",
    "\n",
    "SSG <- sum(n*(group_mean - all_groups_mean) ** 2)\n",
    "\n",
    "SSE <- sum( (reports$good - mean(reports$good)) ** 2,\n",
    "            (reports$bad - mean(reports$bad)) ** 2,\n",
    "            (reports$no - mean(reports$no)) ** 2)\n",
    "\n",
    "MSG <- SSG / (group_nums - 1)\n",
    "MSE <- SSE / (sum(n) - group_nums)\n",
    "F <- MSG / MSE\n",
    "F"
   ]
  }
 ],
 "metadata": {
  "kernelspec": {
   "display_name": "R",
   "language": "R",
   "name": "ir"
  },
  "language_info": {
   "codemirror_mode": "r",
   "file_extension": ".r",
   "mimetype": "text/x-r-source",
   "name": "R",
   "pygments_lexer": "r",
   "version": "4.1.2"
  }
 },
 "nbformat": 4,
 "nbformat_minor": 5
}
