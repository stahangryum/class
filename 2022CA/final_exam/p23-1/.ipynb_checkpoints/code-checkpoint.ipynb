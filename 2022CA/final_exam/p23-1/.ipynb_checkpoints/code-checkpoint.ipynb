{
 "cells": [
  {
   "cell_type": "code",
   "execution_count": 104,
   "id": "5cec70d2-c70e-45cc-a168-18e3358f7950",
   "metadata": {},
   "outputs": [
    {
     "name": "stdout",
     "output_type": "stream",
     "text": [
      "good_report \n",
      " sample size : 20 \n",
      " mean :  22.22 \n",
      " stdev :  1.958947 \n",
      "bad_report \n",
      " sample size : 20 \n",
      " mean :  18.18 \n",
      " stdev :  2.098019 \n",
      "no_report \n",
      " sample size : 20 \n",
      " mean :  18.725 \n",
      " stdev :  2.388321 \n"
     ]
    },
    {
     "name": "stderr",
     "output_type": "stream",
     "text": [
      "No id variables; using all as measure variables\n",
      "\n"
     ]
    },
    {
     "data": {
      "text/plain": [
       "                     Df Sum Sq Mean Sq F value   Pr(>F)    \n",
       "melted_reports$group  2  192.2   96.11   20.68 1.77e-07 ***\n",
       "Residuals            57  264.9    4.65                     \n",
       "---\n",
       "Signif. codes:  0 '***' 0.001 '**' 0.01 '*' 0.05 '.' 0.1 ' ' 1"
      ]
     },
     "metadata": {},
     "output_type": "display_data"
    },
    {
     "data": {
      "image/png": "[encoded data removed]",
      "text/plain": [
       "plot without title"
      ]
     },
     "metadata": {
      "image/png": {
       "height": 420,
       "width": 420
      }
     },
     "output_type": "display_data"
    }
   ],
   "source": [
    "if (!require(tidyverse)) install.packages('tidyverse')\n",
    "library(tidyverse)\n",
    "\n",
    "if (!require(ggplot2)) install.packages('ggplot2')\n",
    "library(ggplot2)\n",
    "\n",
    "if (!require(reshape2)) install.packages('reshape2')\n",
    "library(reshape2)\n",
    "\n",
    "good_report <- c(20.8, 18.7, 19.9, 20.6, 22.0, 23.4, 22.8, 24.9, 22.2, 20.3, 24.9, 22.3, 27.0, 20.4, 22.2, 24.0, 21.2, 22.1, 22.0, 22.7)\n",
    "bad_report <- c(18.0, 19.0, 19.2, 18.8, 18.4, 19.0, 18.5, 16.1, 16.8, 14.0, 17.0, 13.6, 17.5, 19.9, 20.2, 18.8, 18.0, 23.2, 18.2, 19.4)\n",
    "no_report <- c(19.9, 16.0, 15.0, 20.1, 19.3, 19.2, 18.0, 19.2, 21.2, 18.8, 18.5, 19.3, 19.3, 19.4, 10.8, 19.1, 19.7, 19.8, 21.3, 20.6)\n",
    "\n",
    "reports <- data.frame(good_report = good_report, \n",
    "                bad_report = bad_report,\n",
    "                no_report = no_report)\n",
    "\n",
    "for (i in 1:length(reports)){\n",
    "    cat(names(reports)[[i]], '\\n',\n",
    "        'sample size :', length(reports[[i]]), '\\n',\n",
    "        'mean : ', mean(reports[[i]]), '\\n',\n",
    "        'stdev : ', sd(reports[[i]]), '\\n')\n",
    "}\n",
    "\n",
    "melted_reports <- melt(reports)\n",
    "colnames(melted_reports) <- c('group', 'tip')\n",
    "\n",
    "ggplot(data = melted_reports) +\n",
    "    geom_boxplot(mapping = aes(x = group, y = tip, color = group))\n",
    "\n",
    "# 표본크기는 20, 20, 20으로 매우 작지는 않고 상자그림을 그려보았을 때 심각한 비대칭 또는 이상점이 존재하지 않으므로 정규분포를 따른다고 할 수 있다.\n",
    "# 가장 큰 표준편차와 가장 작은 표준편차가 두 배 이상 차이나지 않으므로 등분산 조건을 만족한다.\n",
    "# 따라서 F-분포를 이용하여 p-값을 구할 수 있겠다.\n",
    "\n",
    "# p-값이 매우 작으므로 영가설을 기각한다.\n",
    "summary(aov(melted_reports$tip ~ melted_reports$group))"
   ]
  },
  {
   "cell_type": "code",
   "execution_count": null,
   "id": "17608d34-1865-4301-b1ae-f7b6075ccf85",
   "metadata": {},
   "outputs": [],
   "source": []
  }
 ],
 "metadata": {
  "kernelspec": {
   "display_name": "R",
   "language": "R",
   "name": "ir"
  },
  "language_info": {
   "codemirror_mode": "r",
   "file_extension": ".r",
   "mimetype": "text/x-r-source",
   "name": "R",
   "pygments_lexer": "r",
   "version": "4.1.2"
  }
 },
 "nbformat": 4,
 "nbformat_minor": 5
}
