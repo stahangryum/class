{
 "cells": [
  {
   "cell_type": "code",
   "execution_count": 1,
   "id": "58e1be1c-2531-4a8d-802e-f0c36ac4c8c8",
   "metadata": {},
   "outputs": [
    {
     "name": "stderr",
     "output_type": "stream",
     "text": [
      "필요한 패키지를 로딩중입니다: rvest\n",
      "\n",
      "Warning message:\n",
      "\"패키지 'rvest'는 R 버전 4.1.3에서 작성되었습니다\"\n",
      "필요한 패키지를 로딩중입니다: tidyverse\n",
      "\n",
      "Warning message:\n",
      "\"패키지 'tidyverse'는 R 버전 4.1.3에서 작성되었습니다\"\n",
      "-- \u001b[1mAttaching packages\u001b[22m ------------------------------------------------------------------------------- tidyverse 1.3.1 --\n",
      "\n",
      "\u001b[32mv\u001b[39m \u001b[34mggplot2\u001b[39m 3.3.5     \u001b[32mv\u001b[39m \u001b[34mpurrr  \u001b[39m 0.3.4\n",
      "\u001b[32mv\u001b[39m \u001b[34mtibble \u001b[39m 3.1.6     \u001b[32mv\u001b[39m \u001b[34mdplyr  \u001b[39m 1.0.8\n",
      "\u001b[32mv\u001b[39m \u001b[34mtidyr  \u001b[39m 1.2.0     \u001b[32mv\u001b[39m \u001b[34mstringr\u001b[39m 1.4.0\n",
      "\u001b[32mv\u001b[39m \u001b[34mreadr  \u001b[39m 2.1.2     \u001b[32mv\u001b[39m \u001b[34mforcats\u001b[39m 0.5.1\n",
      "\n",
      "Warning message:\n",
      "\"패키지 'ggplot2'는 R 버전 4.1.3에서 작성되었습니다\"\n",
      "Warning message:\n",
      "\"패키지 'tibble'는 R 버전 4.1.3에서 작성되었습니다\"\n",
      "Warning message:\n",
      "\"패키지 'tidyr'는 R 버전 4.1.3에서 작성되었습니다\"\n",
      "Warning message:\n",
      "\"패키지 'readr'는 R 버전 4.1.3에서 작성되었습니다\"\n",
      "Warning message:\n",
      "\"패키지 'purrr'는 R 버전 4.1.3에서 작성되었습니다\"\n",
      "Warning message:\n",
      "\"패키지 'dplyr'는 R 버전 4.1.3에서 작성되었습니다\"\n",
      "Warning message:\n",
      "\"패키지 'stringr'는 R 버전 4.1.3에서 작성되었습니다\"\n",
      "Warning message:\n",
      "\"패키지 'forcats'는 R 버전 4.1.3에서 작성되었습니다\"\n",
      "-- \u001b[1mConflicts\u001b[22m ---------------------------------------------------------------------------------- tidyverse_conflicts() --\n",
      "\u001b[31mx\u001b[39m \u001b[34mdplyr\u001b[39m::\u001b[32mfilter()\u001b[39m         masks \u001b[34mstats\u001b[39m::filter()\n",
      "\u001b[31mx\u001b[39m \u001b[34mreadr\u001b[39m::\u001b[32mguess_encoding()\u001b[39m masks \u001b[34mrvest\u001b[39m::guess_encoding()\n",
      "\u001b[31mx\u001b[39m \u001b[34mdplyr\u001b[39m::\u001b[32mlag()\u001b[39m            masks \u001b[34mstats\u001b[39m::lag()\n",
      "\n"
     ]
    },
    {
     "data": {
      "text/html": [
       "'http://gaonchart.co.kr/main/section/chart/online.gaon?nationGbn=T&amp;serviceGbn=ALL&amp;targetTime=1&amp;hitYear=2010&amp;termGbn=week'"
      ],
      "text/latex": [
       "'http://gaonchart.co.kr/main/section/chart/online.gaon?nationGbn=T\\&serviceGbn=ALL\\&targetTime=1\\&hitYear=2010\\&termGbn=week'"
      ],
      "text/markdown": [
       "'http://gaonchart.co.kr/main/section/chart/online.gaon?nationGbn=T&amp;serviceGbn=ALL&amp;targetTime=1&amp;hitYear=2010&amp;termGbn=week'"
      ],
      "text/plain": [
       "[1] \"http://gaonchart.co.kr/main/section/chart/online.gaon?nationGbn=T&serviceGbn=ALL&targetTime=1&hitYear=2010&termGbn=week\""
      ]
     },
     "metadata": {},
     "output_type": "display_data"
    }
   ],
   "source": [
    "if (!require(rvest)) install.packages('rvest')\n",
    "library(rvest)\n",
    "\n",
    "if (!require(tidyverse)) install.packages('tidyverse')\n",
    "library(tidyverse)\n",
    "\n",
    "base_url <- 'http://gaonchart.co.kr/main/section/chart/online.gaon?nationGbn=T&serviceGbn=ALL'\n",
    "\n",
    "targetTime <- 1\n",
    "hitYear <- 2010\n",
    "termGbn <- 'week'\n",
    "\n",
    "target_url <- paste0(base_url, '&targetTime=', targetTime, '&hitYear=', hitYear, '&termGbn=', termGbn)\n",
    "target_url"
   ]
  },
  {
   "cell_type": "code",
   "execution_count": 9,
   "id": "3d091f21-b58b-48ab-a22e-03188644ffaf",
   "metadata": {},
   "outputs": [],
   "source": [
    "weeks <- \n",
    "    read_html(target_url, encoding = 'UTF-8') %>%\n",
    "    html_nodes('div[class=fr]') %>%\n",
    "    html_nodes('select') %>%\n",
    "    html_nodes('option') %>%\n",
    "    html_attr('value')"
   ]
  },
  {
   "cell_type": "code",
   "execution_count": 35,
   "id": "78ea7c0b-937c-44e5-9f12-c4f6aa076ebf",
   "metadata": {},
   "outputs": [],
   "source": [
    "max_weeks <- c()\n",
    "for (year in 2022:2010){\n",
    "    reg <- paste0('^', year)\n",
    "    week_ <-\n",
    "        reg %>% \n",
    "        grep(weeks) %>%\n",
    "        length()\n",
    "    \n",
    "    max_weeks <- c(max_weeks, week_)\n",
    "}"
   ]
  },
  {
   "cell_type": "code",
   "execution_count": 36,
   "id": "0651eb0b-6d31-4302-923c-5a93e5ada6d7",
   "metadata": {},
   "outputs": [
    {
     "data": {
      "text/html": [
       "<style>\n",
       ".list-inline {list-style: none; margin:0; padding: 0}\n",
       ".list-inline>li {display: inline-block}\n",
       ".list-inline>li:not(:last-child)::after {content: \"\\00b7\"; padding: 0 .5ex}\n",
       "</style>\n",
       "<ol class=list-inline><li>21</li><li>52</li><li>52</li><li>52</li><li>52</li><li>52</li><li>53</li><li>53</li><li>52</li><li>52</li><li>52</li><li>53</li><li>51</li></ol>\n"
      ],
      "text/latex": [
       "\\begin{enumerate*}\n",
       "\\item 21\n",
       "\\item 52\n",
       "\\item 52\n",
       "\\item 52\n",
       "\\item 52\n",
       "\\item 52\n",
       "\\item 53\n",
       "\\item 53\n",
       "\\item 52\n",
       "\\item 52\n",
       "\\item 52\n",
       "\\item 53\n",
       "\\item 51\n",
       "\\end{enumerate*}\n"
      ],
      "text/markdown": [
       "1. 21\n",
       "2. 52\n",
       "3. 52\n",
       "4. 52\n",
       "5. 52\n",
       "6. 52\n",
       "7. 53\n",
       "8. 53\n",
       "9. 52\n",
       "10. 52\n",
       "11. 52\n",
       "12. 53\n",
       "13. 51\n",
       "\n",
       "\n"
      ],
      "text/plain": [
       " [1] 21 52 52 52 52 52 53 53 52 52 52 53 51"
      ]
     },
     "metadata": {},
     "output_type": "display_data"
    }
   ],
   "source": [
    "max_weeks"
   ]
  },
  {
   "cell_type": "code",
   "execution_count": 37,
   "id": "8f2db2eb-4d2a-4435-b29e-3ed79038ec20",
   "metadata": {},
   "outputs": [],
   "source": []
  },
  {
   "cell_type": "code",
   "execution_count": 38,
   "id": "7958b613-c058-4709-a08c-7948ba630fc8",
   "metadata": {},
   "outputs": [],
   "source": [
    "end <- Sys.time()"
   ]
  },
  {
   "cell_type": "code",
   "execution_count": 39,
   "id": "01e0965d-e83a-4ca9-925f-15f137e55136",
   "metadata": {},
   "outputs": [
    {
     "data": {
      "text/plain": [
       "Time difference of 5.041467 secs"
      ]
     },
     "metadata": {},
     "output_type": "display_data"
    }
   ],
   "source": [
    "end-start"
   ]
  },
  {
   "cell_type": "code",
   "execution_count": 15,
   "id": "0cebc4a2-9be7-4d2a-b2a7-e8cc2a15ac50",
   "metadata": {},
   "outputs": [],
   "source": [
    "html <- read_html(target_url, encoding = 'UTF-8') %>%\n",
    "    html_nodes('div[class=chart]') %>%\n",
    "    html_nodes('table') %>%\n",
    "    html_nodes('tr')"
   ]
  },
  {
   "cell_type": "code",
   "execution_count": 13,
   "id": "bc51d69d-2bd8-4958-8838-6f200e745f44",
   "metadata": {},
   "outputs": [
    {
     "data": {
      "text/html": [
       "101"
      ],
      "text/latex": [
       "101"
      ],
      "text/markdown": [
       "101"
      ],
      "text/plain": [
       "[1] 101"
      ]
     },
     "metadata": {},
     "output_type": "display_data"
    }
   ],
   "source": [
    "length(html)"
   ]
  },
  {
   "cell_type": "code",
   "execution_count": 6,
   "id": "1590bb62-f800-4dfb-849b-f0a59dfc374d",
   "metadata": {},
   "outputs": [],
   "source": [
    "target_url <- 'http://gaonchart.co.kr/main/section/chart/online.gaon?nationGbn=T&serviceGbn=ALL&targetTime=20&hitYear=2022&termGbn=week'"
   ]
  },
  {
   "cell_type": "code",
   "execution_count": 11,
   "id": "370e0a32-e3a4-416e-8024-fbf076ad62cc",
   "metadata": {},
   "outputs": [
    {
     "data": {
      "text/plain": [
       "{xml_nodeset (0)}"
      ]
     },
     "metadata": {},
     "output_type": "display_data"
    }
   ],
   "source": [
    "html <- read_html(target_url, encoding = 'UTF-8') %>%\n",
    "    html_nodes('div[class=chart]') %>%\n",
    "    html_nodes('table') %>%\n",
    "    html_nodes('tbody') \n",
    "html"
   ]
  },
  {
   "cell_type": "code",
   "execution_count": 32,
   "id": "35f58873-3d09-4773-843e-c9f865d068d2",
   "metadata": {},
   "outputs": [],
   "source": [
    "page <- \n",
    "    read_html(target_url, encoding = 'UTF-8') %>%\n",
    "    html_nodes('div[class=chart]') %>%\n",
    "    html_nodes(\"table\") %>%\n",
    "    html_nodes(\"td\") %>%\n",
    "    html_text()"
   ]
  },
  {
   "cell_type": "code",
   "execution_count": 48,
   "id": "bc0d5719-687f-468b-9b3c-32839fa95a25",
   "metadata": {},
   "outputs": [
    {
     "data": {
      "text/html": [
       "<style>\n",
       ".list-inline {list-style: none; margin:0; padding: 0}\n",
       ".list-inline>li {display: inline-block}\n",
       ".list-inline>li:not(:last-child)::after {content: \"\\00b7\"; padding: 0 .5ex}\n",
       "</style>\n",
       "<ol class=list-inline><li>0</li><li>8</li><li>16</li><li>24</li><li>32</li><li>40</li><li>48</li><li>56</li><li>64</li><li>72</li><li>80</li><li>88</li><li>96</li><li>104</li><li>112</li><li>120</li><li>128</li><li>136</li><li>144</li><li>152</li><li>160</li><li>168</li><li>176</li><li>184</li><li>192</li><li>200</li><li>208</li><li>216</li><li>224</li><li>232</li><li>240</li><li>248</li><li>256</li><li>264</li><li>272</li><li>280</li><li>288</li><li>296</li><li>304</li><li>312</li><li>320</li><li>328</li><li>336</li><li>344</li><li>352</li><li>360</li><li>368</li><li>376</li><li>384</li><li>392</li><li>400</li><li>408</li><li>416</li><li>424</li><li>432</li><li>440</li><li>448</li><li>456</li><li>464</li><li>472</li><li>480</li><li>488</li><li>496</li><li>504</li><li>512</li><li>520</li><li>528</li><li>536</li><li>544</li><li>552</li><li>560</li><li>568</li><li>576</li><li>584</li><li>592</li><li>600</li><li>608</li><li>616</li><li>624</li><li>632</li><li>640</li><li>648</li><li>656</li><li>664</li><li>672</li><li>680</li><li>688</li><li>696</li><li>704</li><li>712</li><li>720</li><li>728</li><li>736</li><li>744</li><li>752</li><li>760</li><li>768</li><li>776</li><li>784</li><li>792</li><li>800</li><li>808</li><li>816</li><li>824</li><li>832</li><li>840</li><li>848</li><li>856</li><li>864</li><li>872</li><li>880</li><li>888</li><li>896</li><li>904</li><li>912</li><li>920</li><li>928</li><li>936</li><li>944</li><li>952</li><li>960</li><li>968</li><li>976</li><li>984</li><li>992</li><li>1000</li><li>1008</li><li>1016</li><li>1024</li><li>1032</li><li>1040</li><li>1048</li><li>1056</li><li>1064</li><li>1072</li><li>1080</li><li>1088</li><li>1096</li><li>1104</li><li>1112</li><li>1120</li><li>1128</li><li>1136</li><li>1144</li><li>1152</li><li>1160</li><li>1168</li><li>1176</li><li>1184</li><li>1192</li><li>1200</li><li>1208</li><li>1216</li><li>1224</li><li>1232</li><li>1240</li><li>1248</li><li>1256</li><li>1264</li><li>1272</li><li>1280</li><li>1288</li><li>1296</li><li>1304</li><li>1312</li><li>1320</li><li>1328</li><li>1336</li><li>1344</li><li>1352</li><li>1360</li><li>1368</li><li>1376</li><li>1384</li><li>1392</li><li>1400</li><li>1408</li><li>1416</li><li>1424</li><li>1432</li><li>1440</li><li>1448</li><li>1456</li><li>1464</li><li>1472</li><li>1480</li><li>1488</li><li>1496</li><li>1504</li><li>1512</li><li>1520</li><li>1528</li><li>1536</li><li>1544</li><li>1552</li><li>1560</li><li>1568</li><li>1576</li><li>1584</li><li>1592</li><li>1600</li></ol>\n"
      ],
      "text/latex": [
       "\\begin{enumerate*}\n",
       "\\item 0\n",
       "\\item 8\n",
       "\\item 16\n",
       "\\item 24\n",
       "\\item 32\n",
       "\\item 40\n",
       "\\item 48\n",
       "\\item 56\n",
       "\\item 64\n",
       "\\item 72\n",
       "\\item 80\n",
       "\\item 88\n",
       "\\item 96\n",
       "\\item 104\n",
       "\\item 112\n",
       "\\item 120\n",
       "\\item 128\n",
       "\\item 136\n",
       "\\item 144\n",
       "\\item 152\n",
       "\\item 160\n",
       "\\item 168\n",
       "\\item 176\n",
       "\\item 184\n",
       "\\item 192\n",
       "\\item 200\n",
       "\\item 208\n",
       "\\item 216\n",
       "\\item 224\n",
       "\\item 232\n",
       "\\item 240\n",
       "\\item 248\n",
       "\\item 256\n",
       "\\item 264\n",
       "\\item 272\n",
       "\\item 280\n",
       "\\item 288\n",
       "\\item 296\n",
       "\\item 304\n",
       "\\item 312\n",
       "\\item 320\n",
       "\\item 328\n",
       "\\item 336\n",
       "\\item 344\n",
       "\\item 352\n",
       "\\item 360\n",
       "\\item 368\n",
       "\\item 376\n",
       "\\item 384\n",
       "\\item 392\n",
       "\\item 400\n",
       "\\item 408\n",
       "\\item 416\n",
       "\\item 424\n",
       "\\item 432\n",
       "\\item 440\n",
       "\\item 448\n",
       "\\item 456\n",
       "\\item 464\n",
       "\\item 472\n",
       "\\item 480\n",
       "\\item 488\n",
       "\\item 496\n",
       "\\item 504\n",
       "\\item 512\n",
       "\\item 520\n",
       "\\item 528\n",
       "\\item 536\n",
       "\\item 544\n",
       "\\item 552\n",
       "\\item 560\n",
       "\\item 568\n",
       "\\item 576\n",
       "\\item 584\n",
       "\\item 592\n",
       "\\item 600\n",
       "\\item 608\n",
       "\\item 616\n",
       "\\item 624\n",
       "\\item 632\n",
       "\\item 640\n",
       "\\item 648\n",
       "\\item 656\n",
       "\\item 664\n",
       "\\item 672\n",
       "\\item 680\n",
       "\\item 688\n",
       "\\item 696\n",
       "\\item 704\n",
       "\\item 712\n",
       "\\item 720\n",
       "\\item 728\n",
       "\\item 736\n",
       "\\item 744\n",
       "\\item 752\n",
       "\\item 760\n",
       "\\item 768\n",
       "\\item 776\n",
       "\\item 784\n",
       "\\item 792\n",
       "\\item 800\n",
       "\\item 808\n",
       "\\item 816\n",
       "\\item 824\n",
       "\\item 832\n",
       "\\item 840\n",
       "\\item 848\n",
       "\\item 856\n",
       "\\item 864\n",
       "\\item 872\n",
       "\\item 880\n",
       "\\item 888\n",
       "\\item 896\n",
       "\\item 904\n",
       "\\item 912\n",
       "\\item 920\n",
       "\\item 928\n",
       "\\item 936\n",
       "\\item 944\n",
       "\\item 952\n",
       "\\item 960\n",
       "\\item 968\n",
       "\\item 976\n",
       "\\item 984\n",
       "\\item 992\n",
       "\\item 1000\n",
       "\\item 1008\n",
       "\\item 1016\n",
       "\\item 1024\n",
       "\\item 1032\n",
       "\\item 1040\n",
       "\\item 1048\n",
       "\\item 1056\n",
       "\\item 1064\n",
       "\\item 1072\n",
       "\\item 1080\n",
       "\\item 1088\n",
       "\\item 1096\n",
       "\\item 1104\n",
       "\\item 1112\n",
       "\\item 1120\n",
       "\\item 1128\n",
       "\\item 1136\n",
       "\\item 1144\n",
       "\\item 1152\n",
       "\\item 1160\n",
       "\\item 1168\n",
       "\\item 1176\n",
       "\\item 1184\n",
       "\\item 1192\n",
       "\\item 1200\n",
       "\\item 1208\n",
       "\\item 1216\n",
       "\\item 1224\n",
       "\\item 1232\n",
       "\\item 1240\n",
       "\\item 1248\n",
       "\\item 1256\n",
       "\\item 1264\n",
       "\\item 1272\n",
       "\\item 1280\n",
       "\\item 1288\n",
       "\\item 1296\n",
       "\\item 1304\n",
       "\\item 1312\n",
       "\\item 1320\n",
       "\\item 1328\n",
       "\\item 1336\n",
       "\\item 1344\n",
       "\\item 1352\n",
       "\\item 1360\n",
       "\\item 1368\n",
       "\\item 1376\n",
       "\\item 1384\n",
       "\\item 1392\n",
       "\\item 1400\n",
       "\\item 1408\n",
       "\\item 1416\n",
       "\\item 1424\n",
       "\\item 1432\n",
       "\\item 1440\n",
       "\\item 1448\n",
       "\\item 1456\n",
       "\\item 1464\n",
       "\\item 1472\n",
       "\\item 1480\n",
       "\\item 1488\n",
       "\\item 1496\n",
       "\\item 1504\n",
       "\\item 1512\n",
       "\\item 1520\n",
       "\\item 1528\n",
       "\\item 1536\n",
       "\\item 1544\n",
       "\\item 1552\n",
       "\\item 1560\n",
       "\\item 1568\n",
       "\\item 1576\n",
       "\\item 1584\n",
       "\\item 1592\n",
       "\\item 1600\n",
       "\\end{enumerate*}\n"
      ],
      "text/markdown": [
       "1. 0\n",
       "2. 8\n",
       "3. 16\n",
       "4. 24\n",
       "5. 32\n",
       "6. 40\n",
       "7. 48\n",
       "8. 56\n",
       "9. 64\n",
       "10. 72\n",
       "11. 80\n",
       "12. 88\n",
       "13. 96\n",
       "14. 104\n",
       "15. 112\n",
       "16. 120\n",
       "17. 128\n",
       "18. 136\n",
       "19. 144\n",
       "20. 152\n",
       "21. 160\n",
       "22. 168\n",
       "23. 176\n",
       "24. 184\n",
       "25. 192\n",
       "26. 200\n",
       "27. 208\n",
       "28. 216\n",
       "29. 224\n",
       "30. 232\n",
       "31. 240\n",
       "32. 248\n",
       "33. 256\n",
       "34. 264\n",
       "35. 272\n",
       "36. 280\n",
       "37. 288\n",
       "38. 296\n",
       "39. 304\n",
       "40. 312\n",
       "41. 320\n",
       "42. 328\n",
       "43. 336\n",
       "44. 344\n",
       "45. 352\n",
       "46. 360\n",
       "47. 368\n",
       "48. 376\n",
       "49. 384\n",
       "50. 392\n",
       "51. 400\n",
       "52. 408\n",
       "53. 416\n",
       "54. 424\n",
       "55. 432\n",
       "56. 440\n",
       "57. 448\n",
       "58. 456\n",
       "59. 464\n",
       "60. 472\n",
       "61. 480\n",
       "62. 488\n",
       "63. 496\n",
       "64. 504\n",
       "65. 512\n",
       "66. 520\n",
       "67. 528\n",
       "68. 536\n",
       "69. 544\n",
       "70. 552\n",
       "71. 560\n",
       "72. 568\n",
       "73. 576\n",
       "74. 584\n",
       "75. 592\n",
       "76. 600\n",
       "77. 608\n",
       "78. 616\n",
       "79. 624\n",
       "80. 632\n",
       "81. 640\n",
       "82. 648\n",
       "83. 656\n",
       "84. 664\n",
       "85. 672\n",
       "86. 680\n",
       "87. 688\n",
       "88. 696\n",
       "89. 704\n",
       "90. 712\n",
       "91. 720\n",
       "92. 728\n",
       "93. 736\n",
       "94. 744\n",
       "95. 752\n",
       "96. 760\n",
       "97. 768\n",
       "98. 776\n",
       "99. 784\n",
       "100. 792\n",
       "101. 800\n",
       "102. 808\n",
       "103. 816\n",
       "104. 824\n",
       "105. 832\n",
       "106. 840\n",
       "107. 848\n",
       "108. 856\n",
       "109. 864\n",
       "110. 872\n",
       "111. 880\n",
       "112. 888\n",
       "113. 896\n",
       "114. 904\n",
       "115. 912\n",
       "116. 920\n",
       "117. 928\n",
       "118. 936\n",
       "119. 944\n",
       "120. 952\n",
       "121. 960\n",
       "122. 968\n",
       "123. 976\n",
       "124. 984\n",
       "125. 992\n",
       "126. 1000\n",
       "127. 1008\n",
       "128. 1016\n",
       "129. 1024\n",
       "130. 1032\n",
       "131. 1040\n",
       "132. 1048\n",
       "133. 1056\n",
       "134. 1064\n",
       "135. 1072\n",
       "136. 1080\n",
       "137. 1088\n",
       "138. 1096\n",
       "139. 1104\n",
       "140. 1112\n",
       "141. 1120\n",
       "142. 1128\n",
       "143. 1136\n",
       "144. 1144\n",
       "145. 1152\n",
       "146. 1160\n",
       "147. 1168\n",
       "148. 1176\n",
       "149. 1184\n",
       "150. 1192\n",
       "151. 1200\n",
       "152. 1208\n",
       "153. 1216\n",
       "154. 1224\n",
       "155. 1232\n",
       "156. 1240\n",
       "157. 1248\n",
       "158. 1256\n",
       "159. 1264\n",
       "160. 1272\n",
       "161. 1280\n",
       "162. 1288\n",
       "163. 1296\n",
       "164. 1304\n",
       "165. 1312\n",
       "166. 1320\n",
       "167. 1328\n",
       "168. 1336\n",
       "169. 1344\n",
       "170. 1352\n",
       "171. 1360\n",
       "172. 1368\n",
       "173. 1376\n",
       "174. 1384\n",
       "175. 1392\n",
       "176. 1400\n",
       "177. 1408\n",
       "178. 1416\n",
       "179. 1424\n",
       "180. 1432\n",
       "181. 1440\n",
       "182. 1448\n",
       "183. 1456\n",
       "184. 1464\n",
       "185. 1472\n",
       "186. 1480\n",
       "187. 1488\n",
       "188. 1496\n",
       "189. 1504\n",
       "190. 1512\n",
       "191. 1520\n",
       "192. 1528\n",
       "193. 1536\n",
       "194. 1544\n",
       "195. 1552\n",
       "196. 1560\n",
       "197. 1568\n",
       "198. 1576\n",
       "199. 1584\n",
       "200. 1592\n",
       "201. 1600\n",
       "\n",
       "\n"
      ],
      "text/plain": [
       "  [1]    0    8   16   24   32   40   48   56   64   72   80   88   96  104  112\n",
       " [16]  120  128  136  144  152  160  168  176  184  192  200  208  216  224  232\n",
       " [31]  240  248  256  264  272  280  288  296  304  312  320  328  336  344  352\n",
       " [46]  360  368  376  384  392  400  408  416  424  432  440  448  456  464  472\n",
       " [61]  480  488  496  504  512  520  528  536  544  552  560  568  576  584  592\n",
       " [76]  600  608  616  624  632  640  648  656  664  672  680  688  696  704  712\n",
       " [91]  720  728  736  744  752  760  768  776  784  792  800  808  816  824  832\n",
       "[106]  840  848  856  864  872  880  888  896  904  912  920  928  936  944  952\n",
       "[121]  960  968  976  984  992 1000 1008 1016 1024 1032 1040 1048 1056 1064 1072\n",
       "[136] 1080 1088 1096 1104 1112 1120 1128 1136 1144 1152 1160 1168 1176 1184 1192\n",
       "[151] 1200 1208 1216 1224 1232 1240 1248 1256 1264 1272 1280 1288 1296 1304 1312\n",
       "[166] 1320 1328 1336 1344 1352 1360 1368 1376 1384 1392 1400 1408 1416 1424 1432\n",
       "[181] 1440 1448 1456 1464 1472 1480 1488 1496 1504 1512 1520 1528 1536 1544 1552\n",
       "[196] 1560 1568 1576 1584 1592 1600"
      ]
     },
     "metadata": {},
     "output_type": "display_data"
    }
   ],
   "source": [
    "cases <- c(0, grep('^PLAY$', page2))\n",
    "cases"
   ]
  },
  {
   "cell_type": "code",
   "execution_count": 2,
   "id": "9d9ab702-b909-47ec-9a85-fe62a2ef96e8",
   "metadata": {},
   "outputs": [
    {
     "data": {
      "text/html": [
       "'1'"
      ],
      "text/latex": [
       "'1'"
      ],
      "text/markdown": [
       "'1'"
      ],
      "text/plain": [
       "[1] \"1\""
      ]
     },
     "metadata": {},
     "output_type": "display_data"
    }
   ],
   "source": [
    "ranking <-\n",
    "    html[2] %>%\n",
    "    html_nodes('td[class=ranking]') %>%\n",
    "    html_text()\n",
    "ranking"
   ]
  },
  {
   "cell_type": "code",
   "execution_count": 3,
   "id": "9c7c6667-cb42-4869-9c62-0cce13a44573",
   "metadata": {},
   "outputs": [
    {
     "data": {
      "text/html": [
       "'new'"
      ],
      "text/latex": [
       "'new'"
      ],
      "text/markdown": [
       "'new'"
      ],
      "text/plain": [
       "[1] \"new\""
      ]
     },
     "metadata": {},
     "output_type": "display_data"
    }
   ],
   "source": [
    "change_grp <-\n",
    "    html[2] %>%\n",
    "    html_nodes('td[class=change]') %>%\n",
    "    html_nodes('span') %>%\n",
    "    html_attr('class')\n",
    "change_grp"
   ]
  },
  {
   "cell_type": "code",
   "execution_count": 4,
   "id": "a02ba22b-3526-4f46-a167-ddb7a087004f",
   "metadata": {},
   "outputs": [
    {
     "data": {
      "text/html": [
       "'new'"
      ],
      "text/latex": [
       "'new'"
      ],
      "text/markdown": [
       "'new'"
      ],
      "text/plain": [
       "[1] \"new\""
      ]
     },
     "metadata": {},
     "output_type": "display_data"
    }
   ],
   "source": [
    "change_val <-    \n",
    "    html[2] %>%\n",
    "    html_nodes('td[class=change]') %>%\n",
    "    html_text\n",
    "change_val"
   ]
  },
  {
   "cell_type": "code",
   "execution_count": 5,
   "id": "844f3f0b-fe63-4bf9-b1ce-546f8dd4b743",
   "metadata": {},
   "outputs": [],
   "source": [
    "subject <- html[2] %>%\n",
    "    html_nodes('td[class=subject]') %>%\n",
    "    html_nodes('p') %>%\n",
    "    html_attr('title')\n",
    "\n",
    "title <- subject[1]\n",
    "artist <- \n",
    "    (subject[2] %>% \n",
    "    strsplit(split = '\\\\|') %>%\n",
    "    unlist())[1]"
   ]
  },
  {
   "cell_type": "code",
   "execution_count": 6,
   "id": "6d971c5a-0181-41ea-a731-006db893cada",
   "metadata": {},
   "outputs": [
    {
     "data": {
      "text/html": [
       "0"
      ],
      "text/latex": [
       "0"
      ],
      "text/markdown": [
       "0"
      ],
      "text/plain": [
       "[1] 0"
      ]
     },
     "metadata": {},
     "output_type": "display_data"
    }
   ],
   "source": [
    "gaon_index <- \n",
    "    html[2] %>%\n",
    "    html_nodes('td[class=co3unt]') %>%\n",
    "    html_nodes('p') %>%\n",
    "    html_text() %>% \n",
    "    str_replace_all(',', '') # 콤마(,) 삭제\n",
    "length(gaon_index)"
   ]
  },
  {
   "cell_type": "code",
   "execution_count": 7,
   "id": "9ab48cde-1f69-414d-90c1-30e25a24efc2",
   "metadata": {},
   "outputs": [
    {
     "data": {
      "text/html": [
       "'내가 네트워크'"
      ],
      "text/latex": [
       "'내가 네트워크'"
      ],
      "text/markdown": [
       "'내가 네트워크'"
      ],
      "text/plain": [
       "[1] \"내가 네트워크\""
      ]
     },
     "metadata": {},
     "output_type": "display_data"
    },
    {
     "data": {
      "text/html": [
       "'Kakao Entertainment'"
      ],
      "text/latex": [
       "'Kakao Entertainment'"
      ],
      "text/markdown": [
       "'Kakao Entertainment'"
      ],
      "text/plain": [
       "[1] \"Kakao Entertainment\""
      ]
     },
     "metadata": {},
     "output_type": "display_data"
    }
   ],
   "source": [
    "maketh <- \n",
    "    html[2] %>%\n",
    "    html_nodes('td[class=production]') %>%\n",
    "    html_nodes('p') %>%\n",
    "    html_text()\n",
    "\n",
    "production <- maketh[1]\n",
    "distribution <- maketh[2]\n",
    "production\n",
    "distribution"
   ]
  },
  {
   "cell_type": "code",
   "execution_count": 8,
   "id": "48c9b2ec-dac5-46a7-9d7d-4258c2f8e571",
   "metadata": {},
   "outputs": [
    {
     "data": {
      "text/html": [
       "<style>\n",
       ".list-inline {list-style: none; margin:0; padding: 0}\n",
       ".list-inline>li {display: inline-block}\n",
       ".list-inline>li:not(:last-child)::after {content: \"\\00b7\"; padding: 0 .5ex}\n",
       "</style>\n",
       "<ol class=list-inline><li>'1'</li><li>'new'</li><li>'new'</li><li>'우리 사랑하게 됐어요.'</li><li>'가인, 조권 '</li><li>'내가 네트워크'</li><li>'Kakao Entertainment'</li></ol>\n"
      ],
      "text/latex": [
       "\\begin{enumerate*}\n",
       "\\item '1'\n",
       "\\item 'new'\n",
       "\\item 'new'\n",
       "\\item '우리 사랑하게 됐어요.'\n",
       "\\item '가인, 조권 '\n",
       "\\item '내가 네트워크'\n",
       "\\item 'Kakao Entertainment'\n",
       "\\end{enumerate*}\n"
      ],
      "text/markdown": [
       "1. '1'\n",
       "2. 'new'\n",
       "3. 'new'\n",
       "4. '우리 사랑하게 됐어요.'\n",
       "5. '가인, 조권 '\n",
       "6. '내가 네트워크'\n",
       "7. 'Kakao Entertainment'\n",
       "\n",
       "\n"
      ],
      "text/plain": [
       "[1] \"1\"                     \"new\"                   \"new\"                  \n",
       "[4] \"우리 사랑하게 됐어요.\" \"가인, 조권 \"           \"내가 네트워크\"        \n",
       "[7] \"Kakao Entertainment\"  "
      ]
     },
     "metadata": {},
     "output_type": "display_data"
    }
   ],
   "source": [
    "c(ranking,change_grp, change_val, title, artist, gaon_index, maketh)"
   ]
  },
  {
   "cell_type": "code",
   "execution_count": null,
   "id": "a5dbe159-2ffc-410c-a26f-2df0165973c4",
   "metadata": {},
   "outputs": [],
   "source": []
  }
 ],
 "metadata": {
  "kernelspec": {
   "display_name": "R",
   "language": "R",
   "name": "ir"
  },
  "language_info": {
   "codemirror_mode": "r",
   "file_extension": ".r",
   "mimetype": "text/x-r-source",
   "name": "R",
   "pygments_lexer": "r",
   "version": "4.1.2"
  }
 },
 "nbformat": 4,
 "nbformat_minor": 5
}
