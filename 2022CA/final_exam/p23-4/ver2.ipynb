{
 "cells": [
  {
   "cell_type": "code",
   "execution_count": null,
   "id": "b860189d-aefe-4171-baf1-75d9d96196f5",
   "metadata": {},
   "outputs": [],
   "source": [
    "if (!require(rvest)) install.packages('rvest')\n",
    "library(rvest)\n",
    "\n",
    "if (!require(tidyverse)) install.packages('tidyverse')\n",
    "library(tidyverse)\n",
    "\n",
    "base_url <- 'http://gaonchart.co.kr/main/section/chart/online.gaon?nationGbn=T&serviceGbn=ALL'"
   ]
  },
  {
   "cell_type": "code",
   "execution_count": 2,
   "id": "509eb4d4-97f0-46f4-938b-e48c4cf7012a",
   "metadata": {},
   "outputs": [],
   "source": [
    "get_GAON <- function(hitYear, targetTime, termGbn){\n",
    "    #targetTime <- 20\n",
    "    #hitYear <- 2022\n",
    "    #termGbn <- 'month'\n",
    "\n",
    "    target_url <- paste0(base_url, '&targetTime=', targetTime, '&hitYear=', hitYear, '&termGbn=', termGbn)\n",
    "\n",
    "    page <- vector('list', 200)\n",
    "    for (i in 1:200) page[[i]] <- get_page(i, target_url)\n",
    "    do.call('rbind', vec)\n",
    "}"
   ]
  },
  {
   "cell_type": "code",
   "execution_count": 3,
   "id": "68bbfaf1-b701-4740-b15b-dcff34813233",
   "metadata": {},
   "outputs": [],
   "source": [
    "get_page <- function(n, target_url){\n",
    "    \n",
    "    html <- read_html(target_url, encoding = 'UTF-8') %>%\n",
    "        html_nodes('div[class=chart]') %>%\n",
    "        html_nodes('table') %>%\n",
    "        html_nodes('tr')\n",
    "    \n",
    "    ranking <-\n",
    "        html[n+1] %>%\n",
    "        html_nodes('td[class=ranking]') %>%\n",
    "        html_text()\n",
    "\n",
    "    change_grp <-\n",
    "        html[n+1] %>%\n",
    "        html_nodes('td[class=change]') %>%\n",
    "        html_nodes('span') %>%\n",
    "        html_attr('class')\n",
    "\n",
    "    change_val <-    \n",
    "        html[n+1] %>%\n",
    "        html_nodes('td[class=change]') %>%\n",
    "        html_text()\n",
    "\n",
    "    subject <- html[n+1] %>%\n",
    "        html_nodes('td[class=subject]') %>%\n",
    "        html_nodes('p') %>%\n",
    "        html_attr('title')\n",
    "\n",
    "    title <- subject[1]\n",
    "    artist <- \n",
    "        (subject[2] %>% \n",
    "        strsplit(split = '\\\\|') %>%\n",
    "        unlist())[1]\n",
    "\n",
    "    gaon_index <- \n",
    "        html[n+1] %>%\n",
    "        html_nodes('td[class=count]') %>%\n",
    "        html_nodes('p') %>%\n",
    "        html_text() %>% \n",
    "        str_replace_all(',', '') # 콤마(,) 삭제\n",
    "    \n",
    "    if (length(gaon_index) == 0) gaon_index = NA\n",
    "\n",
    "    maketh <- \n",
    "        html[n+1] %>%\n",
    "        html_nodes('td[class=production]') %>%\n",
    "        html_nodes('p') %>%\n",
    "        html_text()\n",
    "\n",
    "    production <- maketh[1]\n",
    "    distribution <- maketh[2]\n",
    "\n",
    "    return(c(ranking,change_grp, change_val, title, artist, gaon_index, maketh))\n",
    "}"
   ]
  },
  {
   "cell_type": "code",
   "execution_count": null,
   "id": "df03bcb7-db99-4916-834e-bee209edfe26",
   "metadata": {},
   "outputs": [],
   "source": [
    "page <- vector('list', 200)\n",
    "for (i in 1:200) page[[i]] <- get_page(i, target_url)\n",
    "do.call('rbind', vec)"
   ]
  },
  {
   "cell_type": "code",
   "execution_count": null,
   "id": "743bedb2-da31-45d9-907c-9c631921b056",
   "metadata": {},
   "outputs": [],
   "source": [
    "get_GAON(2022, 1, 'week')"
   ]
  },
  {
   "cell_type": "code",
   "execution_count": null,
   "id": "65955651-61f4-4067-bd30-16adc8f46452",
   "metadata": {},
   "outputs": [],
   "source": []
  }
 ],
 "metadata": {
  "kernelspec": {
   "display_name": "R",
   "language": "R",
   "name": "ir"
  },
  "language_info": {
   "codemirror_mode": "r",
   "file_extension": ".r",
   "mimetype": "text/x-r-source",
   "name": "R",
   "pygments_lexer": "r",
   "version": "4.1.2"
  }
 },
 "nbformat": 4,
 "nbformat_minor": 5
}
