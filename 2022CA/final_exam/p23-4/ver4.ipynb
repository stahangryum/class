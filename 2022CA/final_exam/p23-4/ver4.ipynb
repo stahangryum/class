{
 "cells": [
  {
   "cell_type": "code",
   "execution_count": 2,
   "id": "a4d9dc84-3db8-4176-9919-da00d0eaa32d",
   "metadata": {},
   "outputs": [],
   "source": [
    "if (!require(rvest)) install.packages('rvest')\n",
    "library(rvest)\n",
    "\n",
    "if (!require(tidyverse)) install.packages('tidyverse')\n",
    "library(tidyverse)\n",
    "\n",
    "base_url <- 'http://gaonchart.co.kr/main/section/chart/online.gaon?nationGbn=T&serviceGbn=ALL'"
   ]
  },
  {
   "cell_type": "code",
   "execution_count": 3,
   "id": "e61f55f9-a40a-456b-bcec-40f62674a339",
   "metadata": {},
   "outputs": [],
   "source": [
    "getLinks <- function(termGbn){\n",
    "    base_url <- 'http://gaonchart.co.kr/main/section/chart/online.gaon?nationGbn=T&serviceGbn=ALL'\n",
    "    sample_url <- paste0(base_url, '&termGbn=', termGbn)\n",
    "    dates <-     \n",
    "        read_html(sample_url) %>%\n",
    "        html_nodes('div[class=fr]') %>%\n",
    "        html_nodes('select') %>%\n",
    "        html_nodes('option') %>%\n",
    "        html_attr('value') %>%\n",
    "        str_subset(pattern = '^[0-9]{6}$')\n",
    "    \n",
    "    hitYear <-\n",
    "        dates %>%\n",
    "        substr(1,4) # 연도 ex) 2022 => 2022년\n",
    "\n",
    "    targetTime <-\n",
    "        dates %>%\n",
    "        substr(5,6) # 몇 주차 또는 몇 월차인지 ex) 14 => 14주차\n",
    "    \n",
    "    completed_url <- paste0(base_url, '&targetTime=', targetTime, '&hitYear=', hitYear, '&termGbn=', termGbn)\n",
    "    return(completed_url)\n",
    "}"
   ]
  },
  {
   "cell_type": "code",
   "execution_count": 4,
   "id": "c5658608-3085-4af6-be1e-3324f5cdde10",
   "metadata": {},
   "outputs": [],
   "source": [
    "getPage <- function(target_url){\n",
    "    year_week <- \n",
    "        target_url %>%\n",
    "        strsplit('=|&') %>%\n",
    "        unlist() %>%\n",
    "        str_subset('^[0-9]{2,4}$') %>%\n",
    "        rev() %>%\n",
    "        paste0(collapse = '')\n",
    "\n",
    "    html_chart <- read_html(target_url) %>%\n",
    "        html_nodes('div[class=chart]')\n",
    "\n",
    "    td <- html_chart %>% \n",
    "        html_nodes('td') %>%\n",
    "        html_text() %>%\n",
    "        str_split('\\\\n|\\\\||\\\\r|\\\\t') %>%\n",
    "        unlist() %>%\n",
    "        str_subset('^$', negate = TRUE)\n",
    "\n",
    "    change_grp <- html_chart %>%\n",
    "        html_nodes('td[class=change]') %>%\n",
    "        html_nodes('span') %>%\n",
    "        html_attr('class')\n",
    "\n",
    "    index_PLAY <- str_which(td, 'PLAY')[1]\n",
    "\n",
    "    chart_piece <- td %>% \n",
    "        matrix(ncol = index_PLAY, byrow = TRUE) %>%\n",
    "        as_tibble()\n",
    "\n",
    "    # Note : ifelse always returns an object of the same length as the condition. so use if/else for this case\n",
    "    chart <- data.frame(year_week = year_week,\n",
    "                        ranking = chart_piece$V1,\n",
    "                        change_grp = change_grp,\n",
    "                        change_val = chart_piece$V2,\n",
    "                        title = chart_piece$V3,\n",
    "                        artist = chart_piece$V4,\n",
    "                        gaon_index = if (ncol(chart_piece) == 12) chart_piece$V6 else NA,  \n",
    "                        production = if(ncol(chart_piece) == 12) chart_piece$V7 else chart_piece$V6,\n",
    "                        distribution = if(ncol(chart_piece) == 12) chart_piece$V8 else chart_piece$V7)\n",
    "\n",
    "    return(chart)\n",
    "}"
   ]
  },
  {
   "cell_type": "code",
   "execution_count": 8,
   "id": "5fe7f6f4-0b7c-454b-bda1-6f7fad5d49f8",
   "metadata": {},
   "outputs": [],
   "source": [
    "weekLinks <- getLinks('week')"
   ]
  },
  {
   "cell_type": "code",
   "execution_count": 9,
   "id": "a299cae6-442a-49d9-af6b-18ae7815aaf2",
   "metadata": {},
   "outputs": [
    {
     "name": "stderr",
     "output_type": "stream",
     "text": [
      "Warning message:\n",
      "\"The `x` argument of `as_tibble.matrix()` must have unique column names if `.name_repair` is omitted as of tibble 2.0.0.\n",
      "Using compatibility `.name_repair`.\n",
      "\u001b[90mThis warning is displayed once every 8 hours.\u001b[39m\n",
      "\u001b[90mCall `lifecycle::last_lifecycle_warnings()` to see where this warning was generated.\u001b[39m\"\n",
      "Warning message:\n",
      "\"Unknown or uninitialised column: `V6`.\"\n",
      "Warning message:\n",
      "\"Unknown or uninitialised column: `V7`.\"\n"
     ]
    },
    {
     "ename": "ERROR",
     "evalue": "Error in data.frame(year_week = year_week, ranking = chart_piece$V1, change_grp = change_grp, : arguments imply differing number of rows: 1, 220, 100, 0\n",
     "output_type": "error",
     "traceback": [
      "Error in data.frame(year_week = year_week, ranking = chart_piece$V1, change_grp = change_grp, : arguments imply differing number of rows: 1, 220, 100, 0\nTraceback:\n",
      "1. getPage(weekLinks[422])",
      "2. data.frame(year_week = year_week, ranking = chart_piece$V1, change_grp = change_grp, \n .     change_val = chart_piece$V2, title = chart_piece$V3, artist = chart_piece$V4, \n .     gaon_index = if (ncol(chart_piece) == 12) chart_piece$V6 else NA, \n .     production = if (ncol(chart_piece) == 12) chart_piece$V7 else chart_piece$V6, \n .     distribution = if (ncol(chart_piece) == 12) chart_piece$V8 else chart_piece$V7)   # at line 32-40 of file <text>",
      "3. stop(gettextf(\"arguments imply differing number of rows: %s\", \n .     paste(unique(nrows), collapse = \", \")), domain = NA)"
     ]
    }
   ],
   "source": [
    "getPage(weekLinks[422])"
   ]
  },
  {
   "cell_type": "code",
   "execution_count": null,
   "id": "d5367d14-9139-44a8-a0c0-c4e1dc9d3b7b",
   "metadata": {},
   "outputs": [],
   "source": [
    "start <- Sys.time()\n",
    "weekLinks <- getLinks('week')\n",
    "all_pages <- vector('list', length(weekLinks))\n",
    "for (i in 1:length(all_pages)) all_pages[[i]] <- getPage(weekLinks[i])\n",
    "end <- Sys.time()"
   ]
  },
  {
   "cell_type": "code",
   "execution_count": 14,
   "id": "d384cbb5-1ad0-42ca-8f03-69a483f8851f",
   "metadata": {},
   "outputs": [
    {
     "data": {
      "text/html": [
       "<style>\n",
       ".list-inline {list-style: none; margin:0; padding: 0}\n",
       ".list-inline>li {display: inline-block}\n",
       ".list-inline>li:not(:last-child)::after {content: \"\\00b7\"; padding: 0 .5ex}\n",
       "</style>\n",
       "<ol class=list-inline><li>'123413412'</li><li>'31123'</li><li>'123'</li><li>NA</li></ol>\n"
      ],
      "text/latex": [
       "\\begin{enumerate*}\n",
       "\\item '123413412'\n",
       "\\item '31123'\n",
       "\\item '123'\n",
       "\\item NA\n",
       "\\end{enumerate*}\n"
      ],
      "text/markdown": [
       "1. '123413412'\n",
       "2. '31123'\n",
       "3. '123'\n",
       "4. NA\n",
       "\n",
       "\n"
      ],
      "text/plain": [
       "[1] \"123413412\" \"31123\"     \"123\"       NA         "
      ]
     },
     "metadata": {},
     "output_type": "display_data"
    }
   ],
   "source": [
    "c('123,413,412', '31,123', '123', NA) %>% str_replace_all('[^0-9]', '')"
   ]
  },
  {
   "cell_type": "code",
   "execution_count": null,
   "id": "d352080c-3ddf-448c-80f8-b670a106bc56",
   "metadata": {},
   "outputs": [],
   "source": [
    "final <- do.call('rbind', all_pages)\n",
    "write.csv(final, 'gaon_week.txt', row.names = FALSE)\n",
    "write.table(final, 'gaon_week.txt', row.names = FALSE)\n"
   ]
  },
  {
   "cell_type": "code",
   "execution_count": 15,
   "id": "4bf8695b-d0db-45a6-9f21-2dfab06ccfe3",
   "metadata": {},
   "outputs": [
    {
     "data": {
      "text/html": [
       "&lt;NA&gt;"
      ],
      "text/latex": [
       "<NA>"
      ],
      "text/markdown": [
       "&lt;NA&gt;"
      ],
      "text/plain": [
       "[1] NA"
      ]
     },
     "metadata": {},
     "output_type": "display_data"
    }
   ],
   "source": [
    "NA %>% as.numeric()"
   ]
  },
  {
   "cell_type": "code",
   "execution_count": null,
   "id": "b8b1b869-45ed-4c55-a121-b92c861a313e",
   "metadata": {},
   "outputs": [],
   "source": []
  }
 ],
 "metadata": {
  "kernelspec": {
   "display_name": "R",
   "language": "R",
   "name": "ir"
  },
  "language_info": {
   "codemirror_mode": "r",
   "file_extension": ".r",
   "mimetype": "text/x-r-source",
   "name": "R",
   "pygments_lexer": "r",
   "version": "4.1.2"
  }
 },
 "nbformat": 4,
 "nbformat_minor": 5
}
