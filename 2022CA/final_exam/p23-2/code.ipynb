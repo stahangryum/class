{
 "cells": [
  {
   "cell_type": "code",
   "execution_count": 1,
   "id": "a6b8cb86-05ff-4333-aa23-280939d58609",
   "metadata": {},
   "outputs": [
    {
     "name": "stdout",
     "output_type": "stream",
     "text": [
      "chudnovsky_gmpy_mpz_bs: digits 10 time 0.0009992122650146484\n",
      "chudnovsky_gmpy_mpz_bs: digits 100 time 0.0009989738464355469\n",
      "Last 5 digits 70679 OK\n",
      "chudnovsky_gmpy_mpz_bs: digits 1000 time 0.0010564327239990234\n",
      "Last 5 digits 01989 OK\n",
      "chudnovsky_gmpy_mpz_bs: digits 10000 time 0.0023200511932373047\n",
      "Last 5 digits 75678 OK\n",
      "chudnovsky_gmpy_mpz_bs: digits 100000 time 0.03667879104614258\n",
      "Last 5 digits 24646 OK\n",
      "chudnovsky_gmpy_mpz_bs: digits 1000000 time 0.6439166069030762\n",
      "Last 5 digits 58151 OK\n",
      "chudnovsky_gmpy_mpz_bs: digits 10000000 time 12.621483564376831\n",
      "Last 5 digits 55897 OK\n"
     ]
    }
   ],
   "source": [
    "import math\n",
    "from gmpy2 import mpz\n",
    "from time import time\n",
    "import gmpy2\n",
    "\n",
    "def pi_chudnovsky_bs(digits):\n",
    "    \"\"\"\n",
    "    Compute int(pi * 10**digits)\n",
    "\n",
    "    This is done using Chudnovsky's series with binary splitting\n",
    "    \"\"\"\n",
    "    C = 640320\n",
    "    C3_OVER_24 = C**3 // 24\n",
    "    def bs(a, b):\n",
    "        \"\"\"\n",
    "        Computes the terms for binary splitting the Chudnovsky infinite series\n",
    "\n",
    "        a(a) = +/- (13591409 + 545140134*a)\n",
    "        p(a) = (6*a-5)*(2*a-1)*(6*a-1)\n",
    "        b(a) = 1\n",
    "        q(a) = a*a*a*C3_OVER_24\n",
    "\n",
    "        returns P(a,b), Q(a,b) and T(a,b)\n",
    "        \"\"\"\n",
    "        if b - a == 1:\n",
    "            # Directly compute P(a,a+1), Q(a,a+1) and T(a,a+1)\n",
    "            if a == 0:\n",
    "                Pab = Qab = mpz(1)\n",
    "            else:\n",
    "                Pab = mpz((6*a-5)*(2*a-1)*(6*a-1))\n",
    "                Qab = mpz(a*a*a*C3_OVER_24)\n",
    "            Tab = Pab * (13591409 + 545140134*a) # a(a) * p(a)\n",
    "            if a & 1:\n",
    "                Tab = -Tab\n",
    "        else:\n",
    "            # Recursively compute P(a,b), Q(a,b) and T(a,b)\n",
    "            # m is the midpoint of a and b\n",
    "            m = (a + b) // 2\n",
    "            # Recursively calculate P(a,m), Q(a,m) and T(a,m)\n",
    "            Pam, Qam, Tam = bs(a, m)\n",
    "            # Recursively calculate P(m,b), Q(m,b) and T(m,b)\n",
    "            Pmb, Qmb, Tmb = bs(m, b)\n",
    "            # Now combine\n",
    "            Pab = Pam * Pmb\n",
    "            Qab = Qam * Qmb\n",
    "            Tab = Qmb * Tam + Pam * Tmb\n",
    "        return Pab, Qab, Tab\n",
    "    # how many terms to compute\n",
    "    DIGITS_PER_TERM = math.log10(C3_OVER_24/6/2/6)\n",
    "    N = int(digits/DIGITS_PER_TERM + 1)\n",
    "    # Calclate P(0,N) and Q(0,N)\n",
    "    P, Q, T = bs(0, N)\n",
    "    one_squared = mpz(10)**(2*digits)\n",
    "    sqrtC = gmpy2.isqrt(10005*one_squared)\n",
    "    return (Q*426880*sqrtC) // T\n",
    "\n",
    "# The last 5 digits or pi for various numbers of digits\n",
    "check_digits = {\n",
    "        100 : 70679,\n",
    "       1000 :  1989,\n",
    "      10000 : 75678,\n",
    "     100000 : 24646,\n",
    "    1000000 : 58151,\n",
    "   10000000 : 55897,\n",
    "}\n",
    "\n",
    "if __name__ == \"__main__\":\n",
    "    #raise SystemExit\n",
    "    for log10_digits in range(1,8): # 10자리 ~ 1000만자리\n",
    "        digits = 10**log10_digits\n",
    "        start =time()\n",
    "        pi = pi_chudnovsky_bs(digits)\n",
    "        f = open('d_' + str(digits), 'w')\n",
    "        f.write(str(pi))\n",
    "        f.close()\n",
    "        print(\"chudnovsky_gmpy_mpz_bs: digits\",digits,\"time\",time()-start)\n",
    "        if digits in check_digits:\n",
    "            last_five_digits = pi % 100000\n",
    "            if check_digits[digits] == last_five_digits:\n",
    "                print(\"Last 5 digits %05d OK\" % last_five_digits)\n",
    "            else:\n",
    "                print(\"Last 5 digits %05d wrong should be %05d\" % (last_five_digits, check_digits[digits]))"
   ]
  },
  {
   "cell_type": "code",
   "execution_count": 2,
   "id": "fabb39bb-e590-448e-9c8a-1a15f085280d",
   "metadata": {},
   "outputs": [
    {
     "data": {
      "text/plain": [
       "\"\\n뉴턴 방법을 사용하면 계산 속도가 너무 느려서 gmpy2 모듈을 사용\\nhttps://www.craig-wood.com/nick/articles/pi-chudnovsky/pi_chudnovsky_bs_gmpy.py 에서 발췌\\n\\n<첫 번째 수정>\\nLine 63 ---> sqrtC = (10005*one_squared).sqrt()\\nAttributeError: 'mpz' object has no attribute 'sqrt'\\n왜인지는 모르겠으나 발췌한 코드를 수정없이 사용하면 sqrt method가 존재하지 않아 오류가 발생함.\\n\\n첫 번째 오류를 해결하기 위해 코드를 아래와 같이 수정함\\n\\n추가함 : import gmpy2\\n수정함 : (10005*one_squared).sqrt() => gmpy2.sqrt(10005*one_squared)\\n\\n<두 번째 수정>\\n수정한 코드를 실행하여보니if check_digits[digits] == last_five_digits\\n를 사용하는 과정에서 소숫점이 일치하지 않는 상황이 발생함\\ngmpy2.sqrt를 사용하지 않고 gmpy2.isqrt를 사용하였더니 정상적으로 작동됨을 확인하였다.\\n\""
      ]
     },
     "execution_count": 2,
     "metadata": {},
     "output_type": "execute_result"
    }
   ],
   "source": [
    "'''\n",
    "뉴턴 방법을 사용하면 계산 속도가 너무 느려서 gmpy2 모듈을 사용\n",
    "https://www.craig-wood.com/nick/articles/pi-chudnovsky/pi_chudnovsky_bs_gmpy.py 에서 발췌\n",
    "\n",
    "<첫 번째 수정>\n",
    "Line 63 ---> sqrtC = (10005*one_squared).sqrt()\n",
    "AttributeError: 'mpz' object has no attribute 'sqrt'\n",
    "왜인지는 모르겠으나 발췌한 코드를 수정없이 사용하면 sqrt method가 존재하지 않아 오류가 발생함.\n",
    "\n",
    "첫 번째 오류를 해결하기 위해 코드를 아래와 같이 수정함\n",
    "\n",
    "추가함 : import gmpy2\n",
    "수정함 : (10005*one_squared).sqrt() => gmpy2.sqrt(10005*one_squared)\n",
    "\n",
    "<두 번째 수정>\n",
    "수정한 코드를 실행하여보니if check_digits[digits] == last_five_digits\n",
    "를 사용하는 과정에서 소숫점이 일치하지 않는 상황이 발생함\n",
    "gmpy2.sqrt를 사용하지 않고 gmpy2.isqrt를 사용하였더니 정상적으로 작동됨을 확인하였다.\n",
    "'''"
   ]
  }
 ],
 "metadata": {
  "kernelspec": {
   "display_name": "Python 3 (ipykernel)",
   "language": "python",
   "name": "python3"
  },
  "language_info": {
   "codemirror_mode": {
    "name": "ipython",
    "version": 3
   },
   "file_extension": ".py",
   "mimetype": "text/x-python",
   "name": "python",
   "nbconvert_exporter": "python",
   "pygments_lexer": "ipython3",
   "version": "3.9.7"
  }
 },
 "nbformat": 4,
 "nbformat_minor": 5
}
