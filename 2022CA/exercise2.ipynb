{
 "cells": [
  {
   "cell_type": "markdown",
   "id": "a7e5749e-c2d3-422b-a3be-7d553798e599",
   "metadata": {},
   "source": [
    "## Ch.12 문자열과 패턴 매칭"
   ]
  },
  {
   "cell_type": "code",
   "execution_count": 324,
   "id": "1bf6f66a-5a2d-49bc-b48f-861bb97b41fd",
   "metadata": {},
   "outputs": [],
   "source": [
    "a <- \"abc\"\n",
    "b <- '123'"
   ]
  },
  {
   "cell_type": "code",
   "execution_count": 325,
   "id": "643c0676-a9da-489d-bcaf-1c84438690b6",
   "metadata": {},
   "outputs": [
    {
     "name": "stderr",
     "output_type": "stream",
     "text": [
      "Warning message in eval(expr, envir, enclos):\n",
      "\"강제형변환에 의해 생성된 NA 입니다\"\n"
     ]
    },
    {
     "data": {
      "text/html": [
       "&lt;NA&gt;"
      ],
      "text/latex": [
       "<NA>"
      ],
      "text/markdown": [
       "&lt;NA&gt;"
      ],
      "text/plain": [
       "[1] NA"
      ]
     },
     "metadata": {},
     "output_type": "display_data"
    }
   ],
   "source": [
    "as.numeric(a)"
   ]
  },
  {
   "cell_type": "code",
   "execution_count": 326,
   "id": "bca11060-1e7a-4161-aaaa-bceb2a8590ac",
   "metadata": {},
   "outputs": [
    {
     "data": {
      "text/html": [
       "123"
      ],
      "text/latex": [
       "123"
      ],
      "text/markdown": [
       "123"
      ],
      "text/plain": [
       "[1] 123"
      ]
     },
     "metadata": {},
     "output_type": "display_data"
    }
   ],
   "source": [
    "as.numeric(b)"
   ]
  },
  {
   "cell_type": "code",
   "execution_count": 327,
   "id": "2f707bd1-3706-48a6-9528-31c57a98d8c5",
   "metadata": {},
   "outputs": [
    {
     "data": {
      "text/html": [
       "4"
      ],
      "text/latex": [
       "4"
      ],
      "text/markdown": [
       "4"
      ],
      "text/plain": [
       "[1] 4"
      ]
     },
     "metadata": {},
     "output_type": "display_data"
    }
   ],
   "source": [
    "pets <- c(\"cat\",\"dog\",\"gerbil\",\"terrapin\")\n",
    "length(pets) "
   ]
  },
  {
   "cell_type": "code",
   "execution_count": 328,
   "id": "2dbc8735-c4c3-4035-a974-e70f69be1fa8",
   "metadata": {},
   "outputs": [
    {
     "data": {
      "text/html": [
       "<style>\n",
       ".list-inline {list-style: none; margin:0; padding: 0}\n",
       ".list-inline>li {display: inline-block}\n",
       ".list-inline>li:not(:last-child)::after {content: \"\\00b7\"; padding: 0 .5ex}\n",
       "</style>\n",
       "<ol class=list-inline><li>3</li><li>3</li><li>6</li><li>8</li></ol>\n"
      ],
      "text/latex": [
       "\\begin{enumerate*}\n",
       "\\item 3\n",
       "\\item 3\n",
       "\\item 6\n",
       "\\item 8\n",
       "\\end{enumerate*}\n"
      ],
      "text/markdown": [
       "1. 3\n",
       "2. 3\n",
       "3. 6\n",
       "4. 8\n",
       "\n",
       "\n"
      ],
      "text/plain": [
       "[1] 3 3 6 8"
      ]
     },
     "metadata": {},
     "output_type": "display_data"
    }
   ],
   "source": [
    "nchar(pets)"
   ]
  },
  {
   "cell_type": "code",
   "execution_count": 329,
   "id": "59831da0-7a9d-4e04-913a-339bec386e84",
   "metadata": {},
   "outputs": [
    {
     "data": {
      "text/html": [
       "'character'"
      ],
      "text/latex": [
       "'character'"
      ],
      "text/markdown": [
       "'character'"
      ],
      "text/plain": [
       "[1] \"character\""
      ]
     },
     "metadata": {},
     "output_type": "display_data"
    }
   ],
   "source": [
    "class(pets)"
   ]
  },
  {
   "cell_type": "code",
   "execution_count": 330,
   "id": "8137c150-daca-4afb-bf12-18f2f39ae7e6",
   "metadata": {},
   "outputs": [
    {
     "data": {
      "text/html": [
       "FALSE"
      ],
      "text/latex": [
       "FALSE"
      ],
      "text/markdown": [
       "FALSE"
      ],
      "text/plain": [
       "[1] FALSE"
      ]
     },
     "metadata": {},
     "output_type": "display_data"
    }
   ],
   "source": [
    "is.factor(pets)"
   ]
  },
  {
   "cell_type": "code",
   "execution_count": 331,
   "id": "327f71f5-0fce-4230-a971-c8b555556086",
   "metadata": {},
   "outputs": [
    {
     "data": {
      "text/html": [
       "<style>\n",
       ".list-inline {list-style: none; margin:0; padding: 0}\n",
       ".list-inline>li {display: inline-block}\n",
       ".list-inline>li:not(:last-child)::after {content: \"\\00b7\"; padding: 0 .5ex}\n",
       "</style>\n",
       "<ol class=list-inline><li>'a'</li><li>'b'</li><li>'c'</li><li>'d'</li><li>'e'</li><li>'f'</li><li>'g'</li><li>'h'</li><li>'i'</li><li>'j'</li><li>'k'</li><li>'l'</li><li>'m'</li><li>'n'</li><li>'o'</li><li>'p'</li><li>'q'</li><li>'r'</li><li>'s'</li><li>'t'</li><li>'u'</li><li>'v'</li><li>'w'</li><li>'x'</li><li>'y'</li><li>'z'</li></ol>\n"
      ],
      "text/latex": [
       "\\begin{enumerate*}\n",
       "\\item 'a'\n",
       "\\item 'b'\n",
       "\\item 'c'\n",
       "\\item 'd'\n",
       "\\item 'e'\n",
       "\\item 'f'\n",
       "\\item 'g'\n",
       "\\item 'h'\n",
       "\\item 'i'\n",
       "\\item 'j'\n",
       "\\item 'k'\n",
       "\\item 'l'\n",
       "\\item 'm'\n",
       "\\item 'n'\n",
       "\\item 'o'\n",
       "\\item 'p'\n",
       "\\item 'q'\n",
       "\\item 'r'\n",
       "\\item 's'\n",
       "\\item 't'\n",
       "\\item 'u'\n",
       "\\item 'v'\n",
       "\\item 'w'\n",
       "\\item 'x'\n",
       "\\item 'y'\n",
       "\\item 'z'\n",
       "\\end{enumerate*}\n"
      ],
      "text/markdown": [
       "1. 'a'\n",
       "2. 'b'\n",
       "3. 'c'\n",
       "4. 'd'\n",
       "5. 'e'\n",
       "6. 'f'\n",
       "7. 'g'\n",
       "8. 'h'\n",
       "9. 'i'\n",
       "10. 'j'\n",
       "11. 'k'\n",
       "12. 'l'\n",
       "13. 'm'\n",
       "14. 'n'\n",
       "15. 'o'\n",
       "16. 'p'\n",
       "17. 'q'\n",
       "18. 'r'\n",
       "19. 's'\n",
       "20. 't'\n",
       "21. 'u'\n",
       "22. 'v'\n",
       "23. 'w'\n",
       "24. 'x'\n",
       "25. 'y'\n",
       "26. 'z'\n",
       "\n",
       "\n"
      ],
      "text/plain": [
       " [1] \"a\" \"b\" \"c\" \"d\" \"e\" \"f\" \"g\" \"h\" \"i\" \"j\" \"k\" \"l\" \"m\" \"n\" \"o\" \"p\" \"q\" \"r\" \"s\"\n",
       "[20] \"t\" \"u\" \"v\" \"w\" \"x\" \"y\" \"z\""
      ]
     },
     "metadata": {},
     "output_type": "display_data"
    }
   ],
   "source": [
    "letters"
   ]
  },
  {
   "cell_type": "code",
   "execution_count": 332,
   "id": "e325d522-e2e4-49d4-afe1-9904ffeb2d11",
   "metadata": {},
   "outputs": [
    {
     "data": {
      "text/html": [
       "<style>\n",
       ".list-inline {list-style: none; margin:0; padding: 0}\n",
       ".list-inline>li {display: inline-block}\n",
       ".list-inline>li:not(:last-child)::after {content: \"\\00b7\"; padding: 0 .5ex}\n",
       "</style>\n",
       "<ol class=list-inline><li>'A'</li><li>'B'</li><li>'C'</li><li>'D'</li><li>'E'</li><li>'F'</li><li>'G'</li><li>'H'</li><li>'I'</li><li>'J'</li><li>'K'</li><li>'L'</li><li>'M'</li><li>'N'</li><li>'O'</li><li>'P'</li><li>'Q'</li><li>'R'</li><li>'S'</li><li>'T'</li><li>'U'</li><li>'V'</li><li>'W'</li><li>'X'</li><li>'Y'</li><li>'Z'</li></ol>\n"
      ],
      "text/latex": [
       "\\begin{enumerate*}\n",
       "\\item 'A'\n",
       "\\item 'B'\n",
       "\\item 'C'\n",
       "\\item 'D'\n",
       "\\item 'E'\n",
       "\\item 'F'\n",
       "\\item 'G'\n",
       "\\item 'H'\n",
       "\\item 'I'\n",
       "\\item 'J'\n",
       "\\item 'K'\n",
       "\\item 'L'\n",
       "\\item 'M'\n",
       "\\item 'N'\n",
       "\\item 'O'\n",
       "\\item 'P'\n",
       "\\item 'Q'\n",
       "\\item 'R'\n",
       "\\item 'S'\n",
       "\\item 'T'\n",
       "\\item 'U'\n",
       "\\item 'V'\n",
       "\\item 'W'\n",
       "\\item 'X'\n",
       "\\item 'Y'\n",
       "\\item 'Z'\n",
       "\\end{enumerate*}\n"
      ],
      "text/markdown": [
       "1. 'A'\n",
       "2. 'B'\n",
       "3. 'C'\n",
       "4. 'D'\n",
       "5. 'E'\n",
       "6. 'F'\n",
       "7. 'G'\n",
       "8. 'H'\n",
       "9. 'I'\n",
       "10. 'J'\n",
       "11. 'K'\n",
       "12. 'L'\n",
       "13. 'M'\n",
       "14. 'N'\n",
       "15. 'O'\n",
       "16. 'P'\n",
       "17. 'Q'\n",
       "18. 'R'\n",
       "19. 'S'\n",
       "20. 'T'\n",
       "21. 'U'\n",
       "22. 'V'\n",
       "23. 'W'\n",
       "24. 'X'\n",
       "25. 'Y'\n",
       "26. 'Z'\n",
       "\n",
       "\n"
      ],
      "text/plain": [
       " [1] \"A\" \"B\" \"C\" \"D\" \"E\" \"F\" \"G\" \"H\" \"I\" \"J\" \"K\" \"L\" \"M\" \"N\" \"O\" \"P\" \"Q\" \"R\" \"S\"\n",
       "[20] \"T\" \"U\" \"V\" \"W\" \"X\" \"Y\" \"Z\""
      ]
     },
     "metadata": {},
     "output_type": "display_data"
    }
   ],
   "source": [
    "LETTERS"
   ]
  },
  {
   "cell_type": "code",
   "execution_count": 1,
   "id": "aa0948ee-4915-4a9a-b613-b0fa29de21ec",
   "metadata": {},
   "outputs": [
    {
     "data": {
      "text/html": [
       "14"
      ],
      "text/latex": [
       "14"
      ],
      "text/markdown": [
       "14"
      ],
      "text/plain": [
       "[1] 14"
      ]
     },
     "metadata": {},
     "output_type": "display_data"
    }
   ],
   "source": [
    "which(letters == 'n')"
   ]
  },
  {
   "cell_type": "markdown",
   "id": "ba3369f1-1bce-4679-9ab8-8e4dfabb02d4",
   "metadata": {},
   "source": [
    "### 문자열 연결"
   ]
  },
  {
   "cell_type": "code",
   "execution_count": 2,
   "id": "e734a158-99db-4e3f-bcdf-452ba4678d07",
   "metadata": {},
   "outputs": [],
   "source": [
    "a <- 'abc'\n",
    "b <- '123'"
   ]
  },
  {
   "cell_type": "code",
   "execution_count": 3,
   "id": "b11c9fb2-4f55-4ed1-b144-f2ab5fc50103",
   "metadata": {},
   "outputs": [
    {
     "data": {
      "text/html": [
       "<style>\n",
       ".list-inline {list-style: none; margin:0; padding: 0}\n",
       ".list-inline>li {display: inline-block}\n",
       ".list-inline>li:not(:last-child)::after {content: \"\\00b7\"; padding: 0 .5ex}\n",
       "</style>\n",
       "<ol class=list-inline><li>'abc'</li><li>'123'</li></ol>\n"
      ],
      "text/latex": [
       "\\begin{enumerate*}\n",
       "\\item 'abc'\n",
       "\\item '123'\n",
       "\\end{enumerate*}\n"
      ],
      "text/markdown": [
       "1. 'abc'\n",
       "2. '123'\n",
       "\n",
       "\n"
      ],
      "text/plain": [
       "[1] \"abc\" \"123\""
      ]
     },
     "metadata": {},
     "output_type": "display_data"
    }
   ],
   "source": [
    "c(a, b)"
   ]
  },
  {
   "cell_type": "code",
   "execution_count": 26,
   "id": "dd6d9b20-bc96-400f-81d4-bd6c89031820",
   "metadata": {},
   "outputs": [
    {
     "data": {
      "text/html": [
       "'abc123'"
      ],
      "text/latex": [
       "'abc123'"
      ],
      "text/markdown": [
       "'abc123'"
      ],
      "text/plain": [
       "[1] \"abc123\""
      ]
     },
     "metadata": {},
     "output_type": "display_data"
    }
   ],
   "source": [
    "paste(a, b, sep = \"\")"
   ]
  },
  {
   "cell_type": "code",
   "execution_count": 27,
   "id": "12a27aea-3efb-4a86-9b00-e92a65caf15a",
   "metadata": {},
   "outputs": [
    {
     "data": {
      "text/html": [
       "'quick brown'"
      ],
      "text/latex": [
       "'quick brown'"
      ],
      "text/markdown": [
       "'quick brown'"
      ],
      "text/plain": [
       "[1] \"quick brown\""
      ]
     },
     "metadata": {},
     "output_type": "display_data"
    }
   ],
   "source": [
    "phrase <- 'the quick brown fox jumps over the lazy dog'\n",
    "substr(phrase, 5, 15) # 5번째부터 15번째까지의 문자열 추출"
   ]
  },
  {
   "cell_type": "code",
   "execution_count": 28,
   "id": "f2c230c6-caa8-45cd-8d8f-bcdf6701c903",
   "metadata": {},
   "outputs": [
    {
     "data": {
      "text/html": [
       "43"
      ],
      "text/latex": [
       "43"
      ],
      "text/markdown": [
       "43"
      ],
      "text/plain": [
       "[1] 43"
      ]
     },
     "metadata": {},
     "output_type": "display_data"
    }
   ],
   "source": [
    "nchar(phrase) # 문자열 개수"
   ]
  },
  {
   "cell_type": "code",
   "execution_count": 45,
   "id": "43226f1e-ff0e-4f1d-93df-3ed2b3a25a75",
   "metadata": {},
   "outputs": [
    {
     "data": {
      "text/html": [
       "<ol>\n",
       "\t<li><style>\n",
       ".list-inline {list-style: none; margin:0; padding: 0}\n",
       ".list-inline>li {display: inline-block}\n",
       ".list-inline>li:not(:last-child)::after {content: \"\\00b7\"; padding: 0 .5ex}\n",
       "</style>\n",
       "<ol class=list-inline><li>'t'</li><li>'h'</li><li>'e'</li><li>' '</li><li>'q'</li><li>'u'</li><li>'i'</li><li>'c'</li><li>'k'</li><li>' '</li><li>'b'</li><li>'r'</li><li>'o'</li><li>'w'</li><li>'n'</li><li>' '</li><li>'f'</li><li>'o'</li><li>'x'</li><li>' '</li><li>'j'</li><li>'u'</li><li>'m'</li><li>'p'</li><li>'s'</li><li>' '</li><li>'o'</li><li>'v'</li><li>'e'</li><li>'r'</li><li>' '</li><li>'t'</li><li>'h'</li><li>'e'</li><li>' '</li><li>'l'</li><li>'a'</li><li>'z'</li><li>'y'</li><li>' '</li><li>'d'</li><li>'o'</li><li>'g'</li></ol>\n",
       "</li>\n",
       "</ol>\n"
      ],
      "text/latex": [
       "\\begin{enumerate}\n",
       "\\item \\begin{enumerate*}\n",
       "\\item 't'\n",
       "\\item 'h'\n",
       "\\item 'e'\n",
       "\\item ' '\n",
       "\\item 'q'\n",
       "\\item 'u'\n",
       "\\item 'i'\n",
       "\\item 'c'\n",
       "\\item 'k'\n",
       "\\item ' '\n",
       "\\item 'b'\n",
       "\\item 'r'\n",
       "\\item 'o'\n",
       "\\item 'w'\n",
       "\\item 'n'\n",
       "\\item ' '\n",
       "\\item 'f'\n",
       "\\item 'o'\n",
       "\\item 'x'\n",
       "\\item ' '\n",
       "\\item 'j'\n",
       "\\item 'u'\n",
       "\\item 'm'\n",
       "\\item 'p'\n",
       "\\item 's'\n",
       "\\item ' '\n",
       "\\item 'o'\n",
       "\\item 'v'\n",
       "\\item 'e'\n",
       "\\item 'r'\n",
       "\\item ' '\n",
       "\\item 't'\n",
       "\\item 'h'\n",
       "\\item 'e'\n",
       "\\item ' '\n",
       "\\item 'l'\n",
       "\\item 'a'\n",
       "\\item 'z'\n",
       "\\item 'y'\n",
       "\\item ' '\n",
       "\\item 'd'\n",
       "\\item 'o'\n",
       "\\item 'g'\n",
       "\\end{enumerate*}\n",
       "\n",
       "\\end{enumerate}\n"
      ],
      "text/markdown": [
       "1. 1. 't'\n",
       "2. 'h'\n",
       "3. 'e'\n",
       "4. ' '\n",
       "5. 'q'\n",
       "6. 'u'\n",
       "7. 'i'\n",
       "8. 'c'\n",
       "9. 'k'\n",
       "10. ' '\n",
       "11. 'b'\n",
       "12. 'r'\n",
       "13. 'o'\n",
       "14. 'w'\n",
       "15. 'n'\n",
       "16. ' '\n",
       "17. 'f'\n",
       "18. 'o'\n",
       "19. 'x'\n",
       "20. ' '\n",
       "21. 'j'\n",
       "22. 'u'\n",
       "23. 'm'\n",
       "24. 'p'\n",
       "25. 's'\n",
       "26. ' '\n",
       "27. 'o'\n",
       "28. 'v'\n",
       "29. 'e'\n",
       "30. 'r'\n",
       "31. ' '\n",
       "32. 't'\n",
       "33. 'h'\n",
       "34. 'e'\n",
       "35. ' '\n",
       "36. 'l'\n",
       "37. 'a'\n",
       "38. 'z'\n",
       "39. 'y'\n",
       "40. ' '\n",
       "41. 'd'\n",
       "42. 'o'\n",
       "43. 'g'\n",
       "\n",
       "\n",
       "\n",
       "\n",
       "\n"
      ],
      "text/plain": [
       "[[1]]\n",
       " [1] \"t\" \"h\" \"e\" \" \" \"q\" \"u\" \"i\" \"c\" \"k\" \" \" \"b\" \"r\" \"o\" \"w\" \"n\" \" \" \"f\" \"o\" \"x\"\n",
       "[20] \" \" \"j\" \"u\" \"m\" \"p\" \"s\" \" \" \"o\" \"v\" \"e\" \"r\" \" \" \"t\" \"h\" \"e\" \" \" \"l\" \"a\" \"z\"\n",
       "[39] \"y\" \" \" \"d\" \"o\" \"g\"\n"
      ]
     },
     "metadata": {},
     "output_type": "display_data"
    }
   ],
   "source": [
    "strsplit(phrase, split= NULL) # 한 글자씩 분리"
   ]
  },
  {
   "cell_type": "code",
   "execution_count": 33,
   "id": "9177fcfb-3972-4273-be65-d7b29ebecd6c",
   "metadata": {},
   "outputs": [
    {
     "data": {
      "text/html": [
       "<ol>\n",
       "\t<li><style>\n",
       ".list-inline {list-style: none; margin:0; padding: 0}\n",
       ".list-inline>li {display: inline-block}\n",
       ".list-inline>li:not(:last-child)::after {content: \"\\00b7\"; padding: 0 .5ex}\n",
       "</style>\n",
       "<ol class=list-inline><li>'the quick brown fox jumps o'</li><li>'er the lazy dog'</li></ol>\n",
       "</li>\n",
       "</ol>\n"
      ],
      "text/latex": [
       "\\begin{enumerate}\n",
       "\\item \\begin{enumerate*}\n",
       "\\item 'the quick brown fox jumps o'\n",
       "\\item 'er the lazy dog'\n",
       "\\end{enumerate*}\n",
       "\n",
       "\\end{enumerate}\n"
      ],
      "text/markdown": [
       "1. 1. 'the quick brown fox jumps o'\n",
       "2. 'er the lazy dog'\n",
       "\n",
       "\n",
       "\n",
       "\n",
       "\n"
      ],
      "text/plain": [
       "[[1]]\n",
       "[1] \"the quick brown fox jumps o\" \"er the lazy dog\"            \n"
      ]
     },
     "metadata": {},
     "output_type": "display_data"
    }
   ],
   "source": [
    "strsplit(phrase, split= 'v') # `split = 'v'`는 v를 기준으로 문자열을 나누라는 의미이다."
   ]
  },
  {
   "cell_type": "code",
   "execution_count": 43,
   "id": "837f0da1-7d4b-4f96-9ab4-3636cad0adfc",
   "metadata": {},
   "outputs": [
    {
     "data": {
      "text/plain": [
       "\n",
       "  a b c d e f g h i j k l m n o p q r s t u v w x y z \n",
       "8 1 1 1 1 3 1 1 2 1 1 1 1 1 1 4 1 1 2 1 2 2 1 1 1 1 1 "
      ]
     },
     "metadata": {},
     "output_type": "display_data"
    }
   ],
   "source": [
    "table(strsplit(phrase, split = NULL)) # 문자열을 하나씩 분리하고 빈도 계싼"
   ]
  },
  {
   "cell_type": "markdown",
   "id": "00062a48-8f6f-4ca2-8684-cad3451feff3",
   "metadata": {},
   "source": [
    "위 결과에서 공백 수는 8개이다."
   ]
  },
  {
   "cell_type": "code",
   "execution_count": 44,
   "id": "c91164b6-ed35-4ea0-a6f7-331696c9c808",
   "metadata": {},
   "outputs": [
    {
     "data": {
      "text/html": [
       "<ol>\n",
       "\t<li><style>\n",
       ".list-inline {list-style: none; margin:0; padding: 0}\n",
       ".list-inline>li {display: inline-block}\n",
       ".list-inline>li:not(:last-child)::after {content: \"\\00b7\"; padding: 0 .5ex}\n",
       "</style>\n",
       "<ol class=list-inline><li>'the'</li><li>'quick'</li><li>'brown'</li><li>'fox'</li><li>'jumps'</li><li>'over'</li><li>'the'</li><li>'lazy'</li><li>'dog'</li></ol>\n",
       "</li>\n",
       "</ol>\n"
      ],
      "text/latex": [
       "\\begin{enumerate}\n",
       "\\item \\begin{enumerate*}\n",
       "\\item 'the'\n",
       "\\item 'quick'\n",
       "\\item 'brown'\n",
       "\\item 'fox'\n",
       "\\item 'jumps'\n",
       "\\item 'over'\n",
       "\\item 'the'\n",
       "\\item 'lazy'\n",
       "\\item 'dog'\n",
       "\\end{enumerate*}\n",
       "\n",
       "\\end{enumerate}\n"
      ],
      "text/markdown": [
       "1. 1. 'the'\n",
       "2. 'quick'\n",
       "3. 'brown'\n",
       "4. 'fox'\n",
       "5. 'jumps'\n",
       "6. 'over'\n",
       "7. 'the'\n",
       "8. 'lazy'\n",
       "9. 'dog'\n",
       "\n",
       "\n",
       "\n",
       "\n",
       "\n"
      ],
      "text/plain": [
       "[[1]]\n",
       "[1] \"the\"   \"quick\" \"brown\" \"fox\"   \"jumps\" \"over\"  \"the\"   \"lazy\"  \"dog\"  \n"
      ]
     },
     "metadata": {},
     "output_type": "display_data"
    }
   ],
   "source": [
    "strsplit(phrase, split =\" \") # 공백으로 분리 "
   ]
  },
  {
   "cell_type": "code",
   "execution_count": 46,
   "id": "c251dd09-6b50-4185-9e19-bb127f87482c",
   "metadata": {},
   "outputs": [
    {
     "data": {
      "text/html": [
       "<ol>\n",
       "\t<li><style>\n",
       ".list-inline {list-style: none; margin:0; padding: 0}\n",
       ".list-inline>li {display: inline-block}\n",
       ".list-inline>li:not(:last-child)::after {content: \"\\00b7\"; padding: 0 .5ex}\n",
       "</style>\n",
       "<ol class=list-inline><li>'g'</li><li>'o'</li><li>'d'</li><li>' '</li><li>'y'</li><li>'z'</li><li>'a'</li><li>'l'</li><li>' '</li><li>'e'</li><li>'h'</li><li>'t'</li><li>' '</li><li>'r'</li><li>'e'</li><li>'v'</li><li>'o'</li><li>' '</li><li>'s'</li><li>'p'</li><li>'m'</li><li>'u'</li><li>'j'</li><li>' '</li><li>'x'</li><li>'o'</li><li>'f'</li><li>' '</li><li>'n'</li><li>'w'</li><li>'o'</li><li>'r'</li><li>'b'</li><li>' '</li><li>'k'</li><li>'c'</li><li>'i'</li><li>'u'</li><li>'q'</li><li>' '</li><li>'e'</li><li>'h'</li><li>'t'</li></ol>\n",
       "</li>\n",
       "</ol>\n"
      ],
      "text/latex": [
       "\\begin{enumerate}\n",
       "\\item \\begin{enumerate*}\n",
       "\\item 'g'\n",
       "\\item 'o'\n",
       "\\item 'd'\n",
       "\\item ' '\n",
       "\\item 'y'\n",
       "\\item 'z'\n",
       "\\item 'a'\n",
       "\\item 'l'\n",
       "\\item ' '\n",
       "\\item 'e'\n",
       "\\item 'h'\n",
       "\\item 't'\n",
       "\\item ' '\n",
       "\\item 'r'\n",
       "\\item 'e'\n",
       "\\item 'v'\n",
       "\\item 'o'\n",
       "\\item ' '\n",
       "\\item 's'\n",
       "\\item 'p'\n",
       "\\item 'm'\n",
       "\\item 'u'\n",
       "\\item 'j'\n",
       "\\item ' '\n",
       "\\item 'x'\n",
       "\\item 'o'\n",
       "\\item 'f'\n",
       "\\item ' '\n",
       "\\item 'n'\n",
       "\\item 'w'\n",
       "\\item 'o'\n",
       "\\item 'r'\n",
       "\\item 'b'\n",
       "\\item ' '\n",
       "\\item 'k'\n",
       "\\item 'c'\n",
       "\\item 'i'\n",
       "\\item 'u'\n",
       "\\item 'q'\n",
       "\\item ' '\n",
       "\\item 'e'\n",
       "\\item 'h'\n",
       "\\item 't'\n",
       "\\end{enumerate*}\n",
       "\n",
       "\\end{enumerate}\n"
      ],
      "text/markdown": [
       "1. 1. 'g'\n",
       "2. 'o'\n",
       "3. 'd'\n",
       "4. ' '\n",
       "5. 'y'\n",
       "6. 'z'\n",
       "7. 'a'\n",
       "8. 'l'\n",
       "9. ' '\n",
       "10. 'e'\n",
       "11. 'h'\n",
       "12. 't'\n",
       "13. ' '\n",
       "14. 'r'\n",
       "15. 'e'\n",
       "16. 'v'\n",
       "17. 'o'\n",
       "18. ' '\n",
       "19. 's'\n",
       "20. 'p'\n",
       "21. 'm'\n",
       "22. 'u'\n",
       "23. 'j'\n",
       "24. ' '\n",
       "25. 'x'\n",
       "26. 'o'\n",
       "27. 'f'\n",
       "28. ' '\n",
       "29. 'n'\n",
       "30. 'w'\n",
       "31. 'o'\n",
       "32. 'r'\n",
       "33. 'b'\n",
       "34. ' '\n",
       "35. 'k'\n",
       "36. 'c'\n",
       "37. 'i'\n",
       "38. 'u'\n",
       "39. 'q'\n",
       "40. ' '\n",
       "41. 'e'\n",
       "42. 'h'\n",
       "43. 't'\n",
       "\n",
       "\n",
       "\n",
       "\n",
       "\n"
      ],
      "text/plain": [
       "[[1]]\n",
       " [1] \"g\" \"o\" \"d\" \" \" \"y\" \"z\" \"a\" \"l\" \" \" \"e\" \"h\" \"t\" \" \" \"r\" \"e\" \"v\" \"o\" \" \" \"s\"\n",
       "[20] \"p\" \"m\" \"u\" \"j\" \" \" \"x\" \"o\" \"f\" \" \" \"n\" \"w\" \"o\" \"r\" \"b\" \" \" \"k\" \"c\" \"i\" \"u\"\n",
       "[39] \"q\" \" \" \"e\" \"h\" \"t\"\n"
      ]
     },
     "metadata": {},
     "output_type": "display_data"
    }
   ],
   "source": [
    "lapply(strsplit(phrase, split = NULL), rev)"
   ]
  },
  {
   "cell_type": "code",
   "execution_count": 50,
   "id": "f831c9ac-5e1d-43d6-8cf5-a6d86f231184",
   "metadata": {},
   "outputs": [
    {
     "data": {
      "text/html": [
       "'god yzal eht revo spmuj xof nworb kciuq eht'"
      ],
      "text/latex": [
       "'god yzal eht revo spmuj xof nworb kciuq eht'"
      ],
      "text/markdown": [
       "'god yzal eht revo spmuj xof nworb kciuq eht'"
      ],
      "text/plain": [
       "[1] \"god yzal eht revo spmuj xof nworb kciuq eht\""
      ]
     },
     "metadata": {},
     "output_type": "display_data"
    }
   ],
   "source": [
    "sapply(lapply(strsplit(phrase, split = NULL), rev), paste, collapse ='') "
   ]
  },
  {
   "cell_type": "code",
   "execution_count": 51,
   "id": "deab9d7c-360f-4ac2-bce4-d9c5e2833318",
   "metadata": {},
   "outputs": [
    {
     "data": {
      "text/html": [
       "<ol>\n",
       "\t<li><style>\n",
       ".list-inline {list-style: none; margin:0; padding: 0}\n",
       ".list-inline>li {display: inline-block}\n",
       ".list-inline>li:not(:last-child)::after {content: \"\\00b7\"; padding: 0 .5ex}\n",
       "</style>\n",
       "<ol class=list-inline><li>''</li><li>' quick brown fox jumps over '</li><li>' lazy dog'</li></ol>\n",
       "</li>\n",
       "</ol>\n"
      ],
      "text/latex": [
       "\\begin{enumerate}\n",
       "\\item \\begin{enumerate*}\n",
       "\\item ''\n",
       "\\item ' quick brown fox jumps over '\n",
       "\\item ' lazy dog'\n",
       "\\end{enumerate*}\n",
       "\n",
       "\\end{enumerate}\n"
      ],
      "text/markdown": [
       "1. 1. ''\n",
       "2. ' quick brown fox jumps over '\n",
       "3. ' lazy dog'\n",
       "\n",
       "\n",
       "\n",
       "\n",
       "\n"
      ],
      "text/plain": [
       "[[1]]\n",
       "[1] \"\"                             \" quick brown fox jumps over \"\n",
       "[3] \" lazy dog\"                   \n"
      ]
     },
     "metadata": {},
     "output_type": "display_data"
    }
   ],
   "source": [
    "strsplit(phrase, split = 'the')"
   ]
  },
  {
   "cell_type": "markdown",
   "id": "8fcae9aa-9e6b-4b8e-9b73-538b24d25557",
   "metadata": {},
   "source": [
    "### match()함수"
   ]
  },
  {
   "cell_type": "code",
   "execution_count": 59,
   "id": "4933e346-5c43-4eaa-8c83-1eced3df4057",
   "metadata": {},
   "outputs": [],
   "source": [
    "first <- c(5,8,3,5,3,6,4,4,2,8,8,8,4,4,6)\n",
    "second <- c(8,6,4,2)"
   ]
  },
  {
   "cell_type": "code",
   "execution_count": 60,
   "id": "e78fb636-5c22-4871-b188-2f5f8fa94e9c",
   "metadata": {},
   "outputs": [
    {
     "data": {
      "text/html": [
       "<style>\n",
       ".list-inline {list-style: none; margin:0; padding: 0}\n",
       ".list-inline>li {display: inline-block}\n",
       ".list-inline>li:not(:last-child)::after {content: \"\\00b7\"; padding: 0 .5ex}\n",
       "</style>\n",
       "<ol class=list-inline><li>&lt;NA&gt;</li><li>1</li><li>&lt;NA&gt;</li><li>&lt;NA&gt;</li><li>&lt;NA&gt;</li><li>2</li><li>3</li><li>3</li><li>4</li><li>1</li><li>1</li><li>1</li><li>3</li><li>3</li><li>2</li></ol>\n"
      ],
      "text/latex": [
       "\\begin{enumerate*}\n",
       "\\item <NA>\n",
       "\\item 1\n",
       "\\item <NA>\n",
       "\\item <NA>\n",
       "\\item <NA>\n",
       "\\item 2\n",
       "\\item 3\n",
       "\\item 3\n",
       "\\item 4\n",
       "\\item 1\n",
       "\\item 1\n",
       "\\item 1\n",
       "\\item 3\n",
       "\\item 3\n",
       "\\item 2\n",
       "\\end{enumerate*}\n"
      ],
      "text/markdown": [
       "1. &lt;NA&gt;\n",
       "2. 1\n",
       "3. &lt;NA&gt;\n",
       "4. &lt;NA&gt;\n",
       "5. &lt;NA&gt;\n",
       "6. 2\n",
       "7. 3\n",
       "8. 3\n",
       "9. 4\n",
       "10. 1\n",
       "11. 1\n",
       "12. 1\n",
       "13. 3\n",
       "14. 3\n",
       "15. 2\n",
       "\n",
       "\n"
      ],
      "text/plain": [
       " [1] NA  1 NA NA NA  2  3  3  4  1  1  1  3  3  2"
      ]
     },
     "metadata": {},
     "output_type": "display_data"
    }
   ],
   "source": [
    "# 첫 번째 벡터의 각 원소는 두 번째 벡터의 어디에 있나? 발견되지 않으면 NA, 발견되면 위치를 생성한다\n",
    "match(first, second)"
   ]
  },
  {
   "cell_type": "markdown",
   "id": "638bf722-d399-46c9-8c01-8ab232bab19d",
   "metadata": {},
   "source": [
    "### 패턴매칭"
   ]
  },
  {
   "cell_type": "code",
   "execution_count": 61,
   "id": "85ef4879-7e22-433e-b542-cbb65ce8e973",
   "metadata": {},
   "outputs": [],
   "source": [
    "df <- read.table(\"https://enook.jbnu.ac.kr/138/ch01/08/worldfloras.txt\", header=TRUE)"
   ]
  },
  {
   "cell_type": "code",
   "execution_count": 64,
   "id": "6361494e-1e92-4982-a71f-ae768535a822",
   "metadata": {},
   "outputs": [
    {
     "data": {
      "text/html": [
       "<table class=\"dataframe\">\n",
       "<caption>A data.frame: 6 × 7</caption>\n",
       "<thead>\n",
       "\t<tr><th></th><th scope=col>Country</th><th scope=col>Latitude</th><th scope=col>Area</th><th scope=col>Population</th><th scope=col>Flora</th><th scope=col>Endemism</th><th scope=col>Continent</th></tr>\n",
       "\t<tr><th></th><th scope=col>&lt;chr&gt;</th><th scope=col>&lt;int&gt;</th><th scope=col>&lt;dbl&gt;</th><th scope=col>&lt;dbl&gt;</th><th scope=col>&lt;int&gt;</th><th scope=col>&lt;dbl&gt;</th><th scope=col>&lt;chr&gt;</th></tr>\n",
       "</thead>\n",
       "<tbody>\n",
       "\t<tr><th scope=row>1</th><td>Afghanistan</td><td>30</td><td>  636.0</td><td>14.300</td><td>3000</td><td>0.270</td><td>Asia      </td></tr>\n",
       "\t<tr><th scope=row>2</th><td>Albania    </td><td>42</td><td>   29.0</td><td> 3.000</td><td>3200</td><td>0.008</td><td>Europe    </td></tr>\n",
       "\t<tr><th scope=row>3</th><td>Algeria    </td><td>35</td><td> 2382.0</td><td>21.300</td><td>3139</td><td>0.080</td><td>N.Africa  </td></tr>\n",
       "\t<tr><th scope=row>4</th><td>Andorra    </td><td>42</td><td>    0.5</td><td> 0.034</td><td>1000</td><td>0.000</td><td>Europe    </td></tr>\n",
       "\t<tr><th scope=row>5</th><td>Angola     </td><td>25</td><td> 1247.0</td><td> 8.500</td><td>5000</td><td>0.250</td><td>Africa    </td></tr>\n",
       "\t<tr><th scope=row>6</th><td>Antarctica </td><td>85</td><td>14000.0</td><td> 0.000</td><td>   2</td><td>0.000</td><td>Antarctica</td></tr>\n",
       "</tbody>\n",
       "</table>\n"
      ],
      "text/latex": [
       "A data.frame: 6 × 7\n",
       "\\begin{tabular}{r|lllllll}\n",
       "  & Country & Latitude & Area & Population & Flora & Endemism & Continent\\\\\n",
       "  & <chr> & <int> & <dbl> & <dbl> & <int> & <dbl> & <chr>\\\\\n",
       "\\hline\n",
       "\t1 & Afghanistan & 30 &   636.0 & 14.300 & 3000 & 0.270 & Asia      \\\\\n",
       "\t2 & Albania     & 42 &    29.0 &  3.000 & 3200 & 0.008 & Europe    \\\\\n",
       "\t3 & Algeria     & 35 &  2382.0 & 21.300 & 3139 & 0.080 & N.Africa  \\\\\n",
       "\t4 & Andorra     & 42 &     0.5 &  0.034 & 1000 & 0.000 & Europe    \\\\\n",
       "\t5 & Angola      & 25 &  1247.0 &  8.500 & 5000 & 0.250 & Africa    \\\\\n",
       "\t6 & Antarctica  & 85 & 14000.0 &  0.000 &    2 & 0.000 & Antarctica\\\\\n",
       "\\end{tabular}\n"
      ],
      "text/markdown": [
       "\n",
       "A data.frame: 6 × 7\n",
       "\n",
       "| <!--/--> | Country &lt;chr&gt; | Latitude &lt;int&gt; | Area &lt;dbl&gt; | Population &lt;dbl&gt; | Flora &lt;int&gt; | Endemism &lt;dbl&gt; | Continent &lt;chr&gt; |\n",
       "|---|---|---|---|---|---|---|---|\n",
       "| 1 | Afghanistan | 30 |   636.0 | 14.300 | 3000 | 0.270 | Asia       |\n",
       "| 2 | Albania     | 42 |    29.0 |  3.000 | 3200 | 0.008 | Europe     |\n",
       "| 3 | Algeria     | 35 |  2382.0 | 21.300 | 3139 | 0.080 | N.Africa   |\n",
       "| 4 | Andorra     | 42 |     0.5 |  0.034 | 1000 | 0.000 | Europe     |\n",
       "| 5 | Angola      | 25 |  1247.0 |  8.500 | 5000 | 0.250 | Africa     |\n",
       "| 6 | Antarctica  | 85 | 14000.0 |  0.000 |    2 | 0.000 | Antarctica |\n",
       "\n"
      ],
      "text/plain": [
       "  Country     Latitude Area    Population Flora Endemism Continent \n",
       "1 Afghanistan 30         636.0 14.300     3000  0.270    Asia      \n",
       "2 Albania     42          29.0  3.000     3200  0.008    Europe    \n",
       "3 Algeria     35        2382.0 21.300     3139  0.080    N.Africa  \n",
       "4 Andorra     42           0.5  0.034     1000  0.000    Europe    \n",
       "5 Angola      25        1247.0  8.500     5000  0.250    Africa    \n",
       "6 Antarctica  85       14000.0  0.000        2  0.000    Antarctica"
      ]
     },
     "metadata": {},
     "output_type": "display_data"
    }
   ],
   "source": [
    "head(df)"
   ]
  },
  {
   "cell_type": "code",
   "execution_count": 65,
   "id": "bcea3902-963f-494f-9f1e-446c51c76597",
   "metadata": {},
   "outputs": [
    {
     "data": {
      "text/html": [
       "<style>\n",
       ".list-inline {list-style: none; margin:0; padding: 0}\n",
       ".list-inline>li {display: inline-block}\n",
       ".list-inline>li:not(:last-child)::after {content: \"\\00b7\"; padding: 0 .5ex}\n",
       "</style>\n",
       "<ol class=list-inline><li>'Afghanistan'</li><li>'Albania'</li><li>'Algeria'</li><li>'Andorra'</li><li>'Angola'</li><li>'Antarctica'</li><li>'Argentina'</li><li>'Australia'</li><li>'Austria'</li><li>'Bahrain'</li><li>'Balearic Islands'</li><li>'Bangladesh'</li><li>'Belgium'</li><li>'Belize'</li><li>'Benin'</li><li>'Bhutan'</li><li>'Bolivia'</li><li>'Botswana'</li><li>'Brazil'</li><li>'Brunei'</li><li>'Bulgaria'</li><li>'Burkina Faso'</li><li>'Burma'</li><li>'Burundi'</li><li>'Cameroon'</li><li>'Canada'</li><li>'Central African Republic'</li><li>'Chad'</li><li>'Chile'</li><li>'China'</li><li>'Colombia'</li><li>'Congo'</li><li>'Corsica'</li><li>'Costa Rica'</li><li>'Crete'</li><li>'Cuba'</li><li>'Cyprus'</li><li>'Czechoslovakia'</li><li>'Denmark'</li><li>'Dominican Republic'</li><li>'Ecuador'</li><li>'Egypt'</li><li>'El Salvador'</li><li>'Ethiopia'</li><li>'Finland'</li><li>'France'</li><li>'French Guiana'</li><li>'Gabon'</li><li>'Galapagos'</li><li>'Gambia'</li><li>'Germany East'</li><li>'Germany West'</li><li>'Ghana'</li><li>'Greece'</li><li>'Greenland'</li><li>'Guatemala'</li><li>'Guinea'</li><li>'Guyana'</li><li>'Haiti'</li><li>'Hawaii'</li><li>'Honduras'</li><li>'Hong Kong'</li><li>'Hungary'</li><li>'Iceland'</li><li>'India'</li><li>'Indonesia'</li><li>'Iran'</li><li>'Iraq'</li><li>'Ireland'</li><li>'Israel'</li><li>'Italy'</li><li>'Ivory Coast'</li><li>'Jamaica'</li><li>'Japan'</li><li>'Jordan'</li><li>'Kampuchea'</li><li>'Kenya'</li><li>'Korea'</li><li>'Kuwait'</li><li>'Laos'</li><li>'Lebanon'</li><li>'Lesotho'</li><li>'Liberia'</li><li>'Libya'</li><li>'Liechtenstein'</li><li>'Luxembourg'</li><li>'Madagascar'</li><li>'Malawi'</li><li>'Malaysia'</li><li>'Mali'</li><li>'Malta'</li><li>'Mauritania'</li><li>'Mauritius'</li><li>'Mexico'</li><li>'Mongolia'</li><li>'Morocco'</li><li>'Mozambique'</li><li>'Namibia'</li><li>'Nepal'</li><li>'Netherlands'</li><li>'New Caledonia'</li><li>'New Zealand'</li><li>'Nicaragua'</li><li>'Niger'</li><li>'Nigeria'</li><li>'Norway'</li><li>'Oman'</li><li>'Pakistan'</li><li>'Panama'</li><li>'Papua New Guinea'</li><li>'Paraguay'</li><li>'Peru'</li><li>'Philippines'</li><li>'Poland'</li><li>'Portugal'</li><li>'Puerto Rico'</li><li>'Qatar'</li><li>'Reunion'</li><li>'Romania'</li><li>'Rwanda'</li><li>'Sardinia'</li><li>'Saudi Arabia'</li><li>'Senegal'</li><li>'Seychelles'</li><li>'Sicily'</li><li>'Sierra Leone'</li><li>'Singapore'</li><li>'Solomon Islands'</li><li>'Somalia'</li><li>'South Africa'</li><li>'Spain'</li><li>'Sri Lanka'</li><li>'St.Helena'</li><li>'Sudan'</li><li>'Suriname'</li><li>'Swaziland'</li><li>'Sweden'</li><li>'Switzerland'</li><li>'Syria'</li><li>'Taiwan'</li><li>'Tanzania'</li><li>'Thailand'</li><li>'Togo'</li><li>'Trinidad &amp; Tobago'</li><li>'Tristan da Cunha'</li><li>'Tunisia'</li><li>'Turkey'</li><li>'Uganda'</li><li>'United Kingdom'</li><li>'Uruguay'</li><li>'USA'</li><li>'USSR'</li><li>'Vanuatu'</li><li>'Venezuela'</li><li>'Viet Nam'</li><li>'Yemen North'</li><li>'Yemen South'</li><li>'Yugoslavia'</li><li>'Zaire'</li><li>'Zambia'</li><li>'Zimbabwe'</li></ol>\n"
      ],
      "text/latex": [
       "\\begin{enumerate*}\n",
       "\\item 'Afghanistan'\n",
       "\\item 'Albania'\n",
       "\\item 'Algeria'\n",
       "\\item 'Andorra'\n",
       "\\item 'Angola'\n",
       "\\item 'Antarctica'\n",
       "\\item 'Argentina'\n",
       "\\item 'Australia'\n",
       "\\item 'Austria'\n",
       "\\item 'Bahrain'\n",
       "\\item 'Balearic Islands'\n",
       "\\item 'Bangladesh'\n",
       "\\item 'Belgium'\n",
       "\\item 'Belize'\n",
       "\\item 'Benin'\n",
       "\\item 'Bhutan'\n",
       "\\item 'Bolivia'\n",
       "\\item 'Botswana'\n",
       "\\item 'Brazil'\n",
       "\\item 'Brunei'\n",
       "\\item 'Bulgaria'\n",
       "\\item 'Burkina Faso'\n",
       "\\item 'Burma'\n",
       "\\item 'Burundi'\n",
       "\\item 'Cameroon'\n",
       "\\item 'Canada'\n",
       "\\item 'Central African Republic'\n",
       "\\item 'Chad'\n",
       "\\item 'Chile'\n",
       "\\item 'China'\n",
       "\\item 'Colombia'\n",
       "\\item 'Congo'\n",
       "\\item 'Corsica'\n",
       "\\item 'Costa Rica'\n",
       "\\item 'Crete'\n",
       "\\item 'Cuba'\n",
       "\\item 'Cyprus'\n",
       "\\item 'Czechoslovakia'\n",
       "\\item 'Denmark'\n",
       "\\item 'Dominican Republic'\n",
       "\\item 'Ecuador'\n",
       "\\item 'Egypt'\n",
       "\\item 'El Salvador'\n",
       "\\item 'Ethiopia'\n",
       "\\item 'Finland'\n",
       "\\item 'France'\n",
       "\\item 'French Guiana'\n",
       "\\item 'Gabon'\n",
       "\\item 'Galapagos'\n",
       "\\item 'Gambia'\n",
       "\\item 'Germany East'\n",
       "\\item 'Germany West'\n",
       "\\item 'Ghana'\n",
       "\\item 'Greece'\n",
       "\\item 'Greenland'\n",
       "\\item 'Guatemala'\n",
       "\\item 'Guinea'\n",
       "\\item 'Guyana'\n",
       "\\item 'Haiti'\n",
       "\\item 'Hawaii'\n",
       "\\item 'Honduras'\n",
       "\\item 'Hong Kong'\n",
       "\\item 'Hungary'\n",
       "\\item 'Iceland'\n",
       "\\item 'India'\n",
       "\\item 'Indonesia'\n",
       "\\item 'Iran'\n",
       "\\item 'Iraq'\n",
       "\\item 'Ireland'\n",
       "\\item 'Israel'\n",
       "\\item 'Italy'\n",
       "\\item 'Ivory Coast'\n",
       "\\item 'Jamaica'\n",
       "\\item 'Japan'\n",
       "\\item 'Jordan'\n",
       "\\item 'Kampuchea'\n",
       "\\item 'Kenya'\n",
       "\\item 'Korea'\n",
       "\\item 'Kuwait'\n",
       "\\item 'Laos'\n",
       "\\item 'Lebanon'\n",
       "\\item 'Lesotho'\n",
       "\\item 'Liberia'\n",
       "\\item 'Libya'\n",
       "\\item 'Liechtenstein'\n",
       "\\item 'Luxembourg'\n",
       "\\item 'Madagascar'\n",
       "\\item 'Malawi'\n",
       "\\item 'Malaysia'\n",
       "\\item 'Mali'\n",
       "\\item 'Malta'\n",
       "\\item 'Mauritania'\n",
       "\\item 'Mauritius'\n",
       "\\item 'Mexico'\n",
       "\\item 'Mongolia'\n",
       "\\item 'Morocco'\n",
       "\\item 'Mozambique'\n",
       "\\item 'Namibia'\n",
       "\\item 'Nepal'\n",
       "\\item 'Netherlands'\n",
       "\\item 'New Caledonia'\n",
       "\\item 'New Zealand'\n",
       "\\item 'Nicaragua'\n",
       "\\item 'Niger'\n",
       "\\item 'Nigeria'\n",
       "\\item 'Norway'\n",
       "\\item 'Oman'\n",
       "\\item 'Pakistan'\n",
       "\\item 'Panama'\n",
       "\\item 'Papua New Guinea'\n",
       "\\item 'Paraguay'\n",
       "\\item 'Peru'\n",
       "\\item 'Philippines'\n",
       "\\item 'Poland'\n",
       "\\item 'Portugal'\n",
       "\\item 'Puerto Rico'\n",
       "\\item 'Qatar'\n",
       "\\item 'Reunion'\n",
       "\\item 'Romania'\n",
       "\\item 'Rwanda'\n",
       "\\item 'Sardinia'\n",
       "\\item 'Saudi Arabia'\n",
       "\\item 'Senegal'\n",
       "\\item 'Seychelles'\n",
       "\\item 'Sicily'\n",
       "\\item 'Sierra Leone'\n",
       "\\item 'Singapore'\n",
       "\\item 'Solomon Islands'\n",
       "\\item 'Somalia'\n",
       "\\item 'South Africa'\n",
       "\\item 'Spain'\n",
       "\\item 'Sri Lanka'\n",
       "\\item 'St.Helena'\n",
       "\\item 'Sudan'\n",
       "\\item 'Suriname'\n",
       "\\item 'Swaziland'\n",
       "\\item 'Sweden'\n",
       "\\item 'Switzerland'\n",
       "\\item 'Syria'\n",
       "\\item 'Taiwan'\n",
       "\\item 'Tanzania'\n",
       "\\item 'Thailand'\n",
       "\\item 'Togo'\n",
       "\\item 'Trinidad \\& Tobago'\n",
       "\\item 'Tristan da Cunha'\n",
       "\\item 'Tunisia'\n",
       "\\item 'Turkey'\n",
       "\\item 'Uganda'\n",
       "\\item 'United Kingdom'\n",
       "\\item 'Uruguay'\n",
       "\\item 'USA'\n",
       "\\item 'USSR'\n",
       "\\item 'Vanuatu'\n",
       "\\item 'Venezuela'\n",
       "\\item 'Viet Nam'\n",
       "\\item 'Yemen North'\n",
       "\\item 'Yemen South'\n",
       "\\item 'Yugoslavia'\n",
       "\\item 'Zaire'\n",
       "\\item 'Zambia'\n",
       "\\item 'Zimbabwe'\n",
       "\\end{enumerate*}\n"
      ],
      "text/markdown": [
       "1. 'Afghanistan'\n",
       "2. 'Albania'\n",
       "3. 'Algeria'\n",
       "4. 'Andorra'\n",
       "5. 'Angola'\n",
       "6. 'Antarctica'\n",
       "7. 'Argentina'\n",
       "8. 'Australia'\n",
       "9. 'Austria'\n",
       "10. 'Bahrain'\n",
       "11. 'Balearic Islands'\n",
       "12. 'Bangladesh'\n",
       "13. 'Belgium'\n",
       "14. 'Belize'\n",
       "15. 'Benin'\n",
       "16. 'Bhutan'\n",
       "17. 'Bolivia'\n",
       "18. 'Botswana'\n",
       "19. 'Brazil'\n",
       "20. 'Brunei'\n",
       "21. 'Bulgaria'\n",
       "22. 'Burkina Faso'\n",
       "23. 'Burma'\n",
       "24. 'Burundi'\n",
       "25. 'Cameroon'\n",
       "26. 'Canada'\n",
       "27. 'Central African Republic'\n",
       "28. 'Chad'\n",
       "29. 'Chile'\n",
       "30. 'China'\n",
       "31. 'Colombia'\n",
       "32. 'Congo'\n",
       "33. 'Corsica'\n",
       "34. 'Costa Rica'\n",
       "35. 'Crete'\n",
       "36. 'Cuba'\n",
       "37. 'Cyprus'\n",
       "38. 'Czechoslovakia'\n",
       "39. 'Denmark'\n",
       "40. 'Dominican Republic'\n",
       "41. 'Ecuador'\n",
       "42. 'Egypt'\n",
       "43. 'El Salvador'\n",
       "44. 'Ethiopia'\n",
       "45. 'Finland'\n",
       "46. 'France'\n",
       "47. 'French Guiana'\n",
       "48. 'Gabon'\n",
       "49. 'Galapagos'\n",
       "50. 'Gambia'\n",
       "51. 'Germany East'\n",
       "52. 'Germany West'\n",
       "53. 'Ghana'\n",
       "54. 'Greece'\n",
       "55. 'Greenland'\n",
       "56. 'Guatemala'\n",
       "57. 'Guinea'\n",
       "58. 'Guyana'\n",
       "59. 'Haiti'\n",
       "60. 'Hawaii'\n",
       "61. 'Honduras'\n",
       "62. 'Hong Kong'\n",
       "63. 'Hungary'\n",
       "64. 'Iceland'\n",
       "65. 'India'\n",
       "66. 'Indonesia'\n",
       "67. 'Iran'\n",
       "68. 'Iraq'\n",
       "69. 'Ireland'\n",
       "70. 'Israel'\n",
       "71. 'Italy'\n",
       "72. 'Ivory Coast'\n",
       "73. 'Jamaica'\n",
       "74. 'Japan'\n",
       "75. 'Jordan'\n",
       "76. 'Kampuchea'\n",
       "77. 'Kenya'\n",
       "78. 'Korea'\n",
       "79. 'Kuwait'\n",
       "80. 'Laos'\n",
       "81. 'Lebanon'\n",
       "82. 'Lesotho'\n",
       "83. 'Liberia'\n",
       "84. 'Libya'\n",
       "85. 'Liechtenstein'\n",
       "86. 'Luxembourg'\n",
       "87. 'Madagascar'\n",
       "88. 'Malawi'\n",
       "89. 'Malaysia'\n",
       "90. 'Mali'\n",
       "91. 'Malta'\n",
       "92. 'Mauritania'\n",
       "93. 'Mauritius'\n",
       "94. 'Mexico'\n",
       "95. 'Mongolia'\n",
       "96. 'Morocco'\n",
       "97. 'Mozambique'\n",
       "98. 'Namibia'\n",
       "99. 'Nepal'\n",
       "100. 'Netherlands'\n",
       "101. 'New Caledonia'\n",
       "102. 'New Zealand'\n",
       "103. 'Nicaragua'\n",
       "104. 'Niger'\n",
       "105. 'Nigeria'\n",
       "106. 'Norway'\n",
       "107. 'Oman'\n",
       "108. 'Pakistan'\n",
       "109. 'Panama'\n",
       "110. 'Papua New Guinea'\n",
       "111. 'Paraguay'\n",
       "112. 'Peru'\n",
       "113. 'Philippines'\n",
       "114. 'Poland'\n",
       "115. 'Portugal'\n",
       "116. 'Puerto Rico'\n",
       "117. 'Qatar'\n",
       "118. 'Reunion'\n",
       "119. 'Romania'\n",
       "120. 'Rwanda'\n",
       "121. 'Sardinia'\n",
       "122. 'Saudi Arabia'\n",
       "123. 'Senegal'\n",
       "124. 'Seychelles'\n",
       "125. 'Sicily'\n",
       "126. 'Sierra Leone'\n",
       "127. 'Singapore'\n",
       "128. 'Solomon Islands'\n",
       "129. 'Somalia'\n",
       "130. 'South Africa'\n",
       "131. 'Spain'\n",
       "132. 'Sri Lanka'\n",
       "133. 'St.Helena'\n",
       "134. 'Sudan'\n",
       "135. 'Suriname'\n",
       "136. 'Swaziland'\n",
       "137. 'Sweden'\n",
       "138. 'Switzerland'\n",
       "139. 'Syria'\n",
       "140. 'Taiwan'\n",
       "141. 'Tanzania'\n",
       "142. 'Thailand'\n",
       "143. 'Togo'\n",
       "144. 'Trinidad &amp; Tobago'\n",
       "145. 'Tristan da Cunha'\n",
       "146. 'Tunisia'\n",
       "147. 'Turkey'\n",
       "148. 'Uganda'\n",
       "149. 'United Kingdom'\n",
       "150. 'Uruguay'\n",
       "151. 'USA'\n",
       "152. 'USSR'\n",
       "153. 'Vanuatu'\n",
       "154. 'Venezuela'\n",
       "155. 'Viet Nam'\n",
       "156. 'Yemen North'\n",
       "157. 'Yemen South'\n",
       "158. 'Yugoslavia'\n",
       "159. 'Zaire'\n",
       "160. 'Zambia'\n",
       "161. 'Zimbabwe'\n",
       "\n",
       "\n"
      ],
      "text/plain": [
       "  [1] \"Afghanistan\"              \"Albania\"                 \n",
       "  [3] \"Algeria\"                  \"Andorra\"                 \n",
       "  [5] \"Angola\"                   \"Antarctica\"              \n",
       "  [7] \"Argentina\"                \"Australia\"               \n",
       "  [9] \"Austria\"                  \"Bahrain\"                 \n",
       " [11] \"Balearic Islands\"         \"Bangladesh\"              \n",
       " [13] \"Belgium\"                  \"Belize\"                  \n",
       " [15] \"Benin\"                    \"Bhutan\"                  \n",
       " [17] \"Bolivia\"                  \"Botswana\"                \n",
       " [19] \"Brazil\"                   \"Brunei\"                  \n",
       " [21] \"Bulgaria\"                 \"Burkina Faso\"            \n",
       " [23] \"Burma\"                    \"Burundi\"                 \n",
       " [25] \"Cameroon\"                 \"Canada\"                  \n",
       " [27] \"Central African Republic\" \"Chad\"                    \n",
       " [29] \"Chile\"                    \"China\"                   \n",
       " [31] \"Colombia\"                 \"Congo\"                   \n",
       " [33] \"Corsica\"                  \"Costa Rica\"              \n",
       " [35] \"Crete\"                    \"Cuba\"                    \n",
       " [37] \"Cyprus\"                   \"Czechoslovakia\"          \n",
       " [39] \"Denmark\"                  \"Dominican Republic\"      \n",
       " [41] \"Ecuador\"                  \"Egypt\"                   \n",
       " [43] \"El Salvador\"              \"Ethiopia\"                \n",
       " [45] \"Finland\"                  \"France\"                  \n",
       " [47] \"French Guiana\"            \"Gabon\"                   \n",
       " [49] \"Galapagos\"                \"Gambia\"                  \n",
       " [51] \"Germany East\"             \"Germany West\"            \n",
       " [53] \"Ghana\"                    \"Greece\"                  \n",
       " [55] \"Greenland\"                \"Guatemala\"               \n",
       " [57] \"Guinea\"                   \"Guyana\"                  \n",
       " [59] \"Haiti\"                    \"Hawaii\"                  \n",
       " [61] \"Honduras\"                 \"Hong Kong\"               \n",
       " [63] \"Hungary\"                  \"Iceland\"                 \n",
       " [65] \"India\"                    \"Indonesia\"               \n",
       " [67] \"Iran\"                     \"Iraq\"                    \n",
       " [69] \"Ireland\"                  \"Israel\"                  \n",
       " [71] \"Italy\"                    \"Ivory Coast\"             \n",
       " [73] \"Jamaica\"                  \"Japan\"                   \n",
       " [75] \"Jordan\"                   \"Kampuchea\"               \n",
       " [77] \"Kenya\"                    \"Korea\"                   \n",
       " [79] \"Kuwait\"                   \"Laos\"                    \n",
       " [81] \"Lebanon\"                  \"Lesotho\"                 \n",
       " [83] \"Liberia\"                  \"Libya\"                   \n",
       " [85] \"Liechtenstein\"            \"Luxembourg\"              \n",
       " [87] \"Madagascar\"               \"Malawi\"                  \n",
       " [89] \"Malaysia\"                 \"Mali\"                    \n",
       " [91] \"Malta\"                    \"Mauritania\"              \n",
       " [93] \"Mauritius\"                \"Mexico\"                  \n",
       " [95] \"Mongolia\"                 \"Morocco\"                 \n",
       " [97] \"Mozambique\"               \"Namibia\"                 \n",
       " [99] \"Nepal\"                    \"Netherlands\"             \n",
       "[101] \"New Caledonia\"            \"New Zealand\"             \n",
       "[103] \"Nicaragua\"                \"Niger\"                   \n",
       "[105] \"Nigeria\"                  \"Norway\"                  \n",
       "[107] \"Oman\"                     \"Pakistan\"                \n",
       "[109] \"Panama\"                   \"Papua New Guinea\"        \n",
       "[111] \"Paraguay\"                 \"Peru\"                    \n",
       "[113] \"Philippines\"              \"Poland\"                  \n",
       "[115] \"Portugal\"                 \"Puerto Rico\"             \n",
       "[117] \"Qatar\"                    \"Reunion\"                 \n",
       "[119] \"Romania\"                  \"Rwanda\"                  \n",
       "[121] \"Sardinia\"                 \"Saudi Arabia\"            \n",
       "[123] \"Senegal\"                  \"Seychelles\"              \n",
       "[125] \"Sicily\"                   \"Sierra Leone\"            \n",
       "[127] \"Singapore\"                \"Solomon Islands\"         \n",
       "[129] \"Somalia\"                  \"South Africa\"            \n",
       "[131] \"Spain\"                    \"Sri Lanka\"               \n",
       "[133] \"St.Helena\"                \"Sudan\"                   \n",
       "[135] \"Suriname\"                 \"Swaziland\"               \n",
       "[137] \"Sweden\"                   \"Switzerland\"             \n",
       "[139] \"Syria\"                    \"Taiwan\"                  \n",
       "[141] \"Tanzania\"                 \"Thailand\"                \n",
       "[143] \"Togo\"                     \"Trinidad & Tobago\"       \n",
       "[145] \"Tristan da Cunha\"         \"Tunisia\"                 \n",
       "[147] \"Turkey\"                   \"Uganda\"                  \n",
       "[149] \"United Kingdom\"           \"Uruguay\"                 \n",
       "[151] \"USA\"                      \"USSR\"                    \n",
       "[153] \"Vanuatu\"                  \"Venezuela\"               \n",
       "[155] \"Viet Nam\"                 \"Yemen North\"             \n",
       "[157] \"Yemen South\"              \"Yugoslavia\"              \n",
       "[159] \"Zaire\"                    \"Zambia\"                  \n",
       "[161] \"Zimbabwe\"                "
      ]
     },
     "metadata": {},
     "output_type": "display_data"
    }
   ],
   "source": [
    "df$Country"
   ]
  },
  {
   "cell_type": "code",
   "execution_count": 66,
   "id": "3796bcd5-378e-4b26-a2a4-ebdde3067b1e",
   "metadata": {},
   "outputs": [],
   "source": [
    "Country <- df$Country"
   ]
  },
  {
   "cell_type": "markdown",
   "id": "820b5318-5b7e-4364-9d1f-42b6257fc72f",
   "metadata": {},
   "source": [
    "`grep()` 함수는 문자열 벡터에서 패턴을 찾는 함수이다."
   ]
  },
  {
   "cell_type": "code",
   "execution_count": 72,
   "id": "a58c6128-faf7-4833-96da-fe8eb69901ba",
   "metadata": {},
   "outputs": [
    {
     "data": {
      "text/html": [
       "<style>\n",
       ".list-inline {list-style: none; margin:0; padding: 0}\n",
       ".list-inline>li {display: inline-block}\n",
       ".list-inline>li:not(:last-child)::after {content: \"\\00b7\"; padding: 0 .5ex}\n",
       "</style>\n",
       "<ol class=list-inline><li>27</li><li>34</li><li>40</li><li>116</li><li>118</li><li>119</li><li>120</li><li>152</li></ol>\n"
      ],
      "text/latex": [
       "\\begin{enumerate*}\n",
       "\\item 27\n",
       "\\item 34\n",
       "\\item 40\n",
       "\\item 116\n",
       "\\item 118\n",
       "\\item 119\n",
       "\\item 120\n",
       "\\item 152\n",
       "\\end{enumerate*}\n"
      ],
      "text/markdown": [
       "1. 27\n",
       "2. 34\n",
       "3. 40\n",
       "4. 116\n",
       "5. 118\n",
       "6. 119\n",
       "7. 120\n",
       "8. 152\n",
       "\n",
       "\n"
      ],
      "text/plain": [
       "[1]  27  34  40 116 118 119 120 152"
      ]
     },
     "metadata": {},
     "output_type": "display_data"
    }
   ],
   "source": [
    "grep('R', Country) # 국가 명에 R이 있는 국가 찾기"
   ]
  },
  {
   "cell_type": "code",
   "execution_count": 69,
   "id": "993b6b2b-4f64-48b2-8f44-0821bbef1231",
   "metadata": {},
   "outputs": [
    {
     "data": {
      "text/html": [
       "<style>\n",
       ".list-inline {list-style: none; margin:0; padding: 0}\n",
       ".list-inline>li {display: inline-block}\n",
       ".list-inline>li:not(:last-child)::after {content: \"\\00b7\"; padding: 0 .5ex}\n",
       "</style>\n",
       "<ol class=list-inline><li>'Central African Republic'</li><li>'Costa Rica'</li><li>'Dominican Republic'</li><li>'Puerto Rico'</li><li>'Reunion'</li><li>'Romania'</li><li>'Rwanda'</li><li>'USSR'</li></ol>\n"
      ],
      "text/latex": [
       "\\begin{enumerate*}\n",
       "\\item 'Central African Republic'\n",
       "\\item 'Costa Rica'\n",
       "\\item 'Dominican Republic'\n",
       "\\item 'Puerto Rico'\n",
       "\\item 'Reunion'\n",
       "\\item 'Romania'\n",
       "\\item 'Rwanda'\n",
       "\\item 'USSR'\n",
       "\\end{enumerate*}\n"
      ],
      "text/markdown": [
       "1. 'Central African Republic'\n",
       "2. 'Costa Rica'\n",
       "3. 'Dominican Republic'\n",
       "4. 'Puerto Rico'\n",
       "5. 'Reunion'\n",
       "6. 'Romania'\n",
       "7. 'Rwanda'\n",
       "8. 'USSR'\n",
       "\n",
       "\n"
      ],
      "text/plain": [
       "[1] \"Central African Republic\" \"Costa Rica\"              \n",
       "[3] \"Dominican Republic\"       \"Puerto Rico\"             \n",
       "[5] \"Reunion\"                  \"Romania\"                 \n",
       "[7] \"Rwanda\"                   \"USSR\"                    "
      ]
     },
     "metadata": {},
     "output_type": "display_data"
    }
   ],
   "source": [
    "Country[grep('R', Country)]"
   ]
  },
  {
   "cell_type": "markdown",
   "id": "a2570dd0-1430-4ac9-86ab-c017c6d13b7c",
   "metadata": {},
   "source": [
    "`^`는 맨 앞을 의미"
   ]
  },
  {
   "cell_type": "code",
   "execution_count": 71,
   "id": "244cbcb0-4c2f-41dd-80bc-d15792f33c8d",
   "metadata": {},
   "outputs": [
    {
     "data": {
      "text/html": [
       "<style>\n",
       ".list-inline {list-style: none; margin:0; padding: 0}\n",
       ".list-inline>li {display: inline-block}\n",
       ".list-inline>li:not(:last-child)::after {content: \"\\00b7\"; padding: 0 .5ex}\n",
       "</style>\n",
       "<ol class=list-inline><li>'Reunion'</li><li>'Romania'</li><li>'Rwanda'</li></ol>\n"
      ],
      "text/latex": [
       "\\begin{enumerate*}\n",
       "\\item 'Reunion'\n",
       "\\item 'Romania'\n",
       "\\item 'Rwanda'\n",
       "\\end{enumerate*}\n"
      ],
      "text/markdown": [
       "1. 'Reunion'\n",
       "2. 'Romania'\n",
       "3. 'Rwanda'\n",
       "\n",
       "\n"
      ],
      "text/plain": [
       "[1] \"Reunion\" \"Romania\" \"Rwanda\" "
      ]
     },
     "metadata": {},
     "output_type": "display_data"
    }
   ],
   "source": [
    "Country[grep('^R', Country)] # 국가 명 맨 앞에 R이 있는 국가 찾기"
   ]
  },
  {
   "cell_type": "code",
   "execution_count": 73,
   "id": "988f46c0-7d0b-4c02-bf45-8a3bd3265fa0",
   "metadata": {},
   "outputs": [
    {
     "data": {
      "text/html": [
       "<style>\n",
       ".list-inline {list-style: none; margin:0; padding: 0}\n",
       ".list-inline>li {display: inline-block}\n",
       ".list-inline>li:not(:last-child)::after {content: \"\\00b7\"; padding: 0 .5ex}\n",
       "</style>\n",
       "<ol class=list-inline><li>'Central African Republic'</li><li>'Costa Rica'</li><li>'Dominican Republic'</li><li>'Puerto Rico'</li></ol>\n"
      ],
      "text/latex": [
       "\\begin{enumerate*}\n",
       "\\item 'Central African Republic'\n",
       "\\item 'Costa Rica'\n",
       "\\item 'Dominican Republic'\n",
       "\\item 'Puerto Rico'\n",
       "\\end{enumerate*}\n"
      ],
      "text/markdown": [
       "1. 'Central African Republic'\n",
       "2. 'Costa Rica'\n",
       "3. 'Dominican Republic'\n",
       "4. 'Puerto Rico'\n",
       "\n",
       "\n"
      ],
      "text/plain": [
       "[1] \"Central African Republic\" \"Costa Rica\"              \n",
       "[3] \"Dominican Republic\"       \"Puerto Rico\"             "
      ]
     },
     "metadata": {},
     "output_type": "display_data"
    }
   ],
   "source": [
    "Country[grep(' R', Country)] # R 앞에 공백이 있는 국가명"
   ]
  },
  {
   "cell_type": "markdown",
   "id": "1be91de7-fa48-4f95-b500-4b7f20fdc322",
   "metadata": {},
   "source": [
    "`$`는 맨 뒤를 의미"
   ]
  },
  {
   "cell_type": "code",
   "execution_count": 74,
   "id": "228ed719-0047-4f1d-8eba-09a55bf85265",
   "metadata": {},
   "outputs": [
    {
     "data": {
      "text/html": [
       "<style>\n",
       ".list-inline {list-style: none; margin:0; padding: 0}\n",
       ".list-inline>li {display: inline-block}\n",
       ".list-inline>li:not(:last-child)::after {content: \"\\00b7\"; padding: 0 .5ex}\n",
       "</style>\n",
       "<ol class=list-inline><li>'Hungary'</li><li>'Italy'</li><li>'Norway'</li><li>'Paraguay'</li><li>'Sicily'</li><li>'Turkey'</li><li>'Uruguay'</li></ol>\n"
      ],
      "text/latex": [
       "\\begin{enumerate*}\n",
       "\\item 'Hungary'\n",
       "\\item 'Italy'\n",
       "\\item 'Norway'\n",
       "\\item 'Paraguay'\n",
       "\\item 'Sicily'\n",
       "\\item 'Turkey'\n",
       "\\item 'Uruguay'\n",
       "\\end{enumerate*}\n"
      ],
      "text/markdown": [
       "1. 'Hungary'\n",
       "2. 'Italy'\n",
       "3. 'Norway'\n",
       "4. 'Paraguay'\n",
       "5. 'Sicily'\n",
       "6. 'Turkey'\n",
       "7. 'Uruguay'\n",
       "\n",
       "\n"
      ],
      "text/plain": [
       "[1] \"Hungary\"  \"Italy\"    \"Norway\"   \"Paraguay\" \"Sicily\"   \"Turkey\"   \"Uruguay\" "
      ]
     },
     "metadata": {},
     "output_type": "display_data"
    }
   ],
   "source": [
    "Country[grep('y$', Country)] # y로 끝나는 국가명"
   ]
  },
  {
   "cell_type": "code",
   "execution_count": 76,
   "id": "3d6a6b48-b7cb-4939-8784-bf96c1e7282c",
   "metadata": {},
   "outputs": [
    {
     "data": {
      "text/html": [
       "<style>\n",
       ".list-inline {list-style: none; margin:0; padding: 0}\n",
       ".list-inline>li {display: inline-block}\n",
       ".list-inline>li:not(:last-child)::after {content: \"\\00b7\"; padding: 0 .5ex}\n",
       "</style>\n",
       "<ol class=list-inline><li>'Burkina Faso'</li><li>'Denmark'</li><li>'Dominican Republic'</li><li>'Ecuador'</li><li>'Egypt'</li><li>'El Salvador'</li><li>'Ethiopia'</li><li>'Finland'</li><li>'France'</li><li>'French Guiana'</li><li>'Germany East'</li></ol>\n"
      ],
      "text/latex": [
       "\\begin{enumerate*}\n",
       "\\item 'Burkina Faso'\n",
       "\\item 'Denmark'\n",
       "\\item 'Dominican Republic'\n",
       "\\item 'Ecuador'\n",
       "\\item 'Egypt'\n",
       "\\item 'El Salvador'\n",
       "\\item 'Ethiopia'\n",
       "\\item 'Finland'\n",
       "\\item 'France'\n",
       "\\item 'French Guiana'\n",
       "\\item 'Germany East'\n",
       "\\end{enumerate*}\n"
      ],
      "text/markdown": [
       "1. 'Burkina Faso'\n",
       "2. 'Denmark'\n",
       "3. 'Dominican Republic'\n",
       "4. 'Ecuador'\n",
       "5. 'Egypt'\n",
       "6. 'El Salvador'\n",
       "7. 'Ethiopia'\n",
       "8. 'Finland'\n",
       "9. 'France'\n",
       "10. 'French Guiana'\n",
       "11. 'Germany East'\n",
       "\n",
       "\n"
      ],
      "text/plain": [
       " [1] \"Burkina Faso\"       \"Denmark\"            \"Dominican Republic\"\n",
       " [4] \"Ecuador\"            \"Egypt\"              \"El Salvador\"       \n",
       " [7] \"Ethiopia\"           \"Finland\"            \"France\"            \n",
       "[10] \"French Guiana\"      \"Germany East\"      "
      ]
     },
     "metadata": {},
     "output_type": "display_data"
    }
   ],
   "source": [
    "Country[grep('[D-F]', Country)] # D, E, F 중 하나가 있는 국가명"
   ]
  },
  {
   "cell_type": "code",
   "execution_count": 77,
   "id": "8b943e8f-85c6-4c39-a273-b0772ad9bb94",
   "metadata": {},
   "outputs": [
    {
     "data": {
      "text/html": [
       "<style>\n",
       ".list-inline {list-style: none; margin:0; padding: 0}\n",
       ".list-inline>li {display: inline-block}\n",
       ".list-inline>li:not(:last-child)::after {content: \"\\00b7\"; padding: 0 .5ex}\n",
       "</style>\n",
       "<ol class=list-inline><li>'Denmark'</li><li>'Dominican Republic'</li><li>'Ecuador'</li><li>'Egypt'</li><li>'El Salvador'</li><li>'Ethiopia'</li><li>'Finland'</li><li>'France'</li><li>'French Guiana'</li></ol>\n"
      ],
      "text/latex": [
       "\\begin{enumerate*}\n",
       "\\item 'Denmark'\n",
       "\\item 'Dominican Republic'\n",
       "\\item 'Ecuador'\n",
       "\\item 'Egypt'\n",
       "\\item 'El Salvador'\n",
       "\\item 'Ethiopia'\n",
       "\\item 'Finland'\n",
       "\\item 'France'\n",
       "\\item 'French Guiana'\n",
       "\\end{enumerate*}\n"
      ],
      "text/markdown": [
       "1. 'Denmark'\n",
       "2. 'Dominican Republic'\n",
       "3. 'Ecuador'\n",
       "4. 'Egypt'\n",
       "5. 'El Salvador'\n",
       "6. 'Ethiopia'\n",
       "7. 'Finland'\n",
       "8. 'France'\n",
       "9. 'French Guiana'\n",
       "\n",
       "\n"
      ],
      "text/plain": [
       "[1] \"Denmark\"            \"Dominican Republic\" \"Ecuador\"           \n",
       "[4] \"Egypt\"              \"El Salvador\"        \"Ethiopia\"          \n",
       "[7] \"Finland\"            \"France\"             \"French Guiana\"     "
      ]
     },
     "metadata": {},
     "output_type": "display_data"
    }
   ],
   "source": [
    "Country[grep('^[D-F]', Country)] # D, E, F 중 하나로 시작하는 국가명"
   ]
  },
  {
   "cell_type": "code",
   "execution_count": 78,
   "id": "54640606-1c3e-4ed7-b062-5dc74f0fa6ac",
   "metadata": {},
   "outputs": [
    {
     "data": {
      "text/html": [
       "<style>\n",
       ".list-inline {list-style: none; margin:0; padding: 0}\n",
       ".list-inline>li {display: inline-block}\n",
       ".list-inline>li:not(:last-child)::after {content: \"\\00b7\"; padding: 0 .5ex}\n",
       "</style>\n",
       "<ol class=list-inline><li>'Hungary'</li><li>'Italy'</li><li>'Norway'</li><li>'Paraguay'</li><li>'Sicily'</li><li>'Turkey'</li><li>'Uruguay'</li><li>'USA'</li><li>'USSR'</li></ol>\n"
      ],
      "text/latex": [
       "\\begin{enumerate*}\n",
       "\\item 'Hungary'\n",
       "\\item 'Italy'\n",
       "\\item 'Norway'\n",
       "\\item 'Paraguay'\n",
       "\\item 'Sicily'\n",
       "\\item 'Turkey'\n",
       "\\item 'Uruguay'\n",
       "\\item 'USA'\n",
       "\\item 'USSR'\n",
       "\\end{enumerate*}\n"
      ],
      "text/markdown": [
       "1. 'Hungary'\n",
       "2. 'Italy'\n",
       "3. 'Norway'\n",
       "4. 'Paraguay'\n",
       "5. 'Sicily'\n",
       "6. 'Turkey'\n",
       "7. 'Uruguay'\n",
       "8. 'USA'\n",
       "9. 'USSR'\n",
       "\n",
       "\n"
      ],
      "text/plain": [
       "[1] \"Hungary\"  \"Italy\"    \"Norway\"   \"Paraguay\" \"Sicily\"   \"Turkey\"   \"Uruguay\" \n",
       "[8] \"USA\"      \"USSR\"    "
      ]
     },
     "metadata": {},
     "output_type": "display_data"
    }
   ],
   "source": [
    "Country[-grep('[a-u]$', Country)]"
   ]
  },
  {
   "cell_type": "markdown",
   "id": "67ed3c67-976e-4a0f-b069-880c87a32144",
   "metadata": {},
   "source": [
    "`.` 은 임의의 문자 하나"
   ]
  },
  {
   "cell_type": "code",
   "execution_count": 81,
   "id": "375d7e48-a12a-4b32-a1d1-c0ef01f20dad",
   "metadata": {},
   "outputs": [
    {
     "data": {
      "text/html": [
       "<style>\n",
       ".list-inline {list-style: none; margin:0; padding: 0}\n",
       ".list-inline>li {display: inline-block}\n",
       ".list-inline>li:not(:last-child)::after {content: \"\\00b7\"; padding: 0 .5ex}\n",
       "</style>\n",
       "<ol class=list-inline><li>'Cyprus'</li><li>'Syria'</li></ol>\n"
      ],
      "text/latex": [
       "\\begin{enumerate*}\n",
       "\\item 'Cyprus'\n",
       "\\item 'Syria'\n",
       "\\end{enumerate*}\n"
      ],
      "text/markdown": [
       "1. 'Cyprus'\n",
       "2. 'Syria'\n",
       "\n",
       "\n"
      ],
      "text/plain": [
       "[1] \"Cyprus\" \"Syria\" "
      ]
     },
     "metadata": {},
     "output_type": "display_data"
    }
   ],
   "source": [
    "Country[grep('^.y', Country)] # 처음에 임의의 문자 하나 뒤 y"
   ]
  },
  {
   "cell_type": "code",
   "execution_count": 82,
   "id": "babf8e9b-cc8c-4c2a-b7fb-6b0fb8ac8f4c",
   "metadata": {},
   "outputs": [
    {
     "data": {
      "text/html": [
       "<style>\n",
       ".list-inline {list-style: none; margin:0; padding: 0}\n",
       ".list-inline>li {display: inline-block}\n",
       ".list-inline>li:not(:last-child)::after {content: \"\\00b7\"; padding: 0 .5ex}\n",
       "</style>\n",
       "<ol class=list-inline><li>'Egypt'</li><li>'Guyana'</li><li>'Seychelles'</li></ol>\n"
      ],
      "text/latex": [
       "\\begin{enumerate*}\n",
       "\\item 'Egypt'\n",
       "\\item 'Guyana'\n",
       "\\item 'Seychelles'\n",
       "\\end{enumerate*}\n"
      ],
      "text/markdown": [
       "1. 'Egypt'\n",
       "2. 'Guyana'\n",
       "3. 'Seychelles'\n",
       "\n",
       "\n"
      ],
      "text/plain": [
       "[1] \"Egypt\"      \"Guyana\"     \"Seychelles\""
      ]
     },
     "metadata": {},
     "output_type": "display_data"
    }
   ],
   "source": [
    "Country[grep('^..y', Country)] # 처음에 임의의 문자 두 개 뒤 y"
   ]
  },
  {
   "cell_type": "code",
   "execution_count": 83,
   "id": "9f0122f6-36eb-44a5-a4e7-84ae1686a1bc",
   "metadata": {},
   "outputs": [
    {
     "data": {
      "text/html": [
       "<style>\n",
       ".list-inline {list-style: none; margin:0; padding: 0}\n",
       ".list-inline>li {display: inline-block}\n",
       ".list-inline>li:not(:last-child)::after {content: \"\\00b7\"; padding: 0 .5ex}\n",
       "</style>\n",
       "<ol class=list-inline><li>'Norway'</li><li>'Sicily'</li><li>'Turkey'</li></ol>\n"
      ],
      "text/latex": [
       "\\begin{enumerate*}\n",
       "\\item 'Norway'\n",
       "\\item 'Sicily'\n",
       "\\item 'Turkey'\n",
       "\\end{enumerate*}\n"
      ],
      "text/markdown": [
       "1. 'Norway'\n",
       "2. 'Sicily'\n",
       "3. 'Turkey'\n",
       "\n",
       "\n"
      ],
      "text/plain": [
       "[1] \"Norway\" \"Sicily\" \"Turkey\""
      ]
     },
     "metadata": {},
     "output_type": "display_data"
    }
   ],
   "source": [
    "Country[grep('^.{5}y', Country)] # 처음에 임의의 문자 다섯 개 뒤 y"
   ]
  },
  {
   "cell_type": "code",
   "execution_count": 85,
   "id": "49c46a31-e00d-43ae-9d83-acb207b2e472",
   "metadata": {},
   "outputs": [
    {
     "data": {
      "text/html": [
       "<style>\n",
       ".list-inline {list-style: none; margin:0; padding: 0}\n",
       ".list-inline>li {display: inline-block}\n",
       ".list-inline>li:not(:last-child)::after {content: \"\\00b7\"; padding: 0 .5ex}\n",
       "</style>\n",
       "<ol class=list-inline><li>'Chad'</li><li>'Cuba'</li><li>'Iran'</li><li>'Iraq'</li><li>'Laos'</li><li>'Mali'</li><li>'Oman'</li><li>'Peru'</li><li>'Togo'</li><li>'USA'</li><li>'USSR'</li></ol>\n"
      ],
      "text/latex": [
       "\\begin{enumerate*}\n",
       "\\item 'Chad'\n",
       "\\item 'Cuba'\n",
       "\\item 'Iran'\n",
       "\\item 'Iraq'\n",
       "\\item 'Laos'\n",
       "\\item 'Mali'\n",
       "\\item 'Oman'\n",
       "\\item 'Peru'\n",
       "\\item 'Togo'\n",
       "\\item 'USA'\n",
       "\\item 'USSR'\n",
       "\\end{enumerate*}\n"
      ],
      "text/markdown": [
       "1. 'Chad'\n",
       "2. 'Cuba'\n",
       "3. 'Iran'\n",
       "4. 'Iraq'\n",
       "5. 'Laos'\n",
       "6. 'Mali'\n",
       "7. 'Oman'\n",
       "8. 'Peru'\n",
       "9. 'Togo'\n",
       "10. 'USA'\n",
       "11. 'USSR'\n",
       "\n",
       "\n"
      ],
      "text/plain": [
       " [1] \"Chad\" \"Cuba\" \"Iran\" \"Iraq\" \"Laos\" \"Mali\" \"Oman\" \"Peru\" \"Togo\" \"USA\" \n",
       "[11] \"USSR\""
      ]
     },
     "metadata": {},
     "output_type": "display_data"
    }
   ],
   "source": [
    "Country[grep('^.{1,4}$', Country)] # 처음에 임의의 문자 1개 이상 4개 이하로 끝나는 국가명"
   ]
  },
  {
   "cell_type": "code",
   "execution_count": 86,
   "id": "8d3cee35-0175-4e13-b004-1dd0e377b31b",
   "metadata": {},
   "outputs": [
    {
     "data": {
      "text/html": [
       "<style>\n",
       ".list-inline {list-style: none; margin:0; padding: 0}\n",
       ".list-inline>li {display: inline-block}\n",
       ".list-inline>li:not(:last-child)::after {content: \"\\00b7\"; padding: 0 .5ex}\n",
       "</style>\n",
       "<ol class=list-inline><li>'Balearic Islands'</li><li>'Central African Republic'</li><li>'Dominican Republic'</li><li>'Papua New Guinea'</li><li>'Solomon Islands'</li><li>'Trinidad &amp; Tobago'</li><li>'Tristan da Cunha'</li></ol>\n"
      ],
      "text/latex": [
       "\\begin{enumerate*}\n",
       "\\item 'Balearic Islands'\n",
       "\\item 'Central African Republic'\n",
       "\\item 'Dominican Republic'\n",
       "\\item 'Papua New Guinea'\n",
       "\\item 'Solomon Islands'\n",
       "\\item 'Trinidad \\& Tobago'\n",
       "\\item 'Tristan da Cunha'\n",
       "\\end{enumerate*}\n"
      ],
      "text/markdown": [
       "1. 'Balearic Islands'\n",
       "2. 'Central African Republic'\n",
       "3. 'Dominican Republic'\n",
       "4. 'Papua New Guinea'\n",
       "5. 'Solomon Islands'\n",
       "6. 'Trinidad &amp; Tobago'\n",
       "7. 'Tristan da Cunha'\n",
       "\n",
       "\n"
      ],
      "text/plain": [
       "[1] \"Balearic Islands\"         \"Central African Republic\"\n",
       "[3] \"Dominican Republic\"       \"Papua New Guinea\"        \n",
       "[5] \"Solomon Islands\"          \"Trinidad & Tobago\"       \n",
       "[7] \"Tristan da Cunha\"        "
      ]
     },
     "metadata": {},
     "output_type": "display_data"
    }
   ],
   "source": [
    "Country[grep('^.{15,}$', Country)] # 임의의 문자 15개 이상"
   ]
  },
  {
   "cell_type": "markdown",
   "id": "a13e1f97-1ac2-4976-a9e3-b93fe455de8c",
   "metadata": {},
   "source": [
    "### 텍스트 치환 함수 sub(), gsup()"
   ]
  },
  {
   "cell_type": "code",
   "execution_count": 87,
   "id": "92af4bfd-8cba-4076-9715-e700319501c9",
   "metadata": {},
   "outputs": [],
   "source": [
    "text <- c(\"arm\", \"leg\", \"head\", \"foot\", \"hand\", \"hindleg\", \"elbow\")"
   ]
  },
  {
   "cell_type": "code",
   "execution_count": 94,
   "id": "f394e410-145c-40ef-9e1d-2cc8e19de1ac",
   "metadata": {},
   "outputs": [
    {
     "data": {
      "text/html": [
       "<style>\n",
       ".list-inline {list-style: none; margin:0; padding: 0}\n",
       ".list-inline>li {display: inline-block}\n",
       ".list-inline>li:not(:last-child)::after {content: \"\\00b7\"; padding: 0 .5ex}\n",
       "</style>\n",
       "<ol class=list-inline><li>'arm'</li><li>'leg'</li><li>'head'</li><li>'fOot'</li><li>'hand'</li><li>'hindleg'</li><li>'elbOw'</li></ol>\n"
      ],
      "text/latex": [
       "\\begin{enumerate*}\n",
       "\\item 'arm'\n",
       "\\item 'leg'\n",
       "\\item 'head'\n",
       "\\item 'fOot'\n",
       "\\item 'hand'\n",
       "\\item 'hindleg'\n",
       "\\item 'elbOw'\n",
       "\\end{enumerate*}\n"
      ],
      "text/markdown": [
       "1. 'arm'\n",
       "2. 'leg'\n",
       "3. 'head'\n",
       "4. 'fOot'\n",
       "5. 'hand'\n",
       "6. 'hindleg'\n",
       "7. 'elbOw'\n",
       "\n",
       "\n"
      ],
      "text/plain": [
       "[1] \"arm\"     \"leg\"     \"head\"    \"fOot\"    \"hand\"    \"hindleg\" \"elbOw\"  "
      ]
     },
     "metadata": {},
     "output_type": "display_data"
    }
   ],
   "source": [
    "sub('o', 'O', text) # 각 원소에서 첫 o는 O로 치환"
   ]
  },
  {
   "cell_type": "code",
   "execution_count": 95,
   "id": "e36e47ad-74b1-4268-a3f8-674064b3905e",
   "metadata": {},
   "outputs": [
    {
     "data": {
      "text/html": [
       "<style>\n",
       ".list-inline {list-style: none; margin:0; padding: 0}\n",
       ".list-inline>li {display: inline-block}\n",
       ".list-inline>li:not(:last-child)::after {content: \"\\00b7\"; padding: 0 .5ex}\n",
       "</style>\n",
       "<ol class=list-inline><li>'arm'</li><li>'leg'</li><li>'head'</li><li>'fOOt'</li><li>'hand'</li><li>'hindleg'</li><li>'elbOw'</li></ol>\n"
      ],
      "text/latex": [
       "\\begin{enumerate*}\n",
       "\\item 'arm'\n",
       "\\item 'leg'\n",
       "\\item 'head'\n",
       "\\item 'fOOt'\n",
       "\\item 'hand'\n",
       "\\item 'hindleg'\n",
       "\\item 'elbOw'\n",
       "\\end{enumerate*}\n"
      ],
      "text/markdown": [
       "1. 'arm'\n",
       "2. 'leg'\n",
       "3. 'head'\n",
       "4. 'fOOt'\n",
       "5. 'hand'\n",
       "6. 'hindleg'\n",
       "7. 'elbOw'\n",
       "\n",
       "\n"
      ],
      "text/plain": [
       "[1] \"arm\"     \"leg\"     \"head\"    \"fOOt\"    \"hand\"    \"hindleg\" \"elbOw\"  "
      ]
     },
     "metadata": {},
     "output_type": "display_data"
    }
   ],
   "source": [
    "gsub('o', 'O', text) # 각 원소에 모든 o는 O로 치환"
   ]
  },
  {
   "cell_type": "code",
   "execution_count": 99,
   "id": "5e03fb5b-b35a-4b67-bb62-1c682cfe6b39",
   "metadata": {},
   "outputs": [
    {
     "data": {
      "text/html": [
       "<style>\n",
       ".list-inline {list-style: none; margin:0; padding: 0}\n",
       ".list-inline>li {display: inline-block}\n",
       ".list-inline>li:not(:last-child)::after {content: \"\\00b7\"; padding: 0 .5ex}\n",
       "</style>\n",
       "<ol class=list-inline><li>'Orm'</li><li>'Oeg'</li><li>'Oead'</li><li>'Ooot'</li><li>'Oand'</li><li>'Oindleg'</li><li>'Olbow'</li></ol>\n"
      ],
      "text/latex": [
       "\\begin{enumerate*}\n",
       "\\item 'Orm'\n",
       "\\item 'Oeg'\n",
       "\\item 'Oead'\n",
       "\\item 'Ooot'\n",
       "\\item 'Oand'\n",
       "\\item 'Oindleg'\n",
       "\\item 'Olbow'\n",
       "\\end{enumerate*}\n"
      ],
      "text/markdown": [
       "1. 'Orm'\n",
       "2. 'Oeg'\n",
       "3. 'Oead'\n",
       "4. 'Ooot'\n",
       "5. 'Oand'\n",
       "6. 'Oindleg'\n",
       "7. 'Olbow'\n",
       "\n",
       "\n"
      ],
      "text/plain": [
       "[1] \"Orm\"     \"Oeg\"     \"Oead\"    \"Ooot\"    \"Oand\"    \"Oindleg\" \"Olbow\"  "
      ]
     },
     "metadata": {},
     "output_type": "display_data"
    }
   ],
   "source": [
    "gsub('^.', 'O', text) # 각 원소에서 첫 문자는 O로 치환"
   ]
  },
  {
   "cell_type": "markdown",
   "id": "67075a5f-5f9b-42e5-ac4f-d91bbee00d27",
   "metadata": {},
   "source": [
    "### 패턴이 나타나는 위치"
   ]
  },
  {
   "cell_type": "code",
   "execution_count": 100,
   "id": "e868fd35-d574-4b35-8d46-3c7d355f0d46",
   "metadata": {},
   "outputs": [
    {
     "data": {
      "text/html": [
       "<style>\n",
       ".list-inline {list-style: none; margin:0; padding: 0}\n",
       ".list-inline>li {display: inline-block}\n",
       ".list-inline>li:not(:last-child)::after {content: \"\\00b7\"; padding: 0 .5ex}\n",
       "</style>\n",
       "<ol class=list-inline><li>-1</li><li>-1</li><li>-1</li><li>2</li><li>-1</li><li>-1</li><li>4</li></ol>\n"
      ],
      "text/latex": [
       "\\begin{enumerate*}\n",
       "\\item -1\n",
       "\\item -1\n",
       "\\item -1\n",
       "\\item 2\n",
       "\\item -1\n",
       "\\item -1\n",
       "\\item 4\n",
       "\\end{enumerate*}\n"
      ],
      "text/markdown": [
       "1. -1\n",
       "2. -1\n",
       "3. -1\n",
       "4. 2\n",
       "5. -1\n",
       "6. -1\n",
       "7. 4\n",
       "\n",
       "\n"
      ],
      "text/plain": [
       "[1] -1 -1 -1  2 -1 -1  4\n",
       "attr(,\"match.length\")\n",
       "[1] -1 -1 -1  1 -1 -1  1\n",
       "attr(,\"index.type\")\n",
       "[1] \"chars\"\n",
       "attr(,\"useBytes\")\n",
       "[1] TRUE"
      ]
     },
     "metadata": {},
     "output_type": "display_data"
    }
   ],
   "source": [
    "regexpr('o', text) # 각 원소에서 o가 있는 위치, 없는 -1 반환"
   ]
  },
  {
   "cell_type": "code",
   "execution_count": 108,
   "id": "3762791b-a3bb-4b19-8e6c-368844225bbc",
   "metadata": {},
   "outputs": [
    {
     "data": {
      "text/html": [
       "<style>\n",
       ".list-inline {list-style: none; margin:0; padding: 0}\n",
       ".list-inline>li {display: inline-block}\n",
       ".list-inline>li:not(:last-child)::after {content: \"\\00b7\"; padding: 0 .5ex}\n",
       "</style>\n",
       "<ol class=list-inline><li>4</li><li>7</li></ol>\n"
      ],
      "text/latex": [
       "\\begin{enumerate*}\n",
       "\\item 4\n",
       "\\item 7\n",
       "\\end{enumerate*}\n"
      ],
      "text/markdown": [
       "1. 4\n",
       "2. 7\n",
       "\n",
       "\n"
      ],
      "text/plain": [
       "[1] 4 7"
      ]
     },
     "metadata": {},
     "output_type": "display_data"
    }
   ],
   "source": [
    "grep('o', text) # o가 있는 원소의 인덱스"
   ]
  },
  {
   "cell_type": "code",
   "execution_count": 109,
   "id": "5217fb6a-6947-468b-a3a2-3bdcba051332",
   "metadata": {},
   "outputs": [
    {
     "data": {
      "text/html": [
       "<style>\n",
       ".list-inline {list-style: none; margin:0; padding: 0}\n",
       ".list-inline>li {display: inline-block}\n",
       ".list-inline>li:not(:last-child)::after {content: \"\\00b7\"; padding: 0 .5ex}\n",
       "</style>\n",
       "<ol class=list-inline><li>'foot'</li><li>'elbow'</li></ol>\n"
      ],
      "text/latex": [
       "\\begin{enumerate*}\n",
       "\\item 'foot'\n",
       "\\item 'elbow'\n",
       "\\end{enumerate*}\n"
      ],
      "text/markdown": [
       "1. 'foot'\n",
       "2. 'elbow'\n",
       "\n",
       "\n"
      ],
      "text/plain": [
       "[1] \"foot\"  \"elbow\""
      ]
     },
     "metadata": {},
     "output_type": "display_data"
    }
   ],
   "source": [
    "text[grep('o', text)] # o가 있는 원소"
   ]
  },
  {
   "cell_type": "code",
   "execution_count": 110,
   "id": "f22b7b29-3230-4a43-b4e4-e71257371813",
   "metadata": {},
   "outputs": [
    {
     "data": {
      "text/html": [
       "<ol>\n",
       "\t<li><style>\n",
       ".list-inline {list-style: none; margin:0; padding: 0}\n",
       ".list-inline>li {display: inline-block}\n",
       ".list-inline>li:not(:last-child)::after {content: \"\\00b7\"; padding: 0 .5ex}\n",
       "</style>\n",
       "<ol class=list-inline><li>2</li><li>3</li></ol>\n",
       "</li>\n",
       "\t<li>4</li>\n",
       "</ol>\n"
      ],
      "text/latex": [
       "\\begin{enumerate}\n",
       "\\item \\begin{enumerate*}\n",
       "\\item 2\n",
       "\\item 3\n",
       "\\end{enumerate*}\n",
       "\n",
       "\\item 4\n",
       "\\end{enumerate}\n"
      ],
      "text/markdown": [
       "1. 1. 2\n",
       "2. 3\n",
       "\n",
       "\n",
       "\n",
       "2. 4\n",
       "\n",
       "\n"
      ],
      "text/plain": [
       "[[1]]\n",
       "[1] 2 3\n",
       "attr(,\"match.length\")\n",
       "[1] 1 1\n",
       "attr(,\"index.type\")\n",
       "[1] \"chars\"\n",
       "attr(,\"useBytes\")\n",
       "[1] TRUE\n",
       "\n",
       "[[2]]\n",
       "[1] 4\n",
       "attr(,\"match.length\")\n",
       "[1] 1\n",
       "attr(,\"index.type\")\n",
       "[1] \"chars\"\n",
       "attr(,\"useBytes\")\n",
       "[1] TRUE\n"
      ]
     },
     "metadata": {},
     "output_type": "display_data"
    }
   ],
   "source": [
    "gregexpr('o', c('foot', 'elbow')) # 각 원소에서 o가 있는 모든 위치"
   ]
  },
  {
   "cell_type": "code",
   "execution_count": 114,
   "id": "9ecebe2e-6e4d-4b54-9129-90353459452d",
   "metadata": {},
   "outputs": [],
   "source": [
    "freq <- unlist (lapply(gregexpr('o', text), length)) # 각 원소에 o가 몇 개 있는가?"
   ]
  },
  {
   "cell_type": "code",
   "execution_count": 112,
   "id": "bb4c0dba-c06f-41e0-b5c6-140e72da8c16",
   "metadata": {},
   "outputs": [
    {
     "data": {
      "text/html": [
       "<style>\n",
       ".list-inline {list-style: none; margin:0; padding: 0}\n",
       ".list-inline>li {display: inline-block}\n",
       ".list-inline>li:not(:last-child)::after {content: \"\\00b7\"; padding: 0 .5ex}\n",
       "</style>\n",
       "<ol class=list-inline><li>1</li><li>1</li><li>1</li><li>2</li><li>1</li><li>1</li><li>1</li></ol>\n"
      ],
      "text/latex": [
       "\\begin{enumerate*}\n",
       "\\item 1\n",
       "\\item 1\n",
       "\\item 1\n",
       "\\item 2\n",
       "\\item 1\n",
       "\\item 1\n",
       "\\item 1\n",
       "\\end{enumerate*}\n"
      ],
      "text/markdown": [
       "1. 1\n",
       "2. 1\n",
       "3. 1\n",
       "4. 2\n",
       "5. 1\n",
       "6. 1\n",
       "7. 1\n",
       "\n",
       "\n"
      ],
      "text/plain": [
       "[1] 1 1 1 2 1 1 1"
      ]
     },
     "metadata": {},
     "output_type": "display_data"
    }
   ],
   "source": [
    "freq"
   ]
  },
  {
   "cell_type": "code",
   "execution_count": 115,
   "id": "7e775fd9-99cd-4895-aa49-866cebffeef7",
   "metadata": {},
   "outputs": [],
   "source": [
    "present <- ifelse(regexpr('o', text) < 0, 0, 1) # o의 존재 여부"
   ]
  },
  {
   "cell_type": "code",
   "execution_count": 116,
   "id": "21cca721-b84d-47dc-8a02-ab6245709960",
   "metadata": {},
   "outputs": [
    {
     "data": {
      "text/html": [
       "<style>\n",
       ".list-inline {list-style: none; margin:0; padding: 0}\n",
       ".list-inline>li {display: inline-block}\n",
       ".list-inline>li:not(:last-child)::after {content: \"\\00b7\"; padding: 0 .5ex}\n",
       "</style>\n",
       "<ol class=list-inline><li>0</li><li>0</li><li>0</li><li>2</li><li>0</li><li>0</li><li>1</li></ol>\n"
      ],
      "text/latex": [
       "\\begin{enumerate*}\n",
       "\\item 0\n",
       "\\item 0\n",
       "\\item 0\n",
       "\\item 2\n",
       "\\item 0\n",
       "\\item 0\n",
       "\\item 1\n",
       "\\end{enumerate*}\n"
      ],
      "text/markdown": [
       "1. 0\n",
       "2. 0\n",
       "3. 0\n",
       "4. 2\n",
       "5. 0\n",
       "6. 0\n",
       "7. 1\n",
       "\n",
       "\n"
      ],
      "text/plain": [
       "[1] 0 0 0 2 0 0 1"
      ]
     },
     "metadata": {},
     "output_type": "display_data"
    }
   ],
   "source": [
    "freq * present"
   ]
  },
  {
   "cell_type": "markdown",
   "id": "b518c3ac-67af-49d2-9cf3-04792aee165c",
   "metadata": {},
   "source": [
    "## Ch.13 함수 작성"
   ]
  },
  {
   "cell_type": "markdown",
   "id": "015f7883-5dbb-4a36-8e31-c5bde476817b",
   "metadata": {},
   "source": [
    "### 복잡한 함수 예제"
   ]
  },
  {
   "cell_type": "code",
   "execution_count": 121,
   "id": "150455dd-4122-4bea-a168-0ca8663bc928",
   "metadata": {},
   "outputs": [
    {
     "data": {
      "image/png": "[encoded data removed]",
      "text/plain": [
       "plot without title"
      ]
     },
     "metadata": {
      "image/png": {
       "height": 420,
       "width": 420
      }
     },
     "output_type": "display_data"
    }
   ],
   "source": [
    "# 함수를 호출할 때 pc 값이 없으면 16, co 값이 없으면 red\n",
    "\n",
    "charplot <- function(x, y, pc=16, co='red') plot(y~x, pch=pc, col = co)\n",
    "\n",
    "par(mfrow=c(2,2)) # 패널에 2x2 그래프, 그래프 4개\n",
    "\n",
    "charplot(1:10, 1:10) # pc와 co 기본 값 사용\n",
    "charplot(1:10, 1:10, 17) # pc 값은 17\n",
    "charplot(1:10, 1:10, co = 'navy') # pc는 기본 값\n",
    "charplot(1:10, 1:10, 15, 'green') # pc는 15 co는 green\n",
    "\n",
    "par(mfrow=c(1,1)) # 패널에 그래프 하나로 되돌아감"
   ]
  },
  {
   "cell_type": "markdown",
   "id": "749b822d-a69c-4fb9-a479-8f8062ebaa04",
   "metadata": {},
   "source": [
    "### 함수 값 반환"
   ]
  },
  {
   "cell_type": "code",
   "execution_count": 123,
   "id": "c1b709a1-e72d-4611-a127-83b77c8b43bb",
   "metadata": {},
   "outputs": [],
   "source": [
    "parmax <- function (a,b) {\n",
    "  c <- pmax(a,b)    # pmax() 함수는 a와 b의 각 원소 쌍의 최댓값을 구한다\n",
    "  median(c)     # 중앙값 반환\n",
    "}"
   ]
  },
  {
   "cell_type": "code",
   "execution_count": 124,
   "id": "fc1bb21b-7709-4161-b71f-53ca145a0db6",
   "metadata": {},
   "outputs": [],
   "source": [
    "x <- c(1,9,2,8,3,7)\n",
    "y <- c(9,2,8,3,7,2)"
   ]
  },
  {
   "cell_type": "code",
   "execution_count": 127,
   "id": "da803696-c221-4545-8381-e1a36e480dc8",
   "metadata": {},
   "outputs": [
    {
     "data": {
      "text/html": [
       "<style>\n",
       ".list-inline {list-style: none; margin:0; padding: 0}\n",
       ".list-inline>li {display: inline-block}\n",
       ".list-inline>li:not(:last-child)::after {content: \"\\00b7\"; padding: 0 .5ex}\n",
       "</style>\n",
       "<ol class=list-inline><li>9</li><li>9</li><li>8</li><li>8</li><li>7</li><li>7</li></ol>\n"
      ],
      "text/latex": [
       "\\begin{enumerate*}\n",
       "\\item 9\n",
       "\\item 9\n",
       "\\item 8\n",
       "\\item 8\n",
       "\\item 7\n",
       "\\item 7\n",
       "\\end{enumerate*}\n"
      ],
      "text/markdown": [
       "1. 9\n",
       "2. 9\n",
       "3. 8\n",
       "4. 8\n",
       "5. 7\n",
       "6. 7\n",
       "\n",
       "\n"
      ],
      "text/plain": [
       "[1] 9 9 8 8 7 7"
      ]
     },
     "metadata": {},
     "output_type": "display_data"
    }
   ],
   "source": [
    "pmax(x,y) # 두 벡터의 상응하는 원소들 중 큰 값"
   ]
  },
  {
   "cell_type": "code",
   "execution_count": 126,
   "id": "7ef21265-6502-4961-8b47-b8996b0a3002",
   "metadata": {},
   "outputs": [
    {
     "data": {
      "text/html": [
       "8"
      ],
      "text/latex": [
       "8"
      ],
      "text/markdown": [
       "8"
      ],
      "text/plain": [
       "[1] 8"
      ]
     },
     "metadata": {},
     "output_type": "display_data"
    }
   ],
   "source": [
    "parmax(x,y)"
   ]
  },
  {
   "cell_type": "markdown",
   "id": "27502db6-9bbd-4280-8efc-3585f575e187",
   "metadata": {},
   "source": [
    "함수에서 두 개 이상의 객체를 반환할 때는 이들을 리스트 객체 하나로 만들어 반환해야 한다."
   ]
  },
  {
   "cell_type": "code",
   "execution_count": 128,
   "id": "1bf76a27-3585-4d5f-bbb0-80941371307a",
   "metadata": {},
   "outputs": [],
   "source": [
    "parboth <- function(a, b){\n",
    "    c <- pmax(a, b)\n",
    "    d <- pmin(a, b)\n",
    "    \n",
    "    answer <- list(median(c), median(d)) # 리스트 하나로 만든다\n",
    "    \n",
    "    names(answer)[[1]] <- \"median of the parallel maxima\"\n",
    "    names(answer)[[2]] <- \"median of the parallel minima\"\n",
    "    \n",
    "    return(answer)\n",
    "}\n"
   ]
  },
  {
   "cell_type": "code",
   "execution_count": 129,
   "id": "3183cd54-b0a1-4363-b2db-ff9d6b4b423d",
   "metadata": {},
   "outputs": [
    {
     "data": {
      "text/html": [
       "<dl>\n",
       "\t<dt>$`median of the parallel maxima`</dt>\n",
       "\t\t<dd>8</dd>\n",
       "\t<dt>$`median of the parallel minima`</dt>\n",
       "\t\t<dd>2</dd>\n",
       "</dl>\n"
      ],
      "text/latex": [
       "\\begin{description}\n",
       "\\item[\\$`median of the parallel maxima`] 8\n",
       "\\item[\\$`median of the parallel minima`] 2\n",
       "\\end{description}\n"
      ],
      "text/markdown": [
       "$`median of the parallel maxima`\n",
       ":   8\n",
       "$`median of the parallel minima`\n",
       ":   2\n",
       "\n",
       "\n"
      ],
      "text/plain": [
       "$`median of the parallel maxima`\n",
       "[1] 8\n",
       "\n",
       "$`median of the parallel minima`\n",
       "[1] 2\n"
      ]
     },
     "metadata": {},
     "output_type": "display_data"
    }
   ],
   "source": [
    "parboth(x,y)"
   ]
  },
  {
   "cell_type": "markdown",
   "id": "f29a3450-155a-4acf-aeee-a5c327a6cd99",
   "metadata": {},
   "source": [
    "## Ch 14. 데이터프레임"
   ]
  },
  {
   "cell_type": "code",
   "execution_count": 2,
   "id": "8b272c1b-a83d-4d5b-aa66-432b7304c3d2",
   "metadata": {},
   "outputs": [
    {
     "data": {
      "text/html": [
       "'C:/Users/woo/Desktop/Project/class_2022CA'"
      ],
      "text/latex": [
       "'C:/Users/woo/Desktop/Project/class\\_2022CA'"
      ],
      "text/markdown": [
       "'C:/Users/woo/Desktop/Project/class_2022CA'"
      ],
      "text/plain": [
       "[1] \"C:/Users/woo/Desktop/Project/class_2022CA\""
      ]
     },
     "metadata": {},
     "output_type": "display_data"
    }
   ],
   "source": [
    "getwd()"
   ]
  },
  {
   "cell_type": "code",
   "execution_count": 5,
   "id": "eafaac87-c54e-4027-954c-89dd6e4d1f13",
   "metadata": {},
   "outputs": [
    {
     "data": {
      "text/html": [
       "<table class=\"dataframe\">\n",
       "<caption>A data.frame: 6 × 7</caption>\n",
       "<thead>\n",
       "\t<tr><th></th><th scope=col>Field.Name</th><th scope=col>Area</th><th scope=col>Slope</th><th scope=col>Vegetation</th><th scope=col>Soil.pH</th><th scope=col>Damp</th><th scope=col>Worm.density</th></tr>\n",
       "\t<tr><th></th><th scope=col>&lt;chr&gt;</th><th scope=col>&lt;dbl&gt;</th><th scope=col>&lt;int&gt;</th><th scope=col>&lt;chr&gt;</th><th scope=col>&lt;dbl&gt;</th><th scope=col>&lt;lgl&gt;</th><th scope=col>&lt;int&gt;</th></tr>\n",
       "</thead>\n",
       "<tbody>\n",
       "\t<tr><th scope=row>1</th><td>Nashs.Field    </td><td>3.6</td><td>11</td><td>Grassland</td><td>4.1</td><td>FALSE</td><td>4</td></tr>\n",
       "\t<tr><th scope=row>2</th><td>Silwood.Bottom </td><td>5.1</td><td> 2</td><td>Arable   </td><td>5.2</td><td>FALSE</td><td>7</td></tr>\n",
       "\t<tr><th scope=row>3</th><td>Nursery.Field  </td><td>2.8</td><td> 3</td><td>Grassland</td><td>4.3</td><td>FALSE</td><td>2</td></tr>\n",
       "\t<tr><th scope=row>4</th><td>Rush.Meadow    </td><td>2.4</td><td> 5</td><td>Meadow   </td><td>4.9</td><td> TRUE</td><td>5</td></tr>\n",
       "\t<tr><th scope=row>5</th><td>Gunness.Thicket</td><td>3.8</td><td> 0</td><td>Scrub    </td><td>4.2</td><td>FALSE</td><td>6</td></tr>\n",
       "\t<tr><th scope=row>6</th><td>Oak.Mead       </td><td>3.1</td><td> 2</td><td>Grassland</td><td>3.9</td><td>FALSE</td><td>2</td></tr>\n",
       "</tbody>\n",
       "</table>\n"
      ],
      "text/latex": [
       "A data.frame: 6 × 7\n",
       "\\begin{tabular}{r|lllllll}\n",
       "  & Field.Name & Area & Slope & Vegetation & Soil.pH & Damp & Worm.density\\\\\n",
       "  & <chr> & <dbl> & <int> & <chr> & <dbl> & <lgl> & <int>\\\\\n",
       "\\hline\n",
       "\t1 & Nashs.Field     & 3.6 & 11 & Grassland & 4.1 & FALSE & 4\\\\\n",
       "\t2 & Silwood.Bottom  & 5.1 &  2 & Arable    & 5.2 & FALSE & 7\\\\\n",
       "\t3 & Nursery.Field   & 2.8 &  3 & Grassland & 4.3 & FALSE & 2\\\\\n",
       "\t4 & Rush.Meadow     & 2.4 &  5 & Meadow    & 4.9 &  TRUE & 5\\\\\n",
       "\t5 & Gunness.Thicket & 3.8 &  0 & Scrub     & 4.2 & FALSE & 6\\\\\n",
       "\t6 & Oak.Mead        & 3.1 &  2 & Grassland & 3.9 & FALSE & 2\\\\\n",
       "\\end{tabular}\n"
      ],
      "text/markdown": [
       "\n",
       "A data.frame: 6 × 7\n",
       "\n",
       "| <!--/--> | Field.Name &lt;chr&gt; | Area &lt;dbl&gt; | Slope &lt;int&gt; | Vegetation &lt;chr&gt; | Soil.pH &lt;dbl&gt; | Damp &lt;lgl&gt; | Worm.density &lt;int&gt; |\n",
       "|---|---|---|---|---|---|---|---|\n",
       "| 1 | Nashs.Field     | 3.6 | 11 | Grassland | 4.1 | FALSE | 4 |\n",
       "| 2 | Silwood.Bottom  | 5.1 |  2 | Arable    | 5.2 | FALSE | 7 |\n",
       "| 3 | Nursery.Field   | 2.8 |  3 | Grassland | 4.3 | FALSE | 2 |\n",
       "| 4 | Rush.Meadow     | 2.4 |  5 | Meadow    | 4.9 |  TRUE | 5 |\n",
       "| 5 | Gunness.Thicket | 3.8 |  0 | Scrub     | 4.2 | FALSE | 6 |\n",
       "| 6 | Oak.Mead        | 3.1 |  2 | Grassland | 3.9 | FALSE | 2 |\n",
       "\n"
      ],
      "text/plain": [
       "  Field.Name      Area Slope Vegetation Soil.pH Damp  Worm.density\n",
       "1 Nashs.Field     3.6  11    Grassland  4.1     FALSE 4           \n",
       "2 Silwood.Bottom  5.1   2    Arable     5.2     FALSE 7           \n",
       "3 Nursery.Field   2.8   3    Grassland  4.3     FALSE 2           \n",
       "4 Rush.Meadow     2.4   5    Meadow     4.9      TRUE 5           \n",
       "5 Gunness.Thicket 3.8   0    Scrub      4.2     FALSE 6           \n",
       "6 Oak.Mead        3.1   2    Grassland  3.9     FALSE 2           "
      ]
     },
     "metadata": {},
     "output_type": "display_data"
    }
   ],
   "source": [
    "worms = read.csv('data/worms.csv')\n",
    "head(worms)"
   ]
  },
  {
   "cell_type": "code",
   "execution_count": 6,
   "id": "24b9598c-9c52-432b-a626-56b0f01be262",
   "metadata": {},
   "outputs": [
    {
     "name": "stdout",
     "output_type": "stream",
     "text": [
      "'data.frame':\t20 obs. of  7 variables:\n",
      " $ Field.Name  : chr  \"Nashs.Field\" \"Silwood.Bottom\" \"Nursery.Field\" \"Rush.Meadow\" ...\n",
      " $ Area        : num  3.6 5.1 2.8 2.4 3.8 3.1 3.5 2.1 1.9 1.5 ...\n",
      " $ Slope       : int  11 2 3 5 0 2 3 0 0 4 ...\n",
      " $ Vegetation  : chr  \"Grassland\" \"Arable\" \"Grassland\" \"Meadow\" ...\n",
      " $ Soil.pH     : num  4.1 5.2 4.3 4.9 4.2 3.9 4.2 4.8 5.7 5 ...\n",
      " $ Damp        : logi  FALSE FALSE FALSE TRUE FALSE FALSE ...\n",
      " $ Worm.density: int  4 7 2 5 6 2 3 4 9 7 ...\n"
     ]
    }
   ],
   "source": [
    "str(worms)"
   ]
  },
  {
   "cell_type": "code",
   "execution_count": 7,
   "id": "3bb2fb6b-7a16-4a33-8030-564711ab29a0",
   "metadata": {},
   "outputs": [
    {
     "data": {
      "text/plain": [
       "  Field.Name             Area           Slope        Vegetation       \n",
       " Length:20          Min.   :0.800   Min.   : 0.00   Length:20         \n",
       " Class :character   1st Qu.:2.175   1st Qu.: 0.75   Class :character  \n",
       " Mode  :character   Median :3.000   Median : 2.00   Mode  :character  \n",
       "                    Mean   :2.990   Mean   : 3.50                     \n",
       "                    3rd Qu.:3.725   3rd Qu.: 5.25                     \n",
       "                    Max.   :5.100   Max.   :11.00                     \n",
       "    Soil.pH         Damp          Worm.density \n",
       " Min.   :3.500   Mode :logical   Min.   :0.00  \n",
       " 1st Qu.:4.100   FALSE:14        1st Qu.:2.00  \n",
       " Median :4.600   TRUE :6         Median :4.00  \n",
       " Mean   :4.555                   Mean   :4.35  \n",
       " 3rd Qu.:5.000                   3rd Qu.:6.25  \n",
       " Max.   :5.700                   Max.   :9.00  "
      ]
     },
     "metadata": {},
     "output_type": "display_data"
    }
   ],
   "source": [
    "summary(worms)"
   ]
  },
  {
   "cell_type": "code",
   "execution_count": 15,
   "id": "428151d6-9fcc-4bfc-833b-ec2d73f6f312",
   "metadata": {},
   "outputs": [
    {
     "data": {
      "text/html": [
       "0"
      ],
      "text/latex": [
       "0"
      ],
      "text/markdown": [
       "0"
      ],
      "text/plain": [
       "[1] 0"
      ]
     },
     "metadata": {},
     "output_type": "display_data"
    }
   ],
   "source": [
    "is.na(worms) %>% sum"
   ]
  },
  {
   "cell_type": "code",
   "execution_count": 17,
   "id": "c18e9b88-75ce-4cd7-b1d9-c495546f9e6b",
   "metadata": {},
   "outputs": [
    {
     "data": {
      "image/png": "[encoded data removed]",
      "text/plain": [
       "Plot with title \"Histogram of worms$Area\""
      ]
     },
     "metadata": {
      "image/png": {
       "height": 420,
       "width": 420
      }
     },
     "output_type": "display_data"
    }
   ],
   "source": [
    "par(mfrow = c(1,2))\n",
    "\n",
    "boxplot(worms$Area)\n",
    "hist(worms$Area)\n",
    "\n",
    "par(mfrow = c(1,2))"
   ]
  },
  {
   "cell_type": "markdown",
   "id": "3771db1b-ebb2-4e3b-8b10-d44f79cecc60",
   "metadata": {},
   "source": [
    "### 웹 사이트에서 데이터 읽기"
   ]
  },
  {
   "cell_type": "code",
   "execution_count": 18,
   "id": "7c18a713-fe13-4ef0-b80f-5f07b17305ec",
   "metadata": {},
   "outputs": [],
   "source": [
    "baseurl <- \"http://www.bio.ic.ac.uk/research/mjcraw/therbook/data/\""
   ]
  },
  {
   "cell_type": "code",
   "execution_count": 20,
   "id": "e38fd066-4d41-45b2-87b6-09180ae206da",
   "metadata": {},
   "outputs": [],
   "source": [
    "filename = 'worms.txt'"
   ]
  },
  {
   "cell_type": "code",
   "execution_count": 26,
   "id": "32aa37b0-5dc5-4b2a-b1c0-e51d0bbe5e12",
   "metadata": {},
   "outputs": [],
   "source": [
    "fileurl = paste(baseurl, filename, sep='')"
   ]
  },
  {
   "cell_type": "code",
   "execution_count": 5,
   "id": "7a44fb0f-7638-4a61-91da-0a3e2798d7d3",
   "metadata": {},
   "outputs": [],
   "source": [
    "worms = read.table(fileurl, header = TRUE)"
   ]
  },
  {
   "cell_type": "code",
   "execution_count": 6,
   "id": "73cea42d-8a7c-4684-af4a-4645f3253afa",
   "metadata": {},
   "outputs": [
    {
     "data": {
      "text/html": [
       "<table class=\"dataframe\">\n",
       "<caption>A data.frame: 6 × 7</caption>\n",
       "<thead>\n",
       "\t<tr><th></th><th scope=col>Field.Name</th><th scope=col>Area</th><th scope=col>Slope</th><th scope=col>Vegetation</th><th scope=col>Soil.pH</th><th scope=col>Damp</th><th scope=col>Worm.density</th></tr>\n",
       "\t<tr><th></th><th scope=col>&lt;chr&gt;</th><th scope=col>&lt;dbl&gt;</th><th scope=col>&lt;int&gt;</th><th scope=col>&lt;chr&gt;</th><th scope=col>&lt;dbl&gt;</th><th scope=col>&lt;lgl&gt;</th><th scope=col>&lt;int&gt;</th></tr>\n",
       "</thead>\n",
       "<tbody>\n",
       "\t<tr><th scope=row>1</th><td>Nashs.Field    </td><td>3.6</td><td>11</td><td>Grassland</td><td>4.1</td><td>FALSE</td><td>4</td></tr>\n",
       "\t<tr><th scope=row>2</th><td>Silwood.Bottom </td><td>5.1</td><td> 2</td><td>Arable   </td><td>5.2</td><td>FALSE</td><td>7</td></tr>\n",
       "\t<tr><th scope=row>3</th><td>Nursery.Field  </td><td>2.8</td><td> 3</td><td>Grassland</td><td>4.3</td><td>FALSE</td><td>2</td></tr>\n",
       "\t<tr><th scope=row>4</th><td>Rush.Meadow    </td><td>2.4</td><td> 5</td><td>Meadow   </td><td>4.9</td><td> TRUE</td><td>5</td></tr>\n",
       "\t<tr><th scope=row>5</th><td>Gunness.Thicket</td><td>3.8</td><td> 0</td><td>Scrub    </td><td>4.2</td><td>FALSE</td><td>6</td></tr>\n",
       "\t<tr><th scope=row>6</th><td>Oak.Mead       </td><td>3.1</td><td> 2</td><td>Grassland</td><td>3.9</td><td>FALSE</td><td>2</td></tr>\n",
       "</tbody>\n",
       "</table>\n"
      ],
      "text/latex": [
       "A data.frame: 6 × 7\n",
       "\\begin{tabular}{r|lllllll}\n",
       "  & Field.Name & Area & Slope & Vegetation & Soil.pH & Damp & Worm.density\\\\\n",
       "  & <chr> & <dbl> & <int> & <chr> & <dbl> & <lgl> & <int>\\\\\n",
       "\\hline\n",
       "\t1 & Nashs.Field     & 3.6 & 11 & Grassland & 4.1 & FALSE & 4\\\\\n",
       "\t2 & Silwood.Bottom  & 5.1 &  2 & Arable    & 5.2 & FALSE & 7\\\\\n",
       "\t3 & Nursery.Field   & 2.8 &  3 & Grassland & 4.3 & FALSE & 2\\\\\n",
       "\t4 & Rush.Meadow     & 2.4 &  5 & Meadow    & 4.9 &  TRUE & 5\\\\\n",
       "\t5 & Gunness.Thicket & 3.8 &  0 & Scrub     & 4.2 & FALSE & 6\\\\\n",
       "\t6 & Oak.Mead        & 3.1 &  2 & Grassland & 3.9 & FALSE & 2\\\\\n",
       "\\end{tabular}\n"
      ],
      "text/markdown": [
       "\n",
       "A data.frame: 6 × 7\n",
       "\n",
       "| <!--/--> | Field.Name &lt;chr&gt; | Area &lt;dbl&gt; | Slope &lt;int&gt; | Vegetation &lt;chr&gt; | Soil.pH &lt;dbl&gt; | Damp &lt;lgl&gt; | Worm.density &lt;int&gt; |\n",
       "|---|---|---|---|---|---|---|---|\n",
       "| 1 | Nashs.Field     | 3.6 | 11 | Grassland | 4.1 | FALSE | 4 |\n",
       "| 2 | Silwood.Bottom  | 5.1 |  2 | Arable    | 5.2 | FALSE | 7 |\n",
       "| 3 | Nursery.Field   | 2.8 |  3 | Grassland | 4.3 | FALSE | 2 |\n",
       "| 4 | Rush.Meadow     | 2.4 |  5 | Meadow    | 4.9 |  TRUE | 5 |\n",
       "| 5 | Gunness.Thicket | 3.8 |  0 | Scrub     | 4.2 | FALSE | 6 |\n",
       "| 6 | Oak.Mead        | 3.1 |  2 | Grassland | 3.9 | FALSE | 2 |\n",
       "\n"
      ],
      "text/plain": [
       "  Field.Name      Area Slope Vegetation Soil.pH Damp  Worm.density\n",
       "1 Nashs.Field     3.6  11    Grassland  4.1     FALSE 4           \n",
       "2 Silwood.Bottom  5.1   2    Arable     5.2     FALSE 7           \n",
       "3 Nursery.Field   2.8   3    Grassland  4.3     FALSE 2           \n",
       "4 Rush.Meadow     2.4   5    Meadow     4.9      TRUE 5           \n",
       "5 Gunness.Thicket 3.8   0    Scrub      4.2     FALSE 6           \n",
       "6 Oak.Mead        3.1   2    Grassland  3.9     FALSE 2           "
      ]
     },
     "metadata": {},
     "output_type": "display_data"
    }
   ],
   "source": [
    "head(worms)"
   ]
  },
  {
   "cell_type": "code",
   "execution_count": 7,
   "id": "318cb48b-f615-467b-8561-7a57710cca49",
   "metadata": {},
   "outputs": [
    {
     "data": {
      "text/html": [
       "4.3"
      ],
      "text/latex": [
       "4.3"
      ],
      "text/markdown": [
       "4.3"
      ],
      "text/plain": [
       "[1] 4.3"
      ]
     },
     "metadata": {},
     "output_type": "display_data"
    }
   ],
   "source": [
    "worms[3,5]"
   ]
  },
  {
   "cell_type": "code",
   "execution_count": 8,
   "id": "5ebe0d04-39d3-49d2-beb6-00456a4b3c60",
   "metadata": {},
   "outputs": [
    {
     "data": {
      "text/html": [
       "<style>\n",
       ".list-inline {list-style: none; margin:0; padding: 0}\n",
       ".list-inline>li {display: inline-block}\n",
       ".list-inline>li:not(:last-child)::after {content: \"\\00b7\"; padding: 0 .5ex}\n",
       "</style>\n",
       "<ol class=list-inline><li>0</li><li>6</li><li>8</li><li>4</li><li>5</li><li>1</li></ol>\n"
      ],
      "text/latex": [
       "\\begin{enumerate*}\n",
       "\\item 0\n",
       "\\item 6\n",
       "\\item 8\n",
       "\\item 4\n",
       "\\item 5\n",
       "\\item 1\n",
       "\\end{enumerate*}\n"
      ],
      "text/markdown": [
       "1. 0\n",
       "2. 6\n",
       "3. 8\n",
       "4. 4\n",
       "5. 5\n",
       "6. 1\n",
       "\n",
       "\n"
      ],
      "text/plain": [
       "[1] 0 6 8 4 5 1"
      ]
     },
     "metadata": {},
     "output_type": "display_data"
    }
   ],
   "source": [
    "worms[14:19, 7]"
   ]
  },
  {
   "cell_type": "code",
   "execution_count": 9,
   "id": "56a2f100-5378-4cad-8b3b-711ce553f03d",
   "metadata": {},
   "outputs": [
    {
     "data": {
      "text/html": [
       "<table class=\"dataframe\">\n",
       "<caption>A data.frame: 5 × 2</caption>\n",
       "<thead>\n",
       "\t<tr><th></th><th scope=col>Area</th><th scope=col>Slope</th></tr>\n",
       "\t<tr><th></th><th scope=col>&lt;dbl&gt;</th><th scope=col>&lt;int&gt;</th></tr>\n",
       "</thead>\n",
       "<tbody>\n",
       "\t<tr><th scope=row>1</th><td>3.6</td><td>11</td></tr>\n",
       "\t<tr><th scope=row>2</th><td>5.1</td><td> 2</td></tr>\n",
       "\t<tr><th scope=row>3</th><td>2.8</td><td> 3</td></tr>\n",
       "\t<tr><th scope=row>4</th><td>2.4</td><td> 5</td></tr>\n",
       "\t<tr><th scope=row>5</th><td>3.8</td><td> 0</td></tr>\n",
       "</tbody>\n",
       "</table>\n"
      ],
      "text/latex": [
       "A data.frame: 5 × 2\n",
       "\\begin{tabular}{r|ll}\n",
       "  & Area & Slope\\\\\n",
       "  & <dbl> & <int>\\\\\n",
       "\\hline\n",
       "\t1 & 3.6 & 11\\\\\n",
       "\t2 & 5.1 &  2\\\\\n",
       "\t3 & 2.8 &  3\\\\\n",
       "\t4 & 2.4 &  5\\\\\n",
       "\t5 & 3.8 &  0\\\\\n",
       "\\end{tabular}\n"
      ],
      "text/markdown": [
       "\n",
       "A data.frame: 5 × 2\n",
       "\n",
       "| <!--/--> | Area &lt;dbl&gt; | Slope &lt;int&gt; |\n",
       "|---|---|---|\n",
       "| 1 | 3.6 | 11 |\n",
       "| 2 | 5.1 |  2 |\n",
       "| 3 | 2.8 |  3 |\n",
       "| 4 | 2.4 |  5 |\n",
       "| 5 | 3.8 |  0 |\n",
       "\n"
      ],
      "text/plain": [
       "  Area Slope\n",
       "1 3.6  11   \n",
       "2 5.1   2   \n",
       "3 2.8   3   \n",
       "4 2.4   5   \n",
       "5 3.8   0   "
      ]
     },
     "metadata": {},
     "output_type": "display_data"
    }
   ],
   "source": [
    "worms[1:5, 2:3]"
   ]
  },
  {
   "cell_type": "code",
   "execution_count": 12,
   "id": "18029b11-d377-4036-9135-a07ed74fada4",
   "metadata": {},
   "outputs": [
    {
     "data": {
      "text/html": [
       "<table class=\"dataframe\">\n",
       "<caption>A data.frame: 3 × 3</caption>\n",
       "<thead>\n",
       "\t<tr><th></th><th scope=col>Area</th><th scope=col>Vegetation</th><th scope=col>Damp</th></tr>\n",
       "\t<tr><th></th><th scope=col>&lt;dbl&gt;</th><th scope=col>&lt;chr&gt;</th><th scope=col>&lt;lgl&gt;</th></tr>\n",
       "</thead>\n",
       "<tbody>\n",
       "\t<tr><th scope=row>1</th><td>3.6</td><td>Grassland</td><td>FALSE</td></tr>\n",
       "\t<tr><th scope=row>3</th><td>2.8</td><td>Grassland</td><td>FALSE</td></tr>\n",
       "\t<tr><th scope=row>5</th><td>3.8</td><td>Scrub    </td><td>FALSE</td></tr>\n",
       "</tbody>\n",
       "</table>\n"
      ],
      "text/latex": [
       "A data.frame: 3 × 3\n",
       "\\begin{tabular}{r|lll}\n",
       "  & Area & Vegetation & Damp\\\\\n",
       "  & <dbl> & <chr> & <lgl>\\\\\n",
       "\\hline\n",
       "\t1 & 3.6 & Grassland & FALSE\\\\\n",
       "\t3 & 2.8 & Grassland & FALSE\\\\\n",
       "\t5 & 3.8 & Scrub     & FALSE\\\\\n",
       "\\end{tabular}\n"
      ],
      "text/markdown": [
       "\n",
       "A data.frame: 3 × 3\n",
       "\n",
       "| <!--/--> | Area &lt;dbl&gt; | Vegetation &lt;chr&gt; | Damp &lt;lgl&gt; |\n",
       "|---|---|---|---|\n",
       "| 1 | 3.6 | Grassland | FALSE |\n",
       "| 3 | 2.8 | Grassland | FALSE |\n",
       "| 5 | 3.8 | Scrub     | FALSE |\n",
       "\n"
      ],
      "text/plain": [
       "  Area Vegetation Damp \n",
       "1 3.6  Grassland  FALSE\n",
       "3 2.8  Grassland  FALSE\n",
       "5 3.8  Scrub      FALSE"
      ]
     },
     "metadata": {},
     "output_type": "display_data"
    }
   ],
   "source": [
    "worms[c(1,3,5), c(2,4,6)]"
   ]
  },
  {
   "cell_type": "code",
   "execution_count": 13,
   "id": "b95dfc6d-357d-4661-a314-77a295c69f60",
   "metadata": {},
   "outputs": [
    {
     "data": {
      "text/html": [
       "<table class=\"dataframe\">\n",
       "<caption>A data.frame: 1 × 7</caption>\n",
       "<thead>\n",
       "\t<tr><th></th><th scope=col>Field.Name</th><th scope=col>Area</th><th scope=col>Slope</th><th scope=col>Vegetation</th><th scope=col>Soil.pH</th><th scope=col>Damp</th><th scope=col>Worm.density</th></tr>\n",
       "\t<tr><th></th><th scope=col>&lt;chr&gt;</th><th scope=col>&lt;dbl&gt;</th><th scope=col>&lt;int&gt;</th><th scope=col>&lt;chr&gt;</th><th scope=col>&lt;dbl&gt;</th><th scope=col>&lt;lgl&gt;</th><th scope=col>&lt;int&gt;</th></tr>\n",
       "</thead>\n",
       "<tbody>\n",
       "\t<tr><th scope=row>3</th><td>Nursery.Field</td><td>2.8</td><td>3</td><td>Grassland</td><td>4.3</td><td>FALSE</td><td>2</td></tr>\n",
       "</tbody>\n",
       "</table>\n"
      ],
      "text/latex": [
       "A data.frame: 1 × 7\n",
       "\\begin{tabular}{r|lllllll}\n",
       "  & Field.Name & Area & Slope & Vegetation & Soil.pH & Damp & Worm.density\\\\\n",
       "  & <chr> & <dbl> & <int> & <chr> & <dbl> & <lgl> & <int>\\\\\n",
       "\\hline\n",
       "\t3 & Nursery.Field & 2.8 & 3 & Grassland & 4.3 & FALSE & 2\\\\\n",
       "\\end{tabular}\n"
      ],
      "text/markdown": [
       "\n",
       "A data.frame: 1 × 7\n",
       "\n",
       "| <!--/--> | Field.Name &lt;chr&gt; | Area &lt;dbl&gt; | Slope &lt;int&gt; | Vegetation &lt;chr&gt; | Soil.pH &lt;dbl&gt; | Damp &lt;lgl&gt; | Worm.density &lt;int&gt; |\n",
       "|---|---|---|---|---|---|---|---|\n",
       "| 3 | Nursery.Field | 2.8 | 3 | Grassland | 4.3 | FALSE | 2 |\n",
       "\n"
      ],
      "text/plain": [
       "  Field.Name    Area Slope Vegetation Soil.pH Damp  Worm.density\n",
       "3 Nursery.Field 2.8  3     Grassland  4.3     FALSE 2           "
      ]
     },
     "metadata": {},
     "output_type": "display_data"
    }
   ],
   "source": [
    "worms[3, ]"
   ]
  },
  {
   "cell_type": "code",
   "execution_count": 11,
   "id": "e98052ef-0a4f-47f2-982a-f38333ef4ffe",
   "metadata": {},
   "outputs": [
    {
     "data": {
      "text/html": [
       "<style>\n",
       ".list-inline {list-style: none; margin:0; padding: 0}\n",
       ".list-inline>li {display: inline-block}\n",
       ".list-inline>li:not(:last-child)::after {content: \"\\00b7\"; padding: 0 .5ex}\n",
       "</style>\n",
       "<ol class=list-inline><li>11</li><li>2</li><li>3</li><li>5</li><li>0</li><li>2</li><li>3</li><li>0</li><li>0</li><li>4</li><li>10</li><li>1</li><li>2</li><li>6</li><li>0</li><li>0</li><li>8</li><li>2</li><li>1</li><li>10</li></ol>\n"
      ],
      "text/latex": [
       "\\begin{enumerate*}\n",
       "\\item 11\n",
       "\\item 2\n",
       "\\item 3\n",
       "\\item 5\n",
       "\\item 0\n",
       "\\item 2\n",
       "\\item 3\n",
       "\\item 0\n",
       "\\item 0\n",
       "\\item 4\n",
       "\\item 10\n",
       "\\item 1\n",
       "\\item 2\n",
       "\\item 6\n",
       "\\item 0\n",
       "\\item 0\n",
       "\\item 8\n",
       "\\item 2\n",
       "\\item 1\n",
       "\\item 10\n",
       "\\end{enumerate*}\n"
      ],
      "text/markdown": [
       "1. 11\n",
       "2. 2\n",
       "3. 3\n",
       "4. 5\n",
       "5. 0\n",
       "6. 2\n",
       "7. 3\n",
       "8. 0\n",
       "9. 0\n",
       "10. 4\n",
       "11. 10\n",
       "12. 1\n",
       "13. 2\n",
       "14. 6\n",
       "15. 0\n",
       "16. 0\n",
       "17. 8\n",
       "18. 2\n",
       "19. 1\n",
       "20. 10\n",
       "\n",
       "\n"
      ],
      "text/plain": [
       " [1] 11  2  3  5  0  2  3  0  0  4 10  1  2  6  0  0  8  2  1 10"
      ]
     },
     "metadata": {},
     "output_type": "display_data"
    }
   ],
   "source": [
    "worms[, 3]"
   ]
  },
  {
   "cell_type": "code",
   "execution_count": 15,
   "id": "e5d6e706-85c8-49a1-853d-7fadcab3e447",
   "metadata": {},
   "outputs": [
    {
     "data": {
      "text/html": [
       "'data.frame'"
      ],
      "text/latex": [
       "'data.frame'"
      ],
      "text/markdown": [
       "'data.frame'"
      ],
      "text/plain": [
       "[1] \"data.frame\""
      ]
     },
     "metadata": {},
     "output_type": "display_data"
    }
   ],
   "source": [
    "class(worms[3,])"
   ]
  },
  {
   "cell_type": "code",
   "execution_count": 16,
   "id": "02ce7c2a-6dc4-4601-9ce6-b346a0aa6a3c",
   "metadata": {},
   "outputs": [
    {
     "data": {
      "text/html": [
       "'integer'"
      ],
      "text/latex": [
       "'integer'"
      ],
      "text/markdown": [
       "'integer'"
      ],
      "text/plain": [
       "[1] \"integer\""
      ]
     },
     "metadata": {},
     "output_type": "display_data"
    }
   ],
   "source": [
    "class(worms[, 3])"
   ]
  },
  {
   "cell_type": "code",
   "execution_count": 33,
   "id": "090fc8cc-f57e-4081-8b8a-aef3fe750bbd",
   "metadata": {},
   "outputs": [
    {
     "data": {
      "text/html": [
       "<table class=\"dataframe\">\n",
       "<caption>A data.frame: 20 × 2</caption>\n",
       "<thead>\n",
       "\t<tr><th scope=col>Field.Name</th><th scope=col>Soil.pH</th></tr>\n",
       "\t<tr><th scope=col>&lt;chr&gt;</th><th scope=col>&lt;dbl&gt;</th></tr>\n",
       "</thead>\n",
       "<tbody>\n",
       "\t<tr><td>Nashs.Field      </td><td>4.1</td></tr>\n",
       "\t<tr><td>Silwood.Bottom   </td><td>5.2</td></tr>\n",
       "\t<tr><td>Nursery.Field    </td><td>4.3</td></tr>\n",
       "\t<tr><td>Rush.Meadow      </td><td>4.9</td></tr>\n",
       "\t<tr><td>Gunness.Thicket  </td><td>4.2</td></tr>\n",
       "\t<tr><td>Oak.Mead         </td><td>3.9</td></tr>\n",
       "\t<tr><td>Church.Field     </td><td>4.2</td></tr>\n",
       "\t<tr><td>Ashurst          </td><td>4.8</td></tr>\n",
       "\t<tr><td>The.Orchard      </td><td>5.7</td></tr>\n",
       "\t<tr><td>Rookery.Slope    </td><td>5.0</td></tr>\n",
       "\t<tr><td>Garden.Wood      </td><td>5.2</td></tr>\n",
       "\t<tr><td>North.Gravel     </td><td>4.1</td></tr>\n",
       "\t<tr><td>South.Gravel     </td><td>4.0</td></tr>\n",
       "\t<tr><td>Observatory.Ridge</td><td>3.8</td></tr>\n",
       "\t<tr><td>Pond.Field       </td><td>5.0</td></tr>\n",
       "\t<tr><td>Water.Meadow     </td><td>4.9</td></tr>\n",
       "\t<tr><td>Cheapside        </td><td>4.7</td></tr>\n",
       "\t<tr><td>Pound.Hill       </td><td>4.5</td></tr>\n",
       "\t<tr><td>Gravel.Pit       </td><td>3.5</td></tr>\n",
       "\t<tr><td>Farm.Wood        </td><td>5.1</td></tr>\n",
       "</tbody>\n",
       "</table>\n"
      ],
      "text/latex": [
       "A data.frame: 20 × 2\n",
       "\\begin{tabular}{ll}\n",
       " Field.Name & Soil.pH\\\\\n",
       " <chr> & <dbl>\\\\\n",
       "\\hline\n",
       "\t Nashs.Field       & 4.1\\\\\n",
       "\t Silwood.Bottom    & 5.2\\\\\n",
       "\t Nursery.Field     & 4.3\\\\\n",
       "\t Rush.Meadow       & 4.9\\\\\n",
       "\t Gunness.Thicket   & 4.2\\\\\n",
       "\t Oak.Mead          & 3.9\\\\\n",
       "\t Church.Field      & 4.2\\\\\n",
       "\t Ashurst           & 4.8\\\\\n",
       "\t The.Orchard       & 5.7\\\\\n",
       "\t Rookery.Slope     & 5.0\\\\\n",
       "\t Garden.Wood       & 5.2\\\\\n",
       "\t North.Gravel      & 4.1\\\\\n",
       "\t South.Gravel      & 4.0\\\\\n",
       "\t Observatory.Ridge & 3.8\\\\\n",
       "\t Pond.Field        & 5.0\\\\\n",
       "\t Water.Meadow      & 4.9\\\\\n",
       "\t Cheapside         & 4.7\\\\\n",
       "\t Pound.Hill        & 4.5\\\\\n",
       "\t Gravel.Pit        & 3.5\\\\\n",
       "\t Farm.Wood         & 5.1\\\\\n",
       "\\end{tabular}\n"
      ],
      "text/markdown": [
       "\n",
       "A data.frame: 20 × 2\n",
       "\n",
       "| Field.Name &lt;chr&gt; | Soil.pH &lt;dbl&gt; |\n",
       "|---|---|\n",
       "| Nashs.Field       | 4.1 |\n",
       "| Silwood.Bottom    | 5.2 |\n",
       "| Nursery.Field     | 4.3 |\n",
       "| Rush.Meadow       | 4.9 |\n",
       "| Gunness.Thicket   | 4.2 |\n",
       "| Oak.Mead          | 3.9 |\n",
       "| Church.Field      | 4.2 |\n",
       "| Ashurst           | 4.8 |\n",
       "| The.Orchard       | 5.7 |\n",
       "| Rookery.Slope     | 5.0 |\n",
       "| Garden.Wood       | 5.2 |\n",
       "| North.Gravel      | 4.1 |\n",
       "| South.Gravel      | 4.0 |\n",
       "| Observatory.Ridge | 3.8 |\n",
       "| Pond.Field        | 5.0 |\n",
       "| Water.Meadow      | 4.9 |\n",
       "| Cheapside         | 4.7 |\n",
       "| Pound.Hill        | 4.5 |\n",
       "| Gravel.Pit        | 3.5 |\n",
       "| Farm.Wood         | 5.1 |\n",
       "\n"
      ],
      "text/plain": [
       "   Field.Name        Soil.pH\n",
       "1  Nashs.Field       4.1    \n",
       "2  Silwood.Bottom    5.2    \n",
       "3  Nursery.Field     4.3    \n",
       "4  Rush.Meadow       4.9    \n",
       "5  Gunness.Thicket   4.2    \n",
       "6  Oak.Mead          3.9    \n",
       "7  Church.Field      4.2    \n",
       "8  Ashurst           4.8    \n",
       "9  The.Orchard       5.7    \n",
       "10 Rookery.Slope     5.0    \n",
       "11 Garden.Wood       5.2    \n",
       "12 North.Gravel      4.1    \n",
       "13 South.Gravel      4.0    \n",
       "14 Observatory.Ridge 3.8    \n",
       "15 Pond.Field        5.0    \n",
       "16 Water.Meadow      4.9    \n",
       "17 Cheapside         4.7    \n",
       "18 Pound.Hill        4.5    \n",
       "19 Gravel.Pit        3.5    \n",
       "20 Farm.Wood         5.1    "
      ]
     },
     "metadata": {},
     "output_type": "display_data"
    }
   ],
   "source": [
    "worms[, c(1,5)]"
   ]
  },
  {
   "cell_type": "code",
   "execution_count": 34,
   "id": "f4847ed1-d1db-4430-90a6-79422e0ad222",
   "metadata": {},
   "outputs": [
    {
     "data": {
      "text/html": [
       "<style>\n",
       ".list-inline {list-style: none; margin:0; padding: 0}\n",
       ".list-inline>li {display: inline-block}\n",
       ".list-inline>li:not(:last-child)::after {content: \"\\00b7\"; padding: 0 .5ex}\n",
       "</style>\n",
       "<ol class=list-inline><li>'Grassland'</li><li>'Arable'</li><li>'Grassland'</li><li>'Meadow'</li><li>'Scrub'</li><li>'Grassland'</li><li>'Grassland'</li><li>'Arable'</li><li>'Orchard'</li><li>'Grassland'</li><li>'Scrub'</li><li>'Grassland'</li><li>'Grassland'</li><li>'Grassland'</li><li>'Meadow'</li><li>'Meadow'</li><li>'Scrub'</li><li>'Arable'</li><li>'Grassland'</li><li>'Scrub'</li></ol>\n"
      ],
      "text/latex": [
       "\\begin{enumerate*}\n",
       "\\item 'Grassland'\n",
       "\\item 'Arable'\n",
       "\\item 'Grassland'\n",
       "\\item 'Meadow'\n",
       "\\item 'Scrub'\n",
       "\\item 'Grassland'\n",
       "\\item 'Grassland'\n",
       "\\item 'Arable'\n",
       "\\item 'Orchard'\n",
       "\\item 'Grassland'\n",
       "\\item 'Scrub'\n",
       "\\item 'Grassland'\n",
       "\\item 'Grassland'\n",
       "\\item 'Grassland'\n",
       "\\item 'Meadow'\n",
       "\\item 'Meadow'\n",
       "\\item 'Scrub'\n",
       "\\item 'Arable'\n",
       "\\item 'Grassland'\n",
       "\\item 'Scrub'\n",
       "\\end{enumerate*}\n"
      ],
      "text/markdown": [
       "1. 'Grassland'\n",
       "2. 'Arable'\n",
       "3. 'Grassland'\n",
       "4. 'Meadow'\n",
       "5. 'Scrub'\n",
       "6. 'Grassland'\n",
       "7. 'Grassland'\n",
       "8. 'Arable'\n",
       "9. 'Orchard'\n",
       "10. 'Grassland'\n",
       "11. 'Scrub'\n",
       "12. 'Grassland'\n",
       "13. 'Grassland'\n",
       "14. 'Grassland'\n",
       "15. 'Meadow'\n",
       "16. 'Meadow'\n",
       "17. 'Scrub'\n",
       "18. 'Arable'\n",
       "19. 'Grassland'\n",
       "20. 'Scrub'\n",
       "\n",
       "\n"
      ],
      "text/plain": [
       " [1] \"Grassland\" \"Arable\"    \"Grassland\" \"Meadow\"    \"Scrub\"     \"Grassland\"\n",
       " [7] \"Grassland\" \"Arable\"    \"Orchard\"   \"Grassland\" \"Scrub\"     \"Grassland\"\n",
       "[13] \"Grassland\" \"Grassland\" \"Meadow\"    \"Meadow\"    \"Scrub\"     \"Arable\"   \n",
       "[19] \"Grassland\" \"Scrub\"    "
      ]
     },
     "metadata": {},
     "output_type": "display_data"
    }
   ],
   "source": [
    "worms$Vegetation"
   ]
  },
  {
   "cell_type": "code",
   "execution_count": 26,
   "id": "418fab7c-7dd7-4bba-98f7-3b8c2169021e",
   "metadata": {},
   "outputs": [
    {
     "name": "stderr",
     "output_type": "stream",
     "text": [
      "Warning message in mean.default(X[[i]], ...):\n",
      "\"인자가 수치형 또는 논리형이 아니므로 NA를 반환합니다\"\n",
      "Warning message in mean.default(X[[i]], ...):\n",
      "\"인자가 수치형 또는 논리형이 아니므로 NA를 반환합니다\"\n",
      "Warning message in mean.default(X[[i]], ...):\n",
      "\"인자가 수치형 또는 논리형이 아니므로 NA를 반환합니다\"\n",
      "Warning message in mean.default(X[[i]], ...):\n",
      "\"인자가 수치형 또는 논리형이 아니므로 NA를 반환합니다\"\n",
      "Warning message in mean.default(X[[i]], ...):\n",
      "\"인자가 수치형 또는 논리형이 아니므로 NA를 반환합니다\"\n",
      "Warning message in mean.default(X[[i]], ...):\n",
      "\"인자가 수치형 또는 논리형이 아니므로 NA를 반환합니다\"\n",
      "Warning message in mean.default(X[[i]], ...):\n",
      "\"인자가 수치형 또는 논리형이 아니므로 NA를 반환합니다\"\n",
      "Warning message in mean.default(X[[i]], ...):\n",
      "\"인자가 수치형 또는 논리형이 아니므로 NA를 반환합니다\"\n",
      "Warning message in mean.default(X[[i]], ...):\n",
      "\"인자가 수치형 또는 논리형이 아니므로 NA를 반환합니다\"\n",
      "Warning message in mean.default(X[[i]], ...):\n",
      "\"인자가 수치형 또는 논리형이 아니므로 NA를 반환합니다\"\n"
     ]
    },
    {
     "data": {
      "text/html": [
       "<table class=\"dataframe\">\n",
       "<caption>A data.frame: 5 × 8</caption>\n",
       "<thead>\n",
       "\t<tr><th scope=col>Group.1</th><th scope=col>Field.Name</th><th scope=col>Area</th><th scope=col>Slope</th><th scope=col>Vegetation</th><th scope=col>Soil.pH</th><th scope=col>Damp</th><th scope=col>Worm.density</th></tr>\n",
       "\t<tr><th scope=col>&lt;chr&gt;</th><th scope=col>&lt;dbl&gt;</th><th scope=col>&lt;dbl&gt;</th><th scope=col>&lt;dbl&gt;</th><th scope=col>&lt;dbl&gt;</th><th scope=col>&lt;dbl&gt;</th><th scope=col>&lt;dbl&gt;</th><th scope=col>&lt;dbl&gt;</th></tr>\n",
       "</thead>\n",
       "<tbody>\n",
       "\t<tr><td>Arable   </td><td>NA</td><td>3.866667</td><td>1.333333</td><td>NA</td><td>4.833333</td><td>0.0000000</td><td>5.333333</td></tr>\n",
       "\t<tr><td>Grassland</td><td>NA</td><td>2.911111</td><td>3.666667</td><td>NA</td><td>4.100000</td><td>0.1111111</td><td>2.444444</td></tr>\n",
       "\t<tr><td>Meadow   </td><td>NA</td><td>3.466667</td><td>1.666667</td><td>NA</td><td>4.933333</td><td>1.0000000</td><td>6.333333</td></tr>\n",
       "\t<tr><td>Orchard  </td><td>NA</td><td>1.900000</td><td>0.000000</td><td>NA</td><td>5.700000</td><td>0.0000000</td><td>9.000000</td></tr>\n",
       "\t<tr><td>Scrub    </td><td>NA</td><td>2.425000</td><td>7.000000</td><td>NA</td><td>4.800000</td><td>0.5000000</td><td>5.250000</td></tr>\n",
       "</tbody>\n",
       "</table>\n"
      ],
      "text/latex": [
       "A data.frame: 5 × 8\n",
       "\\begin{tabular}{llllllll}\n",
       " Group.1 & Field.Name & Area & Slope & Vegetation & Soil.pH & Damp & Worm.density\\\\\n",
       " <chr> & <dbl> & <dbl> & <dbl> & <dbl> & <dbl> & <dbl> & <dbl>\\\\\n",
       "\\hline\n",
       "\t Arable    & NA & 3.866667 & 1.333333 & NA & 4.833333 & 0.0000000 & 5.333333\\\\\n",
       "\t Grassland & NA & 2.911111 & 3.666667 & NA & 4.100000 & 0.1111111 & 2.444444\\\\\n",
       "\t Meadow    & NA & 3.466667 & 1.666667 & NA & 4.933333 & 1.0000000 & 6.333333\\\\\n",
       "\t Orchard   & NA & 1.900000 & 0.000000 & NA & 5.700000 & 0.0000000 & 9.000000\\\\\n",
       "\t Scrub     & NA & 2.425000 & 7.000000 & NA & 4.800000 & 0.5000000 & 5.250000\\\\\n",
       "\\end{tabular}\n"
      ],
      "text/markdown": [
       "\n",
       "A data.frame: 5 × 8\n",
       "\n",
       "| Group.1 &lt;chr&gt; | Field.Name &lt;dbl&gt; | Area &lt;dbl&gt; | Slope &lt;dbl&gt; | Vegetation &lt;dbl&gt; | Soil.pH &lt;dbl&gt; | Damp &lt;dbl&gt; | Worm.density &lt;dbl&gt; |\n",
       "|---|---|---|---|---|---|---|---|\n",
       "| Arable    | NA | 3.866667 | 1.333333 | NA | 4.833333 | 0.0000000 | 5.333333 |\n",
       "| Grassland | NA | 2.911111 | 3.666667 | NA | 4.100000 | 0.1111111 | 2.444444 |\n",
       "| Meadow    | NA | 3.466667 | 1.666667 | NA | 4.933333 | 1.0000000 | 6.333333 |\n",
       "| Orchard   | NA | 1.900000 | 0.000000 | NA | 5.700000 | 0.0000000 | 9.000000 |\n",
       "| Scrub     | NA | 2.425000 | 7.000000 | NA | 4.800000 | 0.5000000 | 5.250000 |\n",
       "\n"
      ],
      "text/plain": [
       "  Group.1   Field.Name Area     Slope    Vegetation Soil.pH  Damp     \n",
       "1 Arable    NA         3.866667 1.333333 NA         4.833333 0.0000000\n",
       "2 Grassland NA         2.911111 3.666667 NA         4.100000 0.1111111\n",
       "3 Meadow    NA         3.466667 1.666667 NA         4.933333 1.0000000\n",
       "4 Orchard   NA         1.900000 0.000000 NA         5.700000 0.0000000\n",
       "5 Scrub     NA         2.425000 7.000000 NA         4.800000 0.5000000\n",
       "  Worm.density\n",
       "1 5.333333    \n",
       "2 2.444444    \n",
       "3 6.333333    \n",
       "4 9.000000    \n",
       "5 5.250000    "
      ]
     },
     "metadata": {},
     "output_type": "display_data"
    }
   ],
   "source": [
    "aggregate(worms, list(worms$Vegetation), mean)"
   ]
  },
  {
   "cell_type": "code",
   "execution_count": 43,
   "id": "fe637f7e-ac58-4259-8f55-6be1a93a1834",
   "metadata": {},
   "outputs": [
    {
     "data": {
      "text/html": [
       "<style>\n",
       ".list-inline {list-style: none; margin:0; padding: 0}\n",
       ".list-inline>li {display: inline-block}\n",
       ".list-inline>li:not(:last-child)::after {content: \"\\00b7\"; padding: 0 .5ex}\n",
       "</style>\n",
       "<ol class=list-inline><li>11</li><li>2</li><li>3</li><li>5</li><li>0</li><li>2</li><li>3</li><li>0</li><li>0</li><li>4</li><li>10</li><li>1</li><li>2</li><li>6</li><li>0</li><li>0</li><li>8</li><li>2</li><li>1</li><li>10</li></ol>\n"
      ],
      "text/latex": [
       "\\begin{enumerate*}\n",
       "\\item 11\n",
       "\\item 2\n",
       "\\item 3\n",
       "\\item 5\n",
       "\\item 0\n",
       "\\item 2\n",
       "\\item 3\n",
       "\\item 0\n",
       "\\item 0\n",
       "\\item 4\n",
       "\\item 10\n",
       "\\item 1\n",
       "\\item 2\n",
       "\\item 6\n",
       "\\item 0\n",
       "\\item 0\n",
       "\\item 8\n",
       "\\item 2\n",
       "\\item 1\n",
       "\\item 10\n",
       "\\end{enumerate*}\n"
      ],
      "text/markdown": [
       "1. 11\n",
       "2. 2\n",
       "3. 3\n",
       "4. 5\n",
       "5. 0\n",
       "6. 2\n",
       "7. 3\n",
       "8. 0\n",
       "9. 0\n",
       "10. 4\n",
       "11. 10\n",
       "12. 1\n",
       "13. 2\n",
       "14. 6\n",
       "15. 0\n",
       "16. 0\n",
       "17. 8\n",
       "18. 2\n",
       "19. 1\n",
       "20. 10\n",
       "\n",
       "\n"
      ],
      "text/plain": [
       " [1] 11  2  3  5  0  2  3  0  0  4 10  1  2  6  0  0  8  2  1 10"
      ]
     },
     "metadata": {},
     "output_type": "display_data"
    }
   ],
   "source": [
    "worms$Slope"
   ]
  },
  {
   "cell_type": "code",
   "execution_count": 44,
   "id": "18c03993-e436-4f55-a1b5-6c7bc8e56a94",
   "metadata": {},
   "outputs": [
    {
     "data": {
      "text/html": [
       "<style>\n",
       ".list-inline {list-style: none; margin:0; padding: 0}\n",
       ".list-inline>li {display: inline-block}\n",
       ".list-inline>li:not(:last-child)::after {content: \"\\00b7\"; padding: 0 .5ex}\n",
       "</style>\n",
       "<ol class=list-inline><li>5</li><li>8</li><li>9</li><li>15</li><li>16</li><li>12</li><li>19</li><li>2</li><li>6</li><li>13</li><li>18</li><li>3</li><li>7</li><li>10</li><li>4</li><li>14</li><li>17</li><li>11</li><li>20</li><li>1</li></ol>\n"
      ],
      "text/latex": [
       "\\begin{enumerate*}\n",
       "\\item 5\n",
       "\\item 8\n",
       "\\item 9\n",
       "\\item 15\n",
       "\\item 16\n",
       "\\item 12\n",
       "\\item 19\n",
       "\\item 2\n",
       "\\item 6\n",
       "\\item 13\n",
       "\\item 18\n",
       "\\item 3\n",
       "\\item 7\n",
       "\\item 10\n",
       "\\item 4\n",
       "\\item 14\n",
       "\\item 17\n",
       "\\item 11\n",
       "\\item 20\n",
       "\\item 1\n",
       "\\end{enumerate*}\n"
      ],
      "text/markdown": [
       "1. 5\n",
       "2. 8\n",
       "3. 9\n",
       "4. 15\n",
       "5. 16\n",
       "6. 12\n",
       "7. 19\n",
       "8. 2\n",
       "9. 6\n",
       "10. 13\n",
       "11. 18\n",
       "12. 3\n",
       "13. 7\n",
       "14. 10\n",
       "15. 4\n",
       "16. 14\n",
       "17. 17\n",
       "18. 11\n",
       "19. 20\n",
       "20. 1\n",
       "\n",
       "\n"
      ],
      "text/plain": [
       " [1]  5  8  9 15 16 12 19  2  6 13 18  3  7 10  4 14 17 11 20  1"
      ]
     },
     "metadata": {},
     "output_type": "display_data"
    }
   ],
   "source": [
    "order(worms$Slope)"
   ]
  },
  {
   "cell_type": "code",
   "execution_count": 50,
   "id": "27d0a8c6-e5b3-4a85-97aa-b7ec2740888b",
   "metadata": {},
   "outputs": [
    {
     "data": {
      "text/html": [
       "<table class=\"dataframe\">\n",
       "<caption>A data.frame: 6 × 7</caption>\n",
       "<thead>\n",
       "\t<tr><th></th><th scope=col>Field.Name</th><th scope=col>Area</th><th scope=col>Slope</th><th scope=col>Vegetation</th><th scope=col>Soil.pH</th><th scope=col>Damp</th><th scope=col>Worm.density</th></tr>\n",
       "\t<tr><th></th><th scope=col>&lt;chr&gt;</th><th scope=col>&lt;dbl&gt;</th><th scope=col>&lt;int&gt;</th><th scope=col>&lt;chr&gt;</th><th scope=col>&lt;dbl&gt;</th><th scope=col>&lt;lgl&gt;</th><th scope=col>&lt;int&gt;</th></tr>\n",
       "</thead>\n",
       "<tbody>\n",
       "\t<tr><th scope=row>5</th><td>Gunness.Thicket</td><td>3.8</td><td>0</td><td>Scrub    </td><td>4.2</td><td>FALSE</td><td>6</td></tr>\n",
       "\t<tr><th scope=row>8</th><td>Ashurst        </td><td>2.1</td><td>0</td><td>Arable   </td><td>4.8</td><td>FALSE</td><td>4</td></tr>\n",
       "\t<tr><th scope=row>9</th><td>The.Orchard    </td><td>1.9</td><td>0</td><td>Orchard  </td><td>5.7</td><td>FALSE</td><td>9</td></tr>\n",
       "\t<tr><th scope=row>15</th><td>Pond.Field     </td><td>4.1</td><td>0</td><td>Meadow   </td><td>5.0</td><td> TRUE</td><td>6</td></tr>\n",
       "\t<tr><th scope=row>16</th><td>Water.Meadow   </td><td>3.9</td><td>0</td><td>Meadow   </td><td>4.9</td><td> TRUE</td><td>8</td></tr>\n",
       "\t<tr><th scope=row>12</th><td>North.Gravel   </td><td>3.3</td><td>1</td><td>Grassland</td><td>4.1</td><td>FALSE</td><td>1</td></tr>\n",
       "</tbody>\n",
       "</table>\n"
      ],
      "text/latex": [
       "A data.frame: 6 × 7\n",
       "\\begin{tabular}{r|lllllll}\n",
       "  & Field.Name & Area & Slope & Vegetation & Soil.pH & Damp & Worm.density\\\\\n",
       "  & <chr> & <dbl> & <int> & <chr> & <dbl> & <lgl> & <int>\\\\\n",
       "\\hline\n",
       "\t5 & Gunness.Thicket & 3.8 & 0 & Scrub     & 4.2 & FALSE & 6\\\\\n",
       "\t8 & Ashurst         & 2.1 & 0 & Arable    & 4.8 & FALSE & 4\\\\\n",
       "\t9 & The.Orchard     & 1.9 & 0 & Orchard   & 5.7 & FALSE & 9\\\\\n",
       "\t15 & Pond.Field      & 4.1 & 0 & Meadow    & 5.0 &  TRUE & 6\\\\\n",
       "\t16 & Water.Meadow    & 3.9 & 0 & Meadow    & 4.9 &  TRUE & 8\\\\\n",
       "\t12 & North.Gravel    & 3.3 & 1 & Grassland & 4.1 & FALSE & 1\\\\\n",
       "\\end{tabular}\n"
      ],
      "text/markdown": [
       "\n",
       "A data.frame: 6 × 7\n",
       "\n",
       "| <!--/--> | Field.Name &lt;chr&gt; | Area &lt;dbl&gt; | Slope &lt;int&gt; | Vegetation &lt;chr&gt; | Soil.pH &lt;dbl&gt; | Damp &lt;lgl&gt; | Worm.density &lt;int&gt; |\n",
       "|---|---|---|---|---|---|---|---|\n",
       "| 5 | Gunness.Thicket | 3.8 | 0 | Scrub     | 4.2 | FALSE | 6 |\n",
       "| 8 | Ashurst         | 2.1 | 0 | Arable    | 4.8 | FALSE | 4 |\n",
       "| 9 | The.Orchard     | 1.9 | 0 | Orchard   | 5.7 | FALSE | 9 |\n",
       "| 15 | Pond.Field      | 4.1 | 0 | Meadow    | 5.0 |  TRUE | 6 |\n",
       "| 16 | Water.Meadow    | 3.9 | 0 | Meadow    | 4.9 |  TRUE | 8 |\n",
       "| 12 | North.Gravel    | 3.3 | 1 | Grassland | 4.1 | FALSE | 1 |\n",
       "\n"
      ],
      "text/plain": [
       "   Field.Name      Area Slope Vegetation Soil.pH Damp  Worm.density\n",
       "5  Gunness.Thicket 3.8  0     Scrub      4.2     FALSE 6           \n",
       "8  Ashurst         2.1  0     Arable     4.8     FALSE 4           \n",
       "9  The.Orchard     1.9  0     Orchard    5.7     FALSE 9           \n",
       "15 Pond.Field      4.1  0     Meadow     5.0      TRUE 6           \n",
       "16 Water.Meadow    3.9  0     Meadow     4.9      TRUE 8           \n",
       "12 North.Gravel    3.3  1     Grassland  4.1     FALSE 1           "
      ]
     },
     "metadata": {},
     "output_type": "display_data"
    }
   ],
   "source": [
    "worms[order(worms$Slope), ] %>% head()"
   ]
  },
  {
   "cell_type": "code",
   "execution_count": 52,
   "id": "3fa29b7a-1979-42cb-89eb-027988fb5a59",
   "metadata": {},
   "outputs": [
    {
     "data": {
      "text/html": [
       "<table class=\"dataframe\">\n",
       "<caption>A data.frame: 6 × 7</caption>\n",
       "<thead>\n",
       "\t<tr><th></th><th scope=col>Field.Name</th><th scope=col>Area</th><th scope=col>Slope</th><th scope=col>Vegetation</th><th scope=col>Soil.pH</th><th scope=col>Damp</th><th scope=col>Worm.density</th></tr>\n",
       "\t<tr><th></th><th scope=col>&lt;chr&gt;</th><th scope=col>&lt;dbl&gt;</th><th scope=col>&lt;int&gt;</th><th scope=col>&lt;chr&gt;</th><th scope=col>&lt;dbl&gt;</th><th scope=col>&lt;lgl&gt;</th><th scope=col>&lt;int&gt;</th></tr>\n",
       "</thead>\n",
       "<tbody>\n",
       "\t<tr><th scope=row>1</th><td>Nashs.Field      </td><td>3.6</td><td>11</td><td>Grassland</td><td>4.1</td><td>FALSE</td><td>4</td></tr>\n",
       "\t<tr><th scope=row>20</th><td>Farm.Wood        </td><td>0.8</td><td>10</td><td>Scrub    </td><td>5.1</td><td> TRUE</td><td>3</td></tr>\n",
       "\t<tr><th scope=row>11</th><td>Garden.Wood      </td><td>2.9</td><td>10</td><td>Scrub    </td><td>5.2</td><td>FALSE</td><td>8</td></tr>\n",
       "\t<tr><th scope=row>17</th><td>Cheapside        </td><td>2.2</td><td> 8</td><td>Scrub    </td><td>4.7</td><td> TRUE</td><td>4</td></tr>\n",
       "\t<tr><th scope=row>14</th><td>Observatory.Ridge</td><td>1.8</td><td> 6</td><td>Grassland</td><td>3.8</td><td>FALSE</td><td>0</td></tr>\n",
       "\t<tr><th scope=row>4</th><td>Rush.Meadow      </td><td>2.4</td><td> 5</td><td>Meadow   </td><td>4.9</td><td> TRUE</td><td>5</td></tr>\n",
       "</tbody>\n",
       "</table>\n"
      ],
      "text/latex": [
       "A data.frame: 6 × 7\n",
       "\\begin{tabular}{r|lllllll}\n",
       "  & Field.Name & Area & Slope & Vegetation & Soil.pH & Damp & Worm.density\\\\\n",
       "  & <chr> & <dbl> & <int> & <chr> & <dbl> & <lgl> & <int>\\\\\n",
       "\\hline\n",
       "\t1 & Nashs.Field       & 3.6 & 11 & Grassland & 4.1 & FALSE & 4\\\\\n",
       "\t20 & Farm.Wood         & 0.8 & 10 & Scrub     & 5.1 &  TRUE & 3\\\\\n",
       "\t11 & Garden.Wood       & 2.9 & 10 & Scrub     & 5.2 & FALSE & 8\\\\\n",
       "\t17 & Cheapside         & 2.2 &  8 & Scrub     & 4.7 &  TRUE & 4\\\\\n",
       "\t14 & Observatory.Ridge & 1.8 &  6 & Grassland & 3.8 & FALSE & 0\\\\\n",
       "\t4 & Rush.Meadow       & 2.4 &  5 & Meadow    & 4.9 &  TRUE & 5\\\\\n",
       "\\end{tabular}\n"
      ],
      "text/markdown": [
       "\n",
       "A data.frame: 6 × 7\n",
       "\n",
       "| <!--/--> | Field.Name &lt;chr&gt; | Area &lt;dbl&gt; | Slope &lt;int&gt; | Vegetation &lt;chr&gt; | Soil.pH &lt;dbl&gt; | Damp &lt;lgl&gt; | Worm.density &lt;int&gt; |\n",
       "|---|---|---|---|---|---|---|---|\n",
       "| 1 | Nashs.Field       | 3.6 | 11 | Grassland | 4.1 | FALSE | 4 |\n",
       "| 20 | Farm.Wood         | 0.8 | 10 | Scrub     | 5.1 |  TRUE | 3 |\n",
       "| 11 | Garden.Wood       | 2.9 | 10 | Scrub     | 5.2 | FALSE | 8 |\n",
       "| 17 | Cheapside         | 2.2 |  8 | Scrub     | 4.7 |  TRUE | 4 |\n",
       "| 14 | Observatory.Ridge | 1.8 |  6 | Grassland | 3.8 | FALSE | 0 |\n",
       "| 4 | Rush.Meadow       | 2.4 |  5 | Meadow    | 4.9 |  TRUE | 5 |\n",
       "\n"
      ],
      "text/plain": [
       "   Field.Name        Area Slope Vegetation Soil.pH Damp  Worm.density\n",
       "1  Nashs.Field       3.6  11    Grassland  4.1     FALSE 4           \n",
       "20 Farm.Wood         0.8  10    Scrub      5.1      TRUE 3           \n",
       "11 Garden.Wood       2.9  10    Scrub      5.2     FALSE 8           \n",
       "17 Cheapside         2.2   8    Scrub      4.7      TRUE 4           \n",
       "14 Observatory.Ridge 1.8   6    Grassland  3.8     FALSE 0           \n",
       "4  Rush.Meadow       2.4   5    Meadow     4.9      TRUE 5           "
      ]
     },
     "metadata": {},
     "output_type": "display_data"
    }
   ],
   "source": [
    "worms[rev(order(worms$Slope)), ] %>% head()"
   ]
  },
  {
   "cell_type": "code",
   "execution_count": 55,
   "id": "a542843c-ab3d-4682-9c97-f5ea86e95347",
   "metadata": {},
   "outputs": [
    {
     "data": {
      "text/html": [
       "<table class=\"dataframe\">\n",
       "<caption>A data.frame: 6 × 7</caption>\n",
       "<thead>\n",
       "\t<tr><th></th><th scope=col>Field.Name</th><th scope=col>Area</th><th scope=col>Slope</th><th scope=col>Vegetation</th><th scope=col>Soil.pH</th><th scope=col>Damp</th><th scope=col>Worm.density</th></tr>\n",
       "\t<tr><th></th><th scope=col>&lt;chr&gt;</th><th scope=col>&lt;dbl&gt;</th><th scope=col>&lt;int&gt;</th><th scope=col>&lt;chr&gt;</th><th scope=col>&lt;dbl&gt;</th><th scope=col>&lt;lgl&gt;</th><th scope=col>&lt;int&gt;</th></tr>\n",
       "</thead>\n",
       "<tbody>\n",
       "\t<tr><th scope=row>8</th><td>Ashurst          </td><td>2.1</td><td>0</td><td>Arable   </td><td>4.8</td><td>FALSE</td><td>4</td></tr>\n",
       "\t<tr><th scope=row>18</th><td>Pound.Hill       </td><td>4.4</td><td>2</td><td>Arable   </td><td>4.5</td><td>FALSE</td><td>5</td></tr>\n",
       "\t<tr><th scope=row>2</th><td>Silwood.Bottom   </td><td>5.1</td><td>2</td><td>Arable   </td><td>5.2</td><td>FALSE</td><td>7</td></tr>\n",
       "\t<tr><th scope=row>14</th><td>Observatory.Ridge</td><td>1.8</td><td>6</td><td>Grassland</td><td>3.8</td><td>FALSE</td><td>0</td></tr>\n",
       "\t<tr><th scope=row>12</th><td>North.Gravel     </td><td>3.3</td><td>1</td><td>Grassland</td><td>4.1</td><td>FALSE</td><td>1</td></tr>\n",
       "\t<tr><th scope=row>19</th><td>Gravel.Pit       </td><td>2.9</td><td>1</td><td>Grassland</td><td>3.5</td><td>FALSE</td><td>1</td></tr>\n",
       "</tbody>\n",
       "</table>\n"
      ],
      "text/latex": [
       "A data.frame: 6 × 7\n",
       "\\begin{tabular}{r|lllllll}\n",
       "  & Field.Name & Area & Slope & Vegetation & Soil.pH & Damp & Worm.density\\\\\n",
       "  & <chr> & <dbl> & <int> & <chr> & <dbl> & <lgl> & <int>\\\\\n",
       "\\hline\n",
       "\t8 & Ashurst           & 2.1 & 0 & Arable    & 4.8 & FALSE & 4\\\\\n",
       "\t18 & Pound.Hill        & 4.4 & 2 & Arable    & 4.5 & FALSE & 5\\\\\n",
       "\t2 & Silwood.Bottom    & 5.1 & 2 & Arable    & 5.2 & FALSE & 7\\\\\n",
       "\t14 & Observatory.Ridge & 1.8 & 6 & Grassland & 3.8 & FALSE & 0\\\\\n",
       "\t12 & North.Gravel      & 3.3 & 1 & Grassland & 4.1 & FALSE & 1\\\\\n",
       "\t19 & Gravel.Pit        & 2.9 & 1 & Grassland & 3.5 & FALSE & 1\\\\\n",
       "\\end{tabular}\n"
      ],
      "text/markdown": [
       "\n",
       "A data.frame: 6 × 7\n",
       "\n",
       "| <!--/--> | Field.Name &lt;chr&gt; | Area &lt;dbl&gt; | Slope &lt;int&gt; | Vegetation &lt;chr&gt; | Soil.pH &lt;dbl&gt; | Damp &lt;lgl&gt; | Worm.density &lt;int&gt; |\n",
       "|---|---|---|---|---|---|---|---|\n",
       "| 8 | Ashurst           | 2.1 | 0 | Arable    | 4.8 | FALSE | 4 |\n",
       "| 18 | Pound.Hill        | 4.4 | 2 | Arable    | 4.5 | FALSE | 5 |\n",
       "| 2 | Silwood.Bottom    | 5.1 | 2 | Arable    | 5.2 | FALSE | 7 |\n",
       "| 14 | Observatory.Ridge | 1.8 | 6 | Grassland | 3.8 | FALSE | 0 |\n",
       "| 12 | North.Gravel      | 3.3 | 1 | Grassland | 4.1 | FALSE | 1 |\n",
       "| 19 | Gravel.Pit        | 2.9 | 1 | Grassland | 3.5 | FALSE | 1 |\n",
       "\n"
      ],
      "text/plain": [
       "   Field.Name        Area Slope Vegetation Soil.pH Damp  Worm.density\n",
       "8  Ashurst           2.1  0     Arable     4.8     FALSE 4           \n",
       "18 Pound.Hill        4.4  2     Arable     4.5     FALSE 5           \n",
       "2  Silwood.Bottom    5.1  2     Arable     5.2     FALSE 7           \n",
       "14 Observatory.Ridge 1.8  6     Grassland  3.8     FALSE 0           \n",
       "12 North.Gravel      3.3  1     Grassland  4.1     FALSE 1           \n",
       "19 Gravel.Pit        2.9  1     Grassland  3.5     FALSE 1           "
      ]
     },
     "metadata": {},
     "output_type": "display_data"
    }
   ],
   "source": [
    "# Vegetation 오름차순 정렬 후 Worm, density 오름차순 정렬\n",
    "\n",
    "worms[order(worms$Vegetation, worms$Worm.density), ] %>% head"
   ]
  },
  {
   "cell_type": "code",
   "execution_count": 56,
   "id": "d9696ea3-14e5-4351-a919-91f0ac144cd1",
   "metadata": {},
   "outputs": [],
   "source": [
    "df <- worms[order(worms$Vegetation, worms$Worm.density), c(4,7,5,3)]"
   ]
  },
  {
   "cell_type": "code",
   "execution_count": 58,
   "id": "83a0645a-9168-4fa7-a894-945d93a1abde",
   "metadata": {},
   "outputs": [
    {
     "data": {
      "text/html": [
       "<table class=\"dataframe\">\n",
       "<caption>A data.frame: 6 × 4</caption>\n",
       "<thead>\n",
       "\t<tr><th></th><th scope=col>Vegetation</th><th scope=col>Worm.density</th><th scope=col>Soil.pH</th><th scope=col>Slope</th></tr>\n",
       "\t<tr><th></th><th scope=col>&lt;chr&gt;</th><th scope=col>&lt;int&gt;</th><th scope=col>&lt;dbl&gt;</th><th scope=col>&lt;int&gt;</th></tr>\n",
       "</thead>\n",
       "<tbody>\n",
       "\t<tr><th scope=row>8</th><td>Arable   </td><td>4</td><td>4.8</td><td>0</td></tr>\n",
       "\t<tr><th scope=row>18</th><td>Arable   </td><td>5</td><td>4.5</td><td>2</td></tr>\n",
       "\t<tr><th scope=row>2</th><td>Arable   </td><td>7</td><td>5.2</td><td>2</td></tr>\n",
       "\t<tr><th scope=row>14</th><td>Grassland</td><td>0</td><td>3.8</td><td>6</td></tr>\n",
       "\t<tr><th scope=row>12</th><td>Grassland</td><td>1</td><td>4.1</td><td>1</td></tr>\n",
       "\t<tr><th scope=row>19</th><td>Grassland</td><td>1</td><td>3.5</td><td>1</td></tr>\n",
       "</tbody>\n",
       "</table>\n"
      ],
      "text/latex": [
       "A data.frame: 6 × 4\n",
       "\\begin{tabular}{r|llll}\n",
       "  & Vegetation & Worm.density & Soil.pH & Slope\\\\\n",
       "  & <chr> & <int> & <dbl> & <int>\\\\\n",
       "\\hline\n",
       "\t8 & Arable    & 4 & 4.8 & 0\\\\\n",
       "\t18 & Arable    & 5 & 4.5 & 2\\\\\n",
       "\t2 & Arable    & 7 & 5.2 & 2\\\\\n",
       "\t14 & Grassland & 0 & 3.8 & 6\\\\\n",
       "\t12 & Grassland & 1 & 4.1 & 1\\\\\n",
       "\t19 & Grassland & 1 & 3.5 & 1\\\\\n",
       "\\end{tabular}\n"
      ],
      "text/markdown": [
       "\n",
       "A data.frame: 6 × 4\n",
       "\n",
       "| <!--/--> | Vegetation &lt;chr&gt; | Worm.density &lt;int&gt; | Soil.pH &lt;dbl&gt; | Slope &lt;int&gt; |\n",
       "|---|---|---|---|---|\n",
       "| 8 | Arable    | 4 | 4.8 | 0 |\n",
       "| 18 | Arable    | 5 | 4.5 | 2 |\n",
       "| 2 | Arable    | 7 | 5.2 | 2 |\n",
       "| 14 | Grassland | 0 | 3.8 | 6 |\n",
       "| 12 | Grassland | 1 | 4.1 | 1 |\n",
       "| 19 | Grassland | 1 | 3.5 | 1 |\n",
       "\n"
      ],
      "text/plain": [
       "   Vegetation Worm.density Soil.pH Slope\n",
       "8  Arable     4            4.8     0    \n",
       "18 Arable     5            4.5     2    \n",
       "2  Arable     7            5.2     2    \n",
       "14 Grassland  0            3.8     6    \n",
       "12 Grassland  1            4.1     1    \n",
       "19 Grassland  1            3.5     1    "
      ]
     },
     "metadata": {},
     "output_type": "display_data"
    }
   ],
   "source": [
    "df %>% head"
   ]
  },
  {
   "cell_type": "markdown",
   "id": "b933eda2-d7b9-4b12-950c-873afd6625d8",
   "metadata": {},
   "source": [
    "### 데이터프레임에서 일부 행 추출"
   ]
  },
  {
   "cell_type": "code",
   "execution_count": 28,
   "id": "09213b4a-373b-4bfe-91b8-c251601a570f",
   "metadata": {},
   "outputs": [
    {
     "data": {
      "text/html": [
       "<table class=\"dataframe\">\n",
       "<caption>A data.frame: 6 × 7</caption>\n",
       "<thead>\n",
       "\t<tr><th></th><th scope=col>Field.Name</th><th scope=col>Area</th><th scope=col>Slope</th><th scope=col>Vegetation</th><th scope=col>Soil.pH</th><th scope=col>Damp</th><th scope=col>Worm.density</th></tr>\n",
       "\t<tr><th></th><th scope=col>&lt;chr&gt;</th><th scope=col>&lt;dbl&gt;</th><th scope=col>&lt;int&gt;</th><th scope=col>&lt;chr&gt;</th><th scope=col>&lt;dbl&gt;</th><th scope=col>&lt;lgl&gt;</th><th scope=col>&lt;int&gt;</th></tr>\n",
       "</thead>\n",
       "<tbody>\n",
       "\t<tr><th scope=row>4</th><td>Rush.Meadow  </td><td>2.4</td><td> 5</td><td>Meadow   </td><td>4.9</td><td>TRUE</td><td>5</td></tr>\n",
       "\t<tr><th scope=row>10</th><td>Rookery.Slope</td><td>1.5</td><td> 4</td><td>Grassland</td><td>5.0</td><td>TRUE</td><td>7</td></tr>\n",
       "\t<tr><th scope=row>15</th><td>Pond.Field   </td><td>4.1</td><td> 0</td><td>Meadow   </td><td>5.0</td><td>TRUE</td><td>6</td></tr>\n",
       "\t<tr><th scope=row>16</th><td>Water.Meadow </td><td>3.9</td><td> 0</td><td>Meadow   </td><td>4.9</td><td>TRUE</td><td>8</td></tr>\n",
       "\t<tr><th scope=row>17</th><td>Cheapside    </td><td>2.2</td><td> 8</td><td>Scrub    </td><td>4.7</td><td>TRUE</td><td>4</td></tr>\n",
       "\t<tr><th scope=row>20</th><td>Farm.Wood    </td><td>0.8</td><td>10</td><td>Scrub    </td><td>5.1</td><td>TRUE</td><td>3</td></tr>\n",
       "</tbody>\n",
       "</table>\n"
      ],
      "text/latex": [
       "A data.frame: 6 × 7\n",
       "\\begin{tabular}{r|lllllll}\n",
       "  & Field.Name & Area & Slope & Vegetation & Soil.pH & Damp & Worm.density\\\\\n",
       "  & <chr> & <dbl> & <int> & <chr> & <dbl> & <lgl> & <int>\\\\\n",
       "\\hline\n",
       "\t4 & Rush.Meadow   & 2.4 &  5 & Meadow    & 4.9 & TRUE & 5\\\\\n",
       "\t10 & Rookery.Slope & 1.5 &  4 & Grassland & 5.0 & TRUE & 7\\\\\n",
       "\t15 & Pond.Field    & 4.1 &  0 & Meadow    & 5.0 & TRUE & 6\\\\\n",
       "\t16 & Water.Meadow  & 3.9 &  0 & Meadow    & 4.9 & TRUE & 8\\\\\n",
       "\t17 & Cheapside     & 2.2 &  8 & Scrub     & 4.7 & TRUE & 4\\\\\n",
       "\t20 & Farm.Wood     & 0.8 & 10 & Scrub     & 5.1 & TRUE & 3\\\\\n",
       "\\end{tabular}\n"
      ],
      "text/markdown": [
       "\n",
       "A data.frame: 6 × 7\n",
       "\n",
       "| <!--/--> | Field.Name &lt;chr&gt; | Area &lt;dbl&gt; | Slope &lt;int&gt; | Vegetation &lt;chr&gt; | Soil.pH &lt;dbl&gt; | Damp &lt;lgl&gt; | Worm.density &lt;int&gt; |\n",
       "|---|---|---|---|---|---|---|---|\n",
       "| 4 | Rush.Meadow   | 2.4 |  5 | Meadow    | 4.9 | TRUE | 5 |\n",
       "| 10 | Rookery.Slope | 1.5 |  4 | Grassland | 5.0 | TRUE | 7 |\n",
       "| 15 | Pond.Field    | 4.1 |  0 | Meadow    | 5.0 | TRUE | 6 |\n",
       "| 16 | Water.Meadow  | 3.9 |  0 | Meadow    | 4.9 | TRUE | 8 |\n",
       "| 17 | Cheapside     | 2.2 |  8 | Scrub     | 4.7 | TRUE | 4 |\n",
       "| 20 | Farm.Wood     | 0.8 | 10 | Scrub     | 5.1 | TRUE | 3 |\n",
       "\n"
      ],
      "text/plain": [
       "   Field.Name    Area Slope Vegetation Soil.pH Damp Worm.density\n",
       "4  Rush.Meadow   2.4   5    Meadow     4.9     TRUE 5           \n",
       "10 Rookery.Slope 1.5   4    Grassland  5.0     TRUE 7           \n",
       "15 Pond.Field    4.1   0    Meadow     5.0     TRUE 6           \n",
       "16 Water.Meadow  3.9   0    Meadow     4.9     TRUE 8           \n",
       "17 Cheapside     2.2   8    Scrub      4.7     TRUE 4           \n",
       "20 Farm.Wood     0.8  10    Scrub      5.1     TRUE 3           "
      ]
     },
     "metadata": {},
     "output_type": "display_data"
    }
   ],
   "source": [
    "worms[worms$Damp == TRUE, ]"
   ]
  },
  {
   "cell_type": "code",
   "execution_count": 32,
   "id": "e1272bc7-9d80-4850-8360-81bb18982872",
   "metadata": {},
   "outputs": [
    {
     "data": {
      "text/html": [
       "<table class=\"dataframe\">\n",
       "<caption>A data.frame: 6 × 7</caption>\n",
       "<thead>\n",
       "\t<tr><th></th><th scope=col>Field.Name</th><th scope=col>Area</th><th scope=col>Slope</th><th scope=col>Vegetation</th><th scope=col>Soil.pH</th><th scope=col>Damp</th><th scope=col>Worm.density</th></tr>\n",
       "\t<tr><th></th><th scope=col>&lt;chr&gt;</th><th scope=col>&lt;dbl&gt;</th><th scope=col>&lt;int&gt;</th><th scope=col>&lt;chr&gt;</th><th scope=col>&lt;dbl&gt;</th><th scope=col>&lt;lgl&gt;</th><th scope=col>&lt;int&gt;</th></tr>\n",
       "</thead>\n",
       "<tbody>\n",
       "\t<tr><th scope=row>4</th><td>Rush.Meadow    </td><td>2.4</td><td>5</td><td>Meadow   </td><td>4.9</td><td> TRUE</td><td>5</td></tr>\n",
       "\t<tr><th scope=row>5</th><td>Gunness.Thicket</td><td>3.8</td><td>0</td><td>Scrub    </td><td>4.2</td><td>FALSE</td><td>6</td></tr>\n",
       "\t<tr><th scope=row>10</th><td>Rookery.Slope  </td><td>1.5</td><td>4</td><td>Grassland</td><td>5.0</td><td> TRUE</td><td>7</td></tr>\n",
       "\t<tr><th scope=row>15</th><td>Pond.Field     </td><td>4.1</td><td>0</td><td>Meadow   </td><td>5.0</td><td> TRUE</td><td>6</td></tr>\n",
       "\t<tr><th scope=row>16</th><td>Water.Meadow   </td><td>3.9</td><td>0</td><td>Meadow   </td><td>4.9</td><td> TRUE</td><td>8</td></tr>\n",
       "\t<tr><th scope=row>18</th><td>Pound.Hill     </td><td>4.4</td><td>2</td><td>Arable   </td><td>4.5</td><td>FALSE</td><td>5</td></tr>\n",
       "</tbody>\n",
       "</table>\n"
      ],
      "text/latex": [
       "A data.frame: 6 × 7\n",
       "\\begin{tabular}{r|lllllll}\n",
       "  & Field.Name & Area & Slope & Vegetation & Soil.pH & Damp & Worm.density\\\\\n",
       "  & <chr> & <dbl> & <int> & <chr> & <dbl> & <lgl> & <int>\\\\\n",
       "\\hline\n",
       "\t4 & Rush.Meadow     & 2.4 & 5 & Meadow    & 4.9 &  TRUE & 5\\\\\n",
       "\t5 & Gunness.Thicket & 3.8 & 0 & Scrub     & 4.2 & FALSE & 6\\\\\n",
       "\t10 & Rookery.Slope   & 1.5 & 4 & Grassland & 5.0 &  TRUE & 7\\\\\n",
       "\t15 & Pond.Field      & 4.1 & 0 & Meadow    & 5.0 &  TRUE & 6\\\\\n",
       "\t16 & Water.Meadow    & 3.9 & 0 & Meadow    & 4.9 &  TRUE & 8\\\\\n",
       "\t18 & Pound.Hill      & 4.4 & 2 & Arable    & 4.5 & FALSE & 5\\\\\n",
       "\\end{tabular}\n"
      ],
      "text/markdown": [
       "\n",
       "A data.frame: 6 × 7\n",
       "\n",
       "| <!--/--> | Field.Name &lt;chr&gt; | Area &lt;dbl&gt; | Slope &lt;int&gt; | Vegetation &lt;chr&gt; | Soil.pH &lt;dbl&gt; | Damp &lt;lgl&gt; | Worm.density &lt;int&gt; |\n",
       "|---|---|---|---|---|---|---|---|\n",
       "| 4 | Rush.Meadow     | 2.4 | 5 | Meadow    | 4.9 |  TRUE | 5 |\n",
       "| 5 | Gunness.Thicket | 3.8 | 0 | Scrub     | 4.2 | FALSE | 6 |\n",
       "| 10 | Rookery.Slope   | 1.5 | 4 | Grassland | 5.0 |  TRUE | 7 |\n",
       "| 15 | Pond.Field      | 4.1 | 0 | Meadow    | 5.0 |  TRUE | 6 |\n",
       "| 16 | Water.Meadow    | 3.9 | 0 | Meadow    | 4.9 |  TRUE | 8 |\n",
       "| 18 | Pound.Hill      | 4.4 | 2 | Arable    | 4.5 | FALSE | 5 |\n",
       "\n"
      ],
      "text/plain": [
       "   Field.Name      Area Slope Vegetation Soil.pH Damp  Worm.density\n",
       "4  Rush.Meadow     2.4  5     Meadow     4.9      TRUE 5           \n",
       "5  Gunness.Thicket 3.8  0     Scrub      4.2     FALSE 6           \n",
       "10 Rookery.Slope   1.5  4     Grassland  5.0      TRUE 7           \n",
       "15 Pond.Field      4.1  0     Meadow     5.0      TRUE 6           \n",
       "16 Water.Meadow    3.9  0     Meadow     4.9      TRUE 8           \n",
       "18 Pound.Hill      4.4  2     Arable     4.5     FALSE 5           "
      ]
     },
     "metadata": {},
     "output_type": "display_data"
    }
   ],
   "source": [
    "# Worm.density 변수의 중앙값보다 크고 Soil.pH가 5.2보다 작은 데이터만 추출\n",
    "\n",
    "worms[(worms$Worm.density > median(worms$Worm.density)) & (worms$Soil.pH < 5.2), ]"
   ]
  },
  {
   "cell_type": "code",
   "execution_count": 36,
   "id": "4d48480f-bab1-4601-a035-1c54e0506e68",
   "metadata": {},
   "outputs": [
    {
     "data": {
      "text/html": [
       "<table class=\"dataframe\">\n",
       "<caption>A data.frame: 6 × 4</caption>\n",
       "<thead>\n",
       "\t<tr><th></th><th scope=col>Area</th><th scope=col>Slope</th><th scope=col>Soil.pH</th><th scope=col>Worm.density</th></tr>\n",
       "\t<tr><th></th><th scope=col>&lt;dbl&gt;</th><th scope=col>&lt;int&gt;</th><th scope=col>&lt;dbl&gt;</th><th scope=col>&lt;int&gt;</th></tr>\n",
       "</thead>\n",
       "<tbody>\n",
       "\t<tr><th scope=row>1</th><td>3.6</td><td>11</td><td>4.1</td><td>4</td></tr>\n",
       "\t<tr><th scope=row>2</th><td>5.1</td><td> 2</td><td>5.2</td><td>7</td></tr>\n",
       "\t<tr><th scope=row>3</th><td>2.8</td><td> 3</td><td>4.3</td><td>2</td></tr>\n",
       "\t<tr><th scope=row>4</th><td>2.4</td><td> 5</td><td>4.9</td><td>5</td></tr>\n",
       "\t<tr><th scope=row>5</th><td>3.8</td><td> 0</td><td>4.2</td><td>6</td></tr>\n",
       "\t<tr><th scope=row>6</th><td>3.1</td><td> 2</td><td>3.9</td><td>2</td></tr>\n",
       "</tbody>\n",
       "</table>\n"
      ],
      "text/latex": [
       "A data.frame: 6 × 4\n",
       "\\begin{tabular}{r|llll}\n",
       "  & Area & Slope & Soil.pH & Worm.density\\\\\n",
       "  & <dbl> & <int> & <dbl> & <int>\\\\\n",
       "\\hline\n",
       "\t1 & 3.6 & 11 & 4.1 & 4\\\\\n",
       "\t2 & 5.1 &  2 & 5.2 & 7\\\\\n",
       "\t3 & 2.8 &  3 & 4.3 & 2\\\\\n",
       "\t4 & 2.4 &  5 & 4.9 & 5\\\\\n",
       "\t5 & 3.8 &  0 & 4.2 & 6\\\\\n",
       "\t6 & 3.1 &  2 & 3.9 & 2\\\\\n",
       "\\end{tabular}\n"
      ],
      "text/markdown": [
       "\n",
       "A data.frame: 6 × 4\n",
       "\n",
       "| <!--/--> | Area &lt;dbl&gt; | Slope &lt;int&gt; | Soil.pH &lt;dbl&gt; | Worm.density &lt;int&gt; |\n",
       "|---|---|---|---|---|\n",
       "| 1 | 3.6 | 11 | 4.1 | 4 |\n",
       "| 2 | 5.1 |  2 | 5.2 | 7 |\n",
       "| 3 | 2.8 |  3 | 4.3 | 2 |\n",
       "| 4 | 2.4 |  5 | 4.9 | 5 |\n",
       "| 5 | 3.8 |  0 | 4.2 | 6 |\n",
       "| 6 | 3.1 |  2 | 3.9 | 2 |\n",
       "\n"
      ],
      "text/plain": [
       "  Area Slope Soil.pH Worm.density\n",
       "1 3.6  11    4.1     4           \n",
       "2 5.1   2    5.2     7           \n",
       "3 2.8   3    4.3     2           \n",
       "4 2.4   5    4.9     5           \n",
       "5 3.8   0    4.2     6           \n",
       "6 3.1   2    3.9     2           "
      ]
     },
     "metadata": {},
     "output_type": "display_data"
    }
   ],
   "source": [
    "worms[, sapply(worms, is.numeric)] %>% head"
   ]
  },
  {
   "cell_type": "code",
   "execution_count": 38,
   "id": "045ce9f4-79f4-40f0-88aa-7aa70bcf0b56",
   "metadata": {},
   "outputs": [
    {
     "data": {
      "text/html": [
       "<table class=\"dataframe\">\n",
       "<caption>A data.frame: 10 × 7</caption>\n",
       "<thead>\n",
       "\t<tr><th></th><th scope=col>Field.Name</th><th scope=col>Area</th><th scope=col>Slope</th><th scope=col>Vegetation</th><th scope=col>Soil.pH</th><th scope=col>Damp</th><th scope=col>Worm.density</th></tr>\n",
       "\t<tr><th></th><th scope=col>&lt;chr&gt;</th><th scope=col>&lt;dbl&gt;</th><th scope=col>&lt;int&gt;</th><th scope=col>&lt;chr&gt;</th><th scope=col>&lt;dbl&gt;</th><th scope=col>&lt;lgl&gt;</th><th scope=col>&lt;int&gt;</th></tr>\n",
       "</thead>\n",
       "<tbody>\n",
       "\t<tr><th scope=row>1</th><td>Nashs.Field    </td><td>3.6</td><td>11</td><td>Grassland</td><td>4.1</td><td>FALSE</td><td>4</td></tr>\n",
       "\t<tr><th scope=row>2</th><td>Silwood.Bottom </td><td>5.1</td><td> 2</td><td>Arable   </td><td>5.2</td><td>FALSE</td><td>7</td></tr>\n",
       "\t<tr><th scope=row>3</th><td>Nursery.Field  </td><td>2.8</td><td> 3</td><td>Grassland</td><td>4.3</td><td>FALSE</td><td>2</td></tr>\n",
       "\t<tr><th scope=row>4</th><td>Rush.Meadow    </td><td>2.4</td><td> 5</td><td>Meadow   </td><td>4.9</td><td> TRUE</td><td>5</td></tr>\n",
       "\t<tr><th scope=row>5</th><td>Gunness.Thicket</td><td>3.8</td><td> 0</td><td>Scrub    </td><td>4.2</td><td>FALSE</td><td>6</td></tr>\n",
       "\t<tr><th scope=row>16</th><td>Water.Meadow   </td><td>3.9</td><td> 0</td><td>Meadow   </td><td>4.9</td><td> TRUE</td><td>8</td></tr>\n",
       "\t<tr><th scope=row>17</th><td>Cheapside      </td><td>2.2</td><td> 8</td><td>Scrub    </td><td>4.7</td><td> TRUE</td><td>4</td></tr>\n",
       "\t<tr><th scope=row>18</th><td>Pound.Hill     </td><td>4.4</td><td> 2</td><td>Arable   </td><td>4.5</td><td>FALSE</td><td>5</td></tr>\n",
       "\t<tr><th scope=row>19</th><td>Gravel.Pit     </td><td>2.9</td><td> 1</td><td>Grassland</td><td>3.5</td><td>FALSE</td><td>1</td></tr>\n",
       "\t<tr><th scope=row>20</th><td>Farm.Wood      </td><td>0.8</td><td>10</td><td>Scrub    </td><td>5.1</td><td> TRUE</td><td>3</td></tr>\n",
       "</tbody>\n",
       "</table>\n"
      ],
      "text/latex": [
       "A data.frame: 10 × 7\n",
       "\\begin{tabular}{r|lllllll}\n",
       "  & Field.Name & Area & Slope & Vegetation & Soil.pH & Damp & Worm.density\\\\\n",
       "  & <chr> & <dbl> & <int> & <chr> & <dbl> & <lgl> & <int>\\\\\n",
       "\\hline\n",
       "\t1 & Nashs.Field     & 3.6 & 11 & Grassland & 4.1 & FALSE & 4\\\\\n",
       "\t2 & Silwood.Bottom  & 5.1 &  2 & Arable    & 5.2 & FALSE & 7\\\\\n",
       "\t3 & Nursery.Field   & 2.8 &  3 & Grassland & 4.3 & FALSE & 2\\\\\n",
       "\t4 & Rush.Meadow     & 2.4 &  5 & Meadow    & 4.9 &  TRUE & 5\\\\\n",
       "\t5 & Gunness.Thicket & 3.8 &  0 & Scrub     & 4.2 & FALSE & 6\\\\\n",
       "\t16 & Water.Meadow    & 3.9 &  0 & Meadow    & 4.9 &  TRUE & 8\\\\\n",
       "\t17 & Cheapside       & 2.2 &  8 & Scrub     & 4.7 &  TRUE & 4\\\\\n",
       "\t18 & Pound.Hill      & 4.4 &  2 & Arable    & 4.5 & FALSE & 5\\\\\n",
       "\t19 & Gravel.Pit      & 2.9 &  1 & Grassland & 3.5 & FALSE & 1\\\\\n",
       "\t20 & Farm.Wood       & 0.8 & 10 & Scrub     & 5.1 &  TRUE & 3\\\\\n",
       "\\end{tabular}\n"
      ],
      "text/markdown": [
       "\n",
       "A data.frame: 10 × 7\n",
       "\n",
       "| <!--/--> | Field.Name &lt;chr&gt; | Area &lt;dbl&gt; | Slope &lt;int&gt; | Vegetation &lt;chr&gt; | Soil.pH &lt;dbl&gt; | Damp &lt;lgl&gt; | Worm.density &lt;int&gt; |\n",
       "|---|---|---|---|---|---|---|---|\n",
       "| 1 | Nashs.Field     | 3.6 | 11 | Grassland | 4.1 | FALSE | 4 |\n",
       "| 2 | Silwood.Bottom  | 5.1 |  2 | Arable    | 5.2 | FALSE | 7 |\n",
       "| 3 | Nursery.Field   | 2.8 |  3 | Grassland | 4.3 | FALSE | 2 |\n",
       "| 4 | Rush.Meadow     | 2.4 |  5 | Meadow    | 4.9 |  TRUE | 5 |\n",
       "| 5 | Gunness.Thicket | 3.8 |  0 | Scrub     | 4.2 | FALSE | 6 |\n",
       "| 16 | Water.Meadow    | 3.9 |  0 | Meadow    | 4.9 |  TRUE | 8 |\n",
       "| 17 | Cheapside       | 2.2 |  8 | Scrub     | 4.7 |  TRUE | 4 |\n",
       "| 18 | Pound.Hill      | 4.4 |  2 | Arable    | 4.5 | FALSE | 5 |\n",
       "| 19 | Gravel.Pit      | 2.9 |  1 | Grassland | 3.5 | FALSE | 1 |\n",
       "| 20 | Farm.Wood       | 0.8 | 10 | Scrub     | 5.1 |  TRUE | 3 |\n",
       "\n"
      ],
      "text/plain": [
       "   Field.Name      Area Slope Vegetation Soil.pH Damp  Worm.density\n",
       "1  Nashs.Field     3.6  11    Grassland  4.1     FALSE 4           \n",
       "2  Silwood.Bottom  5.1   2    Arable     5.2     FALSE 7           \n",
       "3  Nursery.Field   2.8   3    Grassland  4.3     FALSE 2           \n",
       "4  Rush.Meadow     2.4   5    Meadow     4.9      TRUE 5           \n",
       "5  Gunness.Thicket 3.8   0    Scrub      4.2     FALSE 6           \n",
       "16 Water.Meadow    3.9   0    Meadow     4.9      TRUE 8           \n",
       "17 Cheapside       2.2   8    Scrub      4.7      TRUE 4           \n",
       "18 Pound.Hill      4.4   2    Arable     4.5     FALSE 5           \n",
       "19 Gravel.Pit      2.9   1    Grassland  3.5     FALSE 1           \n",
       "20 Farm.Wood       0.8  10    Scrub      5.1      TRUE 3           "
      ]
     },
     "metadata": {},
     "output_type": "display_data"
    }
   ],
   "source": [
    "worms[-(6:15), ]"
   ]
  },
  {
   "cell_type": "code",
   "execution_count": 42,
   "id": "e54a4f88-9d31-4c05-9197-220df6fd2d2d",
   "metadata": {},
   "outputs": [
    {
     "data": {
      "text/html": [
       "<table class=\"dataframe\">\n",
       "<caption>A data.frame: 6 × 7</caption>\n",
       "<thead>\n",
       "\t<tr><th></th><th scope=col>Field.Name</th><th scope=col>Area</th><th scope=col>Slope</th><th scope=col>Vegetation</th><th scope=col>Soil.pH</th><th scope=col>Damp</th><th scope=col>Worm.density</th></tr>\n",
       "\t<tr><th></th><th scope=col>&lt;chr&gt;</th><th scope=col>&lt;dbl&gt;</th><th scope=col>&lt;int&gt;</th><th scope=col>&lt;chr&gt;</th><th scope=col>&lt;dbl&gt;</th><th scope=col>&lt;lgl&gt;</th><th scope=col>&lt;int&gt;</th></tr>\n",
       "</thead>\n",
       "<tbody>\n",
       "\t<tr><th scope=row>2</th><td>Silwood.Bottom </td><td>5.1</td><td> 2</td><td>Arable </td><td>5.2</td><td>FALSE</td><td>7</td></tr>\n",
       "\t<tr><th scope=row>4</th><td>Rush.Meadow    </td><td>2.4</td><td> 5</td><td>Meadow </td><td>4.9</td><td> TRUE</td><td>5</td></tr>\n",
       "\t<tr><th scope=row>5</th><td>Gunness.Thicket</td><td>3.8</td><td> 0</td><td>Scrub  </td><td>4.2</td><td>FALSE</td><td>6</td></tr>\n",
       "\t<tr><th scope=row>8</th><td>Ashurst        </td><td>2.1</td><td> 0</td><td>Arable </td><td>4.8</td><td>FALSE</td><td>4</td></tr>\n",
       "\t<tr><th scope=row>9</th><td>The.Orchard    </td><td>1.9</td><td> 0</td><td>Orchard</td><td>5.7</td><td>FALSE</td><td>9</td></tr>\n",
       "\t<tr><th scope=row>11</th><td>Garden.Wood    </td><td>2.9</td><td>10</td><td>Scrub  </td><td>5.2</td><td>FALSE</td><td>8</td></tr>\n",
       "</tbody>\n",
       "</table>\n"
      ],
      "text/latex": [
       "A data.frame: 6 × 7\n",
       "\\begin{tabular}{r|lllllll}\n",
       "  & Field.Name & Area & Slope & Vegetation & Soil.pH & Damp & Worm.density\\\\\n",
       "  & <chr> & <dbl> & <int> & <chr> & <dbl> & <lgl> & <int>\\\\\n",
       "\\hline\n",
       "\t2 & Silwood.Bottom  & 5.1 &  2 & Arable  & 5.2 & FALSE & 7\\\\\n",
       "\t4 & Rush.Meadow     & 2.4 &  5 & Meadow  & 4.9 &  TRUE & 5\\\\\n",
       "\t5 & Gunness.Thicket & 3.8 &  0 & Scrub   & 4.2 & FALSE & 6\\\\\n",
       "\t8 & Ashurst         & 2.1 &  0 & Arable  & 4.8 & FALSE & 4\\\\\n",
       "\t9 & The.Orchard     & 1.9 &  0 & Orchard & 5.7 & FALSE & 9\\\\\n",
       "\t11 & Garden.Wood     & 2.9 & 10 & Scrub   & 5.2 & FALSE & 8\\\\\n",
       "\\end{tabular}\n"
      ],
      "text/markdown": [
       "\n",
       "A data.frame: 6 × 7\n",
       "\n",
       "| <!--/--> | Field.Name &lt;chr&gt; | Area &lt;dbl&gt; | Slope &lt;int&gt; | Vegetation &lt;chr&gt; | Soil.pH &lt;dbl&gt; | Damp &lt;lgl&gt; | Worm.density &lt;int&gt; |\n",
       "|---|---|---|---|---|---|---|---|\n",
       "| 2 | Silwood.Bottom  | 5.1 |  2 | Arable  | 5.2 | FALSE | 7 |\n",
       "| 4 | Rush.Meadow     | 2.4 |  5 | Meadow  | 4.9 |  TRUE | 5 |\n",
       "| 5 | Gunness.Thicket | 3.8 |  0 | Scrub   | 4.2 | FALSE | 6 |\n",
       "| 8 | Ashurst         | 2.1 |  0 | Arable  | 4.8 | FALSE | 4 |\n",
       "| 9 | The.Orchard     | 1.9 |  0 | Orchard | 5.7 | FALSE | 9 |\n",
       "| 11 | Garden.Wood     | 2.9 | 10 | Scrub   | 5.2 | FALSE | 8 |\n",
       "\n"
      ],
      "text/plain": [
       "   Field.Name      Area Slope Vegetation Soil.pH Damp  Worm.density\n",
       "2  Silwood.Bottom  5.1   2    Arable     5.2     FALSE 7           \n",
       "4  Rush.Meadow     2.4   5    Meadow     4.9      TRUE 5           \n",
       "5  Gunness.Thicket 3.8   0    Scrub      4.2     FALSE 6           \n",
       "8  Ashurst         2.1   0    Arable     4.8     FALSE 4           \n",
       "9  The.Orchard     1.9   0    Orchard    5.7     FALSE 9           \n",
       "11 Garden.Wood     2.9  10    Scrub      5.2     FALSE 8           "
      ]
     },
     "metadata": {},
     "output_type": "display_data"
    }
   ],
   "source": [
    "worms[ worms$Vegetation != 'Grassland', ] %>% head"
   ]
  },
  {
   "cell_type": "code",
   "execution_count": 43,
   "id": "a7253e34-6d8d-4dfc-8883-11956c229aa9",
   "metadata": {},
   "outputs": [
    {
     "data": {
      "text/html": [
       "<table class=\"dataframe\">\n",
       "<caption>A data.frame: 6 × 7</caption>\n",
       "<thead>\n",
       "\t<tr><th></th><th scope=col>Field.Name</th><th scope=col>Area</th><th scope=col>Slope</th><th scope=col>Vegetation</th><th scope=col>Soil.pH</th><th scope=col>Damp</th><th scope=col>Worm.density</th></tr>\n",
       "\t<tr><th></th><th scope=col>&lt;chr&gt;</th><th scope=col>&lt;dbl&gt;</th><th scope=col>&lt;int&gt;</th><th scope=col>&lt;chr&gt;</th><th scope=col>&lt;dbl&gt;</th><th scope=col>&lt;lgl&gt;</th><th scope=col>&lt;int&gt;</th></tr>\n",
       "</thead>\n",
       "<tbody>\n",
       "\t<tr><th scope=row>2</th><td>Silwood.Bottom </td><td>5.1</td><td> 2</td><td>Arable </td><td>5.2</td><td>FALSE</td><td>7</td></tr>\n",
       "\t<tr><th scope=row>4</th><td>Rush.Meadow    </td><td>2.4</td><td> 5</td><td>Meadow </td><td>4.9</td><td> TRUE</td><td>5</td></tr>\n",
       "\t<tr><th scope=row>5</th><td>Gunness.Thicket</td><td>3.8</td><td> 0</td><td>Scrub  </td><td>4.2</td><td>FALSE</td><td>6</td></tr>\n",
       "\t<tr><th scope=row>8</th><td>Ashurst        </td><td>2.1</td><td> 0</td><td>Arable </td><td>4.8</td><td>FALSE</td><td>4</td></tr>\n",
       "\t<tr><th scope=row>9</th><td>The.Orchard    </td><td>1.9</td><td> 0</td><td>Orchard</td><td>5.7</td><td>FALSE</td><td>9</td></tr>\n",
       "\t<tr><th scope=row>11</th><td>Garden.Wood    </td><td>2.9</td><td>10</td><td>Scrub  </td><td>5.2</td><td>FALSE</td><td>8</td></tr>\n",
       "</tbody>\n",
       "</table>\n"
      ],
      "text/latex": [
       "A data.frame: 6 × 7\n",
       "\\begin{tabular}{r|lllllll}\n",
       "  & Field.Name & Area & Slope & Vegetation & Soil.pH & Damp & Worm.density\\\\\n",
       "  & <chr> & <dbl> & <int> & <chr> & <dbl> & <lgl> & <int>\\\\\n",
       "\\hline\n",
       "\t2 & Silwood.Bottom  & 5.1 &  2 & Arable  & 5.2 & FALSE & 7\\\\\n",
       "\t4 & Rush.Meadow     & 2.4 &  5 & Meadow  & 4.9 &  TRUE & 5\\\\\n",
       "\t5 & Gunness.Thicket & 3.8 &  0 & Scrub   & 4.2 & FALSE & 6\\\\\n",
       "\t8 & Ashurst         & 2.1 &  0 & Arable  & 4.8 & FALSE & 4\\\\\n",
       "\t9 & The.Orchard     & 1.9 &  0 & Orchard & 5.7 & FALSE & 9\\\\\n",
       "\t11 & Garden.Wood     & 2.9 & 10 & Scrub   & 5.2 & FALSE & 8\\\\\n",
       "\\end{tabular}\n"
      ],
      "text/markdown": [
       "\n",
       "A data.frame: 6 × 7\n",
       "\n",
       "| <!--/--> | Field.Name &lt;chr&gt; | Area &lt;dbl&gt; | Slope &lt;int&gt; | Vegetation &lt;chr&gt; | Soil.pH &lt;dbl&gt; | Damp &lt;lgl&gt; | Worm.density &lt;int&gt; |\n",
       "|---|---|---|---|---|---|---|---|\n",
       "| 2 | Silwood.Bottom  | 5.1 |  2 | Arable  | 5.2 | FALSE | 7 |\n",
       "| 4 | Rush.Meadow     | 2.4 |  5 | Meadow  | 4.9 |  TRUE | 5 |\n",
       "| 5 | Gunness.Thicket | 3.8 |  0 | Scrub   | 4.2 | FALSE | 6 |\n",
       "| 8 | Ashurst         | 2.1 |  0 | Arable  | 4.8 | FALSE | 4 |\n",
       "| 9 | The.Orchard     | 1.9 |  0 | Orchard | 5.7 | FALSE | 9 |\n",
       "| 11 | Garden.Wood     | 2.9 | 10 | Scrub   | 5.2 | FALSE | 8 |\n",
       "\n"
      ],
      "text/plain": [
       "   Field.Name      Area Slope Vegetation Soil.pH Damp  Worm.density\n",
       "2  Silwood.Bottom  5.1   2    Arable     5.2     FALSE 7           \n",
       "4  Rush.Meadow     2.4   5    Meadow     4.9      TRUE 5           \n",
       "5  Gunness.Thicket 3.8   0    Scrub      4.2     FALSE 6           \n",
       "8  Ashurst         2.1   0    Arable     4.8     FALSE 4           \n",
       "9  The.Orchard     1.9   0    Orchard    5.7     FALSE 9           \n",
       "11 Garden.Wood     2.9  10    Scrub      5.2     FALSE 8           "
      ]
     },
     "metadata": {},
     "output_type": "display_data"
    }
   ],
   "source": [
    "worms[ !worms$Vegetation == 'Grassland', ] %>% head"
   ]
  },
  {
   "cell_type": "code",
   "execution_count": 47,
   "id": "4ebf8365-043c-48cc-b4fd-728cbf1df323",
   "metadata": {},
   "outputs": [
    {
     "data": {
      "text/html": [
       "<table class=\"dataframe\">\n",
       "<caption>A data.frame: 6 × 7</caption>\n",
       "<thead>\n",
       "\t<tr><th></th><th scope=col>Field.Name</th><th scope=col>Area</th><th scope=col>Slope</th><th scope=col>Vegetation</th><th scope=col>Soil.pH</th><th scope=col>Damp</th><th scope=col>Worm.density</th></tr>\n",
       "\t<tr><th></th><th scope=col>&lt;chr&gt;</th><th scope=col>&lt;dbl&gt;</th><th scope=col>&lt;int&gt;</th><th scope=col>&lt;chr&gt;</th><th scope=col>&lt;dbl&gt;</th><th scope=col>&lt;lgl&gt;</th><th scope=col>&lt;int&gt;</th></tr>\n",
       "</thead>\n",
       "<tbody>\n",
       "\t<tr><th scope=row>2</th><td>Silwood.Bottom </td><td>5.1</td><td>2</td><td>Arable   </td><td>5.2</td><td>FALSE</td><td>7</td></tr>\n",
       "\t<tr><th scope=row>3</th><td>Nursery.Field  </td><td>2.8</td><td>3</td><td>Grassland</td><td>4.3</td><td>FALSE</td><td>2</td></tr>\n",
       "\t<tr><th scope=row>4</th><td>Rush.Meadow    </td><td>2.4</td><td>5</td><td>Meadow   </td><td>4.9</td><td> TRUE</td><td>5</td></tr>\n",
       "\t<tr><th scope=row>5</th><td>Gunness.Thicket</td><td>3.8</td><td>0</td><td>Scrub    </td><td>4.2</td><td>FALSE</td><td>6</td></tr>\n",
       "\t<tr><th scope=row>6</th><td>Oak.Mead       </td><td>3.1</td><td>2</td><td>Grassland</td><td>3.9</td><td>FALSE</td><td>2</td></tr>\n",
       "\t<tr><th scope=row>7</th><td>Church.Field   </td><td>3.5</td><td>3</td><td>Grassland</td><td>4.2</td><td>FALSE</td><td>3</td></tr>\n",
       "</tbody>\n",
       "</table>\n"
      ],
      "text/latex": [
       "A data.frame: 6 × 7\n",
       "\\begin{tabular}{r|lllllll}\n",
       "  & Field.Name & Area & Slope & Vegetation & Soil.pH & Damp & Worm.density\\\\\n",
       "  & <chr> & <dbl> & <int> & <chr> & <dbl> & <lgl> & <int>\\\\\n",
       "\\hline\n",
       "\t2 & Silwood.Bottom  & 5.1 & 2 & Arable    & 5.2 & FALSE & 7\\\\\n",
       "\t3 & Nursery.Field   & 2.8 & 3 & Grassland & 4.3 & FALSE & 2\\\\\n",
       "\t4 & Rush.Meadow     & 2.4 & 5 & Meadow    & 4.9 &  TRUE & 5\\\\\n",
       "\t5 & Gunness.Thicket & 3.8 & 0 & Scrub     & 4.2 & FALSE & 6\\\\\n",
       "\t6 & Oak.Mead        & 3.1 & 2 & Grassland & 3.9 & FALSE & 2\\\\\n",
       "\t7 & Church.Field    & 3.5 & 3 & Grassland & 4.2 & FALSE & 3\\\\\n",
       "\\end{tabular}\n"
      ],
      "text/markdown": [
       "\n",
       "A data.frame: 6 × 7\n",
       "\n",
       "| <!--/--> | Field.Name &lt;chr&gt; | Area &lt;dbl&gt; | Slope &lt;int&gt; | Vegetation &lt;chr&gt; | Soil.pH &lt;dbl&gt; | Damp &lt;lgl&gt; | Worm.density &lt;int&gt; |\n",
       "|---|---|---|---|---|---|---|---|\n",
       "| 2 | Silwood.Bottom  | 5.1 | 2 | Arable    | 5.2 | FALSE | 7 |\n",
       "| 3 | Nursery.Field   | 2.8 | 3 | Grassland | 4.3 | FALSE | 2 |\n",
       "| 4 | Rush.Meadow     | 2.4 | 5 | Meadow    | 4.9 |  TRUE | 5 |\n",
       "| 5 | Gunness.Thicket | 3.8 | 0 | Scrub     | 4.2 | FALSE | 6 |\n",
       "| 6 | Oak.Mead        | 3.1 | 2 | Grassland | 3.9 | FALSE | 2 |\n",
       "| 7 | Church.Field    | 3.5 | 3 | Grassland | 4.2 | FALSE | 3 |\n",
       "\n"
      ],
      "text/plain": [
       "  Field.Name      Area Slope Vegetation Soil.pH Damp  Worm.density\n",
       "2 Silwood.Bottom  5.1  2     Arable     5.2     FALSE 7           \n",
       "3 Nursery.Field   2.8  3     Grassland  4.3     FALSE 2           \n",
       "4 Rush.Meadow     2.4  5     Meadow     4.9      TRUE 5           \n",
       "5 Gunness.Thicket 3.8  0     Scrub      4.2     FALSE 6           \n",
       "6 Oak.Mead        3.1  2     Grassland  3.9     FALSE 2           \n",
       "7 Church.Field    3.5  3     Grassland  4.2     FALSE 3           "
      ]
     },
     "metadata": {},
     "output_type": "display_data"
    }
   ],
   "source": [
    "worms[ -(worms$Vegetation == 'Grassland'), ] %>% head # 다르다"
   ]
  },
  {
   "cell_type": "code",
   "execution_count": 49,
   "id": "40a95bb5-f380-40b6-ba1e-b0c19196c37b",
   "metadata": {},
   "outputs": [
    {
     "data": {
      "text/html": [
       "<table class=\"dataframe\">\n",
       "<caption>A data.frame: 6 × 7</caption>\n",
       "<thead>\n",
       "\t<tr><th></th><th scope=col>Field.Name</th><th scope=col>Area</th><th scope=col>Slope</th><th scope=col>Vegetation</th><th scope=col>Soil.pH</th><th scope=col>Damp</th><th scope=col>Worm.density</th></tr>\n",
       "\t<tr><th></th><th scope=col>&lt;chr&gt;</th><th scope=col>&lt;dbl&gt;</th><th scope=col>&lt;int&gt;</th><th scope=col>&lt;chr&gt;</th><th scope=col>&lt;dbl&gt;</th><th scope=col>&lt;lgl&gt;</th><th scope=col>&lt;int&gt;</th></tr>\n",
       "</thead>\n",
       "<tbody>\n",
       "\t<tr><th scope=row>2</th><td>Silwood.Bottom </td><td>5.1</td><td>2</td><td>Arable   </td><td>5.2</td><td>FALSE</td><td>7</td></tr>\n",
       "\t<tr><th scope=row>3</th><td>Nursery.Field  </td><td>2.8</td><td>3</td><td>Grassland</td><td>4.3</td><td>FALSE</td><td>2</td></tr>\n",
       "\t<tr><th scope=row>4</th><td>Rush.Meadow    </td><td>2.4</td><td>5</td><td>Meadow   </td><td>4.9</td><td> TRUE</td><td>5</td></tr>\n",
       "\t<tr><th scope=row>5</th><td>Gunness.Thicket</td><td>3.8</td><td>0</td><td>Scrub    </td><td>4.2</td><td>FALSE</td><td>6</td></tr>\n",
       "\t<tr><th scope=row>6</th><td>Oak.Mead       </td><td>3.1</td><td>2</td><td>Grassland</td><td>3.9</td><td>FALSE</td><td>2</td></tr>\n",
       "\t<tr><th scope=row>7</th><td>Church.Field   </td><td>3.5</td><td>3</td><td>Grassland</td><td>4.2</td><td>FALSE</td><td>3</td></tr>\n",
       "</tbody>\n",
       "</table>\n"
      ],
      "text/latex": [
       "A data.frame: 6 × 7\n",
       "\\begin{tabular}{r|lllllll}\n",
       "  & Field.Name & Area & Slope & Vegetation & Soil.pH & Damp & Worm.density\\\\\n",
       "  & <chr> & <dbl> & <int> & <chr> & <dbl> & <lgl> & <int>\\\\\n",
       "\\hline\n",
       "\t2 & Silwood.Bottom  & 5.1 & 2 & Arable    & 5.2 & FALSE & 7\\\\\n",
       "\t3 & Nursery.Field   & 2.8 & 3 & Grassland & 4.3 & FALSE & 2\\\\\n",
       "\t4 & Rush.Meadow     & 2.4 & 5 & Meadow    & 4.9 &  TRUE & 5\\\\\n",
       "\t5 & Gunness.Thicket & 3.8 & 0 & Scrub     & 4.2 & FALSE & 6\\\\\n",
       "\t6 & Oak.Mead        & 3.1 & 2 & Grassland & 3.9 & FALSE & 2\\\\\n",
       "\t7 & Church.Field    & 3.5 & 3 & Grassland & 4.2 & FALSE & 3\\\\\n",
       "\\end{tabular}\n"
      ],
      "text/markdown": [
       "\n",
       "A data.frame: 6 × 7\n",
       "\n",
       "| <!--/--> | Field.Name &lt;chr&gt; | Area &lt;dbl&gt; | Slope &lt;int&gt; | Vegetation &lt;chr&gt; | Soil.pH &lt;dbl&gt; | Damp &lt;lgl&gt; | Worm.density &lt;int&gt; |\n",
       "|---|---|---|---|---|---|---|---|\n",
       "| 2 | Silwood.Bottom  | 5.1 | 2 | Arable    | 5.2 | FALSE | 7 |\n",
       "| 3 | Nursery.Field   | 2.8 | 3 | Grassland | 4.3 | FALSE | 2 |\n",
       "| 4 | Rush.Meadow     | 2.4 | 5 | Meadow    | 4.9 |  TRUE | 5 |\n",
       "| 5 | Gunness.Thicket | 3.8 | 0 | Scrub     | 4.2 | FALSE | 6 |\n",
       "| 6 | Oak.Mead        | 3.1 | 2 | Grassland | 3.9 | FALSE | 2 |\n",
       "| 7 | Church.Field    | 3.5 | 3 | Grassland | 4.2 | FALSE | 3 |\n",
       "\n"
      ],
      "text/plain": [
       "  Field.Name      Area Slope Vegetation Soil.pH Damp  Worm.density\n",
       "2 Silwood.Bottom  5.1  2     Arable     5.2     FALSE 7           \n",
       "3 Nursery.Field   2.8  3     Grassland  4.3     FALSE 2           \n",
       "4 Rush.Meadow     2.4  5     Meadow     4.9      TRUE 5           \n",
       "5 Gunness.Thicket 3.8  0     Scrub      4.2     FALSE 6           \n",
       "6 Oak.Mead        3.1  2     Grassland  3.9     FALSE 2           \n",
       "7 Church.Field    3.5  3     Grassland  4.2     FALSE 3           "
      ]
     },
     "metadata": {},
     "output_type": "display_data"
    }
   ],
   "source": [
    "worms[-(worms$Damp == FALSE), ] %>% head"
   ]
  },
  {
   "cell_type": "code",
   "execution_count": 50,
   "id": "575a9d48-d583-4d78-8b9f-79736d0822fb",
   "metadata": {},
   "outputs": [
    {
     "data": {
      "text/html": [
       "<table class=\"dataframe\">\n",
       "<caption>A data.frame: 6 × 7</caption>\n",
       "<thead>\n",
       "\t<tr><th></th><th scope=col>Field.Name</th><th scope=col>Area</th><th scope=col>Slope</th><th scope=col>Vegetation</th><th scope=col>Soil.pH</th><th scope=col>Damp</th><th scope=col>Worm.density</th></tr>\n",
       "\t<tr><th></th><th scope=col>&lt;chr&gt;</th><th scope=col>&lt;dbl&gt;</th><th scope=col>&lt;int&gt;</th><th scope=col>&lt;chr&gt;</th><th scope=col>&lt;dbl&gt;</th><th scope=col>&lt;lgl&gt;</th><th scope=col>&lt;int&gt;</th></tr>\n",
       "</thead>\n",
       "<tbody>\n",
       "\t<tr><th scope=row>4</th><td>Rush.Meadow  </td><td>2.4</td><td> 5</td><td>Meadow   </td><td>4.9</td><td>TRUE</td><td>5</td></tr>\n",
       "\t<tr><th scope=row>10</th><td>Rookery.Slope</td><td>1.5</td><td> 4</td><td>Grassland</td><td>5.0</td><td>TRUE</td><td>7</td></tr>\n",
       "\t<tr><th scope=row>15</th><td>Pond.Field   </td><td>4.1</td><td> 0</td><td>Meadow   </td><td>5.0</td><td>TRUE</td><td>6</td></tr>\n",
       "\t<tr><th scope=row>16</th><td>Water.Meadow </td><td>3.9</td><td> 0</td><td>Meadow   </td><td>4.9</td><td>TRUE</td><td>8</td></tr>\n",
       "\t<tr><th scope=row>17</th><td>Cheapside    </td><td>2.2</td><td> 8</td><td>Scrub    </td><td>4.7</td><td>TRUE</td><td>4</td></tr>\n",
       "\t<tr><th scope=row>20</th><td>Farm.Wood    </td><td>0.8</td><td>10</td><td>Scrub    </td><td>5.1</td><td>TRUE</td><td>3</td></tr>\n",
       "</tbody>\n",
       "</table>\n"
      ],
      "text/latex": [
       "A data.frame: 6 × 7\n",
       "\\begin{tabular}{r|lllllll}\n",
       "  & Field.Name & Area & Slope & Vegetation & Soil.pH & Damp & Worm.density\\\\\n",
       "  & <chr> & <dbl> & <int> & <chr> & <dbl> & <lgl> & <int>\\\\\n",
       "\\hline\n",
       "\t4 & Rush.Meadow   & 2.4 &  5 & Meadow    & 4.9 & TRUE & 5\\\\\n",
       "\t10 & Rookery.Slope & 1.5 &  4 & Grassland & 5.0 & TRUE & 7\\\\\n",
       "\t15 & Pond.Field    & 4.1 &  0 & Meadow    & 5.0 & TRUE & 6\\\\\n",
       "\t16 & Water.Meadow  & 3.9 &  0 & Meadow    & 4.9 & TRUE & 8\\\\\n",
       "\t17 & Cheapside     & 2.2 &  8 & Scrub     & 4.7 & TRUE & 4\\\\\n",
       "\t20 & Farm.Wood     & 0.8 & 10 & Scrub     & 5.1 & TRUE & 3\\\\\n",
       "\\end{tabular}\n"
      ],
      "text/markdown": [
       "\n",
       "A data.frame: 6 × 7\n",
       "\n",
       "| <!--/--> | Field.Name &lt;chr&gt; | Area &lt;dbl&gt; | Slope &lt;int&gt; | Vegetation &lt;chr&gt; | Soil.pH &lt;dbl&gt; | Damp &lt;lgl&gt; | Worm.density &lt;int&gt; |\n",
       "|---|---|---|---|---|---|---|---|\n",
       "| 4 | Rush.Meadow   | 2.4 |  5 | Meadow    | 4.9 | TRUE | 5 |\n",
       "| 10 | Rookery.Slope | 1.5 |  4 | Grassland | 5.0 | TRUE | 7 |\n",
       "| 15 | Pond.Field    | 4.1 |  0 | Meadow    | 5.0 | TRUE | 6 |\n",
       "| 16 | Water.Meadow  | 3.9 |  0 | Meadow    | 4.9 | TRUE | 8 |\n",
       "| 17 | Cheapside     | 2.2 |  8 | Scrub     | 4.7 | TRUE | 4 |\n",
       "| 20 | Farm.Wood     | 0.8 | 10 | Scrub     | 5.1 | TRUE | 3 |\n",
       "\n"
      ],
      "text/plain": [
       "   Field.Name    Area Slope Vegetation Soil.pH Damp Worm.density\n",
       "4  Rush.Meadow   2.4   5    Meadow     4.9     TRUE 5           \n",
       "10 Rookery.Slope 1.5   4    Grassland  5.0     TRUE 7           \n",
       "15 Pond.Field    4.1   0    Meadow     5.0     TRUE 6           \n",
       "16 Water.Meadow  3.9   0    Meadow     4.9     TRUE 8           \n",
       "17 Cheapside     2.2   8    Scrub      4.7     TRUE 4           \n",
       "20 Farm.Wood     0.8  10    Scrub      5.1     TRUE 3           "
      ]
     },
     "metadata": {},
     "output_type": "display_data"
    },
    {
     "data": {
      "text/html": [
       "<table class=\"dataframe\">\n",
       "<caption>A data.frame: 6 × 7</caption>\n",
       "<thead>\n",
       "\t<tr><th></th><th scope=col>Field.Name</th><th scope=col>Area</th><th scope=col>Slope</th><th scope=col>Vegetation</th><th scope=col>Soil.pH</th><th scope=col>Damp</th><th scope=col>Worm.density</th></tr>\n",
       "\t<tr><th></th><th scope=col>&lt;chr&gt;</th><th scope=col>&lt;dbl&gt;</th><th scope=col>&lt;int&gt;</th><th scope=col>&lt;chr&gt;</th><th scope=col>&lt;dbl&gt;</th><th scope=col>&lt;lgl&gt;</th><th scope=col>&lt;int&gt;</th></tr>\n",
       "</thead>\n",
       "<tbody>\n",
       "\t<tr><th scope=row>4</th><td>Rush.Meadow  </td><td>2.4</td><td> 5</td><td>Meadow   </td><td>4.9</td><td>TRUE</td><td>5</td></tr>\n",
       "\t<tr><th scope=row>10</th><td>Rookery.Slope</td><td>1.5</td><td> 4</td><td>Grassland</td><td>5.0</td><td>TRUE</td><td>7</td></tr>\n",
       "\t<tr><th scope=row>15</th><td>Pond.Field   </td><td>4.1</td><td> 0</td><td>Meadow   </td><td>5.0</td><td>TRUE</td><td>6</td></tr>\n",
       "\t<tr><th scope=row>16</th><td>Water.Meadow </td><td>3.9</td><td> 0</td><td>Meadow   </td><td>4.9</td><td>TRUE</td><td>8</td></tr>\n",
       "\t<tr><th scope=row>17</th><td>Cheapside    </td><td>2.2</td><td> 8</td><td>Scrub    </td><td>4.7</td><td>TRUE</td><td>4</td></tr>\n",
       "\t<tr><th scope=row>20</th><td>Farm.Wood    </td><td>0.8</td><td>10</td><td>Scrub    </td><td>5.1</td><td>TRUE</td><td>3</td></tr>\n",
       "</tbody>\n",
       "</table>\n"
      ],
      "text/latex": [
       "A data.frame: 6 × 7\n",
       "\\begin{tabular}{r|lllllll}\n",
       "  & Field.Name & Area & Slope & Vegetation & Soil.pH & Damp & Worm.density\\\\\n",
       "  & <chr> & <dbl> & <int> & <chr> & <dbl> & <lgl> & <int>\\\\\n",
       "\\hline\n",
       "\t4 & Rush.Meadow   & 2.4 &  5 & Meadow    & 4.9 & TRUE & 5\\\\\n",
       "\t10 & Rookery.Slope & 1.5 &  4 & Grassland & 5.0 & TRUE & 7\\\\\n",
       "\t15 & Pond.Field    & 4.1 &  0 & Meadow    & 5.0 & TRUE & 6\\\\\n",
       "\t16 & Water.Meadow  & 3.9 &  0 & Meadow    & 4.9 & TRUE & 8\\\\\n",
       "\t17 & Cheapside     & 2.2 &  8 & Scrub     & 4.7 & TRUE & 4\\\\\n",
       "\t20 & Farm.Wood     & 0.8 & 10 & Scrub     & 5.1 & TRUE & 3\\\\\n",
       "\\end{tabular}\n"
      ],
      "text/markdown": [
       "\n",
       "A data.frame: 6 × 7\n",
       "\n",
       "| <!--/--> | Field.Name &lt;chr&gt; | Area &lt;dbl&gt; | Slope &lt;int&gt; | Vegetation &lt;chr&gt; | Soil.pH &lt;dbl&gt; | Damp &lt;lgl&gt; | Worm.density &lt;int&gt; |\n",
       "|---|---|---|---|---|---|---|---|\n",
       "| 4 | Rush.Meadow   | 2.4 |  5 | Meadow    | 4.9 | TRUE | 5 |\n",
       "| 10 | Rookery.Slope | 1.5 |  4 | Grassland | 5.0 | TRUE | 7 |\n",
       "| 15 | Pond.Field    | 4.1 |  0 | Meadow    | 5.0 | TRUE | 6 |\n",
       "| 16 | Water.Meadow  | 3.9 |  0 | Meadow    | 4.9 | TRUE | 8 |\n",
       "| 17 | Cheapside     | 2.2 |  8 | Scrub     | 4.7 | TRUE | 4 |\n",
       "| 20 | Farm.Wood     | 0.8 | 10 | Scrub     | 5.1 | TRUE | 3 |\n",
       "\n"
      ],
      "text/plain": [
       "   Field.Name    Area Slope Vegetation Soil.pH Damp Worm.density\n",
       "4  Rush.Meadow   2.4   5    Meadow     4.9     TRUE 5           \n",
       "10 Rookery.Slope 1.5   4    Grassland  5.0     TRUE 7           \n",
       "15 Pond.Field    4.1   0    Meadow     5.0     TRUE 6           \n",
       "16 Water.Meadow  3.9   0    Meadow     4.9     TRUE 8           \n",
       "17 Cheapside     2.2   8    Scrub      4.7     TRUE 4           \n",
       "20 Farm.Wood     0.8  10    Scrub      5.1     TRUE 3           "
      ]
     },
     "metadata": {},
     "output_type": "display_data"
    },
    {
     "data": {
      "text/html": [
       "<table class=\"dataframe\">\n",
       "<caption>A data.frame: 6 × 7</caption>\n",
       "<thead>\n",
       "\t<tr><th></th><th scope=col>Field.Name</th><th scope=col>Area</th><th scope=col>Slope</th><th scope=col>Vegetation</th><th scope=col>Soil.pH</th><th scope=col>Damp</th><th scope=col>Worm.density</th></tr>\n",
       "\t<tr><th></th><th scope=col>&lt;chr&gt;</th><th scope=col>&lt;dbl&gt;</th><th scope=col>&lt;int&gt;</th><th scope=col>&lt;chr&gt;</th><th scope=col>&lt;dbl&gt;</th><th scope=col>&lt;lgl&gt;</th><th scope=col>&lt;int&gt;</th></tr>\n",
       "</thead>\n",
       "<tbody>\n",
       "\t<tr><th scope=row>4</th><td>Rush.Meadow  </td><td>2.4</td><td> 5</td><td>Meadow   </td><td>4.9</td><td>TRUE</td><td>5</td></tr>\n",
       "\t<tr><th scope=row>10</th><td>Rookery.Slope</td><td>1.5</td><td> 4</td><td>Grassland</td><td>5.0</td><td>TRUE</td><td>7</td></tr>\n",
       "\t<tr><th scope=row>15</th><td>Pond.Field   </td><td>4.1</td><td> 0</td><td>Meadow   </td><td>5.0</td><td>TRUE</td><td>6</td></tr>\n",
       "\t<tr><th scope=row>16</th><td>Water.Meadow </td><td>3.9</td><td> 0</td><td>Meadow   </td><td>4.9</td><td>TRUE</td><td>8</td></tr>\n",
       "\t<tr><th scope=row>17</th><td>Cheapside    </td><td>2.2</td><td> 8</td><td>Scrub    </td><td>4.7</td><td>TRUE</td><td>4</td></tr>\n",
       "\t<tr><th scope=row>20</th><td>Farm.Wood    </td><td>0.8</td><td>10</td><td>Scrub    </td><td>5.1</td><td>TRUE</td><td>3</td></tr>\n",
       "</tbody>\n",
       "</table>\n"
      ],
      "text/latex": [
       "A data.frame: 6 × 7\n",
       "\\begin{tabular}{r|lllllll}\n",
       "  & Field.Name & Area & Slope & Vegetation & Soil.pH & Damp & Worm.density\\\\\n",
       "  & <chr> & <dbl> & <int> & <chr> & <dbl> & <lgl> & <int>\\\\\n",
       "\\hline\n",
       "\t4 & Rush.Meadow   & 2.4 &  5 & Meadow    & 4.9 & TRUE & 5\\\\\n",
       "\t10 & Rookery.Slope & 1.5 &  4 & Grassland & 5.0 & TRUE & 7\\\\\n",
       "\t15 & Pond.Field    & 4.1 &  0 & Meadow    & 5.0 & TRUE & 6\\\\\n",
       "\t16 & Water.Meadow  & 3.9 &  0 & Meadow    & 4.9 & TRUE & 8\\\\\n",
       "\t17 & Cheapside     & 2.2 &  8 & Scrub     & 4.7 & TRUE & 4\\\\\n",
       "\t20 & Farm.Wood     & 0.8 & 10 & Scrub     & 5.1 & TRUE & 3\\\\\n",
       "\\end{tabular}\n"
      ],
      "text/markdown": [
       "\n",
       "A data.frame: 6 × 7\n",
       "\n",
       "| <!--/--> | Field.Name &lt;chr&gt; | Area &lt;dbl&gt; | Slope &lt;int&gt; | Vegetation &lt;chr&gt; | Soil.pH &lt;dbl&gt; | Damp &lt;lgl&gt; | Worm.density &lt;int&gt; |\n",
       "|---|---|---|---|---|---|---|---|\n",
       "| 4 | Rush.Meadow   | 2.4 |  5 | Meadow    | 4.9 | TRUE | 5 |\n",
       "| 10 | Rookery.Slope | 1.5 |  4 | Grassland | 5.0 | TRUE | 7 |\n",
       "| 15 | Pond.Field    | 4.1 |  0 | Meadow    | 5.0 | TRUE | 6 |\n",
       "| 16 | Water.Meadow  | 3.9 |  0 | Meadow    | 4.9 | TRUE | 8 |\n",
       "| 17 | Cheapside     | 2.2 |  8 | Scrub     | 4.7 | TRUE | 4 |\n",
       "| 20 | Farm.Wood     | 0.8 | 10 | Scrub     | 5.1 | TRUE | 3 |\n",
       "\n"
      ],
      "text/plain": [
       "   Field.Name    Area Slope Vegetation Soil.pH Damp Worm.density\n",
       "4  Rush.Meadow   2.4   5    Meadow     4.9     TRUE 5           \n",
       "10 Rookery.Slope 1.5   4    Grassland  5.0     TRUE 7           \n",
       "15 Pond.Field    4.1   0    Meadow     5.0     TRUE 6           \n",
       "16 Water.Meadow  3.9   0    Meadow     4.9     TRUE 8           \n",
       "17 Cheapside     2.2   8    Scrub      4.7     TRUE 4           \n",
       "20 Farm.Wood     0.8  10    Scrub      5.1     TRUE 3           "
      ]
     },
     "metadata": {},
     "output_type": "display_data"
    }
   ],
   "source": [
    "worms[-which(worms$Damp == FALSE), ]\n",
    "worms[!(worms$Damp == FALSE), ]\n",
    "worms[worms$Damp == TRUE, ]"
   ]
  },
  {
   "cell_type": "markdown",
   "id": "12dd9bc6-b8c4-4d35-9ba4-9ec6c723542c",
   "metadata": {},
   "source": [
    "### 결측값을 가진 행 처리"
   ]
  },
  {
   "cell_type": "code",
   "execution_count": 58,
   "id": "71137c6f-3712-45fa-bc96-152e7a0fe767",
   "metadata": {},
   "outputs": [
    {
     "data": {
      "text/html": [
       "'http://www.bio.ic.ac.uk/research/mjcraw/therbook/data/worms.missing.txt'"
      ],
      "text/latex": [
       "'http://www.bio.ic.ac.uk/research/mjcraw/therbook/data/worms.missing.txt'"
      ],
      "text/markdown": [
       "'http://www.bio.ic.ac.uk/research/mjcraw/therbook/data/worms.missing.txt'"
      ],
      "text/plain": [
       "[1] \"http://www.bio.ic.ac.uk/research/mjcraw/therbook/data/worms.missing.txt\""
      ]
     },
     "metadata": {},
     "output_type": "display_data"
    }
   ],
   "source": [
    "baseurl <- \"http://www.bio.ic.ac.uk/research/mjcraw/therbook/data/\"\n",
    "filename <- \"worms.missing.txt\"\n",
    "fileurl <- paste(baseurl, filename, sep=\"\")\n",
    "fileurl"
   ]
  },
  {
   "cell_type": "code",
   "execution_count": 60,
   "id": "00bcdc4b-d066-485e-8d24-ec43a9bd4b25",
   "metadata": {},
   "outputs": [
    {
     "data": {
      "text/html": [
       "<table class=\"dataframe\">\n",
       "<caption>A data.frame: 20 × 7</caption>\n",
       "<thead>\n",
       "\t<tr><th scope=col>Field.Name</th><th scope=col>Area</th><th scope=col>Slope</th><th scope=col>Vegetation</th><th scope=col>Soil.pH</th><th scope=col>Damp</th><th scope=col>Worm.density</th></tr>\n",
       "\t<tr><th scope=col>&lt;chr&gt;</th><th scope=col>&lt;dbl&gt;</th><th scope=col>&lt;int&gt;</th><th scope=col>&lt;chr&gt;</th><th scope=col>&lt;dbl&gt;</th><th scope=col>&lt;lgl&gt;</th><th scope=col>&lt;int&gt;</th></tr>\n",
       "</thead>\n",
       "<tbody>\n",
       "\t<tr><td>Nashs.Field      </td><td>3.6</td><td>11</td><td>Grassland</td><td>4.1</td><td>FALSE</td><td> 4</td></tr>\n",
       "\t<tr><td>Silwood.Bottom   </td><td>5.1</td><td>NA</td><td>Arable   </td><td>5.2</td><td>FALSE</td><td> 7</td></tr>\n",
       "\t<tr><td>Nursery.Field    </td><td>2.8</td><td> 3</td><td>Grassland</td><td>4.3</td><td>FALSE</td><td> 2</td></tr>\n",
       "\t<tr><td>Rush.Meadow      </td><td>2.4</td><td> 5</td><td>Meadow   </td><td>4.9</td><td> TRUE</td><td> 5</td></tr>\n",
       "\t<tr><td>Gunness.Thicket  </td><td>3.8</td><td> 0</td><td>Scrub    </td><td>4.2</td><td>FALSE</td><td> 6</td></tr>\n",
       "\t<tr><td>Oak.Mead         </td><td>3.1</td><td> 2</td><td>Grassland</td><td>3.9</td><td>FALSE</td><td> 2</td></tr>\n",
       "\t<tr><td>Church.Field     </td><td>3.5</td><td> 3</td><td>Grassland</td><td> NA</td><td>   NA</td><td>NA</td></tr>\n",
       "\t<tr><td>Ashurst          </td><td>2.1</td><td> 0</td><td>Arable   </td><td>4.8</td><td>FALSE</td><td> 4</td></tr>\n",
       "\t<tr><td>The.Orchard      </td><td>1.9</td><td> 0</td><td>Orchard  </td><td>5.7</td><td>FALSE</td><td> 9</td></tr>\n",
       "\t<tr><td>Rookery.Slope    </td><td>1.5</td><td> 4</td><td>Grassland</td><td>5.0</td><td> TRUE</td><td> 7</td></tr>\n",
       "\t<tr><td>Garden.Wood      </td><td>2.9</td><td>10</td><td>Scrub    </td><td>5.2</td><td>FALSE</td><td> 8</td></tr>\n",
       "\t<tr><td>North.Gravel     </td><td>3.3</td><td> 1</td><td>Grassland</td><td>4.1</td><td>FALSE</td><td> 1</td></tr>\n",
       "\t<tr><td>South.Gravel     </td><td>3.7</td><td> 2</td><td>Grassland</td><td>4.0</td><td>FALSE</td><td> 2</td></tr>\n",
       "\t<tr><td>Observatory.Ridge</td><td>1.8</td><td> 6</td><td>Grassland</td><td>3.8</td><td>FALSE</td><td> 0</td></tr>\n",
       "\t<tr><td>Pond.Field       </td><td>4.1</td><td> 0</td><td>Meadow   </td><td>5.0</td><td> TRUE</td><td> 6</td></tr>\n",
       "\t<tr><td>Water.Meadow     </td><td>3.9</td><td> 0</td><td>Meadow   </td><td>4.9</td><td> TRUE</td><td> 8</td></tr>\n",
       "\t<tr><td>Cheapside        </td><td>2.2</td><td> 8</td><td>Scrub    </td><td>4.7</td><td> TRUE</td><td> 4</td></tr>\n",
       "\t<tr><td>Pound.Hill       </td><td>4.4</td><td> 2</td><td>Arable   </td><td>4.5</td><td>FALSE</td><td> 5</td></tr>\n",
       "\t<tr><td>Gravel.Pit       </td><td> NA</td><td> 1</td><td>Grassland</td><td>3.5</td><td>FALSE</td><td> 1</td></tr>\n",
       "\t<tr><td>Farm.Wood        </td><td>0.8</td><td>10</td><td>Scrub    </td><td>5.1</td><td> TRUE</td><td> 3</td></tr>\n",
       "</tbody>\n",
       "</table>\n"
      ],
      "text/latex": [
       "A data.frame: 20 × 7\n",
       "\\begin{tabular}{lllllll}\n",
       " Field.Name & Area & Slope & Vegetation & Soil.pH & Damp & Worm.density\\\\\n",
       " <chr> & <dbl> & <int> & <chr> & <dbl> & <lgl> & <int>\\\\\n",
       "\\hline\n",
       "\t Nashs.Field       & 3.6 & 11 & Grassland & 4.1 & FALSE &  4\\\\\n",
       "\t Silwood.Bottom    & 5.1 & NA & Arable    & 5.2 & FALSE &  7\\\\\n",
       "\t Nursery.Field     & 2.8 &  3 & Grassland & 4.3 & FALSE &  2\\\\\n",
       "\t Rush.Meadow       & 2.4 &  5 & Meadow    & 4.9 &  TRUE &  5\\\\\n",
       "\t Gunness.Thicket   & 3.8 &  0 & Scrub     & 4.2 & FALSE &  6\\\\\n",
       "\t Oak.Mead          & 3.1 &  2 & Grassland & 3.9 & FALSE &  2\\\\\n",
       "\t Church.Field      & 3.5 &  3 & Grassland &  NA &    NA & NA\\\\\n",
       "\t Ashurst           & 2.1 &  0 & Arable    & 4.8 & FALSE &  4\\\\\n",
       "\t The.Orchard       & 1.9 &  0 & Orchard   & 5.7 & FALSE &  9\\\\\n",
       "\t Rookery.Slope     & 1.5 &  4 & Grassland & 5.0 &  TRUE &  7\\\\\n",
       "\t Garden.Wood       & 2.9 & 10 & Scrub     & 5.2 & FALSE &  8\\\\\n",
       "\t North.Gravel      & 3.3 &  1 & Grassland & 4.1 & FALSE &  1\\\\\n",
       "\t South.Gravel      & 3.7 &  2 & Grassland & 4.0 & FALSE &  2\\\\\n",
       "\t Observatory.Ridge & 1.8 &  6 & Grassland & 3.8 & FALSE &  0\\\\\n",
       "\t Pond.Field        & 4.1 &  0 & Meadow    & 5.0 &  TRUE &  6\\\\\n",
       "\t Water.Meadow      & 3.9 &  0 & Meadow    & 4.9 &  TRUE &  8\\\\\n",
       "\t Cheapside         & 2.2 &  8 & Scrub     & 4.7 &  TRUE &  4\\\\\n",
       "\t Pound.Hill        & 4.4 &  2 & Arable    & 4.5 & FALSE &  5\\\\\n",
       "\t Gravel.Pit        &  NA &  1 & Grassland & 3.5 & FALSE &  1\\\\\n",
       "\t Farm.Wood         & 0.8 & 10 & Scrub     & 5.1 &  TRUE &  3\\\\\n",
       "\\end{tabular}\n"
      ],
      "text/markdown": [
       "\n",
       "A data.frame: 20 × 7\n",
       "\n",
       "| Field.Name &lt;chr&gt; | Area &lt;dbl&gt; | Slope &lt;int&gt; | Vegetation &lt;chr&gt; | Soil.pH &lt;dbl&gt; | Damp &lt;lgl&gt; | Worm.density &lt;int&gt; |\n",
       "|---|---|---|---|---|---|---|\n",
       "| Nashs.Field       | 3.6 | 11 | Grassland | 4.1 | FALSE |  4 |\n",
       "| Silwood.Bottom    | 5.1 | NA | Arable    | 5.2 | FALSE |  7 |\n",
       "| Nursery.Field     | 2.8 |  3 | Grassland | 4.3 | FALSE |  2 |\n",
       "| Rush.Meadow       | 2.4 |  5 | Meadow    | 4.9 |  TRUE |  5 |\n",
       "| Gunness.Thicket   | 3.8 |  0 | Scrub     | 4.2 | FALSE |  6 |\n",
       "| Oak.Mead          | 3.1 |  2 | Grassland | 3.9 | FALSE |  2 |\n",
       "| Church.Field      | 3.5 |  3 | Grassland |  NA |    NA | NA |\n",
       "| Ashurst           | 2.1 |  0 | Arable    | 4.8 | FALSE |  4 |\n",
       "| The.Orchard       | 1.9 |  0 | Orchard   | 5.7 | FALSE |  9 |\n",
       "| Rookery.Slope     | 1.5 |  4 | Grassland | 5.0 |  TRUE |  7 |\n",
       "| Garden.Wood       | 2.9 | 10 | Scrub     | 5.2 | FALSE |  8 |\n",
       "| North.Gravel      | 3.3 |  1 | Grassland | 4.1 | FALSE |  1 |\n",
       "| South.Gravel      | 3.7 |  2 | Grassland | 4.0 | FALSE |  2 |\n",
       "| Observatory.Ridge | 1.8 |  6 | Grassland | 3.8 | FALSE |  0 |\n",
       "| Pond.Field        | 4.1 |  0 | Meadow    | 5.0 |  TRUE |  6 |\n",
       "| Water.Meadow      | 3.9 |  0 | Meadow    | 4.9 |  TRUE |  8 |\n",
       "| Cheapside         | 2.2 |  8 | Scrub     | 4.7 |  TRUE |  4 |\n",
       "| Pound.Hill        | 4.4 |  2 | Arable    | 4.5 | FALSE |  5 |\n",
       "| Gravel.Pit        |  NA |  1 | Grassland | 3.5 | FALSE |  1 |\n",
       "| Farm.Wood         | 0.8 | 10 | Scrub     | 5.1 |  TRUE |  3 |\n",
       "\n"
      ],
      "text/plain": [
       "   Field.Name        Area Slope Vegetation Soil.pH Damp  Worm.density\n",
       "1  Nashs.Field       3.6  11    Grassland  4.1     FALSE  4          \n",
       "2  Silwood.Bottom    5.1  NA    Arable     5.2     FALSE  7          \n",
       "3  Nursery.Field     2.8   3    Grassland  4.3     FALSE  2          \n",
       "4  Rush.Meadow       2.4   5    Meadow     4.9      TRUE  5          \n",
       "5  Gunness.Thicket   3.8   0    Scrub      4.2     FALSE  6          \n",
       "6  Oak.Mead          3.1   2    Grassland  3.9     FALSE  2          \n",
       "7  Church.Field      3.5   3    Grassland   NA        NA NA          \n",
       "8  Ashurst           2.1   0    Arable     4.8     FALSE  4          \n",
       "9  The.Orchard       1.9   0    Orchard    5.7     FALSE  9          \n",
       "10 Rookery.Slope     1.5   4    Grassland  5.0      TRUE  7          \n",
       "11 Garden.Wood       2.9  10    Scrub      5.2     FALSE  8          \n",
       "12 North.Gravel      3.3   1    Grassland  4.1     FALSE  1          \n",
       "13 South.Gravel      3.7   2    Grassland  4.0     FALSE  2          \n",
       "14 Observatory.Ridge 1.8   6    Grassland  3.8     FALSE  0          \n",
       "15 Pond.Field        4.1   0    Meadow     5.0      TRUE  6          \n",
       "16 Water.Meadow      3.9   0    Meadow     4.9      TRUE  8          \n",
       "17 Cheapside         2.2   8    Scrub      4.7      TRUE  4          \n",
       "18 Pound.Hill        4.4   2    Arable     4.5     FALSE  5          \n",
       "19 Gravel.Pit         NA   1    Grassland  3.5     FALSE  1          \n",
       "20 Farm.Wood         0.8  10    Scrub      5.1      TRUE  3          "
      ]
     },
     "metadata": {},
     "output_type": "display_data"
    }
   ],
   "source": [
    "df <- read.table(fileurl, header=TRUE)\n",
    "df"
   ]
  },
  {
   "cell_type": "code",
   "execution_count": 61,
   "id": "78c83999-e852-495d-91cf-289667c25aab",
   "metadata": {},
   "outputs": [
    {
     "data": {
      "text/html": [
       "<table class=\"dataframe\">\n",
       "<caption>A data.frame: 17 × 7</caption>\n",
       "<thead>\n",
       "\t<tr><th></th><th scope=col>Field.Name</th><th scope=col>Area</th><th scope=col>Slope</th><th scope=col>Vegetation</th><th scope=col>Soil.pH</th><th scope=col>Damp</th><th scope=col>Worm.density</th></tr>\n",
       "\t<tr><th></th><th scope=col>&lt;chr&gt;</th><th scope=col>&lt;dbl&gt;</th><th scope=col>&lt;int&gt;</th><th scope=col>&lt;chr&gt;</th><th scope=col>&lt;dbl&gt;</th><th scope=col>&lt;lgl&gt;</th><th scope=col>&lt;int&gt;</th></tr>\n",
       "</thead>\n",
       "<tbody>\n",
       "\t<tr><th scope=row>1</th><td>Nashs.Field      </td><td>3.6</td><td>11</td><td>Grassland</td><td>4.1</td><td>FALSE</td><td>4</td></tr>\n",
       "\t<tr><th scope=row>3</th><td>Nursery.Field    </td><td>2.8</td><td> 3</td><td>Grassland</td><td>4.3</td><td>FALSE</td><td>2</td></tr>\n",
       "\t<tr><th scope=row>4</th><td>Rush.Meadow      </td><td>2.4</td><td> 5</td><td>Meadow   </td><td>4.9</td><td> TRUE</td><td>5</td></tr>\n",
       "\t<tr><th scope=row>5</th><td>Gunness.Thicket  </td><td>3.8</td><td> 0</td><td>Scrub    </td><td>4.2</td><td>FALSE</td><td>6</td></tr>\n",
       "\t<tr><th scope=row>6</th><td>Oak.Mead         </td><td>3.1</td><td> 2</td><td>Grassland</td><td>3.9</td><td>FALSE</td><td>2</td></tr>\n",
       "\t<tr><th scope=row>8</th><td>Ashurst          </td><td>2.1</td><td> 0</td><td>Arable   </td><td>4.8</td><td>FALSE</td><td>4</td></tr>\n",
       "\t<tr><th scope=row>9</th><td>The.Orchard      </td><td>1.9</td><td> 0</td><td>Orchard  </td><td>5.7</td><td>FALSE</td><td>9</td></tr>\n",
       "\t<tr><th scope=row>10</th><td>Rookery.Slope    </td><td>1.5</td><td> 4</td><td>Grassland</td><td>5.0</td><td> TRUE</td><td>7</td></tr>\n",
       "\t<tr><th scope=row>11</th><td>Garden.Wood      </td><td>2.9</td><td>10</td><td>Scrub    </td><td>5.2</td><td>FALSE</td><td>8</td></tr>\n",
       "\t<tr><th scope=row>12</th><td>North.Gravel     </td><td>3.3</td><td> 1</td><td>Grassland</td><td>4.1</td><td>FALSE</td><td>1</td></tr>\n",
       "\t<tr><th scope=row>13</th><td>South.Gravel     </td><td>3.7</td><td> 2</td><td>Grassland</td><td>4.0</td><td>FALSE</td><td>2</td></tr>\n",
       "\t<tr><th scope=row>14</th><td>Observatory.Ridge</td><td>1.8</td><td> 6</td><td>Grassland</td><td>3.8</td><td>FALSE</td><td>0</td></tr>\n",
       "\t<tr><th scope=row>15</th><td>Pond.Field       </td><td>4.1</td><td> 0</td><td>Meadow   </td><td>5.0</td><td> TRUE</td><td>6</td></tr>\n",
       "\t<tr><th scope=row>16</th><td>Water.Meadow     </td><td>3.9</td><td> 0</td><td>Meadow   </td><td>4.9</td><td> TRUE</td><td>8</td></tr>\n",
       "\t<tr><th scope=row>17</th><td>Cheapside        </td><td>2.2</td><td> 8</td><td>Scrub    </td><td>4.7</td><td> TRUE</td><td>4</td></tr>\n",
       "\t<tr><th scope=row>18</th><td>Pound.Hill       </td><td>4.4</td><td> 2</td><td>Arable   </td><td>4.5</td><td>FALSE</td><td>5</td></tr>\n",
       "\t<tr><th scope=row>20</th><td>Farm.Wood        </td><td>0.8</td><td>10</td><td>Scrub    </td><td>5.1</td><td> TRUE</td><td>3</td></tr>\n",
       "</tbody>\n",
       "</table>\n"
      ],
      "text/latex": [
       "A data.frame: 17 × 7\n",
       "\\begin{tabular}{r|lllllll}\n",
       "  & Field.Name & Area & Slope & Vegetation & Soil.pH & Damp & Worm.density\\\\\n",
       "  & <chr> & <dbl> & <int> & <chr> & <dbl> & <lgl> & <int>\\\\\n",
       "\\hline\n",
       "\t1 & Nashs.Field       & 3.6 & 11 & Grassland & 4.1 & FALSE & 4\\\\\n",
       "\t3 & Nursery.Field     & 2.8 &  3 & Grassland & 4.3 & FALSE & 2\\\\\n",
       "\t4 & Rush.Meadow       & 2.4 &  5 & Meadow    & 4.9 &  TRUE & 5\\\\\n",
       "\t5 & Gunness.Thicket   & 3.8 &  0 & Scrub     & 4.2 & FALSE & 6\\\\\n",
       "\t6 & Oak.Mead          & 3.1 &  2 & Grassland & 3.9 & FALSE & 2\\\\\n",
       "\t8 & Ashurst           & 2.1 &  0 & Arable    & 4.8 & FALSE & 4\\\\\n",
       "\t9 & The.Orchard       & 1.9 &  0 & Orchard   & 5.7 & FALSE & 9\\\\\n",
       "\t10 & Rookery.Slope     & 1.5 &  4 & Grassland & 5.0 &  TRUE & 7\\\\\n",
       "\t11 & Garden.Wood       & 2.9 & 10 & Scrub     & 5.2 & FALSE & 8\\\\\n",
       "\t12 & North.Gravel      & 3.3 &  1 & Grassland & 4.1 & FALSE & 1\\\\\n",
       "\t13 & South.Gravel      & 3.7 &  2 & Grassland & 4.0 & FALSE & 2\\\\\n",
       "\t14 & Observatory.Ridge & 1.8 &  6 & Grassland & 3.8 & FALSE & 0\\\\\n",
       "\t15 & Pond.Field        & 4.1 &  0 & Meadow    & 5.0 &  TRUE & 6\\\\\n",
       "\t16 & Water.Meadow      & 3.9 &  0 & Meadow    & 4.9 &  TRUE & 8\\\\\n",
       "\t17 & Cheapside         & 2.2 &  8 & Scrub     & 4.7 &  TRUE & 4\\\\\n",
       "\t18 & Pound.Hill        & 4.4 &  2 & Arable    & 4.5 & FALSE & 5\\\\\n",
       "\t20 & Farm.Wood         & 0.8 & 10 & Scrub     & 5.1 &  TRUE & 3\\\\\n",
       "\\end{tabular}\n"
      ],
      "text/markdown": [
       "\n",
       "A data.frame: 17 × 7\n",
       "\n",
       "| <!--/--> | Field.Name &lt;chr&gt; | Area &lt;dbl&gt; | Slope &lt;int&gt; | Vegetation &lt;chr&gt; | Soil.pH &lt;dbl&gt; | Damp &lt;lgl&gt; | Worm.density &lt;int&gt; |\n",
       "|---|---|---|---|---|---|---|---|\n",
       "| 1 | Nashs.Field       | 3.6 | 11 | Grassland | 4.1 | FALSE | 4 |\n",
       "| 3 | Nursery.Field     | 2.8 |  3 | Grassland | 4.3 | FALSE | 2 |\n",
       "| 4 | Rush.Meadow       | 2.4 |  5 | Meadow    | 4.9 |  TRUE | 5 |\n",
       "| 5 | Gunness.Thicket   | 3.8 |  0 | Scrub     | 4.2 | FALSE | 6 |\n",
       "| 6 | Oak.Mead          | 3.1 |  2 | Grassland | 3.9 | FALSE | 2 |\n",
       "| 8 | Ashurst           | 2.1 |  0 | Arable    | 4.8 | FALSE | 4 |\n",
       "| 9 | The.Orchard       | 1.9 |  0 | Orchard   | 5.7 | FALSE | 9 |\n",
       "| 10 | Rookery.Slope     | 1.5 |  4 | Grassland | 5.0 |  TRUE | 7 |\n",
       "| 11 | Garden.Wood       | 2.9 | 10 | Scrub     | 5.2 | FALSE | 8 |\n",
       "| 12 | North.Gravel      | 3.3 |  1 | Grassland | 4.1 | FALSE | 1 |\n",
       "| 13 | South.Gravel      | 3.7 |  2 | Grassland | 4.0 | FALSE | 2 |\n",
       "| 14 | Observatory.Ridge | 1.8 |  6 | Grassland | 3.8 | FALSE | 0 |\n",
       "| 15 | Pond.Field        | 4.1 |  0 | Meadow    | 5.0 |  TRUE | 6 |\n",
       "| 16 | Water.Meadow      | 3.9 |  0 | Meadow    | 4.9 |  TRUE | 8 |\n",
       "| 17 | Cheapside         | 2.2 |  8 | Scrub     | 4.7 |  TRUE | 4 |\n",
       "| 18 | Pound.Hill        | 4.4 |  2 | Arable    | 4.5 | FALSE | 5 |\n",
       "| 20 | Farm.Wood         | 0.8 | 10 | Scrub     | 5.1 |  TRUE | 3 |\n",
       "\n"
      ],
      "text/plain": [
       "   Field.Name        Area Slope Vegetation Soil.pH Damp  Worm.density\n",
       "1  Nashs.Field       3.6  11    Grassland  4.1     FALSE 4           \n",
       "3  Nursery.Field     2.8   3    Grassland  4.3     FALSE 2           \n",
       "4  Rush.Meadow       2.4   5    Meadow     4.9      TRUE 5           \n",
       "5  Gunness.Thicket   3.8   0    Scrub      4.2     FALSE 6           \n",
       "6  Oak.Mead          3.1   2    Grassland  3.9     FALSE 2           \n",
       "8  Ashurst           2.1   0    Arable     4.8     FALSE 4           \n",
       "9  The.Orchard       1.9   0    Orchard    5.7     FALSE 9           \n",
       "10 Rookery.Slope     1.5   4    Grassland  5.0      TRUE 7           \n",
       "11 Garden.Wood       2.9  10    Scrub      5.2     FALSE 8           \n",
       "12 North.Gravel      3.3   1    Grassland  4.1     FALSE 1           \n",
       "13 South.Gravel      3.7   2    Grassland  4.0     FALSE 2           \n",
       "14 Observatory.Ridge 1.8   6    Grassland  3.8     FALSE 0           \n",
       "15 Pond.Field        4.1   0    Meadow     5.0      TRUE 6           \n",
       "16 Water.Meadow      3.9   0    Meadow     4.9      TRUE 8           \n",
       "17 Cheapside         2.2   8    Scrub      4.7      TRUE 4           \n",
       "18 Pound.Hill        4.4   2    Arable     4.5     FALSE 5           \n",
       "20 Farm.Wood         0.8  10    Scrub      5.1      TRUE 3           "
      ]
     },
     "metadata": {},
     "output_type": "display_data"
    }
   ],
   "source": [
    "na.omit(df)"
   ]
  },
  {
   "cell_type": "code",
   "execution_count": 98,
   "id": "246696ea-ac5d-4f22-9f8c-0940d5de19a4",
   "metadata": {},
   "outputs": [
    {
     "data": {
      "text/html": [
       "<style>\n",
       ".list-inline {list-style: none; margin:0; padding: 0}\n",
       ".list-inline>li {display: inline-block}\n",
       ".list-inline>li:not(:last-child)::after {content: \"\\00b7\"; padding: 0 .5ex}\n",
       "</style>\n",
       "<ol class=list-inline><li>2</li><li>7</li><li>19</li></ol>\n"
      ],
      "text/latex": [
       "\\begin{enumerate*}\n",
       "\\item 2\n",
       "\\item 7\n",
       "\\item 19\n",
       "\\end{enumerate*}\n"
      ],
      "text/markdown": [
       "1. 2\n",
       "2. 7\n",
       "3. 19\n",
       "\n",
       "\n"
      ],
      "text/plain": [
       "[1]  2  7 19"
      ]
     },
     "metadata": {},
     "output_type": "display_data"
    }
   ],
   "source": [
    "df %>% is.na %>% rowSums %>% as.logical %>% which"
   ]
  },
  {
   "cell_type": "code",
   "execution_count": 95,
   "id": "a6616cf3-fbd5-4709-b902-8960db84386c",
   "metadata": {},
   "outputs": [
    {
     "data": {
      "text/html": [
       "<table class=\"dataframe\">\n",
       "<caption>A data.frame: 6 × 7</caption>\n",
       "<thead>\n",
       "\t<tr><th></th><th scope=col>Field.Name</th><th scope=col>Area</th><th scope=col>Slope</th><th scope=col>Vegetation</th><th scope=col>Soil.pH</th><th scope=col>Damp</th><th scope=col>Worm.density</th></tr>\n",
       "\t<tr><th></th><th scope=col>&lt;chr&gt;</th><th scope=col>&lt;dbl&gt;</th><th scope=col>&lt;int&gt;</th><th scope=col>&lt;chr&gt;</th><th scope=col>&lt;dbl&gt;</th><th scope=col>&lt;lgl&gt;</th><th scope=col>&lt;int&gt;</th></tr>\n",
       "</thead>\n",
       "<tbody>\n",
       "\t<tr><th scope=row>1</th><td>Nashs.Field    </td><td>3.6</td><td>11</td><td>Grassland</td><td>4.1</td><td>FALSE</td><td>4</td></tr>\n",
       "\t<tr><th scope=row>3</th><td>Nursery.Field  </td><td>2.8</td><td> 3</td><td>Grassland</td><td>4.3</td><td>FALSE</td><td>2</td></tr>\n",
       "\t<tr><th scope=row>4</th><td>Rush.Meadow    </td><td>2.4</td><td> 5</td><td>Meadow   </td><td>4.9</td><td> TRUE</td><td>5</td></tr>\n",
       "\t<tr><th scope=row>5</th><td>Gunness.Thicket</td><td>3.8</td><td> 0</td><td>Scrub    </td><td>4.2</td><td>FALSE</td><td>6</td></tr>\n",
       "\t<tr><th scope=row>6</th><td>Oak.Mead       </td><td>3.1</td><td> 2</td><td>Grassland</td><td>3.9</td><td>FALSE</td><td>2</td></tr>\n",
       "\t<tr><th scope=row>8</th><td>Ashurst        </td><td>2.1</td><td> 0</td><td>Arable   </td><td>4.8</td><td>FALSE</td><td>4</td></tr>\n",
       "</tbody>\n",
       "</table>\n"
      ],
      "text/latex": [
       "A data.frame: 6 × 7\n",
       "\\begin{tabular}{r|lllllll}\n",
       "  & Field.Name & Area & Slope & Vegetation & Soil.pH & Damp & Worm.density\\\\\n",
       "  & <chr> & <dbl> & <int> & <chr> & <dbl> & <lgl> & <int>\\\\\n",
       "\\hline\n",
       "\t1 & Nashs.Field     & 3.6 & 11 & Grassland & 4.1 & FALSE & 4\\\\\n",
       "\t3 & Nursery.Field   & 2.8 &  3 & Grassland & 4.3 & FALSE & 2\\\\\n",
       "\t4 & Rush.Meadow     & 2.4 &  5 & Meadow    & 4.9 &  TRUE & 5\\\\\n",
       "\t5 & Gunness.Thicket & 3.8 &  0 & Scrub     & 4.2 & FALSE & 6\\\\\n",
       "\t6 & Oak.Mead        & 3.1 &  2 & Grassland & 3.9 & FALSE & 2\\\\\n",
       "\t8 & Ashurst         & 2.1 &  0 & Arable    & 4.8 & FALSE & 4\\\\\n",
       "\\end{tabular}\n"
      ],
      "text/markdown": [
       "\n",
       "A data.frame: 6 × 7\n",
       "\n",
       "| <!--/--> | Field.Name &lt;chr&gt; | Area &lt;dbl&gt; | Slope &lt;int&gt; | Vegetation &lt;chr&gt; | Soil.pH &lt;dbl&gt; | Damp &lt;lgl&gt; | Worm.density &lt;int&gt; |\n",
       "|---|---|---|---|---|---|---|---|\n",
       "| 1 | Nashs.Field     | 3.6 | 11 | Grassland | 4.1 | FALSE | 4 |\n",
       "| 3 | Nursery.Field   | 2.8 |  3 | Grassland | 4.3 | FALSE | 2 |\n",
       "| 4 | Rush.Meadow     | 2.4 |  5 | Meadow    | 4.9 |  TRUE | 5 |\n",
       "| 5 | Gunness.Thicket | 3.8 |  0 | Scrub     | 4.2 | FALSE | 6 |\n",
       "| 6 | Oak.Mead        | 3.1 |  2 | Grassland | 3.9 | FALSE | 2 |\n",
       "| 8 | Ashurst         | 2.1 |  0 | Arable    | 4.8 | FALSE | 4 |\n",
       "\n"
      ],
      "text/plain": [
       "  Field.Name      Area Slope Vegetation Soil.pH Damp  Worm.density\n",
       "1 Nashs.Field     3.6  11    Grassland  4.1     FALSE 4           \n",
       "3 Nursery.Field   2.8   3    Grassland  4.3     FALSE 2           \n",
       "4 Rush.Meadow     2.4   5    Meadow     4.9      TRUE 5           \n",
       "5 Gunness.Thicket 3.8   0    Scrub      4.2     FALSE 6           \n",
       "6 Oak.Mead        3.1   2    Grassland  3.9     FALSE 2           \n",
       "8 Ashurst         2.1   0    Arable     4.8     FALSE 4           "
      ]
     },
     "metadata": {},
     "output_type": "display_data"
    }
   ],
   "source": [
    "na.exclude(df) %>% head"
   ]
  },
  {
   "cell_type": "code",
   "execution_count": 97,
   "id": "9aec432a-48f9-4190-a756-3ce9df11bf0d",
   "metadata": {},
   "outputs": [
    {
     "data": {
      "text/html": [
       "<table class=\"dataframe\">\n",
       "<caption>A data.frame: 6 × 7</caption>\n",
       "<thead>\n",
       "\t<tr><th></th><th scope=col>Field.Name</th><th scope=col>Area</th><th scope=col>Slope</th><th scope=col>Vegetation</th><th scope=col>Soil.pH</th><th scope=col>Damp</th><th scope=col>Worm.density</th></tr>\n",
       "\t<tr><th></th><th scope=col>&lt;chr&gt;</th><th scope=col>&lt;dbl&gt;</th><th scope=col>&lt;int&gt;</th><th scope=col>&lt;chr&gt;</th><th scope=col>&lt;dbl&gt;</th><th scope=col>&lt;lgl&gt;</th><th scope=col>&lt;int&gt;</th></tr>\n",
       "</thead>\n",
       "<tbody>\n",
       "\t<tr><th scope=row>1</th><td>Nashs.Field    </td><td>3.6</td><td>11</td><td>Grassland</td><td>4.1</td><td>FALSE</td><td>4</td></tr>\n",
       "\t<tr><th scope=row>3</th><td>Nursery.Field  </td><td>2.8</td><td> 3</td><td>Grassland</td><td>4.3</td><td>FALSE</td><td>2</td></tr>\n",
       "\t<tr><th scope=row>4</th><td>Rush.Meadow    </td><td>2.4</td><td> 5</td><td>Meadow   </td><td>4.9</td><td> TRUE</td><td>5</td></tr>\n",
       "\t<tr><th scope=row>5</th><td>Gunness.Thicket</td><td>3.8</td><td> 0</td><td>Scrub    </td><td>4.2</td><td>FALSE</td><td>6</td></tr>\n",
       "\t<tr><th scope=row>6</th><td>Oak.Mead       </td><td>3.1</td><td> 2</td><td>Grassland</td><td>3.9</td><td>FALSE</td><td>2</td></tr>\n",
       "\t<tr><th scope=row>8</th><td>Ashurst        </td><td>2.1</td><td> 0</td><td>Arable   </td><td>4.8</td><td>FALSE</td><td>4</td></tr>\n",
       "</tbody>\n",
       "</table>\n"
      ],
      "text/latex": [
       "A data.frame: 6 × 7\n",
       "\\begin{tabular}{r|lllllll}\n",
       "  & Field.Name & Area & Slope & Vegetation & Soil.pH & Damp & Worm.density\\\\\n",
       "  & <chr> & <dbl> & <int> & <chr> & <dbl> & <lgl> & <int>\\\\\n",
       "\\hline\n",
       "\t1 & Nashs.Field     & 3.6 & 11 & Grassland & 4.1 & FALSE & 4\\\\\n",
       "\t3 & Nursery.Field   & 2.8 &  3 & Grassland & 4.3 & FALSE & 2\\\\\n",
       "\t4 & Rush.Meadow     & 2.4 &  5 & Meadow    & 4.9 &  TRUE & 5\\\\\n",
       "\t5 & Gunness.Thicket & 3.8 &  0 & Scrub     & 4.2 & FALSE & 6\\\\\n",
       "\t6 & Oak.Mead        & 3.1 &  2 & Grassland & 3.9 & FALSE & 2\\\\\n",
       "\t8 & Ashurst         & 2.1 &  0 & Arable    & 4.8 & FALSE & 4\\\\\n",
       "\\end{tabular}\n"
      ],
      "text/markdown": [
       "\n",
       "A data.frame: 6 × 7\n",
       "\n",
       "| <!--/--> | Field.Name &lt;chr&gt; | Area &lt;dbl&gt; | Slope &lt;int&gt; | Vegetation &lt;chr&gt; | Soil.pH &lt;dbl&gt; | Damp &lt;lgl&gt; | Worm.density &lt;int&gt; |\n",
       "|---|---|---|---|---|---|---|---|\n",
       "| 1 | Nashs.Field     | 3.6 | 11 | Grassland | 4.1 | FALSE | 4 |\n",
       "| 3 | Nursery.Field   | 2.8 |  3 | Grassland | 4.3 | FALSE | 2 |\n",
       "| 4 | Rush.Meadow     | 2.4 |  5 | Meadow    | 4.9 |  TRUE | 5 |\n",
       "| 5 | Gunness.Thicket | 3.8 |  0 | Scrub     | 4.2 | FALSE | 6 |\n",
       "| 6 | Oak.Mead        | 3.1 |  2 | Grassland | 3.9 | FALSE | 2 |\n",
       "| 8 | Ashurst         | 2.1 |  0 | Arable    | 4.8 | FALSE | 4 |\n",
       "\n"
      ],
      "text/plain": [
       "  Field.Name      Area Slope Vegetation Soil.pH Damp  Worm.density\n",
       "1 Nashs.Field     3.6  11    Grassland  4.1     FALSE 4           \n",
       "3 Nursery.Field   2.8   3    Grassland  4.3     FALSE 2           \n",
       "4 Rush.Meadow     2.4   5    Meadow     4.9      TRUE 5           \n",
       "5 Gunness.Thicket 3.8   0    Scrub      4.2     FALSE 6           \n",
       "6 Oak.Mead        3.1   2    Grassland  3.9     FALSE 2           \n",
       "8 Ashurst         2.1   0    Arable     4.8     FALSE 4           "
      ]
     },
     "metadata": {},
     "output_type": "display_data"
    }
   ],
   "source": [
    "df[complete.cases(df),] %>% head"
   ]
  },
  {
   "cell_type": "code",
   "execution_count": 103,
   "id": "5c6c5ce8-ba2f-4b3c-88d2-4598e63f0798",
   "metadata": {},
   "outputs": [
    {
     "data": {
      "text/html": [
       "<style>\n",
       ".dl-inline {width: auto; margin:0; padding: 0}\n",
       ".dl-inline>dt, .dl-inline>dd {float: none; width: auto; display: inline-block}\n",
       ".dl-inline>dt::after {content: \":\\0020\"; padding-right: .5ex}\n",
       ".dl-inline>dt:not(:first-of-type) {padding-left: .5ex}\n",
       "</style><dl class=dl-inline><dt>Field.Name</dt><dd>0</dd><dt>Area</dt><dd>1</dd><dt>Slope</dt><dd>1</dd><dt>Vegetation</dt><dd>0</dd><dt>Soil.pH</dt><dd>1</dd><dt>Damp</dt><dd>1</dd><dt>Worm.density</dt><dd>1</dd></dl>\n"
      ],
      "text/latex": [
       "\\begin{description*}\n",
       "\\item[Field.Name] 0\n",
       "\\item[Area] 1\n",
       "\\item[Slope] 1\n",
       "\\item[Vegetation] 0\n",
       "\\item[Soil.pH] 1\n",
       "\\item[Damp] 1\n",
       "\\item[Worm.density] 1\n",
       "\\end{description*}\n"
      ],
      "text/markdown": [
       "Field.Name\n",
       ":   0Area\n",
       ":   1Slope\n",
       ":   1Vegetation\n",
       ":   0Soil.pH\n",
       ":   1Damp\n",
       ":   1Worm.density\n",
       ":   1\n",
       "\n"
      ],
      "text/plain": [
       "  Field.Name         Area        Slope   Vegetation      Soil.pH         Damp \n",
       "           0            1            1            0            1            1 \n",
       "Worm.density \n",
       "           1 "
      ]
     },
     "metadata": {},
     "output_type": "display_data"
    }
   ],
   "source": [
    "apply(apply(df, 2, is.na), 2, sum)"
   ]
  },
  {
   "cell_type": "code",
   "execution_count": 107,
   "id": "5be04972-5be4-40f2-a4a5-44038fcaf382",
   "metadata": {},
   "outputs": [],
   "source": [
    "df[is.na(df)] <- 0"
   ]
  },
  {
   "cell_type": "code",
   "execution_count": 110,
   "id": "e69eaae1-2b20-473e-8a7d-090723d05212",
   "metadata": {},
   "outputs": [
    {
     "data": {
      "text/html": [
       "<table class=\"dataframe\">\n",
       "<caption>A data.frame: 20 × 7</caption>\n",
       "<thead>\n",
       "\t<tr><th scope=col>Field.Name</th><th scope=col>Area</th><th scope=col>Slope</th><th scope=col>Vegetation</th><th scope=col>Soil.pH</th><th scope=col>Damp</th><th scope=col>Worm.density</th></tr>\n",
       "\t<tr><th scope=col>&lt;chr&gt;</th><th scope=col>&lt;dbl&gt;</th><th scope=col>&lt;dbl&gt;</th><th scope=col>&lt;chr&gt;</th><th scope=col>&lt;dbl&gt;</th><th scope=col>&lt;dbl&gt;</th><th scope=col>&lt;dbl&gt;</th></tr>\n",
       "</thead>\n",
       "<tbody>\n",
       "\t<tr><td>Nashs.Field      </td><td>3.6</td><td>11</td><td>Grassland</td><td>4.1</td><td>0</td><td>4</td></tr>\n",
       "\t<tr><td>Silwood.Bottom   </td><td>5.1</td><td> 0</td><td>Arable   </td><td>5.2</td><td>0</td><td>7</td></tr>\n",
       "\t<tr><td>Nursery.Field    </td><td>2.8</td><td> 3</td><td>Grassland</td><td>4.3</td><td>0</td><td>2</td></tr>\n",
       "\t<tr><td>Rush.Meadow      </td><td>2.4</td><td> 5</td><td>Meadow   </td><td>4.9</td><td>1</td><td>5</td></tr>\n",
       "\t<tr><td>Gunness.Thicket  </td><td>3.8</td><td> 0</td><td>Scrub    </td><td>4.2</td><td>0</td><td>6</td></tr>\n",
       "\t<tr><td>Oak.Mead         </td><td>3.1</td><td> 2</td><td>Grassland</td><td>3.9</td><td>0</td><td>2</td></tr>\n",
       "\t<tr><td>Church.Field     </td><td>3.5</td><td> 3</td><td>Grassland</td><td>0.0</td><td>0</td><td>0</td></tr>\n",
       "\t<tr><td>Ashurst          </td><td>2.1</td><td> 0</td><td>Arable   </td><td>4.8</td><td>0</td><td>4</td></tr>\n",
       "\t<tr><td>The.Orchard      </td><td>1.9</td><td> 0</td><td>Orchard  </td><td>5.7</td><td>0</td><td>9</td></tr>\n",
       "\t<tr><td>Rookery.Slope    </td><td>1.5</td><td> 4</td><td>Grassland</td><td>5.0</td><td>1</td><td>7</td></tr>\n",
       "\t<tr><td>Garden.Wood      </td><td>2.9</td><td>10</td><td>Scrub    </td><td>5.2</td><td>0</td><td>8</td></tr>\n",
       "\t<tr><td>North.Gravel     </td><td>3.3</td><td> 1</td><td>Grassland</td><td>4.1</td><td>0</td><td>1</td></tr>\n",
       "\t<tr><td>South.Gravel     </td><td>3.7</td><td> 2</td><td>Grassland</td><td>4.0</td><td>0</td><td>2</td></tr>\n",
       "\t<tr><td>Observatory.Ridge</td><td>1.8</td><td> 6</td><td>Grassland</td><td>3.8</td><td>0</td><td>0</td></tr>\n",
       "\t<tr><td>Pond.Field       </td><td>4.1</td><td> 0</td><td>Meadow   </td><td>5.0</td><td>1</td><td>6</td></tr>\n",
       "\t<tr><td>Water.Meadow     </td><td>3.9</td><td> 0</td><td>Meadow   </td><td>4.9</td><td>1</td><td>8</td></tr>\n",
       "\t<tr><td>Cheapside        </td><td>2.2</td><td> 8</td><td>Scrub    </td><td>4.7</td><td>1</td><td>4</td></tr>\n",
       "\t<tr><td>Pound.Hill       </td><td>4.4</td><td> 2</td><td>Arable   </td><td>4.5</td><td>0</td><td>5</td></tr>\n",
       "\t<tr><td>Gravel.Pit       </td><td>0.0</td><td> 1</td><td>Grassland</td><td>3.5</td><td>0</td><td>1</td></tr>\n",
       "\t<tr><td>Farm.Wood        </td><td>0.8</td><td>10</td><td>Scrub    </td><td>5.1</td><td>1</td><td>3</td></tr>\n",
       "</tbody>\n",
       "</table>\n"
      ],
      "text/latex": [
       "A data.frame: 20 × 7\n",
       "\\begin{tabular}{lllllll}\n",
       " Field.Name & Area & Slope & Vegetation & Soil.pH & Damp & Worm.density\\\\\n",
       " <chr> & <dbl> & <dbl> & <chr> & <dbl> & <dbl> & <dbl>\\\\\n",
       "\\hline\n",
       "\t Nashs.Field       & 3.6 & 11 & Grassland & 4.1 & 0 & 4\\\\\n",
       "\t Silwood.Bottom    & 5.1 &  0 & Arable    & 5.2 & 0 & 7\\\\\n",
       "\t Nursery.Field     & 2.8 &  3 & Grassland & 4.3 & 0 & 2\\\\\n",
       "\t Rush.Meadow       & 2.4 &  5 & Meadow    & 4.9 & 1 & 5\\\\\n",
       "\t Gunness.Thicket   & 3.8 &  0 & Scrub     & 4.2 & 0 & 6\\\\\n",
       "\t Oak.Mead          & 3.1 &  2 & Grassland & 3.9 & 0 & 2\\\\\n",
       "\t Church.Field      & 3.5 &  3 & Grassland & 0.0 & 0 & 0\\\\\n",
       "\t Ashurst           & 2.1 &  0 & Arable    & 4.8 & 0 & 4\\\\\n",
       "\t The.Orchard       & 1.9 &  0 & Orchard   & 5.7 & 0 & 9\\\\\n",
       "\t Rookery.Slope     & 1.5 &  4 & Grassland & 5.0 & 1 & 7\\\\\n",
       "\t Garden.Wood       & 2.9 & 10 & Scrub     & 5.2 & 0 & 8\\\\\n",
       "\t North.Gravel      & 3.3 &  1 & Grassland & 4.1 & 0 & 1\\\\\n",
       "\t South.Gravel      & 3.7 &  2 & Grassland & 4.0 & 0 & 2\\\\\n",
       "\t Observatory.Ridge & 1.8 &  6 & Grassland & 3.8 & 0 & 0\\\\\n",
       "\t Pond.Field        & 4.1 &  0 & Meadow    & 5.0 & 1 & 6\\\\\n",
       "\t Water.Meadow      & 3.9 &  0 & Meadow    & 4.9 & 1 & 8\\\\\n",
       "\t Cheapside         & 2.2 &  8 & Scrub     & 4.7 & 1 & 4\\\\\n",
       "\t Pound.Hill        & 4.4 &  2 & Arable    & 4.5 & 0 & 5\\\\\n",
       "\t Gravel.Pit        & 0.0 &  1 & Grassland & 3.5 & 0 & 1\\\\\n",
       "\t Farm.Wood         & 0.8 & 10 & Scrub     & 5.1 & 1 & 3\\\\\n",
       "\\end{tabular}\n"
      ],
      "text/markdown": [
       "\n",
       "A data.frame: 20 × 7\n",
       "\n",
       "| Field.Name &lt;chr&gt; | Area &lt;dbl&gt; | Slope &lt;dbl&gt; | Vegetation &lt;chr&gt; | Soil.pH &lt;dbl&gt; | Damp &lt;dbl&gt; | Worm.density &lt;dbl&gt; |\n",
       "|---|---|---|---|---|---|---|\n",
       "| Nashs.Field       | 3.6 | 11 | Grassland | 4.1 | 0 | 4 |\n",
       "| Silwood.Bottom    | 5.1 |  0 | Arable    | 5.2 | 0 | 7 |\n",
       "| Nursery.Field     | 2.8 |  3 | Grassland | 4.3 | 0 | 2 |\n",
       "| Rush.Meadow       | 2.4 |  5 | Meadow    | 4.9 | 1 | 5 |\n",
       "| Gunness.Thicket   | 3.8 |  0 | Scrub     | 4.2 | 0 | 6 |\n",
       "| Oak.Mead          | 3.1 |  2 | Grassland | 3.9 | 0 | 2 |\n",
       "| Church.Field      | 3.5 |  3 | Grassland | 0.0 | 0 | 0 |\n",
       "| Ashurst           | 2.1 |  0 | Arable    | 4.8 | 0 | 4 |\n",
       "| The.Orchard       | 1.9 |  0 | Orchard   | 5.7 | 0 | 9 |\n",
       "| Rookery.Slope     | 1.5 |  4 | Grassland | 5.0 | 1 | 7 |\n",
       "| Garden.Wood       | 2.9 | 10 | Scrub     | 5.2 | 0 | 8 |\n",
       "| North.Gravel      | 3.3 |  1 | Grassland | 4.1 | 0 | 1 |\n",
       "| South.Gravel      | 3.7 |  2 | Grassland | 4.0 | 0 | 2 |\n",
       "| Observatory.Ridge | 1.8 |  6 | Grassland | 3.8 | 0 | 0 |\n",
       "| Pond.Field        | 4.1 |  0 | Meadow    | 5.0 | 1 | 6 |\n",
       "| Water.Meadow      | 3.9 |  0 | Meadow    | 4.9 | 1 | 8 |\n",
       "| Cheapside         | 2.2 |  8 | Scrub     | 4.7 | 1 | 4 |\n",
       "| Pound.Hill        | 4.4 |  2 | Arable    | 4.5 | 0 | 5 |\n",
       "| Gravel.Pit        | 0.0 |  1 | Grassland | 3.5 | 0 | 1 |\n",
       "| Farm.Wood         | 0.8 | 10 | Scrub     | 5.1 | 1 | 3 |\n",
       "\n"
      ],
      "text/plain": [
       "   Field.Name        Area Slope Vegetation Soil.pH Damp Worm.density\n",
       "1  Nashs.Field       3.6  11    Grassland  4.1     0    4           \n",
       "2  Silwood.Bottom    5.1   0    Arable     5.2     0    7           \n",
       "3  Nursery.Field     2.8   3    Grassland  4.3     0    2           \n",
       "4  Rush.Meadow       2.4   5    Meadow     4.9     1    5           \n",
       "5  Gunness.Thicket   3.8   0    Scrub      4.2     0    6           \n",
       "6  Oak.Mead          3.1   2    Grassland  3.9     0    2           \n",
       "7  Church.Field      3.5   3    Grassland  0.0     0    0           \n",
       "8  Ashurst           2.1   0    Arable     4.8     0    4           \n",
       "9  The.Orchard       1.9   0    Orchard    5.7     0    9           \n",
       "10 Rookery.Slope     1.5   4    Grassland  5.0     1    7           \n",
       "11 Garden.Wood       2.9  10    Scrub      5.2     0    8           \n",
       "12 North.Gravel      3.3   1    Grassland  4.1     0    1           \n",
       "13 South.Gravel      3.7   2    Grassland  4.0     0    2           \n",
       "14 Observatory.Ridge 1.8   6    Grassland  3.8     0    0           \n",
       "15 Pond.Field        4.1   0    Meadow     5.0     1    6           \n",
       "16 Water.Meadow      3.9   0    Meadow     4.9     1    8           \n",
       "17 Cheapside         2.2   8    Scrub      4.7     1    4           \n",
       "18 Pound.Hill        4.4   2    Arable     4.5     0    5           \n",
       "19 Gravel.Pit        0.0   1    Grassland  3.5     0    1           \n",
       "20 Farm.Wood         0.8  10    Scrub      5.1     1    3           "
      ]
     },
     "metadata": {},
     "output_type": "display_data"
    }
   ],
   "source": [
    "df "
   ]
  },
  {
   "cell_type": "code",
   "execution_count": 111,
   "id": "05aff5c0-8c0f-4359-a221-13bbeceb3432",
   "metadata": {},
   "outputs": [
    {
     "data": {
      "text/html": [
       "<table class=\"dataframe\">\n",
       "<caption>A data.frame: 20 × 2</caption>\n",
       "<thead>\n",
       "\t<tr><th scope=col>Slope</th><th scope=col>Soil.pH</th></tr>\n",
       "\t<tr><th scope=col>&lt;int&gt;</th><th scope=col>&lt;dbl&gt;</th></tr>\n",
       "</thead>\n",
       "<tbody>\n",
       "\t<tr><td>11</td><td>4.1</td></tr>\n",
       "\t<tr><td> 2</td><td>5.2</td></tr>\n",
       "\t<tr><td> 3</td><td>4.3</td></tr>\n",
       "\t<tr><td> 5</td><td>4.9</td></tr>\n",
       "\t<tr><td> 0</td><td>4.2</td></tr>\n",
       "\t<tr><td> 2</td><td>3.9</td></tr>\n",
       "\t<tr><td> 3</td><td>4.2</td></tr>\n",
       "\t<tr><td> 0</td><td>4.8</td></tr>\n",
       "\t<tr><td> 0</td><td>5.7</td></tr>\n",
       "\t<tr><td> 4</td><td>5.0</td></tr>\n",
       "\t<tr><td>10</td><td>5.2</td></tr>\n",
       "\t<tr><td> 1</td><td>4.1</td></tr>\n",
       "\t<tr><td> 2</td><td>4.0</td></tr>\n",
       "\t<tr><td> 6</td><td>3.8</td></tr>\n",
       "\t<tr><td> 0</td><td>5.0</td></tr>\n",
       "\t<tr><td> 0</td><td>4.9</td></tr>\n",
       "\t<tr><td> 8</td><td>4.7</td></tr>\n",
       "\t<tr><td> 2</td><td>4.5</td></tr>\n",
       "\t<tr><td> 1</td><td>3.5</td></tr>\n",
       "\t<tr><td>10</td><td>5.1</td></tr>\n",
       "</tbody>\n",
       "</table>\n"
      ],
      "text/latex": [
       "A data.frame: 20 × 2\n",
       "\\begin{tabular}{ll}\n",
       " Slope & Soil.pH\\\\\n",
       " <int> & <dbl>\\\\\n",
       "\\hline\n",
       "\t 11 & 4.1\\\\\n",
       "\t  2 & 5.2\\\\\n",
       "\t  3 & 4.3\\\\\n",
       "\t  5 & 4.9\\\\\n",
       "\t  0 & 4.2\\\\\n",
       "\t  2 & 3.9\\\\\n",
       "\t  3 & 4.2\\\\\n",
       "\t  0 & 4.8\\\\\n",
       "\t  0 & 5.7\\\\\n",
       "\t  4 & 5.0\\\\\n",
       "\t 10 & 5.2\\\\\n",
       "\t  1 & 4.1\\\\\n",
       "\t  2 & 4.0\\\\\n",
       "\t  6 & 3.8\\\\\n",
       "\t  0 & 5.0\\\\\n",
       "\t  0 & 4.9\\\\\n",
       "\t  8 & 4.7\\\\\n",
       "\t  2 & 4.5\\\\\n",
       "\t  1 & 3.5\\\\\n",
       "\t 10 & 5.1\\\\\n",
       "\\end{tabular}\n"
      ],
      "text/markdown": [
       "\n",
       "A data.frame: 20 × 2\n",
       "\n",
       "| Slope &lt;int&gt; | Soil.pH &lt;dbl&gt; |\n",
       "|---|---|\n",
       "| 11 | 4.1 |\n",
       "|  2 | 5.2 |\n",
       "|  3 | 4.3 |\n",
       "|  5 | 4.9 |\n",
       "|  0 | 4.2 |\n",
       "|  2 | 3.9 |\n",
       "|  3 | 4.2 |\n",
       "|  0 | 4.8 |\n",
       "|  0 | 5.7 |\n",
       "|  4 | 5.0 |\n",
       "| 10 | 5.2 |\n",
       "|  1 | 4.1 |\n",
       "|  2 | 4.0 |\n",
       "|  6 | 3.8 |\n",
       "|  0 | 5.0 |\n",
       "|  0 | 4.9 |\n",
       "|  8 | 4.7 |\n",
       "|  2 | 4.5 |\n",
       "|  1 | 3.5 |\n",
       "| 10 | 5.1 |\n",
       "\n"
      ],
      "text/plain": [
       "   Slope Soil.pH\n",
       "1  11    4.1    \n",
       "2   2    5.2    \n",
       "3   3    4.3    \n",
       "4   5    4.9    \n",
       "5   0    4.2    \n",
       "6   2    3.9    \n",
       "7   3    4.2    \n",
       "8   0    4.8    \n",
       "9   0    5.7    \n",
       "10  4    5.0    \n",
       "11 10    5.2    \n",
       "12  1    4.1    \n",
       "13  2    4.0    \n",
       "14  6    3.8    \n",
       "15  0    5.0    \n",
       "16  0    4.9    \n",
       "17  8    4.7    \n",
       "18  2    4.5    \n",
       "19  1    3.5    \n",
       "20 10    5.1    "
      ]
     },
     "metadata": {},
     "output_type": "display_data"
    }
   ],
   "source": [
    "worms[,grep('^S', names(worms))]"
   ]
  },
  {
   "cell_type": "markdown",
   "id": "e6dec7af-a62b-463d-b42a-2f6263358470",
   "metadata": {},
   "source": [
    "### 다른 객체로부터 데이터프레임 생성"
   ]
  },
  {
   "cell_type": "code",
   "execution_count": 113,
   "id": "943e588a-4b44-420f-8398-019809ef4b0a",
   "metadata": {},
   "outputs": [],
   "source": [
    "x <- runif(10)"
   ]
  },
  {
   "cell_type": "code",
   "execution_count": 114,
   "id": "d7958b4b-2dde-45ae-b35b-78bf1901ad7e",
   "metadata": {},
   "outputs": [],
   "source": [
    "y <- letters[1:10]"
   ]
  },
  {
   "cell_type": "code",
   "execution_count": 115,
   "id": "bff73ade-5ee3-4c66-af5a-4f8e13f63794",
   "metadata": {},
   "outputs": [],
   "source": [
    "z <- sample(c(rep(TRUE, 5), rep(FALSE, 5)))"
   ]
  },
  {
   "cell_type": "code",
   "execution_count": 118,
   "id": "d465a145-d35b-457d-b07a-0bf62732337c",
   "metadata": {},
   "outputs": [],
   "source": [
    "new <- data.frame(y,z,x)"
   ]
  },
  {
   "cell_type": "code",
   "execution_count": 119,
   "id": "c005a49b-5371-4485-a712-d2222326682f",
   "metadata": {},
   "outputs": [
    {
     "data": {
      "text/html": [
       "<table class=\"dataframe\">\n",
       "<caption>A data.frame: 10 × 3</caption>\n",
       "<thead>\n",
       "\t<tr><th scope=col>y</th><th scope=col>z</th><th scope=col>x</th></tr>\n",
       "\t<tr><th scope=col>&lt;chr&gt;</th><th scope=col>&lt;lgl&gt;</th><th scope=col>&lt;dbl&gt;</th></tr>\n",
       "</thead>\n",
       "<tbody>\n",
       "\t<tr><td>a</td><td>FALSE</td><td>0.4431860</td></tr>\n",
       "\t<tr><td>b</td><td> TRUE</td><td>0.8119763</td></tr>\n",
       "\t<tr><td>c</td><td>FALSE</td><td>0.2819624</td></tr>\n",
       "\t<tr><td>d</td><td> TRUE</td><td>0.8831443</td></tr>\n",
       "\t<tr><td>e</td><td>FALSE</td><td>0.0770863</td></tr>\n",
       "\t<tr><td>f</td><td> TRUE</td><td>0.8983308</td></tr>\n",
       "\t<tr><td>g</td><td>FALSE</td><td>0.2800678</td></tr>\n",
       "\t<tr><td>h</td><td> TRUE</td><td>0.7854635</td></tr>\n",
       "\t<tr><td>i</td><td> TRUE</td><td>0.9377389</td></tr>\n",
       "\t<tr><td>j</td><td>FALSE</td><td>0.4018061</td></tr>\n",
       "</tbody>\n",
       "</table>\n"
      ],
      "text/latex": [
       "A data.frame: 10 × 3\n",
       "\\begin{tabular}{lll}\n",
       " y & z & x\\\\\n",
       " <chr> & <lgl> & <dbl>\\\\\n",
       "\\hline\n",
       "\t a & FALSE & 0.4431860\\\\\n",
       "\t b &  TRUE & 0.8119763\\\\\n",
       "\t c & FALSE & 0.2819624\\\\\n",
       "\t d &  TRUE & 0.8831443\\\\\n",
       "\t e & FALSE & 0.0770863\\\\\n",
       "\t f &  TRUE & 0.8983308\\\\\n",
       "\t g & FALSE & 0.2800678\\\\\n",
       "\t h &  TRUE & 0.7854635\\\\\n",
       "\t i &  TRUE & 0.9377389\\\\\n",
       "\t j & FALSE & 0.4018061\\\\\n",
       "\\end{tabular}\n"
      ],
      "text/markdown": [
       "\n",
       "A data.frame: 10 × 3\n",
       "\n",
       "| y &lt;chr&gt; | z &lt;lgl&gt; | x &lt;dbl&gt; |\n",
       "|---|---|---|\n",
       "| a | FALSE | 0.4431860 |\n",
       "| b |  TRUE | 0.8119763 |\n",
       "| c | FALSE | 0.2819624 |\n",
       "| d |  TRUE | 0.8831443 |\n",
       "| e | FALSE | 0.0770863 |\n",
       "| f |  TRUE | 0.8983308 |\n",
       "| g | FALSE | 0.2800678 |\n",
       "| h |  TRUE | 0.7854635 |\n",
       "| i |  TRUE | 0.9377389 |\n",
       "| j | FALSE | 0.4018061 |\n",
       "\n"
      ],
      "text/plain": [
       "   y z     x        \n",
       "1  a FALSE 0.4431860\n",
       "2  b  TRUE 0.8119763\n",
       "3  c FALSE 0.2819624\n",
       "4  d  TRUE 0.8831443\n",
       "5  e FALSE 0.0770863\n",
       "6  f  TRUE 0.8983308\n",
       "7  g FALSE 0.2800678\n",
       "8  h  TRUE 0.7854635\n",
       "9  i  TRUE 0.9377389\n",
       "10 j FALSE 0.4018061"
      ]
     },
     "metadata": {},
     "output_type": "display_data"
    }
   ],
   "source": [
    "new"
   ]
  },
  {
   "cell_type": "code",
   "execution_count": 120,
   "id": "cc41c5ed-aeea-453b-b7a1-778f30a982ad",
   "metadata": {},
   "outputs": [],
   "source": [
    "set.seed(1)"
   ]
  },
  {
   "cell_type": "code",
   "execution_count": 128,
   "id": "17cef549-cae9-4236-a067-8d4b307256d4",
   "metadata": {},
   "outputs": [
    {
     "data": {
      "text/html": [
       "<style>\n",
       ".list-inline {list-style: none; margin:0; padding: 0}\n",
       ".list-inline>li {display: inline-block}\n",
       ".list-inline>li:not(:last-child)::after {content: \"\\00b7\"; padding: 0 .5ex}\n",
       "</style>\n",
       "<ol class=list-inline><li>0</li><li>3</li><li>0</li><li>1</li><li>0</li><li>1</li><li>2</li><li>2</li><li>0</li><li>2</li><li>0</li><li>2</li><li>4</li><li>3</li><li>3</li><li>1</li><li>2</li><li>1</li><li>1</li><li>1</li><li>1</li><li>3</li><li>2</li><li>4</li><li>0</li><li>3</li><li>1</li><li>3</li><li>2</li><li>4</li><li>4</li><li>1</li><li>2</li><li>0</li><li>3</li><li>0</li><li>1</li><li>2</li><li>0</li><li>1</li><li>1</li><li>0</li><li>0</li><li>3</li><li>3</li><li>1</li><li>3</li><li>1</li><li>1</li><li>2</li><li>0</li><li>0</li><li>3</li><li>1</li><li>1</li><li>3</li><li>1</li><li>4</li><li>3</li><li>2</li><li>1</li><li>2</li><li>3</li><li>0</li><li>0</li><li>3</li><li>2</li><li>3</li><li>3</li><li>1</li><li>0</li><li>2</li><li>2</li><li>3</li><li>1</li><li>5</li><li>2</li><li>0</li><li>0</li><li>3</li><li>1</li><li>3</li><li>3</li><li>3</li><li>2</li><li>2</li><li>2</li><li>1</li><li>1</li><li>2</li><li>0</li><li>2</li><li>1</li><li>0</li><li>0</li><li>0</li><li>0</li><li>1</li><li>3</li><li>0</li><li>0</li><li>0</li><li>0</li><li>3</li><li>3</li><li>0</li><li>1</li><li>1</li><li>1</li><li>0</li><li>1</li><li>2</li><li>1</li><li>2</li><li>3</li><li>3</li><li>2</li><li>1</li><li>0</li><li>3</li><li>2</li><li>1</li><li>2</li><li>0</li><li>2</li><li>3</li><li>0</li><li>4</li><li>1</li><li>2</li><li>4</li><li>1</li><li>2</li><li>0</li><li>0</li><li>1</li><li>0</li><li>0</li><li>2</li><li>0</li><li>1</li><li>2</li><li>3</li><li>1</li><li>2</li><li>1</li><li>1</li><li>1</li><li>2</li><li>3</li><li>2</li><li>0</li><li>0</li><li>1</li><li>5</li><li>2</li><li>0</li><li>2</li><li>1</li><li>1</li><li>1</li><li>1</li><li>4</li><li>1</li><li>3</li><li>4</li><li>1</li><li>1</li><li>2</li><li>1</li><li>3</li><li>3</li><li>5</li><li>0</li><li>2</li><li>2</li><li>0</li><li>3</li><li>0</li><li>0</li><li>4</li><li>2</li><li>0</li><li>3</li><li>6</li><li>3</li><li>1</li><li>4</li><li>1</li><li>4</li><li>2</li><li>2</li><li>3</li><li>0</li><li>2</li><li>1</li><li>0</li><li>2</li><li>2</li><li>0</li><li>⋯</li><li>4</li><li>2</li><li>2</li><li>0</li><li>1</li><li>4</li><li>0</li><li>0</li><li>1</li><li>0</li><li>0</li><li>1</li><li>2</li><li>4</li><li>0</li><li>0</li><li>0</li><li>1</li><li>1</li><li>0</li><li>3</li><li>0</li><li>1</li><li>1</li><li>1</li><li>2</li><li>2</li><li>4</li><li>1</li><li>1</li><li>1</li><li>2</li><li>1</li><li>0</li><li>3</li><li>1</li><li>3</li><li>4</li><li>3</li><li>2</li><li>3</li><li>1</li><li>2</li><li>1</li><li>4</li><li>1</li><li>4</li><li>2</li><li>3</li><li>2</li><li>1</li><li>3</li><li>0</li><li>0</li><li>2</li><li>1</li><li>1</li><li>1</li><li>2</li><li>1</li><li>1</li><li>1</li><li>3</li><li>1</li><li>5</li><li>2</li><li>3</li><li>1</li><li>2</li><li>0</li><li>1</li><li>3</li><li>5</li><li>1</li><li>1</li><li>1</li><li>3</li><li>1</li><li>4</li><li>0</li><li>2</li><li>2</li><li>0</li><li>2</li><li>1</li><li>0</li><li>2</li><li>2</li><li>0</li><li>1</li><li>0</li><li>2</li><li>3</li><li>1</li><li>0</li><li>2</li><li>2</li><li>3</li><li>1</li><li>4</li><li>1</li><li>0</li><li>1</li><li>1</li><li>1</li><li>0</li><li>2</li><li>2</li><li>1</li><li>2</li><li>1</li><li>1</li><li>2</li><li>0</li><li>3</li><li>5</li><li>2</li><li>1</li><li>3</li><li>2</li><li>1</li><li>0</li><li>2</li><li>3</li><li>2</li><li>3</li><li>1</li><li>1</li><li>0</li><li>1</li><li>4</li><li>2</li><li>0</li><li>1</li><li>3</li><li>1</li><li>1</li><li>0</li><li>0</li><li>2</li><li>0</li><li>6</li><li>0</li><li>2</li><li>0</li><li>0</li><li>0</li><li>2</li><li>3</li><li>2</li><li>1</li><li>2</li><li>4</li><li>1</li><li>1</li><li>2</li><li>0</li><li>1</li><li>1</li><li>0</li><li>1</li><li>2</li><li>1</li><li>2</li><li>1</li><li>3</li><li>1</li><li>0</li><li>2</li><li>0</li><li>2</li><li>0</li><li>2</li><li>2</li><li>1</li><li>3</li><li>0</li><li>1</li><li>2</li><li>1</li><li>2</li><li>0</li><li>1</li><li>2</li><li>1</li><li>0</li><li>3</li><li>1</li><li>3</li><li>2</li><li>1</li><li>1</li><li>1</li><li>2</li><li>4</li><li>1</li><li>0</li><li>1</li><li>0</li><li>1</li></ol>\n"
      ],
      "text/latex": [
       "\\begin{enumerate*}\n",
       "\\item 0\n",
       "\\item 3\n",
       "\\item 0\n",
       "\\item 1\n",
       "\\item 0\n",
       "\\item 1\n",
       "\\item 2\n",
       "\\item 2\n",
       "\\item 0\n",
       "\\item 2\n",
       "\\item 0\n",
       "\\item 2\n",
       "\\item 4\n",
       "\\item 3\n",
       "\\item 3\n",
       "\\item 1\n",
       "\\item 2\n",
       "\\item 1\n",
       "\\item 1\n",
       "\\item 1\n",
       "\\item 1\n",
       "\\item 3\n",
       "\\item 2\n",
       "\\item 4\n",
       "\\item 0\n",
       "\\item 3\n",
       "\\item 1\n",
       "\\item 3\n",
       "\\item 2\n",
       "\\item 4\n",
       "\\item 4\n",
       "\\item 1\n",
       "\\item 2\n",
       "\\item 0\n",
       "\\item 3\n",
       "\\item 0\n",
       "\\item 1\n",
       "\\item 2\n",
       "\\item 0\n",
       "\\item 1\n",
       "\\item 1\n",
       "\\item 0\n",
       "\\item 0\n",
       "\\item 3\n",
       "\\item 3\n",
       "\\item 1\n",
       "\\item 3\n",
       "\\item 1\n",
       "\\item 1\n",
       "\\item 2\n",
       "\\item 0\n",
       "\\item 0\n",
       "\\item 3\n",
       "\\item 1\n",
       "\\item 1\n",
       "\\item 3\n",
       "\\item 1\n",
       "\\item 4\n",
       "\\item 3\n",
       "\\item 2\n",
       "\\item 1\n",
       "\\item 2\n",
       "\\item 3\n",
       "\\item 0\n",
       "\\item 0\n",
       "\\item 3\n",
       "\\item 2\n",
       "\\item 3\n",
       "\\item 3\n",
       "\\item 1\n",
       "\\item 0\n",
       "\\item 2\n",
       "\\item 2\n",
       "\\item 3\n",
       "\\item 1\n",
       "\\item 5\n",
       "\\item 2\n",
       "\\item 0\n",
       "\\item 0\n",
       "\\item 3\n",
       "\\item 1\n",
       "\\item 3\n",
       "\\item 3\n",
       "\\item 3\n",
       "\\item 2\n",
       "\\item 2\n",
       "\\item 2\n",
       "\\item 1\n",
       "\\item 1\n",
       "\\item 2\n",
       "\\item 0\n",
       "\\item 2\n",
       "\\item 1\n",
       "\\item 0\n",
       "\\item 0\n",
       "\\item 0\n",
       "\\item 0\n",
       "\\item 1\n",
       "\\item 3\n",
       "\\item 0\n",
       "\\item 0\n",
       "\\item 0\n",
       "\\item 0\n",
       "\\item 3\n",
       "\\item 3\n",
       "\\item 0\n",
       "\\item 1\n",
       "\\item 1\n",
       "\\item 1\n",
       "\\item 0\n",
       "\\item 1\n",
       "\\item 2\n",
       "\\item 1\n",
       "\\item 2\n",
       "\\item 3\n",
       "\\item 3\n",
       "\\item 2\n",
       "\\item 1\n",
       "\\item 0\n",
       "\\item 3\n",
       "\\item 2\n",
       "\\item 1\n",
       "\\item 2\n",
       "\\item 0\n",
       "\\item 2\n",
       "\\item 3\n",
       "\\item 0\n",
       "\\item 4\n",
       "\\item 1\n",
       "\\item 2\n",
       "\\item 4\n",
       "\\item 1\n",
       "\\item 2\n",
       "\\item 0\n",
       "\\item 0\n",
       "\\item 1\n",
       "\\item 0\n",
       "\\item 0\n",
       "\\item 2\n",
       "\\item 0\n",
       "\\item 1\n",
       "\\item 2\n",
       "\\item 3\n",
       "\\item 1\n",
       "\\item 2\n",
       "\\item 1\n",
       "\\item 1\n",
       "\\item 1\n",
       "\\item 2\n",
       "\\item 3\n",
       "\\item 2\n",
       "\\item 0\n",
       "\\item 0\n",
       "\\item 1\n",
       "\\item 5\n",
       "\\item 2\n",
       "\\item 0\n",
       "\\item 2\n",
       "\\item 1\n",
       "\\item 1\n",
       "\\item 1\n",
       "\\item 1\n",
       "\\item 4\n",
       "\\item 1\n",
       "\\item 3\n",
       "\\item 4\n",
       "\\item 1\n",
       "\\item 1\n",
       "\\item 2\n",
       "\\item 1\n",
       "\\item 3\n",
       "\\item 3\n",
       "\\item 5\n",
       "\\item 0\n",
       "\\item 2\n",
       "\\item 2\n",
       "\\item 0\n",
       "\\item 3\n",
       "\\item 0\n",
       "\\item 0\n",
       "\\item 4\n",
       "\\item 2\n",
       "\\item 0\n",
       "\\item 3\n",
       "\\item 6\n",
       "\\item 3\n",
       "\\item 1\n",
       "\\item 4\n",
       "\\item 1\n",
       "\\item 4\n",
       "\\item 2\n",
       "\\item 2\n",
       "\\item 3\n",
       "\\item 0\n",
       "\\item 2\n",
       "\\item 1\n",
       "\\item 0\n",
       "\\item 2\n",
       "\\item 2\n",
       "\\item 0\n",
       "\\item ⋯\n",
       "\\item 4\n",
       "\\item 2\n",
       "\\item 2\n",
       "\\item 0\n",
       "\\item 1\n",
       "\\item 4\n",
       "\\item 0\n",
       "\\item 0\n",
       "\\item 1\n",
       "\\item 0\n",
       "\\item 0\n",
       "\\item 1\n",
       "\\item 2\n",
       "\\item 4\n",
       "\\item 0\n",
       "\\item 0\n",
       "\\item 0\n",
       "\\item 1\n",
       "\\item 1\n",
       "\\item 0\n",
       "\\item 3\n",
       "\\item 0\n",
       "\\item 1\n",
       "\\item 1\n",
       "\\item 1\n",
       "\\item 2\n",
       "\\item 2\n",
       "\\item 4\n",
       "\\item 1\n",
       "\\item 1\n",
       "\\item 1\n",
       "\\item 2\n",
       "\\item 1\n",
       "\\item 0\n",
       "\\item 3\n",
       "\\item 1\n",
       "\\item 3\n",
       "\\item 4\n",
       "\\item 3\n",
       "\\item 2\n",
       "\\item 3\n",
       "\\item 1\n",
       "\\item 2\n",
       "\\item 1\n",
       "\\item 4\n",
       "\\item 1\n",
       "\\item 4\n",
       "\\item 2\n",
       "\\item 3\n",
       "\\item 2\n",
       "\\item 1\n",
       "\\item 3\n",
       "\\item 0\n",
       "\\item 0\n",
       "\\item 2\n",
       "\\item 1\n",
       "\\item 1\n",
       "\\item 1\n",
       "\\item 2\n",
       "\\item 1\n",
       "\\item 1\n",
       "\\item 1\n",
       "\\item 3\n",
       "\\item 1\n",
       "\\item 5\n",
       "\\item 2\n",
       "\\item 3\n",
       "\\item 1\n",
       "\\item 2\n",
       "\\item 0\n",
       "\\item 1\n",
       "\\item 3\n",
       "\\item 5\n",
       "\\item 1\n",
       "\\item 1\n",
       "\\item 1\n",
       "\\item 3\n",
       "\\item 1\n",
       "\\item 4\n",
       "\\item 0\n",
       "\\item 2\n",
       "\\item 2\n",
       "\\item 0\n",
       "\\item 2\n",
       "\\item 1\n",
       "\\item 0\n",
       "\\item 2\n",
       "\\item 2\n",
       "\\item 0\n",
       "\\item 1\n",
       "\\item 0\n",
       "\\item 2\n",
       "\\item 3\n",
       "\\item 1\n",
       "\\item 0\n",
       "\\item 2\n",
       "\\item 2\n",
       "\\item 3\n",
       "\\item 1\n",
       "\\item 4\n",
       "\\item 1\n",
       "\\item 0\n",
       "\\item 1\n",
       "\\item 1\n",
       "\\item 1\n",
       "\\item 0\n",
       "\\item 2\n",
       "\\item 2\n",
       "\\item 1\n",
       "\\item 2\n",
       "\\item 1\n",
       "\\item 1\n",
       "\\item 2\n",
       "\\item 0\n",
       "\\item 3\n",
       "\\item 5\n",
       "\\item 2\n",
       "\\item 1\n",
       "\\item 3\n",
       "\\item 2\n",
       "\\item 1\n",
       "\\item 0\n",
       "\\item 2\n",
       "\\item 3\n",
       "\\item 2\n",
       "\\item 3\n",
       "\\item 1\n",
       "\\item 1\n",
       "\\item 0\n",
       "\\item 1\n",
       "\\item 4\n",
       "\\item 2\n",
       "\\item 0\n",
       "\\item 1\n",
       "\\item 3\n",
       "\\item 1\n",
       "\\item 1\n",
       "\\item 0\n",
       "\\item 0\n",
       "\\item 2\n",
       "\\item 0\n",
       "\\item 6\n",
       "\\item 0\n",
       "\\item 2\n",
       "\\item 0\n",
       "\\item 0\n",
       "\\item 0\n",
       "\\item 2\n",
       "\\item 3\n",
       "\\item 2\n",
       "\\item 1\n",
       "\\item 2\n",
       "\\item 4\n",
       "\\item 1\n",
       "\\item 1\n",
       "\\item 2\n",
       "\\item 0\n",
       "\\item 1\n",
       "\\item 1\n",
       "\\item 0\n",
       "\\item 1\n",
       "\\item 2\n",
       "\\item 1\n",
       "\\item 2\n",
       "\\item 1\n",
       "\\item 3\n",
       "\\item 1\n",
       "\\item 0\n",
       "\\item 2\n",
       "\\item 0\n",
       "\\item 2\n",
       "\\item 0\n",
       "\\item 2\n",
       "\\item 2\n",
       "\\item 1\n",
       "\\item 3\n",
       "\\item 0\n",
       "\\item 1\n",
       "\\item 2\n",
       "\\item 1\n",
       "\\item 2\n",
       "\\item 0\n",
       "\\item 1\n",
       "\\item 2\n",
       "\\item 1\n",
       "\\item 0\n",
       "\\item 3\n",
       "\\item 1\n",
       "\\item 3\n",
       "\\item 2\n",
       "\\item 1\n",
       "\\item 1\n",
       "\\item 1\n",
       "\\item 2\n",
       "\\item 4\n",
       "\\item 1\n",
       "\\item 0\n",
       "\\item 1\n",
       "\\item 0\n",
       "\\item 1\n",
       "\\end{enumerate*}\n"
      ],
      "text/markdown": [
       "1. 0\n",
       "2. 3\n",
       "3. 0\n",
       "4. 1\n",
       "5. 0\n",
       "6. 1\n",
       "7. 2\n",
       "8. 2\n",
       "9. 0\n",
       "10. 2\n",
       "11. 0\n",
       "12. 2\n",
       "13. 4\n",
       "14. 3\n",
       "15. 3\n",
       "16. 1\n",
       "17. 2\n",
       "18. 1\n",
       "19. 1\n",
       "20. 1\n",
       "21. 1\n",
       "22. 3\n",
       "23. 2\n",
       "24. 4\n",
       "25. 0\n",
       "26. 3\n",
       "27. 1\n",
       "28. 3\n",
       "29. 2\n",
       "30. 4\n",
       "31. 4\n",
       "32. 1\n",
       "33. 2\n",
       "34. 0\n",
       "35. 3\n",
       "36. 0\n",
       "37. 1\n",
       "38. 2\n",
       "39. 0\n",
       "40. 1\n",
       "41. 1\n",
       "42. 0\n",
       "43. 0\n",
       "44. 3\n",
       "45. 3\n",
       "46. 1\n",
       "47. 3\n",
       "48. 1\n",
       "49. 1\n",
       "50. 2\n",
       "51. 0\n",
       "52. 0\n",
       "53. 3\n",
       "54. 1\n",
       "55. 1\n",
       "56. 3\n",
       "57. 1\n",
       "58. 4\n",
       "59. 3\n",
       "60. 2\n",
       "61. 1\n",
       "62. 2\n",
       "63. 3\n",
       "64. 0\n",
       "65. 0\n",
       "66. 3\n",
       "67. 2\n",
       "68. 3\n",
       "69. 3\n",
       "70. 1\n",
       "71. 0\n",
       "72. 2\n",
       "73. 2\n",
       "74. 3\n",
       "75. 1\n",
       "76. 5\n",
       "77. 2\n",
       "78. 0\n",
       "79. 0\n",
       "80. 3\n",
       "81. 1\n",
       "82. 3\n",
       "83. 3\n",
       "84. 3\n",
       "85. 2\n",
       "86. 2\n",
       "87. 2\n",
       "88. 1\n",
       "89. 1\n",
       "90. 2\n",
       "91. 0\n",
       "92. 2\n",
       "93. 1\n",
       "94. 0\n",
       "95. 0\n",
       "96. 0\n",
       "97. 0\n",
       "98. 1\n",
       "99. 3\n",
       "100. 0\n",
       "101. 0\n",
       "102. 0\n",
       "103. 0\n",
       "104. 3\n",
       "105. 3\n",
       "106. 0\n",
       "107. 1\n",
       "108. 1\n",
       "109. 1\n",
       "110. 0\n",
       "111. 1\n",
       "112. 2\n",
       "113. 1\n",
       "114. 2\n",
       "115. 3\n",
       "116. 3\n",
       "117. 2\n",
       "118. 1\n",
       "119. 0\n",
       "120. 3\n",
       "121. 2\n",
       "122. 1\n",
       "123. 2\n",
       "124. 0\n",
       "125. 2\n",
       "126. 3\n",
       "127. 0\n",
       "128. 4\n",
       "129. 1\n",
       "130. 2\n",
       "131. 4\n",
       "132. 1\n",
       "133. 2\n",
       "134. 0\n",
       "135. 0\n",
       "136. 1\n",
       "137. 0\n",
       "138. 0\n",
       "139. 2\n",
       "140. 0\n",
       "141. 1\n",
       "142. 2\n",
       "143. 3\n",
       "144. 1\n",
       "145. 2\n",
       "146. 1\n",
       "147. 1\n",
       "148. 1\n",
       "149. 2\n",
       "150. 3\n",
       "151. 2\n",
       "152. 0\n",
       "153. 0\n",
       "154. 1\n",
       "155. 5\n",
       "156. 2\n",
       "157. 0\n",
       "158. 2\n",
       "159. 1\n",
       "160. 1\n",
       "161. 1\n",
       "162. 1\n",
       "163. 4\n",
       "164. 1\n",
       "165. 3\n",
       "166. 4\n",
       "167. 1\n",
       "168. 1\n",
       "169. 2\n",
       "170. 1\n",
       "171. 3\n",
       "172. 3\n",
       "173. 5\n",
       "174. 0\n",
       "175. 2\n",
       "176. 2\n",
       "177. 0\n",
       "178. 3\n",
       "179. 0\n",
       "180. 0\n",
       "181. 4\n",
       "182. 2\n",
       "183. 0\n",
       "184. 3\n",
       "185. 6\n",
       "186. 3\n",
       "187. 1\n",
       "188. 4\n",
       "189. 1\n",
       "190. 4\n",
       "191. 2\n",
       "192. 2\n",
       "193. 3\n",
       "194. 0\n",
       "195. 2\n",
       "196. 1\n",
       "197. 0\n",
       "198. 2\n",
       "199. 2\n",
       "200. 0\n",
       "201. ⋯\n",
       "202. 4\n",
       "203. 2\n",
       "204. 2\n",
       "205. 0\n",
       "206. 1\n",
       "207. 4\n",
       "208. 0\n",
       "209. 0\n",
       "210. 1\n",
       "211. 0\n",
       "212. 0\n",
       "213. 1\n",
       "214. 2\n",
       "215. 4\n",
       "216. 0\n",
       "217. 0\n",
       "218. 0\n",
       "219. 1\n",
       "220. 1\n",
       "221. 0\n",
       "222. 3\n",
       "223. 0\n",
       "224. 1\n",
       "225. 1\n",
       "226. 1\n",
       "227. 2\n",
       "228. 2\n",
       "229. 4\n",
       "230. 1\n",
       "231. 1\n",
       "232. 1\n",
       "233. 2\n",
       "234. 1\n",
       "235. 0\n",
       "236. 3\n",
       "237. 1\n",
       "238. 3\n",
       "239. 4\n",
       "240. 3\n",
       "241. 2\n",
       "242. 3\n",
       "243. 1\n",
       "244. 2\n",
       "245. 1\n",
       "246. 4\n",
       "247. 1\n",
       "248. 4\n",
       "249. 2\n",
       "250. 3\n",
       "251. 2\n",
       "252. 1\n",
       "253. 3\n",
       "254. 0\n",
       "255. 0\n",
       "256. 2\n",
       "257. 1\n",
       "258. 1\n",
       "259. 1\n",
       "260. 2\n",
       "261. 1\n",
       "262. 1\n",
       "263. 1\n",
       "264. 3\n",
       "265. 1\n",
       "266. 5\n",
       "267. 2\n",
       "268. 3\n",
       "269. 1\n",
       "270. 2\n",
       "271. 0\n",
       "272. 1\n",
       "273. 3\n",
       "274. 5\n",
       "275. 1\n",
       "276. 1\n",
       "277. 1\n",
       "278. 3\n",
       "279. 1\n",
       "280. 4\n",
       "281. 0\n",
       "282. 2\n",
       "283. 2\n",
       "284. 0\n",
       "285. 2\n",
       "286. 1\n",
       "287. 0\n",
       "288. 2\n",
       "289. 2\n",
       "290. 0\n",
       "291. 1\n",
       "292. 0\n",
       "293. 2\n",
       "294. 3\n",
       "295. 1\n",
       "296. 0\n",
       "297. 2\n",
       "298. 2\n",
       "299. 3\n",
       "300. 1\n",
       "301. 4\n",
       "302. 1\n",
       "303. 0\n",
       "304. 1\n",
       "305. 1\n",
       "306. 1\n",
       "307. 0\n",
       "308. 2\n",
       "309. 2\n",
       "310. 1\n",
       "311. 2\n",
       "312. 1\n",
       "313. 1\n",
       "314. 2\n",
       "315. 0\n",
       "316. 3\n",
       "317. 5\n",
       "318. 2\n",
       "319. 1\n",
       "320. 3\n",
       "321. 2\n",
       "322. 1\n",
       "323. 0\n",
       "324. 2\n",
       "325. 3\n",
       "326. 2\n",
       "327. 3\n",
       "328. 1\n",
       "329. 1\n",
       "330. 0\n",
       "331. 1\n",
       "332. 4\n",
       "333. 2\n",
       "334. 0\n",
       "335. 1\n",
       "336. 3\n",
       "337. 1\n",
       "338. 1\n",
       "339. 0\n",
       "340. 0\n",
       "341. 2\n",
       "342. 0\n",
       "343. 6\n",
       "344. 0\n",
       "345. 2\n",
       "346. 0\n",
       "347. 0\n",
       "348. 0\n",
       "349. 2\n",
       "350. 3\n",
       "351. 2\n",
       "352. 1\n",
       "353. 2\n",
       "354. 4\n",
       "355. 1\n",
       "356. 1\n",
       "357. 2\n",
       "358. 0\n",
       "359. 1\n",
       "360. 1\n",
       "361. 0\n",
       "362. 1\n",
       "363. 2\n",
       "364. 1\n",
       "365. 2\n",
       "366. 1\n",
       "367. 3\n",
       "368. 1\n",
       "369. 0\n",
       "370. 2\n",
       "371. 0\n",
       "372. 2\n",
       "373. 0\n",
       "374. 2\n",
       "375. 2\n",
       "376. 1\n",
       "377. 3\n",
       "378. 0\n",
       "379. 1\n",
       "380. 2\n",
       "381. 1\n",
       "382. 2\n",
       "383. 0\n",
       "384. 1\n",
       "385. 2\n",
       "386. 1\n",
       "387. 0\n",
       "388. 3\n",
       "389. 1\n",
       "390. 3\n",
       "391. 2\n",
       "392. 1\n",
       "393. 1\n",
       "394. 1\n",
       "395. 2\n",
       "396. 4\n",
       "397. 1\n",
       "398. 0\n",
       "399. 1\n",
       "400. 0\n",
       "401. 1\n",
       "\n",
       "\n"
      ],
      "text/plain": [
       "   [1] 0 3 0 1 0 1 2 2 0 2 0 2 4 3 3 1 2 1 1 1 1 3 2 4 0 3 1 3 2 4 4 1 2 0 3 0 1\n",
       "  [38] 2 0 1 1 0 0 3 3 1 3 1 1 2 0 0 3 1 1 3 1 4 3 2 1 2 3 0 0 3 2 3 3 1 0 2 2 3\n",
       "  [75] 1 5 2 0 0 3 1 3 3 3 2 2 2 1 1 2 0 2 1 0 0 0 0 1 3 0 0 0 0 3 3 0 1 1 1 0 1\n",
       " [112] 2 1 2 3 3 2 1 0 3 2 1 2 0 2 3 0 4 1 2 4 1 2 0 0 1 0 0 2 0 1 2 3 1 2 1 1 1\n",
       " [149] 2 3 2 0 0 1 5 2 0 2 1 1 1 1 4 1 3 4 1 1 2 1 3 3 5 0 2 2 0 3 0 0 4 2 0 3 6\n",
       " [186] 3 1 4 1 4 2 2 3 0 2 1 0 2 2 0 2 2 2 0 0 0 0 2 1 1 0 0 0 1 0 3 1 0 1 1 2 1\n",
       " [223] 3 6 0 1 1 4 2 2 3 0 1 2 0 2 2 1 1 0 4 5 2 1 1 0 1 3 1 1 2 2 2 0 3 0 2 1 1\n",
       " [260] 2 0 1 2 1 1 2 2 2 3 1 4 1 0 1 4 0 0 0 2 0 2 1 1 1 3 0 1 0 2 3 1 2 0 2 3 1\n",
       " [297] 0 0 1 1 0 1 2 1 2 1 0 4 2 1 0 1 2 0 2 0 2 5 0 2 1 3 1 2 0 2 2 1 4 2 1 3 1\n",
       " [334] 3 2 1 1 1 4 0 2 3 5 4 2 0 0 1 2 0 0 0 0 3 1 3 3 4 2 2 2 0 3 2 1 1 0 1 2 2\n",
       " [371] 5 1 1 2 0 1 1 1 0 2 1 3 2 1 2 1 2 0 0 1 2 1 3 0 5 2 1 0 2 1 3 0 1 3 2 1 2\n",
       " [408] 3 1 1 2 1 3 0 2 0 1 4 0 0 0 5 1 2 0 1 5 2 0 3 0 1 3 1 0 4 2 0 1 1 2 2 3 0\n",
       " [445] 0 0 1 3 0 1 0 0 2 1 2 1 4 1 1 0 2 0 1 2 1 2 2 1 2 5 1 3 0 1 1 1 2 0 2 3 1\n",
       " [482] 2 1 1 2 1 3 1 1 3 1 0 0 3 1 2 0 1 1 1 3 4 3 1 0 0 2 0 1 1 0 2 2 2 0 1 0 0\n",
       " [519] 3 1 1 3 1 0 0 2 0 0 2 1 1 0 1 2 0 1 0 2 4 0 1 0 2 0 2 0 2 1 2 3 0 2 0 1 2\n",
       " [556] 2 0 0 2 1 1 2 1 6 0 2 1 1 3 0 2 3 1 3 2 0 4 1 1 0 2 1 2 1 0 3 0 2 4 1 3 2\n",
       " [593] 2 0 2 0 2 3 2 2 1 2 2 0 0 5 5 1 2 2 1 1 3 3 1 0 4 3 1 3 0 0 3 0 3 2 0 0 0\n",
       " [630] 2 0 2 1 2 0 1 0 4 2 1 2 0 0 1 1 0 2 0 4 2 0 1 0 0 0 1 2 1 1 1 2 4 1 1 2 2\n",
       " [667] 2 1 1 0 1 0 3 2 1 1 2 2 2 2 4 2 2 0 1 3 1 0 1 0 0 3 4 3 3 0 0 2 2 0 2 4 0\n",
       " [704] 1 3 1 1 1 2 0 2 2 0 1 0 2 1 0 2 1 1 2 2 0 2 0 2 1 0 2 2 0 0 0 1 2 1 0 0 3\n",
       " [741] 1 0 1 1 1 0 1 1 3 2 0 2 1 0 0 0 1 0 1 3 4 1 0 0 0 1 0 2 2 4 3 2 0 0 1 5 3\n",
       " [778] 1 1 3 2 3 2 0 0 4 3 1 2 0 1 1 0 1 1 1 2 1 1 3 0 3 1 2 2 1 0 3 1 2 0 1 1 1\n",
       " [815] 1 1 1 1 1 2 1 3 2 2 1 0 1 2 0 3 0 0 2 0 1 2 0 1 1 2 1 1 1 4 2 3 4 2 3 2 3\n",
       " [852] 3 1 3 2 0 0 4 1 0 5 0 1 1 1 2 1 2 2 2 5 1 2 1 1 2 4 4 0 1 3 2 1 2 0 3 3 0\n",
       " [889] 0 1 1 2 1 1 1 2 0 1 1 0 0 0 4 2 0 1 0 2 2 0 3 3 1 2 1 1 2 2 3 2 0 2 3 2 2\n",
       " [926] 2 1 1 3 1 3 2 3 1 1 3 2 1 2 3 1 1 4 1 2 2 1 3 2 0 2 2 1 3 1 1 5 2 1 1 1 1\n",
       " [963] 2 1 2 1 1 3 0 1 2 1 1 0 2 1 1 0 0 1 1 1 5 0 0 2 0 2 0 2 1 1 3 0 1 4 1 3 0\n",
       "[1000] 1 1 0 3 1 5 1 3 0 0 1 1 1 2 4 1 0 2 5 0 3 1 1 0 1 0 2 1 3 1 3 1 2 2 0 1 3\n",
       "[1037] 0 3 4 1 3 0 2 1 4 2 0 1 4 0 3 0 2 2 2 2 1 2 1 1 0 1 2 0 5 3 5 0 2 1 1 1 2\n",
       "[1074] 1 3 5 3 5 2 1 3 2 1 2 2 2 3 2 8 1 1 0 1 1 2 2 1 1 2 2 2 0 3 2 0 2 0 1 4 0\n",
       "[1111] 2 3 0 1 0 0 1 1 2 1 1 0 3 0 2 0 2 1 1 1 1 3 1 1 3 0 0 1 3 3 1 0 2 1 1 4 0\n",
       "[1148] 0 2 0 1 1 3 0 0 2 0 0 0 1 1 0 0 1 1 3 1 2 1 4 2 3 0 1 2 1 1 2 1 2 0 1 1 0\n",
       "[1185] 1 2 2 0 3 0 3 1 0 1 0 3 1 1 0 3 0 2 2 2 1 1 2 3 0 1 1 1 0 2 0 2 2 4 0 1 0\n",
       "[1222] 2 0 1 0 4 0 2 4 2 1 2 0 0 0 1 1 2 1 0 2 3 1 0 2 0 2 0 3 1 2 3 3 0 1 1 3 1\n",
       "[1259] 1 0 1 1 0 1 1 3 1 2 2 0 1 0 1 1 0 0 4 0 1 2 0 1 1 2 1 2 2 1 1 1 1 4 0 1 2\n",
       "[1296] 2 1 3 2 1 4 2 2 0 1 4 0 0 1 0 0 1 2 4 0 0 0 1 1 0 3 0 1 1 1 2 2 4 1 1 1 2\n",
       "[1333] 1 0 3 1 3 4 3 2 3 1 2 1 4 1 4 2 3 2 1 3 0 0 2 1 1 1 2 1 1 1 3 1 5 2 3 1 2\n",
       "[1370] 0 1 3 5 1 1 1 3 1 4 0 2 2 0 2 1 0 2 2 0 1 0 2 3 1 0 2 2 3 1 4 1 0 1 1 1 0\n",
       "[1407] 2 2 1 2 1 1 2 0 3 5 2 1 3 2 1 0 2 3 2 3 1 1 0 1 4 2 0 1 3 1 1 0 0 2 0 6 0\n",
       "[1444] 2 0 0 0 2 3 2 1 2 4 1 1 2 0 1 1 0 1 2 1 2 1 3 1 0 2 0 2 0 2 2 1 3 0 1 2 1\n",
       "[1481] 2 0 1 2 1 0 3 1 3 2 1 1 1 2 4 1 0 1 0 1"
      ]
     },
     "metadata": {},
     "output_type": "display_data"
    }
   ],
   "source": [
    "y <- rpois(1500, 1.5)\n",
    "y"
   ]
  },
  {
   "cell_type": "code",
   "execution_count": 124,
   "id": "de46b485-a953-43f2-b7ec-98e236b880b5",
   "metadata": {},
   "outputs": [
    {
     "data": {
      "image/png": "[encoded data removed]",
      "text/plain": [
       "Plot with title \"Histogram of .\""
      ]
     },
     "metadata": {
      "image/png": {
       "height": 420,
       "width": 420
      }
     },
     "output_type": "display_data"
    }
   ],
   "source": [
    "y %>% hist"
   ]
  },
  {
   "cell_type": "code",
   "execution_count": 125,
   "id": "6b0a2c17-940f-4a2d-8da7-8962509e7139",
   "metadata": {},
   "outputs": [
    {
     "data": {
      "text/plain": [
       "y\n",
       "  0   1   2   3   4   5   6   7   8 \n",
       "342 532 340 179  83  18   4   1   1 "
      ]
     },
     "metadata": {},
     "output_type": "display_data"
    }
   ],
   "source": [
    "table(y)"
   ]
  },
  {
   "cell_type": "code",
   "execution_count": 127,
   "id": "64518f91-69be-41fc-aed3-1935a9f5f16b",
   "metadata": {},
   "outputs": [
    {
     "data": {
      "text/html": [
       "<table class=\"dataframe\">\n",
       "<caption>A data.frame: 9 × 2</caption>\n",
       "<thead>\n",
       "\t<tr><th scope=col>y</th><th scope=col>Freq</th></tr>\n",
       "\t<tr><th scope=col>&lt;fct&gt;</th><th scope=col>&lt;int&gt;</th></tr>\n",
       "</thead>\n",
       "<tbody>\n",
       "\t<tr><td>0</td><td>342</td></tr>\n",
       "\t<tr><td>1</td><td>532</td></tr>\n",
       "\t<tr><td>2</td><td>340</td></tr>\n",
       "\t<tr><td>3</td><td>179</td></tr>\n",
       "\t<tr><td>4</td><td> 83</td></tr>\n",
       "\t<tr><td>5</td><td> 18</td></tr>\n",
       "\t<tr><td>6</td><td>  4</td></tr>\n",
       "\t<tr><td>7</td><td>  1</td></tr>\n",
       "\t<tr><td>8</td><td>  1</td></tr>\n",
       "</tbody>\n",
       "</table>\n"
      ],
      "text/latex": [
       "A data.frame: 9 × 2\n",
       "\\begin{tabular}{ll}\n",
       " y & Freq\\\\\n",
       " <fct> & <int>\\\\\n",
       "\\hline\n",
       "\t 0 & 342\\\\\n",
       "\t 1 & 532\\\\\n",
       "\t 2 & 340\\\\\n",
       "\t 3 & 179\\\\\n",
       "\t 4 &  83\\\\\n",
       "\t 5 &  18\\\\\n",
       "\t 6 &   4\\\\\n",
       "\t 7 &   1\\\\\n",
       "\t 8 &   1\\\\\n",
       "\\end{tabular}\n"
      ],
      "text/markdown": [
       "\n",
       "A data.frame: 9 × 2\n",
       "\n",
       "| y &lt;fct&gt; | Freq &lt;int&gt; |\n",
       "|---|---|\n",
       "| 0 | 342 |\n",
       "| 1 | 532 |\n",
       "| 2 | 340 |\n",
       "| 3 | 179 |\n",
       "| 4 |  83 |\n",
       "| 5 |  18 |\n",
       "| 6 |   4 |\n",
       "| 7 |   1 |\n",
       "| 8 |   1 |\n",
       "\n"
      ],
      "text/plain": [
       "  y Freq\n",
       "1 0 342 \n",
       "2 1 532 \n",
       "3 2 340 \n",
       "4 3 179 \n",
       "5 4  83 \n",
       "6 5  18 \n",
       "7 6   4 \n",
       "8 7   1 \n",
       "9 8   1 "
      ]
     },
     "metadata": {},
     "output_type": "display_data"
    }
   ],
   "source": [
    "short <- as.data.frame(table(y))\n",
    "short"
   ]
  },
  {
   "cell_type": "code",
   "execution_count": 130,
   "id": "de8e35c3-7f40-4d01-ba9d-425c48768977",
   "metadata": {},
   "outputs": [],
   "source": [
    "index <- rep(1:9, short$Freq)"
   ]
  },
  {
   "cell_type": "code",
   "execution_count": 131,
   "id": "3f756d19-4a77-4a66-a775-4c1113ff38d5",
   "metadata": {},
   "outputs": [
    {
     "data": {
      "text/html": [
       "<style>\n",
       ".list-inline {list-style: none; margin:0; padding: 0}\n",
       ".list-inline>li {display: inline-block}\n",
       ".list-inline>li:not(:last-child)::after {content: \"\\00b7\"; padding: 0 .5ex}\n",
       "</style>\n",
       "<ol class=list-inline><li>1</li><li>1</li><li>1</li><li>1</li><li>1</li><li>1</li><li>1</li><li>1</li><li>1</li><li>1</li><li>1</li><li>1</li><li>1</li><li>1</li><li>1</li><li>1</li><li>1</li><li>1</li><li>1</li><li>1</li><li>1</li><li>1</li><li>1</li><li>1</li><li>1</li><li>1</li><li>1</li><li>1</li><li>1</li><li>1</li><li>1</li><li>1</li><li>1</li><li>1</li><li>1</li><li>1</li><li>1</li><li>1</li><li>1</li><li>1</li><li>1</li><li>1</li><li>1</li><li>1</li><li>1</li><li>1</li><li>1</li><li>1</li><li>1</li><li>1</li><li>1</li><li>1</li><li>1</li><li>1</li><li>1</li><li>1</li><li>1</li><li>1</li><li>1</li><li>1</li><li>1</li><li>1</li><li>1</li><li>1</li><li>1</li><li>1</li><li>1</li><li>1</li><li>1</li><li>1</li><li>1</li><li>1</li><li>1</li><li>1</li><li>1</li><li>1</li><li>1</li><li>1</li><li>1</li><li>1</li><li>1</li><li>1</li><li>1</li><li>1</li><li>1</li><li>1</li><li>1</li><li>1</li><li>1</li><li>1</li><li>1</li><li>1</li><li>1</li><li>1</li><li>1</li><li>1</li><li>1</li><li>1</li><li>1</li><li>1</li><li>1</li><li>1</li><li>1</li><li>1</li><li>1</li><li>1</li><li>1</li><li>1</li><li>1</li><li>1</li><li>1</li><li>1</li><li>1</li><li>1</li><li>1</li><li>1</li><li>1</li><li>1</li><li>1</li><li>1</li><li>1</li><li>1</li><li>1</li><li>1</li><li>1</li><li>1</li><li>1</li><li>1</li><li>1</li><li>1</li><li>1</li><li>1</li><li>1</li><li>1</li><li>1</li><li>1</li><li>1</li><li>1</li><li>1</li><li>1</li><li>1</li><li>1</li><li>1</li><li>1</li><li>1</li><li>1</li><li>1</li><li>1</li><li>1</li><li>1</li><li>1</li><li>1</li><li>1</li><li>1</li><li>1</li><li>1</li><li>1</li><li>1</li><li>1</li><li>1</li><li>1</li><li>1</li><li>1</li><li>1</li><li>1</li><li>1</li><li>1</li><li>1</li><li>1</li><li>1</li><li>1</li><li>1</li><li>1</li><li>1</li><li>1</li><li>1</li><li>1</li><li>1</li><li>1</li><li>1</li><li>1</li><li>1</li><li>1</li><li>1</li><li>1</li><li>1</li><li>1</li><li>1</li><li>1</li><li>1</li><li>1</li><li>1</li><li>1</li><li>1</li><li>1</li><li>1</li><li>1</li><li>1</li><li>1</li><li>1</li><li>⋯</li><li>4</li><li>4</li><li>4</li><li>4</li><li>4</li><li>4</li><li>4</li><li>4</li><li>4</li><li>4</li><li>4</li><li>4</li><li>4</li><li>4</li><li>4</li><li>4</li><li>4</li><li>4</li><li>4</li><li>4</li><li>4</li><li>4</li><li>4</li><li>4</li><li>4</li><li>4</li><li>4</li><li>4</li><li>4</li><li>4</li><li>4</li><li>4</li><li>4</li><li>4</li><li>4</li><li>4</li><li>4</li><li>4</li><li>4</li><li>4</li><li>4</li><li>4</li><li>4</li><li>4</li><li>4</li><li>4</li><li>4</li><li>4</li><li>4</li><li>4</li><li>4</li><li>4</li><li>4</li><li>4</li><li>4</li><li>4</li><li>4</li><li>4</li><li>4</li><li>4</li><li>4</li><li>4</li><li>4</li><li>4</li><li>4</li><li>4</li><li>4</li><li>4</li><li>4</li><li>4</li><li>4</li><li>4</li><li>4</li><li>4</li><li>4</li><li>4</li><li>4</li><li>4</li><li>4</li><li>4</li><li>4</li><li>4</li><li>4</li><li>4</li><li>4</li><li>4</li><li>4</li><li>4</li><li>4</li><li>4</li><li>4</li><li>4</li><li>4</li><li>5</li><li>5</li><li>5</li><li>5</li><li>5</li><li>5</li><li>5</li><li>5</li><li>5</li><li>5</li><li>5</li><li>5</li><li>5</li><li>5</li><li>5</li><li>5</li><li>5</li><li>5</li><li>5</li><li>5</li><li>5</li><li>5</li><li>5</li><li>5</li><li>5</li><li>5</li><li>5</li><li>5</li><li>5</li><li>5</li><li>5</li><li>5</li><li>5</li><li>5</li><li>5</li><li>5</li><li>5</li><li>5</li><li>5</li><li>5</li><li>5</li><li>5</li><li>5</li><li>5</li><li>5</li><li>5</li><li>5</li><li>5</li><li>5</li><li>5</li><li>5</li><li>5</li><li>5</li><li>5</li><li>5</li><li>5</li><li>5</li><li>5</li><li>5</li><li>5</li><li>5</li><li>5</li><li>5</li><li>5</li><li>5</li><li>5</li><li>5</li><li>5</li><li>5</li><li>5</li><li>5</li><li>5</li><li>5</li><li>5</li><li>5</li><li>5</li><li>5</li><li>5</li><li>5</li><li>5</li><li>5</li><li>5</li><li>5</li><li>6</li><li>6</li><li>6</li><li>6</li><li>6</li><li>6</li><li>6</li><li>6</li><li>6</li><li>6</li><li>6</li><li>6</li><li>6</li><li>6</li><li>6</li><li>6</li><li>6</li><li>6</li><li>7</li><li>7</li><li>7</li><li>7</li><li>8</li><li>9</li></ol>\n"
      ],
      "text/latex": [
       "\\begin{enumerate*}\n",
       "\\item 1\n",
       "\\item 1\n",
       "\\item 1\n",
       "\\item 1\n",
       "\\item 1\n",
       "\\item 1\n",
       "\\item 1\n",
       "\\item 1\n",
       "\\item 1\n",
       "\\item 1\n",
       "\\item 1\n",
       "\\item 1\n",
       "\\item 1\n",
       "\\item 1\n",
       "\\item 1\n",
       "\\item 1\n",
       "\\item 1\n",
       "\\item 1\n",
       "\\item 1\n",
       "\\item 1\n",
       "\\item 1\n",
       "\\item 1\n",
       "\\item 1\n",
       "\\item 1\n",
       "\\item 1\n",
       "\\item 1\n",
       "\\item 1\n",
       "\\item 1\n",
       "\\item 1\n",
       "\\item 1\n",
       "\\item 1\n",
       "\\item 1\n",
       "\\item 1\n",
       "\\item 1\n",
       "\\item 1\n",
       "\\item 1\n",
       "\\item 1\n",
       "\\item 1\n",
       "\\item 1\n",
       "\\item 1\n",
       "\\item 1\n",
       "\\item 1\n",
       "\\item 1\n",
       "\\item 1\n",
       "\\item 1\n",
       "\\item 1\n",
       "\\item 1\n",
       "\\item 1\n",
       "\\item 1\n",
       "\\item 1\n",
       "\\item 1\n",
       "\\item 1\n",
       "\\item 1\n",
       "\\item 1\n",
       "\\item 1\n",
       "\\item 1\n",
       "\\item 1\n",
       "\\item 1\n",
       "\\item 1\n",
       "\\item 1\n",
       "\\item 1\n",
       "\\item 1\n",
       "\\item 1\n",
       "\\item 1\n",
       "\\item 1\n",
       "\\item 1\n",
       "\\item 1\n",
       "\\item 1\n",
       "\\item 1\n",
       "\\item 1\n",
       "\\item 1\n",
       "\\item 1\n",
       "\\item 1\n",
       "\\item 1\n",
       "\\item 1\n",
       "\\item 1\n",
       "\\item 1\n",
       "\\item 1\n",
       "\\item 1\n",
       "\\item 1\n",
       "\\item 1\n",
       "\\item 1\n",
       "\\item 1\n",
       "\\item 1\n",
       "\\item 1\n",
       "\\item 1\n",
       "\\item 1\n",
       "\\item 1\n",
       "\\item 1\n",
       "\\item 1\n",
       "\\item 1\n",
       "\\item 1\n",
       "\\item 1\n",
       "\\item 1\n",
       "\\item 1\n",
       "\\item 1\n",
       "\\item 1\n",
       "\\item 1\n",
       "\\item 1\n",
       "\\item 1\n",
       "\\item 1\n",
       "\\item 1\n",
       "\\item 1\n",
       "\\item 1\n",
       "\\item 1\n",
       "\\item 1\n",
       "\\item 1\n",
       "\\item 1\n",
       "\\item 1\n",
       "\\item 1\n",
       "\\item 1\n",
       "\\item 1\n",
       "\\item 1\n",
       "\\item 1\n",
       "\\item 1\n",
       "\\item 1\n",
       "\\item 1\n",
       "\\item 1\n",
       "\\item 1\n",
       "\\item 1\n",
       "\\item 1\n",
       "\\item 1\n",
       "\\item 1\n",
       "\\item 1\n",
       "\\item 1\n",
       "\\item 1\n",
       "\\item 1\n",
       "\\item 1\n",
       "\\item 1\n",
       "\\item 1\n",
       "\\item 1\n",
       "\\item 1\n",
       "\\item 1\n",
       "\\item 1\n",
       "\\item 1\n",
       "\\item 1\n",
       "\\item 1\n",
       "\\item 1\n",
       "\\item 1\n",
       "\\item 1\n",
       "\\item 1\n",
       "\\item 1\n",
       "\\item 1\n",
       "\\item 1\n",
       "\\item 1\n",
       "\\item 1\n",
       "\\item 1\n",
       "\\item 1\n",
       "\\item 1\n",
       "\\item 1\n",
       "\\item 1\n",
       "\\item 1\n",
       "\\item 1\n",
       "\\item 1\n",
       "\\item 1\n",
       "\\item 1\n",
       "\\item 1\n",
       "\\item 1\n",
       "\\item 1\n",
       "\\item 1\n",
       "\\item 1\n",
       "\\item 1\n",
       "\\item 1\n",
       "\\item 1\n",
       "\\item 1\n",
       "\\item 1\n",
       "\\item 1\n",
       "\\item 1\n",
       "\\item 1\n",
       "\\item 1\n",
       "\\item 1\n",
       "\\item 1\n",
       "\\item 1\n",
       "\\item 1\n",
       "\\item 1\n",
       "\\item 1\n",
       "\\item 1\n",
       "\\item 1\n",
       "\\item 1\n",
       "\\item 1\n",
       "\\item 1\n",
       "\\item 1\n",
       "\\item 1\n",
       "\\item 1\n",
       "\\item 1\n",
       "\\item 1\n",
       "\\item 1\n",
       "\\item 1\n",
       "\\item 1\n",
       "\\item 1\n",
       "\\item 1\n",
       "\\item 1\n",
       "\\item 1\n",
       "\\item 1\n",
       "\\item 1\n",
       "\\item 1\n",
       "\\item 1\n",
       "\\item 1\n",
       "\\item 1\n",
       "\\item 1\n",
       "\\item ⋯\n",
       "\\item 4\n",
       "\\item 4\n",
       "\\item 4\n",
       "\\item 4\n",
       "\\item 4\n",
       "\\item 4\n",
       "\\item 4\n",
       "\\item 4\n",
       "\\item 4\n",
       "\\item 4\n",
       "\\item 4\n",
       "\\item 4\n",
       "\\item 4\n",
       "\\item 4\n",
       "\\item 4\n",
       "\\item 4\n",
       "\\item 4\n",
       "\\item 4\n",
       "\\item 4\n",
       "\\item 4\n",
       "\\item 4\n",
       "\\item 4\n",
       "\\item 4\n",
       "\\item 4\n",
       "\\item 4\n",
       "\\item 4\n",
       "\\item 4\n",
       "\\item 4\n",
       "\\item 4\n",
       "\\item 4\n",
       "\\item 4\n",
       "\\item 4\n",
       "\\item 4\n",
       "\\item 4\n",
       "\\item 4\n",
       "\\item 4\n",
       "\\item 4\n",
       "\\item 4\n",
       "\\item 4\n",
       "\\item 4\n",
       "\\item 4\n",
       "\\item 4\n",
       "\\item 4\n",
       "\\item 4\n",
       "\\item 4\n",
       "\\item 4\n",
       "\\item 4\n",
       "\\item 4\n",
       "\\item 4\n",
       "\\item 4\n",
       "\\item 4\n",
       "\\item 4\n",
       "\\item 4\n",
       "\\item 4\n",
       "\\item 4\n",
       "\\item 4\n",
       "\\item 4\n",
       "\\item 4\n",
       "\\item 4\n",
       "\\item 4\n",
       "\\item 4\n",
       "\\item 4\n",
       "\\item 4\n",
       "\\item 4\n",
       "\\item 4\n",
       "\\item 4\n",
       "\\item 4\n",
       "\\item 4\n",
       "\\item 4\n",
       "\\item 4\n",
       "\\item 4\n",
       "\\item 4\n",
       "\\item 4\n",
       "\\item 4\n",
       "\\item 4\n",
       "\\item 4\n",
       "\\item 4\n",
       "\\item 4\n",
       "\\item 4\n",
       "\\item 4\n",
       "\\item 4\n",
       "\\item 4\n",
       "\\item 4\n",
       "\\item 4\n",
       "\\item 4\n",
       "\\item 4\n",
       "\\item 4\n",
       "\\item 4\n",
       "\\item 4\n",
       "\\item 4\n",
       "\\item 4\n",
       "\\item 4\n",
       "\\item 4\n",
       "\\item 5\n",
       "\\item 5\n",
       "\\item 5\n",
       "\\item 5\n",
       "\\item 5\n",
       "\\item 5\n",
       "\\item 5\n",
       "\\item 5\n",
       "\\item 5\n",
       "\\item 5\n",
       "\\item 5\n",
       "\\item 5\n",
       "\\item 5\n",
       "\\item 5\n",
       "\\item 5\n",
       "\\item 5\n",
       "\\item 5\n",
       "\\item 5\n",
       "\\item 5\n",
       "\\item 5\n",
       "\\item 5\n",
       "\\item 5\n",
       "\\item 5\n",
       "\\item 5\n",
       "\\item 5\n",
       "\\item 5\n",
       "\\item 5\n",
       "\\item 5\n",
       "\\item 5\n",
       "\\item 5\n",
       "\\item 5\n",
       "\\item 5\n",
       "\\item 5\n",
       "\\item 5\n",
       "\\item 5\n",
       "\\item 5\n",
       "\\item 5\n",
       "\\item 5\n",
       "\\item 5\n",
       "\\item 5\n",
       "\\item 5\n",
       "\\item 5\n",
       "\\item 5\n",
       "\\item 5\n",
       "\\item 5\n",
       "\\item 5\n",
       "\\item 5\n",
       "\\item 5\n",
       "\\item 5\n",
       "\\item 5\n",
       "\\item 5\n",
       "\\item 5\n",
       "\\item 5\n",
       "\\item 5\n",
       "\\item 5\n",
       "\\item 5\n",
       "\\item 5\n",
       "\\item 5\n",
       "\\item 5\n",
       "\\item 5\n",
       "\\item 5\n",
       "\\item 5\n",
       "\\item 5\n",
       "\\item 5\n",
       "\\item 5\n",
       "\\item 5\n",
       "\\item 5\n",
       "\\item 5\n",
       "\\item 5\n",
       "\\item 5\n",
       "\\item 5\n",
       "\\item 5\n",
       "\\item 5\n",
       "\\item 5\n",
       "\\item 5\n",
       "\\item 5\n",
       "\\item 5\n",
       "\\item 5\n",
       "\\item 5\n",
       "\\item 5\n",
       "\\item 5\n",
       "\\item 5\n",
       "\\item 5\n",
       "\\item 6\n",
       "\\item 6\n",
       "\\item 6\n",
       "\\item 6\n",
       "\\item 6\n",
       "\\item 6\n",
       "\\item 6\n",
       "\\item 6\n",
       "\\item 6\n",
       "\\item 6\n",
       "\\item 6\n",
       "\\item 6\n",
       "\\item 6\n",
       "\\item 6\n",
       "\\item 6\n",
       "\\item 6\n",
       "\\item 6\n",
       "\\item 6\n",
       "\\item 7\n",
       "\\item 7\n",
       "\\item 7\n",
       "\\item 7\n",
       "\\item 8\n",
       "\\item 9\n",
       "\\end{enumerate*}\n"
      ],
      "text/markdown": [
       "1. 1\n",
       "2. 1\n",
       "3. 1\n",
       "4. 1\n",
       "5. 1\n",
       "6. 1\n",
       "7. 1\n",
       "8. 1\n",
       "9. 1\n",
       "10. 1\n",
       "11. 1\n",
       "12. 1\n",
       "13. 1\n",
       "14. 1\n",
       "15. 1\n",
       "16. 1\n",
       "17. 1\n",
       "18. 1\n",
       "19. 1\n",
       "20. 1\n",
       "21. 1\n",
       "22. 1\n",
       "23. 1\n",
       "24. 1\n",
       "25. 1\n",
       "26. 1\n",
       "27. 1\n",
       "28. 1\n",
       "29. 1\n",
       "30. 1\n",
       "31. 1\n",
       "32. 1\n",
       "33. 1\n",
       "34. 1\n",
       "35. 1\n",
       "36. 1\n",
       "37. 1\n",
       "38. 1\n",
       "39. 1\n",
       "40. 1\n",
       "41. 1\n",
       "42. 1\n",
       "43. 1\n",
       "44. 1\n",
       "45. 1\n",
       "46. 1\n",
       "47. 1\n",
       "48. 1\n",
       "49. 1\n",
       "50. 1\n",
       "51. 1\n",
       "52. 1\n",
       "53. 1\n",
       "54. 1\n",
       "55. 1\n",
       "56. 1\n",
       "57. 1\n",
       "58. 1\n",
       "59. 1\n",
       "60. 1\n",
       "61. 1\n",
       "62. 1\n",
       "63. 1\n",
       "64. 1\n",
       "65. 1\n",
       "66. 1\n",
       "67. 1\n",
       "68. 1\n",
       "69. 1\n",
       "70. 1\n",
       "71. 1\n",
       "72. 1\n",
       "73. 1\n",
       "74. 1\n",
       "75. 1\n",
       "76. 1\n",
       "77. 1\n",
       "78. 1\n",
       "79. 1\n",
       "80. 1\n",
       "81. 1\n",
       "82. 1\n",
       "83. 1\n",
       "84. 1\n",
       "85. 1\n",
       "86. 1\n",
       "87. 1\n",
       "88. 1\n",
       "89. 1\n",
       "90. 1\n",
       "91. 1\n",
       "92. 1\n",
       "93. 1\n",
       "94. 1\n",
       "95. 1\n",
       "96. 1\n",
       "97. 1\n",
       "98. 1\n",
       "99. 1\n",
       "100. 1\n",
       "101. 1\n",
       "102. 1\n",
       "103. 1\n",
       "104. 1\n",
       "105. 1\n",
       "106. 1\n",
       "107. 1\n",
       "108. 1\n",
       "109. 1\n",
       "110. 1\n",
       "111. 1\n",
       "112. 1\n",
       "113. 1\n",
       "114. 1\n",
       "115. 1\n",
       "116. 1\n",
       "117. 1\n",
       "118. 1\n",
       "119. 1\n",
       "120. 1\n",
       "121. 1\n",
       "122. 1\n",
       "123. 1\n",
       "124. 1\n",
       "125. 1\n",
       "126. 1\n",
       "127. 1\n",
       "128. 1\n",
       "129. 1\n",
       "130. 1\n",
       "131. 1\n",
       "132. 1\n",
       "133. 1\n",
       "134. 1\n",
       "135. 1\n",
       "136. 1\n",
       "137. 1\n",
       "138. 1\n",
       "139. 1\n",
       "140. 1\n",
       "141. 1\n",
       "142. 1\n",
       "143. 1\n",
       "144. 1\n",
       "145. 1\n",
       "146. 1\n",
       "147. 1\n",
       "148. 1\n",
       "149. 1\n",
       "150. 1\n",
       "151. 1\n",
       "152. 1\n",
       "153. 1\n",
       "154. 1\n",
       "155. 1\n",
       "156. 1\n",
       "157. 1\n",
       "158. 1\n",
       "159. 1\n",
       "160. 1\n",
       "161. 1\n",
       "162. 1\n",
       "163. 1\n",
       "164. 1\n",
       "165. 1\n",
       "166. 1\n",
       "167. 1\n",
       "168. 1\n",
       "169. 1\n",
       "170. 1\n",
       "171. 1\n",
       "172. 1\n",
       "173. 1\n",
       "174. 1\n",
       "175. 1\n",
       "176. 1\n",
       "177. 1\n",
       "178. 1\n",
       "179. 1\n",
       "180. 1\n",
       "181. 1\n",
       "182. 1\n",
       "183. 1\n",
       "184. 1\n",
       "185. 1\n",
       "186. 1\n",
       "187. 1\n",
       "188. 1\n",
       "189. 1\n",
       "190. 1\n",
       "191. 1\n",
       "192. 1\n",
       "193. 1\n",
       "194. 1\n",
       "195. 1\n",
       "196. 1\n",
       "197. 1\n",
       "198. 1\n",
       "199. 1\n",
       "200. 1\n",
       "201. ⋯\n",
       "202. 4\n",
       "203. 4\n",
       "204. 4\n",
       "205. 4\n",
       "206. 4\n",
       "207. 4\n",
       "208. 4\n",
       "209. 4\n",
       "210. 4\n",
       "211. 4\n",
       "212. 4\n",
       "213. 4\n",
       "214. 4\n",
       "215. 4\n",
       "216. 4\n",
       "217. 4\n",
       "218. 4\n",
       "219. 4\n",
       "220. 4\n",
       "221. 4\n",
       "222. 4\n",
       "223. 4\n",
       "224. 4\n",
       "225. 4\n",
       "226. 4\n",
       "227. 4\n",
       "228. 4\n",
       "229. 4\n",
       "230. 4\n",
       "231. 4\n",
       "232. 4\n",
       "233. 4\n",
       "234. 4\n",
       "235. 4\n",
       "236. 4\n",
       "237. 4\n",
       "238. 4\n",
       "239. 4\n",
       "240. 4\n",
       "241. 4\n",
       "242. 4\n",
       "243. 4\n",
       "244. 4\n",
       "245. 4\n",
       "246. 4\n",
       "247. 4\n",
       "248. 4\n",
       "249. 4\n",
       "250. 4\n",
       "251. 4\n",
       "252. 4\n",
       "253. 4\n",
       "254. 4\n",
       "255. 4\n",
       "256. 4\n",
       "257. 4\n",
       "258. 4\n",
       "259. 4\n",
       "260. 4\n",
       "261. 4\n",
       "262. 4\n",
       "263. 4\n",
       "264. 4\n",
       "265. 4\n",
       "266. 4\n",
       "267. 4\n",
       "268. 4\n",
       "269. 4\n",
       "270. 4\n",
       "271. 4\n",
       "272. 4\n",
       "273. 4\n",
       "274. 4\n",
       "275. 4\n",
       "276. 4\n",
       "277. 4\n",
       "278. 4\n",
       "279. 4\n",
       "280. 4\n",
       "281. 4\n",
       "282. 4\n",
       "283. 4\n",
       "284. 4\n",
       "285. 4\n",
       "286. 4\n",
       "287. 4\n",
       "288. 4\n",
       "289. 4\n",
       "290. 4\n",
       "291. 4\n",
       "292. 4\n",
       "293. 4\n",
       "294. 4\n",
       "295. 5\n",
       "296. 5\n",
       "297. 5\n",
       "298. 5\n",
       "299. 5\n",
       "300. 5\n",
       "301. 5\n",
       "302. 5\n",
       "303. 5\n",
       "304. 5\n",
       "305. 5\n",
       "306. 5\n",
       "307. 5\n",
       "308. 5\n",
       "309. 5\n",
       "310. 5\n",
       "311. 5\n",
       "312. 5\n",
       "313. 5\n",
       "314. 5\n",
       "315. 5\n",
       "316. 5\n",
       "317. 5\n",
       "318. 5\n",
       "319. 5\n",
       "320. 5\n",
       "321. 5\n",
       "322. 5\n",
       "323. 5\n",
       "324. 5\n",
       "325. 5\n",
       "326. 5\n",
       "327. 5\n",
       "328. 5\n",
       "329. 5\n",
       "330. 5\n",
       "331. 5\n",
       "332. 5\n",
       "333. 5\n",
       "334. 5\n",
       "335. 5\n",
       "336. 5\n",
       "337. 5\n",
       "338. 5\n",
       "339. 5\n",
       "340. 5\n",
       "341. 5\n",
       "342. 5\n",
       "343. 5\n",
       "344. 5\n",
       "345. 5\n",
       "346. 5\n",
       "347. 5\n",
       "348. 5\n",
       "349. 5\n",
       "350. 5\n",
       "351. 5\n",
       "352. 5\n",
       "353. 5\n",
       "354. 5\n",
       "355. 5\n",
       "356. 5\n",
       "357. 5\n",
       "358. 5\n",
       "359. 5\n",
       "360. 5\n",
       "361. 5\n",
       "362. 5\n",
       "363. 5\n",
       "364. 5\n",
       "365. 5\n",
       "366. 5\n",
       "367. 5\n",
       "368. 5\n",
       "369. 5\n",
       "370. 5\n",
       "371. 5\n",
       "372. 5\n",
       "373. 5\n",
       "374. 5\n",
       "375. 5\n",
       "376. 5\n",
       "377. 5\n",
       "378. 6\n",
       "379. 6\n",
       "380. 6\n",
       "381. 6\n",
       "382. 6\n",
       "383. 6\n",
       "384. 6\n",
       "385. 6\n",
       "386. 6\n",
       "387. 6\n",
       "388. 6\n",
       "389. 6\n",
       "390. 6\n",
       "391. 6\n",
       "392. 6\n",
       "393. 6\n",
       "394. 6\n",
       "395. 6\n",
       "396. 7\n",
       "397. 7\n",
       "398. 7\n",
       "399. 7\n",
       "400. 8\n",
       "401. 9\n",
       "\n",
       "\n"
      ],
      "text/plain": [
       "   [1] 1 1 1 1 1 1 1 1 1 1 1 1 1 1 1 1 1 1 1 1 1 1 1 1 1 1 1 1 1 1 1 1 1 1 1 1 1\n",
       "  [38] 1 1 1 1 1 1 1 1 1 1 1 1 1 1 1 1 1 1 1 1 1 1 1 1 1 1 1 1 1 1 1 1 1 1 1 1 1\n",
       "  [75] 1 1 1 1 1 1 1 1 1 1 1 1 1 1 1 1 1 1 1 1 1 1 1 1 1 1 1 1 1 1 1 1 1 1 1 1 1\n",
       " [112] 1 1 1 1 1 1 1 1 1 1 1 1 1 1 1 1 1 1 1 1 1 1 1 1 1 1 1 1 1 1 1 1 1 1 1 1 1\n",
       " [149] 1 1 1 1 1 1 1 1 1 1 1 1 1 1 1 1 1 1 1 1 1 1 1 1 1 1 1 1 1 1 1 1 1 1 1 1 1\n",
       " [186] 1 1 1 1 1 1 1 1 1 1 1 1 1 1 1 1 1 1 1 1 1 1 1 1 1 1 1 1 1 1 1 1 1 1 1 1 1\n",
       " [223] 1 1 1 1 1 1 1 1 1 1 1 1 1 1 1 1 1 1 1 1 1 1 1 1 1 1 1 1 1 1 1 1 1 1 1 1 1\n",
       " [260] 1 1 1 1 1 1 1 1 1 1 1 1 1 1 1 1 1 1 1 1 1 1 1 1 1 1 1 1 1 1 1 1 1 1 1 1 1\n",
       " [297] 1 1 1 1 1 1 1 1 1 1 1 1 1 1 1 1 1 1 1 1 1 1 1 1 1 1 1 1 1 1 1 1 1 1 1 1 1\n",
       " [334] 1 1 1 1 1 1 1 1 1 2 2 2 2 2 2 2 2 2 2 2 2 2 2 2 2 2 2 2 2 2 2 2 2 2 2 2 2\n",
       " [371] 2 2 2 2 2 2 2 2 2 2 2 2 2 2 2 2 2 2 2 2 2 2 2 2 2 2 2 2 2 2 2 2 2 2 2 2 2\n",
       " [408] 2 2 2 2 2 2 2 2 2 2 2 2 2 2 2 2 2 2 2 2 2 2 2 2 2 2 2 2 2 2 2 2 2 2 2 2 2\n",
       " [445] 2 2 2 2 2 2 2 2 2 2 2 2 2 2 2 2 2 2 2 2 2 2 2 2 2 2 2 2 2 2 2 2 2 2 2 2 2\n",
       " [482] 2 2 2 2 2 2 2 2 2 2 2 2 2 2 2 2 2 2 2 2 2 2 2 2 2 2 2 2 2 2 2 2 2 2 2 2 2\n",
       " [519] 2 2 2 2 2 2 2 2 2 2 2 2 2 2 2 2 2 2 2 2 2 2 2 2 2 2 2 2 2 2 2 2 2 2 2 2 2\n",
       " [556] 2 2 2 2 2 2 2 2 2 2 2 2 2 2 2 2 2 2 2 2 2 2 2 2 2 2 2 2 2 2 2 2 2 2 2 2 2\n",
       " [593] 2 2 2 2 2 2 2 2 2 2 2 2 2 2 2 2 2 2 2 2 2 2 2 2 2 2 2 2 2 2 2 2 2 2 2 2 2\n",
       " [630] 2 2 2 2 2 2 2 2 2 2 2 2 2 2 2 2 2 2 2 2 2 2 2 2 2 2 2 2 2 2 2 2 2 2 2 2 2\n",
       " [667] 2 2 2 2 2 2 2 2 2 2 2 2 2 2 2 2 2 2 2 2 2 2 2 2 2 2 2 2 2 2 2 2 2 2 2 2 2\n",
       " [704] 2 2 2 2 2 2 2 2 2 2 2 2 2 2 2 2 2 2 2 2 2 2 2 2 2 2 2 2 2 2 2 2 2 2 2 2 2\n",
       " [741] 2 2 2 2 2 2 2 2 2 2 2 2 2 2 2 2 2 2 2 2 2 2 2 2 2 2 2 2 2 2 2 2 2 2 2 2 2\n",
       " [778] 2 2 2 2 2 2 2 2 2 2 2 2 2 2 2 2 2 2 2 2 2 2 2 2 2 2 2 2 2 2 2 2 2 2 2 2 2\n",
       " [815] 2 2 2 2 2 2 2 2 2 2 2 2 2 2 2 2 2 2 2 2 2 2 2 2 2 2 2 2 2 2 2 2 2 2 2 2 2\n",
       " [852] 2 2 2 2 2 2 2 2 2 2 2 2 2 2 2 2 2 2 2 2 2 2 2 3 3 3 3 3 3 3 3 3 3 3 3 3 3\n",
       " [889] 3 3 3 3 3 3 3 3 3 3 3 3 3 3 3 3 3 3 3 3 3 3 3 3 3 3 3 3 3 3 3 3 3 3 3 3 3\n",
       " [926] 3 3 3 3 3 3 3 3 3 3 3 3 3 3 3 3 3 3 3 3 3 3 3 3 3 3 3 3 3 3 3 3 3 3 3 3 3\n",
       " [963] 3 3 3 3 3 3 3 3 3 3 3 3 3 3 3 3 3 3 3 3 3 3 3 3 3 3 3 3 3 3 3 3 3 3 3 3 3\n",
       "[1000] 3 3 3 3 3 3 3 3 3 3 3 3 3 3 3 3 3 3 3 3 3 3 3 3 3 3 3 3 3 3 3 3 3 3 3 3 3\n",
       "[1037] 3 3 3 3 3 3 3 3 3 3 3 3 3 3 3 3 3 3 3 3 3 3 3 3 3 3 3 3 3 3 3 3 3 3 3 3 3\n",
       "[1074] 3 3 3 3 3 3 3 3 3 3 3 3 3 3 3 3 3 3 3 3 3 3 3 3 3 3 3 3 3 3 3 3 3 3 3 3 3\n",
       "[1111] 3 3 3 3 3 3 3 3 3 3 3 3 3 3 3 3 3 3 3 3 3 3 3 3 3 3 3 3 3 3 3 3 3 3 3 3 3\n",
       "[1148] 3 3 3 3 3 3 3 3 3 3 3 3 3 3 3 3 3 3 3 3 3 3 3 3 3 3 3 3 3 3 3 3 3 3 3 3 3\n",
       "[1185] 3 3 3 3 3 3 3 3 3 3 3 3 3 3 3 3 3 3 3 3 3 3 3 3 3 3 3 3 3 3 4 4 4 4 4 4 4\n",
       "[1222] 4 4 4 4 4 4 4 4 4 4 4 4 4 4 4 4 4 4 4 4 4 4 4 4 4 4 4 4 4 4 4 4 4 4 4 4 4\n",
       "[1259] 4 4 4 4 4 4 4 4 4 4 4 4 4 4 4 4 4 4 4 4 4 4 4 4 4 4 4 4 4 4 4 4 4 4 4 4 4\n",
       "[1296] 4 4 4 4 4 4 4 4 4 4 4 4 4 4 4 4 4 4 4 4 4 4 4 4 4 4 4 4 4 4 4 4 4 4 4 4 4\n",
       "[1333] 4 4 4 4 4 4 4 4 4 4 4 4 4 4 4 4 4 4 4 4 4 4 4 4 4 4 4 4 4 4 4 4 4 4 4 4 4\n",
       "[1370] 4 4 4 4 4 4 4 4 4 4 4 4 4 4 4 4 4 4 4 4 4 4 4 4 5 5 5 5 5 5 5 5 5 5 5 5 5\n",
       "[1407] 5 5 5 5 5 5 5 5 5 5 5 5 5 5 5 5 5 5 5 5 5 5 5 5 5 5 5 5 5 5 5 5 5 5 5 5 5\n",
       "[1444] 5 5 5 5 5 5 5 5 5 5 5 5 5 5 5 5 5 5 5 5 5 5 5 5 5 5 5 5 5 5 5 5 5 6 6 6 6\n",
       "[1481] 6 6 6 6 6 6 6 6 6 6 6 6 6 6 7 7 7 7 8 9"
      ]
     },
     "metadata": {},
     "output_type": "display_data"
    }
   ],
   "source": [
    "index"
   ]
  },
  {
   "cell_type": "code",
   "execution_count": 133,
   "id": "88de206d-3a56-4ead-bae3-51bc3c5a01f6",
   "metadata": {},
   "outputs": [
    {
     "data": {
      "text/html": [
       "1500"
      ],
      "text/latex": [
       "1500"
      ],
      "text/markdown": [
       "1500"
      ],
      "text/plain": [
       "[1] 1500"
      ]
     },
     "metadata": {},
     "output_type": "display_data"
    }
   ],
   "source": [
    "length(index)"
   ]
  },
  {
   "cell_type": "code",
   "execution_count": 134,
   "id": "19c06ec0-c1ae-4b95-9ed7-d49768d5ac2f",
   "metadata": {},
   "outputs": [
    {
     "data": {
      "image/png": "[encoded data removed]",
      "text/plain": [
       "Plot with title \"Histogram of index\""
      ]
     },
     "metadata": {
      "image/png": {
       "height": 420,
       "width": 420
      }
     },
     "output_type": "display_data"
    }
   ],
   "source": [
    "hist(index, -0.5:9.5)"
   ]
  },
  {
   "cell_type": "code",
   "execution_count": 135,
   "id": "8d310d2e-f284-43a3-90ff-e39adfdfb76a",
   "metadata": {},
   "outputs": [
    {
     "data": {
      "text/html": [
       "<table class=\"dataframe\">\n",
       "<caption>A data.frame: 6 × 2</caption>\n",
       "<thead>\n",
       "\t<tr><th></th><th scope=col>y</th><th scope=col>Freq</th></tr>\n",
       "\t<tr><th></th><th scope=col>&lt;fct&gt;</th><th scope=col>&lt;int&gt;</th></tr>\n",
       "</thead>\n",
       "<tbody>\n",
       "\t<tr><th scope=row>7</th><td>6</td><td>4</td></tr>\n",
       "\t<tr><th scope=row>7.1</th><td>6</td><td>4</td></tr>\n",
       "\t<tr><th scope=row>7.2</th><td>6</td><td>4</td></tr>\n",
       "\t<tr><th scope=row>7.3</th><td>6</td><td>4</td></tr>\n",
       "\t<tr><th scope=row>8</th><td>7</td><td>1</td></tr>\n",
       "\t<tr><th scope=row>9</th><td>8</td><td>1</td></tr>\n",
       "</tbody>\n",
       "</table>\n"
      ],
      "text/latex": [
       "A data.frame: 6 × 2\n",
       "\\begin{tabular}{r|ll}\n",
       "  & y & Freq\\\\\n",
       "  & <fct> & <int>\\\\\n",
       "\\hline\n",
       "\t7 & 6 & 4\\\\\n",
       "\t7.1 & 6 & 4\\\\\n",
       "\t7.2 & 6 & 4\\\\\n",
       "\t7.3 & 6 & 4\\\\\n",
       "\t8 & 7 & 1\\\\\n",
       "\t9 & 8 & 1\\\\\n",
       "\\end{tabular}\n"
      ],
      "text/markdown": [
       "\n",
       "A data.frame: 6 × 2\n",
       "\n",
       "| <!--/--> | y &lt;fct&gt; | Freq &lt;int&gt; |\n",
       "|---|---|---|\n",
       "| 7 | 6 | 4 |\n",
       "| 7.1 | 6 | 4 |\n",
       "| 7.2 | 6 | 4 |\n",
       "| 7.3 | 6 | 4 |\n",
       "| 8 | 7 | 1 |\n",
       "| 9 | 8 | 1 |\n",
       "\n"
      ],
      "text/plain": [
       "    y Freq\n",
       "7   6 4   \n",
       "7.1 6 4   \n",
       "7.2 6 4   \n",
       "7.3 6 4   \n",
       "8   7 1   \n",
       "9   8 1   "
      ]
     },
     "metadata": {},
     "output_type": "display_data"
    }
   ],
   "source": [
    "long <- short[index,]\n",
    "tail(long)"
   ]
  },
  {
   "cell_type": "code",
   "execution_count": 140,
   "id": "3ae338ce-2a98-49b1-8c95-fb8326997cfa",
   "metadata": {},
   "outputs": [
    {
     "data": {
      "text/html": [
       "<table class=\"dataframe\">\n",
       "<caption>A data.frame: 1 × 2</caption>\n",
       "<thead>\n",
       "\t<tr><th></th><th scope=col>y</th><th scope=col>Freq</th></tr>\n",
       "\t<tr><th></th><th scope=col>&lt;fct&gt;</th><th scope=col>&lt;int&gt;</th></tr>\n",
       "</thead>\n",
       "<tbody>\n",
       "\t<tr><th scope=row>1.1</th><td>0</td><td>342</td></tr>\n",
       "</tbody>\n",
       "</table>\n"
      ],
      "text/latex": [
       "A data.frame: 1 × 2\n",
       "\\begin{tabular}{r|ll}\n",
       "  & y & Freq\\\\\n",
       "  & <fct> & <int>\\\\\n",
       "\\hline\n",
       "\t1.1 & 0 & 342\\\\\n",
       "\\end{tabular}\n"
      ],
      "text/markdown": [
       "\n",
       "A data.frame: 1 × 2\n",
       "\n",
       "| <!--/--> | y &lt;fct&gt; | Freq &lt;int&gt; |\n",
       "|---|---|---|\n",
       "| 1.1 | 0 | 342 |\n",
       "\n"
      ],
      "text/plain": [
       "    y Freq\n",
       "1.1 0 342 "
      ]
     },
     "metadata": {},
     "output_type": "display_data"
    }
   ],
   "source": [
    "long[2,]"
   ]
  },
  {
   "cell_type": "code",
   "execution_count": 141,
   "id": "57c84ff0-1d91-403b-b437-1c1ac46a4315",
   "metadata": {},
   "outputs": [],
   "source": [
    "long2 <- as.data.frame(lapply(short,\n",
    "                              function(x) rep(x, short$Freq)))"
   ]
  },
  {
   "cell_type": "code",
   "execution_count": 143,
   "id": "91048ddb-b361-4ec3-8ab0-b72d705a372e",
   "metadata": {},
   "outputs": [
    {
     "data": {
      "text/html": [
       "<table class=\"dataframe\">\n",
       "<caption>A data.frame: 6 × 2</caption>\n",
       "<thead>\n",
       "\t<tr><th></th><th scope=col>y</th><th scope=col>Freq</th></tr>\n",
       "\t<tr><th></th><th scope=col>&lt;fct&gt;</th><th scope=col>&lt;int&gt;</th></tr>\n",
       "</thead>\n",
       "<tbody>\n",
       "\t<tr><th scope=row>1495</th><td>6</td><td>4</td></tr>\n",
       "\t<tr><th scope=row>1496</th><td>6</td><td>4</td></tr>\n",
       "\t<tr><th scope=row>1497</th><td>6</td><td>4</td></tr>\n",
       "\t<tr><th scope=row>1498</th><td>6</td><td>4</td></tr>\n",
       "\t<tr><th scope=row>1499</th><td>7</td><td>1</td></tr>\n",
       "\t<tr><th scope=row>1500</th><td>8</td><td>1</td></tr>\n",
       "</tbody>\n",
       "</table>\n"
      ],
      "text/latex": [
       "A data.frame: 6 × 2\n",
       "\\begin{tabular}{r|ll}\n",
       "  & y & Freq\\\\\n",
       "  & <fct> & <int>\\\\\n",
       "\\hline\n",
       "\t1495 & 6 & 4\\\\\n",
       "\t1496 & 6 & 4\\\\\n",
       "\t1497 & 6 & 4\\\\\n",
       "\t1498 & 6 & 4\\\\\n",
       "\t1499 & 7 & 1\\\\\n",
       "\t1500 & 8 & 1\\\\\n",
       "\\end{tabular}\n"
      ],
      "text/markdown": [
       "\n",
       "A data.frame: 6 × 2\n",
       "\n",
       "| <!--/--> | y &lt;fct&gt; | Freq &lt;int&gt; |\n",
       "|---|---|---|\n",
       "| 1495 | 6 | 4 |\n",
       "| 1496 | 6 | 4 |\n",
       "| 1497 | 6 | 4 |\n",
       "| 1498 | 6 | 4 |\n",
       "| 1499 | 7 | 1 |\n",
       "| 1500 | 8 | 1 |\n",
       "\n"
      ],
      "text/plain": [
       "     y Freq\n",
       "1495 6 4   \n",
       "1496 6 4   \n",
       "1497 6 4   \n",
       "1498 6 4   \n",
       "1499 7 1   \n",
       "1500 8 1   "
      ]
     },
     "metadata": {},
     "output_type": "display_data"
    }
   ],
   "source": [
    "long2 %>% tail"
   ]
  },
  {
   "cell_type": "code",
   "execution_count": 144,
   "id": "d3d065d5-bbba-4e7a-a4ef-3044ebf1f242",
   "metadata": {},
   "outputs": [
    {
     "data": {
      "text/html": [
       "<table class=\"dataframe\">\n",
       "<caption>A data.frame: 6 × 2</caption>\n",
       "<thead>\n",
       "\t<tr><th></th><th scope=col>y</th><th scope=col>Freq</th></tr>\n",
       "\t<tr><th></th><th scope=col>&lt;fct&gt;</th><th scope=col>&lt;int&gt;</th></tr>\n",
       "</thead>\n",
       "<tbody>\n",
       "\t<tr><th scope=row>1</th><td>0</td><td>342</td></tr>\n",
       "\t<tr><th scope=row>2</th><td>0</td><td>342</td></tr>\n",
       "\t<tr><th scope=row>3</th><td>0</td><td>342</td></tr>\n",
       "\t<tr><th scope=row>4</th><td>0</td><td>342</td></tr>\n",
       "\t<tr><th scope=row>5</th><td>0</td><td>342</td></tr>\n",
       "\t<tr><th scope=row>6</th><td>0</td><td>342</td></tr>\n",
       "</tbody>\n",
       "</table>\n"
      ],
      "text/latex": [
       "A data.frame: 6 × 2\n",
       "\\begin{tabular}{r|ll}\n",
       "  & y & Freq\\\\\n",
       "  & <fct> & <int>\\\\\n",
       "\\hline\n",
       "\t1 & 0 & 342\\\\\n",
       "\t2 & 0 & 342\\\\\n",
       "\t3 & 0 & 342\\\\\n",
       "\t4 & 0 & 342\\\\\n",
       "\t5 & 0 & 342\\\\\n",
       "\t6 & 0 & 342\\\\\n",
       "\\end{tabular}\n"
      ],
      "text/markdown": [
       "\n",
       "A data.frame: 6 × 2\n",
       "\n",
       "| <!--/--> | y &lt;fct&gt; | Freq &lt;int&gt; |\n",
       "|---|---|---|\n",
       "| 1 | 0 | 342 |\n",
       "| 2 | 0 | 342 |\n",
       "| 3 | 0 | 342 |\n",
       "| 4 | 0 | 342 |\n",
       "| 5 | 0 | 342 |\n",
       "| 6 | 0 | 342 |\n",
       "\n"
      ],
      "text/plain": [
       "  y Freq\n",
       "1 0 342 \n",
       "2 0 342 \n",
       "3 0 342 \n",
       "4 0 342 \n",
       "5 0 342 \n",
       "6 0 342 "
      ]
     },
     "metadata": {},
     "output_type": "display_data"
    }
   ],
   "source": [
    "long2 %>% head"
   ]
  },
  {
   "cell_type": "code",
   "execution_count": 159,
   "id": "23c76451-0556-4ad0-a8a3-d173ed5bd8f5",
   "metadata": {},
   "outputs": [
    {
     "data": {
      "text/html": [
       "<dl>\n",
       "\t<dt>$y</dt>\n",
       "\t\t<dd><style>\n",
       ".list-inline {list-style: none; margin:0; padding: 0}\n",
       ".list-inline>li {display: inline-block}\n",
       ".list-inline>li:not(:last-child)::after {content: \"\\00b7\"; padding: 0 .5ex}\n",
       "</style>\n",
       "<ol class=list-inline><li>0</li><li>0</li><li>0</li><li>0</li><li>0</li><li>0</li><li>0</li><li>0</li><li>0</li><li>0</li><li>0</li><li>0</li><li>0</li><li>0</li><li>0</li><li>0</li><li>0</li><li>0</li><li>0</li><li>0</li><li>0</li><li>0</li><li>0</li><li>0</li><li>0</li><li>0</li><li>0</li><li>0</li><li>0</li><li>0</li><li>0</li><li>0</li><li>0</li><li>0</li><li>0</li><li>0</li><li>0</li><li>0</li><li>0</li><li>0</li><li>0</li><li>0</li><li>0</li><li>0</li><li>0</li><li>0</li><li>0</li><li>0</li><li>0</li><li>0</li><li>0</li><li>0</li><li>0</li><li>0</li><li>0</li><li>0</li><li>0</li><li>0</li><li>0</li><li>0</li><li>0</li><li>0</li><li>0</li><li>0</li><li>0</li><li>0</li><li>0</li><li>0</li><li>0</li><li>0</li><li>0</li><li>0</li><li>0</li><li>0</li><li>0</li><li>0</li><li>0</li><li>0</li><li>0</li><li>0</li><li>0</li><li>0</li><li>0</li><li>0</li><li>0</li><li>0</li><li>0</li><li>0</li><li>0</li><li>0</li><li>0</li><li>0</li><li>0</li><li>0</li><li>0</li><li>0</li><li>0</li><li>0</li><li>0</li><li>0</li><li>0</li><li>0</li><li>0</li><li>0</li><li>0</li><li>0</li><li>0</li><li>0</li><li>0</li><li>0</li><li>0</li><li>0</li><li>0</li><li>0</li><li>0</li><li>0</li><li>0</li><li>0</li><li>0</li><li>0</li><li>0</li><li>0</li><li>0</li><li>0</li><li>0</li><li>0</li><li>0</li><li>0</li><li>0</li><li>0</li><li>0</li><li>0</li><li>0</li><li>0</li><li>0</li><li>0</li><li>0</li><li>0</li><li>0</li><li>0</li><li>0</li><li>0</li><li>0</li><li>0</li><li>0</li><li>0</li><li>0</li><li>0</li><li>0</li><li>0</li><li>0</li><li>0</li><li>0</li><li>0</li><li>0</li><li>0</li><li>0</li><li>0</li><li>0</li><li>0</li><li>0</li><li>0</li><li>0</li><li>0</li><li>0</li><li>0</li><li>0</li><li>0</li><li>0</li><li>0</li><li>0</li><li>0</li><li>0</li><li>0</li><li>0</li><li>0</li><li>0</li><li>0</li><li>0</li><li>0</li><li>0</li><li>0</li><li>0</li><li>0</li><li>0</li><li>0</li><li>0</li><li>0</li><li>0</li><li>0</li><li>0</li><li>0</li><li>0</li><li>0</li><li>0</li><li>0</li><li>0</li><li>0</li><li>0</li><li>0</li><li>⋯</li><li>3</li><li>3</li><li>3</li><li>3</li><li>3</li><li>3</li><li>3</li><li>3</li><li>3</li><li>3</li><li>3</li><li>3</li><li>3</li><li>3</li><li>3</li><li>3</li><li>3</li><li>3</li><li>3</li><li>3</li><li>3</li><li>3</li><li>3</li><li>3</li><li>3</li><li>3</li><li>3</li><li>3</li><li>3</li><li>3</li><li>3</li><li>3</li><li>3</li><li>3</li><li>3</li><li>3</li><li>3</li><li>3</li><li>3</li><li>3</li><li>3</li><li>3</li><li>3</li><li>3</li><li>3</li><li>3</li><li>3</li><li>3</li><li>3</li><li>3</li><li>3</li><li>3</li><li>3</li><li>3</li><li>3</li><li>3</li><li>3</li><li>3</li><li>3</li><li>3</li><li>3</li><li>3</li><li>3</li><li>3</li><li>3</li><li>3</li><li>3</li><li>3</li><li>3</li><li>3</li><li>3</li><li>3</li><li>3</li><li>3</li><li>3</li><li>3</li><li>3</li><li>3</li><li>3</li><li>3</li><li>3</li><li>3</li><li>3</li><li>3</li><li>3</li><li>3</li><li>3</li><li>3</li><li>3</li><li>3</li><li>3</li><li>3</li><li>3</li><li>4</li><li>4</li><li>4</li><li>4</li><li>4</li><li>4</li><li>4</li><li>4</li><li>4</li><li>4</li><li>4</li><li>4</li><li>4</li><li>4</li><li>4</li><li>4</li><li>4</li><li>4</li><li>4</li><li>4</li><li>4</li><li>4</li><li>4</li><li>4</li><li>4</li><li>4</li><li>4</li><li>4</li><li>4</li><li>4</li><li>4</li><li>4</li><li>4</li><li>4</li><li>4</li><li>4</li><li>4</li><li>4</li><li>4</li><li>4</li><li>4</li><li>4</li><li>4</li><li>4</li><li>4</li><li>4</li><li>4</li><li>4</li><li>4</li><li>4</li><li>4</li><li>4</li><li>4</li><li>4</li><li>4</li><li>4</li><li>4</li><li>4</li><li>4</li><li>4</li><li>4</li><li>4</li><li>4</li><li>4</li><li>4</li><li>4</li><li>4</li><li>4</li><li>4</li><li>4</li><li>4</li><li>4</li><li>4</li><li>4</li><li>4</li><li>4</li><li>4</li><li>4</li><li>4</li><li>4</li><li>4</li><li>4</li><li>4</li><li>5</li><li>5</li><li>5</li><li>5</li><li>5</li><li>5</li><li>5</li><li>5</li><li>5</li><li>5</li><li>5</li><li>5</li><li>5</li><li>5</li><li>5</li><li>5</li><li>5</li><li>5</li><li>6</li><li>6</li><li>6</li><li>6</li><li>7</li><li>8</li></ol>\n",
       "\n",
       "<details>\n",
       "\t<summary style=display:list-item;cursor:pointer>\n",
       "\t\t<strong>Levels</strong>:\n",
       "\t</summary>\n",
       "\t<style>\n",
       "\t.list-inline {list-style: none; margin:0; padding: 0}\n",
       "\t.list-inline>li {display: inline-block}\n",
       "\t.list-inline>li:not(:last-child)::after {content: \"\\00b7\"; padding: 0 .5ex}\n",
       "\t</style>\n",
       "\t<ol class=list-inline><li>'0'</li><li>'1'</li><li>'2'</li><li>'3'</li><li>'4'</li><li>'5'</li><li>'6'</li><li>'7'</li><li>'8'</li></ol>\n",
       "</details></dd>\n",
       "\t<dt>$Freq</dt>\n",
       "\t\t<dd><style>\n",
       ".list-inline {list-style: none; margin:0; padding: 0}\n",
       ".list-inline>li {display: inline-block}\n",
       ".list-inline>li:not(:last-child)::after {content: \"\\00b7\"; padding: 0 .5ex}\n",
       "</style>\n",
       "<ol class=list-inline><li>342</li><li>342</li><li>342</li><li>342</li><li>342</li><li>342</li><li>342</li><li>342</li><li>342</li><li>342</li><li>342</li><li>342</li><li>342</li><li>342</li><li>342</li><li>342</li><li>342</li><li>342</li><li>342</li><li>342</li><li>342</li><li>342</li><li>342</li><li>342</li><li>342</li><li>342</li><li>342</li><li>342</li><li>342</li><li>342</li><li>342</li><li>342</li><li>342</li><li>342</li><li>342</li><li>342</li><li>342</li><li>342</li><li>342</li><li>342</li><li>342</li><li>342</li><li>342</li><li>342</li><li>342</li><li>342</li><li>342</li><li>342</li><li>342</li><li>342</li><li>342</li><li>342</li><li>342</li><li>342</li><li>342</li><li>342</li><li>342</li><li>342</li><li>342</li><li>342</li><li>342</li><li>342</li><li>342</li><li>342</li><li>342</li><li>342</li><li>342</li><li>342</li><li>342</li><li>342</li><li>342</li><li>342</li><li>342</li><li>342</li><li>342</li><li>342</li><li>342</li><li>342</li><li>342</li><li>342</li><li>342</li><li>342</li><li>342</li><li>342</li><li>342</li><li>342</li><li>342</li><li>342</li><li>342</li><li>342</li><li>342</li><li>342</li><li>342</li><li>342</li><li>342</li><li>342</li><li>342</li><li>342</li><li>342</li><li>342</li><li>342</li><li>342</li><li>342</li><li>342</li><li>342</li><li>342</li><li>342</li><li>342</li><li>342</li><li>342</li><li>342</li><li>342</li><li>342</li><li>342</li><li>342</li><li>342</li><li>342</li><li>342</li><li>342</li><li>342</li><li>342</li><li>342</li><li>342</li><li>342</li><li>342</li><li>342</li><li>342</li><li>342</li><li>342</li><li>342</li><li>342</li><li>342</li><li>342</li><li>342</li><li>342</li><li>342</li><li>342</li><li>342</li><li>342</li><li>342</li><li>342</li><li>342</li><li>342</li><li>342</li><li>342</li><li>342</li><li>342</li><li>342</li><li>342</li><li>342</li><li>342</li><li>342</li><li>342</li><li>342</li><li>342</li><li>342</li><li>342</li><li>342</li><li>342</li><li>342</li><li>342</li><li>342</li><li>342</li><li>342</li><li>342</li><li>342</li><li>342</li><li>342</li><li>342</li><li>342</li><li>342</li><li>342</li><li>342</li><li>342</li><li>342</li><li>342</li><li>342</li><li>342</li><li>342</li><li>342</li><li>342</li><li>342</li><li>342</li><li>342</li><li>342</li><li>342</li><li>342</li><li>342</li><li>342</li><li>342</li><li>342</li><li>342</li><li>342</li><li>342</li><li>342</li><li>342</li><li>342</li><li>342</li><li>342</li><li>342</li><li>⋯</li><li>179</li><li>179</li><li>179</li><li>179</li><li>179</li><li>179</li><li>179</li><li>179</li><li>179</li><li>179</li><li>179</li><li>179</li><li>179</li><li>179</li><li>179</li><li>179</li><li>179</li><li>179</li><li>179</li><li>179</li><li>179</li><li>179</li><li>179</li><li>179</li><li>179</li><li>179</li><li>179</li><li>179</li><li>179</li><li>179</li><li>179</li><li>179</li><li>179</li><li>179</li><li>179</li><li>179</li><li>179</li><li>179</li><li>179</li><li>179</li><li>179</li><li>179</li><li>179</li><li>179</li><li>179</li><li>179</li><li>179</li><li>179</li><li>179</li><li>179</li><li>179</li><li>179</li><li>179</li><li>179</li><li>179</li><li>179</li><li>179</li><li>179</li><li>179</li><li>179</li><li>179</li><li>179</li><li>179</li><li>179</li><li>179</li><li>179</li><li>179</li><li>179</li><li>179</li><li>179</li><li>179</li><li>179</li><li>179</li><li>179</li><li>179</li><li>179</li><li>179</li><li>179</li><li>179</li><li>179</li><li>179</li><li>179</li><li>179</li><li>179</li><li>179</li><li>179</li><li>179</li><li>179</li><li>179</li><li>179</li><li>179</li><li>179</li><li>179</li><li>83</li><li>83</li><li>83</li><li>83</li><li>83</li><li>83</li><li>83</li><li>83</li><li>83</li><li>83</li><li>83</li><li>83</li><li>83</li><li>83</li><li>83</li><li>83</li><li>83</li><li>83</li><li>83</li><li>83</li><li>83</li><li>83</li><li>83</li><li>83</li><li>83</li><li>83</li><li>83</li><li>83</li><li>83</li><li>83</li><li>83</li><li>83</li><li>83</li><li>83</li><li>83</li><li>83</li><li>83</li><li>83</li><li>83</li><li>83</li><li>83</li><li>83</li><li>83</li><li>83</li><li>83</li><li>83</li><li>83</li><li>83</li><li>83</li><li>83</li><li>83</li><li>83</li><li>83</li><li>83</li><li>83</li><li>83</li><li>83</li><li>83</li><li>83</li><li>83</li><li>83</li><li>83</li><li>83</li><li>83</li><li>83</li><li>83</li><li>83</li><li>83</li><li>83</li><li>83</li><li>83</li><li>83</li><li>83</li><li>83</li><li>83</li><li>83</li><li>83</li><li>83</li><li>83</li><li>83</li><li>83</li><li>83</li><li>83</li><li>18</li><li>18</li><li>18</li><li>18</li><li>18</li><li>18</li><li>18</li><li>18</li><li>18</li><li>18</li><li>18</li><li>18</li><li>18</li><li>18</li><li>18</li><li>18</li><li>18</li><li>18</li><li>4</li><li>4</li><li>4</li><li>4</li><li>1</li><li>1</li></ol>\n",
       "</dd>\n",
       "</dl>\n"
      ],
      "text/latex": [
       "\\begin{description}\n",
       "\\item[\\$y] \\begin{enumerate*}\n",
       "\\item 0\n",
       "\\item 0\n",
       "\\item 0\n",
       "\\item 0\n",
       "\\item 0\n",
       "\\item 0\n",
       "\\item 0\n",
       "\\item 0\n",
       "\\item 0\n",
       "\\item 0\n",
       "\\item 0\n",
       "\\item 0\n",
       "\\item 0\n",
       "\\item 0\n",
       "\\item 0\n",
       "\\item 0\n",
       "\\item 0\n",
       "\\item 0\n",
       "\\item 0\n",
       "\\item 0\n",
       "\\item 0\n",
       "\\item 0\n",
       "\\item 0\n",
       "\\item 0\n",
       "\\item 0\n",
       "\\item 0\n",
       "\\item 0\n",
       "\\item 0\n",
       "\\item 0\n",
       "\\item 0\n",
       "\\item 0\n",
       "\\item 0\n",
       "\\item 0\n",
       "\\item 0\n",
       "\\item 0\n",
       "\\item 0\n",
       "\\item 0\n",
       "\\item 0\n",
       "\\item 0\n",
       "\\item 0\n",
       "\\item 0\n",
       "\\item 0\n",
       "\\item 0\n",
       "\\item 0\n",
       "\\item 0\n",
       "\\item 0\n",
       "\\item 0\n",
       "\\item 0\n",
       "\\item 0\n",
       "\\item 0\n",
       "\\item 0\n",
       "\\item 0\n",
       "\\item 0\n",
       "\\item 0\n",
       "\\item 0\n",
       "\\item 0\n",
       "\\item 0\n",
       "\\item 0\n",
       "\\item 0\n",
       "\\item 0\n",
       "\\item 0\n",
       "\\item 0\n",
       "\\item 0\n",
       "\\item 0\n",
       "\\item 0\n",
       "\\item 0\n",
       "\\item 0\n",
       "\\item 0\n",
       "\\item 0\n",
       "\\item 0\n",
       "\\item 0\n",
       "\\item 0\n",
       "\\item 0\n",
       "\\item 0\n",
       "\\item 0\n",
       "\\item 0\n",
       "\\item 0\n",
       "\\item 0\n",
       "\\item 0\n",
       "\\item 0\n",
       "\\item 0\n",
       "\\item 0\n",
       "\\item 0\n",
       "\\item 0\n",
       "\\item 0\n",
       "\\item 0\n",
       "\\item 0\n",
       "\\item 0\n",
       "\\item 0\n",
       "\\item 0\n",
       "\\item 0\n",
       "\\item 0\n",
       "\\item 0\n",
       "\\item 0\n",
       "\\item 0\n",
       "\\item 0\n",
       "\\item 0\n",
       "\\item 0\n",
       "\\item 0\n",
       "\\item 0\n",
       "\\item 0\n",
       "\\item 0\n",
       "\\item 0\n",
       "\\item 0\n",
       "\\item 0\n",
       "\\item 0\n",
       "\\item 0\n",
       "\\item 0\n",
       "\\item 0\n",
       "\\item 0\n",
       "\\item 0\n",
       "\\item 0\n",
       "\\item 0\n",
       "\\item 0\n",
       "\\item 0\n",
       "\\item 0\n",
       "\\item 0\n",
       "\\item 0\n",
       "\\item 0\n",
       "\\item 0\n",
       "\\item 0\n",
       "\\item 0\n",
       "\\item 0\n",
       "\\item 0\n",
       "\\item 0\n",
       "\\item 0\n",
       "\\item 0\n",
       "\\item 0\n",
       "\\item 0\n",
       "\\item 0\n",
       "\\item 0\n",
       "\\item 0\n",
       "\\item 0\n",
       "\\item 0\n",
       "\\item 0\n",
       "\\item 0\n",
       "\\item 0\n",
       "\\item 0\n",
       "\\item 0\n",
       "\\item 0\n",
       "\\item 0\n",
       "\\item 0\n",
       "\\item 0\n",
       "\\item 0\n",
       "\\item 0\n",
       "\\item 0\n",
       "\\item 0\n",
       "\\item 0\n",
       "\\item 0\n",
       "\\item 0\n",
       "\\item 0\n",
       "\\item 0\n",
       "\\item 0\n",
       "\\item 0\n",
       "\\item 0\n",
       "\\item 0\n",
       "\\item 0\n",
       "\\item 0\n",
       "\\item 0\n",
       "\\item 0\n",
       "\\item 0\n",
       "\\item 0\n",
       "\\item 0\n",
       "\\item 0\n",
       "\\item 0\n",
       "\\item 0\n",
       "\\item 0\n",
       "\\item 0\n",
       "\\item 0\n",
       "\\item 0\n",
       "\\item 0\n",
       "\\item 0\n",
       "\\item 0\n",
       "\\item 0\n",
       "\\item 0\n",
       "\\item 0\n",
       "\\item 0\n",
       "\\item 0\n",
       "\\item 0\n",
       "\\item 0\n",
       "\\item 0\n",
       "\\item 0\n",
       "\\item 0\n",
       "\\item 0\n",
       "\\item 0\n",
       "\\item 0\n",
       "\\item 0\n",
       "\\item 0\n",
       "\\item 0\n",
       "\\item 0\n",
       "\\item 0\n",
       "\\item 0\n",
       "\\item 0\n",
       "\\item 0\n",
       "\\item 0\n",
       "\\item 0\n",
       "\\item 0\n",
       "\\item 0\n",
       "\\item 0\n",
       "\\item 0\n",
       "\\item ⋯\n",
       "\\item 3\n",
       "\\item 3\n",
       "\\item 3\n",
       "\\item 3\n",
       "\\item 3\n",
       "\\item 3\n",
       "\\item 3\n",
       "\\item 3\n",
       "\\item 3\n",
       "\\item 3\n",
       "\\item 3\n",
       "\\item 3\n",
       "\\item 3\n",
       "\\item 3\n",
       "\\item 3\n",
       "\\item 3\n",
       "\\item 3\n",
       "\\item 3\n",
       "\\item 3\n",
       "\\item 3\n",
       "\\item 3\n",
       "\\item 3\n",
       "\\item 3\n",
       "\\item 3\n",
       "\\item 3\n",
       "\\item 3\n",
       "\\item 3\n",
       "\\item 3\n",
       "\\item 3\n",
       "\\item 3\n",
       "\\item 3\n",
       "\\item 3\n",
       "\\item 3\n",
       "\\item 3\n",
       "\\item 3\n",
       "\\item 3\n",
       "\\item 3\n",
       "\\item 3\n",
       "\\item 3\n",
       "\\item 3\n",
       "\\item 3\n",
       "\\item 3\n",
       "\\item 3\n",
       "\\item 3\n",
       "\\item 3\n",
       "\\item 3\n",
       "\\item 3\n",
       "\\item 3\n",
       "\\item 3\n",
       "\\item 3\n",
       "\\item 3\n",
       "\\item 3\n",
       "\\item 3\n",
       "\\item 3\n",
       "\\item 3\n",
       "\\item 3\n",
       "\\item 3\n",
       "\\item 3\n",
       "\\item 3\n",
       "\\item 3\n",
       "\\item 3\n",
       "\\item 3\n",
       "\\item 3\n",
       "\\item 3\n",
       "\\item 3\n",
       "\\item 3\n",
       "\\item 3\n",
       "\\item 3\n",
       "\\item 3\n",
       "\\item 3\n",
       "\\item 3\n",
       "\\item 3\n",
       "\\item 3\n",
       "\\item 3\n",
       "\\item 3\n",
       "\\item 3\n",
       "\\item 3\n",
       "\\item 3\n",
       "\\item 3\n",
       "\\item 3\n",
       "\\item 3\n",
       "\\item 3\n",
       "\\item 3\n",
       "\\item 3\n",
       "\\item 3\n",
       "\\item 3\n",
       "\\item 3\n",
       "\\item 3\n",
       "\\item 3\n",
       "\\item 3\n",
       "\\item 3\n",
       "\\item 3\n",
       "\\item 3\n",
       "\\item 4\n",
       "\\item 4\n",
       "\\item 4\n",
       "\\item 4\n",
       "\\item 4\n",
       "\\item 4\n",
       "\\item 4\n",
       "\\item 4\n",
       "\\item 4\n",
       "\\item 4\n",
       "\\item 4\n",
       "\\item 4\n",
       "\\item 4\n",
       "\\item 4\n",
       "\\item 4\n",
       "\\item 4\n",
       "\\item 4\n",
       "\\item 4\n",
       "\\item 4\n",
       "\\item 4\n",
       "\\item 4\n",
       "\\item 4\n",
       "\\item 4\n",
       "\\item 4\n",
       "\\item 4\n",
       "\\item 4\n",
       "\\item 4\n",
       "\\item 4\n",
       "\\item 4\n",
       "\\item 4\n",
       "\\item 4\n",
       "\\item 4\n",
       "\\item 4\n",
       "\\item 4\n",
       "\\item 4\n",
       "\\item 4\n",
       "\\item 4\n",
       "\\item 4\n",
       "\\item 4\n",
       "\\item 4\n",
       "\\item 4\n",
       "\\item 4\n",
       "\\item 4\n",
       "\\item 4\n",
       "\\item 4\n",
       "\\item 4\n",
       "\\item 4\n",
       "\\item 4\n",
       "\\item 4\n",
       "\\item 4\n",
       "\\item 4\n",
       "\\item 4\n",
       "\\item 4\n",
       "\\item 4\n",
       "\\item 4\n",
       "\\item 4\n",
       "\\item 4\n",
       "\\item 4\n",
       "\\item 4\n",
       "\\item 4\n",
       "\\item 4\n",
       "\\item 4\n",
       "\\item 4\n",
       "\\item 4\n",
       "\\item 4\n",
       "\\item 4\n",
       "\\item 4\n",
       "\\item 4\n",
       "\\item 4\n",
       "\\item 4\n",
       "\\item 4\n",
       "\\item 4\n",
       "\\item 4\n",
       "\\item 4\n",
       "\\item 4\n",
       "\\item 4\n",
       "\\item 4\n",
       "\\item 4\n",
       "\\item 4\n",
       "\\item 4\n",
       "\\item 4\n",
       "\\item 4\n",
       "\\item 4\n",
       "\\item 5\n",
       "\\item 5\n",
       "\\item 5\n",
       "\\item 5\n",
       "\\item 5\n",
       "\\item 5\n",
       "\\item 5\n",
       "\\item 5\n",
       "\\item 5\n",
       "\\item 5\n",
       "\\item 5\n",
       "\\item 5\n",
       "\\item 5\n",
       "\\item 5\n",
       "\\item 5\n",
       "\\item 5\n",
       "\\item 5\n",
       "\\item 5\n",
       "\\item 6\n",
       "\\item 6\n",
       "\\item 6\n",
       "\\item 6\n",
       "\\item 7\n",
       "\\item 8\n",
       "\\end{enumerate*}\n",
       "\n",
       "\\emph{Levels}: \\begin{enumerate*}\n",
       "\\item '0'\n",
       "\\item '1'\n",
       "\\item '2'\n",
       "\\item '3'\n",
       "\\item '4'\n",
       "\\item '5'\n",
       "\\item '6'\n",
       "\\item '7'\n",
       "\\item '8'\n",
       "\\end{enumerate*}\n",
       "\n",
       "\\item[\\$Freq] \\begin{enumerate*}\n",
       "\\item 342\n",
       "\\item 342\n",
       "\\item 342\n",
       "\\item 342\n",
       "\\item 342\n",
       "\\item 342\n",
       "\\item 342\n",
       "\\item 342\n",
       "\\item 342\n",
       "\\item 342\n",
       "\\item 342\n",
       "\\item 342\n",
       "\\item 342\n",
       "\\item 342\n",
       "\\item 342\n",
       "\\item 342\n",
       "\\item 342\n",
       "\\item 342\n",
       "\\item 342\n",
       "\\item 342\n",
       "\\item 342\n",
       "\\item 342\n",
       "\\item 342\n",
       "\\item 342\n",
       "\\item 342\n",
       "\\item 342\n",
       "\\item 342\n",
       "\\item 342\n",
       "\\item 342\n",
       "\\item 342\n",
       "\\item 342\n",
       "\\item 342\n",
       "\\item 342\n",
       "\\item 342\n",
       "\\item 342\n",
       "\\item 342\n",
       "\\item 342\n",
       "\\item 342\n",
       "\\item 342\n",
       "\\item 342\n",
       "\\item 342\n",
       "\\item 342\n",
       "\\item 342\n",
       "\\item 342\n",
       "\\item 342\n",
       "\\item 342\n",
       "\\item 342\n",
       "\\item 342\n",
       "\\item 342\n",
       "\\item 342\n",
       "\\item 342\n",
       "\\item 342\n",
       "\\item 342\n",
       "\\item 342\n",
       "\\item 342\n",
       "\\item 342\n",
       "\\item 342\n",
       "\\item 342\n",
       "\\item 342\n",
       "\\item 342\n",
       "\\item 342\n",
       "\\item 342\n",
       "\\item 342\n",
       "\\item 342\n",
       "\\item 342\n",
       "\\item 342\n",
       "\\item 342\n",
       "\\item 342\n",
       "\\item 342\n",
       "\\item 342\n",
       "\\item 342\n",
       "\\item 342\n",
       "\\item 342\n",
       "\\item 342\n",
       "\\item 342\n",
       "\\item 342\n",
       "\\item 342\n",
       "\\item 342\n",
       "\\item 342\n",
       "\\item 342\n",
       "\\item 342\n",
       "\\item 342\n",
       "\\item 342\n",
       "\\item 342\n",
       "\\item 342\n",
       "\\item 342\n",
       "\\item 342\n",
       "\\item 342\n",
       "\\item 342\n",
       "\\item 342\n",
       "\\item 342\n",
       "\\item 342\n",
       "\\item 342\n",
       "\\item 342\n",
       "\\item 342\n",
       "\\item 342\n",
       "\\item 342\n",
       "\\item 342\n",
       "\\item 342\n",
       "\\item 342\n",
       "\\item 342\n",
       "\\item 342\n",
       "\\item 342\n",
       "\\item 342\n",
       "\\item 342\n",
       "\\item 342\n",
       "\\item 342\n",
       "\\item 342\n",
       "\\item 342\n",
       "\\item 342\n",
       "\\item 342\n",
       "\\item 342\n",
       "\\item 342\n",
       "\\item 342\n",
       "\\item 342\n",
       "\\item 342\n",
       "\\item 342\n",
       "\\item 342\n",
       "\\item 342\n",
       "\\item 342\n",
       "\\item 342\n",
       "\\item 342\n",
       "\\item 342\n",
       "\\item 342\n",
       "\\item 342\n",
       "\\item 342\n",
       "\\item 342\n",
       "\\item 342\n",
       "\\item 342\n",
       "\\item 342\n",
       "\\item 342\n",
       "\\item 342\n",
       "\\item 342\n",
       "\\item 342\n",
       "\\item 342\n",
       "\\item 342\n",
       "\\item 342\n",
       "\\item 342\n",
       "\\item 342\n",
       "\\item 342\n",
       "\\item 342\n",
       "\\item 342\n",
       "\\item 342\n",
       "\\item 342\n",
       "\\item 342\n",
       "\\item 342\n",
       "\\item 342\n",
       "\\item 342\n",
       "\\item 342\n",
       "\\item 342\n",
       "\\item 342\n",
       "\\item 342\n",
       "\\item 342\n",
       "\\item 342\n",
       "\\item 342\n",
       "\\item 342\n",
       "\\item 342\n",
       "\\item 342\n",
       "\\item 342\n",
       "\\item 342\n",
       "\\item 342\n",
       "\\item 342\n",
       "\\item 342\n",
       "\\item 342\n",
       "\\item 342\n",
       "\\item 342\n",
       "\\item 342\n",
       "\\item 342\n",
       "\\item 342\n",
       "\\item 342\n",
       "\\item 342\n",
       "\\item 342\n",
       "\\item 342\n",
       "\\item 342\n",
       "\\item 342\n",
       "\\item 342\n",
       "\\item 342\n",
       "\\item 342\n",
       "\\item 342\n",
       "\\item 342\n",
       "\\item 342\n",
       "\\item 342\n",
       "\\item 342\n",
       "\\item 342\n",
       "\\item 342\n",
       "\\item 342\n",
       "\\item 342\n",
       "\\item 342\n",
       "\\item 342\n",
       "\\item 342\n",
       "\\item 342\n",
       "\\item 342\n",
       "\\item 342\n",
       "\\item 342\n",
       "\\item 342\n",
       "\\item 342\n",
       "\\item 342\n",
       "\\item 342\n",
       "\\item 342\n",
       "\\item 342\n",
       "\\item ⋯\n",
       "\\item 179\n",
       "\\item 179\n",
       "\\item 179\n",
       "\\item 179\n",
       "\\item 179\n",
       "\\item 179\n",
       "\\item 179\n",
       "\\item 179\n",
       "\\item 179\n",
       "\\item 179\n",
       "\\item 179\n",
       "\\item 179\n",
       "\\item 179\n",
       "\\item 179\n",
       "\\item 179\n",
       "\\item 179\n",
       "\\item 179\n",
       "\\item 179\n",
       "\\item 179\n",
       "\\item 179\n",
       "\\item 179\n",
       "\\item 179\n",
       "\\item 179\n",
       "\\item 179\n",
       "\\item 179\n",
       "\\item 179\n",
       "\\item 179\n",
       "\\item 179\n",
       "\\item 179\n",
       "\\item 179\n",
       "\\item 179\n",
       "\\item 179\n",
       "\\item 179\n",
       "\\item 179\n",
       "\\item 179\n",
       "\\item 179\n",
       "\\item 179\n",
       "\\item 179\n",
       "\\item 179\n",
       "\\item 179\n",
       "\\item 179\n",
       "\\item 179\n",
       "\\item 179\n",
       "\\item 179\n",
       "\\item 179\n",
       "\\item 179\n",
       "\\item 179\n",
       "\\item 179\n",
       "\\item 179\n",
       "\\item 179\n",
       "\\item 179\n",
       "\\item 179\n",
       "\\item 179\n",
       "\\item 179\n",
       "\\item 179\n",
       "\\item 179\n",
       "\\item 179\n",
       "\\item 179\n",
       "\\item 179\n",
       "\\item 179\n",
       "\\item 179\n",
       "\\item 179\n",
       "\\item 179\n",
       "\\item 179\n",
       "\\item 179\n",
       "\\item 179\n",
       "\\item 179\n",
       "\\item 179\n",
       "\\item 179\n",
       "\\item 179\n",
       "\\item 179\n",
       "\\item 179\n",
       "\\item 179\n",
       "\\item 179\n",
       "\\item 179\n",
       "\\item 179\n",
       "\\item 179\n",
       "\\item 179\n",
       "\\item 179\n",
       "\\item 179\n",
       "\\item 179\n",
       "\\item 179\n",
       "\\item 179\n",
       "\\item 179\n",
       "\\item 179\n",
       "\\item 179\n",
       "\\item 179\n",
       "\\item 179\n",
       "\\item 179\n",
       "\\item 179\n",
       "\\item 179\n",
       "\\item 179\n",
       "\\item 179\n",
       "\\item 83\n",
       "\\item 83\n",
       "\\item 83\n",
       "\\item 83\n",
       "\\item 83\n",
       "\\item 83\n",
       "\\item 83\n",
       "\\item 83\n",
       "\\item 83\n",
       "\\item 83\n",
       "\\item 83\n",
       "\\item 83\n",
       "\\item 83\n",
       "\\item 83\n",
       "\\item 83\n",
       "\\item 83\n",
       "\\item 83\n",
       "\\item 83\n",
       "\\item 83\n",
       "\\item 83\n",
       "\\item 83\n",
       "\\item 83\n",
       "\\item 83\n",
       "\\item 83\n",
       "\\item 83\n",
       "\\item 83\n",
       "\\item 83\n",
       "\\item 83\n",
       "\\item 83\n",
       "\\item 83\n",
       "\\item 83\n",
       "\\item 83\n",
       "\\item 83\n",
       "\\item 83\n",
       "\\item 83\n",
       "\\item 83\n",
       "\\item 83\n",
       "\\item 83\n",
       "\\item 83\n",
       "\\item 83\n",
       "\\item 83\n",
       "\\item 83\n",
       "\\item 83\n",
       "\\item 83\n",
       "\\item 83\n",
       "\\item 83\n",
       "\\item 83\n",
       "\\item 83\n",
       "\\item 83\n",
       "\\item 83\n",
       "\\item 83\n",
       "\\item 83\n",
       "\\item 83\n",
       "\\item 83\n",
       "\\item 83\n",
       "\\item 83\n",
       "\\item 83\n",
       "\\item 83\n",
       "\\item 83\n",
       "\\item 83\n",
       "\\item 83\n",
       "\\item 83\n",
       "\\item 83\n",
       "\\item 83\n",
       "\\item 83\n",
       "\\item 83\n",
       "\\item 83\n",
       "\\item 83\n",
       "\\item 83\n",
       "\\item 83\n",
       "\\item 83\n",
       "\\item 83\n",
       "\\item 83\n",
       "\\item 83\n",
       "\\item 83\n",
       "\\item 83\n",
       "\\item 83\n",
       "\\item 83\n",
       "\\item 83\n",
       "\\item 83\n",
       "\\item 83\n",
       "\\item 83\n",
       "\\item 83\n",
       "\\item 18\n",
       "\\item 18\n",
       "\\item 18\n",
       "\\item 18\n",
       "\\item 18\n",
       "\\item 18\n",
       "\\item 18\n",
       "\\item 18\n",
       "\\item 18\n",
       "\\item 18\n",
       "\\item 18\n",
       "\\item 18\n",
       "\\item 18\n",
       "\\item 18\n",
       "\\item 18\n",
       "\\item 18\n",
       "\\item 18\n",
       "\\item 18\n",
       "\\item 4\n",
       "\\item 4\n",
       "\\item 4\n",
       "\\item 4\n",
       "\\item 1\n",
       "\\item 1\n",
       "\\end{enumerate*}\n",
       "\n",
       "\\end{description}\n"
      ],
      "text/markdown": [
       "$y\n",
       ":   1. 0\n",
       "2. 0\n",
       "3. 0\n",
       "4. 0\n",
       "5. 0\n",
       "6. 0\n",
       "7. 0\n",
       "8. 0\n",
       "9. 0\n",
       "10. 0\n",
       "11. 0\n",
       "12. 0\n",
       "13. 0\n",
       "14. 0\n",
       "15. 0\n",
       "16. 0\n",
       "17. 0\n",
       "18. 0\n",
       "19. 0\n",
       "20. 0\n",
       "21. 0\n",
       "22. 0\n",
       "23. 0\n",
       "24. 0\n",
       "25. 0\n",
       "26. 0\n",
       "27. 0\n",
       "28. 0\n",
       "29. 0\n",
       "30. 0\n",
       "31. 0\n",
       "32. 0\n",
       "33. 0\n",
       "34. 0\n",
       "35. 0\n",
       "36. 0\n",
       "37. 0\n",
       "38. 0\n",
       "39. 0\n",
       "40. 0\n",
       "41. 0\n",
       "42. 0\n",
       "43. 0\n",
       "44. 0\n",
       "45. 0\n",
       "46. 0\n",
       "47. 0\n",
       "48. 0\n",
       "49. 0\n",
       "50. 0\n",
       "51. 0\n",
       "52. 0\n",
       "53. 0\n",
       "54. 0\n",
       "55. 0\n",
       "56. 0\n",
       "57. 0\n",
       "58. 0\n",
       "59. 0\n",
       "60. 0\n",
       "61. 0\n",
       "62. 0\n",
       "63. 0\n",
       "64. 0\n",
       "65. 0\n",
       "66. 0\n",
       "67. 0\n",
       "68. 0\n",
       "69. 0\n",
       "70. 0\n",
       "71. 0\n",
       "72. 0\n",
       "73. 0\n",
       "74. 0\n",
       "75. 0\n",
       "76. 0\n",
       "77. 0\n",
       "78. 0\n",
       "79. 0\n",
       "80. 0\n",
       "81. 0\n",
       "82. 0\n",
       "83. 0\n",
       "84. 0\n",
       "85. 0\n",
       "86. 0\n",
       "87. 0\n",
       "88. 0\n",
       "89. 0\n",
       "90. 0\n",
       "91. 0\n",
       "92. 0\n",
       "93. 0\n",
       "94. 0\n",
       "95. 0\n",
       "96. 0\n",
       "97. 0\n",
       "98. 0\n",
       "99. 0\n",
       "100. 0\n",
       "101. 0\n",
       "102. 0\n",
       "103. 0\n",
       "104. 0\n",
       "105. 0\n",
       "106. 0\n",
       "107. 0\n",
       "108. 0\n",
       "109. 0\n",
       "110. 0\n",
       "111. 0\n",
       "112. 0\n",
       "113. 0\n",
       "114. 0\n",
       "115. 0\n",
       "116. 0\n",
       "117. 0\n",
       "118. 0\n",
       "119. 0\n",
       "120. 0\n",
       "121. 0\n",
       "122. 0\n",
       "123. 0\n",
       "124. 0\n",
       "125. 0\n",
       "126. 0\n",
       "127. 0\n",
       "128. 0\n",
       "129. 0\n",
       "130. 0\n",
       "131. 0\n",
       "132. 0\n",
       "133. 0\n",
       "134. 0\n",
       "135. 0\n",
       "136. 0\n",
       "137. 0\n",
       "138. 0\n",
       "139. 0\n",
       "140. 0\n",
       "141. 0\n",
       "142. 0\n",
       "143. 0\n",
       "144. 0\n",
       "145. 0\n",
       "146. 0\n",
       "147. 0\n",
       "148. 0\n",
       "149. 0\n",
       "150. 0\n",
       "151. 0\n",
       "152. 0\n",
       "153. 0\n",
       "154. 0\n",
       "155. 0\n",
       "156. 0\n",
       "157. 0\n",
       "158. 0\n",
       "159. 0\n",
       "160. 0\n",
       "161. 0\n",
       "162. 0\n",
       "163. 0\n",
       "164. 0\n",
       "165. 0\n",
       "166. 0\n",
       "167. 0\n",
       "168. 0\n",
       "169. 0\n",
       "170. 0\n",
       "171. 0\n",
       "172. 0\n",
       "173. 0\n",
       "174. 0\n",
       "175. 0\n",
       "176. 0\n",
       "177. 0\n",
       "178. 0\n",
       "179. 0\n",
       "180. 0\n",
       "181. 0\n",
       "182. 0\n",
       "183. 0\n",
       "184. 0\n",
       "185. 0\n",
       "186. 0\n",
       "187. 0\n",
       "188. 0\n",
       "189. 0\n",
       "190. 0\n",
       "191. 0\n",
       "192. 0\n",
       "193. 0\n",
       "194. 0\n",
       "195. 0\n",
       "196. 0\n",
       "197. 0\n",
       "198. 0\n",
       "199. 0\n",
       "200. 0\n",
       "201. ⋯\n",
       "202. 3\n",
       "203. 3\n",
       "204. 3\n",
       "205. 3\n",
       "206. 3\n",
       "207. 3\n",
       "208. 3\n",
       "209. 3\n",
       "210. 3\n",
       "211. 3\n",
       "212. 3\n",
       "213. 3\n",
       "214. 3\n",
       "215. 3\n",
       "216. 3\n",
       "217. 3\n",
       "218. 3\n",
       "219. 3\n",
       "220. 3\n",
       "221. 3\n",
       "222. 3\n",
       "223. 3\n",
       "224. 3\n",
       "225. 3\n",
       "226. 3\n",
       "227. 3\n",
       "228. 3\n",
       "229. 3\n",
       "230. 3\n",
       "231. 3\n",
       "232. 3\n",
       "233. 3\n",
       "234. 3\n",
       "235. 3\n",
       "236. 3\n",
       "237. 3\n",
       "238. 3\n",
       "239. 3\n",
       "240. 3\n",
       "241. 3\n",
       "242. 3\n",
       "243. 3\n",
       "244. 3\n",
       "245. 3\n",
       "246. 3\n",
       "247. 3\n",
       "248. 3\n",
       "249. 3\n",
       "250. 3\n",
       "251. 3\n",
       "252. 3\n",
       "253. 3\n",
       "254. 3\n",
       "255. 3\n",
       "256. 3\n",
       "257. 3\n",
       "258. 3\n",
       "259. 3\n",
       "260. 3\n",
       "261. 3\n",
       "262. 3\n",
       "263. 3\n",
       "264. 3\n",
       "265. 3\n",
       "266. 3\n",
       "267. 3\n",
       "268. 3\n",
       "269. 3\n",
       "270. 3\n",
       "271. 3\n",
       "272. 3\n",
       "273. 3\n",
       "274. 3\n",
       "275. 3\n",
       "276. 3\n",
       "277. 3\n",
       "278. 3\n",
       "279. 3\n",
       "280. 3\n",
       "281. 3\n",
       "282. 3\n",
       "283. 3\n",
       "284. 3\n",
       "285. 3\n",
       "286. 3\n",
       "287. 3\n",
       "288. 3\n",
       "289. 3\n",
       "290. 3\n",
       "291. 3\n",
       "292. 3\n",
       "293. 3\n",
       "294. 3\n",
       "295. 4\n",
       "296. 4\n",
       "297. 4\n",
       "298. 4\n",
       "299. 4\n",
       "300. 4\n",
       "301. 4\n",
       "302. 4\n",
       "303. 4\n",
       "304. 4\n",
       "305. 4\n",
       "306. 4\n",
       "307. 4\n",
       "308. 4\n",
       "309. 4\n",
       "310. 4\n",
       "311. 4\n",
       "312. 4\n",
       "313. 4\n",
       "314. 4\n",
       "315. 4\n",
       "316. 4\n",
       "317. 4\n",
       "318. 4\n",
       "319. 4\n",
       "320. 4\n",
       "321. 4\n",
       "322. 4\n",
       "323. 4\n",
       "324. 4\n",
       "325. 4\n",
       "326. 4\n",
       "327. 4\n",
       "328. 4\n",
       "329. 4\n",
       "330. 4\n",
       "331. 4\n",
       "332. 4\n",
       "333. 4\n",
       "334. 4\n",
       "335. 4\n",
       "336. 4\n",
       "337. 4\n",
       "338. 4\n",
       "339. 4\n",
       "340. 4\n",
       "341. 4\n",
       "342. 4\n",
       "343. 4\n",
       "344. 4\n",
       "345. 4\n",
       "346. 4\n",
       "347. 4\n",
       "348. 4\n",
       "349. 4\n",
       "350. 4\n",
       "351. 4\n",
       "352. 4\n",
       "353. 4\n",
       "354. 4\n",
       "355. 4\n",
       "356. 4\n",
       "357. 4\n",
       "358. 4\n",
       "359. 4\n",
       "360. 4\n",
       "361. 4\n",
       "362. 4\n",
       "363. 4\n",
       "364. 4\n",
       "365. 4\n",
       "366. 4\n",
       "367. 4\n",
       "368. 4\n",
       "369. 4\n",
       "370. 4\n",
       "371. 4\n",
       "372. 4\n",
       "373. 4\n",
       "374. 4\n",
       "375. 4\n",
       "376. 4\n",
       "377. 4\n",
       "378. 5\n",
       "379. 5\n",
       "380. 5\n",
       "381. 5\n",
       "382. 5\n",
       "383. 5\n",
       "384. 5\n",
       "385. 5\n",
       "386. 5\n",
       "387. 5\n",
       "388. 5\n",
       "389. 5\n",
       "390. 5\n",
       "391. 5\n",
       "392. 5\n",
       "393. 5\n",
       "394. 5\n",
       "395. 5\n",
       "396. 6\n",
       "397. 6\n",
       "398. 6\n",
       "399. 6\n",
       "400. 7\n",
       "401. 8\n",
       "\n",
       "\n",
       "\n",
       "**Levels**: 1. '0'\n",
       "2. '1'\n",
       "3. '2'\n",
       "4. '3'\n",
       "5. '4'\n",
       "6. '5'\n",
       "7. '6'\n",
       "8. '7'\n",
       "9. '8'\n",
       "\n",
       "\n",
       "\n",
       "$Freq\n",
       ":   1. 342\n",
       "2. 342\n",
       "3. 342\n",
       "4. 342\n",
       "5. 342\n",
       "6. 342\n",
       "7. 342\n",
       "8. 342\n",
       "9. 342\n",
       "10. 342\n",
       "11. 342\n",
       "12. 342\n",
       "13. 342\n",
       "14. 342\n",
       "15. 342\n",
       "16. 342\n",
       "17. 342\n",
       "18. 342\n",
       "19. 342\n",
       "20. 342\n",
       "21. 342\n",
       "22. 342\n",
       "23. 342\n",
       "24. 342\n",
       "25. 342\n",
       "26. 342\n",
       "27. 342\n",
       "28. 342\n",
       "29. 342\n",
       "30. 342\n",
       "31. 342\n",
       "32. 342\n",
       "33. 342\n",
       "34. 342\n",
       "35. 342\n",
       "36. 342\n",
       "37. 342\n",
       "38. 342\n",
       "39. 342\n",
       "40. 342\n",
       "41. 342\n",
       "42. 342\n",
       "43. 342\n",
       "44. 342\n",
       "45. 342\n",
       "46. 342\n",
       "47. 342\n",
       "48. 342\n",
       "49. 342\n",
       "50. 342\n",
       "51. 342\n",
       "52. 342\n",
       "53. 342\n",
       "54. 342\n",
       "55. 342\n",
       "56. 342\n",
       "57. 342\n",
       "58. 342\n",
       "59. 342\n",
       "60. 342\n",
       "61. 342\n",
       "62. 342\n",
       "63. 342\n",
       "64. 342\n",
       "65. 342\n",
       "66. 342\n",
       "67. 342\n",
       "68. 342\n",
       "69. 342\n",
       "70. 342\n",
       "71. 342\n",
       "72. 342\n",
       "73. 342\n",
       "74. 342\n",
       "75. 342\n",
       "76. 342\n",
       "77. 342\n",
       "78. 342\n",
       "79. 342\n",
       "80. 342\n",
       "81. 342\n",
       "82. 342\n",
       "83. 342\n",
       "84. 342\n",
       "85. 342\n",
       "86. 342\n",
       "87. 342\n",
       "88. 342\n",
       "89. 342\n",
       "90. 342\n",
       "91. 342\n",
       "92. 342\n",
       "93. 342\n",
       "94. 342\n",
       "95. 342\n",
       "96. 342\n",
       "97. 342\n",
       "98. 342\n",
       "99. 342\n",
       "100. 342\n",
       "101. 342\n",
       "102. 342\n",
       "103. 342\n",
       "104. 342\n",
       "105. 342\n",
       "106. 342\n",
       "107. 342\n",
       "108. 342\n",
       "109. 342\n",
       "110. 342\n",
       "111. 342\n",
       "112. 342\n",
       "113. 342\n",
       "114. 342\n",
       "115. 342\n",
       "116. 342\n",
       "117. 342\n",
       "118. 342\n",
       "119. 342\n",
       "120. 342\n",
       "121. 342\n",
       "122. 342\n",
       "123. 342\n",
       "124. 342\n",
       "125. 342\n",
       "126. 342\n",
       "127. 342\n",
       "128. 342\n",
       "129. 342\n",
       "130. 342\n",
       "131. 342\n",
       "132. 342\n",
       "133. 342\n",
       "134. 342\n",
       "135. 342\n",
       "136. 342\n",
       "137. 342\n",
       "138. 342\n",
       "139. 342\n",
       "140. 342\n",
       "141. 342\n",
       "142. 342\n",
       "143. 342\n",
       "144. 342\n",
       "145. 342\n",
       "146. 342\n",
       "147. 342\n",
       "148. 342\n",
       "149. 342\n",
       "150. 342\n",
       "151. 342\n",
       "152. 342\n",
       "153. 342\n",
       "154. 342\n",
       "155. 342\n",
       "156. 342\n",
       "157. 342\n",
       "158. 342\n",
       "159. 342\n",
       "160. 342\n",
       "161. 342\n",
       "162. 342\n",
       "163. 342\n",
       "164. 342\n",
       "165. 342\n",
       "166. 342\n",
       "167. 342\n",
       "168. 342\n",
       "169. 342\n",
       "170. 342\n",
       "171. 342\n",
       "172. 342\n",
       "173. 342\n",
       "174. 342\n",
       "175. 342\n",
       "176. 342\n",
       "177. 342\n",
       "178. 342\n",
       "179. 342\n",
       "180. 342\n",
       "181. 342\n",
       "182. 342\n",
       "183. 342\n",
       "184. 342\n",
       "185. 342\n",
       "186. 342\n",
       "187. 342\n",
       "188. 342\n",
       "189. 342\n",
       "190. 342\n",
       "191. 342\n",
       "192. 342\n",
       "193. 342\n",
       "194. 342\n",
       "195. 342\n",
       "196. 342\n",
       "197. 342\n",
       "198. 342\n",
       "199. 342\n",
       "200. 342\n",
       "201. ⋯\n",
       "202. 179\n",
       "203. 179\n",
       "204. 179\n",
       "205. 179\n",
       "206. 179\n",
       "207. 179\n",
       "208. 179\n",
       "209. 179\n",
       "210. 179\n",
       "211. 179\n",
       "212. 179\n",
       "213. 179\n",
       "214. 179\n",
       "215. 179\n",
       "216. 179\n",
       "217. 179\n",
       "218. 179\n",
       "219. 179\n",
       "220. 179\n",
       "221. 179\n",
       "222. 179\n",
       "223. 179\n",
       "224. 179\n",
       "225. 179\n",
       "226. 179\n",
       "227. 179\n",
       "228. 179\n",
       "229. 179\n",
       "230. 179\n",
       "231. 179\n",
       "232. 179\n",
       "233. 179\n",
       "234. 179\n",
       "235. 179\n",
       "236. 179\n",
       "237. 179\n",
       "238. 179\n",
       "239. 179\n",
       "240. 179\n",
       "241. 179\n",
       "242. 179\n",
       "243. 179\n",
       "244. 179\n",
       "245. 179\n",
       "246. 179\n",
       "247. 179\n",
       "248. 179\n",
       "249. 179\n",
       "250. 179\n",
       "251. 179\n",
       "252. 179\n",
       "253. 179\n",
       "254. 179\n",
       "255. 179\n",
       "256. 179\n",
       "257. 179\n",
       "258. 179\n",
       "259. 179\n",
       "260. 179\n",
       "261. 179\n",
       "262. 179\n",
       "263. 179\n",
       "264. 179\n",
       "265. 179\n",
       "266. 179\n",
       "267. 179\n",
       "268. 179\n",
       "269. 179\n",
       "270. 179\n",
       "271. 179\n",
       "272. 179\n",
       "273. 179\n",
       "274. 179\n",
       "275. 179\n",
       "276. 179\n",
       "277. 179\n",
       "278. 179\n",
       "279. 179\n",
       "280. 179\n",
       "281. 179\n",
       "282. 179\n",
       "283. 179\n",
       "284. 179\n",
       "285. 179\n",
       "286. 179\n",
       "287. 179\n",
       "288. 179\n",
       "289. 179\n",
       "290. 179\n",
       "291. 179\n",
       "292. 179\n",
       "293. 179\n",
       "294. 179\n",
       "295. 83\n",
       "296. 83\n",
       "297. 83\n",
       "298. 83\n",
       "299. 83\n",
       "300. 83\n",
       "301. 83\n",
       "302. 83\n",
       "303. 83\n",
       "304. 83\n",
       "305. 83\n",
       "306. 83\n",
       "307. 83\n",
       "308. 83\n",
       "309. 83\n",
       "310. 83\n",
       "311. 83\n",
       "312. 83\n",
       "313. 83\n",
       "314. 83\n",
       "315. 83\n",
       "316. 83\n",
       "317. 83\n",
       "318. 83\n",
       "319. 83\n",
       "320. 83\n",
       "321. 83\n",
       "322. 83\n",
       "323. 83\n",
       "324. 83\n",
       "325. 83\n",
       "326. 83\n",
       "327. 83\n",
       "328. 83\n",
       "329. 83\n",
       "330. 83\n",
       "331. 83\n",
       "332. 83\n",
       "333. 83\n",
       "334. 83\n",
       "335. 83\n",
       "336. 83\n",
       "337. 83\n",
       "338. 83\n",
       "339. 83\n",
       "340. 83\n",
       "341. 83\n",
       "342. 83\n",
       "343. 83\n",
       "344. 83\n",
       "345. 83\n",
       "346. 83\n",
       "347. 83\n",
       "348. 83\n",
       "349. 83\n",
       "350. 83\n",
       "351. 83\n",
       "352. 83\n",
       "353. 83\n",
       "354. 83\n",
       "355. 83\n",
       "356. 83\n",
       "357. 83\n",
       "358. 83\n",
       "359. 83\n",
       "360. 83\n",
       "361. 83\n",
       "362. 83\n",
       "363. 83\n",
       "364. 83\n",
       "365. 83\n",
       "366. 83\n",
       "367. 83\n",
       "368. 83\n",
       "369. 83\n",
       "370. 83\n",
       "371. 83\n",
       "372. 83\n",
       "373. 83\n",
       "374. 83\n",
       "375. 83\n",
       "376. 83\n",
       "377. 83\n",
       "378. 18\n",
       "379. 18\n",
       "380. 18\n",
       "381. 18\n",
       "382. 18\n",
       "383. 18\n",
       "384. 18\n",
       "385. 18\n",
       "386. 18\n",
       "387. 18\n",
       "388. 18\n",
       "389. 18\n",
       "390. 18\n",
       "391. 18\n",
       "392. 18\n",
       "393. 18\n",
       "394. 18\n",
       "395. 18\n",
       "396. 4\n",
       "397. 4\n",
       "398. 4\n",
       "399. 4\n",
       "400. 1\n",
       "401. 1\n",
       "\n",
       "\n",
       "\n",
       "\n",
       "\n"
      ],
      "text/plain": [
       "$y\n",
       "   [1] 0 0 0 0 0 0 0 0 0 0 0 0 0 0 0 0 0 0 0 0 0 0 0 0 0 0 0 0 0 0 0 0 0 0 0 0 0\n",
       "  [38] 0 0 0 0 0 0 0 0 0 0 0 0 0 0 0 0 0 0 0 0 0 0 0 0 0 0 0 0 0 0 0 0 0 0 0 0 0\n",
       "  [75] 0 0 0 0 0 0 0 0 0 0 0 0 0 0 0 0 0 0 0 0 0 0 0 0 0 0 0 0 0 0 0 0 0 0 0 0 0\n",
       " [112] 0 0 0 0 0 0 0 0 0 0 0 0 0 0 0 0 0 0 0 0 0 0 0 0 0 0 0 0 0 0 0 0 0 0 0 0 0\n",
       " [149] 0 0 0 0 0 0 0 0 0 0 0 0 0 0 0 0 0 0 0 0 0 0 0 0 0 0 0 0 0 0 0 0 0 0 0 0 0\n",
       " [186] 0 0 0 0 0 0 0 0 0 0 0 0 0 0 0 0 0 0 0 0 0 0 0 0 0 0 0 0 0 0 0 0 0 0 0 0 0\n",
       " [223] 0 0 0 0 0 0 0 0 0 0 0 0 0 0 0 0 0 0 0 0 0 0 0 0 0 0 0 0 0 0 0 0 0 0 0 0 0\n",
       " [260] 0 0 0 0 0 0 0 0 0 0 0 0 0 0 0 0 0 0 0 0 0 0 0 0 0 0 0 0 0 0 0 0 0 0 0 0 0\n",
       " [297] 0 0 0 0 0 0 0 0 0 0 0 0 0 0 0 0 0 0 0 0 0 0 0 0 0 0 0 0 0 0 0 0 0 0 0 0 0\n",
       " [334] 0 0 0 0 0 0 0 0 0 1 1 1 1 1 1 1 1 1 1 1 1 1 1 1 1 1 1 1 1 1 1 1 1 1 1 1 1\n",
       " [371] 1 1 1 1 1 1 1 1 1 1 1 1 1 1 1 1 1 1 1 1 1 1 1 1 1 1 1 1 1 1 1 1 1 1 1 1 1\n",
       " [408] 1 1 1 1 1 1 1 1 1 1 1 1 1 1 1 1 1 1 1 1 1 1 1 1 1 1 1 1 1 1 1 1 1 1 1 1 1\n",
       " [445] 1 1 1 1 1 1 1 1 1 1 1 1 1 1 1 1 1 1 1 1 1 1 1 1 1 1 1 1 1 1 1 1 1 1 1 1 1\n",
       " [482] 1 1 1 1 1 1 1 1 1 1 1 1 1 1 1 1 1 1 1 1 1 1 1 1 1 1 1 1 1 1 1 1 1 1 1 1 1\n",
       " [519] 1 1 1 1 1 1 1 1 1 1 1 1 1 1 1 1 1 1 1 1 1 1 1 1 1 1 1 1 1 1 1 1 1 1 1 1 1\n",
       " [556] 1 1 1 1 1 1 1 1 1 1 1 1 1 1 1 1 1 1 1 1 1 1 1 1 1 1 1 1 1 1 1 1 1 1 1 1 1\n",
       " [593] 1 1 1 1 1 1 1 1 1 1 1 1 1 1 1 1 1 1 1 1 1 1 1 1 1 1 1 1 1 1 1 1 1 1 1 1 1\n",
       " [630] 1 1 1 1 1 1 1 1 1 1 1 1 1 1 1 1 1 1 1 1 1 1 1 1 1 1 1 1 1 1 1 1 1 1 1 1 1\n",
       " [667] 1 1 1 1 1 1 1 1 1 1 1 1 1 1 1 1 1 1 1 1 1 1 1 1 1 1 1 1 1 1 1 1 1 1 1 1 1\n",
       " [704] 1 1 1 1 1 1 1 1 1 1 1 1 1 1 1 1 1 1 1 1 1 1 1 1 1 1 1 1 1 1 1 1 1 1 1 1 1\n",
       " [741] 1 1 1 1 1 1 1 1 1 1 1 1 1 1 1 1 1 1 1 1 1 1 1 1 1 1 1 1 1 1 1 1 1 1 1 1 1\n",
       " [778] 1 1 1 1 1 1 1 1 1 1 1 1 1 1 1 1 1 1 1 1 1 1 1 1 1 1 1 1 1 1 1 1 1 1 1 1 1\n",
       " [815] 1 1 1 1 1 1 1 1 1 1 1 1 1 1 1 1 1 1 1 1 1 1 1 1 1 1 1 1 1 1 1 1 1 1 1 1 1\n",
       " [852] 1 1 1 1 1 1 1 1 1 1 1 1 1 1 1 1 1 1 1 1 1 1 1 2 2 2 2 2 2 2 2 2 2 2 2 2 2\n",
       " [889] 2 2 2 2 2 2 2 2 2 2 2 2 2 2 2 2 2 2 2 2 2 2 2 2 2 2 2 2 2 2 2 2 2 2 2 2 2\n",
       " [926] 2 2 2 2 2 2 2 2 2 2 2 2 2 2 2 2 2 2 2 2 2 2 2 2 2 2 2 2 2 2 2 2 2 2 2 2 2\n",
       " [963] 2 2 2 2 2 2 2 2 2 2 2 2 2 2 2 2 2 2 2 2 2 2 2 2 2 2 2 2 2 2 2 2 2 2 2 2 2\n",
       "[1000] 2 2 2 2 2 2 2 2 2 2 2 2 2 2 2 2 2 2 2 2 2 2 2 2 2 2 2 2 2 2 2 2 2 2 2 2 2\n",
       "[1037] 2 2 2 2 2 2 2 2 2 2 2 2 2 2 2 2 2 2 2 2 2 2 2 2 2 2 2 2 2 2 2 2 2 2 2 2 2\n",
       "[1074] 2 2 2 2 2 2 2 2 2 2 2 2 2 2 2 2 2 2 2 2 2 2 2 2 2 2 2 2 2 2 2 2 2 2 2 2 2\n",
       "[1111] 2 2 2 2 2 2 2 2 2 2 2 2 2 2 2 2 2 2 2 2 2 2 2 2 2 2 2 2 2 2 2 2 2 2 2 2 2\n",
       "[1148] 2 2 2 2 2 2 2 2 2 2 2 2 2 2 2 2 2 2 2 2 2 2 2 2 2 2 2 2 2 2 2 2 2 2 2 2 2\n",
       "[1185] 2 2 2 2 2 2 2 2 2 2 2 2 2 2 2 2 2 2 2 2 2 2 2 2 2 2 2 2 2 2 3 3 3 3 3 3 3\n",
       "[1222] 3 3 3 3 3 3 3 3 3 3 3 3 3 3 3 3 3 3 3 3 3 3 3 3 3 3 3 3 3 3 3 3 3 3 3 3 3\n",
       "[1259] 3 3 3 3 3 3 3 3 3 3 3 3 3 3 3 3 3 3 3 3 3 3 3 3 3 3 3 3 3 3 3 3 3 3 3 3 3\n",
       "[1296] 3 3 3 3 3 3 3 3 3 3 3 3 3 3 3 3 3 3 3 3 3 3 3 3 3 3 3 3 3 3 3 3 3 3 3 3 3\n",
       "[1333] 3 3 3 3 3 3 3 3 3 3 3 3 3 3 3 3 3 3 3 3 3 3 3 3 3 3 3 3 3 3 3 3 3 3 3 3 3\n",
       "[1370] 3 3 3 3 3 3 3 3 3 3 3 3 3 3 3 3 3 3 3 3 3 3 3 3 4 4 4 4 4 4 4 4 4 4 4 4 4\n",
       "[1407] 4 4 4 4 4 4 4 4 4 4 4 4 4 4 4 4 4 4 4 4 4 4 4 4 4 4 4 4 4 4 4 4 4 4 4 4 4\n",
       "[1444] 4 4 4 4 4 4 4 4 4 4 4 4 4 4 4 4 4 4 4 4 4 4 4 4 4 4 4 4 4 4 4 4 4 5 5 5 5\n",
       "[1481] 5 5 5 5 5 5 5 5 5 5 5 5 5 5 6 6 6 6 7 8\n",
       "Levels: 0 1 2 3 4 5 6 7 8\n",
       "\n",
       "$Freq\n",
       "   [1] 342 342 342 342 342 342 342 342 342 342 342 342 342 342 342 342 342 342\n",
       "  [19] 342 342 342 342 342 342 342 342 342 342 342 342 342 342 342 342 342 342\n",
       "  [37] 342 342 342 342 342 342 342 342 342 342 342 342 342 342 342 342 342 342\n",
       "  [55] 342 342 342 342 342 342 342 342 342 342 342 342 342 342 342 342 342 342\n",
       "  [73] 342 342 342 342 342 342 342 342 342 342 342 342 342 342 342 342 342 342\n",
       "  [91] 342 342 342 342 342 342 342 342 342 342 342 342 342 342 342 342 342 342\n",
       " [109] 342 342 342 342 342 342 342 342 342 342 342 342 342 342 342 342 342 342\n",
       " [127] 342 342 342 342 342 342 342 342 342 342 342 342 342 342 342 342 342 342\n",
       " [145] 342 342 342 342 342 342 342 342 342 342 342 342 342 342 342 342 342 342\n",
       " [163] 342 342 342 342 342 342 342 342 342 342 342 342 342 342 342 342 342 342\n",
       " [181] 342 342 342 342 342 342 342 342 342 342 342 342 342 342 342 342 342 342\n",
       " [199] 342 342 342 342 342 342 342 342 342 342 342 342 342 342 342 342 342 342\n",
       " [217] 342 342 342 342 342 342 342 342 342 342 342 342 342 342 342 342 342 342\n",
       " [235] 342 342 342 342 342 342 342 342 342 342 342 342 342 342 342 342 342 342\n",
       " [253] 342 342 342 342 342 342 342 342 342 342 342 342 342 342 342 342 342 342\n",
       " [271] 342 342 342 342 342 342 342 342 342 342 342 342 342 342 342 342 342 342\n",
       " [289] 342 342 342 342 342 342 342 342 342 342 342 342 342 342 342 342 342 342\n",
       " [307] 342 342 342 342 342 342 342 342 342 342 342 342 342 342 342 342 342 342\n",
       " [325] 342 342 342 342 342 342 342 342 342 342 342 342 342 342 342 342 342 342\n",
       " [343] 532 532 532 532 532 532 532 532 532 532 532 532 532 532 532 532 532 532\n",
       " [361] 532 532 532 532 532 532 532 532 532 532 532 532 532 532 532 532 532 532\n",
       " [379] 532 532 532 532 532 532 532 532 532 532 532 532 532 532 532 532 532 532\n",
       " [397] 532 532 532 532 532 532 532 532 532 532 532 532 532 532 532 532 532 532\n",
       " [415] 532 532 532 532 532 532 532 532 532 532 532 532 532 532 532 532 532 532\n",
       " [433] 532 532 532 532 532 532 532 532 532 532 532 532 532 532 532 532 532 532\n",
       " [451] 532 532 532 532 532 532 532 532 532 532 532 532 532 532 532 532 532 532\n",
       " [469] 532 532 532 532 532 532 532 532 532 532 532 532 532 532 532 532 532 532\n",
       " [487] 532 532 532 532 532 532 532 532 532 532 532 532 532 532 532 532 532 532\n",
       " [505] 532 532 532 532 532 532 532 532 532 532 532 532 532 532 532 532 532 532\n",
       " [523] 532 532 532 532 532 532 532 532 532 532 532 532 532 532 532 532 532 532\n",
       " [541] 532 532 532 532 532 532 532 532 532 532 532 532 532 532 532 532 532 532\n",
       " [559] 532 532 532 532 532 532 532 532 532 532 532 532 532 532 532 532 532 532\n",
       " [577] 532 532 532 532 532 532 532 532 532 532 532 532 532 532 532 532 532 532\n",
       " [595] 532 532 532 532 532 532 532 532 532 532 532 532 532 532 532 532 532 532\n",
       " [613] 532 532 532 532 532 532 532 532 532 532 532 532 532 532 532 532 532 532\n",
       " [631] 532 532 532 532 532 532 532 532 532 532 532 532 532 532 532 532 532 532\n",
       " [649] 532 532 532 532 532 532 532 532 532 532 532 532 532 532 532 532 532 532\n",
       " [667] 532 532 532 532 532 532 532 532 532 532 532 532 532 532 532 532 532 532\n",
       " [685] 532 532 532 532 532 532 532 532 532 532 532 532 532 532 532 532 532 532\n",
       " [703] 532 532 532 532 532 532 532 532 532 532 532 532 532 532 532 532 532 532\n",
       " [721] 532 532 532 532 532 532 532 532 532 532 532 532 532 532 532 532 532 532\n",
       " [739] 532 532 532 532 532 532 532 532 532 532 532 532 532 532 532 532 532 532\n",
       " [757] 532 532 532 532 532 532 532 532 532 532 532 532 532 532 532 532 532 532\n",
       " [775] 532 532 532 532 532 532 532 532 532 532 532 532 532 532 532 532 532 532\n",
       " [793] 532 532 532 532 532 532 532 532 532 532 532 532 532 532 532 532 532 532\n",
       " [811] 532 532 532 532 532 532 532 532 532 532 532 532 532 532 532 532 532 532\n",
       " [829] 532 532 532 532 532 532 532 532 532 532 532 532 532 532 532 532 532 532\n",
       " [847] 532 532 532 532 532 532 532 532 532 532 532 532 532 532 532 532 532 532\n",
       " [865] 532 532 532 532 532 532 532 532 532 532 340 340 340 340 340 340 340 340\n",
       " [883] 340 340 340 340 340 340 340 340 340 340 340 340 340 340 340 340 340 340\n",
       " [901] 340 340 340 340 340 340 340 340 340 340 340 340 340 340 340 340 340 340\n",
       " [919] 340 340 340 340 340 340 340 340 340 340 340 340 340 340 340 340 340 340\n",
       " [937] 340 340 340 340 340 340 340 340 340 340 340 340 340 340 340 340 340 340\n",
       " [955] 340 340 340 340 340 340 340 340 340 340 340 340 340 340 340 340 340 340\n",
       " [973] 340 340 340 340 340 340 340 340 340 340 340 340 340 340 340 340 340 340\n",
       " [991] 340 340 340 340 340 340 340 340 340 340 340 340 340 340 340 340 340 340\n",
       "[1009] 340 340 340 340 340 340 340 340 340 340 340 340 340 340 340 340 340 340\n",
       "[1027] 340 340 340 340 340 340 340 340 340 340 340 340 340 340 340 340 340 340\n",
       "[1045] 340 340 340 340 340 340 340 340 340 340 340 340 340 340 340 340 340 340\n",
       "[1063] 340 340 340 340 340 340 340 340 340 340 340 340 340 340 340 340 340 340\n",
       "[1081] 340 340 340 340 340 340 340 340 340 340 340 340 340 340 340 340 340 340\n",
       "[1099] 340 340 340 340 340 340 340 340 340 340 340 340 340 340 340 340 340 340\n",
       "[1117] 340 340 340 340 340 340 340 340 340 340 340 340 340 340 340 340 340 340\n",
       "[1135] 340 340 340 340 340 340 340 340 340 340 340 340 340 340 340 340 340 340\n",
       "[1153] 340 340 340 340 340 340 340 340 340 340 340 340 340 340 340 340 340 340\n",
       "[1171] 340 340 340 340 340 340 340 340 340 340 340 340 340 340 340 340 340 340\n",
       "[1189] 340 340 340 340 340 340 340 340 340 340 340 340 340 340 340 340 340 340\n",
       "[1207] 340 340 340 340 340 340 340 340 179 179 179 179 179 179 179 179 179 179\n",
       "[1225] 179 179 179 179 179 179 179 179 179 179 179 179 179 179 179 179 179 179\n",
       "[1243] 179 179 179 179 179 179 179 179 179 179 179 179 179 179 179 179 179 179\n",
       "[1261] 179 179 179 179 179 179 179 179 179 179 179 179 179 179 179 179 179 179\n",
       "[1279] 179 179 179 179 179 179 179 179 179 179 179 179 179 179 179 179 179 179\n",
       "[1297] 179 179 179 179 179 179 179 179 179 179 179 179 179 179 179 179 179 179\n",
       "[1315] 179 179 179 179 179 179 179 179 179 179 179 179 179 179 179 179 179 179\n",
       "[1333] 179 179 179 179 179 179 179 179 179 179 179 179 179 179 179 179 179 179\n",
       "[1351] 179 179 179 179 179 179 179 179 179 179 179 179 179 179 179 179 179 179\n",
       "[1369] 179 179 179 179 179 179 179 179 179 179 179 179 179 179 179 179 179 179\n",
       "[1387] 179 179 179 179 179 179 179  83  83  83  83  83  83  83  83  83  83  83\n",
       "[1405]  83  83  83  83  83  83  83  83  83  83  83  83  83  83  83  83  83  83\n",
       "[1423]  83  83  83  83  83  83  83  83  83  83  83  83  83  83  83  83  83  83\n",
       "[1441]  83  83  83  83  83  83  83  83  83  83  83  83  83  83  83  83  83  83\n",
       "[1459]  83  83  83  83  83  83  83  83  83  83  83  83  83  83  83  83  83  83\n",
       "[1477]  18  18  18  18  18  18  18  18  18  18  18  18  18  18  18  18  18  18\n",
       "[1495]   4   4   4   4   1   1\n"
      ]
     },
     "metadata": {},
     "output_type": "display_data"
    }
   ],
   "source": [
    "lapply(short,  function(x) rep(x, short$Freq))"
   ]
  },
  {
   "cell_type": "markdown",
   "id": "daee80b0-8106-4705-8d9d-6f44937994d8",
   "metadata": {},
   "source": [
    "### 데이터프레임에서 중복된 행 제거"
   ]
  },
  {
   "cell_type": "code",
   "execution_count": 160,
   "id": "1c4583d5-97de-4904-aaf1-1ccf92751442",
   "metadata": {},
   "outputs": [
    {
     "data": {
      "text/html": [
       "'http://www.bio.ic.ac.uk/research/mjcraw/therbook/data/dups.txt'"
      ],
      "text/latex": [
       "'http://www.bio.ic.ac.uk/research/mjcraw/therbook/data/dups.txt'"
      ],
      "text/markdown": [
       "'http://www.bio.ic.ac.uk/research/mjcraw/therbook/data/dups.txt'"
      ],
      "text/plain": [
       "[1] \"http://www.bio.ic.ac.uk/research/mjcraw/therbook/data/dups.txt\""
      ]
     },
     "metadata": {},
     "output_type": "display_data"
    }
   ],
   "source": [
    "baseurl <- \"http://www.bio.ic.ac.uk/research/mjcraw/therbook/data/\"\n",
    "filename <- \"dups.txt\"\n",
    "(fileurl <- paste(baseurl, filename, sep=\"\"))"
   ]
  },
  {
   "cell_type": "code",
   "execution_count": 163,
   "id": "dffa76a6-cf51-4bcd-a125-95960ef16e50",
   "metadata": {},
   "outputs": [],
   "source": [
    "df <- read.table(fileurl, header = TRUE)"
   ]
  },
  {
   "cell_type": "code",
   "execution_count": 164,
   "id": "dca7b04e-2fbf-42b8-ae22-0c1f1a868156",
   "metadata": {},
   "outputs": [
    {
     "data": {
      "text/html": [
       "<table class=\"dataframe\">\n",
       "<caption>A data.frame: 7 × 4</caption>\n",
       "<thead>\n",
       "\t<tr><th scope=col>cow</th><th scope=col>dog</th><th scope=col>cat</th><th scope=col>bat</th></tr>\n",
       "\t<tr><th scope=col>&lt;int&gt;</th><th scope=col>&lt;int&gt;</th><th scope=col>&lt;int&gt;</th><th scope=col>&lt;int&gt;</th></tr>\n",
       "</thead>\n",
       "<tbody>\n",
       "\t<tr><td>1</td><td>2</td><td>3</td><td>1</td></tr>\n",
       "\t<tr><td>1</td><td>2</td><td>2</td><td>1</td></tr>\n",
       "\t<tr><td>3</td><td>2</td><td>1</td><td>1</td></tr>\n",
       "\t<tr><td>4</td><td>4</td><td>2</td><td>1</td></tr>\n",
       "\t<tr><td>3</td><td>2</td><td>1</td><td>1</td></tr>\n",
       "\t<tr><td>6</td><td>1</td><td>2</td><td>5</td></tr>\n",
       "\t<tr><td>1</td><td>2</td><td>3</td><td>2</td></tr>\n",
       "</tbody>\n",
       "</table>\n"
      ],
      "text/latex": [
       "A data.frame: 7 × 4\n",
       "\\begin{tabular}{llll}\n",
       " cow & dog & cat & bat\\\\\n",
       " <int> & <int> & <int> & <int>\\\\\n",
       "\\hline\n",
       "\t 1 & 2 & 3 & 1\\\\\n",
       "\t 1 & 2 & 2 & 1\\\\\n",
       "\t 3 & 2 & 1 & 1\\\\\n",
       "\t 4 & 4 & 2 & 1\\\\\n",
       "\t 3 & 2 & 1 & 1\\\\\n",
       "\t 6 & 1 & 2 & 5\\\\\n",
       "\t 1 & 2 & 3 & 2\\\\\n",
       "\\end{tabular}\n"
      ],
      "text/markdown": [
       "\n",
       "A data.frame: 7 × 4\n",
       "\n",
       "| cow &lt;int&gt; | dog &lt;int&gt; | cat &lt;int&gt; | bat &lt;int&gt; |\n",
       "|---|---|---|---|\n",
       "| 1 | 2 | 3 | 1 |\n",
       "| 1 | 2 | 2 | 1 |\n",
       "| 3 | 2 | 1 | 1 |\n",
       "| 4 | 4 | 2 | 1 |\n",
       "| 3 | 2 | 1 | 1 |\n",
       "| 6 | 1 | 2 | 5 |\n",
       "| 1 | 2 | 3 | 2 |\n",
       "\n"
      ],
      "text/plain": [
       "  cow dog cat bat\n",
       "1 1   2   3   1  \n",
       "2 1   2   2   1  \n",
       "3 3   2   1   1  \n",
       "4 4   4   2   1  \n",
       "5 3   2   1   1  \n",
       "6 6   1   2   5  \n",
       "7 1   2   3   2  "
      ]
     },
     "metadata": {},
     "output_type": "display_data"
    }
   ],
   "source": [
    "df"
   ]
  },
  {
   "cell_type": "code",
   "execution_count": 165,
   "id": "87f7787c-b790-443e-80fb-6130e0aab6ce",
   "metadata": {},
   "outputs": [
    {
     "data": {
      "text/html": [
       "<table class=\"dataframe\">\n",
       "<caption>A data.frame: 6 × 4</caption>\n",
       "<thead>\n",
       "\t<tr><th></th><th scope=col>cow</th><th scope=col>dog</th><th scope=col>cat</th><th scope=col>bat</th></tr>\n",
       "\t<tr><th></th><th scope=col>&lt;int&gt;</th><th scope=col>&lt;int&gt;</th><th scope=col>&lt;int&gt;</th><th scope=col>&lt;int&gt;</th></tr>\n",
       "</thead>\n",
       "<tbody>\n",
       "\t<tr><th scope=row>1</th><td>1</td><td>2</td><td>3</td><td>1</td></tr>\n",
       "\t<tr><th scope=row>2</th><td>1</td><td>2</td><td>2</td><td>1</td></tr>\n",
       "\t<tr><th scope=row>3</th><td>3</td><td>2</td><td>1</td><td>1</td></tr>\n",
       "\t<tr><th scope=row>4</th><td>4</td><td>4</td><td>2</td><td>1</td></tr>\n",
       "\t<tr><th scope=row>6</th><td>6</td><td>1</td><td>2</td><td>5</td></tr>\n",
       "\t<tr><th scope=row>7</th><td>1</td><td>2</td><td>3</td><td>2</td></tr>\n",
       "</tbody>\n",
       "</table>\n"
      ],
      "text/latex": [
       "A data.frame: 6 × 4\n",
       "\\begin{tabular}{r|llll}\n",
       "  & cow & dog & cat & bat\\\\\n",
       "  & <int> & <int> & <int> & <int>\\\\\n",
       "\\hline\n",
       "\t1 & 1 & 2 & 3 & 1\\\\\n",
       "\t2 & 1 & 2 & 2 & 1\\\\\n",
       "\t3 & 3 & 2 & 1 & 1\\\\\n",
       "\t4 & 4 & 4 & 2 & 1\\\\\n",
       "\t6 & 6 & 1 & 2 & 5\\\\\n",
       "\t7 & 1 & 2 & 3 & 2\\\\\n",
       "\\end{tabular}\n"
      ],
      "text/markdown": [
       "\n",
       "A data.frame: 6 × 4\n",
       "\n",
       "| <!--/--> | cow &lt;int&gt; | dog &lt;int&gt; | cat &lt;int&gt; | bat &lt;int&gt; |\n",
       "|---|---|---|---|---|\n",
       "| 1 | 1 | 2 | 3 | 1 |\n",
       "| 2 | 1 | 2 | 2 | 1 |\n",
       "| 3 | 3 | 2 | 1 | 1 |\n",
       "| 4 | 4 | 4 | 2 | 1 |\n",
       "| 6 | 6 | 1 | 2 | 5 |\n",
       "| 7 | 1 | 2 | 3 | 2 |\n",
       "\n"
      ],
      "text/plain": [
       "  cow dog cat bat\n",
       "1 1   2   3   1  \n",
       "2 1   2   2   1  \n",
       "3 3   2   1   1  \n",
       "4 4   4   2   1  \n",
       "6 6   1   2   5  \n",
       "7 1   2   3   2  "
      ]
     },
     "metadata": {},
     "output_type": "display_data"
    }
   ],
   "source": [
    "unique(df)"
   ]
  },
  {
   "cell_type": "markdown",
   "id": "7b534788-33aa-43e1-bc64-4bb5de471f1c",
   "metadata": {},
   "source": [
    "### 데이터프레임 통합"
   ]
  },
  {
   "cell_type": "code",
   "execution_count": 166,
   "id": "7a9b7dc0-3402-404f-91c1-9ed4560ebd00",
   "metadata": {},
   "outputs": [
    {
     "data": {
      "text/html": [
       "<table class=\"dataframe\">\n",
       "<caption>A data.frame: 5 × 3</caption>\n",
       "<thead>\n",
       "\t<tr><th></th><th scope=col>Genus</th><th scope=col>species</th><th scope=col>lifeform</th></tr>\n",
       "\t<tr><th></th><th scope=col>&lt;chr&gt;</th><th scope=col>&lt;chr&gt;</th><th scope=col>&lt;chr&gt;</th></tr>\n",
       "</thead>\n",
       "<tbody>\n",
       "\t<tr><th scope=row>1</th><td>Acer  </td><td>platanoides</td><td>tree  </td></tr>\n",
       "\t<tr><th scope=row>2</th><td>Acer  </td><td>palmatum   </td><td>tree  </td></tr>\n",
       "\t<tr><th scope=row>3</th><td>Ajuga </td><td>reptans    </td><td>herb  </td></tr>\n",
       "\t<tr><th scope=row>4</th><td>Conyza</td><td>sumatrensis</td><td>annual</td></tr>\n",
       "\t<tr><th scope=row>5</th><td>Lamium</td><td>album      </td><td>herb  </td></tr>\n",
       "</tbody>\n",
       "</table>\n"
      ],
      "text/latex": [
       "A data.frame: 5 × 3\n",
       "\\begin{tabular}{r|lll}\n",
       "  & Genus & species & lifeform\\\\\n",
       "  & <chr> & <chr> & <chr>\\\\\n",
       "\\hline\n",
       "\t1 & Acer   & platanoides & tree  \\\\\n",
       "\t2 & Acer   & palmatum    & tree  \\\\\n",
       "\t3 & Ajuga  & reptans     & herb  \\\\\n",
       "\t4 & Conyza & sumatrensis & annual\\\\\n",
       "\t5 & Lamium & album       & herb  \\\\\n",
       "\\end{tabular}\n"
      ],
      "text/markdown": [
       "\n",
       "A data.frame: 5 × 3\n",
       "\n",
       "| <!--/--> | Genus &lt;chr&gt; | species &lt;chr&gt; | lifeform &lt;chr&gt; |\n",
       "|---|---|---|---|\n",
       "| 1 | Acer   | platanoides | tree   |\n",
       "| 2 | Acer   | palmatum    | tree   |\n",
       "| 3 | Ajuga  | reptans     | herb   |\n",
       "| 4 | Conyza | sumatrensis | annual |\n",
       "| 5 | Lamium | album       | herb   |\n",
       "\n"
      ],
      "text/plain": [
       "  Genus  species     lifeform\n",
       "1 Acer   platanoides tree    \n",
       "2 Acer   palmatum    tree    \n",
       "3 Ajuga  reptans     herb    \n",
       "4 Conyza sumatrensis annual  \n",
       "5 Lamium album       herb    "
      ]
     },
     "metadata": {},
     "output_type": "display_data"
    }
   ],
   "source": [
    "url1 <- \"http://www.bio.ic.ac.uk/research/mjcraw/therbook/data/lifeforms.txt\"\n",
    "df1 <- read.table(url1, header=TRUE)\n",
    "df1 %>% head"
   ]
  },
  {
   "cell_type": "code",
   "execution_count": 167,
   "id": "ad187a7f-c713-44ec-8119-5eb6571b910e",
   "metadata": {},
   "outputs": [
    {
     "data": {
      "text/html": [
       "<table class=\"dataframe\">\n",
       "<caption>A data.frame: 6 × 3</caption>\n",
       "<thead>\n",
       "\t<tr><th></th><th scope=col>Genus</th><th scope=col>species</th><th scope=col>flowering</th></tr>\n",
       "\t<tr><th></th><th scope=col>&lt;chr&gt;</th><th scope=col>&lt;chr&gt;</th><th scope=col>&lt;chr&gt;</th></tr>\n",
       "</thead>\n",
       "<tbody>\n",
       "\t<tr><th scope=row>1</th><td>Acer     </td><td>platanoides  </td><td>May    </td></tr>\n",
       "\t<tr><th scope=row>2</th><td>Ajuga    </td><td>reptans      </td><td>June   </td></tr>\n",
       "\t<tr><th scope=row>3</th><td>Brassica </td><td>napus        </td><td>April  </td></tr>\n",
       "\t<tr><th scope=row>4</th><td>Chamerion</td><td>angustifolium</td><td>July   </td></tr>\n",
       "\t<tr><th scope=row>5</th><td>Conyza   </td><td>bilbaoana    </td><td>August </td></tr>\n",
       "\t<tr><th scope=row>6</th><td>Lamium   </td><td>album        </td><td>January</td></tr>\n",
       "</tbody>\n",
       "</table>\n"
      ],
      "text/latex": [
       "A data.frame: 6 × 3\n",
       "\\begin{tabular}{r|lll}\n",
       "  & Genus & species & flowering\\\\\n",
       "  & <chr> & <chr> & <chr>\\\\\n",
       "\\hline\n",
       "\t1 & Acer      & platanoides   & May    \\\\\n",
       "\t2 & Ajuga     & reptans       & June   \\\\\n",
       "\t3 & Brassica  & napus         & April  \\\\\n",
       "\t4 & Chamerion & angustifolium & July   \\\\\n",
       "\t5 & Conyza    & bilbaoana     & August \\\\\n",
       "\t6 & Lamium    & album         & January\\\\\n",
       "\\end{tabular}\n"
      ],
      "text/markdown": [
       "\n",
       "A data.frame: 6 × 3\n",
       "\n",
       "| <!--/--> | Genus &lt;chr&gt; | species &lt;chr&gt; | flowering &lt;chr&gt; |\n",
       "|---|---|---|---|\n",
       "| 1 | Acer      | platanoides   | May     |\n",
       "| 2 | Ajuga     | reptans       | June    |\n",
       "| 3 | Brassica  | napus         | April   |\n",
       "| 4 | Chamerion | angustifolium | July    |\n",
       "| 5 | Conyza    | bilbaoana     | August  |\n",
       "| 6 | Lamium    | album         | January |\n",
       "\n"
      ],
      "text/plain": [
       "  Genus     species       flowering\n",
       "1 Acer      platanoides   May      \n",
       "2 Ajuga     reptans       June     \n",
       "3 Brassica  napus         April    \n",
       "4 Chamerion angustifolium July     \n",
       "5 Conyza    bilbaoana     August   \n",
       "6 Lamium    album         January  "
      ]
     },
     "metadata": {},
     "output_type": "display_data"
    }
   ],
   "source": [
    "url2 <- \"http://www.bio.ic.ac.uk/research/mjcraw/therbook/data/fltimes.txt\"\n",
    "df2 <- read.table(url2, header=TRUE)\n",
    "df2 %>% head"
   ]
  },
  {
   "cell_type": "code",
   "execution_count": 168,
   "id": "a5a5cf84-bd92-459f-a6f1-1131608f6506",
   "metadata": {},
   "outputs": [
    {
     "data": {
      "text/html": [
       "<table class=\"dataframe\">\n",
       "<caption>A data.frame: 3 × 4</caption>\n",
       "<thead>\n",
       "\t<tr><th scope=col>Genus</th><th scope=col>species</th><th scope=col>lifeform</th><th scope=col>flowering</th></tr>\n",
       "\t<tr><th scope=col>&lt;chr&gt;</th><th scope=col>&lt;chr&gt;</th><th scope=col>&lt;chr&gt;</th><th scope=col>&lt;chr&gt;</th></tr>\n",
       "</thead>\n",
       "<tbody>\n",
       "\t<tr><td>Acer  </td><td>platanoides</td><td>tree</td><td>May    </td></tr>\n",
       "\t<tr><td>Ajuga </td><td>reptans    </td><td>herb</td><td>June   </td></tr>\n",
       "\t<tr><td>Lamium</td><td>album      </td><td>herb</td><td>January</td></tr>\n",
       "</tbody>\n",
       "</table>\n"
      ],
      "text/latex": [
       "A data.frame: 3 × 4\n",
       "\\begin{tabular}{llll}\n",
       " Genus & species & lifeform & flowering\\\\\n",
       " <chr> & <chr> & <chr> & <chr>\\\\\n",
       "\\hline\n",
       "\t Acer   & platanoides & tree & May    \\\\\n",
       "\t Ajuga  & reptans     & herb & June   \\\\\n",
       "\t Lamium & album       & herb & January\\\\\n",
       "\\end{tabular}\n"
      ],
      "text/markdown": [
       "\n",
       "A data.frame: 3 × 4\n",
       "\n",
       "| Genus &lt;chr&gt; | species &lt;chr&gt; | lifeform &lt;chr&gt; | flowering &lt;chr&gt; |\n",
       "|---|---|---|---|\n",
       "| Acer   | platanoides | tree | May     |\n",
       "| Ajuga  | reptans     | herb | June    |\n",
       "| Lamium | album       | herb | January |\n",
       "\n"
      ],
      "text/plain": [
       "  Genus  species     lifeform flowering\n",
       "1 Acer   platanoides tree     May      \n",
       "2 Ajuga  reptans     herb     June     \n",
       "3 Lamium album       herb     January  "
      ]
     },
     "metadata": {},
     "output_type": "display_data"
    }
   ],
   "source": [
    "merge(df1, df2)"
   ]
  },
  {
   "cell_type": "code",
   "execution_count": 170,
   "id": "706e89a2-cbea-4e6c-98ec-6db3088ff559",
   "metadata": {},
   "outputs": [
    {
     "data": {
      "text/html": [
       "<table class=\"dataframe\">\n",
       "<caption>A data.frame: 8 × 4</caption>\n",
       "<thead>\n",
       "\t<tr><th scope=col>Genus</th><th scope=col>species</th><th scope=col>lifeform</th><th scope=col>flowering</th></tr>\n",
       "\t<tr><th scope=col>&lt;chr&gt;</th><th scope=col>&lt;chr&gt;</th><th scope=col>&lt;chr&gt;</th><th scope=col>&lt;chr&gt;</th></tr>\n",
       "</thead>\n",
       "<tbody>\n",
       "\t<tr><td>Acer     </td><td>palmatum     </td><td>tree  </td><td>NA     </td></tr>\n",
       "\t<tr><td>Acer     </td><td>platanoides  </td><td>tree  </td><td>May    </td></tr>\n",
       "\t<tr><td>Ajuga    </td><td>reptans      </td><td>herb  </td><td>June   </td></tr>\n",
       "\t<tr><td>Brassica </td><td>napus        </td><td>NA    </td><td>April  </td></tr>\n",
       "\t<tr><td>Chamerion</td><td>angustifolium</td><td>NA    </td><td>July   </td></tr>\n",
       "\t<tr><td>Conyza   </td><td>bilbaoana    </td><td>NA    </td><td>August </td></tr>\n",
       "\t<tr><td>Conyza   </td><td>sumatrensis  </td><td>annual</td><td>NA     </td></tr>\n",
       "\t<tr><td>Lamium   </td><td>album        </td><td>herb  </td><td>January</td></tr>\n",
       "</tbody>\n",
       "</table>\n"
      ],
      "text/latex": [
       "A data.frame: 8 × 4\n",
       "\\begin{tabular}{llll}\n",
       " Genus & species & lifeform & flowering\\\\\n",
       " <chr> & <chr> & <chr> & <chr>\\\\\n",
       "\\hline\n",
       "\t Acer      & palmatum      & tree   & NA     \\\\\n",
       "\t Acer      & platanoides   & tree   & May    \\\\\n",
       "\t Ajuga     & reptans       & herb   & June   \\\\\n",
       "\t Brassica  & napus         & NA     & April  \\\\\n",
       "\t Chamerion & angustifolium & NA     & July   \\\\\n",
       "\t Conyza    & bilbaoana     & NA     & August \\\\\n",
       "\t Conyza    & sumatrensis   & annual & NA     \\\\\n",
       "\t Lamium    & album         & herb   & January\\\\\n",
       "\\end{tabular}\n"
      ],
      "text/markdown": [
       "\n",
       "A data.frame: 8 × 4\n",
       "\n",
       "| Genus &lt;chr&gt; | species &lt;chr&gt; | lifeform &lt;chr&gt; | flowering &lt;chr&gt; |\n",
       "|---|---|---|---|\n",
       "| Acer      | palmatum      | tree   | NA      |\n",
       "| Acer      | platanoides   | tree   | May     |\n",
       "| Ajuga     | reptans       | herb   | June    |\n",
       "| Brassica  | napus         | NA     | April   |\n",
       "| Chamerion | angustifolium | NA     | July    |\n",
       "| Conyza    | bilbaoana     | NA     | August  |\n",
       "| Conyza    | sumatrensis   | annual | NA      |\n",
       "| Lamium    | album         | herb   | January |\n",
       "\n"
      ],
      "text/plain": [
       "  Genus     species       lifeform flowering\n",
       "1 Acer      palmatum      tree     NA       \n",
       "2 Acer      platanoides   tree     May      \n",
       "3 Ajuga     reptans       herb     June     \n",
       "4 Brassica  napus         NA       April    \n",
       "5 Chamerion angustifolium NA       July     \n",
       "6 Conyza    bilbaoana     NA       August   \n",
       "7 Conyza    sumatrensis   annual   NA       \n",
       "8 Lamium    album         herb     January  "
      ]
     },
     "metadata": {},
     "output_type": "display_data"
    }
   ],
   "source": [
    "both <- merge(df1, df2, all=T)\n",
    "both"
   ]
  },
  {
   "cell_type": "code",
   "execution_count": 171,
   "id": "dc12c396-bed0-4b26-9ac8-2719d5217193",
   "metadata": {},
   "outputs": [
    {
     "data": {
      "text/html": [
       "<table class=\"dataframe\">\n",
       "<caption>A data.frame: 8 × 3</caption>\n",
       "<thead>\n",
       "\t<tr><th scope=col>name1</th><th scope=col>name2</th><th scope=col>seed</th></tr>\n",
       "\t<tr><th scope=col>&lt;chr&gt;</th><th scope=col>&lt;chr&gt;</th><th scope=col>&lt;dbl&gt;</th></tr>\n",
       "</thead>\n",
       "<tbody>\n",
       "\t<tr><td>Acer     </td><td>platanoides  </td><td>32.0</td></tr>\n",
       "\t<tr><td>Lamium   </td><td>album        </td><td>12.0</td></tr>\n",
       "\t<tr><td>Ajuga    </td><td>reptans      </td><td> 4.0</td></tr>\n",
       "\t<tr><td>Chamerion</td><td>angustifolium</td><td> 1.5</td></tr>\n",
       "\t<tr><td>Conyza   </td><td>bilbaoana    </td><td> 0.5</td></tr>\n",
       "\t<tr><td>Brassica </td><td>napus        </td><td> 7.0</td></tr>\n",
       "\t<tr><td>Acer     </td><td>palmatum     </td><td>21.0</td></tr>\n",
       "\t<tr><td>Conyza   </td><td>sumatrensis  </td><td> 0.6</td></tr>\n",
       "</tbody>\n",
       "</table>\n"
      ],
      "text/latex": [
       "A data.frame: 8 × 3\n",
       "\\begin{tabular}{lll}\n",
       " name1 & name2 & seed\\\\\n",
       " <chr> & <chr> & <dbl>\\\\\n",
       "\\hline\n",
       "\t Acer      & platanoides   & 32.0\\\\\n",
       "\t Lamium    & album         & 12.0\\\\\n",
       "\t Ajuga     & reptans       &  4.0\\\\\n",
       "\t Chamerion & angustifolium &  1.5\\\\\n",
       "\t Conyza    & bilbaoana     &  0.5\\\\\n",
       "\t Brassica  & napus         &  7.0\\\\\n",
       "\t Acer      & palmatum      & 21.0\\\\\n",
       "\t Conyza    & sumatrensis   &  0.6\\\\\n",
       "\\end{tabular}\n"
      ],
      "text/markdown": [
       "\n",
       "A data.frame: 8 × 3\n",
       "\n",
       "| name1 &lt;chr&gt; | name2 &lt;chr&gt; | seed &lt;dbl&gt; |\n",
       "|---|---|---|\n",
       "| Acer      | platanoides   | 32.0 |\n",
       "| Lamium    | album         | 12.0 |\n",
       "| Ajuga     | reptans       |  4.0 |\n",
       "| Chamerion | angustifolium |  1.5 |\n",
       "| Conyza    | bilbaoana     |  0.5 |\n",
       "| Brassica  | napus         |  7.0 |\n",
       "| Acer      | palmatum      | 21.0 |\n",
       "| Conyza    | sumatrensis   |  0.6 |\n",
       "\n"
      ],
      "text/plain": [
       "  name1     name2         seed\n",
       "1 Acer      platanoides   32.0\n",
       "2 Lamium    album         12.0\n",
       "3 Ajuga     reptans        4.0\n",
       "4 Chamerion angustifolium  1.5\n",
       "5 Conyza    bilbaoana      0.5\n",
       "6 Brassica  napus          7.0\n",
       "7 Acer      palmatum      21.0\n",
       "8 Conyza    sumatrensis    0.6"
      ]
     },
     "metadata": {},
     "output_type": "display_data"
    }
   ],
   "source": [
    "url3 <- \"http://www.bio.ic.ac.uk/research/mjcraw/therbook/data/seedwts.txt\"\n",
    "(df3 <- read.table(url3, header=TRUE))"
   ]
  },
  {
   "cell_type": "code",
   "execution_count": 172,
   "id": "46ba0f4d-e834-4cf0-b348-55b09032e9af",
   "metadata": {},
   "outputs": [
    {
     "data": {
      "text/html": [
       "<table class=\"dataframe\">\n",
       "<caption>A data.frame: 8 × 5</caption>\n",
       "<thead>\n",
       "\t<tr><th scope=col>Genus</th><th scope=col>species</th><th scope=col>lifeform</th><th scope=col>flowering</th><th scope=col>seed</th></tr>\n",
       "\t<tr><th scope=col>&lt;chr&gt;</th><th scope=col>&lt;chr&gt;</th><th scope=col>&lt;chr&gt;</th><th scope=col>&lt;chr&gt;</th><th scope=col>&lt;dbl&gt;</th></tr>\n",
       "</thead>\n",
       "<tbody>\n",
       "\t<tr><td>Acer     </td><td>palmatum     </td><td>tree  </td><td>NA     </td><td>21.0</td></tr>\n",
       "\t<tr><td>Acer     </td><td>platanoides  </td><td>tree  </td><td>May    </td><td>32.0</td></tr>\n",
       "\t<tr><td>Ajuga    </td><td>reptans      </td><td>herb  </td><td>June   </td><td> 4.0</td></tr>\n",
       "\t<tr><td>Brassica </td><td>napus        </td><td>NA    </td><td>April  </td><td> 7.0</td></tr>\n",
       "\t<tr><td>Chamerion</td><td>angustifolium</td><td>NA    </td><td>July   </td><td> 1.5</td></tr>\n",
       "\t<tr><td>Conyza   </td><td>bilbaoana    </td><td>NA    </td><td>August </td><td> 0.5</td></tr>\n",
       "\t<tr><td>Conyza   </td><td>sumatrensis  </td><td>annual</td><td>NA     </td><td> 0.6</td></tr>\n",
       "\t<tr><td>Lamium   </td><td>album        </td><td>herb  </td><td>January</td><td>12.0</td></tr>\n",
       "</tbody>\n",
       "</table>\n"
      ],
      "text/latex": [
       "A data.frame: 8 × 5\n",
       "\\begin{tabular}{lllll}\n",
       " Genus & species & lifeform & flowering & seed\\\\\n",
       " <chr> & <chr> & <chr> & <chr> & <dbl>\\\\\n",
       "\\hline\n",
       "\t Acer      & palmatum      & tree   & NA      & 21.0\\\\\n",
       "\t Acer      & platanoides   & tree   & May     & 32.0\\\\\n",
       "\t Ajuga     & reptans       & herb   & June    &  4.0\\\\\n",
       "\t Brassica  & napus         & NA     & April   &  7.0\\\\\n",
       "\t Chamerion & angustifolium & NA     & July    &  1.5\\\\\n",
       "\t Conyza    & bilbaoana     & NA     & August  &  0.5\\\\\n",
       "\t Conyza    & sumatrensis   & annual & NA      &  0.6\\\\\n",
       "\t Lamium    & album         & herb   & January & 12.0\\\\\n",
       "\\end{tabular}\n"
      ],
      "text/markdown": [
       "\n",
       "A data.frame: 8 × 5\n",
       "\n",
       "| Genus &lt;chr&gt; | species &lt;chr&gt; | lifeform &lt;chr&gt; | flowering &lt;chr&gt; | seed &lt;dbl&gt; |\n",
       "|---|---|---|---|---|\n",
       "| Acer      | palmatum      | tree   | NA      | 21.0 |\n",
       "| Acer      | platanoides   | tree   | May     | 32.0 |\n",
       "| Ajuga     | reptans       | herb   | June    |  4.0 |\n",
       "| Brassica  | napus         | NA     | April   |  7.0 |\n",
       "| Chamerion | angustifolium | NA     | July    |  1.5 |\n",
       "| Conyza    | bilbaoana     | NA     | August  |  0.5 |\n",
       "| Conyza    | sumatrensis   | annual | NA      |  0.6 |\n",
       "| Lamium    | album         | herb   | January | 12.0 |\n",
       "\n"
      ],
      "text/plain": [
       "  Genus     species       lifeform flowering seed\n",
       "1 Acer      palmatum      tree     NA        21.0\n",
       "2 Acer      platanoides   tree     May       32.0\n",
       "3 Ajuga     reptans       herb     June       4.0\n",
       "4 Brassica  napus         NA       April      7.0\n",
       "5 Chamerion angustifolium NA       July       1.5\n",
       "6 Conyza    bilbaoana     NA       August     0.5\n",
       "7 Conyza    sumatrensis   annual   NA         0.6\n",
       "8 Lamium    album         herb     January   12.0"
      ]
     },
     "metadata": {},
     "output_type": "display_data"
    }
   ],
   "source": [
    "merge(both, df3, by.x=c('Genus', 'species'), by.y=c('name1', 'name2'))"
   ]
  },
  {
   "cell_type": "markdown",
   "id": "9af01a05-2bb6-452f-b832-bbd8d1b3d950",
   "metadata": {},
   "source": [
    "### 데이터프레임에 행 또는 열 추가"
   ]
  },
  {
   "cell_type": "code",
   "execution_count": 173,
   "id": "e0a8575d-55f4-4d4e-95b7-8e1567280e71",
   "metadata": {},
   "outputs": [],
   "source": [
    "url <- \"http://www.bio.ic.ac.uk/research/mjcraw/therbook/data/sales.txt\""
   ]
  },
  {
   "cell_type": "code",
   "execution_count": 175,
   "id": "d9ea91af-fdbe-4f2a-b058-f6d175f562e9",
   "metadata": {},
   "outputs": [
    {
     "data": {
      "text/html": [
       "<table class=\"dataframe\">\n",
       "<caption>A data.frame: 5 × 5</caption>\n",
       "<thead>\n",
       "\t<tr><th scope=col>name</th><th scope=col>spring</th><th scope=col>summer</th><th scope=col>autumn</th><th scope=col>winter</th></tr>\n",
       "\t<tr><th scope=col>&lt;chr&gt;</th><th scope=col>&lt;int&gt;</th><th scope=col>&lt;int&gt;</th><th scope=col>&lt;int&gt;</th><th scope=col>&lt;int&gt;</th></tr>\n",
       "</thead>\n",
       "<tbody>\n",
       "\t<tr><td>Jane.Smith     </td><td>14</td><td>18</td><td>11</td><td>12</td></tr>\n",
       "\t<tr><td>Robert.Jones   </td><td>17</td><td>18</td><td>10</td><td>13</td></tr>\n",
       "\t<tr><td>Dick.Rogers    </td><td>12</td><td>16</td><td> 9</td><td>14</td></tr>\n",
       "\t<tr><td>William.Edwards</td><td>15</td><td>14</td><td>11</td><td>10</td></tr>\n",
       "\t<tr><td>Janet.Jones    </td><td>11</td><td>17</td><td>11</td><td>16</td></tr>\n",
       "</tbody>\n",
       "</table>\n"
      ],
      "text/latex": [
       "A data.frame: 5 × 5\n",
       "\\begin{tabular}{lllll}\n",
       " name & spring & summer & autumn & winter\\\\\n",
       " <chr> & <int> & <int> & <int> & <int>\\\\\n",
       "\\hline\n",
       "\t Jane.Smith      & 14 & 18 & 11 & 12\\\\\n",
       "\t Robert.Jones    & 17 & 18 & 10 & 13\\\\\n",
       "\t Dick.Rogers     & 12 & 16 &  9 & 14\\\\\n",
       "\t William.Edwards & 15 & 14 & 11 & 10\\\\\n",
       "\t Janet.Jones     & 11 & 17 & 11 & 16\\\\\n",
       "\\end{tabular}\n"
      ],
      "text/markdown": [
       "\n",
       "A data.frame: 5 × 5\n",
       "\n",
       "| name &lt;chr&gt; | spring &lt;int&gt; | summer &lt;int&gt; | autumn &lt;int&gt; | winter &lt;int&gt; |\n",
       "|---|---|---|---|---|\n",
       "| Jane.Smith      | 14 | 18 | 11 | 12 |\n",
       "| Robert.Jones    | 17 | 18 | 10 | 13 |\n",
       "| Dick.Rogers     | 12 | 16 |  9 | 14 |\n",
       "| William.Edwards | 15 | 14 | 11 | 10 |\n",
       "| Janet.Jones     | 11 | 17 | 11 | 16 |\n",
       "\n"
      ],
      "text/plain": [
       "  name            spring summer autumn winter\n",
       "1 Jane.Smith      14     18     11     12    \n",
       "2 Robert.Jones    17     18     10     13    \n",
       "3 Dick.Rogers     12     16      9     14    \n",
       "4 William.Edwards 15     14     11     10    \n",
       "5 Janet.Jones     11     17     11     16    "
      ]
     },
     "metadata": {},
     "output_type": "display_data"
    }
   ],
   "source": [
    "(sales <- read.table(url, header=TRUE))"
   ]
  },
  {
   "cell_type": "code",
   "execution_count": 180,
   "id": "8eef37f0-ed33-40ac-8393-7bfd05a9c054",
   "metadata": {},
   "outputs": [
    {
     "data": {
      "text/html": [
       "<style>\n",
       ".list-inline {list-style: none; margin:0; padding: 0}\n",
       ".list-inline>li {display: inline-block}\n",
       ".list-inline>li:not(:last-child)::after {content: \"\\00b7\"; padding: 0 .5ex}\n",
       "</style>\n",
       "<ol class=list-inline><li>13.75</li><li>14.5</li><li>12.75</li><li>12.5</li><li>13.75</li></ol>\n"
      ],
      "text/latex": [
       "\\begin{enumerate*}\n",
       "\\item 13.75\n",
       "\\item 14.5\n",
       "\\item 12.75\n",
       "\\item 12.5\n",
       "\\item 13.75\n",
       "\\end{enumerate*}\n"
      ],
      "text/markdown": [
       "1. 13.75\n",
       "2. 14.5\n",
       "3. 12.75\n",
       "4. 12.5\n",
       "5. 13.75\n",
       "\n",
       "\n"
      ],
      "text/plain": [
       "[1] 13.75 14.50 12.75 12.50 13.75"
      ]
     },
     "metadata": {},
     "output_type": "display_data"
    }
   ],
   "source": [
    "people_mean = rowMeans(sales[, 2:5])\n",
    "people_mean"
   ]
  },
  {
   "cell_type": "code",
   "execution_count": 181,
   "id": "ccfddbe6-70c5-4a9b-bdef-b61331fa0615",
   "metadata": {},
   "outputs": [
    {
     "data": {
      "text/html": [
       "13.45"
      ],
      "text/latex": [
       "13.45"
      ],
      "text/markdown": [
       "13.45"
      ],
      "text/plain": [
       "[1] 13.45"
      ]
     },
     "metadata": {},
     "output_type": "display_data"
    }
   ],
   "source": [
    "mean(people_mean)"
   ]
  },
  {
   "cell_type": "code",
   "execution_count": 182,
   "id": "002c5cc7-f79e-4a27-89db-ad22e6031457",
   "metadata": {},
   "outputs": [
    {
     "data": {
      "text/html": [
       "13.45"
      ],
      "text/latex": [
       "13.45"
      ],
      "text/markdown": [
       "13.45"
      ],
      "text/plain": [
       "[1] 13.45"
      ]
     },
     "metadata": {},
     "output_type": "display_data"
    }
   ],
   "source": [
    "mean(unlist(sales[ , 2:5]))"
   ]
  },
  {
   "cell_type": "code",
   "execution_count": 195,
   "id": "de153348-2585-4e6c-a853-5d90d7a995ec",
   "metadata": {},
   "outputs": [],
   "source": [
    "diff_mean <- people_mean - mean(people_mean)"
   ]
  },
  {
   "cell_type": "code",
   "execution_count": 196,
   "id": "c0545677-ac33-4291-9ec5-7175706c9f11",
   "metadata": {},
   "outputs": [
    {
     "data": {
      "text/html": [
       "<style>\n",
       ".list-inline {list-style: none; margin:0; padding: 0}\n",
       ".list-inline>li {display: inline-block}\n",
       ".list-inline>li:not(:last-child)::after {content: \"\\00b7\"; padding: 0 .5ex}\n",
       "</style>\n",
       "<ol class=list-inline><li>0.300000000000001</li><li>1.05</li><li>-0.699999999999999</li><li>-0.949999999999999</li><li>0.300000000000001</li></ol>\n"
      ],
      "text/latex": [
       "\\begin{enumerate*}\n",
       "\\item 0.300000000000001\n",
       "\\item 1.05\n",
       "\\item -0.699999999999999\n",
       "\\item -0.949999999999999\n",
       "\\item 0.300000000000001\n",
       "\\end{enumerate*}\n"
      ],
      "text/markdown": [
       "1. 0.300000000000001\n",
       "2. 1.05\n",
       "3. -0.699999999999999\n",
       "4. -0.949999999999999\n",
       "5. 0.300000000000001\n",
       "\n",
       "\n"
      ],
      "text/plain": [
       "[1]  0.30  1.05 -0.70 -0.95  0.30"
      ]
     },
     "metadata": {},
     "output_type": "display_data"
    }
   ],
   "source": [
    "diff_mean"
   ]
  },
  {
   "cell_type": "code",
   "execution_count": 197,
   "id": "0fc3bbef-ea45-4b6d-bbe0-af2a602fa04d",
   "metadata": {},
   "outputs": [
    {
     "data": {
      "text/html": [
       "<table class=\"dataframe\">\n",
       "<caption>A data.frame: 5 × 6</caption>\n",
       "<thead>\n",
       "\t<tr><th scope=col>name</th><th scope=col>spring</th><th scope=col>summer</th><th scope=col>autumn</th><th scope=col>winter</th><th scope=col>diff_mean</th></tr>\n",
       "\t<tr><th scope=col>&lt;chr&gt;</th><th scope=col>&lt;int&gt;</th><th scope=col>&lt;int&gt;</th><th scope=col>&lt;int&gt;</th><th scope=col>&lt;int&gt;</th><th scope=col>&lt;dbl&gt;</th></tr>\n",
       "</thead>\n",
       "<tbody>\n",
       "\t<tr><td>Jane.Smith     </td><td>14</td><td>18</td><td>11</td><td>12</td><td> 0.30</td></tr>\n",
       "\t<tr><td>Robert.Jones   </td><td>17</td><td>18</td><td>10</td><td>13</td><td> 1.05</td></tr>\n",
       "\t<tr><td>Dick.Rogers    </td><td>12</td><td>16</td><td> 9</td><td>14</td><td>-0.70</td></tr>\n",
       "\t<tr><td>William.Edwards</td><td>15</td><td>14</td><td>11</td><td>10</td><td>-0.95</td></tr>\n",
       "\t<tr><td>Janet.Jones    </td><td>11</td><td>17</td><td>11</td><td>16</td><td> 0.30</td></tr>\n",
       "</tbody>\n",
       "</table>\n"
      ],
      "text/latex": [
       "A data.frame: 5 × 6\n",
       "\\begin{tabular}{llllll}\n",
       " name & spring & summer & autumn & winter & diff\\_mean\\\\\n",
       " <chr> & <int> & <int> & <int> & <int> & <dbl>\\\\\n",
       "\\hline\n",
       "\t Jane.Smith      & 14 & 18 & 11 & 12 &  0.30\\\\\n",
       "\t Robert.Jones    & 17 & 18 & 10 & 13 &  1.05\\\\\n",
       "\t Dick.Rogers     & 12 & 16 &  9 & 14 & -0.70\\\\\n",
       "\t William.Edwards & 15 & 14 & 11 & 10 & -0.95\\\\\n",
       "\t Janet.Jones     & 11 & 17 & 11 & 16 &  0.30\\\\\n",
       "\\end{tabular}\n"
      ],
      "text/markdown": [
       "\n",
       "A data.frame: 5 × 6\n",
       "\n",
       "| name &lt;chr&gt; | spring &lt;int&gt; | summer &lt;int&gt; | autumn &lt;int&gt; | winter &lt;int&gt; | diff_mean &lt;dbl&gt; |\n",
       "|---|---|---|---|---|---|\n",
       "| Jane.Smith      | 14 | 18 | 11 | 12 |  0.30 |\n",
       "| Robert.Jones    | 17 | 18 | 10 | 13 |  1.05 |\n",
       "| Dick.Rogers     | 12 | 16 |  9 | 14 | -0.70 |\n",
       "| William.Edwards | 15 | 14 | 11 | 10 | -0.95 |\n",
       "| Janet.Jones     | 11 | 17 | 11 | 16 |  0.30 |\n",
       "\n"
      ],
      "text/plain": [
       "  name            spring summer autumn winter diff_mean\n",
       "1 Jane.Smith      14     18     11     12      0.30    \n",
       "2 Robert.Jones    17     18     10     13      1.05    \n",
       "3 Dick.Rogers     12     16      9     14     -0.70    \n",
       "4 William.Edwards 15     14     11     10     -0.95    \n",
       "5 Janet.Jones     11     17     11     16      0.30    "
      ]
     },
     "metadata": {},
     "output_type": "display_data"
    }
   ],
   "source": [
    "new_sales <- cbind(sales, diff_mean)\n",
    "new_sales"
   ]
  },
  {
   "cell_type": "code",
   "execution_count": 198,
   "id": "48c49b52-4cbd-4b75-892f-5144e5eb8f42",
   "metadata": {},
   "outputs": [],
   "source": [
    "seasons_mean <- colMeans(sales[, 2:5])"
   ]
  },
  {
   "cell_type": "code",
   "execution_count": 199,
   "id": "4a11e163-aae0-4ad7-bf0c-4659c58ee9cd",
   "metadata": {},
   "outputs": [
    {
     "data": {
      "text/html": [
       "<style>\n",
       ".dl-inline {width: auto; margin:0; padding: 0}\n",
       ".dl-inline>dt, .dl-inline>dd {float: none; width: auto; display: inline-block}\n",
       ".dl-inline>dt::after {content: \":\\0020\"; padding-right: .5ex}\n",
       ".dl-inline>dt:not(:first-of-type) {padding-left: .5ex}\n",
       "</style><dl class=dl-inline><dt>spring</dt><dd>13.8</dd><dt>summer</dt><dd>16.6</dd><dt>autumn</dt><dd>10.4</dd><dt>winter</dt><dd>13</dd></dl>\n"
      ],
      "text/latex": [
       "\\begin{description*}\n",
       "\\item[spring] 13.8\n",
       "\\item[summer] 16.6\n",
       "\\item[autumn] 10.4\n",
       "\\item[winter] 13\n",
       "\\end{description*}\n"
      ],
      "text/markdown": [
       "spring\n",
       ":   13.8summer\n",
       ":   16.6autumn\n",
       ":   10.4winter\n",
       ":   13\n",
       "\n"
      ],
      "text/plain": [
       "spring summer autumn winter \n",
       "  13.8   16.6   10.4   13.0 "
      ]
     },
     "metadata": {},
     "output_type": "display_data"
    }
   ],
   "source": [
    "seasons_mean"
   ]
  },
  {
   "cell_type": "code",
   "execution_count": 200,
   "id": "3b836541-fb1e-476e-800e-78c054ed275b",
   "metadata": {},
   "outputs": [
    {
     "data": {
      "text/html": [
       "<style>\n",
       ".dl-inline {width: auto; margin:0; padding: 0}\n",
       ".dl-inline>dt, .dl-inline>dd {float: none; width: auto; display: inline-block}\n",
       ".dl-inline>dt::after {content: \":\\0020\"; padding-right: .5ex}\n",
       ".dl-inline>dt:not(:first-of-type) {padding-left: .5ex}\n",
       "</style><dl class=dl-inline><dt>spring</dt><dd>0.35</dd><dt>summer</dt><dd>3.15</dd><dt>autumn</dt><dd>-3.05</dd><dt>winter</dt><dd>-0.450000000000001</dd></dl>\n"
      ],
      "text/latex": [
       "\\begin{description*}\n",
       "\\item[spring] 0.35\n",
       "\\item[summer] 3.15\n",
       "\\item[autumn] -3.05\n",
       "\\item[winter] -0.450000000000001\n",
       "\\end{description*}\n"
      ],
      "text/markdown": [
       "spring\n",
       ":   0.35summer\n",
       ":   3.15autumn\n",
       ":   -3.05winter\n",
       ":   -0.450000000000001\n",
       "\n"
      ],
      "text/plain": [
       "spring summer autumn winter \n",
       "  0.35   3.15  -3.05  -0.45 "
      ]
     },
     "metadata": {},
     "output_type": "display_data"
    }
   ],
   "source": [
    "(seasons <- seasons_mean - mean(seasons_mean))"
   ]
  },
  {
   "cell_type": "code",
   "execution_count": 210,
   "id": "7fffb879-4739-4f1d-91a5-5d8c94890627",
   "metadata": {},
   "outputs": [
    {
     "data": {
      "text/html": [
       "<style>\n",
       ".dl-inline {width: auto; margin:0; padding: 0}\n",
       ".dl-inline>dt, .dl-inline>dd {float: none; width: auto; display: inline-block}\n",
       ".dl-inline>dt::after {content: \":\\0020\"; padding-right: .5ex}\n",
       ".dl-inline>dt:not(:first-of-type) {padding-left: .5ex}\n",
       "</style><dl class=dl-inline><dt>spring</dt><dd>0.35</dd><dt>summer</dt><dd>3.15</dd><dt>autumn</dt><dd>-3.05</dd><dt>winter</dt><dd>-0.450000000000001</dd></dl>\n"
      ],
      "text/latex": [
       "\\begin{description*}\n",
       "\\item[spring] 0.35\n",
       "\\item[summer] 3.15\n",
       "\\item[autumn] -3.05\n",
       "\\item[winter] -0.450000000000001\n",
       "\\end{description*}\n"
      ],
      "text/markdown": [
       "spring\n",
       ":   0.35summer\n",
       ":   3.15autumn\n",
       ":   -3.05winter\n",
       ":   -0.450000000000001\n",
       "\n"
      ],
      "text/plain": [
       "spring summer autumn winter \n",
       "  0.35   3.15  -3.05  -0.45 "
      ]
     },
     "metadata": {},
     "output_type": "display_data"
    }
   ],
   "source": [
    "seasons "
   ]
  },
  {
   "cell_type": "code",
   "execution_count": 203,
   "id": "17285173-14a3-4eb7-92e4-bf168078fd2d",
   "metadata": {},
   "outputs": [],
   "source": [
    "new_row <- new_sales[1,]"
   ]
  },
  {
   "cell_type": "code",
   "execution_count": 205,
   "id": "b4209c48-4aa3-419b-9aab-4b77d3f7cd76",
   "metadata": {},
   "outputs": [],
   "source": [
    "new_row[1] <- 'seasonal effects'"
   ]
  },
  {
   "cell_type": "code",
   "execution_count": 206,
   "id": "cf1c3bdf-4d3c-4e41-a729-ef653282c879",
   "metadata": {},
   "outputs": [
    {
     "data": {
      "text/html": [
       "<table class=\"dataframe\">\n",
       "<caption>A data.frame: 1 × 6</caption>\n",
       "<thead>\n",
       "\t<tr><th></th><th scope=col>name</th><th scope=col>spring</th><th scope=col>summer</th><th scope=col>autumn</th><th scope=col>winter</th><th scope=col>diff_mean</th></tr>\n",
       "\t<tr><th></th><th scope=col>&lt;chr&gt;</th><th scope=col>&lt;int&gt;</th><th scope=col>&lt;int&gt;</th><th scope=col>&lt;int&gt;</th><th scope=col>&lt;int&gt;</th><th scope=col>&lt;dbl&gt;</th></tr>\n",
       "</thead>\n",
       "<tbody>\n",
       "\t<tr><th scope=row>1</th><td>seasonal effects</td><td>14</td><td>18</td><td>11</td><td>12</td><td>0.3</td></tr>\n",
       "</tbody>\n",
       "</table>\n"
      ],
      "text/latex": [
       "A data.frame: 1 × 6\n",
       "\\begin{tabular}{r|llllll}\n",
       "  & name & spring & summer & autumn & winter & diff\\_mean\\\\\n",
       "  & <chr> & <int> & <int> & <int> & <int> & <dbl>\\\\\n",
       "\\hline\n",
       "\t1 & seasonal effects & 14 & 18 & 11 & 12 & 0.3\\\\\n",
       "\\end{tabular}\n"
      ],
      "text/markdown": [
       "\n",
       "A data.frame: 1 × 6\n",
       "\n",
       "| <!--/--> | name &lt;chr&gt; | spring &lt;int&gt; | summer &lt;int&gt; | autumn &lt;int&gt; | winter &lt;int&gt; | diff_mean &lt;dbl&gt; |\n",
       "|---|---|---|---|---|---|---|\n",
       "| 1 | seasonal effects | 14 | 18 | 11 | 12 | 0.3 |\n",
       "\n"
      ],
      "text/plain": [
       "  name             spring summer autumn winter diff_mean\n",
       "1 seasonal effects 14     18     11     12     0.3      "
      ]
     },
     "metadata": {},
     "output_type": "display_data"
    }
   ],
   "source": [
    "new_row"
   ]
  },
  {
   "cell_type": "code",
   "execution_count": 207,
   "id": "a28b0295-41e5-4a67-be0e-0bf4e447d743",
   "metadata": {},
   "outputs": [],
   "source": [
    "new_row[2:5] <- seasons"
   ]
  },
  {
   "cell_type": "code",
   "execution_count": 211,
   "id": "c25a5cad-140e-4837-9938-9518712d6fff",
   "metadata": {},
   "outputs": [
    {
     "data": {
      "text/html": [
       "<table class=\"dataframe\">\n",
       "<caption>A data.frame: 1 × 6</caption>\n",
       "<thead>\n",
       "\t<tr><th></th><th scope=col>name</th><th scope=col>spring</th><th scope=col>summer</th><th scope=col>autumn</th><th scope=col>winter</th><th scope=col>diff_mean</th></tr>\n",
       "\t<tr><th></th><th scope=col>&lt;chr&gt;</th><th scope=col>&lt;dbl&gt;</th><th scope=col>&lt;dbl&gt;</th><th scope=col>&lt;dbl&gt;</th><th scope=col>&lt;dbl&gt;</th><th scope=col>&lt;dbl&gt;</th></tr>\n",
       "</thead>\n",
       "<tbody>\n",
       "\t<tr><th scope=row>1</th><td>seasonal effects</td><td>0.35</td><td>3.15</td><td>-3.05</td><td>-0.45</td><td>0</td></tr>\n",
       "</tbody>\n",
       "</table>\n"
      ],
      "text/latex": [
       "A data.frame: 1 × 6\n",
       "\\begin{tabular}{r|llllll}\n",
       "  & name & spring & summer & autumn & winter & diff\\_mean\\\\\n",
       "  & <chr> & <dbl> & <dbl> & <dbl> & <dbl> & <dbl>\\\\\n",
       "\\hline\n",
       "\t1 & seasonal effects & 0.35 & 3.15 & -3.05 & -0.45 & 0\\\\\n",
       "\\end{tabular}\n"
      ],
      "text/markdown": [
       "\n",
       "A data.frame: 1 × 6\n",
       "\n",
       "| <!--/--> | name &lt;chr&gt; | spring &lt;dbl&gt; | summer &lt;dbl&gt; | autumn &lt;dbl&gt; | winter &lt;dbl&gt; | diff_mean &lt;dbl&gt; |\n",
       "|---|---|---|---|---|---|---|\n",
       "| 1 | seasonal effects | 0.35 | 3.15 | -3.05 | -0.45 | 0 |\n",
       "\n"
      ],
      "text/plain": [
       "  name             spring summer autumn winter diff_mean\n",
       "1 seasonal effects 0.35   3.15   -3.05  -0.45  0        "
      ]
     },
     "metadata": {},
     "output_type": "display_data"
    }
   ],
   "source": [
    "new_row[6] <- 0\n",
    "new_row"
   ]
  },
  {
   "cell_type": "code",
   "execution_count": 212,
   "id": "2bf908bc-b43d-4b71-85d1-6ace776ced6f",
   "metadata": {},
   "outputs": [],
   "source": [
    "new_frame <- rbind(new_sales, new_row)"
   ]
  },
  {
   "cell_type": "code",
   "execution_count": 213,
   "id": "104bf7fd-4a0a-4bfe-9da1-2e17bde0696e",
   "metadata": {},
   "outputs": [
    {
     "data": {
      "text/html": [
       "<table class=\"dataframe\">\n",
       "<caption>A data.frame: 6 × 6</caption>\n",
       "<thead>\n",
       "\t<tr><th scope=col>name</th><th scope=col>spring</th><th scope=col>summer</th><th scope=col>autumn</th><th scope=col>winter</th><th scope=col>diff_mean</th></tr>\n",
       "\t<tr><th scope=col>&lt;chr&gt;</th><th scope=col>&lt;dbl&gt;</th><th scope=col>&lt;dbl&gt;</th><th scope=col>&lt;dbl&gt;</th><th scope=col>&lt;dbl&gt;</th><th scope=col>&lt;dbl&gt;</th></tr>\n",
       "</thead>\n",
       "<tbody>\n",
       "\t<tr><td>Jane.Smith      </td><td>14.00</td><td>18.00</td><td>11.00</td><td>12.00</td><td> 0.30</td></tr>\n",
       "\t<tr><td>Robert.Jones    </td><td>17.00</td><td>18.00</td><td>10.00</td><td>13.00</td><td> 1.05</td></tr>\n",
       "\t<tr><td>Dick.Rogers     </td><td>12.00</td><td>16.00</td><td> 9.00</td><td>14.00</td><td>-0.70</td></tr>\n",
       "\t<tr><td>William.Edwards </td><td>15.00</td><td>14.00</td><td>11.00</td><td>10.00</td><td>-0.95</td></tr>\n",
       "\t<tr><td>Janet.Jones     </td><td>11.00</td><td>17.00</td><td>11.00</td><td>16.00</td><td> 0.30</td></tr>\n",
       "\t<tr><td>seasonal effects</td><td> 0.35</td><td> 3.15</td><td>-3.05</td><td>-0.45</td><td> 0.00</td></tr>\n",
       "</tbody>\n",
       "</table>\n"
      ],
      "text/latex": [
       "A data.frame: 6 × 6\n",
       "\\begin{tabular}{llllll}\n",
       " name & spring & summer & autumn & winter & diff\\_mean\\\\\n",
       " <chr> & <dbl> & <dbl> & <dbl> & <dbl> & <dbl>\\\\\n",
       "\\hline\n",
       "\t Jane.Smith       & 14.00 & 18.00 & 11.00 & 12.00 &  0.30\\\\\n",
       "\t Robert.Jones     & 17.00 & 18.00 & 10.00 & 13.00 &  1.05\\\\\n",
       "\t Dick.Rogers      & 12.00 & 16.00 &  9.00 & 14.00 & -0.70\\\\\n",
       "\t William.Edwards  & 15.00 & 14.00 & 11.00 & 10.00 & -0.95\\\\\n",
       "\t Janet.Jones      & 11.00 & 17.00 & 11.00 & 16.00 &  0.30\\\\\n",
       "\t seasonal effects &  0.35 &  3.15 & -3.05 & -0.45 &  0.00\\\\\n",
       "\\end{tabular}\n"
      ],
      "text/markdown": [
       "\n",
       "A data.frame: 6 × 6\n",
       "\n",
       "| name &lt;chr&gt; | spring &lt;dbl&gt; | summer &lt;dbl&gt; | autumn &lt;dbl&gt; | winter &lt;dbl&gt; | diff_mean &lt;dbl&gt; |\n",
       "|---|---|---|---|---|---|\n",
       "| Jane.Smith       | 14.00 | 18.00 | 11.00 | 12.00 |  0.30 |\n",
       "| Robert.Jones     | 17.00 | 18.00 | 10.00 | 13.00 |  1.05 |\n",
       "| Dick.Rogers      | 12.00 | 16.00 |  9.00 | 14.00 | -0.70 |\n",
       "| William.Edwards  | 15.00 | 14.00 | 11.00 | 10.00 | -0.95 |\n",
       "| Janet.Jones      | 11.00 | 17.00 | 11.00 | 16.00 |  0.30 |\n",
       "| seasonal effects |  0.35 |  3.15 | -3.05 | -0.45 |  0.00 |\n",
       "\n"
      ],
      "text/plain": [
       "  name             spring summer autumn winter diff_mean\n",
       "1 Jane.Smith       14.00  18.00  11.00  12.00   0.30    \n",
       "2 Robert.Jones     17.00  18.00  10.00  13.00   1.05    \n",
       "3 Dick.Rogers      12.00  16.00   9.00  14.00  -0.70    \n",
       "4 William.Edwards  15.00  14.00  11.00  10.00  -0.95    \n",
       "5 Janet.Jones      11.00  17.00  11.00  16.00   0.30    \n",
       "6 seasonal effects  0.35   3.15  -3.05  -0.45   0.00    "
      ]
     },
     "metadata": {},
     "output_type": "display_data"
    }
   ],
   "source": [
    "new_frame"
   ]
  },
  {
   "cell_type": "code",
   "execution_count": 214,
   "id": "2cbe9a9e-d931-47f4-9014-ba6e57749b5f",
   "metadata": {},
   "outputs": [
    {
     "data": {
      "text/html": [
       "13.45"
      ],
      "text/latex": [
       "13.45"
      ],
      "text/markdown": [
       "13.45"
      ],
      "text/plain": [
       "[1] 13.45"
      ]
     },
     "metadata": {},
     "output_type": "display_data"
    }
   ],
   "source": [
    "gm <- mean(unlist(new_frame[1:5, 2:5]))\n",
    "gm"
   ]
  },
  {
   "cell_type": "code",
   "execution_count": 217,
   "id": "0451f9c2-3a02-4cf9-8b42-a130ae92d07d",
   "metadata": {},
   "outputs": [],
   "source": [
    "gm <- rep(gm, 4)"
   ]
  },
  {
   "cell_type": "code",
   "execution_count": 216,
   "id": "dbc7c78e-467f-405c-ab96-fc03c82c9263",
   "metadata": {},
   "outputs": [
    {
     "data": {
      "text/html": [
       "<style>\n",
       ".list-inline {list-style: none; margin:0; padding: 0}\n",
       ".list-inline>li {display: inline-block}\n",
       ".list-inline>li:not(:last-child)::after {content: \"\\00b7\"; padding: 0 .5ex}\n",
       "</style>\n",
       "<ol class=list-inline><li>13.45</li><li>13.45</li><li>13.45</li><li>13.45</li><li>13.45</li></ol>\n"
      ],
      "text/latex": [
       "\\begin{enumerate*}\n",
       "\\item 13.45\n",
       "\\item 13.45\n",
       "\\item 13.45\n",
       "\\item 13.45\n",
       "\\item 13.45\n",
       "\\end{enumerate*}\n"
      ],
      "text/markdown": [
       "1. 13.45\n",
       "2. 13.45\n",
       "3. 13.45\n",
       "4. 13.45\n",
       "5. 13.45\n",
       "\n",
       "\n"
      ],
      "text/plain": [
       "[1] 13.45 13.45 13.45 13.45 13.45"
      ]
     },
     "metadata": {},
     "output_type": "display_data"
    }
   ],
   "source": [
    "gm"
   ]
  },
  {
   "cell_type": "code",
   "execution_count": 243,
   "id": "d52ec543-a38e-4f22-9520-18cded7fd39e",
   "metadata": {},
   "outputs": [
    {
     "name": "stderr",
     "output_type": "stream",
     "text": [
      "Warning message in sweep(new_frame[1:5, 2:5], 2, gm, \"-\"):\n",
      "\"STATS is longer than the extent of 'dim(x)[MARGIN]'\"\n"
     ]
    }
   ],
   "source": [
    "new_grame[1:5, 2:5] = sweep(new_frame[1:5, 2:5], 2, gm, '-')"
   ]
  },
  {
   "cell_type": "code",
   "execution_count": 244,
   "id": "58f652fc-0792-4dcc-a60e-612363c752e0",
   "metadata": {},
   "outputs": [],
   "source": [
    "new_frame[6,6] <- gm[1]"
   ]
  },
  {
   "cell_type": "code",
   "execution_count": 245,
   "id": "bee35bc8-3173-4b2c-b941-2699fa535c45",
   "metadata": {},
   "outputs": [
    {
     "data": {
      "text/html": [
       "<table class=\"dataframe\">\n",
       "<caption>A data.frame: 6 × 6</caption>\n",
       "<thead>\n",
       "\t<tr><th scope=col>name</th><th scope=col>spring</th><th scope=col>summer</th><th scope=col>autumn</th><th scope=col>winter</th><th scope=col>diff_mean</th></tr>\n",
       "\t<tr><th scope=col>&lt;chr&gt;</th><th scope=col>&lt;dbl&gt;</th><th scope=col>&lt;dbl&gt;</th><th scope=col>&lt;dbl&gt;</th><th scope=col>&lt;dbl&gt;</th><th scope=col>&lt;dbl&gt;</th></tr>\n",
       "</thead>\n",
       "<tbody>\n",
       "\t<tr><td>Jane.Smith      </td><td> 0.55</td><td>4.55</td><td>-2.45</td><td>-1.45</td><td> 0.30</td></tr>\n",
       "\t<tr><td>Robert.Jones    </td><td> 3.55</td><td>4.55</td><td>-3.45</td><td>-0.45</td><td> 1.05</td></tr>\n",
       "\t<tr><td>Dick.Rogers     </td><td>-1.45</td><td>2.55</td><td>-4.45</td><td> 0.55</td><td>-0.70</td></tr>\n",
       "\t<tr><td>William.Edwards </td><td> 1.55</td><td>0.55</td><td>-2.45</td><td>-3.45</td><td>-0.95</td></tr>\n",
       "\t<tr><td>Janet.Jones     </td><td>-2.45</td><td>3.55</td><td>-2.45</td><td> 2.55</td><td> 0.30</td></tr>\n",
       "\t<tr><td>seasonal effects</td><td> 0.35</td><td>3.15</td><td>-3.05</td><td>-0.45</td><td>13.45</td></tr>\n",
       "</tbody>\n",
       "</table>\n"
      ],
      "text/latex": [
       "A data.frame: 6 × 6\n",
       "\\begin{tabular}{llllll}\n",
       " name & spring & summer & autumn & winter & diff\\_mean\\\\\n",
       " <chr> & <dbl> & <dbl> & <dbl> & <dbl> & <dbl>\\\\\n",
       "\\hline\n",
       "\t Jane.Smith       &  0.55 & 4.55 & -2.45 & -1.45 &  0.30\\\\\n",
       "\t Robert.Jones     &  3.55 & 4.55 & -3.45 & -0.45 &  1.05\\\\\n",
       "\t Dick.Rogers      & -1.45 & 2.55 & -4.45 &  0.55 & -0.70\\\\\n",
       "\t William.Edwards  &  1.55 & 0.55 & -2.45 & -3.45 & -0.95\\\\\n",
       "\t Janet.Jones      & -2.45 & 3.55 & -2.45 &  2.55 &  0.30\\\\\n",
       "\t seasonal effects &  0.35 & 3.15 & -3.05 & -0.45 & 13.45\\\\\n",
       "\\end{tabular}\n"
      ],
      "text/markdown": [
       "\n",
       "A data.frame: 6 × 6\n",
       "\n",
       "| name &lt;chr&gt; | spring &lt;dbl&gt; | summer &lt;dbl&gt; | autumn &lt;dbl&gt; | winter &lt;dbl&gt; | diff_mean &lt;dbl&gt; |\n",
       "|---|---|---|---|---|---|\n",
       "| Jane.Smith       |  0.55 | 4.55 | -2.45 | -1.45 |  0.30 |\n",
       "| Robert.Jones     |  3.55 | 4.55 | -3.45 | -0.45 |  1.05 |\n",
       "| Dick.Rogers      | -1.45 | 2.55 | -4.45 |  0.55 | -0.70 |\n",
       "| William.Edwards  |  1.55 | 0.55 | -2.45 | -3.45 | -0.95 |\n",
       "| Janet.Jones      | -2.45 | 3.55 | -2.45 |  2.55 |  0.30 |\n",
       "| seasonal effects |  0.35 | 3.15 | -3.05 | -0.45 | 13.45 |\n",
       "\n"
      ],
      "text/plain": [
       "  name             spring summer autumn winter diff_mean\n",
       "1 Jane.Smith        0.55  4.55   -2.45  -1.45   0.30    \n",
       "2 Robert.Jones      3.55  4.55   -3.45  -0.45   1.05    \n",
       "3 Dick.Rogers      -1.45  2.55   -4.45   0.55  -0.70    \n",
       "4 William.Edwards   1.55  0.55   -2.45  -3.45  -0.95    \n",
       "5 Janet.Jones      -2.45  3.55   -2.45   2.55   0.30    \n",
       "6 seasonal effects  0.35  3.15   -3.05  -0.45  13.45    "
      ]
     },
     "metadata": {},
     "output_type": "display_data"
    }
   ],
   "source": [
    "new_frame"
   ]
  },
  {
   "cell_type": "code",
   "execution_count": 237,
   "id": "6619e7bc-2dfc-463d-aad8-cb557103fb54",
   "metadata": {},
   "outputs": [
    {
     "name": "stderr",
     "output_type": "stream",
     "text": [
      "Warning message in sweep(new_frame[1:5, 2:5], 2, gm, \"-\"):\n",
      "\"STATS is longer than the extent of 'dim(x)[MARGIN]'\"\n"
     ]
    }
   ],
   "source": [
    "new_frame[1:5, 2:5] <- sweep(new_frame[1:5, 2:5], 2, gm, \"-\")"
   ]
  },
  {
   "cell_type": "markdown",
   "id": "c1fec9b3-e97b-4ddc-a8fa-e3d9616dba12",
   "metadata": {},
   "source": [
    "### 데이터프레임 요약"
   ]
  },
  {
   "cell_type": "code",
   "execution_count": 247,
   "id": "b7b4c510-9862-4a40-a7a2-bd4ddbe3edb5",
   "metadata": {},
   "outputs": [
    {
     "data": {
      "text/html": [
       "<table class=\"dataframe\">\n",
       "<caption>A data.frame: 6 × 7</caption>\n",
       "<thead>\n",
       "\t<tr><th></th><th scope=col>Field.Name</th><th scope=col>Area</th><th scope=col>Slope</th><th scope=col>Vegetation</th><th scope=col>Soil.pH</th><th scope=col>Damp</th><th scope=col>Worm.density</th></tr>\n",
       "\t<tr><th></th><th scope=col>&lt;chr&gt;</th><th scope=col>&lt;dbl&gt;</th><th scope=col>&lt;int&gt;</th><th scope=col>&lt;chr&gt;</th><th scope=col>&lt;dbl&gt;</th><th scope=col>&lt;lgl&gt;</th><th scope=col>&lt;int&gt;</th></tr>\n",
       "</thead>\n",
       "<tbody>\n",
       "\t<tr><th scope=row>1</th><td>Nashs.Field    </td><td>3.6</td><td>11</td><td>Grassland</td><td>4.1</td><td>FALSE</td><td>4</td></tr>\n",
       "\t<tr><th scope=row>2</th><td>Silwood.Bottom </td><td>5.1</td><td> 2</td><td>Arable   </td><td>5.2</td><td>FALSE</td><td>7</td></tr>\n",
       "\t<tr><th scope=row>3</th><td>Nursery.Field  </td><td>2.8</td><td> 3</td><td>Grassland</td><td>4.3</td><td>FALSE</td><td>2</td></tr>\n",
       "\t<tr><th scope=row>4</th><td>Rush.Meadow    </td><td>2.4</td><td> 5</td><td>Meadow   </td><td>4.9</td><td> TRUE</td><td>5</td></tr>\n",
       "\t<tr><th scope=row>5</th><td>Gunness.Thicket</td><td>3.8</td><td> 0</td><td>Scrub    </td><td>4.2</td><td>FALSE</td><td>6</td></tr>\n",
       "\t<tr><th scope=row>6</th><td>Oak.Mead       </td><td>3.1</td><td> 2</td><td>Grassland</td><td>3.9</td><td>FALSE</td><td>2</td></tr>\n",
       "</tbody>\n",
       "</table>\n"
      ],
      "text/latex": [
       "A data.frame: 6 × 7\n",
       "\\begin{tabular}{r|lllllll}\n",
       "  & Field.Name & Area & Slope & Vegetation & Soil.pH & Damp & Worm.density\\\\\n",
       "  & <chr> & <dbl> & <int> & <chr> & <dbl> & <lgl> & <int>\\\\\n",
       "\\hline\n",
       "\t1 & Nashs.Field     & 3.6 & 11 & Grassland & 4.1 & FALSE & 4\\\\\n",
       "\t2 & Silwood.Bottom  & 5.1 &  2 & Arable    & 5.2 & FALSE & 7\\\\\n",
       "\t3 & Nursery.Field   & 2.8 &  3 & Grassland & 4.3 & FALSE & 2\\\\\n",
       "\t4 & Rush.Meadow     & 2.4 &  5 & Meadow    & 4.9 &  TRUE & 5\\\\\n",
       "\t5 & Gunness.Thicket & 3.8 &  0 & Scrub     & 4.2 & FALSE & 6\\\\\n",
       "\t6 & Oak.Mead        & 3.1 &  2 & Grassland & 3.9 & FALSE & 2\\\\\n",
       "\\end{tabular}\n"
      ],
      "text/markdown": [
       "\n",
       "A data.frame: 6 × 7\n",
       "\n",
       "| <!--/--> | Field.Name &lt;chr&gt; | Area &lt;dbl&gt; | Slope &lt;int&gt; | Vegetation &lt;chr&gt; | Soil.pH &lt;dbl&gt; | Damp &lt;lgl&gt; | Worm.density &lt;int&gt; |\n",
       "|---|---|---|---|---|---|---|---|\n",
       "| 1 | Nashs.Field     | 3.6 | 11 | Grassland | 4.1 | FALSE | 4 |\n",
       "| 2 | Silwood.Bottom  | 5.1 |  2 | Arable    | 5.2 | FALSE | 7 |\n",
       "| 3 | Nursery.Field   | 2.8 |  3 | Grassland | 4.3 | FALSE | 2 |\n",
       "| 4 | Rush.Meadow     | 2.4 |  5 | Meadow    | 4.9 |  TRUE | 5 |\n",
       "| 5 | Gunness.Thicket | 3.8 |  0 | Scrub     | 4.2 | FALSE | 6 |\n",
       "| 6 | Oak.Mead        | 3.1 |  2 | Grassland | 3.9 | FALSE | 2 |\n",
       "\n"
      ],
      "text/plain": [
       "  Field.Name      Area Slope Vegetation Soil.pH Damp  Worm.density\n",
       "1 Nashs.Field     3.6  11    Grassland  4.1     FALSE 4           \n",
       "2 Silwood.Bottom  5.1   2    Arable     5.2     FALSE 7           \n",
       "3 Nursery.Field   2.8   3    Grassland  4.3     FALSE 2           \n",
       "4 Rush.Meadow     2.4   5    Meadow     4.9      TRUE 5           \n",
       "5 Gunness.Thicket 3.8   0    Scrub      4.2     FALSE 6           \n",
       "6 Oak.Mead        3.1   2    Grassland  3.9     FALSE 2           "
      ]
     },
     "metadata": {},
     "output_type": "display_data"
    }
   ],
   "source": [
    "url <- \"http://www.bio.ic.ac.uk/research/mjcraw/therbook/data/worms.txt\"\n",
    "(worms <- read.table(url, header=TRUE)) %>% head"
   ]
  },
  {
   "cell_type": "code",
   "execution_count": 249,
   "id": "9e8abd48-97f1-43d8-b96d-01fe9a116316",
   "metadata": {},
   "outputs": [
    {
     "data": {
      "text/html": [
       "<table class=\"dataframe\">\n",
       "<caption>A data.frame: 5 × 5</caption>\n",
       "<thead>\n",
       "\t<tr><th scope=col>veg</th><th scope=col>Area</th><th scope=col>Slope</th><th scope=col>Soil.pH</th><th scope=col>Worm.density</th></tr>\n",
       "\t<tr><th scope=col>&lt;chr&gt;</th><th scope=col>&lt;dbl&gt;</th><th scope=col>&lt;dbl&gt;</th><th scope=col>&lt;dbl&gt;</th><th scope=col>&lt;dbl&gt;</th></tr>\n",
       "</thead>\n",
       "<tbody>\n",
       "\t<tr><td>Arable   </td><td>3.866667</td><td>1.333333</td><td>4.833333</td><td>5.333333</td></tr>\n",
       "\t<tr><td>Grassland</td><td>2.911111</td><td>3.666667</td><td>4.100000</td><td>2.444444</td></tr>\n",
       "\t<tr><td>Meadow   </td><td>3.466667</td><td>1.666667</td><td>4.933333</td><td>6.333333</td></tr>\n",
       "\t<tr><td>Orchard  </td><td>1.900000</td><td>0.000000</td><td>5.700000</td><td>9.000000</td></tr>\n",
       "\t<tr><td>Scrub    </td><td>2.425000</td><td>7.000000</td><td>4.800000</td><td>5.250000</td></tr>\n",
       "</tbody>\n",
       "</table>\n"
      ],
      "text/latex": [
       "A data.frame: 5 × 5\n",
       "\\begin{tabular}{lllll}\n",
       " veg & Area & Slope & Soil.pH & Worm.density\\\\\n",
       " <chr> & <dbl> & <dbl> & <dbl> & <dbl>\\\\\n",
       "\\hline\n",
       "\t Arable    & 3.866667 & 1.333333 & 4.833333 & 5.333333\\\\\n",
       "\t Grassland & 2.911111 & 3.666667 & 4.100000 & 2.444444\\\\\n",
       "\t Meadow    & 3.466667 & 1.666667 & 4.933333 & 6.333333\\\\\n",
       "\t Orchard   & 1.900000 & 0.000000 & 5.700000 & 9.000000\\\\\n",
       "\t Scrub     & 2.425000 & 7.000000 & 4.800000 & 5.250000\\\\\n",
       "\\end{tabular}\n"
      ],
      "text/markdown": [
       "\n",
       "A data.frame: 5 × 5\n",
       "\n",
       "| veg &lt;chr&gt; | Area &lt;dbl&gt; | Slope &lt;dbl&gt; | Soil.pH &lt;dbl&gt; | Worm.density &lt;dbl&gt; |\n",
       "|---|---|---|---|---|\n",
       "| Arable    | 3.866667 | 1.333333 | 4.833333 | 5.333333 |\n",
       "| Grassland | 2.911111 | 3.666667 | 4.100000 | 2.444444 |\n",
       "| Meadow    | 3.466667 | 1.666667 | 4.933333 | 6.333333 |\n",
       "| Orchard   | 1.900000 | 0.000000 | 5.700000 | 9.000000 |\n",
       "| Scrub     | 2.425000 | 7.000000 | 4.800000 | 5.250000 |\n",
       "\n"
      ],
      "text/plain": [
       "  veg       Area     Slope    Soil.pH  Worm.density\n",
       "1 Arable    3.866667 1.333333 4.833333 5.333333    \n",
       "2 Grassland 2.911111 3.666667 4.100000 2.444444    \n",
       "3 Meadow    3.466667 1.666667 4.933333 6.333333    \n",
       "4 Orchard   1.900000 0.000000 5.700000 9.000000    \n",
       "5 Scrub     2.425000 7.000000 4.800000 5.250000    "
      ]
     },
     "metadata": {},
     "output_type": "display_data"
    }
   ],
   "source": [
    "aggregate(worms[, c(2,3,5,7)], by = list(veg=worms$Vegetation), mean)"
   ]
  },
  {
   "cell_type": "code",
   "execution_count": 253,
   "id": "b362c2b4-e53a-4cb7-ac01-bebe63f600f1",
   "metadata": {},
   "outputs": [
    {
     "data": {
      "text/html": [
       "<table class=\"dataframe\">\n",
       "<caption>A data.frame: 7 × 6</caption>\n",
       "<thead>\n",
       "\t<tr><th scope=col>veg</th><th scope=col>d</th><th scope=col>Area</th><th scope=col>Slope</th><th scope=col>Soil.pH</th><th scope=col>Worm.density</th></tr>\n",
       "\t<tr><th scope=col>&lt;chr&gt;</th><th scope=col>&lt;lgl&gt;</th><th scope=col>&lt;dbl&gt;</th><th scope=col>&lt;dbl&gt;</th><th scope=col>&lt;dbl&gt;</th><th scope=col>&lt;dbl&gt;</th></tr>\n",
       "</thead>\n",
       "<tbody>\n",
       "\t<tr><td>Arable   </td><td>FALSE</td><td>3.866667</td><td>1.333333</td><td>4.833333</td><td>5.333333</td></tr>\n",
       "\t<tr><td>Grassland</td><td>FALSE</td><td>3.087500</td><td>3.625000</td><td>3.987500</td><td>1.875000</td></tr>\n",
       "\t<tr><td>Orchard  </td><td>FALSE</td><td>1.900000</td><td>0.000000</td><td>5.700000</td><td>9.000000</td></tr>\n",
       "\t<tr><td>Scrub    </td><td>FALSE</td><td>3.350000</td><td>5.000000</td><td>4.700000</td><td>7.000000</td></tr>\n",
       "\t<tr><td>Grassland</td><td> TRUE</td><td>1.500000</td><td>4.000000</td><td>5.000000</td><td>7.000000</td></tr>\n",
       "\t<tr><td>Meadow   </td><td> TRUE</td><td>3.466667</td><td>1.666667</td><td>4.933333</td><td>6.333333</td></tr>\n",
       "\t<tr><td>Scrub    </td><td> TRUE</td><td>1.500000</td><td>9.000000</td><td>4.900000</td><td>3.500000</td></tr>\n",
       "</tbody>\n",
       "</table>\n"
      ],
      "text/latex": [
       "A data.frame: 7 × 6\n",
       "\\begin{tabular}{llllll}\n",
       " veg & d & Area & Slope & Soil.pH & Worm.density\\\\\n",
       " <chr> & <lgl> & <dbl> & <dbl> & <dbl> & <dbl>\\\\\n",
       "\\hline\n",
       "\t Arable    & FALSE & 3.866667 & 1.333333 & 4.833333 & 5.333333\\\\\n",
       "\t Grassland & FALSE & 3.087500 & 3.625000 & 3.987500 & 1.875000\\\\\n",
       "\t Orchard   & FALSE & 1.900000 & 0.000000 & 5.700000 & 9.000000\\\\\n",
       "\t Scrub     & FALSE & 3.350000 & 5.000000 & 4.700000 & 7.000000\\\\\n",
       "\t Grassland &  TRUE & 1.500000 & 4.000000 & 5.000000 & 7.000000\\\\\n",
       "\t Meadow    &  TRUE & 3.466667 & 1.666667 & 4.933333 & 6.333333\\\\\n",
       "\t Scrub     &  TRUE & 1.500000 & 9.000000 & 4.900000 & 3.500000\\\\\n",
       "\\end{tabular}\n"
      ],
      "text/markdown": [
       "\n",
       "A data.frame: 7 × 6\n",
       "\n",
       "| veg &lt;chr&gt; | d &lt;lgl&gt; | Area &lt;dbl&gt; | Slope &lt;dbl&gt; | Soil.pH &lt;dbl&gt; | Worm.density &lt;dbl&gt; |\n",
       "|---|---|---|---|---|---|\n",
       "| Arable    | FALSE | 3.866667 | 1.333333 | 4.833333 | 5.333333 |\n",
       "| Grassland | FALSE | 3.087500 | 3.625000 | 3.987500 | 1.875000 |\n",
       "| Orchard   | FALSE | 1.900000 | 0.000000 | 5.700000 | 9.000000 |\n",
       "| Scrub     | FALSE | 3.350000 | 5.000000 | 4.700000 | 7.000000 |\n",
       "| Grassland |  TRUE | 1.500000 | 4.000000 | 5.000000 | 7.000000 |\n",
       "| Meadow    |  TRUE | 3.466667 | 1.666667 | 4.933333 | 6.333333 |\n",
       "| Scrub     |  TRUE | 1.500000 | 9.000000 | 4.900000 | 3.500000 |\n",
       "\n"
      ],
      "text/plain": [
       "  veg       d     Area     Slope    Soil.pH  Worm.density\n",
       "1 Arable    FALSE 3.866667 1.333333 4.833333 5.333333    \n",
       "2 Grassland FALSE 3.087500 3.625000 3.987500 1.875000    \n",
       "3 Orchard   FALSE 1.900000 0.000000 5.700000 9.000000    \n",
       "4 Scrub     FALSE 3.350000 5.000000 4.700000 7.000000    \n",
       "5 Grassland  TRUE 1.500000 4.000000 5.000000 7.000000    \n",
       "6 Meadow     TRUE 3.466667 1.666667 4.933333 6.333333    \n",
       "7 Scrub      TRUE 1.500000 9.000000 4.900000 3.500000    "
      ]
     },
     "metadata": {},
     "output_type": "display_data"
    }
   ],
   "source": [
    "aggregate(worms[, c(2,3,5,7)], by = list(veg=worms$Vegetation, d=worms$Damp), mean)"
   ]
  },
  {
   "cell_type": "markdown",
   "id": "19aa1cf1-fed9-400e-9b2c-9c9b60ebca9e",
   "metadata": {},
   "source": [
    "## Ch.15 그래픽"
   ]
  },
  {
   "cell_type": "code",
   "execution_count": 11,
   "id": "35cefd22-9419-4c5c-a2bc-1f8e4955f447",
   "metadata": {},
   "outputs": [],
   "source": [
    "gg = c('a', 'a', 'a', 'b', 'b', 'c', 'c')\n",
    "ss = 1:7"
   ]
  },
  {
   "cell_type": "code",
   "execution_count": 14,
   "id": "99ec4856-bff5-4ec8-8fb2-41c6b763ec39",
   "metadata": {},
   "outputs": [
    {
     "data": {
      "image/png": "[encoded data removed]",
      "text/plain": [
       "plot without title"
      ]
     },
     "metadata": {
      "image/png": {
       "height": 420,
       "width": 420
      }
     },
     "output_type": "display_data"
    }
   ],
   "source": [
    "plot(ss ~ factor(gg))"
   ]
  },
  {
   "cell_type": "code",
   "execution_count": 16,
   "id": "8a9945fb-0990-4078-9fc5-46ad844640bb",
   "metadata": {},
   "outputs": [
    {
     "data": {
      "image/png": "[encoded data removed]",
      "text/plain": [
       "plot without title"
      ]
     },
     "metadata": {
      "image/png": {
       "height": 420,
       "width": 420
      }
     },
     "output_type": "display_data"
    }
   ],
   "source": [
    "plot(factor(gg), ss)"
   ]
  },
  {
   "cell_type": "code",
   "execution_count": 24,
   "id": "577575fd-ea5e-44df-820e-f725ea2109df",
   "metadata": {},
   "outputs": [
    {
     "data": {
      "image/png": "[encoded data removed]",
      "text/plain": [
       "plot without title"
      ]
     },
     "metadata": {
      "image/png": {
       "height": 420,
       "width": 420
      }
     },
     "output_type": "display_data"
    }
   ],
   "source": [
    "boxplot(ss ~ gg)"
   ]
  },
  {
   "cell_type": "code",
   "execution_count": 18,
   "id": "7d83d209-fd85-4abf-b936-a6797a3161c6",
   "metadata": {},
   "outputs": [
    {
     "data": {
      "text/html": [
       "\n",
       "<table width=\"100%\" summary=\"page for barplot {graphics}\"><tr><td>barplot {graphics}</td><td style=\"text-align: right;\">R Documentation</td></tr></table>\n",
       "\n",
       "<h2>Bar Plots</h2>\n",
       "\n",
       "<h3>Description</h3>\n",
       "\n",
       "<p>Creates a bar plot with vertical or horizontal bars.\n",
       "</p>\n",
       "\n",
       "\n",
       "<h3>Usage</h3>\n",
       "\n",
       "<pre>\n",
       "barplot(height, ...)\n",
       "\n",
       "## Default S3 method:\n",
       "barplot(height, width = 1, space = NULL,\n",
       "        names.arg = NULL, legend.text = NULL, beside = FALSE,\n",
       "        horiz = FALSE, density = NULL, angle = 45,\n",
       "        col = NULL, border = par(\"fg\"),\n",
       "        main = NULL, sub = NULL, xlab = NULL, ylab = NULL,\n",
       "        xlim = NULL, ylim = NULL, xpd = TRUE, log = \"\",\n",
       "        axes = TRUE, axisnames = TRUE,\n",
       "        cex.axis = par(\"cex.axis\"), cex.names = par(\"cex.axis\"),\n",
       "        inside = TRUE, plot = TRUE, axis.lty = 0, offset = 0,\n",
       "        add = FALSE, ann = !add &amp;&amp; par(\"ann\"), args.legend = NULL, ...)\n",
       "\n",
       "## S3 method for class 'formula'\n",
       "barplot(formula, data, subset, na.action,\n",
       "        horiz = FALSE, xlab = NULL, ylab = NULL, ...)\n",
       "</pre>\n",
       "\n",
       "\n",
       "<h3>Arguments</h3>\n",
       "\n",
       "<table summary=\"R argblock\">\n",
       "<tr valign=\"top\"><td><code>height</code></td>\n",
       "<td>\n",
       "<p>either a vector or matrix of values describing the\n",
       "bars which make up the plot.  If <code>height</code> is a vector, the\n",
       "plot consists of a sequence of rectangular bars with heights\n",
       "given by the values in the vector.  If <code>height</code> is a matrix\n",
       "and <code>beside</code> is <code>FALSE</code> then each bar of the plot\n",
       "corresponds to a column of <code>height</code>, with the values in the\n",
       "column giving the heights of stacked sub-bars making up the\n",
       "bar.  If <code>height</code> is a matrix and <code>beside</code> is\n",
       "<code>TRUE</code>, then the values in each column are juxtaposed\n",
       "rather than stacked.</p>\n",
       "</td></tr>\n",
       "<tr valign=\"top\"><td><code>width</code></td>\n",
       "<td>\n",
       "<p>optional vector of bar widths. Re-cycled to length the\n",
       "number of bars drawn.  Specifying a single value will have no\n",
       "visible effect unless <code>xlim</code> is specified.</p>\n",
       "</td></tr>\n",
       "<tr valign=\"top\"><td><code>space</code></td>\n",
       "<td>\n",
       "<p>the amount of space (as a fraction of the average bar\n",
       "width) left before each bar.  May be given as a single number or\n",
       "one number per bar.  If <code>height</code> is a matrix and\n",
       "<code>beside</code> is <code>TRUE</code>, <code>space</code> may be specified by\n",
       "two numbers, where the first is the space between bars in the\n",
       "same group, and the second the space between the groups.  If not\n",
       "given explicitly, it defaults to <code>c(0,1)</code> if <code>height</code>\n",
       "is a matrix and <code>beside</code> is <code>TRUE</code>, and to 0.2\n",
       "otherwise.</p>\n",
       "</td></tr>\n",
       "<tr valign=\"top\"><td><code>names.arg</code></td>\n",
       "<td>\n",
       "<p>a vector of names to be plotted below each bar or\n",
       "group of bars.  If this argument is omitted, then the names are\n",
       "taken from the <code>names</code> attribute of <code>height</code> if this\n",
       "is a vector, or the column names if it is a matrix.</p>\n",
       "</td></tr>\n",
       "<tr valign=\"top\"><td><code>legend.text</code></td>\n",
       "<td>\n",
       "<p>a vector of text used to construct a legend for\n",
       "the plot, or a logical indicating whether a legend should be\n",
       "included.  This is only useful when <code>height</code> is a matrix.\n",
       "In that case given legend labels should correspond to the rows of\n",
       "<code>height</code>; if <code>legend.text</code> is true, the row names of\n",
       "<code>height</code> will be used as labels if they are non-null.</p>\n",
       "</td></tr>\n",
       "<tr valign=\"top\"><td><code>beside</code></td>\n",
       "<td>\n",
       "<p>a logical value.  If <code>FALSE</code>, the columns of\n",
       "<code>height</code> are portrayed as stacked bars, and if <code>TRUE</code>\n",
       "the columns are portrayed as juxtaposed bars.</p>\n",
       "</td></tr>\n",
       "<tr valign=\"top\"><td><code>horiz</code></td>\n",
       "<td>\n",
       "<p>a logical value.  If <code>FALSE</code>, the bars are drawn\n",
       "vertically with the first bar to the left.  If <code>TRUE</code>, the\n",
       "bars are drawn horizontally with the first at the bottom.</p>\n",
       "</td></tr>\n",
       "<tr valign=\"top\"><td><code>density</code></td>\n",
       "<td>\n",
       "<p>a vector giving the density of shading lines, in\n",
       "lines per inch, for the bars or bar components.\n",
       "The default value of <code>NULL</code> means that no shading lines\n",
       "are drawn. Non-positive values of <code>density</code> also inhibit the\n",
       "drawing of shading lines.</p>\n",
       "</td></tr>\n",
       "<tr valign=\"top\"><td><code>angle</code></td>\n",
       "<td>\n",
       "<p>the slope of shading lines, given as an angle in\n",
       "degrees (counter-clockwise), for the bars or bar components.</p>\n",
       "</td></tr>\n",
       "<tr valign=\"top\"><td><code>col</code></td>\n",
       "<td>\n",
       "<p>a vector of colors for the bars or bar components.\n",
       "By default, grey is used if <code>height</code> is a vector, and a\n",
       "gamma-corrected grey palette if <code>height</code> is a matrix.</p>\n",
       "</td></tr>\n",
       "<tr valign=\"top\"><td><code>border</code></td>\n",
       "<td>\n",
       "<p>the color to be used for the border of the bars.\n",
       "Use <code>border = NA</code> to omit borders.  If there are shading\n",
       "lines, <code>border = TRUE</code> means use the same colour for\n",
       "the border as for the shading lines.</p>\n",
       "</td></tr>\n",
       "<tr valign=\"top\"><td><code>main,sub</code></td>\n",
       "<td>\n",
       "<p>overall and sub title for the plot.</p>\n",
       "</td></tr>\n",
       "<tr valign=\"top\"><td><code>xlab</code></td>\n",
       "<td>\n",
       "<p>a label for the x axis.</p>\n",
       "</td></tr>\n",
       "<tr valign=\"top\"><td><code>ylab</code></td>\n",
       "<td>\n",
       "<p>a label for the y axis.</p>\n",
       "</td></tr>\n",
       "<tr valign=\"top\"><td><code>xlim</code></td>\n",
       "<td>\n",
       "<p>limits for the x axis.</p>\n",
       "</td></tr>\n",
       "<tr valign=\"top\"><td><code>ylim</code></td>\n",
       "<td>\n",
       "<p>limits for the y axis.</p>\n",
       "</td></tr>\n",
       "<tr valign=\"top\"><td><code>xpd</code></td>\n",
       "<td>\n",
       "<p>logical. Should bars be allowed to go outside region?</p>\n",
       "</td></tr>\n",
       "<tr valign=\"top\"><td><code>log</code></td>\n",
       "<td>\n",
       "<p>string specifying if axis scales should be logarithmic; see\n",
       "<code>plot.default</code>.</p>\n",
       "</td></tr>\n",
       "<tr valign=\"top\"><td><code>axes</code></td>\n",
       "<td>\n",
       "<p>logical.  If <code>TRUE</code>, a vertical (or horizontal, if\n",
       "<code>horiz</code> is true) axis is drawn.</p>\n",
       "</td></tr>\n",
       "<tr valign=\"top\"><td><code>axisnames</code></td>\n",
       "<td>\n",
       "<p>logical.  If <code>TRUE</code>, and if there are\n",
       "<code>names.arg</code> (see above), the\n",
       "other axis is drawn (with <code>lty = 0</code>) and labeled.</p>\n",
       "</td></tr>\n",
       "<tr valign=\"top\"><td><code>cex.axis</code></td>\n",
       "<td>\n",
       "<p>expansion factor for numeric axis labels (see\n",
       "<code>par('cex')</code>).</p>\n",
       "</td></tr>\n",
       "<tr valign=\"top\"><td><code>cex.names</code></td>\n",
       "<td>\n",
       "<p>expansion factor for axis names (bar labels).</p>\n",
       "</td></tr>\n",
       "<tr valign=\"top\"><td><code>inside</code></td>\n",
       "<td>\n",
       "<p>logical.  If <code>TRUE</code>, the lines which divide\n",
       "adjacent (non-stacked!) bars will be drawn.  Only applies when\n",
       "<code>space = 0</code> (which it partly is when <code>beside = TRUE</code>).</p>\n",
       "</td></tr>\n",
       "</table>\n",
       "\n",
       "\n",
       "<table summary=\"R argblock\">\n",
       "<tr valign=\"top\"><td><code>plot</code></td>\n",
       "<td>\n",
       "<p>logical.  If <code>FALSE</code>, nothing is plotted.</p>\n",
       "</td></tr>\n",
       "<tr valign=\"top\"><td><code>axis.lty</code></td>\n",
       "<td>\n",
       "<p>the graphics parameter <code>lty</code> (see\n",
       "<code>par('lty')</code>) applied to the axis\n",
       "and tick marks of the categorical (default horizontal) axis.  Note\n",
       "that by default the axis is suppressed.</p>\n",
       "</td></tr>\n",
       "<tr valign=\"top\"><td><code>offset</code></td>\n",
       "<td>\n",
       "<p>a vector indicating how much the bars should be shifted\n",
       "relative to the x axis.</p>\n",
       "</td></tr>\n",
       "<tr valign=\"top\"><td><code>add</code></td>\n",
       "<td>\n",
       "<p>logical specifying if bars should be added to an already\n",
       "existing plot; defaults to <code>FALSE</code>.</p>\n",
       "</td></tr>\n",
       "<tr valign=\"top\"><td><code>ann</code></td>\n",
       "<td>\n",
       "<p>logical specifying if the default annotation (<code>main</code>,\n",
       "<code>sub</code>, <code>xlab</code>, <code>ylab</code>) should appear on the plot, see\n",
       "<code>title</code>.</p>\n",
       "</td></tr>\n",
       "<tr valign=\"top\"><td><code>args.legend</code></td>\n",
       "<td>\n",
       "<p>list of additional arguments to pass to\n",
       "<code>legend()</code>; names of the list are used as argument\n",
       "names.  Only used if <code>legend.text</code> is supplied.</p>\n",
       "</td></tr>\n",
       "<tr valign=\"top\"><td><code>formula</code></td>\n",
       "<td>\n",
       "<p>a formula where the <code>y</code> variables are numeric data\n",
       "to plot against the categorical <code>x</code> variables.  The formula\n",
       "can have one of three forms:\n",
       "</p>\n",
       "<pre>\n",
       "      y ~ x\n",
       "      y ~ x1 + x2\n",
       "      cbind(y1, y2) ~ x\n",
       "    </pre>\n",
       "<p>(see the examples).</p>\n",
       "</td></tr>\n",
       "<tr valign=\"top\"><td><code>data</code></td>\n",
       "<td>\n",
       "<p>a data frame (or list) from which the variables in formula\n",
       "should be taken.</p>\n",
       "</td></tr>\n",
       "<tr valign=\"top\"><td><code>subset</code></td>\n",
       "<td>\n",
       "<p>an optional vector specifying a subset of observations\n",
       "to be used.</p>\n",
       "</td></tr>\n",
       "<tr valign=\"top\"><td><code>na.action</code></td>\n",
       "<td>\n",
       "<p>a function which indicates what should happen when\n",
       "the data contain <code>NA</code> values.  The default is to ignore missing\n",
       "values in the given variables.</p>\n",
       "</td></tr>\n",
       "<tr valign=\"top\"><td><code>...</code></td>\n",
       "<td>\n",
       "<p>arguments to be passed to/from other methods.  For the\n",
       "default method these can include further arguments (such as\n",
       "<code>axes</code>, <code>asp</code> and <code>main</code>) and\n",
       "graphical parameters (see <code>par</code>) which are passed to\n",
       "<code>plot.window()</code>, <code>title()</code> and\n",
       "<code>axis</code>.</p>\n",
       "</td></tr>\n",
       "</table>\n",
       "\n",
       "\n",
       "<h3>Value</h3>\n",
       "\n",
       "<p>A numeric vector (or matrix, when <code>beside = TRUE</code>), say\n",
       "<code>mp</code>, giving the coordinates of <em>all</em> the bar midpoints\n",
       "drawn, useful for adding to the graph.\n",
       "</p>\n",
       "<p>If <code>beside</code> is true, use <code>colMeans(mp)</code> for the\n",
       "midpoints of each <em>group</em> of bars, see example.\n",
       "</p>\n",
       "\n",
       "\n",
       "<h3>Author(s)</h3>\n",
       "\n",
       "<p>R Core, with a contribution by Arni Magnusson.</p>\n",
       "\n",
       "\n",
       "<h3>References</h3>\n",
       "\n",
       "<p>Becker, R. A., Chambers, J. M. and Wilks, A. R. (1988)\n",
       "<em>The New S Language</em>.\n",
       "Wadsworth &amp; Brooks/Cole.\n",
       "</p>\n",
       "<p>Murrell, P. (2005) <em>R Graphics</em>. Chapman &amp; Hall/CRC Press.\n",
       "</p>\n",
       "\n",
       "\n",
       "<h3>See Also</h3>\n",
       "\n",
       "<p><code>plot(..., type = \"h\")</code>, <code>dotchart</code>;\n",
       "<code>hist</code> for bars of a <em>continuous</em> variable.\n",
       "<code>mosaicplot()</code>, more sophisticated to visualize\n",
       "<em>several</em> categorical variables.\n",
       "</p>\n",
       "\n",
       "\n",
       "<h3>Examples</h3>\n",
       "\n",
       "<pre>\n",
       "# Formula method\n",
       "barplot(GNP ~ Year, data = longley)\n",
       "barplot(cbind(Employed, Unemployed) ~ Year, data = longley)\n",
       "\n",
       "## 3rd form of formula - 2 categories :\n",
       "op &lt;- par(mfrow = 2:1, mgp = c(3,1,0)/2, mar = .1+c(3,3:1))\n",
       "summary(d.Titanic &lt;- as.data.frame(Titanic))\n",
       "barplot(Freq ~ Class + Survived, data = d.Titanic,\n",
       "        subset = Age == \"Adult\" &amp; Sex == \"Male\",\n",
       "        main = \"barplot(Freq ~ Class + Survived, *)\", ylab = \"# {passengers}\", legend.text = TRUE)\n",
       "# Corresponding table :\n",
       "(xt &lt;- xtabs(Freq ~ Survived + Class + Sex, d.Titanic, subset = Age==\"Adult\"))\n",
       "# Alternatively, a mosaic plot :\n",
       "mosaicplot(xt[,,\"Male\"], main = \"mosaicplot(Freq ~ Class + Survived, *)\", color=TRUE)\n",
       "par(op)\n",
       "\n",
       "\n",
       "# Default method\n",
       "require(grDevices) # for colours\n",
       "tN &lt;- table(Ni &lt;- stats::rpois(100, lambda = 5))\n",
       "r &lt;- barplot(tN, col = rainbow(20))\n",
       "#- type = \"h\" plotting *is* 'bar'plot\n",
       "lines(r, tN, type = \"h\", col = \"red\", lwd = 2)\n",
       "\n",
       "barplot(tN, space = 1.5, axisnames = FALSE,\n",
       "        sub = \"barplot(..., space= 1.5, axisnames = FALSE)\")\n",
       "\n",
       "barplot(VADeaths, plot = FALSE)\n",
       "barplot(VADeaths, plot = FALSE, beside = TRUE)\n",
       "\n",
       "mp &lt;- barplot(VADeaths) # default\n",
       "tot &lt;- colMeans(VADeaths)\n",
       "text(mp, tot + 3, format(tot), xpd = TRUE, col = \"blue\")\n",
       "barplot(VADeaths, beside = TRUE,\n",
       "        col = c(\"lightblue\", \"mistyrose\", \"lightcyan\",\n",
       "                \"lavender\", \"cornsilk\"),\n",
       "        legend.text = rownames(VADeaths), ylim = c(0, 100))\n",
       "title(main = \"Death Rates in Virginia\", font.main = 4)\n",
       "\n",
       "hh &lt;- t(VADeaths)[, 5:1]\n",
       "mybarcol &lt;- \"gray20\"\n",
       "mp &lt;- barplot(hh, beside = TRUE,\n",
       "        col = c(\"lightblue\", \"mistyrose\",\n",
       "                \"lightcyan\", \"lavender\"),\n",
       "        legend.text = colnames(VADeaths), ylim = c(0,100),\n",
       "        main = \"Death Rates in Virginia\", font.main = 4,\n",
       "        sub = \"Faked upper 2*sigma error bars\", col.sub = mybarcol,\n",
       "        cex.names = 1.5)\n",
       "segments(mp, hh, mp, hh + 2*sqrt(1000*hh/100), col = mybarcol, lwd = 1.5)\n",
       "stopifnot(dim(mp) == dim(hh))  # corresponding matrices\n",
       "mtext(side = 1, at = colMeans(mp), line = -2,\n",
       "      text = paste(\"Mean\", formatC(colMeans(hh))), col = \"red\")\n",
       "\n",
       "# Bar shading example\n",
       "barplot(VADeaths, angle = 15+10*1:5, density = 20, col = \"black\",\n",
       "        legend.text = rownames(VADeaths))\n",
       "title(main = list(\"Death Rates in Virginia\", font = 4))\n",
       "\n",
       "# Border color\n",
       "barplot(VADeaths, border = \"dark blue\") \n",
       "\n",
       "\n",
       "# Log scales (not much sense here)\n",
       "barplot(tN, col = heat.colors(12), log = \"y\")\n",
       "barplot(tN, col = gray.colors(20), log = \"xy\")\n",
       "\n",
       "# Legend location\n",
       "barplot(height = cbind(x = c(465, 91) / 465 * 100,\n",
       "                       y = c(840, 200) / 840 * 100,\n",
       "                       z = c(37, 17) / 37 * 100),\n",
       "        beside = FALSE,\n",
       "        width = c(465, 840, 37),\n",
       "        col = c(1, 2),\n",
       "        legend.text = c(\"A\", \"B\"),\n",
       "        args.legend = list(x = \"topleft\"))\n",
       "</pre>\n",
       "\n",
       "<hr /><div style=\"text-align: center;\">[Package <em>graphics</em> version 4.1.2 ]</div>"
      ],
      "text/latex": [
       "\\inputencoding{utf8}\n",
       "\\HeaderA{barplot}{Bar Plots}{barplot}\n",
       "\\methaliasA{barplot.default}{barplot}{barplot.default}\n",
       "\\methaliasA{barplot.formula}{barplot}{barplot.formula}\n",
       "\\keyword{hplot}{barplot}\n",
       "%\n",
       "\\begin{Description}\\relax\n",
       "Creates a bar plot with vertical or horizontal bars.\n",
       "\\end{Description}\n",
       "%\n",
       "\\begin{Usage}\n",
       "\\begin{verbatim}\n",
       "barplot(height, ...)\n",
       "\n",
       "## Default S3 method:\n",
       "barplot(height, width = 1, space = NULL,\n",
       "        names.arg = NULL, legend.text = NULL, beside = FALSE,\n",
       "        horiz = FALSE, density = NULL, angle = 45,\n",
       "        col = NULL, border = par(\"fg\"),\n",
       "        main = NULL, sub = NULL, xlab = NULL, ylab = NULL,\n",
       "        xlim = NULL, ylim = NULL, xpd = TRUE, log = \"\",\n",
       "        axes = TRUE, axisnames = TRUE,\n",
       "        cex.axis = par(\"cex.axis\"), cex.names = par(\"cex.axis\"),\n",
       "        inside = TRUE, plot = TRUE, axis.lty = 0, offset = 0,\n",
       "        add = FALSE, ann = !add && par(\"ann\"), args.legend = NULL, ...)\n",
       "\n",
       "## S3 method for class 'formula'\n",
       "barplot(formula, data, subset, na.action,\n",
       "        horiz = FALSE, xlab = NULL, ylab = NULL, ...)\n",
       "\\end{verbatim}\n",
       "\\end{Usage}\n",
       "%\n",
       "\\begin{Arguments}\n",
       "\\begin{ldescription}\n",
       "\\item[\\code{height}] either a vector or matrix of values describing the\n",
       "bars which make up the plot.  If \\code{height} is a vector, the\n",
       "plot consists of a sequence of rectangular bars with heights\n",
       "given by the values in the vector.  If \\code{height} is a matrix\n",
       "and \\code{beside} is \\code{FALSE} then each bar of the plot\n",
       "corresponds to a column of \\code{height}, with the values in the\n",
       "column giving the heights of stacked sub-bars making up the\n",
       "bar.  If \\code{height} is a matrix and \\code{beside} is\n",
       "\\code{TRUE}, then the values in each column are juxtaposed\n",
       "rather than stacked.\n",
       "\\item[\\code{width}] optional vector of bar widths. Re-cycled to length the\n",
       "number of bars drawn.  Specifying a single value will have no\n",
       "visible effect unless \\code{xlim} is specified.\n",
       "\\item[\\code{space}] the amount of space (as a fraction of the average bar\n",
       "width) left before each bar.  May be given as a single number or\n",
       "one number per bar.  If \\code{height} is a matrix and\n",
       "\\code{beside} is \\code{TRUE}, \\code{space} may be specified by\n",
       "two numbers, where the first is the space between bars in the\n",
       "same group, and the second the space between the groups.  If not\n",
       "given explicitly, it defaults to \\code{c(0,1)} if \\code{height}\n",
       "is a matrix and \\code{beside} is \\code{TRUE}, and to 0.2\n",
       "otherwise.\n",
       "\\item[\\code{names.arg}] a vector of names to be plotted below each bar or\n",
       "group of bars.  If this argument is omitted, then the names are\n",
       "taken from the \\code{names} attribute of \\code{height} if this\n",
       "is a vector, or the column names if it is a matrix.\n",
       "\\item[\\code{legend.text}] a vector of text used to construct a legend for\n",
       "the plot, or a logical indicating whether a legend should be\n",
       "included.  This is only useful when \\code{height} is a matrix.\n",
       "In that case given legend labels should correspond to the rows of\n",
       "\\code{height}; if \\code{legend.text} is true, the row names of\n",
       "\\code{height} will be used as labels if they are non-null.\n",
       "\\item[\\code{beside}] a logical value.  If \\code{FALSE}, the columns of\n",
       "\\code{height} are portrayed as stacked bars, and if \\code{TRUE}\n",
       "the columns are portrayed as juxtaposed bars.\n",
       "\\item[\\code{horiz}] a logical value.  If \\code{FALSE}, the bars are drawn\n",
       "vertically with the first bar to the left.  If \\code{TRUE}, the\n",
       "bars are drawn horizontally with the first at the bottom.\n",
       "\\item[\\code{density}] a vector giving the density of shading lines, in\n",
       "lines per inch, for the bars or bar components.\n",
       "The default value of \\code{NULL} means that no shading lines\n",
       "are drawn. Non-positive values of \\code{density} also inhibit the\n",
       "drawing of shading lines.\n",
       "\\item[\\code{angle}] the slope of shading lines, given as an angle in\n",
       "degrees (counter-clockwise), for the bars or bar components.\n",
       "\\item[\\code{col}] a vector of colors for the bars or bar components.\n",
       "By default, grey is used if \\code{height} is a vector, and a\n",
       "gamma-corrected grey palette if \\code{height} is a matrix.\n",
       "\\item[\\code{border}] the color to be used for the border of the bars.\n",
       "Use \\code{border = NA} to omit borders.  If there are shading\n",
       "lines, \\code{border = TRUE} means use the same colour for\n",
       "the border as for the shading lines.\n",
       "\\item[\\code{main,sub}] overall and sub title for the plot.\n",
       "\\item[\\code{xlab}] a label for the x axis.\n",
       "\\item[\\code{ylab}] a label for the y axis.\n",
       "\\item[\\code{xlim}] limits for the x axis.\n",
       "\\item[\\code{ylim}] limits for the y axis.\n",
       "\\item[\\code{xpd}] logical. Should bars be allowed to go outside region?\n",
       "\\item[\\code{log}] string specifying if axis scales should be logarithmic; see\n",
       "\\code{\\LinkA{plot.default}{plot.default}}.\n",
       "\\item[\\code{axes}] logical.  If \\code{TRUE}, a vertical (or horizontal, if\n",
       "\\code{horiz} is true) axis is drawn.\n",
       "\\item[\\code{axisnames}] logical.  If \\code{TRUE}, and if there are\n",
       "\\code{names.arg} (see above), the\n",
       "other axis is drawn (with \\code{lty = 0}) and labeled.\n",
       "\\item[\\code{cex.axis}] expansion factor for numeric axis labels (see\n",
       "\\code{\\LinkA{par}{par}('cex')}).\n",
       "\\item[\\code{cex.names}] expansion factor for axis names (bar labels).\n",
       "\\item[\\code{inside}] logical.  If \\code{TRUE}, the lines which divide\n",
       "adjacent (non-stacked!) bars will be drawn.  Only applies when\n",
       "\\code{space = 0} (which it partly is when \\code{beside = TRUE}).\n",
       "\n",
       "\n",
       "\\item[\\code{plot}] logical.  If \\code{FALSE}, nothing is plotted.\n",
       "\\item[\\code{axis.lty}] the graphics parameter \\code{lty} (see\n",
       "\\code{\\LinkA{par}{par}('lty')}) applied to the axis\n",
       "and tick marks of the categorical (default horizontal) axis.  Note\n",
       "that by default the axis is suppressed.\n",
       "\\item[\\code{offset}] a vector indicating how much the bars should be shifted\n",
       "relative to the x axis.\n",
       "\\item[\\code{add}] logical specifying if bars should be added to an already\n",
       "existing plot; defaults to \\code{FALSE}.\n",
       "\\item[\\code{ann}] logical specifying if the default annotation (\\code{main},\n",
       "\\code{sub}, \\code{xlab}, \\code{ylab}) should appear on the plot, see\n",
       "\\code{\\LinkA{title}{title}}.\n",
       "\\item[\\code{args.legend}] list of additional arguments to pass to\n",
       "\\code{\\LinkA{legend}{legend}()}; names of the list are used as argument\n",
       "names.  Only used if \\code{legend.text} is supplied.\n",
       "\\item[\\code{formula}] a formula where the \\code{y} variables are numeric data\n",
       "to plot against the categorical \\code{x} variables.  The formula\n",
       "can have one of three forms:\n",
       "\\begin{alltt}\n",
       "      y ~ x\n",
       "      y ~ x1 + x2\n",
       "      cbind(y1, y2) ~ x\n",
       "    \\end{alltt}\n",
       "\n",
       "(see the examples).\n",
       "\\item[\\code{data}] a data frame (or list) from which the variables in formula\n",
       "should be taken.\n",
       "\\item[\\code{subset}] an optional vector specifying a subset of observations\n",
       "to be used.\n",
       "\\item[\\code{na.action}] a function which indicates what should happen when\n",
       "the data contain \\code{\\LinkA{NA}{NA}} values.  The default is to ignore missing\n",
       "values in the given variables.\n",
       "\\item[\\code{...}] arguments to be passed to/from other methods.  For the\n",
       "default method these can include further arguments (such as\n",
       "\\code{axes}, \\code{asp} and \\code{main}) and\n",
       "\\LinkA{graphical parameters}{graphical parameters} (see \\code{\\LinkA{par}{par}}) which are passed to\n",
       "\\code{\\LinkA{plot.window}{plot.window}()}, \\code{\\LinkA{title}{title}()} and\n",
       "\\code{\\LinkA{axis}{axis}}.\n",
       "\\end{ldescription}\n",
       "\\end{Arguments}\n",
       "%\n",
       "\\begin{Value}\n",
       "A numeric vector (or matrix, when \\code{beside = TRUE}), say\n",
       "\\code{mp}, giving the coordinates of \\emph{all} the bar midpoints\n",
       "drawn, useful for adding to the graph.\n",
       "\n",
       "If \\code{beside} is true, use \\code{colMeans(mp)} for the\n",
       "midpoints of each \\emph{group} of bars, see example.\n",
       "\\end{Value}\n",
       "%\n",
       "\\begin{Author}\\relax\n",
       "R Core, with a contribution by Arni Magnusson.\n",
       "\\end{Author}\n",
       "%\n",
       "\\begin{References}\\relax\n",
       "Becker, R. A., Chambers, J. M. and Wilks, A. R. (1988)\n",
       "\\emph{The New S Language}.\n",
       "Wadsworth \\& Brooks/Cole.\n",
       "\n",
       "Murrell, P. (2005) \\emph{R Graphics}. Chapman \\& Hall/CRC Press.\n",
       "\\end{References}\n",
       "%\n",
       "\\begin{SeeAlso}\\relax\n",
       "\\code{\\LinkA{plot}{plot}(..., type = \"h\")}, \\code{\\LinkA{dotchart}{dotchart}};\n",
       "\\code{\\LinkA{hist}{hist}} for bars of a \\emph{continuous} variable.\n",
       "\\code{\\LinkA{mosaicplot}{mosaicplot}()}, more sophisticated to visualize\n",
       "\\emph{several} categorical variables.\n",
       "\\end{SeeAlso}\n",
       "%\n",
       "\\begin{Examples}\n",
       "\\begin{ExampleCode}\n",
       "# Formula method\n",
       "barplot(GNP ~ Year, data = longley)\n",
       "barplot(cbind(Employed, Unemployed) ~ Year, data = longley)\n",
       "\n",
       "## 3rd form of formula - 2 categories :\n",
       "op <- par(mfrow = 2:1, mgp = c(3,1,0)/2, mar = .1+c(3,3:1))\n",
       "summary(d.Titanic <- as.data.frame(Titanic))\n",
       "barplot(Freq ~ Class + Survived, data = d.Titanic,\n",
       "        subset = Age == \"Adult\" & Sex == \"Male\",\n",
       "        main = \"barplot(Freq ~ Class + Survived, *)\", ylab = \"# {passengers}\", legend.text = TRUE)\n",
       "# Corresponding table :\n",
       "(xt <- xtabs(Freq ~ Survived + Class + Sex, d.Titanic, subset = Age==\"Adult\"))\n",
       "# Alternatively, a mosaic plot :\n",
       "mosaicplot(xt[,,\"Male\"], main = \"mosaicplot(Freq ~ Class + Survived, *)\", color=TRUE)\n",
       "par(op)\n",
       "\n",
       "\n",
       "# Default method\n",
       "require(grDevices) # for colours\n",
       "tN <- table(Ni <- stats::rpois(100, lambda = 5))\n",
       "r <- barplot(tN, col = rainbow(20))\n",
       "#- type = \"h\" plotting *is* 'bar'plot\n",
       "lines(r, tN, type = \"h\", col = \"red\", lwd = 2)\n",
       "\n",
       "barplot(tN, space = 1.5, axisnames = FALSE,\n",
       "        sub = \"barplot(..., space= 1.5, axisnames = FALSE)\")\n",
       "\n",
       "barplot(VADeaths, plot = FALSE)\n",
       "barplot(VADeaths, plot = FALSE, beside = TRUE)\n",
       "\n",
       "mp <- barplot(VADeaths) # default\n",
       "tot <- colMeans(VADeaths)\n",
       "text(mp, tot + 3, format(tot), xpd = TRUE, col = \"blue\")\n",
       "barplot(VADeaths, beside = TRUE,\n",
       "        col = c(\"lightblue\", \"mistyrose\", \"lightcyan\",\n",
       "                \"lavender\", \"cornsilk\"),\n",
       "        legend.text = rownames(VADeaths), ylim = c(0, 100))\n",
       "title(main = \"Death Rates in Virginia\", font.main = 4)\n",
       "\n",
       "hh <- t(VADeaths)[, 5:1]\n",
       "mybarcol <- \"gray20\"\n",
       "mp <- barplot(hh, beside = TRUE,\n",
       "        col = c(\"lightblue\", \"mistyrose\",\n",
       "                \"lightcyan\", \"lavender\"),\n",
       "        legend.text = colnames(VADeaths), ylim = c(0,100),\n",
       "        main = \"Death Rates in Virginia\", font.main = 4,\n",
       "        sub = \"Faked upper 2*sigma error bars\", col.sub = mybarcol,\n",
       "        cex.names = 1.5)\n",
       "segments(mp, hh, mp, hh + 2*sqrt(1000*hh/100), col = mybarcol, lwd = 1.5)\n",
       "stopifnot(dim(mp) == dim(hh))  # corresponding matrices\n",
       "mtext(side = 1, at = colMeans(mp), line = -2,\n",
       "      text = paste(\"Mean\", formatC(colMeans(hh))), col = \"red\")\n",
       "\n",
       "# Bar shading example\n",
       "barplot(VADeaths, angle = 15+10*1:5, density = 20, col = \"black\",\n",
       "        legend.text = rownames(VADeaths))\n",
       "title(main = list(\"Death Rates in Virginia\", font = 4))\n",
       "\n",
       "# Border color\n",
       "barplot(VADeaths, border = \"dark blue\") \n",
       "\n",
       "\n",
       "# Log scales (not much sense here)\n",
       "barplot(tN, col = heat.colors(12), log = \"y\")\n",
       "barplot(tN, col = gray.colors(20), log = \"xy\")\n",
       "\n",
       "# Legend location\n",
       "barplot(height = cbind(x = c(465, 91) / 465 * 100,\n",
       "                       y = c(840, 200) / 840 * 100,\n",
       "                       z = c(37, 17) / 37 * 100),\n",
       "        beside = FALSE,\n",
       "        width = c(465, 840, 37),\n",
       "        col = c(1, 2),\n",
       "        legend.text = c(\"A\", \"B\"),\n",
       "        args.legend = list(x = \"topleft\"))\n",
       "\\end{ExampleCode}\n",
       "\\end{Examples}"
      ],
      "text/plain": [
       "barplot                package:graphics                R Documentation\n",
       "\n",
       "_\bB_\ba_\br _\bP_\bl_\bo_\bt_\bs\n",
       "\n",
       "_\bD_\be_\bs_\bc_\br_\bi_\bp_\bt_\bi_\bo_\bn:\n",
       "\n",
       "     Creates a bar plot with vertical or horizontal bars.\n",
       "\n",
       "_\bU_\bs_\ba_\bg_\be:\n",
       "\n",
       "     barplot(height, ...)\n",
       "     \n",
       "     ## Default S3 method:\n",
       "     barplot(height, width = 1, space = NULL,\n",
       "             names.arg = NULL, legend.text = NULL, beside = FALSE,\n",
       "             horiz = FALSE, density = NULL, angle = 45,\n",
       "             col = NULL, border = par(\"fg\"),\n",
       "             main = NULL, sub = NULL, xlab = NULL, ylab = NULL,\n",
       "             xlim = NULL, ylim = NULL, xpd = TRUE, log = \"\",\n",
       "             axes = TRUE, axisnames = TRUE,\n",
       "             cex.axis = par(\"cex.axis\"), cex.names = par(\"cex.axis\"),\n",
       "             inside = TRUE, plot = TRUE, axis.lty = 0, offset = 0,\n",
       "             add = FALSE, ann = !add && par(\"ann\"), args.legend = NULL, ...)\n",
       "     \n",
       "     ## S3 method for class 'formula'\n",
       "     barplot(formula, data, subset, na.action,\n",
       "             horiz = FALSE, xlab = NULL, ylab = NULL, ...)\n",
       "     \n",
       "_\bA_\br_\bg_\bu_\bm_\be_\bn_\bt_\bs:\n",
       "\n",
       "  height: either a vector or matrix of values describing the bars which\n",
       "          make up the plot.  If 'height' is a vector, the plot consists\n",
       "          of a sequence of rectangular bars with heights given by the\n",
       "          values in the vector.  If 'height' is a matrix and 'beside'\n",
       "          is 'FALSE' then each bar of the plot corresponds to a column\n",
       "          of 'height', with the values in the column giving the heights\n",
       "          of stacked sub-bars making up the bar.  If 'height' is a\n",
       "          matrix and 'beside' is 'TRUE', then the values in each column\n",
       "          are juxtaposed rather than stacked.\n",
       "\n",
       "   width: optional vector of bar widths. Re-cycled to length the number\n",
       "          of bars drawn.  Specifying a single value will have no\n",
       "          visible effect unless 'xlim' is specified.\n",
       "\n",
       "   space: the amount of space (as a fraction of the average bar width)\n",
       "          left before each bar.  May be given as a single number or one\n",
       "          number per bar.  If 'height' is a matrix and 'beside' is\n",
       "          'TRUE', 'space' may be specified by two numbers, where the\n",
       "          first is the space between bars in the same group, and the\n",
       "          second the space between the groups.  If not given\n",
       "          explicitly, it defaults to 'c(0,1)' if 'height' is a matrix\n",
       "          and 'beside' is 'TRUE', and to 0.2 otherwise.\n",
       "\n",
       "names.arg: a vector of names to be plotted below each bar or group of\n",
       "          bars.  If this argument is omitted, then the names are taken\n",
       "          from the 'names' attribute of 'height' if this is a vector,\n",
       "          or the column names if it is a matrix.\n",
       "\n",
       "legend.text: a vector of text used to construct a legend for the plot,\n",
       "          or a logical indicating whether a legend should be included.\n",
       "          This is only useful when 'height' is a matrix.  In that case\n",
       "          given legend labels should correspond to the rows of\n",
       "          'height'; if 'legend.text' is true, the row names of 'height'\n",
       "          will be used as labels if they are non-null.\n",
       "\n",
       "  beside: a logical value.  If 'FALSE', the columns of 'height' are\n",
       "          portrayed as stacked bars, and if 'TRUE' the columns are\n",
       "          portrayed as juxtaposed bars.\n",
       "\n",
       "   horiz: a logical value.  If 'FALSE', the bars are drawn vertically\n",
       "          with the first bar to the left.  If 'TRUE', the bars are\n",
       "          drawn horizontally with the first at the bottom.\n",
       "\n",
       " density: a vector giving the density of shading lines, in lines per\n",
       "          inch, for the bars or bar components.  The default value of\n",
       "          'NULL' means that no shading lines are drawn. Non-positive\n",
       "          values of 'density' also inhibit the drawing of shading\n",
       "          lines.\n",
       "\n",
       "   angle: the slope of shading lines, given as an angle in degrees\n",
       "          (counter-clockwise), for the bars or bar components.\n",
       "\n",
       "     col: a vector of colors for the bars or bar components.  By\n",
       "          default, grey is used if 'height' is a vector, and a\n",
       "          gamma-corrected grey palette if 'height' is a matrix.\n",
       "\n",
       "  border: the color to be used for the border of the bars.  Use 'border\n",
       "          = NA' to omit borders.  If there are shading lines, 'border =\n",
       "          TRUE' means use the same colour for the border as for the\n",
       "          shading lines.\n",
       "\n",
       "main,sub: overall and sub title for the plot.\n",
       "\n",
       "    xlab: a label for the x axis.\n",
       "\n",
       "    ylab: a label for the y axis.\n",
       "\n",
       "    xlim: limits for the x axis.\n",
       "\n",
       "    ylim: limits for the y axis.\n",
       "\n",
       "     xpd: logical. Should bars be allowed to go outside region?\n",
       "\n",
       "     log: string specifying if axis scales should be logarithmic; see\n",
       "          'plot.default'.\n",
       "\n",
       "    axes: logical.  If 'TRUE', a vertical (or horizontal, if 'horiz' is\n",
       "          true) axis is drawn.\n",
       "\n",
       "axisnames: logical.  If 'TRUE', and if there are 'names.arg' (see\n",
       "          above), the other axis is drawn (with 'lty = 0') and labeled.\n",
       "\n",
       "cex.axis: expansion factor for numeric axis labels (see 'par('cex')').\n",
       "\n",
       "cex.names: expansion factor for axis names (bar labels).\n",
       "\n",
       "  inside: logical.  If 'TRUE', the lines which divide adjacent\n",
       "          (non-stacked!) bars will be drawn.  Only applies when 'space\n",
       "          = 0' (which it partly is when 'beside = TRUE').\n",
       "\n",
       "    plot: logical.  If 'FALSE', nothing is plotted.\n",
       "\n",
       "axis.lty: the graphics parameter 'lty' (see 'par('lty')') applied to\n",
       "          the axis and tick marks of the categorical (default\n",
       "          horizontal) axis.  Note that by default the axis is\n",
       "          suppressed.\n",
       "\n",
       "  offset: a vector indicating how much the bars should be shifted\n",
       "          relative to the x axis.\n",
       "\n",
       "     add: logical specifying if bars should be added to an already\n",
       "          existing plot; defaults to 'FALSE'.\n",
       "\n",
       "     ann: logical specifying if the default annotation ('main', 'sub',\n",
       "          'xlab', 'ylab') should appear on the plot, see 'title'.\n",
       "\n",
       "args.legend: list of additional arguments to pass to 'legend()'; names\n",
       "          of the list are used as argument names.  Only used if\n",
       "          'legend.text' is supplied.\n",
       "\n",
       " formula: a formula where the 'y' variables are numeric data to plot\n",
       "          against the categorical 'x' variables.  The formula can have\n",
       "          one of three forms:\n",
       "\n",
       "                y ~ x\n",
       "                y ~ x1 + x2\n",
       "                cbind(y1, y2) ~ x\n",
       "          \n",
       "          (see the examples).\n",
       "\n",
       "    data: a data frame (or list) from which the variables in formula\n",
       "          should be taken.\n",
       "\n",
       "  subset: an optional vector specifying a subset of observations to be\n",
       "          used.\n",
       "\n",
       "na.action: a function which indicates what should happen when the data\n",
       "          contain 'NA' values.  The default is to ignore missing values\n",
       "          in the given variables.\n",
       "\n",
       "     ...: arguments to be passed to/from other methods.  For the\n",
       "          default method these can include further arguments (such as\n",
       "          'axes', 'asp' and 'main') and graphical parameters (see\n",
       "          'par') which are passed to 'plot.window()', 'title()' and\n",
       "          'axis'.\n",
       "\n",
       "_\bV_\ba_\bl_\bu_\be:\n",
       "\n",
       "     A numeric vector (or matrix, when 'beside = TRUE'), say 'mp',\n",
       "     giving the coordinates of _all_ the bar midpoints drawn, useful\n",
       "     for adding to the graph.\n",
       "\n",
       "     If 'beside' is true, use 'colMeans(mp)' for the midpoints of each\n",
       "     _group_ of bars, see example.\n",
       "\n",
       "_\bA_\bu_\bt_\bh_\bo_\br(_\bs):\n",
       "\n",
       "     R Core, with a contribution by Arni Magnusson.\n",
       "\n",
       "_\bR_\be_\bf_\be_\br_\be_\bn_\bc_\be_\bs:\n",
       "\n",
       "     Becker, R. A., Chambers, J. M. and Wilks, A. R. (1988) _The New S\n",
       "     Language_.  Wadsworth & Brooks/Cole.\n",
       "\n",
       "     Murrell, P. (2005) _R Graphics_. Chapman & Hall/CRC Press.\n",
       "\n",
       "_\bS_\be_\be _\bA_\bl_\bs_\bo:\n",
       "\n",
       "     'plot(..., type = \"h\")', 'dotchart'; 'hist' for bars of a\n",
       "     _continuous_ variable.  'mosaicplot()', more sophisticated to\n",
       "     visualize _several_ categorical variables.\n",
       "\n",
       "_\bE_\bx_\ba_\bm_\bp_\bl_\be_\bs:\n",
       "\n",
       "     # Formula method\n",
       "     barplot(GNP ~ Year, data = longley)\n",
       "     barplot(cbind(Employed, Unemployed) ~ Year, data = longley)\n",
       "     \n",
       "     ## 3rd form of formula - 2 categories :\n",
       "     op <- par(mfrow = 2:1, mgp = c(3,1,0)/2, mar = .1+c(3,3:1))\n",
       "     summary(d.Titanic <- as.data.frame(Titanic))\n",
       "     barplot(Freq ~ Class + Survived, data = d.Titanic,\n",
       "             subset = Age == \"Adult\" & Sex == \"Male\",\n",
       "             main = \"barplot(Freq ~ Class + Survived, *)\", ylab = \"# {passengers}\", legend.text = TRUE)\n",
       "     # Corresponding table :\n",
       "     (xt <- xtabs(Freq ~ Survived + Class + Sex, d.Titanic, subset = Age==\"Adult\"))\n",
       "     # Alternatively, a mosaic plot :\n",
       "     mosaicplot(xt[,,\"Male\"], main = \"mosaicplot(Freq ~ Class + Survived, *)\", color=TRUE)\n",
       "     par(op)\n",
       "     \n",
       "     \n",
       "     # Default method\n",
       "     require(grDevices) # for colours\n",
       "     tN <- table(Ni <- stats::rpois(100, lambda = 5))\n",
       "     r <- barplot(tN, col = rainbow(20))\n",
       "     #- type = \"h\" plotting *is* 'bar'plot\n",
       "     lines(r, tN, type = \"h\", col = \"red\", lwd = 2)\n",
       "     \n",
       "     barplot(tN, space = 1.5, axisnames = FALSE,\n",
       "             sub = \"barplot(..., space= 1.5, axisnames = FALSE)\")\n",
       "     \n",
       "     barplot(VADeaths, plot = FALSE)\n",
       "     barplot(VADeaths, plot = FALSE, beside = TRUE)\n",
       "     \n",
       "     mp <- barplot(VADeaths) # default\n",
       "     tot <- colMeans(VADeaths)\n",
       "     text(mp, tot + 3, format(tot), xpd = TRUE, col = \"blue\")\n",
       "     barplot(VADeaths, beside = TRUE,\n",
       "             col = c(\"lightblue\", \"mistyrose\", \"lightcyan\",\n",
       "                     \"lavender\", \"cornsilk\"),\n",
       "             legend.text = rownames(VADeaths), ylim = c(0, 100))\n",
       "     title(main = \"Death Rates in Virginia\", font.main = 4)\n",
       "     \n",
       "     hh <- t(VADeaths)[, 5:1]\n",
       "     mybarcol <- \"gray20\"\n",
       "     mp <- barplot(hh, beside = TRUE,\n",
       "             col = c(\"lightblue\", \"mistyrose\",\n",
       "                     \"lightcyan\", \"lavender\"),\n",
       "             legend.text = colnames(VADeaths), ylim = c(0,100),\n",
       "             main = \"Death Rates in Virginia\", font.main = 4,\n",
       "             sub = \"Faked upper 2*sigma error bars\", col.sub = mybarcol,\n",
       "             cex.names = 1.5)\n",
       "     segments(mp, hh, mp, hh + 2*sqrt(1000*hh/100), col = mybarcol, lwd = 1.5)\n",
       "     stopifnot(dim(mp) == dim(hh))  # corresponding matrices\n",
       "     mtext(side = 1, at = colMeans(mp), line = -2,\n",
       "           text = paste(\"Mean\", formatC(colMeans(hh))), col = \"red\")\n",
       "     \n",
       "     # Bar shading example\n",
       "     barplot(VADeaths, angle = 15+10*1:5, density = 20, col = \"black\",\n",
       "             legend.text = rownames(VADeaths))\n",
       "     title(main = list(\"Death Rates in Virginia\", font = 4))\n",
       "     \n",
       "     # Border color\n",
       "     barplot(VADeaths, border = \"dark blue\") \n",
       "     \n",
       "     \n",
       "     # Log scales (not much sense here)\n",
       "     barplot(tN, col = heat.colors(12), log = \"y\")\n",
       "     barplot(tN, col = gray.colors(20), log = \"xy\")\n",
       "     \n",
       "     # Legend location\n",
       "     barplot(height = cbind(x = c(465, 91) / 465 * 100,\n",
       "                            y = c(840, 200) / 840 * 100,\n",
       "                            z = c(37, 17) / 37 * 100),\n",
       "             beside = FALSE,\n",
       "             width = c(465, 840, 37),\n",
       "             col = c(1, 2),\n",
       "             legend.text = c(\"A\", \"B\"),\n",
       "             args.legend = list(x = \"topleft\"))\n",
       "     "
      ]
     },
     "metadata": {},
     "output_type": "display_data"
    }
   ],
   "source": [
    "?barplot"
   ]
  },
  {
   "cell_type": "code",
   "execution_count": null,
   "id": "1c3087c8-d351-43c3-8217-97c10d1a1af2",
   "metadata": {},
   "outputs": [],
   "source": []
  }
 ],
 "metadata": {
  "kernelspec": {
   "display_name": "R",
   "language": "R",
   "name": "ir"
  },
  "language_info": {
   "codemirror_mode": "r",
   "file_extension": ".r",
   "mimetype": "text/x-r-source",
   "name": "R",
   "pygments_lexer": "r",
   "version": "4.1.2"
  }
 },
 "nbformat": 4,
 "nbformat_minor": 5
}
